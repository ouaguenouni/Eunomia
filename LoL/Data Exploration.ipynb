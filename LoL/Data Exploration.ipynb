{
 "cells": [
  {
   "cell_type": "code",
   "execution_count": 10,
   "id": "4a823878-db45-4539-9c0a-97a201afa00c",
   "metadata": {},
   "outputs": [
    {
     "name": "stdout",
     "output_type": "stream",
     "text": [
      "Requirement already satisfied: openpyxl in /home/mohamed/miniconda3/lib/python3.9/site-packages (3.1.1)\n",
      "Requirement already satisfied: et-xmlfile in /home/mohamed/miniconda3/lib/python3.9/site-packages (from openpyxl) (1.1.0)\n"
     ]
    }
   ],
   "source": [
    "import pandas as pd\n",
    "import numpy as np\n",
    "!pip install openpyxl"
   ]
  },
  {
   "cell_type": "code",
   "execution_count": 13,
   "id": "d9aeee03-2829-4fe6-aaeb-ae3e3fa18bff",
   "metadata": {},
   "outputs": [
    {
     "data": {
      "text/plain": [
       "Index(['gameid', 'url', 'league', 'split', 'date', 'week', 'game', 'patchno',\n",
       "       'playerid', 'side', 'position', 'player', 'team', 'champion', 'ban1',\n",
       "       'ban2', 'ban3', 'gamelength', 'result', 'k', 'd', 'a', 'teamkills',\n",
       "       'teamdeaths', 'doubles', 'triples', 'quadras', 'pentas', 'fb',\n",
       "       'fbvictim', 'fbtime', 'kpm', 'okpm', 'ckpm', 'fd', 'fdtime',\n",
       "       'teamdragkills', 'oppdragkills', 'herald', 'heraldtime', 'ft', 'fttime',\n",
       "       'firsttothreetowers', 'teamtowerkills', 'opptowerkills', 'fbaron',\n",
       "       'fbarontime', 'teambaronkills', 'oppbaronkills', 'dmgtochamps',\n",
       "       'dmgtochampsperminute', 'dmgshare', 'earnedgoldshare', 'wards', 'wpm',\n",
       "       'wardshare', 'wardkills', 'wcpm', 'visionwards', 'visionwardbuys',\n",
       "       'visiblewardclearrate', 'invisiblewardclearrate', 'totalgold',\n",
       "       'earnedgpm', 'goldspent', 'gspd', 'minionkills', 'monsterkills',\n",
       "       'monsterkillsownjungle', 'monsterkillsenemyjungle', 'cspm',\n",
       "       'cssharepost15', 'csat10', 'oppcsat10', 'csdat10', 'goldat10',\n",
       "       'oppgoldat10', 'gdat10', 'goldat15', 'oppgoldat15', 'gdat15', 'xpat10',\n",
       "       'oppxpat10', 'xpdat10'],\n",
       "      dtype='object')"
      ]
     },
     "execution_count": 13,
     "metadata": {},
     "output_type": "execute_result"
    }
   ],
   "source": [
    "df = pd.read_excel(\"games/2016 complete match data OraclesElixir 2018-12-18.xlsx\", engine='openpyxl')\n",
    "df.columns"
   ]
  },
  {
   "cell_type": "code",
   "execution_count": 15,
   "id": "e80ffcc2-c447-4f9d-82a1-8534e74571fc",
   "metadata": {},
   "outputs": [],
   "source": [
    "np.unique(df.league.values)\n",
    "df = df[df.league.isin(['EULCS', 'LCK', 'NALCS', 'WC'])]\n",
    "#To remove : CBLol, EUCS, LMS, NACS"
   ]
  },
  {
   "cell_type": "code",
   "execution_count": 16,
   "id": "4f759f4a-1a60-4913-a4ff-8f93ad8539f5",
   "metadata": {},
   "outputs": [],
   "source": [
    "df =df[[\"gameid\", \"champion\", \"side\", \"position\", \"result\"]]\n",
    "df = df.dropna()\n",
    "positions = list(np.unique(df.position))\n",
    "games = list(np.unique(df.gameid))\n",
    "sides = list(np.unique(df.side))\n",
    "champions = sorted(list(np.unique(df.champion)))"
   ]
  },
  {
   "cell_type": "code",
   "execution_count": 17,
   "id": "e089d0c1-38b1-415c-bcba-3a617d153b08",
   "metadata": {},
   "outputs": [
    {
     "data": {
      "text/html": [
       "<div>\n",
       "<style scoped>\n",
       "    .dataframe tbody tr th:only-of-type {\n",
       "        vertical-align: middle;\n",
       "    }\n",
       "\n",
       "    .dataframe tbody tr th {\n",
       "        vertical-align: top;\n",
       "    }\n",
       "\n",
       "    .dataframe thead th {\n",
       "        text-align: right;\n",
       "    }\n",
       "</style>\n",
       "<table border=\"1\" class=\"dataframe\">\n",
       "  <thead>\n",
       "    <tr style=\"text-align: right;\">\n",
       "      <th></th>\n",
       "      <th>gameid</th>\n",
       "      <th>champion</th>\n",
       "      <th>side</th>\n",
       "      <th>position</th>\n",
       "      <th>result</th>\n",
       "    </tr>\n",
       "  </thead>\n",
       "  <tbody>\n",
       "    <tr>\n",
       "      <th>0</th>\n",
       "      <td>1001470051</td>\n",
       "      <td>Olaf</td>\n",
       "      <td>Blue</td>\n",
       "      <td>Top</td>\n",
       "      <td>1</td>\n",
       "    </tr>\n",
       "    <tr>\n",
       "      <th>1</th>\n",
       "      <td>1001470051</td>\n",
       "      <td>Zac</td>\n",
       "      <td>Blue</td>\n",
       "      <td>Jungle</td>\n",
       "      <td>1</td>\n",
       "    </tr>\n",
       "    <tr>\n",
       "      <th>2</th>\n",
       "      <td>1001470051</td>\n",
       "      <td>LeBlanc</td>\n",
       "      <td>Blue</td>\n",
       "      <td>Middle</td>\n",
       "      <td>1</td>\n",
       "    </tr>\n",
       "    <tr>\n",
       "      <th>3</th>\n",
       "      <td>1001470051</td>\n",
       "      <td>Lucian</td>\n",
       "      <td>Blue</td>\n",
       "      <td>ADC</td>\n",
       "      <td>1</td>\n",
       "    </tr>\n",
       "    <tr>\n",
       "      <th>4</th>\n",
       "      <td>1001470051</td>\n",
       "      <td>Poppy</td>\n",
       "      <td>Blue</td>\n",
       "      <td>Support</td>\n",
       "      <td>1</td>\n",
       "    </tr>\n",
       "    <tr>\n",
       "      <th>...</th>\n",
       "      <td>...</td>\n",
       "      <td>...</td>\n",
       "      <td>...</td>\n",
       "      <td>...</td>\n",
       "      <td>...</td>\n",
       "    </tr>\n",
       "    <tr>\n",
       "      <th>19817</th>\n",
       "      <td>1001960067</td>\n",
       "      <td>Trundle</td>\n",
       "      <td>Red</td>\n",
       "      <td>Top</td>\n",
       "      <td>1</td>\n",
       "    </tr>\n",
       "    <tr>\n",
       "      <th>19818</th>\n",
       "      <td>1001960067</td>\n",
       "      <td>Lee Sin</td>\n",
       "      <td>Red</td>\n",
       "      <td>Jungle</td>\n",
       "      <td>1</td>\n",
       "    </tr>\n",
       "    <tr>\n",
       "      <th>19819</th>\n",
       "      <td>1001960067</td>\n",
       "      <td>Viktor</td>\n",
       "      <td>Red</td>\n",
       "      <td>Middle</td>\n",
       "      <td>1</td>\n",
       "    </tr>\n",
       "    <tr>\n",
       "      <th>19820</th>\n",
       "      <td>1001960067</td>\n",
       "      <td>Ashe</td>\n",
       "      <td>Red</td>\n",
       "      <td>ADC</td>\n",
       "      <td>1</td>\n",
       "    </tr>\n",
       "    <tr>\n",
       "      <th>19821</th>\n",
       "      <td>1001960067</td>\n",
       "      <td>Braum</td>\n",
       "      <td>Red</td>\n",
       "      <td>Support</td>\n",
       "      <td>1</td>\n",
       "    </tr>\n",
       "  </tbody>\n",
       "</table>\n",
       "<p>12440 rows × 5 columns</p>\n",
       "</div>"
      ],
      "text/plain": [
       "           gameid champion  side position  result\n",
       "0      1001470051     Olaf  Blue      Top       1\n",
       "1      1001470051      Zac  Blue   Jungle       1\n",
       "2      1001470051  LeBlanc  Blue   Middle       1\n",
       "3      1001470051   Lucian  Blue      ADC       1\n",
       "4      1001470051    Poppy  Blue  Support       1\n",
       "...           ...      ...   ...      ...     ...\n",
       "19817  1001960067  Trundle   Red      Top       1\n",
       "19818  1001960067  Lee Sin   Red   Jungle       1\n",
       "19819  1001960067   Viktor   Red   Middle       1\n",
       "19820  1001960067     Ashe   Red      ADC       1\n",
       "19821  1001960067    Braum   Red  Support       1\n",
       "\n",
       "[12440 rows x 5 columns]"
      ]
     },
     "execution_count": 17,
     "metadata": {},
     "output_type": "execute_result"
    }
   ],
   "source": [
    "df"
   ]
  },
  {
   "cell_type": "code",
   "execution_count": 19,
   "id": "dac8bb43-0d61-475f-b5ad-ba0c09837f23",
   "metadata": {},
   "outputs": [],
   "source": [
    "counts = {}\n",
    "for c in champions:\n",
    "    counts[c] = df[df.champion == c].shape[0]"
   ]
  },
  {
   "cell_type": "code",
   "execution_count": 20,
   "id": "09a9fa34-fdc9-4a06-a98d-ff109f49e99b",
   "metadata": {},
   "outputs": [],
   "source": [
    "occ_sorted = sorted(counts.items(), key = lambda x:x[1])[::-1]"
   ]
  },
  {
   "cell_type": "code",
   "execution_count": 8,
   "id": "7a122a09-2d54-49fb-a70c-ef241f10413e",
   "metadata": {},
   "outputs": [],
   "source": [
    "match_datas = []\n",
    "\n",
    "for g in games:\n",
    "    d = {}\n",
    "    df_g = df[df.gameid == g]\n",
    "    blue_team = list(df_g[df_g.side == \"Blue\"].champion.values)\n",
    "    red_team = list(df_g[df_g.side == \"Red\"].champion.values)\n",
    "    b_win = df_g[df_g.side == \"Blue\"].result.values[0]\n",
    "    r_win = df_g[df_g.side == \"Red\"].result.values[1]\n",
    "    if b_win:\n",
    "        d[\"winner\"] = sorted(red_team)\n",
    "        d[\"loser\"] = sorted(blue_team)\n",
    "    else:\n",
    "        d[\"winner\"] = sorted(blue_team)\n",
    "        d[\"loser\"] = sorted(red_team)\n",
    "    match_datas.append(d)"
   ]
  },
  {
   "cell_type": "code",
   "execution_count": 22,
   "id": "13262ae0-9ba5-4f83-bc72-38a4b840e846",
   "metadata": {
    "scrolled": true,
    "tags": []
   },
   "outputs": [],
   "source": [
    "def count_occurrences(datas, filter_):\n",
    "    c = 0\n",
    "    for k in datas:\n",
    "        if filter_(k) == 1:\n",
    "            c += 1\n",
    "    return c"
   ]
  },
  {
   "cell_type": "code",
   "execution_count": 23,
   "id": "836826cb-ced4-440c-9db5-82d2ba07dfd1",
   "metadata": {},
   "outputs": [],
   "source": [
    "count_wins = lambda c:count_occurrences(match_datas, lambda x:1 if c in x[\"winner\"] else 0)\n",
    "count_apparitions = lambda c:count_occurrences(match_datas, lambda x:1 if c in x[\"winner\"] or c in x[\"loser\"] else 0)\n",
    "get_winrate = lambda c:count_wins(c)/count_apparitions(c)"
   ]
  },
  {
   "cell_type": "code",
   "execution_count": 25,
   "id": "13a08f22-8cdf-461b-86bc-398a53866b14",
   "metadata": {},
   "outputs": [
    {
     "data": {
      "text/plain": [
       "111"
      ]
     },
     "execution_count": 25,
     "metadata": {},
     "output_type": "execute_result"
    }
   ],
   "source": [
    "len(champions)"
   ]
  },
  {
   "cell_type": "code",
   "execution_count": 26,
   "id": "9dd52b83-cbce-4201-9d0e-e8b81abadbc5",
   "metadata": {},
   "outputs": [
    {
     "data": {
      "text/plain": [
       "0.5"
      ]
     },
     "execution_count": 26,
     "metadata": {},
     "output_type": "execute_result"
    }
   ],
   "source": [
    "get_winrate(\"Amumu\")"
   ]
  },
  {
   "cell_type": "code",
   "execution_count": 27,
   "id": "48cfdb6b-d348-4f72-a847-1a98c3d23dc1",
   "metadata": {},
   "outputs": [
    {
     "data": {
      "text/plain": [
       "1"
      ]
     },
     "execution_count": 27,
     "metadata": {},
     "output_type": "execute_result"
    }
   ],
   "source": [
    "count_wins(\"Amumu\")"
   ]
  },
  {
   "cell_type": "code",
   "execution_count": 28,
   "id": "21b12d0f-71b4-4809-bf74-63aec0f85391",
   "metadata": {},
   "outputs": [
    {
     "data": {
      "text/plain": [
       "2"
      ]
     },
     "execution_count": 28,
     "metadata": {},
     "output_type": "execute_result"
    }
   ],
   "source": [
    "count_apparitions(\"Amumu\")"
   ]
  },
  {
   "cell_type": "code",
   "execution_count": null,
   "id": "8384050a-ef1a-4002-9a3b-6e1da547e44d",
   "metadata": {},
   "outputs": [],
   "source": []
  }
 ],
 "metadata": {
  "kernelspec": {
   "display_name": "Python 3 (ipykernel)",
   "language": "python",
   "name": "python3"
  },
  "language_info": {
   "codemirror_mode": {
    "name": "ipython",
    "version": 3
   },
   "file_extension": ".py",
   "mimetype": "text/x-python",
   "name": "python",
   "nbconvert_exporter": "python",
   "pygments_lexer": "ipython3",
   "version": "3.9.10"
  }
 },
 "nbformat": 4,
 "nbformat_minor": 5
}
