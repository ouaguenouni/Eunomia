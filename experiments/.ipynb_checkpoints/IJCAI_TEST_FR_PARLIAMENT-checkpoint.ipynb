{
 "cells": [
  {
   "cell_type": "code",
   "execution_count": 1,
   "id": "bf609d15-3374-4a11-b70d-ec4022f5174e",
   "metadata": {},
   "outputs": [
    {
     "name": "stdout",
     "output_type": "stream",
     "text": [
      "Cloning into 'Eunomia'...\n",
      "remote: Enumerating objects: 532, done.\u001b[K\n",
      "remote: Counting objects: 100% (532/532), done.\u001b[K\n",
      "remote: Compressing objects: 100% (204/204), done.\u001b[K\n",
      "remote: Total 532 (delta 396), reused 458 (delta 322), pack-reused 0\u001b[K\n",
      "Receiving objects: 100% (532/532), 3.49 MiB | 2.27 MiB/s, done.\n",
      "Resolving deltas: 100% (396/396), done.\n",
      "Requirement already satisfied: torch in /home/mohamed/miniconda3/lib/python3.9/site-packages (from -r Eunomia/requirements.txt (line 1)) (1.11.0)\n",
      "Requirement already satisfied: pyro-ppl in /home/mohamed/miniconda3/lib/python3.9/site-packages (from -r Eunomia/requirements.txt (line 2)) (1.8.6)\n",
      "Requirement already satisfied: cvxpy in /home/mohamed/miniconda3/lib/python3.9/site-packages (from -r Eunomia/requirements.txt (line 3)) (1.1.18)\n",
      "Requirement already satisfied: typing_extensions in /home/mohamed/miniconda3/lib/python3.9/site-packages (from torch->-r Eunomia/requirements.txt (line 1)) (4.8.0)\n",
      "Requirement already satisfied: pyro-api>=0.1.1 in /home/mohamed/miniconda3/lib/python3.9/site-packages (from pyro-ppl->-r Eunomia/requirements.txt (line 2)) (0.1.2)\n",
      "Requirement already satisfied: tqdm>=4.36 in /home/mohamed/miniconda3/lib/python3.9/site-packages (from pyro-ppl->-r Eunomia/requirements.txt (line 2)) (4.62.3)\n",
      "Requirement already satisfied: numpy>=1.7 in /home/mohamed/miniconda3/lib/python3.9/site-packages (from pyro-ppl->-r Eunomia/requirements.txt (line 2)) (1.26.2)\n",
      "Requirement already satisfied: opt-einsum>=2.3.2 in /home/mohamed/miniconda3/lib/python3.9/site-packages (from pyro-ppl->-r Eunomia/requirements.txt (line 2)) (3.3.0)\n",
      "Requirement already satisfied: scipy>=1.1.0 in /home/mohamed/miniconda3/lib/python3.9/site-packages (from cvxpy->-r Eunomia/requirements.txt (line 3)) (1.11.3)\n",
      "Requirement already satisfied: osqp>=0.4.1 in /home/mohamed/miniconda3/lib/python3.9/site-packages (from cvxpy->-r Eunomia/requirements.txt (line 3)) (0.6.2.post4)\n",
      "Requirement already satisfied: scs>=1.1.6 in /home/mohamed/miniconda3/lib/python3.9/site-packages (from cvxpy->-r Eunomia/requirements.txt (line 3)) (3.1.0)\n",
      "Requirement already satisfied: ecos>=2 in /home/mohamed/miniconda3/lib/python3.9/site-packages (from cvxpy->-r Eunomia/requirements.txt (line 3)) (2.0.10)\n",
      "Requirement already satisfied: qdldl in /home/mohamed/miniconda3/lib/python3.9/site-packages (from osqp>=0.4.1->cvxpy->-r Eunomia/requirements.txt (line 3)) (0.1.5.post0)\n"
     ]
    }
   ],
   "source": [
    "!rm -rf Eunomia\n",
    "!git clone https://github.com/ouaguenouni/Eunomia\n",
    "!pip install -r Eunomia/requirements.txt"
   ]
  },
  {
   "cell_type": "code",
   "execution_count": 4,
   "id": "3abe93fb-ed5a-4118-9efd-7297135edd50",
   "metadata": {},
   "outputs": [],
   "source": [
    "import matplotlib.pyplot as plt\n",
    "import numpy as np\n",
    "import pandas as pd\n",
    "import seaborn as sns\n",
    "from Eunomia.preferences import *\n",
    "from Eunomia.additive_functions import *\n",
    "from Eunomia.alternatives import *\n",
    "from Eunomia.sampling import *\n",
    "from Eunomia.mcmc import *\n",
    "from Eunomia.degree import *\n",
    "from Eunomia.experiments import *\n",
    "import networkx as nx\n",
    "import numpy as np\n",
    "\n",
    "pyro.set_rng_seed(1)"
   ]
  },
  {
   "cell_type": "code",
   "execution_count": 5,
   "id": "f047e255-1b7c-478d-96cf-b4f87f1cdc6c",
   "metadata": {},
   "outputs": [],
   "source": [
    "\n",
    "\n",
    "def evaluate_coalition(coalition, effectifs):\n",
    "    return np.where(effectifs[:, coalition].sum(axis = 1) > 0.5)[0].shape[0]\n",
    "\n",
    "def compute_data(n_partis, evaluation_function, effectifs):\n",
    "    alternatives = [sparse_to_alt(tuple(i), n_partis) for i in generate_additive_theta(n_partis,n_partis - 1)]\n",
    "    theta = [tuple(i) for i in generate_additive_theta(n_partis,n_partis-1)]\n",
    "    ranks = []\n",
    "    for a in alternatives:\n",
    "        ranks.append(evaluation_function(alt_to_sparse(a), effectifs))\n",
    "    alternatives = np.array(alternatives)\n",
    "    ranks = np.array(ranks)\n",
    "    preferences = PreferenceModel(alternatives, ranks)\n",
    "    data = preferences.generate_preference_matrix(theta)\n",
    "    data = torch.tensor(data).float()\n",
    "    return data ,theta\n",
    "\n",
    "def plot_gaussians(means, stds, labels = None):\n",
    "    if not labels:\n",
    "        labels = [str(i) for i in range(means.shape[0])]\n",
    "    # Create a range of x values\n",
    "    x = np.linspace(min(means) - 3*max(stds), max(means) + 3*max(stds), 1000)\n",
    "\n",
    "    # Plot each Gaussian\n",
    "    for mean, std, label in zip(means, stds, labels):\n",
    "        y = norm.pdf(x, mean, std)\n",
    "        plt.plot(x, y, label=label)\n",
    "\n",
    "    plt.xlabel('Value')\n",
    "    plt.ylabel('Probability Density')\n",
    "    plt.legend()\n",
    "    plt.show()\n",
    "    \n",
    "\n",
    "\n",
    "def linear_scaling(x):\n",
    "    return x / x.sum()\n",
    "\n",
    "def pol_scaling(x , degree = 3):\n",
    "    y = np.power(x, degree)\n",
    "    return y / y.sum()\n",
    "\n",
    "\n",
    "def scale(suffrages, scaling_functions):\n",
    "    nsf = []\n",
    "    for i in range(suffrages.shape[0]):\n",
    "        nsf.append(scaling_functions[i](suffrages[i, :]))\n",
    "    return np.array(nsf)\n"
   ]
  },
  {
   "cell_type": "code",
   "execution_count": 44,
   "id": "96e83ae8-91c1-4721-b8be-bf3789a45c57",
   "metadata": {},
   "outputs": [],
   "source": [
    "\n",
    "\n",
    "def coalition_effectifs(coalition, effectifs, affinities):\n",
    "    edges, weights = maximum_spanning_tree_subset(affinities, coalition)\n",
    "    p = np.prod(weights)\n",
    "    L = []\n",
    "    for chamber_id in range(effectifs.shape[0]):\n",
    "        L.append(effectifs[chamber_id, coalition].sum()*p)\n",
    "    return np.array(L)\n",
    "\n",
    "\n",
    "def coalition_evaluation(c, effectifs, sim_matrix, n = 100):\n",
    "    communication_graphs = sample_binary_matrices(sim_matrix, n)\n",
    "    vals = []\n",
    "    totals = effectifs[:, c].sum(axis = 1)\n",
    "    sgn = (sim_matrix > 0).astype(int)\n",
    "    for i in range(effectifs.shape[0]):\n",
    "        for j in c:\n",
    "            sgn[i,j] = 0\n",
    "            sgn[j,i] = 0\n",
    "    cnns = find_connected_components(sgn)\n",
    "    max_adv = max([effectifs[:, k].sum(axis = 1)[0] for k in cnns])\n",
    "    c_effectifs = effectifs[:, c].sum(axis = 1)\n",
    "    for L in communication_graphs:\n",
    "        i = []\n",
    "        if not are_vertices_connected(L, c):\n",
    "            vals.append(0)\n",
    "            continue\n",
    "        i.append(c_effectifs[0] / totals[0])\n",
    "        if c_effectifs[1] > 0.5*totals[1]:\n",
    "            i.append(1)\n",
    "        elif c_effectifs[0] > max_adv:\n",
    "            i.append(2)\n",
    "        elif c_effectifs[0] > 0.5*totals[0]:\n",
    "            i.append(4)\n",
    "        elif c_effectifs[1] > 0.5*totals[1] and c_effectifs[0] > 0.5*totals[0]:\n",
    "            i.append(8)\n",
    "        elif c_effectifs[1] > 0.5*totals[1] and c_effectifs[0] > 0.5*totals[1] and c_effectifs[0] + c_effectifs[1] > (3.0/5.0)*totals.sum():\n",
    "            i.append(16)\n",
    "        vals.append(max(i))\n",
    "    return 0\n",
    "\n",
    "\n",
    "def maximum_spanning_tree_subset(adj_matrix, vertices):\n",
    "    # Number of vertices\n",
    "    n = len(adj_matrix)\n",
    "\n",
    "    # Create an empty graph\n",
    "    G = nx.Graph()\n",
    "\n",
    "    # Add nodes and edges to the graph\n",
    "    for i in range(n):\n",
    "        for j in range(i+1, n):\n",
    "            G.add_edge(i, j, weight=-adj_matrix[i][j])  # Negate weight for maximum spanning tree\n",
    "\n",
    "    # Create a subgraph with only the specified vertices\n",
    "    subgraph = G.subgraph(vertices)\n",
    "\n",
    "    # Compute the maximum spanning tree (inverted minimum spanning tree)\n",
    "    mst = nx.minimum_spanning_tree(subgraph, algorithm='kruskal')\n",
    "\n",
    "    # Negate the weights back and collect edges and weights\n",
    "    edges = []\n",
    "    weights = []\n",
    "    for (u, v, wt) in mst.edges.data('weight'):\n",
    "        edges.append((u, v))\n",
    "        weights.append(-wt)\n",
    "\n",
    "    return edges, weights"
   ]
  },
  {
   "cell_type": "code",
   "execution_count": 7,
   "id": "1d3b17eb-b5b1-457b-860b-bf3bd0cffd37",
   "metadata": {},
   "outputs": [],
   "source": [
    "with open(\"Eunomia/data/parliament_analysis.json\", 'r') as json_file:\n",
    "    votes = json.load(json_file)"
   ]
  },
  {
   "cell_type": "code",
   "execution_count": 12,
   "id": "2cef6396-c194-4840-a2a9-3ba9001ec920",
   "metadata": {},
   "outputs": [
    {
     "name": "stdout",
     "output_type": "stream",
     "text": [
      "Renaissance\n",
      "Rassemblement National\n",
      "La France insoumise - Nouvelle Union Populaire écologique et sociale\n",
      "Les Républicains\n",
      "Démocrate (MoDem et Indépendants)\n",
      "Socialistes et apparentés\n",
      "Horizons et apparentés\n",
      "Écologiste - NUPES\n",
      "Gauche démocrate et républicaine - NUPES\n",
      "Libertés, Indépendants, Outre-mer et Territoires\n",
      "Non inscrits\n"
     ]
    },
    {
     "data": {
      "text/plain": [
       "11"
      ]
     },
     "execution_count": 12,
     "metadata": {},
     "output_type": "execute_result"
    }
   ],
   "source": [
    "for g in groups:\n",
    "    print(g)\n",
    "len(groups)"
   ]
  },
  {
   "cell_type": "code",
   "execution_count": null,
   "id": "e724e7c5-5db6-4960-9f25-f8c661d74ee3",
   "metadata": {},
   "outputs": [],
   "source": []
  },
  {
   "cell_type": "code",
   "execution_count": 143,
   "id": "bd9ed1da-8560-4288-a598-ee0096305fde",
   "metadata": {},
   "outputs": [
    {
     "data": {
      "text/plain": [
       "array([[1.        , 0.        , 0.31343872, 0.64566598, 1.        ,\n",
       "        0.40065531, 1.        , 0.35796476, 0.22935547, 0.35745974,\n",
       "        0.23606057],\n",
       "       [0.        , 0.87939618, 0.        , 0.50764782, 0.        ,\n",
       "        0.        , 0.        , 0.        , 0.        , 0.        ,\n",
       "        0.        ],\n",
       "       [0.31343872, 0.        , 0.84824058, 0.27581104, 0.30921297,\n",
       "        0.64931047, 0.29730071, 0.70697475, 0.53253741, 0.33241923,\n",
       "        0.14508236],\n",
       "       [0.64566598, 0.50764782, 0.27581104, 0.80226663, 0.6389739 ,\n",
       "        0.341896  , 0.63867136, 0.29538346, 0.22253319, 0.33679646,\n",
       "        0.30004657],\n",
       "       [1.        , 0.        , 0.30921297, 0.6389739 , 1.        ,\n",
       "        0.39951682, 1.        , 0.35485114, 0.22854524, 0.3507837 ,\n",
       "        0.24040904],\n",
       "       [0.40065531, 0.        , 0.64931047, 0.341896  , 0.39951682,\n",
       "        0.80599591, 0.38656823, 0.66527642, 0.49380022, 0.36668129,\n",
       "        0.1787831 ],\n",
       "       [1.        , 0.        , 0.29730071, 0.63867136, 1.        ,\n",
       "        0.38656823, 1.        , 0.34464761, 0.22308053, 0.3543564 ,\n",
       "        0.23811975],\n",
       "       [0.35796476, 0.        , 0.70697475, 0.29538346, 0.35485114,\n",
       "        0.66527642, 0.34464761, 0.81761013, 0.52856432, 0.35247696,\n",
       "        0.14778722],\n",
       "       [0.22935547, 0.        , 0.53253741, 0.22253319, 0.22854524,\n",
       "        0.49380022, 0.22308053, 0.52856432, 0.61757832, 0.28554731,\n",
       "        0.1194105 ],\n",
       "       [0.35745974, 0.        , 0.33241923, 0.33679646, 0.3507837 ,\n",
       "        0.36668129, 0.3543564 , 0.35247696, 0.28554731, 0.5381997 ,\n",
       "        0.17327019],\n",
       "       [0.23606057, 0.        , 0.14508236, 0.30004657, 0.24040904,\n",
       "        0.1787831 , 0.23811975, 0.14778722, 0.1194105 , 0.17327019,\n",
       "        0.40069481]])"
      ]
     },
     "execution_count": 143,
     "metadata": {},
     "output_type": "execute_result"
    }
   ],
   "source": [
    "groups = votes[\"groups\"]\n",
    "ea = np.array(votes[\"effectifs_assemblee\"])\n",
    "es = np.array(votes[\"effectifs_senat\"])\n",
    "effectifs = np.array([\n",
    "    ea,\n",
    "    es,\n",
    "])\n",
    "NUPES = [2,5,7,8]\n",
    "ENSEMBLE = [0,4,6]\n",
    "\n",
    "\n",
    "sim_mat = np.array(votes[\"similarity_matrix\"]).mean(axis = 0)\n",
    "\n",
    "for x in ENSEMBLE:\n",
    "    for y in ENSEMBLE:\n",
    "        sim_mat[x,y] = 1\n",
    "        sim_mat[y,x] = 1\n",
    "\n",
    "for x in [i for i in range(11) if i not in [1,3]]:\n",
    "    sim_mat[x,1] = 0\n",
    "    sim_mat[1,x] = 0\n",
    "    \n",
    "sim_mat"
   ]
  },
  {
   "cell_type": "code",
   "execution_count": 14,
   "id": "a9d7126b-433b-4caf-9c50-3b7461dd3c28",
   "metadata": {},
   "outputs": [
    {
     "data": {
      "text/plain": [
       "torch.Size([2045, 11])"
      ]
     },
     "execution_count": 14,
     "metadata": {},
     "output_type": "execute_result"
    }
   ],
   "source": [
    "data, theta = create_data(effectifs.shape[1],\n",
    "                          lambda c:coalition_evaluation(c, effectifs, sim_mat),\n",
    "                          k = 1\n",
    "                          )\n",
    "data.shape"
   ]
  },
  {
   "cell_type": "code",
   "execution_count": 15,
   "id": "fa81d33e-ed66-45ec-b3b1-c340278c3f6f",
   "metadata": {},
   "outputs": [
    {
     "name": "stderr",
     "output_type": "stream",
     "text": [
      "Sample: 100%|████████████████████████████| 2500/2500 [01:30, 27.53it/s, step size=1.39e-01, acc. prob=0.828]\n"
     ]
    }
   ],
   "source": [
    "sigma_w = 1e-1\n",
    "sigma_p = 1\n",
    "n_samples = 1500\n",
    "\n",
    "model = posterior_sampling_model(data, sigma_w=sigma_w, sigma_p=sigma_p)\n",
    "diag, sampled_weights, sigmas = sample_model(model, data, \"w\", \"sigma\", warmup_steps=1000, num_samples=n_samples, return_diag=True)"
   ]
  },
  {
   "cell_type": "code",
   "execution_count": 16,
   "id": "37cd7442-2d0f-4f4e-9241-a3530e8edff7",
   "metadata": {},
   "outputs": [
    {
     "data": {
      "image/png": "[encoded data removed]",
      "text/plain": [
       "<Figure size 432x288 with 1 Axes>"
      ]
     },
     "metadata": {
      "needs_background": "light"
     },
     "output_type": "display_data"
    }
   ],
   "source": [
    "svs = np.array([compute_semivalues(sim_mat.shape[0], theta, weights, lambda x:1)for weights in sampled_weights])\n",
    "means, stds = svs.mean(axis = 0), svs.std(axis = 0)\n",
    "groups = [\"RE\", \"RN\", \"LFI\", \"LR\", \"MODEM\", \"SOC\", \"HOR\", \"ECO\", \"GDR\", \"LIOT\"]\n",
    "plot_gaussians(means, stds, labels = groups)"
   ]
  },
  {
   "cell_type": "code",
   "execution_count": null,
   "id": "5691fe56-c85a-4a30-9f1a-8d5bf557342b",
   "metadata": {},
   "outputs": [],
   "source": [
    "for g,m, std in zip(groups, means, stds):\n",
    "    print(g, m, std)"
   ]
  },
  {
   "cell_type": "code",
   "execution_count": 115,
   "id": "d1784880-690f-4760-999f-d3cb47f037cb",
   "metadata": {},
   "outputs": [],
   "source": [
    "def are_vertices_connected(adj_matrix, vertices):\n",
    "    \"\"\"\n",
    "    Checks if all vertices in the list are connected in the graph.\n",
    "\n",
    "    Parameters:\n",
    "    adj_matrix (np.array): A binary adjacency matrix representing the graph.\n",
    "    vertices (list): A list of vertices to check for connectivity.\n",
    "\n",
    "    Returns:\n",
    "    bool: True if all vertices are connected, False otherwise.\n",
    "    \"\"\"\n",
    "    num_vertices = len(vertices)\n",
    "\n",
    "    # Check for direct or indirect connection between each pair of vertices\n",
    "    for i in range(num_vertices):\n",
    "        for j in range(i + 1, num_vertices):\n",
    "            if not has_path(adj_matrix, vertices[i], vertices[j]):\n",
    "                return False\n",
    "    return True\n",
    "\n",
    "def has_path(adj_matrix, start, end, visited=None):\n",
    "    \"\"\"\n",
    "    Helper function to check if there is a path between two vertices.\n",
    "    \"\"\"\n",
    "    if visited is None:\n",
    "        visited = set()\n",
    "    \n",
    "    if start == end:\n",
    "        return True\n",
    "    \n",
    "    visited.add(start)\n",
    "    \n",
    "    for neighbor in range(len(adj_matrix)):\n",
    "        if adj_matrix[start][neighbor] and neighbor not in visited:\n",
    "            if has_path(adj_matrix, neighbor, end, visited):\n",
    "                return True\n",
    "    return False\n",
    "\n",
    "\n",
    "def find_connected_components(adj_matrix):\n",
    "    \"\"\"\n",
    "    Finds all connected components in the graph.\n",
    "\n",
    "    Parameters:\n",
    "    adj_matrix (np.array): A binary adjacency matrix representing the graph.\n",
    "\n",
    "    Returns:\n",
    "    list: A list of sets, each set represents a connected component.\n",
    "    \"\"\"\n",
    "    visited = set()\n",
    "    components = []\n",
    "\n",
    "    def dfs(vertex, component):\n",
    "        \"\"\"\n",
    "        Depth-first search to explore connected vertices.\n",
    "        \"\"\"\n",
    "        visited.add(vertex)\n",
    "        component.add(vertex)\n",
    "        for neighbor, isConnected in enumerate(adj_matrix[vertex]):\n",
    "            if isConnected and neighbor not in visited:\n",
    "                dfs(neighbor, component)\n",
    "\n",
    "    for vertex in range(len(adj_matrix)):\n",
    "        if vertex not in visited:\n",
    "            component = set()\n",
    "            dfs(vertex, component)\n",
    "            components.append(component)\n",
    "\n",
    "    return components\n",
    "\n",
    "\n",
    "def sample_symmetric_binary_matrix(prob_matrix, n):\n",
    "    \"\"\"\n",
    "    Generates n symmetric binary matrices based on a given upper triangular matrix of probabilities.\n",
    "    The diagonal elements are set to 1.\n",
    "\n",
    "    Parameters:\n",
    "    prob_matrix (np.array): An upper triangular matrix of probabilities.\n",
    "    n (int): The number of binary matrices to generate.\n",
    "\n",
    "    Returns:\n",
    "    list: A list of n symmetric binary matrices.\n",
    "    \"\"\"\n",
    "    rows, cols = prob_matrix.shape\n",
    "    assert rows == cols, \"Probability matrix must be square\"\n",
    "\n",
    "    binary_matrices = []\n",
    "\n",
    "    for _ in range(n):\n",
    "        # Sample the upper triangular part excluding the diagonal\n",
    "        upper_tri = np.triu(np.random.binomial(1, prob_matrix), 1)\n",
    "        \n",
    "        # Set the diagonal to 1\n",
    "        np.fill_diagonal(upper_tri, 1)\n",
    "        \n",
    "        # Mirror the upper triangular part to the lower triangular part\n",
    "        binary_matrix = upper_tri + np.tril(upper_tri.T, -1)\n",
    "        \n",
    "        binary_matrices.append(binary_matrix)\n",
    "\n",
    "    return binary_matrices\n"
   ]
  },
  {
   "cell_type": "code",
   "execution_count": 38,
   "id": "f0f41b57-c430-4816-848a-6f0c646c5832",
   "metadata": {},
   "outputs": [],
   "source": [
    "import numpy as np\n",
    "\n",
    "def are_vertices_connected(adj_matrix, vertices):\n",
    "    \"\"\"\n",
    "    Checks if all vertices in the list are connected in the graph.\n",
    "\n",
    "    Parameters:\n",
    "    adj_matrix (np.array): A binary adjacency matrix representing the graph.\n",
    "    vertices (list): A list of vertices to check for connectivity.\n",
    "\n",
    "    Returns:\n",
    "    bool: True if all vertices are connected, False otherwise.\n",
    "    \"\"\"\n",
    "    num_vertices = len(vertices)\n",
    "\n",
    "    # Check for direct or indirect connection between each pair of vertices\n",
    "    for i in range(num_vertices):\n",
    "        for j in range(i + 1, num_vertices):\n",
    "            if not has_path(adj_matrix, vertices[i], vertices[j]):\n",
    "                return False\n",
    "    return True\n",
    "\n",
    "def has_path(adj_matrix, start, end, visited=None):\n",
    "    \"\"\"\n",
    "    Helper function to check if there is a path between two vertices.\n",
    "    \"\"\"\n",
    "    if visited is None:\n",
    "        visited = set()\n",
    "    \n",
    "    if start == end:\n",
    "        return True\n",
    "    \n",
    "    visited.add(start)\n",
    "    \n",
    "    for neighbor in range(len(adj_matrix)):\n",
    "        if adj_matrix[start][neighbor] and neighbor not in visited:\n",
    "            if has_path(adj_matrix, neighbor, end, visited):\n",
    "                return True\n",
    "    return False\n"
   ]
  },
  {
   "cell_type": "code",
   "execution_count": 216,
   "id": "ed09d6ce-fcd2-4d5c-ac3a-d7dadbc101dc",
   "metadata": {},
   "outputs": [],
   "source": [
    "def find_connected_components(adj_matrix):\n",
    "    \"\"\"\n",
    "    Finds all connected components in the graph.\n",
    "\n",
    "    Parameters:\n",
    "    adj_matrix (np.array): A binary adjacency matrix representing the graph.\n",
    "\n",
    "    Returns:\n",
    "    list: A list of sets, each set represents a connected component.\n",
    "    \"\"\"\n",
    "    visited = set()\n",
    "    components = []\n",
    "\n",
    "    def dfs(vertex, component):\n",
    "        \"\"\"\n",
    "        Depth-first search to explore connected vertices.\n",
    "        \"\"\"\n",
    "        visited.add(vertex)\n",
    "        component.add(vertex)\n",
    "        for neighbor, isConnected in enumerate(adj_matrix[vertex]):\n",
    "            if isConnected and neighbor not in visited:\n",
    "                dfs(neighbor, component)\n",
    "\n",
    "    for vertex in range(len(adj_matrix)):\n",
    "        if vertex not in visited:\n",
    "            component = set()\n",
    "            dfs(vertex, component)\n",
    "            components.append(list(component))\n",
    "\n",
    "    return components\n",
    "\n",
    "def in_alliance(c, coalitions):\n",
    "    for coalition in coalitions:\n",
    "        if all(i in coalition for i in c):\n",
    "            return True\n",
    "    return False\n",
    "\n",
    "def coalition_evaluation(c, effectifs, sim_matrix, cnns, n = 10000):\n",
    "    vals = []\n",
    "    totals = effectifs.sum(axis = 1)\n",
    "    L = [effectifs[:, k].sum(axis = 1)[0] for k in cnns if not (any(i in k for i in c))]\n",
    "    max_adv = max(L) if not len(L) == 0 else 0\n",
    "    c_effectifs = effectifs[:, c].sum(axis = 1)\n",
    "    i = []\n",
    "    if not are_vertices_connected(sim_matrix, c):\n",
    "        return 0\n",
    "    i.append(c_effectifs[0] / totals[0])\n",
    "    if c_effectifs[1] > 0.5*totals[1]:\n",
    "        i.append(1)\n",
    "    if c_effectifs[0] >= max_adv:\n",
    "        i.append(2)\n",
    "    if c_effectifs[0] > 0.5*totals[0]:\n",
    "        i.append(4)\n",
    "    if c_effectifs[1] > 0.5*totals[1] and c_effectifs[0] > 0.5*totals[0]:\n",
    "        i.append(8)\n",
    "    if c_effectifs[1] > 0.5*totals[1] and c_effectifs[0] > 0.5*totals[1] and c_effectifs[0] + c_effectifs[1] > (3.0/5.0)*totals.sum():\n",
    "        i.append(16)\n",
    "    vals.append(max(i))\n",
    "    vals = np.array(vals)\n",
    "    return vals.mean()"
   ]
  },
  {
   "cell_type": "code",
   "execution_count": 217,
   "id": "f735db65-e4bd-494c-ae67-02627eba48db",
   "metadata": {},
   "outputs": [
    {
     "data": {
      "text/plain": [
       "0"
      ]
     },
     "execution_count": 217,
     "metadata": {},
     "output_type": "execute_result"
    }
   ],
   "source": [
    "eff = np.array([\n",
    "    np.array([20,10,15]),\n",
    "    np.array([20,10,15])\n",
    "])\n",
    "\n",
    "sim = np.array([\n",
    "    np.array([1,0,1]),\n",
    "    np.array([1,1,1]),\n",
    "    np.array([1,1,1])\n",
    "])\n",
    "cnns = find_connected_components(sim)\n",
    "aliances = [[0,1]]\n",
    "coalition_evaluation([0,1], eff, cnns, sim)"
   ]
  },
  {
   "cell_type": "code",
   "execution_count": 218,
   "id": "e16594a3-27c2-4a49-b371-c6155bec9e51",
   "metadata": {},
   "outputs": [],
   "source": [
    "import numpy as np\n",
    "\n",
    "def sample_symmetric_binary_matrix(prob_matrix, n):\n",
    "    \"\"\"\n",
    "    Generates n symmetric binary matrices based on a given upper triangular matrix of probabilities.\n",
    "    The diagonal elements are set to 1.\n",
    "\n",
    "    Parameters:\n",
    "    prob_matrix (np.array): An upper triangular matrix of probabilities.\n",
    "    n (int): The number of binary matrices to generate.\n",
    "\n",
    "    Returns:\n",
    "    list: A list of n symmetric binary matrices.\n",
    "    \"\"\"\n",
    "    rows, cols = prob_matrix.shape\n",
    "    assert rows == cols, \"Probability matrix must be square\"\n",
    "\n",
    "    binary_matrices = []\n",
    "\n",
    "    for _ in range(n):\n",
    "        # Sample the upper triangular part excluding the diagonal\n",
    "        upper_tri = np.triu(np.random.binomial(1, prob_matrix), 1)\n",
    "        \n",
    "        # Set the diagonal to 1\n",
    "        np.fill_diagonal(upper_tri, 1)\n",
    "        \n",
    "        # Mirror the upper triangular part to the lower triangular part\n",
    "        binary_matrix = upper_tri + np.tril(upper_tri.T, -1)\n",
    "        \n",
    "        binary_matrices.append(binary_matrix)\n",
    "\n",
    "    return binary_matrices\n"
   ]
  },
  {
   "cell_type": "code",
   "execution_count": 219,
   "id": "731c1fac-8c36-4515-8ca2-3fd98c154e77",
   "metadata": {},
   "outputs": [
    {
     "data": {
      "text/plain": [
       "array([[1., 0., 0., 0., 1., 0., 1., 0., 0.],\n",
       "       [0., 1., 0., 0., 0., 0., 0., 0., 0.],\n",
       "       [0., 0., 1., 0., 0., 1., 0., 1., 1.],\n",
       "       [0., 0., 0., 1., 0., 0., 0., 0., 0.],\n",
       "       [1., 0., 0., 0., 1., 0., 1., 0., 0.],\n",
       "       [0., 0., 1., 0., 0., 1., 0., 1., 1.],\n",
       "       [1., 0., 0., 0., 1., 0., 1., 0., 0.],\n",
       "       [0., 0., 1., 0., 0., 1., 0., 1., 1.],\n",
       "       [0., 0., 1., 0., 0., 1., 0., 1., 1.]])"
      ]
     },
     "execution_count": 219,
     "metadata": {},
     "output_type": "execute_result"
    }
   ],
   "source": [
    "groups = votes[\"groups\"][:-2]\n",
    "ea = np.array(votes[\"effectifs_assemblee\"])[:-2]\n",
    "es = np.array(votes[\"effectifs_senat\"])[:-2]\n",
    "effectifs = np.array([\n",
    "    ea,\n",
    "    es,\n",
    "])\n",
    "NUPES = [2,5,7,8]\n",
    "ENSEMBLE = [0,4,6]\n",
    "\n",
    "\n",
    "sim_mat = np.zeros((9,9))\n",
    "np.fill_diagonal(sim_mat, 1)\n",
    "\n",
    "for x in ENSEMBLE:\n",
    "    for y in ENSEMBLE:\n",
    "        sim_mat[x,y] = 1\n",
    "        sim_mat[y,x] = 1\n",
    "        \n",
    "for x in NUPES:\n",
    "    for y in NUPES:\n",
    "        sim_mat[x,y] = 1\n",
    "        sim_mat[y,x] = 1\n",
    "\n",
    "for x in [i for i in range(9) if i not in [1,3]]:\n",
    "    sim_mat[x,1] = 0\n",
    "    sim_mat[1,x] = 0\n",
    "\n",
    "sim_mat"
   ]
  },
  {
   "cell_type": "code",
   "execution_count": 220,
   "id": "efb31fdc-b83e-483d-aa85-f331edf1e9d1",
   "metadata": {},
   "outputs": [
    {
     "data": {
      "text/plain": [
       "[[0, 4, 6], [1], [8, 2, 5, 7], [3]]"
      ]
     },
     "execution_count": 220,
     "metadata": {},
     "output_type": "execute_result"
    }
   ],
   "source": [
    "cnns = find_connected_components(sim_mat)\n",
    "cnns"
   ]
  },
  {
   "cell_type": "code",
   "execution_count": 221,
   "id": "6d5ed25c-e6a8-4c5a-8129-1a4ec3d8828e",
   "metadata": {},
   "outputs": [
    {
     "name": "stdout",
     "output_type": "stream",
     "text": [
      "0 Renaissance\n",
      "1 Rassemblement National\n",
      "2 La France insoumise - Nouvelle Union Populaire écologique et sociale\n",
      "3 Les Républicains\n",
      "4 Démocrate (MoDem et Indépendants)\n",
      "5 Socialistes et apparentés\n",
      "6 Horizons et apparentés\n",
      "7 Écologiste - NUPES\n",
      "8 Gauche démocrate et républicaine - NUPES\n"
     ]
    }
   ],
   "source": [
    "for i,g in enumerate(groups):\n",
    "    print(i, g)"
   ]
  },
  {
   "cell_type": "code",
   "execution_count": 230,
   "id": "8dcfdb9a-e649-462a-94fa-2d86ccfba3c7",
   "metadata": {},
   "outputs": [
    {
     "data": {
      "text/plain": [
       "0.13611615245009073"
      ]
     },
     "execution_count": 230,
     "metadata": {},
     "output_type": "execute_result"
    }
   ],
   "source": [
    "coalition_evaluation([2], effectifs, sim_mat, cnns,  n = 1)"
   ]
  },
  {
   "cell_type": "code",
   "execution_count": 231,
   "id": "63262a4a-dc31-4326-bcb0-b6de3fb3f3d7",
   "metadata": {},
   "outputs": [
    {
     "data": {
      "text/plain": [
       "2.0"
      ]
     },
     "execution_count": 231,
     "metadata": {},
     "output_type": "execute_result"
    }
   ],
   "source": [
    "coalition_evaluation([0], effectifs, sim_mat, cnns,  n = 1)"
   ]
  },
  {
   "cell_type": "code",
   "execution_count": 236,
   "id": "ffba05d8-c441-4b9f-b90d-d9e1581337ee",
   "metadata": {},
   "outputs": [],
   "source": [
    "def create_data(n_partis, evaluation_function, k = 2):\n",
    "    alternatives = [sparse_to_alt(tuple(i), n_partis) for i in generate_additive_theta(n_partis,n_partis - 1)]\n",
    "    theta = [tuple(i) for i in generate_additive_theta(n_partis,k)]\n",
    "    ranks = []\n",
    "    for a in alternatives:\n",
    "        ranks.append(evaluation_function(alt_to_sparse(a)))\n",
    "        print(f\"{groups[alt_to_sparse(a)]}: {evaluation_function(alt_to_sparse(a))}\")\n",
    "    alternatives = np.array(alternatives)\n",
    "    ranks = np.array(ranks)\n",
    "    preferences = PreferenceModel(alternatives, ranks)\n",
    "    data = preferences.generate_preference_matrix(theta)\n",
    "    data = torch.tensor(data).float()\n",
    "    return data ,theta"
   ]
  },
  {
   "cell_type": "code",
   "execution_count": 237,
   "id": "431d1d93-3247-40b6-bf97-b736332d879a",
   "metadata": {},
   "outputs": [
    {
     "name": "stdout",
     "output_type": "stream",
     "text": [
      "RE: 2.0\n",
      "RN: 0.15970961887477314\n",
      "LFI: 0.13611615245009073\n",
      "LR: 1.0\n",
      "MODEM: 0.0925589836660617\n",
      "SOC: 0.056261343012704176\n",
      "HOR: 0.05263157894736842\n",
      "ECO: 0.041742286751361164\n",
      "GDR: 0.039927404718693285\n"
     ]
    },
    {
     "ename": "IndexError",
     "evalue": "too many indices for array: array is 1-dimensional, but 2 were indexed",
     "output_type": "error",
     "traceback": [
      "\u001b[0;31m---------------------------------------------------------------------------\u001b[0m",
      "\u001b[0;31mIndexError\u001b[0m                                Traceback (most recent call last)",
      "Input \u001b[0;32mIn [237]\u001b[0m, in \u001b[0;36m<module>\u001b[0;34m\u001b[0m\n\u001b[0;32m----> 1\u001b[0m data, theta \u001b[38;5;241m=\u001b[39m \u001b[43mcreate_data\u001b[49m\u001b[43m(\u001b[49m\u001b[43meffectifs\u001b[49m\u001b[38;5;241;43m.\u001b[39;49m\u001b[43mshape\u001b[49m\u001b[43m[\u001b[49m\u001b[38;5;241;43m1\u001b[39;49m\u001b[43m]\u001b[49m\u001b[43m,\u001b[49m\n\u001b[1;32m      2\u001b[0m \u001b[43m                          \u001b[49m\u001b[38;5;28;43;01mlambda\u001b[39;49;00m\u001b[43m \u001b[49m\u001b[43mc\u001b[49m\u001b[43m:\u001b[49m\u001b[43mcoalition_evaluation\u001b[49m\u001b[43m(\u001b[49m\u001b[43mc\u001b[49m\u001b[43m,\u001b[49m\u001b[43m \u001b[49m\u001b[43meffectifs\u001b[49m\u001b[43m,\u001b[49m\u001b[43m \u001b[49m\u001b[43msim_mat\u001b[49m\u001b[43m,\u001b[49m\u001b[43m \u001b[49m\u001b[43mcnns\u001b[49m\u001b[43m)\u001b[49m\u001b[43m,\u001b[49m\n\u001b[1;32m      3\u001b[0m \u001b[43m                          \u001b[49m\u001b[43mk\u001b[49m\u001b[43m \u001b[49m\u001b[38;5;241;43m=\u001b[39;49m\u001b[43m \u001b[49m\u001b[38;5;241;43m1\u001b[39;49m\n\u001b[1;32m      4\u001b[0m \u001b[43m                          \u001b[49m\u001b[43m)\u001b[49m\n\u001b[1;32m      5\u001b[0m data\u001b[38;5;241m.\u001b[39mshape\n",
      "Input \u001b[0;32mIn [236]\u001b[0m, in \u001b[0;36mcreate_data\u001b[0;34m(n_partis, evaluation_function, k)\u001b[0m\n\u001b[1;32m      5\u001b[0m \u001b[38;5;28;01mfor\u001b[39;00m a \u001b[38;5;129;01min\u001b[39;00m alternatives:\n\u001b[1;32m      6\u001b[0m     ranks\u001b[38;5;241m.\u001b[39mappend(evaluation_function(alt_to_sparse(a)))\n\u001b[0;32m----> 7\u001b[0m     \u001b[38;5;28mprint\u001b[39m(\u001b[38;5;124mf\u001b[39m\u001b[38;5;124m\"\u001b[39m\u001b[38;5;132;01m{\u001b[39;00mgroups[alt_to_sparse(a)]\u001b[38;5;132;01m}\u001b[39;00m\u001b[38;5;124m: \u001b[39m\u001b[38;5;132;01m{\u001b[39;00mevaluation_function(alt_to_sparse(a))\u001b[38;5;132;01m}\u001b[39;00m\u001b[38;5;124m\"\u001b[39m)\n\u001b[1;32m      8\u001b[0m alternatives \u001b[38;5;241m=\u001b[39m np\u001b[38;5;241m.\u001b[39marray(alternatives)\n\u001b[1;32m      9\u001b[0m ranks \u001b[38;5;241m=\u001b[39m np\u001b[38;5;241m.\u001b[39marray(ranks)\n",
      "\u001b[0;31mIndexError\u001b[0m: too many indices for array: array is 1-dimensional, but 2 were indexed"
     ]
    }
   ],
   "source": [
    "data, theta = create_data(effectifs.shape[1],\n",
    "                          lambda c:coalition_evaluation(c, effectifs, sim_mat, cnns),\n",
    "                          k = 1\n",
    "                          )\n",
    "data.shape"
   ]
  },
  {
   "cell_type": "code",
   "execution_count": 228,
   "id": "131fdf07-8481-4966-97aa-3af4875c189e",
   "metadata": {},
   "outputs": [
    {
     "name": "stderr",
     "output_type": "stream",
     "text": [
      "Sample: 100%|████████████████████████████| 2500/2500 [01:03, 39.47it/s, step size=8.77e-02, acc. prob=0.891]\n"
     ]
    }
   ],
   "source": [
    "sigma_w = 1e-1\n",
    "sigma_p = 1\n",
    "n_samples = 1500\n",
    "\n",
    "model = posterior_sampling_model(data, sigma_w=sigma_w, sigma_p=sigma_p)\n",
    "diag, sampled_weights, sigmas = sample_model(model, data, \"w\", \"sigma\", warmup_steps=1000, num_samples=n_samples, return_diag=True)"
   ]
  },
  {
   "cell_type": "code",
   "execution_count": 229,
   "id": "bdf7b976-d0dc-4aff-9ebc-65215101ce06",
   "metadata": {},
   "outputs": [
    {
     "data": {
      "image/png": "[encoded data removed]",
      "text/plain": [
       "<Figure size 432x288 with 1 Axes>"
      ]
     },
     "metadata": {
      "needs_background": "light"
     },
     "output_type": "display_data"
    }
   ],
   "source": [
    "svs = np.array([compute_semivalues(sim_mat.shape[0], theta, weights, lambda x:1) for weights in sampled_weights])\n",
    "means, stds = svs.mean(axis = 0), svs.std(axis = 0)\n",
    "groups = [\"RE\", \"RN\", \"LFI\", \"LR\", \"MODEM\", \"SOC\", \"HOR\", \"ECO\", \"GDR\", \"LIOT\"]\n",
    "plot_gaussians(means, stds, labels = groups)"
   ]
  },
  {
   "cell_type": "code",
   "execution_count": 233,
   "id": "1ec99ece-2982-4d6f-b245-ccba6c91eb41",
   "metadata": {},
   "outputs": [
    {
     "data": {
      "text/plain": [
       "array(['RE', 'RN', 'LFI', 'LR', 'MODEM', 'SOC', 'HOR', 'ECO', 'GDR',\n",
       "       'LIOT'], dtype='<U5')"
      ]
     },
     "execution_count": 233,
     "metadata": {},
     "output_type": "execute_result"
    }
   ],
   "source": [
    "groups = np.array(groups)\n",
    "groups"
   ]
  },
  {
   "cell_type": "code",
   "execution_count": null,
   "id": "fe2ed7d1-b757-45a5-9466-23d1a757ae2b",
   "metadata": {},
   "outputs": [],
   "source": []
  }
 ],
 "metadata": {
  "kernelspec": {
   "display_name": "Python 3 (ipykernel)",
   "language": "python",
   "name": "python3"
  },
  "language_info": {
   "codemirror_mode": {
    "name": "ipython",
    "version": 3
   },
   "file_extension": ".py",
   "mimetype": "text/x-python",
   "name": "python",
   "nbconvert_exporter": "python",
   "pygments_lexer": "ipython3",
   "version": "3.9.10"
  }
 },
 "nbformat": 4,
 "nbformat_minor": 5
}
