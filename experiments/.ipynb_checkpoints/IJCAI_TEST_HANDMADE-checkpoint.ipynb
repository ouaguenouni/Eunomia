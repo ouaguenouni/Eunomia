{
 "cells": [
  {
   "cell_type": "code",
   "execution_count": 1,
   "id": "bf609d15-3374-4a11-b70d-ec4022f5174e",
   "metadata": {},
   "outputs": [
    {
     "name": "stdout",
     "output_type": "stream",
     "text": [
      "Cloning into 'Eunomia'...\n",
      "remote: Enumerating objects: 532, done.\u001b[K\n",
      "remote: Counting objects: 100% (532/532), done.\u001b[K\n",
      "remote: Compressing objects: 100% (204/204), done.\u001b[K\n",
      "remote: Total 532 (delta 396), reused 458 (delta 322), pack-reused 0\u001b[K\n",
      "Receiving objects: 100% (532/532), 3.49 MiB | 2.25 MiB/s, done.\n",
      "Resolving deltas: 100% (396/396), done.\n",
      "Requirement already satisfied: torch in /home/mohamed/miniconda3/lib/python3.9/site-packages (from -r Eunomia/requirements.txt (line 1)) (1.11.0)\n",
      "Requirement already satisfied: pyro-ppl in /home/mohamed/miniconda3/lib/python3.9/site-packages (from -r Eunomia/requirements.txt (line 2)) (1.8.6)\n",
      "Requirement already satisfied: cvxpy in /home/mohamed/miniconda3/lib/python3.9/site-packages (from -r Eunomia/requirements.txt (line 3)) (1.1.18)\n",
      "Requirement already satisfied: typing_extensions in /home/mohamed/miniconda3/lib/python3.9/site-packages (from torch->-r Eunomia/requirements.txt (line 1)) (4.8.0)\n",
      "Requirement already satisfied: numpy>=1.7 in /home/mohamed/miniconda3/lib/python3.9/site-packages (from pyro-ppl->-r Eunomia/requirements.txt (line 2)) (1.26.2)\n",
      "Requirement already satisfied: opt-einsum>=2.3.2 in /home/mohamed/miniconda3/lib/python3.9/site-packages (from pyro-ppl->-r Eunomia/requirements.txt (line 2)) (3.3.0)\n",
      "Requirement already satisfied: pyro-api>=0.1.1 in /home/mohamed/miniconda3/lib/python3.9/site-packages (from pyro-ppl->-r Eunomia/requirements.txt (line 2)) (0.1.2)\n",
      "Requirement already satisfied: tqdm>=4.36 in /home/mohamed/miniconda3/lib/python3.9/site-packages (from pyro-ppl->-r Eunomia/requirements.txt (line 2)) (4.62.3)\n",
      "Requirement already satisfied: osqp>=0.4.1 in /home/mohamed/miniconda3/lib/python3.9/site-packages (from cvxpy->-r Eunomia/requirements.txt (line 3)) (0.6.2.post4)\n",
      "Requirement already satisfied: scipy>=1.1.0 in /home/mohamed/miniconda3/lib/python3.9/site-packages (from cvxpy->-r Eunomia/requirements.txt (line 3)) (1.11.3)\n",
      "Requirement already satisfied: ecos>=2 in /home/mohamed/miniconda3/lib/python3.9/site-packages (from cvxpy->-r Eunomia/requirements.txt (line 3)) (2.0.10)\n",
      "Requirement already satisfied: scs>=1.1.6 in /home/mohamed/miniconda3/lib/python3.9/site-packages (from cvxpy->-r Eunomia/requirements.txt (line 3)) (3.1.0)\n",
      "Requirement already satisfied: qdldl in /home/mohamed/miniconda3/lib/python3.9/site-packages (from osqp>=0.4.1->cvxpy->-r Eunomia/requirements.txt (line 3)) (0.1.5.post0)\n"
     ]
    }
   ],
   "source": [
    "!rm -rf Eunomia\n",
    "!git clone https://github.com/ouaguenouni/Eunomia\n",
    "!pip install -r Eunomia/requirements.txt"
   ]
  },
  {
   "cell_type": "code",
   "execution_count": 2,
   "id": "3abe93fb-ed5a-4118-9efd-7297135edd50",
   "metadata": {},
   "outputs": [],
   "source": [
    "import matplotlib.pyplot as plt\n",
    "import numpy as np\n",
    "import pandas as pd\n",
    "import seaborn as sns\n",
    "from Eunomia.preferences import *\n",
    "from Eunomia.additive_functions import *\n",
    "from Eunomia.alternatives import *\n",
    "from Eunomia.sampling import *\n",
    "from Eunomia.mcmc import *\n",
    "from Eunomia.degree import *\n",
    "from Eunomia.experiments import *\n"
   ]
  },
  {
   "cell_type": "code",
   "execution_count": null,
   "id": "f047e255-1b7c-478d-96cf-b4f87f1cdc6c",
   "metadata": {},
   "outputs": [],
   "source": []
  },
  {
   "cell_type": "code",
   "execution_count": null,
   "id": "96e83ae8-91c1-4721-b8be-bf3789a45c57",
   "metadata": {},
   "outputs": [
    {
     "name": "stdout",
     "output_type": "stream",
     "text": [
      "Found file: SX_IJCAI_HYPERPARAMETER_NOISY_2/2024-01-11/iter-0_n-4_k-2_m-8_sigma_w-1.118888888888889_sigma_p-1.118888888888889_n_samples-500.yaml\n",
      "Registering the results in:  SX_IJCAI_HYPERPARAMETER_NOISY_2/2024-01-11/iter-0_n-4_k-2_m-8_sigma_w-0.01_sigma_p-0.23111111111111113_n_samples-500.yaml\n"
     ]
    },
    {
     "name": "stderr",
     "output_type": "stream",
     "text": [
      "Sample: 100%|████████████████████████████| 1000/1000 [01:11, 13.92it/s, step size=8.65e-02, acc. prob=0.825]\n"
     ]
    },
    {
     "name": "stdout",
     "output_type": "stream",
     "text": [
      "diag:  {'sigma': OrderedDict([('n_eff', tensor(22.1532)), ('r_hat', tensor(1.0581))]), 'w': OrderedDict([('n_eff', tensor([166.0338,  87.1755, 201.1025,  74.3009, 124.9793, 248.4013, 236.2832,\n",
      "        124.0932, 281.4104, 281.2387])), ('r_hat', tensor([0.9982, 1.0031, 0.9980, 0.9989, 1.0103, 0.9984, 1.0001, 0.9996, 1.0036,\n",
      "        0.9981]))]), 'divergences': {'chain 0': [14, 63, 192, 197, 225, 444, 448, 459]}, 'acceptance rate': {'chain 0': 0.968}}\n",
      "Registering the results in:  SX_IJCAI_HYPERPARAMETER_NOISY_2/2024-01-11/iter-0_n-4_k-2_m-8_sigma_w-0.01_sigma_p-0.45222222222222225_n_samples-500.yaml\n"
     ]
    },
    {
     "name": "stderr",
     "output_type": "stream",
     "text": [
      "Sample: 100%|████████████████████████████| 1000/1000 [01:00, 16.63it/s, step size=1.38e-01, acc. prob=0.795]\n"
     ]
    },
    {
     "name": "stdout",
     "output_type": "stream",
     "text": [
      "diag:  {'sigma': OrderedDict([('n_eff', tensor(99.4164)), ('r_hat', tensor(1.0200))]), 'w': OrderedDict([('n_eff', tensor([304.7576, 283.4161, 303.9877, 316.0149, 386.2719, 275.0812, 309.0517,\n",
      "        211.9995, 309.1287, 376.2928])), ('r_hat', tensor([1.0015, 0.9997, 1.0005, 0.9982, 0.9985, 0.9993, 1.0000, 0.9984, 0.9981,\n",
      "        1.0026]))]), 'divergences': {'chain 0': [376, 381, 385, 402]}, 'acceptance rate': {'chain 0': 0.956}}\n",
      "Registering the results in:  SX_IJCAI_HYPERPARAMETER_NOISY_2/2024-01-11/iter-0_n-4_k-2_m-8_sigma_w-0.01_sigma_p-0.6733333333333333_n_samples-500.yaml\n"
     ]
    },
    {
     "name": "stderr",
     "output_type": "stream",
     "text": [
      "Warmup:  22%|██████                     | 223/1000 [3:25:08, 55.19s/it, step size=4.15e-01, acc. prob=0.780]\n",
      "Sample:  85%|███████████████████████    | 852/1000 [1:28:31,  6.23s/it, step size=1.83e-03, acc. prob=0.831]\n",
      "Sample: 100%|████████████████████████████| 1000/1000 [01:13, 13.56it/s, step size=1.20e-01, acc. prob=0.806]\n"
     ]
    },
    {
     "name": "stdout",
     "output_type": "stream",
     "text": [
      "diag:  {'sigma': OrderedDict([('n_eff', tensor(101.7432)), ('r_hat', tensor(1.0109))]), 'w': OrderedDict([('n_eff', tensor([319.6890, 121.6932, 363.1196, 202.3815, 316.4604, 252.6191, 124.0715,\n",
      "        297.1180, 381.2298, 281.8694])), ('r_hat', tensor([0.9985, 1.0252, 0.9983, 1.0014, 1.0074, 0.9999, 1.0112, 0.9996, 1.0022,\n",
      "        0.9995]))]), 'divergences': {'chain 0': []}, 'acceptance rate': {'chain 0': 0.978}}\n",
      "Registering the results in:  SX_IJCAI_HYPERPARAMETER_NOISY_2/2024-01-11/iter-0_n-4_k-2_m-8_sigma_w-0.01_sigma_p-0.8944444444444445_n_samples-500.yaml\n"
     ]
    },
    {
     "name": "stderr",
     "output_type": "stream",
     "text": [
      "Sample: 100%|████████████████████████████| 1000/1000 [00:49, 20.04it/s, step size=1.76e-01, acc. prob=0.793]\n"
     ]
    },
    {
     "name": "stdout",
     "output_type": "stream",
     "text": [
      "diag:  {'sigma': OrderedDict([('n_eff', tensor(81.4850)), ('r_hat', tensor(1.0337))]), 'w': OrderedDict([('n_eff', tensor([226.4976, 168.9132, 195.8919, 151.8053, 277.8122, 263.2815, 249.5122,\n",
      "        241.7808, 287.3605, 277.7513])), ('r_hat', tensor([1.0009, 1.0053, 1.0001, 1.0144, 0.9983, 0.9992, 0.9987, 1.0051, 0.9980,\n",
      "        1.0020]))]), 'divergences': {'chain 0': []}, 'acceptance rate': {'chain 0': 0.972}}\n",
      "Registering the results in:  SX_IJCAI_HYPERPARAMETER_NOISY_2/2024-01-11/iter-0_n-4_k-2_m-8_sigma_w-0.01_sigma_p-1.1155555555555556_n_samples-500.yaml\n"
     ]
    },
    {
     "name": "stderr",
     "output_type": "stream",
     "text": [
      "Sample: 100%|████████████████████████████| 1000/1000 [00:56, 17.60it/s, step size=4.19e-01, acc. prob=0.305]\n"
     ]
    },
    {
     "name": "stdout",
     "output_type": "stream",
     "text": [
      "diag:  {'sigma': OrderedDict([('n_eff', tensor(58.4734)), ('r_hat', tensor(1.0233))]), 'w': OrderedDict([('n_eff', tensor([ 49.8779,  24.6444, 176.5879, 175.9773,  19.6986,  29.3426,  39.4810,\n",
      "         35.8582,  32.1893,  68.6873])), ('r_hat', tensor([1.0153, 0.9988, 1.0080, 1.0079, 1.0085, 1.0341, 1.0240, 0.9981, 1.0181,\n",
      "        0.9980]))]), 'divergences': {'chain 0': [12, 14, 20, 29, 65, 74, 103, 104, 111, 113, 121, 131, 136, 143, 151, 161, 170, 171, 173, 177, 178, 184, 187, 191, 195, 203, 210, 211, 216, 224, 231, 233, 240, 248, 250, 258, 259, 266, 269, 270, 275, 281, 283, 289, 292, 293, 302, 307, 309, 311, 313, 325, 328, 329, 338, 351, 353, 354, 355, 368, 392, 406, 410, 417, 421, 426, 429, 430, 432, 434, 436, 437, 453, 468, 469, 470, 471, 493, 494, 498]}, 'acceptance rate': {'chain 0': 0.566}}\n",
      "Registering the results in:  SX_IJCAI_HYPERPARAMETER_NOISY_2/2024-01-11/iter-0_n-4_k-2_m-8_sigma_w-0.01_sigma_p-1.3366666666666667_n_samples-500.yaml\n"
     ]
    },
    {
     "name": "stderr",
     "output_type": "stream",
     "text": [
      "Sample: 100%|████████████████████████████| 1000/1000 [01:27, 11.45it/s, step size=5.94e-02, acc. prob=0.727]\n"
     ]
    },
    {
     "name": "stdout",
     "output_type": "stream",
     "text": [
      "diag:  {'sigma': OrderedDict([('n_eff', tensor(31.3472)), ('r_hat', tensor(1.0348))]), 'w': OrderedDict([('n_eff', tensor([ 47.1962,  61.2548,  66.1958, 101.2309,  52.1934,  58.9466,  69.5976,\n",
      "        379.5139,  47.3961,  64.1379])), ('r_hat', tensor([1.0048, 1.0054, 0.9996, 1.0155, 1.0069, 0.9994, 1.0082, 0.9992, 0.9995,\n",
      "        1.0224]))]), 'divergences': {'chain 0': [67, 70, 77, 85, 100, 102, 104, 106, 115, 287, 289, 350, 353]}, 'acceptance rate': {'chain 0': 0.92}}\n",
      "Registering the results in:  SX_IJCAI_HYPERPARAMETER_NOISY_2/2024-01-11/iter-0_n-4_k-2_m-8_sigma_w-0.01_sigma_p-1.557777777777778_n_samples-500.yaml\n"
     ]
    },
    {
     "name": "stderr",
     "output_type": "stream",
     "text": [
      "Sample: 100%|████████████████████████████| 1000/1000 [00:54, 18.42it/s, step size=1.52e-01, acc. prob=0.730]\n"
     ]
    },
    {
     "name": "stdout",
     "output_type": "stream",
     "text": [
      "diag:  {'sigma': OrderedDict([('n_eff', tensor(139.7451)), ('r_hat', tensor(1.0007))]), 'w': OrderedDict([('n_eff', tensor([161.7895, 158.6514, 262.5038, 125.1172, 129.3438,  89.6160, 175.7561,\n",
      "        291.1111, 146.4538, 138.6831])), ('r_hat', tensor([1.0016, 1.0000, 1.0061, 1.0063, 0.9981, 1.0292, 0.9987, 0.9992, 1.0000,\n",
      "        1.0222]))]), 'divergences': {'chain 0': [103, 104, 105, 108, 110, 116, 314, 315, 318]}, 'acceptance rate': {'chain 0': 0.924}}\n",
      "Registering the results in:  SX_IJCAI_HYPERPARAMETER_NOISY_2/2024-01-11/iter-0_n-4_k-2_m-8_sigma_w-0.01_sigma_p-1.778888888888889_n_samples-500.yaml\n"
     ]
    },
    {
     "name": "stderr",
     "output_type": "stream",
     "text": [
      "Sample: 100%|████████████████████████████| 1000/1000 [01:20, 12.40it/s, step size=7.74e-02, acc. prob=0.816]\n"
     ]
    },
    {
     "name": "stdout",
     "output_type": "stream",
     "text": [
      "diag:  {'sigma': OrderedDict([('n_eff', tensor(139.1402)), ('r_hat', tensor(1.0048))]), 'w': OrderedDict([('n_eff', tensor([179.3153,  95.1843, 323.8229, 401.0899, 202.2064, 263.8689, 139.5875,\n",
      "        114.6098, 154.0525, 166.7817])), ('r_hat', tensor([0.9981, 0.9983, 0.9984, 1.0006, 0.9994, 0.9985, 1.0020, 1.0009, 0.9985,\n",
      "        1.0029]))]), 'divergences': {'chain 0': [207, 232, 248]}, 'acceptance rate': {'chain 0': 0.982}}\n",
      "Registering the results in:  SX_IJCAI_HYPERPARAMETER_NOISY_2/2024-01-11/iter-0_n-4_k-2_m-8_sigma_w-0.01_sigma_p-2.0_n_samples-500.yaml\n"
     ]
    },
    {
     "name": "stderr",
     "output_type": "stream",
     "text": [
      "Sample: 100%|████████████████████████████| 1000/1000 [01:01, 16.19it/s, step size=1.45e-01, acc. prob=0.829]\n"
     ]
    },
    {
     "name": "stdout",
     "output_type": "stream",
     "text": [
      "diag:  {'sigma': OrderedDict([('n_eff', tensor(109.9855)), ('r_hat', tensor(1.0228))]), 'w': OrderedDict([('n_eff', tensor([259.9511, 105.9509, 323.4686, 210.1861, 369.1838, 140.7374, 224.7658,\n",
      "        357.9908, 203.4228, 204.2010])), ('r_hat', tensor([1.0114, 1.0123, 1.0001, 1.0045, 0.9988, 0.9995, 0.9980, 0.9981, 1.0037,\n",
      "        0.9991]))]), 'divergences': {'chain 0': [322, 328, 338, 339]}, 'acceptance rate': {'chain 0': 0.962}}\n",
      "Registering the results in:  SX_IJCAI_HYPERPARAMETER_NOISY_2/2024-01-11/iter-0_n-4_k-2_m-8_sigma_w-0.23111111111111113_sigma_p-0.01_n_samples-500.yaml\n"
     ]
    },
    {
     "name": "stderr",
     "output_type": "stream",
     "text": [
      "Sample: 100%|████████████████████████████| 1000/1000 [01:35, 10.50it/s, step size=1.04e-01, acc. prob=0.759]\n"
     ]
    },
    {
     "name": "stdout",
     "output_type": "stream",
     "text": [
      "diag:  {'sigma': OrderedDict([('n_eff', tensor(29.9876)), ('r_hat', tensor(1.0648))]), 'w': OrderedDict([('n_eff', tensor([ 48.0261,  25.0318, 164.9721,  23.5947, 158.0819, 220.8287,  86.3660,\n",
      "         92.9844, 210.8501,  80.7513])), ('r_hat', tensor([1.0300, 1.0205, 0.9982, 1.0481, 1.0109, 1.0109, 1.0143, 1.0289, 1.0066,\n",
      "        1.0107]))]), 'divergences': {'chain 0': [72, 74, 75, 77, 86, 87, 92, 93, 95, 96, 100, 101, 104, 105, 106, 107, 116, 119, 123, 249]}, 'acceptance rate': {'chain 0': 0.916}}\n",
      "Registering the results in:  SX_IJCAI_HYPERPARAMETER_NOISY_2/2024-01-11/iter-0_n-4_k-2_m-8_sigma_w-0.23111111111111113_sigma_p-0.23111111111111113_n_samples-500.yaml\n"
     ]
    },
    {
     "name": "stderr",
     "output_type": "stream",
     "text": [
      "Sample: 100%|████████████████████████████| 1000/1000 [01:25, 11.68it/s, step size=8.83e-02, acc. prob=0.844]\n"
     ]
    },
    {
     "name": "stdout",
     "output_type": "stream",
     "text": [
      "diag:  {'sigma': OrderedDict([('n_eff', tensor(74.1783)), ('r_hat', tensor(1.0177))]), 'w': OrderedDict([('n_eff', tensor([235.7185, 438.6012, 162.9618, 150.1119, 283.0897, 273.9833, 252.6338,\n",
      "        158.5188, 187.8367, 165.7164])), ('r_hat', tensor([1.0016, 1.0010, 1.0000, 1.0118, 1.0045, 0.9983, 0.9985, 0.9981, 1.0007,\n",
      "        1.0014]))]), 'divergences': {'chain 0': [47, 81, 136, 200, 350, 355, 390, 465, 466, 467]}, 'acceptance rate': {'chain 0': 0.97}}\n",
      "Registering the results in:  SX_IJCAI_HYPERPARAMETER_NOISY_2/2024-01-11/iter-0_n-4_k-2_m-8_sigma_w-0.23111111111111113_sigma_p-0.45222222222222225_n_samples-500.yaml\n"
     ]
    },
    {
     "name": "stderr",
     "output_type": "stream",
     "text": [
      "Sample: 100%|████████████████████████████| 1000/1000 [00:51, 19.28it/s, step size=1.79e-01, acc. prob=0.866]\n"
     ]
    },
    {
     "name": "stdout",
     "output_type": "stream",
     "text": [
      "diag:  {'sigma': OrderedDict([('n_eff', tensor(158.6058)), ('r_hat', tensor(0.9986))]), 'w': OrderedDict([('n_eff', tensor([251.1654, 329.6169, 179.0882, 291.7136, 322.1883, 345.2902, 210.4245,\n",
      "        320.5358, 149.5185, 287.6207])), ('r_hat', tensor([0.9985, 1.0090, 1.0010, 1.0007, 0.9982, 0.9987, 0.9997, 0.9980, 1.0003,\n",
      "        1.0005]))]), 'divergences': {'chain 0': [21, 125, 348, 357]}, 'acceptance rate': {'chain 0': 0.998}}\n",
      "Registering the results in:  SX_IJCAI_HYPERPARAMETER_NOISY_2/2024-01-11/iter-0_n-4_k-2_m-8_sigma_w-0.23111111111111113_sigma_p-0.6733333333333333_n_samples-500.yaml\n"
     ]
    },
    {
     "name": "stderr",
     "output_type": "stream",
     "text": [
      "Sample: 100%|████████████████████████████| 1000/1000 [01:40,  9.90it/s, step size=8.70e-02, acc. prob=0.898]\n"
     ]
    },
    {
     "name": "stdout",
     "output_type": "stream",
     "text": [
      "diag:  {'sigma': OrderedDict([('n_eff', tensor(217.2923)), ('r_hat', tensor(1.0016))]), 'w': OrderedDict([('n_eff', tensor([244.6999, 232.9049, 242.3114, 224.8116, 400.5074, 330.4962, 276.9107,\n",
      "        211.5826, 180.9157, 248.2884])), ('r_hat', tensor([1.0153, 1.0272, 0.9988, 0.9980, 0.9997, 0.9980, 1.0083, 0.9981, 1.0042,\n",
      "        0.9988]))]), 'divergences': {'chain 0': []}, 'acceptance rate': {'chain 0': 0.996}}\n",
      "Registering the results in:  SX_IJCAI_HYPERPARAMETER_NOISY_2/2024-01-11/iter-0_n-4_k-2_m-8_sigma_w-0.23111111111111113_sigma_p-0.8944444444444445_n_samples-500.yaml\n"
     ]
    },
    {
     "name": "stderr",
     "output_type": "stream",
     "text": [
      "Sample: 100%|████████████████████████████| 1000/1000 [00:59, 16.86it/s, step size=1.64e-01, acc. prob=0.836]\n"
     ]
    },
    {
     "name": "stdout",
     "output_type": "stream",
     "text": [
      "diag:  {'sigma': OrderedDict([('n_eff', tensor(157.4989)), ('r_hat', tensor(1.0048))]), 'w': OrderedDict([('n_eff', tensor([241.6736, 213.2779, 291.5472, 246.2320, 299.9013, 292.5916, 228.6563,\n",
      "        291.7462, 288.4301, 225.9899])), ('r_hat', tensor([1.0040, 1.0025, 1.0014, 0.9999, 0.9987, 1.0058, 0.9986, 0.9988, 0.9981,\n",
      "        1.0154]))]), 'divergences': {'chain 0': [9, 292, 369, 441]}, 'acceptance rate': {'chain 0': 0.988}}\n",
      "Registering the results in:  SX_IJCAI_HYPERPARAMETER_NOISY_2/2024-01-11/iter-0_n-4_k-2_m-8_sigma_w-0.23111111111111113_sigma_p-1.1155555555555556_n_samples-500.yaml\n"
     ]
    },
    {
     "name": "stderr",
     "output_type": "stream",
     "text": [
      "Sample: 100%|████████████████████████████| 1000/1000 [01:13, 13.59it/s, step size=2.23e-01, acc. prob=0.725]\n"
     ]
    },
    {
     "name": "stdout",
     "output_type": "stream",
     "text": [
      "diag:  {'sigma': OrderedDict([('n_eff', tensor(134.9398)), ('r_hat', tensor(1.0117))]), 'w': OrderedDict([('n_eff', tensor([255.3713, 207.9083, 218.7076, 161.2449, 249.1122, 183.8118, 172.3183,\n",
      "        111.7306, 189.8554, 143.2719])), ('r_hat', tensor([0.9989, 1.0259, 0.9998, 1.0013, 0.9984, 1.0078, 1.0173, 1.0046, 1.0064,\n",
      "        1.0082]))]), 'divergences': {'chain 0': [33, 56, 57, 58, 61, 62, 63, 70, 72, 78, 79, 80, 81, 85, 86, 154, 190, 226, 236, 237, 249, 250, 254, 467]}, 'acceptance rate': {'chain 0': 0.934}}\n",
      "Registering the results in:  SX_IJCAI_HYPERPARAMETER_NOISY_2/2024-01-11/iter-0_n-4_k-2_m-8_sigma_w-0.23111111111111113_sigma_p-1.3366666666666667_n_samples-500.yaml\n"
     ]
    },
    {
     "name": "stderr",
     "output_type": "stream",
     "text": [
      "Sample: 100%|████████████████████████████| 1000/1000 [01:39, 10.03it/s, step size=1.07e-01, acc. prob=0.714]\n"
     ]
    },
    {
     "name": "stdout",
     "output_type": "stream",
     "text": [
      "diag:  {'sigma': OrderedDict([('n_eff', tensor(49.2067)), ('r_hat', tensor(1.0063))]), 'w': OrderedDict([('n_eff', tensor([155.3476, 166.9503, 109.8796, 114.1812,  58.1310,  23.2344, 292.8189,\n",
      "        335.1470,  38.2457, 292.0877])), ('r_hat', tensor([1.0009, 1.0009, 1.0025, 1.0196, 1.0229, 1.0024, 1.0067, 1.0069, 1.0402,\n",
      "        1.0007]))]), 'divergences': {'chain 0': [131, 237, 440]}, 'acceptance rate': {'chain 0': 0.888}}\n",
      "Registering the results in:  SX_IJCAI_HYPERPARAMETER_NOISY_2/2024-01-11/iter-0_n-4_k-2_m-8_sigma_w-0.23111111111111113_sigma_p-1.557777777777778_n_samples-500.yaml\n"
     ]
    },
    {
     "name": "stderr",
     "output_type": "stream",
     "text": [
      "Sample: 100%|████████████████████████████| 1000/1000 [01:25, 11.66it/s, step size=1.28e-01, acc. prob=0.814]\n"
     ]
    },
    {
     "name": "stdout",
     "output_type": "stream",
     "text": [
      "diag:  {'sigma': OrderedDict([('n_eff', tensor(174.0612)), ('r_hat', tensor(1.0024))]), 'w': OrderedDict([('n_eff', tensor([164.5306, 141.0180, 185.1445, 154.3320, 306.7254, 236.7755, 173.9424,\n",
      "        232.1671,  94.5128, 218.4090])), ('r_hat', tensor([0.9986, 0.9983, 1.0044, 0.9980, 0.9986, 1.0001, 0.9980, 0.9984, 1.0052,\n",
      "        1.0013]))]), 'divergences': {'chain 0': []}, 'acceptance rate': {'chain 0': 0.978}}\n",
      "Registering the results in:  SX_IJCAI_HYPERPARAMETER_NOISY_2/2024-01-11/iter-0_n-4_k-2_m-8_sigma_w-0.23111111111111113_sigma_p-1.778888888888889_n_samples-500.yaml\n"
     ]
    },
    {
     "name": "stderr",
     "output_type": "stream",
     "text": [
      "Sample: 100%|████████████████████████████| 1000/1000 [01:39, 10.03it/s, step size=1.44e-01, acc. prob=0.618]\n"
     ]
    },
    {
     "name": "stdout",
     "output_type": "stream",
     "text": [
      "diag:  {'sigma': OrderedDict([('n_eff', tensor(101.6051)), ('r_hat', tensor(1.0110))]), 'w': OrderedDict([('n_eff', tensor([123.4907,  67.8846, 128.0399,  73.2553, 100.3438, 204.4006, 100.9910,\n",
      "        131.2291,  50.8889, 148.1340])), ('r_hat', tensor([1.0004, 1.0057, 0.9983, 0.9983, 1.0139, 0.9990, 1.0049, 0.9980, 1.0045,\n",
      "        0.9981]))]), 'divergences': {'chain 0': [272, 317, 338, 486, 490]}, 'acceptance rate': {'chain 0': 0.924}}\n",
      "Registering the results in:  SX_IJCAI_HYPERPARAMETER_NOISY_2/2024-01-11/iter-0_n-4_k-2_m-8_sigma_w-0.23111111111111113_sigma_p-2.0_n_samples-500.yaml\n"
     ]
    },
    {
     "name": "stderr",
     "output_type": "stream",
     "text": [
      "Sample: 100%|████████████████████████████| 1000/1000 [01:19, 12.52it/s, step size=1.31e-01, acc. prob=0.736]\n"
     ]
    },
    {
     "name": "stdout",
     "output_type": "stream",
     "text": [
      "diag:  {'sigma': OrderedDict([('n_eff', tensor(61.1447)), ('r_hat', tensor(1.0277))]), 'w': OrderedDict([('n_eff', tensor([111.3350, 138.5275, 214.1965, 108.2432, 100.4338, 150.4912, 121.9509,\n",
      "        234.3759, 192.4211, 272.2214])), ('r_hat', tensor([1.0322, 1.0005, 0.9982, 0.9999, 1.0078, 0.9986, 1.0229, 0.9981, 1.0119,\n",
      "        0.9982]))]), 'divergences': {'chain 0': [198, 268, 298, 459, 461, 463, 465, 469, 470, 474, 475, 476, 480, 484, 485, 486, 488, 489, 490, 491, 497]}, 'acceptance rate': {'chain 0': 0.948}}\n",
      "Registering the results in:  SX_IJCAI_HYPERPARAMETER_NOISY_2/2024-01-11/iter-0_n-4_k-2_m-8_sigma_w-0.45222222222222225_sigma_p-0.01_n_samples-500.yaml\n"
     ]
    },
    {
     "name": "stderr",
     "output_type": "stream",
     "text": [
      "Sample: 100%|████████████████████████████| 1000/1000 [01:11, 13.90it/s, step size=1.47e-01, acc. prob=0.777]\n"
     ]
    },
    {
     "name": "stdout",
     "output_type": "stream",
     "text": [
      "diag:  {'sigma': OrderedDict([('n_eff', tensor(141.8290)), ('r_hat', tensor(1.0262))]), 'w': OrderedDict([('n_eff', tensor([202.9971,  52.9896, 187.9822, 284.0283, 168.9377, 217.3991, 288.4241,\n",
      "        206.1011, 170.0410, 117.9812])), ('r_hat', tensor([1.0005, 1.0112, 1.0068, 1.0081, 0.9989, 0.9980, 1.0132, 0.9992, 1.0225,\n",
      "        1.0070]))]), 'divergences': {'chain 0': [201, 357, 372, 375, 379]}, 'acceptance rate': {'chain 0': 0.958}}\n",
      "Registering the results in:  SX_IJCAI_HYPERPARAMETER_NOISY_2/2024-01-11/iter-0_n-4_k-2_m-8_sigma_w-0.45222222222222225_sigma_p-0.23111111111111113_n_samples-500.yaml\n"
     ]
    },
    {
     "name": "stderr",
     "output_type": "stream",
     "text": [
      "Sample: 100%|████████████████████████████| 1000/1000 [01:18, 12.77it/s, step size=1.31e-01, acc. prob=0.749]\n"
     ]
    },
    {
     "name": "stdout",
     "output_type": "stream",
     "text": [
      "diag:  {'sigma': OrderedDict([('n_eff', tensor(67.7294)), ('r_hat', tensor(1.0097))]), 'w': OrderedDict([('n_eff', tensor([160.6378, 174.2027, 112.8927, 171.4883, 168.5344, 222.6621, 241.2282,\n",
      "        117.5451, 199.8118, 144.4676])), ('r_hat', tensor([1.0022, 0.9980, 1.0138, 1.0152, 0.9981, 0.9982, 1.0091, 1.0030, 0.9983,\n",
      "        0.9991]))]), 'divergences': {'chain 0': [92, 130, 163, 172, 181, 377]}, 'acceptance rate': {'chain 0': 0.93}}\n",
      "Registering the results in:  SX_IJCAI_HYPERPARAMETER_NOISY_2/2024-01-11/iter-0_n-4_k-2_m-8_sigma_w-0.45222222222222225_sigma_p-0.45222222222222225_n_samples-500.yaml\n"
     ]
    },
    {
     "name": "stderr",
     "output_type": "stream",
     "text": [
      "Sample: 100%|████████████████████████████| 1000/1000 [01:04, 15.60it/s, step size=1.80e-01, acc. prob=0.646]\n"
     ]
    },
    {
     "name": "stdout",
     "output_type": "stream",
     "text": [
      "diag:  {'sigma': OrderedDict([('n_eff', tensor(26.5731)), ('r_hat', tensor(1.0309))]), 'w': OrderedDict([('n_eff', tensor([104.7545, 138.0286,  22.9098, 187.6334,  35.5843, 163.0197, 153.9742,\n",
      "         77.5292,  14.1831,  39.7024])), ('r_hat', tensor([1.0004, 1.0455, 1.0664, 1.0092, 1.0037, 0.9982, 1.0184, 1.0042, 1.2090,\n",
      "        1.0647]))]), 'divergences': {'chain 0': [32, 66, 239, 258, 261, 272, 275, 279, 283, 284, 285, 286, 289, 291, 293, 295, 296, 297, 299, 301, 306, 308, 309, 313, 315, 316, 317, 319, 324, 325, 326, 329, 330, 331, 335, 340, 368, 462]}, 'acceptance rate': {'chain 0': 0.856}}\n",
      "Registering the results in:  SX_IJCAI_HYPERPARAMETER_NOISY_2/2024-01-11/iter-0_n-4_k-2_m-8_sigma_w-0.45222222222222225_sigma_p-0.6733333333333333_n_samples-500.yaml\n"
     ]
    },
    {
     "name": "stderr",
     "output_type": "stream",
     "text": [
      "Sample: 100%|████████████████████████████| 1000/1000 [01:21, 12.31it/s, step size=1.45e-01, acc. prob=0.757]\n"
     ]
    },
    {
     "name": "stdout",
     "output_type": "stream",
     "text": [
      "diag:  {'sigma': OrderedDict([('n_eff', tensor(89.2686)), ('r_hat', tensor(1.0332))]), 'w': OrderedDict([('n_eff', tensor([ 44.7273, 185.0617, 106.0544, 133.9533,  49.6346, 177.4131,  82.3098,\n",
      "        362.6923, 256.3565, 183.5559])), ('r_hat', tensor([1.0208, 1.0110, 1.0148, 0.9984, 1.0255, 0.9998, 1.0070, 1.0008, 1.0167,\n",
      "        1.0037]))]), 'divergences': {'chain 0': [209, 324, 327, 328, 331, 334, 335, 341, 342, 346, 351, 363, 366, 375, 415]}, 'acceptance rate': {'chain 0': 0.914}}\n",
      "Registering the results in:  SX_IJCAI_HYPERPARAMETER_NOISY_2/2024-01-11/iter-0_n-4_k-2_m-8_sigma_w-0.45222222222222225_sigma_p-0.8944444444444445_n_samples-500.yaml\n"
     ]
    },
    {
     "name": "stderr",
     "output_type": "stream",
     "text": [
      "Sample: 100%|████████████████████████████| 1000/1000 [01:03, 15.67it/s, step size=1.37e-01, acc. prob=0.891]\n"
     ]
    },
    {
     "name": "stdout",
     "output_type": "stream",
     "text": [
      "diag:  {'sigma': OrderedDict([('n_eff', tensor(278.1799)), ('r_hat', tensor(1.0028))]), 'w': OrderedDict([('n_eff', tensor([262.9858, 398.2926, 310.6308, 307.2127, 493.6873, 216.8323, 362.0697,\n",
      "        359.1640, 532.4870, 252.8417])), ('r_hat', tensor([0.9986, 0.9980, 1.0009, 0.9988, 1.0013, 1.0060, 0.9998, 1.0008, 0.9983,\n",
      "        0.9993]))]), 'divergences': {'chain 0': [268]}, 'acceptance rate': {'chain 0': 0.998}}\n",
      "Registering the results in:  SX_IJCAI_HYPERPARAMETER_NOISY_2/2024-01-11/iter-0_n-4_k-2_m-8_sigma_w-0.45222222222222225_sigma_p-1.1155555555555556_n_samples-500.yaml\n"
     ]
    },
    {
     "name": "stderr",
     "output_type": "stream",
     "text": [
      "Sample: 100%|████████████████████████████| 1000/1000 [01:32, 10.84it/s, step size=1.41e-01, acc. prob=0.839]\n"
     ]
    },
    {
     "name": "stdout",
     "output_type": "stream",
     "text": [
      "diag:  {'sigma': OrderedDict([('n_eff', tensor(177.4066)), ('r_hat', tensor(1.0020))]), 'w': OrderedDict([('n_eff', tensor([132.5631, 245.5470, 240.3976, 273.3298, 262.9781, 248.8003, 271.0408,\n",
      "        324.7484, 451.5024, 360.0138])), ('r_hat', tensor([1.0160, 0.9981, 0.9984, 1.0023, 0.9992, 1.0041, 0.9991, 1.0010, 1.0004,\n",
      "        0.9984]))]), 'divergences': {'chain 0': [204, 230, 302, 364, 381, 422, 429, 432, 435]}, 'acceptance rate': {'chain 0': 0.992}}\n",
      "Registering the results in:  SX_IJCAI_HYPERPARAMETER_NOISY_2/2024-01-11/iter-0_n-4_k-2_m-8_sigma_w-0.45222222222222225_sigma_p-1.3366666666666667_n_samples-500.yaml\n"
     ]
    },
    {
     "name": "stderr",
     "output_type": "stream",
     "text": [
      "Sample: 100%|████████████████████████████| 1000/1000 [01:29, 11.17it/s, step size=1.18e-01, acc. prob=0.782]\n"
     ]
    },
    {
     "name": "stdout",
     "output_type": "stream",
     "text": [
      "diag:  {'sigma': OrderedDict([('n_eff', tensor(82.2572)), ('r_hat', tensor(1.0057))]), 'w': OrderedDict([('n_eff', tensor([234.1595, 267.9769, 107.3740,  84.6863, 304.0123, 285.6431, 173.5862,\n",
      "         58.3135, 166.1743,  40.5055])), ('r_hat', tensor([1.0040, 1.0000, 1.0573, 1.0121, 0.9986, 0.9980, 1.0152, 1.0510, 1.0037,\n",
      "        1.0066]))]), 'divergences': {'chain 0': [261, 270, 271, 291, 302, 303, 361]}, 'acceptance rate': {'chain 0': 0.92}}\n",
      "Registering the results in:  SX_IJCAI_HYPERPARAMETER_NOISY_2/2024-01-11/iter-0_n-4_k-2_m-8_sigma_w-0.45222222222222225_sigma_p-1.557777777777778_n_samples-500.yaml\n"
     ]
    },
    {
     "name": "stderr",
     "output_type": "stream",
     "text": [
      "Sample: 100%|████████████████████████████| 1000/1000 [01:49,  9.13it/s, step size=9.03e-02, acc. prob=0.861]\n"
     ]
    },
    {
     "name": "stdout",
     "output_type": "stream",
     "text": [
      "diag:  {'sigma': OrderedDict([('n_eff', tensor(157.0060)), ('r_hat', tensor(0.9985))]), 'w': OrderedDict([('n_eff', tensor([274.3228, 172.4561, 119.3189, 263.4402, 207.0780, 205.4494, 245.8651,\n",
      "        222.7396, 214.7764, 250.8976])), ('r_hat', tensor([0.9998, 1.0000, 0.9991, 1.0019, 1.0077, 0.9987, 0.9991, 0.9997, 0.9997,\n",
      "        1.0020]))]), 'divergences': {'chain 0': []}, 'acceptance rate': {'chain 0': 0.994}}\n",
      "Registering the results in:  SX_IJCAI_HYPERPARAMETER_NOISY_2/2024-01-11/iter-0_n-4_k-2_m-8_sigma_w-0.45222222222222225_sigma_p-1.778888888888889_n_samples-500.yaml\n"
     ]
    },
    {
     "name": "stderr",
     "output_type": "stream",
     "text": [
      "Sample: 100%|████████████████████████████| 1000/1000 [01:39, 10.09it/s, step size=1.16e-01, acc. prob=0.796]\n"
     ]
    },
    {
     "name": "stdout",
     "output_type": "stream",
     "text": [
      "diag:  {'sigma': OrderedDict([('n_eff', tensor(112.6432)), ('r_hat', tensor(0.9981))]), 'w': OrderedDict([('n_eff', tensor([190.1288, 193.2382, 132.1214, 210.6869, 195.7713, 260.0552, 240.2640,\n",
      "        110.8360, 310.3079, 239.1387])), ('r_hat', tensor([0.9996, 1.0022, 1.0016, 1.0000, 0.9986, 0.9983, 1.0073, 1.0049, 1.0000,\n",
      "        1.0026]))]), 'divergences': {'chain 0': [23, 99, 388, 391, 456, 461, 462]}, 'acceptance rate': {'chain 0': 0.962}}\n",
      "Registering the results in:  SX_IJCAI_HYPERPARAMETER_NOISY_2/2024-01-11/iter-0_n-4_k-2_m-8_sigma_w-0.45222222222222225_sigma_p-2.0_n_samples-500.yaml\n"
     ]
    },
    {
     "name": "stderr",
     "output_type": "stream",
     "text": [
      "Sample: 100%|████████████████████████████| 1000/1000 [01:12, 13.78it/s, step size=1.69e-01, acc. prob=0.769]\n"
     ]
    },
    {
     "name": "stdout",
     "output_type": "stream",
     "text": [
      "diag:  {'sigma': OrderedDict([('n_eff', tensor(170.1349)), ('r_hat', tensor(1.0029))]), 'w': OrderedDict([('n_eff', tensor([224.9822, 211.7965, 147.9488, 259.7933, 275.4829, 212.1273, 246.4505,\n",
      "        210.4173, 329.3301, 207.4398])), ('r_hat', tensor([0.9980, 1.0056, 0.9981, 0.9988, 1.0103, 0.9989, 0.9985, 1.0001, 1.0061,\n",
      "        0.9991]))]), 'divergences': {'chain 0': [51, 419, 426]}, 'acceptance rate': {'chain 0': 0.984}}\n",
      "Registering the results in:  SX_IJCAI_HYPERPARAMETER_NOISY_2/2024-01-11/iter-0_n-4_k-2_m-8_sigma_w-0.6733333333333333_sigma_p-0.01_n_samples-500.yaml\n"
     ]
    },
    {
     "name": "stderr",
     "output_type": "stream",
     "text": [
      "Sample: 100%|████████████████████████████| 1000/1000 [00:56, 17.71it/s, step size=1.88e-01, acc. prob=0.749]\n"
     ]
    },
    {
     "name": "stdout",
     "output_type": "stream",
     "text": [
      "diag:  {'sigma': OrderedDict([('n_eff', tensor(91.9482)), ('r_hat', tensor(1.0013))]), 'w': OrderedDict([('n_eff', tensor([150.4723, 202.0551, 170.3948, 313.5256, 265.2138, 273.1558, 195.3305,\n",
      "        242.6461, 361.1254, 150.3171])), ('r_hat', tensor([1.0080, 0.9997, 1.0178, 1.0134, 0.9987, 1.0029, 1.0060, 1.0055, 0.9984,\n",
      "        1.0060]))]), 'divergences': {'chain 0': [122, 131, 284, 375, 437]}, 'acceptance rate': {'chain 0': 0.926}}\n",
      "Registering the results in:  SX_IJCAI_HYPERPARAMETER_NOISY_2/2024-01-11/iter-0_n-4_k-2_m-8_sigma_w-0.6733333333333333_sigma_p-0.23111111111111113_n_samples-500.yaml\n"
     ]
    },
    {
     "name": "stderr",
     "output_type": "stream",
     "text": [
      "Sample: 100%|████████████████████████████| 1000/1000 [01:26, 11.51it/s, step size=1.03e-01, acc. prob=0.906]\n"
     ]
    },
    {
     "name": "stdout",
     "output_type": "stream",
     "text": [
      "diag:  {'sigma': OrderedDict([('n_eff', tensor(134.0457)), ('r_hat', tensor(1.0069))]), 'w': OrderedDict([('n_eff', tensor([234.6352, 147.2418, 211.6400, 210.0715, 225.0570, 184.1111, 248.5876,\n",
      "        482.4297, 295.1893, 403.5619])), ('r_hat', tensor([1.0049, 1.0067, 0.9980, 0.9983, 0.9983, 1.0000, 0.9981, 0.9992, 0.9987,\n",
      "        0.9991]))]), 'divergences': {'chain 0': [0]}, 'acceptance rate': {'chain 0': 0.988}}\n",
      "Registering the results in:  SX_IJCAI_HYPERPARAMETER_NOISY_2/2024-01-11/iter-0_n-4_k-2_m-8_sigma_w-0.6733333333333333_sigma_p-0.45222222222222225_n_samples-500.yaml\n"
     ]
    },
    {
     "name": "stderr",
     "output_type": "stream",
     "text": [
      "Sample: 100%|████████████████████████████| 1000/1000 [00:57, 17.54it/s, step size=2.50e-01, acc. prob=0.665]\n"
     ]
    },
    {
     "name": "stdout",
     "output_type": "stream",
     "text": [
      "diag:  {'sigma': OrderedDict([('n_eff', tensor(89.7801)), ('r_hat', tensor(1.0521))]), 'w': OrderedDict([('n_eff', tensor([220.4551, 221.5406, 158.8389, 150.1666, 134.5301, 210.0111,  87.6595,\n",
      "        252.9709, 192.8606, 203.3518])), ('r_hat', tensor([1.0033, 0.9993, 1.0038, 1.0028, 1.0077, 0.9982, 1.0375, 1.0068, 0.9988,\n",
      "        0.9999]))]), 'divergences': {'chain 0': [6, 7, 10, 69, 89, 106, 115, 187, 251, 310, 329, 422, 441, 495]}, 'acceptance rate': {'chain 0': 0.876}}\n",
      "Registering the results in:  SX_IJCAI_HYPERPARAMETER_NOISY_2/2024-01-11/iter-0_n-4_k-2_m-8_sigma_w-0.6733333333333333_sigma_p-0.6733333333333333_n_samples-500.yaml\n"
     ]
    },
    {
     "name": "stderr",
     "output_type": "stream",
     "text": [
      "Sample:  83%|████████████████████████▏    | 832/1000 [00:46, 21.06it/s, step size=2.07e-01, acc. prob=0.619]"
     ]
    }
   ],
   "source": [
    "import time\n",
    "\n",
    "TEST_NAME = \"SX_IJCAI_HYPERPARAMETER_NOISY_2\"\n",
    "REPLACE = False\n",
    "\n",
    "n = 4\n",
    "sigma_weights = 1\n",
    "sigma_w_vals = np.linspace(1e-2, 2, 10)\n",
    "sigma_p_vals =  np.linspace(1e-2, 2, 10)\n",
    "n_samples = 500\n",
    "k=2\n",
    "\n",
    "for iter_ in range(10):\n",
    "    for sigma_w in sigma_p_vals:\n",
    "        for sigma_p in sigma_w_vals:\n",
    "            for m in [2**(n-1)]:\n",
    "                run_d = {\n",
    "                    \"iter\":iter_,\n",
    "                    \"n\": n,\n",
    "                    \"k\": k,\n",
    "                    \"m\": m,\n",
    "                    \"sigma_w\": float(sigma_w),\n",
    "                    \"sigma_p\": float(sigma_p),\n",
    "                    \"n_samples\": n_samples\n",
    "                }\n",
    "                found = find_experiment_file(run_d, TEST_NAME)\n",
    "                if found:\n",
    "                    date = found\n",
    "                    print(f\"Found file: {file_name}\")\n",
    "                    if REPLACE:\n",
    "                        print('Replacing it...')\n",
    "                    else:\n",
    "                        continue\n",
    "                else:\n",
    "                    file_name = compute_experiment_file_name(run_d, TEST_NAME)\n",
    "                    print(\"Registering the results in: \", file_name)\n",
    "                ####\n",
    "                theta = generate_additive_theta(n, k)\n",
    "                weights = generate_normal_weights(theta, sigma_weights)\n",
    "                alternatives = generate_random_alternatives_matrix(m, n)\n",
    "                ranks = compute_ws_ranks(alternatives, theta, weights) + np.random.normal(0, 1)\n",
    "                t_sv = compute_semivalues(n, theta, weights, lambda x:1)\n",
    "                preferences = PreferenceModel(alternatives, ranks)\n",
    "                data = preferences.generate_preference_matrix(theta)\n",
    "                data = torch.tensor(data).float()\n",
    "                t = time.time()\n",
    "                model = posterior_sampling_model(data, sigma_w=sigma_w, sigma_p=sigma_p)\n",
    "                diag, sampled_weights, sigmas = sample_model(model, data, \"w\", \"sigma\", warmup_steps=500, num_samples=n_samples, return_diag=True)\n",
    "                t = time.time() - t\n",
    "                accs_d = get_acc_distribution(data, sampled_weights, sigmas)\n",
    "                predicted_rankings = [np.argsort(compute_semivalues(n, theta, weights, lambda x:1))[::-1] for weights in sampled_weights]\n",
    "                kt_d = get_kt_distribution(predicted_rankings, np.argsort(t_sv))\n",
    "                ###\n",
    "                \n",
    "                file_path = record_experiment_results(run_d, TEST_NAME)\n",
    "                \n",
    "                run_d[\"time\"] = t\n",
    "                run_d[\"weights\"] = weights.tolist()\n",
    "                run_d[\"predicted_rankings\"] = [i.tolist() for i in predicted_rankings]\n",
    "                run_d[\"accuracy_distribution\"] = [i.tolist() for i in accs_d]\n",
    "                run_d[\"kt_d\"] = [i.tolist() for i in kt_d]\n",
    "                run_d[\"acceptance_rate\"] = diag[\"acceptance rate\"][\"chain 0\"]\n",
    "                run_d[\"w_eff\"] = [float(i) for i in diag[\"w\"][\"n_eff\"].numpy()]\n",
    "                run_d[\"w_rhat\"] = [float(i) for i in diag[\"w\"][\"r_hat\"].numpy()]\n",
    "                \n",
    "                print(\"diag: \", diag)\n",
    "                with open(file_path, 'w') as file:\n",
    "                    yaml.dump(run_d, file, default_flow_style=False)\n",
    "    "
   ]
  },
  {
   "cell_type": "code",
   "execution_count": null,
   "id": "f408ad62-8944-474a-8e0d-c6fd22cf1b8f",
   "metadata": {},
   "outputs": [],
   "source": []
  }
 ],
 "metadata": {
  "kernelspec": {
   "display_name": "Python 3 (ipykernel)",
   "language": "python",
   "name": "python3"
  },
  "language_info": {
   "codemirror_mode": {
    "name": "ipython",
    "version": 3
   },
   "file_extension": ".py",
   "mimetype": "text/x-python",
   "name": "python",
   "nbconvert_exporter": "python",
   "pygments_lexer": "ipython3",
   "version": "3.9.10"
  }
 },
 "nbformat": 4,
 "nbformat_minor": 5
}
