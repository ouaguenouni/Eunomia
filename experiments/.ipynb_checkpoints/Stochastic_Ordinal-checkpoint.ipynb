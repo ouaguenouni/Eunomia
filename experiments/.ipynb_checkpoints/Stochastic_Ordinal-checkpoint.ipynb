{
 "cells": [
  {
   "cell_type": "code",
   "execution_count": 1,
   "id": "a68cba7b-7d72-4292-9c12-3e2fa755dbc6",
   "metadata": {},
   "outputs": [],
   "source": [
    "import itertools\n",
    "import random\n",
    "import networkx as nx\n",
    "\n",
    "def generate_random_graph(n, m, p_edge):\n",
    "    # Step 1: Generate the set F = {0, 1, ..., n}\n",
    "    F = set(range(n + 1))\n",
    "\n",
    "    # Step 2: Sample m subsets from F and store in tuples\n",
    "    all_subsets = list(itertools.chain.from_iterable(itertools.combinations(F, r) for r in range(len(F)+1)))\n",
    "    vertices = random.sample(all_subsets, m)  # Sample m subsets\n",
    "\n",
    "    # Step 3: Create a graph with these tuples as vertices\n",
    "    G = nx.Graph()\n",
    "    G.add_nodes_from(vertices)\n",
    "\n",
    "    # Step 4: Add edges between these vertices with probability p_edge\n",
    "    for i in range(len(vertices)):\n",
    "        for j in range(i + 1, len(vertices)):\n",
    "            if random.random() < p_edge:  # With probability p_edge\n",
    "                G.add_edge(vertices[i], vertices[j])\n",
    "\n",
    "    return G\n",
    "\n",
    "# Example usage\n",
    "n = 5   # Elements in set F\n",
    "m = 10  # Number of vertices (subsets) to sample\n",
    "p_edge = 0.3  # Probability of creating an edge\n",
    "\n",
    "G = generate_random_graph(n, m, p_edge)\n",
    "\n",
    "# Now G is a graph based on your requirements\n"
   ]
  },
  {
   "cell_type": "code",
   "execution_count": null,
   "id": "a9421741-3fbf-4916-a9bc-e155483dfb4d",
   "metadata": {},
   "outputs": [],
   "source": []
  }
 ],
 "metadata": {
  "kernelspec": {
   "display_name": "Python 3.7",
   "language": "python",
   "name": "py37"
  },
  "language_info": {
   "codemirror_mode": {
    "name": "ipython",
    "version": 3
   },
   "file_extension": ".py",
   "mimetype": "text/x-python",
   "name": "python",
   "nbconvert_exporter": "python",
   "pygments_lexer": "ipython3",
   "version": "3.7.12"
  }
 },
 "nbformat": 4,
 "nbformat_minor": 5
}
