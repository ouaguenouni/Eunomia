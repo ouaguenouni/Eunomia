{
 "cells": [
  {
   "cell_type": "code",
   "execution_count": 3,
   "id": "1af79d22-216c-4905-b9cb-66ce3d970ad3",
   "metadata": {},
   "outputs": [
    {
     "name": "stdout",
     "output_type": "stream",
     "text": [
      "Solution: [0.0, 0.0]\n"
     ]
    }
   ],
   "source": [
    "from ortools.linear_solver import pywraplp\n",
    "\n",
    "def solve_linear_inequalities(A, b):\n",
    "    \"\"\"\n",
    "    Solves the system of linear inequalities Ax < b using Google OR-Tools.\n",
    "    \n",
    "    Args:\n",
    "    A (list of list of floats): Coefficient matrix\n",
    "    b (list of floats): Right-hand side vector\n",
    "\n",
    "    Returns:\n",
    "    solution (list of floats): A feasible solution to Ax < b if one exists, otherwise None\n",
    "    \"\"\"\n",
    "    # Number of variables and constraints\n",
    "    num_vars = len(A[0])\n",
    "    num_constraints = len(b)\n",
    "\n",
    "    # Create the linear solver with the GLOP backend.\n",
    "    solver = pywraplp.Solver.CreateSolver('GLOP')\n",
    "\n",
    "    # Create variables\n",
    "    x = [solver.NumVar(-solver.infinity(), solver.infinity(), f'x{i}') for i in range(num_vars)]\n",
    "\n",
    "    # Add constraints: Ax < b\n",
    "    for i in range(num_constraints):\n",
    "        constraint = solver.RowConstraint(-solver.infinity(), b[i], '')\n",
    "        for j in range(num_vars):\n",
    "            constraint.SetCoefficient(x[j], A[i][j])\n",
    "\n",
    "    # Objective function: minimize 0 * x\n",
    "    objective = solver.Objective()\n",
    "    for xi in x:\n",
    "        objective.SetCoefficient(xi, 0)\n",
    "    objective.SetMinimization()\n",
    "\n",
    "    # Solve the problem\n",
    "    status = solver.Solve()\n",
    "\n",
    "    if status == pywraplp.Solver.OPTIMAL:\n",
    "        # If a solution exists, return the solution\n",
    "        return [xi.solution_value() for xi in x]\n",
    "    else:\n",
    "        # If the problem has no solution\n",
    "        return None\n",
    "\n",
    "# Example usage\n",
    "A = [[1, 2], [3, 4], [-1, 1]]\n",
    "b = [4, 10, 2]\n",
    "solution = solve_linear_inequalities(A, b)\n",
    "\n",
    "print(\"Solution:\", solution)\n"
   ]
  },
  {
   "cell_type": "code",
   "execution_count": null,
   "id": "7e272111-4463-4a9f-9d5b-65a93e6cfc80",
   "metadata": {},
   "outputs": [],
   "source": []
  }
 ],
 "metadata": {
  "kernelspec": {
   "display_name": "Python 3 (ipykernel)",
   "language": "python",
   "name": "python3"
  },
  "language_info": {
   "codemirror_mode": {
    "name": "ipython",
    "version": 3
   },
   "file_extension": ".py",
   "mimetype": "text/x-python",
   "name": "python",
   "nbconvert_exporter": "python",
   "pygments_lexer": "ipython3",
   "version": "3.9.10"
  }
 },
 "nbformat": 4,
 "nbformat_minor": 5
}
