{
 "cells": [
  {
   "cell_type": "code",
   "execution_count": 1,
   "id": "bf609d15-3374-4a11-b70d-ec4022f5174e",
   "metadata": {},
   "outputs": [
    {
     "name": "stdout",
     "output_type": "stream",
     "text": [
      "Cloning into 'Eunomia'...\n",
      "remote: Enumerating objects: 532, done.\u001b[K\n",
      "remote: Counting objects: 100% (532/532), done.\u001b[K\n",
      "remote: Compressing objects: 100% (204/204), done.\u001b[K\n",
      "remote: Total 532 (delta 396), reused 458 (delta 322), pack-reused 0\u001b[K\n",
      "Receiving objects: 100% (532/532), 3.49 MiB | 2.28 MiB/s, done.\n",
      "Resolving deltas: 100% (396/396), done.\n",
      "Requirement already satisfied: torch in /home/mohamed/miniconda3/lib/python3.9/site-packages (from -r Eunomia/requirements.txt (line 1)) (1.11.0)\n",
      "Requirement already satisfied: pyro-ppl in /home/mohamed/miniconda3/lib/python3.9/site-packages (from -r Eunomia/requirements.txt (line 2)) (1.8.6)\n",
      "Requirement already satisfied: cvxpy in /home/mohamed/miniconda3/lib/python3.9/site-packages (from -r Eunomia/requirements.txt (line 3)) (1.1.18)\n",
      "Requirement already satisfied: typing_extensions in /home/mohamed/miniconda3/lib/python3.9/site-packages (from torch->-r Eunomia/requirements.txt (line 1)) (4.8.0)\n",
      "Requirement already satisfied: numpy>=1.7 in /home/mohamed/miniconda3/lib/python3.9/site-packages (from pyro-ppl->-r Eunomia/requirements.txt (line 2)) (1.26.2)\n",
      "Requirement already satisfied: tqdm>=4.36 in /home/mohamed/miniconda3/lib/python3.9/site-packages (from pyro-ppl->-r Eunomia/requirements.txt (line 2)) (4.62.3)\n",
      "Requirement already satisfied: opt-einsum>=2.3.2 in /home/mohamed/miniconda3/lib/python3.9/site-packages (from pyro-ppl->-r Eunomia/requirements.txt (line 2)) (3.3.0)\n",
      "Requirement already satisfied: pyro-api>=0.1.1 in /home/mohamed/miniconda3/lib/python3.9/site-packages (from pyro-ppl->-r Eunomia/requirements.txt (line 2)) (0.1.2)\n",
      "Requirement already satisfied: scipy>=1.1.0 in /home/mohamed/miniconda3/lib/python3.9/site-packages (from cvxpy->-r Eunomia/requirements.txt (line 3)) (1.11.3)\n",
      "Requirement already satisfied: ecos>=2 in /home/mohamed/miniconda3/lib/python3.9/site-packages (from cvxpy->-r Eunomia/requirements.txt (line 3)) (2.0.10)\n",
      "Requirement already satisfied: scs>=1.1.6 in /home/mohamed/miniconda3/lib/python3.9/site-packages (from cvxpy->-r Eunomia/requirements.txt (line 3)) (3.1.0)\n",
      "Requirement already satisfied: osqp>=0.4.1 in /home/mohamed/miniconda3/lib/python3.9/site-packages (from cvxpy->-r Eunomia/requirements.txt (line 3)) (0.6.2.post4)\n",
      "Requirement already satisfied: qdldl in /home/mohamed/miniconda3/lib/python3.9/site-packages (from osqp>=0.4.1->cvxpy->-r Eunomia/requirements.txt (line 3)) (0.1.5.post0)\n"
     ]
    }
   ],
   "source": [
    "!rm -rf Eunomia\n",
    "!git clone https://github.com/ouaguenouni/Eunomia\n",
    "!pip install -r Eunomia/requirements.txt"
   ]
  },
  {
   "cell_type": "code",
   "execution_count": 3,
   "id": "3abe93fb-ed5a-4118-9efd-7297135edd50",
   "metadata": {},
   "outputs": [],
   "source": [
    "import matplotlib.pyplot as plt\n",
    "import numpy as np\n",
    "import pandas as pd\n",
    "import seaborn as sns\n",
    "from Eunomia.preferences import *\n",
    "from Eunomia.additive_functions import *\n",
    "from Eunomia.alternatives import *\n",
    "from Eunomia.sampling import *\n",
    "from Eunomia.mcmc import *\n",
    "from Eunomia.degree import *\n",
    "from Eunomia.experiments import *\n"
   ]
  },
  {
   "cell_type": "code",
   "execution_count": null,
   "id": "f047e255-1b7c-478d-96cf-b4f87f1cdc6c",
   "metadata": {},
   "outputs": [],
   "source": []
  },
  {
   "cell_type": "code",
   "execution_count": 6,
   "id": "96e83ae8-91c1-4721-b8be-bf3789a45c57",
   "metadata": {},
   "outputs": [
    {
     "name": "stdout",
     "output_type": "stream",
     "text": [
      "Registering the results in:  SX_IJCAI_M/2024-01-10/iter-0_n-5_k-2_m-2_sigma_w-1.0_sigma_p-1.0_n_samples-500.yaml\n"
     ]
    },
    {
     "name": "stderr",
     "output_type": "stream",
     "text": [
      "Sample: 100%|████████████████████████████| 1000/1000 [00:40, 24.45it/s, step size=3.35e-01, acc. prob=0.819]\n"
     ]
    },
    {
     "name": "stdout",
     "output_type": "stream",
     "text": [
      "diag:  {'sigma': OrderedDict([('n_eff', tensor(555.7994)), ('r_hat', tensor(0.9984))]), 'w': OrderedDict([('n_eff', tensor([536.5211, 553.8564, 532.0381, 347.8598, 686.3341, 618.1019, 566.5269,\n",
      "        544.1819, 497.0947, 756.5322, 629.0866, 528.3118, 684.3365, 651.7744,\n",
      "        532.2642])), ('r_hat', tensor([0.9987, 0.9987, 0.9981, 0.9988, 1.0064, 0.9982, 1.0009, 0.9994, 1.0017,\n",
      "        1.0021, 0.9983, 0.9982, 1.0012, 0.9980, 0.9982]))]), 'divergences': {'chain 0': [30, 44, 89, 159, 178, 187, 191, 257, 370, 385]}, 'acceptance rate': {'chain 0': 0.994}}\n",
      "Registering the results in:  SX_IJCAI_M/2024-01-10/iter-0_n-5_k-2_m-3_sigma_w-1.0_sigma_p-1.0_n_samples-500.yaml\n"
     ]
    },
    {
     "name": "stderr",
     "output_type": "stream",
     "text": [
      "Sample: 100%|████████████████████████████| 1000/1000 [00:57, 17.41it/s, step size=2.47e-01, acc. prob=0.793]\n"
     ]
    },
    {
     "name": "stdout",
     "output_type": "stream",
     "text": [
      "diag:  {'sigma': OrderedDict([('n_eff', tensor(347.4546)), ('r_hat', tensor(1.0011))]), 'w': OrderedDict([('n_eff', tensor([447.0719, 380.9706, 357.3636, 359.6635, 352.0364, 392.0301, 385.4454,\n",
      "        376.0336, 343.5939, 376.1972, 330.7195, 494.1231, 515.3904, 340.3011,\n",
      "        491.1231])), ('r_hat', tensor([1.0019, 0.9980, 0.9985, 1.0003, 0.9987, 0.9984, 0.9982, 1.0012, 0.9980,\n",
      "        0.9983, 0.9983, 0.9984, 1.0021, 0.9986, 1.0033]))]), 'divergences': {'chain 0': [52, 54, 245, 388, 431]}, 'acceptance rate': {'chain 0': 0.984}}\n",
      "Registering the results in:  SX_IJCAI_M/2024-01-10/iter-0_n-5_k-2_m-4_sigma_w-1.0_sigma_p-1.0_n_samples-500.yaml\n"
     ]
    },
    {
     "name": "stderr",
     "output_type": "stream",
     "text": [
      "Sample: 100%|████████████████████████████| 1000/1000 [01:11, 14.05it/s, step size=1.86e-01, acc. prob=0.731]\n"
     ]
    },
    {
     "name": "stdout",
     "output_type": "stream",
     "text": [
      "diag:  {'sigma': OrderedDict([('n_eff', tensor(197.7026)), ('r_hat', tensor(1.0063))]), 'w': OrderedDict([('n_eff', tensor([122.3503, 185.4528, 321.2391,  70.0457, 303.5060,  94.5835, 220.1563,\n",
      "        189.1690, 134.0005, 351.6260, 100.8926, 280.3391, 238.4712, 344.7759,\n",
      "        199.3007])), ('r_hat', tensor([1.0123, 0.9980, 1.0028, 1.0064, 0.9980, 1.0257, 1.0025, 1.0078, 1.0018,\n",
      "        0.9982, 1.0264, 1.0064, 1.0011, 1.0144, 1.0123]))]), 'divergences': {'chain 0': [52, 78, 151, 154, 216, 217, 218, 219, 262, 311, 338, 340, 377]}, 'acceptance rate': {'chain 0': 0.954}}\n",
      "Registering the results in:  SX_IJCAI_M/2024-01-10/iter-0_n-5_k-2_m-5_sigma_w-1.0_sigma_p-1.0_n_samples-500.yaml\n"
     ]
    },
    {
     "name": "stderr",
     "output_type": "stream",
     "text": [
      "Sample: 100%|████████████████████████████| 1000/1000 [01:06, 15.06it/s, step size=2.04e-01, acc. prob=0.751]\n"
     ]
    },
    {
     "name": "stdout",
     "output_type": "stream",
     "text": [
      "diag:  {'sigma': OrderedDict([('n_eff', tensor(250.4097)), ('r_hat', tensor(0.9987))]), 'w': OrderedDict([('n_eff', tensor([223.3328, 215.8486, 197.7704, 184.3002, 304.0543, 156.2037, 170.9415,\n",
      "        355.6388, 222.0096, 166.0095, 282.5152, 211.0988, 275.1025, 285.8377,\n",
      "        265.7278])), ('r_hat', tensor([1.0071, 0.9993, 1.0028, 1.0178, 0.9987, 1.0023, 0.9980, 1.0103, 0.9990,\n",
      "        0.9982, 1.0023, 1.0004, 1.0028, 0.9988, 0.9984]))]), 'divergences': {'chain 0': [15, 39, 85, 129, 150, 206, 238, 241, 258, 264, 265, 266, 276, 277, 366, 367, 368, 393, 394, 488]}, 'acceptance rate': {'chain 0': 0.984}}\n",
      "Registering the results in:  SX_IJCAI_M/2024-01-10/iter-0_n-5_k-2_m-6_sigma_w-1.0_sigma_p-1.0_n_samples-500.yaml\n"
     ]
    },
    {
     "name": "stderr",
     "output_type": "stream",
     "text": [
      "Sample: 100%|████████████████████████████| 1000/1000 [01:32, 10.81it/s, step size=1.25e-01, acc. prob=0.752]\n"
     ]
    },
    {
     "name": "stdout",
     "output_type": "stream",
     "text": [
      "diag:  {'sigma': OrderedDict([('n_eff', tensor(173.8035)), ('r_hat', tensor(0.9992))]), 'w': OrderedDict([('n_eff', tensor([332.5499, 238.4829, 347.7569, 223.6027, 180.1867, 236.8983, 341.3916,\n",
      "        277.9398, 321.4510, 210.6310, 416.3570, 250.3246, 203.7428, 191.9263,\n",
      "        176.2171])), ('r_hat', tensor([1.0056, 1.0027, 0.9982, 1.0036, 0.9982, 1.0030, 0.9980, 1.0040, 0.9985,\n",
      "        1.0020, 1.0168, 1.0078, 1.0041, 0.9980, 1.0041]))]), 'divergences': {'chain 0': [194, 398, 399, 400, 402, 405, 408, 410, 413, 414, 419, 430, 465]}, 'acceptance rate': {'chain 0': 0.984}}\n",
      "Registering the results in:  SX_IJCAI_M/2024-01-10/iter-0_n-5_k-2_m-7_sigma_w-1.0_sigma_p-1.0_n_samples-500.yaml\n"
     ]
    },
    {
     "name": "stderr",
     "output_type": "stream",
     "text": [
      "Sample: 100%|████████████████████████████| 1000/1000 [01:45,  9.48it/s, step size=1.17e-01, acc. prob=0.757]\n"
     ]
    },
    {
     "name": "stdout",
     "output_type": "stream",
     "text": [
      "diag:  {'sigma': OrderedDict([('n_eff', tensor(210.1591)), ('r_hat', tensor(1.0211))]), 'w': OrderedDict([('n_eff', tensor([223.3074, 230.4125, 265.5230, 448.7556, 191.1557, 119.2853, 372.2004,\n",
      "        128.3843, 276.9554, 201.9461, 246.5246, 338.4928, 248.3486, 204.6330,\n",
      "        109.3559])), ('r_hat', tensor([1.0046, 0.9994, 0.9980, 0.9996, 1.0094, 0.9989, 0.9983, 1.0009, 0.9981,\n",
      "        1.0260, 0.9989, 1.0031, 1.0075, 1.0111, 1.0188]))]), 'divergences': {'chain 0': [227, 271, 442, 478]}, 'acceptance rate': {'chain 0': 0.948}}\n",
      "Registering the results in:  SX_IJCAI_M/2024-01-10/iter-0_n-5_k-2_m-8_sigma_w-1.0_sigma_p-1.0_n_samples-500.yaml\n"
     ]
    },
    {
     "name": "stderr",
     "output_type": "stream",
     "text": [
      "Sample: 100%|████████████████████████████| 1000/1000 [01:35, 10.51it/s, step size=7.87e-02, acc. prob=0.751]\n"
     ]
    },
    {
     "name": "stdout",
     "output_type": "stream",
     "text": [
      "diag:  {'sigma': OrderedDict([('n_eff', tensor(33.2572)), ('r_hat', tensor(1.0423))]), 'w': OrderedDict([('n_eff', tensor([439.1226, 432.2454, 308.3935, 249.3569, 208.7507, 210.5304,  15.3479,\n",
      "         78.9359, 256.3927, 212.2776, 206.1101,  24.0645,  14.5135, 320.1420,\n",
      "        284.2721])), ('r_hat', tensor([0.9984, 0.9980, 0.9980, 1.0005, 0.9982, 1.0248, 1.1082, 1.0159, 0.9985,\n",
      "        1.0007, 1.0046, 1.0479, 1.0855, 0.9992, 0.9993]))]), 'divergences': {'chain 0': [375, 384, 386, 387, 388, 392, 394, 395, 398, 399, 404, 407, 408, 411, 412, 416, 417, 420, 425, 426, 427, 429, 430, 432, 435, 436, 443]}, 'acceptance rate': {'chain 0': 0.936}}\n",
      "Registering the results in:  SX_IJCAI_M/2024-01-10/iter-0_n-5_k-2_m-9_sigma_w-1.0_sigma_p-1.0_n_samples-500.yaml\n"
     ]
    },
    {
     "name": "stderr",
     "output_type": "stream",
     "text": [
      "Sample: 100%|████████████████████████████| 1000/1000 [01:33, 10.67it/s, step size=8.64e-02, acc. prob=0.776]\n"
     ]
    },
    {
     "name": "stdout",
     "output_type": "stream",
     "text": [
      "diag:  {'sigma': OrderedDict([('n_eff', tensor(177.3762)), ('r_hat', tensor(0.9980))]), 'w': OrderedDict([('n_eff', tensor([140.7658, 169.2051, 303.2416, 157.3682, 197.0993, 224.4508, 170.8264,\n",
      "        151.1356, 280.1217, 224.4014, 124.1843, 336.8135, 201.8605, 320.4485,\n",
      "        143.4702])), ('r_hat', tensor([0.9997, 0.9980, 0.9980, 1.0071, 1.0029, 1.0120, 0.9980, 0.9980, 0.9993,\n",
      "        1.0052, 1.0006, 1.0243, 0.9981, 1.0041, 0.9982]))]), 'divergences': {'chain 0': [45, 158, 269, 271, 289]}, 'acceptance rate': {'chain 0': 0.988}}\n",
      "Registering the results in:  SX_IJCAI_M/2024-01-10/iter-0_n-5_k-2_m-10_sigma_w-1.0_sigma_p-1.0_n_samples-500.yaml\n"
     ]
    },
    {
     "name": "stderr",
     "output_type": "stream",
     "text": [
      "Sample: 100%|████████████████████████████| 1000/1000 [02:17,  7.28it/s, step size=7.63e-02, acc. prob=0.606]\n",
      "Sample:  42%|████████████                 | 831/2000 [51:25,  3.71s/it, step size=7.53e-02, acc. prob=0.768]\n"
     ]
    },
    {
     "name": "stdout",
     "output_type": "stream",
     "text": [
      "diag:  {'sigma': OrderedDict([('n_eff', tensor(44.0010)), ('r_hat', tensor(1.0125))]), 'w': OrderedDict([('n_eff', tensor([ 37.0956,  28.3582,  66.1184, 114.6466, 166.6736,  96.9735,  65.3525,\n",
      "         35.2748, 102.2534,  23.0269, 213.9941,  63.9700,  96.7459,  50.2169,\n",
      "         46.7299])), ('r_hat', tensor([0.9980, 0.9985, 1.0142, 0.9981, 1.0029, 1.0052, 1.0185, 1.0259, 1.0019,\n",
      "        1.0367, 1.0202, 1.0062, 1.0088, 0.9988, 0.9991]))]), 'divergences': {'chain 0': [48, 119, 408, 421]}, 'acceptance rate': {'chain 0': 0.904}}\n",
      "Registering the results in:  SX_IJCAI_M/2024-01-10/iter-0_n-5_k-2_m-11_sigma_w-1.0_sigma_p-1.0_n_samples-500.yaml\n"
     ]
    },
    {
     "name": "stderr",
     "output_type": "stream",
     "text": [
      "Sample: 100%|████████████████████████████| 1000/1000 [01:32, 10.82it/s, step size=7.04e-02, acc. prob=0.834]\n"
     ]
    },
    {
     "name": "stdout",
     "output_type": "stream",
     "text": [
      "diag:  {'sigma': OrderedDict([('n_eff', tensor(175.5790)), ('r_hat', tensor(0.9983))]), 'w': OrderedDict([('n_eff', tensor([102.7185, 372.5901, 198.9345, 192.4626, 329.6806, 139.1385, 191.1844,\n",
      "        376.8874, 321.0218, 234.3616, 195.0235, 258.8221, 324.8574, 247.6735,\n",
      "        497.9005])), ('r_hat', tensor([1.0126, 0.9985, 1.0044, 0.9981, 0.9999, 1.0087, 1.0016, 0.9985, 1.0029,\n",
      "        1.0095, 1.0021, 0.9983, 1.0192, 1.0002, 0.9980]))]), 'divergences': {'chain 0': [6, 118, 125, 133, 439]}, 'acceptance rate': {'chain 0': 0.984}}\n",
      "Registering the results in:  SX_IJCAI_M/2024-01-10/iter-0_n-5_k-2_m-12_sigma_w-1.0_sigma_p-1.0_n_samples-500.yaml\n"
     ]
    },
    {
     "name": "stderr",
     "output_type": "stream",
     "text": [
      "Sample: 100%|████████████████████████████| 1000/1000 [01:45,  9.44it/s, step size=6.73e-02, acc. prob=0.521]\n"
     ]
    },
    {
     "name": "stdout",
     "output_type": "stream",
     "text": [
      "diag:  {'sigma': OrderedDict([('n_eff', tensor(6.6312)), ('r_hat', tensor(1.4119))]), 'w': OrderedDict([('n_eff', tensor([204.4658,  36.4439, 162.1005,  11.9220,  14.8844,  15.0195,   6.7898,\n",
      "         39.9363,  10.9515, 115.0578,  11.7732, 170.8640,  62.0844,  39.1096,\n",
      "        115.7771])), ('r_hat', tensor([0.9981, 1.0975, 1.0090, 1.1865, 1.2030, 1.2034, 1.3522, 1.0538, 1.2043,\n",
      "        1.0180, 1.1972, 1.0002, 1.0891, 1.0242, 1.0631]))]), 'divergences': {'chain 0': [10, 11, 50, 133, 170, 307, 308, 309, 312, 315, 317, 318, 319, 321, 322, 332, 339, 343, 345, 346, 347, 351, 352, 363, 364, 366, 368, 371, 374, 377, 380, 381, 382, 383, 384, 388, 393, 394, 395, 397, 400, 401, 404, 405, 406, 407, 408, 409, 410, 414, 416, 420, 423, 424, 427, 429, 431, 432, 433, 434, 435, 437, 439, 440, 441, 442, 444, 445, 447, 448, 449, 450, 451, 452, 453, 454, 455, 456, 457, 458, 459, 460, 462, 463, 465, 466, 467, 468, 470, 472, 475, 476, 477, 478, 479, 480, 481, 482, 483, 485, 487, 488, 491, 492, 493, 495, 496, 497, 499]}, 'acceptance rate': {'chain 0': 0.804}}\n",
      "Registering the results in:  SX_IJCAI_M/2024-01-10/iter-0_n-5_k-2_m-13_sigma_w-1.0_sigma_p-1.0_n_samples-500.yaml\n"
     ]
    },
    {
     "name": "stderr",
     "output_type": "stream",
     "text": [
      "Sample: 100%|████████████████████████████| 1000/1000 [02:45,  6.04it/s, step size=3.99e-02, acc. prob=0.721]\n"
     ]
    },
    {
     "name": "stdout",
     "output_type": "stream",
     "text": [
      "diag:  {'sigma': OrderedDict([('n_eff', tensor(100.3146)), ('r_hat', tensor(0.9989))]), 'w': OrderedDict([('n_eff', tensor([210.8952, 152.7652, 223.2788, 240.1716,  52.3041,  73.1134, 118.3935,\n",
      "        226.2884,  51.0633, 152.2081, 260.5404,  98.6318,  77.6251, 117.0470,\n",
      "        132.8775])), ('r_hat', tensor([1.0234, 1.0034, 0.9989, 1.0014, 1.0507, 0.9984, 1.0191, 1.0015, 1.0490,\n",
      "        1.0101, 1.0026, 1.0231, 1.0171, 1.0039, 0.9980]))]), 'divergences': {'chain 0': [51, 52, 60, 314, 332, 339, 422, 434]}, 'acceptance rate': {'chain 0': 0.966}}\n",
      "Registering the results in:  SX_IJCAI_M/2024-01-10/iter-0_n-5_k-2_m-14_sigma_w-1.0_sigma_p-1.0_n_samples-500.yaml\n"
     ]
    },
    {
     "name": "stderr",
     "output_type": "stream",
     "text": [
      "Sample: 100%|████████████████████████████| 1000/1000 [01:37, 10.27it/s, step size=7.49e-02, acc. prob=0.741]\n"
     ]
    },
    {
     "name": "stdout",
     "output_type": "stream",
     "text": [
      "diag:  {'sigma': OrderedDict([('n_eff', tensor(144.2440)), ('r_hat', tensor(0.9982))]), 'w': OrderedDict([('n_eff', tensor([204.3189, 166.0459, 241.7180, 206.0499, 212.4749, 244.1081, 177.0387,\n",
      "        188.8861, 102.4515, 170.1042, 156.3605, 229.5696, 142.7418, 244.8570,\n",
      "        100.7902])), ('r_hat', tensor([1.0021, 1.0055, 0.9993, 1.0052, 1.0129, 1.0014, 0.9994, 1.0232, 1.0195,\n",
      "        1.0000, 0.9981, 0.9987, 1.0076, 0.9999, 1.0424]))]), 'divergences': {'chain 0': [53, 267, 430]}, 'acceptance rate': {'chain 0': 0.974}}\n",
      "Registering the results in:  SX_IJCAI_M/2024-01-10/iter-0_n-5_k-2_m-15_sigma_w-1.0_sigma_p-1.0_n_samples-500.yaml\n"
     ]
    },
    {
     "name": "stderr",
     "output_type": "stream",
     "text": [
      "Sample: 100%|████████████████████████████| 1000/1000 [01:32, 10.77it/s, step size=6.30e-02, acc. prob=0.593]\n"
     ]
    },
    {
     "name": "stdout",
     "output_type": "stream",
     "text": [
      "diag:  {'sigma': OrderedDict([('n_eff', tensor(22.1990)), ('r_hat', tensor(1.0054))]), 'w': OrderedDict([('n_eff', tensor([ 57.2663, 135.6883, 174.8760, 146.2112, 171.7814,  34.3881, 154.4378,\n",
      "         33.2741,  54.5164, 133.7224, 195.1462,  32.8194, 170.6826, 154.0926,\n",
      "        106.1370])), ('r_hat', tensor([1.0078, 0.9980, 1.0023, 0.9982, 0.9986, 1.0005, 1.0220, 1.0072, 1.0301,\n",
      "        1.0019, 1.0162, 1.0167, 1.0055, 0.9986, 1.0034]))]), 'divergences': {'chain 0': [49, 70, 71, 76, 110, 148, 228, 229, 232, 233, 235, 239, 242, 251, 261, 262, 265, 266, 271, 278, 280, 281, 283, 286, 287, 289, 293, 296, 299, 302, 307, 308, 311, 314, 316, 318, 322, 327, 329, 351, 352, 480]}, 'acceptance rate': {'chain 0': 0.87}}\n",
      "Registering the results in:  SX_IJCAI_M/2024-01-10/iter-0_n-5_k-2_m-16_sigma_w-1.0_sigma_p-1.0_n_samples-500.yaml\n"
     ]
    },
    {
     "name": "stderr",
     "output_type": "stream",
     "text": [
      "Sample: 100%|████████████████████████████| 1000/1000 [02:14,  7.46it/s, step size=4.26e-02, acc. prob=0.871]\n"
     ]
    },
    {
     "name": "stdout",
     "output_type": "stream",
     "text": [
      "diag:  {'sigma': OrderedDict([('n_eff', tensor(202.0981)), ('r_hat', tensor(0.9994))]), 'w': OrderedDict([('n_eff', tensor([217.6644,  98.6586, 236.8571,  99.9914, 207.5651, 199.9720, 220.0027,\n",
      "        246.6310, 231.6013, 130.9497, 185.2925, 166.4554, 193.9438, 175.9817,\n",
      "        149.9628])), ('r_hat', tensor([1.0039, 1.0159, 1.0004, 1.0142, 0.9980, 1.0154, 0.9983, 0.9982, 1.0026,\n",
      "        1.0167, 1.0003, 1.0160, 1.0101, 0.9981, 1.0036]))]), 'divergences': {'chain 0': [44, 49, 130, 305, 346, 454, 477]}, 'acceptance rate': {'chain 0': 0.992}}\n",
      "Registering the results in:  SX_IJCAI_M/2024-01-10/iter-0_n-5_k-2_m-17_sigma_w-1.0_sigma_p-1.0_n_samples-500.yaml\n"
     ]
    },
    {
     "name": "stderr",
     "output_type": "stream",
     "text": [
      "Sample: 100%|████████████████████████████| 1000/1000 [03:48,  4.37it/s, step size=3.03e-02, acc. prob=0.856]\n"
     ]
    },
    {
     "name": "stdout",
     "output_type": "stream",
     "text": [
      "diag:  {'sigma': OrderedDict([('n_eff', tensor(96.3821)), ('r_hat', tensor(1.0180))]), 'w': OrderedDict([('n_eff', tensor([253.4255, 211.4356, 159.9661, 113.1826, 178.6668, 221.8147, 219.3650,\n",
      "        201.4339, 137.5400, 224.3123, 165.3479, 200.5765, 279.0151, 172.9736,\n",
      "        190.2836])), ('r_hat', tensor([1.0004, 0.9980, 0.9981, 0.9989, 0.9994, 1.0015, 0.9984, 0.9992, 1.0091,\n",
      "        1.0167, 0.9989, 1.0039, 1.0083, 0.9980, 1.0158]))]), 'divergences': {'chain 0': [161, 315, 323, 324, 325, 330, 336, 390, 392, 499]}, 'acceptance rate': {'chain 0': 0.986}}\n",
      "Registering the results in:  SX_IJCAI_M/2024-01-10/iter-0_n-5_k-2_m-18_sigma_w-1.0_sigma_p-1.0_n_samples-500.yaml\n"
     ]
    },
    {
     "name": "stderr",
     "output_type": "stream",
     "text": [
      "Sample: 100%|████████████████████████████| 1000/1000 [02:30,  6.67it/s, step size=4.11e-02, acc. prob=0.933]\n"
     ]
    },
    {
     "name": "stdout",
     "output_type": "stream",
     "text": [
      "diag:  {'sigma': OrderedDict([('n_eff', tensor(122.2417)), ('r_hat', tensor(1.0048))]), 'w': OrderedDict([('n_eff', tensor([191.1802, 188.5584, 190.7624, 236.3781, 325.2168, 339.9601, 246.9727,\n",
      "        237.0179, 319.5032, 303.1007, 256.5131, 181.1998, 191.8823, 221.7170,\n",
      "        286.1612])), ('r_hat', tensor([0.9982, 0.9980, 1.0002, 1.0122, 0.9981, 0.9983, 0.9982, 0.9983, 0.9998,\n",
      "        0.9992, 0.9996, 1.0068, 1.0054, 1.0042, 1.0021]))]), 'divergences': {'chain 0': [42, 57, 217, 255]}, 'acceptance rate': {'chain 0': 0.998}}\n",
      "Registering the results in:  SX_IJCAI_M/2024-01-10/iter-0_n-5_k-2_m-19_sigma_w-1.0_sigma_p-1.0_n_samples-500.yaml\n"
     ]
    },
    {
     "name": "stderr",
     "output_type": "stream",
     "text": [
      "Sample: 100%|████████████████████████████| 1000/1000 [01:55,  8.68it/s, step size=6.35e-02, acc. prob=0.746]\n"
     ]
    },
    {
     "name": "stdout",
     "output_type": "stream",
     "text": [
      "diag:  {'sigma': OrderedDict([('n_eff', tensor(66.1396)), ('r_hat', tensor(1.0049))]), 'w': OrderedDict([('n_eff', tensor([ 62.4331,  55.0337,  70.8023,  77.2802,  89.9496,  57.4306,  72.7147,\n",
      "        169.4748,  99.9457, 122.4538,  71.4717, 101.7971, 152.7943, 131.9810,\n",
      "         94.4467])), ('r_hat', tensor([0.9997, 1.0037, 1.0129, 1.0026, 1.0025, 1.0021, 1.0220, 1.0033, 1.0116,\n",
      "        1.0016, 1.0013, 1.0219, 1.0038, 1.0017, 1.0034]))]), 'divergences': {'chain 0': [94, 162, 173, 243, 324]}, 'acceptance rate': {'chain 0': 0.962}}\n",
      "Registering the results in:  SX_IJCAI_M/2024-01-10/iter-0_n-5_k-2_m-20_sigma_w-1.0_sigma_p-1.0_n_samples-500.yaml\n"
     ]
    },
    {
     "name": "stderr",
     "output_type": "stream",
     "text": [
      "Sample: 100%|████████████████████████████| 1000/1000 [02:33,  6.52it/s, step size=5.18e-02, acc. prob=0.858]\n"
     ]
    },
    {
     "name": "stdout",
     "output_type": "stream",
     "text": [
      "diag:  {'sigma': OrderedDict([('n_eff', tensor(141.2162)), ('r_hat', tensor(1.0012))]), 'w': OrderedDict([('n_eff', tensor([168.0037, 199.8938, 202.6435, 193.5566, 137.8895, 168.4740, 168.1456,\n",
      "        172.2180, 193.6707, 182.9946, 104.8194, 155.4110,  84.8862, 212.2127,\n",
      "        210.9402])), ('r_hat', tensor([0.9986, 0.9994, 1.0132, 1.0018, 0.9980, 1.0058, 0.9999, 1.0055, 1.0009,\n",
      "        1.0324, 1.0252, 1.0076, 0.9982, 1.0008, 1.0025]))]), 'divergences': {'chain 0': [49, 235]}, 'acceptance rate': {'chain 0': 0.994}}\n",
      "Registering the results in:  SX_IJCAI_M/2024-01-10/iter-0_n-5_k-2_m-21_sigma_w-1.0_sigma_p-1.0_n_samples-500.yaml\n"
     ]
    },
    {
     "name": "stderr",
     "output_type": "stream",
     "text": [
      "Sample: 100%|████████████████████████████| 1000/1000 [01:36, 10.31it/s, step size=8.68e-02, acc. prob=0.616]\n"
     ]
    },
    {
     "name": "stdout",
     "output_type": "stream",
     "text": [
      "diag:  {'sigma': OrderedDict([('n_eff', tensor(67.7546)), ('r_hat', tensor(1.0093))]), 'w': OrderedDict([('n_eff', tensor([136.7147,  97.8734,  77.7320,  73.0266, 136.2466,  82.2065,  62.7836,\n",
      "         64.0488,  98.1708,  86.7496, 139.9140,  65.7352,  73.6620,  67.7237,\n",
      "         83.6496])), ('r_hat', tensor([1.0126, 1.0173, 1.0047, 1.0341, 0.9984, 1.0403, 1.0167, 1.0413, 0.9980,\n",
      "        1.0130, 0.9980, 1.0232, 1.0576, 1.0534, 1.0522]))]), 'divergences': {'chain 0': [31, 243, 249, 329, 473]}, 'acceptance rate': {'chain 0': 0.896}}\n",
      "Registering the results in:  SX_IJCAI_M/2024-01-10/iter-0_n-5_k-2_m-22_sigma_w-1.0_sigma_p-1.0_n_samples-500.yaml\n"
     ]
    },
    {
     "name": "stderr",
     "output_type": "stream",
     "text": [
      "Sample: 100%|████████████████████████████| 1000/1000 [03:45,  4.43it/s, step size=4.60e-02, acc. prob=0.769]\n"
     ]
    },
    {
     "name": "stdout",
     "output_type": "stream",
     "text": [
      "diag:  {'sigma': OrderedDict([('n_eff', tensor(67.8820)), ('r_hat', tensor(1.0578))]), 'w': OrderedDict([('n_eff', tensor([ 48.7583,  85.6084,  68.9521, 104.1733,  83.1517,  45.2186,  45.9986,\n",
      "        211.4841,  98.0505,  64.7840,  56.3668, 108.5368,  68.5219,  88.5843,\n",
      "        155.8531])), ('r_hat', tensor([1.0018, 1.0869, 1.1655, 1.0411, 1.0579, 1.0117, 0.9986, 1.0504, 1.0736,\n",
      "        1.1109, 1.0633, 1.0421, 0.9999, 1.0038, 0.9984]))]), 'divergences': {'chain 0': [245, 316, 344, 391, 414, 435, 464, 469, 475, 477, 487, 491]}, 'acceptance rate': {'chain 0': 0.978}}\n",
      "Registering the results in:  SX_IJCAI_M/2024-01-10/iter-0_n-5_k-2_m-23_sigma_w-1.0_sigma_p-1.0_n_samples-500.yaml\n"
     ]
    },
    {
     "name": "stderr",
     "output_type": "stream",
     "text": [
      "Sample: 100%|████████████████████████████| 1000/1000 [02:07,  7.82it/s, step size=7.59e-02, acc. prob=0.712]\n"
     ]
    },
    {
     "name": "stdout",
     "output_type": "stream",
     "text": [
      "diag:  {'sigma': OrderedDict([('n_eff', tensor(114.8900)), ('r_hat', tensor(1.0264))]), 'w': OrderedDict([('n_eff', tensor([107.9281, 130.4795,  94.6062,  76.4528,  77.5768,  73.2990, 115.3680,\n",
      "        100.1054, 117.7618, 113.7088, 133.7452, 155.1313,  99.5630, 130.8037,\n",
      "         71.2645])), ('r_hat', tensor([0.9994, 0.9997, 1.0179, 1.0139, 1.0273, 1.0243, 1.0030, 1.0185, 1.0051,\n",
      "        1.0077, 0.9980, 0.9980, 1.0363, 0.9981, 1.0229]))]), 'divergences': {'chain 0': [49, 64, 108, 109, 110, 112, 113, 211, 413, 417, 459]}, 'acceptance rate': {'chain 0': 0.96}}\n",
      "Registering the results in:  SX_IJCAI_M/2024-01-10/iter-0_n-5_k-2_m-24_sigma_w-1.0_sigma_p-1.0_n_samples-500.yaml\n"
     ]
    },
    {
     "name": "stderr",
     "output_type": "stream",
     "text": [
      "Sample: 100%|████████████████████████████| 1000/1000 [01:27, 11.40it/s, step size=6.28e-02, acc. prob=0.641]\n"
     ]
    },
    {
     "name": "stdout",
     "output_type": "stream",
     "text": [
      "diag:  {'sigma': OrderedDict([('n_eff', tensor(54.7383)), ('r_hat', tensor(1.0005))]), 'w': OrderedDict([('n_eff', tensor([24.7225, 51.3353, 44.4951, 44.6404, 35.1698, 94.9407, 80.5439, 79.0242,\n",
      "        39.2121, 45.9142, 67.3371, 56.2645, 31.7491, 47.1990, 74.9678])), ('r_hat', tensor([1.1069, 1.0271, 1.0456, 0.9981, 1.0512, 0.9999, 1.0443, 1.0059, 1.0522,\n",
      "        1.0758, 1.0582, 1.0369, 1.0227, 1.0112, 1.0685]))]), 'divergences': {'chain 0': [36, 46, 50, 171, 243, 244, 246, 248, 320, 338, 343, 368, 370, 374, 416, 459, 460, 470]}, 'acceptance rate': {'chain 0': 0.916}}\n",
      "Registering the results in:  SX_IJCAI_M/2024-01-10/iter-0_n-5_k-2_m-25_sigma_w-1.0_sigma_p-1.0_n_samples-500.yaml\n"
     ]
    },
    {
     "name": "stderr",
     "output_type": "stream",
     "text": [
      "Sample: 100%|████████████████████████████| 1000/1000 [03:40,  4.53it/s, step size=5.30e-02, acc. prob=0.845]\n"
     ]
    },
    {
     "name": "stdout",
     "output_type": "stream",
     "text": [
      "diag:  {'sigma': OrderedDict([('n_eff', tensor(143.2911)), ('r_hat', tensor(1.0001))]), 'w': OrderedDict([('n_eff', tensor([204.2062, 221.6878, 103.9749, 126.3154, 169.4977,  82.5409, 157.6669,\n",
      "        174.9583,  59.0669, 246.3559,  70.8746,  84.2954, 145.3454, 110.4492,\n",
      "        148.4752])), ('r_hat', tensor([1.0101, 0.9981, 1.0034, 0.9998, 1.0070, 1.0156, 0.9985, 1.0009, 1.0116,\n",
      "        1.0095, 1.0258, 1.0121, 1.0073, 1.0041, 1.0006]))]), 'divergences': {'chain 0': [324, 344, 442]}, 'acceptance rate': {'chain 0': 0.994}}\n",
      "Registering the results in:  SX_IJCAI_M/2024-01-10/iter-0_n-5_k-2_m-26_sigma_w-1.0_sigma_p-1.0_n_samples-500.yaml\n"
     ]
    },
    {
     "name": "stderr",
     "output_type": "stream",
     "text": [
      "Sample: 100%|████████████████████████████| 1000/1000 [02:28,  6.74it/s, step size=5.54e-02, acc. prob=0.834]\n"
     ]
    },
    {
     "name": "stdout",
     "output_type": "stream",
     "text": [
      "diag:  {'sigma': OrderedDict([('n_eff', tensor(114.1716)), ('r_hat', tensor(1.0019))]), 'w': OrderedDict([('n_eff', tensor([130.2965, 150.2558, 129.5367, 124.6932, 105.6030, 102.2205, 177.5897,\n",
      "        116.6134, 185.8356, 117.6623, 111.7206, 190.3187, 138.6928, 203.2580,\n",
      "        126.6295])), ('r_hat', tensor([1.0288, 1.0069, 1.0070, 1.0103, 1.0052, 1.0055, 0.9984, 1.0012, 0.9994,\n",
      "        1.0135, 0.9980, 1.0138, 1.0078, 0.9980, 0.9993]))]), 'divergences': {'chain 0': [52, 242, 335, 428]}, 'acceptance rate': {'chain 0': 0.994}}\n",
      "Registering the results in:  SX_IJCAI_M/2024-01-10/iter-0_n-5_k-2_m-27_sigma_w-1.0_sigma_p-1.0_n_samples-500.yaml\n"
     ]
    },
    {
     "name": "stderr",
     "output_type": "stream",
     "text": [
      "Sample: 100%|████████████████████████████| 1000/1000 [01:51,  8.98it/s, step size=5.68e-02, acc. prob=0.691]\n"
     ]
    },
    {
     "name": "stdout",
     "output_type": "stream",
     "text": [
      "diag:  {'sigma': OrderedDict([('n_eff', tensor(84.0786)), ('r_hat', tensor(1.0156))]), 'w': OrderedDict([('n_eff', tensor([ 57.1097,  34.4603,  58.3547, 142.3181,  46.6858,  41.3307,  56.1650,\n",
      "         28.5262,  35.7479,  44.7576,  55.3252,  39.2448,  85.6360,  39.7283,\n",
      "         43.6492])), ('r_hat', tensor([1.0407, 1.0179, 1.0046, 1.0120, 1.0308, 1.0125, 0.9984, 1.0474, 1.0635,\n",
      "        1.0047, 1.0089, 1.0186, 0.9996, 1.0209, 1.0288]))]), 'divergences': {'chain 0': [33, 64, 129, 133, 134, 175, 360, 377, 380, 478]}, 'acceptance rate': {'chain 0': 0.968}}\n",
      "Registering the results in:  SX_IJCAI_M/2024-01-10/iter-0_n-5_k-2_m-28_sigma_w-1.0_sigma_p-1.0_n_samples-500.yaml\n"
     ]
    },
    {
     "name": "stderr",
     "output_type": "stream",
     "text": [
      "Sample: 100%|████████████████████████████| 1000/1000 [01:51,  9.00it/s, step size=8.32e-02, acc. prob=0.446]\n"
     ]
    },
    {
     "name": "stdout",
     "output_type": "stream",
     "text": [
      "diag:  {'sigma': OrderedDict([('n_eff', tensor(30.2592)), ('r_hat', tensor(0.9983))]), 'w': OrderedDict([('n_eff', tensor([25.8928, 25.9871, 26.1338, 34.5605, 51.5124, 42.3326, 53.7229, 83.6187,\n",
      "        21.9580, 19.5819, 24.4928, 71.9443, 54.9049, 64.4311, 38.8554])), ('r_hat', tensor([1.0141, 1.0335, 1.0199, 1.0267, 1.0580, 1.0056, 1.0019, 1.0032, 1.0115,\n",
      "        1.0561, 1.0370, 1.0017, 0.9986, 1.0014, 1.0667]))]), 'divergences': {'chain 0': [16, 18, 25, 26, 28, 33, 36, 53, 55, 67, 74, 90, 232, 277, 307, 310, 322, 324, 341, 352, 363, 450]}, 'acceptance rate': {'chain 0': 0.834}}\n",
      "Registering the results in:  SX_IJCAI_M/2024-01-10/iter-0_n-5_k-2_m-29_sigma_w-1.0_sigma_p-1.0_n_samples-500.yaml\n"
     ]
    },
    {
     "name": "stderr",
     "output_type": "stream",
     "text": [
      "Sample: 100%|████████████████████████████| 1000/1000 [01:34, 10.56it/s, step size=6.40e-02, acc. prob=0.739]\n"
     ]
    },
    {
     "name": "stdout",
     "output_type": "stream",
     "text": [
      "diag:  {'sigma': OrderedDict([('n_eff', tensor(55.1486)), ('r_hat', tensor(1.0049))]), 'w': OrderedDict([('n_eff', tensor([173.7514,  26.2822,  39.9984,  68.8077,  41.5360,  35.7641, 137.9894,\n",
      "         37.0408, 125.8835, 106.3414, 199.3269,  58.7010,  44.4831, 131.4377,\n",
      "        101.3396])), ('r_hat', tensor([0.9992, 1.0226, 1.0406, 1.0150, 1.0123, 1.0631, 1.0086, 1.0345, 1.0000,\n",
      "        1.0014, 0.9983, 1.0011, 1.0370, 0.9984, 1.0143]))]), 'divergences': {'chain 0': [143, 302, 342, 345]}, 'acceptance rate': {'chain 0': 0.966}}\n",
      "Registering the results in:  SX_IJCAI_M/2024-01-10/iter-0_n-5_k-2_m-30_sigma_w-1.0_sigma_p-1.0_n_samples-500.yaml\n"
     ]
    },
    {
     "name": "stderr",
     "output_type": "stream",
     "text": [
      "Sample: 100%|████████████████████████████| 1000/1000 [02:43,  6.11it/s, step size=3.95e-02, acc. prob=0.839]\n"
     ]
    },
    {
     "name": "stdout",
     "output_type": "stream",
     "text": [
      "diag:  {'sigma': OrderedDict([('n_eff', tensor(55.4698)), ('r_hat', tensor(1.0429))]), 'w': OrderedDict([('n_eff', tensor([81.4968, 67.2771, 41.2083, 73.2826, 41.5179, 71.3911, 42.0397, 76.5845,\n",
      "        88.4588, 61.0478, 46.2653, 52.8352, 65.4593, 51.9140, 46.7530])), ('r_hat', tensor([1.0061, 1.0069, 1.0125, 0.9994, 1.0155, 0.9990, 1.0093, 1.0021, 1.0000,\n",
      "        0.9985, 1.0051, 1.0091, 1.0080, 1.0018, 1.0176]))]), 'divergences': {'chain 0': [155, 348, 440, 486]}, 'acceptance rate': {'chain 0': 0.996}}\n",
      "Registering the results in:  SX_IJCAI_M/2024-01-10/iter-0_n-5_k-2_m-31_sigma_w-1.0_sigma_p-1.0_n_samples-500.yaml\n"
     ]
    },
    {
     "name": "stderr",
     "output_type": "stream",
     "text": [
      "Sample: 100%|████████████████████████████| 1000/1000 [03:26,  4.83it/s, step size=5.32e-02, acc. prob=0.603]\n"
     ]
    },
    {
     "name": "stdout",
     "output_type": "stream",
     "text": [
      "diag:  {'sigma': OrderedDict([('n_eff', tensor(58.7209)), ('r_hat', tensor(1.0139))]), 'w': OrderedDict([('n_eff', tensor([ 22.8339,  33.0869,  35.2934,  25.1866,  22.5789,  27.9075, 120.4308,\n",
      "         74.9004,  23.8529, 121.1307,  67.1384, 134.4998,  33.1404,  82.0261,\n",
      "         73.3050])), ('r_hat', tensor([1.1033, 1.0557, 1.0079, 1.0876, 1.1007, 1.0707, 1.0085, 1.0083, 1.0891,\n",
      "        1.0167, 1.0260, 1.0204, 1.0733, 1.0231, 0.9989]))]), 'divergences': {'chain 0': [30, 72, 149, 192, 220, 242, 244, 268, 279, 280, 283, 284, 287, 289, 292, 293, 294, 295, 296, 297, 298, 300, 304, 312, 316]}, 'acceptance rate': {'chain 0': 0.916}}\n",
      "Registering the results in:  SX_IJCAI_M/2024-01-10/iter-1_n-5_k-2_m-2_sigma_w-1.0_sigma_p-1.0_n_samples-500.yaml\n"
     ]
    },
    {
     "name": "stderr",
     "output_type": "stream",
     "text": [
      "Sample: 100%|████████████████████████████| 1000/1000 [00:31, 31.75it/s, step size=4.06e-01, acc. prob=0.744]\n"
     ]
    },
    {
     "name": "stdout",
     "output_type": "stream",
     "text": [
      "diag:  {'sigma': OrderedDict([('n_eff', tensor(340.0648)), ('r_hat', tensor(1.0062))]), 'w': OrderedDict([('n_eff', tensor([296.4813, 321.8438, 337.6429, 334.2198, 430.6847, 317.9124, 235.8682,\n",
      "        307.2161, 221.5097, 335.3867, 340.5041, 324.0129, 319.9018, 543.7999,\n",
      "        376.4219])), ('r_hat', tensor([1.0005, 1.0038, 0.9994, 0.9982, 0.9980, 0.9988, 1.0122, 0.9984, 1.0025,\n",
      "        1.0002, 0.9994, 0.9987, 0.9983, 1.0086, 0.9989]))]), 'divergences': {'chain 0': [31, 71, 143, 167, 239, 398, 407, 439, 457, 492]}, 'acceptance rate': {'chain 0': 0.984}}\n",
      "Registering the results in:  SX_IJCAI_M/2024-01-10/iter-1_n-5_k-2_m-3_sigma_w-1.0_sigma_p-1.0_n_samples-500.yaml\n"
     ]
    },
    {
     "name": "stderr",
     "output_type": "stream",
     "text": [
      "Sample: 100%|████████████████████████████| 1000/1000 [00:52, 19.02it/s, step size=3.11e-01, acc. prob=0.781]\n"
     ]
    },
    {
     "name": "stdout",
     "output_type": "stream",
     "text": [
      "diag:  {'sigma': OrderedDict([('n_eff', tensor(293.0985)), ('r_hat', tensor(0.9980))]), 'w': OrderedDict([('n_eff', tensor([510.5435, 696.2946, 574.1675, 441.7308, 439.3874, 440.0221, 573.5413,\n",
      "        457.6395, 408.8934, 297.6607, 539.1446, 481.1452, 471.6693, 520.0714,\n",
      "        586.0738])), ('r_hat', tensor([1.0011, 0.9981, 0.9980, 0.9983, 0.9981, 0.9980, 1.0016, 0.9981, 1.0014,\n",
      "        0.9999, 0.9980, 0.9984, 0.9993, 0.9984, 0.9992]))]), 'divergences': {'chain 0': [188, 276, 358, 368, 434]}, 'acceptance rate': {'chain 0': 0.982}}\n",
      "Registering the results in:  SX_IJCAI_M/2024-01-10/iter-1_n-5_k-2_m-4_sigma_w-1.0_sigma_p-1.0_n_samples-500.yaml\n"
     ]
    },
    {
     "name": "stderr",
     "output_type": "stream",
     "text": [
      "Sample: 100%|████████████████████████████| 1000/1000 [01:39, 10.03it/s, step size=1.20e-01, acc. prob=0.915]\n"
     ]
    },
    {
     "name": "stdout",
     "output_type": "stream",
     "text": [
      "diag:  {'sigma': OrderedDict([('n_eff', tensor(421.5617)), ('r_hat', tensor(0.9986))]), 'w': OrderedDict([('n_eff', tensor([554.1907, 635.2596, 332.8207, 606.4528, 406.0585, 609.8434, 473.7272,\n",
      "        563.6531, 691.6972, 289.7963, 692.7938, 375.2292, 805.2838, 520.0744,\n",
      "        504.5230])), ('r_hat', tensor([0.9982, 1.0024, 1.0070, 0.9984, 1.0093, 0.9980, 0.9993, 0.9981, 0.9980,\n",
      "        1.0065, 0.9988, 1.0216, 0.9993, 0.9986, 0.9983]))]), 'divergences': {'chain 0': [53, 56, 342]}, 'acceptance rate': {'chain 0': 0.996}}\n",
      "Registering the results in:  SX_IJCAI_M/2024-01-10/iter-1_n-5_k-2_m-5_sigma_w-1.0_sigma_p-1.0_n_samples-500.yaml\n"
     ]
    },
    {
     "name": "stderr",
     "output_type": "stream",
     "text": [
      "Sample: 100%|████████████████████████████| 1000/1000 [01:27, 11.44it/s, step size=1.46e-01, acc. prob=0.843]\n"
     ]
    },
    {
     "name": "stdout",
     "output_type": "stream",
     "text": [
      "diag:  {'sigma': OrderedDict([('n_eff', tensor(226.0852)), ('r_hat', tensor(0.9993))]), 'w': OrderedDict([('n_eff', tensor([583.1714, 377.5359, 414.3331, 593.7894, 502.9200, 558.2845, 501.6722,\n",
      "        516.3620, 737.0652, 609.1140, 238.7767, 469.1286, 422.3969, 474.6158,\n",
      "        441.9159])), ('r_hat', tensor([1.0029, 0.9983, 0.9980, 1.0028, 1.0056, 0.9984, 1.0021, 0.9980, 1.0044,\n",
      "        0.9982, 0.9981, 0.9985, 1.0098, 0.9983, 0.9988]))]), 'divergences': {'chain 0': [45, 210, 219, 438]}, 'acceptance rate': {'chain 0': 0.998}}\n",
      "Registering the results in:  SX_IJCAI_M/2024-01-10/iter-1_n-5_k-2_m-6_sigma_w-1.0_sigma_p-1.0_n_samples-500.yaml\n"
     ]
    },
    {
     "name": "stderr",
     "output_type": "stream",
     "text": [
      "Sample: 100%|████████████████████████████| 1000/1000 [01:10, 14.12it/s, step size=1.19e-01, acc. prob=0.842]\n"
     ]
    },
    {
     "name": "stdout",
     "output_type": "stream",
     "text": [
      "diag:  {'sigma': OrderedDict([('n_eff', tensor(246.6085)), ('r_hat', tensor(0.9986))]), 'w': OrderedDict([('n_eff', tensor([523.1191, 396.2336, 408.4115, 348.6666, 379.7504, 382.5117, 217.9998,\n",
      "        315.7819, 371.6756, 242.3565, 165.8969, 453.0233, 381.4071, 296.2248,\n",
      "        448.4712])), ('r_hat', tensor([0.9984, 0.9992, 0.9996, 0.9980, 1.0026, 0.9981, 1.0087, 1.0032, 1.0017,\n",
      "        0.9984, 0.9988, 0.9999, 0.9981, 0.9993, 0.9985]))]), 'divergences': {'chain 0': [30]}, 'acceptance rate': {'chain 0': 0.992}}\n",
      "Registering the results in:  SX_IJCAI_M/2024-01-10/iter-1_n-5_k-2_m-7_sigma_w-1.0_sigma_p-1.0_n_samples-500.yaml\n"
     ]
    },
    {
     "name": "stderr",
     "output_type": "stream",
     "text": [
      "Sample: 100%|████████████████████████████| 1000/1000 [00:59, 16.67it/s, step size=1.32e-01, acc. prob=0.610]\n"
     ]
    },
    {
     "name": "stdout",
     "output_type": "stream",
     "text": [
      "diag:  {'sigma': OrderedDict([('n_eff', tensor(95.6001)), ('r_hat', tensor(1.0104))]), 'w': OrderedDict([('n_eff', tensor([ 91.1311, 122.9436, 178.5293, 188.9511, 102.2732,  60.8429, 194.8493,\n",
      "        188.3429, 105.0836,  59.2867,  32.1347, 233.2201,  81.3907, 176.5973,\n",
      "         98.5222])), ('r_hat', tensor([1.0161, 1.0116, 1.0012, 0.9980, 1.0026, 1.0228, 1.0042, 1.0094, 1.0017,\n",
      "        1.0381, 1.0362, 0.9980, 1.0000, 1.0041, 1.0016]))]), 'divergences': {'chain 0': [2, 27, 81, 148, 255, 257, 258, 260, 291, 320, 415, 418, 440, 444, 486]}, 'acceptance rate': {'chain 0': 0.888}}\n",
      "Registering the results in:  SX_IJCAI_M/2024-01-10/iter-1_n-5_k-2_m-8_sigma_w-1.0_sigma_p-1.0_n_samples-500.yaml\n"
     ]
    },
    {
     "name": "stderr",
     "output_type": "stream",
     "text": [
      "Sample: 100%|████████████████████████████| 1000/1000 [01:47,  9.34it/s, step size=6.66e-02, acc. prob=0.930]\n"
     ]
    },
    {
     "name": "stdout",
     "output_type": "stream",
     "text": [
      "diag:  {'sigma': OrderedDict([('n_eff', tensor(226.8451)), ('r_hat', tensor(0.9987))]), 'w': OrderedDict([('n_eff', tensor([602.5932, 678.1776, 415.2791, 393.3922, 464.9258, 496.1870, 457.2317,\n",
      "        429.9272, 869.7473, 553.2772, 404.3753, 889.6438, 574.3646, 434.7233,\n",
      "        491.0166])), ('r_hat', tensor([0.9996, 0.9980, 1.0009, 0.9982, 1.0006, 0.9981, 1.0058, 1.0016, 0.9981,\n",
      "        0.9981, 1.0003, 0.9988, 1.0021, 1.0024, 0.9985]))]), 'divergences': {'chain 0': [34, 91]}, 'acceptance rate': {'chain 0': 1.0}}\n",
      "Registering the results in:  SX_IJCAI_M/2024-01-10/iter-1_n-5_k-2_m-9_sigma_w-1.0_sigma_p-1.0_n_samples-500.yaml\n"
     ]
    },
    {
     "name": "stderr",
     "output_type": "stream",
     "text": [
      "Sample: 100%|████████████████████████████| 1000/1000 [01:22, 12.18it/s, step size=1.21e-01, acc. prob=0.688]\n"
     ]
    },
    {
     "name": "stdout",
     "output_type": "stream",
     "text": [
      "diag:  {'sigma': OrderedDict([('n_eff', tensor(98.5146)), ('r_hat', tensor(1.0228))]), 'w': OrderedDict([('n_eff', tensor([160.6129, 143.5150,  37.6576,  83.5002,  80.6479, 193.9253,  77.8811,\n",
      "        193.5156,  46.3956, 213.0952,  75.1958,  90.3203, 235.3046, 218.1691,\n",
      "        133.3980])), ('r_hat', tensor([1.0060, 1.0019, 1.0055, 1.0087, 1.0011, 1.0289, 0.9988, 1.0011, 1.0298,\n",
      "        0.9980, 1.0326, 1.0301, 1.0011, 1.0103, 1.0017]))]), 'divergences': {'chain 0': [0, 101, 185, 186, 294, 299, 307, 311, 312, 321, 323, 326, 328, 331, 334, 336, 344, 435]}, 'acceptance rate': {'chain 0': 0.958}}\n",
      "Registering the results in:  SX_IJCAI_M/2024-01-10/iter-1_n-5_k-2_m-10_sigma_w-1.0_sigma_p-1.0_n_samples-500.yaml\n"
     ]
    },
    {
     "name": "stderr",
     "output_type": "stream",
     "text": [
      "Sample: 100%|████████████████████████████| 1000/1000 [02:13,  7.52it/s, step size=9.84e-02, acc. prob=0.643]\n"
     ]
    },
    {
     "name": "stdout",
     "output_type": "stream",
     "text": [
      "diag:  {'sigma': OrderedDict([('n_eff', tensor(42.6632)), ('r_hat', tensor(1.1087))]), 'w': OrderedDict([('n_eff', tensor([ 93.0386,  42.2654,  87.8313,  90.5636,  85.4416, 131.0806, 195.7260,\n",
      "         66.3716,  68.2771,  29.7214,  20.8121,  36.3381, 108.4264, 105.5428,\n",
      "         77.4632])), ('r_hat', tensor([1.0332, 1.0105, 0.9997, 1.0233, 1.0073, 1.0047, 0.9983, 1.0344, 1.0408,\n",
      "        1.0468, 1.1065, 0.9988, 0.9984, 0.9989, 0.9994]))]), 'divergences': {'chain 0': [11, 197, 313, 432, 465]}, 'acceptance rate': {'chain 0': 0.942}}\n",
      "Registering the results in:  SX_IJCAI_M/2024-01-10/iter-1_n-5_k-2_m-11_sigma_w-1.0_sigma_p-1.0_n_samples-500.yaml\n"
     ]
    },
    {
     "name": "stderr",
     "output_type": "stream",
     "text": [
      "Sample: 100%|████████████████████████████| 1000/1000 [01:32, 10.80it/s, step size=1.16e-01, acc. prob=0.562]\n"
     ]
    },
    {
     "name": "stdout",
     "output_type": "stream",
     "text": [
      "diag:  {'sigma': OrderedDict([('n_eff', tensor(18.2473)), ('r_hat', tensor(1.1230))]), 'w': OrderedDict([('n_eff', tensor([ 10.6416,  28.9217,  56.5396,  18.7084,  46.5221,  20.4211,  29.0333,\n",
      "         46.0018,  19.0767,  66.9066,  17.6910,  39.5207,  58.5861, 144.6114,\n",
      "         91.6465])), ('r_hat', tensor([1.2201, 1.1291, 1.0832, 1.1621, 1.0325, 1.0957, 1.0842, 0.9987, 1.1985,\n",
      "        1.0753, 1.1759, 0.9981, 1.0278, 0.9982, 1.0083]))]), 'divergences': {'chain 0': [14, 58, 116, 127, 135, 137, 140, 147, 152, 160, 163, 164, 165, 168, 170, 172, 174, 176, 178, 179, 181, 182, 183, 185, 186, 187, 188, 189, 194, 195, 196, 198, 199, 200, 201, 202, 203, 204, 206, 207, 210, 214, 215, 216, 217, 218, 221, 229, 231, 232, 234, 235, 239, 240, 241, 374]}, 'acceptance rate': {'chain 0': 0.864}}\n",
      "Registering the results in:  SX_IJCAI_M/2024-01-10/iter-1_n-5_k-2_m-12_sigma_w-1.0_sigma_p-1.0_n_samples-500.yaml\n"
     ]
    },
    {
     "name": "stderr",
     "output_type": "stream",
     "text": [
      "Sample: 100%|████████████████████████████| 1000/1000 [02:39,  6.28it/s, step size=5.84e-02, acc. prob=0.871]\n"
     ]
    },
    {
     "name": "stdout",
     "output_type": "stream",
     "text": [
      "diag:  {'sigma': OrderedDict([('n_eff', tensor(153.5215)), ('r_hat', tensor(0.9980))]), 'w': OrderedDict([('n_eff', tensor([252.6316, 305.4055, 236.6849, 317.0747, 246.1242, 180.5552, 260.4294,\n",
      "        359.7849, 281.1769, 267.6483, 401.9102, 172.3382, 422.8227, 263.5393,\n",
      "        364.3619])), ('r_hat', tensor([1.0014, 0.9982, 0.9989, 1.0030, 1.0012, 1.0083, 0.9990, 0.9980, 1.0167,\n",
      "        1.0002, 1.0000, 1.0037, 0.9988, 0.9989, 1.0000]))]), 'divergences': {'chain 0': [55, 102, 105, 317, 467]}, 'acceptance rate': {'chain 0': 0.996}}\n",
      "Registering the results in:  SX_IJCAI_M/2024-01-10/iter-1_n-5_k-2_m-13_sigma_w-1.0_sigma_p-1.0_n_samples-500.yaml\n"
     ]
    },
    {
     "name": "stderr",
     "output_type": "stream",
     "text": [
      "Sample: 100%|████████████████████████████| 1000/1000 [02:44,  6.09it/s, step size=7.85e-02, acc. prob=0.726]\n"
     ]
    },
    {
     "name": "stdout",
     "output_type": "stream",
     "text": [
      "diag:  {'sigma': OrderedDict([('n_eff', tensor(157.0460)), ('r_hat', tensor(1.0011))]), 'w': OrderedDict([('n_eff', tensor([119.2333, 211.6788, 337.7824, 152.9068, 193.0653, 172.9467, 270.5795,\n",
      "        197.9828, 164.2444, 202.3542, 208.3807, 120.2530, 341.0492, 234.1779,\n",
      "        221.3120])), ('r_hat', tensor([1.0075, 1.0177, 0.9987, 1.0038, 0.9989, 0.9992, 0.9996, 1.0045, 0.9989,\n",
      "        0.9989, 1.0167, 0.9981, 0.9996, 1.0038, 0.9982]))]), 'divergences': {'chain 0': [248, 263, 429]}, 'acceptance rate': {'chain 0': 0.982}}\n",
      "Registering the results in:  SX_IJCAI_M/2024-01-10/iter-1_n-5_k-2_m-14_sigma_w-1.0_sigma_p-1.0_n_samples-500.yaml\n"
     ]
    },
    {
     "name": "stderr",
     "output_type": "stream",
     "text": [
      "Sample: 100%|████████████████████████████| 1000/1000 [03:38,  4.58it/s, step size=5.55e-02, acc. prob=0.721]\n"
     ]
    },
    {
     "name": "stdout",
     "output_type": "stream",
     "text": [
      "diag:  {'sigma': OrderedDict([('n_eff', tensor(104.5995)), ('r_hat', tensor(1.0006))]), 'w': OrderedDict([('n_eff', tensor([158.5237, 161.4603, 215.6135, 129.9661, 232.2529, 160.1722, 141.6302,\n",
      "        223.0049, 221.3500, 109.3451, 229.0335, 146.6572, 213.0973, 118.9365,\n",
      "        136.2732])), ('r_hat', tensor([1.0025, 1.0032, 0.9982, 1.0004, 0.9980, 0.9988, 1.0022, 0.9981, 0.9982,\n",
      "        0.9990, 1.0005, 1.0097, 0.9995, 1.0124, 1.0006]))]), 'divergences': {'chain 0': [74, 337, 382, 453, 455]}, 'acceptance rate': {'chain 0': 0.972}}\n",
      "Registering the results in:  SX_IJCAI_M/2024-01-10/iter-1_n-5_k-2_m-15_sigma_w-1.0_sigma_p-1.0_n_samples-500.yaml\n"
     ]
    },
    {
     "name": "stderr",
     "output_type": "stream",
     "text": [
      "Sample: 100%|████████████████████████████| 1000/1000 [04:23,  3.79it/s, step size=4.83e-02, acc. prob=0.699]\n"
     ]
    },
    {
     "name": "stdout",
     "output_type": "stream",
     "text": [
      "diag:  {'sigma': OrderedDict([('n_eff', tensor(133.6777)), ('r_hat', tensor(0.9987))]), 'w': OrderedDict([('n_eff', tensor([162.2270, 298.8693,  98.4384, 155.5880, 120.6504, 169.9520, 172.9774,\n",
      "        166.9261, 112.4200, 139.8153, 147.1936, 108.7192, 152.7853, 129.0834,\n",
      "        112.0937])), ('r_hat', tensor([0.9981, 1.0073, 1.0311, 1.0016, 1.0014, 0.9980, 1.0151, 1.0125, 1.0369,\n",
      "        1.0191, 1.0056, 0.9992, 0.9997, 1.0127, 1.0051]))]), 'divergences': {'chain 0': [13, 18, 115, 157, 280]}, 'acceptance rate': {'chain 0': 0.97}}\n",
      "Registering the results in:  SX_IJCAI_M/2024-01-10/iter-1_n-5_k-2_m-16_sigma_w-1.0_sigma_p-1.0_n_samples-500.yaml\n"
     ]
    },
    {
     "name": "stderr",
     "output_type": "stream",
     "text": [
      "Sample: 100%|████████████████████████████| 1000/1000 [04:12,  3.95it/s, step size=4.45e-02, acc. prob=0.739]\n"
     ]
    },
    {
     "name": "stdout",
     "output_type": "stream",
     "text": [
      "diag:  {'sigma': OrderedDict([('n_eff', tensor(97.2510)), ('r_hat', tensor(1.0000))]), 'w': OrderedDict([('n_eff', tensor([ 65.6289, 176.5871, 151.9847, 231.6774, 191.6497,  78.8529, 141.1733,\n",
      "        128.1500, 126.9799, 221.7806, 181.3616, 265.2721,  85.5924, 113.8876,\n",
      "        158.3566])), ('r_hat', tensor([1.0180, 0.9981, 1.0022, 1.0011, 0.9985, 1.0109, 1.0077, 1.0092, 0.9999,\n",
      "        0.9980, 1.0002, 0.9998, 1.0073, 0.9980, 0.9993]))]), 'divergences': {'chain 0': [57, 102, 222, 224, 280, 285, 355, 429]}, 'acceptance rate': {'chain 0': 0.984}}\n",
      "Registering the results in:  SX_IJCAI_M/2024-01-10/iter-1_n-5_k-2_m-17_sigma_w-1.0_sigma_p-1.0_n_samples-500.yaml\n"
     ]
    },
    {
     "name": "stderr",
     "output_type": "stream",
     "text": [
      "Sample: 100%|████████████████████████████| 1000/1000 [02:45,  6.03it/s, step size=5.21e-02, acc. prob=0.849]\n"
     ]
    },
    {
     "name": "stdout",
     "output_type": "stream",
     "text": [
      "diag:  {'sigma': OrderedDict([('n_eff', tensor(82.5861)), ('r_hat', tensor(0.9986))]), 'w': OrderedDict([('n_eff', tensor([145.9950, 142.9805, 275.3833, 193.3784, 109.1696, 128.2510, 132.1931,\n",
      "        148.6814, 131.0045, 137.0755, 190.6039, 185.9586, 245.2297, 127.0961,\n",
      "        170.6259])), ('r_hat', tensor([0.9995, 1.0096, 1.0024, 1.0059, 1.0114, 1.0012, 1.0038, 0.9992, 1.0102,\n",
      "        0.9980, 0.9984, 0.9995, 1.0002, 1.0086, 0.9987]))]), 'divergences': {'chain 0': [177, 297]}, 'acceptance rate': {'chain 0': 0.986}}\n",
      "Registering the results in:  SX_IJCAI_M/2024-01-10/iter-1_n-5_k-2_m-18_sigma_w-1.0_sigma_p-1.0_n_samples-500.yaml\n"
     ]
    },
    {
     "name": "stderr",
     "output_type": "stream",
     "text": [
      "Sample: 100%|████████████████████████████| 1000/1000 [03:04,  5.42it/s, step size=7.34e-02, acc. prob=0.603]\n"
     ]
    },
    {
     "name": "stdout",
     "output_type": "stream",
     "text": [
      "diag:  {'sigma': OrderedDict([('n_eff', tensor(73.2517)), ('r_hat', tensor(1.0101))]), 'w': OrderedDict([('n_eff', tensor([109.1716, 116.9633,  23.4240,  95.6824,  42.3228,  92.5739, 151.7944,\n",
      "        161.1400, 101.5874,  59.1040,  54.6850,  23.2426, 141.6585,  39.3163,\n",
      "        100.8934])), ('r_hat', tensor([1.0003, 1.0072, 1.0842, 0.9981, 1.0823, 1.0043, 1.0095, 0.9994, 1.0568,\n",
      "        1.0331, 1.0197, 1.0812, 0.9987, 1.0602, 1.0343]))]), 'divergences': {'chain 0': [58, 91, 168, 176, 181, 446]}, 'acceptance rate': {'chain 0': 0.888}}\n",
      "Registering the results in:  SX_IJCAI_M/2024-01-10/iter-1_n-5_k-2_m-19_sigma_w-1.0_sigma_p-1.0_n_samples-500.yaml\n"
     ]
    },
    {
     "name": "stderr",
     "output_type": "stream",
     "text": [
      "Sample: 100%|████████████████████████████| 1000/1000 [02:54,  5.72it/s, step size=3.88e-02, acc. prob=0.745]\n"
     ]
    },
    {
     "name": "stdout",
     "output_type": "stream",
     "text": [
      "diag:  {'sigma': OrderedDict([('n_eff', tensor(70.8377)), ('r_hat', tensor(1.0288))]), 'w': OrderedDict([('n_eff', tensor([ 80.3108, 121.9598, 178.5888,  91.2689,  56.4628,  22.5116, 129.9678,\n",
      "        124.3731, 106.1593, 114.1045,  97.9460, 131.0107, 201.9280, 129.1040,\n",
      "        105.2822])), ('r_hat', tensor([1.0414, 1.0210, 1.0007, 1.0113, 1.0075, 1.0702, 1.0236, 0.9990, 1.0235,\n",
      "        1.0284, 1.0149, 1.0028, 0.9982, 1.0078, 1.0090]))]), 'divergences': {'chain 0': [28, 316, 367, 425, 447, 448, 456, 460, 465, 466, 468, 469, 470, 474, 477, 478, 480, 481, 482, 483, 488, 489, 491, 492, 493, 494, 495, 498, 499]}, 'acceptance rate': {'chain 0': 0.954}}\n",
      "Registering the results in:  SX_IJCAI_M/2024-01-10/iter-1_n-5_k-2_m-20_sigma_w-1.0_sigma_p-1.0_n_samples-500.yaml\n"
     ]
    },
    {
     "name": "stderr",
     "output_type": "stream",
     "text": [
      "Sample: 100%|████████████████████████████| 1000/1000 [02:06,  7.92it/s, step size=7.60e-02, acc. prob=0.756]\n"
     ]
    },
    {
     "name": "stdout",
     "output_type": "stream",
     "text": [
      "diag:  {'sigma': OrderedDict([('n_eff', tensor(57.8181)), ('r_hat', tensor(0.9984))]), 'w': OrderedDict([('n_eff', tensor([205.9788, 178.0602, 171.2505, 162.5032, 183.1028, 172.4873, 190.0032,\n",
      "        115.7728, 198.2734, 141.0909, 192.8822, 155.5354, 130.3566, 173.0150,\n",
      "        130.0226])), ('r_hat', tensor([1.0202, 0.9998, 1.0011, 1.0068, 1.0005, 0.9981, 1.0011, 1.0073, 1.0197,\n",
      "        1.0006, 0.9994, 1.0019, 1.0036, 0.9982, 1.0050]))]), 'divergences': {'chain 0': [56, 170, 244, 461]}, 'acceptance rate': {'chain 0': 0.984}}\n",
      "Registering the results in:  SX_IJCAI_M/2024-01-10/iter-1_n-5_k-2_m-21_sigma_w-1.0_sigma_p-1.0_n_samples-500.yaml\n"
     ]
    },
    {
     "name": "stderr",
     "output_type": "stream",
     "text": [
      "Sample: 100%|████████████████████████████| 1000/1000 [03:14,  5.14it/s, step size=6.93e-02, acc. prob=0.798]\n"
     ]
    },
    {
     "name": "stdout",
     "output_type": "stream",
     "text": [
      "diag:  {'sigma': OrderedDict([('n_eff', tensor(161.1306)), ('r_hat', tensor(1.0041))]), 'w': OrderedDict([('n_eff', tensor([104.5270, 112.3488, 104.2370, 141.7698,  82.2607, 132.7738, 142.8178,\n",
      "         96.5819, 140.4313, 105.7153, 190.3145, 149.0628,  89.0416, 177.7701,\n",
      "        126.3137])), ('r_hat', tensor([1.0184, 1.0301, 1.0285, 1.0229, 1.0070, 0.9980, 1.0150, 0.9986, 1.0043,\n",
      "        0.9981, 1.0219, 0.9984, 1.0006, 0.9987, 0.9982]))]), 'divergences': {'chain 0': [177, 346, 429]}, 'acceptance rate': {'chain 0': 0.97}}\n",
      "Registering the results in:  SX_IJCAI_M/2024-01-10/iter-1_n-5_k-2_m-22_sigma_w-1.0_sigma_p-1.0_n_samples-500.yaml\n"
     ]
    },
    {
     "name": "stderr",
     "output_type": "stream",
     "text": [
      "Sample: 100%|████████████████████████████| 1000/1000 [03:40,  4.53it/s, step size=2.54e-02, acc. prob=0.907]\n"
     ]
    },
    {
     "name": "stdout",
     "output_type": "stream",
     "text": [
      "diag:  {'sigma': OrderedDict([('n_eff', tensor(104.7775)), ('r_hat', tensor(1.0125))]), 'w': OrderedDict([('n_eff', tensor([109.5830, 213.7223, 106.9001, 194.8017, 159.7738, 135.7084, 119.8574,\n",
      "        102.9622, 190.1372,  69.8479, 257.3218, 139.8886, 113.4666, 207.3923,\n",
      "        177.0441])), ('r_hat', tensor([1.0057, 1.0157, 1.0006, 1.0171, 1.0219, 1.0138, 0.9995, 0.9992, 1.0299,\n",
      "        1.0315, 1.0042, 0.9981, 1.0006, 1.0049, 0.9982]))]), 'divergences': {'chain 0': [155, 406, 435, 459]}, 'acceptance rate': {'chain 0': 0.998}}\n",
      "Registering the results in:  SX_IJCAI_M/2024-01-10/iter-1_n-5_k-2_m-23_sigma_w-1.0_sigma_p-1.0_n_samples-500.yaml\n"
     ]
    },
    {
     "name": "stderr",
     "output_type": "stream",
     "text": [
      "Sample: 100%|████████████████████████████| 1000/1000 [02:20,  7.14it/s, step size=7.08e-02, acc. prob=0.537]\n"
     ]
    },
    {
     "name": "stdout",
     "output_type": "stream",
     "text": [
      "diag:  {'sigma': OrderedDict([('n_eff', tensor(8.5038)), ('r_hat', tensor(1.0436))]), 'w': OrderedDict([('n_eff', tensor([ 32.4293,  43.9560,  68.5914,  68.3125,  90.5558,  36.6630,  96.2097,\n",
      "         65.0590,  80.8425,  86.2784,  57.2498,  61.1464,  96.7827, 101.1277,\n",
      "        113.0489])), ('r_hat', tensor([1.0029, 1.0052, 0.9984, 1.0133, 1.0055, 1.0608, 0.9981, 1.0003, 1.0019,\n",
      "        1.0094, 1.0230, 1.0153, 1.0247, 1.0235, 1.0256]))]), 'divergences': {'chain 0': [50, 71, 203, 205, 207, 208, 212, 213, 216, 221, 224, 226, 229, 232, 240, 242, 244, 247, 248, 257, 273, 285, 287, 292, 297, 299, 300, 302, 311, 322, 397, 446]}, 'acceptance rate': {'chain 0': 0.82}}\n",
      "Registering the results in:  SX_IJCAI_M/2024-01-10/iter-1_n-5_k-2_m-24_sigma_w-1.0_sigma_p-1.0_n_samples-500.yaml\n"
     ]
    },
    {
     "name": "stderr",
     "output_type": "stream",
     "text": [
      "Sample: 100%|████████████████████████████| 1000/1000 [02:23,  6.99it/s, step size=4.30e-02, acc. prob=0.741]\n"
     ]
    },
    {
     "name": "stdout",
     "output_type": "stream",
     "text": [
      "diag:  {'sigma': OrderedDict([('n_eff', tensor(81.7178)), ('r_hat', tensor(1.0008))]), 'w': OrderedDict([('n_eff', tensor([ 55.1103,  48.9046, 124.2151,  62.2328, 177.5692,  55.1272, 106.2428,\n",
      "        114.9673,  63.6770,  84.1600,  71.7102,  57.6889,  61.2470,  96.6068,\n",
      "         83.7672])), ('r_hat', tensor([1.0281, 1.0160, 1.0003, 1.0092, 1.0020, 1.0105, 0.9982, 1.0232, 1.0277,\n",
      "        1.0042, 1.0172, 0.9980, 1.0076, 1.0000, 1.0024]))]), 'divergences': {'chain 0': [5, 12, 13, 14, 137, 290, 291, 303, 309, 441, 481, 483, 485, 486, 492, 498]}, 'acceptance rate': {'chain 0': 0.956}}\n",
      "Registering the results in:  SX_IJCAI_M/2024-01-10/iter-1_n-5_k-2_m-25_sigma_w-1.0_sigma_p-1.0_n_samples-500.yaml\n"
     ]
    },
    {
     "name": "stderr",
     "output_type": "stream",
     "text": [
      "Sample: 100%|████████████████████████████| 1000/1000 [03:29,  4.78it/s, step size=4.91e-02, acc. prob=0.879]\n"
     ]
    },
    {
     "name": "stdout",
     "output_type": "stream",
     "text": [
      "diag:  {'sigma': OrderedDict([('n_eff', tensor(97.7954)), ('r_hat', tensor(1.0249))]), 'w': OrderedDict([('n_eff', tensor([157.2888, 150.5698, 109.5251, 116.7285, 118.0277, 219.6057, 131.2828,\n",
      "        162.4923, 253.8398, 250.6745, 164.2465, 191.2269, 184.4571,  92.9213,\n",
      "        210.2238])), ('r_hat', tensor([0.9985, 0.9980, 1.0000, 1.0006, 0.9980, 0.9986, 1.0055, 1.0185, 0.9989,\n",
      "        0.9996, 1.0032, 0.9983, 0.9982, 0.9980, 0.9981]))]), 'divergences': {'chain 0': [74, 83, 232, 395]}, 'acceptance rate': {'chain 0': 0.998}}\n",
      "Registering the results in:  SX_IJCAI_M/2024-01-10/iter-1_n-5_k-2_m-26_sigma_w-1.0_sigma_p-1.0_n_samples-500.yaml\n"
     ]
    },
    {
     "name": "stderr",
     "output_type": "stream",
     "text": [
      "Sample: 100%|████████████████████████████| 1000/1000 [03:42,  4.49it/s, step size=4.25e-02, acc. prob=0.785]\n"
     ]
    },
    {
     "name": "stdout",
     "output_type": "stream",
     "text": [
      "diag:  {'sigma': OrderedDict([('n_eff', tensor(113.2568)), ('r_hat', tensor(1.0056))]), 'w': OrderedDict([('n_eff', tensor([123.9890, 143.9631, 110.4037, 134.6561, 130.6874, 102.3763,  75.0786,\n",
      "         93.6085, 151.0073, 112.8381, 121.0621, 140.8239, 140.2117, 145.9076,\n",
      "        155.9910])), ('r_hat', tensor([0.9980, 1.0010, 1.0031, 0.9984, 0.9984, 1.0014, 0.9990, 0.9984, 0.9991,\n",
      "        1.0024, 0.9980, 1.0011, 0.9999, 0.9986, 0.9995]))]), 'divergences': {'chain 0': [32, 87, 243, 322, 359, 424]}, 'acceptance rate': {'chain 0': 0.982}}\n",
      "Registering the results in:  SX_IJCAI_M/2024-01-10/iter-1_n-5_k-2_m-27_sigma_w-1.0_sigma_p-1.0_n_samples-500.yaml\n"
     ]
    },
    {
     "name": "stderr",
     "output_type": "stream",
     "text": [
      "Sample: 100%|████████████████████████████| 1000/1000 [02:48,  5.93it/s, step size=4.88e-02, acc. prob=0.806]\n"
     ]
    },
    {
     "name": "stdout",
     "output_type": "stream",
     "text": [
      "diag:  {'sigma': OrderedDict([('n_eff', tensor(94.3433)), ('r_hat', tensor(1.0130))]), 'w': OrderedDict([('n_eff', tensor([ 68.2219,  70.1139,  76.7317,  83.3229, 167.1653, 114.8631,  59.8028,\n",
      "        119.8891,  72.0799, 101.9974,  61.1439,  54.4280,  67.9093,  52.8316,\n",
      "         66.3600])), ('r_hat', tensor([0.9989, 1.0043, 1.0064, 1.0004, 0.9996, 1.0018, 1.0006, 1.0017, 1.0014,\n",
      "        1.0056, 1.0022, 0.9987, 1.0003, 0.9980, 0.9985]))]), 'divergences': {'chain 0': [14, 97, 155, 185, 418]}, 'acceptance rate': {'chain 0': 0.986}}\n",
      "Registering the results in:  SX_IJCAI_M/2024-01-10/iter-1_n-5_k-2_m-28_sigma_w-1.0_sigma_p-1.0_n_samples-500.yaml\n"
     ]
    },
    {
     "name": "stderr",
     "output_type": "stream",
     "text": [
      "Sample: 100%|████████████████████████████| 1000/1000 [02:55,  5.68it/s, step size=6.51e-02, acc. prob=0.687]\n"
     ]
    },
    {
     "name": "stdout",
     "output_type": "stream",
     "text": [
      "diag:  {'sigma': OrderedDict([('n_eff', tensor(51.2281)), ('r_hat', tensor(1.0043))]), 'w': OrderedDict([('n_eff', tensor([ 82.1410,  66.6417,  64.2704,  62.5538,  36.7038,  71.7587,  69.1854,\n",
      "        104.8636,  96.4271,  60.2565,  86.4377,  60.9724,  60.7507, 139.0873,\n",
      "         53.1076])), ('r_hat', tensor([1.0198, 1.0324, 1.0019, 0.9993, 1.0082, 0.9986, 0.9983, 0.9990, 1.0018,\n",
      "        0.9982, 1.0088, 1.0003, 1.0117, 1.0062, 0.9980]))]), 'divergences': {'chain 0': [63, 64, 71, 232, 237, 260, 295, 412, 423, 435, 440]}, 'acceptance rate': {'chain 0': 0.944}}\n",
      "Registering the results in:  SX_IJCAI_M/2024-01-10/iter-1_n-5_k-2_m-29_sigma_w-1.0_sigma_p-1.0_n_samples-500.yaml\n"
     ]
    },
    {
     "name": "stderr",
     "output_type": "stream",
     "text": [
      "Sample: 100%|████████████████████████████| 1000/1000 [02:49,  5.90it/s, step size=4.39e-02, acc. prob=0.797]\n"
     ]
    },
    {
     "name": "stdout",
     "output_type": "stream",
     "text": [
      "diag:  {'sigma': OrderedDict([('n_eff', tensor(111.1245)), ('r_hat', tensor(0.9996))]), 'w': OrderedDict([('n_eff', tensor([ 50.7479,  62.0986,  79.9296,  53.2555, 190.5015,  76.2723,  65.9150,\n",
      "         85.1185,  89.1561,  83.5296,  80.7744,  63.1288,  75.0795,  79.9478,\n",
      "         61.2596])), ('r_hat', tensor([1.0046, 1.0096, 1.0142, 1.0029, 1.0015, 1.0069, 1.0064, 1.0013, 1.0009,\n",
      "        1.0024, 1.0071, 0.9995, 1.0186, 0.9981, 1.0000]))]), 'divergences': {'chain 0': [64, 86, 290]}, 'acceptance rate': {'chain 0': 0.992}}\n",
      "Registering the results in:  SX_IJCAI_M/2024-01-10/iter-1_n-5_k-2_m-30_sigma_w-1.0_sigma_p-1.0_n_samples-500.yaml\n"
     ]
    },
    {
     "name": "stderr",
     "output_type": "stream",
     "text": [
      "Sample: 100%|████████████████████████████| 1000/1000 [03:19,  5.02it/s, step size=2.70e-02, acc. prob=0.902]\n"
     ]
    },
    {
     "name": "stdout",
     "output_type": "stream",
     "text": [
      "diag:  {'sigma': OrderedDict([('n_eff', tensor(159.5793)), ('r_hat', tensor(1.0033))]), 'w': OrderedDict([('n_eff', tensor([189.3694,  92.1763,  92.0851, 194.4526, 117.2973, 185.6325, 103.4523,\n",
      "         98.3989, 124.1886, 189.6345, 163.3706,  93.9099, 165.4010,  88.8816,\n",
      "        126.6193])), ('r_hat', tensor([0.9980, 1.0127, 1.0244, 0.9981, 1.0149, 0.9982, 1.0124, 1.0135, 1.0071,\n",
      "        1.0023, 1.0023, 1.0103, 1.0162, 1.0189, 1.0006]))]), 'divergences': {'chain 0': [24, 26, 40, 100, 161, 203, 253, 366, 388, 468]}, 'acceptance rate': {'chain 0': 0.994}}\n",
      "Registering the results in:  SX_IJCAI_M/2024-01-10/iter-1_n-5_k-2_m-31_sigma_w-1.0_sigma_p-1.0_n_samples-500.yaml\n"
     ]
    },
    {
     "name": "stderr",
     "output_type": "stream",
     "text": [
      "Sample: 100%|████████████████████████████| 1000/1000 [02:40,  6.21it/s, step size=4.08e-02, acc. prob=0.867]\n"
     ]
    },
    {
     "name": "stdout",
     "output_type": "stream",
     "text": [
      "diag:  {'sigma': OrderedDict([('n_eff', tensor(111.3100)), ('r_hat', tensor(0.9985))]), 'w': OrderedDict([('n_eff', tensor([ 77.8033, 269.4120,  67.6510,  73.8763, 126.5325,  68.2439, 155.8293,\n",
      "        129.0993,  58.9107,  85.3788,  84.9065,  78.2198, 164.1067,  89.6050,\n",
      "         66.9473])), ('r_hat', tensor([1.0462, 1.0004, 1.0564, 1.0521, 1.0112, 1.0617, 1.0181, 0.9985, 1.0765,\n",
      "        1.0548, 1.0291, 1.0451, 1.0377, 1.0467, 1.0731]))]), 'divergences': {'chain 0': [61, 297]}, 'acceptance rate': {'chain 0': 0.996}}\n",
      "Registering the results in:  SX_IJCAI_M/2024-01-10/iter-2_n-5_k-2_m-2_sigma_w-1.0_sigma_p-1.0_n_samples-500.yaml\n"
     ]
    },
    {
     "name": "stderr",
     "output_type": "stream",
     "text": [
      "Sample: 100%|████████████████████████████| 1000/1000 [00:27, 36.09it/s, step size=2.89e-01, acc. prob=0.876]\n"
     ]
    },
    {
     "name": "stdout",
     "output_type": "stream",
     "text": [
      "diag:  {'sigma': OrderedDict([('n_eff', tensor(688.5529)), ('r_hat', tensor(0.9982))]), 'w': OrderedDict([('n_eff', tensor([ 547.8885,  596.6469,  972.9372,  823.3411,  657.6887, 1142.5688,\n",
      "         534.1609,  582.5209,  541.1809,  795.8984,  760.3785,  972.2430,\n",
      "         693.0504,  557.7157,  636.1674])), ('r_hat', tensor([1.0027, 0.9984, 1.0046, 0.9980, 1.0020, 0.9980, 1.0084, 0.9981, 1.0036,\n",
      "        0.9985, 1.0024, 0.9995, 0.9980, 0.9988, 0.9984]))]), 'divergences': {'chain 0': [263, 328, 336, 459]}, 'acceptance rate': {'chain 0': 0.994}}\n",
      "Registering the results in:  SX_IJCAI_M/2024-01-10/iter-2_n-5_k-2_m-3_sigma_w-1.0_sigma_p-1.0_n_samples-500.yaml\n"
     ]
    },
    {
     "name": "stderr",
     "output_type": "stream",
     "text": [
      "Sample: 100%|████████████████████████████| 1000/1000 [00:45, 22.01it/s, step size=2.17e-01, acc. prob=0.776]\n"
     ]
    },
    {
     "name": "stdout",
     "output_type": "stream",
     "text": [
      "diag:  {'sigma': OrderedDict([('n_eff', tensor(183.3292)), ('r_hat', tensor(1.0026))]), 'w': OrderedDict([('n_eff', tensor([372.7312, 330.4970, 406.7522, 284.0686, 316.9982, 197.5797, 320.8990,\n",
      "        218.8656, 256.9329, 238.0340, 121.3812, 255.1927, 262.0409, 275.0268,\n",
      "        308.6170])), ('r_hat', tensor([0.9984, 0.9980, 1.0112, 1.0012, 1.0005, 1.0057, 1.0002, 0.9980, 0.9999,\n",
      "        1.0010, 1.0029, 1.0043, 1.0010, 1.0041, 0.9982]))]), 'divergences': {'chain 0': [145, 150, 260, 262, 270, 441]}, 'acceptance rate': {'chain 0': 0.972}}\n",
      "Registering the results in:  SX_IJCAI_M/2024-01-10/iter-2_n-5_k-2_m-4_sigma_w-1.0_sigma_p-1.0_n_samples-500.yaml\n"
     ]
    },
    {
     "name": "stderr",
     "output_type": "stream",
     "text": [
      "Sample: 100%|████████████████████████████| 1000/1000 [00:46, 21.31it/s, step size=2.52e-01, acc. prob=0.699]\n"
     ]
    },
    {
     "name": "stdout",
     "output_type": "stream",
     "text": [
      "diag:  {'sigma': OrderedDict([('n_eff', tensor(214.8440)), ('r_hat', tensor(0.9999))]), 'w': OrderedDict([('n_eff', tensor([246.5981, 186.0323, 206.8754, 113.6575, 292.2923, 238.0794, 186.6692,\n",
      "        267.0969, 131.8997, 166.7224,  66.9910, 251.8114, 202.9026, 176.3730,\n",
      "         87.1250])), ('r_hat', tensor([0.9993, 1.0117, 1.0079, 1.0021, 0.9981, 0.9980, 1.0066, 1.0112, 1.0057,\n",
      "        0.9981, 1.0062, 1.0014, 1.0021, 0.9983, 1.0020]))]), 'divergences': {'chain 0': [64, 115, 143, 148, 153, 232, 233, 244, 245, 276, 278, 287, 288, 289, 290, 298, 299, 305, 368, 420]}, 'acceptance rate': {'chain 0': 0.966}}\n",
      "Registering the results in:  SX_IJCAI_M/2024-01-10/iter-2_n-5_k-2_m-5_sigma_w-1.0_sigma_p-1.0_n_samples-500.yaml\n"
     ]
    },
    {
     "name": "stderr",
     "output_type": "stream",
     "text": [
      "Sample: 100%|████████████████████████████| 1000/1000 [00:55, 17.99it/s, step size=1.71e-01, acc. prob=0.681]\n"
     ]
    },
    {
     "name": "stdout",
     "output_type": "stream",
     "text": [
      "diag:  {'sigma': OrderedDict([('n_eff', tensor(100.1301)), ('r_hat', tensor(0.9989))]), 'w': OrderedDict([('n_eff', tensor([107.2847,  55.2899, 225.9700, 140.9473,  69.4603, 141.7483, 114.0183,\n",
      "        394.5164, 156.3296, 195.2309, 273.2805, 406.1366, 379.6292, 277.4939,\n",
      "        294.3072])), ('r_hat', tensor([1.0537, 1.0250, 0.9994, 1.0249, 1.0120, 1.0072, 1.0000, 1.0006, 1.0282,\n",
      "        0.9981, 1.0006, 1.0014, 0.9987, 1.0172, 1.0005]))]), 'divergences': {'chain 0': [55, 221, 222, 223, 348, 352, 355, 357, 359, 361, 362, 363, 371, 372, 374, 375, 376, 378, 383, 384, 385, 388, 389, 392, 393, 397, 399]}, 'acceptance rate': {'chain 0': 0.958}}\n",
      "Registering the results in:  SX_IJCAI_M/2024-01-10/iter-2_n-5_k-2_m-6_sigma_w-1.0_sigma_p-1.0_n_samples-500.yaml\n"
     ]
    },
    {
     "name": "stderr",
     "output_type": "stream",
     "text": [
      "Sample: 100%|████████████████████████████| 1000/1000 [01:26, 11.55it/s, step size=8.66e-02, acc. prob=0.868]\n"
     ]
    },
    {
     "name": "stdout",
     "output_type": "stream",
     "text": [
      "diag:  {'sigma': OrderedDict([('n_eff', tensor(215.6622)), ('r_hat', tensor(1.0285))]), 'w': OrderedDict([('n_eff', tensor([436.7868, 374.8816, 375.2989, 321.7111, 379.9272, 585.7725, 530.6642,\n",
      "        342.5460, 562.0662, 305.2385, 497.3987, 330.7178, 376.0288, 412.3350,\n",
      "        302.4125])), ('r_hat', tensor([0.9993, 0.9981, 1.0084, 1.0093, 0.9983, 0.9990, 0.9982, 1.0077, 0.9984,\n",
      "        0.9980, 0.9987, 0.9982, 1.0074, 0.9987, 1.0065]))]), 'divergences': {'chain 0': [88, 252]}, 'acceptance rate': {'chain 0': 0.996}}\n",
      "Registering the results in:  SX_IJCAI_M/2024-01-10/iter-2_n-5_k-2_m-7_sigma_w-1.0_sigma_p-1.0_n_samples-500.yaml\n"
     ]
    },
    {
     "name": "stderr",
     "output_type": "stream",
     "text": [
      "Sample: 100%|████████████████████████████| 1000/1000 [01:35, 10.45it/s, step size=1.17e-01, acc. prob=0.777]\n"
     ]
    },
    {
     "name": "stdout",
     "output_type": "stream",
     "text": [
      "diag:  {'sigma': OrderedDict([('n_eff', tensor(267.9800)), ('r_hat', tensor(0.9981))]), 'w': OrderedDict([('n_eff', tensor([265.9751, 160.0131, 208.9076, 326.5426, 231.1418, 252.5714, 276.2121,\n",
      "        183.5849, 266.7082, 264.0045, 166.8203, 243.0757, 440.6656, 268.9318,\n",
      "        184.0846])), ('r_hat', tensor([0.9981, 0.9983, 0.9981, 1.0017, 0.9994, 1.0047, 1.0063, 1.0264, 0.9981,\n",
      "        0.9980, 0.9989, 1.0033, 1.0117, 1.0022, 1.0058]))]), 'divergences': {'chain 0': [27, 29, 200]}, 'acceptance rate': {'chain 0': 0.986}}\n",
      "Registering the results in:  SX_IJCAI_M/2024-01-10/iter-2_n-5_k-2_m-8_sigma_w-1.0_sigma_p-1.0_n_samples-500.yaml\n"
     ]
    },
    {
     "name": "stderr",
     "output_type": "stream",
     "text": [
      "Sample: 100%|████████████████████████████| 1000/1000 [01:21, 12.22it/s, step size=6.23e-02, acc. prob=0.904]\n"
     ]
    },
    {
     "name": "stdout",
     "output_type": "stream",
     "text": [
      "diag:  {'sigma': OrderedDict([('n_eff', tensor(204.3485)), ('r_hat', tensor(1.0110))]), 'w': OrderedDict([('n_eff', tensor([276.8011, 365.7872, 239.8187, 426.8730, 367.6500, 272.4357, 391.9895,\n",
      "        540.4686, 460.4162, 273.9966, 382.7822, 501.9655, 551.8944, 419.7378,\n",
      "        536.1578])), ('r_hat', tensor([1.0051, 0.9987, 0.9987, 0.9985, 0.9993, 0.9993, 1.0049, 0.9980, 0.9980,\n",
      "        0.9989, 0.9981, 0.9980, 0.9980, 0.9984, 1.0012]))]), 'divergences': {'chain 0': [318]}, 'acceptance rate': {'chain 0': 0.992}}\n",
      "Registering the results in:  SX_IJCAI_M/2024-01-10/iter-2_n-5_k-2_m-9_sigma_w-1.0_sigma_p-1.0_n_samples-500.yaml\n"
     ]
    },
    {
     "name": "stderr",
     "output_type": "stream",
     "text": [
      "Sample: 100%|████████████████████████████| 1000/1000 [02:27,  6.78it/s, step size=7.23e-02, acc. prob=0.624]\n"
     ]
    },
    {
     "name": "stdout",
     "output_type": "stream",
     "text": [
      "diag:  {'sigma': OrderedDict([('n_eff', tensor(14.6695)), ('r_hat', tensor(1.1400))]), 'w': OrderedDict([('n_eff', tensor([104.1017, 132.6895, 254.0073, 114.6052,  55.2812, 199.9611, 150.8890,\n",
      "         39.0415,   9.9730,  82.5517,  88.8961,  11.4530, 211.9546,  14.1929,\n",
      "         16.4222])), ('r_hat', tensor([1.0396, 1.0003, 1.0013, 1.0862, 1.0713, 1.0273, 1.0081, 1.1260, 1.1972,\n",
      "        1.0048, 0.9980, 1.1461, 0.9989, 1.1097, 1.1241]))]), 'divergences': {'chain 0': [82, 361, 395, 401, 403, 407, 412, 416, 425, 426, 427, 428, 430, 432, 433, 435, 437, 441, 442, 443, 444, 445, 447, 451, 452, 457, 458, 459, 461, 462, 464, 471, 472, 474, 476, 477, 479, 480, 483, 484, 485, 486, 488, 489, 490, 494, 495, 498, 499]}, 'acceptance rate': {'chain 0': 0.896}}\n",
      "Registering the results in:  SX_IJCAI_M/2024-01-10/iter-2_n-5_k-2_m-10_sigma_w-1.0_sigma_p-1.0_n_samples-500.yaml\n"
     ]
    },
    {
     "name": "stderr",
     "output_type": "stream",
     "text": [
      "Sample: 100%|████████████████████████████| 1000/1000 [03:43,  4.48it/s, step size=3.44e-02, acc. prob=0.887]\n"
     ]
    },
    {
     "name": "stdout",
     "output_type": "stream",
     "text": [
      "diag:  {'sigma': OrderedDict([('n_eff', tensor(201.3846)), ('r_hat', tensor(1.0043))]), 'w': OrderedDict([('n_eff', tensor([238.7706, 333.8867, 282.7136, 291.8056, 230.3621, 278.6651, 409.2971,\n",
      "        320.5161, 257.0960, 404.8846, 279.2283, 372.6732, 275.1610, 424.8624,\n",
      "        270.0440])), ('r_hat', tensor([0.9983, 1.0002, 0.9981, 1.0065, 0.9999, 0.9996, 1.0033, 0.9986, 0.9980,\n",
      "        0.9988, 0.9988, 0.9983, 0.9986, 0.9982, 1.0004]))]), 'divergences': {'chain 0': [328]}, 'acceptance rate': {'chain 0': 0.996}}\n",
      "Registering the results in:  SX_IJCAI_M/2024-01-10/iter-2_n-5_k-2_m-11_sigma_w-1.0_sigma_p-1.0_n_samples-500.yaml\n"
     ]
    },
    {
     "name": "stderr",
     "output_type": "stream",
     "text": [
      "Sample: 100%|████████████████████████████| 1000/1000 [02:44,  6.07it/s, step size=3.83e-02, acc. prob=0.848]\n"
     ]
    },
    {
     "name": "stdout",
     "output_type": "stream",
     "text": [
      "diag:  {'sigma': OrderedDict([('n_eff', tensor(93.4797)), ('r_hat', tensor(1.0007))]), 'w': OrderedDict([('n_eff', tensor([334.9507, 159.8963, 277.8399, 248.2256, 177.6944, 287.8574, 318.0336,\n",
      "        188.7721, 312.4560, 190.6810, 275.1104, 204.8353, 215.1994, 165.9529,\n",
      "        233.5527])), ('r_hat', tensor([0.9996, 1.0006, 0.9980, 0.9996, 0.9986, 0.9987, 0.9987, 1.0035, 1.0014,\n",
      "        0.9985, 1.0029, 1.0004, 1.0010, 1.0039, 1.0005]))]), 'divergences': {'chain 0': [97, 106, 230, 302, 319, 369, 372, 379, 384, 386, 387, 483, 490]}, 'acceptance rate': {'chain 0': 0.988}}\n",
      "Registering the results in:  SX_IJCAI_M/2024-01-10/iter-2_n-5_k-2_m-12_sigma_w-1.0_sigma_p-1.0_n_samples-500.yaml\n"
     ]
    },
    {
     "name": "stderr",
     "output_type": "stream",
     "text": [
      "Sample: 100%|████████████████████████████| 1000/1000 [01:39, 10.02it/s, step size=5.89e-02, acc. prob=0.833]\n"
     ]
    },
    {
     "name": "stdout",
     "output_type": "stream",
     "text": [
      "diag:  {'sigma': OrderedDict([('n_eff', tensor(177.9725)), ('r_hat', tensor(1.0019))]), 'w': OrderedDict([('n_eff', tensor([189.5452, 160.5553, 231.3985, 232.5700, 219.2392, 247.0753, 237.0535,\n",
      "        335.0513, 157.7076, 133.7534, 329.7857, 241.1854, 187.3703, 169.3981,\n",
      "        193.2500])), ('r_hat', tensor([1.0014, 1.0004, 0.9982, 1.0003, 1.0013, 1.0077, 0.9983, 0.9996, 1.0023,\n",
      "        1.0172, 1.0002, 1.0034, 1.0010, 0.9994, 1.0012]))]), 'divergences': {'chain 0': [198, 304, 472, 478]}, 'acceptance rate': {'chain 0': 0.988}}\n",
      "Registering the results in:  SX_IJCAI_M/2024-01-10/iter-2_n-5_k-2_m-13_sigma_w-1.0_sigma_p-1.0_n_samples-500.yaml\n"
     ]
    },
    {
     "name": "stderr",
     "output_type": "stream",
     "text": [
      "Sample: 100%|████████████████████████████| 1000/1000 [01:27, 11.40it/s, step size=6.61e-02, acc. prob=0.739]\n"
     ]
    },
    {
     "name": "stdout",
     "output_type": "stream",
     "text": [
      "diag:  {'sigma': OrderedDict([('n_eff', tensor(95.7640)), ('r_hat', tensor(1.0024))]), 'w': OrderedDict([('n_eff', tensor([146.5591, 125.0953, 111.2655, 188.2907, 212.2879, 216.5924, 139.6814,\n",
      "        194.5265, 200.6885, 129.4363, 125.2268, 171.2469, 238.9100, 201.9990,\n",
      "         85.9684])), ('r_hat', tensor([0.9982, 1.0000, 0.9981, 0.9986, 0.9983, 1.0070, 1.0109, 0.9983, 1.0047,\n",
      "        0.9983, 0.9983, 0.9985, 1.0129, 1.0179, 1.0048]))]), 'divergences': {'chain 0': [75, 76, 95, 217, 222, 243, 247, 255, 283, 290, 293, 319, 342, 424, 479]}, 'acceptance rate': {'chain 0': 0.962}}\n",
      "Registering the results in:  SX_IJCAI_M/2024-01-10/iter-2_n-5_k-2_m-14_sigma_w-1.0_sigma_p-1.0_n_samples-500.yaml\n"
     ]
    },
    {
     "name": "stderr",
     "output_type": "stream",
     "text": [
      "Sample: 100%|████████████████████████████| 1000/1000 [02:04,  8.01it/s, step size=4.95e-02, acc. prob=0.773]\n"
     ]
    },
    {
     "name": "stdout",
     "output_type": "stream",
     "text": [
      "diag:  {'sigma': OrderedDict([('n_eff', tensor(59.6197)), ('r_hat', tensor(1.0105))]), 'w': OrderedDict([('n_eff', tensor([109.4790, 171.8951, 138.9242, 166.6128, 134.4572,  99.4571,  66.7560,\n",
      "        247.5844, 202.2101, 133.0704, 214.6131, 265.7727, 136.3763, 163.8982,\n",
      "        241.8714])), ('r_hat', tensor([1.0029, 0.9983, 0.9993, 1.0090, 1.0106, 0.9983, 1.0081, 0.9994, 0.9992,\n",
      "        1.0041, 0.9981, 0.9981, 1.0011, 1.0086, 0.9981]))]), 'divergences': {'chain 0': [350, 423, 429, 446, 458]}, 'acceptance rate': {'chain 0': 0.976}}\n",
      "Registering the results in:  SX_IJCAI_M/2024-01-10/iter-2_n-5_k-2_m-15_sigma_w-1.0_sigma_p-1.0_n_samples-500.yaml\n"
     ]
    },
    {
     "name": "stderr",
     "output_type": "stream",
     "text": [
      "Sample: 100%|████████████████████████████| 1000/1000 [02:04,  8.05it/s, step size=6.91e-02, acc. prob=0.826]\n"
     ]
    },
    {
     "name": "stdout",
     "output_type": "stream",
     "text": [
      "diag:  {'sigma': OrderedDict([('n_eff', tensor(189.0819)), ('r_hat', tensor(0.9986))]), 'w': OrderedDict([('n_eff', tensor([133.6123, 192.0789, 249.5984, 239.4906, 182.1279, 264.4538, 258.4324,\n",
      "        130.6794, 282.5913, 232.6638, 161.9419, 254.3343, 260.3530, 262.5161,\n",
      "        178.0449])), ('r_hat', tensor([0.9989, 1.0019, 0.9989, 0.9998, 0.9994, 0.9981, 0.9987, 1.0022, 1.0007,\n",
      "        0.9986, 0.9983, 0.9990, 1.0135, 0.9990, 0.9980]))]), 'divergences': {'chain 0': [70, 85, 87, 119, 227, 300, 301, 336, 407, 449]}, 'acceptance rate': {'chain 0': 0.994}}\n",
      "Registering the results in:  SX_IJCAI_M/2024-01-10/iter-2_n-5_k-2_m-16_sigma_w-1.0_sigma_p-1.0_n_samples-500.yaml\n"
     ]
    },
    {
     "name": "stderr",
     "output_type": "stream",
     "text": [
      "Sample: 100%|████████████████████████████| 1000/1000 [02:57,  5.62it/s, step size=7.97e-02, acc. prob=0.700]\n"
     ]
    },
    {
     "name": "stdout",
     "output_type": "stream",
     "text": [
      "diag:  {'sigma': OrderedDict([('n_eff', tensor(77.0850)), ('r_hat', tensor(1.0241))]), 'w': OrderedDict([('n_eff', tensor([122.0454, 115.4805, 188.6108, 119.9133, 116.2000, 197.8178, 233.4246,\n",
      "        187.1835, 181.7762, 190.7435, 132.9447, 102.5181, 118.3978, 247.4688,\n",
      "        165.2617])), ('r_hat', tensor([1.0006, 0.9985, 1.0295, 0.9996, 1.0274, 1.0131, 0.9980, 1.0356, 1.0086,\n",
      "        1.0179, 1.0027, 1.0241, 1.0103, 0.9993, 1.0002]))]), 'divergences': {'chain 0': [121, 157, 286, 324, 452, 491]}, 'acceptance rate': {'chain 0': 0.956}}\n",
      "Registering the results in:  SX_IJCAI_M/2024-01-10/iter-2_n-5_k-2_m-17_sigma_w-1.0_sigma_p-1.0_n_samples-500.yaml\n"
     ]
    },
    {
     "name": "stderr",
     "output_type": "stream",
     "text": [
      "Sample: 100%|████████████████████████████| 1000/1000 [02:40,  6.23it/s, step size=7.29e-02, acc. prob=0.722]\n"
     ]
    },
    {
     "name": "stdout",
     "output_type": "stream",
     "text": [
      "diag:  {'sigma': OrderedDict([('n_eff', tensor(41.6743)), ('r_hat', tensor(1.0547))]), 'w': OrderedDict([('n_eff', tensor([ 23.0097,  37.1379, 110.5700,  40.2881,  91.6931,  14.9218, 165.9714,\n",
      "         63.6721,  46.2461,  61.7376,  31.2913,  38.3049, 148.3874,  18.6919,\n",
      "        156.1884])), ('r_hat', tensor([1.0515, 1.0088, 1.0012, 1.0228, 1.0013, 1.0858, 0.9996, 1.0244, 1.0342,\n",
      "        1.0326, 1.1044, 1.0109, 1.0171, 1.0463, 0.9980]))]), 'divergences': {'chain 0': [43, 47, 52, 54, 61, 62, 65, 69, 79, 81, 83, 85, 88, 89, 94, 100, 101, 102, 103, 104, 110, 118, 119, 123, 126, 133, 237]}, 'acceptance rate': {'chain 0': 0.914}}\n",
      "Registering the results in:  SX_IJCAI_M/2024-01-10/iter-2_n-5_k-2_m-18_sigma_w-1.0_sigma_p-1.0_n_samples-500.yaml\n"
     ]
    },
    {
     "name": "stderr",
     "output_type": "stream",
     "text": [
      "Sample: 100%|████████████████████████████| 1000/1000 [03:48,  4.37it/s, step size=6.05e-02, acc. prob=0.723]\n"
     ]
    },
    {
     "name": "stdout",
     "output_type": "stream",
     "text": [
      "diag:  {'sigma': OrderedDict([('n_eff', tensor(80.2710)), ('r_hat', tensor(1.0010))]), 'w': OrderedDict([('n_eff', tensor([ 96.4848, 212.0133,  85.8442,  71.3808,  51.0566,  65.0898,  62.6297,\n",
      "         60.0279, 112.6693, 109.8915, 191.6703,  90.9837, 125.3563,  85.7537,\n",
      "         30.1026])), ('r_hat', tensor([1.0025, 0.9980, 0.9985, 0.9985, 1.0170, 1.0170, 1.0114, 1.0277, 1.0031,\n",
      "        0.9991, 0.9994, 1.0116, 0.9981, 1.0092, 1.0404]))]), 'divergences': {'chain 0': [30, 118, 120, 121, 124, 126, 127, 132, 134, 138, 140, 141, 152, 156, 185, 226, 317, 364, 399, 462, 472]}, 'acceptance rate': {'chain 0': 0.968}}\n",
      "Registering the results in:  SX_IJCAI_M/2024-01-10/iter-2_n-5_k-2_m-19_sigma_w-1.0_sigma_p-1.0_n_samples-500.yaml\n"
     ]
    },
    {
     "name": "stderr",
     "output_type": "stream",
     "text": [
      "Sample: 100%|████████████████████████████| 1000/1000 [03:37,  4.61it/s, step size=4.81e-02, acc. prob=0.877]\n"
     ]
    },
    {
     "name": "stdout",
     "output_type": "stream",
     "text": [
      "diag:  {'sigma': OrderedDict([('n_eff', tensor(112.8427)), ('r_hat', tensor(1.0289))]), 'w': OrderedDict([('n_eff', tensor([150.3691, 132.7650, 127.3650, 162.2137, 142.7011, 226.6507, 149.2815,\n",
      "        146.2423, 172.3241, 162.5783, 197.1728, 133.4204, 117.8660, 151.0237,\n",
      "        134.8463])), ('r_hat', tensor([1.0012, 0.9996, 1.0056, 1.0023, 1.0027, 1.0104, 0.9985, 0.9983, 1.0302,\n",
      "        0.9980, 1.0116, 0.9990, 1.0131, 1.0022, 1.0080]))]), 'divergences': {'chain 0': [185, 311, 429]}, 'acceptance rate': {'chain 0': 0.998}}\n",
      "Registering the results in:  SX_IJCAI_M/2024-01-10/iter-2_n-5_k-2_m-20_sigma_w-1.0_sigma_p-1.0_n_samples-500.yaml\n"
     ]
    },
    {
     "name": "stderr",
     "output_type": "stream",
     "text": [
      "Sample: 100%|████████████████████████████| 1000/1000 [03:26,  4.85it/s, step size=5.17e-02, acc. prob=0.855]\n"
     ]
    },
    {
     "name": "stdout",
     "output_type": "stream",
     "text": [
      "diag:  {'sigma': OrderedDict([('n_eff', tensor(111.7384)), ('r_hat', tensor(0.9980))]), 'w': OrderedDict([('n_eff', tensor([129.9706, 184.9635,  87.2505, 112.2263,  66.8581, 185.5924, 119.0406,\n",
      "        149.1260, 112.8793, 165.0445, 113.1583, 125.9139, 113.2212, 211.6170,\n",
      "        190.5879])), ('r_hat', tensor([1.0121, 1.0120, 1.0548, 1.0147, 1.0018, 1.0004, 1.0353, 1.0107, 0.9991,\n",
      "        0.9995, 1.0055, 1.0166, 1.0351, 0.9984, 0.9987]))]), 'divergences': {'chain 0': [439]}, 'acceptance rate': {'chain 0': 0.998}}\n",
      "Registering the results in:  SX_IJCAI_M/2024-01-10/iter-2_n-5_k-2_m-21_sigma_w-1.0_sigma_p-1.0_n_samples-500.yaml\n"
     ]
    },
    {
     "name": "stderr",
     "output_type": "stream",
     "text": [
      "Sample: 100%|████████████████████████████| 1000/1000 [04:14,  3.93it/s, step size=3.82e-02, acc. prob=0.840]\n"
     ]
    },
    {
     "name": "stdout",
     "output_type": "stream",
     "text": [
      "diag:  {'sigma': OrderedDict([('n_eff', tensor(122.4163)), ('r_hat', tensor(0.9982))]), 'w': OrderedDict([('n_eff', tensor([138.6247,  80.9062,  79.8961,  72.3404,  69.7695, 154.4438,  77.4974,\n",
      "         86.1995, 178.5156, 131.7414,  75.3949,  91.0190, 180.2440, 215.7222,\n",
      "         60.4881])), ('r_hat', tensor([0.9998, 0.9981, 1.0053, 0.9980, 0.9985, 0.9983, 1.0016, 0.9989, 0.9980,\n",
      "        1.0096, 0.9989, 1.0044, 0.9985, 1.0005, 0.9991]))]), 'divergences': {'chain 0': [4, 141, 369, 454, 465]}, 'acceptance rate': {'chain 0': 0.992}}\n",
      "Registering the results in:  SX_IJCAI_M/2024-01-10/iter-2_n-5_k-2_m-22_sigma_w-1.0_sigma_p-1.0_n_samples-500.yaml\n"
     ]
    },
    {
     "name": "stderr",
     "output_type": "stream",
     "text": [
      "Sample: 100%|████████████████████████████| 1000/1000 [03:24,  4.89it/s, step size=6.24e-02, acc. prob=0.694]\n"
     ]
    },
    {
     "name": "stdout",
     "output_type": "stream",
     "text": [
      "diag:  {'sigma': OrderedDict([('n_eff', tensor(58.7440)), ('r_hat', tensor(1.0025))]), 'w': OrderedDict([('n_eff', tensor([ 57.9332,  60.8567, 176.1411,  66.9959, 100.3810,  66.0574,  98.7286,\n",
      "         60.9789,  82.6417,  96.0124,  90.5940,  72.3301, 184.8667,  58.1634,\n",
      "         82.6681])), ('r_hat', tensor([1.0358, 1.0822, 1.0050, 1.0478, 1.0504, 1.0145, 1.0202, 1.0109, 0.9992,\n",
      "        0.9988, 1.0017, 0.9983, 1.0004, 1.0585, 1.0481]))]), 'divergences': {'chain 0': [33, 51, 53, 60, 122, 289, 379, 435]}, 'acceptance rate': {'chain 0': 0.958}}\n",
      "Registering the results in:  SX_IJCAI_M/2024-01-10/iter-2_n-5_k-2_m-23_sigma_w-1.0_sigma_p-1.0_n_samples-500.yaml\n"
     ]
    },
    {
     "name": "stderr",
     "output_type": "stream",
     "text": [
      "Sample: 100%|████████████████████████████| 1000/1000 [04:44,  3.52it/s, step size=2.89e-02, acc. prob=0.907]\n"
     ]
    },
    {
     "name": "stdout",
     "output_type": "stream",
     "text": [
      "diag:  {'sigma': OrderedDict([('n_eff', tensor(174.4782)), ('r_hat', tensor(1.0004))]), 'w': OrderedDict([('n_eff', tensor([137.3159,  99.5680, 217.9471,  80.8043, 159.6708, 141.3270, 287.7888,\n",
      "        203.7132, 104.9921, 164.1260, 139.3810, 135.0462, 142.6503, 114.2608,\n",
      "        159.6064])), ('r_hat', tensor([0.9981, 1.0078, 1.0037, 1.0075, 1.0021, 0.9980, 1.0017, 0.9991, 1.0084,\n",
      "        1.0020, 0.9988, 0.9995, 1.0159, 1.0191, 1.0019]))]), 'divergences': {'chain 0': [88, 264]}, 'acceptance rate': {'chain 0': 0.994}}\n",
      "Registering the results in:  SX_IJCAI_M/2024-01-10/iter-2_n-5_k-2_m-24_sigma_w-1.0_sigma_p-1.0_n_samples-500.yaml\n"
     ]
    },
    {
     "name": "stderr",
     "output_type": "stream",
     "text": [
      "Sample: 100%|████████████████████████████| 1000/1000 [02:51,  5.83it/s, step size=7.02e-02, acc. prob=0.659]\n"
     ]
    },
    {
     "name": "stdout",
     "output_type": "stream",
     "text": [
      "diag:  {'sigma': OrderedDict([('n_eff', tensor(73.5572)), ('r_hat', tensor(1.0070))]), 'w': OrderedDict([('n_eff', tensor([151.2845, 177.1347, 135.8889,  59.8188,  66.7477,  47.3771,  71.0994,\n",
      "         98.2790,  38.9318,  43.6209, 161.3571, 137.1434,  51.6201, 161.3442,\n",
      "         99.6632])), ('r_hat', tensor([1.0005, 1.0035, 1.0255, 1.0490, 1.0241, 1.0378, 1.0275, 1.0168, 1.0615,\n",
      "        1.0420, 0.9988, 1.0216, 1.0428, 1.0125, 1.0137]))]), 'divergences': {'chain 0': [184]}, 'acceptance rate': {'chain 0': 0.936}}\n",
      "Registering the results in:  SX_IJCAI_M/2024-01-10/iter-2_n-5_k-2_m-25_sigma_w-1.0_sigma_p-1.0_n_samples-500.yaml\n"
     ]
    },
    {
     "name": "stderr",
     "output_type": "stream",
     "text": [
      "Sample: 100%|████████████████████████████| 1000/1000 [03:15,  5.10it/s, step size=6.97e-02, acc. prob=0.801]\n"
     ]
    },
    {
     "name": "stdout",
     "output_type": "stream",
     "text": [
      "diag:  {'sigma': OrderedDict([('n_eff', tensor(116.5506)), ('r_hat', tensor(0.9984))]), 'w': OrderedDict([('n_eff', tensor([114.6813, 134.4750, 126.9385, 130.9212, 233.2723, 156.3882, 147.4876,\n",
      "        155.9632, 159.0527, 154.6664, 128.8446, 108.2095, 115.9895, 117.8774,\n",
      "        187.0146])), ('r_hat', tensor([0.9983, 1.0026, 0.9981, 1.0033, 1.0066, 0.9983, 1.0027, 1.0012, 1.0096,\n",
      "        1.0186, 0.9983, 1.0009, 0.9981, 0.9980, 0.9990]))]), 'divergences': {'chain 0': [250, 288, 328, 344]}, 'acceptance rate': {'chain 0': 0.99}}\n",
      "Registering the results in:  SX_IJCAI_M/2024-01-10/iter-2_n-5_k-2_m-26_sigma_w-1.0_sigma_p-1.0_n_samples-500.yaml\n"
     ]
    },
    {
     "name": "stderr",
     "output_type": "stream",
     "text": [
      "Sample: 100%|████████████████████████████| 1000/1000 [02:38,  6.30it/s, step size=7.81e-02, acc. prob=0.663]\n"
     ]
    },
    {
     "name": "stdout",
     "output_type": "stream",
     "text": [
      "diag:  {'sigma': OrderedDict([('n_eff', tensor(74.1759)), ('r_hat', tensor(0.9985))]), 'w': OrderedDict([('n_eff', tensor([ 62.8990,  65.2257,  96.1148, 110.2451,  87.3273,  72.7619,  77.0654,\n",
      "        170.8916, 122.0549,  69.8740,  64.3378,  78.9294,  68.4029,  68.3329,\n",
      "         75.0929])), ('r_hat', tensor([1.0037, 0.9998, 1.0413, 1.0178, 1.0408, 1.0219, 1.0207, 0.9990, 1.0148,\n",
      "        1.0334, 1.0118, 1.0178, 1.0165, 1.0193, 1.0509]))]), 'divergences': {'chain 0': [344]}, 'acceptance rate': {'chain 0': 0.956}}\n",
      "Registering the results in:  SX_IJCAI_M/2024-01-10/iter-2_n-5_k-2_m-27_sigma_w-1.0_sigma_p-1.0_n_samples-500.yaml\n"
     ]
    },
    {
     "name": "stderr",
     "output_type": "stream",
     "text": [
      "Sample: 100%|████████████████████████████| 1000/1000 [02:42,  6.15it/s, step size=8.17e-02, acc. prob=0.431]\n"
     ]
    },
    {
     "name": "stdout",
     "output_type": "stream",
     "text": [
      "diag:  {'sigma': OrderedDict([('n_eff', tensor(19.4677)), ('r_hat', tensor(1.1631))]), 'w': OrderedDict([('n_eff', tensor([ 35.6359,  11.1408,  56.6745, 179.8571,   3.8997,   3.6233,  10.0610,\n",
      "         25.7970,   3.6827,  26.2877,   6.3342,  19.7318,   4.2564,   3.9875,\n",
      "          4.1213])), ('r_hat', tensor([1.0405, 1.2175, 1.0047, 0.9980, 1.6390, 1.7053, 1.3016, 1.1033, 1.7036,\n",
      "        1.0940, 1.3671, 1.1354, 1.5837, 1.6081, 1.6302]))]), 'divergences': {'chain 0': [102, 129, 198, 243, 302, 334, 343, 345, 346, 347, 350, 351, 353, 354, 355, 361, 362, 367, 373, 375, 377, 378, 381, 382, 384, 387, 388, 391, 393, 395, 398, 399, 403, 405, 407, 408, 409, 410, 411, 414, 416, 421, 427, 429, 435, 440, 462, 464, 466, 468, 470, 471, 479, 484, 486, 488, 491, 493, 495]}, 'acceptance rate': {'chain 0': 0.734}}\n",
      "Registering the results in:  SX_IJCAI_M/2024-01-10/iter-2_n-5_k-2_m-28_sigma_w-1.0_sigma_p-1.0_n_samples-500.yaml\n"
     ]
    },
    {
     "name": "stderr",
     "output_type": "stream",
     "text": [
      "Sample: 100%|████████████████████████████| 1000/1000 [03:01,  5.52it/s, step size=6.36e-02, acc. prob=0.752]\n"
     ]
    },
    {
     "name": "stdout",
     "output_type": "stream",
     "text": [
      "diag:  {'sigma': OrderedDict([('n_eff', tensor(51.6282)), ('r_hat', tensor(1.1360))]), 'w': OrderedDict([('n_eff', tensor([ 46.6524,  72.7348,  81.9714,  47.3344,  64.7701,  35.7383,  65.6974,\n",
      "        226.1339, 139.6568,  35.5800,  91.7691,  77.2082,  58.8035, 155.1399,\n",
      "         57.8477])), ('r_hat', tensor([1.0589, 0.9991, 0.9981, 1.0448, 1.0091, 1.1182, 1.0223, 1.0003, 1.0263,\n",
      "        1.0307, 1.0376, 1.0043, 1.0097, 1.0045, 1.0494]))]), 'divergences': {'chain 0': [77, 193, 194]}, 'acceptance rate': {'chain 0': 0.96}}\n",
      "Registering the results in:  SX_IJCAI_M/2024-01-10/iter-2_n-5_k-2_m-29_sigma_w-1.0_sigma_p-1.0_n_samples-500.yaml\n"
     ]
    },
    {
     "name": "stderr",
     "output_type": "stream",
     "text": [
      "Sample: 100%|████████████████████████████| 1000/1000 [04:48,  3.47it/s, step size=4.01e-02, acc. prob=0.758]\n"
     ]
    },
    {
     "name": "stdout",
     "output_type": "stream",
     "text": [
      "diag:  {'sigma': OrderedDict([('n_eff', tensor(78.1103)), ('r_hat', tensor(0.9992))]), 'w': OrderedDict([('n_eff', tensor([130.5343,  55.3307,  95.1733,  92.2007, 125.8285,  61.8544,  74.3211,\n",
      "         82.6055,  70.6627, 147.7052, 138.7097,  71.3569,  76.1925, 111.2520,\n",
      "        216.6216])), ('r_hat', tensor([0.9986, 1.0205, 0.9985, 1.0089, 0.9980, 1.0252, 1.0026, 0.9993, 1.0041,\n",
      "        0.9989, 1.0118, 1.0233, 1.0041, 0.9983, 0.9992]))]), 'divergences': {'chain 0': []}, 'acceptance rate': {'chain 0': 0.982}}\n",
      "Registering the results in:  SX_IJCAI_M/2024-01-10/iter-2_n-5_k-2_m-30_sigma_w-1.0_sigma_p-1.0_n_samples-500.yaml\n"
     ]
    },
    {
     "name": "stderr",
     "output_type": "stream",
     "text": [
      "Sample: 100%|████████████████████████████| 1000/1000 [03:30,  4.74it/s, step size=3.18e-02, acc. prob=0.786]\n"
     ]
    },
    {
     "name": "stdout",
     "output_type": "stream",
     "text": [
      "diag:  {'sigma': OrderedDict([('n_eff', tensor(96.0141)), ('r_hat', tensor(1.0069))]), 'w': OrderedDict([('n_eff', tensor([10.0833, 32.4884, 79.6216, 14.4585, 10.8857, 12.4241, 10.2831, 13.7497,\n",
      "        12.4484, 13.0484, 11.9995, 11.6791, 10.1283, 10.8110, 10.7198])), ('r_hat', tensor([1.1682, 1.0114, 1.0341, 1.0676, 1.1312, 1.1422, 1.1628, 1.1039, 1.1192,\n",
      "        1.0887, 1.1131, 1.1190, 1.1708, 1.1408, 1.1458]))]), 'divergences': {'chain 0': [60, 76, 108, 109, 113, 116, 120, 167, 271, 447, 499]}, 'acceptance rate': {'chain 0': 0.972}}\n",
      "Registering the results in:  SX_IJCAI_M/2024-01-10/iter-2_n-5_k-2_m-31_sigma_w-1.0_sigma_p-1.0_n_samples-500.yaml\n"
     ]
    },
    {
     "name": "stderr",
     "output_type": "stream",
     "text": [
      "Sample: 100%|████████████████████████████| 1000/1000 [03:00,  5.54it/s, step size=6.66e-02, acc. prob=0.758]\n"
     ]
    },
    {
     "name": "stdout",
     "output_type": "stream",
     "text": [
      "diag:  {'sigma': OrderedDict([('n_eff', tensor(81.6952)), ('r_hat', tensor(1.0566))]), 'w': OrderedDict([('n_eff', tensor([322.7938,  33.3896,  77.2830,  80.2922,  55.5358, 107.5556,  46.2871,\n",
      "        124.3917,  61.3086,  32.3977,  50.6785, 199.1061, 155.4452, 123.5767,\n",
      "         55.7126])), ('r_hat', tensor([1.0023, 1.1114, 1.0574, 1.0808, 1.0902, 1.0263, 1.0897, 1.0035, 1.0637,\n",
      "        1.1372, 1.0681, 0.9993, 1.0156, 1.0309, 1.1122]))]), 'divergences': {'chain 0': [102, 115, 211, 227, 228, 229, 276, 352]}, 'acceptance rate': {'chain 0': 0.972}}\n",
      "Registering the results in:  SX_IJCAI_M/2024-01-10/iter-3_n-5_k-2_m-2_sigma_w-1.0_sigma_p-1.0_n_samples-500.yaml\n"
     ]
    },
    {
     "name": "stderr",
     "output_type": "stream",
     "text": [
      "Sample: 100%|████████████████████████████| 1000/1000 [00:38, 26.21it/s, step size=3.29e-01, acc. prob=0.835]\n"
     ]
    },
    {
     "name": "stdout",
     "output_type": "stream",
     "text": [
      "diag:  {'sigma': OrderedDict([('n_eff', tensor(431.1390)), ('r_hat', tensor(0.9989))]), 'w': OrderedDict([('n_eff', tensor([339.6288, 592.6758, 723.4423, 585.6780, 606.7281, 607.3556, 715.5945,\n",
      "        507.8676, 756.7269, 577.6743, 594.6772, 470.3993, 429.1503, 501.5828,\n",
      "        614.0850])), ('r_hat', tensor([0.9980, 0.9993, 0.9981, 1.0005, 0.9980, 0.9985, 0.9987, 0.9983, 0.9980,\n",
      "        0.9999, 0.9983, 1.0098, 0.9992, 0.9989, 0.9987]))]), 'divergences': {'chain 0': [79, 110, 150, 193, 267, 268, 413, 426, 427, 476]}, 'acceptance rate': {'chain 0': 0.968}}\n",
      "Registering the results in:  SX_IJCAI_M/2024-01-10/iter-3_n-5_k-2_m-3_sigma_w-1.0_sigma_p-1.0_n_samples-500.yaml\n"
     ]
    },
    {
     "name": "stderr",
     "output_type": "stream",
     "text": [
      "Sample: 100%|████████████████████████████| 1000/1000 [00:38, 25.98it/s, step size=2.41e-01, acc. prob=0.899]\n"
     ]
    },
    {
     "name": "stdout",
     "output_type": "stream",
     "text": [
      "diag:  {'sigma': OrderedDict([('n_eff', tensor(283.2031)), ('r_hat', tensor(1.0022))]), 'w': OrderedDict([('n_eff', tensor([411.9098, 575.4323, 476.0729, 411.4255, 484.1150, 558.0388, 369.7069,\n",
      "        527.1064, 257.8032, 720.5074, 410.9947, 935.6655, 477.8951, 522.7190,\n",
      "        556.2292])), ('r_hat', tensor([0.9987, 0.9986, 1.0136, 1.0039, 0.9988, 0.9980, 0.9980, 1.0001, 1.0024,\n",
      "        0.9984, 1.0068, 0.9982, 1.0019, 0.9995, 1.0012]))]), 'divergences': {'chain 0': [199, 254, 352]}, 'acceptance rate': {'chain 0': 1.0}}\n",
      "Registering the results in:  SX_IJCAI_M/2024-01-10/iter-3_n-5_k-2_m-4_sigma_w-1.0_sigma_p-1.0_n_samples-500.yaml\n"
     ]
    },
    {
     "name": "stderr",
     "output_type": "stream",
     "text": [
      "Sample: 100%|████████████████████████████| 1000/1000 [01:14, 13.47it/s, step size=1.89e-01, acc. prob=0.845]\n"
     ]
    },
    {
     "name": "stdout",
     "output_type": "stream",
     "text": [
      "diag:  {'sigma': OrderedDict([('n_eff', tensor(479.6919)), ('r_hat', tensor(0.9984))]), 'w': OrderedDict([('n_eff', tensor([369.1321, 267.7612, 312.4571, 342.6210, 334.9729, 413.4858, 486.3309,\n",
      "        515.5962, 471.4034, 421.9560, 366.2842, 384.6347, 264.7690, 324.6380,\n",
      "        496.3156])), ('r_hat', tensor([1.0008, 1.0005, 0.9993, 1.0045, 0.9983, 1.0020, 1.0015, 1.0017, 0.9987,\n",
      "        1.0030, 0.9981, 0.9983, 0.9990, 1.0088, 1.0003]))]), 'divergences': {'chain 0': [182, 235, 346, 475]}, 'acceptance rate': {'chain 0': 0.994}}\n",
      "Registering the results in:  SX_IJCAI_M/2024-01-10/iter-3_n-5_k-2_m-5_sigma_w-1.0_sigma_p-1.0_n_samples-500.yaml\n"
     ]
    },
    {
     "name": "stderr",
     "output_type": "stream",
     "text": [
      "Sample: 100%|████████████████████████████| 1000/1000 [01:05, 15.20it/s, step size=1.52e-01, acc. prob=0.765]\n"
     ]
    },
    {
     "name": "stdout",
     "output_type": "stream",
     "text": [
      "diag:  {'sigma': OrderedDict([('n_eff', tensor(138.5581)), ('r_hat', tensor(1.0124))]), 'w': OrderedDict([('n_eff', tensor([291.2018, 321.9375, 301.7588,  48.9369, 217.1904, 430.6353, 188.9938,\n",
      "         56.0169, 108.1915, 249.4818, 208.5885,  48.7408, 246.8852,  58.7512,\n",
      "        224.5549])), ('r_hat', tensor([1.0049, 1.0004, 0.9993, 1.0290, 1.0070, 1.0099, 1.0088, 1.0047, 0.9980,\n",
      "        0.9981, 1.0045, 1.0180, 1.0027, 1.0308, 1.0017]))]), 'divergences': {'chain 0': [108, 151, 178, 361, 443, 448, 453, 454, 456, 457, 465, 467, 469, 471, 479, 483, 491]}, 'acceptance rate': {'chain 0': 0.938}}\n",
      "Registering the results in:  SX_IJCAI_M/2024-01-10/iter-3_n-5_k-2_m-6_sigma_w-1.0_sigma_p-1.0_n_samples-500.yaml\n"
     ]
    },
    {
     "name": "stderr",
     "output_type": "stream",
     "text": [
      "Sample: 100%|████████████████████████████| 1000/1000 [01:27, 11.41it/s, step size=1.02e-01, acc. prob=0.872]\n"
     ]
    },
    {
     "name": "stdout",
     "output_type": "stream",
     "text": [
      "diag:  {'sigma': OrderedDict([('n_eff', tensor(144.7707)), ('r_hat', tensor(0.9981))]), 'w': OrderedDict([('n_eff', tensor([355.6105, 291.4544, 329.1413, 436.9359, 236.0800, 271.4899, 250.5316,\n",
      "        331.5486, 338.1741, 246.5561, 326.8571, 204.1078, 280.7032, 327.0818,\n",
      "        194.4809])), ('r_hat', tensor([1.0003, 1.0007, 1.0023, 1.0007, 0.9980, 0.9986, 1.0020, 0.9994, 0.9983,\n",
      "        0.9990, 0.9983, 0.9993, 1.0050, 0.9986, 0.9981]))]), 'divergences': {'chain 0': [43, 135, 169, 278, 280, 377, 439, 470]}, 'acceptance rate': {'chain 0': 0.992}}\n",
      "Registering the results in:  SX_IJCAI_M/2024-01-10/iter-3_n-5_k-2_m-7_sigma_w-1.0_sigma_p-1.0_n_samples-500.yaml\n"
     ]
    },
    {
     "name": "stderr",
     "output_type": "stream",
     "text": [
      "Sample: 100%|████████████████████████████| 1000/1000 [01:29, 11.23it/s, step size=1.56e-01, acc. prob=0.585]\n"
     ]
    },
    {
     "name": "stdout",
     "output_type": "stream",
     "text": [
      "diag:  {'sigma': OrderedDict([('n_eff', tensor(63.9516)), ('r_hat', tensor(1.0255))]), 'w': OrderedDict([('n_eff', tensor([132.5856,  25.4384, 241.0329, 238.9539, 276.6464, 266.0640,  12.4984,\n",
      "        114.4361, 333.5281, 150.3852, 133.8329,  57.8514, 257.7965,  63.2594,\n",
      "        262.9516])), ('r_hat', tensor([1.0043, 1.0589, 1.0145, 0.9995, 1.0095, 1.0069, 1.1266, 1.0248, 0.9989,\n",
      "        0.9981, 1.0118, 1.0276, 1.0013, 1.0261, 1.0109]))]), 'divergences': {'chain 0': [176, 198, 243, 367, 414, 419, 439, 448, 456, 461, 467, 479, 480, 482, 483]}, 'acceptance rate': {'chain 0': 0.834}}\n",
      "Registering the results in:  SX_IJCAI_M/2024-01-10/iter-3_n-5_k-2_m-8_sigma_w-1.0_sigma_p-1.0_n_samples-500.yaml\n"
     ]
    },
    {
     "name": "stderr",
     "output_type": "stream",
     "text": [
      "Sample: 100%|████████████████████████████| 1000/1000 [02:31,  6.58it/s, step size=9.66e-02, acc. prob=0.784]\n"
     ]
    },
    {
     "name": "stdout",
     "output_type": "stream",
     "text": [
      "diag:  {'sigma': OrderedDict([('n_eff', tensor(172.0065)), ('r_hat', tensor(0.9984))]), 'w': OrderedDict([('n_eff', tensor([249.2414, 263.3407, 206.4968, 179.7023, 161.9416, 168.6696, 295.2663,\n",
      "        294.8781, 282.2199, 307.1885, 232.3033, 362.7312, 248.3662, 200.3043,\n",
      "        184.1252])), ('r_hat', tensor([1.0005, 1.0208, 1.0026, 0.9995, 1.0002, 1.0033, 1.0044, 1.0014, 1.0034,\n",
      "        0.9989, 1.0242, 0.9980, 1.0001, 0.9989, 1.0179]))]), 'divergences': {'chain 0': [17, 18, 238, 289, 358, 369]}, 'acceptance rate': {'chain 0': 0.984}}\n",
      "Registering the results in:  SX_IJCAI_M/2024-01-10/iter-3_n-5_k-2_m-9_sigma_w-1.0_sigma_p-1.0_n_samples-500.yaml\n"
     ]
    },
    {
     "name": "stderr",
     "output_type": "stream",
     "text": [
      "Sample: 100%|████████████████████████████| 1000/1000 [02:06,  7.89it/s, step size=1.08e-01, acc. prob=0.758]\n"
     ]
    },
    {
     "name": "stdout",
     "output_type": "stream",
     "text": [
      "diag:  {'sigma': OrderedDict([('n_eff', tensor(107.9831)), ('r_hat', tensor(1.0381))]), 'w': OrderedDict([('n_eff', tensor([184.8226, 273.2915, 132.8008, 259.4659, 206.4321, 227.4156, 190.1268,\n",
      "        168.3929, 132.8276, 356.6947, 193.1181, 353.3508, 186.7602, 245.3746,\n",
      "        168.8111])), ('r_hat', tensor([1.0198, 1.0055, 0.9980, 1.0085, 0.9996, 0.9981, 1.0050, 1.0148, 0.9994,\n",
      "        1.0052, 1.0111, 0.9980, 0.9999, 1.0078, 0.9998]))]), 'divergences': {'chain 0': [105, 160, 186, 237, 286, 404, 425, 488]}, 'acceptance rate': {'chain 0': 0.988}}\n",
      "Registering the results in:  SX_IJCAI_M/2024-01-10/iter-3_n-5_k-2_m-10_sigma_w-1.0_sigma_p-1.0_n_samples-500.yaml\n"
     ]
    },
    {
     "name": "stderr",
     "output_type": "stream",
     "text": [
      "Sample: 100%|████████████████████████████| 1000/1000 [03:22,  4.94it/s, step size=5.34e-02, acc. prob=0.887]\n"
     ]
    },
    {
     "name": "stdout",
     "output_type": "stream",
     "text": [
      "diag:  {'sigma': OrderedDict([('n_eff', tensor(310.3560)), ('r_hat', tensor(1.0010))]), 'w': OrderedDict([('n_eff', tensor([230.4869, 225.4129, 232.4917, 366.1798, 214.2296, 256.3441, 293.6215,\n",
      "        316.1753, 255.9302, 323.2074, 338.4054, 223.2679, 302.8409, 368.7586,\n",
      "        355.2383])), ('r_hat', tensor([1.0050, 0.9980, 0.9987, 1.0097, 1.0043, 1.0054, 1.0061, 0.9980, 0.9986,\n",
      "        1.0003, 0.9998, 1.0001, 1.0051, 0.9986, 1.0004]))]), 'divergences': {'chain 0': [138, 456]}, 'acceptance rate': {'chain 0': 0.998}}\n",
      "Registering the results in:  SX_IJCAI_M/2024-01-10/iter-3_n-5_k-2_m-11_sigma_w-1.0_sigma_p-1.0_n_samples-500.yaml\n"
     ]
    },
    {
     "name": "stderr",
     "output_type": "stream",
     "text": [
      "Sample: 100%|████████████████████████████| 1000/1000 [02:32,  6.57it/s, step size=8.88e-02, acc. prob=0.777]\n"
     ]
    },
    {
     "name": "stdout",
     "output_type": "stream",
     "text": [
      "diag:  {'sigma': OrderedDict([('n_eff', tensor(181.8997)), ('r_hat', tensor(0.9983))]), 'w': OrderedDict([('n_eff', tensor([305.6363, 202.8205, 159.8844, 283.4622, 212.8748, 403.8454, 378.3444,\n",
      "        303.3726, 241.7185, 274.7064, 191.1883, 162.1169, 350.9575, 273.4948,\n",
      "        179.7654])), ('r_hat', tensor([1.0007, 0.9984, 0.9999, 0.9986, 0.9980, 1.0032, 1.0008, 1.0056, 1.0086,\n",
      "        0.9986, 0.9992, 0.9982, 0.9980, 0.9984, 1.0002]))]), 'divergences': {'chain 0': [63, 201, 245, 398, 437, 456]}, 'acceptance rate': {'chain 0': 0.978}}\n",
      "Registering the results in:  SX_IJCAI_M/2024-01-10/iter-3_n-5_k-2_m-12_sigma_w-1.0_sigma_p-1.0_n_samples-500.yaml\n"
     ]
    },
    {
     "name": "stderr",
     "output_type": "stream",
     "text": [
      "Sample: 100%|████████████████████████████| 1000/1000 [01:55,  8.69it/s, step size=5.12e-02, acc. prob=0.784]\n"
     ]
    },
    {
     "name": "stdout",
     "output_type": "stream",
     "text": [
      "diag:  {'sigma': OrderedDict([('n_eff', tensor(70.6023)), ('r_hat', tensor(1.0267))]), 'w': OrderedDict([('n_eff', tensor([286.0918, 184.8986, 113.0913, 135.0495, 220.9836, 211.2426, 216.2626,\n",
      "        179.8195, 143.7351, 126.1104, 158.7979, 201.5517, 263.2503, 184.2334,\n",
      "        256.7222])), ('r_hat', tensor([1.0041, 1.0025, 0.9996, 0.9980, 0.9981, 0.9980, 1.0023, 0.9998, 0.9986,\n",
      "        1.0052, 1.0028, 0.9995, 0.9999, 0.9999, 0.9996]))]), 'divergences': {'chain 0': [43, 77, 114, 119, 126, 127, 149, 160, 297, 467]}, 'acceptance rate': {'chain 0': 0.984}}\n",
      "Registering the results in:  SX_IJCAI_M/2024-01-10/iter-3_n-5_k-2_m-13_sigma_w-1.0_sigma_p-1.0_n_samples-500.yaml\n"
     ]
    },
    {
     "name": "stderr",
     "output_type": "stream",
     "text": [
      "Sample: 100%|████████████████████████████| 1000/1000 [01:32, 10.77it/s, step size=9.43e-02, acc. prob=0.598]\n"
     ]
    },
    {
     "name": "stdout",
     "output_type": "stream",
     "text": [
      "diag:  {'sigma': OrderedDict([('n_eff', tensor(102.5979)), ('r_hat', tensor(1.0327))]), 'w': OrderedDict([('n_eff', tensor([123.8661, 144.0525,  95.6749, 114.1025, 119.9451,  99.0299, 202.6488,\n",
      "        155.6559,  76.1120,  90.6844, 150.3260, 157.6448,  69.8665,  56.1494,\n",
      "        144.3221])), ('r_hat', tensor([1.0087, 1.0010, 1.0496, 1.0245, 1.0043, 0.9983, 1.0005, 0.9983, 1.0283,\n",
      "        1.0581, 1.0050, 1.0118, 1.0352, 1.0969, 0.9982]))]), 'divergences': {'chain 0': [4, 152, 226, 353, 456]}, 'acceptance rate': {'chain 0': 0.918}}\n",
      "Registering the results in:  SX_IJCAI_M/2024-01-10/iter-3_n-5_k-2_m-14_sigma_w-1.0_sigma_p-1.0_n_samples-500.yaml\n"
     ]
    },
    {
     "name": "stderr",
     "output_type": "stream",
     "text": [
      "Sample: 100%|████████████████████████████| 1000/1000 [01:50,  9.04it/s, step size=7.66e-02, acc. prob=0.824]\n"
     ]
    },
    {
     "name": "stdout",
     "output_type": "stream",
     "text": [
      "diag:  {'sigma': OrderedDict([('n_eff', tensor(208.5631)), ('r_hat', tensor(0.9982))]), 'w': OrderedDict([('n_eff', tensor([198.2123, 228.0999, 145.9022, 217.9860, 158.5044, 138.5678, 206.1463,\n",
      "        263.1233, 242.9288, 294.5716, 326.7945, 187.8293, 260.1151, 123.4714,\n",
      "        213.6739])), ('r_hat', tensor([1.0001, 0.9981, 1.0104, 0.9990, 1.0077, 1.0145, 0.9999, 0.9981, 0.9989,\n",
      "        1.0035, 0.9983, 0.9987, 1.0015, 1.0148, 0.9983]))]), 'divergences': {'chain 0': [64, 82, 148, 255, 469]}, 'acceptance rate': {'chain 0': 1.0}}\n",
      "Registering the results in:  SX_IJCAI_M/2024-01-10/iter-3_n-5_k-2_m-15_sigma_w-1.0_sigma_p-1.0_n_samples-500.yaml\n"
     ]
    },
    {
     "name": "stderr",
     "output_type": "stream",
     "text": [
      "Sample: 100%|████████████████████████████| 1000/1000 [01:49,  9.12it/s, step size=4.82e-02, acc. prob=0.828]\n"
     ]
    },
    {
     "name": "stdout",
     "output_type": "stream",
     "text": [
      "diag:  {'sigma': OrderedDict([('n_eff', tensor(112.1318)), ('r_hat', tensor(1.0014))]), 'w': OrderedDict([('n_eff', tensor([134.4870, 129.7538, 126.6582,  83.0972, 164.2835, 281.1135, 212.2743,\n",
      "        111.5592, 279.4286, 161.8013,  90.2752, 143.4154, 123.4115, 173.7360,\n",
      "        143.1135])), ('r_hat', tensor([0.9982, 0.9991, 0.9998, 1.0021, 0.9980, 1.0184, 0.9996, 1.0098, 1.0034,\n",
      "        0.9982, 1.0010, 1.0146, 0.9981, 0.9981, 1.0064]))]), 'divergences': {'chain 0': []}, 'acceptance rate': {'chain 0': 0.984}}\n",
      "Registering the results in:  SX_IJCAI_M/2024-01-10/iter-3_n-5_k-2_m-16_sigma_w-1.0_sigma_p-1.0_n_samples-500.yaml\n"
     ]
    },
    {
     "name": "stderr",
     "output_type": "stream",
     "text": [
      "Sample: 100%|████████████████████████████| 1000/1000 [01:26, 11.60it/s, step size=7.13e-02, acc. prob=0.731]\n"
     ]
    },
    {
     "name": "stdout",
     "output_type": "stream",
     "text": [
      "diag:  {'sigma': OrderedDict([('n_eff', tensor(96.1954)), ('r_hat', tensor(0.9993))]), 'w': OrderedDict([('n_eff', tensor([225.9727, 176.7549, 151.3315, 144.4067, 200.0453, 148.5698, 158.4760,\n",
      "        254.7861, 161.0599, 190.2494, 154.9995, 130.9347, 177.3924, 181.8988,\n",
      "        179.5156])), ('r_hat', tensor([0.9990, 1.0004, 0.9991, 1.0072, 0.9981, 0.9993, 0.9988, 1.0012, 0.9980,\n",
      "        0.9996, 1.0039, 1.0003, 0.9987, 1.0058, 0.9989]))]), 'divergences': {'chain 0': [33, 40, 322, 361, 409, 421, 427, 462, 463]}, 'acceptance rate': {'chain 0': 0.97}}\n",
      "Registering the results in:  SX_IJCAI_M/2024-01-10/iter-3_n-5_k-2_m-17_sigma_w-1.0_sigma_p-1.0_n_samples-500.yaml\n"
     ]
    },
    {
     "name": "stderr",
     "output_type": "stream",
     "text": [
      "Sample: 100%|████████████████████████████| 1000/1000 [02:12,  7.53it/s, step size=3.70e-02, acc. prob=0.851]\n"
     ]
    },
    {
     "name": "stdout",
     "output_type": "stream",
     "text": [
      "diag:  {'sigma': OrderedDict([('n_eff', tensor(131.1751)), ('r_hat', tensor(1.0015))]), 'w': OrderedDict([('n_eff', tensor([146.3382, 136.5864,  93.3418, 152.9995, 189.9208, 200.6119, 142.9892,\n",
      "         95.1369, 129.4017, 175.6438, 206.8986, 136.4659, 172.6682,  78.7415,\n",
      "        124.6906])), ('r_hat', tensor([0.9987, 1.0168, 1.0062, 1.0128, 0.9990, 0.9999, 0.9980, 1.0022, 1.0083,\n",
      "        0.9980, 1.0103, 1.0233, 0.9994, 1.0048, 1.0151]))]), 'divergences': {'chain 0': [204, 418, 424, 427]}, 'acceptance rate': {'chain 0': 0.988}}\n",
      "Registering the results in:  SX_IJCAI_M/2024-01-10/iter-3_n-5_k-2_m-18_sigma_w-1.0_sigma_p-1.0_n_samples-500.yaml\n"
     ]
    },
    {
     "name": "stderr",
     "output_type": "stream",
     "text": [
      "Sample: 100%|████████████████████████████| 1000/1000 [01:48,  9.25it/s, step size=5.62e-02, acc. prob=0.816]\n"
     ]
    },
    {
     "name": "stdout",
     "output_type": "stream",
     "text": [
      "diag:  {'sigma': OrderedDict([('n_eff', tensor(121.1460)), ('r_hat', tensor(0.9986))]), 'w': OrderedDict([('n_eff', tensor([200.5794, 133.9934, 149.2825, 152.0358, 168.5810, 202.8350, 156.6724,\n",
      "        155.6304, 114.3625, 147.1097, 182.2674, 212.9123, 175.7069, 255.6708,\n",
      "        190.7173])), ('r_hat', tensor([0.9992, 1.0387, 1.0142, 1.0234, 1.0102, 0.9985, 1.0053, 0.9998, 1.0270,\n",
      "        1.0005, 1.0316, 0.9986, 1.0093, 0.9981, 1.0250]))]), 'divergences': {'chain 0': [170, 175, 282, 300, 482]}, 'acceptance rate': {'chain 0': 0.99}}\n",
      "Registering the results in:  SX_IJCAI_M/2024-01-10/iter-3_n-5_k-2_m-19_sigma_w-1.0_sigma_p-1.0_n_samples-500.yaml\n"
     ]
    },
    {
     "name": "stderr",
     "output_type": "stream",
     "text": [
      "Sample: 100%|████████████████████████████| 1000/1000 [01:38, 10.16it/s, step size=6.98e-02, acc. prob=0.492]\n"
     ]
    },
    {
     "name": "stdout",
     "output_type": "stream",
     "text": [
      "diag:  {'sigma': OrderedDict([('n_eff', tensor(27.7274)), ('r_hat', tensor(1.0401))]), 'w': OrderedDict([('n_eff', tensor([ 98.1597,  15.4334,  48.8851,  64.7979,  17.1635, 108.2660,  33.5596,\n",
      "         46.4825,  97.4484,  79.3001,  92.5615,  14.6671,  15.2919,  42.5563,\n",
      "         79.6911])), ('r_hat', tensor([1.0585, 1.0902, 1.0030, 0.9997, 1.0510, 1.0475, 1.0663, 1.0142, 1.0229,\n",
      "        0.9981, 1.0304, 1.0670, 1.0897, 1.0254, 0.9991]))]), 'divergences': {'chain 0': [74, 96, 128, 162, 179, 233, 236, 316, 321, 322, 330, 337, 365, 369, 400, 409, 414, 417, 422]}, 'acceptance rate': {'chain 0': 0.812}}\n",
      "Registering the results in:  SX_IJCAI_M/2024-01-10/iter-3_n-5_k-2_m-20_sigma_w-1.0_sigma_p-1.0_n_samples-500.yaml\n"
     ]
    },
    {
     "name": "stderr",
     "output_type": "stream",
     "text": [
      "Sample: 100%|████████████████████████████| 1000/1000 [01:25, 11.70it/s, step size=6.45e-02, acc. prob=0.771]\n"
     ]
    },
    {
     "name": "stdout",
     "output_type": "stream",
     "text": [
      "diag:  {'sigma': OrderedDict([('n_eff', tensor(47.2922)), ('r_hat', tensor(1.0701))]), 'w': OrderedDict([('n_eff', tensor([ 81.8896,  15.0504, 120.6446,  51.7117,  90.4693,  11.8112,  92.6337,\n",
      "         13.5363, 103.1563, 165.2810,  99.8574,  47.3530,  57.5460,  40.3412,\n",
      "         33.7201])), ('r_hat', tensor([1.0557, 1.0341, 0.9982, 1.0346, 1.0495, 1.0632, 1.0729, 1.0347, 1.0645,\n",
      "        1.0254, 1.0508, 1.0026, 1.0114, 1.0035, 1.0054]))]), 'divergences': {'chain 0': [18, 22, 25, 27, 28, 31, 32, 34, 36, 42, 44, 49, 52, 56, 59, 140, 205, 262, 344, 471, 483]}, 'acceptance rate': {'chain 0': 0.958}}\n",
      "Registering the results in:  SX_IJCAI_M/2024-01-10/iter-3_n-5_k-2_m-21_sigma_w-1.0_sigma_p-1.0_n_samples-500.yaml\n"
     ]
    },
    {
     "name": "stderr",
     "output_type": "stream",
     "text": [
      "Sample: 100%|████████████████████████████| 1000/1000 [02:35,  6.44it/s, step size=3.80e-02, acc. prob=0.863]\n"
     ]
    },
    {
     "name": "stdout",
     "output_type": "stream",
     "text": [
      "diag:  {'sigma': OrderedDict([('n_eff', tensor(127.4784)), ('r_hat', tensor(0.9982))]), 'w': OrderedDict([('n_eff', tensor([178.8476, 125.3579, 260.1289, 157.9190, 137.9780, 161.9226, 203.3876,\n",
      "        159.1108, 146.6763, 115.7725, 134.3022, 156.5228, 101.8806, 290.4377,\n",
      "        182.1934])), ('r_hat', tensor([1.0007, 0.9997, 1.0024, 1.0002, 0.9985, 0.9980, 1.0092, 0.9995, 0.9980,\n",
      "        0.9993, 0.9988, 0.9982, 0.9980, 0.9995, 1.0049]))]), 'divergences': {'chain 0': [388, 430]}, 'acceptance rate': {'chain 0': 0.99}}\n",
      "Registering the results in:  SX_IJCAI_M/2024-01-10/iter-3_n-5_k-2_m-22_sigma_w-1.0_sigma_p-1.0_n_samples-500.yaml\n"
     ]
    },
    {
     "name": "stderr",
     "output_type": "stream",
     "text": [
      "Sample: 100%|████████████████████████████| 1000/1000 [01:42,  9.78it/s, step size=5.55e-02, acc. prob=0.665]\n"
     ]
    },
    {
     "name": "stdout",
     "output_type": "stream",
     "text": [
      "diag:  {'sigma': OrderedDict([('n_eff', tensor(33.6491)), ('r_hat', tensor(1.0357))]), 'w': OrderedDict([('n_eff', tensor([ 88.1330,  33.0083, 125.1319,  61.3296,  60.5589,  43.7231,  31.9379,\n",
      "         26.5710,  99.1575, 164.1931,  40.2091, 193.6869,  28.5874, 144.7227,\n",
      "         52.9276])), ('r_hat', tensor([0.9980, 1.1039, 0.9980, 1.0545, 1.0503, 1.0456, 1.0483, 1.1525, 1.0181,\n",
      "        1.0066, 1.0730, 0.9987, 1.1251, 1.0134, 1.0666]))]), 'divergences': {'chain 0': [9, 22, 318, 414, 453, 471, 473, 479]}, 'acceptance rate': {'chain 0': 0.91}}\n",
      "Registering the results in:  SX_IJCAI_M/2024-01-10/iter-3_n-5_k-2_m-23_sigma_w-1.0_sigma_p-1.0_n_samples-500.yaml\n"
     ]
    },
    {
     "name": "stderr",
     "output_type": "stream",
     "text": [
      "Sample: 100%|████████████████████████████| 1000/1000 [01:34, 10.61it/s, step size=6.30e-02, acc. prob=0.739]\n"
     ]
    },
    {
     "name": "stdout",
     "output_type": "stream",
     "text": [
      "diag:  {'sigma': OrderedDict([('n_eff', tensor(86.0258)), ('r_hat', tensor(1.0009))]), 'w': OrderedDict([('n_eff', tensor([ 44.2861,  55.8618, 149.2279, 132.3721, 147.8796, 173.2257,  43.0230,\n",
      "         86.6366,  92.8664,  71.4616,  99.6373,  69.8091, 159.0566,  83.1413,\n",
      "         67.9507])), ('r_hat', tensor([0.9998, 0.9985, 1.0130, 1.0113, 1.0331, 0.9987, 1.0012, 1.0396, 1.0580,\n",
      "        1.0392, 0.9987, 1.0171, 0.9993, 0.9984, 1.0016]))]), 'divergences': {'chain 0': [113, 136, 414, 421, 437, 485]}, 'acceptance rate': {'chain 0': 0.95}}\n",
      "Registering the results in:  SX_IJCAI_M/2024-01-10/iter-3_n-5_k-2_m-24_sigma_w-1.0_sigma_p-1.0_n_samples-500.yaml\n"
     ]
    },
    {
     "name": "stderr",
     "output_type": "stream",
     "text": [
      "Sample: 100%|████████████████████████████| 1000/1000 [03:25,  4.86it/s, step size=2.32e-02, acc. prob=0.848]\n"
     ]
    },
    {
     "name": "stdout",
     "output_type": "stream",
     "text": [
      "diag:  {'sigma': OrderedDict([('n_eff', tensor(100.0480)), ('r_hat', tensor(0.9988))]), 'w': OrderedDict([('n_eff', tensor([ 53.9667,  75.1666,  68.4126, 206.4986,  83.9429,  88.4875,  63.6987,\n",
      "        168.0040,  92.2611,  72.0219,  96.1433,  70.8130, 125.6033, 136.1514,\n",
      "        233.0770])), ('r_hat', tensor([1.0272, 1.0005, 1.0227, 0.9981, 1.0009, 1.0028, 1.0144, 1.0040, 1.0036,\n",
      "        1.0093, 1.0232, 1.0173, 0.9998, 1.0023, 1.0002]))]), 'divergences': {'chain 0': [74, 181, 189, 194, 196, 215, 347, 349, 372]}, 'acceptance rate': {'chain 0': 0.99}}\n",
      "Registering the results in:  SX_IJCAI_M/2024-01-10/iter-3_n-5_k-2_m-25_sigma_w-1.0_sigma_p-1.0_n_samples-500.yaml\n"
     ]
    },
    {
     "name": "stderr",
     "output_type": "stream",
     "text": [
      "Sample: 100%|████████████████████████████| 1000/1000 [01:49,  9.11it/s, step size=4.36e-02, acc. prob=0.791]\n"
     ]
    },
    {
     "name": "stdout",
     "output_type": "stream",
     "text": [
      "diag:  {'sigma': OrderedDict([('n_eff', tensor(84.4869)), ('r_hat', tensor(1.0002))]), 'w': OrderedDict([('n_eff', tensor([155.4914,  87.8842, 112.3506,  95.0429, 191.5797, 104.9434,  70.7528,\n",
      "         54.7216,  66.6880, 153.8650, 117.0004,  80.0402, 189.2237,  69.6380,\n",
      "         66.6223])), ('r_hat', tensor([0.9980, 0.9990, 0.9988, 1.0054, 0.9988, 1.0002, 1.0139, 1.0114, 1.0092,\n",
      "        0.9981, 1.0073, 1.0032, 1.0172, 1.0068, 1.0016]))]), 'divergences': {'chain 0': [10, 14, 18, 150, 161, 211, 366]}, 'acceptance rate': {'chain 0': 0.966}}\n",
      "Registering the results in:  SX_IJCAI_M/2024-01-10/iter-3_n-5_k-2_m-26_sigma_w-1.0_sigma_p-1.0_n_samples-500.yaml\n"
     ]
    },
    {
     "name": "stderr",
     "output_type": "stream",
     "text": [
      "Sample: 100%|████████████████████████████| 1000/1000 [01:52,  8.87it/s, step size=5.04e-02, acc. prob=0.699]\n"
     ]
    },
    {
     "name": "stdout",
     "output_type": "stream",
     "text": [
      "diag:  {'sigma': OrderedDict([('n_eff', tensor(64.7076)), ('r_hat', tensor(1.0334))]), 'w': OrderedDict([('n_eff', tensor([ 63.0888,  43.7390, 138.0962,  82.7764,  49.9214,  50.2321, 107.6324,\n",
      "         69.0934,  82.5129,  75.4113, 146.2149,  82.3579, 103.2250, 121.8181,\n",
      "         85.4747])), ('r_hat', tensor([1.0090, 1.0190, 1.0170, 1.0003, 1.0135, 1.0383, 1.0049, 0.9984, 1.0248,\n",
      "        1.0039, 1.0156, 0.9992, 1.0029, 0.9990, 1.0016]))]), 'divergences': {'chain 0': [3, 49, 67, 147, 232, 259]}, 'acceptance rate': {'chain 0': 0.908}}\n",
      "Registering the results in:  SX_IJCAI_M/2024-01-10/iter-3_n-5_k-2_m-27_sigma_w-1.0_sigma_p-1.0_n_samples-500.yaml\n"
     ]
    },
    {
     "name": "stderr",
     "output_type": "stream",
     "text": [
      "Sample: 100%|████████████████████████████| 1000/1000 [01:40,  9.91it/s, step size=6.38e-02, acc. prob=0.624]\n"
     ]
    },
    {
     "name": "stdout",
     "output_type": "stream",
     "text": [
      "diag:  {'sigma': OrderedDict([('n_eff', tensor(34.8961)), ('r_hat', tensor(1.0034))]), 'w': OrderedDict([('n_eff', tensor([ 47.1011,  26.3228,  36.3440,  28.2871,  22.8496,  36.7665,  49.5119,\n",
      "         40.3434,  41.7805,  41.7909, 162.4693, 160.0070,  40.1196,  18.8805,\n",
      "         57.7955])), ('r_hat', tensor([1.0621, 1.1258, 1.0945, 1.0965, 1.0967, 1.0752, 0.9997, 1.0803, 1.0855,\n",
      "        1.0722, 1.0188, 0.9992, 1.0660, 1.0884, 1.0107]))]), 'divergences': {'chain 0': [67, 139, 205, 230, 282, 296, 445, 448, 453, 454, 457, 458, 459, 460, 461, 462, 463, 465, 467, 468, 469, 473, 474, 475, 478, 480, 485, 489, 494, 495, 496]}, 'acceptance rate': {'chain 0': 0.922}}\n",
      "Registering the results in:  SX_IJCAI_M/2024-01-10/iter-3_n-5_k-2_m-28_sigma_w-1.0_sigma_p-1.0_n_samples-500.yaml\n"
     ]
    },
    {
     "name": "stderr",
     "output_type": "stream",
     "text": [
      "Sample: 100%|████████████████████████████| 1000/1000 [02:53,  5.77it/s, step size=3.44e-02, acc. prob=0.848]\n"
     ]
    },
    {
     "name": "stdout",
     "output_type": "stream",
     "text": [
      "diag:  {'sigma': OrderedDict([('n_eff', tensor(131.4491)), ('r_hat', tensor(0.9980))]), 'w': OrderedDict([('n_eff', tensor([ 98.6237, 150.3202,  84.2257,  72.1799, 104.0397,  77.9863, 106.7499,\n",
      "         85.4090,  79.1382, 113.6514, 155.9083,  92.0704,  87.5675,  75.5933,\n",
      "        198.1893])), ('r_hat', tensor([1.0178, 0.9992, 1.0028, 1.0098, 0.9980, 1.0073, 0.9992, 1.0203, 1.0080,\n",
      "        0.9988, 0.9985, 0.9987, 1.0026, 1.0034, 1.0003]))]), 'divergences': {'chain 0': [1, 91, 106, 491]}, 'acceptance rate': {'chain 0': 0.998}}\n",
      "Registering the results in:  SX_IJCAI_M/2024-01-10/iter-3_n-5_k-2_m-29_sigma_w-1.0_sigma_p-1.0_n_samples-500.yaml\n"
     ]
    },
    {
     "name": "stderr",
     "output_type": "stream",
     "text": [
      "Sample: 100%|████████████████████████████| 1000/1000 [01:39, 10.02it/s, step size=6.00e-02, acc. prob=0.682]\n"
     ]
    },
    {
     "name": "stdout",
     "output_type": "stream",
     "text": [
      "diag:  {'sigma': OrderedDict([('n_eff', tensor(108.3180)), ('r_hat', tensor(0.9983))]), 'w': OrderedDict([('n_eff', tensor([ 50.4219,  37.7396,  46.1069,  45.7489,  49.2183, 119.5483,  76.8163,\n",
      "         49.2718,  43.5212,  32.5743, 126.0567, 105.3155,  94.7300,  49.4208,\n",
      "         92.1111])), ('r_hat', tensor([0.9984, 0.9980, 0.9981, 0.9983, 1.0055, 0.9980, 1.0000, 0.9995, 0.9981,\n",
      "        1.0003, 1.0019, 1.0064, 0.9981, 0.9983, 0.9980]))]), 'divergences': {'chain 0': [49, 71, 73, 106, 145, 175, 289, 420, 487]}, 'acceptance rate': {'chain 0': 0.978}}\n",
      "Registering the results in:  SX_IJCAI_M/2024-01-10/iter-3_n-5_k-2_m-30_sigma_w-1.0_sigma_p-1.0_n_samples-500.yaml\n"
     ]
    },
    {
     "name": "stderr",
     "output_type": "stream",
     "text": [
      "Sample: 100%|████████████████████████████| 1000/1000 [02:04,  8.03it/s, step size=4.08e-02, acc. prob=0.770]\n"
     ]
    },
    {
     "name": "stdout",
     "output_type": "stream",
     "text": [
      "diag:  {'sigma': OrderedDict([('n_eff', tensor(89.4956)), ('r_hat', tensor(0.9984))]), 'w': OrderedDict([('n_eff', tensor([142.2959,  80.2047,  81.7214,  87.4513,  82.0411,  71.9270,  75.6462,\n",
      "         83.3370,  80.5888,  96.4544,  92.6178,  64.2411, 150.9672, 134.1267,\n",
      "        111.9806])), ('r_hat', tensor([1.0299, 1.0426, 0.9981, 0.9989, 1.0002, 1.0047, 0.9988, 0.9990, 1.0167,\n",
      "        1.0032, 1.0085, 1.0236, 0.9983, 1.0077, 0.9983]))]), 'divergences': {'chain 0': [146, 189, 194, 203, 291, 441, 458]}, 'acceptance rate': {'chain 0': 0.98}}\n",
      "Registering the results in:  SX_IJCAI_M/2024-01-10/iter-3_n-5_k-2_m-31_sigma_w-1.0_sigma_p-1.0_n_samples-500.yaml\n"
     ]
    },
    {
     "name": "stderr",
     "output_type": "stream",
     "text": [
      "Sample: 100%|████████████████████████████| 1000/1000 [02:10,  7.64it/s, step size=3.70e-02, acc. prob=0.908]\n"
     ]
    },
    {
     "name": "stdout",
     "output_type": "stream",
     "text": [
      "diag:  {'sigma': OrderedDict([('n_eff', tensor(134.5802)), ('r_hat', tensor(1.0044))]), 'w': OrderedDict([('n_eff', tensor([ 36.2764,  36.2149, 224.7742,  37.6785,  76.3472,  65.9191,  80.6218,\n",
      "         37.1748,  86.2603,  64.5328,  94.8500, 246.5122, 244.3933,  80.7938,\n",
      "         60.3686])), ('r_hat', tensor([0.9997, 0.9986, 0.9980, 0.9985, 0.9990, 0.9983, 1.0006, 0.9990, 0.9996,\n",
      "        1.0015, 0.9981, 0.9980, 0.9990, 0.9998, 0.9984]))]), 'divergences': {'chain 0': [91, 277, 297, 432]}, 'acceptance rate': {'chain 0': 0.994}}\n",
      "Registering the results in:  SX_IJCAI_M/2024-01-10/iter-4_n-5_k-2_m-2_sigma_w-1.0_sigma_p-1.0_n_samples-500.yaml\n"
     ]
    },
    {
     "name": "stderr",
     "output_type": "stream",
     "text": [
      "Sample: 100%|████████████████████████████| 1000/1000 [00:21, 46.00it/s, step size=2.54e-01, acc. prob=0.856]\n"
     ]
    },
    {
     "name": "stdout",
     "output_type": "stream",
     "text": [
      "diag:  {'sigma': OrderedDict([('n_eff', tensor(409.0020)), ('r_hat', tensor(0.9987))]), 'w': OrderedDict([('n_eff', tensor([536.1625, 838.8888, 457.5908, 705.9004, 444.2981, 474.1625, 547.0156,\n",
      "        511.3465, 498.1643, 641.1664, 532.7491, 530.2191, 667.7703, 565.0007,\n",
      "        614.1785])), ('r_hat', tensor([0.9989, 0.9980, 0.9996, 0.9984, 1.0028, 1.0006, 1.0026, 0.9982, 0.9993,\n",
      "        1.0002, 0.9980, 1.0042, 1.0011, 0.9987, 0.9982]))]), 'divergences': {'chain 0': [119, 122]}, 'acceptance rate': {'chain 0': 0.988}}\n",
      "Registering the results in:  SX_IJCAI_M/2024-01-10/iter-4_n-5_k-2_m-3_sigma_w-1.0_sigma_p-1.0_n_samples-500.yaml\n"
     ]
    },
    {
     "name": "stderr",
     "output_type": "stream",
     "text": [
      "Sample: 100%|████████████████████████████| 1000/1000 [00:32, 31.23it/s, step size=1.85e-01, acc. prob=0.851]\n"
     ]
    },
    {
     "name": "stdout",
     "output_type": "stream",
     "text": [
      "diag:  {'sigma': OrderedDict([('n_eff', tensor(408.9967)), ('r_hat', tensor(0.9993))]), 'w': OrderedDict([('n_eff', tensor([433.1436, 506.5137, 436.1549, 465.4547, 504.4165, 490.2207, 359.0358,\n",
      "        389.1682, 323.9415, 411.7578, 463.8283, 359.1343, 324.0070, 383.0609,\n",
      "        340.4987])), ('r_hat', tensor([0.9982, 0.9981, 0.9982, 0.9985, 1.0017, 0.9984, 0.9980, 1.0050, 0.9984,\n",
      "        0.9985, 1.0127, 0.9980, 0.9981, 0.9998, 0.9995]))]), 'divergences': {'chain 0': [79, 128, 385, 396]}, 'acceptance rate': {'chain 0': 0.998}}\n",
      "Registering the results in:  SX_IJCAI_M/2024-01-10/iter-4_n-5_k-2_m-4_sigma_w-1.0_sigma_p-1.0_n_samples-500.yaml\n"
     ]
    },
    {
     "name": "stderr",
     "output_type": "stream",
     "text": [
      "Sample: 100%|████████████████████████████| 1000/1000 [00:44, 22.35it/s, step size=1.70e-01, acc. prob=0.726]\n"
     ]
    },
    {
     "name": "stdout",
     "output_type": "stream",
     "text": [
      "diag:  {'sigma': OrderedDict([('n_eff', tensor(190.7661)), ('r_hat', tensor(0.9980))]), 'w': OrderedDict([('n_eff', tensor([299.4903, 192.8321, 185.8972, 211.8158, 310.3565, 270.4207, 215.7897,\n",
      "        260.2176, 330.3951, 315.5024, 213.7079, 258.3494, 222.2737, 441.5215,\n",
      "        256.9109])), ('r_hat', tensor([0.9993, 1.0077, 1.0040, 0.9993, 0.9980, 1.0058, 0.9999, 0.9986, 0.9980,\n",
      "        1.0009, 1.0101, 0.9982, 1.0025, 1.0007, 0.9980]))]), 'divergences': {'chain 0': [59, 75, 224, 247, 257, 259, 281, 355, 403, 459]}, 'acceptance rate': {'chain 0': 0.964}}\n",
      "Registering the results in:  SX_IJCAI_M/2024-01-10/iter-4_n-5_k-2_m-5_sigma_w-1.0_sigma_p-1.0_n_samples-500.yaml\n"
     ]
    },
    {
     "name": "stderr",
     "output_type": "stream",
     "text": [
      "Sample: 100%|████████████████████████████| 1000/1000 [00:46, 21.53it/s, step size=1.73e-01, acc. prob=0.810]\n"
     ]
    },
    {
     "name": "stdout",
     "output_type": "stream",
     "text": [
      "diag:  {'sigma': OrderedDict([('n_eff', tensor(300.4337)), ('r_hat', tensor(0.9992))]), 'w': OrderedDict([('n_eff', tensor([471.3737, 423.9820, 342.6097, 360.3391, 431.3702, 356.4942, 434.5084,\n",
      "        523.1503, 414.2982, 423.1296, 402.6755, 390.2819, 402.0749, 534.2579,\n",
      "        364.0199])), ('r_hat', tensor([1.0049, 0.9993, 0.9998, 1.0010, 1.0004, 1.0016, 1.0064, 0.9981, 0.9998,\n",
      "        0.9980, 1.0005, 0.9994, 0.9996, 0.9990, 0.9998]))]), 'divergences': {'chain 0': [38, 47, 49, 53, 206, 225, 265, 379, 412]}, 'acceptance rate': {'chain 0': 0.984}}\n",
      "Registering the results in:  SX_IJCAI_M/2024-01-10/iter-4_n-5_k-2_m-6_sigma_w-1.0_sigma_p-1.0_n_samples-500.yaml\n"
     ]
    },
    {
     "name": "stderr",
     "output_type": "stream",
     "text": [
      "Sample: 100%|████████████████████████████| 1000/1000 [01:05, 15.31it/s, step size=9.68e-02, acc. prob=0.722]\n"
     ]
    },
    {
     "name": "stdout",
     "output_type": "stream",
     "text": [
      "diag:  {'sigma': OrderedDict([('n_eff', tensor(125.6585)), ('r_hat', tensor(0.9986))]), 'w': OrderedDict([('n_eff', tensor([150.4227, 182.8925, 238.1778, 161.7887, 204.3989,  98.7594, 160.3472,\n",
      "        190.0383, 241.2966, 222.7417, 107.9925, 112.5270, 199.6802, 158.4565,\n",
      "        133.0243])), ('r_hat', tensor([1.0302, 1.0059, 1.0029, 1.0120, 0.9981, 1.0217, 1.0011, 1.0030, 0.9991,\n",
      "        0.9984, 1.0157, 1.0004, 0.9980, 0.9989, 0.9982]))]), 'divergences': {'chain 0': [200, 203, 393, 489]}, 'acceptance rate': {'chain 0': 0.96}}\n",
      "Registering the results in:  SX_IJCAI_M/2024-01-10/iter-4_n-5_k-2_m-7_sigma_w-1.0_sigma_p-1.0_n_samples-500.yaml\n"
     ]
    },
    {
     "name": "stderr",
     "output_type": "stream",
     "text": [
      "Sample: 100%|████████████████████████████| 1000/1000 [00:44, 22.31it/s, step size=1.31e-01, acc. prob=0.750]\n"
     ]
    },
    {
     "name": "stdout",
     "output_type": "stream",
     "text": [
      "diag:  {'sigma': OrderedDict([('n_eff', tensor(41.6115)), ('r_hat', tensor(1.0687))]), 'w': OrderedDict([('n_eff', tensor([347.5007, 214.4561, 213.1377, 237.4343,  31.8899,  71.1078,  51.4541,\n",
      "         69.5902, 173.7371, 442.3853, 173.8305,  86.1661, 285.9174,  86.6293,\n",
      "        473.4037])), ('r_hat', tensor([0.9980, 1.0130, 1.0099, 0.9980, 1.0261, 1.0205, 1.0580, 1.0486, 1.0049,\n",
      "        0.9988, 1.0009, 1.0114, 0.9981, 1.0068, 0.9989]))]), 'divergences': {'chain 0': [78, 80, 81, 84, 87, 88, 90, 91, 93, 95, 96, 110, 118, 394]}, 'acceptance rate': {'chain 0': 0.894}}\n",
      "Registering the results in:  SX_IJCAI_M/2024-01-10/iter-4_n-5_k-2_m-8_sigma_w-1.0_sigma_p-1.0_n_samples-500.yaml\n"
     ]
    },
    {
     "name": "stderr",
     "output_type": "stream",
     "text": [
      "Sample: 100%|████████████████████████████| 1000/1000 [01:00, 16.41it/s, step size=9.89e-02, acc. prob=0.669]\n"
     ]
    },
    {
     "name": "stdout",
     "output_type": "stream",
     "text": [
      "diag:  {'sigma': OrderedDict([('n_eff', tensor(62.8365)), ('r_hat', tensor(1.0402))]), 'w': OrderedDict([('n_eff', tensor([ 63.4662,  59.2600, 148.3704,  34.5819,  36.0037, 318.8062, 149.1337,\n",
      "         35.6957,  91.1299,  49.9238,  44.9286, 154.2641,  92.4608,  51.3362,\n",
      "         97.3943])), ('r_hat', tensor([1.0020, 1.0325, 0.9995, 1.0273, 1.0663, 1.0158, 1.0168, 1.0424, 0.9989,\n",
      "        1.0242, 0.9996, 1.0084, 1.0143, 1.0441, 0.9996]))]), 'divergences': {'chain 0': [120, 265, 284, 290, 297, 300, 309, 310, 319, 358, 386, 387, 393, 402, 441]}, 'acceptance rate': {'chain 0': 0.926}}\n",
      "Registering the results in:  SX_IJCAI_M/2024-01-10/iter-4_n-5_k-2_m-9_sigma_w-1.0_sigma_p-1.0_n_samples-500.yaml\n"
     ]
    },
    {
     "name": "stderr",
     "output_type": "stream",
     "text": [
      "Sample: 100%|████████████████████████████| 1000/1000 [01:14, 13.47it/s, step size=8.74e-02, acc. prob=0.786]\n"
     ]
    },
    {
     "name": "stdout",
     "output_type": "stream",
     "text": [
      "diag:  {'sigma': OrderedDict([('n_eff', tensor(146.2337)), ('r_hat', tensor(0.9984))]), 'w': OrderedDict([('n_eff', tensor([164.6985, 337.1552, 282.8485, 202.4408, 370.3527, 375.2389, 349.0888,\n",
      "        198.5615, 195.6989, 160.3643, 311.4582, 334.7734, 244.8747, 205.2419,\n",
      "        320.7146])), ('r_hat', tensor([1.0045, 0.9983, 1.0124, 0.9984, 0.9992, 0.9990, 1.0001, 1.0080, 1.0006,\n",
      "        1.0014, 0.9999, 0.9985, 1.0145, 0.9993, 0.9982]))]), 'divergences': {'chain 0': [5, 151]}, 'acceptance rate': {'chain 0': 0.99}}\n",
      "Registering the results in:  SX_IJCAI_M/2024-01-10/iter-4_n-5_k-2_m-10_sigma_w-1.0_sigma_p-1.0_n_samples-500.yaml\n"
     ]
    },
    {
     "name": "stderr",
     "output_type": "stream",
     "text": [
      "Sample: 100%|████████████████████████████| 1000/1000 [01:09, 14.31it/s, step size=8.93e-02, acc. prob=0.736]\n"
     ]
    },
    {
     "name": "stdout",
     "output_type": "stream",
     "text": [
      "diag:  {'sigma': OrderedDict([('n_eff', tensor(84.5421)), ('r_hat', tensor(1.0561))]), 'w': OrderedDict([('n_eff', tensor([311.2325, 186.8094, 355.9485, 269.3346, 254.7601, 301.7798, 190.1201,\n",
      "        258.9816, 161.8847, 258.8568, 309.4823, 243.8782, 260.9606, 354.8145,\n",
      "        284.0461])), ('r_hat', tensor([0.9983, 1.0016, 0.9985, 0.9995, 1.0061, 0.9999, 0.9988, 0.9997, 0.9993,\n",
      "        0.9980, 0.9983, 1.0004, 1.0078, 0.9982, 1.0032]))]), 'divergences': {'chain 0': [245, 354, 480, 486, 487, 488, 490, 492, 493, 494, 495, 496, 498]}, 'acceptance rate': {'chain 0': 0.97}}\n",
      "Registering the results in:  SX_IJCAI_M/2024-01-10/iter-4_n-5_k-2_m-11_sigma_w-1.0_sigma_p-1.0_n_samples-500.yaml\n"
     ]
    },
    {
     "name": "stderr",
     "output_type": "stream",
     "text": [
      "Sample: 100%|████████████████████████████| 1000/1000 [00:54, 18.48it/s, step size=1.16e-01, acc. prob=0.492]\n"
     ]
    },
    {
     "name": "stdout",
     "output_type": "stream",
     "text": [
      "diag:  {'sigma': OrderedDict([('n_eff', tensor(25.1677)), ('r_hat', tensor(1.0323))]), 'w': OrderedDict([('n_eff', tensor([ 66.6833,  54.3466,  12.4196,  76.5404, 313.7767,  79.8856,  26.9158,\n",
      "         46.5602,  68.5695,  10.3018,  31.2073,  16.6726,  24.1526,  12.9737,\n",
      "         22.4988])), ('r_hat', tensor([1.0146, 1.0328, 1.0925, 0.9981, 1.0003, 0.9986, 1.0856, 1.0082, 1.0213,\n",
      "        1.1857, 1.0228, 1.0764, 1.0161, 1.1271, 1.1494]))]), 'divergences': {'chain 0': [13, 45, 84, 170, 178, 223, 232, 307, 308, 309, 310, 311, 312, 313, 314, 315, 316, 320, 325, 329, 330, 350, 356, 357, 358, 362, 367, 369, 398, 401, 408, 412, 420, 421, 422, 424, 428]}, 'acceptance rate': {'chain 0': 0.79}}\n",
      "Registering the results in:  SX_IJCAI_M/2024-01-10/iter-4_n-5_k-2_m-12_sigma_w-1.0_sigma_p-1.0_n_samples-500.yaml\n"
     ]
    },
    {
     "name": "stderr",
     "output_type": "stream",
     "text": [
      "Sample: 100%|████████████████████████████| 1000/1000 [01:27, 11.40it/s, step size=6.38e-02, acc. prob=0.908]\n"
     ]
    },
    {
     "name": "stdout",
     "output_type": "stream",
     "text": [
      "diag:  {'sigma': OrderedDict([('n_eff', tensor(211.7488)), ('r_hat', tensor(0.9982))]), 'w': OrderedDict([('n_eff', tensor([275.4677, 364.3054, 299.4687, 278.4099, 271.9116, 563.1038, 410.1246,\n",
      "        284.1710, 293.4817, 472.0103, 488.9279, 335.9037, 421.7381, 452.8327,\n",
      "        399.7343])), ('r_hat', tensor([1.0010, 0.9996, 0.9989, 0.9981, 1.0027, 0.9988, 1.0001, 0.9987, 0.9984,\n",
      "        0.9980, 0.9992, 0.9981, 0.9988, 0.9980, 0.9994]))]), 'divergences': {'chain 0': [142, 433]}, 'acceptance rate': {'chain 0': 0.998}}\n",
      "Registering the results in:  SX_IJCAI_M/2024-01-10/iter-4_n-5_k-2_m-13_sigma_w-1.0_sigma_p-1.0_n_samples-500.yaml\n"
     ]
    },
    {
     "name": "stderr",
     "output_type": "stream",
     "text": [
      "Sample: 100%|████████████████████████████| 1000/1000 [01:39, 10.05it/s, step size=6.56e-02, acc. prob=0.714]\n"
     ]
    },
    {
     "name": "stdout",
     "output_type": "stream",
     "text": [
      "diag:  {'sigma': OrderedDict([('n_eff', tensor(131.0197)), ('r_hat', tensor(0.9981))]), 'w': OrderedDict([('n_eff', tensor([144.7060, 209.6008, 179.8184, 194.2555, 179.3169, 143.5351, 104.6479,\n",
      "        118.7896, 166.4528, 107.2846, 292.1016, 168.0153, 190.3228, 190.0349,\n",
      "        198.9638])), ('r_hat', tensor([1.0084, 0.9986, 1.0090, 0.9991, 1.0012, 1.0280, 1.0137, 1.0092, 1.0096,\n",
      "        0.9989, 0.9982, 1.0246, 1.0069, 1.0113, 0.9982]))]), 'divergences': {'chain 0': [216, 496, 497]}, 'acceptance rate': {'chain 0': 0.974}}\n",
      "Registering the results in:  SX_IJCAI_M/2024-01-10/iter-4_n-5_k-2_m-14_sigma_w-1.0_sigma_p-1.0_n_samples-500.yaml\n"
     ]
    },
    {
     "name": "stderr",
     "output_type": "stream",
     "text": [
      "Sample: 100%|████████████████████████████| 1000/1000 [01:28, 11.36it/s, step size=5.21e-02, acc. prob=0.702]\n"
     ]
    },
    {
     "name": "stdout",
     "output_type": "stream",
     "text": [
      "diag:  {'sigma': OrderedDict([('n_eff', tensor(55.5011)), ('r_hat', tensor(1.0023))]), 'w': OrderedDict([('n_eff', tensor([138.8701,  58.5295, 140.0887,  14.0500,  94.9300,  91.8386,  82.6597,\n",
      "        123.8296,  91.7772, 157.3699,  42.0234,  59.7910, 228.1991,  66.3365,\n",
      "         99.7777])), ('r_hat', tensor([1.0142, 1.0249, 0.9996, 1.0530, 1.0056, 1.0009, 1.0030, 1.0073, 1.0004,\n",
      "        0.9994, 1.0475, 0.9980, 0.9980, 1.0024, 1.0211]))]), 'divergences': {'chain 0': [60, 68, 121, 129, 136, 142, 218, 236, 238, 248, 249, 252, 253, 254, 260, 264, 265, 277, 279, 311]}, 'acceptance rate': {'chain 0': 0.95}}\n",
      "Registering the results in:  SX_IJCAI_M/2024-01-10/iter-4_n-5_k-2_m-15_sigma_w-1.0_sigma_p-1.0_n_samples-500.yaml\n"
     ]
    },
    {
     "name": "stderr",
     "output_type": "stream",
     "text": [
      "Sample: 100%|████████████████████████████| 1000/1000 [01:35, 10.53it/s, step size=6.23e-02, acc. prob=0.780]\n"
     ]
    },
    {
     "name": "stdout",
     "output_type": "stream",
     "text": [
      "diag:  {'sigma': OrderedDict([('n_eff', tensor(147.5887)), ('r_hat', tensor(0.9980))]), 'w': OrderedDict([('n_eff', tensor([177.6267, 184.9690, 173.1065, 135.4228, 132.8699, 177.4574, 239.5261,\n",
      "        159.8779, 157.5322, 237.1662, 256.4792, 150.3372, 100.0788,  88.7077,\n",
      "        153.7487])), ('r_hat', tensor([1.0024, 0.9986, 0.9981, 1.0155, 0.9981, 1.0145, 0.9995, 1.0215, 0.9993,\n",
      "        1.0056, 0.9980, 0.9984, 1.0138, 0.9984, 0.9987]))]), 'divergences': {'chain 0': [108, 439]}, 'acceptance rate': {'chain 0': 0.988}}\n",
      "Registering the results in:  SX_IJCAI_M/2024-01-10/iter-4_n-5_k-2_m-16_sigma_w-1.0_sigma_p-1.0_n_samples-500.yaml\n"
     ]
    },
    {
     "name": "stderr",
     "output_type": "stream",
     "text": [
      "Sample: 100%|████████████████████████████| 1000/1000 [01:28, 11.31it/s, step size=6.44e-02, acc. prob=0.787]\n"
     ]
    },
    {
     "name": "stdout",
     "output_type": "stream",
     "text": [
      "diag:  {'sigma': OrderedDict([('n_eff', tensor(103.2453)), ('r_hat', tensor(0.9983))]), 'w': OrderedDict([('n_eff', tensor([148.2618, 162.5882, 158.5593, 171.4572, 145.4044, 180.7439, 108.2080,\n",
      "        221.5498, 256.5528, 201.8205, 140.6254, 147.0319, 135.4247, 168.0821,\n",
      "        240.2686])), ('r_hat', tensor([1.0038, 0.9982, 0.9980, 1.0032, 0.9997, 1.0053, 0.9983, 1.0023, 0.9992,\n",
      "        1.0032, 0.9986, 1.0015, 0.9982, 1.0056, 0.9982]))]), 'divergences': {'chain 0': [110, 178, 205, 397, 429, 477]}, 'acceptance rate': {'chain 0': 0.978}}\n",
      "Registering the results in:  SX_IJCAI_M/2024-01-10/iter-4_n-5_k-2_m-17_sigma_w-1.0_sigma_p-1.0_n_samples-500.yaml\n"
     ]
    },
    {
     "name": "stderr",
     "output_type": "stream",
     "text": [
      "Sample: 100%|████████████████████████████| 1000/1000 [01:34, 10.53it/s, step size=5.88e-02, acc. prob=0.858]\n"
     ]
    },
    {
     "name": "stdout",
     "output_type": "stream",
     "text": [
      "diag:  {'sigma': OrderedDict([('n_eff', tensor(101.7559)), ('r_hat', tensor(1.0243))]), 'w': OrderedDict([('n_eff', tensor([147.4488, 209.3566, 141.1319, 209.9228, 153.8229, 216.4234, 155.9091,\n",
      "        258.8353, 111.8525, 229.9770, 284.1076, 300.4066, 162.5228, 159.7941,\n",
      "        285.0031])), ('r_hat', tensor([1.0022, 1.0030, 0.9983, 1.0298, 1.0084, 1.0070, 0.9999, 0.9985, 1.0158,\n",
      "        0.9982, 1.0104, 1.0038, 1.0000, 1.0057, 1.0045]))]), 'divergences': {'chain 0': []}, 'acceptance rate': {'chain 0': 0.994}}\n",
      "Registering the results in:  SX_IJCAI_M/2024-01-10/iter-4_n-5_k-2_m-18_sigma_w-1.0_sigma_p-1.0_n_samples-500.yaml\n"
     ]
    },
    {
     "name": "stderr",
     "output_type": "stream",
     "text": [
      "Sample: 100%|████████████████████████████| 1000/1000 [02:17,  7.29it/s, step size=4.56e-02, acc. prob=0.753]\n"
     ]
    },
    {
     "name": "stdout",
     "output_type": "stream",
     "text": [
      "diag:  {'sigma': OrderedDict([('n_eff', tensor(94.7380)), ('r_hat', tensor(1.0306))]), 'w': OrderedDict([('n_eff', tensor([166.2182,  97.1782, 231.7592, 107.7306, 111.7366,  59.2567,  77.7739,\n",
      "        140.2755,  69.0501,  68.9085, 250.5006,  87.2124, 115.0445, 102.7828,\n",
      "         94.9333])), ('r_hat', tensor([1.0084, 1.0186, 1.0018, 1.0159, 1.0011, 1.0011, 1.0094, 0.9980, 1.0168,\n",
      "        0.9992, 0.9990, 1.0201, 0.9980, 1.0000, 0.9984]))]), 'divergences': {'chain 0': [28, 39, 429, 490]}, 'acceptance rate': {'chain 0': 0.97}}\n",
      "Registering the results in:  SX_IJCAI_M/2024-01-10/iter-4_n-5_k-2_m-19_sigma_w-1.0_sigma_p-1.0_n_samples-500.yaml\n"
     ]
    },
    {
     "name": "stderr",
     "output_type": "stream",
     "text": [
      "Sample: 100%|████████████████████████████| 1000/1000 [01:17, 12.89it/s, step size=7.57e-02, acc. prob=0.684]\n"
     ]
    },
    {
     "name": "stdout",
     "output_type": "stream",
     "text": [
      "diag:  {'sigma': OrderedDict([('n_eff', tensor(24.8270)), ('r_hat', tensor(1.0073))]), 'w': OrderedDict([('n_eff', tensor([ 49.2370, 193.4388, 134.2963, 128.3870,  78.2719, 130.9617,  55.0633,\n",
      "         91.1520,  59.7868, 111.4058,  63.3935,  49.9254, 125.4896, 203.6365,\n",
      "         31.6183])), ('r_hat', tensor([1.0285, 1.0072, 1.0136, 1.0360, 1.0112, 0.9995, 1.0138, 1.0410, 1.0639,\n",
      "        1.0154, 1.0095, 1.0183, 1.0149, 1.0385, 1.0790]))]), 'divergences': {'chain 0': [12, 44, 47, 54, 55, 79, 103, 142, 410, 414, 419, 421, 423, 424, 425, 427, 429, 431, 434, 435, 441, 442, 446, 447, 448, 449, 451, 452, 455, 458, 459, 461, 462, 467, 469, 471, 473, 476, 477, 478, 480, 486]}, 'acceptance rate': {'chain 0': 0.916}}\n",
      "Registering the results in:  SX_IJCAI_M/2024-01-10/iter-4_n-5_k-2_m-20_sigma_w-1.0_sigma_p-1.0_n_samples-500.yaml\n"
     ]
    },
    {
     "name": "stderr",
     "output_type": "stream",
     "text": [
      "Sample: 100%|████████████████████████████| 1000/1000 [02:04,  8.03it/s, step size=3.76e-02, acc. prob=0.905]\n"
     ]
    },
    {
     "name": "stdout",
     "output_type": "stream",
     "text": [
      "diag:  {'sigma': OrderedDict([('n_eff', tensor(110.8375)), ('r_hat', tensor(1.0068))]), 'w': OrderedDict([('n_eff', tensor([110.9372, 169.1610, 194.6591, 286.2017, 145.6767, 174.8745, 189.4217,\n",
      "        283.5883, 150.7777, 152.3300, 176.1726, 228.7688, 153.8717, 149.1103,\n",
      "        241.7548])), ('r_hat', tensor([1.0110, 0.9982, 0.9985, 0.9981, 1.0151, 1.0142, 1.0002, 0.9983, 1.0125,\n",
      "        1.0002, 0.9981, 0.9981, 1.0074, 1.0082, 0.9987]))]), 'divergences': {'chain 0': [41, 93, 133, 180, 394]}, 'acceptance rate': {'chain 0': 1.0}}\n",
      "Registering the results in:  SX_IJCAI_M/2024-01-10/iter-4_n-5_k-2_m-21_sigma_w-1.0_sigma_p-1.0_n_samples-500.yaml\n"
     ]
    },
    {
     "name": "stderr",
     "output_type": "stream",
     "text": [
      "Sample: 100%|████████████████████████████| 1000/1000 [01:36, 10.39it/s, step size=5.25e-02, acc. prob=0.718]\n"
     ]
    },
    {
     "name": "stdout",
     "output_type": "stream",
     "text": [
      "diag:  {'sigma': OrderedDict([('n_eff', tensor(87.2502)), ('r_hat', tensor(1.0009))]), 'w': OrderedDict([('n_eff', tensor([ 68.8959,  96.9458,  38.2173,  72.3569, 123.3668,  34.2227,  97.6211,\n",
      "         98.0788,  96.3559,  71.7658, 138.3375,  46.9498,  60.2714,  73.6555,\n",
      "         45.9773])), ('r_hat', tensor([1.0309, 1.0014, 1.0257, 1.0261, 0.9980, 0.9981, 1.0756, 1.0652, 1.0424,\n",
      "        0.9981, 1.0305, 1.0069, 1.0018, 1.0451, 1.0004]))]), 'divergences': {'chain 0': [43, 105, 114, 143, 146, 155, 158, 162, 167, 168, 188, 201, 244, 251, 283, 316, 321, 323, 326, 358, 430, 452]}, 'acceptance rate': {'chain 0': 0.952}}\n",
      "Registering the results in:  SX_IJCAI_M/2024-01-10/iter-4_n-5_k-2_m-22_sigma_w-1.0_sigma_p-1.0_n_samples-500.yaml\n"
     ]
    },
    {
     "name": "stderr",
     "output_type": "stream",
     "text": [
      "Sample: 100%|████████████████████████████| 1000/1000 [01:28, 11.27it/s, step size=7.18e-02, acc. prob=0.742]\n"
     ]
    },
    {
     "name": "stdout",
     "output_type": "stream",
     "text": [
      "diag:  {'sigma': OrderedDict([('n_eff', tensor(74.2243)), ('r_hat', tensor(1.0149))]), 'w': OrderedDict([('n_eff', tensor([111.1693,  69.6384,  62.8266, 103.0120,  90.6665,  50.9024,  62.1822,\n",
      "        103.2311, 193.1140,  55.9564,  73.2501, 147.4062,  59.2774, 152.0906,\n",
      "         36.5516])), ('r_hat', tensor([1.0095, 1.0075, 1.0212, 1.0131, 1.0017, 0.9980, 0.9981, 1.0001, 1.0012,\n",
      "        1.0363, 1.0059, 0.9987, 1.0410, 0.9980, 1.0002]))]), 'divergences': {'chain 0': [12, 24, 25, 26, 34, 35, 37, 40, 114, 190, 327, 416, 487]}, 'acceptance rate': {'chain 0': 0.968}}\n",
      "Registering the results in:  SX_IJCAI_M/2024-01-10/iter-4_n-5_k-2_m-23_sigma_w-1.0_sigma_p-1.0_n_samples-500.yaml\n"
     ]
    },
    {
     "name": "stderr",
     "output_type": "stream",
     "text": [
      "Sample: 100%|████████████████████████████| 1000/1000 [01:38, 10.15it/s, step size=5.49e-02, acc. prob=0.834]\n"
     ]
    },
    {
     "name": "stdout",
     "output_type": "stream",
     "text": [
      "diag:  {'sigma': OrderedDict([('n_eff', tensor(137.4528)), ('r_hat', tensor(1.0024))]), 'w': OrderedDict([('n_eff', tensor([123.0669, 196.9970, 170.1431, 203.3501, 135.8358, 252.3136, 129.6612,\n",
      "        179.4957, 130.2533, 191.1605, 120.6848, 121.7145, 189.5202,  81.8735,\n",
      "        181.4256])), ('r_hat', tensor([1.0061, 0.9984, 1.0093, 1.0214, 1.0158, 0.9986, 1.0044, 0.9989, 1.0102,\n",
      "        1.0063, 1.0007, 1.0102, 1.0237, 1.0068, 0.9982]))]), 'divergences': {'chain 0': [200, 427, 437, 442, 453]}, 'acceptance rate': {'chain 0': 0.99}}\n",
      "Registering the results in:  SX_IJCAI_M/2024-01-10/iter-4_n-5_k-2_m-24_sigma_w-1.0_sigma_p-1.0_n_samples-500.yaml\n"
     ]
    },
    {
     "name": "stderr",
     "output_type": "stream",
     "text": [
      "Sample: 100%|████████████████████████████| 1000/1000 [01:19, 12.60it/s, step size=7.16e-02, acc. prob=0.756]\n"
     ]
    },
    {
     "name": "stdout",
     "output_type": "stream",
     "text": [
      "diag:  {'sigma': OrderedDict([('n_eff', tensor(139.3366)), ('r_hat', tensor(1.0028))]), 'w': OrderedDict([('n_eff', tensor([101.6338, 110.9945, 106.8446, 100.4632, 133.8922,  80.0257,  92.8238,\n",
      "         84.1623,  72.0124, 160.0270, 107.7522, 153.5717,  66.5281, 126.2454,\n",
      "        117.6687])), ('r_hat', tensor([1.0184, 0.9980, 1.0184, 1.0027, 1.0016, 0.9986, 1.0089, 0.9982, 1.0224,\n",
      "        1.0091, 1.0045, 1.0107, 1.0046, 1.0031, 0.9998]))]), 'divergences': {'chain 0': [77, 114, 138, 166, 169, 267, 378]}, 'acceptance rate': {'chain 0': 0.986}}\n",
      "Registering the results in:  SX_IJCAI_M/2024-01-10/iter-4_n-5_k-2_m-25_sigma_w-1.0_sigma_p-1.0_n_samples-500.yaml\n"
     ]
    },
    {
     "name": "stderr",
     "output_type": "stream",
     "text": [
      "Sample: 100%|████████████████████████████| 1000/1000 [01:13, 13.70it/s, step size=7.02e-02, acc. prob=0.661]\n"
     ]
    },
    {
     "name": "stdout",
     "output_type": "stream",
     "text": [
      "diag:  {'sigma': OrderedDict([('n_eff', tensor(54.2664)), ('r_hat', tensor(1.0064))]), 'w': OrderedDict([('n_eff', tensor([233.3161,  66.2958,  76.6729,  60.7258,  61.7846, 235.4748,  84.7848,\n",
      "        126.8576,  48.9349,  85.2666,  69.7872,  93.4054,  53.4261,  54.8011,\n",
      "        111.0832])), ('r_hat', tensor([1.0041, 1.0056, 0.9999, 0.9998, 1.0074, 0.9990, 0.9980, 1.0052, 1.0089,\n",
      "        1.0056, 1.0027, 0.9987, 0.9980, 1.0018, 1.0115]))]), 'divergences': {'chain 0': [97, 147, 235, 259]}, 'acceptance rate': {'chain 0': 0.93}}\n",
      "Registering the results in:  SX_IJCAI_M/2024-01-10/iter-4_n-5_k-2_m-26_sigma_w-1.0_sigma_p-1.0_n_samples-500.yaml\n"
     ]
    },
    {
     "name": "stderr",
     "output_type": "stream",
     "text": [
      "Sample: 100%|████████████████████████████| 1000/1000 [01:48,  9.24it/s, step size=6.03e-02, acc. prob=0.833]\n"
     ]
    },
    {
     "name": "stdout",
     "output_type": "stream",
     "text": [
      "diag:  {'sigma': OrderedDict([('n_eff', tensor(102.9967)), ('r_hat', tensor(1.0041))]), 'w': OrderedDict([('n_eff', tensor([127.8195, 148.8011, 129.6859, 156.1382, 163.2666, 149.1698, 153.0180,\n",
      "        121.5679, 168.9669, 155.9857, 196.6587, 115.3201, 162.1297, 144.3587,\n",
      "        163.7676])), ('r_hat', tensor([1.0005, 0.9999, 1.0062, 1.0043, 1.0123, 1.0004, 1.0119, 1.0042, 1.0187,\n",
      "        0.9985, 1.0018, 1.0080, 0.9994, 1.0115, 1.0102]))]), 'divergences': {'chain 0': [75, 149, 251, 288, 306, 400]}, 'acceptance rate': {'chain 0': 0.994}}\n",
      "Registering the results in:  SX_IJCAI_M/2024-01-10/iter-4_n-5_k-2_m-27_sigma_w-1.0_sigma_p-1.0_n_samples-500.yaml\n"
     ]
    },
    {
     "name": "stderr",
     "output_type": "stream",
     "text": [
      "Sample: 100%|████████████████████████████| 1000/1000 [02:15,  7.37it/s, step size=3.77e-02, acc. prob=0.849]\n"
     ]
    },
    {
     "name": "stdout",
     "output_type": "stream",
     "text": [
      "diag:  {'sigma': OrderedDict([('n_eff', tensor(81.2165)), ('r_hat', tensor(1.0170))]), 'w': OrderedDict([('n_eff', tensor([ 72.0005,  55.0655,  63.5145,  65.6007,  78.3520, 181.4810,  65.6743,\n",
      "         43.9628, 238.4476,  74.1973,  81.5961,  63.8939,  43.5791,  43.9196,\n",
      "        105.1091])), ('r_hat', tensor([1.0370, 1.0280, 1.0250, 1.0152, 1.0191, 1.0045, 1.0252, 1.0186, 1.0001,\n",
      "        1.0186, 0.9999, 1.0113, 1.0298, 1.0231, 0.9980]))]), 'divergences': {'chain 0': [64, 214, 269, 280]}, 'acceptance rate': {'chain 0': 0.99}}\n",
      "Registering the results in:  SX_IJCAI_M/2024-01-10/iter-4_n-5_k-2_m-28_sigma_w-1.0_sigma_p-1.0_n_samples-500.yaml\n"
     ]
    },
    {
     "name": "stderr",
     "output_type": "stream",
     "text": [
      "Sample: 100%|████████████████████████████| 1000/1000 [01:55,  8.64it/s, step size=6.42e-02, acc. prob=0.734]\n"
     ]
    },
    {
     "name": "stdout",
     "output_type": "stream",
     "text": [
      "diag:  {'sigma': OrderedDict([('n_eff', tensor(139.5862)), ('r_hat', tensor(1.0143))]), 'w': OrderedDict([('n_eff', tensor([ 33.7000,  66.6297, 161.6163,  30.7275,  30.8303,  58.5746,  33.3458,\n",
      "        127.0207,  40.6034, 193.5547,  93.6533,  34.9102,  39.9117,  64.9598,\n",
      "         81.3728])), ('r_hat', tensor([1.0668, 0.9986, 1.0111, 1.0230, 1.0607, 1.0268, 1.0576, 1.0117, 1.0097,\n",
      "        1.0016, 0.9980, 1.0419, 1.0072, 1.0231, 1.0235]))]), 'divergences': {'chain 0': [53, 439, 490]}, 'acceptance rate': {'chain 0': 0.974}}\n",
      "Registering the results in:  SX_IJCAI_M/2024-01-10/iter-4_n-5_k-2_m-29_sigma_w-1.0_sigma_p-1.0_n_samples-500.yaml\n"
     ]
    },
    {
     "name": "stderr",
     "output_type": "stream",
     "text": [
      "Sample: 100%|████████████████████████████| 1000/1000 [01:47,  9.29it/s, step size=5.48e-02, acc. prob=0.767]\n"
     ]
    },
    {
     "name": "stdout",
     "output_type": "stream",
     "text": [
      "diag:  {'sigma': OrderedDict([('n_eff', tensor(100.6114)), ('r_hat', tensor(1.0000))]), 'w': OrderedDict([('n_eff', tensor([ 44.2819,  61.7644, 136.1909,  50.8631,  41.3864, 141.5684,  48.2096,\n",
      "         49.0652,  50.2933,  46.3876,  69.6297,  54.8105,  73.7085,  45.6835,\n",
      "         46.9054])), ('r_hat', tensor([1.0702, 1.0414, 1.0038, 1.0761, 1.1096, 0.9987, 1.0469, 1.0699, 1.0509,\n",
      "        1.0846, 1.0467, 1.0815, 1.0533, 1.0678, 1.1342]))]), 'divergences': {'chain 0': [187, 256, 468]}, 'acceptance rate': {'chain 0': 0.984}}\n",
      "Registering the results in:  SX_IJCAI_M/2024-01-10/iter-4_n-5_k-2_m-30_sigma_w-1.0_sigma_p-1.0_n_samples-500.yaml\n"
     ]
    },
    {
     "name": "stderr",
     "output_type": "stream",
     "text": [
      "Sample: 100%|████████████████████████████| 1000/1000 [02:15,  7.39it/s, step size=4.95e-02, acc. prob=0.790]\n"
     ]
    },
    {
     "name": "stdout",
     "output_type": "stream",
     "text": [
      "diag:  {'sigma': OrderedDict([('n_eff', tensor(81.1301)), ('r_hat', tensor(1.0187))]), 'w': OrderedDict([('n_eff', tensor([120.5066,  23.5080,  22.9492,  27.0501,  31.0882,  35.8496,  29.7682,\n",
      "         47.1574,  25.8645,  76.0677, 110.0084,  54.0558,  22.6260, 183.7714,\n",
      "         62.1338])), ('r_hat', tensor([0.9986, 1.0720, 1.0828, 1.0615, 1.0228, 1.0612, 1.0323, 1.0210, 1.0509,\n",
      "        1.0328, 0.9980, 1.0180, 1.0764, 1.0078, 1.0143]))]), 'divergences': {'chain 0': [321, 455]}, 'acceptance rate': {'chain 0': 0.976}}\n",
      "Registering the results in:  SX_IJCAI_M/2024-01-10/iter-4_n-5_k-2_m-31_sigma_w-1.0_sigma_p-1.0_n_samples-500.yaml\n"
     ]
    },
    {
     "name": "stderr",
     "output_type": "stream",
     "text": [
      "Sample: 100%|████████████████████████████| 1000/1000 [01:56,  8.57it/s, step size=4.57e-02, acc. prob=0.683]\n"
     ]
    },
    {
     "name": "stdout",
     "output_type": "stream",
     "text": [
      "diag:  {'sigma': OrderedDict([('n_eff', tensor(16.7086)), ('r_hat', tensor(1.1093))]), 'w': OrderedDict([('n_eff', tensor([ 20.1782,  11.3250,   9.4352,   8.9291, 122.2365,  14.3625,  62.9493,\n",
      "         10.6518,  64.1495,   6.1457, 115.7824,   7.0529,  98.2407,   8.7678,\n",
      "          7.0803])), ('r_hat', tensor([1.1685, 1.2335, 1.2483, 1.2516, 1.0182, 1.1786, 1.0025, 1.1981, 1.0737,\n",
      "        1.3986, 1.0047, 1.2987, 1.0469, 1.2583, 1.2846]))]), 'divergences': {'chain 0': [16, 17, 31, 35, 40, 41, 44, 45, 47, 59, 65, 71, 82, 89, 130, 152, 175, 222, 493]}, 'acceptance rate': {'chain 0': 0.878}}\n",
      "Registering the results in:  SX_IJCAI_M/2024-01-10/iter-5_n-5_k-2_m-2_sigma_w-1.0_sigma_p-1.0_n_samples-500.yaml\n"
     ]
    },
    {
     "name": "stderr",
     "output_type": "stream",
     "text": [
      "Sample: 100%|████████████████████████████| 1000/1000 [00:17, 55.76it/s, step size=4.34e-01, acc. prob=0.846]\n"
     ]
    },
    {
     "name": "stdout",
     "output_type": "stream",
     "text": [
      "diag:  {'sigma': OrderedDict([('n_eff', tensor(436.1795)), ('r_hat', tensor(0.9984))]), 'w': OrderedDict([('n_eff', tensor([559.0465, 702.7241, 362.5253, 509.4486, 354.8045, 482.5561, 538.7232,\n",
      "        408.9657, 564.2229, 494.7804, 351.7077, 597.4170, 493.4992, 463.4207,\n",
      "        533.2654])), ('r_hat', tensor([0.9999, 0.9983, 0.9984, 0.9993, 0.9982, 0.9995, 0.9981, 0.9984, 0.9992,\n",
      "        1.0038, 0.9985, 0.9998, 1.0026, 0.9980, 0.9991]))]), 'divergences': {'chain 0': [170, 241, 255, 279, 284, 481]}, 'acceptance rate': {'chain 0': 0.996}}\n",
      "Registering the results in:  SX_IJCAI_M/2024-01-10/iter-5_n-5_k-2_m-3_sigma_w-1.0_sigma_p-1.0_n_samples-500.yaml\n"
     ]
    },
    {
     "name": "stderr",
     "output_type": "stream",
     "text": [
      "Sample: 100%|████████████████████████████| 1000/1000 [00:48, 20.71it/s, step size=2.02e-01, acc. prob=0.811]\n"
     ]
    },
    {
     "name": "stdout",
     "output_type": "stream",
     "text": [
      "diag:  {'sigma': OrderedDict([('n_eff', tensor(483.9227)), ('r_hat', tensor(0.9981))]), 'w': OrderedDict([('n_eff', tensor([342.9659, 263.7199, 355.7801, 395.0979, 426.5163, 294.8494, 453.5197,\n",
      "        359.9748, 291.4787, 425.0955, 374.1762, 321.1594, 152.4492, 259.1997,\n",
      "        291.7430])), ('r_hat', tensor([0.9993, 1.0074, 1.0047, 0.9980, 0.9982, 0.9991, 0.9982, 0.9983, 0.9988,\n",
      "        0.9982, 1.0011, 0.9994, 1.0169, 1.0004, 0.9988]))]), 'divergences': {'chain 0': [6, 178, 221, 391, 412, 413]}, 'acceptance rate': {'chain 0': 0.986}}\n",
      "Registering the results in:  SX_IJCAI_M/2024-01-10/iter-5_n-5_k-2_m-4_sigma_w-1.0_sigma_p-1.0_n_samples-500.yaml\n"
     ]
    },
    {
     "name": "stderr",
     "output_type": "stream",
     "text": [
      "Sample: 100%|████████████████████████████| 1000/1000 [00:33, 29.90it/s, step size=2.34e-01, acc. prob=0.738]\n"
     ]
    },
    {
     "name": "stdout",
     "output_type": "stream",
     "text": [
      "diag:  {'sigma': OrderedDict([('n_eff', tensor(227.6184)), ('r_hat', tensor(1.0061))]), 'w': OrderedDict([('n_eff', tensor([246.0117, 225.5856, 180.6438, 292.7190, 318.8662, 423.7915, 143.6506,\n",
      "        294.6941, 249.7658, 229.3711, 228.3449, 444.7047, 466.3831, 292.7328,\n",
      "        377.5391])), ('r_hat', tensor([0.9980, 0.9990, 0.9981, 1.0033, 1.0052, 1.0003, 1.0057, 0.9994, 0.9992,\n",
      "        0.9981, 1.0055, 1.0012, 0.9980, 1.0029, 0.9980]))]), 'divergences': {'chain 0': [30, 32, 34, 37, 38, 42, 51, 80, 83, 250, 363, 370, 401, 403, 430, 439, 492]}, 'acceptance rate': {'chain 0': 0.974}}\n",
      "Registering the results in:  SX_IJCAI_M/2024-01-10/iter-5_n-5_k-2_m-5_sigma_w-1.0_sigma_p-1.0_n_samples-500.yaml\n"
     ]
    },
    {
     "name": "stderr",
     "output_type": "stream",
     "text": [
      "Sample: 100%|████████████████████████████| 1000/1000 [00:41, 24.28it/s, step size=1.45e-01, acc. prob=0.869]\n"
     ]
    },
    {
     "name": "stdout",
     "output_type": "stream",
     "text": [
      "diag:  {'sigma': OrderedDict([('n_eff', tensor(234.1651)), ('r_hat', tensor(0.9987))]), 'w': OrderedDict([('n_eff', tensor([430.4333, 414.9512, 401.4541, 452.5643, 433.2647, 325.9298, 424.4477,\n",
      "        367.7118, 492.8914, 413.4009, 310.1988, 494.3943, 396.1693, 403.5930,\n",
      "        401.2857])), ('r_hat', tensor([1.0000, 0.9986, 1.0004, 0.9982, 1.0031, 0.9982, 0.9986, 0.9993, 0.9981,\n",
      "        1.0013, 1.0007, 0.9980, 1.0009, 0.9994, 0.9980]))]), 'divergences': {'chain 0': [45]}, 'acceptance rate': {'chain 0': 0.99}}\n",
      "Registering the results in:  SX_IJCAI_M/2024-01-10/iter-5_n-5_k-2_m-6_sigma_w-1.0_sigma_p-1.0_n_samples-500.yaml\n"
     ]
    },
    {
     "name": "stderr",
     "output_type": "stream",
     "text": [
      "Sample: 100%|████████████████████████████| 1000/1000 [01:14, 13.44it/s, step size=8.80e-02, acc. prob=0.837]\n"
     ]
    },
    {
     "name": "stdout",
     "output_type": "stream",
     "text": [
      "diag:  {'sigma': OrderedDict([('n_eff', tensor(136.8054)), ('r_hat', tensor(1.0180))]), 'w': OrderedDict([('n_eff', tensor([269.1557, 287.3032, 358.6172, 222.9804, 437.2503, 164.5540, 372.5582,\n",
      "        373.9609, 382.3967, 471.7448, 430.8475, 432.3591, 341.4065, 584.0689,\n",
      "        357.9808])), ('r_hat', tensor([1.0008, 0.9997, 0.9995, 1.0079, 0.9989, 1.0310, 1.0019, 1.0066, 1.0016,\n",
      "        1.0013, 1.0045, 0.9980, 0.9989, 0.9991, 1.0013]))]), 'divergences': {'chain 0': [76, 251, 252, 462]}, 'acceptance rate': {'chain 0': 0.992}}\n",
      "Registering the results in:  SX_IJCAI_M/2024-01-10/iter-5_n-5_k-2_m-7_sigma_w-1.0_sigma_p-1.0_n_samples-500.yaml\n"
     ]
    },
    {
     "name": "stderr",
     "output_type": "stream",
     "text": [
      "Sample: 100%|████████████████████████████| 1000/1000 [01:19, 12.63it/s, step size=7.56e-02, acc. prob=0.866]\n"
     ]
    },
    {
     "name": "stdout",
     "output_type": "stream",
     "text": [
      "diag:  {'sigma': OrderedDict([('n_eff', tensor(286.1473)), ('r_hat', tensor(1.0031))]), 'w': OrderedDict([('n_eff', tensor([333.6564, 282.6113, 241.8960, 355.4575, 318.1947, 400.0750, 691.7033,\n",
      "        336.8148, 446.0375, 308.0980, 256.2571, 383.6286, 376.5203, 373.6412,\n",
      "        279.4123])), ('r_hat', tensor([0.9981, 1.0043, 1.0012, 0.9987, 1.0027, 1.0005, 0.9981, 0.9999, 1.0002,\n",
      "        1.0007, 0.9994, 0.9990, 0.9986, 1.0014, 1.0013]))]), 'divergences': {'chain 0': [83, 492]}, 'acceptance rate': {'chain 0': 0.996}}\n",
      "Registering the results in:  SX_IJCAI_M/2024-01-10/iter-5_n-5_k-2_m-8_sigma_w-1.0_sigma_p-1.0_n_samples-500.yaml\n"
     ]
    },
    {
     "name": "stderr",
     "output_type": "stream",
     "text": [
      "Sample: 100%|████████████████████████████| 1000/1000 [00:52, 18.99it/s, step size=1.54e-01, acc. prob=0.633]\n"
     ]
    },
    {
     "name": "stdout",
     "output_type": "stream",
     "text": [
      "diag:  {'sigma': OrderedDict([('n_eff', tensor(86.6279)), ('r_hat', tensor(0.9990))]), 'w': OrderedDict([('n_eff', tensor([167.9789,  92.2923, 222.5345, 262.0764, 192.5546, 124.6040, 253.4960,\n",
      "        168.0900,  86.9534, 151.5044, 120.3699, 234.6174, 214.9724,  39.5065,\n",
      "         68.7890])), ('r_hat', tensor([1.0038, 1.0570, 0.9998, 1.0034, 1.0004, 1.0054, 0.9993, 0.9988, 1.0190,\n",
      "        1.0095, 1.0026, 1.0021, 1.0007, 1.0626, 1.0653]))]), 'divergences': {'chain 0': [51, 62, 66, 69, 70, 71, 74, 75, 76, 78, 82, 83, 85, 87, 89, 90, 91, 95, 96, 98, 100, 101, 104, 105, 106, 107, 110, 182, 218, 226, 343, 352, 469]}, 'acceptance rate': {'chain 0': 0.936}}\n",
      "Registering the results in:  SX_IJCAI_M/2024-01-10/iter-5_n-5_k-2_m-9_sigma_w-1.0_sigma_p-1.0_n_samples-500.yaml\n"
     ]
    },
    {
     "name": "stderr",
     "output_type": "stream",
     "text": [
      "Sample: 100%|████████████████████████████| 1000/1000 [01:10, 14.26it/s, step size=1.05e-01, acc. prob=0.580]\n"
     ]
    },
    {
     "name": "stdout",
     "output_type": "stream",
     "text": [
      "diag:  {'sigma': OrderedDict([('n_eff', tensor(25.8448)), ('r_hat', tensor(1.0503))]), 'w': OrderedDict([('n_eff', tensor([ 19.2868,  43.2463,  11.9522,  12.7219,  91.2807,  25.0492,  49.6090,\n",
      "        170.8262, 245.8166, 216.9019,  20.8595,  49.5083, 214.5745, 177.7189,\n",
      "          8.2149])), ('r_hat', tensor([1.1222, 1.0080, 1.1699, 1.1580, 1.0074, 1.0641, 1.0509, 1.0016, 1.0030,\n",
      "        1.0115, 1.0742, 1.0147, 1.0011, 1.0279, 1.2203]))]), 'divergences': {'chain 0': [117, 120, 121, 122, 124, 125, 126, 129, 135, 137, 147, 154, 158, 159, 160, 165, 167, 168, 171, 176, 177, 178, 182, 187, 190, 209, 226, 227, 439, 463, 487]}, 'acceptance rate': {'chain 0': 0.788}}\n",
      "Registering the results in:  SX_IJCAI_M/2024-01-10/iter-5_n-5_k-2_m-10_sigma_w-1.0_sigma_p-1.0_n_samples-500.yaml\n"
     ]
    },
    {
     "name": "stderr",
     "output_type": "stream",
     "text": [
      "Sample: 100%|████████████████████████████| 1000/1000 [01:26, 11.52it/s, step size=7.52e-02, acc. prob=0.802]\n"
     ]
    },
    {
     "name": "stdout",
     "output_type": "stream",
     "text": [
      "diag:  {'sigma': OrderedDict([('n_eff', tensor(167.4135)), ('r_hat', tensor(1.0225))]), 'w': OrderedDict([('n_eff', tensor([ 95.5220, 435.9485, 203.4242, 137.6632, 284.1156, 281.8225, 448.9007,\n",
      "        314.2495, 326.2176, 438.4468, 283.9211, 382.3357, 230.6759, 277.9190,\n",
      "        321.4329])), ('r_hat', tensor([1.0216, 0.9988, 0.9985, 1.0077, 0.9980, 1.0027, 0.9990, 1.0044, 1.0135,\n",
      "        0.9982, 0.9991, 1.0013, 1.0035, 1.0001, 1.0006]))]), 'divergences': {'chain 0': [5, 181, 189, 357, 362, 366, 367]}, 'acceptance rate': {'chain 0': 0.97}}\n",
      "Registering the results in:  SX_IJCAI_M/2024-01-10/iter-5_n-5_k-2_m-11_sigma_w-1.0_sigma_p-1.0_n_samples-500.yaml\n"
     ]
    },
    {
     "name": "stderr",
     "output_type": "stream",
     "text": [
      "Sample: 100%|████████████████████████████| 1000/1000 [01:44,  9.53it/s, step size=5.99e-02, acc. prob=0.846]\n"
     ]
    },
    {
     "name": "stdout",
     "output_type": "stream",
     "text": [
      "diag:  {'sigma': OrderedDict([('n_eff', tensor(109.6345)), ('r_hat', tensor(1.0224))]), 'w': OrderedDict([('n_eff', tensor([304.4647, 226.7150, 315.3500, 161.2675, 312.4177, 319.4016, 238.1754,\n",
      "        135.7358, 226.7229, 227.9087, 208.2955, 142.1246, 305.7990, 317.3885,\n",
      "        159.3616])), ('r_hat', tensor([0.9993, 0.9980, 0.9983, 0.9995, 1.0127, 1.0049, 0.9980, 1.0023, 0.9980,\n",
      "        1.0110, 1.0021, 0.9982, 0.9984, 1.0026, 1.0033]))]), 'divergences': {'chain 0': [258, 477]}, 'acceptance rate': {'chain 0': 0.986}}\n",
      "Registering the results in:  SX_IJCAI_M/2024-01-10/iter-5_n-5_k-2_m-12_sigma_w-1.0_sigma_p-1.0_n_samples-500.yaml\n"
     ]
    },
    {
     "name": "stderr",
     "output_type": "stream",
     "text": [
      "Sample: 100%|████████████████████████████| 1000/1000 [01:28, 11.29it/s, step size=9.00e-02, acc. prob=0.585]\n"
     ]
    },
    {
     "name": "stdout",
     "output_type": "stream",
     "text": [
      "diag:  {'sigma': OrderedDict([('n_eff', tensor(13.3711)), ('r_hat', tensor(1.1696))]), 'w': OrderedDict([('n_eff', tensor([ 37.8579,  20.1607,  12.7778,  14.0381,  91.1460, 134.3942, 181.5887,\n",
      "        166.6506, 124.0511,  35.1292,  23.1168, 141.2637, 139.6241,  15.9357,\n",
      "        162.1442])), ('r_hat', tensor([1.0508, 1.1189, 1.1201, 1.1066, 0.9983, 1.0015, 1.0002, 0.9980, 1.0121,\n",
      "        1.0794, 1.0936, 1.0624, 1.0122, 1.1210, 1.0025]))]), 'divergences': {'chain 0': [114, 159, 290, 291, 292, 306, 374, 375, 376, 385, 390, 391, 394, 399, 401, 402, 404, 407, 411, 413, 414, 423, 424, 426, 431, 432, 434, 439, 445, 455, 466, 467, 472, 477, 479, 482, 487, 491, 494, 498, 499]}, 'acceptance rate': {'chain 0': 0.846}}\n",
      "Registering the results in:  SX_IJCAI_M/2024-01-10/iter-5_n-5_k-2_m-13_sigma_w-1.0_sigma_p-1.0_n_samples-500.yaml\n"
     ]
    },
    {
     "name": "stderr",
     "output_type": "stream",
     "text": [
      "Sample: 100%|████████████████████████████| 1000/1000 [01:17, 12.85it/s, step size=7.51e-02, acc. prob=0.554]\n"
     ]
    },
    {
     "name": "stdout",
     "output_type": "stream",
     "text": [
      "diag:  {'sigma': OrderedDict([('n_eff', tensor(13.7968)), ('r_hat', tensor(1.0067))]), 'w': OrderedDict([('n_eff', tensor([199.8186,  14.7437, 252.3035,  53.0709,  21.4752,  64.3024,  22.1026,\n",
      "         11.0593,  21.5811,  10.9121, 249.9149, 108.4968,  83.0660, 137.3596,\n",
      "         16.7357])), ('r_hat', tensor([0.9980, 1.0097, 1.0086, 1.0003, 0.9984, 1.0140, 1.0045, 0.9983, 1.0013,\n",
      "        1.0017, 1.0078, 1.0004, 1.0392, 0.9983, 1.0159]))]), 'divergences': {'chain 0': [48, 168, 201, 205, 217, 233, 235, 242, 253, 254, 257, 261, 262, 263, 266, 276, 277, 279, 282, 283, 287, 289, 327, 395]}, 'acceptance rate': {'chain 0': 0.8}}\n",
      "Registering the results in:  SX_IJCAI_M/2024-01-10/iter-5_n-5_k-2_m-14_sigma_w-1.0_sigma_p-1.0_n_samples-500.yaml\n"
     ]
    },
    {
     "name": "stderr",
     "output_type": "stream",
     "text": [
      "Sample: 100%|████████████████████████████| 1000/1000 [01:54,  8.76it/s, step size=7.19e-02, acc. prob=0.729]\n"
     ]
    },
    {
     "name": "stdout",
     "output_type": "stream",
     "text": [
      "diag:  {'sigma': OrderedDict([('n_eff', tensor(139.2950)), ('r_hat', tensor(1.0132))]), 'w': OrderedDict([('n_eff', tensor([142.4873, 133.4404, 161.8255,  54.6865, 122.5343, 185.7115, 117.8983,\n",
      "        212.8614, 167.0956, 171.1554,  49.8284,  90.8014,  96.3459, 134.9848,\n",
      "        196.1994])), ('r_hat', tensor([1.0171, 0.9981, 0.9982, 1.0397, 0.9982, 1.0167, 0.9991, 1.0174, 1.0106,\n",
      "        0.9983, 1.0724, 1.0080, 1.0031, 0.9985, 1.0086]))]), 'divergences': {'chain 0': [28, 226, 240, 246, 358, 387, 404, 453, 464]}, 'acceptance rate': {'chain 0': 0.966}}\n",
      "Registering the results in:  SX_IJCAI_M/2024-01-10/iter-5_n-5_k-2_m-15_sigma_w-1.0_sigma_p-1.0_n_samples-500.yaml\n"
     ]
    },
    {
     "name": "stderr",
     "output_type": "stream",
     "text": [
      "Sample: 100%|████████████████████████████| 1000/1000 [01:27, 11.43it/s, step size=1.03e-01, acc. prob=0.631]\n"
     ]
    },
    {
     "name": "stdout",
     "output_type": "stream",
     "text": [
      "diag:  {'sigma': OrderedDict([('n_eff', tensor(122.2974)), ('r_hat', tensor(1.0059))]), 'w': OrderedDict([('n_eff', tensor([ 67.2471,  72.2557,  71.0832,  82.7696,  82.7860,  63.7615, 173.8966,\n",
      "        137.3092,  93.1381, 175.4855,  95.0271, 132.2178, 146.5842,  69.9494,\n",
      "        108.6478])), ('r_hat', tensor([1.0003, 0.9993, 1.0112, 0.9982, 1.0026, 1.0111, 1.0025, 1.0022, 1.0007,\n",
      "        1.0120, 0.9982, 1.0111, 1.0013, 1.0042, 1.0120]))]), 'divergences': {'chain 0': [15, 37, 103, 229, 246, 298, 343, 439, 456]}, 'acceptance rate': {'chain 0': 0.948}}\n",
      "Registering the results in:  SX_IJCAI_M/2024-01-10/iter-5_n-5_k-2_m-16_sigma_w-1.0_sigma_p-1.0_n_samples-500.yaml\n"
     ]
    },
    {
     "name": "stderr",
     "output_type": "stream",
     "text": [
      "Sample: 100%|████████████████████████████| 1000/1000 [02:02,  8.19it/s, step size=5.46e-02, acc. prob=0.780]\n"
     ]
    },
    {
     "name": "stdout",
     "output_type": "stream",
     "text": [
      "diag:  {'sigma': OrderedDict([('n_eff', tensor(129.5780)), ('r_hat', tensor(0.9999))]), 'w': OrderedDict([('n_eff', tensor([134.0479, 158.6298, 102.8433,  93.2657, 177.8177, 179.0836, 103.8661,\n",
      "        164.8957, 121.4649, 119.3242, 133.2786, 189.1849, 126.1940, 148.3885,\n",
      "        102.8289])), ('r_hat', tensor([1.0010, 1.0094, 0.9984, 0.9980, 0.9984, 0.9994, 0.9983, 1.0001, 0.9980,\n",
      "        0.9981, 0.9997, 1.0023, 0.9986, 0.9980, 0.9980]))]), 'divergences': {'chain 0': [51, 118, 267, 269, 324]}, 'acceptance rate': {'chain 0': 0.976}}\n",
      "Registering the results in:  SX_IJCAI_M/2024-01-10/iter-5_n-5_k-2_m-17_sigma_w-1.0_sigma_p-1.0_n_samples-500.yaml\n"
     ]
    },
    {
     "name": "stderr",
     "output_type": "stream",
     "text": [
      "Sample: 100%|████████████████████████████| 1000/1000 [02:33,  6.51it/s, step size=4.21e-02, acc. prob=0.805]\n"
     ]
    },
    {
     "name": "stdout",
     "output_type": "stream",
     "text": [
      "diag:  {'sigma': OrderedDict([('n_eff', tensor(160.2306)), ('r_hat', tensor(1.0042))]), 'w': OrderedDict([('n_eff', tensor([140.6891, 178.3710, 235.7620, 100.5598, 206.3900, 163.8322, 118.3868,\n",
      "        144.6358, 166.0895, 128.0033, 131.9436, 228.4458, 165.8745, 108.3712,\n",
      "        119.7334])), ('r_hat', tensor([1.0106, 1.0164, 1.0180, 0.9988, 0.9980, 1.0065, 1.0203, 1.0059, 1.0039,\n",
      "        1.0020, 1.0017, 0.9985, 1.0098, 1.0105, 1.0042]))]), 'divergences': {'chain 0': [64, 139, 201, 298, 317, 318, 402]}, 'acceptance rate': {'chain 0': 0.984}}\n",
      "Registering the results in:  SX_IJCAI_M/2024-01-10/iter-5_n-5_k-2_m-18_sigma_w-1.0_sigma_p-1.0_n_samples-500.yaml\n"
     ]
    },
    {
     "name": "stderr",
     "output_type": "stream",
     "text": [
      "Sample: 100%|████████████████████████████| 1000/1000 [02:18,  7.23it/s, step size=5.87e-02, acc. prob=0.697]\n"
     ]
    },
    {
     "name": "stdout",
     "output_type": "stream",
     "text": [
      "diag:  {'sigma': OrderedDict([('n_eff', tensor(135.2259)), ('r_hat', tensor(0.9988))]), 'w': OrderedDict([('n_eff', tensor([ 82.5732, 116.2527, 113.2945, 145.7973, 139.0098, 136.4399, 130.2434,\n",
      "        131.7966, 110.2137, 146.5768, 154.3093, 164.9613, 144.4876,  97.4228,\n",
      "        104.3573])), ('r_hat', tensor([0.9990, 1.0065, 1.0136, 0.9989, 1.0013, 1.0039, 1.0083, 1.0012, 0.9987,\n",
      "        0.9992, 1.0003, 1.0022, 1.0197, 0.9988, 0.9981]))]), 'divergences': {'chain 0': [9, 203, 328, 371, 392, 436, 492, 494]}, 'acceptance rate': {'chain 0': 0.972}}\n",
      "Registering the results in:  SX_IJCAI_M/2024-01-10/iter-5_n-5_k-2_m-19_sigma_w-1.0_sigma_p-1.0_n_samples-500.yaml\n"
     ]
    },
    {
     "name": "stderr",
     "output_type": "stream",
     "text": [
      "Sample: 100%|████████████████████████████| 1000/1000 [02:25,  6.88it/s, step size=4.93e-02, acc. prob=0.808]\n"
     ]
    },
    {
     "name": "stdout",
     "output_type": "stream",
     "text": [
      "diag:  {'sigma': OrderedDict([('n_eff', tensor(184.0134)), ('r_hat', tensor(1.0119))]), 'w': OrderedDict([('n_eff', tensor([167.7639, 118.7181, 147.2113, 148.5826, 297.9455, 206.1103, 185.8572,\n",
      "        124.5299, 265.0465, 244.9080, 120.6566,  89.0210, 153.1475, 127.7574,\n",
      "        207.4300])), ('r_hat', tensor([1.0257, 1.0314, 0.9980, 1.0028, 0.9986, 0.9981, 0.9988, 1.0298, 0.9985,\n",
      "        0.9990, 1.0246, 1.0377, 0.9982, 1.0148, 0.9990]))]), 'divergences': {'chain 0': [257, 340, 346, 407]}, 'acceptance rate': {'chain 0': 0.984}}\n",
      "Registering the results in:  SX_IJCAI_M/2024-01-10/iter-5_n-5_k-2_m-20_sigma_w-1.0_sigma_p-1.0_n_samples-500.yaml\n"
     ]
    },
    {
     "name": "stderr",
     "output_type": "stream",
     "text": [
      "Sample: 100%|████████████████████████████| 1000/1000 [01:39, 10.05it/s, step size=6.39e-02, acc. prob=0.336]\n"
     ]
    },
    {
     "name": "stdout",
     "output_type": "stream",
     "text": [
      "diag:  {'sigma': OrderedDict([('n_eff', tensor(13.3485)), ('r_hat', tensor(1.0361))]), 'w': OrderedDict([('n_eff', tensor([46.5509,  8.4240, 84.7315,  9.1770, 39.4894,  9.1591, 46.0386,  6.8520,\n",
      "        18.8650, 20.3210, 10.7355, 10.9801, 24.6887, 11.0385,  6.1286])), ('r_hat', tensor([1.0421, 1.0402, 0.9980, 1.0561, 1.0908, 1.0043, 0.9994, 1.0494, 1.0131,\n",
      "        1.0054, 1.0163, 1.0707, 1.0007, 1.1282, 1.1641]))]), 'divergences': {'chain 0': [97, 103, 104, 106, 107, 117, 123, 125, 134, 135, 136, 137, 138, 140, 141, 142, 143, 146, 147, 148, 150, 152, 154, 155, 157, 158, 161, 162, 163, 164, 168, 170, 171, 174, 175, 176, 178, 179, 180, 181, 183, 184, 185, 186, 192, 196, 199, 200, 203, 204, 208, 210, 215, 219, 222, 223, 226, 228, 229, 232, 235, 236, 237, 238, 239, 242, 249, 255, 262, 263, 266, 267, 268, 270, 276, 278, 279, 280, 285, 287, 289, 291, 293, 294, 296, 297, 298, 300, 301, 302, 303, 305, 306, 310, 320, 432, 446, 448]}, 'acceptance rate': {'chain 0': 0.652}}\n",
      "Registering the results in:  SX_IJCAI_M/2024-01-10/iter-5_n-5_k-2_m-21_sigma_w-1.0_sigma_p-1.0_n_samples-500.yaml\n"
     ]
    },
    {
     "name": "stderr",
     "output_type": "stream",
     "text": [
      "Sample: 100%|████████████████████████████| 1000/1000 [01:40,  9.98it/s, step size=6.91e-02, acc. prob=0.782]\n"
     ]
    },
    {
     "name": "stdout",
     "output_type": "stream",
     "text": [
      "diag:  {'sigma': OrderedDict([('n_eff', tensor(158.3457)), ('r_hat', tensor(1.0093))]), 'w': OrderedDict([('n_eff', tensor([134.7976, 138.5151, 189.0309, 114.7508, 181.5430, 111.5777, 118.5527,\n",
      "        133.6407, 128.6715, 123.5449, 134.4124, 116.2697, 100.7724, 221.4552,\n",
      "        128.7007])), ('r_hat', tensor([0.9980, 1.0290, 1.0055, 0.9981, 1.0010, 1.0113, 1.0087, 1.0033, 1.0024,\n",
      "        0.9997, 1.0141, 1.0458, 1.0205, 1.0004, 1.0047]))]), 'divergences': {'chain 0': [49, 52, 222, 342]}, 'acceptance rate': {'chain 0': 0.982}}\n",
      "Registering the results in:  SX_IJCAI_M/2024-01-10/iter-5_n-5_k-2_m-22_sigma_w-1.0_sigma_p-1.0_n_samples-500.yaml\n"
     ]
    },
    {
     "name": "stderr",
     "output_type": "stream",
     "text": [
      "Sample: 100%|████████████████████████████| 1000/1000 [02:07,  7.84it/s, step size=6.06e-02, acc. prob=0.728]\n"
     ]
    },
    {
     "name": "stdout",
     "output_type": "stream",
     "text": [
      "diag:  {'sigma': OrderedDict([('n_eff', tensor(59.2419)), ('r_hat', tensor(0.9982))]), 'w': OrderedDict([('n_eff', tensor([ 27.9909, 198.6094,  42.2063, 159.2858,  50.9597,  29.0667,  87.1148,\n",
      "         94.0182,  30.1392,  96.3620, 127.6503, 236.0491, 118.0332,  48.6209,\n",
      "        116.9896])), ('r_hat', tensor([1.0200, 0.9992, 1.0033, 1.0163, 1.0005, 1.0211, 1.0269, 1.0042, 1.0088,\n",
      "        1.0187, 1.0271, 0.9988, 1.0378, 1.0501, 1.0411]))]), 'divergences': {'chain 0': [146, 167, 227, 482, 487, 492, 493, 494, 497]}, 'acceptance rate': {'chain 0': 0.964}}\n",
      "Registering the results in:  SX_IJCAI_M/2024-01-10/iter-5_n-5_k-2_m-23_sigma_w-1.0_sigma_p-1.0_n_samples-500.yaml\n"
     ]
    },
    {
     "name": "stderr",
     "output_type": "stream",
     "text": [
      "Sample: 100%|████████████████████████████| 1000/1000 [01:55,  8.67it/s, step size=5.17e-02, acc. prob=0.627]\n"
     ]
    },
    {
     "name": "stdout",
     "output_type": "stream",
     "text": [
      "diag:  {'sigma': OrderedDict([('n_eff', tensor(59.6052)), ('r_hat', tensor(1.0168))]), 'w': OrderedDict([('n_eff', tensor([ 58.7949,  44.1256,  44.2560, 132.5573,  37.3255,  92.5349,  50.0274,\n",
      "         87.5540, 131.6409,  49.3143,  20.6410,  29.3657,  86.3916,  86.8076,\n",
      "        135.8849])), ('r_hat', tensor([1.0335, 1.0068, 0.9980, 1.0052, 1.0594, 1.0013, 1.0066, 1.0369, 1.0387,\n",
      "        1.0037, 0.9980, 1.0007, 0.9982, 1.0072, 1.0047]))]), 'divergences': {'chain 0': [3, 4, 251, 398, 421]}, 'acceptance rate': {'chain 0': 0.88}}\n",
      "Registering the results in:  SX_IJCAI_M/2024-01-10/iter-5_n-5_k-2_m-24_sigma_w-1.0_sigma_p-1.0_n_samples-500.yaml\n"
     ]
    },
    {
     "name": "stderr",
     "output_type": "stream",
     "text": [
      "Sample: 100%|████████████████████████████| 1000/1000 [02:19,  7.18it/s, step size=5.02e-02, acc. prob=0.746]\n"
     ]
    },
    {
     "name": "stdout",
     "output_type": "stream",
     "text": [
      "diag:  {'sigma': OrderedDict([('n_eff', tensor(68.5567)), ('r_hat', tensor(1.0080))]), 'w': OrderedDict([('n_eff', tensor([133.8539, 115.3805,  45.2499,  46.1580,  48.9647,  82.0709, 102.6644,\n",
      "         90.1747,  70.4989, 110.4609,  61.7915, 102.3119,  45.4195, 110.2712,\n",
      "         80.7278])), ('r_hat', tensor([1.0099, 1.0146, 1.0357, 1.0271, 1.0391, 1.0359, 0.9987, 0.9992, 1.0320,\n",
      "        1.0573, 1.0467, 1.0414, 1.0313, 1.0089, 1.0243]))]), 'divergences': {'chain 0': [22, 79, 124, 160, 359, 391, 439]}, 'acceptance rate': {'chain 0': 0.97}}\n",
      "Registering the results in:  SX_IJCAI_M/2024-01-10/iter-5_n-5_k-2_m-25_sigma_w-1.0_sigma_p-1.0_n_samples-500.yaml\n"
     ]
    },
    {
     "name": "stderr",
     "output_type": "stream",
     "text": [
      "Sample: 100%|████████████████████████████| 1000/1000 [02:15,  7.39it/s, step size=4.19e-02, acc. prob=0.915]\n"
     ]
    },
    {
     "name": "stdout",
     "output_type": "stream",
     "text": [
      "diag:  {'sigma': OrderedDict([('n_eff', tensor(95.4308)), ('r_hat', tensor(1.0008))]), 'w': OrderedDict([('n_eff', tensor([100.9267,  78.9060,  77.8569,  64.2758,  86.1847, 184.9895,  65.2912,\n",
      "         59.2719, 166.2902, 130.0876,  93.0543, 142.6486, 153.7083,  54.5765,\n",
      "         91.6717])), ('r_hat', tensor([0.9990, 0.9980, 0.9987, 0.9982, 0.9981, 1.0166, 1.0010, 1.0004, 1.0056,\n",
      "        0.9980, 1.0441, 1.0000, 1.0168, 0.9980, 1.0343]))]), 'divergences': {'chain 0': [88]}, 'acceptance rate': {'chain 0': 0.996}}\n",
      "Registering the results in:  SX_IJCAI_M/2024-01-10/iter-5_n-5_k-2_m-26_sigma_w-1.0_sigma_p-1.0_n_samples-500.yaml\n"
     ]
    },
    {
     "name": "stderr",
     "output_type": "stream",
     "text": [
      "Sample: 100%|████████████████████████████| 1000/1000 [02:52,  5.79it/s, step size=2.82e-02, acc. prob=0.745]\n"
     ]
    },
    {
     "name": "stdout",
     "output_type": "stream",
     "text": [
      "diag:  {'sigma': OrderedDict([('n_eff', tensor(14.7952)), ('r_hat', tensor(1.1121))]), 'w': OrderedDict([('n_eff', tensor([142.7025,  30.8170, 102.3736,  17.3232,  13.5918,  10.5993,  12.1438,\n",
      "         15.9602,  36.3266,  84.1077,  33.3420,  37.5624, 182.4859,  47.5033,\n",
      "         34.0437])), ('r_hat', tensor([1.0129, 1.0565, 1.0097, 1.1086, 1.1483, 1.1501, 1.1207, 1.0946, 1.0759,\n",
      "        1.0345, 1.0600, 1.0562, 0.9980, 1.0559, 1.0576]))]), 'divergences': {'chain 0': [258, 272, 290, 347, 369, 375, 376, 379, 381, 386, 398, 401, 405, 412, 416, 418, 424, 429, 437, 439, 440, 445, 446, 448, 449, 454, 455, 456, 460, 461, 467, 468, 475, 486]}, 'acceptance rate': {'chain 0': 0.962}}\n",
      "Registering the results in:  SX_IJCAI_M/2024-01-10/iter-5_n-5_k-2_m-27_sigma_w-1.0_sigma_p-1.0_n_samples-500.yaml\n"
     ]
    },
    {
     "name": "stderr",
     "output_type": "stream",
     "text": [
      "Sample: 100%|████████████████████████████| 1000/1000 [02:14,  7.46it/s, step size=4.61e-02, acc. prob=0.786]\n"
     ]
    },
    {
     "name": "stdout",
     "output_type": "stream",
     "text": [
      "diag:  {'sigma': OrderedDict([('n_eff', tensor(86.6379)), ('r_hat', tensor(1.0084))]), 'w': OrderedDict([('n_eff', tensor([ 72.2948, 116.5521,  85.1009, 186.5741,  59.5340, 107.1840, 211.1013,\n",
      "        118.8002,  88.6074, 188.1426,  81.9854, 100.6550,  53.4747,  69.3704,\n",
      "         79.7288])), ('r_hat', tensor([0.9987, 1.0107, 0.9981, 0.9996, 0.9988, 1.0082, 1.0102, 1.0016, 0.9989,\n",
      "        0.9980, 1.0000, 1.0015, 0.9984, 0.9997, 0.9989]))]), 'divergences': {'chain 0': [43, 75, 176, 183, 187, 189, 191, 283, 399, 492]}, 'acceptance rate': {'chain 0': 0.992}}\n",
      "Registering the results in:  SX_IJCAI_M/2024-01-10/iter-5_n-5_k-2_m-28_sigma_w-1.0_sigma_p-1.0_n_samples-500.yaml\n"
     ]
    },
    {
     "name": "stderr",
     "output_type": "stream",
     "text": [
      "Sample: 100%|████████████████████████████| 1000/1000 [02:24,  6.90it/s, step size=4.40e-02, acc. prob=0.813]\n"
     ]
    },
    {
     "name": "stdout",
     "output_type": "stream",
     "text": [
      "diag:  {'sigma': OrderedDict([('n_eff', tensor(148.4144)), ('r_hat', tensor(1.0037))]), 'w': OrderedDict([('n_eff', tensor([ 53.1014,  68.5206,  41.5174,  42.8613, 123.3676,  74.2514,  56.1500,\n",
      "        101.6161,  37.6833, 119.2101,  99.4919,  40.5436, 126.1117,  86.5151,\n",
      "         67.8261])), ('r_hat', tensor([1.0208, 1.0189, 1.0232, 1.0163, 1.0056, 1.0058, 1.0150, 0.9985, 1.0293,\n",
      "        1.0095, 1.0006, 1.0342, 1.0023, 1.0082, 1.0424]))]), 'divergences': {'chain 0': [35, 226, 246, 456, 481]}, 'acceptance rate': {'chain 0': 0.998}}\n",
      "Registering the results in:  SX_IJCAI_M/2024-01-10/iter-5_n-5_k-2_m-29_sigma_w-1.0_sigma_p-1.0_n_samples-500.yaml\n"
     ]
    },
    {
     "name": "stderr",
     "output_type": "stream",
     "text": [
      "Sample: 100%|████████████████████████████| 1000/1000 [01:41,  9.86it/s, step size=5.93e-02, acc. prob=0.314]\n"
     ]
    },
    {
     "name": "stdout",
     "output_type": "stream",
     "text": [
      "diag:  {'sigma': OrderedDict([('n_eff', tensor(4.8035)), ('r_hat', tensor(1.3811))]), 'w': OrderedDict([('n_eff', tensor([  7.7658,   5.5036,   5.2561, 127.9857,   4.4543,  10.4847,  19.3250,\n",
      "        109.1644,   5.0670,  11.2392,  12.1987,  19.5531,   7.2240,   8.4423,\n",
      "          7.3398])), ('r_hat', tensor([1.3502, 1.4093, 1.4546, 0.9982, 1.5235, 1.2391, 1.1355, 1.0002, 1.5080,\n",
      "        1.1691, 1.2115, 1.0451, 1.3279, 1.2829, 1.3002]))]), 'divergences': {'chain 0': [103, 136, 166, 168, 179, 183, 184, 193, 200, 207, 209, 210, 215, 219, 220, 221, 222, 223, 224, 227, 229, 230, 232, 233, 234, 235, 236, 237, 238, 239, 241, 242, 243, 244, 245, 246, 247, 248, 249, 250, 251, 252, 253, 254, 255, 256, 257, 258, 262, 264, 265, 266, 267, 268, 269, 270, 271, 272, 273, 275, 276, 277, 279, 282, 283, 285, 287, 289, 290, 291, 292, 294, 295, 297, 298, 299, 300, 302, 305, 306, 309, 311, 313, 314, 317, 319, 321, 324, 325, 326, 327, 333, 334, 336, 339, 340, 342, 343, 344, 346, 347, 349, 351, 353, 354, 355, 356, 360, 362, 364, 365, 366, 368, 370, 371, 372, 373, 376, 379, 381, 382, 383, 387, 390, 392, 393, 395, 396, 397, 398, 399, 400, 402, 404, 407, 408, 412, 413, 414, 415, 416, 417, 418, 421, 422, 423, 426, 428, 429, 430, 434, 437, 438, 440, 443, 444, 447, 448, 450, 451, 452, 454, 455, 458, 459, 460, 461, 462, 464, 466, 467, 473, 474, 476, 477, 479, 480, 482, 483, 485, 486, 487, 488]}, 'acceptance rate': {'chain 0': 0.576}}\n",
      "Registering the results in:  SX_IJCAI_M/2024-01-10/iter-5_n-5_k-2_m-30_sigma_w-1.0_sigma_p-1.0_n_samples-500.yaml\n"
     ]
    },
    {
     "name": "stderr",
     "output_type": "stream",
     "text": [
      "Sample: 100%|████████████████████████████| 1000/1000 [02:51,  5.84it/s, step size=2.67e-02, acc. prob=0.678]\n"
     ]
    },
    {
     "name": "stdout",
     "output_type": "stream",
     "text": [
      "diag:  {'sigma': OrderedDict([('n_eff', tensor(36.2244)), ('r_hat', tensor(1.0420))]), 'w': OrderedDict([('n_eff', tensor([ 90.4381,  48.9282,  88.9897,  39.0453,  55.1767,  41.4593,  51.7151,\n",
      "         46.8997,  79.9076,  75.8743,  50.6130,  34.4007, 106.1680,  40.9177,\n",
      "         45.9529])), ('r_hat', tensor([1.0025, 1.0051, 1.0260, 1.0023, 1.0106, 1.0126, 1.0390, 0.9995, 1.0055,\n",
      "        1.0060, 0.9980, 1.0254, 1.0128, 1.0206, 0.9999]))]), 'divergences': {'chain 0': [49, 128, 145, 150, 152, 162, 166, 175, 177, 182, 183, 407]}, 'acceptance rate': {'chain 0': 0.922}}\n",
      "Registering the results in:  SX_IJCAI_M/2024-01-10/iter-5_n-5_k-2_m-31_sigma_w-1.0_sigma_p-1.0_n_samples-500.yaml\n"
     ]
    },
    {
     "name": "stderr",
     "output_type": "stream",
     "text": [
      "Sample: 100%|████████████████████████████| 1000/1000 [02:04,  8.02it/s, step size=5.51e-02, acc. prob=0.776]\n"
     ]
    },
    {
     "name": "stdout",
     "output_type": "stream",
     "text": [
      "diag:  {'sigma': OrderedDict([('n_eff', tensor(78.7383)), ('r_hat', tensor(1.0131))]), 'w': OrderedDict([('n_eff', tensor([ 69.0898,  94.2243,  91.6360,  74.7993,  65.1751,  91.8011,  75.7800,\n",
      "         90.4622,  93.1764,  92.8577,  76.0192,  94.2985, 122.0819,  73.6996,\n",
      "         84.5576])), ('r_hat', tensor([1.0083, 0.9998, 1.0072, 0.9986, 0.9984, 0.9984, 1.0140, 0.9983, 0.9987,\n",
      "        0.9984, 1.0012, 1.0010, 1.0018, 1.0020, 0.9980]))]), 'divergences': {'chain 0': [148, 266, 359, 496]}, 'acceptance rate': {'chain 0': 0.994}}\n",
      "Registering the results in:  SX_IJCAI_M/2024-01-10/iter-6_n-5_k-2_m-2_sigma_w-1.0_sigma_p-1.0_n_samples-500.yaml\n"
     ]
    },
    {
     "name": "stderr",
     "output_type": "stream",
     "text": [
      "Sample: 100%|████████████████████████████| 1000/1000 [00:27, 37.02it/s, step size=2.51e-01, acc. prob=0.876]\n"
     ]
    },
    {
     "name": "stdout",
     "output_type": "stream",
     "text": [
      "diag:  {'sigma': OrderedDict([('n_eff', tensor(543.2725)), ('r_hat', tensor(0.9980))]), 'w': OrderedDict([('n_eff', tensor([850.6287, 604.2204, 677.3128, 559.2968, 508.4252, 566.7371, 798.1974,\n",
      "        551.2160, 486.7579, 640.7458, 699.3459, 580.6487, 811.7474, 773.3610,\n",
      "        814.6261])), ('r_hat', tensor([0.9980, 0.9997, 0.9980, 1.0013, 1.0049, 0.9998, 0.9980, 0.9985, 0.9987,\n",
      "        0.9986, 0.9983, 0.9981, 0.9983, 0.9982, 0.9996]))]), 'divergences': {'chain 0': [50, 195, 243, 356, 421, 437]}, 'acceptance rate': {'chain 0': 1.0}}\n",
      "Registering the results in:  SX_IJCAI_M/2024-01-10/iter-6_n-5_k-2_m-3_sigma_w-1.0_sigma_p-1.0_n_samples-500.yaml\n"
     ]
    },
    {
     "name": "stderr",
     "output_type": "stream",
     "text": [
      "Sample: 100%|████████████████████████████| 1000/1000 [00:45, 21.84it/s, step size=1.38e-01, acc. prob=0.922]\n"
     ]
    },
    {
     "name": "stdout",
     "output_type": "stream",
     "text": [
      "diag:  {'sigma': OrderedDict([('n_eff', tensor(466.8192)), ('r_hat', tensor(1.0000))]), 'w': OrderedDict([('n_eff', tensor([791.1773, 614.3862, 442.3622, 804.9026, 824.0320, 741.1591, 519.4437,\n",
      "        883.0030, 705.9337, 642.6763, 545.3975, 620.7462, 447.8636, 636.9980,\n",
      "        714.9598])), ('r_hat', tensor([0.9998, 0.9981, 1.0010, 1.0014, 0.9980, 0.9980, 0.9995, 1.0001, 1.0016,\n",
      "        0.9985, 0.9996, 0.9987, 1.0065, 1.0045, 0.9982]))]), 'divergences': {'chain 0': [412]}, 'acceptance rate': {'chain 0': 1.0}}\n",
      "Registering the results in:  SX_IJCAI_M/2024-01-10/iter-6_n-5_k-2_m-4_sigma_w-1.0_sigma_p-1.0_n_samples-500.yaml\n"
     ]
    },
    {
     "name": "stderr",
     "output_type": "stream",
     "text": [
      "Sample: 100%|████████████████████████████| 1000/1000 [00:38, 26.29it/s, step size=2.23e-01, acc. prob=0.755]\n"
     ]
    },
    {
     "name": "stdout",
     "output_type": "stream",
     "text": [
      "diag:  {'sigma': OrderedDict([('n_eff', tensor(136.1857)), ('r_hat', tensor(1.0032))]), 'w': OrderedDict([('n_eff', tensor([278.4252, 310.2760, 197.1685, 217.4978, 274.1303, 467.5609, 359.6614,\n",
      "        251.3557, 151.9433, 331.4512,  74.8584, 105.8453, 141.5077,  63.9914,\n",
      "        338.7625])), ('r_hat', tensor([1.0004, 0.9984, 0.9990, 1.0003, 1.0076, 0.9980, 0.9985, 1.0056, 1.0007,\n",
      "        0.9996, 1.0187, 1.0033, 1.0221, 1.0358, 1.0041]))]), 'divergences': {'chain 0': [130, 315, 316, 318, 320, 323, 325, 326, 330, 336, 340, 346, 348, 363]}, 'acceptance rate': {'chain 0': 0.964}}\n",
      "Registering the results in:  SX_IJCAI_M/2024-01-10/iter-6_n-5_k-2_m-5_sigma_w-1.0_sigma_p-1.0_n_samples-500.yaml\n"
     ]
    },
    {
     "name": "stderr",
     "output_type": "stream",
     "text": [
      "Sample: 100%|████████████████████████████| 1000/1000 [00:52, 19.03it/s, step size=1.17e-01, acc. prob=0.777]\n"
     ]
    },
    {
     "name": "stdout",
     "output_type": "stream",
     "text": [
      "diag:  {'sigma': OrderedDict([('n_eff', tensor(161.5432)), ('r_hat', tensor(0.9997))]), 'w': OrderedDict([('n_eff', tensor([304.7984, 244.2563, 235.7618, 260.7101, 191.5261, 132.2299, 425.7776,\n",
      "        297.0344, 312.7235, 264.5014, 171.6038, 349.8537, 228.3258, 253.6806,\n",
      "        288.9446])), ('r_hat', tensor([1.0043, 0.9990, 0.9988, 0.9989, 0.9981, 1.0000, 0.9994, 0.9990, 1.0005,\n",
      "        0.9980, 0.9993, 0.9987, 1.0034, 1.0082, 1.0029]))]), 'divergences': {'chain 0': [68, 109, 255, 313, 314, 315, 317, 319, 323, 401, 490, 491, 492, 493, 494, 495, 496, 497, 499]}, 'acceptance rate': {'chain 0': 0.982}}\n",
      "Registering the results in:  SX_IJCAI_M/2024-01-10/iter-6_n-5_k-2_m-6_sigma_w-1.0_sigma_p-1.0_n_samples-500.yaml\n"
     ]
    },
    {
     "name": "stderr",
     "output_type": "stream",
     "text": [
      "Sample: 100%|████████████████████████████| 1000/1000 [00:53, 18.73it/s, step size=1.17e-01, acc. prob=0.873]\n"
     ]
    },
    {
     "name": "stdout",
     "output_type": "stream",
     "text": [
      "diag:  {'sigma': OrderedDict([('n_eff', tensor(298.3388)), ('r_hat', tensor(0.9988))]), 'w': OrderedDict([('n_eff', tensor([238.1641, 170.8826, 394.0182, 270.0898, 276.8381, 447.1485, 450.7384,\n",
      "        282.4130, 372.3009, 332.9488, 251.4650, 342.1028, 412.4988, 263.9784,\n",
      "        349.4123])), ('r_hat', tensor([1.0028, 1.0021, 0.9987, 1.0058, 0.9984, 1.0011, 1.0062, 1.0046, 1.0033,\n",
      "        1.0006, 1.0026, 1.0060, 1.0011, 1.0006, 0.9986]))]), 'divergences': {'chain 0': []}, 'acceptance rate': {'chain 0': 0.988}}\n",
      "Registering the results in:  SX_IJCAI_M/2024-01-10/iter-6_n-5_k-2_m-7_sigma_w-1.0_sigma_p-1.0_n_samples-500.yaml\n"
     ]
    },
    {
     "name": "stderr",
     "output_type": "stream",
     "text": [
      "Sample: 100%|████████████████████████████| 1000/1000 [00:59, 16.93it/s, step size=1.50e-01, acc. prob=0.746]\n"
     ]
    },
    {
     "name": "stdout",
     "output_type": "stream",
     "text": [
      "diag:  {'sigma': OrderedDict([('n_eff', tensor(124.1681)), ('r_hat', tensor(1.0143))]), 'w': OrderedDict([('n_eff', tensor([372.9132, 284.4612, 289.0348, 236.9362,  64.5186, 287.2821, 428.7551,\n",
      "        457.8348, 220.1242, 326.6319, 144.0809, 120.9450, 291.5602, 158.5040,\n",
      "         43.6249])), ('r_hat', tensor([0.9987, 1.0045, 0.9980, 1.0130, 1.0375, 0.9997, 1.0009, 0.9983, 0.9983,\n",
      "        0.9982, 0.9980, 1.0002, 1.0006, 0.9981, 1.0074]))]), 'divergences': {'chain 0': [48, 54, 55, 57, 58, 150, 293, 356, 419]}, 'acceptance rate': {'chain 0': 0.948}}\n",
      "Registering the results in:  SX_IJCAI_M/2024-01-10/iter-6_n-5_k-2_m-8_sigma_w-1.0_sigma_p-1.0_n_samples-500.yaml\n"
     ]
    },
    {
     "name": "stderr",
     "output_type": "stream",
     "text": [
      "Sample: 100%|████████████████████████████| 1000/1000 [00:52, 19.14it/s, step size=1.28e-01, acc. prob=0.803]\n"
     ]
    },
    {
     "name": "stdout",
     "output_type": "stream",
     "text": [
      "diag:  {'sigma': OrderedDict([('n_eff', tensor(118.1980)), ('r_hat', tensor(1.0148))]), 'w': OrderedDict([('n_eff', tensor([359.5858, 105.8224, 443.9282, 244.1994, 241.2877, 285.5679, 229.9757,\n",
      "        505.4402, 360.1382, 360.3093, 158.2635, 387.0153, 235.3226, 408.3320,\n",
      "        194.6364])), ('r_hat', tensor([0.9981, 1.0102, 1.0009, 0.9992, 0.9991, 1.0005, 0.9990, 0.9992, 0.9998,\n",
      "        1.0014, 1.0074, 0.9980, 1.0196, 1.0082, 0.9984]))]), 'divergences': {'chain 0': [7, 9, 420]}, 'acceptance rate': {'chain 0': 0.97}}\n",
      "Registering the results in:  SX_IJCAI_M/2024-01-10/iter-6_n-5_k-2_m-9_sigma_w-1.0_sigma_p-1.0_n_samples-500.yaml\n"
     ]
    },
    {
     "name": "stderr",
     "output_type": "stream",
     "text": [
      "Sample: 100%|████████████████████████████| 1000/1000 [01:11, 14.03it/s, step size=1.29e-01, acc. prob=0.733]\n"
     ]
    },
    {
     "name": "stdout",
     "output_type": "stream",
     "text": [
      "diag:  {'sigma': OrderedDict([('n_eff', tensor(177.5275)), ('r_hat', tensor(0.9999))]), 'w': OrderedDict([('n_eff', tensor([174.8751, 265.3311, 185.5850, 132.3676, 246.2473, 186.5997, 131.3664,\n",
      "        155.7281, 180.9517, 227.0760, 178.0003, 226.6188, 152.2261, 162.8504,\n",
      "        194.4840])), ('r_hat', tensor([1.0011, 1.0005, 1.0020, 1.0261, 0.9982, 1.0005, 0.9992, 1.0100, 1.0020,\n",
      "        0.9982, 1.0002, 0.9986, 1.0033, 0.9980, 0.9986]))]), 'divergences': {'chain 0': [94, 303, 455]}, 'acceptance rate': {'chain 0': 0.964}}\n",
      "Registering the results in:  SX_IJCAI_M/2024-01-10/iter-6_n-5_k-2_m-10_sigma_w-1.0_sigma_p-1.0_n_samples-500.yaml\n"
     ]
    },
    {
     "name": "stderr",
     "output_type": "stream",
     "text": [
      "Sample: 100%|████████████████████████████| 1000/1000 [01:09, 14.39it/s, step size=1.25e-01, acc. prob=0.587]\n"
     ]
    },
    {
     "name": "stdout",
     "output_type": "stream",
     "text": [
      "diag:  {'sigma': OrderedDict([('n_eff', tensor(41.4340)), ('r_hat', tensor(1.0415))]), 'w': OrderedDict([('n_eff', tensor([123.5342,  37.7737,   8.2028,  18.3608,  68.2606,  16.2563, 211.3645,\n",
      "        173.1708,  61.8924,  31.4988, 135.6062,  21.2784,  12.1964, 103.6577,\n",
      "         43.9320])), ('r_hat', tensor([1.0311, 1.1193, 1.1035, 1.0107, 1.0259, 1.1640, 1.0067, 0.9993, 0.9996,\n",
      "        1.0099, 1.0186, 1.0920, 1.0469, 1.0125, 1.0214]))]), 'divergences': {'chain 0': [34, 37, 41, 42, 50, 52, 56, 60, 62, 63, 66, 67, 71, 72, 74, 79, 83, 84, 85, 87, 88, 91, 93, 94, 95, 96, 99, 100, 105, 106, 117, 120, 202, 219, 221, 267, 302, 333, 453]}, 'acceptance rate': {'chain 0': 0.866}}\n",
      "Registering the results in:  SX_IJCAI_M/2024-01-11/iter-6_n-5_k-2_m-11_sigma_w-1.0_sigma_p-1.0_n_samples-500.yaml\n"
     ]
    },
    {
     "name": "stderr",
     "output_type": "stream",
     "text": [
      "Sample: 100%|████████████████████████████| 1000/1000 [02:20,  7.10it/s, step size=5.06e-02, acc. prob=0.826]\n"
     ]
    },
    {
     "name": "stdout",
     "output_type": "stream",
     "text": [
      "diag:  {'sigma': OrderedDict([('n_eff', tensor(281.9817)), ('r_hat', tensor(0.9985))]), 'w': OrderedDict([('n_eff', tensor([216.9899, 101.6933, 261.1782, 324.1554, 173.6755, 190.6498, 267.5268,\n",
      "        234.1592, 241.2590, 167.3259, 161.8723, 381.5823, 179.6323, 181.9486,\n",
      "        237.4174])), ('r_hat', tensor([1.0000, 0.9994, 0.9989, 0.9983, 1.0051, 1.0010, 1.0086, 1.0007, 1.0032,\n",
      "        0.9993, 0.9990, 1.0000, 0.9984, 0.9985, 1.0054]))]), 'divergences': {'chain 0': [6, 73, 125, 220]}, 'acceptance rate': {'chain 0': 0.984}}\n",
      "Registering the results in:  SX_IJCAI_M/2024-01-11/iter-6_n-5_k-2_m-12_sigma_w-1.0_sigma_p-1.0_n_samples-500.yaml\n"
     ]
    },
    {
     "name": "stderr",
     "output_type": "stream",
     "text": [
      "Sample: 100%|████████████████████████████| 1000/1000 [01:50,  9.03it/s, step size=6.25e-02, acc. prob=0.831]\n"
     ]
    },
    {
     "name": "stdout",
     "output_type": "stream",
     "text": [
      "diag:  {'sigma': OrderedDict([('n_eff', tensor(210.6427)), ('r_hat', tensor(0.9993))]), 'w': OrderedDict([('n_eff', tensor([231.9865, 409.1849, 292.6000, 410.6018, 249.7988, 270.6427, 205.8676,\n",
      "        243.0694, 362.4970, 338.8017, 274.4893, 203.1476, 349.8420, 299.0381,\n",
      "        309.7618])), ('r_hat', tensor([0.9991, 0.9980, 1.0031, 0.9980, 1.0002, 0.9992, 1.0021, 1.0158, 0.9982,\n",
      "        0.9982, 1.0142, 1.0216, 0.9991, 1.0038, 0.9980]))]), 'divergences': {'chain 0': [1, 52, 55, 58, 62, 63, 405]}, 'acceptance rate': {'chain 0': 0.984}}\n",
      "Registering the results in:  SX_IJCAI_M/2024-01-11/iter-6_n-5_k-2_m-13_sigma_w-1.0_sigma_p-1.0_n_samples-500.yaml\n"
     ]
    },
    {
     "name": "stderr",
     "output_type": "stream",
     "text": [
      "Sample: 100%|████████████████████████████| 1000/1000 [01:49,  9.10it/s, step size=6.44e-02, acc. prob=0.801]\n"
     ]
    },
    {
     "name": "stdout",
     "output_type": "stream",
     "text": [
      "diag:  {'sigma': OrderedDict([('n_eff', tensor(167.6540)), ('r_hat', tensor(0.9990))]), 'w': OrderedDict([('n_eff', tensor([ 47.5044, 215.5049,  65.1724,  49.1062, 134.7054, 138.2576, 111.1271,\n",
      "        176.2036, 205.4541, 134.2325, 230.8736, 137.4111, 108.1312, 270.3508,\n",
      "        113.7229])), ('r_hat', tensor([1.0573, 0.9993, 1.0276, 1.0295, 1.0475, 0.9983, 0.9983, 0.9996, 0.9994,\n",
      "        1.0026, 0.9984, 1.0186, 1.0058, 0.9992, 1.0044]))]), 'divergences': {'chain 0': [104, 114, 248, 273, 330, 331, 335, 341, 342, 345, 346, 348, 357, 359, 360, 411, 412]}, 'acceptance rate': {'chain 0': 0.982}}\n",
      "Registering the results in:  SX_IJCAI_M/2024-01-11/iter-6_n-5_k-2_m-14_sigma_w-1.0_sigma_p-1.0_n_samples-500.yaml\n"
     ]
    },
    {
     "name": "stderr",
     "output_type": "stream",
     "text": [
      "Sample: 100%|████████████████████████████| 1000/1000 [01:21, 12.26it/s, step size=8.79e-02, acc. prob=0.565]\n"
     ]
    },
    {
     "name": "stdout",
     "output_type": "stream",
     "text": [
      "diag:  {'sigma': OrderedDict([('n_eff', tensor(19.2447)), ('r_hat', tensor(1.0146))]), 'w': OrderedDict([('n_eff', tensor([ 68.1279,  16.3548,  84.4871,  39.6078,  10.9058,  87.8777,  19.9638,\n",
      "         86.4666,  11.3873,   6.9238,  30.0644, 115.5360,  57.0299, 123.1935,\n",
      "         68.2463])), ('r_hat', tensor([0.9980, 1.0201, 1.0253, 1.0448, 1.0645, 1.0722, 1.0039, 1.0036, 1.0317,\n",
      "        1.0958, 1.0138, 1.0028, 1.0836, 1.0121, 0.9992]))]), 'divergences': {'chain 0': [59, 90, 232, 262, 265, 268, 272, 273, 274, 275, 278, 281, 284, 288, 289, 291, 294, 295, 301, 302, 303, 304, 305, 307, 308, 309, 315, 316, 317, 319, 320, 322, 325, 326, 330, 331, 333, 334, 337, 341, 342, 343, 344, 346, 353, 355, 358]}, 'acceptance rate': {'chain 0': 0.842}}\n",
      "Registering the results in:  SX_IJCAI_M/2024-01-11/iter-6_n-5_k-2_m-15_sigma_w-1.0_sigma_p-1.0_n_samples-500.yaml\n"
     ]
    },
    {
     "name": "stderr",
     "output_type": "stream",
     "text": [
      "Sample: 100%|████████████████████████████| 1000/1000 [02:36,  6.38it/s, step size=6.53e-02, acc. prob=0.612]\n"
     ]
    },
    {
     "name": "stdout",
     "output_type": "stream",
     "text": [
      "diag:  {'sigma': OrderedDict([('n_eff', tensor(72.7262)), ('r_hat', tensor(1.0178))]), 'w': OrderedDict([('n_eff', tensor([ 68.6496,  74.9655, 119.6712,  92.9340, 129.3628, 101.4021,  78.7837,\n",
      "         51.6539, 130.7786,  80.5770,  73.3866, 127.3305, 188.4250,  69.6333,\n",
      "         71.8295])), ('r_hat', tensor([1.0079, 0.9982, 1.0017, 1.0043, 1.0067, 1.0014, 0.9991, 0.9980, 0.9993,\n",
      "        1.0007, 1.0116, 0.9988, 0.9987, 1.0050, 0.9991]))]), 'divergences': {'chain 0': [50, 58, 61, 67, 254, 263, 294, 371, 376, 424, 429, 454, 457, 475]}, 'acceptance rate': {'chain 0': 0.952}}\n",
      "Registering the results in:  SX_IJCAI_M/2024-01-11/iter-6_n-5_k-2_m-16_sigma_w-1.0_sigma_p-1.0_n_samples-500.yaml\n"
     ]
    },
    {
     "name": "stderr",
     "output_type": "stream",
     "text": [
      "Sample: 100%|████████████████████████████| 1000/1000 [02:31,  6.60it/s, step size=4.32e-02, acc. prob=0.789]\n"
     ]
    },
    {
     "name": "stdout",
     "output_type": "stream",
     "text": [
      "diag:  {'sigma': OrderedDict([('n_eff', tensor(39.5042)), ('r_hat', tensor(1.0493))]), 'w': OrderedDict([('n_eff', tensor([ 28.1308,  49.9144, 170.1491,  30.5856, 247.1298, 128.7362, 162.7832,\n",
      "        387.8491, 153.7854, 167.1576,  63.5570, 176.4622, 384.7951, 168.4985,\n",
      "         26.0245])), ('r_hat', tensor([1.0137, 1.0181, 1.0086, 1.0525, 1.0004, 1.0078, 0.9980, 1.0089, 1.0106,\n",
      "        1.0079, 1.0125, 1.0002, 0.9983, 1.0027, 1.0349]))]), 'divergences': {'chain 0': [239, 247, 268, 355, 386, 402]}, 'acceptance rate': {'chain 0': 0.958}}\n",
      "Registering the results in:  SX_IJCAI_M/2024-01-11/iter-6_n-5_k-2_m-17_sigma_w-1.0_sigma_p-1.0_n_samples-500.yaml\n"
     ]
    },
    {
     "name": "stderr",
     "output_type": "stream",
     "text": [
      "Sample: 100%|████████████████████████████| 1000/1000 [02:06,  7.90it/s, step size=4.79e-02, acc. prob=0.885]\n"
     ]
    },
    {
     "name": "stdout",
     "output_type": "stream",
     "text": [
      "diag:  {'sigma': OrderedDict([('n_eff', tensor(159.3684)), ('r_hat', tensor(1.0063))]), 'w': OrderedDict([('n_eff', tensor([144.5457, 224.5600, 209.2653, 143.4781, 148.8230, 234.3433, 229.8903,\n",
      "        199.9179, 160.7686, 226.9361, 170.6445, 237.3856, 204.8444, 167.1976,\n",
      "        259.8391])), ('r_hat', tensor([0.9981, 0.9985, 1.0007, 0.9994, 0.9980, 0.9994, 1.0041, 1.0033, 0.9981,\n",
      "        1.0004, 0.9983, 0.9999, 0.9980, 0.9987, 1.0120]))]), 'divergences': {'chain 0': [28, 193, 243, 244, 376]}, 'acceptance rate': {'chain 0': 0.996}}\n",
      "Registering the results in:  SX_IJCAI_M/2024-01-11/iter-6_n-5_k-2_m-18_sigma_w-1.0_sigma_p-1.0_n_samples-500.yaml\n"
     ]
    },
    {
     "name": "stderr",
     "output_type": "stream",
     "text": [
      "Sample: 100%|████████████████████████████| 1000/1000 [02:00,  8.29it/s, step size=6.58e-02, acc. prob=0.672]\n"
     ]
    },
    {
     "name": "stdout",
     "output_type": "stream",
     "text": [
      "diag:  {'sigma': OrderedDict([('n_eff', tensor(55.4127)), ('r_hat', tensor(1.0306))]), 'w': OrderedDict([('n_eff', tensor([ 87.6423,  14.2529, 181.7893,  19.0389,  99.1605, 130.8813, 108.8928,\n",
      "        157.3403, 224.1129,  55.0970, 183.7806, 152.9554,  90.4632,  71.4117,\n",
      "        108.3417])), ('r_hat', tensor([1.0497, 1.1995, 1.0176, 1.2032, 1.0031, 1.0100, 0.9985, 1.0180, 1.0007,\n",
      "        1.0619, 1.0330, 1.0046, 1.0380, 1.0240, 1.0558]))]), 'divergences': {'chain 0': [128, 131, 156, 167, 180, 189]}, 'acceptance rate': {'chain 0': 0.94}}\n",
      "Registering the results in:  SX_IJCAI_M/2024-01-11/iter-6_n-5_k-2_m-19_sigma_w-1.0_sigma_p-1.0_n_samples-500.yaml\n"
     ]
    },
    {
     "name": "stderr",
     "output_type": "stream",
     "text": [
      "Sample: 100%|████████████████████████████| 1000/1000 [02:21,  7.07it/s, step size=4.19e-02, acc. prob=0.881]\n"
     ]
    },
    {
     "name": "stdout",
     "output_type": "stream",
     "text": [
      "diag:  {'sigma': OrderedDict([('n_eff', tensor(150.5743)), ('r_hat', tensor(0.9980))]), 'w': OrderedDict([('n_eff', tensor([131.2917, 123.9903, 136.7786, 125.9505, 128.0152, 197.0826, 160.4505,\n",
      "        112.5224, 105.4794, 238.3245, 145.8911, 104.4802,  96.4783, 186.8160,\n",
      "        128.8106])), ('r_hat', tensor([0.9989, 0.9983, 1.0092, 0.9983, 1.0038, 1.0130, 1.0260, 1.0023, 1.0327,\n",
      "        0.9981, 1.0002, 0.9983, 1.0004, 1.0227, 1.0056]))]), 'divergences': {'chain 0': [121, 253]}, 'acceptance rate': {'chain 0': 0.992}}\n",
      "Registering the results in:  SX_IJCAI_M/2024-01-11/iter-6_n-5_k-2_m-20_sigma_w-1.0_sigma_p-1.0_n_samples-500.yaml\n"
     ]
    },
    {
     "name": "stderr",
     "output_type": "stream",
     "text": [
      "Sample: 100%|████████████████████████████| 1000/1000 [02:25,  6.87it/s, step size=4.74e-02, acc. prob=0.802]\n"
     ]
    },
    {
     "name": "stdout",
     "output_type": "stream",
     "text": [
      "diag:  {'sigma': OrderedDict([('n_eff', tensor(104.7680)), ('r_hat', tensor(0.9993))]), 'w': OrderedDict([('n_eff', tensor([165.9518,  91.6855, 168.2587, 140.6568, 117.8056,  71.9953, 129.8274,\n",
      "        115.7695, 219.9231, 194.6324, 116.4802,  96.8667,  57.2677, 173.6862,\n",
      "         88.5882])), ('r_hat', tensor([0.9999, 0.9994, 1.0075, 1.0051, 1.0032, 1.0309, 0.9992, 1.0160, 0.9980,\n",
      "        1.0092, 1.0189, 1.0008, 1.0284, 1.0072, 1.0214]))]), 'divergences': {'chain 0': [198, 462]}, 'acceptance rate': {'chain 0': 0.974}}\n",
      "Registering the results in:  SX_IJCAI_M/2024-01-11/iter-6_n-5_k-2_m-21_sigma_w-1.0_sigma_p-1.0_n_samples-500.yaml\n"
     ]
    },
    {
     "name": "stderr",
     "output_type": "stream",
     "text": [
      "Sample: 100%|████████████████████████████| 1000/1000 [02:05,  7.96it/s, step size=4.69e-02, acc. prob=0.800]\n"
     ]
    },
    {
     "name": "stdout",
     "output_type": "stream",
     "text": [
      "diag:  {'sigma': OrderedDict([('n_eff', tensor(59.3466)), ('r_hat', tensor(1.0305))]), 'w': OrderedDict([('n_eff', tensor([119.7020,  47.9356, 161.9148, 158.0791, 181.1821,  57.3659,  38.0788,\n",
      "         70.3009, 100.7453,  98.0600, 148.3149, 164.4470, 112.6171, 139.8562,\n",
      "        153.7055])), ('r_hat', tensor([1.0008, 1.0012, 1.0298, 0.9989, 0.9989, 1.0207, 1.0208, 0.9988, 1.0346,\n",
      "        1.0297, 1.0120, 1.0312, 0.9997, 1.0075, 1.0022]))]), 'divergences': {'chain 0': [174, 258, 315, 469, 474, 477, 478, 480, 487, 489, 493, 494, 496, 497, 499]}, 'acceptance rate': {'chain 0': 0.978}}\n",
      "Registering the results in:  SX_IJCAI_M/2024-01-11/iter-6_n-5_k-2_m-22_sigma_w-1.0_sigma_p-1.0_n_samples-500.yaml\n"
     ]
    },
    {
     "name": "stderr",
     "output_type": "stream",
     "text": [
      "Sample: 100%|████████████████████████████| 1000/1000 [02:24,  6.93it/s, step size=4.17e-02, acc. prob=0.830]\n"
     ]
    },
    {
     "name": "stdout",
     "output_type": "stream",
     "text": [
      "diag:  {'sigma': OrderedDict([('n_eff', tensor(82.5929)), ('r_hat', tensor(0.9988))]), 'w': OrderedDict([('n_eff', tensor([171.7401, 137.2557, 127.7467, 127.6112, 162.5741, 175.3512,  49.8899,\n",
      "        171.6449, 176.6389, 154.0899, 209.9968, 203.6319, 107.1050, 138.4469,\n",
      "        193.5169])), ('r_hat', tensor([0.9995, 0.9982, 0.9987, 0.9987, 0.9980, 0.9982, 1.0071, 0.9981, 0.9984,\n",
      "        0.9990, 0.9981, 1.0032, 1.0007, 1.0028, 0.9987]))]), 'divergences': {'chain 0': [57, 82, 204, 211, 225, 233, 256, 268, 477]}, 'acceptance rate': {'chain 0': 0.992}}\n",
      "Registering the results in:  SX_IJCAI_M/2024-01-11/iter-6_n-5_k-2_m-23_sigma_w-1.0_sigma_p-1.0_n_samples-500.yaml\n"
     ]
    },
    {
     "name": "stderr",
     "output_type": "stream",
     "text": [
      "Sample: 100%|████████████████████████████| 1000/1000 [01:12, 13.80it/s, step size=6.25e-02, acc. prob=0.424]\n"
     ]
    },
    {
     "name": "stdout",
     "output_type": "stream",
     "text": [
      "diag:  {'sigma': OrderedDict([('n_eff', tensor(5.9204)), ('r_hat', tensor(1.5200))]), 'w': OrderedDict([('n_eff', tensor([ 4.1970, 77.4092, 17.3385, 11.5965, 53.8666, 55.0701, 66.1262,  4.7698,\n",
      "         7.7286, 14.0583, 37.2549, 47.2367, 57.0885, 52.3566, 55.9979])), ('r_hat', tensor([1.6804, 1.0013, 1.1619, 1.1481, 0.9982, 1.0067, 1.0369, 1.6149, 1.3682,\n",
      "        1.2048, 1.0207, 1.0793, 1.0305, 1.0474, 1.0037]))]), 'divergences': {'chain 0': [16, 18, 22, 24, 25, 26, 27, 30, 31, 33, 34, 43, 44, 49, 52, 53, 54, 55, 56, 57, 62, 66, 67, 72, 74, 77, 78, 82, 86, 87, 88, 90, 95, 96, 97, 98, 99, 101, 102, 103, 108, 109, 111, 116, 118, 119, 122, 123, 126, 127, 130, 132, 134, 135, 136, 139, 143, 144, 147, 148, 152, 153, 154, 156, 159, 160, 161, 162, 163, 164, 166, 167, 168, 169, 171, 175, 176, 177, 178, 179, 181, 183, 186, 189, 191, 192, 194, 196, 197, 198, 199, 200, 202, 203, 204, 205, 206, 211, 214, 216, 217, 219, 221, 223, 224, 226, 227, 230, 231, 232, 234, 235, 237, 238, 240, 245, 246, 248, 253, 254, 255, 256, 259, 260, 261, 262, 263, 264, 265, 267, 269, 272, 273, 299, 330, 333, 338, 340]}, 'acceptance rate': {'chain 0': 0.718}}\n",
      "Registering the results in:  SX_IJCAI_M/2024-01-11/iter-6_n-5_k-2_m-24_sigma_w-1.0_sigma_p-1.0_n_samples-500.yaml\n"
     ]
    },
    {
     "name": "stderr",
     "output_type": "stream",
     "text": [
      "Sample: 100%|████████████████████████████| 1000/1000 [01:22, 12.14it/s, step size=8.30e-02, acc. prob=0.805]\n"
     ]
    },
    {
     "name": "stdout",
     "output_type": "stream",
     "text": [
      "diag:  {'sigma': OrderedDict([('n_eff', tensor(75.2159)), ('r_hat', tensor(1.0004))]), 'w': OrderedDict([('n_eff', tensor([ 78.5826,  72.4443, 103.1199, 210.7125, 143.3837, 157.2899, 110.5425,\n",
      "         59.6652, 118.8591, 104.0211,  70.0918, 174.0318,  66.4165,  62.3228,\n",
      "         57.5828])), ('r_hat', tensor([1.0058, 1.0227, 0.9980, 1.0044, 1.0018, 1.0140, 1.0319, 1.0358, 1.0124,\n",
      "        1.0106, 0.9986, 0.9980, 1.0088, 1.0050, 1.0385]))]), 'divergences': {'chain 0': [274]}, 'acceptance rate': {'chain 0': 0.97}}\n",
      "Registering the results in:  SX_IJCAI_M/2024-01-11/iter-6_n-5_k-2_m-25_sigma_w-1.0_sigma_p-1.0_n_samples-500.yaml\n"
     ]
    },
    {
     "name": "stderr",
     "output_type": "stream",
     "text": [
      "Sample: 100%|████████████████████████████| 1000/1000 [02:09,  7.72it/s, step size=5.12e-02, acc. prob=0.639]\n"
     ]
    },
    {
     "name": "stdout",
     "output_type": "stream",
     "text": [
      "diag:  {'sigma': OrderedDict([('n_eff', tensor(44.1097)), ('r_hat', tensor(1.0209))]), 'w': OrderedDict([('n_eff', tensor([ 16.8183,  13.9104,  31.9435,  68.7133, 144.8069,  79.3440,  24.6174,\n",
      "         23.1418,  20.0511,  55.2805,  16.6934,  29.6083, 114.7606, 135.1358,\n",
      "        125.8855])), ('r_hat', tensor([1.0247, 1.0317, 1.0662, 1.0102, 0.9995, 1.0118, 1.0629, 1.0219, 1.0007,\n",
      "        1.0022, 1.0123, 1.0162, 1.0119, 1.0164, 1.0062]))]), 'divergences': {'chain 0': [183, 190, 191, 194, 214, 389, 405, 435, 436, 437, 443, 455, 456, 461, 462, 463, 469, 478, 482, 483, 485, 489, 491, 492, 495, 499]}, 'acceptance rate': {'chain 0': 0.874}}\n",
      "Registering the results in:  SX_IJCAI_M/2024-01-11/iter-6_n-5_k-2_m-26_sigma_w-1.0_sigma_p-1.0_n_samples-500.yaml\n"
     ]
    },
    {
     "name": "stderr",
     "output_type": "stream",
     "text": [
      "Sample: 100%|████████████████████████████| 1000/1000 [01:46,  9.42it/s, step size=6.28e-02, acc. prob=0.758]\n"
     ]
    },
    {
     "name": "stdout",
     "output_type": "stream",
     "text": [
      "diag:  {'sigma': OrderedDict([('n_eff', tensor(53.9597)), ('r_hat', tensor(1.0129))]), 'w': OrderedDict([('n_eff', tensor([ 88.5192,  77.8890, 130.4714,  95.4269, 104.9379,  58.5092,  53.7338,\n",
      "         75.5042, 117.7776, 145.0512, 102.7236, 215.8607, 114.5858,  95.9115,\n",
      "        116.9899])), ('r_hat', tensor([1.0004, 0.9985, 1.0078, 0.9980, 0.9995, 1.0024, 1.0013, 1.0095, 1.0020,\n",
      "        1.0100, 0.9987, 0.9999, 0.9999, 0.9981, 0.9992]))]), 'divergences': {'chain 0': [195, 352]}, 'acceptance rate': {'chain 0': 0.98}}\n",
      "Registering the results in:  SX_IJCAI_M/2024-01-11/iter-6_n-5_k-2_m-27_sigma_w-1.0_sigma_p-1.0_n_samples-500.yaml\n"
     ]
    },
    {
     "name": "stderr",
     "output_type": "stream",
     "text": [
      "Sample: 100%|████████████████████████████| 1000/1000 [01:35, 10.48it/s, step size=8.16e-02, acc. prob=0.608]\n"
     ]
    },
    {
     "name": "stdout",
     "output_type": "stream",
     "text": [
      "diag:  {'sigma': OrderedDict([('n_eff', tensor(48.3263)), ('r_hat', tensor(1.0083))]), 'w': OrderedDict([('n_eff', tensor([ 58.7319,  79.5606,  50.0205,  50.8587,  91.9001,  84.1129,  58.2112,\n",
      "         61.9861,  70.6503,  80.7001, 130.8102,  88.1339,  72.9070,  76.9805,\n",
      "         56.9772])), ('r_hat', tensor([1.0048, 1.0325, 1.0017, 1.0399, 1.0011, 1.0113, 0.9999, 0.9984, 0.9988,\n",
      "        1.0141, 1.0156, 0.9995, 1.0184, 1.0040, 1.0251]))]), 'divergences': {'chain 0': [55, 76, 162, 165, 172, 399, 477, 481, 484]}, 'acceptance rate': {'chain 0': 0.93}}\n",
      "Registering the results in:  SX_IJCAI_M/2024-01-11/iter-6_n-5_k-2_m-28_sigma_w-1.0_sigma_p-1.0_n_samples-500.yaml\n"
     ]
    },
    {
     "name": "stderr",
     "output_type": "stream",
     "text": [
      "Sample: 100%|████████████████████████████| 1000/1000 [01:52,  8.91it/s, step size=5.25e-02, acc. prob=0.769]\n"
     ]
    },
    {
     "name": "stdout",
     "output_type": "stream",
     "text": [
      "diag:  {'sigma': OrderedDict([('n_eff', tensor(67.2575)), ('r_hat', tensor(1.0151))]), 'w': OrderedDict([('n_eff', tensor([ 31.3321,  83.1535, 123.1283,  38.2450,  27.7336,  24.2716,  26.4411,\n",
      "         46.9688,  32.1310,  29.2137,  25.8129,  53.6886,  34.8684,  39.0421,\n",
      "         63.1741])), ('r_hat', tensor([1.0018, 1.0035, 0.9992, 1.0056, 0.9993, 0.9981, 0.9991, 1.0051, 0.9982,\n",
      "        1.0015, 0.9982, 1.0025, 1.0022, 0.9982, 0.9980]))]), 'divergences': {'chain 0': [61, 345, 451]}, 'acceptance rate': {'chain 0': 0.976}}\n",
      "Registering the results in:  SX_IJCAI_M/2024-01-11/iter-6_n-5_k-2_m-29_sigma_w-1.0_sigma_p-1.0_n_samples-500.yaml\n"
     ]
    },
    {
     "name": "stderr",
     "output_type": "stream",
     "text": [
      "Sample: 100%|████████████████████████████| 1000/1000 [02:10,  7.67it/s, step size=5.43e-02, acc. prob=0.751]\n"
     ]
    },
    {
     "name": "stdout",
     "output_type": "stream",
     "text": [
      "diag:  {'sigma': OrderedDict([('n_eff', tensor(67.4300)), ('r_hat', tensor(1.0057))]), 'w': OrderedDict([('n_eff', tensor([138.9124,  87.7903,  70.9169,  60.6246,  61.7253,  65.5282,  69.6259,\n",
      "        132.0567,  61.5200, 122.2691,  65.3438,  77.7266,  97.6152,  72.0637,\n",
      "         66.1353])), ('r_hat', tensor([0.9980, 1.0048, 0.9992, 1.0348, 0.9991, 1.0021, 0.9987, 1.0111, 1.0003,\n",
      "        1.0443, 0.9984, 1.0081, 1.0797, 1.0531, 0.9996]))]), 'divergences': {'chain 0': [13, 36, 104, 194, 314, 449]}, 'acceptance rate': {'chain 0': 0.956}}\n",
      "Registering the results in:  SX_IJCAI_M/2024-01-11/iter-6_n-5_k-2_m-30_sigma_w-1.0_sigma_p-1.0_n_samples-500.yaml\n"
     ]
    },
    {
     "name": "stderr",
     "output_type": "stream",
     "text": [
      "Sample: 100%|████████████████████████████| 1000/1000 [02:38,  6.30it/s, step size=3.03e-02, acc. prob=0.798]\n"
     ]
    },
    {
     "name": "stdout",
     "output_type": "stream",
     "text": [
      "diag:  {'sigma': OrderedDict([('n_eff', tensor(47.5766)), ('r_hat', tensor(1.0163))]), 'w': OrderedDict([('n_eff', tensor([ 52.6867,  96.8350, 102.9834,  37.1626,  59.6983,  48.0646, 200.8480,\n",
      "         47.8477,  36.1521,  60.3802,  56.4695,  37.8878,  37.5818,  41.3765,\n",
      "         32.7840])), ('r_hat', tensor([1.0450, 1.0042, 0.9990, 0.9980, 1.0010, 0.9998, 0.9997, 0.9987, 0.9990,\n",
      "        0.9984, 0.9992, 0.9981, 0.9996, 1.0110, 0.9986]))]), 'divergences': {'chain 0': [8, 67, 74, 181, 182, 208, 276, 293, 301, 303, 304, 306, 307, 311, 313, 319, 322, 327, 332, 333, 334, 336, 339, 340, 341, 342, 343, 344, 350, 353, 385]}, 'acceptance rate': {'chain 0': 0.978}}\n",
      "Registering the results in:  SX_IJCAI_M/2024-01-11/iter-6_n-5_k-2_m-31_sigma_w-1.0_sigma_p-1.0_n_samples-500.yaml\n"
     ]
    },
    {
     "name": "stderr",
     "output_type": "stream",
     "text": [
      "Sample: 100%|████████████████████████████| 1000/1000 [01:56,  8.57it/s, step size=6.13e-02, acc. prob=0.572]\n"
     ]
    },
    {
     "name": "stdout",
     "output_type": "stream",
     "text": [
      "diag:  {'sigma': OrderedDict([('n_eff', tensor(41.0303)), ('r_hat', tensor(0.9998))]), 'w': OrderedDict([('n_eff', tensor([36.6909, 32.1071, 40.0813, 27.4032, 26.8523, 63.2090, 43.2102, 27.6046,\n",
      "        38.1685, 52.2543, 48.9946, 38.7352, 71.9606, 43.7925, 26.3912])), ('r_hat', tensor([0.9982, 1.0160, 1.0183, 1.0092, 1.0258, 0.9981, 0.9983, 1.0164, 1.0033,\n",
      "        1.0290, 1.0157, 1.0260, 1.0397, 1.0060, 1.0236]))]), 'divergences': {'chain 0': [40, 113, 115, 126, 200, 205, 225, 236, 240, 333, 409, 442, 457, 469]}, 'acceptance rate': {'chain 0': 0.888}}\n",
      "Registering the results in:  SX_IJCAI_M/2024-01-11/iter-7_n-5_k-2_m-2_sigma_w-1.0_sigma_p-1.0_n_samples-500.yaml\n"
     ]
    },
    {
     "name": "stderr",
     "output_type": "stream",
     "text": [
      "Sample: 100%|████████████████████████████| 1000/1000 [00:27, 37.02it/s, step size=3.01e-01, acc. prob=0.832]\n"
     ]
    },
    {
     "name": "stdout",
     "output_type": "stream",
     "text": [
      "diag:  {'sigma': OrderedDict([('n_eff', tensor(537.5921)), ('r_hat', tensor(0.9987))]), 'w': OrderedDict([('n_eff', tensor([457.8690, 574.5604, 670.0297, 678.3727, 734.0106, 812.7390, 596.0925,\n",
      "        519.0485, 547.8784, 578.9490, 493.0909, 719.4832, 675.3611, 677.4896,\n",
      "        537.4369])), ('r_hat', tensor([0.9992, 0.9984, 0.9983, 1.0017, 0.9980, 0.9995, 1.0010, 0.9990, 1.0058,\n",
      "        0.9986, 0.9994, 0.9984, 0.9982, 0.9982, 0.9986]))]), 'divergences': {'chain 0': [101, 107, 414, 438, 486]}, 'acceptance rate': {'chain 0': 0.998}}\n",
      "Registering the results in:  SX_IJCAI_M/2024-01-11/iter-7_n-5_k-2_m-3_sigma_w-1.0_sigma_p-1.0_n_samples-500.yaml\n"
     ]
    },
    {
     "name": "stderr",
     "output_type": "stream",
     "text": [
      "Sample: 100%|████████████████████████████| 1000/1000 [00:28, 35.23it/s, step size=3.08e-01, acc. prob=0.724]\n"
     ]
    },
    {
     "name": "stdout",
     "output_type": "stream",
     "text": [
      "diag:  {'sigma': OrderedDict([('n_eff', tensor(391.0193)), ('r_hat', tensor(0.9989))]), 'w': OrderedDict([('n_eff', tensor([483.6190, 478.7935, 448.1093, 569.4414, 360.1577, 364.9907, 463.4237,\n",
      "        526.6646, 539.0277, 373.4479, 487.5517, 411.6878, 381.9201, 422.9806,\n",
      "        327.5225])), ('r_hat', tensor([0.9990, 0.9980, 0.9992, 0.9989, 0.9988, 0.9984, 0.9983, 1.0029, 0.9983,\n",
      "        1.0007, 0.9980, 0.9995, 0.9984, 0.9990, 1.0009]))]), 'divergences': {'chain 0': [10, 55, 129, 151, 152, 153, 185, 192, 199, 218, 230, 255, 302, 350, 418]}, 'acceptance rate': {'chain 0': 0.982}}\n",
      "Registering the results in:  SX_IJCAI_M/2024-01-11/iter-7_n-5_k-2_m-4_sigma_w-1.0_sigma_p-1.0_n_samples-500.yaml\n"
     ]
    },
    {
     "name": "stderr",
     "output_type": "stream",
     "text": [
      "Sample: 100%|████████████████████████████| 1000/1000 [00:52, 19.13it/s, step size=1.92e-01, acc. prob=0.753]\n"
     ]
    },
    {
     "name": "stdout",
     "output_type": "stream",
     "text": [
      "diag:  {'sigma': OrderedDict([('n_eff', tensor(249.7717)), ('r_hat', tensor(0.9989))]), 'w': OrderedDict([('n_eff', tensor([334.8196, 320.9554, 319.5366, 263.0812, 360.7758, 307.1988, 231.8636,\n",
      "        359.9210, 396.5059, 376.9857, 236.9168, 248.1920, 265.4337, 350.2321,\n",
      "        374.2765])), ('r_hat', tensor([1.0107, 0.9980, 0.9986, 1.0158, 0.9980, 0.9981, 0.9981, 0.9994, 0.9981,\n",
      "        1.0013, 0.9983, 0.9996, 0.9980, 1.0034, 0.9980]))]), 'divergences': {'chain 0': [19, 77, 78, 104, 115, 116, 117, 139, 203, 261, 294, 317, 365, 402, 403, 404, 413, 418, 421, 427, 428, 461, 467, 470]}, 'acceptance rate': {'chain 0': 0.978}}\n",
      "Registering the results in:  SX_IJCAI_M/2024-01-11/iter-7_n-5_k-2_m-5_sigma_w-1.0_sigma_p-1.0_n_samples-500.yaml\n"
     ]
    },
    {
     "name": "stderr",
     "output_type": "stream",
     "text": [
      "Sample: 100%|████████████████████████████| 1000/1000 [00:48, 20.81it/s, step size=1.10e-01, acc. prob=0.852]\n"
     ]
    },
    {
     "name": "stdout",
     "output_type": "stream",
     "text": [
      "diag:  {'sigma': OrderedDict([('n_eff', tensor(160.5431)), ('r_hat', tensor(1.0122))]), 'w': OrderedDict([('n_eff', tensor([274.1131, 131.8825, 286.6479, 215.6220, 293.3656, 164.3044, 341.2870,\n",
      "        307.1519, 146.5773, 276.2136, 211.5058, 234.9385, 135.6191, 229.1994,\n",
      "        155.8187])), ('r_hat', tensor([1.0011, 0.9981, 1.0009, 0.9983, 0.9983, 1.0008, 0.9980, 0.9984, 0.9980,\n",
      "        0.9980, 0.9995, 1.0009, 1.0001, 0.9998, 1.0034]))]), 'divergences': {'chain 0': [162, 164, 167, 173, 174, 176, 181, 182, 267, 442]}, 'acceptance rate': {'chain 0': 0.976}}\n",
      "Registering the results in:  SX_IJCAI_M/2024-01-11/iter-7_n-5_k-2_m-6_sigma_w-1.0_sigma_p-1.0_n_samples-500.yaml\n"
     ]
    },
    {
     "name": "stderr",
     "output_type": "stream",
     "text": [
      "Sample: 100%|████████████████████████████| 1000/1000 [00:45, 22.13it/s, step size=1.49e-01, acc. prob=0.873]\n"
     ]
    },
    {
     "name": "stdout",
     "output_type": "stream",
     "text": [
      "diag:  {'sigma': OrderedDict([('n_eff', tensor(258.9935)), ('r_hat', tensor(1.0019))]), 'w': OrderedDict([('n_eff', tensor([408.3175, 428.3085, 423.6608, 303.8319, 514.4042, 395.1628, 703.7141,\n",
      "        299.2502, 691.0403, 519.0941, 486.7401, 396.5256, 628.1340, 577.8063,\n",
      "        776.4825])), ('r_hat', tensor([1.0059, 0.9980, 0.9995, 1.0179, 0.9980, 0.9988, 0.9980, 1.0087, 0.9981,\n",
      "        1.0058, 0.9980, 0.9987, 0.9996, 0.9981, 0.9980]))]), 'divergences': {'chain 0': [158, 270, 281, 362, 382, 396]}, 'acceptance rate': {'chain 0': 1.0}}\n",
      "Registering the results in:  SX_IJCAI_M/2024-01-11/iter-7_n-5_k-2_m-7_sigma_w-1.0_sigma_p-1.0_n_samples-500.yaml\n"
     ]
    },
    {
     "name": "stderr",
     "output_type": "stream",
     "text": [
      "Sample: 100%|████████████████████████████| 1000/1000 [01:18, 12.72it/s, step size=1.03e-01, acc. prob=0.731]\n"
     ]
    },
    {
     "name": "stdout",
     "output_type": "stream",
     "text": [
      "diag:  {'sigma': OrderedDict([('n_eff', tensor(167.8287)), ('r_hat', tensor(1.0277))]), 'w': OrderedDict([('n_eff', tensor([241.5427, 229.2508, 286.7303, 204.4096, 212.9129, 137.7354, 193.8584,\n",
      "        103.8171, 273.2192, 242.4097, 173.2683, 245.5586, 212.6997, 179.2006,\n",
      "        129.8634])), ('r_hat', tensor([1.0004, 1.0037, 1.0174, 0.9983, 0.9983, 0.9997, 0.9992, 1.0179, 0.9980,\n",
      "        0.9984, 0.9980, 1.0025, 1.0061, 1.0001, 1.0304]))]), 'divergences': {'chain 0': [108, 148, 418, 445]}, 'acceptance rate': {'chain 0': 0.956}}\n",
      "Registering the results in:  SX_IJCAI_M/2024-01-11/iter-7_n-5_k-2_m-8_sigma_w-1.0_sigma_p-1.0_n_samples-500.yaml\n"
     ]
    },
    {
     "name": "stderr",
     "output_type": "stream",
     "text": [
      "Sample: 100%|████████████████████████████| 1000/1000 [00:58, 16.96it/s, step size=1.40e-01, acc. prob=0.696]\n"
     ]
    },
    {
     "name": "stdout",
     "output_type": "stream",
     "text": [
      "diag:  {'sigma': OrderedDict([('n_eff', tensor(103.0844)), ('r_hat', tensor(1.0135))]), 'w': OrderedDict([('n_eff', tensor([460.8203, 136.5236, 257.1880, 344.3030,  76.7281, 188.4907, 284.2431,\n",
      "        142.2805, 337.7781, 166.2284, 296.2860, 309.2531, 255.3286, 124.6615,\n",
      "        321.3093])), ('r_hat', tensor([0.9980, 1.0077, 0.9999, 0.9999, 1.0017, 1.0056, 1.0014, 0.9999, 0.9992,\n",
      "        1.0061, 0.9980, 0.9984, 1.0047, 0.9997, 1.0015]))]), 'divergences': {'chain 0': [94, 96, 321, 448]}, 'acceptance rate': {'chain 0': 0.94}}\n",
      "Registering the results in:  SX_IJCAI_M/2024-01-11/iter-7_n-5_k-2_m-9_sigma_w-1.0_sigma_p-1.0_n_samples-500.yaml\n"
     ]
    },
    {
     "name": "stderr",
     "output_type": "stream",
     "text": [
      "Sample: 100%|████████████████████████████| 1000/1000 [01:32, 10.82it/s, step size=9.12e-02, acc. prob=0.789]\n"
     ]
    },
    {
     "name": "stdout",
     "output_type": "stream",
     "text": [
      "diag:  {'sigma': OrderedDict([('n_eff', tensor(154.8075)), ('r_hat', tensor(1.0179))]), 'w': OrderedDict([('n_eff', tensor([277.0510, 173.9643, 203.8362, 216.0158, 256.8546, 270.8037, 235.3468,\n",
      "        293.4416, 217.3237, 210.5084, 243.0871, 260.7324, 289.8605, 292.9905,\n",
      "        252.1983])), ('r_hat', tensor([1.0000, 1.0069, 0.9981, 1.0029, 1.0054, 1.0037, 0.9983, 1.0012, 1.0044,\n",
      "        0.9985, 0.9988, 1.0070, 0.9984, 0.9998, 0.9983]))]), 'divergences': {'chain 0': [448]}, 'acceptance rate': {'chain 0': 0.988}}\n",
      "Registering the results in:  SX_IJCAI_M/2024-01-11/iter-7_n-5_k-2_m-10_sigma_w-1.0_sigma_p-1.0_n_samples-500.yaml\n"
     ]
    },
    {
     "name": "stderr",
     "output_type": "stream",
     "text": [
      "Sample: 100%|████████████████████████████| 1000/1000 [01:43,  9.68it/s, step size=1.98e-02, acc. prob=0.247]\n"
     ]
    },
    {
     "name": "stdout",
     "output_type": "stream",
     "text": [
      "diag:  {'sigma': OrderedDict([('n_eff', tensor(9.8690)), ('r_hat', tensor(1.1783))]), 'w': OrderedDict([('n_eff', tensor([ 4.1928,  8.1866,  4.4139,  4.1570,  3.6142,  5.1151,  7.0082,  6.9503,\n",
      "         5.2626,  3.9036,  2.6172,  2.7182, 15.5653,  4.0389,  9.1772])), ('r_hat', tensor([1.0084, 1.0853, 2.4141, 1.4859, 1.5787, 1.0003, 1.4184, 1.0139, 1.5103,\n",
      "        1.4713, 2.4586, 2.2152, 1.0014, 1.3059, 1.0731]))]), 'divergences': {'chain 0': [0, 1, 5, 11, 12, 17, 20, 26, 27, 28, 30, 33, 34, 36, 38, 39, 40, 41, 47, 49, 52, 53, 54, 59, 61, 62, 64, 66, 67, 72, 76, 79, 81, 82, 87, 90, 96, 98, 100, 102, 104, 105, 109, 114, 115, 121, 122, 125, 126, 134, 139, 143, 148, 152, 153, 157, 163, 164, 165, 166, 169, 171, 172, 174, 175, 178, 180, 182, 183, 184, 187, 188, 189, 191, 193, 194, 196, 199, 201, 204, 206, 212, 214, 216, 217, 218, 219, 220, 224, 225, 229, 230, 231, 232, 234, 235, 236, 237, 241, 242, 244, 245, 248, 251, 255, 256, 262, 265, 266, 267, 268, 270, 273, 275, 277, 279, 280, 281, 282, 283, 285, 286, 287, 288, 291, 292, 293, 296, 300, 301, 302, 309, 310, 313, 315, 319, 323, 325, 327, 328, 332, 336, 339, 340, 345, 348, 350, 351, 353, 358, 359, 360, 363, 365, 369, 370, 373, 376, 377, 378, 382, 385, 388, 389, 390, 393, 394, 396, 398, 401, 404, 406, 408, 410, 411, 414, 415, 416, 417, 418, 419, 421, 422, 424, 426, 427, 429, 430, 432, 438, 439, 441, 442, 443, 444, 445, 448, 449, 454, 455, 459, 460, 465, 467, 470, 472, 474, 478, 480, 482, 489, 490, 492, 495, 496, 498, 499]}, 'acceptance rate': {'chain 0': 0.802}}\n",
      "Registering the results in:  SX_IJCAI_M/2024-01-11/iter-7_n-5_k-2_m-11_sigma_w-1.0_sigma_p-1.0_n_samples-500.yaml\n"
     ]
    },
    {
     "name": "stderr",
     "output_type": "stream",
     "text": [
      "Sample: 100%|████████████████████████████| 1000/1000 [01:21, 12.30it/s, step size=1.25e-01, acc. prob=0.631]\n"
     ]
    },
    {
     "name": "stdout",
     "output_type": "stream",
     "text": [
      "diag:  {'sigma': OrderedDict([('n_eff', tensor(133.7114)), ('r_hat', tensor(0.9982))]), 'w': OrderedDict([('n_eff', tensor([211.0638, 144.0297, 171.1479, 137.0043, 242.0116, 176.3268, 192.7930,\n",
      "        160.6752, 152.0124, 188.7311, 128.6814, 223.9099, 194.0150, 161.4587,\n",
      "        239.5436])), ('r_hat', tensor([0.9980, 1.0058, 0.9980, 0.9982, 0.9987, 0.9990, 0.9980, 0.9980, 1.0042,\n",
      "        1.0003, 1.0011, 1.0009, 1.0014, 1.0025, 0.9980]))]), 'divergences': {'chain 0': [151, 160, 202, 232, 240, 287, 293, 363, 398, 464]}, 'acceptance rate': {'chain 0': 0.948}}\n",
      "Registering the results in:  SX_IJCAI_M/2024-01-11/iter-7_n-5_k-2_m-12_sigma_w-1.0_sigma_p-1.0_n_samples-500.yaml\n"
     ]
    },
    {
     "name": "stderr",
     "output_type": "stream",
     "text": [
      "Sample: 100%|████████████████████████████| 1000/1000 [01:43,  9.71it/s, step size=6.55e-02, acc. prob=0.822]\n"
     ]
    },
    {
     "name": "stdout",
     "output_type": "stream",
     "text": [
      "diag:  {'sigma': OrderedDict([('n_eff', tensor(158.1151)), ('r_hat', tensor(1.0073))]), 'w': OrderedDict([('n_eff', tensor([281.7627, 316.7244, 329.4008, 260.1782, 276.0112, 303.3207, 348.7108,\n",
      "        272.5707, 200.4655, 306.0418, 290.0324, 208.5179, 366.1147, 245.3166,\n",
      "        294.7223])), ('r_hat', tensor([1.0009, 1.0026, 0.9986, 1.0095, 0.9982, 1.0048, 1.0000, 1.0022, 0.9999,\n",
      "        0.9991, 0.9994, 1.0026, 0.9980, 0.9985, 0.9984]))]), 'divergences': {'chain 0': [32, 173, 394, 442, 462]}, 'acceptance rate': {'chain 0': 0.984}}\n",
      "Registering the results in:  SX_IJCAI_M/2024-01-11/iter-7_n-5_k-2_m-13_sigma_w-1.0_sigma_p-1.0_n_samples-500.yaml\n"
     ]
    },
    {
     "name": "stderr",
     "output_type": "stream",
     "text": [
      "Sample: 100%|████████████████████████████| 1000/1000 [01:44,  9.55it/s, step size=8.05e-02, acc. prob=0.651]\n"
     ]
    },
    {
     "name": "stdout",
     "output_type": "stream",
     "text": [
      "diag:  {'sigma': OrderedDict([('n_eff', tensor(141.0708)), ('r_hat', tensor(0.9982))]), 'w': OrderedDict([('n_eff', tensor([ 88.6132, 184.2478, 159.5370, 123.1214,  93.8417, 180.7476, 126.9300,\n",
      "        115.9719, 119.6076, 108.0307, 106.0851, 157.5173, 154.8087, 237.2695,\n",
      "         85.8877])), ('r_hat', tensor([1.0220, 0.9980, 1.0028, 0.9994, 0.9996, 1.0022, 1.0020, 1.0078, 0.9982,\n",
      "        1.0211, 0.9985, 1.0018, 1.0021, 1.0158, 0.9996]))]), 'divergences': {'chain 0': [70, 71, 75, 143, 169, 205, 208, 325, 326, 495, 497]}, 'acceptance rate': {'chain 0': 0.946}}\n",
      "Registering the results in:  SX_IJCAI_M/2024-01-11/iter-7_n-5_k-2_m-14_sigma_w-1.0_sigma_p-1.0_n_samples-500.yaml\n"
     ]
    },
    {
     "name": "stderr",
     "output_type": "stream",
     "text": [
      "Sample: 100%|████████████████████████████| 1000/1000 [02:13,  7.46it/s, step size=4.83e-02, acc. prob=0.814]\n"
     ]
    },
    {
     "name": "stdout",
     "output_type": "stream",
     "text": [
      "diag:  {'sigma': OrderedDict([('n_eff', tensor(126.2851)), ('r_hat', tensor(0.9995))]), 'w': OrderedDict([('n_eff', tensor([376.8800, 239.9268, 242.3485, 284.0060, 203.6004, 234.2475, 223.9311,\n",
      "        257.3922, 221.9958, 275.5376, 222.8773, 226.7745, 342.7896, 247.4001,\n",
      "        152.6513])), ('r_hat', tensor([1.0113, 1.0091, 1.0001, 1.0003, 1.0007, 1.0006, 1.0050, 1.0072, 0.9992,\n",
      "        1.0129, 1.0057, 1.0109, 0.9996, 0.9981, 1.0147]))]), 'divergences': {'chain 0': [64, 125, 126, 130, 180, 194, 426]}, 'acceptance rate': {'chain 0': 0.974}}\n",
      "Registering the results in:  SX_IJCAI_M/2024-01-11/iter-7_n-5_k-2_m-15_sigma_w-1.0_sigma_p-1.0_n_samples-500.yaml\n"
     ]
    },
    {
     "name": "stderr",
     "output_type": "stream",
     "text": [
      "Sample: 100%|████████████████████████████| 1000/1000 [01:31, 10.98it/s, step size=7.21e-02, acc. prob=0.500]\n"
     ]
    },
    {
     "name": "stdout",
     "output_type": "stream",
     "text": [
      "diag:  {'sigma': OrderedDict([('n_eff', tensor(14.7071)), ('r_hat', tensor(1.1370))]), 'w': OrderedDict([('n_eff', tensor([ 26.6218,  65.9260, 129.7545,  12.1792,  21.5716,  58.0197, 102.1329,\n",
      "         70.1801,  33.5419,  37.0387,  46.7372, 135.9346,  47.8059,  18.5914,\n",
      "         54.1252])), ('r_hat', tensor([1.0143, 0.9980, 1.0035, 1.0610, 1.0196, 1.0057, 0.9993, 1.0103, 1.0027,\n",
      "        1.0404, 1.0132, 1.0353, 1.0060, 1.0216, 1.0056]))]), 'divergences': {'chain 0': [33, 36, 45, 49, 101, 104, 117, 118, 119, 122, 123, 126, 130, 133, 134, 136, 139, 140, 141, 143, 145, 147, 151, 152, 154, 156, 160, 161, 162, 163, 164, 167, 169, 171, 173, 174, 175, 176, 177, 178, 179, 180, 181, 183, 185, 186, 187, 188, 191, 192, 193, 195, 197, 198, 200, 202, 204, 205, 206, 207, 208, 209, 210, 212, 216, 220, 221, 223, 224, 225, 226, 227, 228, 230, 233, 234, 235, 237, 238, 240, 241, 242, 246, 252, 253, 257, 264, 268, 287, 324, 476]}, 'acceptance rate': {'chain 0': 0.842}}\n",
      "Registering the results in:  SX_IJCAI_M/2024-01-11/iter-7_n-5_k-2_m-16_sigma_w-1.0_sigma_p-1.0_n_samples-500.yaml\n"
     ]
    },
    {
     "name": "stderr",
     "output_type": "stream",
     "text": [
      "Sample: 100%|████████████████████████████| 1000/1000 [02:00,  8.27it/s, step size=6.51e-02, acc. prob=0.468]\n"
     ]
    },
    {
     "name": "stdout",
     "output_type": "stream",
     "text": [
      "diag:  {'sigma': OrderedDict([('n_eff', tensor(52.3721)), ('r_hat', tensor(1.0136))]), 'w': OrderedDict([('n_eff', tensor([69.5851, 18.0688, 28.7705, 24.8346, 13.3192, 16.7383,  7.4409, 49.2353,\n",
      "        12.6201, 11.0474, 61.0992, 63.8755, 66.6069, 87.0018, 68.0826])), ('r_hat', tensor([1.0237, 1.0195, 1.0495, 1.0049, 1.1003, 1.1082, 1.2370, 0.9986, 1.1711,\n",
      "        1.1204, 1.0288, 1.0164, 0.9995, 1.0227, 0.9995]))]), 'divergences': {'chain 0': [3, 7, 110, 111, 135, 137, 138, 141, 142, 147, 150, 154, 159, 166, 174, 178, 185, 191, 194, 195, 198, 200, 201, 204, 211, 213, 220, 221, 262, 282, 460, 487]}, 'acceptance rate': {'chain 0': 0.838}}\n",
      "Registering the results in:  SX_IJCAI_M/2024-01-11/iter-7_n-5_k-2_m-17_sigma_w-1.0_sigma_p-1.0_n_samples-500.yaml\n"
     ]
    },
    {
     "name": "stderr",
     "output_type": "stream",
     "text": [
      "Sample: 100%|████████████████████████████| 1000/1000 [01:58,  8.47it/s, step size=7.43e-02, acc. prob=0.631]\n"
     ]
    },
    {
     "name": "stdout",
     "output_type": "stream",
     "text": [
      "diag:  {'sigma': OrderedDict([('n_eff', tensor(45.9862)), ('r_hat', tensor(1.0192))]), 'w': OrderedDict([('n_eff', tensor([ 85.8066, 121.3726,  98.6527, 125.5358, 107.7546, 158.1184,  77.5913,\n",
      "        184.7794,  91.0874,  88.2223, 149.5032, 110.2935, 148.7704,  65.7500,\n",
      "        135.6877])), ('r_hat', tensor([1.0005, 1.0079, 0.9984, 0.9980, 0.9980, 0.9991, 1.0116, 0.9995, 1.0001,\n",
      "        1.0373, 0.9991, 1.0131, 0.9986, 1.0133, 0.9981]))]), 'divergences': {'chain 0': [190, 211, 216, 219, 318, 371, 417, 441, 455, 464, 472, 474, 484, 485, 486, 487]}, 'acceptance rate': {'chain 0': 0.944}}\n",
      "Registering the results in:  SX_IJCAI_M/2024-01-11/iter-7_n-5_k-2_m-18_sigma_w-1.0_sigma_p-1.0_n_samples-500.yaml\n"
     ]
    },
    {
     "name": "stderr",
     "output_type": "stream",
     "text": [
      "Sample: 100%|████████████████████████████| 1000/1000 [01:39, 10.05it/s, step size=9.47e-02, acc. prob=0.572]\n"
     ]
    },
    {
     "name": "stdout",
     "output_type": "stream",
     "text": [
      "diag:  {'sigma': OrderedDict([('n_eff', tensor(69.9589)), ('r_hat', tensor(1.0226))]), 'w': OrderedDict([('n_eff', tensor([ 50.0560,  85.9233, 111.6976,  92.3776,  81.0899,  56.0867,  86.3277,\n",
      "         99.9678, 104.5749,  65.7102, 116.3812,  56.3705,  98.7446, 121.0874,\n",
      "         79.5435])), ('r_hat', tensor([1.0060, 1.0118, 1.0094, 0.9981, 1.0179, 1.0403, 0.9995, 0.9980, 1.0047,\n",
      "        1.0103, 1.0003, 0.9993, 1.0068, 1.0065, 1.0447]))]), 'divergences': {'chain 0': [61, 81, 82, 85, 89, 156, 250, 254, 262, 264, 283, 294, 321, 341, 343, 344, 379, 384, 425, 439, 450, 451, 452, 453, 455, 456, 459]}, 'acceptance rate': {'chain 0': 0.936}}\n",
      "Registering the results in:  SX_IJCAI_M/2024-01-11/iter-7_n-5_k-2_m-19_sigma_w-1.0_sigma_p-1.0_n_samples-500.yaml\n"
     ]
    },
    {
     "name": "stderr",
     "output_type": "stream",
     "text": [
      "Sample: 100%|████████████████████████████| 1000/1000 [01:34, 10.58it/s, step size=7.70e-02, acc. prob=0.665]\n"
     ]
    },
    {
     "name": "stdout",
     "output_type": "stream",
     "text": [
      "diag:  {'sigma': OrderedDict([('n_eff', tensor(89.2974)), ('r_hat', tensor(1.0025))]), 'w': OrderedDict([('n_eff', tensor([ 67.0177,  89.1285, 178.6818,  75.3152, 102.7054,  62.0802, 133.5419,\n",
      "         65.6669,  64.9967,  67.0082, 103.2832,  76.2979,  66.4072,  50.1451,\n",
      "         54.2925])), ('r_hat', tensor([1.0157, 1.0032, 1.0015, 1.0138, 0.9992, 1.0043, 1.0191, 1.0130, 1.0660,\n",
      "        0.9988, 0.9987, 1.0002, 0.9986, 1.0199, 1.0034]))]), 'divergences': {'chain 0': [130, 198, 204, 233, 236, 280, 313]}, 'acceptance rate': {'chain 0': 0.942}}\n",
      "Registering the results in:  SX_IJCAI_M/2024-01-11/iter-7_n-5_k-2_m-20_sigma_w-1.0_sigma_p-1.0_n_samples-500.yaml\n"
     ]
    },
    {
     "name": "stderr",
     "output_type": "stream",
     "text": [
      "Sample: 100%|████████████████████████████| 1000/1000 [01:51,  8.94it/s, step size=6.69e-02, acc. prob=0.635]\n"
     ]
    },
    {
     "name": "stdout",
     "output_type": "stream",
     "text": [
      "diag:  {'sigma': OrderedDict([('n_eff', tensor(91.5592)), ('r_hat', tensor(0.9982))]), 'w': OrderedDict([('n_eff', tensor([ 40.4685,  41.1675,  51.4796,  94.4265, 110.7213,  75.5490,  32.9894,\n",
      "         50.3591,  37.2442,  41.0629,  99.3133, 103.3397,  26.5227,  31.9076,\n",
      "         48.3010])), ('r_hat', tensor([1.0668, 1.0297, 1.0283, 1.0059, 0.9980, 1.0421, 1.0219, 1.0648, 1.1137,\n",
      "        1.0321, 1.0107, 1.0438, 1.0663, 1.0536, 1.0357]))]), 'divergences': {'chain 0': [209, 215, 226]}, 'acceptance rate': {'chain 0': 0.924}}\n",
      "Registering the results in:  SX_IJCAI_M/2024-01-11/iter-7_n-5_k-2_m-21_sigma_w-1.0_sigma_p-1.0_n_samples-500.yaml\n"
     ]
    },
    {
     "name": "stderr",
     "output_type": "stream",
     "text": [
      "Sample: 100%|████████████████████████████| 1000/1000 [01:21, 12.33it/s, step size=9.47e-02, acc. prob=0.744]\n"
     ]
    },
    {
     "name": "stdout",
     "output_type": "stream",
     "text": [
      "diag:  {'sigma': OrderedDict([('n_eff', tensor(116.3395)), ('r_hat', tensor(0.9988))]), 'w': OrderedDict([('n_eff', tensor([103.4439,  77.3072, 111.7573, 176.1160,  71.9237,  91.2764, 102.3188,\n",
      "         65.7175,  65.0583,  87.5096, 127.3069,  78.3846, 117.8862,  62.4646,\n",
      "         46.7991])), ('r_hat', tensor([1.0123, 1.0214, 0.9983, 1.0007, 1.0040, 1.0191, 1.0053, 1.0250, 1.0240,\n",
      "        1.0247, 0.9983, 1.0137, 1.0101, 0.9997, 1.0149]))]), 'divergences': {'chain 0': [107, 235]}, 'acceptance rate': {'chain 0': 0.972}}\n",
      "Registering the results in:  SX_IJCAI_M/2024-01-11/iter-7_n-5_k-2_m-22_sigma_w-1.0_sigma_p-1.0_n_samples-500.yaml\n"
     ]
    },
    {
     "name": "stderr",
     "output_type": "stream",
     "text": [
      "Sample: 100%|████████████████████████████| 1000/1000 [01:52,  8.92it/s, step size=4.57e-02, acc. prob=0.734]\n"
     ]
    },
    {
     "name": "stdout",
     "output_type": "stream",
     "text": [
      "diag:  {'sigma': OrderedDict([('n_eff', tensor(45.6532)), ('r_hat', tensor(1.0289))]), 'w': OrderedDict([('n_eff', tensor([23.5222, 85.0111, 69.8138, 41.0338, 72.5065, 38.1239, 32.1057, 98.2786,\n",
      "        84.8411, 34.9212, 42.2340, 34.6979, 34.4504, 90.2913, 28.1488])), ('r_hat', tensor([1.0812, 1.0011, 1.0219, 1.0510, 1.0018, 1.0793, 1.0538, 1.0008, 1.0384,\n",
      "        1.0327, 1.0400, 1.0522, 1.0662, 1.0135, 1.0705]))]), 'divergences': {'chain 0': [11, 203, 230, 231, 235, 237, 238, 319, 327, 330, 334, 338, 341, 343, 345, 351, 397, 414, 498]}, 'acceptance rate': {'chain 0': 0.928}}\n",
      "Registering the results in:  SX_IJCAI_M/2024-01-11/iter-7_n-5_k-2_m-23_sigma_w-1.0_sigma_p-1.0_n_samples-500.yaml\n"
     ]
    },
    {
     "name": "stderr",
     "output_type": "stream",
     "text": [
      "Sample: 100%|████████████████████████████| 1000/1000 [02:22,  7.00it/s, step size=4.45e-02, acc. prob=0.811]\n"
     ]
    },
    {
     "name": "stdout",
     "output_type": "stream",
     "text": [
      "diag:  {'sigma': OrderedDict([('n_eff', tensor(136.9624)), ('r_hat', tensor(1.0015))]), 'w': OrderedDict([('n_eff', tensor([113.6943, 115.4497, 174.2206,  55.9299,  93.5781,  93.1646, 158.8043,\n",
      "         62.7186, 128.9536, 233.5212, 134.5007, 213.7832, 215.5558, 104.5616,\n",
      "        126.6033])), ('r_hat', tensor([1.0137, 1.0088, 0.9980, 1.0594, 0.9981, 1.0074, 0.9996, 1.0461, 0.9980,\n",
      "        0.9996, 0.9990, 1.0094, 1.0134, 0.9994, 0.9994]))]), 'divergences': {'chain 0': [309]}, 'acceptance rate': {'chain 0': 0.992}}\n",
      "Registering the results in:  SX_IJCAI_M/2024-01-11/iter-7_n-5_k-2_m-24_sigma_w-1.0_sigma_p-1.0_n_samples-500.yaml\n"
     ]
    },
    {
     "name": "stderr",
     "output_type": "stream",
     "text": [
      "Sample: 100%|████████████████████████████| 1000/1000 [01:57,  8.49it/s, step size=6.58e-02, acc. prob=0.736]\n"
     ]
    },
    {
     "name": "stdout",
     "output_type": "stream",
     "text": [
      "diag:  {'sigma': OrderedDict([('n_eff', tensor(75.4985)), ('r_hat', tensor(1.0206))]), 'w': OrderedDict([('n_eff', tensor([118.4325, 119.5937, 183.7955,  68.5103, 123.5063,  89.0386, 135.6042,\n",
      "         80.1714,  88.7707,  97.9483,  93.0648,  92.4835,  64.8980,  53.1770,\n",
      "        126.1813])), ('r_hat', tensor([0.9982, 1.0185, 1.0027, 1.0094, 1.0009, 0.9996, 1.0226, 1.0076, 1.0179,\n",
      "        1.0323, 1.0179, 1.0156, 1.0220, 1.0315, 1.0045]))]), 'divergences': {'chain 0': [81, 144, 283, 299, 405, 466]}, 'acceptance rate': {'chain 0': 0.98}}\n",
      "Registering the results in:  SX_IJCAI_M/2024-01-11/iter-7_n-5_k-2_m-25_sigma_w-1.0_sigma_p-1.0_n_samples-500.yaml\n"
     ]
    },
    {
     "name": "stderr",
     "output_type": "stream",
     "text": [
      "Sample: 100%|████████████████████████████| 1000/1000 [02:05,  7.94it/s, step size=5.58e-02, acc. prob=0.760]\n"
     ]
    },
    {
     "name": "stdout",
     "output_type": "stream",
     "text": [
      "diag:  {'sigma': OrderedDict([('n_eff', tensor(147.9536)), ('r_hat', tensor(1.0192))]), 'w': OrderedDict([('n_eff', tensor([123.0217, 123.8904,  80.4312, 180.5618, 121.3098,  38.3048,  77.5315,\n",
      "         21.7150,  97.4540, 111.2014,  86.9683,  41.7375,  43.5863,  99.5326,\n",
      "         75.7696])), ('r_hat', tensor([1.0051, 1.0019, 1.0129, 1.0083, 0.9993, 1.0210, 0.9981, 1.0271, 0.9981,\n",
      "        0.9983, 1.0032, 1.0135, 1.0142, 0.9984, 0.9992]))]), 'divergences': {'chain 0': [82, 205, 247, 343, 344, 367]}, 'acceptance rate': {'chain 0': 0.982}}\n",
      "Registering the results in:  SX_IJCAI_M/2024-01-11/iter-7_n-5_k-2_m-26_sigma_w-1.0_sigma_p-1.0_n_samples-500.yaml\n"
     ]
    },
    {
     "name": "stderr",
     "output_type": "stream",
     "text": [
      "Sample: 100%|████████████████████████████| 1000/1000 [02:43,  6.11it/s, step size=3.14e-02, acc. prob=0.862]\n"
     ]
    },
    {
     "name": "stdout",
     "output_type": "stream",
     "text": [
      "diag:  {'sigma': OrderedDict([('n_eff', tensor(140.7792)), ('r_hat', tensor(0.9994))]), 'w': OrderedDict([('n_eff', tensor([125.0127, 108.0630, 104.4873,  69.3145,  71.0998,  92.5059, 116.5426,\n",
      "         63.9253,  65.3777,  60.4859,  63.3827, 125.3271, 104.7546, 102.0037,\n",
      "         93.0287])), ('r_hat', tensor([0.9986, 0.9998, 1.0074, 1.0112, 1.0006, 1.0011, 0.9980, 1.0083, 1.0020,\n",
      "        1.0005, 1.0044, 1.0003, 1.0013, 1.0084, 0.9995]))]), 'divergences': {'chain 0': [285, 495]}, 'acceptance rate': {'chain 0': 0.998}}\n",
      "Registering the results in:  SX_IJCAI_M/2024-01-11/iter-7_n-5_k-2_m-27_sigma_w-1.0_sigma_p-1.0_n_samples-500.yaml\n"
     ]
    },
    {
     "name": "stderr",
     "output_type": "stream",
     "text": [
      "Sample: 100%|████████████████████████████| 1000/1000 [02:07,  7.85it/s, step size=4.70e-02, acc. prob=0.874]\n"
     ]
    },
    {
     "name": "stdout",
     "output_type": "stream",
     "text": [
      "diag:  {'sigma': OrderedDict([('n_eff', tensor(147.0439)), ('r_hat', tensor(0.9989))]), 'w': OrderedDict([('n_eff', tensor([ 66.6081,  79.3496, 170.6372,  73.3822, 125.9729, 190.6165, 112.8587,\n",
      "        126.7396, 142.7770, 314.2024,  57.6082,  52.4773, 210.4803, 179.8824,\n",
      "        107.5372])), ('r_hat', tensor([1.0116, 1.0060, 1.0005, 1.0053, 1.0010, 1.0203, 1.0021, 1.0005, 0.9980,\n",
      "        1.0004, 0.9994, 0.9981, 1.0023, 1.0035, 0.9994]))]), 'divergences': {'chain 0': [6, 165, 166, 454, 456]}, 'acceptance rate': {'chain 0': 0.996}}\n",
      "Registering the results in:  SX_IJCAI_M/2024-01-11/iter-7_n-5_k-2_m-28_sigma_w-1.0_sigma_p-1.0_n_samples-500.yaml\n"
     ]
    },
    {
     "name": "stderr",
     "output_type": "stream",
     "text": [
      "Sample: 100%|████████████████████████████| 1000/1000 [02:17,  7.29it/s, step size=4.28e-02, acc. prob=0.818]\n"
     ]
    },
    {
     "name": "stdout",
     "output_type": "stream",
     "text": [
      "diag:  {'sigma': OrderedDict([('n_eff', tensor(90.3227)), ('r_hat', tensor(1.0124))]), 'w': OrderedDict([('n_eff', tensor([ 98.1605, 103.7722,  77.5234,  67.2951, 103.7162, 106.7868, 100.5807,\n",
      "        219.6224,  89.0705, 100.3869,  94.0901,  89.2816, 107.1478, 110.3919,\n",
      "        106.7682])), ('r_hat', tensor([1.0012, 1.0073, 0.9984, 0.9984, 0.9983, 1.0049, 0.9980, 0.9981, 1.0046,\n",
      "        0.9997, 0.9999, 0.9982, 0.9981, 0.9982, 0.9980]))]), 'divergences': {'chain 0': [194, 201, 268, 312, 376]}, 'acceptance rate': {'chain 0': 0.974}}\n",
      "Registering the results in:  SX_IJCAI_M/2024-01-11/iter-7_n-5_k-2_m-29_sigma_w-1.0_sigma_p-1.0_n_samples-500.yaml\n"
     ]
    },
    {
     "name": "stderr",
     "output_type": "stream",
     "text": [
      "Sample: 100%|████████████████████████████| 1000/1000 [01:51,  8.96it/s, step size=6.44e-02, acc. prob=0.726]\n"
     ]
    },
    {
     "name": "stdout",
     "output_type": "stream",
     "text": [
      "diag:  {'sigma': OrderedDict([('n_eff', tensor(69.5315)), ('r_hat', tensor(0.9989))]), 'w': OrderedDict([('n_eff', tensor([161.2415,  89.5473,  86.7867, 123.9437,  57.9324,  68.3603,  46.1151,\n",
      "         44.6215,  71.1287,  57.6164,  56.2023, 102.0498,  54.2882,  47.8016,\n",
      "         62.9999])), ('r_hat', tensor([0.9985, 0.9980, 1.0014, 1.0015, 1.0199, 1.0226, 1.0598, 1.0323, 1.0281,\n",
      "        1.0267, 1.0021, 1.0067, 1.0499, 1.0391, 0.9981]))]), 'divergences': {'chain 0': [26, 70, 71, 90, 110, 128, 168, 182, 190, 328, 440, 441, 475, 492]}, 'acceptance rate': {'chain 0': 0.966}}\n",
      "Registering the results in:  SX_IJCAI_M/2024-01-11/iter-7_n-5_k-2_m-30_sigma_w-1.0_sigma_p-1.0_n_samples-500.yaml\n"
     ]
    },
    {
     "name": "stderr",
     "output_type": "stream",
     "text": [
      "Sample: 100%|████████████████████████████| 1000/1000 [02:26,  6.82it/s, step size=4.70e-02, acc. prob=0.789]\n"
     ]
    },
    {
     "name": "stdout",
     "output_type": "stream",
     "text": [
      "diag:  {'sigma': OrderedDict([('n_eff', tensor(99.0803)), ('r_hat', tensor(0.9986))]), 'w': OrderedDict([('n_eff', tensor([ 59.6707,  35.2635,  15.4483, 103.3379,  13.0891,  14.5532,  41.8389,\n",
      "          9.1179,  10.1650,  15.8250,   9.8942,  69.1168,   9.7373,  15.3994,\n",
      "         11.2622])), ('r_hat', tensor([1.0300, 1.0704, 1.1424, 0.9997, 1.1485, 1.1474, 1.0901, 1.2166, 1.2457,\n",
      "        1.1369, 1.1892, 1.0244, 1.1908, 1.1280, 1.1791]))]), 'divergences': {'chain 0': [134, 142, 183, 231, 253, 271, 294, 337, 342, 381, 411]}, 'acceptance rate': {'chain 0': 0.988}}\n",
      "Registering the results in:  SX_IJCAI_M/2024-01-11/iter-7_n-5_k-2_m-31_sigma_w-1.0_sigma_p-1.0_n_samples-500.yaml\n"
     ]
    },
    {
     "name": "stderr",
     "output_type": "stream",
     "text": [
      "Sample: 100%|████████████████████████████| 1000/1000 [01:54,  8.76it/s, step size=5.09e-02, acc. prob=0.693]\n"
     ]
    },
    {
     "name": "stdout",
     "output_type": "stream",
     "text": [
      "diag:  {'sigma': OrderedDict([('n_eff', tensor(46.2325)), ('r_hat', tensor(1.0015))]), 'w': OrderedDict([('n_eff', tensor([ 67.6507,  56.4830,  50.9334,  58.2032,  46.5196,  47.9722, 101.7838,\n",
      "         47.0676, 195.6494,  54.2756,  54.9395,  63.4930,  82.0978,  58.3012,\n",
      "         56.2436])), ('r_hat', tensor([1.0008, 1.0003, 1.0021, 1.0004, 1.0031, 1.0012, 1.0031, 1.0010, 0.9989,\n",
      "        1.0057, 0.9990, 1.0049, 0.9991, 0.9994, 1.0014]))]), 'divergences': {'chain 0': [10, 21, 60, 100, 138, 210, 225, 236, 297, 332, 341, 353, 362, 392]}, 'acceptance rate': {'chain 0': 0.948}}\n",
      "Registering the results in:  SX_IJCAI_M/2024-01-11/iter-8_n-5_k-2_m-2_sigma_w-1.0_sigma_p-1.0_n_samples-500.yaml\n"
     ]
    },
    {
     "name": "stderr",
     "output_type": "stream",
     "text": [
      "Sample: 100%|████████████████████████████| 1000/1000 [00:25, 39.54it/s, step size=2.34e-01, acc. prob=0.893]\n"
     ]
    },
    {
     "name": "stdout",
     "output_type": "stream",
     "text": [
      "diag:  {'sigma': OrderedDict([('n_eff', tensor(629.6065)), ('r_hat', tensor(1.0063))]), 'w': OrderedDict([('n_eff', tensor([656.6467, 436.7800, 724.2064, 403.4189, 483.7780, 419.8461, 528.4745,\n",
      "        516.7370, 510.0778, 516.3236, 362.2976, 312.6594, 856.8839, 481.0226,\n",
      "        558.6968])), ('r_hat', tensor([0.9980, 0.9998, 0.9982, 0.9980, 0.9993, 0.9981, 0.9984, 0.9980, 0.9999,\n",
      "        0.9985, 0.9992, 1.0047, 0.9987, 0.9985, 0.9991]))]), 'divergences': {'chain 0': [111, 197, 300]}, 'acceptance rate': {'chain 0': 0.996}}\n",
      "Registering the results in:  SX_IJCAI_M/2024-01-11/iter-8_n-5_k-2_m-3_sigma_w-1.0_sigma_p-1.0_n_samples-500.yaml\n"
     ]
    },
    {
     "name": "stderr",
     "output_type": "stream",
     "text": [
      "Sample: 100%|████████████████████████████| 1000/1000 [00:37, 26.73it/s, step size=1.86e-01, acc. prob=0.850]\n"
     ]
    },
    {
     "name": "stdout",
     "output_type": "stream",
     "text": [
      "diag:  {'sigma': OrderedDict([('n_eff', tensor(345.1942)), ('r_hat', tensor(0.9983))]), 'w': OrderedDict([('n_eff', tensor([450.3751, 410.9977, 586.7833, 424.2897, 502.9427, 536.2751, 469.0074,\n",
      "        444.7979, 521.8455, 329.5139, 496.0508, 383.9183, 359.1908, 538.2179,\n",
      "        399.6939])), ('r_hat', tensor([1.0006, 0.9984, 0.9992, 0.9986, 0.9980, 0.9981, 1.0010, 0.9984, 0.9991,\n",
      "        0.9995, 0.9996, 0.9999, 1.0026, 0.9993, 0.9980]))]), 'divergences': {'chain 0': [10, 138, 157, 307, 378]}, 'acceptance rate': {'chain 0': 0.994}}\n",
      "Registering the results in:  SX_IJCAI_M/2024-01-11/iter-8_n-5_k-2_m-4_sigma_w-1.0_sigma_p-1.0_n_samples-500.yaml\n"
     ]
    },
    {
     "name": "stderr",
     "output_type": "stream",
     "text": [
      "Sample: 100%|████████████████████████████| 1000/1000 [00:27, 36.60it/s, step size=2.34e-01, acc. prob=0.831]\n"
     ]
    },
    {
     "name": "stdout",
     "output_type": "stream",
     "text": [
      "diag:  {'sigma': OrderedDict([('n_eff', tensor(375.1721)), ('r_hat', tensor(1.0010))]), 'w': OrderedDict([('n_eff', tensor([371.4823, 492.3241, 360.5016, 351.6319, 347.7110, 323.2525, 351.6119,\n",
      "        274.4306, 387.2917, 291.9475, 390.9704, 252.2334, 361.1410, 220.3290,\n",
      "        303.3979])), ('r_hat', tensor([0.9984, 0.9985, 0.9989, 0.9982, 1.0099, 0.9993, 1.0019, 1.0005, 0.9983,\n",
      "        1.0023, 0.9994, 0.9982, 0.9986, 0.9994, 0.9988]))]), 'divergences': {'chain 0': [1, 24, 81, 294, 391, 422, 486, 487, 488, 490, 491, 495]}, 'acceptance rate': {'chain 0': 0.986}}\n",
      "Registering the results in:  SX_IJCAI_M/2024-01-11/iter-8_n-5_k-2_m-5_sigma_w-1.0_sigma_p-1.0_n_samples-500.yaml\n"
     ]
    },
    {
     "name": "stderr",
     "output_type": "stream",
     "text": [
      "Sample: 100%|████████████████████████████| 1000/1000 [00:43, 23.17it/s, step size=2.02e-01, acc. prob=0.706]\n"
     ]
    },
    {
     "name": "stdout",
     "output_type": "stream",
     "text": [
      "diag:  {'sigma': OrderedDict([('n_eff', tensor(113.7445)), ('r_hat', tensor(0.9990))]), 'w': OrderedDict([('n_eff', tensor([297.3867, 195.4898, 255.8762, 276.4835, 176.6644, 428.2587, 232.9910,\n",
      "        268.2927, 329.8235, 338.6395, 245.5962, 302.7008, 240.6136, 316.2461,\n",
      "        192.2295])), ('r_hat', tensor([0.9989, 1.0047, 1.0188, 1.0107, 1.0013, 1.0007, 1.0052, 0.9991, 0.9981,\n",
      "        1.0098, 0.9982, 1.0043, 1.0014, 0.9991, 0.9987]))]), 'divergences': {'chain 0': [32, 70, 310, 486]}, 'acceptance rate': {'chain 0': 0.94}}\n",
      "Registering the results in:  SX_IJCAI_M/2024-01-11/iter-8_n-5_k-2_m-6_sigma_w-1.0_sigma_p-1.0_n_samples-500.yaml\n"
     ]
    },
    {
     "name": "stderr",
     "output_type": "stream",
     "text": [
      "Sample: 100%|████████████████████████████| 1000/1000 [01:22, 12.16it/s, step size=8.51e-02, acc. prob=0.778]\n"
     ]
    },
    {
     "name": "stdout",
     "output_type": "stream",
     "text": [
      "diag:  {'sigma': OrderedDict([('n_eff', tensor(153.2488)), ('r_hat', tensor(0.9980))]), 'w': OrderedDict([('n_eff', tensor([322.8801, 338.2633, 414.9391, 224.6682, 377.2214, 399.6631, 371.6996,\n",
      "        229.7996, 215.9265, 150.8905, 399.3843, 218.7636, 322.6628, 252.9422,\n",
      "        406.1589])), ('r_hat', tensor([0.9992, 0.9985, 0.9982, 1.0080, 0.9980, 0.9983, 0.9988, 0.9989, 1.0020,\n",
      "        1.0128, 0.9998, 1.0004, 1.0115, 0.9980, 1.0038]))]), 'divergences': {'chain 0': [111, 173, 265, 278, 322, 338]}, 'acceptance rate': {'chain 0': 0.96}}\n",
      "Registering the results in:  SX_IJCAI_M/2024-01-11/iter-8_n-5_k-2_m-7_sigma_w-1.0_sigma_p-1.0_n_samples-500.yaml\n"
     ]
    },
    {
     "name": "stderr",
     "output_type": "stream",
     "text": [
      "Sample: 100%|████████████████████████████| 1000/1000 [00:42, 23.72it/s, step size=1.89e-01, acc. prob=0.696]\n"
     ]
    },
    {
     "name": "stdout",
     "output_type": "stream",
     "text": [
      "diag:  {'sigma': OrderedDict([('n_eff', tensor(106.2824)), ('r_hat', tensor(1.0139))]), 'w': OrderedDict([('n_eff', tensor([126.0600, 134.2198, 188.4283, 240.2747, 349.9183, 173.1763, 201.9525,\n",
      "        184.3809, 206.4396, 297.9188, 172.0791, 200.7944,  93.9166, 273.3674,\n",
      "        265.0247])), ('r_hat', tensor([1.0087, 0.9994, 0.9997, 0.9980, 1.0013, 1.0067, 1.0068, 1.0014, 1.0014,\n",
      "        0.9982, 1.0033, 0.9983, 1.0036, 1.0033, 0.9981]))]), 'divergences': {'chain 0': [36, 139, 156, 158, 163, 169, 170, 172, 174, 176, 180, 228, 249, 258, 261, 291, 293, 295, 297, 300, 324, 362, 419, 427, 434, 459]}, 'acceptance rate': {'chain 0': 0.96}}\n",
      "Registering the results in:  SX_IJCAI_M/2024-01-11/iter-8_n-5_k-2_m-8_sigma_w-1.0_sigma_p-1.0_n_samples-500.yaml\n"
     ]
    },
    {
     "name": "stderr",
     "output_type": "stream",
     "text": [
      "Sample: 100%|████████████████████████████| 1000/1000 [01:13, 13.69it/s, step size=1.09e-01, acc. prob=0.813]\n"
     ]
    },
    {
     "name": "stdout",
     "output_type": "stream",
     "text": [
      "diag:  {'sigma': OrderedDict([('n_eff', tensor(228.8545)), ('r_hat', tensor(1.0149))]), 'w': OrderedDict([('n_eff', tensor([369.4507, 307.0024, 213.2748, 206.3338, 222.3099, 265.8181, 239.4817,\n",
      "        225.9864, 352.9574, 264.4243, 409.2607, 200.0877, 167.0589, 197.6342,\n",
      "        323.9756])), ('r_hat', tensor([0.9982, 0.9991, 1.0069, 1.0007, 1.0069, 0.9990, 1.0014, 1.0080, 1.0075,\n",
      "        0.9983, 1.0042, 1.0027, 1.0016, 1.0011, 1.0114]))]), 'divergences': {'chain 0': [57, 364, 484]}, 'acceptance rate': {'chain 0': 0.988}}\n",
      "Registering the results in:  SX_IJCAI_M/2024-01-11/iter-8_n-5_k-2_m-9_sigma_w-1.0_sigma_p-1.0_n_samples-500.yaml\n"
     ]
    },
    {
     "name": "stderr",
     "output_type": "stream",
     "text": [
      "Sample: 100%|████████████████████████████| 1000/1000 [01:33, 10.66it/s, step size=6.18e-02, acc. prob=0.852]\n"
     ]
    },
    {
     "name": "stdout",
     "output_type": "stream",
     "text": [
      "diag:  {'sigma': OrderedDict([('n_eff', tensor(156.3262)), ('r_hat', tensor(0.9995))]), 'w': OrderedDict([('n_eff', tensor([296.9733, 366.9306, 318.4895, 306.8088, 272.6258, 311.4702, 355.5030,\n",
      "        177.8920, 315.7127, 380.3662, 239.3891, 479.5333, 310.4648, 333.9917,\n",
      "        340.6737])), ('r_hat', tensor([1.0009, 0.9980, 0.9980, 0.9987, 1.0022, 1.0034, 0.9981, 1.0036, 0.9988,\n",
      "        0.9983, 1.0002, 1.0053, 0.9989, 1.0042, 1.0035]))]), 'divergences': {'chain 0': [22, 114]}, 'acceptance rate': {'chain 0': 0.98}}\n",
      "Registering the results in:  SX_IJCAI_M/2024-01-11/iter-8_n-5_k-2_m-10_sigma_w-1.0_sigma_p-1.0_n_samples-500.yaml\n"
     ]
    },
    {
     "name": "stderr",
     "output_type": "stream",
     "text": [
      "Sample: 100%|████████████████████████████| 1000/1000 [01:21, 12.24it/s, step size=7.21e-02, acc. prob=0.812]\n"
     ]
    },
    {
     "name": "stdout",
     "output_type": "stream",
     "text": [
      "diag:  {'sigma': OrderedDict([('n_eff', tensor(170.7329)), ('r_hat', tensor(0.9999))]), 'w': OrderedDict([('n_eff', tensor([520.7852, 418.4653, 294.6007, 236.3003, 411.4608, 396.2509, 339.1435,\n",
      "        277.9847, 380.4806, 427.9213, 237.1349, 406.3403, 447.8873, 242.6078,\n",
      "        202.3886])), ('r_hat', tensor([0.9994, 1.0039, 1.0008, 1.0048, 0.9980, 0.9993, 0.9996, 1.0024, 0.9986,\n",
      "        0.9985, 0.9988, 0.9990, 1.0017, 1.0000, 1.0003]))]), 'divergences': {'chain 0': [67, 384, 448]}, 'acceptance rate': {'chain 0': 0.97}}\n",
      "Registering the results in:  SX_IJCAI_M/2024-01-11/iter-8_n-5_k-2_m-11_sigma_w-1.0_sigma_p-1.0_n_samples-500.yaml\n"
     ]
    },
    {
     "name": "stderr",
     "output_type": "stream",
     "text": [
      "Sample: 100%|████████████████████████████| 1000/1000 [01:28, 11.28it/s, step size=6.93e-02, acc. prob=0.834]\n"
     ]
    },
    {
     "name": "stdout",
     "output_type": "stream",
     "text": [
      "diag:  {'sigma': OrderedDict([('n_eff', tensor(196.0027)), ('r_hat', tensor(1.0055))]), 'w': OrderedDict([('n_eff', tensor([250.1759, 285.7619, 293.5861, 258.2951, 263.2184, 365.1164, 381.2337,\n",
      "        307.6891, 197.3684, 150.4544, 239.5970, 176.6210, 300.5290, 276.6893,\n",
      "        290.1891])), ('r_hat', tensor([1.0000, 0.9984, 0.9989, 0.9992, 0.9980, 0.9984, 0.9983, 0.9999, 0.9981,\n",
      "        0.9982, 0.9985, 0.9986, 1.0014, 0.9998, 0.9982]))]), 'divergences': {'chain 0': [162, 190, 240, 472]}, 'acceptance rate': {'chain 0': 0.992}}\n",
      "Registering the results in:  SX_IJCAI_M/2024-01-11/iter-8_n-5_k-2_m-12_sigma_w-1.0_sigma_p-1.0_n_samples-500.yaml\n"
     ]
    },
    {
     "name": "stderr",
     "output_type": "stream",
     "text": [
      "Sample: 100%|████████████████████████████| 1000/1000 [02:25,  6.87it/s, step size=4.00e-02, acc. prob=0.777]\n"
     ]
    },
    {
     "name": "stdout",
     "output_type": "stream",
     "text": [
      "diag:  {'sigma': OrderedDict([('n_eff', tensor(100.5973)), ('r_hat', tensor(1.0290))]), 'w': OrderedDict([('n_eff', tensor([ 94.1325,  93.9301, 191.5241, 177.1316,  78.9224,  75.5745,  74.2282,\n",
      "        177.7929, 132.0529, 120.9170, 260.9966, 170.5600, 177.4523, 206.0976,\n",
      "        106.2413])), ('r_hat', tensor([1.0101, 0.9989, 0.9980, 0.9980, 1.0023, 0.9986, 1.0196, 1.0020, 1.0202,\n",
      "        0.9980, 1.0038, 1.0033, 1.0091, 0.9996, 1.0047]))]), 'divergences': {'chain 0': [149, 307, 314, 322, 430]}, 'acceptance rate': {'chain 0': 0.996}}\n",
      "Registering the results in:  SX_IJCAI_M/2024-01-11/iter-8_n-5_k-2_m-13_sigma_w-1.0_sigma_p-1.0_n_samples-500.yaml\n"
     ]
    },
    {
     "name": "stderr",
     "output_type": "stream",
     "text": [
      "Sample: 100%|████████████████████████████| 1000/1000 [01:24, 11.82it/s, step size=7.45e-02, acc. prob=0.871]\n"
     ]
    },
    {
     "name": "stdout",
     "output_type": "stream",
     "text": [
      "diag:  {'sigma': OrderedDict([('n_eff', tensor(170.5086)), ('r_hat', tensor(0.9999))]), 'w': OrderedDict([('n_eff', tensor([233.6759, 227.1153, 235.0161, 232.5672, 322.9110, 275.9567, 229.8695,\n",
      "        257.6964, 340.4369, 309.1746, 303.9275, 261.1850, 182.5504, 266.1113,\n",
      "        425.0905])), ('r_hat', tensor([1.0001, 0.9986, 0.9988, 0.9980, 1.0021, 0.9985, 0.9989, 1.0059, 0.9992,\n",
      "        0.9982, 0.9980, 0.9994, 0.9985, 1.0042, 0.9981]))]), 'divergences': {'chain 0': [20, 21]}, 'acceptance rate': {'chain 0': 0.998}}\n",
      "Registering the results in:  SX_IJCAI_M/2024-01-11/iter-8_n-5_k-2_m-14_sigma_w-1.0_sigma_p-1.0_n_samples-500.yaml\n"
     ]
    },
    {
     "name": "stderr",
     "output_type": "stream",
     "text": [
      "Sample: 100%|████████████████████████████| 1000/1000 [01:50,  9.05it/s, step size=7.03e-02, acc. prob=0.624]\n"
     ]
    },
    {
     "name": "stdout",
     "output_type": "stream",
     "text": [
      "diag:  {'sigma': OrderedDict([('n_eff', tensor(73.1888)), ('r_hat', tensor(1.0105))]), 'w': OrderedDict([('n_eff', tensor([ 88.9674,  88.0796,  81.8744,  84.6766,  60.1673,  52.2072,  71.0774,\n",
      "        101.6298, 147.0828,  83.6344, 129.1091, 184.4199,  96.2767,  71.7837,\n",
      "         65.9452])), ('r_hat', tensor([1.0037, 1.0060, 0.9999, 1.0123, 1.0009, 1.0174, 0.9980, 1.0050, 1.0003,\n",
      "        1.0080, 0.9981, 1.0024, 0.9990, 1.0005, 1.0205]))]), 'divergences': {'chain 0': [78, 337, 353, 356, 397, 398, 468]}, 'acceptance rate': {'chain 0': 0.93}}\n",
      "Registering the results in:  SX_IJCAI_M/2024-01-11/iter-8_n-5_k-2_m-15_sigma_w-1.0_sigma_p-1.0_n_samples-500.yaml\n"
     ]
    },
    {
     "name": "stderr",
     "output_type": "stream",
     "text": [
      "Sample: 100%|████████████████████████████| 1000/1000 [01:21, 12.31it/s, step size=8.64e-02, acc. prob=0.699]\n"
     ]
    },
    {
     "name": "stdout",
     "output_type": "stream",
     "text": [
      "diag:  {'sigma': OrderedDict([('n_eff', tensor(48.7713)), ('r_hat', tensor(0.9983))]), 'w': OrderedDict([('n_eff', tensor([ 47.5710,  43.1223, 141.2143,  81.8388, 109.9759,  93.0936, 129.0777,\n",
      "        109.8843,  66.1864, 194.0477,  94.6112, 114.5376, 200.0040, 157.7446,\n",
      "        203.1974])), ('r_hat', tensor([1.0002, 1.0166, 0.9988, 1.0621, 1.0009, 1.0007, 1.0088, 1.0463, 1.0147,\n",
      "        1.0030, 1.0236, 0.9990, 1.0130, 1.0089, 1.0238]))]), 'divergences': {'chain 0': [14, 31, 130, 346, 460, 464, 472, 473, 480, 481, 482, 485, 486, 487, 488, 489, 490, 491, 496, 497]}, 'acceptance rate': {'chain 0': 0.962}}\n",
      "Registering the results in:  SX_IJCAI_M/2024-01-11/iter-8_n-5_k-2_m-16_sigma_w-1.0_sigma_p-1.0_n_samples-500.yaml\n"
     ]
    },
    {
     "name": "stderr",
     "output_type": "stream",
     "text": [
      "Sample: 100%|████████████████████████████| 1000/1000 [02:24,  6.90it/s, step size=5.49e-02, acc. prob=0.835]\n"
     ]
    },
    {
     "name": "stdout",
     "output_type": "stream",
     "text": [
      "diag:  {'sigma': OrderedDict([('n_eff', tensor(91.1397)), ('r_hat', tensor(1.0065))]), 'w': OrderedDict([('n_eff', tensor([145.8137, 116.2799, 174.9670, 150.6373, 206.9633, 217.0232, 116.1810,\n",
      "        220.2951, 169.8807, 224.5768, 160.6809, 163.1610, 160.3933, 220.4966,\n",
      "        169.1125])), ('r_hat', tensor([1.0123, 0.9982, 1.0091, 1.0098, 0.9982, 0.9984, 1.0008, 1.0068, 0.9980,\n",
      "        0.9986, 0.9992, 1.0071, 1.0014, 1.0086, 0.9981]))]), 'divergences': {'chain 0': [58, 168, 222, 301, 394, 438]}, 'acceptance rate': {'chain 0': 0.998}}\n",
      "Registering the results in:  SX_IJCAI_M/2024-01-11/iter-8_n-5_k-2_m-17_sigma_w-1.0_sigma_p-1.0_n_samples-500.yaml\n"
     ]
    },
    {
     "name": "stderr",
     "output_type": "stream",
     "text": [
      "Sample: 100%|████████████████████████████| 1000/1000 [02:59,  5.58it/s, step size=3.73e-02, acc. prob=0.779]\n"
     ]
    },
    {
     "name": "stdout",
     "output_type": "stream",
     "text": [
      "diag:  {'sigma': OrderedDict([('n_eff', tensor(164.8203)), ('r_hat', tensor(0.9983))]), 'w': OrderedDict([('n_eff', tensor([211.5094, 208.5141, 137.0680, 195.4586, 211.7585, 154.4204, 161.3490,\n",
      "        190.5684, 126.9586, 111.2487, 173.7906, 206.5599, 170.6633, 156.8240,\n",
      "        132.2590])), ('r_hat', tensor([1.0051, 1.0001, 1.0021, 0.9991, 0.9990, 1.0088, 0.9980, 0.9982, 1.0010,\n",
      "        0.9982, 1.0015, 0.9992, 0.9988, 1.0077, 0.9996]))]), 'divergences': {'chain 0': [106, 118, 184, 225]}, 'acceptance rate': {'chain 0': 0.984}}\n",
      "Registering the results in:  SX_IJCAI_M/2024-01-11/iter-8_n-5_k-2_m-18_sigma_w-1.0_sigma_p-1.0_n_samples-500.yaml\n"
     ]
    },
    {
     "name": "stderr",
     "output_type": "stream",
     "text": [
      "Sample: 100%|████████████████████████████| 1000/1000 [01:20, 12.43it/s, step size=9.66e-02, acc. prob=0.570]\n"
     ]
    },
    {
     "name": "stdout",
     "output_type": "stream",
     "text": [
      "diag:  {'sigma': OrderedDict([('n_eff', tensor(81.9810)), ('r_hat', tensor(1.0012))]), 'w': OrderedDict([('n_eff', tensor([ 45.8259,  49.6323,  69.0801, 124.5471,  37.5261, 134.6674,  49.5386,\n",
      "        109.4012, 113.4752, 102.0366,  76.2460,  72.6512,  56.1112,  34.9450,\n",
      "         48.9820])), ('r_hat', tensor([0.9980, 1.0054, 0.9981, 1.0027, 1.0033, 0.9994, 1.0090, 1.0167, 1.0151,\n",
      "        1.0209, 0.9982, 1.0205, 1.0124, 1.0009, 0.9985]))]), 'divergences': {'chain 0': [5, 147, 193, 202, 203, 210, 213, 215, 216, 229, 305, 391, 468, 488]}, 'acceptance rate': {'chain 0': 0.886}}\n",
      "Registering the results in:  SX_IJCAI_M/2024-01-11/iter-8_n-5_k-2_m-19_sigma_w-1.0_sigma_p-1.0_n_samples-500.yaml\n"
     ]
    },
    {
     "name": "stderr",
     "output_type": "stream",
     "text": [
      "Sample: 100%|████████████████████████████| 1000/1000 [01:53,  8.84it/s, step size=6.33e-02, acc. prob=0.618]\n"
     ]
    },
    {
     "name": "stdout",
     "output_type": "stream",
     "text": [
      "diag:  {'sigma': OrderedDict([('n_eff', tensor(41.7383)), ('r_hat', tensor(0.9980))]), 'w': OrderedDict([('n_eff', tensor([153.3189,  49.8152,  38.4824, 176.8584,  54.1829, 169.6446,  86.8863,\n",
      "         91.3826,  77.2056,  61.0253,  64.3671,  81.3799,  80.6587,  41.0918,\n",
      "        104.2229])), ('r_hat', tensor([0.9991, 1.0000, 1.0198, 1.0046, 1.0050, 0.9994, 1.0036, 1.0338, 1.0213,\n",
      "        1.0034, 1.0022, 0.9986, 0.9980, 1.0137, 1.0208]))]), 'divergences': {'chain 0': [9, 11, 24, 162, 242, 243, 260, 276, 283, 298, 299, 302, 367, 467]}, 'acceptance rate': {'chain 0': 0.922}}\n",
      "Registering the results in:  SX_IJCAI_M/2024-01-11/iter-8_n-5_k-2_m-20_sigma_w-1.0_sigma_p-1.0_n_samples-500.yaml\n"
     ]
    },
    {
     "name": "stderr",
     "output_type": "stream",
     "text": [
      "Sample: 100%|████████████████████████████| 1000/1000 [02:15,  7.36it/s, step size=5.54e-02, acc. prob=0.843]\n"
     ]
    },
    {
     "name": "stdout",
     "output_type": "stream",
     "text": [
      "diag:  {'sigma': OrderedDict([('n_eff', tensor(195.0951)), ('r_hat', tensor(1.0090))]), 'w': OrderedDict([('n_eff', tensor([169.2071, 211.7341, 157.4335, 147.4595, 145.6162, 189.4029, 216.3058,\n",
      "        209.0632, 189.2347, 154.0336, 229.9735, 164.0610, 239.2916, 171.1485,\n",
      "        178.1080])), ('r_hat', tensor([1.0300, 1.0041, 0.9991, 1.0211, 1.0476, 0.9997, 1.0123, 0.9981, 1.0184,\n",
      "        1.0042, 1.0102, 1.0414, 1.0008, 1.0002, 0.9981]))]), 'divergences': {'chain 0': [27, 79, 145, 150, 239, 297, 347, 430, 469]}, 'acceptance rate': {'chain 0': 0.99}}\n",
      "Registering the results in:  SX_IJCAI_M/2024-01-11/iter-8_n-5_k-2_m-21_sigma_w-1.0_sigma_p-1.0_n_samples-500.yaml\n"
     ]
    },
    {
     "name": "stderr",
     "output_type": "stream",
     "text": [
      "Sample: 100%|████████████████████████████| 1000/1000 [02:32,  6.55it/s, step size=3.82e-02, acc. prob=0.779]\n"
     ]
    },
    {
     "name": "stdout",
     "output_type": "stream",
     "text": [
      "diag:  {'sigma': OrderedDict([('n_eff', tensor(66.0576)), ('r_hat', tensor(1.0004))]), 'w': OrderedDict([('n_eff', tensor([ 67.3149, 209.0479,  81.5522, 160.0541,  72.4062,  62.7010,  96.4441,\n",
      "        129.6534, 143.7420, 100.8023, 116.2649,  91.1716, 102.8412,  78.7150,\n",
      "         89.2044])), ('r_hat', tensor([0.9985, 1.0057, 0.9991, 0.9985, 0.9991, 0.9980, 0.9984, 1.0047, 1.0115,\n",
      "        1.0000, 0.9982, 1.0003, 0.9980, 0.9988, 1.0058]))]), 'divergences': {'chain 0': [5]}, 'acceptance rate': {'chain 0': 0.992}}\n",
      "Registering the results in:  SX_IJCAI_M/2024-01-11/iter-8_n-5_k-2_m-22_sigma_w-1.0_sigma_p-1.0_n_samples-500.yaml\n"
     ]
    },
    {
     "name": "stderr",
     "output_type": "stream",
     "text": [
      "Sample: 100%|████████████████████████████| 1000/1000 [02:05,  7.98it/s, step size=5.20e-02, acc. prob=0.799]\n"
     ]
    },
    {
     "name": "stdout",
     "output_type": "stream",
     "text": [
      "diag:  {'sigma': OrderedDict([('n_eff', tensor(102.0571)), ('r_hat', tensor(1.0131))]), 'w': OrderedDict([('n_eff', tensor([123.0294,  99.6170, 105.5865, 163.5424, 126.2475, 112.2151, 131.9852,\n",
      "        126.8952, 122.4318, 112.0985, 102.8581,  97.2704, 141.8032, 137.7768,\n",
      "        153.8602])), ('r_hat', tensor([0.9999, 1.0113, 1.0047, 1.0042, 1.0201, 1.0144, 0.9991, 1.0003, 1.0027,\n",
      "        1.0050, 1.0032, 1.0015, 1.0066, 1.0201, 1.0090]))]), 'divergences': {'chain 0': [3, 332, 338, 447]}, 'acceptance rate': {'chain 0': 0.974}}\n",
      "Registering the results in:  SX_IJCAI_M/2024-01-11/iter-8_n-5_k-2_m-23_sigma_w-1.0_sigma_p-1.0_n_samples-500.yaml\n"
     ]
    },
    {
     "name": "stderr",
     "output_type": "stream",
     "text": [
      "Sample: 100%|████████████████████████████| 1000/1000 [02:00,  8.28it/s, step size=2.93e-02, acc. prob=0.407]\n"
     ]
    },
    {
     "name": "stdout",
     "output_type": "stream",
     "text": [
      "diag:  {'sigma': OrderedDict([('n_eff', tensor(11.0575)), ('r_hat', tensor(1.0362))]), 'w': OrderedDict([('n_eff', tensor([20.8246, 85.9216, 11.6249, 84.1013, 55.3272, 24.7933, 23.7633, 42.4098,\n",
      "        18.9586, 12.4761, 28.5913, 31.1984, 16.4931,  9.4024, 90.2978])), ('r_hat', tensor([1.0249, 1.0157, 1.0204, 1.0014, 1.0059, 1.0229, 1.0373, 0.9981, 1.0886,\n",
      "        1.0077, 1.0511, 1.0673, 1.0001, 1.0027, 1.0216]))]), 'divergences': {'chain 0': [132, 133, 135, 136, 137, 138, 144, 149, 152, 158, 159, 160, 161, 163, 165, 169, 170, 175, 176, 177, 182, 184, 185, 187, 189, 191, 193, 195, 198, 199, 200, 202, 203, 207, 214, 216, 217, 218, 219, 221, 222, 223, 224, 226, 230, 233, 236, 241, 242, 248, 249, 251, 252, 254, 255, 256, 259, 260, 261, 262, 265, 267, 269, 270, 272, 273, 274, 276, 277, 279, 280, 281, 282, 283, 285, 287, 288, 291, 292, 294, 295, 299, 300, 301, 304, 305, 306, 308, 311, 312, 313, 316, 317, 318, 320, 322, 323, 324, 325, 326, 329, 330, 331, 341, 342, 343, 344, 345, 346, 348, 349, 350, 351, 354, 356, 357, 359, 360, 363, 364, 365, 366, 367, 370, 371, 372, 373, 374, 376, 377, 378, 381, 382, 386, 387, 388, 389, 390, 391, 392, 394, 395, 398, 400, 401, 402, 406, 407, 408, 412, 415, 416, 417, 419, 421, 422, 424, 425, 435, 439, 446, 461]}, 'acceptance rate': {'chain 0': 0.75}}\n",
      "Registering the results in:  SX_IJCAI_M/2024-01-11/iter-8_n-5_k-2_m-24_sigma_w-1.0_sigma_p-1.0_n_samples-500.yaml\n"
     ]
    },
    {
     "name": "stderr",
     "output_type": "stream",
     "text": [
      "Sample: 100%|████████████████████████████| 1000/1000 [01:49,  9.15it/s, step size=6.57e-02, acc. prob=0.343]\n"
     ]
    },
    {
     "name": "stdout",
     "output_type": "stream",
     "text": [
      "diag:  {'sigma': OrderedDict([('n_eff', tensor(9.5924)), ('r_hat', tensor(0.9982))]), 'w': OrderedDict([('n_eff', tensor([18.4462, 67.0082, 50.5676, 13.0142,  6.5678, 52.2544, 42.3090, 19.1903,\n",
      "        52.3175, 12.8727, 33.9489, 40.9100, 46.9155,  5.7987,  8.7167])), ('r_hat', tensor([1.0178, 0.9983, 0.9987, 0.9982, 1.0930, 0.9991, 0.9982, 1.0290, 0.9982,\n",
      "        1.0320, 1.0036, 1.0016, 0.9985, 1.0613, 1.0276]))]), 'divergences': {'chain 0': [123, 141, 163, 164, 166, 170, 172, 174, 175, 178, 182, 184, 185, 187, 193, 195, 203, 225, 227, 240, 263, 276, 298, 299, 300, 302, 310, 315, 321, 323, 328, 329, 332, 333, 336, 340, 341, 344, 345, 349, 350, 351, 352, 354, 356, 363, 367, 368, 369, 373, 378, 385, 386, 390, 398, 406, 408, 410]}, 'acceptance rate': {'chain 0': 0.66}}\n",
      "Registering the results in:  SX_IJCAI_M/2024-01-11/iter-8_n-5_k-2_m-25_sigma_w-1.0_sigma_p-1.0_n_samples-500.yaml\n"
     ]
    },
    {
     "name": "stderr",
     "output_type": "stream",
     "text": [
      "Sample: 100%|████████████████████████████| 1000/1000 [01:46,  9.42it/s, step size=6.13e-02, acc. prob=0.663]\n"
     ]
    },
    {
     "name": "stdout",
     "output_type": "stream",
     "text": [
      "diag:  {'sigma': OrderedDict([('n_eff', tensor(44.6601)), ('r_hat', tensor(1.0695))]), 'w': OrderedDict([('n_eff', tensor([ 17.6718,  36.1858,  57.7409,  80.3814,  48.7301,  88.1054,  43.4476,\n",
      "         49.3211, 143.0897,  95.6408,  93.3142,  35.2847,  50.9793,  90.1913,\n",
      "         69.0163])), ('r_hat', tensor([0.9980, 0.9991, 0.9993, 1.0026, 0.9987, 0.9980, 1.0434, 1.0209, 1.0088,\n",
      "        0.9986, 1.0193, 1.0245, 1.0122, 1.0107, 0.9988]))]), 'divergences': {'chain 0': [27, 46, 50, 56, 170, 195, 204, 237, 300, 378, 492]}, 'acceptance rate': {'chain 0': 0.912}}\n",
      "Registering the results in:  SX_IJCAI_M/2024-01-11/iter-8_n-5_k-2_m-26_sigma_w-1.0_sigma_p-1.0_n_samples-500.yaml\n"
     ]
    },
    {
     "name": "stderr",
     "output_type": "stream",
     "text": [
      "Sample: 100%|████████████████████████████| 1000/1000 [01:18, 12.72it/s, step size=6.99e-02, acc. prob=0.798]\n"
     ]
    },
    {
     "name": "stdout",
     "output_type": "stream",
     "text": [
      "diag:  {'sigma': OrderedDict([('n_eff', tensor(77.3777)), ('r_hat', tensor(1.0081))]), 'w': OrderedDict([('n_eff', tensor([117.1987, 104.3568, 141.4160, 146.2373,  88.5109, 117.2956, 114.7774,\n",
      "        129.3836, 110.6853, 125.2486, 138.9314, 128.7349, 118.5753, 145.1827,\n",
      "        148.9319])), ('r_hat', tensor([1.0039, 1.0130, 0.9994, 0.9987, 1.0131, 0.9980, 0.9980, 1.0014, 1.0134,\n",
      "        0.9980, 0.9999, 1.0181, 0.9988, 1.0029, 0.9989]))]), 'divergences': {'chain 0': [219, 351]}, 'acceptance rate': {'chain 0': 0.982}}\n",
      "Registering the results in:  SX_IJCAI_M/2024-01-11/iter-8_n-5_k-2_m-27_sigma_w-1.0_sigma_p-1.0_n_samples-500.yaml\n"
     ]
    },
    {
     "name": "stderr",
     "output_type": "stream",
     "text": [
      "Sample: 100%|████████████████████████████| 1000/1000 [01:39, 10.02it/s, step size=5.43e-02, acc. prob=0.404]\n"
     ]
    },
    {
     "name": "stdout",
     "output_type": "stream",
     "text": [
      "diag:  {'sigma': OrderedDict([('n_eff', tensor(13.7675)), ('r_hat', tensor(1.1163))]), 'w': OrderedDict([('n_eff', tensor([11.6611, 29.1156,  8.2533,  7.4418, 49.7923,  8.0823, 10.2421,  7.2467,\n",
      "        68.7409, 63.9852, 10.1167, 72.4969, 41.3009, 49.1061, 55.5133])), ('r_hat', tensor([1.2045, 0.9996, 1.1485, 1.3029, 1.0210, 1.2421, 1.0998, 1.3683, 1.0183,\n",
      "        1.0154, 1.1132, 1.0646, 1.1679, 1.0020, 1.0712]))]), 'divergences': {'chain 0': [4, 73, 240, 241, 242, 250, 252, 253, 255, 256, 262, 263, 264, 265, 266, 269, 270, 274, 275, 276, 279, 280, 281, 284, 287, 291, 292, 296, 298, 300, 301, 302, 303, 304, 306, 309, 312, 315, 316, 318, 319, 321, 322, 324, 325, 329, 331, 335, 337, 338, 343, 344, 346, 348, 350, 351, 353, 354, 355, 358, 361, 362, 363, 364, 371, 373, 374, 377, 378, 380, 381, 383, 385, 387, 389, 390, 391, 392, 395, 396, 397, 400, 403, 404, 405, 409, 414, 417, 418, 419, 423, 426, 429, 430, 435, 484]}, 'acceptance rate': {'chain 0': 0.648}}\n",
      "Registering the results in:  SX_IJCAI_M/2024-01-11/iter-8_n-5_k-2_m-28_sigma_w-1.0_sigma_p-1.0_n_samples-500.yaml\n"
     ]
    },
    {
     "name": "stderr",
     "output_type": "stream",
     "text": [
      "Sample: 100%|████████████████████████████| 1000/1000 [02:12,  7.53it/s, step size=4.60e-02, acc. prob=0.841]\n"
     ]
    },
    {
     "name": "stdout",
     "output_type": "stream",
     "text": [
      "diag:  {'sigma': OrderedDict([('n_eff', tensor(144.6009)), ('r_hat', tensor(1.0011))]), 'w': OrderedDict([('n_eff', tensor([55.9794, 65.4937, 36.4852, 50.0207, 70.5470, 89.1252, 32.6748, 31.1620,\n",
      "        25.1995, 48.1429, 23.5078, 31.4803, 44.6147, 74.5416, 26.3400])), ('r_hat', tensor([0.9981, 0.9985, 1.0369, 1.0028, 1.0074, 0.9988, 1.0338, 1.0177, 1.0271,\n",
      "        1.0061, 1.0424, 1.0131, 1.0080, 1.0129, 1.0236]))]), 'divergences': {'chain 0': [296, 299, 373, 386, 402]}, 'acceptance rate': {'chain 0': 0.998}}\n",
      "Registering the results in:  SX_IJCAI_M/2024-01-11/iter-8_n-5_k-2_m-29_sigma_w-1.0_sigma_p-1.0_n_samples-500.yaml\n"
     ]
    },
    {
     "name": "stderr",
     "output_type": "stream",
     "text": [
      "Sample: 100%|████████████████████████████| 1000/1000 [02:20,  7.09it/s, step size=2.56e-02, acc. prob=0.631]\n"
     ]
    },
    {
     "name": "stdout",
     "output_type": "stream",
     "text": [
      "diag:  {'sigma': OrderedDict([('n_eff', tensor(13.6885)), ('r_hat', tensor(1.1577))]), 'w': OrderedDict([('n_eff', tensor([ 63.4587,  35.6903,  15.0426,  55.4434,  63.8935,  33.6757, 112.7091,\n",
      "         47.4854,  51.9968,  45.6521,  34.2857,  50.5965,  22.1980,  11.0073,\n",
      "         45.0195])), ('r_hat', tensor([1.0066, 1.0042, 1.0976, 0.9987, 1.0039, 1.0887, 1.0411, 1.0072, 1.0270,\n",
      "        0.9981, 1.0295, 0.9998, 1.0653, 1.1641, 0.9996]))]), 'divergences': {'chain 0': [66, 102, 104, 105, 106, 107, 108, 109, 110, 111, 112, 118, 120, 123, 124, 131, 132, 135, 140, 142, 155, 160, 162, 164, 170, 171, 172, 174, 177, 178, 180, 181, 182, 183, 184, 188, 196, 197, 198, 199, 203, 208, 210, 214, 215, 223, 226, 227, 228, 235, 241, 245, 249, 257, 381, 417]}, 'acceptance rate': {'chain 0': 0.922}}\n",
      "Registering the results in:  SX_IJCAI_M/2024-01-11/iter-8_n-5_k-2_m-30_sigma_w-1.0_sigma_p-1.0_n_samples-500.yaml\n"
     ]
    },
    {
     "name": "stderr",
     "output_type": "stream",
     "text": [
      "Sample: 100%|████████████████████████████| 1000/1000 [01:36, 10.38it/s, step size=6.91e-02, acc. prob=0.790]\n"
     ]
    },
    {
     "name": "stdout",
     "output_type": "stream",
     "text": [
      "diag:  {'sigma': OrderedDict([('n_eff', tensor(97.0376)), ('r_hat', tensor(1.0006))]), 'w': OrderedDict([('n_eff', tensor([ 84.3344, 181.6274,  99.6580,  75.8589,  51.8818,  52.2612, 145.3938,\n",
      "         87.8517,  53.3128,  51.4994, 192.3974,  49.9030, 105.8427,  53.5468,\n",
      "         49.7609])), ('r_hat', tensor([0.9990, 1.0157, 0.9993, 0.9993, 1.0087, 1.0091, 0.9985, 0.9998, 1.0100,\n",
      "        1.0137, 1.0085, 1.0033, 1.0007, 1.0055, 1.0114]))]), 'divergences': {'chain 0': [101, 111, 194, 198, 255, 289, 350, 357, 399]}, 'acceptance rate': {'chain 0': 0.992}}\n",
      "Registering the results in:  SX_IJCAI_M/2024-01-11/iter-8_n-5_k-2_m-31_sigma_w-1.0_sigma_p-1.0_n_samples-500.yaml\n"
     ]
    },
    {
     "name": "stderr",
     "output_type": "stream",
     "text": [
      "Sample: 100%|████████████████████████████| 1000/1000 [02:27,  6.78it/s, step size=4.05e-02, acc. prob=0.789]\n"
     ]
    },
    {
     "name": "stdout",
     "output_type": "stream",
     "text": [
      "diag:  {'sigma': OrderedDict([('n_eff', tensor(104.7694)), ('r_hat', tensor(1.0020))]), 'w': OrderedDict([('n_eff', tensor([ 63.3712,  63.1378, 103.1975, 101.6602,  64.4510,  67.5940,  82.6681,\n",
      "         55.1438, 174.0897,  89.5010,  97.2398,  86.3684,  77.8558, 152.1383,\n",
      "        114.8087])), ('r_hat', tensor([1.0294, 1.0110, 1.0232, 0.9980, 1.0216, 1.0440, 1.0030, 1.0119, 1.0005,\n",
      "        1.0214, 1.0039, 1.0011, 1.0004, 1.0002, 1.0011]))]), 'divergences': {'chain 0': [93, 403]}, 'acceptance rate': {'chain 0': 0.986}}\n",
      "Registering the results in:  SX_IJCAI_M/2024-01-11/iter-9_n-5_k-2_m-2_sigma_w-1.0_sigma_p-1.0_n_samples-500.yaml\n"
     ]
    },
    {
     "name": "stderr",
     "output_type": "stream",
     "text": [
      "Sample: 100%|████████████████████████████| 1000/1000 [00:19, 52.50it/s, step size=3.86e-01, acc. prob=0.880]\n"
     ]
    },
    {
     "name": "stdout",
     "output_type": "stream",
     "text": [
      "diag:  {'sigma': OrderedDict([('n_eff', tensor(478.7874)), ('r_hat', tensor(0.9985))]), 'w': OrderedDict([('n_eff', tensor([620.4584, 717.0715, 457.7536, 532.0342, 297.9193, 392.6882, 545.4498,\n",
      "        556.3858, 550.6866, 567.6899, 472.1343, 397.4805, 554.7868, 626.2073,\n",
      "        648.1700])), ('r_hat', tensor([1.0056, 0.9988, 0.9980, 0.9980, 1.0021, 1.0020, 0.9982, 0.9987, 0.9996,\n",
      "        0.9981, 0.9986, 1.0022, 1.0005, 0.9992, 1.0014]))]), 'divergences': {'chain 0': [220, 232]}, 'acceptance rate': {'chain 0': 0.998}}\n",
      "Registering the results in:  SX_IJCAI_M/2024-01-11/iter-9_n-5_k-2_m-3_sigma_w-1.0_sigma_p-1.0_n_samples-500.yaml\n"
     ]
    },
    {
     "name": "stderr",
     "output_type": "stream",
     "text": [
      "Sample: 100%|████████████████████████████| 1000/1000 [00:23, 43.33it/s, step size=2.76e-01, acc. prob=0.851]\n"
     ]
    },
    {
     "name": "stdout",
     "output_type": "stream",
     "text": [
      "diag:  {'sigma': OrderedDict([('n_eff', tensor(403.6002)), ('r_hat', tensor(1.0000))]), 'w': OrderedDict([('n_eff', tensor([ 506.5679,  468.9949,  535.9788,  589.4000,  471.7255,  572.6486,\n",
      "        1056.8915,  468.6659,  446.2174,  769.1885,  442.2166,  492.8497,\n",
      "         466.5434,  692.8484,  461.7390])), ('r_hat', tensor([0.9980, 0.9981, 0.9999, 0.9998, 1.0031, 0.9984, 0.9991, 0.9980, 0.9990,\n",
      "        0.9989, 0.9981, 0.9980, 0.9980, 0.9980, 0.9995]))]), 'divergences': {'chain 0': [0, 173, 174, 326, 355]}, 'acceptance rate': {'chain 0': 0.988}}\n",
      "Registering the results in:  SX_IJCAI_M/2024-01-11/iter-9_n-5_k-2_m-4_sigma_w-1.0_sigma_p-1.0_n_samples-500.yaml\n"
     ]
    },
    {
     "name": "stderr",
     "output_type": "stream",
     "text": [
      "Sample: 100%|████████████████████████████| 1000/1000 [00:45, 21.97it/s, step size=1.50e-01, acc. prob=0.861]\n"
     ]
    },
    {
     "name": "stdout",
     "output_type": "stream",
     "text": [
      "diag:  {'sigma': OrderedDict([('n_eff', tensor(339.0051)), ('r_hat', tensor(0.9991))]), 'w': OrderedDict([('n_eff', tensor([404.0479, 643.6909, 395.5045, 710.5793, 620.2291, 481.0938, 583.4159,\n",
      "        396.5123, 408.6384, 580.0604, 479.1689, 554.3655, 476.2023, 506.6152,\n",
      "        573.7592])), ('r_hat', tensor([0.9986, 0.9980, 0.9983, 1.0004, 0.9980, 0.9982, 0.9999, 1.0055, 0.9981,\n",
      "        1.0010, 0.9983, 0.9990, 1.0122, 1.0012, 0.9992]))]), 'divergences': {'chain 0': [131, 262, 325, 417, 446, 479]}, 'acceptance rate': {'chain 0': 0.992}}\n",
      "Registering the results in:  SX_IJCAI_M/2024-01-11/iter-9_n-5_k-2_m-5_sigma_w-1.0_sigma_p-1.0_n_samples-500.yaml\n"
     ]
    },
    {
     "name": "stderr",
     "output_type": "stream",
     "text": [
      "Sample: 100%|████████████████████████████| 1000/1000 [00:50, 19.83it/s, step size=1.72e-01, acc. prob=0.653]\n"
     ]
    },
    {
     "name": "stdout",
     "output_type": "stream",
     "text": [
      "diag:  {'sigma': OrderedDict([('n_eff', tensor(177.9247)), ('r_hat', tensor(1.0018))]), 'w': OrderedDict([('n_eff', tensor([127.4979, 236.9415, 396.4330, 163.5151, 293.8159, 183.7853,  89.6139,\n",
      "        205.8450, 201.7437, 376.7434, 232.5276, 272.8777, 168.9671, 174.0001,\n",
      "        116.6069])), ('r_hat', tensor([0.9991, 1.0004, 1.0014, 1.0010, 1.0083, 0.9995, 0.9982, 0.9993, 0.9986,\n",
      "        0.9980, 1.0008, 1.0000, 1.0105, 1.0007, 1.0031]))]), 'divergences': {'chain 0': [31, 168, 246, 367, 403]}, 'acceptance rate': {'chain 0': 0.932}}\n",
      "Registering the results in:  SX_IJCAI_M/2024-01-11/iter-9_n-5_k-2_m-6_sigma_w-1.0_sigma_p-1.0_n_samples-500.yaml\n"
     ]
    },
    {
     "name": "stderr",
     "output_type": "stream",
     "text": [
      "Sample: 100%|████████████████████████████| 1000/1000 [00:43, 22.81it/s, step size=1.90e-01, acc. prob=0.738]\n"
     ]
    },
    {
     "name": "stdout",
     "output_type": "stream",
     "text": [
      "diag:  {'sigma': OrderedDict([('n_eff', tensor(177.8657)), ('r_hat', tensor(0.9981))]), 'w': OrderedDict([('n_eff', tensor([261.9852, 424.2327, 208.8536, 142.0044, 302.0067,  89.0055, 119.4925,\n",
      "         69.9748, 279.7730, 478.3020, 312.5607, 150.1102, 284.7099, 225.8844,\n",
      "        342.0474])), ('r_hat', tensor([0.9991, 0.9982, 1.0069, 0.9987, 1.0047, 0.9981, 0.9987, 0.9995, 1.0108,\n",
      "        0.9981, 0.9980, 0.9985, 0.9982, 1.0014, 0.9995]))]), 'divergences': {'chain 0': [103, 136, 174, 176, 177, 242, 245, 248, 249, 251, 252, 257, 258, 260, 261, 262, 263, 266, 271, 319]}, 'acceptance rate': {'chain 0': 0.954}}\n",
      "Registering the results in:  SX_IJCAI_M/2024-01-11/iter-9_n-5_k-2_m-7_sigma_w-1.0_sigma_p-1.0_n_samples-500.yaml\n"
     ]
    },
    {
     "name": "stderr",
     "output_type": "stream",
     "text": [
      "Sample: 100%|████████████████████████████| 1000/1000 [01:01, 16.38it/s, step size=1.23e-01, acc. prob=0.779]\n"
     ]
    },
    {
     "name": "stdout",
     "output_type": "stream",
     "text": [
      "diag:  {'sigma': OrderedDict([('n_eff', tensor(215.9177)), ('r_hat', tensor(0.9986))]), 'w': OrderedDict([('n_eff', tensor([187.4916, 280.3400, 273.5453, 146.4799, 274.4248, 133.0863, 199.7408,\n",
      "        175.9614, 341.9229, 357.7943, 197.5867, 387.6046, 348.4504, 173.9707,\n",
      "        266.9874])), ('r_hat', tensor([1.0048, 1.0174, 0.9992, 0.9998, 0.9980, 0.9982, 0.9980, 1.0039, 0.9980,\n",
      "        1.0015, 0.9984, 1.0095, 1.0016, 0.9980, 0.9987]))]), 'divergences': {'chain 0': [62, 85, 159, 173, 200, 201, 206, 319, 361, 468]}, 'acceptance rate': {'chain 0': 0.968}}\n",
      "Registering the results in:  SX_IJCAI_M/2024-01-11/iter-9_n-5_k-2_m-8_sigma_w-1.0_sigma_p-1.0_n_samples-500.yaml\n"
     ]
    },
    {
     "name": "stderr",
     "output_type": "stream",
     "text": [
      "Sample: 100%|████████████████████████████| 1000/1000 [00:53, 18.65it/s, step size=1.35e-01, acc. prob=0.761]\n"
     ]
    },
    {
     "name": "stdout",
     "output_type": "stream",
     "text": [
      "diag:  {'sigma': OrderedDict([('n_eff', tensor(180.5881)), ('r_hat', tensor(1.0009))]), 'w': OrderedDict([('n_eff', tensor([212.4926, 269.1508, 254.1593, 191.4762, 166.3857, 251.1033, 347.1676,\n",
      "        225.5526, 273.2449, 339.3721, 193.5089, 316.7906, 240.7407, 242.5869,\n",
      "        340.1998])), ('r_hat', tensor([0.9997, 0.9984, 1.0047, 0.9992, 1.0009, 0.9980, 0.9990, 0.9986, 0.9997,\n",
      "        0.9985, 1.0026, 0.9982, 1.0109, 0.9993, 1.0000]))]), 'divergences': {'chain 0': [75, 111, 157, 159, 213, 384, 386]}, 'acceptance rate': {'chain 0': 0.98}}\n",
      "Registering the results in:  SX_IJCAI_M/2024-01-11/iter-9_n-5_k-2_m-9_sigma_w-1.0_sigma_p-1.0_n_samples-500.yaml\n"
     ]
    },
    {
     "name": "stderr",
     "output_type": "stream",
     "text": [
      "Sample: 100%|████████████████████████████| 1000/1000 [00:58, 17.04it/s, step size=1.64e-01, acc. prob=0.517]\n"
     ]
    },
    {
     "name": "stdout",
     "output_type": "stream",
     "text": [
      "diag:  {'sigma': OrderedDict([('n_eff', tensor(62.2622)), ('r_hat', tensor(1.0145))]), 'w': OrderedDict([('n_eff', tensor([135.9686, 118.8244, 109.9320, 131.8769, 209.7879,  49.0013,  44.4022,\n",
      "        190.3283, 208.8249, 151.3177, 213.6283, 121.1575, 159.0925, 143.3012,\n",
      "        140.8342])), ('r_hat', tensor([1.0113, 1.0004, 1.0233, 0.9980, 0.9999, 1.0083, 1.0499, 1.0034, 1.0107,\n",
      "        1.0013, 0.9981, 1.0091, 0.9988, 1.0020, 1.0039]))]), 'divergences': {'chain 0': [4, 6, 16, 36, 298, 311, 315, 382, 466, 468, 491]}, 'acceptance rate': {'chain 0': 0.88}}\n",
      "Registering the results in:  SX_IJCAI_M/2024-01-11/iter-9_n-5_k-2_m-10_sigma_w-1.0_sigma_p-1.0_n_samples-500.yaml\n"
     ]
    },
    {
     "name": "stderr",
     "output_type": "stream",
     "text": [
      "Sample: 100%|████████████████████████████| 1000/1000 [01:20, 12.39it/s, step size=9.35e-02, acc. prob=0.732]\n"
     ]
    },
    {
     "name": "stdout",
     "output_type": "stream",
     "text": [
      "diag:  {'sigma': OrderedDict([('n_eff', tensor(80.4220)), ('r_hat', tensor(1.0190))]), 'w': OrderedDict([('n_eff', tensor([ 34.7961, 112.1711, 158.3552, 205.1599, 136.0033, 132.1539, 268.0720,\n",
      "         22.0232, 208.6596,  76.4669, 136.0034, 279.2897,  41.0212,  80.3623,\n",
      "         98.7280])), ('r_hat', tensor([1.0654, 1.0310, 0.9984, 1.0028, 1.0090, 1.0393, 0.9996, 1.0435, 1.0105,\n",
      "        0.9985, 1.0042, 1.0103, 1.0553, 1.0465, 1.0048]))]), 'divergences': {'chain 0': [131, 133, 186, 338, 339, 340, 404, 406, 408, 409, 411, 414, 416, 417, 418, 419, 422, 425, 426, 427, 431, 433, 435, 436, 437, 438, 439, 440, 441, 448, 454, 455, 456, 464, 470]}, 'acceptance rate': {'chain 0': 0.932}}\n",
      "Registering the results in:  SX_IJCAI_M/2024-01-11/iter-9_n-5_k-2_m-11_sigma_w-1.0_sigma_p-1.0_n_samples-500.yaml\n"
     ]
    },
    {
     "name": "stderr",
     "output_type": "stream",
     "text": [
      "Sample: 100%|████████████████████████████| 1000/1000 [01:37, 10.28it/s, step size=7.13e-02, acc. prob=0.811]\n"
     ]
    },
    {
     "name": "stdout",
     "output_type": "stream",
     "text": [
      "diag:  {'sigma': OrderedDict([('n_eff', tensor(272.1973)), ('r_hat', tensor(0.9983))]), 'w': OrderedDict([('n_eff', tensor([320.3256, 356.4411, 311.2475, 322.2900, 307.4502, 319.8049, 311.4827,\n",
      "        320.4532, 267.9642, 388.0332, 275.4467, 306.3150, 399.0612, 296.0301,\n",
      "        363.6909])), ('r_hat', tensor([0.9982, 0.9981, 0.9982, 1.0000, 0.9990, 1.0012, 0.9985, 0.9988, 1.0137,\n",
      "        1.0001, 1.0006, 1.0077, 0.9988, 1.0016, 0.9995]))]), 'divergences': {'chain 0': [4, 335, 355, 424, 453, 474]}, 'acceptance rate': {'chain 0': 0.992}}\n",
      "Registering the results in:  SX_IJCAI_M/2024-01-11/iter-9_n-5_k-2_m-12_sigma_w-1.0_sigma_p-1.0_n_samples-500.yaml\n"
     ]
    },
    {
     "name": "stderr",
     "output_type": "stream",
     "text": [
      "Sample: 100%|████████████████████████████| 1000/1000 [01:14, 13.39it/s, step size=9.58e-02, acc. prob=0.747]\n"
     ]
    },
    {
     "name": "stdout",
     "output_type": "stream",
     "text": [
      "diag:  {'sigma': OrderedDict([('n_eff', tensor(40.0949)), ('r_hat', tensor(1.0714))]), 'w': OrderedDict([('n_eff', tensor([187.2974, 107.7927, 181.8695, 103.7174, 184.3877,  72.0833, 234.9133,\n",
      "         42.3298, 139.6017,  91.7500, 131.7250, 189.9928, 214.2244, 221.0484,\n",
      "        134.9269])), ('r_hat', tensor([0.9980, 0.9989, 1.0015, 1.0050, 0.9986, 1.0000, 1.0061, 1.0121, 1.0153,\n",
      "        1.0184, 0.9982, 1.0058, 1.0049, 0.9984, 1.0012]))]), 'divergences': {'chain 0': [49, 73, 100, 103, 104, 105, 108, 110, 120, 121, 123, 125, 127, 134, 448, 454]}, 'acceptance rate': {'chain 0': 0.97}}\n",
      "Registering the results in:  SX_IJCAI_M/2024-01-11/iter-9_n-5_k-2_m-13_sigma_w-1.0_sigma_p-1.0_n_samples-500.yaml\n"
     ]
    },
    {
     "name": "stderr",
     "output_type": "stream",
     "text": [
      "Sample: 100%|████████████████████████████| 1000/1000 [01:53,  8.79it/s, step size=6.98e-02, acc. prob=0.795]\n"
     ]
    },
    {
     "name": "stdout",
     "output_type": "stream",
     "text": [
      "diag:  {'sigma': OrderedDict([('n_eff', tensor(189.3510)), ('r_hat', tensor(0.9983))]), 'w': OrderedDict([('n_eff', tensor([257.3691, 217.8555, 144.6844, 158.0275, 219.5354, 183.9708, 176.8018,\n",
      "        140.5419, 215.1279, 207.2278, 171.7323, 167.9669, 295.7953, 186.5730,\n",
      "        199.0918])), ('r_hat', tensor([0.9983, 1.0021, 1.0027, 1.0041, 1.0134, 1.0191, 0.9993, 1.0131, 1.0063,\n",
      "        0.9980, 1.0043, 1.0202, 1.0000, 0.9981, 1.0146]))]), 'divergences': {'chain 0': [22, 74, 234, 278, 384, 457]}, 'acceptance rate': {'chain 0': 0.994}}\n",
      "Registering the results in:  SX_IJCAI_M/2024-01-11/iter-9_n-5_k-2_m-14_sigma_w-1.0_sigma_p-1.0_n_samples-500.yaml\n"
     ]
    },
    {
     "name": "stderr",
     "output_type": "stream",
     "text": [
      "Sample: 100%|████████████████████████████| 1000/1000 [01:51,  8.98it/s, step size=6.34e-02, acc. prob=0.811]\n"
     ]
    },
    {
     "name": "stdout",
     "output_type": "stream",
     "text": [
      "diag:  {'sigma': OrderedDict([('n_eff', tensor(110.3668)), ('r_hat', tensor(1.0025))]), 'w': OrderedDict([('n_eff', tensor([257.6025, 271.1704, 213.2989, 209.1878, 161.7022, 252.9105, 380.9868,\n",
      "        188.4015, 229.9758, 308.0309, 347.4238, 286.3483, 217.4045, 261.5081,\n",
      "        193.2765])), ('r_hat', tensor([0.9981, 0.9998, 0.9980, 0.9986, 0.9982, 1.0013, 0.9986, 0.9986, 0.9981,\n",
      "        1.0035, 0.9981, 0.9988, 0.9981, 0.9999, 0.9986]))]), 'divergences': {'chain 0': [1, 312, 389]}, 'acceptance rate': {'chain 0': 0.998}}\n",
      "Registering the results in:  SX_IJCAI_M/2024-01-11/iter-9_n-5_k-2_m-15_sigma_w-1.0_sigma_p-1.0_n_samples-500.yaml\n"
     ]
    },
    {
     "name": "stderr",
     "output_type": "stream",
     "text": [
      "Sample: 100%|████████████████████████████| 1000/1000 [02:09,  7.71it/s, step size=5.53e-02, acc. prob=0.629]\n"
     ]
    },
    {
     "name": "stdout",
     "output_type": "stream",
     "text": [
      "diag:  {'sigma': OrderedDict([('n_eff', tensor(48.7545)), ('r_hat', tensor(1.0334))]), 'w': OrderedDict([('n_eff', tensor([ 38.6591,  39.2830, 134.6445, 130.8691,  20.9453,  24.4124,  82.9099,\n",
      "         36.0752,  55.3916,  34.6663, 103.9790, 137.8846, 130.4383,  44.9332,\n",
      "         44.0592])), ('r_hat', tensor([1.0550, 1.0402, 1.0008, 1.0066, 1.0563, 1.0351, 1.0216, 1.0667, 1.0285,\n",
      "        1.0491, 1.0027, 0.9991, 0.9990, 1.0486, 1.0828]))]), 'divergences': {'chain 0': [55, 57, 96, 125, 135, 271, 272, 448]}, 'acceptance rate': {'chain 0': 0.876}}\n",
      "Registering the results in:  SX_IJCAI_M/2024-01-11/iter-9_n-5_k-2_m-16_sigma_w-1.0_sigma_p-1.0_n_samples-500.yaml\n"
     ]
    },
    {
     "name": "stderr",
     "output_type": "stream",
     "text": [
      "Sample: 100%|████████████████████████████| 1000/1000 [02:08,  7.78it/s, step size=5.54e-02, acc. prob=0.720]\n"
     ]
    },
    {
     "name": "stdout",
     "output_type": "stream",
     "text": [
      "diag:  {'sigma': OrderedDict([('n_eff', tensor(85.8668)), ('r_hat', tensor(1.0055))]), 'w': OrderedDict([('n_eff', tensor([ 42.0023,  67.9561,  76.4097,  72.2626,  77.5588,  63.2039,  77.0477,\n",
      "        100.0294,  78.4650,  69.7469,  93.4098,  72.9472,  72.1287,  90.7887,\n",
      "         86.5429])), ('r_hat', tensor([1.0200, 1.0013, 1.0085, 0.9983, 0.9981, 0.9983, 1.0261, 0.9996, 1.0193,\n",
      "        1.0149, 1.0077, 1.0042, 1.0061, 1.0116, 0.9988]))]), 'divergences': {'chain 0': [57, 233, 408, 462]}, 'acceptance rate': {'chain 0': 0.976}}\n",
      "Registering the results in:  SX_IJCAI_M/2024-01-11/iter-9_n-5_k-2_m-17_sigma_w-1.0_sigma_p-1.0_n_samples-500.yaml\n"
     ]
    },
    {
     "name": "stderr",
     "output_type": "stream",
     "text": [
      "Sample: 100%|████████████████████████████| 1000/1000 [02:43,  6.10it/s, step size=3.54e-02, acc. prob=0.746]\n"
     ]
    },
    {
     "name": "stdout",
     "output_type": "stream",
     "text": [
      "diag:  {'sigma': OrderedDict([('n_eff', tensor(24.5345)), ('r_hat', tensor(1.0090))]), 'w': OrderedDict([('n_eff', tensor([ 77.5404,  25.7451, 138.1321, 135.7695, 127.0901, 114.2097,  73.8971,\n",
      "         72.9397,  86.1593,  35.7188, 105.8219,  82.3113,  68.7481, 149.7539,\n",
      "         71.3635])), ('r_hat', tensor([1.0001, 1.0318, 1.0200, 1.0022, 1.0149, 0.9985, 1.0070, 1.0025, 1.0013,\n",
      "        1.0087, 1.0069, 1.0013, 1.0017, 1.0335, 1.0161]))]), 'divergences': {'chain 0': [212, 218, 278, 282, 286, 287, 288, 293, 294, 299, 307, 311, 344, 401]}, 'acceptance rate': {'chain 0': 0.97}}\n",
      "Registering the results in:  SX_IJCAI_M/2024-01-11/iter-9_n-5_k-2_m-18_sigma_w-1.0_sigma_p-1.0_n_samples-500.yaml\n"
     ]
    },
    {
     "name": "stderr",
     "output_type": "stream",
     "text": [
      "Sample: 100%|████████████████████████████| 1000/1000 [02:25,  6.89it/s, step size=4.25e-02, acc. prob=0.862]\n"
     ]
    },
    {
     "name": "stdout",
     "output_type": "stream",
     "text": [
      "diag:  {'sigma': OrderedDict([('n_eff', tensor(104.0903)), ('r_hat', tensor(1.0133))]), 'w': OrderedDict([('n_eff', tensor([263.5110, 167.7219, 165.9449, 232.4412, 179.3279, 182.8548, 198.0952,\n",
      "        270.3359, 202.7185, 210.8766, 255.3293, 182.0282, 134.0223, 116.8053,\n",
      "        175.3748])), ('r_hat', tensor([1.0230, 0.9980, 0.9992, 0.9990, 1.0165, 1.0099, 0.9980, 1.0204, 0.9995,\n",
      "        0.9981, 1.0016, 1.0119, 1.0019, 1.0073, 1.0158]))]), 'divergences': {'chain 0': [98, 162, 212, 262]}, 'acceptance rate': {'chain 0': 0.992}}\n",
      "Registering the results in:  SX_IJCAI_M/2024-01-11/iter-9_n-5_k-2_m-19_sigma_w-1.0_sigma_p-1.0_n_samples-500.yaml\n"
     ]
    },
    {
     "name": "stderr",
     "output_type": "stream",
     "text": [
      "Sample: 100%|████████████████████████████| 1000/1000 [02:07,  7.87it/s, step size=4.68e-02, acc. prob=0.817]\n"
     ]
    },
    {
     "name": "stdout",
     "output_type": "stream",
     "text": [
      "diag:  {'sigma': OrderedDict([('n_eff', tensor(156.0645)), ('r_hat', tensor(1.0133))]), 'w': OrderedDict([('n_eff', tensor([147.8837,  93.8145, 156.3840, 112.6371,  78.6073,  69.5424, 114.8965,\n",
      "        219.2703,  88.9033,  85.3148,  97.8810, 116.8417, 141.4692, 133.3864,\n",
      "         89.0184])), ('r_hat', tensor([0.9980, 1.0553, 1.0006, 1.0004, 1.0339, 1.0594, 1.0004, 0.9987, 1.0610,\n",
      "        1.0526, 1.0068, 0.9981, 1.0020, 1.0000, 1.0509]))]), 'divergences': {'chain 0': [98, 151, 285, 378]}, 'acceptance rate': {'chain 0': 0.986}}\n",
      "Registering the results in:  SX_IJCAI_M/2024-01-11/iter-9_n-5_k-2_m-20_sigma_w-1.0_sigma_p-1.0_n_samples-500.yaml\n"
     ]
    },
    {
     "name": "stderr",
     "output_type": "stream",
     "text": [
      "Sample: 100%|████████████████████████████| 1000/1000 [03:46,  4.41it/s, step size=1.98e-02, acc. prob=0.889]\n"
     ]
    },
    {
     "name": "stdout",
     "output_type": "stream",
     "text": [
      "diag:  {'sigma': OrderedDict([('n_eff', tensor(134.9507)), ('r_hat', tensor(1.0002))]), 'w': OrderedDict([('n_eff', tensor([103.5375, 107.3451,  86.1318, 121.7071, 178.0466,  93.4897, 186.5926,\n",
      "         87.3055,  50.2798, 126.5379,  97.3532, 146.0232,  82.3099, 208.7409,\n",
      "        143.2461])), ('r_hat', tensor([0.9988, 1.0084, 1.0074, 1.0146, 1.0020, 1.0052, 1.0043, 1.0081, 1.0162,\n",
      "        1.0087, 1.0167, 1.0128, 1.0145, 1.0064, 1.0076]))]), 'divergences': {'chain 0': [255, 400, 470, 471, 475, 477, 481]}, 'acceptance rate': {'chain 0': 0.99}}\n",
      "Registering the results in:  SX_IJCAI_M/2024-01-11/iter-9_n-5_k-2_m-21_sigma_w-1.0_sigma_p-1.0_n_samples-500.yaml\n"
     ]
    },
    {
     "name": "stderr",
     "output_type": "stream",
     "text": [
      "Sample: 100%|████████████████████████████| 1000/1000 [02:50,  5.88it/s, step size=2.67e-02, acc. prob=0.860]\n"
     ]
    },
    {
     "name": "stdout",
     "output_type": "stream",
     "text": [
      "diag:  {'sigma': OrderedDict([('n_eff', tensor(60.2980)), ('r_hat', tensor(1.0127))]), 'w': OrderedDict([('n_eff', tensor([165.8806,  57.9584, 121.4594, 102.8864, 108.9489,  62.5483, 133.4459,\n",
      "        119.2190, 156.1077, 118.5393,  45.7270,  71.5269,  44.0464, 211.3302,\n",
      "         61.1726])), ('r_hat', tensor([1.0211, 0.9982, 1.0304, 1.0560, 1.0357, 0.9983, 1.0408, 1.0292, 1.0257,\n",
      "        1.0000, 1.0885, 1.0557, 1.1219, 1.0007, 1.0707]))]), 'divergences': {'chain 0': [92, 117, 476, 480, 483, 490, 493, 494, 497, 498]}, 'acceptance rate': {'chain 0': 0.972}}\n",
      "Registering the results in:  SX_IJCAI_M/2024-01-11/iter-9_n-5_k-2_m-22_sigma_w-1.0_sigma_p-1.0_n_samples-500.yaml\n"
     ]
    },
    {
     "name": "stderr",
     "output_type": "stream",
     "text": [
      "Sample: 100%|████████████████████████████| 1000/1000 [01:56,  8.60it/s, step size=4.87e-02, acc. prob=0.771]\n"
     ]
    },
    {
     "name": "stdout",
     "output_type": "stream",
     "text": [
      "diag:  {'sigma': OrderedDict([('n_eff', tensor(110.3037)), ('r_hat', tensor(1.0065))]), 'w': OrderedDict([('n_eff', tensor([ 79.0471,  61.7128,  35.9403,  50.0678, 110.2231,  72.6390,  43.8534,\n",
      "         49.1643,  42.6324,  43.1188,  68.6297,  56.4405,  46.9633,  38.1809,\n",
      "         63.9020])), ('r_hat', tensor([1.0187, 1.0154, 1.0177, 1.0040, 1.0076, 1.0232, 1.0137, 1.0163, 1.0077,\n",
      "        1.0189, 1.0251, 1.0039, 1.0032, 1.0129, 1.0358]))]), 'divergences': {'chain 0': [60, 89, 141, 160, 322, 333, 462, 475]}, 'acceptance rate': {'chain 0': 0.978}}\n",
      "Registering the results in:  SX_IJCAI_M/2024-01-11/iter-9_n-5_k-2_m-23_sigma_w-1.0_sigma_p-1.0_n_samples-500.yaml\n"
     ]
    },
    {
     "name": "stderr",
     "output_type": "stream",
     "text": [
      "Sample: 100%|████████████████████████████| 1000/1000 [02:00,  8.29it/s, step size=5.35e-02, acc. prob=0.758]\n"
     ]
    },
    {
     "name": "stdout",
     "output_type": "stream",
     "text": [
      "diag:  {'sigma': OrderedDict([('n_eff', tensor(128.3326)), ('r_hat', tensor(1.0094))]), 'w': OrderedDict([('n_eff', tensor([ 85.3141,  59.1644, 105.3094,  88.5204,  68.9027,  51.5215,  55.5264,\n",
      "         81.2938,  63.2214, 144.1192,  54.4506, 101.4332,  72.1715, 123.4016,\n",
      "         71.5841])), ('r_hat', tensor([1.0026, 1.0004, 0.9982, 0.9994, 1.0137, 0.9989, 1.0009, 1.0066, 1.0186,\n",
      "        0.9980, 1.0013, 0.9985, 1.0068, 1.0051, 1.0081]))]), 'divergences': {'chain 0': [46, 249]}, 'acceptance rate': {'chain 0': 0.982}}\n",
      "Registering the results in:  SX_IJCAI_M/2024-01-11/iter-9_n-5_k-2_m-24_sigma_w-1.0_sigma_p-1.0_n_samples-500.yaml\n"
     ]
    },
    {
     "name": "stderr",
     "output_type": "stream",
     "text": [
      "Sample: 100%|████████████████████████████| 1000/1000 [01:40,  9.91it/s, step size=6.85e-02, acc. prob=0.783]\n"
     ]
    },
    {
     "name": "stdout",
     "output_type": "stream",
     "text": [
      "diag:  {'sigma': OrderedDict([('n_eff', tensor(124.6635)), ('r_hat', tensor(0.9992))]), 'w': OrderedDict([('n_eff', tensor([233.7252, 168.7699,  95.7467, 114.5340,  86.8384, 132.7518, 112.8023,\n",
      "        124.0509, 216.4895, 146.8073,  92.5619, 165.9608, 172.0408, 170.3928,\n",
      "        170.1761])), ('r_hat', tensor([0.9991, 1.0231, 1.0125, 1.0062, 1.0200, 1.0177, 1.0129, 1.0032, 0.9992,\n",
      "        1.0200, 1.0134, 1.0113, 1.0016, 0.9981, 1.0046]))]), 'divergences': {'chain 0': [27, 49, 50, 100, 174, 235, 393]}, 'acceptance rate': {'chain 0': 0.986}}\n",
      "Registering the results in:  SX_IJCAI_M/2024-01-11/iter-9_n-5_k-2_m-25_sigma_w-1.0_sigma_p-1.0_n_samples-500.yaml\n"
     ]
    },
    {
     "name": "stderr",
     "output_type": "stream",
     "text": [
      "Sample: 100%|████████████████████████████| 1000/1000 [02:56,  5.65it/s, step size=3.08e-02, acc. prob=0.879]\n"
     ]
    },
    {
     "name": "stdout",
     "output_type": "stream",
     "text": [
      "diag:  {'sigma': OrderedDict([('n_eff', tensor(81.9682)), ('r_hat', tensor(1.0206))]), 'w': OrderedDict([('n_eff', tensor([ 99.7723, 162.9813,  96.5161, 142.3020, 299.8560,  90.6763,  83.4694,\n",
      "        101.7231, 258.6258, 169.2026,  75.1779,  91.0000, 204.7356, 141.3534,\n",
      "         84.0096])), ('r_hat', tensor([0.9985, 0.9982, 1.0218, 1.0243, 1.0334, 0.9986, 1.0309, 0.9982, 1.0090,\n",
      "        1.0156, 1.0196, 0.9987, 0.9984, 1.0094, 1.0267]))]), 'divergences': {'chain 0': [116, 118, 215, 329]}, 'acceptance rate': {'chain 0': 0.994}}\n",
      "Registering the results in:  SX_IJCAI_M/2024-01-11/iter-9_n-5_k-2_m-26_sigma_w-1.0_sigma_p-1.0_n_samples-500.yaml\n"
     ]
    },
    {
     "name": "stderr",
     "output_type": "stream",
     "text": [
      "Sample: 100%|████████████████████████████| 1000/1000 [01:57,  8.54it/s, step size=4.20e-02, acc. prob=0.671]\n"
     ]
    },
    {
     "name": "stdout",
     "output_type": "stream",
     "text": [
      "diag:  {'sigma': OrderedDict([('n_eff', tensor(40.0319)), ('r_hat', tensor(1.0004))]), 'w': OrderedDict([('n_eff', tensor([14.7877, 22.7848, 14.7978, 14.4293, 12.8316, 88.1744, 16.6949, 14.2155,\n",
      "        15.6885, 16.8371, 18.6148, 21.2876, 40.9917, 35.1206, 13.3721])), ('r_hat', tensor([1.0034, 1.0118, 1.0128, 1.0047, 0.9995, 0.9982, 1.0125, 1.0096, 1.0006,\n",
      "        1.0076, 1.0073, 1.0209, 0.9980, 1.0016, 1.0022]))]), 'divergences': {'chain 0': [17, 202, 221, 256, 257, 415]}, 'acceptance rate': {'chain 0': 0.888}}\n",
      "Registering the results in:  SX_IJCAI_M/2024-01-11/iter-9_n-5_k-2_m-27_sigma_w-1.0_sigma_p-1.0_n_samples-500.yaml\n"
     ]
    },
    {
     "name": "stderr",
     "output_type": "stream",
     "text": [
      "Sample: 100%|████████████████████████████| 1000/1000 [03:03,  5.46it/s, step size=3.47e-02, acc. prob=0.907]\n"
     ]
    },
    {
     "name": "stdout",
     "output_type": "stream",
     "text": [
      "diag:  {'sigma': OrderedDict([('n_eff', tensor(163.6548)), ('r_hat', tensor(0.9998))]), 'w': OrderedDict([('n_eff', tensor([ 75.9052,  83.8543, 161.6180,  57.5352, 102.2831, 248.4968,  75.2083,\n",
      "        194.8841,  78.3644, 135.5752,  77.2699, 119.0313,  87.6639,  82.4126,\n",
      "        188.9586])), ('r_hat', tensor([1.0075, 0.9983, 1.0021, 1.0112, 0.9983, 0.9994, 1.0126, 0.9993, 1.0100,\n",
      "        1.0049, 0.9993, 0.9980, 1.0064, 1.0136, 1.0100]))]), 'divergences': {'chain 0': [78, 232, 234, 328, 366, 414, 421]}, 'acceptance rate': {'chain 0': 1.0}}\n",
      "Registering the results in:  SX_IJCAI_M/2024-01-11/iter-9_n-5_k-2_m-28_sigma_w-1.0_sigma_p-1.0_n_samples-500.yaml\n"
     ]
    },
    {
     "name": "stderr",
     "output_type": "stream",
     "text": [
      "Sample: 100%|████████████████████████████| 1000/1000 [02:06,  7.88it/s, step size=4.03e-02, acc. prob=0.830]\n"
     ]
    },
    {
     "name": "stdout",
     "output_type": "stream",
     "text": [
      "diag:  {'sigma': OrderedDict([('n_eff', tensor(96.8945)), ('r_hat', tensor(1.0032))]), 'w': OrderedDict([('n_eff', tensor([ 41.5253,  42.7829,  71.1600, 159.0720, 147.8173,  44.2391, 158.1042,\n",
      "         36.2255,  45.1735,  73.2582, 103.0777,  61.8523,  48.0839, 124.0706,\n",
      "         55.1873])), ('r_hat', tensor([0.9989, 0.9980, 1.0045, 1.0071, 0.9991, 0.9980, 0.9988, 0.9982, 0.9980,\n",
      "        1.0015, 0.9999, 0.9984, 0.9981, 0.9980, 1.0017]))]), 'divergences': {'chain 0': [15, 94, 302, 315, 389, 440, 445, 478]}, 'acceptance rate': {'chain 0': 0.996}}\n",
      "Registering the results in:  SX_IJCAI_M/2024-01-11/iter-9_n-5_k-2_m-29_sigma_w-1.0_sigma_p-1.0_n_samples-500.yaml\n"
     ]
    },
    {
     "name": "stderr",
     "output_type": "stream",
     "text": [
      "Sample: 100%|████████████████████████████| 1000/1000 [01:59,  8.34it/s, step size=5.28e-02, acc. prob=0.797]\n"
     ]
    },
    {
     "name": "stdout",
     "output_type": "stream",
     "text": [
      "diag:  {'sigma': OrderedDict([('n_eff', tensor(77.1480)), ('r_hat', tensor(0.9992))]), 'w': OrderedDict([('n_eff', tensor([ 70.9384,  81.7466,  80.1361,  94.9965,  83.4637, 109.4930,  59.6077,\n",
      "         61.7645, 104.2496, 109.3913,  61.1363,  61.4919,  59.6842, 139.7155,\n",
      "         59.2804])), ('r_hat', tensor([0.9999, 1.0051, 1.0056, 0.9990, 1.0004, 0.9985, 0.9982, 1.0000, 1.0005,\n",
      "        0.9980, 0.9987, 1.0075, 1.0045, 0.9991, 0.9986]))]), 'divergences': {'chain 0': [150, 165, 445, 454]}, 'acceptance rate': {'chain 0': 0.986}}\n",
      "Registering the results in:  SX_IJCAI_M/2024-01-11/iter-9_n-5_k-2_m-30_sigma_w-1.0_sigma_p-1.0_n_samples-500.yaml\n"
     ]
    },
    {
     "name": "stderr",
     "output_type": "stream",
     "text": [
      "Sample: 100%|████████████████████████████| 1000/1000 [01:35, 10.50it/s, step size=6.39e-02, acc. prob=0.602]\n"
     ]
    },
    {
     "name": "stdout",
     "output_type": "stream",
     "text": [
      "diag:  {'sigma': OrderedDict([('n_eff', tensor(28.0725)), ('r_hat', tensor(0.9998))]), 'w': OrderedDict([('n_eff', tensor([33.9384, 23.4947, 24.5053, 31.2950, 19.6168, 37.9207, 97.9975, 53.4489,\n",
      "        21.8863, 28.4518, 33.7703, 38.7008, 27.4975, 25.6221, 27.6981])), ('r_hat', tensor([1.0000, 1.0214, 1.0169, 1.0098, 1.0000, 1.0168, 1.0188, 0.9987, 1.0178,\n",
      "        1.0109, 1.0143, 1.0777, 1.0589, 1.0284, 1.0571]))]), 'divergences': {'chain 0': [88, 155, 192, 200, 202, 206, 210, 220, 221, 223, 234, 235, 237, 238, 239, 271, 323, 328, 337, 338, 340, 341, 344, 345, 347, 352, 353, 355, 359, 416, 419, 420, 423, 424, 431, 435, 437, 438, 439, 440, 441, 445, 449]}, 'acceptance rate': {'chain 0': 0.894}}\n",
      "Registering the results in:  SX_IJCAI_M/2024-01-11/iter-9_n-5_k-2_m-31_sigma_w-1.0_sigma_p-1.0_n_samples-500.yaml\n"
     ]
    },
    {
     "name": "stderr",
     "output_type": "stream",
     "text": [
      "Sample: 100%|████████████████████████████| 1000/1000 [02:08,  7.78it/s, step size=4.72e-02, acc. prob=0.672]\n"
     ]
    },
    {
     "name": "stdout",
     "output_type": "stream",
     "text": [
      "diag:  {'sigma': OrderedDict([('n_eff', tensor(36.0528)), ('r_hat', tensor(1.0652))]), 'w': OrderedDict([('n_eff', tensor([101.7566,  24.9560,  81.6162,  25.6054, 109.4676,  25.2702, 100.7412,\n",
      "         26.3813,  41.3086,  31.9919,  30.3724,  42.9845,  21.7805,  49.2399,\n",
      "         24.0477])), ('r_hat', tensor([0.9983, 1.0042, 1.0039, 1.0041, 0.9982, 1.0051, 1.0047, 1.0078, 1.0083,\n",
      "        1.0146, 1.0042, 1.0064, 1.0020, 1.0039, 1.0030]))]), 'divergences': {'chain 0': [4, 18, 38, 42, 58, 68, 72, 75, 78, 81, 83, 146, 225, 274, 443]}, 'acceptance rate': {'chain 0': 0.964}}\n"
     ]
    }
   ],
   "source": [
    "import time\n",
    "\n",
    "TEST_NAME = \"SX_IJCAI_M\"\n",
    "REPLACE = False\n",
    "\n",
    "n = 5\n",
    "sigma_weights = 1\n",
    "sigma_w_vals = np.linspace(1e-3, 1e1, 25)\n",
    "sigma_p_vals =  np.linspace(1e-3, 1e1, 25)\n",
    "n_samples = 500\n",
    "k=2\n",
    "\n",
    "for iter_ in range(10):\n",
    "    for sigma_w, sigma_p in zip([1], [1]):\n",
    "        for m in list(i for i in range(2, 2**n, 1)):\n",
    "            run_d = {\n",
    "                \"iter\":iter_,\n",
    "                \"n\": n,\n",
    "                \"k\": k,\n",
    "                \"m\": m,\n",
    "                \"sigma_w\": float(sigma_w),\n",
    "                \"sigma_p\": float(sigma_p),\n",
    "                \"n_samples\": n_samples\n",
    "            }\n",
    "            found = find_experiment_file(run_d, TEST_NAME)\n",
    "            if found:\n",
    "                date = found\n",
    "                print(f\"Found file: {file_name}\")\n",
    "                if REPLACE:\n",
    "                    print('Replacing it...')\n",
    "                else:\n",
    "                    continue\n",
    "            else:\n",
    "                file_name = compute_experiment_file_name(run_d, TEST_NAME)\n",
    "                print(\"Registering the results in: \", file_name)\n",
    "            ####\n",
    "            theta = generate_additive_theta(n, k)\n",
    "            weights = generate_normal_weights(theta, sigma_weights)\n",
    "            alternatives = generate_random_alternatives_matrix(m, n)\n",
    "            ranks = compute_ws_ranks(alternatives, theta, weights)\n",
    "            t_sv = compute_semivalues(n, theta, weights, lambda x:1)\n",
    "            preferences = PreferenceModel(alternatives, ranks)\n",
    "            data = preferences.generate_preference_matrix(theta)\n",
    "            data = torch.tensor(data).float()\n",
    "            t = time.time()\n",
    "            model = posterior_sampling_model(data, sigma_w=sigma_w, sigma_p=sigma_p)\n",
    "            diag, sampled_weights, sigmas = sample_model(model, data, \"w\", \"sigma\", warmup_steps=500, num_samples=n_samples, return_diag=True)\n",
    "            t = time.time() - t\n",
    "            accs_d = get_acc_distribution(data, sampled_weights, sigmas)\n",
    "            predicted_rankings = [np.argsort(compute_semivalues(n, theta, weights, lambda x:1))[::-1] for weights in sampled_weights]\n",
    "            kt_d = get_kt_distribution(predicted_rankings, np.argsort(t_sv))\n",
    "            ###\n",
    "            \n",
    "            file_path = record_experiment_results(run_d, TEST_NAME)\n",
    "            \n",
    "            run_d[\"time\"] = t\n",
    "            run_d[\"weights\"] = weights.tolist()\n",
    "            run_d[\"predicted_rankings\"] = [i.tolist() for i in predicted_rankings]\n",
    "            run_d[\"accuracy_distribution\"] = [i.tolist() for i in accs_d]\n",
    "            run_d[\"kt_d\"] = [i.tolist() for i in kt_d]\n",
    "            run_d[\"acceptance_rate\"] = diag[\"acceptance rate\"][\"chain 0\"]\n",
    "            run_d[\"w_eff\"] = [float(i) for i in diag[\"w\"][\"n_eff\"].numpy()]\n",
    "            run_d[\"w_rhat\"] = [float(i) for i in diag[\"w\"][\"r_hat\"].numpy()]\n",
    "            \n",
    "            print(\"diag: \", diag)\n",
    "            with open(file_path, 'w') as file:\n",
    "                yaml.dump(run_d, file, default_flow_style=False)\n"
   ]
  },
  {
   "cell_type": "code",
   "execution_count": null,
   "id": "f408ad62-8944-474a-8e0d-c6fd22cf1b8f",
   "metadata": {},
   "outputs": [],
   "source": []
  }
 ],
 "metadata": {
  "kernelspec": {
   "display_name": "Python 3 (ipykernel)",
   "language": "python",
   "name": "python3"
  },
  "language_info": {
   "codemirror_mode": {
    "name": "ipython",
    "version": 3
   },
   "file_extension": ".py",
   "mimetype": "text/x-python",
   "name": "python",
   "nbconvert_exporter": "python",
   "pygments_lexer": "ipython3",
   "version": "3.9.10"
  }
 },
 "nbformat": 4,
 "nbformat_minor": 5
}
