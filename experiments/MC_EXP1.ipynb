{
 "cells": [
  {
   "cell_type": "code",
   "execution_count": 1,
   "id": "aeafd4b1-ecc6-408a-9f64-581ef721361b",
   "metadata": {},
   "outputs": [
    {
     "name": "stdout",
     "output_type": "stream",
     "text": [
      "Cloning into 'Eunomia'...\n",
      "remote: Enumerating objects: 497, done.\u001b[K\n",
      "remote: Counting objects: 100% (497/497), done.\u001b[K\n",
      "remote: Compressing objects: 100% (188/188), done.\u001b[K\n",
      "remote: Total 497 (delta 372), reused 428 (delta 303), pack-reused 0\u001b[K\n",
      "Receiving objects: 100% (497/497), 3.26 MiB | 18.34 MiB/s, done.\n",
      "Resolving deltas: 100% (372/372), done.\n",
      "Requirement already satisfied: torch in /home/mohamed/miniconda3/lib/python3.9/site-packages (from -r Eunomia/requirements.txt (line 1)) (1.11.0)\n",
      "Requirement already satisfied: pyro-ppl in /home/mohamed/miniconda3/lib/python3.9/site-packages (from -r Eunomia/requirements.txt (line 2)) (1.8.6)\n",
      "Requirement already satisfied: cvxpy in /home/mohamed/miniconda3/lib/python3.9/site-packages (from -r Eunomia/requirements.txt (line 3)) (1.1.18)\n",
      "Requirement already satisfied: typing_extensions in /home/mohamed/miniconda3/lib/python3.9/site-packages (from torch->-r Eunomia/requirements.txt (line 1)) (4.8.0)\n",
      "Requirement already satisfied: opt-einsum>=2.3.2 in /home/mohamed/miniconda3/lib/python3.9/site-packages (from pyro-ppl->-r Eunomia/requirements.txt (line 2)) (3.3.0)\n",
      "Requirement already satisfied: numpy>=1.7 in /home/mohamed/miniconda3/lib/python3.9/site-packages (from pyro-ppl->-r Eunomia/requirements.txt (line 2)) (1.22.1)\n",
      "Requirement already satisfied: pyro-api>=0.1.1 in /home/mohamed/miniconda3/lib/python3.9/site-packages (from pyro-ppl->-r Eunomia/requirements.txt (line 2)) (0.1.2)\n",
      "Requirement already satisfied: tqdm>=4.36 in /home/mohamed/miniconda3/lib/python3.9/site-packages (from pyro-ppl->-r Eunomia/requirements.txt (line 2)) (4.62.3)\n",
      "Requirement already satisfied: scs>=1.1.6 in /home/mohamed/miniconda3/lib/python3.9/site-packages (from cvxpy->-r Eunomia/requirements.txt (line 3)) (3.1.0)\n",
      "Requirement already satisfied: scipy>=1.1.0 in /home/mohamed/miniconda3/lib/python3.9/site-packages (from cvxpy->-r Eunomia/requirements.txt (line 3)) (1.11.3)\n",
      "Requirement already satisfied: osqp>=0.4.1 in /home/mohamed/miniconda3/lib/python3.9/site-packages (from cvxpy->-r Eunomia/requirements.txt (line 3)) (0.6.2.post4)\n",
      "Requirement already satisfied: ecos>=2 in /home/mohamed/miniconda3/lib/python3.9/site-packages (from cvxpy->-r Eunomia/requirements.txt (line 3)) (2.0.10)\n",
      "Requirement already satisfied: qdldl in /home/mohamed/miniconda3/lib/python3.9/site-packages (from osqp>=0.4.1->cvxpy->-r Eunomia/requirements.txt (line 3)) (0.1.5.post0)\n"
     ]
    }
   ],
   "source": [
    "!rm -rf Eunomia\n",
    "!git clone https://github.com/ouaguenouni/Eunomia\n",
    "!pip install -r Eunomia/requirements.txt"
   ]
  },
  {
   "cell_type": "code",
   "execution_count": 68,
   "id": "f28e475d-1409-4d7d-b0d9-f268e7f1406f",
   "metadata": {},
   "outputs": [],
   "source": [
    "import matplotlib.pyplot as plt\n",
    "import numpy as np\n",
    "import pandas as pd\n",
    "import seaborn as sns\n",
    "from Eunomia.preferences import *\n",
    "from Eunomia.additive_functions import *\n",
    "from Eunomia.alternatives import *\n",
    "from Eunomia.sampling import *\n",
    "from Eunomia.mcmc import *\n",
    "from Eunomia.degree import *\n",
    "from Eunomia.experiments import *\n",
    "pyro.set_rng_seed(1)"
   ]
  },
  {
   "cell_type": "code",
   "execution_count": 232,
   "id": "c73de1fe-d6c0-4a29-b424-59a6f3a77f7a",
   "metadata": {},
   "outputs": [],
   "source": [
    "N_CHAMBERS = 2\n",
    "\n",
    "suffrages = np.random.randint(0,100,(N_CHAMBERS, N_PARTYS)).astype(float)\n",
    "\n",
    "suffrages = np.array([\n",
    "        np.array([100, 25, 15]),\n",
    "        np.array([100, 15, 25]),\n",
    "])\n",
    "\n",
    "N_PARTYS = suffrages.shape[1]\n",
    "\n",
    "def linear_scaling(x):\n",
    "    return x / x.sum()\n",
    "\n",
    "def pol_scaling(x , degree = 3):\n",
    "    y = np.power(x, degree)\n",
    "    return y / y.sum()\n",
    "\n",
    "\n",
    "def scale(suffrages, scaling_functions):\n",
    "    nsf = []\n",
    "    for i in range(suffrages.shape[0]):\n",
    "        nsf.append(scaling_functions[i](suffrages[i, :]))\n",
    "    return np.array(nsf)\n",
    "\n",
    "def evaluate_coalition(coalition, effectifs):\n",
    "    return np.where(effectifs[:, coalition].sum(axis = 1) > 0.5)[0].shape[0]\n",
    "\n",
    "def compute_data(n_partis, evaluation_function, effectifs):\n",
    "    alternatives = [sparse_to_alt(tuple(i), n_partis) for i in generate_additive_theta(n_partis,n_partis - 1)]\n",
    "    theta = [tuple(i) for i in generate_additive_theta(n_partis,n_partis-1)]\n",
    "    ranks = []\n",
    "    for a in alternatives:\n",
    "        ranks.append(evaluation_function(alt_to_sparse(a), effectifs))\n",
    "    alternatives = np.array(alternatives)\n",
    "    ranks = np.array(ranks)\n",
    "    preferences = PreferenceModel(alternatives, ranks)\n",
    "    data = preferences.generate_preference_matrix(theta)\n",
    "    data = torch.tensor(data).float()\n",
    "    return data ,theta\n"
   ]
  },
  {
   "cell_type": "code",
   "execution_count": 233,
   "id": "d3352a86-171b-460c-b2c6-4ed5ac6f9c30",
   "metadata": {},
   "outputs": [
    {
     "data": {
      "text/plain": [
       "tensor([[-1.,  1.,  0.,  0.,  0.,  0.],\n",
       "        [-1.,  0.,  0., -1.,  0.,  0.],\n",
       "        [-1.,  1., -1.,  0., -1.,  0.],\n",
       "        [-1.,  0.,  1.,  0.,  0.,  0.],\n",
       "        [-1., -1.,  1., -1.,  0.,  0.],\n",
       "        [-1.,  0.,  0.,  0., -1.,  0.],\n",
       "        [-1.,  1.,  1.,  0.,  0.,  1.],\n",
       "        [-1.,  0.,  1., -1.,  0.,  1.],\n",
       "        [-1.,  1.,  0.,  0., -1.,  1.]])"
      ]
     },
     "execution_count": 233,
     "metadata": {},
     "output_type": "execute_result"
    }
   ],
   "source": [
    "effectifs = scale(suffrages, [linear_scaling, linear_scaling])\n",
    "data, theta = compute_data(effectifs.shape[1], evaluate_coalition,effectifs)\n",
    "data"
   ]
  },
  {
   "cell_type": "code",
   "execution_count": 234,
   "id": "ba93f6c1-3359-4967-a20f-6be05c3d9880",
   "metadata": {},
   "outputs": [
    {
     "name": "stderr",
     "output_type": "stream",
     "text": [
      "Sample: 100%|████████████████████████████| 2500/2500 [00:42, 58.31it/s, step size=2.23e-01, acc. prob=0.911]\n"
     ]
    }
   ],
   "source": [
    "sigma_w = 1e-1\n",
    "sigma_p = 1\n",
    "n_samples = 1500\n",
    "\n",
    "model = posterior_sampling_model(data, sigma_w=sigma_w, sigma_p=sigma_p)\n",
    "diag, sampled_weights, sigmas = sample_model(model, data, \"w\", \"sigma\", warmup_steps=1000, num_samples=n_samples, return_diag=True)"
   ]
  },
  {
   "cell_type": "code",
   "execution_count": 235,
   "id": "d1e8e17e-0b03-4f3f-8259-4216343d771a",
   "metadata": {},
   "outputs": [
    {
     "data": {
      "text/plain": [
       "(array([   6.,    2.,    3.,    4.,   18.,   23.,   25.,   69.,  178.,\n",
       "        1172.]),\n",
       " array([0. , 0.1, 0.2, 0.3, 0.4, 0.5, 0.6, 0.7, 0.8, 0.9, 1. ],\n",
       "       dtype=float32),\n",
       " <BarContainer object of 10 artists>)"
      ]
     },
     "execution_count": 235,
     "metadata": {},
     "output_type": "execute_result"
    },
    {
     "data": {
      "image/png": "[encoded data removed]",
      "text/plain": [
       "<Figure size 432x288 with 1 Axes>"
      ]
     },
     "metadata": {
      "needs_background": "light"
     },
     "output_type": "display_data"
    }
   ],
   "source": [
    "accs_d = get_acc_distribution(data, sampled_weights, sigmas)\n",
    "plt.hist(accs_d)"
   ]
  },
  {
   "cell_type": "code",
   "execution_count": 236,
   "id": "ad3026cd-3ed5-4b36-967a-40651931e31e",
   "metadata": {},
   "outputs": [],
   "source": [
    "svs = np.array([-compute_semivalues(N_PARTYS, theta, weights, lambda x:1)[::-1] for weights in sampled_weights])"
   ]
  },
  {
   "cell_type": "code",
   "execution_count": 241,
   "id": "911ae440-a244-4895-adf5-930abdeec420",
   "metadata": {},
   "outputs": [],
   "source": [
    "means, stds = svs.mean(axis = 0), svs.std(axis = 0)"
   ]
  },
  {
   "cell_type": "code",
   "execution_count": 242,
   "id": "f3c14b98-85ca-4705-b1b8-f889aaa24c7d",
   "metadata": {},
   "outputs": [
    {
     "data": {
      "text/plain": [
       "array([0, 1, 2])"
      ]
     },
     "execution_count": 242,
     "metadata": {},
     "output_type": "execute_result"
    }
   ],
   "source": [
    "np.argsort(means)"
   ]
  },
  {
   "cell_type": "code",
   "execution_count": 243,
   "id": "87ded4c5-ea0b-4336-88f0-8cab78ac32f0",
   "metadata": {},
   "outputs": [
    {
     "data": {
      "text/plain": [
       "tensor([[-0.1459,  0.0617,  0.1138,  0.0521, -0.1102, -0.0916],\n",
       "        [-0.0937, -0.0704,  0.0497,  0.0229, -0.0653, -0.0128],\n",
       "        [-0.1204,  0.0633,  0.0496, -0.1188, -0.0332,  0.1496],\n",
       "        ...,\n",
       "        [-0.0863,  0.0930,  0.0023, -0.0594, -0.0189, -0.1008],\n",
       "        [-0.0828,  0.0588,  0.0444, -0.0028, -0.0188, -0.0510],\n",
       "        [-0.0757,  0.0916, -0.0141, -0.1859, -0.0310,  0.0394]])"
      ]
     },
     "execution_count": 243,
     "metadata": {},
     "output_type": "execute_result"
    }
   ],
   "source": [
    "sampled_weights"
   ]
  },
  {
   "cell_type": "code",
   "execution_count": 244,
   "id": "4f7c4770-4031-4e75-9334-6f380c53072c",
   "metadata": {},
   "outputs": [
    {
     "data": {
      "text/plain": [
       "array([-0.11878509, -0.10445889,  0.69388994])"
      ]
     },
     "execution_count": 244,
     "metadata": {},
     "output_type": "execute_result"
    }
   ],
   "source": [
    "means"
   ]
  },
  {
   "cell_type": "code",
   "execution_count": null,
   "id": "7e52b203-76a8-40d3-82db-e50faeb8916c",
   "metadata": {},
   "outputs": [],
   "source": []
  }
 ],
 "metadata": {
  "kernelspec": {
   "display_name": "Python 3 (ipykernel)",
   "language": "python",
   "name": "python3"
  },
  "language_info": {
   "codemirror_mode": {
    "name": "ipython",
    "version": 3
   },
   "file_extension": ".py",
   "mimetype": "text/x-python",
   "name": "python",
   "nbconvert_exporter": "python",
   "pygments_lexer": "ipython3",
   "version": "3.9.10"
  }
 },
 "nbformat": 4,
 "nbformat_minor": 5
}
