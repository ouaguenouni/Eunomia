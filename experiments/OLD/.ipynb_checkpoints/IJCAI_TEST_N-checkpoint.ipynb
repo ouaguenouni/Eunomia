{
 "cells": [
  {
   "cell_type": "code",
   "execution_count": 1,
   "id": "bf609d15-3374-4a11-b70d-ec4022f5174e",
   "metadata": {},
   "outputs": [
    {
     "name": "stdout",
     "output_type": "stream",
     "text": [
      "Cloning into 'Eunomia'...\n",
      "remote: Enumerating objects: 532, done.\u001b[K\n",
      "remote: Counting objects: 100% (532/532), done.\u001b[K\n",
      "remote: Compressing objects: 100% (204/204), done.\u001b[K\n",
      "remote: Total 532 (delta 396), reused 458 (delta 322), pack-reused 0\u001b[K\n",
      "Receiving objects: 100% (532/532), 3.49 MiB | 2.26 MiB/s, done.\n",
      "Resolving deltas: 100% (396/396), done.\n",
      "Requirement already satisfied: torch in /home/mohamed/miniconda3/lib/python3.9/site-packages (from -r Eunomia/requirements.txt (line 1)) (1.11.0)\n",
      "Requirement already satisfied: pyro-ppl in /home/mohamed/miniconda3/lib/python3.9/site-packages (from -r Eunomia/requirements.txt (line 2)) (1.8.6)\n",
      "Requirement already satisfied: cvxpy in /home/mohamed/miniconda3/lib/python3.9/site-packages (from -r Eunomia/requirements.txt (line 3)) (1.1.18)\n",
      "Requirement already satisfied: typing_extensions in /home/mohamed/miniconda3/lib/python3.9/site-packages (from torch->-r Eunomia/requirements.txt (line 1)) (4.8.0)\n",
      "Requirement already satisfied: numpy>=1.7 in /home/mohamed/miniconda3/lib/python3.9/site-packages (from pyro-ppl->-r Eunomia/requirements.txt (line 2)) (1.26.2)\n",
      "Requirement already satisfied: pyro-api>=0.1.1 in /home/mohamed/miniconda3/lib/python3.9/site-packages (from pyro-ppl->-r Eunomia/requirements.txt (line 2)) (0.1.2)\n",
      "Requirement already satisfied: tqdm>=4.36 in /home/mohamed/miniconda3/lib/python3.9/site-packages (from pyro-ppl->-r Eunomia/requirements.txt (line 2)) (4.62.3)\n",
      "Requirement already satisfied: opt-einsum>=2.3.2 in /home/mohamed/miniconda3/lib/python3.9/site-packages (from pyro-ppl->-r Eunomia/requirements.txt (line 2)) (3.3.0)\n",
      "Requirement already satisfied: scs>=1.1.6 in /home/mohamed/miniconda3/lib/python3.9/site-packages (from cvxpy->-r Eunomia/requirements.txt (line 3)) (3.1.0)\n",
      "Requirement already satisfied: ecos>=2 in /home/mohamed/miniconda3/lib/python3.9/site-packages (from cvxpy->-r Eunomia/requirements.txt (line 3)) (2.0.10)\n",
      "Requirement already satisfied: osqp>=0.4.1 in /home/mohamed/miniconda3/lib/python3.9/site-packages (from cvxpy->-r Eunomia/requirements.txt (line 3)) (0.6.2.post4)\n",
      "Requirement already satisfied: scipy>=1.1.0 in /home/mohamed/miniconda3/lib/python3.9/site-packages (from cvxpy->-r Eunomia/requirements.txt (line 3)) (1.11.3)\n",
      "Requirement already satisfied: qdldl in /home/mohamed/miniconda3/lib/python3.9/site-packages (from osqp>=0.4.1->cvxpy->-r Eunomia/requirements.txt (line 3)) (0.1.5.post0)\n"
     ]
    }
   ],
   "source": [
    "!rm -rf Eunomia\n",
    "!git clone https://github.com/ouaguenouni/Eunomia\n",
    "!pip install -r Eunomia/requirements.txt"
   ]
  },
  {
   "cell_type": "code",
   "execution_count": 2,
   "id": "3abe93fb-ed5a-4118-9efd-7297135edd50",
   "metadata": {},
   "outputs": [],
   "source": [
    "import matplotlib.pyplot as plt\n",
    "import numpy as np\n",
    "import pandas as pd\n",
    "import seaborn as sns\n",
    "from Eunomia.preferences import *\n",
    "from Eunomia.additive_functions import *\n",
    "from Eunomia.alternatives import *\n",
    "from Eunomia.sampling import *\n",
    "from Eunomia.mcmc import *\n",
    "from Eunomia.degree import *\n",
    "from Eunomia.experiments import *\n"
   ]
  },
  {
   "cell_type": "code",
   "execution_count": null,
   "id": "f047e255-1b7c-478d-96cf-b4f87f1cdc6c",
   "metadata": {},
   "outputs": [],
   "source": []
  },
  {
   "cell_type": "code",
   "execution_count": null,
   "id": "96e83ae8-91c1-4721-b8be-bf3789a45c57",
   "metadata": {},
   "outputs": [
    {
     "name": "stdout",
     "output_type": "stream",
     "text": [
      "Registering the results in:  SX_IJCAI_N/2024-01-10/iter_-0_n-3_k-2_m-2_sigma_w-0.1_sigma_p-0.1_n_samples-1500.yaml\n"
     ]
    },
    {
     "name": "stderr",
     "output_type": "stream",
     "text": [
      "Sample: 100%|████████████████████████████| 2000/2000 [00:33, 59.75it/s, step size=4.92e-01, acc. prob=0.924]\n"
     ]
    },
    {
     "name": "stdout",
     "output_type": "stream",
     "text": [
      "diag:  {'sigma': OrderedDict([('n_eff', tensor(2584.6416)), ('r_hat', tensor(0.9993))]), 'w': OrderedDict([('n_eff', tensor([1642.0078, 2521.9099, 1660.2947, 2582.3491, 2446.3093, 2019.7679])), ('r_hat', tensor([0.9994, 0.9997, 0.9994, 0.9993, 0.9996, 1.0000]))]), 'divergences': {'chain 0': [96]}, 'acceptance rate': {'chain 0': 0.9973333333333333}}\n",
      "Registering the results in:  SX_IJCAI_N/2024-01-10/iter_-1_n-3_k-2_m-2_sigma_w-0.1_sigma_p-0.1_n_samples-1500.yaml\n"
     ]
    },
    {
     "name": "stderr",
     "output_type": "stream",
     "text": [
      "Sample: 100%|████████████████████████████| 2000/2000 [00:33, 59.45it/s, step size=6.72e-01, acc. prob=0.871]\n"
     ]
    },
    {
     "name": "stdout",
     "output_type": "stream",
     "text": [
      "diag:  {'sigma': OrderedDict([('n_eff', tensor(1997.1476)), ('r_hat', tensor(0.9995))]), 'w': OrderedDict([('n_eff', tensor([2260.4368, 2549.9597, 2221.9932, 2413.0698, 2153.3391, 2517.7051])), ('r_hat', tensor([1.0001, 0.9998, 0.9993, 0.9996, 1.0001, 0.9994]))]), 'divergences': {'chain 0': [155]}, 'acceptance rate': {'chain 0': 0.9826666666666667}}\n",
      "Registering the results in:  SX_IJCAI_N/2024-01-10/iter_-2_n-3_k-2_m-2_sigma_w-0.1_sigma_p-0.1_n_samples-1500.yaml\n"
     ]
    },
    {
     "name": "stderr",
     "output_type": "stream",
     "text": [
      "Sample: 100%|████████████████████████████| 2000/2000 [00:34, 57.52it/s, step size=6.58e-01, acc. prob=0.885]\n"
     ]
    },
    {
     "name": "stdout",
     "output_type": "stream",
     "text": [
      "diag:  {'sigma': OrderedDict([('n_eff', tensor(2301.2405)), ('r_hat', tensor(0.9999))]), 'w': OrderedDict([('n_eff', tensor([2033.2728, 2891.5645, 1844.6996, 1891.0790, 1949.8398, 1636.3451])), ('r_hat', tensor([0.9995, 0.9994, 0.9996, 0.9996, 1.0018, 0.9993]))]), 'divergences': {'chain 0': []}, 'acceptance rate': {'chain 0': 0.9913333333333333}}\n",
      "Registering the results in:  SX_IJCAI_N/2024-01-10/iter_-3_n-3_k-2_m-2_sigma_w-0.1_sigma_p-0.1_n_samples-1500.yaml\n"
     ]
    },
    {
     "name": "stderr",
     "output_type": "stream",
     "text": [
      "Sample: 100%|████████████████████████████| 2000/2000 [00:36, 54.96it/s, step size=6.03e-01, acc. prob=0.904]\n"
     ]
    },
    {
     "name": "stdout",
     "output_type": "stream",
     "text": [
      "diag:  {'sigma': OrderedDict([('n_eff', tensor(1753.8198)), ('r_hat', tensor(1.0037))]), 'w': OrderedDict([('n_eff', tensor([2796.8081, 2599.4597, 2700.9788, 2355.8176, 1942.6086, 1997.6111])), ('r_hat', tensor([0.9997, 0.9994, 0.9993, 0.9993, 0.9994, 0.9995]))]), 'divergences': {'chain 0': []}, 'acceptance rate': {'chain 0': 0.9926666666666667}}\n",
      "Registering the results in:  SX_IJCAI_N/2024-01-10/iter_-4_n-3_k-2_m-2_sigma_w-0.1_sigma_p-0.1_n_samples-1500.yaml\n"
     ]
    },
    {
     "name": "stderr",
     "output_type": "stream",
     "text": [
      "Sample: 100%|████████████████████████████| 2000/2000 [00:32, 61.96it/s, step size=6.35e-01, acc. prob=0.894]\n"
     ]
    },
    {
     "name": "stdout",
     "output_type": "stream",
     "text": [
      "diag:  {'sigma': OrderedDict([('n_eff', tensor(2324.5054)), ('r_hat', tensor(0.9993))]), 'w': OrderedDict([('n_eff', tensor([2226.0444, 1939.3562, 1992.3121, 1686.6060, 2424.5769, 2283.7451])), ('r_hat', tensor([0.9995, 0.9994, 0.9996, 0.9997, 0.9998, 0.9993]))]), 'divergences': {'chain 0': []}, 'acceptance rate': {'chain 0': 0.99}}\n",
      "Registering the results in:  SX_IJCAI_N/2024-01-10/iter_-5_n-3_k-2_m-2_sigma_w-0.1_sigma_p-0.1_n_samples-1500.yaml\n"
     ]
    },
    {
     "name": "stderr",
     "output_type": "stream",
     "text": [
      "Sample: 100%|████████████████████████████| 2000/2000 [00:36, 54.34it/s, step size=5.47e-01, acc. prob=0.924]\n"
     ]
    },
    {
     "name": "stdout",
     "output_type": "stream",
     "text": [
      "diag:  {'sigma': OrderedDict([('n_eff', tensor(2091.8162)), ('r_hat', tensor(0.9993))]), 'w': OrderedDict([('n_eff', tensor([2761.1511, 2773.7629, 2378.4236, 1913.7307, 2157.8242, 2092.1528])), ('r_hat', tensor([0.9994, 0.9993, 0.9996, 0.9996, 1.0002, 0.9994]))]), 'divergences': {'chain 0': [98, 99]}, 'acceptance rate': {'chain 0': 0.9953333333333333}}\n",
      "Registering the results in:  SX_IJCAI_N/2024-01-10/iter_-6_n-3_k-2_m-2_sigma_w-0.1_sigma_p-0.1_n_samples-1500.yaml\n"
     ]
    },
    {
     "name": "stderr",
     "output_type": "stream",
     "text": [
      "Warmup:   4%|█▏                            | 80/2000 [00:02, 40.58it/s, step size=6.48e-02, acc. prob=0.781]"
     ]
    }
   ],
   "source": [
    "import time\n",
    "\n",
    "TEST_NAME = \"SX_IJCAI_N\"\n",
    "REPLACE = False\n",
    "sigma_weights = 1\n",
    "n = 5\n",
    "sigma_w = 1e-1\n",
    "sigma_p = 1e-1\n",
    "n_samples = 1500\n",
    "k=2\n",
    "for n in np.arange(3,20):\n",
    "    m = 2**(n//2)\n",
    "    for iter_ in range(10):\n",
    "        run_d = {\n",
    "            \"iter_\":iter_,\n",
    "            \"n\": n,\n",
    "            \"k\": k,\n",
    "            \"m\": m,\n",
    "            \"sigma_w\": float(sigma_w),\n",
    "            \"sigma_p\": float(sigma_p),\n",
    "            \"n_samples\": n_samples\n",
    "        }\n",
    "        found = find_experiment_file(run_d, TEST_NAME)\n",
    "        if found:\n",
    "            date = found\n",
    "            print(f\"Found file: {file_name}\")\n",
    "            if REPLACE:\n",
    "                print('Replacing it...')\n",
    "            else:\n",
    "                continue\n",
    "        else:\n",
    "            file_name = compute_experiment_file_name(run_d, TEST_NAME)\n",
    "            print(\"Registering the results in: \", file_name)\n",
    "        ####\n",
    "        theta = generate_additive_theta(n, k)\n",
    "        weights = generate_normal_weights(theta, sigma_weights)\n",
    "        alternatives = generate_random_alternatives_matrix(m, n)\n",
    "        ranks = compute_ws_ranks(alternatives, theta, weights)\n",
    "        t_sv = compute_semivalues(n, theta, weights, lambda x:1)\n",
    "        preferences = PreferenceModel(alternatives, ranks)\n",
    "        data = preferences.generate_preference_matrix(theta)\n",
    "        data = torch.tensor(data).float()\n",
    "        t = time.time()\n",
    "        model = posterior_sampling_model(data, sigma_w=sigma_w, sigma_p=sigma_p)\n",
    "        diag, sampled_weights, sigmas = sample_model(model, data, \"w\", \"sigma\", warmup_steps=500, num_samples=n_samples, return_diag=True)\n",
    "        t = time.time() - t\n",
    "        accs_d = get_acc_distribution(data, sampled_weights, sigmas)\n",
    "        predicted_rankings = [np.argsort(compute_semivalues(n, theta, weights, lambda x:1))[::-1] for weights in sampled_weights]\n",
    "        kt_d = get_kt_distribution(predicted_rankings, np.argsort(t_sv))\n",
    "        ###\n",
    "        \n",
    "        file_path = record_experiment_results(run_d, TEST_NAME)\n",
    "        \n",
    "        run_d[\"time\"] = t\n",
    "        run_d[\"weights\"] = weights.tolist()\n",
    "        run_d[\"predicted_rankings\"] = [i.tolist() for i in predicted_rankings]\n",
    "        run_d[\"accuracy_distribution\"] = [i.tolist() for i in accs_d]\n",
    "        run_d[\"kt_d\"] = [i.tolist() for i in kt_d]\n",
    "        run_d[\"acceptance_rate\"] = diag[\"acceptance rate\"][\"chain 0\"]\n",
    "        run_d[\"w_eff\"] = [float(i) for i in diag[\"w\"][\"n_eff\"].numpy()]\n",
    "        run_d[\"w_rhat\"] = [float(i) for i in diag[\"w\"][\"r_hat\"].numpy()]\n",
    "        \n",
    "        print(\"diag: \", diag)\n",
    "        with open(file_path, 'w') as file:\n",
    "            yaml.dump(run_d, file, default_flow_style=False)\n"
   ]
  },
  {
   "cell_type": "code",
   "execution_count": null,
   "id": "f408ad62-8944-474a-8e0d-c6fd22cf1b8f",
   "metadata": {},
   "outputs": [],
   "source": []
  }
 ],
 "metadata": {
  "kernelspec": {
   "display_name": "Python 3 (ipykernel)",
   "language": "python",
   "name": "python3"
  },
  "language_info": {
   "codemirror_mode": {
    "name": "ipython",
    "version": 3
   },
   "file_extension": ".py",
   "mimetype": "text/x-python",
   "name": "python",
   "nbconvert_exporter": "python",
   "pygments_lexer": "ipython3",
   "version": "3.9.10"
  }
 },
 "nbformat": 4,
 "nbformat_minor": 5
}
