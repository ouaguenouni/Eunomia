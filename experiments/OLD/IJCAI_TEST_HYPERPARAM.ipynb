{
 "cells": [
  {
   "cell_type": "code",
   "execution_count": 1,
   "id": "bf609d15-3374-4a11-b70d-ec4022f5174e",
   "metadata": {},
   "outputs": [
    {
     "name": "stdout",
     "output_type": "stream",
     "text": [
      "Cloning into 'Eunomia'...\n",
      "remote: Enumerating objects: 532, done.\u001b[K\n",
      "remote: Counting objects: 100% (532/532), done.\u001b[K\n",
      "remote: Compressing objects: 100% (204/204), done.\u001b[K\n",
      "remote: Total 532 (delta 396), reused 458 (delta 322), pack-reused 0\u001b[K\n",
      "Receiving objects: 100% (532/532), 3.49 MiB | 9.87 MiB/s, done.\n",
      "Resolving deltas: 100% (396/396), done.\n",
      "Requirement already satisfied: torch in /home/mohamed/miniconda3/lib/python3.9/site-packages (from -r Eunomia/requirements.txt (line 1)) (1.11.0)\n",
      "Requirement already satisfied: pyro-ppl in /home/mohamed/miniconda3/lib/python3.9/site-packages (from -r Eunomia/requirements.txt (line 2)) (1.8.6)\n",
      "Requirement already satisfied: cvxpy in /home/mohamed/miniconda3/lib/python3.9/site-packages (from -r Eunomia/requirements.txt (line 3)) (1.1.18)\n",
      "Requirement already satisfied: typing_extensions in /home/mohamed/miniconda3/lib/python3.9/site-packages (from torch->-r Eunomia/requirements.txt (line 1)) (4.8.0)\n",
      "Requirement already satisfied: pyro-api>=0.1.1 in /home/mohamed/miniconda3/lib/python3.9/site-packages (from pyro-ppl->-r Eunomia/requirements.txt (line 2)) (0.1.2)\n",
      "Requirement already satisfied: numpy>=1.7 in /home/mohamed/miniconda3/lib/python3.9/site-packages (from pyro-ppl->-r Eunomia/requirements.txt (line 2)) (1.26.2)\n",
      "Requirement already satisfied: opt-einsum>=2.3.2 in /home/mohamed/miniconda3/lib/python3.9/site-packages (from pyro-ppl->-r Eunomia/requirements.txt (line 2)) (3.3.0)\n",
      "Requirement already satisfied: tqdm>=4.36 in /home/mohamed/miniconda3/lib/python3.9/site-packages (from pyro-ppl->-r Eunomia/requirements.txt (line 2)) (4.62.3)\n",
      "Requirement already satisfied: ecos>=2 in /home/mohamed/miniconda3/lib/python3.9/site-packages (from cvxpy->-r Eunomia/requirements.txt (line 3)) (2.0.10)\n",
      "Requirement already satisfied: scipy>=1.1.0 in /home/mohamed/miniconda3/lib/python3.9/site-packages (from cvxpy->-r Eunomia/requirements.txt (line 3)) (1.11.3)\n",
      "Requirement already satisfied: osqp>=0.4.1 in /home/mohamed/miniconda3/lib/python3.9/site-packages (from cvxpy->-r Eunomia/requirements.txt (line 3)) (0.6.2.post4)\n",
      "Requirement already satisfied: scs>=1.1.6 in /home/mohamed/miniconda3/lib/python3.9/site-packages (from cvxpy->-r Eunomia/requirements.txt (line 3)) (3.1.0)\n",
      "Requirement already satisfied: qdldl in /home/mohamed/miniconda3/lib/python3.9/site-packages (from osqp>=0.4.1->cvxpy->-r Eunomia/requirements.txt (line 3)) (0.1.5.post0)\n"
     ]
    }
   ],
   "source": [
    "!rm -rf Eunomia\n",
    "!git clone https://github.com/ouaguenouni/Eunomia\n",
    "!pip install -r Eunomia/requirements.txt"
   ]
  },
  {
   "cell_type": "code",
   "execution_count": 2,
   "id": "3abe93fb-ed5a-4118-9efd-7297135edd50",
   "metadata": {},
   "outputs": [],
   "source": [
    "import matplotlib.pyplot as plt\n",
    "import numpy as np\n",
    "import pandas as pd\n",
    "import seaborn as sns\n",
    "from Eunomia.preferences import *\n",
    "from Eunomia.additive_functions import *\n",
    "from Eunomia.alternatives import *\n",
    "from Eunomia.sampling import *\n",
    "from Eunomia.mcmc import *\n",
    "from Eunomia.degree import *\n",
    "from Eunomia.experiments import *\n"
   ]
  },
  {
   "cell_type": "code",
   "execution_count": null,
   "id": "f047e255-1b7c-478d-96cf-b4f87f1cdc6c",
   "metadata": {},
   "outputs": [],
   "source": []
  },
  {
   "cell_type": "code",
   "execution_count": null,
   "id": "96e83ae8-91c1-4721-b8be-bf3789a45c57",
   "metadata": {},
   "outputs": [
    {
     "name": "stdout",
     "output_type": "stream",
     "text": [
      "Registering the results in:  SX_IJCAI_HYPERPARAMETER_NOISY_3/2024-01-11/iter-0_n-4_k-2_m-8_sigma_w-0.01_sigma_p-0.01_n_samples-500.yaml\n"
     ]
    },
    {
     "name": "stderr",
     "output_type": "stream",
     "text": [
      "Sample: 100%|████████████████████████████| 1000/1000 [00:27, 36.96it/s, step size=5.10e-01, acc. prob=0.909]\n"
     ]
    },
    {
     "name": "stdout",
     "output_type": "stream",
     "text": [
      "diag:  {'sigma': OrderedDict([('n_eff', tensor(682.9730)), ('r_hat', tensor(0.9983))]), 'w': OrderedDict([('n_eff', tensor([ 910.5498, 1039.2109, 1440.6317, 1407.9006, 1163.0095,  939.8123,\n",
      "         944.0267,  989.1652, 1221.2603, 1036.0496])), ('r_hat', tensor([0.9983, 0.9983, 0.9980, 0.9980, 0.9982, 1.0002, 0.9991, 0.9986, 1.0039,\n",
      "        0.9980]))]), 'divergences': {'chain 0': []}, 'acceptance rate': {'chain 0': 1.0}}\n",
      "Registering the results in:  SX_IJCAI_HYPERPARAMETER_NOISY_3/2024-01-11/iter-0_n-4_k-2_m-8_sigma_w-0.01_sigma_p-0.23111111111111113_n_samples-500.yaml\n"
     ]
    },
    {
     "name": "stderr",
     "output_type": "stream",
     "text": [
      "Sample: 100%|████████████████████████████| 1000/1000 [01:06, 15.01it/s, step size=1.57e-01, acc. prob=0.784]\n"
     ]
    },
    {
     "name": "stdout",
     "output_type": "stream",
     "text": [
      "diag:  {'sigma': OrderedDict([('n_eff', tensor(95.3773)), ('r_hat', tensor(1.0092))]), 'w': OrderedDict([('n_eff', tensor([304.6518, 193.1476, 202.6935, 301.1165, 291.3003, 131.5648, 215.4104,\n",
      "        348.2952, 221.9003, 127.0905])), ('r_hat', tensor([0.9982, 1.0011, 1.0052, 0.9984, 1.0033, 1.0124, 1.0106, 0.9987, 0.9983,\n",
      "        1.0001]))]), 'divergences': {'chain 0': [375]}, 'acceptance rate': {'chain 0': 0.972}}\n",
      "Registering the results in:  SX_IJCAI_HYPERPARAMETER_NOISY_3/2024-01-11/iter-0_n-4_k-2_m-8_sigma_w-0.01_sigma_p-0.45222222222222225_n_samples-500.yaml\n"
     ]
    },
    {
     "name": "stderr",
     "output_type": "stream",
     "text": [
      "Sample: 100%|████████████████████████████| 1000/1000 [01:08, 14.53it/s, step size=1.58e-01, acc. prob=0.737]\n"
     ]
    },
    {
     "name": "stdout",
     "output_type": "stream",
     "text": [
      "diag:  {'sigma': OrderedDict([('n_eff', tensor(170.7162)), ('r_hat', tensor(1.0157))]), 'w': OrderedDict([('n_eff', tensor([172.6604, 209.1400, 225.0239, 197.1449, 205.9807, 246.7630, 114.4901,\n",
      "        324.4161, 199.0829, 228.5495])), ('r_hat', tensor([1.0082, 1.0024, 1.0055, 0.9994, 0.9987, 0.9983, 1.0272, 0.9981, 1.0018,\n",
      "        1.0024]))]), 'divergences': {'chain 0': [25, 28, 32, 71, 84, 204]}, 'acceptance rate': {'chain 0': 0.938}}\n",
      "Registering the results in:  SX_IJCAI_HYPERPARAMETER_NOISY_3/2024-01-11/iter-0_n-4_k-2_m-8_sigma_w-0.01_sigma_p-0.6733333333333333_n_samples-500.yaml\n"
     ]
    },
    {
     "name": "stderr",
     "output_type": "stream",
     "text": [
      "Sample: 100%|████████████████████████████| 1000/1000 [01:12, 13.83it/s, step size=1.29e-01, acc. prob=0.724]\n"
     ]
    },
    {
     "name": "stdout",
     "output_type": "stream",
     "text": [
      "diag:  {'sigma': OrderedDict([('n_eff', tensor(41.9010)), ('r_hat', tensor(1.0392))]), 'w': OrderedDict([('n_eff', tensor([ 54.5975, 217.1390, 137.4335,  65.5253, 208.9510,  76.0626, 155.1789,\n",
      "        107.3568, 208.7988,  86.1374])), ('r_hat', tensor([1.0352, 1.0095, 0.9984, 1.0089, 1.0012, 0.9995, 0.9984, 1.0185, 1.0073,\n",
      "        0.9980]))]), 'divergences': {'chain 0': [126, 333, 351, 353, 354, 355, 357, 359, 361, 363, 365, 366, 376, 379, 381, 383, 384, 385, 388, 393, 394, 395, 399, 400, 402, 408, 410, 411, 413]}, 'acceptance rate': {'chain 0': 0.918}}\n",
      "Registering the results in:  SX_IJCAI_HYPERPARAMETER_NOISY_3/2024-01-11/iter-0_n-4_k-2_m-8_sigma_w-0.01_sigma_p-0.8944444444444445_n_samples-500.yaml\n"
     ]
    },
    {
     "name": "stderr",
     "output_type": "stream",
     "text": [
      "Sample: 100%|████████████████████████████| 1000/1000 [01:04, 15.59it/s, step size=1.49e-01, acc. prob=0.789]\n"
     ]
    },
    {
     "name": "stdout",
     "output_type": "stream",
     "text": [
      "diag:  {'sigma': OrderedDict([('n_eff', tensor(129.9313)), ('r_hat', tensor(0.9980))]), 'w': OrderedDict([('n_eff', tensor([248.5848, 304.4586, 270.8969, 260.7954, 276.3752, 318.4923, 297.0364,\n",
      "        177.7782, 218.0455, 270.6547])), ('r_hat', tensor([0.9991, 0.9981, 1.0031, 0.9985, 1.0026, 1.0017, 1.0056, 1.0073, 1.0016,\n",
      "        1.0005]))]), 'divergences': {'chain 0': [59, 291, 315, 318]}, 'acceptance rate': {'chain 0': 0.956}}\n",
      "Registering the results in:  SX_IJCAI_HYPERPARAMETER_NOISY_3/2024-01-11/iter-0_n-4_k-2_m-8_sigma_w-0.01_sigma_p-1.1155555555555556_n_samples-500.yaml\n"
     ]
    },
    {
     "name": "stderr",
     "output_type": "stream",
     "text": [
      "Sample: 100%|████████████████████████████| 1000/1000 [01:02, 16.02it/s, step size=1.40e-01, acc. prob=0.829]\n"
     ]
    },
    {
     "name": "stdout",
     "output_type": "stream",
     "text": [
      "diag:  {'sigma': OrderedDict([('n_eff', tensor(280.8477)), ('r_hat', tensor(0.9989))]), 'w': OrderedDict([('n_eff', tensor([312.8626, 184.2757, 301.2678, 247.8978, 207.6638, 299.4416, 311.3710,\n",
      "        215.5991, 241.8855, 327.3955])), ('r_hat', tensor([1.0061, 0.9986, 1.0016, 1.0006, 0.9984, 0.9980, 0.9986, 0.9980, 0.9981,\n",
      "        1.0008]))]), 'divergences': {'chain 0': [309, 324, 423]}, 'acceptance rate': {'chain 0': 0.99}}\n",
      "Registering the results in:  SX_IJCAI_HYPERPARAMETER_NOISY_3/2024-01-11/iter-0_n-4_k-2_m-8_sigma_w-0.01_sigma_p-1.3366666666666667_n_samples-500.yaml\n"
     ]
    },
    {
     "name": "stderr",
     "output_type": "stream",
     "text": [
      "Sample: 100%|████████████████████████████| 1000/1000 [00:45, 21.79it/s, step size=3.44e-01, acc. prob=0.197]\n"
     ]
    },
    {
     "name": "stdout",
     "output_type": "stream",
     "text": [
      "diag:  {'sigma': OrderedDict([('n_eff', tensor(100.2189)), ('r_hat', tensor(1.0314))]), 'w': OrderedDict([('n_eff', tensor([ 31.6191,  11.6521, 129.6646,  40.6828, 138.5770,  89.7192,  75.0856,\n",
      "         33.0087,   5.6630,   9.4395])), ('r_hat', tensor([1.1508, 1.4457, 1.0412, 1.1895, 1.0135, 1.0253, 1.0287, 1.1963, 1.7587,\n",
      "        1.4798]))]), 'divergences': {'chain 0': [20, 24, 28, 40, 45, 46, 47, 49, 65, 75, 79, 86, 87, 88, 94, 117, 123, 132, 146, 154, 157, 158, 160, 161, 164, 177, 180, 182, 226, 227, 237, 240, 250, 251, 254, 259, 262, 269, 270, 271, 275, 276, 277, 279, 280, 281, 284, 286, 288, 290, 291, 292, 300, 302, 305, 306, 308, 309, 310, 311, 313, 315, 316, 319, 322, 323, 324, 325, 326, 330, 334, 337, 341, 342, 346, 347, 348, 351, 352, 354, 357, 358, 360, 361, 362, 363, 367, 369, 370, 372, 375, 376, 381, 384, 386, 387, 390, 391, 392, 395, 396, 398, 399, 400, 404, 405, 408, 409, 410, 413, 418, 420, 424, 427, 428, 429, 431, 434, 436, 437, 438, 440, 442, 444, 445, 450, 452, 456, 458, 460, 461, 462, 463, 464, 465, 466, 468, 469, 470, 471, 474, 475, 477, 479, 480, 484, 485, 486, 490, 491, 498]}, 'acceptance rate': {'chain 0': 0.366}}\n",
      "Registering the results in:  SX_IJCAI_HYPERPARAMETER_NOISY_3/2024-01-11/iter-0_n-4_k-2_m-8_sigma_w-0.01_sigma_p-1.557777777777778_n_samples-500.yaml\n"
     ]
    },
    {
     "name": "stderr",
     "output_type": "stream",
     "text": [
      "Sample: 100%|████████████████████████████| 1000/1000 [01:02, 16.10it/s, step size=1.32e-01, acc. prob=0.848]\n"
     ]
    },
    {
     "name": "stdout",
     "output_type": "stream",
     "text": [
      "diag:  {'sigma': OrderedDict([('n_eff', tensor(220.9761)), ('r_hat', tensor(0.9984))]), 'w': OrderedDict([('n_eff', tensor([301.7153, 303.6144, 240.0034, 116.7477, 277.8551, 277.2432, 141.7424,\n",
      "        284.4666, 329.4494, 203.2964])), ('r_hat', tensor([1.0019, 1.0056, 1.0020, 0.9981, 1.0157, 0.9984, 1.0046, 0.9981, 1.0035,\n",
      "        1.0012]))]), 'divergences': {'chain 0': [124, 249]}, 'acceptance rate': {'chain 0': 0.986}}\n",
      "Registering the results in:  SX_IJCAI_HYPERPARAMETER_NOISY_3/2024-01-11/iter-0_n-4_k-2_m-8_sigma_w-0.01_sigma_p-1.778888888888889_n_samples-500.yaml\n"
     ]
    },
    {
     "name": "stderr",
     "output_type": "stream",
     "text": [
      "Sample: 100%|████████████████████████████| 1000/1000 [00:51, 19.44it/s, step size=1.37e-01, acc. prob=0.826]\n"
     ]
    },
    {
     "name": "stdout",
     "output_type": "stream",
     "text": [
      "diag:  {'sigma': OrderedDict([('n_eff', tensor(215.6854)), ('r_hat', tensor(0.9989))]), 'w': OrderedDict([('n_eff', tensor([318.3594, 400.3114, 433.0438, 209.0269, 248.8644, 339.0352, 274.8247,\n",
      "        257.9921, 344.4144, 221.1452])), ('r_hat', tensor([0.9997, 0.9980, 0.9985, 1.0005, 1.0097, 1.0030, 0.9991, 1.0002, 0.9980,\n",
      "        0.9980]))]), 'divergences': {'chain 0': [108]}, 'acceptance rate': {'chain 0': 0.972}}\n",
      "Registering the results in:  SX_IJCAI_HYPERPARAMETER_NOISY_3/2024-01-11/iter-0_n-4_k-2_m-8_sigma_w-0.01_sigma_p-2.0_n_samples-500.yaml\n"
     ]
    },
    {
     "name": "stderr",
     "output_type": "stream",
     "text": [
      "Sample: 100%|████████████████████████████| 1000/1000 [01:07, 14.71it/s, step size=1.45e-01, acc. prob=0.805]\n"
     ]
    },
    {
     "name": "stdout",
     "output_type": "stream",
     "text": [
      "diag:  {'sigma': OrderedDict([('n_eff', tensor(264.1132)), ('r_hat', tensor(1.0027))]), 'w': OrderedDict([('n_eff', tensor([333.0533, 234.2142, 269.6588, 306.1831, 378.0002, 285.2220, 258.8606,\n",
      "        311.3909, 146.1880, 277.2089])), ('r_hat', tensor([1.0021, 0.9999, 0.9987, 0.9989, 0.9982, 0.9993, 0.9986, 1.0080, 0.9985,\n",
      "        0.9983]))]), 'divergences': {'chain 0': [82, 187, 380]}, 'acceptance rate': {'chain 0': 0.966}}\n",
      "Registering the results in:  SX_IJCAI_HYPERPARAMETER_NOISY_3/2024-01-11/iter-0_n-4_k-2_m-8_sigma_w-0.23111111111111113_sigma_p-0.01_n_samples-500.yaml\n"
     ]
    },
    {
     "name": "stderr",
     "output_type": "stream",
     "text": [
      "Sample: 100%|████████████████████████████| 1000/1000 [01:04, 15.57it/s, step size=1.30e-01, acc. prob=0.828]\n"
     ]
    },
    {
     "name": "stdout",
     "output_type": "stream",
     "text": [
      "diag:  {'sigma': OrderedDict([('n_eff', tensor(121.7663)), ('r_hat', tensor(1.0276))]), 'w': OrderedDict([('n_eff', tensor([315.7416, 231.1703,  86.3261, 306.7480, 385.2648, 494.0433, 137.8477,\n",
      "        302.1699,  96.0833, 282.5015])), ('r_hat', tensor([0.9981, 1.0019, 1.0135, 0.9980, 1.0043, 0.9981, 1.0061, 1.0026, 1.0215,\n",
      "        0.9993]))]), 'divergences': {'chain 0': []}, 'acceptance rate': {'chain 0': 0.97}}\n",
      "Registering the results in:  SX_IJCAI_HYPERPARAMETER_NOISY_3/2024-01-11/iter-0_n-4_k-2_m-8_sigma_w-0.23111111111111113_sigma_p-0.23111111111111113_n_samples-500.yaml\n"
     ]
    },
    {
     "name": "stderr",
     "output_type": "stream",
     "text": [
      "Sample: 100%|████████████████████████████| 1000/1000 [01:35, 10.48it/s, step size=8.66e-02, acc. prob=0.893]\n"
     ]
    },
    {
     "name": "stdout",
     "output_type": "stream",
     "text": [
      "diag:  {'sigma': OrderedDict([('n_eff', tensor(176.1381)), ('r_hat', tensor(1.0062))]), 'w': OrderedDict([('n_eff', tensor([115.2442, 423.6712, 208.9018, 226.6372, 314.1160, 247.4172, 163.7276,\n",
      "        413.1338, 310.1838, 320.0215])), ('r_hat', tensor([1.0469, 0.9981, 1.0039, 1.0358, 0.9982, 0.9982, 1.0098, 1.0053, 1.0075,\n",
      "        1.0307]))]), 'divergences': {'chain 0': []}, 'acceptance rate': {'chain 0': 0.974}}\n",
      "Registering the results in:  SX_IJCAI_HYPERPARAMETER_NOISY_3/2024-01-11/iter-0_n-4_k-2_m-8_sigma_w-0.23111111111111113_sigma_p-0.45222222222222225_n_samples-500.yaml\n"
     ]
    },
    {
     "name": "stderr",
     "output_type": "stream",
     "text": [
      "Sample: 100%|████████████████████████████| 1000/1000 [01:05, 15.23it/s, step size=2.34e-01, acc. prob=0.725]\n"
     ]
    },
    {
     "name": "stdout",
     "output_type": "stream",
     "text": [
      "diag:  {'sigma': OrderedDict([('n_eff', tensor(110.2721)), ('r_hat', tensor(1.0106))]), 'w': OrderedDict([('n_eff', tensor([188.5898, 158.0494, 145.0885, 203.5837, 135.4832,  57.7414, 256.1576,\n",
      "        156.7808, 170.8454, 166.7785])), ('r_hat', tensor([0.9980, 1.0009, 0.9985, 0.9985, 1.0038, 0.9995, 0.9980, 0.9986, 1.0109,\n",
      "        0.9999]))]), 'divergences': {'chain 0': [2, 72, 76, 82, 87, 90, 91, 93, 98, 106, 173, 220, 231, 236, 413]}, 'acceptance rate': {'chain 0': 0.94}}\n",
      "Registering the results in:  SX_IJCAI_HYPERPARAMETER_NOISY_3/2024-01-11/iter-0_n-4_k-2_m-8_sigma_w-0.23111111111111113_sigma_p-0.6733333333333333_n_samples-500.yaml\n"
     ]
    },
    {
     "name": "stderr",
     "output_type": "stream",
     "text": [
      "Sample: 100%|████████████████████████████| 1000/1000 [01:15, 13.18it/s, step size=1.21e-01, acc. prob=0.858]\n"
     ]
    },
    {
     "name": "stdout",
     "output_type": "stream",
     "text": [
      "diag:  {'sigma': OrderedDict([('n_eff', tensor(159.5261)), ('r_hat', tensor(0.9983))]), 'w': OrderedDict([('n_eff', tensor([341.6162, 295.6726, 281.8520, 293.1005, 335.6719, 347.4421, 359.5120,\n",
      "        326.6583, 257.3696, 223.1460])), ('r_hat', tensor([1.0007, 1.0012, 0.9988, 0.9984, 0.9999, 1.0016, 0.9999, 0.9988, 0.9982,\n",
      "        0.9989]))]), 'divergences': {'chain 0': []}, 'acceptance rate': {'chain 0': 0.988}}\n",
      "Registering the results in:  SX_IJCAI_HYPERPARAMETER_NOISY_3/2024-01-11/iter-0_n-4_k-2_m-8_sigma_w-0.23111111111111113_sigma_p-0.8944444444444445_n_samples-500.yaml\n"
     ]
    },
    {
     "name": "stderr",
     "output_type": "stream",
     "text": [
      "Sample: 100%|████████████████████████████| 1000/1000 [00:47, 21.07it/s, step size=2.43e-01, acc. prob=0.735]\n"
     ]
    },
    {
     "name": "stdout",
     "output_type": "stream",
     "text": [
      "diag:  {'sigma': OrderedDict([('n_eff', tensor(112.2174)), ('r_hat', tensor(0.9980))]), 'w': OrderedDict([('n_eff', tensor([264.1401, 159.6851,  96.6880, 119.2813, 181.9273, 279.2870, 183.2930,\n",
      "         93.3567, 112.8255, 127.7318])), ('r_hat', tensor([0.9985, 1.0034, 0.9990, 1.0149, 1.0010, 0.9994, 1.0020, 0.9989, 1.0053,\n",
      "        1.0194]))]), 'divergences': {'chain 0': [77, 79, 82, 83, 84, 85, 86, 87, 88, 89, 90, 93, 95, 100, 102, 103, 196, 198, 205]}, 'acceptance rate': {'chain 0': 0.938}}\n",
      "Registering the results in:  SX_IJCAI_HYPERPARAMETER_NOISY_3/2024-01-11/iter-0_n-4_k-2_m-8_sigma_w-0.23111111111111113_sigma_p-1.1155555555555556_n_samples-500.yaml\n"
     ]
    },
    {
     "name": "stderr",
     "output_type": "stream",
     "text": [
      "Sample: 100%|████████████████████████████| 1000/1000 [00:44, 22.63it/s, step size=9.82e-02, acc. prob=0.855]\n"
     ]
    },
    {
     "name": "stdout",
     "output_type": "stream",
     "text": [
      "diag:  {'sigma': OrderedDict([('n_eff', tensor(121.4986)), ('r_hat', tensor(1.0037))]), 'w': OrderedDict([('n_eff', tensor([150.7316, 179.8520, 239.1547, 168.9701, 233.0397, 135.1786, 221.1156,\n",
      "        272.2366, 257.0582, 257.9778])), ('r_hat', tensor([0.9999, 0.9982, 1.0036, 1.0002, 0.9984, 0.9988, 0.9986, 0.9981, 1.0009,\n",
      "        0.9981]))]), 'divergences': {'chain 0': [138, 139, 143, 364, 375]}, 'acceptance rate': {'chain 0': 0.986}}\n",
      "Registering the results in:  SX_IJCAI_HYPERPARAMETER_NOISY_3/2024-01-11/iter-0_n-4_k-2_m-8_sigma_w-0.23111111111111113_sigma_p-1.3366666666666667_n_samples-500.yaml\n"
     ]
    },
    {
     "name": "stderr",
     "output_type": "stream",
     "text": [
      "Sample: 100%|████████████████████████████| 1000/1000 [01:48,  9.23it/s, step size=7.42e-02, acc. prob=0.744]\n"
     ]
    },
    {
     "name": "stdout",
     "output_type": "stream",
     "text": [
      "diag:  {'sigma': OrderedDict([('n_eff', tensor(45.3504)), ('r_hat', tensor(0.9993))]), 'w': OrderedDict([('n_eff', tensor([ 37.7615,  96.0422,  22.6552, 129.0859, 136.7461, 266.2812, 137.5594,\n",
      "         32.9492,  39.0616,  20.9362])), ('r_hat', tensor([1.0392, 1.0205, 1.0397, 1.0215, 1.0074, 1.0036, 0.9996, 1.0506, 1.0354,\n",
      "        1.1008]))]), 'divergences': {'chain 0': [338, 389, 394, 409, 418, 422, 440, 444, 448, 467]}, 'acceptance rate': {'chain 0': 0.928}}\n",
      "Registering the results in:  SX_IJCAI_HYPERPARAMETER_NOISY_3/2024-01-11/iter-0_n-4_k-2_m-8_sigma_w-0.23111111111111113_sigma_p-1.557777777777778_n_samples-500.yaml\n"
     ]
    },
    {
     "name": "stderr",
     "output_type": "stream",
     "text": [
      "Sample: 100%|████████████████████████████| 1000/1000 [00:33, 29.85it/s, step size=1.70e-01, acc. prob=0.707]\n"
     ]
    },
    {
     "name": "stdout",
     "output_type": "stream",
     "text": [
      "diag:  {'sigma': OrderedDict([('n_eff', tensor(105.4167)), ('r_hat', tensor(1.0302))]), 'w': OrderedDict([('n_eff', tensor([249.6460, 212.1985,  93.4651, 128.4537,  85.5919, 102.5914, 201.8614,\n",
      "        143.6170, 305.4746, 169.3527])), ('r_hat', tensor([0.9986, 1.0031, 1.0270, 1.0117, 1.0419, 1.0438, 1.0135, 1.0188, 0.9986,\n",
      "        1.0011]))]), 'divergences': {'chain 0': [4, 58, 108, 113, 224, 304, 305, 357, 367, 373, 385, 388, 392, 436]}, 'acceptance rate': {'chain 0': 0.874}}\n",
      "Registering the results in:  SX_IJCAI_HYPERPARAMETER_NOISY_3/2024-01-11/iter-0_n-4_k-2_m-8_sigma_w-0.23111111111111113_sigma_p-1.778888888888889_n_samples-500.yaml\n"
     ]
    },
    {
     "name": "stderr",
     "output_type": "stream",
     "text": [
      "Sample: 100%|████████████████████████████| 1000/1000 [00:48, 20.61it/s, step size=1.78e-01, acc. prob=0.849]\n"
     ]
    },
    {
     "name": "stdout",
     "output_type": "stream",
     "text": [
      "diag:  {'sigma': OrderedDict([('n_eff', tensor(158.8172)), ('r_hat', tensor(1.0258))]), 'w': OrderedDict([('n_eff', tensor([267.3309, 194.5703, 338.1780, 269.0101, 199.4628, 244.7018, 153.0434,\n",
      "        202.5601, 314.4055, 292.2148])), ('r_hat', tensor([1.0055, 1.0072, 1.0023, 1.0120, 0.9981, 0.9983, 1.0160, 1.0027, 0.9983,\n",
      "        0.9996]))]), 'divergences': {'chain 0': [48]}, 'acceptance rate': {'chain 0': 0.992}}\n",
      "Registering the results in:  SX_IJCAI_HYPERPARAMETER_NOISY_3/2024-01-11/iter-0_n-4_k-2_m-8_sigma_w-0.23111111111111113_sigma_p-2.0_n_samples-500.yaml\n"
     ]
    },
    {
     "name": "stderr",
     "output_type": "stream",
     "text": [
      "Sample: 100%|████████████████████████████| 1000/1000 [00:34, 28.89it/s, step size=1.64e-01, acc. prob=0.686]\n"
     ]
    },
    {
     "name": "stdout",
     "output_type": "stream",
     "text": [
      "diag:  {'sigma': OrderedDict([('n_eff', tensor(34.6653)), ('r_hat', tensor(0.9984))]), 'w': OrderedDict([('n_eff', tensor([199.2716,  24.4170,  39.0289, 243.2478, 108.3080,  39.5259, 102.1776,\n",
      "        223.0154, 207.3324,  38.8022])), ('r_hat', tensor([1.0121, 1.0195, 1.0163, 1.0000, 1.0078, 1.0192, 0.9983, 0.9983, 0.9981,\n",
      "        1.0002]))]), 'divergences': {'chain 0': [95, 232, 238, 244, 250, 251, 257, 260, 268, 282, 283, 284, 332]}, 'acceptance rate': {'chain 0': 0.88}}\n",
      "Registering the results in:  SX_IJCAI_HYPERPARAMETER_NOISY_3/2024-01-11/iter-0_n-4_k-2_m-8_sigma_w-0.45222222222222225_sigma_p-0.01_n_samples-500.yaml\n"
     ]
    },
    {
     "name": "stderr",
     "output_type": "stream",
     "text": [
      "Sample: 100%|████████████████████████████| 1000/1000 [00:15, 63.34it/s, step size=2.09e-01, acc. prob=0.510]\n"
     ]
    },
    {
     "name": "stdout",
     "output_type": "stream",
     "text": [
      "diag:  {'sigma': OrderedDict([('n_eff', tensor(11.5334)), ('r_hat', tensor(1.1220))]), 'w': OrderedDict([('n_eff', tensor([14.6606, 40.8946, 80.3368, 79.6940, 13.5353, 55.3774, 41.5380, 34.7302,\n",
      "        16.9545, 25.9850])), ('r_hat', tensor([1.0060, 1.1165, 1.0025, 1.0022, 1.0058, 1.0178, 1.0480, 1.0679, 1.0660,\n",
      "        1.0012]))]), 'divergences': {'chain 0': [2, 25, 27, 29, 30, 32, 35, 36, 43, 44, 45, 49, 50, 51, 52, 53, 55, 64, 68, 69, 70, 76, 85, 114, 115, 117, 118, 121, 122, 126, 128, 129, 131, 134, 136, 140, 142, 143, 144, 145, 146, 148, 151, 152, 153, 154, 163, 171, 174, 176, 177, 178, 179, 183, 195, 202, 205, 208, 209, 214, 226, 228, 232, 233, 236, 237, 239, 240, 242, 252, 257, 260, 261, 267, 274, 278, 279, 280, 281, 282, 283, 284, 285, 287, 288, 291, 292, 295, 296, 297, 300, 301, 304, 305, 307, 308, 309, 310, 311, 315, 316, 319, 320, 321, 326, 332, 334, 335, 336, 346, 356, 359, 375, 426, 485]}, 'acceptance rate': {'chain 0': 0.794}}\n",
      "Registering the results in:  SX_IJCAI_HYPERPARAMETER_NOISY_3/2024-01-11/iter-0_n-4_k-2_m-8_sigma_w-0.45222222222222225_sigma_p-0.23111111111111113_n_samples-500.yaml\n"
     ]
    },
    {
     "name": "stderr",
     "output_type": "stream",
     "text": [
      "Sample: 100%|████████████████████████████| 1000/1000 [01:06, 14.96it/s, step size=1.24e-01, acc. prob=0.706]\n"
     ]
    },
    {
     "name": "stdout",
     "output_type": "stream",
     "text": [
      "diag:  {'sigma': OrderedDict([('n_eff', tensor(121.8758)), ('r_hat', tensor(0.9982))]), 'w': OrderedDict([('n_eff', tensor([146.4811, 138.2627, 201.5249,  70.1339, 137.6161, 171.3691, 146.2735,\n",
      "         97.5585, 117.3434,  91.5428])), ('r_hat', tensor([1.0210, 1.0105, 1.0127, 1.0036, 1.0184, 1.0002, 0.9981, 0.9985, 1.0056,\n",
      "        1.0378]))]), 'divergences': {'chain 0': [54, 157, 255, 267, 280, 450]}, 'acceptance rate': {'chain 0': 0.874}}\n",
      "Registering the results in:  SX_IJCAI_HYPERPARAMETER_NOISY_3/2024-01-11/iter-0_n-4_k-2_m-8_sigma_w-0.45222222222222225_sigma_p-0.45222222222222225_n_samples-500.yaml\n"
     ]
    },
    {
     "name": "stderr",
     "output_type": "stream",
     "text": [
      "Sample: 100%|████████████████████████████| 1000/1000 [00:53, 18.53it/s, step size=2.29e-01, acc. prob=0.561]\n"
     ]
    },
    {
     "name": "stdout",
     "output_type": "stream",
     "text": [
      "diag:  {'sigma': OrderedDict([('n_eff', tensor(15.9576)), ('r_hat', tensor(1.0214))]), 'w': OrderedDict([('n_eff', tensor([ 20.8651,  15.5050,  27.0479,  14.2968,  32.3664,  85.7325, 142.5162,\n",
      "         10.2533, 204.5679,  15.6771])), ('r_hat', tensor([0.9990, 1.0643, 1.0289, 1.0643, 1.0589, 1.0021, 0.9995, 1.0370, 1.0004,\n",
      "        1.0400]))]), 'divergences': {'chain 0': [134, 161, 171, 175, 179, 182, 199, 204, 214, 215, 222, 226, 229, 230, 239, 241, 245, 248, 250, 263, 273, 282, 290, 347, 483]}, 'acceptance rate': {'chain 0': 0.744}}\n",
      "Registering the results in:  SX_IJCAI_HYPERPARAMETER_NOISY_3/2024-01-11/iter-0_n-4_k-2_m-8_sigma_w-0.45222222222222225_sigma_p-0.6733333333333333_n_samples-500.yaml\n"
     ]
    },
    {
     "name": "stderr",
     "output_type": "stream",
     "text": [
      "Sample: 100%|████████████████████████████| 1000/1000 [00:40, 24.65it/s, step size=2.13e-01, acc. prob=0.685]\n"
     ]
    },
    {
     "name": "stdout",
     "output_type": "stream",
     "text": [
      "diag:  {'sigma': OrderedDict([('n_eff', tensor(136.8144)), ('r_hat', tensor(1.0141))]), 'w': OrderedDict([('n_eff', tensor([214.3915, 272.9973,  80.2591, 210.2637, 288.9161, 229.8795, 181.1108,\n",
      "        217.8944,  98.0518, 239.3234])), ('r_hat', tensor([0.9981, 1.0034, 1.0162, 1.0016, 0.9997, 1.0028, 1.0002, 1.0072, 1.0155,\n",
      "        1.0124]))]), 'divergences': {'chain 0': [36, 118, 144, 265, 276, 282, 289, 328, 499]}, 'acceptance rate': {'chain 0': 0.946}}\n",
      "Registering the results in:  SX_IJCAI_HYPERPARAMETER_NOISY_3/2024-01-11/iter-0_n-4_k-2_m-8_sigma_w-0.45222222222222225_sigma_p-0.8944444444444445_n_samples-500.yaml\n"
     ]
    },
    {
     "name": "stderr",
     "output_type": "stream",
     "text": [
      "Sample: 100%|████████████████████████████| 1000/1000 [00:36, 27.47it/s, step size=1.71e-01, acc. prob=0.811]\n"
     ]
    },
    {
     "name": "stdout",
     "output_type": "stream",
     "text": [
      "diag:  {'sigma': OrderedDict([('n_eff', tensor(156.5291)), ('r_hat', tensor(1.0041))]), 'w': OrderedDict([('n_eff', tensor([225.7999, 278.3391, 175.3328, 243.0646, 345.8465, 228.0336, 184.3178,\n",
      "        226.7560, 171.6253, 260.2416])), ('r_hat', tensor([1.0025, 1.0039, 1.0065, 1.0056, 0.9982, 1.0073, 1.0078, 0.9981, 0.9980,\n",
      "        0.9984]))]), 'divergences': {'chain 0': [361, 366]}, 'acceptance rate': {'chain 0': 0.978}}\n",
      "Registering the results in:  SX_IJCAI_HYPERPARAMETER_NOISY_3/2024-01-11/iter-0_n-4_k-2_m-8_sigma_w-0.45222222222222225_sigma_p-1.1155555555555556_n_samples-500.yaml\n"
     ]
    },
    {
     "name": "stderr",
     "output_type": "stream",
     "text": [
      "Sample: 100%|████████████████████████████| 1000/1000 [01:21, 12.20it/s, step size=5.84e-02, acc. prob=0.929]\n"
     ]
    },
    {
     "name": "stdout",
     "output_type": "stream",
     "text": [
      "diag:  {'sigma': OrderedDict([('n_eff', tensor(200.6990)), ('r_hat', tensor(1.0041))]), 'w': OrderedDict([('n_eff', tensor([245.8853, 181.8624, 238.5355, 218.1273, 188.0243, 262.2152, 251.5620,\n",
      "        197.4011, 337.0446, 208.2757])), ('r_hat', tensor([1.0063, 0.9999, 1.0035, 0.9989, 0.9986, 1.0046, 1.0134, 1.0025, 0.9980,\n",
      "        0.9988]))]), 'divergences': {'chain 0': []}, 'acceptance rate': {'chain 0': 1.0}}\n",
      "Registering the results in:  SX_IJCAI_HYPERPARAMETER_NOISY_3/2024-01-11/iter-0_n-4_k-2_m-8_sigma_w-0.45222222222222225_sigma_p-1.3366666666666667_n_samples-500.yaml\n"
     ]
    },
    {
     "name": "stderr",
     "output_type": "stream",
     "text": [
      "Sample: 100%|████████████████████████████| 1000/1000 [00:46, 21.42it/s, step size=1.52e-01, acc. prob=0.750]\n"
     ]
    },
    {
     "name": "stdout",
     "output_type": "stream",
     "text": [
      "diag:  {'sigma': OrderedDict([('n_eff', tensor(212.0748)), ('r_hat', tensor(0.9983))]), 'w': OrderedDict([('n_eff', tensor([229.0323,  66.2813, 202.8060, 102.3695, 119.3785, 193.6536, 181.1387,\n",
      "         73.6114, 210.2792,  89.4350])), ('r_hat', tensor([1.0025, 0.9980, 1.0025, 0.9997, 0.9987, 1.0017, 1.0053, 1.0202, 0.9983,\n",
      "        1.0121]))]), 'divergences': {'chain 0': [86, 123, 128, 137, 178, 182, 403, 410]}, 'acceptance rate': {'chain 0': 0.95}}\n",
      "Registering the results in:  SX_IJCAI_HYPERPARAMETER_NOISY_3/2024-01-11/iter-0_n-4_k-2_m-8_sigma_w-0.45222222222222225_sigma_p-1.557777777777778_n_samples-500.yaml\n"
     ]
    },
    {
     "name": "stderr",
     "output_type": "stream",
     "text": [
      "Sample: 100%|████████████████████████████| 1000/1000 [00:50, 19.77it/s, step size=1.00e-01, acc. prob=0.874]\n"
     ]
    },
    {
     "name": "stdout",
     "output_type": "stream",
     "text": [
      "diag:  {'sigma': OrderedDict([('n_eff', tensor(155.3222)), ('r_hat', tensor(1.0145))]), 'w': OrderedDict([('n_eff', tensor([147.6845, 336.1425, 244.7302, 301.5013, 150.4112, 196.5633, 243.2410,\n",
      "        221.2747, 247.8097, 261.5359])), ('r_hat', tensor([1.0005, 0.9994, 1.0048, 1.0032, 1.0019, 0.9982, 0.9984, 1.0021, 0.9993,\n",
      "        1.0073]))]), 'divergences': {'chain 0': [11, 334, 436]}, 'acceptance rate': {'chain 0': 0.986}}\n",
      "Registering the results in:  SX_IJCAI_HYPERPARAMETER_NOISY_3/2024-01-11/iter-0_n-4_k-2_m-8_sigma_w-0.45222222222222225_sigma_p-1.778888888888889_n_samples-500.yaml\n"
     ]
    },
    {
     "name": "stderr",
     "output_type": "stream",
     "text": [
      "Sample: 100%|████████████████████████████| 1000/1000 [00:55, 18.11it/s, step size=1.22e-01, acc. prob=0.549]\n"
     ]
    },
    {
     "name": "stdout",
     "output_type": "stream",
     "text": [
      "diag:  {'sigma': OrderedDict([('n_eff', tensor(25.9328)), ('r_hat', tensor(1.1301))]), 'w': OrderedDict([('n_eff', tensor([ 10.9463, 162.4785, 107.7562, 115.5628,  19.0389,  18.6448,  18.3507,\n",
      "        199.8961,  88.4790,  55.1315])), ('r_hat', tensor([1.1663, 1.0313, 1.1081, 1.0418, 1.0578, 1.1505, 1.1809, 0.9997, 1.0065,\n",
      "        1.0211]))]), 'divergences': {'chain 0': [7, 235, 236, 247, 265, 319, 327, 374, 377, 385, 398, 405, 407, 408, 410, 412, 415, 416, 417, 420, 422, 425, 426, 427, 428, 429, 430, 431, 432, 434, 437, 443, 446, 451, 456, 460, 464, 485, 487, 488, 491, 497]}, 'acceptance rate': {'chain 0': 0.766}}\n",
      "Registering the results in:  SX_IJCAI_HYPERPARAMETER_NOISY_3/2024-01-11/iter-0_n-4_k-2_m-8_sigma_w-0.45222222222222225_sigma_p-2.0_n_samples-500.yaml\n"
     ]
    },
    {
     "name": "stderr",
     "output_type": "stream",
     "text": [
      "Sample: 100%|████████████████████████████| 1000/1000 [00:47, 21.11it/s, step size=1.91e-01, acc. prob=0.652]\n"
     ]
    },
    {
     "name": "stdout",
     "output_type": "stream",
     "text": [
      "diag:  {'sigma': OrderedDict([('n_eff', tensor(162.6374)), ('r_hat', tensor(1.0320))]), 'w': OrderedDict([('n_eff', tensor([206.5961, 217.8834, 267.0557, 204.4844, 186.2223, 194.2595, 200.2556,\n",
      "        145.1245, 206.9889, 183.3586])), ('r_hat', tensor([0.9980, 0.9994, 0.9981, 1.0150, 0.9985, 1.0189, 0.9983, 1.0008, 0.9983,\n",
      "        0.9981]))]), 'divergences': {'chain 0': [34, 104, 106, 146, 167, 224, 227, 239, 245, 288, 308, 385, 421, 444, 457, 482, 483]}, 'acceptance rate': {'chain 0': 0.886}}\n",
      "Registering the results in:  SX_IJCAI_HYPERPARAMETER_NOISY_3/2024-01-11/iter-0_n-4_k-2_m-8_sigma_w-0.6733333333333333_sigma_p-0.01_n_samples-500.yaml\n"
     ]
    },
    {
     "name": "stderr",
     "output_type": "stream",
     "text": [
      "Sample: 100%|████████████████████████████| 1000/1000 [00:44, 22.37it/s, step size=1.20e-01, acc. prob=0.854]\n"
     ]
    },
    {
     "name": "stdout",
     "output_type": "stream",
     "text": [
      "diag:  {'sigma': OrderedDict([('n_eff', tensor(77.8256)), ('r_hat', tensor(1.0156))]), 'w': OrderedDict([('n_eff', tensor([181.8305, 134.9598, 310.4415,  92.0791, 335.1497, 198.8120, 248.3641,\n",
      "        308.1426, 346.5251, 251.2902])), ('r_hat', tensor([1.0278, 0.9998, 1.0030, 1.0170, 1.0006, 1.0110, 1.0062, 0.9998, 0.9981,\n",
      "        1.0045]))]), 'divergences': {'chain 0': [25]}, 'acceptance rate': {'chain 0': 0.986}}\n",
      "Registering the results in:  SX_IJCAI_HYPERPARAMETER_NOISY_3/2024-01-11/iter-0_n-4_k-2_m-8_sigma_w-0.6733333333333333_sigma_p-0.23111111111111113_n_samples-500.yaml\n"
     ]
    },
    {
     "name": "stderr",
     "output_type": "stream",
     "text": [
      "Sample: 100%|████████████████████████████| 1000/1000 [00:41, 24.13it/s, step size=2.16e-01, acc. prob=0.745]\n"
     ]
    },
    {
     "name": "stdout",
     "output_type": "stream",
     "text": [
      "diag:  {'sigma': OrderedDict([('n_eff', tensor(166.0008)), ('r_hat', tensor(0.9983))]), 'w': OrderedDict([('n_eff', tensor([221.1187, 156.9087, 257.1470, 246.7374, 222.7823, 335.9856, 295.8507,\n",
      "        253.0509, 145.9275, 149.7660])), ('r_hat', tensor([0.9980, 0.9980, 0.9981, 0.9984, 0.9983, 0.9990, 1.0005, 0.9989, 0.9983,\n",
      "        0.9999]))]), 'divergences': {'chain 0': [128, 131, 161, 208, 247, 385, 480]}, 'acceptance rate': {'chain 0': 0.932}}\n",
      "Registering the results in:  SX_IJCAI_HYPERPARAMETER_NOISY_3/2024-01-11/iter-0_n-4_k-2_m-8_sigma_w-0.6733333333333333_sigma_p-0.45222222222222225_n_samples-500.yaml\n"
     ]
    },
    {
     "name": "stderr",
     "output_type": "stream",
     "text": [
      "Sample: 100%|████████████████████████████| 1000/1000 [00:45, 21.85it/s, step size=1.48e-01, acc. prob=0.759]\n"
     ]
    },
    {
     "name": "stdout",
     "output_type": "stream",
     "text": [
      "diag:  {'sigma': OrderedDict([('n_eff', tensor(72.8891)), ('r_hat', tensor(1.0096))]), 'w': OrderedDict([('n_eff', tensor([103.2197, 244.0347, 370.7812, 118.5867,  79.9852, 278.9059, 107.0295,\n",
      "        133.1934, 125.6879, 188.6770])), ('r_hat', tensor([1.0000, 0.9984, 0.9983, 0.9991, 0.9981, 0.9986, 1.0046, 0.9998, 1.0025,\n",
      "        1.0019]))]), 'divergences': {'chain 0': [209, 316, 421, 423, 483]}, 'acceptance rate': {'chain 0': 0.916}}\n",
      "Registering the results in:  SX_IJCAI_HYPERPARAMETER_NOISY_3/2024-01-11/iter-0_n-4_k-2_m-8_sigma_w-0.6733333333333333_sigma_p-0.6733333333333333_n_samples-500.yaml\n"
     ]
    },
    {
     "name": "stderr",
     "output_type": "stream",
     "text": [
      "Sample: 100%|████████████████████████████| 1000/1000 [01:16, 13.14it/s, step size=1.50e-01, acc. prob=0.734]\n"
     ]
    },
    {
     "name": "stdout",
     "output_type": "stream",
     "text": [
      "diag:  {'sigma': OrderedDict([('n_eff', tensor(156.7577)), ('r_hat', tensor(0.9980))]), 'w': OrderedDict([('n_eff', tensor([ 67.7200, 260.6622, 146.0149, 137.5740, 277.8971, 116.9989, 202.2365,\n",
      "        208.7258, 245.3889, 135.8851])), ('r_hat', tensor([1.0101, 0.9980, 0.9982, 0.9987, 0.9989, 1.0002, 0.9980, 0.9983, 1.0003,\n",
      "        1.0021]))]), 'divergences': {'chain 0': [42, 65, 224, 232]}, 'acceptance rate': {'chain 0': 0.944}}\n",
      "Registering the results in:  SX_IJCAI_HYPERPARAMETER_NOISY_3/2024-01-11/iter-0_n-4_k-2_m-8_sigma_w-0.6733333333333333_sigma_p-0.8944444444444445_n_samples-500.yaml\n"
     ]
    },
    {
     "name": "stderr",
     "output_type": "stream",
     "text": [
      "Sample: 100%|████████████████████████████| 1000/1000 [00:50, 19.85it/s, step size=1.26e-01, acc. prob=0.837]\n"
     ]
    },
    {
     "name": "stdout",
     "output_type": "stream",
     "text": [
      "diag:  {'sigma': OrderedDict([('n_eff', tensor(103.7724)), ('r_hat', tensor(0.9981))]), 'w': OrderedDict([('n_eff', tensor([200.4194, 289.7417, 233.9944, 212.6386, 235.3103, 418.4021, 212.3302,\n",
      "        183.6447, 344.1878, 240.8733])), ('r_hat', tensor([1.0069, 0.9980, 1.0020, 0.9982, 0.9984, 0.9981, 0.9994, 1.0002, 0.9985,\n",
      "        1.0030]))]), 'divergences': {'chain 0': [102, 158, 259, 267, 344]}, 'acceptance rate': {'chain 0': 0.976}}\n"
     ]
    },
    {
     "name": "stderr",
     "output_type": "stream",
     "text": [
      "Sample:  86%|███████████████████████▏   | 860/1000 [1:49:33,  7.64s/it, step size=4.51e-04, acc. prob=0.977]\n"
     ]
    },
    {
     "name": "stdout",
     "output_type": "stream",
     "text": [
      "Registering the results in:  SX_IJCAI_HYPERPARAMETER_NOISY_3/2024-01-11/iter-0_n-4_k-2_m-8_sigma_w-0.6733333333333333_sigma_p-1.1155555555555556_n_samples-500.yaml\n"
     ]
    },
    {
     "name": "stderr",
     "output_type": "stream",
     "text": [
      "Sample: 100%|████████████████████████████| 1000/1000 [00:36, 27.13it/s, step size=1.95e-01, acc. prob=0.705]\n"
     ]
    },
    {
     "name": "stdout",
     "output_type": "stream",
     "text": [
      "diag:  {'sigma': OrderedDict([('n_eff', tensor(113.5313)), ('r_hat', tensor(1.0004))]), 'w': OrderedDict([('n_eff', tensor([165.9109, 203.6880,  95.2454, 232.4462, 259.1200, 338.5338, 244.2339,\n",
      "        215.3240,  81.9592, 179.8696])), ('r_hat', tensor([1.0002, 0.9992, 1.0140, 1.0050, 1.0012, 1.0010, 1.0039, 1.0184, 1.0164,\n",
      "        0.9983]))]), 'divergences': {'chain 0': [40, 45, 46, 47, 48, 51, 52, 56, 70, 74, 107, 120, 250, 392, 401]}, 'acceptance rate': {'chain 0': 0.948}}\n",
      "Registering the results in:  SX_IJCAI_HYPERPARAMETER_NOISY_3/2024-01-11/iter-0_n-4_k-2_m-8_sigma_w-0.6733333333333333_sigma_p-1.3366666666666667_n_samples-500.yaml\n"
     ]
    },
    {
     "name": "stderr",
     "output_type": "stream",
     "text": [
      "Sample: 100%|████████████████████████████| 1000/1000 [00:52, 19.01it/s, step size=7.91e-02, acc. prob=0.931]\n"
     ]
    },
    {
     "name": "stdout",
     "output_type": "stream",
     "text": [
      "diag:  {'sigma': OrderedDict([('n_eff', tensor(242.3817)), ('r_hat', tensor(1.0017))]), 'w': OrderedDict([('n_eff', tensor([227.7917, 244.1800, 487.4777, 229.0627, 306.4679, 422.4217, 334.7524,\n",
      "        405.8664, 264.2227, 347.0202])), ('r_hat', tensor([1.0005, 1.0004, 0.9983, 0.9980, 1.0024, 0.9991, 0.9981, 0.9986, 0.9998,\n",
      "        0.9984]))]), 'divergences': {'chain 0': [8, 96, 470]}, 'acceptance rate': {'chain 0': 1.0}}\n",
      "Registering the results in:  SX_IJCAI_HYPERPARAMETER_NOISY_3/2024-01-11/iter-0_n-4_k-2_m-8_sigma_w-0.6733333333333333_sigma_p-1.557777777777778_n_samples-500.yaml\n"
     ]
    },
    {
     "name": "stderr",
     "output_type": "stream",
     "text": [
      "Sample: 100%|████████████████████████████| 1000/1000 [00:41, 23.84it/s, step size=1.10e-01, acc. prob=0.667]\n"
     ]
    },
    {
     "name": "stdout",
     "output_type": "stream",
     "text": [
      "diag:  {'sigma': OrderedDict([('n_eff', tensor(34.6444)), ('r_hat', tensor(0.9988))]), 'w': OrderedDict([('n_eff', tensor([ 91.6992,  27.9165,  55.0874,  20.1684,  87.3281,  89.1522, 135.8776,\n",
      "         34.6477, 145.8889,  42.8381])), ('r_hat', tensor([0.9988, 1.0318, 1.0026, 1.0739, 1.0228, 1.0049, 1.0151, 1.0237, 1.0077,\n",
      "        1.0591]))]), 'divergences': {'chain 0': [146, 193, 194, 195, 209, 219, 222, 226, 229, 230, 232, 242, 244, 364, 367, 373, 391, 395, 401, 433]}, 'acceptance rate': {'chain 0': 0.912}}\n",
      "Registering the results in:  SX_IJCAI_HYPERPARAMETER_NOISY_3/2024-01-11/iter-0_n-4_k-2_m-8_sigma_w-0.6733333333333333_sigma_p-1.778888888888889_n_samples-500.yaml\n"
     ]
    },
    {
     "name": "stderr",
     "output_type": "stream",
     "text": [
      "Sample: 100%|████████████████████████████| 1000/1000 [00:46, 21.61it/s, step size=1.16e-01, acc. prob=0.519]\n"
     ]
    },
    {
     "name": "stdout",
     "output_type": "stream",
     "text": [
      "diag:  {'sigma': OrderedDict([('n_eff', tensor(12.5846)), ('r_hat', tensor(1.2203))]), 'w': OrderedDict([('n_eff', tensor([25.8474, 65.6461, 95.5678, 37.4846, 23.7465, 98.9537, 14.6612, 73.3874,\n",
      "        11.1716, 10.4474])), ('r_hat', tensor([1.0725, 1.0005, 1.0356, 1.0518, 1.0470, 1.0005, 1.1792, 0.9997, 1.1305,\n",
      "        1.2674]))]), 'divergences': {'chain 0': [98, 101, 129, 134, 182, 203, 204, 208, 225, 226, 227, 250, 336, 436, 462]}, 'acceptance rate': {'chain 0': 0.716}}\n",
      "Registering the results in:  SX_IJCAI_HYPERPARAMETER_NOISY_3/2024-01-11/iter-0_n-4_k-2_m-8_sigma_w-0.6733333333333333_sigma_p-2.0_n_samples-500.yaml\n"
     ]
    },
    {
     "name": "stderr",
     "output_type": "stream",
     "text": [
      "Sample: 100%|████████████████████████████| 1000/1000 [00:43, 22.73it/s, step size=1.41e-01, acc. prob=0.642]\n"
     ]
    },
    {
     "name": "stdout",
     "output_type": "stream",
     "text": [
      "diag:  {'sigma': OrderedDict([('n_eff', tensor(88.4392)), ('r_hat', tensor(1.0065))]), 'w': OrderedDict([('n_eff', tensor([115.5901, 162.0296, 164.6617,  61.9914, 266.2366,  76.4701,  86.5551,\n",
      "        153.9455, 229.4254,  67.3345])), ('r_hat', tensor([1.0063, 1.0122, 0.9983, 1.0195, 0.9992, 1.0137, 1.0004, 1.0018, 0.9993,\n",
      "        1.0121]))]), 'divergences': {'chain 0': [19, 76, 194, 198, 239, 400, 457]}, 'acceptance rate': {'chain 0': 0.902}}\n",
      "Registering the results in:  SX_IJCAI_HYPERPARAMETER_NOISY_3/2024-01-11/iter-0_n-4_k-2_m-8_sigma_w-0.8944444444444445_sigma_p-0.01_n_samples-500.yaml\n"
     ]
    },
    {
     "name": "stderr",
     "output_type": "stream",
     "text": [
      "Sample: 100%|████████████████████████████| 1000/1000 [00:28, 34.68it/s, step size=2.23e-01, acc. prob=0.776]\n"
     ]
    },
    {
     "name": "stdout",
     "output_type": "stream",
     "text": [
      "diag:  {'sigma': OrderedDict([('n_eff', tensor(141.8319)), ('r_hat', tensor(0.9990))]), 'w': OrderedDict([('n_eff', tensor([303.2245, 220.0724, 147.1858, 259.8629, 159.7067, 269.4252, 316.1122,\n",
      "        175.1472, 236.5640, 313.5419])), ('r_hat', tensor([1.0069, 1.0004, 1.0151, 1.0009, 0.9991, 1.0157, 0.9998, 1.0031, 1.0089,\n",
      "        1.0006]))]), 'divergences': {'chain 0': [12, 14, 15, 17, 18, 20, 23, 69, 128, 205, 226, 227, 235, 236, 283, 433]}, 'acceptance rate': {'chain 0': 0.962}}\n",
      "Registering the results in:  SX_IJCAI_HYPERPARAMETER_NOISY_3/2024-01-11/iter-0_n-4_k-2_m-8_sigma_w-0.8944444444444445_sigma_p-0.23111111111111113_n_samples-500.yaml\n"
     ]
    },
    {
     "name": "stderr",
     "output_type": "stream",
     "text": [
      "Sample: 100%|████████████████████████████| 1000/1000 [00:41, 24.27it/s, step size=1.82e-01, acc. prob=0.632]\n"
     ]
    },
    {
     "name": "stdout",
     "output_type": "stream",
     "text": [
      "diag:  {'sigma': OrderedDict([('n_eff', tensor(47.0964)), ('r_hat', tensor(1.0452))]), 'w': OrderedDict([('n_eff', tensor([176.0604,  64.5165, 259.9407,  81.7150, 176.6093, 167.4870,  65.0891,\n",
      "        178.8509,  88.4196, 171.6065])), ('r_hat', tensor([1.0136, 1.0011, 1.0065, 0.9996, 1.0075, 1.0096, 1.0041, 1.0023, 1.0156,\n",
      "        1.0004]))]), 'divergences': {'chain 0': [66, 73, 74, 76, 99, 130, 160, 260]}, 'acceptance rate': {'chain 0': 0.884}}\n",
      "Registering the results in:  SX_IJCAI_HYPERPARAMETER_NOISY_3/2024-01-11/iter-0_n-4_k-2_m-8_sigma_w-0.8944444444444445_sigma_p-0.45222222222222225_n_samples-500.yaml\n"
     ]
    },
    {
     "name": "stderr",
     "output_type": "stream",
     "text": [
      "Sample: 100%|████████████████████████████| 1000/1000 [00:55, 17.96it/s, step size=8.19e-02, acc. prob=0.870]\n"
     ]
    },
    {
     "name": "stdout",
     "output_type": "stream",
     "text": [
      "diag:  {'sigma': OrderedDict([('n_eff', tensor(191.2872)), ('r_hat', tensor(1.0113))]), 'w': OrderedDict([('n_eff', tensor([161.8586, 293.6898, 216.3014, 318.2294, 341.4787, 169.8819, 239.2632,\n",
      "        236.7776, 147.0003, 202.0920])), ('r_hat', tensor([1.0002, 1.0025, 0.9992, 1.0002, 0.9984, 1.0054, 0.9989, 1.0171, 1.0102,\n",
      "        1.0027]))]), 'divergences': {'chain 0': []}, 'acceptance rate': {'chain 0': 0.986}}\n",
      "Registering the results in:  SX_IJCAI_HYPERPARAMETER_NOISY_3/2024-01-11/iter-0_n-4_k-2_m-8_sigma_w-0.8944444444444445_sigma_p-0.6733333333333333_n_samples-500.yaml\n"
     ]
    },
    {
     "name": "stderr",
     "output_type": "stream",
     "text": [
      "Sample: 100%|████████████████████████████| 1000/1000 [01:16, 13.14it/s, step size=5.31e-02, acc. prob=0.956]\n"
     ]
    },
    {
     "name": "stdout",
     "output_type": "stream",
     "text": [
      "diag:  {'sigma': OrderedDict([('n_eff', tensor(164.1764)), ('r_hat', tensor(0.9988))]), 'w': OrderedDict([('n_eff', tensor([215.3549, 340.2518, 277.6559, 211.5814, 474.4709, 294.7362, 247.6525,\n",
      "        258.2426, 214.7371, 230.3376])), ('r_hat', tensor([0.9984, 0.9983, 0.9982, 0.9982, 0.9981, 1.0013, 0.9980, 0.9984, 0.9990,\n",
      "        1.0015]))]), 'divergences': {'chain 0': [246]}, 'acceptance rate': {'chain 0': 0.998}}\n",
      "Registering the results in:  SX_IJCAI_HYPERPARAMETER_NOISY_3/2024-01-11/iter-0_n-4_k-2_m-8_sigma_w-0.8944444444444445_sigma_p-0.8944444444444445_n_samples-500.yaml\n"
     ]
    },
    {
     "name": "stderr",
     "output_type": "stream",
     "text": [
      "Sample: 100%|████████████████████████████| 1000/1000 [00:30, 32.48it/s, step size=2.41e-01, acc. prob=0.635]\n"
     ]
    },
    {
     "name": "stdout",
     "output_type": "stream",
     "text": [
      "diag:  {'sigma': OrderedDict([('n_eff', tensor(78.0433)), ('r_hat', tensor(1.0559))]), 'w': OrderedDict([('n_eff', tensor([100.7690, 204.5376, 219.4443, 240.6680,  82.4412, 120.0961, 182.1614,\n",
      "        128.7199, 216.4013, 201.6953])), ('r_hat', tensor([1.0204, 1.0048, 0.9984, 0.9981, 1.0120, 1.0097, 0.9981, 1.0120, 0.9989,\n",
      "        1.0032]))]), 'divergences': {'chain 0': [22, 59, 132, 249, 254, 285, 353, 356, 416, 417, 419, 463, 474, 475, 477, 479, 483, 486, 493]}, 'acceptance rate': {'chain 0': 0.902}}\n",
      "Registering the results in:  SX_IJCAI_HYPERPARAMETER_NOISY_3/2024-01-11/iter-0_n-4_k-2_m-8_sigma_w-0.8944444444444445_sigma_p-1.1155555555555556_n_samples-500.yaml\n"
     ]
    },
    {
     "name": "stderr",
     "output_type": "stream",
     "text": [
      "Sample: 100%|████████████████████████████| 1000/1000 [00:36, 27.67it/s, step size=1.71e-01, acc. prob=0.776]\n"
     ]
    },
    {
     "name": "stdout",
     "output_type": "stream",
     "text": [
      "diag:  {'sigma': OrderedDict([('n_eff', tensor(183.2482)), ('r_hat', tensor(1.0009))]), 'w': OrderedDict([('n_eff', tensor([115.3579, 125.5117, 181.6009, 226.2393, 150.1105, 171.6670, 118.8320,\n",
      "        178.9608, 247.1420, 212.8105])), ('r_hat', tensor([1.0262, 1.0208, 0.9983, 0.9993, 1.0134, 1.0003, 1.0036, 1.0019, 0.9998,\n",
      "        0.9994]))]), 'divergences': {'chain 0': [318, 370, 457]}, 'acceptance rate': {'chain 0': 0.96}}\n",
      "Registering the results in:  SX_IJCAI_HYPERPARAMETER_NOISY_3/2024-01-11/iter-0_n-4_k-2_m-8_sigma_w-0.8944444444444445_sigma_p-1.3366666666666667_n_samples-500.yaml\n"
     ]
    },
    {
     "name": "stderr",
     "output_type": "stream",
     "text": [
      "Sample: 100%|████████████████████████████| 1000/1000 [00:31, 31.53it/s, step size=1.67e-01, acc. prob=0.835]\n"
     ]
    },
    {
     "name": "stdout",
     "output_type": "stream",
     "text": [
      "diag:  {'sigma': OrderedDict([('n_eff', tensor(113.8494)), ('r_hat', tensor(1.0022))]), 'w': OrderedDict([('n_eff', tensor([285.3849, 247.8191, 281.8334, 127.5870, 330.6012, 208.0977, 332.0947,\n",
      "        202.4931, 174.7478, 285.7039])), ('r_hat', tensor([0.9983, 0.9996, 1.0253, 0.9985, 0.9980, 0.9993, 0.9995, 1.0093, 0.9981,\n",
      "        0.9998]))]), 'divergences': {'chain 0': []}, 'acceptance rate': {'chain 0': 0.978}}\n",
      "Registering the results in:  SX_IJCAI_HYPERPARAMETER_NOISY_3/2024-01-11/iter-0_n-4_k-2_m-8_sigma_w-0.8944444444444445_sigma_p-1.557777777777778_n_samples-500.yaml\n"
     ]
    },
    {
     "name": "stderr",
     "output_type": "stream",
     "text": [
      "Sample: 100%|████████████████████████████| 1000/1000 [00:47, 21.11it/s, step size=1.13e-01, acc. prob=0.741]\n"
     ]
    },
    {
     "name": "stdout",
     "output_type": "stream",
     "text": [
      "diag:  {'sigma': OrderedDict([('n_eff', tensor(97.4846)), ('r_hat', tensor(1.0326))]), 'w': OrderedDict([('n_eff', tensor([ 46.5679, 111.8954, 205.5087, 148.6167, 121.8420, 319.5659, 184.4520,\n",
      "         97.0192,  75.0373, 100.4319])), ('r_hat', tensor([1.0288, 1.0083, 1.0121, 1.0133, 1.0030, 1.0076, 0.9988, 1.0144, 1.0310,\n",
      "        1.0301]))]), 'divergences': {'chain 0': [41, 50, 51, 57, 358, 413]}, 'acceptance rate': {'chain 0': 0.93}}\n",
      "Registering the results in:  SX_IJCAI_HYPERPARAMETER_NOISY_3/2024-01-11/iter-0_n-4_k-2_m-8_sigma_w-0.8944444444444445_sigma_p-1.778888888888889_n_samples-500.yaml\n"
     ]
    },
    {
     "name": "stderr",
     "output_type": "stream",
     "text": [
      "Sample: 100%|████████████████████████████| 1000/1000 [00:37, 26.73it/s, step size=1.80e-01, acc. prob=0.698]\n"
     ]
    },
    {
     "name": "stdout",
     "output_type": "stream",
     "text": [
      "diag:  {'sigma': OrderedDict([('n_eff', tensor(194.3094)), ('r_hat', tensor(0.9983))]), 'w': OrderedDict([('n_eff', tensor([105.9286, 152.1566, 181.4961,  97.7532, 216.1963, 218.2954, 170.2590,\n",
      "        201.1353, 199.5361, 168.5141])), ('r_hat', tensor([0.9997, 0.9993, 0.9987, 0.9997, 0.9996, 0.9987, 1.0085, 0.9982, 0.9989,\n",
      "        1.0078]))]), 'divergences': {'chain 0': [19, 22, 27, 75, 79, 81, 137, 262, 306, 307, 375, 384, 498]}, 'acceptance rate': {'chain 0': 0.936}}\n",
      "Registering the results in:  SX_IJCAI_HYPERPARAMETER_NOISY_3/2024-01-11/iter-0_n-4_k-2_m-8_sigma_w-0.8944444444444445_sigma_p-2.0_n_samples-500.yaml\n"
     ]
    },
    {
     "name": "stderr",
     "output_type": "stream",
     "text": [
      "Sample: 100%|████████████████████████████| 1000/1000 [00:44, 22.38it/s, step size=1.19e-01, acc. prob=0.605]\n"
     ]
    },
    {
     "name": "stdout",
     "output_type": "stream",
     "text": [
      "diag:  {'sigma': OrderedDict([('n_eff', tensor(11.9556)), ('r_hat', tensor(1.1853))]), 'w': OrderedDict([('n_eff', tensor([190.9898,  34.1519,  48.4330,  37.9347, 148.7298, 159.0782,  95.5532,\n",
      "         73.1438, 163.7974,  25.3706])), ('r_hat', tensor([0.9985, 1.0152, 0.9980, 1.0893, 1.0103, 1.0036, 1.0198, 1.0384, 0.9980,\n",
      "        1.0358]))]), 'divergences': {'chain 0': [72, 244, 340, 347, 349, 350, 352, 354, 355, 358, 361, 363, 365, 371, 374, 382, 384, 385, 386, 387, 389, 390, 391, 393, 395, 396, 397, 398, 407, 413, 415, 418, 419, 421, 422, 425, 426, 429, 431, 434, 440, 445, 447, 448, 456, 457, 465, 471, 474, 475, 477, 482, 484, 488, 489, 490, 492, 494, 495, 496, 497, 499]}, 'acceptance rate': {'chain 0': 0.866}}\n",
      "Registering the results in:  SX_IJCAI_HYPERPARAMETER_NOISY_3/2024-01-11/iter-0_n-4_k-2_m-8_sigma_w-1.1155555555555556_sigma_p-0.01_n_samples-500.yaml\n"
     ]
    },
    {
     "name": "stderr",
     "output_type": "stream",
     "text": [
      "Sample: 100%|████████████████████████████| 1000/1000 [00:44, 22.48it/s, step size=1.01e-01, acc. prob=0.874]\n"
     ]
    },
    {
     "name": "stdout",
     "output_type": "stream",
     "text": [
      "diag:  {'sigma': OrderedDict([('n_eff', tensor(66.2205)), ('r_hat', tensor(1.0144))]), 'w': OrderedDict([('n_eff', tensor([293.7954, 211.2122, 256.2635, 185.8272, 274.0539, 248.6340, 248.9383,\n",
      "        193.3020, 220.0580, 295.0672])), ('r_hat', tensor([0.9980, 0.9981, 1.0032, 0.9981, 0.9988, 1.0052, 1.0036, 1.0008, 0.9980,\n",
      "        0.9999]))]), 'divergences': {'chain 0': [109, 126, 334, 491]}, 'acceptance rate': {'chain 0': 0.99}}\n",
      "Registering the results in:  SX_IJCAI_HYPERPARAMETER_NOISY_3/2024-01-11/iter-0_n-4_k-2_m-8_sigma_w-1.1155555555555556_sigma_p-0.23111111111111113_n_samples-500.yaml\n"
     ]
    },
    {
     "name": "stderr",
     "output_type": "stream",
     "text": [
      "Sample: 100%|████████████████████████████| 1000/1000 [00:33, 30.27it/s, step size=1.49e-01, acc. prob=0.880]\n"
     ]
    },
    {
     "name": "stdout",
     "output_type": "stream",
     "text": [
      "diag:  {'sigma': OrderedDict([('n_eff', tensor(225.2163)), ('r_hat', tensor(0.9983))]), 'w': OrderedDict([('n_eff', tensor([376.6563, 247.8621, 406.9732, 311.4289, 282.2570, 315.9551, 267.1003,\n",
      "        546.2407, 306.7987, 339.5499])), ('r_hat', tensor([1.0025, 1.0002, 0.9982, 0.9980, 0.9988, 1.0050, 1.0107, 0.9981, 1.0058,\n",
      "        1.0044]))]), 'divergences': {'chain 0': [249]}, 'acceptance rate': {'chain 0': 0.99}}\n",
      "Registering the results in:  SX_IJCAI_HYPERPARAMETER_NOISY_3/2024-01-11/iter-0_n-4_k-2_m-8_sigma_w-1.1155555555555556_sigma_p-0.45222222222222225_n_samples-500.yaml\n"
     ]
    },
    {
     "name": "stderr",
     "output_type": "stream",
     "text": [
      "Sample: 100%|████████████████████████████| 1000/1000 [00:54, 18.31it/s, step size=9.06e-02, acc. prob=0.850]\n"
     ]
    },
    {
     "name": "stdout",
     "output_type": "stream",
     "text": [
      "diag:  {'sigma': OrderedDict([('n_eff', tensor(152.6172)), ('r_hat', tensor(1.0110))]), 'w': OrderedDict([('n_eff', tensor([240.2098, 203.8602, 175.5809, 348.8425, 230.1845, 274.7985, 300.2474,\n",
      "        200.0547, 301.9742, 208.9786])), ('r_hat', tensor([1.0000, 1.0005, 1.0026, 1.0012, 0.9984, 0.9987, 0.9980, 1.0014, 0.9984,\n",
      "        1.0074]))]), 'divergences': {'chain 0': [301]}, 'acceptance rate': {'chain 0': 0.99}}\n",
      "Registering the results in:  SX_IJCAI_HYPERPARAMETER_NOISY_3/2024-01-11/iter-0_n-4_k-2_m-8_sigma_w-1.1155555555555556_sigma_p-0.6733333333333333_n_samples-500.yaml\n"
     ]
    },
    {
     "name": "stderr",
     "output_type": "stream",
     "text": [
      "Sample: 100%|████████████████████████████| 1000/1000 [00:36, 27.51it/s, step size=1.42e-01, acc. prob=0.589]\n"
     ]
    },
    {
     "name": "stdout",
     "output_type": "stream",
     "text": [
      "diag:  {'sigma': OrderedDict([('n_eff', tensor(46.3511)), ('r_hat', tensor(1.0245))]), 'w': OrderedDict([('n_eff', tensor([ 92.6773,  13.7842, 145.0818,  99.7294,  53.5582,  37.8596, 121.8870,\n",
      "         57.3572,  22.0594,  71.4536])), ('r_hat', tensor([1.0036, 1.1452, 1.0047, 1.0024, 0.9998, 1.0392, 0.9980, 1.0009, 1.1155,\n",
      "        1.0005]))]), 'divergences': {'chain 0': [109, 126, 130, 133, 154, 157, 158, 159, 163, 164, 165, 169, 172, 174, 179, 180, 181, 183, 185, 187, 192, 193, 198, 199, 202, 206, 432, 438, 441]}, 'acceptance rate': {'chain 0': 0.832}}\n",
      "Registering the results in:  SX_IJCAI_HYPERPARAMETER_NOISY_3/2024-01-11/iter-0_n-4_k-2_m-8_sigma_w-1.1155555555555556_sigma_p-0.8944444444444445_n_samples-500.yaml\n"
     ]
    },
    {
     "name": "stderr",
     "output_type": "stream",
     "text": [
      "Sample: 100%|████████████████████████████| 1000/1000 [00:41, 24.00it/s, step size=1.27e-01, acc. prob=0.833]\n"
     ]
    },
    {
     "name": "stdout",
     "output_type": "stream",
     "text": [
      "diag:  {'sigma': OrderedDict([('n_eff', tensor(191.7285)), ('r_hat', tensor(0.9985))]), 'w': OrderedDict([('n_eff', tensor([172.1774, 299.5737, 305.0924, 197.8505, 292.8359, 247.1509, 237.7255,\n",
      "        289.1775, 354.3130, 213.8345])), ('r_hat', tensor([1.0001, 0.9985, 0.9984, 0.9993, 1.0009, 0.9988, 0.9980, 0.9983, 0.9983,\n",
      "        0.9990]))]), 'divergences': {'chain 0': [240, 241, 247, 248, 483]}, 'acceptance rate': {'chain 0': 0.978}}\n",
      "Registering the results in:  SX_IJCAI_HYPERPARAMETER_NOISY_3/2024-01-11/iter-0_n-4_k-2_m-8_sigma_w-1.1155555555555556_sigma_p-1.1155555555555556_n_samples-500.yaml\n"
     ]
    },
    {
     "name": "stderr",
     "output_type": "stream",
     "text": [
      "Sample: 100%|████████████████████████████| 1000/1000 [00:45, 22.07it/s, step size=1.18e-01, acc. prob=0.809]\n"
     ]
    },
    {
     "name": "stdout",
     "output_type": "stream",
     "text": [
      "diag:  {'sigma': OrderedDict([('n_eff', tensor(136.5744)), ('r_hat', tensor(0.9984))]), 'w': OrderedDict([('n_eff', tensor([228.3415, 256.1405, 249.3584, 105.0779, 189.1519, 164.6799, 161.4464,\n",
      "        217.5706, 110.9618, 196.5886])), ('r_hat', tensor([0.9994, 0.9981, 1.0044, 1.0000, 1.0209, 0.9994, 1.0006, 0.9984, 1.0179,\n",
      "        0.9988]))]), 'divergences': {'chain 0': [489, 491, 496]}, 'acceptance rate': {'chain 0': 0.954}}\n",
      "Registering the results in:  SX_IJCAI_HYPERPARAMETER_NOISY_3/2024-01-11/iter-0_n-4_k-2_m-8_sigma_w-1.1155555555555556_sigma_p-1.3366666666666667_n_samples-500.yaml\n"
     ]
    },
    {
     "name": "stderr",
     "output_type": "stream",
     "text": [
      "Sample: 100%|████████████████████████████| 1000/1000 [00:56, 17.66it/s, step size=7.12e-02, acc. prob=0.776]\n"
     ]
    },
    {
     "name": "stdout",
     "output_type": "stream",
     "text": [
      "diag:  {'sigma': OrderedDict([('n_eff', tensor(46.2512)), ('r_hat', tensor(0.9984))]), 'w': OrderedDict([('n_eff', tensor([108.8211, 295.9182,  78.7909,  75.9137, 137.3658,  31.8308,  60.5785,\n",
      "        190.5656,  18.3858,  23.8892])), ('r_hat', tensor([1.0096, 1.0010, 1.0183, 1.0045, 1.0023, 1.0048, 1.0137, 0.9992, 1.0712,\n",
      "        1.0161]))]), 'divergences': {'chain 0': [185, 194, 209, 211, 214, 220, 232, 234, 235, 237, 238, 242, 243, 245, 246, 251, 253, 257, 259, 388]}, 'acceptance rate': {'chain 0': 0.972}}\n",
      "Registering the results in:  SX_IJCAI_HYPERPARAMETER_NOISY_3/2024-01-11/iter-0_n-4_k-2_m-8_sigma_w-1.1155555555555556_sigma_p-1.557777777777778_n_samples-500.yaml\n"
     ]
    },
    {
     "name": "stderr",
     "output_type": "stream",
     "text": [
      "Sample: 100%|████████████████████████████| 1000/1000 [01:01, 16.38it/s, step size=6.81e-02, acc. prob=0.920]\n"
     ]
    },
    {
     "name": "stdout",
     "output_type": "stream",
     "text": [
      "diag:  {'sigma': OrderedDict([('n_eff', tensor(223.7289)), ('r_hat', tensor(0.9993))]), 'w': OrderedDict([('n_eff', tensor([227.1799, 303.2007, 233.8593, 185.0503, 260.4397, 247.6338, 208.4368,\n",
      "        342.3321, 298.0832, 233.7936])), ('r_hat', tensor([1.0068, 0.9981, 0.9981, 1.0229, 1.0006, 1.0068, 1.0031, 0.9980, 1.0079,\n",
      "        0.9988]))]), 'divergences': {'chain 0': [406]}, 'acceptance rate': {'chain 0': 0.99}}\n",
      "Registering the results in:  SX_IJCAI_HYPERPARAMETER_NOISY_3/2024-01-11/iter-0_n-4_k-2_m-8_sigma_w-1.1155555555555556_sigma_p-1.778888888888889_n_samples-500.yaml\n"
     ]
    },
    {
     "name": "stderr",
     "output_type": "stream",
     "text": [
      "Sample: 100%|████████████████████████████| 1000/1000 [01:27, 11.48it/s, step size=6.35e-02, acc. prob=0.801]\n"
     ]
    },
    {
     "name": "stdout",
     "output_type": "stream",
     "text": [
      "diag:  {'sigma': OrderedDict([('n_eff', tensor(117.6102)), ('r_hat', tensor(1.0042))]), 'w': OrderedDict([('n_eff', tensor([125.9118, 146.7219, 163.3851, 203.4850, 282.7745, 146.0092, 245.8067,\n",
      "        185.6837, 297.1854, 235.6605])), ('r_hat', tensor([1.0054, 1.0179, 1.0043, 1.0010, 0.9980, 1.0003, 0.9990, 1.0107, 1.0041,\n",
      "        0.9980]))]), 'divergences': {'chain 0': [298]}, 'acceptance rate': {'chain 0': 0.99}}\n",
      "Registering the results in:  SX_IJCAI_HYPERPARAMETER_NOISY_3/2024-01-11/iter-0_n-4_k-2_m-8_sigma_w-1.1155555555555556_sigma_p-2.0_n_samples-500.yaml\n"
     ]
    },
    {
     "name": "stderr",
     "output_type": "stream",
     "text": [
      "Sample: 100%|████████████████████████████| 1000/1000 [00:52, 18.92it/s, step size=1.10e-01, acc. prob=0.861]\n"
     ]
    },
    {
     "name": "stdout",
     "output_type": "stream",
     "text": [
      "diag:  {'sigma': OrderedDict([('n_eff', tensor(142.2013)), ('r_hat', tensor(1.0014))]), 'w': OrderedDict([('n_eff', tensor([196.5865, 270.0322, 234.9249, 194.6474, 192.7408, 256.4483, 235.7308,\n",
      "        244.0647, 317.0818, 154.9809])), ('r_hat', tensor([1.0025, 0.9981, 1.0084, 0.9983, 0.9993, 0.9980, 1.0021, 0.9985, 0.9996,\n",
      "        1.0041]))]), 'divergences': {'chain 0': [26, 52, 156, 210, 222, 421]}, 'acceptance rate': {'chain 0': 0.994}}\n",
      "Registering the results in:  SX_IJCAI_HYPERPARAMETER_NOISY_3/2024-01-11/iter-0_n-4_k-2_m-8_sigma_w-1.3366666666666667_sigma_p-0.01_n_samples-500.yaml\n"
     ]
    },
    {
     "name": "stderr",
     "output_type": "stream",
     "text": [
      "Sample: 100%|████████████████████████████| 1000/1000 [00:33, 29.99it/s, step size=2.55e-01, acc. prob=0.797]\n"
     ]
    },
    {
     "name": "stdout",
     "output_type": "stream",
     "text": [
      "diag:  {'sigma': OrderedDict([('n_eff', tensor(154.0731)), ('r_hat', tensor(1.0019))]), 'w': OrderedDict([('n_eff', tensor([192.1016, 253.2355, 272.5239, 288.6266, 244.6337, 330.7850, 401.9782,\n",
      "        339.1713, 205.2541, 218.5545])), ('r_hat', tensor([1.0014, 1.0040, 0.9980, 1.0086, 1.0015, 1.0005, 0.9981, 0.9989, 1.0057,\n",
      "        0.9990]))]), 'divergences': {'chain 0': [193, 221, 275]}, 'acceptance rate': {'chain 0': 0.95}}\n",
      "Registering the results in:  SX_IJCAI_HYPERPARAMETER_NOISY_3/2024-01-11/iter-0_n-4_k-2_m-8_sigma_w-1.3366666666666667_sigma_p-0.23111111111111113_n_samples-500.yaml\n"
     ]
    },
    {
     "name": "stderr",
     "output_type": "stream",
     "text": [
      "Sample: 100%|████████████████████████████| 1000/1000 [01:11, 13.95it/s, step size=7.79e-02, acc. prob=0.816]\n"
     ]
    },
    {
     "name": "stdout",
     "output_type": "stream",
     "text": [
      "diag:  {'sigma': OrderedDict([('n_eff', tensor(70.5579)), ('r_hat', tensor(1.0015))]), 'w': OrderedDict([('n_eff', tensor([146.3744, 106.7980, 120.2772, 113.0657, 208.6605, 186.7359, 161.0099,\n",
      "        138.2857, 132.8408, 125.2926])), ('r_hat', tensor([0.9992, 0.9990, 1.0028, 1.0003, 0.9981, 0.9981, 0.9999, 1.0096, 1.0151,\n",
      "        1.0043]))]), 'divergences': {'chain 0': [179]}, 'acceptance rate': {'chain 0': 0.958}}\n",
      "Registering the results in:  SX_IJCAI_HYPERPARAMETER_NOISY_3/2024-01-11/iter-0_n-4_k-2_m-8_sigma_w-1.3366666666666667_sigma_p-0.45222222222222225_n_samples-500.yaml\n"
     ]
    },
    {
     "name": "stderr",
     "output_type": "stream",
     "text": [
      "Sample: 100%|████████████████████████████| 1000/1000 [01:18, 12.72it/s, step size=1.08e-01, acc. prob=0.859]\n"
     ]
    },
    {
     "name": "stdout",
     "output_type": "stream",
     "text": [
      "diag:  {'sigma': OrderedDict([('n_eff', tensor(208.8642)), ('r_hat', tensor(1.0004))]), 'w': OrderedDict([('n_eff', tensor([149.3467, 178.0326, 248.5644, 183.8267, 167.8421, 356.0299, 178.9277,\n",
      "        189.3764, 216.1248, 208.5838])), ('r_hat', tensor([0.9995, 1.0006, 1.0033, 1.0019, 0.9987, 0.9980, 0.9983, 0.9987, 1.0014,\n",
      "        1.0049]))]), 'divergences': {'chain 0': [224, 469]}, 'acceptance rate': {'chain 0': 0.984}}\n",
      "Registering the results in:  SX_IJCAI_HYPERPARAMETER_NOISY_3/2024-01-11/iter-0_n-4_k-2_m-8_sigma_w-1.3366666666666667_sigma_p-0.6733333333333333_n_samples-500.yaml\n"
     ]
    },
    {
     "name": "stderr",
     "output_type": "stream",
     "text": [
      "Sample: 100%|████████████████████████████| 1000/1000 [00:56, 17.81it/s, step size=1.34e-01, acc. prob=0.806]\n"
     ]
    },
    {
     "name": "stdout",
     "output_type": "stream",
     "text": [
      "diag:  {'sigma': OrderedDict([('n_eff', tensor(118.9477)), ('r_hat', tensor(1.0137))]), 'w': OrderedDict([('n_eff', tensor([205.2624, 222.0475, 226.4546, 318.5173, 254.7742, 213.1931, 156.0788,\n",
      "        196.5874, 196.8803, 171.5400])), ('r_hat', tensor([0.9980, 1.0000, 0.9982, 0.9981, 1.0080, 0.9992, 1.0121, 1.0036, 0.9981,\n",
      "        0.9983]))]), 'divergences': {'chain 0': [105, 109, 130, 196, 228, 378, 431]}, 'acceptance rate': {'chain 0': 0.974}}\n",
      "Registering the results in:  SX_IJCAI_HYPERPARAMETER_NOISY_3/2024-01-11/iter-0_n-4_k-2_m-8_sigma_w-1.3366666666666667_sigma_p-0.8944444444444445_n_samples-500.yaml\n"
     ]
    },
    {
     "name": "stderr",
     "output_type": "stream",
     "text": [
      "Sample: 100%|████████████████████████████| 1000/1000 [01:32, 10.81it/s, step size=8.94e-02, acc. prob=0.733]\n"
     ]
    },
    {
     "name": "stdout",
     "output_type": "stream",
     "text": [
      "diag:  {'sigma': OrderedDict([('n_eff', tensor(73.7430)), ('r_hat', tensor(1.0105))]), 'w': OrderedDict([('n_eff', tensor([ 94.1131,  73.1777, 194.5926,  44.1501,  89.0115,  31.4422,  46.0678,\n",
      "         91.2768,  77.9432,  49.8712])), ('r_hat', tensor([1.0183, 1.0004, 1.0029, 1.0227, 1.0004, 1.0304, 0.9997, 0.9986, 1.0115,\n",
      "        1.0088]))]), 'divergences': {'chain 0': [91, 116, 133, 138, 234, 236, 253, 309, 311, 317, 318, 416]}, 'acceptance rate': {'chain 0': 0.91}}\n",
      "Registering the results in:  SX_IJCAI_HYPERPARAMETER_NOISY_3/2024-01-11/iter-0_n-4_k-2_m-8_sigma_w-1.3366666666666667_sigma_p-1.1155555555555556_n_samples-500.yaml\n"
     ]
    },
    {
     "name": "stderr",
     "output_type": "stream",
     "text": [
      "Sample: 100%|████████████████████████████| 1000/1000 [00:58, 17.05it/s, step size=2.00e-01, acc. prob=0.613]\n"
     ]
    },
    {
     "name": "stdout",
     "output_type": "stream",
     "text": [
      "diag:  {'sigma': OrderedDict([('n_eff', tensor(62.8810)), ('r_hat', tensor(1.0165))]), 'w': OrderedDict([('n_eff', tensor([125.6451,  45.8355, 181.4176, 156.8729,  73.2878, 119.3860, 171.7210,\n",
      "         62.5056,  43.0934,  47.3903])), ('r_hat', tensor([0.9980, 1.0253, 1.0025, 0.9989, 1.0075, 1.0019, 1.0000, 1.0204, 0.9997,\n",
      "        1.0074]))]), 'divergences': {'chain 0': [49, 54, 55, 56, 92, 96, 99, 100, 121, 135, 293, 300, 301, 306, 307, 316, 318, 320, 423]}, 'acceptance rate': {'chain 0': 0.868}}\n",
      "Registering the results in:  SX_IJCAI_HYPERPARAMETER_NOISY_3/2024-01-11/iter-0_n-4_k-2_m-8_sigma_w-1.3366666666666667_sigma_p-1.3366666666666667_n_samples-500.yaml\n"
     ]
    },
    {
     "name": "stderr",
     "output_type": "stream",
     "text": [
      "Sample: 100%|████████████████████████████| 1000/1000 [01:24, 11.86it/s, step size=1.21e-01, acc. prob=0.756]\n"
     ]
    },
    {
     "name": "stdout",
     "output_type": "stream",
     "text": [
      "diag:  {'sigma': OrderedDict([('n_eff', tensor(121.9882)), ('r_hat', tensor(0.9991))]), 'w': OrderedDict([('n_eff', tensor([161.7434, 151.8081, 171.7934, 156.2781, 165.9779, 175.4700, 190.3504,\n",
      "        210.2979, 188.3525, 178.5792])), ('r_hat', tensor([1.0059, 0.9984, 0.9995, 0.9999, 0.9995, 1.0010, 1.0064, 0.9995, 1.0003,\n",
      "        1.0048]))]), 'divergences': {'chain 0': [33, 86, 481]}, 'acceptance rate': {'chain 0': 0.96}}\n",
      "Registering the results in:  SX_IJCAI_HYPERPARAMETER_NOISY_3/2024-01-11/iter-0_n-4_k-2_m-8_sigma_w-1.3366666666666667_sigma_p-1.557777777777778_n_samples-500.yaml\n"
     ]
    },
    {
     "name": "stderr",
     "output_type": "stream",
     "text": [
      "Sample: 100%|████████████████████████████| 1000/1000 [01:21, 12.20it/s, step size=1.21e-01, acc. prob=0.781]\n"
     ]
    },
    {
     "name": "stdout",
     "output_type": "stream",
     "text": [
      "diag:  {'sigma': OrderedDict([('n_eff', tensor(163.2940)), ('r_hat', tensor(0.9984))]), 'w': OrderedDict([('n_eff', tensor([204.2481, 145.4795, 202.8458, 159.8822, 164.3247, 199.9608, 123.5565,\n",
      "        153.6134, 149.5705, 237.4252])), ('r_hat', tensor([0.9987, 1.0104, 0.9992, 1.0009, 1.0080, 0.9982, 1.0009, 1.0030, 0.9994,\n",
      "        0.9985]))]), 'divergences': {'chain 0': [117, 248, 256, 331, 487]}, 'acceptance rate': {'chain 0': 0.972}}\n",
      "Registering the results in:  SX_IJCAI_HYPERPARAMETER_NOISY_3/2024-01-11/iter-0_n-4_k-2_m-8_sigma_w-1.3366666666666667_sigma_p-1.778888888888889_n_samples-500.yaml\n"
     ]
    },
    {
     "name": "stderr",
     "output_type": "stream",
     "text": [
      "Sample: 100%|████████████████████████████| 1000/1000 [01:17, 12.95it/s, step size=1.12e-01, acc. prob=0.725]\n"
     ]
    },
    {
     "name": "stdout",
     "output_type": "stream",
     "text": [
      "diag:  {'sigma': OrderedDict([('n_eff', tensor(71.5672)), ('r_hat', tensor(1.0688))]), 'w': OrderedDict([('n_eff', tensor([120.0114,  67.3806,  93.7123,  73.2589,  66.0406, 213.1329,  98.5378,\n",
      "         91.0060, 194.6408, 104.9590])), ('r_hat', tensor([1.0285, 1.0006, 1.0009, 1.0031, 1.0499, 1.0042, 1.0085, 0.9995, 0.9980,\n",
      "        0.9986]))]), 'divergences': {'chain 0': [81, 83, 115, 127, 149, 269, 272, 275, 279, 280, 282, 284, 286, 288, 290, 294, 296, 321, 324, 383, 436, 466, 469, 470, 472, 473, 476, 477, 478, 483, 485, 489, 494, 497, 499]}, 'acceptance rate': {'chain 0': 0.948}}\n",
      "Registering the results in:  SX_IJCAI_HYPERPARAMETER_NOISY_3/2024-01-11/iter-0_n-4_k-2_m-8_sigma_w-1.3366666666666667_sigma_p-2.0_n_samples-500.yaml\n"
     ]
    },
    {
     "name": "stderr",
     "output_type": "stream",
     "text": [
      "Sample: 100%|████████████████████████████| 1000/1000 [01:36, 10.41it/s, step size=1.20e-01, acc. prob=0.703]\n"
     ]
    },
    {
     "name": "stdout",
     "output_type": "stream",
     "text": [
      "diag:  {'sigma': OrderedDict([('n_eff', tensor(164.2289)), ('r_hat', tensor(1.0007))]), 'w': OrderedDict([('n_eff', tensor([ 90.6347, 174.5702,  82.3832, 126.9308, 122.2197, 138.2008, 108.2201,\n",
      "         78.4472, 218.4186,  74.9421])), ('r_hat', tensor([0.9986, 0.9981, 1.0167, 1.0156, 0.9981, 1.0144, 1.0223, 1.0234, 1.0035,\n",
      "        1.0233]))]), 'divergences': {'chain 0': [69, 120, 126, 128, 131, 135, 239, 314, 317, 321, 393, 410]}, 'acceptance rate': {'chain 0': 0.968}}\n",
      "Registering the results in:  SX_IJCAI_HYPERPARAMETER_NOISY_3/2024-01-11/iter-0_n-4_k-2_m-8_sigma_w-1.557777777777778_sigma_p-0.01_n_samples-500.yaml\n"
     ]
    },
    {
     "name": "stderr",
     "output_type": "stream",
     "text": [
      "Sample: 100%|████████████████████████████| 1000/1000 [01:52,  8.92it/s, step size=8.17e-02, acc. prob=0.846]\n"
     ]
    },
    {
     "name": "stdout",
     "output_type": "stream",
     "text": [
      "diag:  {'sigma': OrderedDict([('n_eff', tensor(179.2608)), ('r_hat', tensor(1.0014))]), 'w': OrderedDict([('n_eff', tensor([ 90.9678, 247.9478, 235.8660, 137.3965,  50.2493,  91.2915, 292.8872,\n",
      "         72.9723, 147.9721, 190.7274])), ('r_hat', tensor([1.0332, 1.0052, 1.0067, 1.0316, 1.0388, 1.0340, 0.9994, 1.0033, 1.0208,\n",
      "        0.9995]))]), 'divergences': {'chain 0': [271, 457]}, 'acceptance rate': {'chain 0': 0.98}}\n",
      "Registering the results in:  SX_IJCAI_HYPERPARAMETER_NOISY_3/2024-01-11/iter-0_n-4_k-2_m-8_sigma_w-1.557777777777778_sigma_p-0.23111111111111113_n_samples-500.yaml\n"
     ]
    },
    {
     "name": "stderr",
     "output_type": "stream",
     "text": [
      "Sample: 100%|████████████████████████████| 1000/1000 [01:06, 15.03it/s, step size=1.62e-01, acc. prob=0.767]\n"
     ]
    },
    {
     "name": "stdout",
     "output_type": "stream",
     "text": [
      "diag:  {'sigma': OrderedDict([('n_eff', tensor(132.3305)), ('r_hat', tensor(1.0008))]), 'w': OrderedDict([('n_eff', tensor([125.2493, 245.4388, 318.7252, 250.6987, 182.1104, 273.1587, 253.3250,\n",
      "        278.3696, 120.6571, 259.7025])), ('r_hat', tensor([1.0109, 0.9980, 0.9987, 0.9984, 1.0066, 0.9995, 0.9982, 1.0075, 1.0052,\n",
      "        0.9990]))]), 'divergences': {'chain 0': [97, 233, 234]}, 'acceptance rate': {'chain 0': 0.942}}\n",
      "Registering the results in:  SX_IJCAI_HYPERPARAMETER_NOISY_3/2024-01-11/iter-0_n-4_k-2_m-8_sigma_w-1.557777777777778_sigma_p-0.45222222222222225_n_samples-500.yaml\n"
     ]
    },
    {
     "name": "stderr",
     "output_type": "stream",
     "text": [
      "Sample: 100%|████████████████████████████| 1000/1000 [01:02, 15.96it/s, step size=1.72e-01, acc. prob=0.618]\n"
     ]
    },
    {
     "name": "stdout",
     "output_type": "stream",
     "text": [
      "diag:  {'sigma': OrderedDict([('n_eff', tensor(44.0111)), ('r_hat', tensor(1.0099))]), 'w': OrderedDict([('n_eff', tensor([242.4907, 100.3985, 112.7172, 122.4581,  22.0370,  75.9037,  15.8578,\n",
      "         11.7139,  30.4849, 123.2826])), ('r_hat', tensor([0.9985, 0.9993, 1.0000, 1.0087, 1.1032, 1.0498, 1.0630, 1.1317, 1.0696,\n",
      "        0.9994]))]), 'divergences': {'chain 0': [98, 117, 165, 168, 173, 180, 185, 197, 200, 201, 203, 211, 214, 217, 225, 226, 238, 239, 242, 246, 248, 249, 252, 271, 356, 357, 388, 489]}, 'acceptance rate': {'chain 0': 0.826}}\n",
      "Registering the results in:  SX_IJCAI_HYPERPARAMETER_NOISY_3/2024-01-11/iter-0_n-4_k-2_m-8_sigma_w-1.557777777777778_sigma_p-0.6733333333333333_n_samples-500.yaml\n"
     ]
    },
    {
     "name": "stderr",
     "output_type": "stream",
     "text": [
      "Sample: 100%|████████████████████████████| 1000/1000 [01:29, 11.21it/s, step size=1.19e-01, acc. prob=0.701]\n"
     ]
    },
    {
     "name": "stdout",
     "output_type": "stream",
     "text": [
      "diag:  {'sigma': OrderedDict([('n_eff', tensor(70.1642)), ('r_hat', tensor(1.0652))]), 'w': OrderedDict([('n_eff', tensor([233.1821,  83.3330, 127.4098, 136.5510,  41.3574,  57.3267, 151.2306,\n",
      "        110.8808, 281.2391, 223.9190])), ('r_hat', tensor([0.9989, 1.0057, 1.0050, 1.0065, 1.0032, 1.0012, 1.0123, 1.0198, 0.9996,\n",
      "        0.9981]))]), 'divergences': {'chain 0': [81, 382, 433, 467, 479]}, 'acceptance rate': {'chain 0': 0.936}}\n",
      "Registering the results in:  SX_IJCAI_HYPERPARAMETER_NOISY_3/2024-01-11/iter-0_n-4_k-2_m-8_sigma_w-1.557777777777778_sigma_p-0.8944444444444445_n_samples-500.yaml\n"
     ]
    },
    {
     "name": "stderr",
     "output_type": "stream",
     "text": [
      "Sample: 100%|████████████████████████████| 1000/1000 [01:37, 10.31it/s, step size=9.37e-02, acc. prob=0.641]\n"
     ]
    },
    {
     "name": "stdout",
     "output_type": "stream",
     "text": [
      "diag:  {'sigma': OrderedDict([('n_eff', tensor(41.4840)), ('r_hat', tensor(1.0034))]), 'w': OrderedDict([('n_eff', tensor([146.9163,  73.4371,  96.2053,  77.7779,  28.1602, 185.0684, 131.3556,\n",
      "         63.1492,  35.2230,  44.6511])), ('r_hat', tensor([1.0083, 1.0005, 1.0102, 1.0033, 1.0678, 0.9991, 1.0027, 0.9991, 1.0439,\n",
      "        1.0047]))]), 'divergences': {'chain 0': [165, 173, 201, 206, 402, 404, 408, 411, 425, 428, 450, 458, 463, 464, 474, 477, 482]}, 'acceptance rate': {'chain 0': 0.916}}\n",
      "Registering the results in:  SX_IJCAI_HYPERPARAMETER_NOISY_3/2024-01-11/iter-0_n-4_k-2_m-8_sigma_w-1.557777777777778_sigma_p-1.1155555555555556_n_samples-500.yaml\n"
     ]
    },
    {
     "name": "stderr",
     "output_type": "stream",
     "text": [
      "Sample: 100%|████████████████████████████| 1000/1000 [01:09, 14.32it/s, step size=1.62e-01, acc. prob=0.697]\n"
     ]
    },
    {
     "name": "stdout",
     "output_type": "stream",
     "text": [
      "diag:  {'sigma': OrderedDict([('n_eff', tensor(132.5620)), ('r_hat', tensor(1.0086))]), 'w': OrderedDict([('n_eff', tensor([113.4657, 167.8853,  95.4034, 126.0991, 218.8136, 191.6007, 174.9031,\n",
      "        270.2705, 215.1111, 104.2776])), ('r_hat', tensor([0.9981, 0.9998, 0.9981, 1.0292, 1.0002, 1.0053, 1.0113, 0.9993, 0.9995,\n",
      "        1.0040]))]), 'divergences': {'chain 0': [120, 124, 177, 188, 394]}, 'acceptance rate': {'chain 0': 0.962}}\n",
      "Registering the results in:  SX_IJCAI_HYPERPARAMETER_NOISY_3/2024-01-11/iter-0_n-4_k-2_m-8_sigma_w-1.557777777777778_sigma_p-1.3366666666666667_n_samples-500.yaml\n"
     ]
    },
    {
     "name": "stderr",
     "output_type": "stream",
     "text": [
      "Sample: 100%|████████████████████████████| 1000/1000 [00:53, 18.52it/s, step size=9.33e-02, acc. prob=0.550]\n"
     ]
    },
    {
     "name": "stdout",
     "output_type": "stream",
     "text": [
      "diag:  {'sigma': OrderedDict([('n_eff', tensor(13.3549)), ('r_hat', tensor(1.1932))]), 'w': OrderedDict([('n_eff', tensor([ 53.1657, 170.9718,  20.8450,  27.7190,   7.4968,  10.1547,  32.0184,\n",
      "         17.0770,  23.3376, 103.3457])), ('r_hat', tensor([1.0274, 1.0040, 1.1467, 1.0841, 1.2221, 1.2122, 1.1065, 1.0569, 1.0638,\n",
      "        0.9989]))]), 'divergences': {'chain 0': [23, 109, 204, 238, 239, 247, 249, 252, 253, 254, 255, 259, 261, 266, 268, 272, 273, 275, 279, 281, 283, 286, 287, 290, 292, 294, 299, 300, 302, 305, 306, 311, 312, 314, 315, 317, 318, 320, 323, 333, 334, 337, 339, 342, 343, 344, 347, 350, 351, 353, 357, 360, 361, 363, 371, 373, 374, 432]}, 'acceptance rate': {'chain 0': 0.766}}\n",
      "Registering the results in:  SX_IJCAI_HYPERPARAMETER_NOISY_3/2024-01-11/iter-0_n-4_k-2_m-8_sigma_w-1.557777777777778_sigma_p-1.557777777777778_n_samples-500.yaml\n"
     ]
    },
    {
     "name": "stderr",
     "output_type": "stream",
     "text": [
      "Sample: 100%|████████████████████████████| 1000/1000 [02:05,  7.94it/s, step size=1.04e-01, acc. prob=0.775]\n"
     ]
    },
    {
     "name": "stdout",
     "output_type": "stream",
     "text": [
      "diag:  {'sigma': OrderedDict([('n_eff', tensor(108.2282)), ('r_hat', tensor(1.0134))]), 'w': OrderedDict([('n_eff', tensor([188.4696, 129.8145, 102.7718, 140.3578, 228.6910, 119.4358, 189.3613,\n",
      "        170.3911, 139.1331, 162.4716])), ('r_hat', tensor([0.9989, 1.0251, 1.0173, 1.0197, 1.0021, 0.9985, 1.0016, 0.9996, 1.0011,\n",
      "        1.0111]))]), 'divergences': {'chain 0': [32, 62, 125, 278, 279, 280, 286, 291, 465]}, 'acceptance rate': {'chain 0': 0.984}}\n",
      "Registering the results in:  SX_IJCAI_HYPERPARAMETER_NOISY_3/2024-01-11/iter-0_n-4_k-2_m-8_sigma_w-1.557777777777778_sigma_p-1.778888888888889_n_samples-500.yaml\n"
     ]
    },
    {
     "name": "stderr",
     "output_type": "stream",
     "text": [
      "Sample: 100%|████████████████████████████| 1000/1000 [02:05,  7.98it/s, step size=7.14e-02, acc. prob=0.802]\n"
     ]
    },
    {
     "name": "stdout",
     "output_type": "stream",
     "text": [
      "diag:  {'sigma': OrderedDict([('n_eff', tensor(91.2910)), ('r_hat', tensor(1.0114))]), 'w': OrderedDict([('n_eff', tensor([164.3587, 126.9572,  74.7164, 126.2925, 197.6874,  75.5703, 218.8612,\n",
      "        247.6880, 222.9101, 276.8463])), ('r_hat', tensor([1.0010, 0.9998, 1.0099, 0.9994, 0.9981, 1.0043, 0.9980, 1.0010, 1.0099,\n",
      "        1.0037]))]), 'divergences': {'chain 0': []}, 'acceptance rate': {'chain 0': 0.982}}\n",
      "Registering the results in:  SX_IJCAI_HYPERPARAMETER_NOISY_3/2024-01-11/iter-0_n-4_k-2_m-8_sigma_w-1.557777777777778_sigma_p-2.0_n_samples-500.yaml\n"
     ]
    },
    {
     "name": "stderr",
     "output_type": "stream",
     "text": [
      "Sample: 100%|████████████████████████████| 1000/1000 [00:54, 18.33it/s, step size=1.08e-01, acc. prob=0.715]\n"
     ]
    },
    {
     "name": "stdout",
     "output_type": "stream",
     "text": [
      "diag:  {'sigma': OrderedDict([('n_eff', tensor(150.5257)), ('r_hat', tensor(1.0068))]), 'w': OrderedDict([('n_eff', tensor([ 37.0876, 119.1840, 140.9908,  95.2548,  73.2929, 147.2114, 166.7986,\n",
      "        133.5460, 145.1620, 118.5008])), ('r_hat', tensor([1.0105, 0.9989, 1.0005, 0.9983, 1.0174, 1.0198, 1.0038, 0.9995, 0.9980,\n",
      "        1.0417]))]), 'divergences': {'chain 0': [8, 9, 10, 14, 114, 193]}, 'acceptance rate': {'chain 0': 0.974}}\n",
      "Registering the results in:  SX_IJCAI_HYPERPARAMETER_NOISY_3/2024-01-11/iter-0_n-4_k-2_m-8_sigma_w-1.778888888888889_sigma_p-0.01_n_samples-500.yaml\n"
     ]
    },
    {
     "name": "stderr",
     "output_type": "stream",
     "text": [
      "Sample: 100%|████████████████████████████| 1000/1000 [00:37, 26.56it/s, step size=1.67e-01, acc. prob=0.799]\n"
     ]
    },
    {
     "name": "stdout",
     "output_type": "stream",
     "text": [
      "diag:  {'sigma': OrderedDict([('n_eff', tensor(160.8600)), ('r_hat', tensor(0.9986))]), 'w': OrderedDict([('n_eff', tensor([377.4618, 281.1671, 274.5469, 255.5918, 328.9156, 309.3830, 294.3735,\n",
      "        342.0972, 274.6677, 321.7571])), ('r_hat', tensor([1.0008, 1.0098, 0.9999, 0.9981, 1.0112, 1.0175, 1.0006, 1.0048, 0.9996,\n",
      "        1.0016]))]), 'divergences': {'chain 0': [325, 438]}, 'acceptance rate': {'chain 0': 0.952}}\n",
      "Registering the results in:  SX_IJCAI_HYPERPARAMETER_NOISY_3/2024-01-11/iter-0_n-4_k-2_m-8_sigma_w-1.778888888888889_sigma_p-0.23111111111111113_n_samples-500.yaml\n"
     ]
    },
    {
     "name": "stderr",
     "output_type": "stream",
     "text": [
      "Sample: 100%|████████████████████████████| 1000/1000 [00:36, 27.03it/s, step size=1.75e-01, acc. prob=0.760]\n"
     ]
    },
    {
     "name": "stdout",
     "output_type": "stream",
     "text": [
      "diag:  {'sigma': OrderedDict([('n_eff', tensor(88.0244)), ('r_hat', tensor(0.9981))]), 'w': OrderedDict([('n_eff', tensor([239.7328, 220.2553, 274.4262,  78.7485, 205.5683, 267.6556, 105.0590,\n",
      "        298.4986, 162.9949, 175.6361])), ('r_hat', tensor([1.0030, 0.9996, 1.0004, 1.0084, 0.9983, 1.0137, 1.0148, 1.0107, 0.9987,\n",
      "        0.9998]))]), 'divergences': {'chain 0': []}, 'acceptance rate': {'chain 0': 0.962}}\n",
      "Registering the results in:  SX_IJCAI_HYPERPARAMETER_NOISY_3/2024-01-11/iter-0_n-4_k-2_m-8_sigma_w-1.778888888888889_sigma_p-0.45222222222222225_n_samples-500.yaml\n"
     ]
    },
    {
     "name": "stderr",
     "output_type": "stream",
     "text": [
      "Sample: 100%|████████████████████████████| 1000/1000 [01:37, 10.22it/s, step size=7.75e-02, acc. prob=0.869]\n"
     ]
    },
    {
     "name": "stdout",
     "output_type": "stream",
     "text": [
      "diag:  {'sigma': OrderedDict([('n_eff', tensor(182.0924)), ('r_hat', tensor(1.0081))]), 'w': OrderedDict([('n_eff', tensor([241.0889, 193.4073, 261.7106, 203.8635, 176.5795, 184.9267, 186.4022,\n",
      "        258.8347, 248.5653, 208.6947])), ('r_hat', tensor([1.0086, 1.0023, 1.0033, 1.0228, 0.9996, 0.9989, 1.0012, 1.0039, 0.9999,\n",
      "        1.0118]))]), 'divergences': {'chain 0': [161, 433, 435, 439, 444, 445, 446, 447, 452, 459]}, 'acceptance rate': {'chain 0': 0.992}}\n",
      "Registering the results in:  SX_IJCAI_HYPERPARAMETER_NOISY_3/2024-01-11/iter-0_n-4_k-2_m-8_sigma_w-1.778888888888889_sigma_p-0.6733333333333333_n_samples-500.yaml\n"
     ]
    },
    {
     "name": "stderr",
     "output_type": "stream",
     "text": [
      "Sample: 100%|████████████████████████████| 1000/1000 [01:36, 10.36it/s, step size=8.40e-02, acc. prob=0.583]\n"
     ]
    },
    {
     "name": "stdout",
     "output_type": "stream",
     "text": [
      "diag:  {'sigma': OrderedDict([('n_eff', tensor(17.0907)), ('r_hat', tensor(1.1875))]), 'w': OrderedDict([('n_eff', tensor([ 27.3769, 137.1405, 135.7056,  20.7538,  57.3475,  88.7857,  19.1937,\n",
      "         70.4447,  89.4025, 103.7717])), ('r_hat', tensor([1.0508, 1.0016, 1.0121, 1.1553, 1.0661, 1.0003, 1.0945, 1.0034, 1.0640,\n",
      "        1.0338]))]), 'divergences': {'chain 0': [122, 124, 127, 128, 132, 133, 142, 146, 155, 157, 160, 163, 175, 203, 214, 227, 230, 238, 399]}, 'acceptance rate': {'chain 0': 0.864}}\n",
      "Registering the results in:  SX_IJCAI_HYPERPARAMETER_NOISY_3/2024-01-11/iter-0_n-4_k-2_m-8_sigma_w-1.778888888888889_sigma_p-0.8944444444444445_n_samples-500.yaml\n"
     ]
    },
    {
     "name": "stderr",
     "output_type": "stream",
     "text": [
      "Sample: 100%|████████████████████████████| 1000/1000 [00:44, 22.64it/s, step size=1.08e-01, acc. prob=0.823]\n"
     ]
    },
    {
     "name": "stdout",
     "output_type": "stream",
     "text": [
      "diag:  {'sigma': OrderedDict([('n_eff', tensor(181.0609)), ('r_hat', tensor(1.0123))]), 'w': OrderedDict([('n_eff', tensor([184.9796, 149.7158, 153.6917, 238.2027, 231.8142, 226.7330, 153.1550,\n",
      "        141.4474, 144.9361, 166.2688])), ('r_hat', tensor([1.0169, 1.0043, 0.9981, 1.0016, 0.9980, 0.9981, 1.0085, 1.0026, 1.0054,\n",
      "        0.9981]))]), 'divergences': {'chain 0': [113, 230, 246, 353, 374, 383, 496]}, 'acceptance rate': {'chain 0': 0.978}}\n",
      "Registering the results in:  SX_IJCAI_HYPERPARAMETER_NOISY_3/2024-01-11/iter-0_n-4_k-2_m-8_sigma_w-1.778888888888889_sigma_p-1.1155555555555556_n_samples-500.yaml\n"
     ]
    },
    {
     "name": "stderr",
     "output_type": "stream",
     "text": [
      "Sample: 100%|████████████████████████████| 1000/1000 [00:46, 21.61it/s, step size=1.30e-01, acc. prob=0.380]\n"
     ]
    },
    {
     "name": "stdout",
     "output_type": "stream",
     "text": [
      "diag:  {'sigma': OrderedDict([('n_eff', tensor(6.9941)), ('r_hat', tensor(1.4053))]), 'w': OrderedDict([('n_eff', tensor([ 9.0979, 10.7469, 76.0534, 16.8504,  5.9360,  4.0683, 13.2500,  6.6432,\n",
      "        14.4773, 36.9684])), ('r_hat', tensor([1.6277, 1.1944, 1.0162, 1.1185, 1.5386, 2.0448, 1.1509, 1.5085, 1.2631,\n",
      "        0.9992]))]), 'divergences': {'chain 0': [13, 17, 19, 26, 40, 41, 43, 49, 51, 52, 54, 55, 56, 60, 61, 68, 69, 70, 73, 74, 76, 77, 78, 79, 85, 87, 89, 90, 93, 95, 96, 97, 100, 102, 103, 104, 105, 106, 109, 110, 113, 114, 116, 118, 120, 122, 126, 127, 128, 130, 131, 133, 134, 135, 137, 138, 139, 140, 141, 142, 143, 144, 145, 146, 148, 149, 150, 151, 152, 154, 157, 158, 159, 160, 161, 163, 165, 167, 168, 169, 170, 171, 172, 173, 174, 175, 176, 177, 178, 179, 180, 181, 182, 183, 184, 185, 186, 188, 189, 190, 191, 193, 194, 195, 196, 197, 200, 201, 202, 203, 204, 205, 206, 207, 208, 212, 214, 216, 220, 223, 225, 226, 227, 228, 229, 230, 231, 232, 237, 238, 239, 242, 245, 246, 248, 249, 250, 260, 315, 321, 322, 326, 329, 337, 385]}, 'acceptance rate': {'chain 0': 0.636}}\n",
      "Registering the results in:  SX_IJCAI_HYPERPARAMETER_NOISY_3/2024-01-11/iter-0_n-4_k-2_m-8_sigma_w-1.778888888888889_sigma_p-1.3366666666666667_n_samples-500.yaml\n"
     ]
    },
    {
     "name": "stderr",
     "output_type": "stream",
     "text": [
      "Sample: 100%|████████████████████████████| 1000/1000 [00:57, 17.45it/s, step size=9.98e-02, acc. prob=0.737]\n"
     ]
    },
    {
     "name": "stdout",
     "output_type": "stream",
     "text": [
      "diag:  {'sigma': OrderedDict([('n_eff', tensor(46.2770)), ('r_hat', tensor(1.0246))]), 'w': OrderedDict([('n_eff', tensor([136.6538,  68.2153, 142.7840,  64.7628, 151.7889, 139.1790, 168.6518,\n",
      "        159.8098,  79.8026, 195.2839])), ('r_hat', tensor([1.0082, 1.0352, 1.0010, 1.0238, 1.0215, 0.9981, 0.9980, 1.0016, 1.0059,\n",
      "        0.9990]))]), 'divergences': {'chain 0': [145, 150, 151, 152, 158, 203, 214, 222, 303, 343]}, 'acceptance rate': {'chain 0': 0.962}}\n",
      "Registering the results in:  SX_IJCAI_HYPERPARAMETER_NOISY_3/2024-01-11/iter-0_n-4_k-2_m-8_sigma_w-1.778888888888889_sigma_p-1.557777777777778_n_samples-500.yaml\n"
     ]
    },
    {
     "name": "stderr",
     "output_type": "stream",
     "text": [
      "Sample: 100%|████████████████████████████| 1000/1000 [00:49, 20.14it/s, step size=9.88e-02, acc. prob=0.859]\n"
     ]
    },
    {
     "name": "stdout",
     "output_type": "stream",
     "text": [
      "diag:  {'sigma': OrderedDict([('n_eff', tensor(202.9937)), ('r_hat', tensor(1.0027))]), 'w': OrderedDict([('n_eff', tensor([165.1864, 183.5717, 171.7679,  73.1094, 239.2243, 224.7072, 230.6409,\n",
      "        212.5794, 173.7401, 164.3302])), ('r_hat', tensor([1.0033, 0.9982, 1.0024, 1.0096, 1.0121, 0.9980, 1.0125, 1.0138, 1.0091,\n",
      "        1.0163]))]), 'divergences': {'chain 0': [61, 70, 156, 216, 242, 385, 443, 488, 491]}, 'acceptance rate': {'chain 0': 0.998}}\n",
      "Registering the results in:  SX_IJCAI_HYPERPARAMETER_NOISY_3/2024-01-11/iter-0_n-4_k-2_m-8_sigma_w-1.778888888888889_sigma_p-1.778888888888889_n_samples-500.yaml\n"
     ]
    },
    {
     "name": "stderr",
     "output_type": "stream",
     "text": [
      "Sample: 100%|████████████████████████████| 1000/1000 [00:59, 16.92it/s, step size=1.04e-01, acc. prob=0.718]\n"
     ]
    },
    {
     "name": "stdout",
     "output_type": "stream",
     "text": [
      "diag:  {'sigma': OrderedDict([('n_eff', tensor(91.2095)), ('r_hat', tensor(1.0360))]), 'w': OrderedDict([('n_eff', tensor([112.7484, 181.0608, 153.0650, 117.3459,  91.2899,  74.1197,  97.9627,\n",
      "        121.2315, 160.5768,  92.6621])), ('r_hat', tensor([1.0029, 1.0180, 1.0044, 0.9982, 1.0201, 1.0352, 0.9992, 1.0168, 1.0063,\n",
      "        1.0249]))]), 'divergences': {'chain 0': [15, 16, 19, 146, 150, 154, 337, 390, 445, 457]}, 'acceptance rate': {'chain 0': 0.95}}\n",
      "Registering the results in:  SX_IJCAI_HYPERPARAMETER_NOISY_3/2024-01-11/iter-0_n-4_k-2_m-8_sigma_w-1.778888888888889_sigma_p-2.0_n_samples-500.yaml\n"
     ]
    },
    {
     "name": "stderr",
     "output_type": "stream",
     "text": [
      "Sample: 100%|████████████████████████████| 1000/1000 [01:09, 14.40it/s, step size=7.53e-02, acc. prob=0.784]\n"
     ]
    },
    {
     "name": "stdout",
     "output_type": "stream",
     "text": [
      "diag:  {'sigma': OrderedDict([('n_eff', tensor(110.8859)), ('r_hat', tensor(1.0078))]), 'w': OrderedDict([('n_eff', tensor([214.9280, 183.8450,  98.5925, 229.3511, 239.7100, 181.8351, 171.4368,\n",
      "        109.1071, 248.7441, 126.8992])), ('r_hat', tensor([1.0024, 0.9986, 1.0036, 1.0085, 0.9982, 1.0292, 1.0249, 1.0225, 1.0104,\n",
      "        1.0129]))]), 'divergences': {'chain 0': [237, 265, 266]}, 'acceptance rate': {'chain 0': 0.978}}\n",
      "Registering the results in:  SX_IJCAI_HYPERPARAMETER_NOISY_3/2024-01-11/iter-0_n-4_k-2_m-8_sigma_w-2.0_sigma_p-0.01_n_samples-500.yaml\n"
     ]
    },
    {
     "name": "stderr",
     "output_type": "stream",
     "text": [
      "Sample: 100%|████████████████████████████| 1000/1000 [00:43, 22.90it/s, step size=1.45e-01, acc. prob=0.763]\n"
     ]
    },
    {
     "name": "stdout",
     "output_type": "stream",
     "text": [
      "diag:  {'sigma': OrderedDict([('n_eff', tensor(165.4647)), ('r_hat', tensor(0.9981))]), 'w': OrderedDict([('n_eff', tensor([153.4920, 221.2803, 159.7970, 213.2623, 255.2496, 243.9283, 166.4939,\n",
      "        198.2561, 268.2638, 329.0667])), ('r_hat', tensor([0.9994, 0.9986, 1.0128, 0.9980, 0.9981, 0.9981, 0.9981, 0.9987, 1.0046,\n",
      "        0.9981]))]), 'divergences': {'chain 0': [137, 176, 290, 452, 453, 479]}, 'acceptance rate': {'chain 0': 0.976}}\n",
      "Registering the results in:  SX_IJCAI_HYPERPARAMETER_NOISY_3/2024-01-11/iter-0_n-4_k-2_m-8_sigma_w-2.0_sigma_p-0.23111111111111113_n_samples-500.yaml\n"
     ]
    },
    {
     "name": "stderr",
     "output_type": "stream",
     "text": [
      "Sample: 100%|████████████████████████████| 1000/1000 [01:19, 12.60it/s, step size=7.54e-02, acc. prob=0.917]\n"
     ]
    },
    {
     "name": "stdout",
     "output_type": "stream",
     "text": [
      "diag:  {'sigma': OrderedDict([('n_eff', tensor(156.5947)), ('r_hat', tensor(0.9980))]), 'w': OrderedDict([('n_eff', tensor([230.5126, 332.2063, 297.6033, 257.8802, 206.8103, 358.6088, 187.3199,\n",
      "        278.8300, 286.7692, 377.6653])), ('r_hat', tensor([0.9980, 0.9996, 0.9994, 0.9982, 1.0046, 0.9991, 1.0058, 1.0120, 0.9997,\n",
      "        1.0027]))]), 'divergences': {'chain 0': []}, 'acceptance rate': {'chain 0': 0.996}}\n",
      "Registering the results in:  SX_IJCAI_HYPERPARAMETER_NOISY_3/2024-01-11/iter-0_n-4_k-2_m-8_sigma_w-2.0_sigma_p-0.45222222222222225_n_samples-500.yaml\n"
     ]
    },
    {
     "name": "stderr",
     "output_type": "stream",
     "text": [
      "Sample: 100%|████████████████████████████| 1000/1000 [02:08,  7.79it/s, step size=7.40e-02, acc. prob=0.834]\n"
     ]
    },
    {
     "name": "stdout",
     "output_type": "stream",
     "text": [
      "diag:  {'sigma': OrderedDict([('n_eff', tensor(113.4812)), ('r_hat', tensor(0.9983))]), 'w': OrderedDict([('n_eff', tensor([228.1137, 180.9435, 182.4202, 196.6466, 223.7374, 350.7079, 332.3522,\n",
      "        148.9381, 180.7508, 163.4308])), ('r_hat', tensor([1.0035, 1.0066, 0.9997, 0.9984, 0.9980, 1.0078, 1.0026, 1.0052, 1.0253,\n",
      "        0.9980]))]), 'divergences': {'chain 0': []}, 'acceptance rate': {'chain 0': 0.982}}\n",
      "Registering the results in:  SX_IJCAI_HYPERPARAMETER_NOISY_3/2024-01-11/iter-0_n-4_k-2_m-8_sigma_w-2.0_sigma_p-0.6733333333333333_n_samples-500.yaml\n"
     ]
    },
    {
     "name": "stderr",
     "output_type": "stream",
     "text": [
      "Sample: 100%|████████████████████████████| 1000/1000 [01:32, 10.86it/s, step size=1.21e-01, acc. prob=0.753]\n"
     ]
    },
    {
     "name": "stdout",
     "output_type": "stream",
     "text": [
      "diag:  {'sigma': OrderedDict([('n_eff', tensor(148.0622)), ('r_hat', tensor(1.0019))]), 'w': OrderedDict([('n_eff', tensor([249.6309, 122.1646, 166.4119, 180.5544, 141.6797, 173.5895, 202.8835,\n",
      "        111.3479, 112.0462, 112.0841])), ('r_hat', tensor([0.9985, 1.0185, 0.9991, 0.9998, 0.9997, 0.9995, 1.0005, 1.0021, 1.0304,\n",
      "        0.9991]))]), 'divergences': {'chain 0': [65, 192, 351, 438]}, 'acceptance rate': {'chain 0': 0.964}}\n",
      "Registering the results in:  SX_IJCAI_HYPERPARAMETER_NOISY_3/2024-01-11/iter-0_n-4_k-2_m-8_sigma_w-2.0_sigma_p-0.8944444444444445_n_samples-500.yaml\n"
     ]
    },
    {
     "name": "stderr",
     "output_type": "stream",
     "text": [
      "Sample: 100%|████████████████████████████| 1000/1000 [01:13, 13.56it/s, step size=1.58e-01, acc. prob=0.683]\n"
     ]
    },
    {
     "name": "stdout",
     "output_type": "stream",
     "text": [
      "diag:  {'sigma': OrderedDict([('n_eff', tensor(28.3269)), ('r_hat', tensor(1.0918))]), 'w': OrderedDict([('n_eff', tensor([110.9144,  96.9183, 190.4678, 173.2886, 138.8588,  69.8832,  60.9280,\n",
      "         85.0539, 160.5010,  73.7837])), ('r_hat', tensor([1.0065, 0.9984, 1.0005, 1.0008, 0.9988, 1.0130, 1.0025, 1.0069, 1.0012,\n",
      "        1.0106]))]), 'divergences': {'chain 0': [87, 138, 276, 277, 278, 281, 346, 347, 348, 352, 353, 355, 357, 358, 360, 361, 362, 363, 371, 372, 373, 375, 376, 378, 379, 381, 382, 384, 387, 388, 390, 393, 395, 400, 423, 424, 428, 429, 479]}, 'acceptance rate': {'chain 0': 0.91}}\n",
      "Registering the results in:  SX_IJCAI_HYPERPARAMETER_NOISY_3/2024-01-11/iter-0_n-4_k-2_m-8_sigma_w-2.0_sigma_p-1.1155555555555556_n_samples-500.yaml\n"
     ]
    },
    {
     "name": "stderr",
     "output_type": "stream",
     "text": [
      "Sample: 100%|████████████████████████████| 1000/1000 [01:06, 15.03it/s, step size=1.70e-01, acc. prob=0.621]\n"
     ]
    },
    {
     "name": "stdout",
     "output_type": "stream",
     "text": [
      "diag:  {'sigma': OrderedDict([('n_eff', tensor(93.8567)), ('r_hat', tensor(1.0057))]), 'w': OrderedDict([('n_eff', tensor([135.3036, 225.9884, 141.9943, 192.7222, 186.0300, 105.9407, 106.7833,\n",
      "        203.4870, 139.6783, 149.8664])), ('r_hat', tensor([0.9990, 0.9993, 1.0011, 0.9982, 0.9981, 0.9980, 0.9988, 0.9988, 1.0046,\n",
      "        0.9996]))]), 'divergences': {'chain 0': [6, 46, 56, 67, 121, 126, 128, 129, 132, 134, 161, 219, 250, 275, 316, 414, 420, 471, 481]}, 'acceptance rate': {'chain 0': 0.912}}\n",
      "Registering the results in:  SX_IJCAI_HYPERPARAMETER_NOISY_3/2024-01-11/iter-0_n-4_k-2_m-8_sigma_w-2.0_sigma_p-1.3366666666666667_n_samples-500.yaml\n"
     ]
    },
    {
     "name": "stderr",
     "output_type": "stream",
     "text": [
      "Sample: 100%|████████████████████████████| 1000/1000 [01:29, 11.21it/s, step size=1.01e-01, acc. prob=0.701]\n"
     ]
    },
    {
     "name": "stdout",
     "output_type": "stream",
     "text": [
      "diag:  {'sigma': OrderedDict([('n_eff', tensor(73.4514)), ('r_hat', tensor(1.0212))]), 'w': OrderedDict([('n_eff', tensor([ 76.4316, 135.6643, 111.2885, 162.9506, 230.2510,  91.3720,  62.1516,\n",
      "         56.6211,  79.6278, 134.7350])), ('r_hat', tensor([1.0003, 0.9991, 0.9999, 0.9983, 1.0050, 1.0013, 0.9988, 0.9989, 0.9980,\n",
      "        1.0093]))]), 'divergences': {'chain 0': [354, 357, 360, 368, 378, 459, 460, 466, 468, 472, 482, 483, 484, 488, 490, 493, 495, 496, 498, 499]}, 'acceptance rate': {'chain 0': 0.934}}\n",
      "Registering the results in:  SX_IJCAI_HYPERPARAMETER_NOISY_3/2024-01-11/iter-0_n-4_k-2_m-8_sigma_w-2.0_sigma_p-1.557777777777778_n_samples-500.yaml\n"
     ]
    },
    {
     "name": "stderr",
     "output_type": "stream",
     "text": [
      "Sample: 100%|████████████████████████████| 1000/1000 [01:29, 11.15it/s, step size=1.46e-01, acc. prob=0.741]\n"
     ]
    },
    {
     "name": "stdout",
     "output_type": "stream",
     "text": [
      "diag:  {'sigma': OrderedDict([('n_eff', tensor(135.9039)), ('r_hat', tensor(1.0129))]), 'w': OrderedDict([('n_eff', tensor([194.9619, 209.8430, 147.5609, 188.9692, 168.3744, 168.5662, 266.5848,\n",
      "        239.8156, 309.7402, 372.7723])), ('r_hat', tensor([1.0002, 0.9985, 1.0086, 0.9992, 0.9980, 0.9989, 1.0036, 0.9996, 0.9982,\n",
      "        0.9988]))]), 'divergences': {'chain 0': [22, 71, 163, 315, 322, 324, 328, 398, 402, 411, 454, 459, 466, 467, 468, 469, 470, 471, 472, 474, 484]}, 'acceptance rate': {'chain 0': 0.976}}\n",
      "Registering the results in:  SX_IJCAI_HYPERPARAMETER_NOISY_3/2024-01-11/iter-0_n-4_k-2_m-8_sigma_w-2.0_sigma_p-1.778888888888889_n_samples-500.yaml\n"
     ]
    },
    {
     "name": "stderr",
     "output_type": "stream",
     "text": [
      "Sample: 100%|████████████████████████████| 1000/1000 [01:29, 11.23it/s, step size=1.07e-01, acc. prob=0.776]\n"
     ]
    },
    {
     "name": "stdout",
     "output_type": "stream",
     "text": [
      "diag:  {'sigma': OrderedDict([('n_eff', tensor(74.0302)), ('r_hat', tensor(1.0014))]), 'w': OrderedDict([('n_eff', tensor([146.9959, 117.9520,  93.3157,  75.3185, 178.8389,  83.5252,  67.4918,\n",
      "        129.4830,  80.0187, 209.3452])), ('r_hat', tensor([1.0039, 1.0123, 1.0218, 1.0165, 1.0014, 1.0147, 1.0521, 1.0287, 1.0275,\n",
      "        0.9980]))]), 'divergences': {'chain 0': [27, 47, 107, 349, 351, 353, 360, 361, 362, 373, 379, 401, 463]}, 'acceptance rate': {'chain 0': 0.974}}\n",
      "Registering the results in:  SX_IJCAI_HYPERPARAMETER_NOISY_3/2024-01-11/iter-0_n-4_k-2_m-8_sigma_w-2.0_sigma_p-2.0_n_samples-500.yaml\n"
     ]
    },
    {
     "name": "stderr",
     "output_type": "stream",
     "text": [
      "Sample: 100%|████████████████████████████| 1000/1000 [02:07,  7.85it/s, step size=7.19e-02, acc. prob=0.765]\n"
     ]
    },
    {
     "name": "stdout",
     "output_type": "stream",
     "text": [
      "diag:  {'sigma': OrderedDict([('n_eff', tensor(156.4494)), ('r_hat', tensor(0.9980))]), 'w': OrderedDict([('n_eff', tensor([179.9233, 191.3442, 214.2749, 260.2567, 179.3654, 164.7945, 296.8753,\n",
      "        163.6225, 166.1458, 239.9375])), ('r_hat', tensor([0.9982, 1.0066, 1.0093, 1.0136, 0.9983, 1.0073, 0.9981, 0.9980, 1.0021,\n",
      "        1.0159]))]), 'divergences': {'chain 0': [144, 332]}, 'acceptance rate': {'chain 0': 0.98}}\n",
      "Registering the results in:  SX_IJCAI_HYPERPARAMETER_NOISY_3/2024-01-11/iter-1_n-4_k-2_m-8_sigma_w-0.01_sigma_p-0.01_n_samples-500.yaml\n"
     ]
    },
    {
     "name": "stderr",
     "output_type": "stream",
     "text": [
      "Sample: 100%|████████████████████████████| 1000/1000 [00:19, 51.37it/s, step size=6.79e-01, acc. prob=0.738]\n"
     ]
    },
    {
     "name": "stdout",
     "output_type": "stream",
     "text": [
      "diag:  {'sigma': OrderedDict([('n_eff', tensor(69.1164)), ('r_hat', tensor(1.0266))]), 'w': OrderedDict([('n_eff', tensor([620.3125, 100.5814, 273.9251, 143.7485, 123.6170, 309.6847, 432.1825,\n",
      "         37.1483,  99.0242, 330.5132])), ('r_hat', tensor([1.0007, 1.0161, 0.9987, 0.9992, 1.0015, 1.0009, 1.0006, 1.0284, 1.0144,\n",
      "        1.0062]))]), 'divergences': {'chain 0': [440, 442, 447, 453, 454, 456, 458, 463, 464, 465, 468, 470, 473, 474, 479, 481, 485, 488, 489, 490, 491, 497]}, 'acceptance rate': {'chain 0': 0.882}}\n",
      "Registering the results in:  SX_IJCAI_HYPERPARAMETER_NOISY_3/2024-01-11/iter-1_n-4_k-2_m-8_sigma_w-0.01_sigma_p-0.23111111111111113_n_samples-500.yaml\n"
     ]
    },
    {
     "name": "stderr",
     "output_type": "stream",
     "text": [
      "Sample: 100%|████████████████████████████| 1000/1000 [01:04, 15.45it/s, step size=1.19e-01, acc. prob=0.825]\n"
     ]
    },
    {
     "name": "stdout",
     "output_type": "stream",
     "text": [
      "diag:  {'sigma': OrderedDict([('n_eff', tensor(23.9958)), ('r_hat', tensor(1.0523))]), 'w': OrderedDict([('n_eff', tensor([ 68.9725, 128.6208, 205.4681,  21.7667, 263.7089, 255.8391, 243.7656,\n",
      "        158.0836, 374.5152, 204.8384])), ('r_hat', tensor([1.0038, 1.0018, 0.9986, 1.0651, 0.9989, 0.9994, 1.0094, 1.0035, 0.9987,\n",
      "        1.0014]))]), 'divergences': {'chain 0': []}, 'acceptance rate': {'chain 0': 0.976}}\n",
      "Registering the results in:  SX_IJCAI_HYPERPARAMETER_NOISY_3/2024-01-11/iter-1_n-4_k-2_m-8_sigma_w-0.01_sigma_p-0.45222222222222225_n_samples-500.yaml\n"
     ]
    },
    {
     "name": "stderr",
     "output_type": "stream",
     "text": [
      "Sample: 100%|████████████████████████████| 1000/1000 [00:55, 17.95it/s, step size=1.50e-01, acc. prob=0.627]\n"
     ]
    },
    {
     "name": "stdout",
     "output_type": "stream",
     "text": [
      "diag:  {'sigma': OrderedDict([('n_eff', tensor(51.8980)), ('r_hat', tensor(1.0022))]), 'w': OrderedDict([('n_eff', tensor([ 84.1588,  21.9788, 127.7267, 112.4637,  45.6268, 154.6141,  72.5857,\n",
      "         44.2400, 151.5130, 288.6136])), ('r_hat', tensor([1.0062, 1.0794, 0.9994, 0.9980, 1.0072, 1.0185, 1.0443, 1.0480, 1.0118,\n",
      "        1.0004]))]), 'divergences': {'chain 0': [10, 63, 141, 432, 440, 441, 443, 446, 448, 450, 453, 457, 467, 472, 473, 474]}, 'acceptance rate': {'chain 0': 0.886}}\n",
      "Registering the results in:  SX_IJCAI_HYPERPARAMETER_NOISY_3/2024-01-11/iter-1_n-4_k-2_m-8_sigma_w-0.01_sigma_p-0.6733333333333333_n_samples-500.yaml\n"
     ]
    },
    {
     "name": "stderr",
     "output_type": "stream",
     "text": [
      "Sample: 100%|████████████████████████████| 1000/1000 [01:22, 12.11it/s, step size=9.31e-02, acc. prob=0.848]\n"
     ]
    },
    {
     "name": "stdout",
     "output_type": "stream",
     "text": [
      "diag:  {'sigma': OrderedDict([('n_eff', tensor(167.7497)), ('r_hat', tensor(1.0130))]), 'w': OrderedDict([('n_eff', tensor([194.0126, 184.9810, 239.4330, 190.1382, 153.4243, 220.9785, 261.6956,\n",
      "        335.7090, 206.8227, 181.6010])), ('r_hat', tensor([1.0094, 0.9988, 1.0015, 1.0154, 0.9983, 1.0020, 0.9980, 0.9999, 1.0004,\n",
      "        1.0045]))]), 'divergences': {'chain 0': []}, 'acceptance rate': {'chain 0': 0.978}}\n",
      "Registering the results in:  SX_IJCAI_HYPERPARAMETER_NOISY_3/2024-01-11/iter-1_n-4_k-2_m-8_sigma_w-0.01_sigma_p-0.8944444444444445_n_samples-500.yaml\n"
     ]
    },
    {
     "name": "stderr",
     "output_type": "stream",
     "text": [
      "Sample: 100%|████████████████████████████| 1000/1000 [00:49, 20.40it/s, step size=1.66e-01, acc. prob=0.807]\n"
     ]
    },
    {
     "name": "stdout",
     "output_type": "stream",
     "text": [
      "diag:  {'sigma': OrderedDict([('n_eff', tensor(135.4338)), ('r_hat', tensor(0.9985))]), 'w': OrderedDict([('n_eff', tensor([174.9633, 145.1512, 177.9741, 195.4916, 235.7498, 211.1509, 268.8884,\n",
      "        197.1111, 176.7015, 194.4350])), ('r_hat', tensor([0.9980, 0.9981, 0.9980, 0.9993, 0.9994, 0.9982, 0.9981, 0.9984, 0.9991,\n",
      "        0.9985]))]), 'divergences': {'chain 0': [61, 142]}, 'acceptance rate': {'chain 0': 0.958}}\n",
      "Registering the results in:  SX_IJCAI_HYPERPARAMETER_NOISY_3/2024-01-11/iter-1_n-4_k-2_m-8_sigma_w-0.01_sigma_p-1.1155555555555556_n_samples-500.yaml\n"
     ]
    },
    {
     "name": "stderr",
     "output_type": "stream",
     "text": [
      "Sample: 100%|████████████████████████████| 1000/1000 [01:13, 13.57it/s, step size=1.33e-01, acc. prob=0.657]\n"
     ]
    },
    {
     "name": "stdout",
     "output_type": "stream",
     "text": [
      "diag:  {'sigma': OrderedDict([('n_eff', tensor(26.3344)), ('r_hat', tensor(0.9981))]), 'w': OrderedDict([('n_eff', tensor([ 29.8395,  28.8526, 283.1626,  63.7496, 253.4083, 143.2783,  81.3407,\n",
      "         85.8073, 119.4886, 177.9736])), ('r_hat', tensor([1.0091, 0.9985, 0.9989, 0.9984, 1.0072, 1.0001, 1.0233, 0.9997, 1.0174,\n",
      "        0.9981]))]), 'divergences': {'chain 0': [189, 202, 203, 205, 206, 208, 209, 211, 216, 221, 223, 228, 231, 248, 250, 254, 255, 256, 258, 260, 264, 286, 290, 439]}, 'acceptance rate': {'chain 0': 0.866}}\n",
      "Registering the results in:  SX_IJCAI_HYPERPARAMETER_NOISY_3/2024-01-11/iter-1_n-4_k-2_m-8_sigma_w-0.01_sigma_p-1.3366666666666667_n_samples-500.yaml\n"
     ]
    },
    {
     "name": "stderr",
     "output_type": "stream",
     "text": [
      "Sample: 100%|████████████████████████████| 1000/1000 [00:43, 22.83it/s, step size=1.95e-01, acc. prob=0.715]\n"
     ]
    },
    {
     "name": "stdout",
     "output_type": "stream",
     "text": [
      "diag:  {'sigma': OrderedDict([('n_eff', tensor(79.8060)), ('r_hat', tensor(1.0068))]), 'w': OrderedDict([('n_eff', tensor([159.9823, 120.3068, 184.3838, 179.1623,  81.3732, 194.1345, 183.7467,\n",
      "        165.7802, 144.5653, 146.1933])), ('r_hat', tensor([1.0005, 0.9981, 0.9988, 1.0024, 1.0045, 1.0130, 1.0038, 1.0008, 1.0041,\n",
      "        0.9980]))]), 'divergences': {'chain 0': [10, 44, 48, 118, 121, 142, 168, 169, 172, 173, 174, 199, 206, 244, 317, 322, 323, 338, 339, 360, 362, 389, 392, 429, 443, 496]}, 'acceptance rate': {'chain 0': 0.938}}\n",
      "Registering the results in:  SX_IJCAI_HYPERPARAMETER_NOISY_3/2024-01-11/iter-1_n-4_k-2_m-8_sigma_w-0.01_sigma_p-1.557777777777778_n_samples-500.yaml\n"
     ]
    },
    {
     "name": "stderr",
     "output_type": "stream",
     "text": [
      "Sample: 100%|████████████████████████████| 1000/1000 [00:58, 17.00it/s, step size=9.21e-02, acc. prob=0.887]\n"
     ]
    },
    {
     "name": "stdout",
     "output_type": "stream",
     "text": [
      "diag:  {'sigma': OrderedDict([('n_eff', tensor(138.0806)), ('r_hat', tensor(1.0208))]), 'w': OrderedDict([('n_eff', tensor([266.3067, 213.6628, 231.4939, 172.0632, 185.1271, 170.2724, 358.5673,\n",
      "        193.5190, 176.7980,  88.4991])), ('r_hat', tensor([1.0063, 0.9994, 1.0001, 1.0377, 1.0012, 1.0038, 1.0015, 1.0044, 1.0205,\n",
      "        1.0188]))]), 'divergences': {'chain 0': [144]}, 'acceptance rate': {'chain 0': 0.99}}\n",
      "Registering the results in:  SX_IJCAI_HYPERPARAMETER_NOISY_3/2024-01-11/iter-1_n-4_k-2_m-8_sigma_w-0.01_sigma_p-1.778888888888889_n_samples-500.yaml\n"
     ]
    },
    {
     "name": "stderr",
     "output_type": "stream",
     "text": [
      "Sample: 100%|████████████████████████████| 1000/1000 [00:51, 19.36it/s, step size=1.85e-01, acc. prob=0.839]\n"
     ]
    },
    {
     "name": "stdout",
     "output_type": "stream",
     "text": [
      "diag:  {'sigma': OrderedDict([('n_eff', tensor(215.2735)), ('r_hat', tensor(1.0165))]), 'w': OrderedDict([('n_eff', tensor([285.1203, 320.0561, 302.8556, 313.8221, 344.1871, 308.8256, 279.6354,\n",
      "        239.0741, 247.7624, 323.1456])), ('r_hat', tensor([0.9982, 1.0029, 1.0054, 0.9983, 0.9989, 0.9994, 0.9983, 1.0037, 0.9983,\n",
      "        0.9980]))]), 'divergences': {'chain 0': [41, 69, 304, 429]}, 'acceptance rate': {'chain 0': 0.988}}\n",
      "Registering the results in:  SX_IJCAI_HYPERPARAMETER_NOISY_3/2024-01-11/iter-1_n-4_k-2_m-8_sigma_w-0.01_sigma_p-2.0_n_samples-500.yaml\n"
     ]
    },
    {
     "name": "stderr",
     "output_type": "stream",
     "text": [
      "Sample: 100%|████████████████████████████| 1000/1000 [00:35, 28.42it/s, step size=2.25e-01, acc. prob=0.615]\n"
     ]
    },
    {
     "name": "stdout",
     "output_type": "stream",
     "text": [
      "diag:  {'sigma': OrderedDict([('n_eff', tensor(62.2994)), ('r_hat', tensor(1.0686))]), 'w': OrderedDict([('n_eff', tensor([ 43.5140, 141.4069, 145.6539, 116.2683, 190.0929, 277.1893, 269.1011,\n",
      "         54.4428, 129.9750, 151.0336])), ('r_hat', tensor([1.0625, 0.9980, 1.0012, 0.9980, 1.0187, 1.0046, 0.9994, 1.0370, 1.0016,\n",
      "        1.0076]))]), 'divergences': {'chain 0': [102, 103, 168, 170, 187, 189, 192, 193, 205, 206, 221, 222, 230, 237, 487]}, 'acceptance rate': {'chain 0': 0.878}}\n",
      "Registering the results in:  SX_IJCAI_HYPERPARAMETER_NOISY_3/2024-01-11/iter-1_n-4_k-2_m-8_sigma_w-0.23111111111111113_sigma_p-0.01_n_samples-500.yaml\n"
     ]
    },
    {
     "name": "stderr",
     "output_type": "stream",
     "text": [
      "Sample: 100%|████████████████████████████| 1000/1000 [01:03, 15.64it/s, step size=1.35e-01, acc. prob=0.792]\n"
     ]
    },
    {
     "name": "stdout",
     "output_type": "stream",
     "text": [
      "diag:  {'sigma': OrderedDict([('n_eff', tensor(103.8398)), ('r_hat', tensor(1.0310))]), 'w': OrderedDict([('n_eff', tensor([ 33.4219, 370.4549, 239.7439, 276.0161,  65.2670, 238.0406, 228.1273,\n",
      "        172.7161, 214.2615, 120.7291])), ('r_hat', tensor([1.0262, 0.9980, 0.9980, 1.0061, 1.0011, 1.0074, 1.0026, 1.0074, 0.9990,\n",
      "        1.0077]))]), 'divergences': {'chain 0': [140, 193, 202, 216, 223, 227, 240]}, 'acceptance rate': {'chain 0': 0.954}}\n",
      "Registering the results in:  SX_IJCAI_HYPERPARAMETER_NOISY_3/2024-01-11/iter-1_n-4_k-2_m-8_sigma_w-0.23111111111111113_sigma_p-0.23111111111111113_n_samples-500.yaml\n"
     ]
    },
    {
     "name": "stderr",
     "output_type": "stream",
     "text": [
      "Sample: 100%|████████████████████████████| 1000/1000 [01:10, 14.10it/s, step size=1.73e-01, acc. prob=0.656]\n"
     ]
    },
    {
     "name": "stdout",
     "output_type": "stream",
     "text": [
      "diag:  {'sigma': OrderedDict([('n_eff', tensor(87.4297)), ('r_hat', tensor(1.0003))]), 'w': OrderedDict([('n_eff', tensor([166.6747, 157.4547, 259.2556, 118.0631, 214.5151, 140.4923, 207.6795,\n",
      "        134.4528, 138.3686, 100.6195])), ('r_hat', tensor([0.9994, 1.0179, 1.0007, 0.9994, 0.9984, 0.9989, 0.9988, 1.0446, 1.0241,\n",
      "        1.0003]))]), 'divergences': {'chain 0': [42, 59, 121, 142, 345]}, 'acceptance rate': {'chain 0': 0.904}}\n",
      "Registering the results in:  SX_IJCAI_HYPERPARAMETER_NOISY_3/2024-01-11/iter-1_n-4_k-2_m-8_sigma_w-0.23111111111111113_sigma_p-0.45222222222222225_n_samples-500.yaml\n"
     ]
    },
    {
     "name": "stderr",
     "output_type": "stream",
     "text": [
      "Sample: 100%|████████████████████████████| 1000/1000 [00:59, 16.67it/s, step size=1.22e-01, acc. prob=0.892]\n"
     ]
    },
    {
     "name": "stdout",
     "output_type": "stream",
     "text": [
      "diag:  {'sigma': OrderedDict([('n_eff', tensor(238.4900)), ('r_hat', tensor(0.9987))]), 'w': OrderedDict([('n_eff', tensor([214.6105, 290.1219, 400.5123, 261.5255, 270.0005, 311.0524, 339.5658,\n",
      "        312.1104, 299.2657, 493.7655])), ('r_hat', tensor([0.9992, 0.9994, 0.9995, 0.9996, 0.9980, 1.0051, 1.0038, 1.0204, 1.0069,\n",
      "        0.9980]))]), 'divergences': {'chain 0': [81, 88, 122, 210, 276]}, 'acceptance rate': {'chain 0': 0.994}}\n",
      "Registering the results in:  SX_IJCAI_HYPERPARAMETER_NOISY_3/2024-01-11/iter-1_n-4_k-2_m-8_sigma_w-0.23111111111111113_sigma_p-0.6733333333333333_n_samples-500.yaml\n"
     ]
    },
    {
     "name": "stderr",
     "output_type": "stream",
     "text": [
      "Sample: 100%|████████████████████████████| 1000/1000 [00:58, 17.04it/s, step size=1.92e-01, acc. prob=0.648]\n"
     ]
    },
    {
     "name": "stdout",
     "output_type": "stream",
     "text": [
      "diag:  {'sigma': OrderedDict([('n_eff', tensor(50.6763)), ('r_hat', tensor(1.0204))]), 'w': OrderedDict([('n_eff', tensor([ 36.0800, 127.3677, 115.4466,  54.9795, 230.9062,  68.5519,  45.8060,\n",
      "        220.4799, 187.0844,  99.3046])), ('r_hat', tensor([0.9983, 1.0157, 1.0049, 1.0008, 0.9995, 0.9981, 0.9984, 1.0073, 0.9982,\n",
      "        1.0048]))]), 'divergences': {'chain 0': [47, 99, 143, 145, 146, 149, 150, 232, 233, 240, 247, 249, 252, 253, 258, 259, 260, 263, 290, 291, 296, 304, 311, 325, 468]}, 'acceptance rate': {'chain 0': 0.852}}\n",
      "Registering the results in:  SX_IJCAI_HYPERPARAMETER_NOISY_3/2024-01-11/iter-1_n-4_k-2_m-8_sigma_w-0.23111111111111113_sigma_p-0.8944444444444445_n_samples-500.yaml\n"
     ]
    },
    {
     "name": "stderr",
     "output_type": "stream",
     "text": [
      "Sample: 100%|████████████████████████████| 1000/1000 [01:02, 16.11it/s, step size=1.48e-01, acc. prob=0.821]\n"
     ]
    },
    {
     "name": "stdout",
     "output_type": "stream",
     "text": [
      "diag:  {'sigma': OrderedDict([('n_eff', tensor(166.9951)), ('r_hat', tensor(1.0396))]), 'w': OrderedDict([('n_eff', tensor([196.6920, 199.0168, 251.5734, 363.8559, 304.8251, 226.7793, 228.0837,\n",
      "        296.2753, 315.7311, 140.5190])), ('r_hat', tensor([0.9996, 0.9986, 0.9997, 0.9996, 0.9981, 0.9981, 0.9981, 0.9984, 0.9985,\n",
      "        1.0095]))]), 'divergences': {'chain 0': [204, 375, 442, 455]}, 'acceptance rate': {'chain 0': 0.974}}\n",
      "Registering the results in:  SX_IJCAI_HYPERPARAMETER_NOISY_3/2024-01-11/iter-1_n-4_k-2_m-8_sigma_w-0.23111111111111113_sigma_p-1.1155555555555556_n_samples-500.yaml\n"
     ]
    },
    {
     "name": "stderr",
     "output_type": "stream",
     "text": [
      "Sample: 100%|████████████████████████████| 1000/1000 [00:49, 20.23it/s, step size=2.05e-01, acc. prob=0.733]\n"
     ]
    },
    {
     "name": "stdout",
     "output_type": "stream",
     "text": [
      "diag:  {'sigma': OrderedDict([('n_eff', tensor(109.6204)), ('r_hat', tensor(0.9998))]), 'w': OrderedDict([('n_eff', tensor([120.1475, 165.2520, 186.3120, 136.9027, 386.2389, 193.8970, 122.6739,\n",
      "        195.7529,  70.9074, 218.3478])), ('r_hat', tensor([1.0002, 1.0206, 0.9989, 1.0010, 0.9987, 1.0014, 1.0072, 1.0274, 1.0156,\n",
      "        0.9988]))]), 'divergences': {'chain 0': [213, 214, 309, 323, 326, 341, 363, 405]}, 'acceptance rate': {'chain 0': 0.946}}\n",
      "Registering the results in:  SX_IJCAI_HYPERPARAMETER_NOISY_3/2024-01-11/iter-1_n-4_k-2_m-8_sigma_w-0.23111111111111113_sigma_p-1.3366666666666667_n_samples-500.yaml\n"
     ]
    },
    {
     "name": "stderr",
     "output_type": "stream",
     "text": [
      "Sample: 100%|████████████████████████████| 1000/1000 [01:06, 15.14it/s, step size=1.43e-01, acc. prob=0.811]\n"
     ]
    },
    {
     "name": "stdout",
     "output_type": "stream",
     "text": [
      "diag:  {'sigma': OrderedDict([('n_eff', tensor(178.6321)), ('r_hat', tensor(1.0008))]), 'w': OrderedDict([('n_eff', tensor([214.2778, 279.4372, 201.0698, 216.4266, 136.7178, 272.8645, 175.2951,\n",
      "        147.5749, 234.2938, 290.1163])), ('r_hat', tensor([0.9998, 0.9987, 1.0040, 1.0012, 1.0218, 0.9980, 0.9981, 0.9981, 0.9983,\n",
      "        1.0028]))]), 'divergences': {'chain 0': [12, 14, 15, 251, 426, 453, 483]}, 'acceptance rate': {'chain 0': 0.984}}\n",
      "Registering the results in:  SX_IJCAI_HYPERPARAMETER_NOISY_3/2024-01-11/iter-1_n-4_k-2_m-8_sigma_w-0.23111111111111113_sigma_p-1.557777777777778_n_samples-500.yaml\n"
     ]
    },
    {
     "name": "stderr",
     "output_type": "stream",
     "text": [
      "Sample: 100%|████████████████████████████| 1000/1000 [00:52, 19.15it/s, step size=2.02e-01, acc. prob=0.610]\n"
     ]
    },
    {
     "name": "stdout",
     "output_type": "stream",
     "text": [
      "diag:  {'sigma': OrderedDict([('n_eff', tensor(80.5030)), ('r_hat', tensor(1.0008))]), 'w': OrderedDict([('n_eff', tensor([ 46.0319,  66.9696, 221.7408, 237.9688, 144.3084, 224.4440,  87.1201,\n",
      "         84.9215,  51.3350, 142.2342])), ('r_hat', tensor([1.0083, 1.0469, 1.0037, 1.0029, 1.0218, 1.0006, 1.0018, 1.0131, 1.0378,\n",
      "        1.0088]))]), 'divergences': {'chain 0': [7, 45, 53, 171, 234, 388, 438, 441, 444, 445, 448, 454, 462, 473, 474, 479, 480, 484, 485, 493, 496]}, 'acceptance rate': {'chain 0': 0.88}}\n",
      "Registering the results in:  SX_IJCAI_HYPERPARAMETER_NOISY_3/2024-01-11/iter-1_n-4_k-2_m-8_sigma_w-0.23111111111111113_sigma_p-1.778888888888889_n_samples-500.yaml\n"
     ]
    },
    {
     "name": "stderr",
     "output_type": "stream",
     "text": [
      "Sample: 100%|████████████████████████████| 1000/1000 [01:33, 10.71it/s, step size=8.69e-02, acc. prob=0.857]\n"
     ]
    },
    {
     "name": "stdout",
     "output_type": "stream",
     "text": [
      "diag:  {'sigma': OrderedDict([('n_eff', tensor(73.2810)), ('r_hat', tensor(1.0339))]), 'w': OrderedDict([('n_eff', tensor([164.5997, 356.8281, 257.6183, 151.2208, 246.3596, 283.2983, 129.8187,\n",
      "        213.4878, 294.2677, 276.7541])), ('r_hat', tensor([0.9980, 1.0000, 1.0058, 1.0318, 0.9993, 0.9983, 1.0273, 1.0053, 1.0029,\n",
      "        0.9980]))]), 'divergences': {'chain 0': []}, 'acceptance rate': {'chain 0': 0.988}}\n",
      "Registering the results in:  SX_IJCAI_HYPERPARAMETER_NOISY_3/2024-01-11/iter-1_n-4_k-2_m-8_sigma_w-0.23111111111111113_sigma_p-2.0_n_samples-500.yaml\n"
     ]
    },
    {
     "name": "stderr",
     "output_type": "stream",
     "text": [
      "Sample: 100%|████████████████████████████| 1000/1000 [01:31, 10.98it/s, step size=1.18e-01, acc. prob=0.645]\n"
     ]
    },
    {
     "name": "stdout",
     "output_type": "stream",
     "text": [
      "diag:  {'sigma': OrderedDict([('n_eff', tensor(23.4285)), ('r_hat', tensor(1.0890))]), 'w': OrderedDict([('n_eff', tensor([124.2204,  85.6135, 161.0661, 212.9832,  24.6238, 143.5836,  47.2419,\n",
      "        141.8689, 157.6144, 136.7531])), ('r_hat', tensor([1.0071, 0.9980, 1.0208, 1.0028, 1.1218, 1.0199, 1.0348, 1.0066, 1.0000,\n",
      "        1.0089]))]), 'divergences': {'chain 0': [386, 395, 397, 398, 399, 400, 402, 403, 408, 410, 411, 412, 413, 416, 417, 418, 421, 422, 425, 426, 428, 430, 437, 438, 440, 441, 442, 443, 445, 446, 447, 448, 451, 453, 455, 456, 457, 460, 461, 462, 468, 470, 472, 473, 474, 475, 476, 477, 478, 480, 483, 484, 488, 491, 492, 493, 495, 496]}, 'acceptance rate': {'chain 0': 0.842}}\n",
      "Registering the results in:  SX_IJCAI_HYPERPARAMETER_NOISY_3/2024-01-11/iter-1_n-4_k-2_m-8_sigma_w-0.45222222222222225_sigma_p-0.01_n_samples-500.yaml\n"
     ]
    },
    {
     "name": "stderr",
     "output_type": "stream",
     "text": [
      "Sample: 100%|████████████████████████████| 1000/1000 [01:12, 13.81it/s, step size=1.44e-01, acc. prob=0.870]\n"
     ]
    },
    {
     "name": "stdout",
     "output_type": "stream",
     "text": [
      "diag:  {'sigma': OrderedDict([('n_eff', tensor(247.8743)), ('r_hat', tensor(1.0001))]), 'w': OrderedDict([('n_eff', tensor([178.0498,  74.7707, 112.5620,  97.7645, 188.2433, 269.9917, 269.9666,\n",
      "        415.3719, 379.5548, 349.5240])), ('r_hat', tensor([1.0033, 1.0026, 1.0061, 1.0066, 1.0005, 1.0005, 1.0043, 0.9998, 0.9981,\n",
      "        0.9984]))]), 'divergences': {'chain 0': [214, 215, 336, 422, 455, 463, 469, 473]}, 'acceptance rate': {'chain 0': 0.994}}\n",
      "Registering the results in:  SX_IJCAI_HYPERPARAMETER_NOISY_3/2024-01-11/iter-1_n-4_k-2_m-8_sigma_w-0.45222222222222225_sigma_p-0.23111111111111113_n_samples-500.yaml\n"
     ]
    },
    {
     "name": "stderr",
     "output_type": "stream",
     "text": [
      "Sample: 100%|████████████████████████████| 1000/1000 [00:54, 18.49it/s, step size=2.15e-01, acc. prob=0.752]\n"
     ]
    },
    {
     "name": "stdout",
     "output_type": "stream",
     "text": [
      "diag:  {'sigma': OrderedDict([('n_eff', tensor(108.4596)), ('r_hat', tensor(1.0044))]), 'w': OrderedDict([('n_eff', tensor([249.9066, 142.3278, 293.7563, 229.1249, 409.7867, 345.5435, 222.5794,\n",
      "        207.1150, 376.9674, 209.6241])), ('r_hat', tensor([1.0022, 1.0012, 1.0045, 1.0078, 1.0040, 0.9999, 1.0142, 1.0262, 0.9986,\n",
      "        1.0083]))]), 'divergences': {'chain 0': [78, 396, 402, 403]}, 'acceptance rate': {'chain 0': 0.956}}\n",
      "Registering the results in:  SX_IJCAI_HYPERPARAMETER_NOISY_3/2024-01-11/iter-1_n-4_k-2_m-8_sigma_w-0.45222222222222225_sigma_p-0.45222222222222225_n_samples-500.yaml\n"
     ]
    },
    {
     "name": "stderr",
     "output_type": "stream",
     "text": [
      "Sample: 100%|████████████████████████████| 1000/1000 [01:32, 10.81it/s, step size=9.66e-02, acc. prob=0.762]\n"
     ]
    },
    {
     "name": "stdout",
     "output_type": "stream",
     "text": [
      "diag:  {'sigma': OrderedDict([('n_eff', tensor(99.0993)), ('r_hat', tensor(0.9982))]), 'w': OrderedDict([('n_eff', tensor([208.7035, 225.5303, 158.1639, 121.8826, 247.1739, 122.2692, 108.3277,\n",
      "        168.2990, 277.6914, 188.8700])), ('r_hat', tensor([1.0110, 0.9996, 1.0123, 1.0274, 0.9983, 1.0342, 1.0156, 0.9984, 0.9995,\n",
      "        1.0112]))]), 'divergences': {'chain 0': [25, 27, 28, 32, 312, 313, 426]}, 'acceptance rate': {'chain 0': 0.954}}\n",
      "Registering the results in:  SX_IJCAI_HYPERPARAMETER_NOISY_3/2024-01-11/iter-1_n-4_k-2_m-8_sigma_w-0.45222222222222225_sigma_p-0.6733333333333333_n_samples-500.yaml\n"
     ]
    },
    {
     "name": "stderr",
     "output_type": "stream",
     "text": [
      "Sample: 100%|████████████████████████████| 1000/1000 [01:05, 15.36it/s, step size=1.62e-01, acc. prob=0.837]\n"
     ]
    },
    {
     "name": "stdout",
     "output_type": "stream",
     "text": [
      "diag:  {'sigma': OrderedDict([('n_eff', tensor(144.1455)), ('r_hat', tensor(1.0017))]), 'w': OrderedDict([('n_eff', tensor([233.7485, 275.4200, 266.2453, 188.5728, 298.1413, 271.0762, 314.5588,\n",
      "        253.5166, 319.9717, 302.0744])), ('r_hat', tensor([1.0054, 1.0058, 0.9987, 1.0026, 1.0083, 0.9991, 0.9983, 1.0136, 0.9981,\n",
      "        1.0027]))]), 'divergences': {'chain 0': [123, 217, 221, 363, 433, 439]}, 'acceptance rate': {'chain 0': 0.978}}\n",
      "Registering the results in:  SX_IJCAI_HYPERPARAMETER_NOISY_3/2024-01-11/iter-1_n-4_k-2_m-8_sigma_w-0.45222222222222225_sigma_p-0.8944444444444445_n_samples-500.yaml\n"
     ]
    },
    {
     "name": "stderr",
     "output_type": "stream",
     "text": [
      "Sample: 100%|████████████████████████████| 1000/1000 [01:32, 10.77it/s, step size=9.23e-02, acc. prob=0.856]\n"
     ]
    },
    {
     "name": "stdout",
     "output_type": "stream",
     "text": [
      "diag:  {'sigma': OrderedDict([('n_eff', tensor(196.7220)), ('r_hat', tensor(1.0001))]), 'w': OrderedDict([('n_eff', tensor([162.8647, 169.4494, 188.9344, 165.5418, 170.9405, 142.8577, 263.4189,\n",
      "        420.6268, 169.8819,  51.6804])), ('r_hat', tensor([1.0115, 0.9984, 0.9981, 0.9982, 0.9991, 1.0135, 0.9993, 0.9986, 0.9980,\n",
      "        1.0828]))]), 'divergences': {'chain 0': [188, 193, 200, 212, 220, 486, 487]}, 'acceptance rate': {'chain 0': 0.99}}\n",
      "Registering the results in:  SX_IJCAI_HYPERPARAMETER_NOISY_3/2024-01-11/iter-1_n-4_k-2_m-8_sigma_w-0.45222222222222225_sigma_p-1.1155555555555556_n_samples-500.yaml\n"
     ]
    },
    {
     "name": "stderr",
     "output_type": "stream",
     "text": [
      "Sample: 100%|████████████████████████████| 1000/1000 [01:00, 16.49it/s, step size=1.79e-01, acc. prob=0.673]\n"
     ]
    },
    {
     "name": "stdout",
     "output_type": "stream",
     "text": [
      "diag:  {'sigma': OrderedDict([('n_eff', tensor(65.8889)), ('r_hat', tensor(1.0069))]), 'w': OrderedDict([('n_eff', tensor([106.4581, 123.5497, 116.0627,  95.4320,  93.5105, 173.2891,  81.1346,\n",
      "         64.9825, 162.1670,  90.5081])), ('r_hat', tensor([1.0240, 1.0000, 1.0226, 1.0144, 0.9987, 1.0050, 1.0277, 0.9995, 1.0051,\n",
      "        1.0194]))]), 'divergences': {'chain 0': [60, 96, 99, 112, 114, 141, 406]}, 'acceptance rate': {'chain 0': 0.922}}\n",
      "Registering the results in:  SX_IJCAI_HYPERPARAMETER_NOISY_3/2024-01-11/iter-1_n-4_k-2_m-8_sigma_w-0.45222222222222225_sigma_p-1.3366666666666667_n_samples-500.yaml\n"
     ]
    },
    {
     "name": "stderr",
     "output_type": "stream",
     "text": [
      "Sample: 100%|████████████████████████████| 1000/1000 [01:15, 13.19it/s, step size=1.20e-01, acc. prob=0.818]\n"
     ]
    },
    {
     "name": "stdout",
     "output_type": "stream",
     "text": [
      "diag:  {'sigma': OrderedDict([('n_eff', tensor(250.2275)), ('r_hat', tensor(0.9985))]), 'w': OrderedDict([('n_eff', tensor([256.0251, 218.1008, 228.2934, 248.3685, 355.3956, 221.8092, 301.6847,\n",
      "        247.5803, 184.6265, 156.8343])), ('r_hat', tensor([1.0002, 1.0038, 0.9981, 1.0066, 1.0018, 1.0012, 0.9985, 1.0125, 1.0074,\n",
      "        0.9984]))]), 'divergences': {'chain 0': []}, 'acceptance rate': {'chain 0': 0.974}}\n",
      "Registering the results in:  SX_IJCAI_HYPERPARAMETER_NOISY_3/2024-01-11/iter-1_n-4_k-2_m-8_sigma_w-0.45222222222222225_sigma_p-1.557777777777778_n_samples-500.yaml\n"
     ]
    },
    {
     "name": "stderr",
     "output_type": "stream",
     "text": [
      "Sample: 100%|████████████████████████████| 1000/1000 [00:41, 24.27it/s, step size=1.86e-01, acc. prob=0.824]\n"
     ]
    },
    {
     "name": "stdout",
     "output_type": "stream",
     "text": [
      "diag:  {'sigma': OrderedDict([('n_eff', tensor(121.2549)), ('r_hat', tensor(0.9983))]), 'w': OrderedDict([('n_eff', tensor([179.8861, 262.9154, 204.8786, 251.7335, 159.5461, 234.2461, 245.3223,\n",
      "        365.1326, 274.2234, 375.0529])), ('r_hat', tensor([1.0016, 0.9981, 1.0000, 0.9980, 0.9981, 1.0128, 0.9985, 1.0004, 0.9986,\n",
      "        0.9991]))]), 'divergences': {'chain 0': [9, 207, 458, 464]}, 'acceptance rate': {'chain 0': 0.988}}\n",
      "Registering the results in:  SX_IJCAI_HYPERPARAMETER_NOISY_3/2024-01-11/iter-1_n-4_k-2_m-8_sigma_w-0.45222222222222225_sigma_p-1.778888888888889_n_samples-500.yaml\n"
     ]
    },
    {
     "name": "stderr",
     "output_type": "stream",
     "text": [
      "Sample: 100%|████████████████████████████| 1000/1000 [00:39, 25.33it/s, step size=1.20e-01, acc. prob=0.753]\n"
     ]
    },
    {
     "name": "stdout",
     "output_type": "stream",
     "text": [
      "diag:  {'sigma': OrderedDict([('n_eff', tensor(81.6390)), ('r_hat', tensor(1.0332))]), 'w': OrderedDict([('n_eff', tensor([200.0497, 119.3233,  81.2897, 230.2025,  95.1825, 268.0774, 129.6381,\n",
      "        120.3719, 133.2643, 210.5116])), ('r_hat', tensor([1.0340, 1.0144, 1.0102, 0.9989, 1.0135, 1.0069, 1.0214, 0.9990, 1.0171,\n",
      "        1.0022]))]), 'divergences': {'chain 0': [40, 108, 145, 168, 255, 260, 453]}, 'acceptance rate': {'chain 0': 0.952}}\n",
      "Registering the results in:  SX_IJCAI_HYPERPARAMETER_NOISY_3/2024-01-11/iter-1_n-4_k-2_m-8_sigma_w-0.45222222222222225_sigma_p-2.0_n_samples-500.yaml\n"
     ]
    },
    {
     "name": "stderr",
     "output_type": "stream",
     "text": [
      "Sample: 100%|████████████████████████████| 1000/1000 [01:00, 16.59it/s, step size=9.91e-02, acc. prob=0.879]\n"
     ]
    },
    {
     "name": "stdout",
     "output_type": "stream",
     "text": [
      "diag:  {'sigma': OrderedDict([('n_eff', tensor(195.9991)), ('r_hat', tensor(1.0069))]), 'w': OrderedDict([('n_eff', tensor([201.6306, 186.0936, 156.9649, 193.5503, 237.7355, 261.5854, 261.0251,\n",
      "        240.1201, 124.5007, 218.7114])), ('r_hat', tensor([0.9999, 1.0133, 0.9990, 1.0125, 0.9983, 1.0016, 0.9983, 0.9987, 1.0232,\n",
      "        1.0027]))]), 'divergences': {'chain 0': [3, 7, 58]}, 'acceptance rate': {'chain 0': 0.99}}\n",
      "Registering the results in:  SX_IJCAI_HYPERPARAMETER_NOISY_3/2024-01-11/iter-1_n-4_k-2_m-8_sigma_w-0.6733333333333333_sigma_p-0.01_n_samples-500.yaml\n"
     ]
    },
    {
     "name": "stderr",
     "output_type": "stream",
     "text": [
      "Sample: 100%|████████████████████████████| 1000/1000 [00:58, 17.00it/s, step size=1.61e-01, acc. prob=0.689]\n"
     ]
    },
    {
     "name": "stdout",
     "output_type": "stream",
     "text": [
      "diag:  {'sigma': OrderedDict([('n_eff', tensor(39.1496)), ('r_hat', tensor(1.0497))]), 'w': OrderedDict([('n_eff', tensor([ 83.1063, 193.9397,  80.3792, 182.8190, 144.6092, 253.0171, 112.1195,\n",
      "        189.1761, 185.2633, 204.8278])), ('r_hat', tensor([0.9982, 1.0071, 1.0035, 0.9984, 1.0254, 1.0175, 0.9981, 1.0310, 1.0024,\n",
      "        1.0009]))]), 'divergences': {'chain 0': [71, 134, 137, 138, 139, 140, 142, 147, 149, 150, 154, 156, 162, 167, 170, 171, 174, 182, 184, 185, 188, 190, 191, 192, 193]}, 'acceptance rate': {'chain 0': 0.898}}\n",
      "Registering the results in:  SX_IJCAI_HYPERPARAMETER_NOISY_3/2024-01-11/iter-1_n-4_k-2_m-8_sigma_w-0.6733333333333333_sigma_p-0.23111111111111113_n_samples-500.yaml\n"
     ]
    },
    {
     "name": "stderr",
     "output_type": "stream",
     "text": [
      "Sample: 100%|████████████████████████████| 1000/1000 [01:10, 14.13it/s, step size=1.70e-01, acc. prob=0.694]\n"
     ]
    },
    {
     "name": "stdout",
     "output_type": "stream",
     "text": [
      "diag:  {'sigma': OrderedDict([('n_eff', tensor(129.8782)), ('r_hat', tensor(1.0019))]), 'w': OrderedDict([('n_eff', tensor([224.7063, 230.0716, 203.6295, 146.3813, 141.7536, 205.2397, 152.0598,\n",
      "        244.5347, 150.2521, 180.6991])), ('r_hat', tensor([0.9999, 0.9983, 1.0179, 1.0044, 1.0177, 1.0260, 1.0232, 0.9988, 0.9983,\n",
      "        1.0082]))]), 'divergences': {'chain 0': [138, 153, 160, 168, 177, 182, 231, 333, 367, 413, 484, 486]}, 'acceptance rate': {'chain 0': 0.958}}\n",
      "Registering the results in:  SX_IJCAI_HYPERPARAMETER_NOISY_3/2024-01-11/iter-1_n-4_k-2_m-8_sigma_w-0.6733333333333333_sigma_p-0.45222222222222225_n_samples-500.yaml\n"
     ]
    },
    {
     "name": "stderr",
     "output_type": "stream",
     "text": [
      "Sample: 100%|████████████████████████████| 1000/1000 [01:04, 15.45it/s, step size=1.62e-01, acc. prob=0.713]\n"
     ]
    },
    {
     "name": "stdout",
     "output_type": "stream",
     "text": [
      "diag:  {'sigma': OrderedDict([('n_eff', tensor(153.5362)), ('r_hat', tensor(1.0005))]), 'w': OrderedDict([('n_eff', tensor([164.8033, 201.4445, 150.2856, 236.6877, 191.4207, 135.9648, 306.1596,\n",
      "        376.0421, 353.6682, 285.0968])), ('r_hat', tensor([0.9985, 0.9981, 1.0009, 0.9982, 0.9989, 1.0036, 0.9992, 0.9980, 1.0030,\n",
      "        0.9981]))]), 'divergences': {'chain 0': [113, 149, 425, 471, 498]}, 'acceptance rate': {'chain 0': 0.95}}\n",
      "Registering the results in:  SX_IJCAI_HYPERPARAMETER_NOISY_3/2024-01-11/iter-1_n-4_k-2_m-8_sigma_w-0.6733333333333333_sigma_p-0.6733333333333333_n_samples-500.yaml\n"
     ]
    },
    {
     "name": "stderr",
     "output_type": "stream",
     "text": [
      "Sample: 100%|████████████████████████████| 1000/1000 [01:00, 16.56it/s, step size=1.90e-01, acc. prob=0.732]\n"
     ]
    },
    {
     "name": "stdout",
     "output_type": "stream",
     "text": [
      "diag:  {'sigma': OrderedDict([('n_eff', tensor(73.0938)), ('r_hat', tensor(1.0031))]), 'w': OrderedDict([('n_eff', tensor([197.8787, 203.1809, 171.8208, 235.0944, 156.7139, 202.6578, 186.8108,\n",
      "        231.3547, 222.8997, 309.7958])), ('r_hat', tensor([1.0145, 1.0053, 1.0003, 0.9980, 1.0082, 0.9984, 0.9981, 0.9982, 0.9987,\n",
      "        1.0001]))]), 'divergences': {'chain 0': [7, 66, 158, 231, 295, 349, 383]}, 'acceptance rate': {'chain 0': 0.956}}\n",
      "Registering the results in:  SX_IJCAI_HYPERPARAMETER_NOISY_3/2024-01-11/iter-1_n-4_k-2_m-8_sigma_w-0.6733333333333333_sigma_p-0.8944444444444445_n_samples-500.yaml\n"
     ]
    },
    {
     "name": "stderr",
     "output_type": "stream",
     "text": [
      "Sample: 100%|████████████████████████████| 1000/1000 [01:06, 15.05it/s, step size=1.45e-01, acc. prob=0.735]\n"
     ]
    },
    {
     "name": "stdout",
     "output_type": "stream",
     "text": [
      "diag:  {'sigma': OrderedDict([('n_eff', tensor(120.6638)), ('r_hat', tensor(0.9993))]), 'w': OrderedDict([('n_eff', tensor([139.9563, 242.0458, 229.9950, 117.0733, 182.2736, 250.5080,  83.6138,\n",
      "        191.9850, 200.6286, 100.3943])), ('r_hat', tensor([1.0205, 1.0125, 1.0036, 1.0112, 0.9984, 0.9984, 1.0611, 1.0180, 1.0256,\n",
      "        1.0169]))]), 'divergences': {'chain 0': [126, 131, 132, 133, 134, 139, 142, 143, 144, 145, 147, 325, 366]}, 'acceptance rate': {'chain 0': 0.914}}\n",
      "Registering the results in:  SX_IJCAI_HYPERPARAMETER_NOISY_3/2024-01-11/iter-1_n-4_k-2_m-8_sigma_w-0.6733333333333333_sigma_p-1.1155555555555556_n_samples-500.yaml\n"
     ]
    },
    {
     "name": "stderr",
     "output_type": "stream",
     "text": [
      "Sample: 100%|████████████████████████████| 1000/1000 [01:17, 12.98it/s, step size=9.62e-02, acc. prob=0.914]\n"
     ]
    },
    {
     "name": "stdout",
     "output_type": "stream",
     "text": [
      "diag:  {'sigma': OrderedDict([('n_eff', tensor(216.2604)), ('r_hat', tensor(0.9994))]), 'w': OrderedDict([('n_eff', tensor([249.1977, 257.7459, 253.9909, 286.6989, 266.1035, 334.0273, 266.6903,\n",
      "        360.1750, 245.9342, 221.0109])), ('r_hat', tensor([0.9983, 0.9983, 0.9994, 1.0015, 1.0005, 0.9982, 0.9983, 0.9980, 0.9999,\n",
      "        0.9985]))]), 'divergences': {'chain 0': [170, 172, 277, 291]}, 'acceptance rate': {'chain 0': 0.998}}\n",
      "Registering the results in:  SX_IJCAI_HYPERPARAMETER_NOISY_3/2024-01-11/iter-1_n-4_k-2_m-8_sigma_w-0.6733333333333333_sigma_p-1.3366666666666667_n_samples-500.yaml\n"
     ]
    },
    {
     "name": "stderr",
     "output_type": "stream",
     "text": [
      "Sample: 100%|████████████████████████████| 1000/1000 [00:51, 19.59it/s, step size=1.99e-01, acc. prob=0.775]\n"
     ]
    },
    {
     "name": "stdout",
     "output_type": "stream",
     "text": [
      "diag:  {'sigma': OrderedDict([('n_eff', tensor(83.5918)), ('r_hat', tensor(1.0080))]), 'w': OrderedDict([('n_eff', tensor([247.1052, 167.1389, 157.3115, 267.0069, 147.6949, 135.6325, 323.1009,\n",
      "        115.6745, 313.9296, 232.1492])), ('r_hat', tensor([1.0053, 0.9995, 0.9989, 1.0010, 1.0009, 1.0015, 1.0015, 1.0004, 0.9981,\n",
      "        1.0143]))]), 'divergences': {'chain 0': [26, 33, 37, 38, 39, 44, 49, 334, 338]}, 'acceptance rate': {'chain 0': 0.97}}\n",
      "Registering the results in:  SX_IJCAI_HYPERPARAMETER_NOISY_3/2024-01-11/iter-1_n-4_k-2_m-8_sigma_w-0.6733333333333333_sigma_p-1.557777777777778_n_samples-500.yaml\n"
     ]
    },
    {
     "name": "stderr",
     "output_type": "stream",
     "text": [
      "Sample: 100%|████████████████████████████| 1000/1000 [01:16, 13.00it/s, step size=1.47e-01, acc. prob=0.804]\n"
     ]
    },
    {
     "name": "stdout",
     "output_type": "stream",
     "text": [
      "diag:  {'sigma': OrderedDict([('n_eff', tensor(154.3784)), ('r_hat', tensor(0.9980))]), 'w': OrderedDict([('n_eff', tensor([213.6553, 172.6617, 330.9246, 254.6998, 285.8645, 199.9707, 291.8040,\n",
      "        243.0540, 240.9355, 344.8976])), ('r_hat', tensor([1.0012, 1.0170, 1.0014, 1.0012, 0.9980, 0.9990, 1.0038, 1.0102, 0.9980,\n",
      "        0.9995]))]), 'divergences': {'chain 0': [35, 229, 230, 234, 292]}, 'acceptance rate': {'chain 0': 0.984}}\n",
      "Registering the results in:  SX_IJCAI_HYPERPARAMETER_NOISY_3/2024-01-11/iter-1_n-4_k-2_m-8_sigma_w-0.6733333333333333_sigma_p-1.778888888888889_n_samples-500.yaml\n"
     ]
    },
    {
     "name": "stderr",
     "output_type": "stream",
     "text": [
      "Sample: 100%|████████████████████████████| 1000/1000 [01:28, 11.25it/s, step size=1.03e-01, acc. prob=0.829]\n"
     ]
    },
    {
     "name": "stdout",
     "output_type": "stream",
     "text": [
      "diag:  {'sigma': OrderedDict([('n_eff', tensor(206.1193)), ('r_hat', tensor(1.0033))]), 'w': OrderedDict([('n_eff', tensor([200.2945, 133.7438, 146.5045, 210.3790, 285.0201, 176.2966, 320.7472,\n",
      "        232.4404, 170.7142, 287.1540])), ('r_hat', tensor([1.0004, 1.0060, 0.9995, 0.9999, 1.0007, 0.9983, 1.0074, 1.0001, 1.0072,\n",
      "        1.0024]))]), 'divergences': {'chain 0': [177]}, 'acceptance rate': {'chain 0': 0.986}}\n",
      "Registering the results in:  SX_IJCAI_HYPERPARAMETER_NOISY_3/2024-01-11/iter-1_n-4_k-2_m-8_sigma_w-0.6733333333333333_sigma_p-2.0_n_samples-500.yaml\n"
     ]
    },
    {
     "name": "stderr",
     "output_type": "stream",
     "text": [
      "Sample: 100%|████████████████████████████| 1000/1000 [01:22, 12.14it/s, step size=9.36e-02, acc. prob=0.772]\n"
     ]
    },
    {
     "name": "stdout",
     "output_type": "stream",
     "text": [
      "diag:  {'sigma': OrderedDict([('n_eff', tensor(111.3339)), ('r_hat', tensor(0.9990))]), 'w': OrderedDict([('n_eff', tensor([177.5529, 126.1045, 142.1568, 236.4787, 135.8236, 165.3569, 176.9002,\n",
      "        176.4364, 289.0541, 233.1762])), ('r_hat', tensor([1.0018, 0.9992, 1.0008, 1.0123, 0.9982, 0.9980, 1.0045, 0.9994, 0.9980,\n",
      "        1.0072]))]), 'divergences': {'chain 0': [125, 387]}, 'acceptance rate': {'chain 0': 0.968}}\n",
      "Registering the results in:  SX_IJCAI_HYPERPARAMETER_NOISY_3/2024-01-11/iter-1_n-4_k-2_m-8_sigma_w-0.8944444444444445_sigma_p-0.01_n_samples-500.yaml\n"
     ]
    },
    {
     "name": "stderr",
     "output_type": "stream",
     "text": [
      "Sample: 100%|████████████████████████████| 1000/1000 [00:57, 17.25it/s, step size=1.74e-01, acc. prob=0.797]\n"
     ]
    },
    {
     "name": "stdout",
     "output_type": "stream",
     "text": [
      "diag:  {'sigma': OrderedDict([('n_eff', tensor(110.1247)), ('r_hat', tensor(0.9998))]), 'w': OrderedDict([('n_eff', tensor([273.6274, 326.5901, 247.4222, 188.5406, 305.4040, 141.8452, 343.4420,\n",
      "        268.0887, 333.8144, 215.1431])), ('r_hat', tensor([1.0007, 1.0154, 1.0005, 0.9984, 1.0063, 1.0002, 1.0034, 0.9983, 1.0054,\n",
      "        0.9981]))]), 'divergences': {'chain 0': [377, 444]}, 'acceptance rate': {'chain 0': 0.966}}\n",
      "Registering the results in:  SX_IJCAI_HYPERPARAMETER_NOISY_3/2024-01-11/iter-1_n-4_k-2_m-8_sigma_w-0.8944444444444445_sigma_p-0.23111111111111113_n_samples-500.yaml\n"
     ]
    },
    {
     "name": "stderr",
     "output_type": "stream",
     "text": [
      "Sample: 100%|████████████████████████████| 1000/1000 [00:45, 21.95it/s, step size=1.63e-01, acc. prob=0.266]\n"
     ]
    },
    {
     "name": "stdout",
     "output_type": "stream",
     "text": [
      "diag:  {'sigma': OrderedDict([('n_eff', tensor(10.4721)), ('r_hat', tensor(1.1164))]), 'w': OrderedDict([('n_eff', tensor([13.2445, 11.6998,  5.4384, 14.2602, 14.5301, 23.6656,  4.5501,  5.3461,\n",
      "        12.6228, 12.4959])), ('r_hat', tensor([1.1116, 1.1595, 1.5884, 1.0103, 0.9980, 1.0003, 1.9339, 1.6931, 1.0170,\n",
      "        1.1336]))]), 'divergences': {'chain 0': [82, 87, 88, 112, 126, 127, 129, 131, 132, 136, 137, 138, 140, 142, 144, 145, 146, 147, 148, 150, 151, 153, 154, 155, 156, 158, 162, 163, 169, 171, 174, 176, 178, 179, 180, 181, 183, 184, 187, 188, 191, 195, 198, 199, 200, 201, 203, 205, 206, 207, 208, 209, 210, 211, 212, 214, 215, 216, 217, 218, 219, 220, 221, 222, 223, 226, 227, 228, 230, 231, 232, 233, 237, 238, 239, 240, 241, 243, 244, 245, 247, 248, 249, 251, 252, 254, 255, 256, 257, 259, 261, 262, 263, 264, 265, 266, 268, 270, 271, 272, 273, 275, 276, 278, 279, 280, 282, 283, 284, 285, 286, 288, 290, 291, 294, 295, 296, 297, 298, 299, 300, 303, 305, 308, 310, 311, 312, 313, 314, 316, 317, 318, 320, 321, 323, 324, 325, 327, 328, 330, 331, 333, 336, 338, 339, 342, 343, 347, 350, 351, 352, 354, 355, 356, 357, 358, 359, 363, 365, 366, 367, 368, 372, 374, 375, 376, 377, 380, 381, 382, 383, 384, 385, 386, 389, 391, 392, 394, 395, 396, 397, 398, 399, 400, 401, 402, 403, 405, 406, 407, 413, 415, 416, 417, 418, 419, 420, 421, 422, 423, 424, 427, 428, 429, 430, 432, 433, 434, 436, 437, 438, 439, 441, 442, 445, 446, 447, 448, 449, 450, 451, 453, 454, 456, 459, 462, 464, 466, 473, 474, 475, 477, 480, 481, 483, 487, 489, 492]}, 'acceptance rate': {'chain 0': 0.622}}\n",
      "Registering the results in:  SX_IJCAI_HYPERPARAMETER_NOISY_3/2024-01-11/iter-1_n-4_k-2_m-8_sigma_w-0.8944444444444445_sigma_p-0.45222222222222225_n_samples-500.yaml\n"
     ]
    },
    {
     "name": "stderr",
     "output_type": "stream",
     "text": [
      "Sample: 100%|████████████████████████████| 1000/1000 [01:09, 14.33it/s, step size=1.90e-01, acc. prob=0.744]\n"
     ]
    },
    {
     "name": "stdout",
     "output_type": "stream",
     "text": [
      "diag:  {'sigma': OrderedDict([('n_eff', tensor(135.2112)), ('r_hat', tensor(1.0063))]), 'w': OrderedDict([('n_eff', tensor([233.2815, 280.9953, 184.9203, 284.0383, 235.3979, 271.3222, 220.2866,\n",
      "        140.4621, 208.4102, 209.1097])), ('r_hat', tensor([0.9995, 0.9981, 0.9987, 0.9980, 1.0053, 0.9985, 0.9981, 1.0069, 0.9981,\n",
      "        1.0028]))]), 'divergences': {'chain 0': [19, 21, 108, 153, 218, 298, 413, 417, 458]}, 'acceptance rate': {'chain 0': 0.966}}\n",
      "Registering the results in:  SX_IJCAI_HYPERPARAMETER_NOISY_3/2024-01-11/iter-1_n-4_k-2_m-8_sigma_w-0.8944444444444445_sigma_p-0.6733333333333333_n_samples-500.yaml\n"
     ]
    },
    {
     "name": "stderr",
     "output_type": "stream",
     "text": [
      "Sample: 100%|████████████████████████████| 1000/1000 [01:04, 15.54it/s, step size=1.58e-01, acc. prob=0.720]\n"
     ]
    },
    {
     "name": "stdout",
     "output_type": "stream",
     "text": [
      "diag:  {'sigma': OrderedDict([('n_eff', tensor(42.9102)), ('r_hat', tensor(1.0156))]), 'w': OrderedDict([('n_eff', tensor([114.1013, 155.3103, 110.9763, 180.6854, 100.7857, 132.8862,  82.0280,\n",
      "         68.8894, 300.0854, 100.1902])), ('r_hat', tensor([0.9991, 1.0077, 1.0335, 1.0055, 1.0110, 0.9985, 1.0371, 1.0247, 0.9980,\n",
      "        1.0136]))]), 'divergences': {'chain 0': [238, 241, 242, 248, 251, 262, 266, 316, 325, 328, 330, 332, 337]}, 'acceptance rate': {'chain 0': 0.958}}\n",
      "Registering the results in:  SX_IJCAI_HYPERPARAMETER_NOISY_3/2024-01-11/iter-1_n-4_k-2_m-8_sigma_w-0.8944444444444445_sigma_p-0.8944444444444445_n_samples-500.yaml\n"
     ]
    },
    {
     "name": "stderr",
     "output_type": "stream",
     "text": [
      "Sample: 100%|████████████████████████████| 1000/1000 [01:10, 14.15it/s, step size=1.09e-01, acc. prob=0.576]\n"
     ]
    },
    {
     "name": "stdout",
     "output_type": "stream",
     "text": [
      "diag:  {'sigma': OrderedDict([('n_eff', tensor(26.6626)), ('r_hat', tensor(1.0639))]), 'w': OrderedDict([('n_eff', tensor([ 81.0794,  60.0598,  56.2651, 114.8171,  68.4430,  24.3914,  19.1813,\n",
      "         38.6675,  33.6456,  11.9804])), ('r_hat', tensor([0.9980, 1.0435, 1.0260, 0.9993, 1.0627, 1.1284, 0.9990, 1.0055, 1.0738,\n",
      "        1.1805]))]), 'divergences': {'chain 0': [119, 120, 122, 123, 126, 127, 128, 129, 131, 133, 134, 135, 136, 140, 142, 143, 144, 147, 151, 154, 155, 158, 159, 160, 161, 162, 164, 166, 167, 168, 169, 170, 171, 172, 173, 174, 175, 176, 177, 178, 180, 182, 183, 188, 189, 193, 194, 195, 196, 201, 206, 207, 210, 219, 224, 225, 227, 229, 231, 233, 234, 235, 238, 241, 244, 245, 246, 247, 248, 249, 255, 258, 259, 260, 261, 265, 370, 371, 383]}, 'acceptance rate': {'chain 0': 0.882}}\n",
      "Registering the results in:  SX_IJCAI_HYPERPARAMETER_NOISY_3/2024-01-11/iter-1_n-4_k-2_m-8_sigma_w-0.8944444444444445_sigma_p-1.1155555555555556_n_samples-500.yaml\n"
     ]
    },
    {
     "name": "stderr",
     "output_type": "stream",
     "text": [
      "Sample: 100%|████████████████████████████| 1000/1000 [01:11, 13.99it/s, step size=1.41e-01, acc. prob=0.877]\n"
     ]
    },
    {
     "name": "stdout",
     "output_type": "stream",
     "text": [
      "diag:  {'sigma': OrderedDict([('n_eff', tensor(175.8707)), ('r_hat', tensor(1.0009))]), 'w': OrderedDict([('n_eff', tensor([164.9256, 139.6153, 267.6985, 244.1808, 144.6691, 226.6629, 247.4342,\n",
      "        295.2109, 350.0228, 225.9366])), ('r_hat', tensor([1.0004, 1.0277, 0.9990, 0.9983, 1.0002, 0.9980, 0.9984, 1.0233, 1.0001,\n",
      "        0.9983]))]), 'divergences': {'chain 0': [314, 486]}, 'acceptance rate': {'chain 0': 0.968}}\n",
      "Registering the results in:  SX_IJCAI_HYPERPARAMETER_NOISY_3/2024-01-11/iter-1_n-4_k-2_m-8_sigma_w-0.8944444444444445_sigma_p-1.3366666666666667_n_samples-500.yaml\n"
     ]
    },
    {
     "name": "stderr",
     "output_type": "stream",
     "text": [
      "Sample: 100%|████████████████████████████| 1000/1000 [01:39, 10.09it/s, step size=1.02e-01, acc. prob=0.737]\n"
     ]
    },
    {
     "name": "stdout",
     "output_type": "stream",
     "text": [
      "diag:  {'sigma': OrderedDict([('n_eff', tensor(89.9374)), ('r_hat', tensor(0.9982))]), 'w': OrderedDict([('n_eff', tensor([163.3013,  47.9302, 162.8885,  32.4134, 117.3720, 178.6392,  56.9313,\n",
      "        116.2362,  89.8281,  58.4831])), ('r_hat', tensor([1.0256, 1.0204, 0.9985, 1.0067, 1.0228, 0.9985, 1.0147, 0.9990, 1.0024,\n",
      "        0.9990]))]), 'divergences': {'chain 0': [26, 218, 227, 229, 236, 237, 238, 239, 244, 251, 253, 258, 259, 260, 261, 262, 263, 264, 265, 268, 334, 425]}, 'acceptance rate': {'chain 0': 0.938}}\n",
      "Registering the results in:  SX_IJCAI_HYPERPARAMETER_NOISY_3/2024-01-11/iter-1_n-4_k-2_m-8_sigma_w-0.8944444444444445_sigma_p-1.557777777777778_n_samples-500.yaml\n"
     ]
    },
    {
     "name": "stderr",
     "output_type": "stream",
     "text": [
      "Sample: 100%|████████████████████████████| 1000/1000 [02:20,  7.12it/s, step size=4.84e-02, acc. prob=0.816]\n"
     ]
    },
    {
     "name": "stdout",
     "output_type": "stream",
     "text": [
      "diag:  {'sigma': OrderedDict([('n_eff', tensor(65.8953)), ('r_hat', tensor(0.9981))]), 'w': OrderedDict([('n_eff', tensor([195.7777, 151.8075, 141.9673, 245.3717, 394.2662,  51.7278, 213.1534,\n",
      "         82.9206, 134.7879, 218.5030])), ('r_hat', tensor([1.0038, 0.9980, 0.9984, 0.9998, 0.9980, 1.0075, 0.9980, 0.9994, 1.0001,\n",
      "        0.9992]))]), 'divergences': {'chain 0': [29, 48, 115, 130, 440]}, 'acceptance rate': {'chain 0': 0.974}}\n",
      "Registering the results in:  SX_IJCAI_HYPERPARAMETER_NOISY_3/2024-01-11/iter-1_n-4_k-2_m-8_sigma_w-0.8944444444444445_sigma_p-1.778888888888889_n_samples-500.yaml\n"
     ]
    },
    {
     "name": "stderr",
     "output_type": "stream",
     "text": [
      "Sample: 100%|████████████████████████████| 1000/1000 [01:36, 10.37it/s, step size=9.00e-02, acc. prob=0.848]\n"
     ]
    },
    {
     "name": "stdout",
     "output_type": "stream",
     "text": [
      "diag:  {'sigma': OrderedDict([('n_eff', tensor(135.5351)), ('r_hat', tensor(0.9981))]), 'w': OrderedDict([('n_eff', tensor([209.7742, 210.8969, 185.5633, 161.0491, 300.4940, 210.8861, 233.8730,\n",
      "        262.6731, 200.2855, 182.4156])), ('r_hat', tensor([0.9989, 1.0053, 1.0008, 0.9997, 0.9981, 1.0010, 0.9992, 0.9985, 1.0137,\n",
      "        1.0000]))]), 'divergences': {'chain 0': [119, 138, 295, 307, 337, 446]}, 'acceptance rate': {'chain 0': 0.982}}\n",
      "Registering the results in:  SX_IJCAI_HYPERPARAMETER_NOISY_3/2024-01-11/iter-1_n-4_k-2_m-8_sigma_w-0.8944444444444445_sigma_p-2.0_n_samples-500.yaml\n"
     ]
    },
    {
     "name": "stderr",
     "output_type": "stream",
     "text": [
      "Sample: 100%|████████████████████████████| 1000/1000 [01:59,  8.37it/s, step size=9.80e-02, acc. prob=0.672]\n"
     ]
    },
    {
     "name": "stdout",
     "output_type": "stream",
     "text": [
      "diag:  {'sigma': OrderedDict([('n_eff', tensor(88.2962)), ('r_hat', tensor(1.0051))]), 'w': OrderedDict([('n_eff', tensor([ 61.4825,  55.4891, 138.4248,  75.8635,  43.6532,  58.3844,  89.1746,\n",
      "        103.6673,  97.8504, 228.1828])), ('r_hat', tensor([1.0059, 1.0257, 1.0012, 1.0169, 1.0121, 1.0164, 1.0090, 0.9990, 1.0019,\n",
      "        1.0097]))]), 'divergences': {'chain 0': [25, 27, 227, 231, 464]}, 'acceptance rate': {'chain 0': 0.93}}\n",
      "Registering the results in:  SX_IJCAI_HYPERPARAMETER_NOISY_3/2024-01-11/iter-1_n-4_k-2_m-8_sigma_w-1.1155555555555556_sigma_p-0.01_n_samples-500.yaml\n"
     ]
    },
    {
     "name": "stderr",
     "output_type": "stream",
     "text": [
      "Sample: 100%|████████████████████████████| 1000/1000 [00:57, 17.44it/s, step size=1.68e-01, acc. prob=0.829]\n"
     ]
    },
    {
     "name": "stdout",
     "output_type": "stream",
     "text": [
      "diag:  {'sigma': OrderedDict([('n_eff', tensor(44.2270)), ('r_hat', tensor(1.0284))]), 'w': OrderedDict([('n_eff', tensor([222.8441, 126.2747, 189.7482, 106.2932, 144.2731, 186.4519, 181.7605,\n",
      "         81.6563, 110.0862, 102.8794])), ('r_hat', tensor([1.0126, 0.9989, 1.0019, 1.0037, 0.9996, 1.0190, 0.9986, 1.0159, 0.9989,\n",
      "        0.9982]))]), 'divergences': {'chain 0': [421]}, 'acceptance rate': {'chain 0': 0.982}}\n",
      "Registering the results in:  SX_IJCAI_HYPERPARAMETER_NOISY_3/2024-01-11/iter-1_n-4_k-2_m-8_sigma_w-1.1155555555555556_sigma_p-0.23111111111111113_n_samples-500.yaml\n"
     ]
    },
    {
     "name": "stderr",
     "output_type": "stream",
     "text": [
      "Sample: 100%|████████████████████████████| 1000/1000 [00:51, 19.44it/s, step size=2.59e-01, acc. prob=0.674]\n"
     ]
    },
    {
     "name": "stdout",
     "output_type": "stream",
     "text": [
      "diag:  {'sigma': OrderedDict([('n_eff', tensor(126.2141)), ('r_hat', tensor(1.0318))]), 'w': OrderedDict([('n_eff', tensor([ 96.4599, 132.3559, 103.8296,  92.0127,  56.4370, 170.6826, 194.7108,\n",
      "         62.4548, 300.0576, 215.4981])), ('r_hat', tensor([1.0069, 0.9986, 1.0204, 1.0527, 1.0147, 1.0028, 1.0154, 1.0096, 1.0012,\n",
      "        0.9982]))]), 'divergences': {'chain 0': [11, 26, 36, 93, 161, 175, 292, 293, 331, 346, 348, 351, 353, 365, 366, 367, 391, 441]}, 'acceptance rate': {'chain 0': 0.914}}\n",
      "Registering the results in:  SX_IJCAI_HYPERPARAMETER_NOISY_3/2024-01-11/iter-1_n-4_k-2_m-8_sigma_w-1.1155555555555556_sigma_p-0.45222222222222225_n_samples-500.yaml\n"
     ]
    },
    {
     "name": "stderr",
     "output_type": "stream",
     "text": [
      "Sample: 100%|████████████████████████████| 1000/1000 [01:08, 14.59it/s, step size=1.54e-01, acc. prob=0.739]\n"
     ]
    },
    {
     "name": "stdout",
     "output_type": "stream",
     "text": [
      "diag:  {'sigma': OrderedDict([('n_eff', tensor(134.1111)), ('r_hat', tensor(0.9980))]), 'w': OrderedDict([('n_eff', tensor([149.5125, 187.0767, 205.5277, 164.8347, 135.0260, 163.6375, 325.4830,\n",
      "         73.2885, 192.4910, 241.7925])), ('r_hat', tensor([1.0473, 0.9980, 1.0088, 1.0119, 0.9993, 1.0021, 1.0060, 0.9980, 0.9990,\n",
      "        0.9998]))]), 'divergences': {'chain 0': [85, 135, 410, 412, 413, 414, 428, 430, 443]}, 'acceptance rate': {'chain 0': 0.934}}\n",
      "Registering the results in:  SX_IJCAI_HYPERPARAMETER_NOISY_3/2024-01-11/iter-1_n-4_k-2_m-8_sigma_w-1.1155555555555556_sigma_p-0.6733333333333333_n_samples-500.yaml\n"
     ]
    },
    {
     "name": "stderr",
     "output_type": "stream",
     "text": [
      "Sample: 100%|████████████████████████████| 1000/1000 [00:54, 18.45it/s, step size=2.08e-01, acc. prob=0.459]\n"
     ]
    },
    {
     "name": "stdout",
     "output_type": "stream",
     "text": [
      "diag:  {'sigma': OrderedDict([('n_eff', tensor(11.1710)), ('r_hat', tensor(1.0555))]), 'w': OrderedDict([('n_eff', tensor([ 14.8020,  15.4989,  66.3707,   9.4780,  19.9807,  20.1863,   9.1171,\n",
      "        142.8253,  28.7636,  13.1892])), ('r_hat', tensor([1.2261, 1.1719, 1.1086, 1.1427, 0.9983, 1.1430, 1.2134, 0.9981, 1.0199,\n",
      "        1.0218]))]), 'divergences': {'chain 0': [90, 102, 119, 124, 127, 130, 131, 132, 133, 139, 142, 143, 144, 146, 147, 148, 150, 151, 152, 154, 155, 158, 159, 160, 161, 163, 164, 166, 167, 168, 169, 170, 171, 172, 176, 177, 178, 179, 181, 182, 184, 185, 186, 187, 189, 191, 192, 193, 195, 198, 199, 210, 214, 215, 223, 226, 235, 237, 240, 245, 247, 249, 251, 252, 254, 255, 257, 258, 262, 263, 264, 265, 267, 268, 269, 272, 277, 278, 280, 286, 288, 293, 298, 300, 302, 320, 332, 488, 490, 491]}, 'acceptance rate': {'chain 0': 0.724}}\n",
      "Registering the results in:  SX_IJCAI_HYPERPARAMETER_NOISY_3/2024-01-11/iter-1_n-4_k-2_m-8_sigma_w-1.1155555555555556_sigma_p-0.8944444444444445_n_samples-500.yaml\n"
     ]
    },
    {
     "name": "stderr",
     "output_type": "stream",
     "text": [
      "Sample: 100%|████████████████████████████| 1000/1000 [01:02, 15.96it/s, step size=1.55e-01, acc. prob=0.709]\n"
     ]
    },
    {
     "name": "stdout",
     "output_type": "stream",
     "text": [
      "diag:  {'sigma': OrderedDict([('n_eff', tensor(87.7143)), ('r_hat', tensor(0.9984))]), 'w': OrderedDict([('n_eff', tensor([ 28.9003,  88.2570, 145.9752, 100.7923, 113.1456,  44.4114, 225.2167,\n",
      "        126.1464, 170.0683, 131.1252])), ('r_hat', tensor([1.0365, 1.0080, 1.0411, 1.0062, 1.0084, 1.0499, 1.0075, 0.9981, 1.0064,\n",
      "        1.0346]))]), 'divergences': {'chain 0': [86, 218, 229, 296, 360, 363, 369, 374, 380, 382, 383, 384, 385, 393, 400]}, 'acceptance rate': {'chain 0': 0.944}}\n",
      "Registering the results in:  SX_IJCAI_HYPERPARAMETER_NOISY_3/2024-01-11/iter-1_n-4_k-2_m-8_sigma_w-1.1155555555555556_sigma_p-1.1155555555555556_n_samples-500.yaml\n"
     ]
    },
    {
     "name": "stderr",
     "output_type": "stream",
     "text": [
      "Sample: 100%|████████████████████████████| 1000/1000 [01:33, 10.74it/s, step size=9.94e-02, acc. prob=0.726]\n"
     ]
    },
    {
     "name": "stdout",
     "output_type": "stream",
     "text": [
      "diag:  {'sigma': OrderedDict([('n_eff', tensor(50.9696)), ('r_hat', tensor(1.0169))]), 'w': OrderedDict([('n_eff', tensor([ 86.5195, 213.9181,  43.8927,  24.0145,  73.5549,  91.2371,  88.9273,\n",
      "        282.8731, 154.1598,  21.4754])), ('r_hat', tensor([0.9986, 1.0075, 1.0386, 1.0416, 0.9985, 0.9995, 0.9991, 1.0009, 1.0134,\n",
      "        1.0312]))]), 'divergences': {'chain 0': [22, 65, 76, 362, 440]}, 'acceptance rate': {'chain 0': 0.94}}\n",
      "Registering the results in:  SX_IJCAI_HYPERPARAMETER_NOISY_3/2024-01-11/iter-1_n-4_k-2_m-8_sigma_w-1.1155555555555556_sigma_p-1.3366666666666667_n_samples-500.yaml\n"
     ]
    },
    {
     "name": "stderr",
     "output_type": "stream",
     "text": [
      "Sample: 100%|████████████████████████████| 1000/1000 [01:07, 14.87it/s, step size=1.68e-01, acc. prob=0.662]\n"
     ]
    },
    {
     "name": "stdout",
     "output_type": "stream",
     "text": [
      "diag:  {'sigma': OrderedDict([('n_eff', tensor(118.4098)), ('r_hat', tensor(1.0023))]), 'w': OrderedDict([('n_eff', tensor([ 97.2346, 168.4510, 100.9294, 117.7288, 147.0174, 134.3562, 196.2012,\n",
      "        129.4783, 151.8575, 177.0786])), ('r_hat', tensor([0.9980, 1.0041, 0.9987, 1.0033, 0.9987, 0.9989, 0.9986, 1.0056, 0.9986,\n",
      "        1.0020]))]), 'divergences': {'chain 0': [25, 54, 83, 95, 251, 286, 294, 322, 326, 328, 376, 378, 389, 394, 496]}, 'acceptance rate': {'chain 0': 0.918}}\n",
      "Registering the results in:  SX_IJCAI_HYPERPARAMETER_NOISY_3/2024-01-11/iter-1_n-4_k-2_m-8_sigma_w-1.1155555555555556_sigma_p-1.557777777777778_n_samples-500.yaml\n"
     ]
    },
    {
     "name": "stderr",
     "output_type": "stream",
     "text": [
      "Sample: 100%|████████████████████████████| 1000/1000 [00:54, 18.40it/s, step size=1.86e-01, acc. prob=0.715]\n"
     ]
    },
    {
     "name": "stdout",
     "output_type": "stream",
     "text": [
      "diag:  {'sigma': OrderedDict([('n_eff', tensor(165.3140)), ('r_hat', tensor(1.0020))]), 'w': OrderedDict([('n_eff', tensor([123.9712, 157.1343, 152.1570, 141.0476, 262.5314, 165.2534, 154.9712,\n",
      "        151.5129, 257.2769, 175.4428])), ('r_hat', tensor([1.0200, 1.0127, 1.0027, 0.9990, 0.9985, 1.0078, 1.0115, 0.9991, 0.9984,\n",
      "        1.0111]))]), 'divergences': {'chain 0': [7, 27, 92, 145, 383, 427, 489, 494, 496]}, 'acceptance rate': {'chain 0': 0.936}}\n",
      "Registering the results in:  SX_IJCAI_HYPERPARAMETER_NOISY_3/2024-01-11/iter-1_n-4_k-2_m-8_sigma_w-1.1155555555555556_sigma_p-1.778888888888889_n_samples-500.yaml\n"
     ]
    },
    {
     "name": "stderr",
     "output_type": "stream",
     "text": [
      "Sample: 100%|████████████████████████████| 1000/1000 [01:25, 11.65it/s, step size=9.05e-02, acc. prob=0.869]\n"
     ]
    },
    {
     "name": "stdout",
     "output_type": "stream",
     "text": [
      "diag:  {'sigma': OrderedDict([('n_eff', tensor(190.4154)), ('r_hat', tensor(0.9980))]), 'w': OrderedDict([('n_eff', tensor([178.2232, 338.7220, 188.0112, 168.5336, 197.8336, 206.6779, 290.2593,\n",
      "        287.6127, 220.0263, 255.2688])), ('r_hat', tensor([0.9997, 1.0000, 0.9986, 1.0003, 1.0005, 0.9981, 0.9994, 0.9984, 0.9984,\n",
      "        0.9981]))]), 'divergences': {'chain 0': [349, 429]}, 'acceptance rate': {'chain 0': 0.988}}\n",
      "Registering the results in:  SX_IJCAI_HYPERPARAMETER_NOISY_3/2024-01-11/iter-1_n-4_k-2_m-8_sigma_w-1.1155555555555556_sigma_p-2.0_n_samples-500.yaml\n"
     ]
    },
    {
     "name": "stderr",
     "output_type": "stream",
     "text": [
      "Sample: 100%|████████████████████████████| 1000/1000 [02:32,  6.56it/s, step size=4.73e-02, acc. prob=0.845]\n"
     ]
    },
    {
     "name": "stdout",
     "output_type": "stream",
     "text": [
      "diag:  {'sigma': OrderedDict([('n_eff', tensor(60.9340)), ('r_hat', tensor(1.0373))]), 'w': OrderedDict([('n_eff', tensor([230.6839,  19.4987, 188.9738, 194.3204, 143.1940, 119.7760, 247.7951,\n",
      "         28.1198,  31.2269, 192.6127])), ('r_hat', tensor([1.0065, 1.0616, 1.0269, 0.9981, 0.9983, 1.0093, 1.0012, 1.0742, 1.0700,\n",
      "        1.0064]))]), 'divergences': {'chain 0': [381, 392, 393, 399, 400, 402, 403, 404, 405, 407, 410, 414, 415, 416, 417, 418, 420, 421, 422, 424, 427, 431, 433, 466, 492]}, 'acceptance rate': {'chain 0': 0.976}}\n",
      "Registering the results in:  SX_IJCAI_HYPERPARAMETER_NOISY_3/2024-01-11/iter-1_n-4_k-2_m-8_sigma_w-1.3366666666666667_sigma_p-0.01_n_samples-500.yaml\n"
     ]
    },
    {
     "name": "stderr",
     "output_type": "stream",
     "text": [
      "Sample: 100%|████████████████████████████| 1000/1000 [01:04, 15.45it/s, step size=1.55e-01, acc. prob=0.811]\n"
     ]
    },
    {
     "name": "stdout",
     "output_type": "stream",
     "text": [
      "diag:  {'sigma': OrderedDict([('n_eff', tensor(107.4321)), ('r_hat', tensor(0.9981))]), 'w': OrderedDict([('n_eff', tensor([177.7063, 270.7944, 136.9757, 183.1780, 325.8790, 104.6030, 239.5300,\n",
      "        169.7265, 142.9825, 200.0264])), ('r_hat', tensor([1.0161, 1.0063, 0.9993, 1.0020, 1.0054, 1.0157, 0.9986, 1.0006, 1.0074,\n",
      "        0.9980]))]), 'divergences': {'chain 0': [159]}, 'acceptance rate': {'chain 0': 0.968}}\n",
      "Registering the results in:  SX_IJCAI_HYPERPARAMETER_NOISY_3/2024-01-11/iter-1_n-4_k-2_m-8_sigma_w-1.3366666666666667_sigma_p-0.23111111111111113_n_samples-500.yaml\n"
     ]
    },
    {
     "name": "stderr",
     "output_type": "stream",
     "text": [
      "Sample: 100%|████████████████████████████| 1000/1000 [01:19, 12.63it/s, step size=1.62e-01, acc. prob=0.756]\n"
     ]
    },
    {
     "name": "stdout",
     "output_type": "stream",
     "text": [
      "diag:  {'sigma': OrderedDict([('n_eff', tensor(95.0266)), ('r_hat', tensor(1.0024))]), 'w': OrderedDict([('n_eff', tensor([127.8125, 192.4943, 114.5444, 224.2445, 145.5846, 227.2241, 223.7504,\n",
      "        129.7994,  77.5193, 206.6920])), ('r_hat', tensor([1.0185, 1.0030, 1.0193, 1.0002, 0.9990, 1.0037, 1.0015, 1.0013, 1.0094,\n",
      "        1.0105]))]), 'divergences': {'chain 0': [27, 50, 75, 112, 213, 218, 328, 352, 391, 396, 414, 437]}, 'acceptance rate': {'chain 0': 0.952}}\n",
      "Registering the results in:  SX_IJCAI_HYPERPARAMETER_NOISY_3/2024-01-11/iter-1_n-4_k-2_m-8_sigma_w-1.3366666666666667_sigma_p-0.45222222222222225_n_samples-500.yaml\n"
     ]
    },
    {
     "name": "stderr",
     "output_type": "stream",
     "text": [
      "Sample: 100%|████████████████████████████| 1000/1000 [01:18, 12.77it/s, step size=1.27e-01, acc. prob=0.678]\n"
     ]
    },
    {
     "name": "stdout",
     "output_type": "stream",
     "text": [
      "diag:  {'sigma': OrderedDict([('n_eff', tensor(92.5701)), ('r_hat', tensor(1.0078))]), 'w': OrderedDict([('n_eff', tensor([ 26.1782,  54.0953,  77.4425,  32.6509, 252.7378,  32.6817, 156.7165,\n",
      "         90.8622,  34.0837, 132.5937])), ('r_hat', tensor([1.0301, 1.0020, 1.0069, 1.0463, 1.0092, 1.0095, 1.0009, 1.0145, 1.0157,\n",
      "        1.0009]))]), 'divergences': {'chain 0': [73, 270]}, 'acceptance rate': {'chain 0': 0.86}}\n",
      "Registering the results in:  SX_IJCAI_HYPERPARAMETER_NOISY_3/2024-01-11/iter-1_n-4_k-2_m-8_sigma_w-1.3366666666666667_sigma_p-0.6733333333333333_n_samples-500.yaml\n"
     ]
    },
    {
     "name": "stderr",
     "output_type": "stream",
     "text": [
      "Sample: 100%|████████████████████████████| 1000/1000 [01:16, 13.01it/s, step size=1.07e-01, acc. prob=0.827]\n"
     ]
    },
    {
     "name": "stdout",
     "output_type": "stream",
     "text": [
      "diag:  {'sigma': OrderedDict([('n_eff', tensor(150.4592)), ('r_hat', tensor(1.0029))]), 'w': OrderedDict([('n_eff', tensor([231.7201, 168.6317, 264.0275, 215.1517, 242.6364, 300.4189, 230.4555,\n",
      "        225.3506, 209.5334, 260.4128])), ('r_hat', tensor([1.0033, 1.0019, 1.0001, 0.9985, 1.0008, 1.0102, 0.9980, 1.0107, 1.0006,\n",
      "        0.9994]))]), 'divergences': {'chain 0': [361]}, 'acceptance rate': {'chain 0': 0.98}}\n",
      "Registering the results in:  SX_IJCAI_HYPERPARAMETER_NOISY_3/2024-01-11/iter-1_n-4_k-2_m-8_sigma_w-1.3366666666666667_sigma_p-0.8944444444444445_n_samples-500.yaml\n"
     ]
    },
    {
     "name": "stderr",
     "output_type": "stream",
     "text": [
      "Sample: 100%|████████████████████████████| 1000/1000 [01:41,  9.84it/s, step size=9.04e-02, acc. prob=0.881]\n"
     ]
    },
    {
     "name": "stdout",
     "output_type": "stream",
     "text": [
      "diag:  {'sigma': OrderedDict([('n_eff', tensor(176.6145)), ('r_hat', tensor(1.0014))]), 'w': OrderedDict([('n_eff', tensor([159.9449, 320.7427, 196.8851, 345.8086, 370.0507, 234.6835, 203.0528,\n",
      "        190.7399, 169.6668, 142.6215])), ('r_hat', tensor([1.0061, 1.0017, 1.0055, 0.9980, 0.9984, 0.9988, 1.0133, 0.9985, 1.0049,\n",
      "        1.0056]))]), 'divergences': {'chain 0': [132, 159, 347, 379, 381, 383, 388, 399, 478, 479, 491]}, 'acceptance rate': {'chain 0': 0.982}}\n",
      "Registering the results in:  SX_IJCAI_HYPERPARAMETER_NOISY_3/2024-01-11/iter-1_n-4_k-2_m-8_sigma_w-1.3366666666666667_sigma_p-1.1155555555555556_n_samples-500.yaml\n"
     ]
    },
    {
     "name": "stderr",
     "output_type": "stream",
     "text": [
      "Sample: 100%|████████████████████████████| 1000/1000 [01:39, 10.01it/s, step size=9.07e-02, acc. prob=0.809]\n"
     ]
    },
    {
     "name": "stdout",
     "output_type": "stream",
     "text": [
      "diag:  {'sigma': OrderedDict([('n_eff', tensor(192.7519)), ('r_hat', tensor(0.9980))]), 'w': OrderedDict([('n_eff', tensor([137.2922, 177.0611, 115.9460, 172.8118, 352.5106, 165.0549, 226.5971,\n",
      "        175.4954, 208.3651, 236.2909])), ('r_hat', tensor([0.9980, 0.9981, 1.0047, 0.9990, 0.9993, 0.9980, 0.9996, 0.9985, 1.0005,\n",
      "        0.9982]))]), 'divergences': {'chain 0': [96, 177, 356]}, 'acceptance rate': {'chain 0': 0.984}}\n",
      "Registering the results in:  SX_IJCAI_HYPERPARAMETER_NOISY_3/2024-01-11/iter-1_n-4_k-2_m-8_sigma_w-1.3366666666666667_sigma_p-1.3366666666666667_n_samples-500.yaml\n"
     ]
    },
    {
     "name": "stderr",
     "output_type": "stream",
     "text": [
      "Sample: 100%|████████████████████████████| 1000/1000 [01:23, 11.92it/s, step size=1.22e-01, acc. prob=0.747]\n"
     ]
    },
    {
     "name": "stdout",
     "output_type": "stream",
     "text": [
      "diag:  {'sigma': OrderedDict([('n_eff', tensor(137.8196)), ('r_hat', tensor(0.9990))]), 'w': OrderedDict([('n_eff', tensor([104.1147,  92.1843, 390.0526, 333.5782, 105.7710,  91.4144, 133.5814,\n",
      "         59.1158, 199.2173, 101.3725])), ('r_hat', tensor([1.0004, 0.9987, 1.0068, 0.9988, 0.9980, 1.0039, 1.0024, 1.0055, 1.0008,\n",
      "        1.0046]))]), 'divergences': {'chain 0': [256, 277, 286, 306, 316, 317, 318, 321, 497]}, 'acceptance rate': {'chain 0': 0.954}}\n",
      "Registering the results in:  SX_IJCAI_HYPERPARAMETER_NOISY_3/2024-01-11/iter-1_n-4_k-2_m-8_sigma_w-1.3366666666666667_sigma_p-1.557777777777778_n_samples-500.yaml\n"
     ]
    },
    {
     "name": "stderr",
     "output_type": "stream",
     "text": [
      "Sample: 100%|████████████████████████████| 1000/1000 [01:29, 11.22it/s, step size=1.23e-01, acc. prob=0.756]\n"
     ]
    },
    {
     "name": "stdout",
     "output_type": "stream",
     "text": [
      "diag:  {'sigma': OrderedDict([('n_eff', tensor(168.8796)), ('r_hat', tensor(1.0169))]), 'w': OrderedDict([('n_eff', tensor([271.7245, 112.2429, 126.2139, 182.3880, 363.3824, 296.0836, 198.0861,\n",
      "        108.6971, 145.0338,  83.2939])), ('r_hat', tensor([1.0014, 1.0245, 1.0141, 1.0290, 1.0063, 1.0085, 0.9995, 1.0673, 0.9999,\n",
      "        1.0212]))]), 'divergences': {'chain 0': [3, 107, 113, 285, 344, 403]}, 'acceptance rate': {'chain 0': 0.978}}\n",
      "Registering the results in:  SX_IJCAI_HYPERPARAMETER_NOISY_3/2024-01-11/iter-1_n-4_k-2_m-8_sigma_w-1.3366666666666667_sigma_p-1.778888888888889_n_samples-500.yaml\n"
     ]
    },
    {
     "name": "stderr",
     "output_type": "stream",
     "text": [
      "Sample: 100%|████████████████████████████| 1000/1000 [01:25, 11.66it/s, step size=1.18e-01, acc. prob=0.743]\n"
     ]
    },
    {
     "name": "stdout",
     "output_type": "stream",
     "text": [
      "diag:  {'sigma': OrderedDict([('n_eff', tensor(181.1410)), ('r_hat', tensor(1.0061))]), 'w': OrderedDict([('n_eff', tensor([142.8631, 159.7954, 149.0622, 129.4926, 222.1532, 192.2772, 226.6505,\n",
      "        137.9798, 163.2261, 135.4578])), ('r_hat', tensor([1.0007, 1.0081, 1.0130, 0.9980, 0.9981, 1.0155, 0.9986, 0.9984, 0.9998,\n",
      "        0.9987]))]), 'divergences': {'chain 0': [91, 235, 279, 498]}, 'acceptance rate': {'chain 0': 0.982}}\n",
      "Registering the results in:  SX_IJCAI_HYPERPARAMETER_NOISY_3/2024-01-11/iter-1_n-4_k-2_m-8_sigma_w-1.3366666666666667_sigma_p-2.0_n_samples-500.yaml\n"
     ]
    },
    {
     "name": "stderr",
     "output_type": "stream",
     "text": [
      "Sample: 100%|████████████████████████████| 1000/1000 [01:44,  9.53it/s, step size=8.87e-02, acc. prob=0.759]\n"
     ]
    },
    {
     "name": "stdout",
     "output_type": "stream",
     "text": [
      "diag:  {'sigma': OrderedDict([('n_eff', tensor(79.7559)), ('r_hat', tensor(1.0158))]), 'w': OrderedDict([('n_eff', tensor([118.7498, 185.1001, 132.6201,  67.2849,  38.4766, 289.8386, 239.6193,\n",
      "        203.3083,  80.2391,  72.0498])), ('r_hat', tensor([1.0430, 0.9999, 0.9985, 1.0065, 1.0952, 0.9982, 0.9996, 0.9982, 1.0147,\n",
      "        1.0213]))]), 'divergences': {'chain 0': [213, 295]}, 'acceptance rate': {'chain 0': 0.932}}\n",
      "Registering the results in:  SX_IJCAI_HYPERPARAMETER_NOISY_3/2024-01-11/iter-1_n-4_k-2_m-8_sigma_w-1.557777777777778_sigma_p-0.01_n_samples-500.yaml\n"
     ]
    },
    {
     "name": "stderr",
     "output_type": "stream",
     "text": [
      "Sample: 100%|████████████████████████████| 1000/1000 [00:43, 22.79it/s, step size=2.11e-01, acc. prob=0.815]\n"
     ]
    },
    {
     "name": "stdout",
     "output_type": "stream",
     "text": [
      "diag:  {'sigma': OrderedDict([('n_eff', tensor(172.2879)), ('r_hat', tensor(1.0056))]), 'w': OrderedDict([('n_eff', tensor([237.3548, 248.1452, 280.6422, 428.8764, 266.4873, 271.6579, 310.1534,\n",
      "        263.1705, 240.3421, 238.1282])), ('r_hat', tensor([1.0094, 0.9993, 0.9981, 1.0006, 0.9990, 0.9997, 1.0017, 1.0171, 0.9989,\n",
      "        0.9991]))]), 'divergences': {'chain 0': [36, 92, 123, 278, 383, 448, 499]}, 'acceptance rate': {'chain 0': 0.978}}\n",
      "Registering the results in:  SX_IJCAI_HYPERPARAMETER_NOISY_3/2024-01-11/iter-1_n-4_k-2_m-8_sigma_w-1.557777777777778_sigma_p-0.23111111111111113_n_samples-500.yaml\n"
     ]
    },
    {
     "name": "stderr",
     "output_type": "stream",
     "text": [
      "Sample: 100%|████████████████████████████| 1000/1000 [01:03, 15.70it/s, step size=1.52e-01, acc. prob=0.785]\n"
     ]
    },
    {
     "name": "stdout",
     "output_type": "stream",
     "text": [
      "diag:  {'sigma': OrderedDict([('n_eff', tensor(94.4347)), ('r_hat', tensor(1.0083))]), 'w': OrderedDict([('n_eff', tensor([176.9391, 216.2155, 166.5366, 202.2509, 190.3832, 190.0988, 155.0089,\n",
      "        256.1140, 216.3191, 210.1806])), ('r_hat', tensor([1.0049, 0.9980, 1.0024, 1.0040, 1.0003, 1.0042, 1.0048, 1.0014, 0.9988,\n",
      "        1.0106]))]), 'divergences': {'chain 0': [70, 115, 222, 253]}, 'acceptance rate': {'chain 0': 0.972}}\n",
      "Registering the results in:  SX_IJCAI_HYPERPARAMETER_NOISY_3/2024-01-11/iter-1_n-4_k-2_m-8_sigma_w-1.557777777777778_sigma_p-0.45222222222222225_n_samples-500.yaml\n"
     ]
    },
    {
     "name": "stderr",
     "output_type": "stream",
     "text": [
      "Sample: 100%|████████████████████████████| 1000/1000 [01:14, 13.50it/s, step size=1.15e-01, acc. prob=0.764]\n"
     ]
    },
    {
     "name": "stdout",
     "output_type": "stream",
     "text": [
      "diag:  {'sigma': OrderedDict([('n_eff', tensor(72.3661)), ('r_hat', tensor(1.0015))]), 'w': OrderedDict([('n_eff', tensor([176.4584,  99.1559, 244.5976,  70.2779,  94.4712, 202.2149, 110.4277,\n",
      "         81.7311, 237.4113, 242.6619])), ('r_hat', tensor([0.9980, 1.0272, 0.9986, 1.0037, 1.0068, 1.0019, 1.0090, 1.0109, 0.9986,\n",
      "        0.9991]))]), 'divergences': {'chain 0': [26, 48, 87, 200, 227, 385]}, 'acceptance rate': {'chain 0': 0.938}}\n",
      "Registering the results in:  SX_IJCAI_HYPERPARAMETER_NOISY_3/2024-01-11/iter-1_n-4_k-2_m-8_sigma_w-1.557777777777778_sigma_p-0.6733333333333333_n_samples-500.yaml\n"
     ]
    },
    {
     "name": "stderr",
     "output_type": "stream",
     "text": [
      "Sample: 100%|████████████████████████████| 1000/1000 [01:09, 14.33it/s, step size=1.72e-01, acc. prob=0.658]\n"
     ]
    },
    {
     "name": "stdout",
     "output_type": "stream",
     "text": [
      "diag:  {'sigma': OrderedDict([('n_eff', tensor(56.1456)), ('r_hat', tensor(1.0108))]), 'w': OrderedDict([('n_eff', tensor([ 16.7920, 127.5967,  45.7402, 199.7969, 228.0910, 311.8057,  95.9436,\n",
      "        145.8387, 215.6612, 210.0012])), ('r_hat', tensor([1.0917, 1.0149, 1.0623, 1.0062, 1.0172, 0.9996, 1.0161, 1.0027, 0.9981,\n",
      "        1.0118]))]), 'divergences': {'chain 0': [30, 83, 89, 374, 406, 479]}, 'acceptance rate': {'chain 0': 0.868}}\n",
      "Registering the results in:  SX_IJCAI_HYPERPARAMETER_NOISY_3/2024-01-11/iter-1_n-4_k-2_m-8_sigma_w-1.557777777777778_sigma_p-0.8944444444444445_n_samples-500.yaml\n"
     ]
    },
    {
     "name": "stderr",
     "output_type": "stream",
     "text": [
      "Sample: 100%|████████████████████████████| 1000/1000 [01:15, 13.23it/s, step size=1.50e-01, acc. prob=0.716]\n"
     ]
    },
    {
     "name": "stdout",
     "output_type": "stream",
     "text": [
      "diag:  {'sigma': OrderedDict([('n_eff', tensor(67.2902)), ('r_hat', tensor(0.9981))]), 'w': OrderedDict([('n_eff', tensor([205.7640, 204.2147, 120.9327, 224.6175,  56.1184, 123.5694, 163.6893,\n",
      "        184.6748, 114.5636, 166.7931])), ('r_hat', tensor([0.9990, 1.0068, 1.0008, 1.0036, 1.0098, 1.0054, 1.0085, 1.0022, 1.0108,\n",
      "        1.0019]))]), 'divergences': {'chain 0': [97, 116, 118, 141, 194, 222, 239, 241, 243, 245, 247, 251, 252, 255, 256, 257, 259, 260, 261, 265, 266, 267, 269, 271, 276, 302, 396]}, 'acceptance rate': {'chain 0': 0.954}}\n",
      "Registering the results in:  SX_IJCAI_HYPERPARAMETER_NOISY_3/2024-01-11/iter-1_n-4_k-2_m-8_sigma_w-1.557777777777778_sigma_p-1.1155555555555556_n_samples-500.yaml\n"
     ]
    },
    {
     "name": "stderr",
     "output_type": "stream",
     "text": [
      "Sample: 100%|████████████████████████████| 1000/1000 [01:36, 10.36it/s, step size=7.06e-02, acc. prob=0.778]\n"
     ]
    },
    {
     "name": "stdout",
     "output_type": "stream",
     "text": [
      "diag:  {'sigma': OrderedDict([('n_eff', tensor(38.4859)), ('r_hat', tensor(1.0336))]), 'w': OrderedDict([('n_eff', tensor([124.8381,  99.2252,  90.5024, 215.8887, 139.6853,  98.5589, 108.1753,\n",
      "        164.4210, 134.0307, 164.2260])), ('r_hat', tensor([0.9984, 1.0136, 1.0159, 0.9989, 0.9992, 1.0071, 0.9983, 0.9980, 1.0068,\n",
      "        0.9981]))]), 'divergences': {'chain 0': [157, 237, 241, 244, 249, 251, 255, 259, 260, 263, 272, 274, 426, 434, 454, 466]}, 'acceptance rate': {'chain 0': 0.942}}\n",
      "Registering the results in:  SX_IJCAI_HYPERPARAMETER_NOISY_3/2024-01-11/iter-1_n-4_k-2_m-8_sigma_w-1.557777777777778_sigma_p-1.3366666666666667_n_samples-500.yaml\n"
     ]
    },
    {
     "name": "stderr",
     "output_type": "stream",
     "text": [
      "Sample: 100%|████████████████████████████| 1000/1000 [01:27, 11.42it/s, step size=9.24e-02, acc. prob=0.800]\n"
     ]
    },
    {
     "name": "stdout",
     "output_type": "stream",
     "text": [
      "diag:  {'sigma': OrderedDict([('n_eff', tensor(117.2831)), ('r_hat', tensor(1.0023))]), 'w': OrderedDict([('n_eff', tensor([136.6037, 195.4837, 143.6915, 347.7903, 146.8320, 105.3454,  44.4869,\n",
      "        142.6175, 248.7920, 135.0254])), ('r_hat', tensor([1.0062, 1.0150, 1.0070, 0.9987, 1.0002, 1.0201, 1.0434, 1.0120, 1.0021,\n",
      "        1.0032]))]), 'divergences': {'chain 0': [67, 171, 339, 369, 451, 464, 465, 466, 469, 471, 472, 474, 475, 477, 478, 482, 484, 485, 486, 487, 488, 489]}, 'acceptance rate': {'chain 0': 0.982}}\n",
      "Registering the results in:  SX_IJCAI_HYPERPARAMETER_NOISY_3/2024-01-11/iter-1_n-4_k-2_m-8_sigma_w-1.557777777777778_sigma_p-1.557777777777778_n_samples-500.yaml\n"
     ]
    },
    {
     "name": "stderr",
     "output_type": "stream",
     "text": [
      "Sample: 100%|████████████████████████████| 1000/1000 [01:52,  8.92it/s, step size=7.51e-02, acc. prob=0.888]\n"
     ]
    },
    {
     "name": "stdout",
     "output_type": "stream",
     "text": [
      "diag:  {'sigma': OrderedDict([('n_eff', tensor(200.0342)), ('r_hat', tensor(1.0042))]), 'w': OrderedDict([('n_eff', tensor([259.0909, 376.3459, 384.1364, 339.7727, 167.3659, 298.7377, 365.1483,\n",
      "        430.8000, 336.4870, 331.8034])), ('r_hat', tensor([0.9989, 0.9980, 0.9991, 0.9993, 1.0002, 0.9984, 1.0106, 1.0003, 1.0003,\n",
      "        1.0011]))]), 'divergences': {'chain 0': [150, 345, 398]}, 'acceptance rate': {'chain 0': 1.0}}\n",
      "Registering the results in:  SX_IJCAI_HYPERPARAMETER_NOISY_3/2024-01-11/iter-1_n-4_k-2_m-8_sigma_w-1.557777777777778_sigma_p-1.778888888888889_n_samples-500.yaml\n"
     ]
    },
    {
     "name": "stderr",
     "output_type": "stream",
     "text": [
      "Sample: 100%|████████████████████████████| 1000/1000 [01:48,  9.21it/s, step size=1.01e-01, acc. prob=0.699]\n"
     ]
    },
    {
     "name": "stdout",
     "output_type": "stream",
     "text": [
      "diag:  {'sigma': OrderedDict([('n_eff', tensor(105.1496)), ('r_hat', tensor(0.9980))]), 'w': OrderedDict([('n_eff', tensor([142.0004,  82.4682, 175.0669,  63.5751, 121.8394,  42.7099, 109.2627,\n",
      "         89.8103, 105.9096, 103.3024])), ('r_hat', tensor([0.9995, 1.0049, 1.0085, 1.0268, 0.9983, 1.0343, 1.0090, 1.0008, 1.0008,\n",
      "        0.9993]))]), 'divergences': {'chain 0': [38, 42, 67, 125, 134, 229, 231, 237, 239, 244, 250, 312, 368, 375, 377, 398, 399, 405, 413, 433, 434]}, 'acceptance rate': {'chain 0': 0.952}}\n",
      "Registering the results in:  SX_IJCAI_HYPERPARAMETER_NOISY_3/2024-01-11/iter-1_n-4_k-2_m-8_sigma_w-1.557777777777778_sigma_p-2.0_n_samples-500.yaml\n"
     ]
    },
    {
     "name": "stderr",
     "output_type": "stream",
     "text": [
      "Sample: 100%|████████████████████████████| 1000/1000 [02:36,  6.37it/s, step size=6.69e-02, acc. prob=0.769]\n"
     ]
    },
    {
     "name": "stdout",
     "output_type": "stream",
     "text": [
      "diag:  {'sigma': OrderedDict([('n_eff', tensor(162.7033)), ('r_hat', tensor(1.0028))]), 'w': OrderedDict([('n_eff', tensor([168.5021, 146.3406, 226.2426, 159.6135, 151.0494, 225.4975, 150.3398,\n",
      "        217.6478, 202.9709, 186.3175])), ('r_hat', tensor([0.9984, 0.9982, 1.0098, 1.0132, 0.9980, 0.9999, 0.9999, 1.0060, 1.0027,\n",
      "        0.9990]))]), 'divergences': {'chain 0': [182, 260, 265]}, 'acceptance rate': {'chain 0': 0.96}}\n",
      "Registering the results in:  SX_IJCAI_HYPERPARAMETER_NOISY_3/2024-01-11/iter-1_n-4_k-2_m-8_sigma_w-1.778888888888889_sigma_p-0.01_n_samples-500.yaml\n"
     ]
    },
    {
     "name": "stderr",
     "output_type": "stream",
     "text": [
      "Sample: 100%|████████████████████████████| 1000/1000 [00:54, 18.32it/s, step size=2.04e-01, acc. prob=0.819]\n"
     ]
    },
    {
     "name": "stdout",
     "output_type": "stream",
     "text": [
      "diag:  {'sigma': OrderedDict([('n_eff', tensor(156.1724)), ('r_hat', tensor(0.9980))]), 'w': OrderedDict([('n_eff', tensor([277.2052, 182.1912, 203.9226, 159.6018, 247.1524, 412.9317, 278.9096,\n",
      "        267.3410, 230.9244, 303.9473])), ('r_hat', tensor([1.0037, 1.0004, 1.0090, 1.0009, 0.9981, 1.0076, 0.9980, 1.0036, 0.9980,\n",
      "        1.0001]))]), 'divergences': {'chain 0': [189, 305, 321, 331, 354, 492]}, 'acceptance rate': {'chain 0': 0.982}}\n",
      "Registering the results in:  SX_IJCAI_HYPERPARAMETER_NOISY_3/2024-01-11/iter-1_n-4_k-2_m-8_sigma_w-1.778888888888889_sigma_p-0.23111111111111113_n_samples-500.yaml\n"
     ]
    },
    {
     "name": "stderr",
     "output_type": "stream",
     "text": [
      "Sample: 100%|████████████████████████████| 1000/1000 [01:05, 15.27it/s, step size=1.59e-01, acc. prob=0.826]\n"
     ]
    },
    {
     "name": "stdout",
     "output_type": "stream",
     "text": [
      "diag:  {'sigma': OrderedDict([('n_eff', tensor(222.4212)), ('r_hat', tensor(1.0072))]), 'w': OrderedDict([('n_eff', tensor([203.8946, 240.2432, 152.3486, 121.1423, 291.7654, 257.3163, 149.4638,\n",
      "        247.5557, 204.7325, 267.1371])), ('r_hat', tensor([0.9980, 0.9980, 1.0025, 1.0005, 0.9985, 0.9980, 1.0186, 0.9980, 1.0002,\n",
      "        0.9980]))]), 'divergences': {'chain 0': [167, 168, 170, 175, 177, 180, 182, 264, 336, 487]}, 'acceptance rate': {'chain 0': 0.988}}\n",
      "Registering the results in:  SX_IJCAI_HYPERPARAMETER_NOISY_3/2024-01-11/iter-1_n-4_k-2_m-8_sigma_w-1.778888888888889_sigma_p-0.45222222222222225_n_samples-500.yaml\n"
     ]
    },
    {
     "name": "stderr",
     "output_type": "stream",
     "text": [
      "Sample: 100%|████████████████████████████| 1000/1000 [01:00, 16.56it/s, step size=1.91e-01, acc. prob=0.709]\n"
     ]
    },
    {
     "name": "stdout",
     "output_type": "stream",
     "text": [
      "diag:  {'sigma': OrderedDict([('n_eff', tensor(125.7301)), ('r_hat', tensor(1.0106))]), 'w': OrderedDict([('n_eff', tensor([115.6267, 156.3696, 137.4074, 127.8102, 198.7997, 225.0932, 271.6602,\n",
      "        136.0038,  87.9955, 282.2174])), ('r_hat', tensor([1.0243, 1.0013, 0.9988, 0.9984, 1.0014, 1.0001, 1.0023, 0.9989, 1.0007,\n",
      "        0.9988]))]), 'divergences': {'chain 0': [20, 211, 256, 282, 312, 318, 402, 407, 436, 454]}, 'acceptance rate': {'chain 0': 0.962}}\n",
      "Registering the results in:  SX_IJCAI_HYPERPARAMETER_NOISY_3/2024-01-11/iter-1_n-4_k-2_m-8_sigma_w-1.778888888888889_sigma_p-0.6733333333333333_n_samples-500.yaml\n"
     ]
    },
    {
     "name": "stderr",
     "output_type": "stream",
     "text": [
      "Sample: 100%|████████████████████████████| 1000/1000 [01:33, 10.72it/s, step size=7.90e-02, acc. prob=0.815]\n"
     ]
    },
    {
     "name": "stdout",
     "output_type": "stream",
     "text": [
      "diag:  {'sigma': OrderedDict([('n_eff', tensor(107.9461)), ('r_hat', tensor(1.0151))]), 'w': OrderedDict([('n_eff', tensor([208.0496, 128.8514, 237.2688, 191.5162, 216.9412, 157.6045, 175.9659,\n",
      "        105.1559, 149.1946, 149.1264])), ('r_hat', tensor([1.0002, 1.0013, 1.0090, 1.0071, 0.9988, 0.9996, 0.9991, 0.9982, 0.9980,\n",
      "        1.0027]))]), 'divergences': {'chain 0': [26, 95, 295, 300, 426]}, 'acceptance rate': {'chain 0': 0.978}}\n",
      "Registering the results in:  SX_IJCAI_HYPERPARAMETER_NOISY_3/2024-01-11/iter-1_n-4_k-2_m-8_sigma_w-1.778888888888889_sigma_p-0.8944444444444445_n_samples-500.yaml\n"
     ]
    },
    {
     "name": "stderr",
     "output_type": "stream",
     "text": [
      "Sample: 100%|████████████████████████████| 1000/1000 [01:33, 10.74it/s, step size=1.21e-01, acc. prob=0.812]\n"
     ]
    },
    {
     "name": "stdout",
     "output_type": "stream",
     "text": [
      "diag:  {'sigma': OrderedDict([('n_eff', tensor(276.2049)), ('r_hat', tensor(1.0012))]), 'w': OrderedDict([('n_eff', tensor([328.9492, 196.3930, 170.5764, 373.6052, 283.0207, 233.2940, 221.7898,\n",
      "        274.1265, 249.6642, 304.5091])), ('r_hat', tensor([0.9980, 0.9988, 0.9989, 0.9984, 0.9988, 0.9986, 1.0033, 1.0006, 0.9980,\n",
      "        0.9993]))]), 'divergences': {'chain 0': [112, 134, 418, 437, 462]}, 'acceptance rate': {'chain 0': 0.99}}\n",
      "Registering the results in:  SX_IJCAI_HYPERPARAMETER_NOISY_3/2024-01-11/iter-1_n-4_k-2_m-8_sigma_w-1.778888888888889_sigma_p-1.1155555555555556_n_samples-500.yaml\n"
     ]
    },
    {
     "name": "stderr",
     "output_type": "stream",
     "text": [
      "Sample: 100%|████████████████████████████| 1000/1000 [01:38, 10.17it/s, step size=9.85e-02, acc. prob=0.781]\n"
     ]
    },
    {
     "name": "stdout",
     "output_type": "stream",
     "text": [
      "diag:  {'sigma': OrderedDict([('n_eff', tensor(110.3341)), ('r_hat', tensor(1.0346))]), 'w': OrderedDict([('n_eff', tensor([177.7881, 219.7405, 117.7366, 144.6945, 130.2514, 169.1385, 122.7245,\n",
      "        243.0969, 132.9127,  88.3347])), ('r_hat', tensor([1.0003, 1.0115, 0.9982, 0.9982, 0.9981, 1.0016, 1.0098, 1.0004, 1.0123,\n",
      "        1.0122]))]), 'divergences': {'chain 0': [32, 289]}, 'acceptance rate': {'chain 0': 0.988}}\n",
      "Registering the results in:  SX_IJCAI_HYPERPARAMETER_NOISY_3/2024-01-11/iter-1_n-4_k-2_m-8_sigma_w-1.778888888888889_sigma_p-1.3366666666666667_n_samples-500.yaml\n"
     ]
    },
    {
     "name": "stderr",
     "output_type": "stream",
     "text": [
      "Sample: 100%|████████████████████████████| 1000/1000 [01:28, 11.32it/s, step size=9.91e-02, acc. prob=0.838]\n"
     ]
    },
    {
     "name": "stdout",
     "output_type": "stream",
     "text": [
      "diag:  {'sigma': OrderedDict([('n_eff', tensor(137.0906)), ('r_hat', tensor(1.0010))]), 'w': OrderedDict([('n_eff', tensor([273.2026, 163.3571, 240.2301, 243.3655, 264.7679, 281.9337, 316.0859,\n",
      "        271.8626, 173.3410, 434.1067])), ('r_hat', tensor([1.0183, 1.0175, 1.0093, 1.0062, 1.0028, 0.9994, 1.0058, 0.9981, 1.0105,\n",
      "        0.9995]))]), 'divergences': {'chain 0': [68, 376, 463, 492, 499]}, 'acceptance rate': {'chain 0': 0.988}}\n",
      "Registering the results in:  SX_IJCAI_HYPERPARAMETER_NOISY_3/2024-01-11/iter-1_n-4_k-2_m-8_sigma_w-1.778888888888889_sigma_p-1.557777777777778_n_samples-500.yaml\n"
     ]
    },
    {
     "name": "stderr",
     "output_type": "stream",
     "text": [
      "Sample: 100%|████████████████████████████| 1000/1000 [01:43,  9.64it/s, step size=7.96e-02, acc. prob=0.859]\n"
     ]
    },
    {
     "name": "stdout",
     "output_type": "stream",
     "text": [
      "diag:  {'sigma': OrderedDict([('n_eff', tensor(167.1226)), ('r_hat', tensor(1.0008))]), 'w': OrderedDict([('n_eff', tensor([275.3270, 183.4771, 278.5382, 192.5384, 176.4402, 285.9452, 266.5526,\n",
      "        193.9271, 231.2419, 275.1563])), ('r_hat', tensor([0.9999, 0.9982, 0.9980, 0.9993, 0.9981, 1.0001, 1.0006, 0.9997, 0.9983,\n",
      "        1.0015]))]), 'divergences': {'chain 0': [7, 88, 300, 301, 416, 493]}, 'acceptance rate': {'chain 0': 0.992}}\n",
      "Registering the results in:  SX_IJCAI_HYPERPARAMETER_NOISY_3/2024-01-11/iter-1_n-4_k-2_m-8_sigma_w-1.778888888888889_sigma_p-1.778888888888889_n_samples-500.yaml\n"
     ]
    },
    {
     "name": "stderr",
     "output_type": "stream",
     "text": [
      "Sample: 100%|████████████████████████████| 1000/1000 [02:22,  7.00it/s, step size=5.26e-02, acc. prob=0.880]\n"
     ]
    },
    {
     "name": "stdout",
     "output_type": "stream",
     "text": [
      "diag:  {'sigma': OrderedDict([('n_eff', tensor(240.1833)), ('r_hat', tensor(1.0001))]), 'w': OrderedDict([('n_eff', tensor([140.3912, 147.2623, 123.4589, 115.7074, 159.6747, 131.3844, 439.9765,\n",
      "        192.9352,  95.3102, 450.4434])), ('r_hat', tensor([0.9980, 0.9985, 0.9999, 0.9986, 1.0018, 0.9982, 0.9992, 1.0025, 0.9993,\n",
      "        0.9981]))]), 'divergences': {'chain 0': [495]}, 'acceptance rate': {'chain 0': 0.998}}\n",
      "Registering the results in:  SX_IJCAI_HYPERPARAMETER_NOISY_3/2024-01-11/iter-1_n-4_k-2_m-8_sigma_w-1.778888888888889_sigma_p-2.0_n_samples-500.yaml\n"
     ]
    },
    {
     "name": "stderr",
     "output_type": "stream",
     "text": [
      "Sample: 100%|████████████████████████████| 1000/1000 [02:07,  7.83it/s, step size=7.45e-02, acc. prob=0.774]\n"
     ]
    },
    {
     "name": "stdout",
     "output_type": "stream",
     "text": [
      "diag:  {'sigma': OrderedDict([('n_eff', tensor(63.8054)), ('r_hat', tensor(0.9983))]), 'w': OrderedDict([('n_eff', tensor([ 88.5883, 316.3289,  64.8348, 155.9755, 107.5270,  59.8932, 120.4665,\n",
      "        127.2366, 172.5090, 164.0991])), ('r_hat', tensor([1.0100, 1.0103, 1.0077, 1.0013, 1.0037, 0.9981, 0.9990, 1.0129, 0.9984,\n",
      "        0.9983]))]), 'divergences': {'chain 0': [61, 62, 211, 217, 221, 224, 232, 233, 238, 239, 242, 244, 247, 248, 261, 262, 263, 424, 425, 426, 430, 451]}, 'acceptance rate': {'chain 0': 0.966}}\n",
      "Registering the results in:  SX_IJCAI_HYPERPARAMETER_NOISY_3/2024-01-11/iter-1_n-4_k-2_m-8_sigma_w-2.0_sigma_p-0.01_n_samples-500.yaml\n"
     ]
    },
    {
     "name": "stderr",
     "output_type": "stream",
     "text": [
      "Sample: 100%|████████████████████████████| 1000/1000 [01:11, 14.05it/s, step size=1.08e-01, acc. prob=0.850]\n"
     ]
    },
    {
     "name": "stdout",
     "output_type": "stream",
     "text": [
      "diag:  {'sigma': OrderedDict([('n_eff', tensor(252.8935)), ('r_hat', tensor(1.0028))]), 'w': OrderedDict([('n_eff', tensor([312.3231, 196.7366, 119.3119, 241.2837, 270.1195, 118.3942, 141.9542,\n",
      "        352.2478, 142.6672, 265.2306])), ('r_hat', tensor([0.9994, 1.0130, 0.9980, 1.0032, 1.0048, 1.0003, 0.9994, 0.9980, 1.0032,\n",
      "        0.9986]))]), 'divergences': {'chain 0': [126, 285]}, 'acceptance rate': {'chain 0': 0.98}}\n",
      "Registering the results in:  SX_IJCAI_HYPERPARAMETER_NOISY_3/2024-01-11/iter-1_n-4_k-2_m-8_sigma_w-2.0_sigma_p-0.23111111111111113_n_samples-500.yaml\n"
     ]
    },
    {
     "name": "stderr",
     "output_type": "stream",
     "text": [
      "Sample: 100%|████████████████████████████| 1000/1000 [01:06, 15.00it/s, step size=1.45e-01, acc. prob=0.811]\n"
     ]
    },
    {
     "name": "stdout",
     "output_type": "stream",
     "text": [
      "diag:  {'sigma': OrderedDict([('n_eff', tensor(224.5570)), ('r_hat', tensor(1.0095))]), 'w': OrderedDict([('n_eff', tensor([242.7808, 276.2876, 293.0116, 231.9421, 110.7411, 277.9196, 207.6290,\n",
      "        301.2651,  94.8486,  63.8932])), ('r_hat', tensor([0.9986, 1.0005, 0.9985, 0.9983, 1.0003, 1.0137, 1.0079, 1.0076, 1.0049,\n",
      "        1.0045]))]), 'divergences': {'chain 0': [135, 142, 146, 147, 148, 152, 153, 155, 323]}, 'acceptance rate': {'chain 0': 0.982}}\n",
      "Registering the results in:  SX_IJCAI_HYPERPARAMETER_NOISY_3/2024-01-11/iter-1_n-4_k-2_m-8_sigma_w-2.0_sigma_p-0.45222222222222225_n_samples-500.yaml\n"
     ]
    },
    {
     "name": "stderr",
     "output_type": "stream",
     "text": [
      "Sample: 100%|████████████████████████████| 1000/1000 [01:14, 13.34it/s, step size=1.29e-01, acc. prob=0.789]\n"
     ]
    },
    {
     "name": "stdout",
     "output_type": "stream",
     "text": [
      "diag:  {'sigma': OrderedDict([('n_eff', tensor(141.0735)), ('r_hat', tensor(0.9984))]), 'w': OrderedDict([('n_eff', tensor([219.0807, 238.9539, 123.2922, 292.9262, 263.2429,  77.0063, 254.0515,\n",
      "        167.1153, 317.9520, 144.6800])), ('r_hat', tensor([1.0011, 1.0026, 0.9996, 0.9980, 1.0024, 1.0154, 1.0043, 0.9986, 0.9983,\n",
      "        0.9988]))]), 'divergences': {'chain 0': [11, 137, 352, 426]}, 'acceptance rate': {'chain 0': 0.97}}\n",
      "Registering the results in:  SX_IJCAI_HYPERPARAMETER_NOISY_3/2024-01-11/iter-1_n-4_k-2_m-8_sigma_w-2.0_sigma_p-0.6733333333333333_n_samples-500.yaml\n"
     ]
    },
    {
     "name": "stderr",
     "output_type": "stream",
     "text": [
      "Sample: 100%|████████████████████████████| 1000/1000 [01:27, 11.41it/s, step size=1.39e-01, acc. prob=0.668]\n"
     ]
    },
    {
     "name": "stdout",
     "output_type": "stream",
     "text": [
      "diag:  {'sigma': OrderedDict([('n_eff', tensor(145.9759)), ('r_hat', tensor(1.0016))]), 'w': OrderedDict([('n_eff', tensor([139.0829, 132.1789,  89.2804, 142.8024,  98.0093,  86.6050, 109.5947,\n",
      "        121.4741, 170.3863, 175.8776])), ('r_hat', tensor([0.9982, 1.0168, 0.9981, 1.0167, 1.0589, 0.9985, 1.0335, 0.9993, 1.0013,\n",
      "        1.0027]))]), 'divergences': {'chain 0': [13, 32, 58, 66, 201, 441, 447, 462, 482, 483]}, 'acceptance rate': {'chain 0': 0.928}}\n",
      "Registering the results in:  SX_IJCAI_HYPERPARAMETER_NOISY_3/2024-01-11/iter-1_n-4_k-2_m-8_sigma_w-2.0_sigma_p-0.8944444444444445_n_samples-500.yaml\n"
     ]
    },
    {
     "name": "stderr",
     "output_type": "stream",
     "text": [
      "Sample: 100%|████████████████████████████| 1000/1000 [02:08,  7.79it/s, step size=9.16e-02, acc. prob=0.757]\n"
     ]
    },
    {
     "name": "stdout",
     "output_type": "stream",
     "text": [
      "diag:  {'sigma': OrderedDict([('n_eff', tensor(154.2049)), ('r_hat', tensor(0.9989))]), 'w': OrderedDict([('n_eff', tensor([132.4693, 199.8703, 136.5605, 149.9657, 257.9524, 147.8356, 126.1385,\n",
      "        199.6200, 170.7641, 101.1779])), ('r_hat', tensor([0.9998, 1.0036, 0.9983, 0.9984, 0.9982, 0.9992, 0.9988, 0.9989, 0.9980,\n",
      "        1.0007]))]), 'divergences': {'chain 0': [57, 267, 308, 340, 427]}, 'acceptance rate': {'chain 0': 0.982}}\n",
      "Registering the results in:  SX_IJCAI_HYPERPARAMETER_NOISY_3/2024-01-11/iter-1_n-4_k-2_m-8_sigma_w-2.0_sigma_p-1.1155555555555556_n_samples-500.yaml\n"
     ]
    },
    {
     "name": "stderr",
     "output_type": "stream",
     "text": [
      "Sample: 100%|████████████████████████████| 1000/1000 [01:18, 12.80it/s, step size=1.13e-01, acc. prob=0.846]\n"
     ]
    },
    {
     "name": "stdout",
     "output_type": "stream",
     "text": [
      "diag:  {'sigma': OrderedDict([('n_eff', tensor(155.3664)), ('r_hat', tensor(0.9987))]), 'w': OrderedDict([('n_eff', tensor([166.4375, 200.0023, 230.7130, 217.0700, 192.3402, 337.1188, 269.9123,\n",
      "        335.6362, 332.8987, 248.8478])), ('r_hat', tensor([1.0024, 1.0016, 0.9990, 0.9981, 1.0029, 0.9983, 1.0090, 0.9981, 0.9989,\n",
      "        0.9990]))]), 'divergences': {'chain 0': [174, 307]}, 'acceptance rate': {'chain 0': 0.982}}\n",
      "Registering the results in:  SX_IJCAI_HYPERPARAMETER_NOISY_3/2024-01-11/iter-1_n-4_k-2_m-8_sigma_w-2.0_sigma_p-1.3366666666666667_n_samples-500.yaml\n"
     ]
    },
    {
     "name": "stderr",
     "output_type": "stream",
     "text": [
      "Sample: 100%|████████████████████████████| 1000/1000 [01:59,  8.33it/s, step size=6.72e-02, acc. prob=0.757]\n"
     ]
    },
    {
     "name": "stdout",
     "output_type": "stream",
     "text": [
      "diag:  {'sigma': OrderedDict([('n_eff', tensor(129.2458)), ('r_hat', tensor(1.0202))]), 'w': OrderedDict([('n_eff', tensor([163.8399,  91.5525,  64.4544, 155.0831,  46.6164, 156.1897, 143.6068,\n",
      "        113.4589, 120.6700, 157.9583])), ('r_hat', tensor([0.9987, 1.0055, 1.0321, 1.0004, 0.9980, 1.0014, 0.9995, 1.0244, 1.0132,\n",
      "        1.0195]))]), 'divergences': {'chain 0': [102, 127, 235, 266, 272, 366, 369]}, 'acceptance rate': {'chain 0': 0.972}}\n",
      "Registering the results in:  SX_IJCAI_HYPERPARAMETER_NOISY_3/2024-01-11/iter-1_n-4_k-2_m-8_sigma_w-2.0_sigma_p-1.557777777777778_n_samples-500.yaml\n"
     ]
    },
    {
     "name": "stderr",
     "output_type": "stream",
     "text": [
      "Sample: 100%|████████████████████████████| 1000/1000 [01:38, 10.14it/s, step size=9.48e-02, acc. prob=0.812]\n"
     ]
    },
    {
     "name": "stdout",
     "output_type": "stream",
     "text": [
      "diag:  {'sigma': OrderedDict([('n_eff', tensor(181.3095)), ('r_hat', tensor(1.0030))]), 'w': OrderedDict([('n_eff', tensor([ 85.2133, 152.3222, 140.2935, 132.0863, 106.6160, 165.2167, 218.1402,\n",
      "        218.9707, 197.8961, 227.0415])), ('r_hat', tensor([1.0248, 1.0165, 1.0221, 1.0334, 1.0166, 0.9981, 1.0022, 1.0085, 1.0071,\n",
      "        0.9994]))]), 'divergences': {'chain 0': [223, 246, 250, 253, 308, 309, 433]}, 'acceptance rate': {'chain 0': 0.982}}\n",
      "Registering the results in:  SX_IJCAI_HYPERPARAMETER_NOISY_3/2024-01-11/iter-1_n-4_k-2_m-8_sigma_w-2.0_sigma_p-1.778888888888889_n_samples-500.yaml\n"
     ]
    },
    {
     "name": "stderr",
     "output_type": "stream",
     "text": [
      "Sample: 100%|████████████████████████████| 1000/1000 [02:33,  6.51it/s, step size=4.73e-02, acc. prob=0.857]\n"
     ]
    },
    {
     "name": "stdout",
     "output_type": "stream",
     "text": [
      "diag:  {'sigma': OrderedDict([('n_eff', tensor(99.2383)), ('r_hat', tensor(1.0003))]), 'w': OrderedDict([('n_eff', tensor([187.3794, 146.2054, 186.8467, 168.3298, 133.6218, 238.1900, 202.3550,\n",
      "        134.0559, 152.9766, 159.7737])), ('r_hat', tensor([1.0146, 1.0156, 1.0098, 1.0038, 1.0135, 1.0026, 0.9985, 1.0208, 1.0190,\n",
      "        1.0022]))]), 'divergences': {'chain 0': [418]}, 'acceptance rate': {'chain 0': 0.988}}\n",
      "Registering the results in:  SX_IJCAI_HYPERPARAMETER_NOISY_3/2024-01-11/iter-1_n-4_k-2_m-8_sigma_w-2.0_sigma_p-2.0_n_samples-500.yaml\n"
     ]
    },
    {
     "name": "stderr",
     "output_type": "stream",
     "text": [
      "Sample: 100%|████████████████████████████| 1000/1000 [02:19,  7.18it/s, step size=6.89e-02, acc. prob=0.811]\n"
     ]
    },
    {
     "name": "stdout",
     "output_type": "stream",
     "text": [
      "diag:  {'sigma': OrderedDict([('n_eff', tensor(293.4678)), ('r_hat', tensor(1.0017))]), 'w': OrderedDict([('n_eff', tensor([257.3289, 150.8080, 130.8712, 163.1167, 171.6470, 271.5971, 185.3743,\n",
      "        128.9055, 159.7831, 136.0042])), ('r_hat', tensor([0.9980, 1.0064, 1.0143, 1.0000, 1.0004, 1.0004, 0.9982, 1.0221, 0.9992,\n",
      "        1.0276]))]), 'divergences': {'chain 0': [4, 28, 99, 131, 335, 357, 389, 455]}, 'acceptance rate': {'chain 0': 0.99}}\n",
      "Registering the results in:  SX_IJCAI_HYPERPARAMETER_NOISY_3/2024-01-11/iter-2_n-4_k-2_m-8_sigma_w-0.01_sigma_p-0.01_n_samples-500.yaml\n"
     ]
    },
    {
     "name": "stderr",
     "output_type": "stream",
     "text": [
      "Sample: 100%|████████████████████████████| 1000/1000 [00:21, 45.81it/s, step size=5.84e-01, acc. prob=0.327]\n"
     ]
    },
    {
     "name": "stdout",
     "output_type": "stream",
     "text": [
      "diag:  {'sigma': OrderedDict([('n_eff', tensor(8.6713)), ('r_hat', tensor(1.2058))]), 'w': OrderedDict([('n_eff', tensor([131.8487, 142.3571,  86.8440,   6.0960,  13.9923,  94.2581,   8.1404,\n",
      "         10.0280,  72.6193,  47.6863])), ('r_hat', tensor([1.0695, 0.9985, 0.9993, 1.3671, 1.1017, 0.9980, 1.1894, 1.2812, 1.0284,\n",
      "        1.0023]))]), 'divergences': {'chain 0': [148, 149, 151, 157, 163, 166, 170, 173, 174, 175, 176, 177, 179, 180, 184, 192, 195, 201, 210, 211, 217, 218, 219, 223, 224, 226, 236, 240, 241, 242, 256, 258, 261, 268, 269, 273, 274, 278, 280, 281, 282, 285, 288, 289, 290, 291, 293, 294, 295, 296, 299, 302, 304, 305, 308, 313, 314, 315, 321, 326, 329, 331, 333, 335, 336, 339, 340, 343, 346, 350, 352, 356, 359, 361, 364, 369, 375, 380, 392, 397, 398, 399, 402, 403, 404, 405, 407, 409, 411, 413, 415, 416, 418, 419, 421, 423, 424, 425, 426, 432, 433, 442, 451, 452, 454, 458, 459, 462, 463, 464, 469, 471, 472, 475, 478, 483, 484, 485, 488, 489, 490, 492]}, 'acceptance rate': {'chain 0': 0.468}}\n",
      "Registering the results in:  SX_IJCAI_HYPERPARAMETER_NOISY_3/2024-01-11/iter-2_n-4_k-2_m-8_sigma_w-0.01_sigma_p-0.23111111111111113_n_samples-500.yaml\n"
     ]
    },
    {
     "name": "stderr",
     "output_type": "stream",
     "text": [
      "Sample: 100%|████████████████████████████| 1000/1000 [00:51, 19.24it/s, step size=1.44e-01, acc. prob=0.740]\n"
     ]
    },
    {
     "name": "stdout",
     "output_type": "stream",
     "text": [
      "diag:  {'sigma': OrderedDict([('n_eff', tensor(89.9381)), ('r_hat', tensor(1.0413))]), 'w': OrderedDict([('n_eff', tensor([239.5726, 124.5187,  98.7162, 203.8765, 248.0101, 139.0524, 234.9926,\n",
      "        145.7854, 108.1352, 108.9899])), ('r_hat', tensor([0.9980, 1.0134, 1.0069, 1.0024, 1.0165, 0.9983, 1.0040, 1.0078, 1.0252,\n",
      "        1.0074]))]), 'divergences': {'chain 0': [30, 58, 70, 125, 127, 129, 387, 405, 407, 408, 412, 416, 419, 487, 489, 492]}, 'acceptance rate': {'chain 0': 0.926}}\n",
      "Registering the results in:  SX_IJCAI_HYPERPARAMETER_NOISY_3/2024-01-11/iter-2_n-4_k-2_m-8_sigma_w-0.01_sigma_p-0.45222222222222225_n_samples-500.yaml\n"
     ]
    },
    {
     "name": "stderr",
     "output_type": "stream",
     "text": [
      "Sample: 100%|████████████████████████████| 1000/1000 [01:00, 16.53it/s, step size=1.58e-01, acc. prob=0.741]\n"
     ]
    },
    {
     "name": "stdout",
     "output_type": "stream",
     "text": [
      "diag:  {'sigma': OrderedDict([('n_eff', tensor(44.8484)), ('r_hat', tensor(0.9980))]), 'w': OrderedDict([('n_eff', tensor([161.8759, 239.3336, 221.8657, 159.9085,  98.7527,  91.0222, 188.5611,\n",
      "         47.1191, 138.4252, 195.0071])), ('r_hat', tensor([1.0214, 1.0057, 1.0146, 0.9982, 0.9980, 1.0079, 1.0138, 0.9996, 0.9981,\n",
      "        1.0075]))]), 'divergences': {'chain 0': [40, 50, 95, 191, 224, 323, 397, 412, 417, 434, 488]}, 'acceptance rate': {'chain 0': 0.948}}\n",
      "Registering the results in:  SX_IJCAI_HYPERPARAMETER_NOISY_3/2024-01-11/iter-2_n-4_k-2_m-8_sigma_w-0.01_sigma_p-0.6733333333333333_n_samples-500.yaml\n"
     ]
    },
    {
     "name": "stderr",
     "output_type": "stream",
     "text": [
      "Sample: 100%|████████████████████████████| 1000/1000 [01:54,  8.73it/s, step size=5.24e-02, acc. prob=0.899]\n"
     ]
    },
    {
     "name": "stdout",
     "output_type": "stream",
     "text": [
      "diag:  {'sigma': OrderedDict([('n_eff', tensor(58.3010)), ('r_hat', tensor(1.0131))]), 'w': OrderedDict([('n_eff', tensor([221.3994, 140.3047, 130.1090, 259.6432, 305.5494, 214.5759, 172.0804,\n",
      "        273.3438, 274.4621, 213.0478])), ('r_hat', tensor([0.9980, 1.0006, 0.9991, 0.9980, 0.9999, 1.0085, 0.9992, 1.0090, 1.0108,\n",
      "        0.9993]))]), 'divergences': {'chain 0': [257, 438]}, 'acceptance rate': {'chain 0': 0.992}}\n",
      "Registering the results in:  SX_IJCAI_HYPERPARAMETER_NOISY_3/2024-01-11/iter-2_n-4_k-2_m-8_sigma_w-0.01_sigma_p-0.8944444444444445_n_samples-500.yaml\n"
     ]
    },
    {
     "name": "stderr",
     "output_type": "stream",
     "text": [
      "Sample: 100%|████████████████████████████| 1000/1000 [00:44, 22.23it/s, step size=1.74e-01, acc. prob=0.747]\n"
     ]
    },
    {
     "name": "stdout",
     "output_type": "stream",
     "text": [
      "diag:  {'sigma': OrderedDict([('n_eff', tensor(122.5303)), ('r_hat', tensor(1.0116))]), 'w': OrderedDict([('n_eff', tensor([113.8209, 139.2308, 253.6783, 248.7256, 180.7178, 158.3593, 190.2041,\n",
      "        196.6904, 168.4037, 186.6785])), ('r_hat', tensor([1.0013, 1.0305, 0.9995, 0.9997, 0.9980, 1.0039, 0.9995, 1.0030, 0.9988,\n",
      "        1.0055]))]), 'divergences': {'chain 0': [23, 43, 126, 136, 175, 466, 469, 470, 472, 475, 477, 482, 483, 484, 488, 492, 494, 495, 497, 498]}, 'acceptance rate': {'chain 0': 0.922}}\n",
      "Registering the results in:  SX_IJCAI_HYPERPARAMETER_NOISY_3/2024-01-11/iter-2_n-4_k-2_m-8_sigma_w-0.01_sigma_p-1.1155555555555556_n_samples-500.yaml\n"
     ]
    },
    {
     "name": "stderr",
     "output_type": "stream",
     "text": [
      "Sample: 100%|████████████████████████████| 1000/1000 [00:37, 26.36it/s, step size=2.13e-01, acc. prob=0.798]\n"
     ]
    },
    {
     "name": "stdout",
     "output_type": "stream",
     "text": [
      "diag:  {'sigma': OrderedDict([('n_eff', tensor(190.3371)), ('r_hat', tensor(1.0075))]), 'w': OrderedDict([('n_eff', tensor([199.5360, 290.1980, 217.7095, 198.4374, 318.5755, 293.5961, 170.3414,\n",
      "        237.4790, 273.4653, 183.1714])), ('r_hat', tensor([0.9997, 1.0053, 0.9987, 0.9994, 0.9987, 0.9986, 1.0020, 0.9997, 1.0111,\n",
      "        1.0011]))]), 'divergences': {'chain 0': [4, 7, 109, 323]}, 'acceptance rate': {'chain 0': 0.956}}\n",
      "Registering the results in:  SX_IJCAI_HYPERPARAMETER_NOISY_3/2024-01-11/iter-2_n-4_k-2_m-8_sigma_w-0.01_sigma_p-1.3366666666666667_n_samples-500.yaml\n"
     ]
    },
    {
     "name": "stderr",
     "output_type": "stream",
     "text": [
      "Sample: 100%|████████████████████████████| 1000/1000 [01:03, 15.68it/s, step size=8.77e-02, acc. prob=0.874]\n"
     ]
    },
    {
     "name": "stdout",
     "output_type": "stream",
     "text": [
      "diag:  {'sigma': OrderedDict([('n_eff', tensor(124.9179)), ('r_hat', tensor(1.0097))]), 'w': OrderedDict([('n_eff', tensor([356.6051, 274.5567, 192.8652, 296.2361, 150.2914, 246.4002, 435.4288,\n",
      "        323.6468, 222.7366, 180.8311])), ('r_hat', tensor([0.9994, 1.0030, 0.9982, 1.0000, 1.0028, 1.0043, 0.9997, 1.0071, 1.0016,\n",
      "        0.9984]))]), 'divergences': {'chain 0': [184, 430, 431, 437, 441, 442, 445, 448, 449, 450]}, 'acceptance rate': {'chain 0': 0.984}}\n",
      "Registering the results in:  SX_IJCAI_HYPERPARAMETER_NOISY_3/2024-01-11/iter-2_n-4_k-2_m-8_sigma_w-0.01_sigma_p-1.557777777777778_n_samples-500.yaml\n"
     ]
    },
    {
     "name": "stderr",
     "output_type": "stream",
     "text": [
      "Sample: 100%|████████████████████████████| 1000/1000 [00:59, 16.68it/s, step size=1.18e-01, acc. prob=0.772]\n"
     ]
    },
    {
     "name": "stdout",
     "output_type": "stream",
     "text": [
      "diag:  {'sigma': OrderedDict([('n_eff', tensor(164.8938)), ('r_hat', tensor(1.0058))]), 'w': OrderedDict([('n_eff', tensor([124.0208, 155.7262,  72.2020,  99.1570, 172.6416, 257.3778, 307.5326,\n",
      "        256.7666,  72.3615, 292.2662])), ('r_hat', tensor([1.0097, 1.0079, 1.0217, 1.0260, 1.0068, 1.0015, 0.9985, 1.0019, 1.0275,\n",
      "        1.0018]))]), 'divergences': {'chain 0': []}, 'acceptance rate': {'chain 0': 0.932}}\n",
      "Registering the results in:  SX_IJCAI_HYPERPARAMETER_NOISY_3/2024-01-11/iter-2_n-4_k-2_m-8_sigma_w-0.01_sigma_p-1.778888888888889_n_samples-500.yaml\n"
     ]
    },
    {
     "name": "stderr",
     "output_type": "stream",
     "text": [
      "Sample: 100%|████████████████████████████| 1000/1000 [01:14, 13.34it/s, step size=1.12e-01, acc. prob=0.867]\n"
     ]
    },
    {
     "name": "stdout",
     "output_type": "stream",
     "text": [
      "diag:  {'sigma': OrderedDict([('n_eff', tensor(216.7825)), ('r_hat', tensor(1.0136))]), 'w': OrderedDict([('n_eff', tensor([375.6153, 403.7934, 343.2743, 298.5258, 423.9111, 331.3416, 291.4532,\n",
      "        199.0703, 418.7841, 423.5670])), ('r_hat', tensor([0.9983, 1.0020, 0.9999, 1.0037, 0.9981, 0.9982, 0.9981, 1.0007, 1.0034,\n",
      "        0.9983]))]), 'divergences': {'chain 0': []}, 'acceptance rate': {'chain 0': 0.988}}\n",
      "Registering the results in:  SX_IJCAI_HYPERPARAMETER_NOISY_3/2024-01-11/iter-2_n-4_k-2_m-8_sigma_w-0.01_sigma_p-2.0_n_samples-500.yaml\n"
     ]
    },
    {
     "name": "stderr",
     "output_type": "stream",
     "text": [
      "Sample: 100%|████████████████████████████| 1000/1000 [00:51, 19.53it/s, step size=1.72e-01, acc. prob=0.613]\n"
     ]
    },
    {
     "name": "stdout",
     "output_type": "stream",
     "text": [
      "diag:  {'sigma': OrderedDict([('n_eff', tensor(29.6328)), ('r_hat', tensor(1.0097))]), 'w': OrderedDict([('n_eff', tensor([ 52.9910, 254.9014, 129.5929,  83.4998,  24.8350,  32.3121,  31.1894,\n",
      "         59.0510,  21.7607,  11.8062])), ('r_hat', tensor([0.9980, 1.0070, 1.0208, 1.0253, 1.0141, 1.0036, 1.0905, 1.0033, 1.0389,\n",
      "        0.9984]))]), 'divergences': {'chain 0': [185, 192, 194, 195, 198, 199, 200, 201, 202, 203, 210, 216, 217, 221, 225, 226, 229, 230, 231, 234, 236, 238, 242, 243, 250, 253, 254, 255, 256, 258, 264, 267, 269, 271, 272, 273, 279, 285, 287, 291, 297, 300]}, 'acceptance rate': {'chain 0': 0.846}}\n",
      "Registering the results in:  SX_IJCAI_HYPERPARAMETER_NOISY_3/2024-01-11/iter-2_n-4_k-2_m-8_sigma_w-0.23111111111111113_sigma_p-0.01_n_samples-500.yaml\n"
     ]
    },
    {
     "name": "stderr",
     "output_type": "stream",
     "text": [
      "Sample: 100%|████████████████████████████| 1000/1000 [00:54, 18.25it/s, step size=2.00e-01, acc. prob=0.776]\n"
     ]
    },
    {
     "name": "stdout",
     "output_type": "stream",
     "text": [
      "diag:  {'sigma': OrderedDict([('n_eff', tensor(223.5726)), ('r_hat', tensor(0.9996))]), 'w': OrderedDict([('n_eff', tensor([295.3175, 198.7153, 244.9398, 220.1015, 220.9831, 199.0919, 372.8578,\n",
      "        180.1170, 214.9414, 305.2120])), ('r_hat', tensor([0.9985, 0.9985, 1.0021, 0.9980, 0.9990, 1.0050, 1.0019, 1.0197, 0.9984,\n",
      "        0.9985]))]), 'divergences': {'chain 0': [487]}, 'acceptance rate': {'chain 0': 0.982}}\n",
      "Registering the results in:  SX_IJCAI_HYPERPARAMETER_NOISY_3/2024-01-11/iter-2_n-4_k-2_m-8_sigma_w-0.23111111111111113_sigma_p-0.23111111111111113_n_samples-500.yaml\n"
     ]
    },
    {
     "name": "stderr",
     "output_type": "stream",
     "text": [
      "Sample: 100%|████████████████████████████| 1000/1000 [00:53, 18.56it/s, step size=1.58e-01, acc. prob=0.790]\n"
     ]
    },
    {
     "name": "stdout",
     "output_type": "stream",
     "text": [
      "diag:  {'sigma': OrderedDict([('n_eff', tensor(176.7677)), ('r_hat', tensor(1.0052))]), 'w': OrderedDict([('n_eff', tensor([191.7067, 109.0433, 255.5444, 322.6134, 135.5051, 268.4751, 362.0110,\n",
      "        181.7197,  73.8056, 302.2906])), ('r_hat', tensor([1.0012, 1.0144, 0.9982, 0.9983, 1.0106, 0.9987, 0.9985, 1.0008, 1.0276,\n",
      "        1.0035]))]), 'divergences': {'chain 0': [115, 116, 125, 130, 132, 327, 388, 477]}, 'acceptance rate': {'chain 0': 0.942}}\n",
      "Registering the results in:  SX_IJCAI_HYPERPARAMETER_NOISY_3/2024-01-11/iter-2_n-4_k-2_m-8_sigma_w-0.23111111111111113_sigma_p-0.45222222222222225_n_samples-500.yaml\n"
     ]
    },
    {
     "name": "stderr",
     "output_type": "stream",
     "text": [
      "Sample: 100%|████████████████████████████| 1000/1000 [00:52, 18.97it/s, step size=1.43e-01, acc. prob=0.879]\n"
     ]
    },
    {
     "name": "stdout",
     "output_type": "stream",
     "text": [
      "diag:  {'sigma': OrderedDict([('n_eff', tensor(189.5724)), ('r_hat', tensor(0.9981))]), 'w': OrderedDict([('n_eff', tensor([334.7982, 317.9636, 300.0536, 241.8507, 325.3566, 286.3015, 252.7613,\n",
      "        289.0551, 290.3778, 363.9991])), ('r_hat', tensor([1.0030, 1.0033, 1.0008, 1.0126, 0.9981, 0.9982, 1.0022, 0.9989, 1.0011,\n",
      "        0.9993]))]), 'divergences': {'chain 0': [162, 318]}, 'acceptance rate': {'chain 0': 0.988}}\n",
      "Registering the results in:  SX_IJCAI_HYPERPARAMETER_NOISY_3/2024-01-11/iter-2_n-4_k-2_m-8_sigma_w-0.23111111111111113_sigma_p-0.6733333333333333_n_samples-500.yaml\n"
     ]
    },
    {
     "name": "stderr",
     "output_type": "stream",
     "text": [
      "Sample: 100%|████████████████████████████| 1000/1000 [01:38, 10.18it/s, step size=9.28e-02, acc. prob=0.845]\n"
     ]
    },
    {
     "name": "stdout",
     "output_type": "stream",
     "text": [
      "diag:  {'sigma': OrderedDict([('n_eff', tensor(157.3180)), ('r_hat', tensor(0.9985))]), 'w': OrderedDict([('n_eff', tensor([253.5676, 268.8445, 320.0539, 181.9791, 187.1409, 237.3943, 169.5964,\n",
      "        163.0423, 363.6028, 258.3245])), ('r_hat', tensor([0.9987, 0.9989, 1.0004, 0.9980, 0.9989, 0.9981, 0.9997, 0.9994, 1.0022,\n",
      "        1.0014]))]), 'divergences': {'chain 0': [13, 217]}, 'acceptance rate': {'chain 0': 0.974}}\n",
      "Registering the results in:  SX_IJCAI_HYPERPARAMETER_NOISY_3/2024-01-11/iter-2_n-4_k-2_m-8_sigma_w-0.23111111111111113_sigma_p-0.8944444444444445_n_samples-500.yaml\n"
     ]
    },
    {
     "name": "stderr",
     "output_type": "stream",
     "text": [
      "Sample: 100%|████████████████████████████| 1000/1000 [00:47, 21.04it/s, step size=2.29e-01, acc. prob=0.751]\n"
     ]
    },
    {
     "name": "stdout",
     "output_type": "stream",
     "text": [
      "diag:  {'sigma': OrderedDict([('n_eff', tensor(204.7675)), ('r_hat', tensor(1.0072))]), 'w': OrderedDict([('n_eff', tensor([233.8711, 206.9088, 223.2567, 230.5948, 285.1714, 275.3855, 230.1958,\n",
      "        149.6831, 282.4141, 181.6786])), ('r_hat', tensor([1.0006, 1.0265, 1.0072, 1.0026, 1.0046, 0.9993, 1.0001, 1.0135, 1.0018,\n",
      "        0.9984]))]), 'divergences': {'chain 0': [14, 56, 202, 366, 406]}, 'acceptance rate': {'chain 0': 0.954}}\n",
      "Registering the results in:  SX_IJCAI_HYPERPARAMETER_NOISY_3/2024-01-11/iter-2_n-4_k-2_m-8_sigma_w-0.23111111111111113_sigma_p-1.1155555555555556_n_samples-500.yaml\n"
     ]
    },
    {
     "name": "stderr",
     "output_type": "stream",
     "text": [
      "Sample: 100%|████████████████████████████| 1000/1000 [01:06, 15.14it/s, step size=1.63e-01, acc. prob=0.409]\n"
     ]
    },
    {
     "name": "stdout",
     "output_type": "stream",
     "text": [
      "diag:  {'sigma': OrderedDict([('n_eff', tensor(7.0316)), ('r_hat', tensor(1.3951))]), 'w': OrderedDict([('n_eff', tensor([ 37.0810,   6.5169,  29.7314, 187.0280,  23.1345,  21.2210,  55.4837,\n",
      "         15.0312, 111.2793,  17.7371])), ('r_hat', tensor([1.0030, 1.3545, 1.0909, 1.0338, 1.0108, 1.1705, 0.9981, 1.1722, 1.0484,\n",
      "        1.0713]))]), 'divergences': {'chain 0': [64, 216, 228, 233, 240, 247, 249, 252, 255, 256, 259, 263, 264, 265, 266, 268, 269, 275, 277, 278, 280, 284, 285, 287, 288, 290, 291, 292, 293, 294, 295, 296, 297, 298, 300, 301, 302, 303, 304, 305, 306, 307, 308, 309, 310, 311, 312, 313, 314, 315, 316, 317, 318, 319, 320, 322, 323, 324, 326, 327, 328, 332, 333, 334, 335, 336, 337, 338, 339, 340, 341, 342, 343, 344, 345, 346, 347, 348, 349, 350, 351, 352, 353, 356, 358, 360, 361, 362, 363, 364, 365, 367, 368, 369, 370, 371, 372, 373, 374, 375, 376, 377, 378, 379, 380, 382, 385, 386, 387, 388, 389, 390, 392, 393, 395, 397, 398, 400, 401, 402, 404, 405, 406, 407, 409, 410, 411, 412, 415, 417, 418, 419, 424, 425, 427, 428, 429, 430, 431, 433, 434, 435, 436, 437, 438, 440, 443, 444, 445, 446, 447, 449, 451, 452, 453, 455, 456, 460, 461, 464, 489]}, 'acceptance rate': {'chain 0': 0.666}}\n",
      "Registering the results in:  SX_IJCAI_HYPERPARAMETER_NOISY_3/2024-01-11/iter-2_n-4_k-2_m-8_sigma_w-0.23111111111111113_sigma_p-1.3366666666666667_n_samples-500.yaml\n"
     ]
    },
    {
     "name": "stderr",
     "output_type": "stream",
     "text": [
      "Sample: 100%|████████████████████████████| 1000/1000 [00:43, 22.94it/s, step size=2.16e-01, acc. prob=0.736]\n"
     ]
    },
    {
     "name": "stdout",
     "output_type": "stream",
     "text": [
      "diag:  {'sigma': OrderedDict([('n_eff', tensor(102.0565)), ('r_hat', tensor(1.0008))]), 'w': OrderedDict([('n_eff', tensor([144.7614, 142.0748, 136.3525, 133.5952, 166.3170, 236.7879, 127.5703,\n",
      "        169.8587, 214.1936, 172.2321])), ('r_hat', tensor([1.0030, 0.9988, 1.0031, 1.0143, 1.0126, 0.9999, 1.0066, 1.0013, 1.0112,\n",
      "        0.9988]))]), 'divergences': {'chain 0': [68, 78, 80, 139, 160, 255, 430]}, 'acceptance rate': {'chain 0': 0.936}}\n",
      "Registering the results in:  SX_IJCAI_HYPERPARAMETER_NOISY_3/2024-01-11/iter-2_n-4_k-2_m-8_sigma_w-0.23111111111111113_sigma_p-1.557777777777778_n_samples-500.yaml\n"
     ]
    },
    {
     "name": "stderr",
     "output_type": "stream",
     "text": [
      "Sample: 100%|████████████████████████████| 1000/1000 [00:51, 19.53it/s, step size=1.99e-01, acc. prob=0.728]\n"
     ]
    },
    {
     "name": "stdout",
     "output_type": "stream",
     "text": [
      "diag:  {'sigma': OrderedDict([('n_eff', tensor(183.3449)), ('r_hat', tensor(1.0001))]), 'w': OrderedDict([('n_eff', tensor([327.6004, 130.1549, 198.3897, 195.1267, 187.1467, 231.8029, 165.0112,\n",
      "        252.5033, 263.5836, 218.4204])), ('r_hat', tensor([1.0003, 0.9990, 0.9980, 0.9980, 1.0036, 0.9992, 0.9994, 1.0040, 0.9988,\n",
      "        0.9980]))]), 'divergences': {'chain 0': [253, 254, 412, 469]}, 'acceptance rate': {'chain 0': 0.936}}\n",
      "Registering the results in:  SX_IJCAI_HYPERPARAMETER_NOISY_3/2024-01-11/iter-2_n-4_k-2_m-8_sigma_w-0.23111111111111113_sigma_p-1.778888888888889_n_samples-500.yaml\n"
     ]
    },
    {
     "name": "stderr",
     "output_type": "stream",
     "text": [
      "Sample: 100%|████████████████████████████| 1000/1000 [01:11, 14.02it/s, step size=1.17e-01, acc. prob=0.826]\n"
     ]
    },
    {
     "name": "stdout",
     "output_type": "stream",
     "text": [
      "diag:  {'sigma': OrderedDict([('n_eff', tensor(117.8331)), ('r_hat', tensor(1.0156))]), 'w': OrderedDict([('n_eff', tensor([173.3317, 148.7534, 240.2908, 136.4061, 212.1248, 230.0495, 203.6774,\n",
      "        274.1700, 168.5385, 332.3325])), ('r_hat', tensor([0.9980, 0.9996, 0.9984, 1.0068, 0.9980, 0.9999, 0.9981, 1.0007, 0.9991,\n",
      "        1.0010]))]), 'divergences': {'chain 0': [292, 398, 463, 479]}, 'acceptance rate': {'chain 0': 0.948}}\n",
      "Registering the results in:  SX_IJCAI_HYPERPARAMETER_NOISY_3/2024-01-11/iter-2_n-4_k-2_m-8_sigma_w-0.23111111111111113_sigma_p-2.0_n_samples-500.yaml\n"
     ]
    },
    {
     "name": "stderr",
     "output_type": "stream",
     "text": [
      "Sample: 100%|████████████████████████████| 1000/1000 [01:11, 13.97it/s, step size=1.31e-01, acc. prob=0.826]\n"
     ]
    },
    {
     "name": "stdout",
     "output_type": "stream",
     "text": [
      "diag:  {'sigma': OrderedDict([('n_eff', tensor(149.8740)), ('r_hat', tensor(0.9986))]), 'w': OrderedDict([('n_eff', tensor([331.8860, 373.6178, 268.5057, 332.1794, 239.7255, 351.8748, 291.6640,\n",
      "        264.7528, 238.7435, 211.3801])), ('r_hat', tensor([1.0009, 0.9983, 0.9997, 0.9982, 0.9983, 1.0024, 0.9988, 0.9987, 0.9997,\n",
      "        1.0038]))]), 'divergences': {'chain 0': [248, 255, 262, 405]}, 'acceptance rate': {'chain 0': 0.978}}\n",
      "Registering the results in:  SX_IJCAI_HYPERPARAMETER_NOISY_3/2024-01-11/iter-2_n-4_k-2_m-8_sigma_w-0.45222222222222225_sigma_p-0.01_n_samples-500.yaml\n"
     ]
    },
    {
     "name": "stderr",
     "output_type": "stream",
     "text": [
      "Sample: 100%|████████████████████████████| 1000/1000 [00:59, 16.91it/s, step size=1.23e-01, acc. prob=0.809]\n"
     ]
    },
    {
     "name": "stdout",
     "output_type": "stream",
     "text": [
      "diag:  {'sigma': OrderedDict([('n_eff', tensor(110.8800)), ('r_hat', tensor(1.0203))]), 'w': OrderedDict([('n_eff', tensor([245.6026, 177.8577, 196.2892, 151.4996, 147.6170, 339.6308, 301.7333,\n",
      "        262.4385, 232.8680, 313.8548])), ('r_hat', tensor([0.9996, 1.0046, 1.0157, 1.0141, 1.0134, 1.0027, 0.9981, 0.9988, 1.0056,\n",
      "        1.0061]))]), 'divergences': {'chain 0': [26, 111, 113, 168, 175, 185, 186, 225, 249, 270, 277, 295, 324, 352, 395, 425, 429, 473]}, 'acceptance rate': {'chain 0': 0.982}}\n",
      "Registering the results in:  SX_IJCAI_HYPERPARAMETER_NOISY_3/2024-01-11/iter-2_n-4_k-2_m-8_sigma_w-0.45222222222222225_sigma_p-0.23111111111111113_n_samples-500.yaml\n"
     ]
    },
    {
     "name": "stderr",
     "output_type": "stream",
     "text": [
      "Sample: 100%|████████████████████████████| 1000/1000 [03:10,  5.24it/s, step size=3.26e-02, acc. prob=0.937]\n"
     ]
    },
    {
     "name": "stdout",
     "output_type": "stream",
     "text": [
      "diag:  {'sigma': OrderedDict([('n_eff', tensor(231.0419)), ('r_hat', tensor(1.0005))]), 'w': OrderedDict([('n_eff', tensor([387.1190, 199.7532, 111.8236, 171.8414, 186.9792, 368.2179, 173.0805,\n",
      "        286.6337, 351.9129, 394.0586])), ('r_hat', tensor([0.9995, 0.9980, 1.0124, 1.0010, 0.9982, 1.0038, 1.0030, 0.9981, 0.9999,\n",
      "        0.9997]))]), 'divergences': {'chain 0': [285]}, 'acceptance rate': {'chain 0': 0.998}}\n",
      "Registering the results in:  SX_IJCAI_HYPERPARAMETER_NOISY_3/2024-01-11/iter-2_n-4_k-2_m-8_sigma_w-0.45222222222222225_sigma_p-0.45222222222222225_n_samples-500.yaml\n"
     ]
    },
    {
     "name": "stderr",
     "output_type": "stream",
     "text": [
      "Sample: 100%|████████████████████████████| 1000/1000 [01:16, 13.13it/s, step size=1.12e-01, acc. prob=0.838]\n"
     ]
    },
    {
     "name": "stdout",
     "output_type": "stream",
     "text": [
      "diag:  {'sigma': OrderedDict([('n_eff', tensor(57.1508)), ('r_hat', tensor(1.0004))]), 'w': OrderedDict([('n_eff', tensor([219.7309, 163.5880, 202.2061,  80.8311, 248.7922, 120.6657, 192.0748,\n",
      "        215.2206, 297.3039, 135.9218])), ('r_hat', tensor([1.0177, 1.0002, 1.0008, 0.9980, 1.0071, 0.9981, 1.0004, 1.0018, 1.0001,\n",
      "        1.0000]))]), 'divergences': {'chain 0': [88, 95, 103, 468]}, 'acceptance rate': {'chain 0': 0.972}}\n",
      "Registering the results in:  SX_IJCAI_HYPERPARAMETER_NOISY_3/2024-01-11/iter-2_n-4_k-2_m-8_sigma_w-0.45222222222222225_sigma_p-0.6733333333333333_n_samples-500.yaml\n"
     ]
    },
    {
     "name": "stderr",
     "output_type": "stream",
     "text": [
      "Sample: 100%|████████████████████████████| 1000/1000 [00:52, 19.22it/s, step size=2.00e-01, acc. prob=0.714]\n"
     ]
    },
    {
     "name": "stdout",
     "output_type": "stream",
     "text": [
      "diag:  {'sigma': OrderedDict([('n_eff', tensor(97.5605)), ('r_hat', tensor(1.0025))]), 'w': OrderedDict([('n_eff', tensor([ 97.0712,  80.1414, 206.2485, 106.3453, 151.4277, 200.8903, 115.1236,\n",
      "        219.1495, 116.8175, 151.3643])), ('r_hat', tensor([0.9996, 1.0001, 1.0101, 1.0160, 0.9990, 1.0115, 1.0015, 0.9980, 1.0021,\n",
      "        1.0041]))]), 'divergences': {'chain 0': [0, 140, 191, 193, 195, 197, 198, 366]}, 'acceptance rate': {'chain 0': 0.914}}\n",
      "Registering the results in:  SX_IJCAI_HYPERPARAMETER_NOISY_3/2024-01-11/iter-2_n-4_k-2_m-8_sigma_w-0.45222222222222225_sigma_p-0.8944444444444445_n_samples-500.yaml\n"
     ]
    },
    {
     "name": "stderr",
     "output_type": "stream",
     "text": [
      "Sample: 100%|████████████████████████████| 1000/1000 [01:12, 13.87it/s, step size=1.41e-01, acc. prob=0.787]\n"
     ]
    },
    {
     "name": "stdout",
     "output_type": "stream",
     "text": [
      "diag:  {'sigma': OrderedDict([('n_eff', tensor(114.8655)), ('r_hat', tensor(1.0011))]), 'w': OrderedDict([('n_eff', tensor([382.8569, 311.0024, 226.8515, 296.5151, 308.1904, 267.3582, 337.2245,\n",
      "        329.3131, 273.4681, 303.6925])), ('r_hat', tensor([1.0010, 0.9986, 1.0120, 0.9985, 1.0028, 0.9988, 1.0025, 0.9982, 0.9988,\n",
      "        1.0064]))]), 'divergences': {'chain 0': [30, 56, 272, 274, 276, 277, 278, 279, 283, 292, 476]}, 'acceptance rate': {'chain 0': 0.958}}\n",
      "Registering the results in:  SX_IJCAI_HYPERPARAMETER_NOISY_3/2024-01-11/iter-2_n-4_k-2_m-8_sigma_w-0.45222222222222225_sigma_p-1.1155555555555556_n_samples-500.yaml\n"
     ]
    },
    {
     "name": "stderr",
     "output_type": "stream",
     "text": [
      "Sample: 100%|████████████████████████████| 1000/1000 [01:02, 15.95it/s, step size=1.37e-01, acc. prob=0.846]\n"
     ]
    },
    {
     "name": "stdout",
     "output_type": "stream",
     "text": [
      "diag:  {'sigma': OrderedDict([('n_eff', tensor(217.2102)), ('r_hat', tensor(0.9983))]), 'w': OrderedDict([('n_eff', tensor([322.8537, 320.3837, 384.3011, 255.4986, 348.1668, 255.2992, 286.3117,\n",
      "        285.9765, 377.6762, 492.0351])), ('r_hat', tensor([1.0022, 1.0085, 0.9980, 0.9991, 0.9983, 1.0004, 0.9990, 1.0057, 1.0017,\n",
      "        0.9987]))]), 'divergences': {'chain 0': [216]}, 'acceptance rate': {'chain 0': 0.99}}\n",
      "Registering the results in:  SX_IJCAI_HYPERPARAMETER_NOISY_3/2024-01-11/iter-2_n-4_k-2_m-8_sigma_w-0.45222222222222225_sigma_p-1.3366666666666667_n_samples-500.yaml\n"
     ]
    },
    {
     "name": "stderr",
     "output_type": "stream",
     "text": [
      "Sample: 100%|████████████████████████████| 1000/1000 [01:07, 14.87it/s, step size=1.14e-01, acc. prob=0.728]\n"
     ]
    },
    {
     "name": "stdout",
     "output_type": "stream",
     "text": [
      "diag:  {'sigma': OrderedDict([('n_eff', tensor(29.3451)), ('r_hat', tensor(1.0600))]), 'w': OrderedDict([('n_eff', tensor([ 81.6360, 155.7958,  58.9355,  65.2394,  43.5231,  39.7891,  74.1679,\n",
      "        172.5718,  38.7282,  71.3130])), ('r_hat', tensor([1.0816, 1.0201, 1.0592, 1.0215, 1.0064, 1.1069, 1.0463, 0.9987, 1.0757,\n",
      "        1.0467]))]), 'divergences': {'chain 0': [316, 324, 325, 326, 329, 331, 332, 333, 334, 335, 336, 337, 338, 339, 341, 343, 344, 346, 347, 348, 349, 353, 356, 360, 361, 362, 366, 368, 369, 374, 381, 397, 399, 400, 402]}, 'acceptance rate': {'chain 0': 0.9}}\n",
      "Registering the results in:  SX_IJCAI_HYPERPARAMETER_NOISY_3/2024-01-11/iter-2_n-4_k-2_m-8_sigma_w-0.45222222222222225_sigma_p-1.557777777777778_n_samples-500.yaml\n"
     ]
    },
    {
     "name": "stderr",
     "output_type": "stream",
     "text": [
      "Sample: 100%|████████████████████████████| 1000/1000 [01:42,  9.72it/s, step size=1.07e-01, acc. prob=0.761]\n"
     ]
    },
    {
     "name": "stdout",
     "output_type": "stream",
     "text": [
      "diag:  {'sigma': OrderedDict([('n_eff', tensor(156.0794)), ('r_hat', tensor(1.0044))]), 'w': OrderedDict([('n_eff', tensor([160.6392, 225.4180, 239.9313, 267.2631, 322.7231, 196.6413, 184.5098,\n",
      "        298.3040, 144.6597, 130.6807])), ('r_hat', tensor([1.0015, 0.9987, 1.0025, 1.0001, 0.9983, 1.0155, 0.9991, 1.0080, 1.0144,\n",
      "        1.0148]))]), 'divergences': {'chain 0': [256, 318, 394]}, 'acceptance rate': {'chain 0': 0.952}}\n",
      "Registering the results in:  SX_IJCAI_HYPERPARAMETER_NOISY_3/2024-01-11/iter-2_n-4_k-2_m-8_sigma_w-0.45222222222222225_sigma_p-1.778888888888889_n_samples-500.yaml\n"
     ]
    },
    {
     "name": "stderr",
     "output_type": "stream",
     "text": [
      "Sample: 100%|████████████████████████████| 1000/1000 [01:17, 12.93it/s, step size=1.36e-01, acc. prob=0.807]\n"
     ]
    },
    {
     "name": "stdout",
     "output_type": "stream",
     "text": [
      "diag:  {'sigma': OrderedDict([('n_eff', tensor(157.0888)), ('r_hat', tensor(1.0012))]), 'w': OrderedDict([('n_eff', tensor([361.5392, 271.6835, 223.8620, 262.7913, 369.0272, 251.1861, 423.2981,\n",
      "        275.9679, 285.8662, 196.1792])), ('r_hat', tensor([1.0015, 0.9982, 1.0074, 1.0066, 1.0021, 1.0015, 0.9990, 1.0003, 0.9981,\n",
      "        1.0068]))]), 'divergences': {'chain 0': [164, 409]}, 'acceptance rate': {'chain 0': 0.974}}\n",
      "Registering the results in:  SX_IJCAI_HYPERPARAMETER_NOISY_3/2024-01-11/iter-2_n-4_k-2_m-8_sigma_w-0.45222222222222225_sigma_p-2.0_n_samples-500.yaml\n"
     ]
    },
    {
     "name": "stderr",
     "output_type": "stream",
     "text": [
      "Sample: 100%|████████████████████████████| 1000/1000 [00:57, 17.39it/s, step size=2.30e-01, acc. prob=0.708]\n"
     ]
    },
    {
     "name": "stdout",
     "output_type": "stream",
     "text": [
      "diag:  {'sigma': OrderedDict([('n_eff', tensor(139.0861)), ('r_hat', tensor(0.9984))]), 'w': OrderedDict([('n_eff', tensor([244.1704, 226.7444, 123.6143, 174.5396, 126.8781, 177.8981, 161.5928,\n",
      "        167.2819, 172.4479, 125.2560])), ('r_hat', tensor([0.9991, 0.9996, 0.9981, 1.0013, 0.9988, 0.9983, 0.9981, 1.0158, 0.9981,\n",
      "        0.9980]))]), 'divergences': {'chain 0': [51, 72, 74, 81, 82, 120, 144]}, 'acceptance rate': {'chain 0': 0.936}}\n",
      "Registering the results in:  SX_IJCAI_HYPERPARAMETER_NOISY_3/2024-01-11/iter-2_n-4_k-2_m-8_sigma_w-0.6733333333333333_sigma_p-0.01_n_samples-500.yaml\n"
     ]
    },
    {
     "name": "stderr",
     "output_type": "stream",
     "text": [
      "Sample: 100%|████████████████████████████| 1000/1000 [00:56, 17.58it/s, step size=1.40e-01, acc. prob=0.792]\n"
     ]
    },
    {
     "name": "stdout",
     "output_type": "stream",
     "text": [
      "diag:  {'sigma': OrderedDict([('n_eff', tensor(27.9409)), ('r_hat', tensor(1.0435))]), 'w': OrderedDict([('n_eff', tensor([ 58.8236, 127.2742, 168.2081, 143.6005, 219.3792, 292.3803,  69.6667,\n",
      "         90.1445, 151.9962, 201.2669])), ('r_hat', tensor([1.0467, 1.0072, 1.0038, 0.9984, 1.0042, 1.0076, 1.0123, 1.0046, 1.0019,\n",
      "        1.0032]))]), 'divergences': {'chain 0': [29, 103, 104, 105, 111, 175, 236]}, 'acceptance rate': {'chain 0': 0.958}}\n",
      "Registering the results in:  SX_IJCAI_HYPERPARAMETER_NOISY_3/2024-01-11/iter-2_n-4_k-2_m-8_sigma_w-0.6733333333333333_sigma_p-0.23111111111111113_n_samples-500.yaml\n"
     ]
    },
    {
     "name": "stderr",
     "output_type": "stream",
     "text": [
      "Sample: 100%|████████████████████████████| 1000/1000 [01:02, 16.01it/s, step size=1.95e-01, acc. prob=0.691]\n"
     ]
    },
    {
     "name": "stdout",
     "output_type": "stream",
     "text": [
      "diag:  {'sigma': OrderedDict([('n_eff', tensor(196.3472)), ('r_hat', tensor(0.9993))]), 'w': OrderedDict([('n_eff', tensor([ 79.8968, 121.1001, 212.6168, 196.9873,  66.8798, 171.9726,  75.2906,\n",
      "        124.1714, 117.6460,  92.5388])), ('r_hat', tensor([1.0022, 1.0022, 1.0007, 1.0011, 1.0179, 1.0013, 0.9982, 1.0033, 1.0197,\n",
      "        1.0134]))]), 'divergences': {'chain 0': [33, 44, 49, 50, 64, 104, 114, 117, 145, 147, 153, 154, 191, 192, 206, 211, 232, 234, 236, 265, 278, 279, 299, 329, 353, 409, 461, 494]}, 'acceptance rate': {'chain 0': 0.954}}\n",
      "Registering the results in:  SX_IJCAI_HYPERPARAMETER_NOISY_3/2024-01-11/iter-2_n-4_k-2_m-8_sigma_w-0.6733333333333333_sigma_p-0.45222222222222225_n_samples-500.yaml\n"
     ]
    },
    {
     "name": "stderr",
     "output_type": "stream",
     "text": [
      "Sample: 100%|████████████████████████████| 1000/1000 [01:20, 12.39it/s, step size=1.80e-01, acc. prob=0.482]\n"
     ]
    },
    {
     "name": "stdout",
     "output_type": "stream",
     "text": [
      "diag:  {'sigma': OrderedDict([('n_eff', tensor(31.6044)), ('r_hat', tensor(1.1250))]), 'w': OrderedDict([('n_eff', tensor([ 37.5596,  17.2206,  53.9734,  41.5011,  79.1253, 143.2077,  96.5859,\n",
      "         24.3473, 139.1488,  75.5573])), ('r_hat', tensor([1.0542, 1.0776, 1.0516, 1.0588, 1.0095, 1.0329, 1.0212, 1.0589, 1.0068,\n",
      "        1.0010]))]), 'divergences': {'chain 0': [123, 129, 220, 223, 284, 304, 319, 321, 322, 326, 329, 336, 344, 350, 353, 356, 361, 376, 387, 391, 403, 410, 429, 438, 450, 463, 493]}, 'acceptance rate': {'chain 0': 0.77}}\n",
      "Registering the results in:  SX_IJCAI_HYPERPARAMETER_NOISY_3/2024-01-11/iter-2_n-4_k-2_m-8_sigma_w-0.6733333333333333_sigma_p-0.6733333333333333_n_samples-500.yaml\n"
     ]
    },
    {
     "name": "stderr",
     "output_type": "stream",
     "text": [
      "Sample: 100%|████████████████████████████| 1000/1000 [01:13, 13.64it/s, step size=1.25e-01, acc. prob=0.811]\n"
     ]
    },
    {
     "name": "stdout",
     "output_type": "stream",
     "text": [
      "diag:  {'sigma': OrderedDict([('n_eff', tensor(136.6884)), ('r_hat', tensor(1.0005))]), 'w': OrderedDict([('n_eff', tensor([106.9697, 152.0086, 147.6279, 233.6440, 173.0689, 225.8758, 263.9417,\n",
      "        148.4709, 139.5343, 199.5424])), ('r_hat', tensor([0.9990, 1.0026, 1.0140, 1.0108, 1.0051, 1.0078, 0.9980, 1.0035, 1.0080,\n",
      "        1.0026]))]), 'divergences': {'chain 0': [412, 440]}, 'acceptance rate': {'chain 0': 0.966}}\n",
      "Registering the results in:  SX_IJCAI_HYPERPARAMETER_NOISY_3/2024-01-11/iter-2_n-4_k-2_m-8_sigma_w-0.6733333333333333_sigma_p-0.8944444444444445_n_samples-500.yaml\n"
     ]
    },
    {
     "name": "stderr",
     "output_type": "stream",
     "text": [
      "Sample: 100%|████████████████████████████| 1000/1000 [01:18, 12.77it/s, step size=1.06e-01, acc. prob=0.825]\n"
     ]
    },
    {
     "name": "stdout",
     "output_type": "stream",
     "text": [
      "diag:  {'sigma': OrderedDict([('n_eff', tensor(148.4363)), ('r_hat', tensor(1.0011))]), 'w': OrderedDict([('n_eff', tensor([209.9357, 107.7069, 281.6761, 186.4663, 155.2370, 199.0110, 148.4978,\n",
      "        360.2977, 211.1904, 194.8182])), ('r_hat', tensor([0.9984, 1.0235, 0.9990, 1.0120, 1.0045, 0.9987, 0.9980, 0.9980, 0.9998,\n",
      "        0.9985]))]), 'divergences': {'chain 0': [10]}, 'acceptance rate': {'chain 0': 0.978}}\n",
      "Registering the results in:  SX_IJCAI_HYPERPARAMETER_NOISY_3/2024-01-11/iter-2_n-4_k-2_m-8_sigma_w-0.6733333333333333_sigma_p-1.1155555555555556_n_samples-500.yaml\n"
     ]
    },
    {
     "name": "stderr",
     "output_type": "stream",
     "text": [
      "Sample: 100%|████████████████████████████| 1000/1000 [01:10, 14.19it/s, step size=1.35e-01, acc. prob=0.797]\n"
     ]
    },
    {
     "name": "stdout",
     "output_type": "stream",
     "text": [
      "diag:  {'sigma': OrderedDict([('n_eff', tensor(217.5141)), ('r_hat', tensor(0.9981))]), 'w': OrderedDict([('n_eff', tensor([303.7113, 273.2131, 199.9510, 260.8020, 211.5136, 217.6447, 295.2824,\n",
      "        109.8201, 303.5662, 164.2327])), ('r_hat', tensor([0.9981, 1.0141, 0.9981, 0.9980, 1.0183, 0.9983, 1.0043, 0.9980, 0.9984,\n",
      "        1.0117]))]), 'divergences': {'chain 0': [22, 304]}, 'acceptance rate': {'chain 0': 0.968}}\n",
      "Registering the results in:  SX_IJCAI_HYPERPARAMETER_NOISY_3/2024-01-11/iter-2_n-4_k-2_m-8_sigma_w-0.6733333333333333_sigma_p-1.3366666666666667_n_samples-500.yaml\n"
     ]
    },
    {
     "name": "stderr",
     "output_type": "stream",
     "text": [
      "Sample: 100%|████████████████████████████| 1000/1000 [01:07, 14.71it/s, step size=1.37e-01, acc. prob=0.791]\n"
     ]
    },
    {
     "name": "stdout",
     "output_type": "stream",
     "text": [
      "diag:  {'sigma': OrderedDict([('n_eff', tensor(143.3375)), ('r_hat', tensor(1.0000))]), 'w': OrderedDict([('n_eff', tensor([218.3182,  87.6315, 106.2908, 111.4537, 260.7835, 335.8032, 291.8029,\n",
      "        136.7786, 134.8686, 239.1543])), ('r_hat', tensor([1.0157, 1.0133, 1.0168, 1.0066, 1.0012, 1.0056, 0.9983, 1.0038, 0.9982,\n",
      "        0.9981]))]), 'divergences': {'chain 0': [124, 166, 167, 172, 174, 176, 177, 178, 307, 325, 328, 329, 402, 405]}, 'acceptance rate': {'chain 0': 0.978}}\n",
      "Registering the results in:  SX_IJCAI_HYPERPARAMETER_NOISY_3/2024-01-11/iter-2_n-4_k-2_m-8_sigma_w-0.6733333333333333_sigma_p-1.557777777777778_n_samples-500.yaml\n"
     ]
    },
    {
     "name": "stderr",
     "output_type": "stream",
     "text": [
      "Sample: 100%|████████████████████████████| 1000/1000 [01:42,  9.72it/s, step size=1.06e-01, acc. prob=0.830]\n"
     ]
    },
    {
     "name": "stdout",
     "output_type": "stream",
     "text": [
      "diag:  {'sigma': OrderedDict([('n_eff', tensor(233.1413)), ('r_hat', tensor(0.9989))]), 'w': OrderedDict([('n_eff', tensor([190.2957, 171.3862, 165.3632, 149.9762, 303.6379, 192.8683, 153.5336,\n",
      "        292.0955, 172.3235, 189.0998])), ('r_hat', tensor([0.9980, 1.0184, 0.9981, 1.0013, 0.9981, 1.0004, 0.9981, 0.9988, 1.0078,\n",
      "        0.9984]))]), 'divergences': {'chain 0': [46, 64]}, 'acceptance rate': {'chain 0': 0.998}}\n",
      "Registering the results in:  SX_IJCAI_HYPERPARAMETER_NOISY_3/2024-01-11/iter-2_n-4_k-2_m-8_sigma_w-0.6733333333333333_sigma_p-1.778888888888889_n_samples-500.yaml\n"
     ]
    },
    {
     "name": "stderr",
     "output_type": "stream",
     "text": [
      "Sample: 100%|████████████████████████████| 1000/1000 [01:11, 14.03it/s, step size=1.68e-01, acc. prob=0.750]\n"
     ]
    },
    {
     "name": "stdout",
     "output_type": "stream",
     "text": [
      "diag:  {'sigma': OrderedDict([('n_eff', tensor(119.8966)), ('r_hat', tensor(1.0139))]), 'w': OrderedDict([('n_eff', tensor([201.8219, 201.4903, 128.6343, 238.2469, 344.1688, 188.4736, 191.5386,\n",
      "        242.0032, 215.9566, 221.6782])), ('r_hat', tensor([1.0088, 0.9980, 1.0214, 1.0025, 1.0002, 0.9984, 1.0200, 0.9989, 0.9982,\n",
      "        1.0186]))]), 'divergences': {'chain 0': [56, 88, 98, 165, 292, 334, 372]}, 'acceptance rate': {'chain 0': 0.952}}\n",
      "Registering the results in:  SX_IJCAI_HYPERPARAMETER_NOISY_3/2024-01-11/iter-2_n-4_k-2_m-8_sigma_w-0.6733333333333333_sigma_p-2.0_n_samples-500.yaml\n"
     ]
    },
    {
     "name": "stderr",
     "output_type": "stream",
     "text": [
      "Sample: 100%|████████████████████████████| 1000/1000 [01:13, 13.53it/s, step size=1.42e-01, acc. prob=0.734]\n"
     ]
    },
    {
     "name": "stdout",
     "output_type": "stream",
     "text": [
      "diag:  {'sigma': OrderedDict([('n_eff', tensor(175.2939)), ('r_hat', tensor(1.0047))]), 'w': OrderedDict([('n_eff', tensor([184.4176, 152.6072, 164.1216, 199.6135, 177.4583, 204.3126, 256.2265,\n",
      "        123.6040, 143.9245, 182.7777])), ('r_hat', tensor([1.0028, 1.0051, 0.9980, 0.9981, 1.0003, 1.0000, 1.0017, 1.0122, 0.9990,\n",
      "        1.0060]))]), 'divergences': {'chain 0': [136, 149, 281, 387]}, 'acceptance rate': {'chain 0': 0.946}}\n",
      "Registering the results in:  SX_IJCAI_HYPERPARAMETER_NOISY_3/2024-01-11/iter-2_n-4_k-2_m-8_sigma_w-0.8944444444444445_sigma_p-0.01_n_samples-500.yaml\n"
     ]
    },
    {
     "name": "stderr",
     "output_type": "stream",
     "text": [
      "Sample: 100%|████████████████████████████| 1000/1000 [01:04, 15.44it/s, step size=1.38e-01, acc. prob=0.843]\n"
     ]
    },
    {
     "name": "stdout",
     "output_type": "stream",
     "text": [
      "diag:  {'sigma': OrderedDict([('n_eff', tensor(259.3504)), ('r_hat', tensor(0.9994))]), 'w': OrderedDict([('n_eff', tensor([231.4459, 324.9217, 178.2526, 237.1194, 325.2913, 329.7553, 199.8832,\n",
      "        276.8375, 309.0351, 189.5918])), ('r_hat', tensor([1.0180, 1.0053, 1.0001, 1.0089, 1.0051, 0.9980, 0.9984, 1.0068, 0.9984,\n",
      "        1.0005]))]), 'divergences': {'chain 0': [4, 15, 16, 202]}, 'acceptance rate': {'chain 0': 0.972}}\n",
      "Registering the results in:  SX_IJCAI_HYPERPARAMETER_NOISY_3/2024-01-11/iter-2_n-4_k-2_m-8_sigma_w-0.8944444444444445_sigma_p-0.23111111111111113_n_samples-500.yaml\n"
     ]
    },
    {
     "name": "stderr",
     "output_type": "stream",
     "text": [
      "Sample: 100%|████████████████████████████| 1000/1000 [00:51, 19.31it/s, step size=1.57e-01, acc. prob=0.335]\n"
     ]
    },
    {
     "name": "stdout",
     "output_type": "stream",
     "text": [
      "diag:  {'sigma': OrderedDict([('n_eff', tensor(6.7377)), ('r_hat', tensor(1.2584))]), 'w': OrderedDict([('n_eff', tensor([ 5.3176, 19.9948, 10.1667, 10.8400, 30.7423,  5.1804, 57.7301, 11.4228,\n",
      "        16.1097, 33.4072])), ('r_hat', tensor([1.4669, 1.0993, 1.0176, 1.0902, 1.0272, 1.4478, 1.0130, 1.1616, 1.0782,\n",
      "        0.9983]))]), 'divergences': {'chain 0': [102, 155, 156, 157, 159, 160, 162, 163, 165, 167, 168, 169, 171, 172, 173, 175, 176, 177, 178, 180, 182, 184, 185, 186, 187, 188, 190, 192, 193, 194, 197, 200, 201, 202, 203, 204, 205, 206, 207, 210, 212, 214, 215, 216, 219, 220, 221, 222, 224, 225, 226, 227, 228, 229, 230, 231, 232, 233, 234, 235, 236, 239, 240, 242, 243, 244, 245, 246, 247, 249, 250, 251, 252, 255, 256, 257, 258, 259, 260, 261, 263, 265, 266, 267, 268, 269, 270, 271, 272, 273, 274, 275, 277, 278, 279, 280, 281, 282, 283, 284, 285, 286, 287, 288, 291, 292, 293, 294, 295, 296, 297, 298, 299, 301, 303, 306, 307, 310, 311, 313, 314, 315, 316, 317, 318, 319, 320, 321, 322, 323, 325, 326, 328, 330, 331, 332, 333, 335, 336, 338, 339, 341, 343, 344, 345, 346, 347, 348, 349, 350, 351, 352, 354, 355, 356, 357, 359, 360, 365, 366, 368, 369, 370, 371, 372, 373, 374, 375, 376, 377, 378, 380, 382, 383, 384, 385, 386, 387, 389, 391, 392, 393, 395, 397, 398, 400, 401, 402, 405, 412, 414, 415, 418, 424, 425, 428, 429, 442, 444, 458, 459, 460, 461, 463, 465, 466, 467, 468, 472, 473, 475, 477, 478, 481, 482, 483, 486, 487]}, 'acceptance rate': {'chain 0': 0.634}}\n",
      "Registering the results in:  SX_IJCAI_HYPERPARAMETER_NOISY_3/2024-01-11/iter-2_n-4_k-2_m-8_sigma_w-0.8944444444444445_sigma_p-0.45222222222222225_n_samples-500.yaml\n"
     ]
    },
    {
     "name": "stderr",
     "output_type": "stream",
     "text": [
      "Sample: 100%|████████████████████████████| 1000/1000 [01:37, 10.30it/s, step size=5.59e-02, acc. prob=0.771]\n"
     ]
    },
    {
     "name": "stdout",
     "output_type": "stream",
     "text": [
      "diag:  {'sigma': OrderedDict([('n_eff', tensor(41.0165)), ('r_hat', tensor(1.0111))]), 'w': OrderedDict([('n_eff', tensor([ 15.8166, 216.5941,  11.9010, 133.1880, 266.2574, 234.4377, 158.7345,\n",
      "        350.0533,  73.5385, 227.7434])), ('r_hat', tensor([1.1700, 1.0087, 1.2081, 1.0062, 1.0006, 1.0008, 0.9981, 1.0051, 1.0116,\n",
      "        1.0227]))]), 'divergences': {'chain 0': [24, 80, 139, 147, 159, 162, 163, 164, 165, 166, 167, 174, 176, 177, 180, 183, 186, 187, 188, 189, 190, 191, 193, 195, 197, 198, 204, 210, 216, 271]}, 'acceptance rate': {'chain 0': 0.94}}\n",
      "Registering the results in:  SX_IJCAI_HYPERPARAMETER_NOISY_3/2024-01-11/iter-2_n-4_k-2_m-8_sigma_w-0.8944444444444445_sigma_p-0.6733333333333333_n_samples-500.yaml\n"
     ]
    },
    {
     "name": "stderr",
     "output_type": "stream",
     "text": [
      "Sample: 100%|████████████████████████████| 1000/1000 [01:33, 10.72it/s, step size=6.94e-02, acc. prob=0.892]\n"
     ]
    },
    {
     "name": "stdout",
     "output_type": "stream",
     "text": [
      "diag:  {'sigma': OrderedDict([('n_eff', tensor(129.6078)), ('r_hat', tensor(0.9980))]), 'w': OrderedDict([('n_eff', tensor([160.9788, 258.1733, 270.0849, 142.6305, 215.4144, 293.5189, 258.0751,\n",
      "        437.5339, 289.2401, 135.4712])), ('r_hat', tensor([0.9991, 1.0041, 0.9989, 1.0118, 1.0020, 1.0019, 1.0065, 0.9987, 0.9981,\n",
      "        0.9983]))]), 'divergences': {'chain 0': [143, 144, 145]}, 'acceptance rate': {'chain 0': 0.988}}\n",
      "Registering the results in:  SX_IJCAI_HYPERPARAMETER_NOISY_3/2024-01-11/iter-2_n-4_k-2_m-8_sigma_w-0.8944444444444445_sigma_p-0.8944444444444445_n_samples-500.yaml\n"
     ]
    },
    {
     "name": "stderr",
     "output_type": "stream",
     "text": [
      "Sample: 100%|████████████████████████████| 1000/1000 [01:06, 14.96it/s, step size=1.49e-01, acc. prob=0.804]\n"
     ]
    },
    {
     "name": "stdout",
     "output_type": "stream",
     "text": [
      "diag:  {'sigma': OrderedDict([('n_eff', tensor(111.3258)), ('r_hat', tensor(1.0049))]), 'w': OrderedDict([('n_eff', tensor([109.0629, 144.1341, 252.7812, 223.3274, 126.7481, 273.5566, 119.9059,\n",
      "        129.4138, 216.2801, 160.2105])), ('r_hat', tensor([0.9990, 1.0047, 0.9985, 1.0191, 1.0164, 0.9989, 0.9987, 1.0104, 1.0021,\n",
      "        0.9999]))]), 'divergences': {'chain 0': [90, 206, 306, 436, 437]}, 'acceptance rate': {'chain 0': 0.978}}\n",
      "Registering the results in:  SX_IJCAI_HYPERPARAMETER_NOISY_3/2024-01-11/iter-2_n-4_k-2_m-8_sigma_w-0.8944444444444445_sigma_p-1.1155555555555556_n_samples-500.yaml\n"
     ]
    },
    {
     "name": "stderr",
     "output_type": "stream",
     "text": [
      "Sample: 100%|████████████████████████████| 1000/1000 [01:09, 14.33it/s, step size=1.25e-01, acc. prob=0.663]\n"
     ]
    },
    {
     "name": "stdout",
     "output_type": "stream",
     "text": [
      "diag:  {'sigma': OrderedDict([('n_eff', tensor(28.0467)), ('r_hat', tensor(1.0138))]), 'w': OrderedDict([('n_eff', tensor([ 81.6508,  61.1003, 100.5050, 113.9350, 140.2138,  67.9322,  71.2927,\n",
      "        154.5907,  92.8981, 130.6209])), ('r_hat', tensor([1.0035, 1.0155, 1.0042, 0.9980, 0.9983, 0.9995, 0.9980, 0.9993, 1.0076,\n",
      "        1.0082]))]), 'divergences': {'chain 0': [60, 66, 101, 212, 217, 223, 227, 230, 234, 236, 237, 238, 239, 240, 243, 249, 254, 259, 261, 263, 265, 270, 271, 273, 274, 276, 278, 280, 281, 282, 283, 285, 287, 290, 296, 297, 299, 301, 302, 304]}, 'acceptance rate': {'chain 0': 0.89}}\n",
      "Registering the results in:  SX_IJCAI_HYPERPARAMETER_NOISY_3/2024-01-11/iter-2_n-4_k-2_m-8_sigma_w-0.8944444444444445_sigma_p-1.3366666666666667_n_samples-500.yaml\n"
     ]
    },
    {
     "name": "stderr",
     "output_type": "stream",
     "text": [
      "Sample: 100%|████████████████████████████| 1000/1000 [01:30, 11.01it/s, step size=9.30e-02, acc. prob=0.803]\n"
     ]
    },
    {
     "name": "stdout",
     "output_type": "stream",
     "text": [
      "diag:  {'sigma': OrderedDict([('n_eff', tensor(103.8173)), ('r_hat', tensor(1.0112))]), 'w': OrderedDict([('n_eff', tensor([114.4590, 164.5477, 141.8104, 168.3258, 138.2195, 131.7167, 161.2196,\n",
      "        157.5930, 135.7720, 197.1633])), ('r_hat', tensor([0.9987, 1.0014, 1.0031, 0.9981, 1.0152, 0.9984, 0.9985, 1.0038, 0.9988,\n",
      "        0.9993]))]), 'divergences': {'chain 0': [34, 209, 325]}, 'acceptance rate': {'chain 0': 0.972}}\n",
      "Registering the results in:  SX_IJCAI_HYPERPARAMETER_NOISY_3/2024-01-11/iter-2_n-4_k-2_m-8_sigma_w-0.8944444444444445_sigma_p-1.557777777777778_n_samples-500.yaml\n"
     ]
    },
    {
     "name": "stderr",
     "output_type": "stream",
     "text": [
      "Sample: 100%|████████████████████████████| 1000/1000 [01:43,  9.67it/s, step size=9.69e-02, acc. prob=0.660]\n"
     ]
    },
    {
     "name": "stdout",
     "output_type": "stream",
     "text": [
      "diag:  {'sigma': OrderedDict([('n_eff', tensor(97.9100)), ('r_hat', tensor(0.9987))]), 'w': OrderedDict([('n_eff', tensor([ 60.6994,  82.9748,  94.3285, 108.8452,  62.3110, 146.5125,  99.6890,\n",
      "        144.3026, 170.6827, 173.5036])), ('r_hat', tensor([1.0475, 1.0208, 0.9981, 1.0134, 1.0667, 1.0000, 0.9982, 0.9988, 1.0047,\n",
      "        1.0157]))]), 'divergences': {'chain 0': [88, 200, 360, 430]}, 'acceptance rate': {'chain 0': 0.936}}\n",
      "Registering the results in:  SX_IJCAI_HYPERPARAMETER_NOISY_3/2024-01-11/iter-2_n-4_k-2_m-8_sigma_w-0.8944444444444445_sigma_p-1.778888888888889_n_samples-500.yaml\n"
     ]
    },
    {
     "name": "stderr",
     "output_type": "stream",
     "text": [
      "Sample: 100%|████████████████████████████| 1000/1000 [01:28, 11.24it/s, step size=9.72e-02, acc. prob=0.736]\n"
     ]
    },
    {
     "name": "stdout",
     "output_type": "stream",
     "text": [
      "diag:  {'sigma': OrderedDict([('n_eff', tensor(172.5653)), ('r_hat', tensor(0.9980))]), 'w': OrderedDict([('n_eff', tensor([203.9964, 223.4745, 147.9569, 110.3055, 148.1238, 123.6506, 212.3971,\n",
      "        181.7870, 162.1687, 166.1591])), ('r_hat', tensor([1.0043, 0.9988, 0.9982, 1.0039, 0.9984, 1.0042, 1.0039, 1.0003, 0.9996,\n",
      "        1.0166]))]), 'divergences': {'chain 0': [40, 190, 220]}, 'acceptance rate': {'chain 0': 0.956}}\n",
      "Registering the results in:  SX_IJCAI_HYPERPARAMETER_NOISY_3/2024-01-11/iter-2_n-4_k-2_m-8_sigma_w-0.8944444444444445_sigma_p-2.0_n_samples-500.yaml\n"
     ]
    },
    {
     "name": "stderr",
     "output_type": "stream",
     "text": [
      "Sample: 100%|████████████████████████████| 1000/1000 [01:45,  9.51it/s, step size=6.89e-02, acc. prob=0.886]\n"
     ]
    },
    {
     "name": "stdout",
     "output_type": "stream",
     "text": [
      "diag:  {'sigma': OrderedDict([('n_eff', tensor(208.2727)), ('r_hat', tensor(0.9997))]), 'w': OrderedDict([('n_eff', tensor([241.3325, 160.5667, 274.6263, 295.5107, 141.2043, 223.8702, 235.5938,\n",
      "        198.1308, 199.2883, 372.3673])), ('r_hat', tensor([0.9984, 0.9984, 1.0009, 0.9981, 0.9988, 1.0011, 1.0006, 1.0017, 1.0021,\n",
      "        1.0042]))]), 'divergences': {'chain 0': [53, 108, 139, 292, 481]}, 'acceptance rate': {'chain 0': 1.0}}\n",
      "Registering the results in:  SX_IJCAI_HYPERPARAMETER_NOISY_3/2024-01-11/iter-2_n-4_k-2_m-8_sigma_w-1.1155555555555556_sigma_p-0.01_n_samples-500.yaml\n"
     ]
    },
    {
     "name": "stderr",
     "output_type": "stream",
     "text": [
      "Sample: 100%|████████████████████████████| 1000/1000 [00:49, 20.02it/s, step size=2.12e-01, acc. prob=0.750]\n"
     ]
    },
    {
     "name": "stdout",
     "output_type": "stream",
     "text": [
      "diag:  {'sigma': OrderedDict([('n_eff', tensor(181.7334)), ('r_hat', tensor(1.0032))]), 'w': OrderedDict([('n_eff', tensor([105.5356, 185.8987, 124.8860, 123.7719, 175.4860, 147.4837, 150.2819,\n",
      "        230.1967, 161.7186, 249.8385])), ('r_hat', tensor([1.0129, 0.9999, 0.9984, 1.0002, 1.0058, 0.9980, 0.9986, 0.9983, 1.0000,\n",
      "        0.9991]))]), 'divergences': {'chain 0': [40, 185, 194, 196, 353, 355, 401]}, 'acceptance rate': {'chain 0': 0.964}}\n",
      "Registering the results in:  SX_IJCAI_HYPERPARAMETER_NOISY_3/2024-01-11/iter-2_n-4_k-2_m-8_sigma_w-1.1155555555555556_sigma_p-0.23111111111111113_n_samples-500.yaml\n"
     ]
    },
    {
     "name": "stderr",
     "output_type": "stream",
     "text": [
      "Sample: 100%|████████████████████████████| 1000/1000 [01:11, 14.04it/s, step size=1.04e-01, acc. prob=0.864]\n"
     ]
    },
    {
     "name": "stdout",
     "output_type": "stream",
     "text": [
      "diag:  {'sigma': OrderedDict([('n_eff', tensor(113.0577)), ('r_hat', tensor(1.0026))]), 'w': OrderedDict([('n_eff', tensor([150.4698, 209.6557, 242.3496, 169.0343, 227.2653, 193.8329, 284.9177,\n",
      "        160.8981, 229.9248, 201.7102])), ('r_hat', tensor([0.9980, 0.9999, 0.9980, 0.9980, 1.0015, 0.9980, 0.9988, 1.0138, 0.9982,\n",
      "        0.9982]))]), 'divergences': {'chain 0': [0, 106, 247, 469]}, 'acceptance rate': {'chain 0': 0.98}}\n",
      "Registering the results in:  SX_IJCAI_HYPERPARAMETER_NOISY_3/2024-01-11/iter-2_n-4_k-2_m-8_sigma_w-1.1155555555555556_sigma_p-0.45222222222222225_n_samples-500.yaml\n"
     ]
    },
    {
     "name": "stderr",
     "output_type": "stream",
     "text": [
      "Sample: 100%|████████████████████████████| 1000/1000 [01:05, 15.32it/s, step size=1.21e-01, acc. prob=0.580]\n"
     ]
    },
    {
     "name": "stdout",
     "output_type": "stream",
     "text": [
      "diag:  {'sigma': OrderedDict([('n_eff', tensor(31.2605)), ('r_hat', tensor(1.0110))]), 'w': OrderedDict([('n_eff', tensor([ 17.1037,  21.4367,  79.4482,  29.8262,  57.6160, 223.0292,  91.9848,\n",
      "         32.8586,  81.5123,  65.6237])), ('r_hat', tensor([1.0566, 1.0400, 1.0175, 1.0185, 1.0004, 1.0078, 1.0363, 1.0113, 0.9982,\n",
      "        1.0103]))]), 'divergences': {'chain 0': [26, 32, 34, 35, 37, 39, 40, 42, 44, 45, 46, 47, 48, 50, 51, 52, 53, 56, 58, 59, 60, 63, 64, 65, 70, 71, 164, 182, 239, 317, 326, 327, 328, 329, 331, 334, 335, 341, 343, 345, 347, 348, 349, 364, 368, 370, 381, 382, 384, 401]}, 'acceptance rate': {'chain 0': 0.804}}\n",
      "Registering the results in:  SX_IJCAI_HYPERPARAMETER_NOISY_3/2024-01-11/iter-2_n-4_k-2_m-8_sigma_w-1.1155555555555556_sigma_p-0.6733333333333333_n_samples-500.yaml\n"
     ]
    },
    {
     "name": "stderr",
     "output_type": "stream",
     "text": [
      "Sample: 100%|████████████████████████████| 1000/1000 [01:12, 13.74it/s, step size=1.55e-01, acc. prob=0.654]\n"
     ]
    },
    {
     "name": "stdout",
     "output_type": "stream",
     "text": [
      "diag:  {'sigma': OrderedDict([('n_eff', tensor(64.9284)), ('r_hat', tensor(1.0236))]), 'w': OrderedDict([('n_eff', tensor([159.1003, 132.0076, 186.5410, 158.3579, 101.3529, 183.3719, 163.6731,\n",
      "        103.3726, 304.3248, 156.1253])), ('r_hat', tensor([0.9994, 1.0195, 0.9987, 1.0081, 1.0206, 1.0032, 1.0094, 1.0025, 1.0071,\n",
      "        0.9990]))]), 'divergences': {'chain 0': [92, 124, 129, 131, 133, 134, 135, 139, 140, 145, 147, 152, 157, 160, 165, 167, 176, 177, 182, 195, 250, 258, 300]}, 'acceptance rate': {'chain 0': 0.892}}\n",
      "Registering the results in:  SX_IJCAI_HYPERPARAMETER_NOISY_3/2024-01-11/iter-2_n-4_k-2_m-8_sigma_w-1.1155555555555556_sigma_p-0.8944444444444445_n_samples-500.yaml\n"
     ]
    },
    {
     "name": "stderr",
     "output_type": "stream",
     "text": [
      "Sample: 100%|████████████████████████████| 1000/1000 [01:26, 11.59it/s, step size=1.01e-01, acc. prob=0.748]\n"
     ]
    },
    {
     "name": "stdout",
     "output_type": "stream",
     "text": [
      "diag:  {'sigma': OrderedDict([('n_eff', tensor(113.9429)), ('r_hat', tensor(1.0009))]), 'w': OrderedDict([('n_eff', tensor([100.4603, 225.1517,  94.2881, 139.4086, 202.3456, 161.2453, 181.1029,\n",
      "         80.1809, 120.9804, 114.9075])), ('r_hat', tensor([0.9997, 1.0090, 1.0202, 0.9981, 1.0037, 1.0027, 1.0016, 0.9993, 0.9986,\n",
      "        1.0128]))]), 'divergences': {'chain 0': [82, 199, 205, 210, 288, 403, 465]}, 'acceptance rate': {'chain 0': 0.954}}\n",
      "Registering the results in:  SX_IJCAI_HYPERPARAMETER_NOISY_3/2024-01-11/iter-2_n-4_k-2_m-8_sigma_w-1.1155555555555556_sigma_p-1.1155555555555556_n_samples-500.yaml\n"
     ]
    },
    {
     "name": "stderr",
     "output_type": "stream",
     "text": [
      "Sample: 100%|████████████████████████████| 1000/1000 [01:04, 15.61it/s, step size=1.52e-01, acc. prob=0.731]\n"
     ]
    },
    {
     "name": "stdout",
     "output_type": "stream",
     "text": [
      "diag:  {'sigma': OrderedDict([('n_eff', tensor(121.4392)), ('r_hat', tensor(1.0075))]), 'w': OrderedDict([('n_eff', tensor([197.2845, 172.4424, 162.8352, 143.5085, 140.7228,  83.2137, 147.3058,\n",
      "         87.5268, 318.6157, 156.7726])), ('r_hat', tensor([0.9994, 1.0006, 1.0055, 1.0005, 1.0041, 1.0174, 1.0007, 1.0002, 1.0006,\n",
      "        1.0005]))]), 'divergences': {'chain 0': [38, 39, 40, 46, 49, 50, 53, 54, 55, 58, 59, 61, 63, 95, 110, 111, 112, 114, 115, 116, 121, 122, 126, 130, 132, 133, 134, 137, 202, 262, 269, 288, 298, 332, 349, 459]}, 'acceptance rate': {'chain 0': 0.974}}\n",
      "Registering the results in:  SX_IJCAI_HYPERPARAMETER_NOISY_3/2024-01-11/iter-2_n-4_k-2_m-8_sigma_w-1.1155555555555556_sigma_p-1.3366666666666667_n_samples-500.yaml\n"
     ]
    },
    {
     "name": "stderr",
     "output_type": "stream",
     "text": [
      "Sample: 100%|████████████████████████████| 1000/1000 [01:57,  8.48it/s, step size=6.73e-02, acc. prob=0.887]\n"
     ]
    },
    {
     "name": "stdout",
     "output_type": "stream",
     "text": [
      "diag:  {'sigma': OrderedDict([('n_eff', tensor(179.5991)), ('r_hat', tensor(1.0043))]), 'w': OrderedDict([('n_eff', tensor([200.2484, 237.6503, 207.3768, 124.6740, 241.4508, 245.8447, 255.4378,\n",
      "        327.9781, 357.8963, 345.0142])), ('r_hat', tensor([0.9980, 0.9980, 0.9981, 1.0118, 1.0052, 0.9981, 1.0008, 0.9982, 0.9984,\n",
      "        0.9980]))]), 'divergences': {'chain 0': [296]}, 'acceptance rate': {'chain 0': 0.996}}\n",
      "Registering the results in:  SX_IJCAI_HYPERPARAMETER_NOISY_3/2024-01-11/iter-2_n-4_k-2_m-8_sigma_w-1.1155555555555556_sigma_p-1.557777777777778_n_samples-500.yaml\n"
     ]
    },
    {
     "name": "stderr",
     "output_type": "stream",
     "text": [
      "Sample: 100%|████████████████████████████| 1000/1000 [01:31, 10.87it/s, step size=8.72e-02, acc. prob=0.382]\n"
     ]
    },
    {
     "name": "stdout",
     "output_type": "stream",
     "text": [
      "diag:  {'sigma': OrderedDict([('n_eff', tensor(10.8205)), ('r_hat', tensor(1.1453))]), 'w': OrderedDict([('n_eff', tensor([47.3671, 14.8183, 14.2266,  6.9683,  8.7084, 32.7931,  8.9144, 21.5750,\n",
      "        84.6348,  4.7626])), ('r_hat', tensor([0.9981, 1.1015, 1.1404, 1.2281, 0.9980, 0.9995, 1.0449, 1.0659, 1.0062,\n",
      "        1.6621]))]), 'divergences': {'chain 0': [48, 174, 192, 215, 217, 240, 241, 247, 249, 250, 255, 262, 265, 278, 282, 299, 303, 304, 326, 327, 330, 336, 337, 338, 343, 344, 345, 346, 347, 349, 351, 352, 356, 358, 359, 364, 367, 368, 370, 371, 373, 374, 375, 376, 377, 378, 382, 384, 386, 388, 389, 390, 391, 392, 393, 394, 395, 397, 398, 399, 401, 403, 408, 409, 410, 412, 419, 420, 422, 424, 425, 426, 427, 429, 430, 431, 432, 433, 434, 435, 436, 439, 445, 446, 450, 451, 453, 454, 456, 459, 462, 468]}, 'acceptance rate': {'chain 0': 0.708}}\n",
      "Registering the results in:  SX_IJCAI_HYPERPARAMETER_NOISY_3/2024-01-11/iter-2_n-4_k-2_m-8_sigma_w-1.1155555555555556_sigma_p-1.778888888888889_n_samples-500.yaml\n"
     ]
    },
    {
     "name": "stderr",
     "output_type": "stream",
     "text": [
      "Sample: 100%|████████████████████████████| 1000/1000 [01:58,  8.41it/s, step size=7.36e-02, acc. prob=0.780]\n"
     ]
    },
    {
     "name": "stdout",
     "output_type": "stream",
     "text": [
      "diag:  {'sigma': OrderedDict([('n_eff', tensor(112.9574)), ('r_hat', tensor(0.9989))]), 'w': OrderedDict([('n_eff', tensor([110.4146,  92.4249, 105.2240, 187.4833, 190.8528, 103.9575, 185.7262,\n",
      "        164.0865, 161.2382, 214.1835])), ('r_hat', tensor([1.0016, 1.0148, 1.0104, 1.0005, 0.9984, 1.0294, 0.9989, 1.0095, 0.9981,\n",
      "        0.9989]))]), 'divergences': {'chain 0': [45, 90, 385, 488]}, 'acceptance rate': {'chain 0': 0.972}}\n",
      "Registering the results in:  SX_IJCAI_HYPERPARAMETER_NOISY_3/2024-01-11/iter-2_n-4_k-2_m-8_sigma_w-1.1155555555555556_sigma_p-2.0_n_samples-500.yaml\n"
     ]
    },
    {
     "name": "stderr",
     "output_type": "stream",
     "text": [
      "Sample: 100%|████████████████████████████| 1000/1000 [01:35, 10.42it/s, step size=8.40e-02, acc. prob=0.817]\n"
     ]
    },
    {
     "name": "stdout",
     "output_type": "stream",
     "text": [
      "diag:  {'sigma': OrderedDict([('n_eff', tensor(111.9873)), ('r_hat', tensor(1.0219))]), 'w': OrderedDict([('n_eff', tensor([183.2600, 103.7518, 135.7379, 124.4435,  96.9082,  99.7909, 141.3936,\n",
      "        219.9129, 143.9343, 207.7873])), ('r_hat', tensor([1.0011, 1.0132, 1.0016, 1.0069, 1.0057, 1.0083, 0.9983, 0.9980, 1.0045,\n",
      "        1.0053]))]), 'divergences': {'chain 0': [81, 109, 118, 119, 121, 122, 123, 127, 426]}, 'acceptance rate': {'chain 0': 0.986}}\n",
      "Registering the results in:  SX_IJCAI_HYPERPARAMETER_NOISY_3/2024-01-11/iter-2_n-4_k-2_m-8_sigma_w-1.3366666666666667_sigma_p-0.01_n_samples-500.yaml\n"
     ]
    },
    {
     "name": "stderr",
     "output_type": "stream",
     "text": [
      "Sample: 100%|████████████████████████████| 1000/1000 [01:03, 15.85it/s, step size=1.18e-01, acc. prob=0.692]\n"
     ]
    },
    {
     "name": "stdout",
     "output_type": "stream",
     "text": [
      "diag:  {'sigma': OrderedDict([('n_eff', tensor(91.3524)), ('r_hat', tensor(0.9981))]), 'w': OrderedDict([('n_eff', tensor([ 55.3000, 258.5483, 271.3273, 114.0117, 120.1493,  34.8901, 151.6417,\n",
      "         84.7526, 141.9801,  45.5456])), ('r_hat', tensor([1.0296, 1.0100, 0.9982, 1.0241, 1.0074, 1.0647, 0.9988, 1.0178, 1.0089,\n",
      "        1.0557]))]), 'divergences': {'chain 0': [89, 92, 94, 103, 104, 108, 149, 402, 405, 407, 413, 426, 496]}, 'acceptance rate': {'chain 0': 0.876}}\n",
      "Registering the results in:  SX_IJCAI_HYPERPARAMETER_NOISY_3/2024-01-11/iter-2_n-4_k-2_m-8_sigma_w-1.3366666666666667_sigma_p-0.23111111111111113_n_samples-500.yaml\n"
     ]
    },
    {
     "name": "stderr",
     "output_type": "stream",
     "text": [
      "Sample: 100%|████████████████████████████| 1000/1000 [01:03, 15.66it/s, step size=1.36e-01, acc. prob=0.740]\n"
     ]
    },
    {
     "name": "stdout",
     "output_type": "stream",
     "text": [
      "diag:  {'sigma': OrderedDict([('n_eff', tensor(107.3926)), ('r_hat', tensor(1.0100))]), 'w': OrderedDict([('n_eff', tensor([ 58.4084, 309.1106, 156.8102, 166.3497, 237.0775, 209.8307,  85.8289,\n",
      "        266.8850, 145.7429, 104.1234])), ('r_hat', tensor([1.0375, 1.0266, 0.9983, 1.0404, 1.0021, 0.9982, 1.0566, 1.0009, 1.0268,\n",
      "        1.0016]))]), 'divergences': {'chain 0': [28, 196, 375, 377, 423, 428, 474, 475, 476, 482, 484]}, 'acceptance rate': {'chain 0': 0.942}}\n",
      "Registering the results in:  SX_IJCAI_HYPERPARAMETER_NOISY_3/2024-01-11/iter-2_n-4_k-2_m-8_sigma_w-1.3366666666666667_sigma_p-0.45222222222222225_n_samples-500.yaml\n"
     ]
    },
    {
     "name": "stderr",
     "output_type": "stream",
     "text": [
      "Sample: 100%|████████████████████████████| 1000/1000 [01:17, 12.93it/s, step size=1.24e-01, acc. prob=0.801]\n"
     ]
    },
    {
     "name": "stdout",
     "output_type": "stream",
     "text": [
      "diag:  {'sigma': OrderedDict([('n_eff', tensor(119.7878)), ('r_hat', tensor(1.0052))]), 'w': OrderedDict([('n_eff', tensor([281.2802, 185.6512, 225.0523, 191.4437, 249.5190, 322.8909, 135.5419,\n",
      "        227.8567, 164.4481, 136.2797])), ('r_hat', tensor([1.0115, 1.0065, 1.0010, 1.0046, 1.0008, 0.9982, 1.0051, 1.0000, 0.9990,\n",
      "        0.9993]))]), 'divergences': {'chain 0': [50, 151, 358]}, 'acceptance rate': {'chain 0': 0.976}}\n",
      "Registering the results in:  SX_IJCAI_HYPERPARAMETER_NOISY_3/2024-01-11/iter-2_n-4_k-2_m-8_sigma_w-1.3366666666666667_sigma_p-0.6733333333333333_n_samples-500.yaml\n"
     ]
    },
    {
     "name": "stderr",
     "output_type": "stream",
     "text": [
      "Sample: 100%|████████████████████████████| 1000/1000 [01:33, 10.73it/s, step size=1.11e-01, acc. prob=0.517]\n"
     ]
    },
    {
     "name": "stdout",
     "output_type": "stream",
     "text": [
      "diag:  {'sigma': OrderedDict([('n_eff', tensor(18.5456)), ('r_hat', tensor(1.0940))]), 'w': OrderedDict([('n_eff', tensor([ 35.4967,  21.3171,  33.4340,  84.6854, 159.3212,  29.7773,  14.6801,\n",
      "         21.0458,  48.6261, 165.5174])), ('r_hat', tensor([1.0837, 1.0020, 0.9980, 0.9982, 1.0030, 1.0264, 1.1174, 0.9984, 1.0778,\n",
      "        1.0460]))]), 'divergences': {'chain 0': [31, 39, 44, 47, 50, 51, 55, 67, 68, 70, 71, 73, 74, 76, 78, 79, 81, 87, 88, 90, 92, 94, 96, 100, 101, 103, 106, 107, 109, 116, 118, 124, 126, 127, 129, 132, 133, 134, 139, 140, 143, 144, 145, 149, 151, 153, 156, 157, 160, 167, 201, 470]}, 'acceptance rate': {'chain 0': 0.786}}\n",
      "Registering the results in:  SX_IJCAI_HYPERPARAMETER_NOISY_3/2024-01-11/iter-2_n-4_k-2_m-8_sigma_w-1.3366666666666667_sigma_p-0.8944444444444445_n_samples-500.yaml\n"
     ]
    },
    {
     "name": "stderr",
     "output_type": "stream",
     "text": [
      "Sample: 100%|████████████████████████████| 1000/1000 [01:10, 14.26it/s, step size=1.34e-01, acc. prob=0.787]\n"
     ]
    },
    {
     "name": "stdout",
     "output_type": "stream",
     "text": [
      "diag:  {'sigma': OrderedDict([('n_eff', tensor(124.0610)), ('r_hat', tensor(0.9980))]), 'w': OrderedDict([('n_eff', tensor([175.6584, 121.2839, 132.8580, 204.2017, 329.6895, 139.8884, 134.5738,\n",
      "        121.5364, 182.9864, 176.0967])), ('r_hat', tensor([1.0138, 1.0033, 1.0274, 1.0003, 1.0114, 1.0184, 0.9984, 1.0039, 1.0016,\n",
      "        0.9982]))]), 'divergences': {'chain 0': [1, 2, 100, 475, 489]}, 'acceptance rate': {'chain 0': 0.976}}\n",
      "Registering the results in:  SX_IJCAI_HYPERPARAMETER_NOISY_3/2024-01-11/iter-2_n-4_k-2_m-8_sigma_w-1.3366666666666667_sigma_p-1.1155555555555556_n_samples-500.yaml\n"
     ]
    },
    {
     "name": "stderr",
     "output_type": "stream",
     "text": [
      "Sample: 100%|████████████████████████████| 1000/1000 [01:19, 12.57it/s, step size=1.19e-01, acc. prob=0.755]\n"
     ]
    },
    {
     "name": "stdout",
     "output_type": "stream",
     "text": [
      "diag:  {'sigma': OrderedDict([('n_eff', tensor(99.3110)), ('r_hat', tensor(0.9981))]), 'w': OrderedDict([('n_eff', tensor([ 89.7477, 224.0089, 121.9449, 106.4598, 243.9919, 125.2474, 196.6667,\n",
      "        258.7954, 179.3052, 129.7605])), ('r_hat', tensor([1.0058, 0.9996, 1.0023, 0.9983, 1.0120, 1.0050, 0.9982, 0.9983, 0.9996,\n",
      "        0.9990]))]), 'divergences': {'chain 0': []}, 'acceptance rate': {'chain 0': 0.964}}\n",
      "Registering the results in:  SX_IJCAI_HYPERPARAMETER_NOISY_3/2024-01-11/iter-2_n-4_k-2_m-8_sigma_w-1.3366666666666667_sigma_p-1.3366666666666667_n_samples-500.yaml\n"
     ]
    },
    {
     "name": "stderr",
     "output_type": "stream",
     "text": [
      "Sample: 100%|████████████████████████████| 1000/1000 [02:06,  7.92it/s, step size=6.35e-02, acc. prob=0.885]\n"
     ]
    },
    {
     "name": "stdout",
     "output_type": "stream",
     "text": [
      "diag:  {'sigma': OrderedDict([('n_eff', tensor(127.6227)), ('r_hat', tensor(1.0012))]), 'w': OrderedDict([('n_eff', tensor([291.5731, 196.0598, 155.0031, 207.9876, 232.8914, 148.6062, 201.6159,\n",
      "        175.3194, 223.4820, 310.6174])), ('r_hat', tensor([0.9988, 0.9994, 1.0036, 0.9980, 1.0018, 1.0041, 0.9980, 0.9985, 1.0068,\n",
      "        1.0007]))]), 'divergences': {'chain 0': [124]}, 'acceptance rate': {'chain 0': 1.0}}\n",
      "Registering the results in:  SX_IJCAI_HYPERPARAMETER_NOISY_3/2024-01-11/iter-2_n-4_k-2_m-8_sigma_w-1.3366666666666667_sigma_p-1.557777777777778_n_samples-500.yaml\n"
     ]
    },
    {
     "name": "stderr",
     "output_type": "stream",
     "text": [
      "Sample: 100%|████████████████████████████| 1000/1000 [01:30, 11.02it/s, step size=8.82e-02, acc. prob=0.872]\n"
     ]
    },
    {
     "name": "stdout",
     "output_type": "stream",
     "text": [
      "diag:  {'sigma': OrderedDict([('n_eff', tensor(190.5365)), ('r_hat', tensor(1.0158))]), 'w': OrderedDict([('n_eff', tensor([291.1566, 141.0869, 200.1592, 227.8464,  84.1302, 247.6812, 370.8050,\n",
      "        232.3255, 219.2218, 215.5384])), ('r_hat', tensor([1.0050, 1.0399, 0.9990, 1.0119, 1.0475, 1.0016, 1.0004, 0.9980, 1.0153,\n",
      "        0.9995]))]), 'divergences': {'chain 0': [72, 223, 227, 320]}, 'acceptance rate': {'chain 0': 0.994}}\n",
      "Registering the results in:  SX_IJCAI_HYPERPARAMETER_NOISY_3/2024-01-11/iter-2_n-4_k-2_m-8_sigma_w-1.3366666666666667_sigma_p-1.778888888888889_n_samples-500.yaml\n"
     ]
    },
    {
     "name": "stderr",
     "output_type": "stream",
     "text": [
      "Sample: 100%|████████████████████████████| 1000/1000 [01:12, 13.80it/s, step size=1.31e-01, acc. prob=0.806]\n"
     ]
    },
    {
     "name": "stdout",
     "output_type": "stream",
     "text": [
      "diag:  {'sigma': OrderedDict([('n_eff', tensor(128.8707)), ('r_hat', tensor(1.0143))]), 'w': OrderedDict([('n_eff', tensor([138.8988, 160.9515, 156.4519, 234.5317, 303.7266, 154.3324, 169.1761,\n",
      "        127.4271, 136.7206, 264.1172])), ('r_hat', tensor([1.0190, 0.9980, 0.9981, 0.9985, 0.9988, 1.0171, 1.0081, 0.9992, 0.9980,\n",
      "        0.9994]))]), 'divergences': {'chain 0': [131, 291]}, 'acceptance rate': {'chain 0': 0.98}}\n",
      "Registering the results in:  SX_IJCAI_HYPERPARAMETER_NOISY_3/2024-01-11/iter-2_n-4_k-2_m-8_sigma_w-1.3366666666666667_sigma_p-2.0_n_samples-500.yaml\n"
     ]
    },
    {
     "name": "stderr",
     "output_type": "stream",
     "text": [
      "Sample: 100%|████████████████████████████| 1000/1000 [02:25,  6.89it/s, step size=5.27e-02, acc. prob=0.811]\n"
     ]
    },
    {
     "name": "stdout",
     "output_type": "stream",
     "text": [
      "diag:  {'sigma': OrderedDict([('n_eff', tensor(115.6446)), ('r_hat', tensor(1.0495))]), 'w': OrderedDict([('n_eff', tensor([141.6528,  71.0942, 102.6100, 124.1290, 154.1209, 146.0554, 108.4330,\n",
      "        119.5130,  68.9458, 130.7564])), ('r_hat', tensor([0.9999, 1.0199, 1.0000, 0.9980, 1.0143, 0.9991, 1.0023, 1.0133, 1.0024,\n",
      "        1.0078]))]), 'divergences': {'chain 0': [59, 288]}, 'acceptance rate': {'chain 0': 0.966}}\n",
      "Registering the results in:  SX_IJCAI_HYPERPARAMETER_NOISY_3/2024-01-11/iter-2_n-4_k-2_m-8_sigma_w-1.557777777777778_sigma_p-0.01_n_samples-500.yaml\n"
     ]
    },
    {
     "name": "stderr",
     "output_type": "stream",
     "text": [
      "Sample: 100%|████████████████████████████| 1000/1000 [00:55, 17.96it/s, step size=1.48e-01, acc. prob=0.735]\n"
     ]
    },
    {
     "name": "stdout",
     "output_type": "stream",
     "text": [
      "diag:  {'sigma': OrderedDict([('n_eff', tensor(202.4822)), ('r_hat', tensor(1.0010))]), 'w': OrderedDict([('n_eff', tensor([182.5774, 236.8671, 205.9239,  89.9692, 225.4874, 202.9848, 181.5146,\n",
      "        228.9930, 144.0777, 254.4883])), ('r_hat', tensor([1.0021, 0.9994, 1.0009, 1.0026, 0.9987, 1.0119, 1.0091, 1.0033, 0.9980,\n",
      "        0.9999]))]), 'divergences': {'chain 0': [8, 18, 24, 67, 74, 120, 186, 251, 253, 282, 303, 344, 407, 429, 430, 433, 435, 445, 467]}, 'acceptance rate': {'chain 0': 0.962}}\n",
      "Registering the results in:  SX_IJCAI_HYPERPARAMETER_NOISY_3/2024-01-11/iter-2_n-4_k-2_m-8_sigma_w-1.557777777777778_sigma_p-0.23111111111111113_n_samples-500.yaml\n"
     ]
    },
    {
     "name": "stderr",
     "output_type": "stream",
     "text": [
      "Sample: 100%|████████████████████████████| 1000/1000 [00:59, 16.78it/s, step size=1.72e-01, acc. prob=0.752]\n"
     ]
    },
    {
     "name": "stdout",
     "output_type": "stream",
     "text": [
      "diag:  {'sigma': OrderedDict([('n_eff', tensor(90.2478)), ('r_hat', tensor(1.0080))]), 'w': OrderedDict([('n_eff', tensor([211.2976, 308.8210, 177.4547, 262.3960, 157.5471,  68.3442, 174.1532,\n",
      "        112.5764, 180.9876,  75.6005])), ('r_hat', tensor([1.0078, 0.9985, 1.0040, 1.0063, 1.0069, 1.0022, 1.0002, 1.0026, 1.0101,\n",
      "        1.0000]))]), 'divergences': {'chain 0': [29]}, 'acceptance rate': {'chain 0': 0.95}}\n",
      "Registering the results in:  SX_IJCAI_HYPERPARAMETER_NOISY_3/2024-01-11/iter-2_n-4_k-2_m-8_sigma_w-1.557777777777778_sigma_p-0.45222222222222225_n_samples-500.yaml\n"
     ]
    },
    {
     "name": "stderr",
     "output_type": "stream",
     "text": [
      "Sample: 100%|████████████████████████████| 1000/1000 [01:05, 15.23it/s, step size=1.52e-01, acc. prob=0.642]\n"
     ]
    },
    {
     "name": "stdout",
     "output_type": "stream",
     "text": [
      "diag:  {'sigma': OrderedDict([('n_eff', tensor(26.2962)), ('r_hat', tensor(1.0150))]), 'w': OrderedDict([('n_eff', tensor([ 69.4130, 374.5051,  53.3821, 242.4555, 260.7663,  43.6135,  59.5708,\n",
      "         19.7325, 185.4310, 125.8943])), ('r_hat', tensor([1.0107, 0.9981, 1.0317, 1.0081, 0.9990, 1.0389, 1.0109, 1.0246, 1.0085,\n",
      "        1.0388]))]), 'divergences': {'chain 0': [79, 210, 230, 233, 235, 238, 239, 244, 245, 247, 252, 254, 256, 258, 260, 264, 266, 280, 293, 295, 299, 301, 303, 304, 313, 427, 452]}, 'acceptance rate': {'chain 0': 0.858}}\n",
      "Registering the results in:  SX_IJCAI_HYPERPARAMETER_NOISY_3/2024-01-11/iter-2_n-4_k-2_m-8_sigma_w-1.557777777777778_sigma_p-0.6733333333333333_n_samples-500.yaml\n"
     ]
    },
    {
     "name": "stderr",
     "output_type": "stream",
     "text": [
      "Sample: 100%|████████████████████████████| 1000/1000 [01:07, 14.92it/s, step size=1.61e-01, acc. prob=0.714]\n"
     ]
    },
    {
     "name": "stdout",
     "output_type": "stream",
     "text": [
      "diag:  {'sigma': OrderedDict([('n_eff', tensor(104.8685)), ('r_hat', tensor(0.9992))]), 'w': OrderedDict([('n_eff', tensor([214.3560, 177.4354, 107.4452, 118.4650, 174.3477, 144.8084, 181.9226,\n",
      "        174.3680, 157.3787, 118.5526])), ('r_hat', tensor([0.9983, 1.0077, 1.0040, 0.9982, 1.0047, 1.0120, 0.9980, 0.9984, 1.0006,\n",
      "        0.9981]))]), 'divergences': {'chain 0': [114, 146, 147, 148, 186, 213, 315, 317, 323, 346, 360, 436, 444, 459, 479, 484, 499]}, 'acceptance rate': {'chain 0': 0.93}}\n",
      "Registering the results in:  SX_IJCAI_HYPERPARAMETER_NOISY_3/2024-01-11/iter-2_n-4_k-2_m-8_sigma_w-1.557777777777778_sigma_p-0.8944444444444445_n_samples-500.yaml\n"
     ]
    },
    {
     "name": "stderr",
     "output_type": "stream",
     "text": [
      "Sample: 100%|████████████████████████████| 1000/1000 [01:17, 12.93it/s, step size=1.17e-01, acc. prob=0.796]\n"
     ]
    },
    {
     "name": "stdout",
     "output_type": "stream",
     "text": [
      "diag:  {'sigma': OrderedDict([('n_eff', tensor(184.4883)), ('r_hat', tensor(1.0051))]), 'w': OrderedDict([('n_eff', tensor([161.0207, 199.5249, 246.5523, 190.7445, 184.4972, 201.7032, 218.2858,\n",
      "        337.3016, 302.9844, 378.4346])), ('r_hat', tensor([0.9982, 1.0035, 1.0040, 1.0121, 0.9981, 1.0015, 0.9980, 1.0071, 1.0011,\n",
      "        1.0173]))]), 'divergences': {'chain 0': [115, 306]}, 'acceptance rate': {'chain 0': 0.972}}\n",
      "Registering the results in:  SX_IJCAI_HYPERPARAMETER_NOISY_3/2024-01-11/iter-2_n-4_k-2_m-8_sigma_w-1.557777777777778_sigma_p-1.1155555555555556_n_samples-500.yaml\n"
     ]
    },
    {
     "name": "stderr",
     "output_type": "stream",
     "text": [
      "Sample: 100%|████████████████████████████| 1000/1000 [01:17, 12.94it/s, step size=1.08e-01, acc. prob=0.814]\n"
     ]
    },
    {
     "name": "stdout",
     "output_type": "stream",
     "text": [
      "diag:  {'sigma': OrderedDict([('n_eff', tensor(102.0842)), ('r_hat', tensor(1.0445))]), 'w': OrderedDict([('n_eff', tensor([193.4517, 173.1305, 143.9109, 131.0124, 203.7119, 128.3036, 185.0169,\n",
      "        218.0947, 164.7585, 269.9780])), ('r_hat', tensor([0.9995, 0.9981, 1.0004, 0.9987, 1.0327, 1.0013, 1.0012, 0.9998, 1.0054,\n",
      "        1.0099]))]), 'divergences': {'chain 0': [21, 130, 206, 220, 226, 227, 373]}, 'acceptance rate': {'chain 0': 0.988}}\n",
      "Registering the results in:  SX_IJCAI_HYPERPARAMETER_NOISY_3/2024-01-11/iter-2_n-4_k-2_m-8_sigma_w-1.557777777777778_sigma_p-1.3366666666666667_n_samples-500.yaml\n"
     ]
    },
    {
     "name": "stderr",
     "output_type": "stream",
     "text": [
      "Sample: 100%|████████████████████████████| 1000/1000 [01:44,  9.59it/s, step size=9.12e-02, acc. prob=0.782]\n"
     ]
    },
    {
     "name": "stdout",
     "output_type": "stream",
     "text": [
      "diag:  {'sigma': OrderedDict([('n_eff', tensor(221.3398)), ('r_hat', tensor(1.0020))]), 'w': OrderedDict([('n_eff', tensor([223.1511, 188.1261, 146.4295, 153.9045, 160.8657, 151.9261, 209.3352,\n",
      "        271.4665, 205.5605, 195.0844])), ('r_hat', tensor([0.9984, 0.9985, 0.9980, 1.0105, 0.9984, 0.9983, 1.0074, 0.9992, 0.9990,\n",
      "        0.9980]))]), 'divergences': {'chain 0': [76, 120, 387, 389, 492]}, 'acceptance rate': {'chain 0': 0.984}}\n",
      "Registering the results in:  SX_IJCAI_HYPERPARAMETER_NOISY_3/2024-01-11/iter-2_n-4_k-2_m-8_sigma_w-1.557777777777778_sigma_p-1.557777777777778_n_samples-500.yaml\n"
     ]
    },
    {
     "name": "stderr",
     "output_type": "stream",
     "text": [
      "Sample: 100%|████████████████████████████| 1000/1000 [01:12, 13.87it/s, step size=1.12e-01, acc. prob=0.247]\n"
     ]
    },
    {
     "name": "stdout",
     "output_type": "stream",
     "text": [
      "diag:  {'sigma': OrderedDict([('n_eff', tensor(28.3590)), ('r_hat', tensor(1.0721))]), 'w': OrderedDict([('n_eff', tensor([13.5738,  7.6925, 25.3323,  7.2396,  8.2779, 14.2597, 31.8206, 28.4016,\n",
      "         5.6318, 20.1761])), ('r_hat', tensor([1.0528, 1.1111, 1.0612, 1.1705, 1.1352, 1.0014, 1.0484, 1.0134, 1.1473,\n",
      "        1.0032]))]), 'divergences': {'chain 0': [49, 54, 57, 58, 65, 67, 69, 70, 73, 76, 77, 80, 86, 89, 90, 91, 92, 93, 95, 96, 98, 106, 107, 112, 118, 120, 125, 126, 130, 144, 147, 151, 153, 154, 156, 157, 158, 159, 160, 161, 162, 164, 165, 166, 167, 168, 170, 172, 175, 176, 177, 178, 180, 181, 182, 188, 190, 194, 196, 198, 203, 204, 205, 207, 209, 211, 212, 214, 215, 216, 221, 225, 226, 227, 228, 229, 230, 231, 234, 235, 236, 237, 238, 239, 240, 242, 243, 244, 245, 246, 247, 248, 250, 251, 252, 253, 254, 255, 258, 259, 260, 261, 263, 265, 266, 267, 268, 269, 270, 271, 272, 274, 275, 278, 279, 280, 282, 283, 284, 287, 288, 290, 291, 292, 293, 294, 296, 297, 298, 299, 300, 301, 303, 304, 305, 306, 307, 308, 309, 310, 311, 316, 317, 318, 319, 320, 321, 322, 323, 324, 325, 326, 327, 328, 329, 331, 332, 334, 336, 337, 338, 340, 341, 342, 343, 344, 346, 347, 348, 351, 352, 353, 354, 355, 356, 357, 358, 359, 360, 361, 363, 364, 365, 367, 368, 369, 371, 373, 374, 375, 377, 379, 381, 383, 385, 388, 390, 391, 393, 394, 395, 398, 400, 402, 403, 404, 405, 406, 407, 409, 411, 412, 413, 414, 415, 417, 419, 420, 421, 423, 424, 425, 426, 428, 429, 430, 432, 433, 435, 438, 440, 441, 442, 443, 446, 447, 448, 449, 450, 452, 453, 454, 455, 456, 459, 460, 461, 466, 467, 468, 469, 471, 472, 473, 476, 477, 480, 482, 483, 485, 486, 487, 488, 489, 490, 491, 492, 493, 494, 495, 499]}, 'acceptance rate': {'chain 0': 0.726}}\n",
      "Registering the results in:  SX_IJCAI_HYPERPARAMETER_NOISY_3/2024-01-11/iter-2_n-4_k-2_m-8_sigma_w-1.557777777777778_sigma_p-1.778888888888889_n_samples-500.yaml\n"
     ]
    },
    {
     "name": "stderr",
     "output_type": "stream",
     "text": [
      "Sample: 100%|████████████████████████████| 1000/1000 [02:45,  6.05it/s, step size=6.25e-02, acc. prob=0.710]\n"
     ]
    },
    {
     "name": "stdout",
     "output_type": "stream",
     "text": [
      "diag:  {'sigma': OrderedDict([('n_eff', tensor(75.4511)), ('r_hat', tensor(1.0614))]), 'w': OrderedDict([('n_eff', tensor([126.6126, 184.0935,  18.8306, 180.3660,  69.0598,  23.7884, 242.5938,\n",
      "        190.8367, 121.3674,  41.8160])), ('r_hat', tensor([1.0070, 1.0047, 1.0412, 0.9982, 1.0139, 1.0763, 1.0008, 0.9980, 1.0052,\n",
      "        1.0339]))]), 'divergences': {'chain 0': [64, 128, 198]}, 'acceptance rate': {'chain 0': 0.898}}\n",
      "Registering the results in:  SX_IJCAI_HYPERPARAMETER_NOISY_3/2024-01-11/iter-2_n-4_k-2_m-8_sigma_w-1.557777777777778_sigma_p-2.0_n_samples-500.yaml\n"
     ]
    },
    {
     "name": "stderr",
     "output_type": "stream",
     "text": [
      "Sample: 100%|████████████████████████████| 1000/1000 [02:30,  6.66it/s, step size=6.41e-02, acc. prob=0.768]\n"
     ]
    },
    {
     "name": "stdout",
     "output_type": "stream",
     "text": [
      "diag:  {'sigma': OrderedDict([('n_eff', tensor(83.1833)), ('r_hat', tensor(1.0601))]), 'w': OrderedDict([('n_eff', tensor([150.2383, 111.9178, 185.7033,  56.6343, 202.1280, 203.7705,  87.7939,\n",
      "        211.7878,  84.9869,  68.8371])), ('r_hat', tensor([1.0043, 1.0048, 1.0073, 1.0041, 0.9996, 1.0016, 0.9980, 0.9981, 1.0081,\n",
      "        1.0041]))]), 'divergences': {'chain 0': [159, 478, 482, 485, 486, 497, 499]}, 'acceptance rate': {'chain 0': 0.952}}\n",
      "Registering the results in:  SX_IJCAI_HYPERPARAMETER_NOISY_3/2024-01-11/iter-2_n-4_k-2_m-8_sigma_w-1.778888888888889_sigma_p-0.01_n_samples-500.yaml\n"
     ]
    },
    {
     "name": "stderr",
     "output_type": "stream",
     "text": [
      "Sample: 100%|████████████████████████████| 1000/1000 [01:19, 12.56it/s, step size=1.36e-01, acc. prob=0.872]\n"
     ]
    },
    {
     "name": "stdout",
     "output_type": "stream",
     "text": [
      "diag:  {'sigma': OrderedDict([('n_eff', tensor(196.7025)), ('r_hat', tensor(0.9990))]), 'w': OrderedDict([('n_eff', tensor([375.6974, 262.8112, 402.2113, 260.3803, 343.6673, 342.7261, 210.6337,\n",
      "        330.7849, 245.4665, 305.8881])), ('r_hat', tensor([1.0002, 0.9980, 0.9985, 0.9991, 0.9990, 0.9997, 1.0024, 1.0111, 0.9981,\n",
      "        0.9983]))]), 'divergences': {'chain 0': [287, 339]}, 'acceptance rate': {'chain 0': 0.994}}\n",
      "Registering the results in:  SX_IJCAI_HYPERPARAMETER_NOISY_3/2024-01-11/iter-2_n-4_k-2_m-8_sigma_w-1.778888888888889_sigma_p-0.23111111111111113_n_samples-500.yaml\n"
     ]
    },
    {
     "name": "stderr",
     "output_type": "stream",
     "text": [
      "Sample: 100%|████████████████████████████| 1000/1000 [02:09,  7.72it/s, step size=8.03e-02, acc. prob=0.873]\n"
     ]
    },
    {
     "name": "stdout",
     "output_type": "stream",
     "text": [
      "diag:  {'sigma': OrderedDict([('n_eff', tensor(215.5577)), ('r_hat', tensor(0.9985))]), 'w': OrderedDict([('n_eff', tensor([127.9268, 254.6770, 275.8669, 292.8470, 362.1944, 302.7816, 315.6679,\n",
      "        381.3454, 281.1714, 234.9690])), ('r_hat', tensor([1.0087, 1.0002, 0.9996, 0.9981, 1.0000, 1.0025, 0.9983, 0.9984, 0.9980,\n",
      "        0.9980]))]), 'divergences': {'chain 0': []}, 'acceptance rate': {'chain 0': 0.998}}\n",
      "Registering the results in:  SX_IJCAI_HYPERPARAMETER_NOISY_3/2024-01-11/iter-2_n-4_k-2_m-8_sigma_w-1.778888888888889_sigma_p-0.45222222222222225_n_samples-500.yaml\n"
     ]
    },
    {
     "name": "stderr",
     "output_type": "stream",
     "text": [
      "Sample: 100%|████████████████████████████| 1000/1000 [01:07, 14.87it/s, step size=1.47e-01, acc. prob=0.841]\n"
     ]
    },
    {
     "name": "stdout",
     "output_type": "stream",
     "text": [
      "diag:  {'sigma': OrderedDict([('n_eff', tensor(111.5533)), ('r_hat', tensor(1.0108))]), 'w': OrderedDict([('n_eff', tensor([163.3580, 192.2722, 169.0007, 212.9317, 244.7059, 230.1366, 156.9381,\n",
      "        201.5912, 296.4670, 418.9611])), ('r_hat', tensor([0.9981, 1.0032, 0.9980, 0.9980, 1.0031, 0.9983, 0.9987, 0.9984, 0.9980,\n",
      "        0.9980]))]), 'divergences': {'chain 0': [21, 41, 247]}, 'acceptance rate': {'chain 0': 0.992}}\n",
      "Registering the results in:  SX_IJCAI_HYPERPARAMETER_NOISY_3/2024-01-11/iter-2_n-4_k-2_m-8_sigma_w-1.778888888888889_sigma_p-0.6733333333333333_n_samples-500.yaml\n"
     ]
    },
    {
     "name": "stderr",
     "output_type": "stream",
     "text": [
      "Sample: 100%|████████████████████████████| 1000/1000 [01:52,  8.85it/s, step size=7.85e-02, acc. prob=0.835]\n"
     ]
    },
    {
     "name": "stdout",
     "output_type": "stream",
     "text": [
      "diag:  {'sigma': OrderedDict([('n_eff', tensor(147.4576)), ('r_hat', tensor(1.0074))]), 'w': OrderedDict([('n_eff', tensor([107.6731, 253.1109, 115.3344, 234.2559, 284.5414, 185.0119,  56.2234,\n",
      "        232.2130, 179.8785, 218.1243])), ('r_hat', tensor([0.9990, 0.9999, 1.0015, 0.9980, 0.9980, 0.9989, 1.0175, 0.9994, 1.0003,\n",
      "        1.0113]))]), 'divergences': {'chain 0': [52, 107, 360, 361, 364, 365, 374]}, 'acceptance rate': {'chain 0': 0.98}}\n",
      "Registering the results in:  SX_IJCAI_HYPERPARAMETER_NOISY_3/2024-01-11/iter-2_n-4_k-2_m-8_sigma_w-1.778888888888889_sigma_p-0.8944444444444445_n_samples-500.yaml\n"
     ]
    },
    {
     "name": "stderr",
     "output_type": "stream",
     "text": [
      "Sample: 100%|████████████████████████████| 1000/1000 [01:19, 12.64it/s, step size=1.39e-01, acc. prob=0.759]\n"
     ]
    },
    {
     "name": "stdout",
     "output_type": "stream",
     "text": [
      "diag:  {'sigma': OrderedDict([('n_eff', tensor(149.8979)), ('r_hat', tensor(1.0159))]), 'w': OrderedDict([('n_eff', tensor([179.3544, 183.7436, 180.8454, 184.4318, 172.6923, 232.3107, 221.2308,\n",
      "        183.4276, 233.0849, 247.0755])), ('r_hat', tensor([1.0100, 0.9980, 0.9983, 1.0067, 0.9984, 1.0009, 1.0003, 0.9996, 1.0019,\n",
      "        0.9983]))]), 'divergences': {'chain 0': [144, 334, 440]}, 'acceptance rate': {'chain 0': 0.952}}\n",
      "Registering the results in:  SX_IJCAI_HYPERPARAMETER_NOISY_3/2024-01-11/iter-2_n-4_k-2_m-8_sigma_w-1.778888888888889_sigma_p-1.1155555555555556_n_samples-500.yaml\n"
     ]
    },
    {
     "name": "stderr",
     "output_type": "stream",
     "text": [
      "Sample: 100%|████████████████████████████| 1000/1000 [01:36, 10.39it/s, step size=1.37e-01, acc. prob=0.776]\n"
     ]
    },
    {
     "name": "stdout",
     "output_type": "stream",
     "text": [
      "diag:  {'sigma': OrderedDict([('n_eff', tensor(198.4672)), ('r_hat', tensor(0.9985))]), 'w': OrderedDict([('n_eff', tensor([346.7546, 131.5211, 160.7979, 230.2537, 319.0029, 183.5702, 184.5434,\n",
      "        252.6646, 147.3699, 207.6138])), ('r_hat', tensor([0.9985, 1.0314, 0.9983, 0.9998, 1.0092, 0.9984, 1.0013, 0.9986, 1.0362,\n",
      "        1.0017]))]), 'divergences': {'chain 0': [148, 197, 203, 218, 295, 406, 413, 415, 471]}, 'acceptance rate': {'chain 0': 0.968}}\n",
      "Registering the results in:  SX_IJCAI_HYPERPARAMETER_NOISY_3/2024-01-11/iter-2_n-4_k-2_m-8_sigma_w-1.778888888888889_sigma_p-1.3366666666666667_n_samples-500.yaml\n"
     ]
    },
    {
     "name": "stderr",
     "output_type": "stream",
     "text": [
      "Sample: 100%|████████████████████████████| 1000/1000 [01:41,  9.87it/s, step size=1.01e-01, acc. prob=0.762]\n"
     ]
    },
    {
     "name": "stdout",
     "output_type": "stream",
     "text": [
      "diag:  {'sigma': OrderedDict([('n_eff', tensor(142.1437)), ('r_hat', tensor(1.0029))]), 'w': OrderedDict([('n_eff', tensor([158.3338, 141.3508, 142.1863, 131.6736, 140.9111, 166.5376, 211.6776,\n",
      "        177.9458, 123.5337, 162.1574])), ('r_hat', tensor([0.9992, 1.0119, 1.0062, 1.0039, 1.0066, 1.0008, 0.9981, 0.9981, 1.0128,\n",
      "        1.0025]))]), 'divergences': {'chain 0': [8, 223, 267, 291, 298]}, 'acceptance rate': {'chain 0': 0.972}}\n",
      "Registering the results in:  SX_IJCAI_HYPERPARAMETER_NOISY_3/2024-01-11/iter-2_n-4_k-2_m-8_sigma_w-1.778888888888889_sigma_p-1.557777777777778_n_samples-500.yaml\n"
     ]
    },
    {
     "name": "stderr",
     "output_type": "stream",
     "text": [
      "Sample: 100%|████████████████████████████| 1000/1000 [01:31, 10.96it/s, step size=1.33e-01, acc. prob=0.599]\n"
     ]
    },
    {
     "name": "stdout",
     "output_type": "stream",
     "text": [
      "diag:  {'sigma': OrderedDict([('n_eff', tensor(43.4124)), ('r_hat', tensor(0.9980))]), 'w': OrderedDict([('n_eff', tensor([ 69.3353,  38.6150,  66.2288,  91.7213,  32.7678,  90.6447, 159.3119,\n",
      "         16.4230,  43.5236, 136.8792])), ('r_hat', tensor([1.0050, 1.0409, 1.0156, 0.9982, 1.0458, 1.0438, 1.0003, 1.0690, 1.0121,\n",
      "        1.0105]))]), 'divergences': {'chain 0': [139, 244, 259, 265, 282, 291, 300]}, 'acceptance rate': {'chain 0': 0.894}}\n",
      "Registering the results in:  SX_IJCAI_HYPERPARAMETER_NOISY_3/2024-01-11/iter-2_n-4_k-2_m-8_sigma_w-1.778888888888889_sigma_p-1.778888888888889_n_samples-500.yaml\n"
     ]
    },
    {
     "name": "stderr",
     "output_type": "stream",
     "text": [
      "Sample: 100%|████████████████████████████| 1000/1000 [01:29, 11.23it/s, step size=1.33e-01, acc. prob=0.607]\n"
     ]
    },
    {
     "name": "stdout",
     "output_type": "stream",
     "text": [
      "diag:  {'sigma': OrderedDict([('n_eff', tensor(126.4835)), ('r_hat', tensor(1.0072))]), 'w': OrderedDict([('n_eff', tensor([ 85.5572,  64.9668,  76.2207,  88.6425, 102.5071, 174.7345, 114.6169,\n",
      "         69.8911,  96.9862, 157.4094])), ('r_hat', tensor([1.0077, 1.0075, 1.0074, 1.0010, 1.0009, 1.0275, 0.9999, 1.0138, 1.0100,\n",
      "        1.0071]))]), 'divergences': {'chain 0': [74, 99, 155, 163, 180, 185, 331, 341, 420, 487, 490]}, 'acceptance rate': {'chain 0': 0.908}}\n",
      "Registering the results in:  SX_IJCAI_HYPERPARAMETER_NOISY_3/2024-01-11/iter-2_n-4_k-2_m-8_sigma_w-1.778888888888889_sigma_p-2.0_n_samples-500.yaml\n"
     ]
    },
    {
     "name": "stderr",
     "output_type": "stream",
     "text": [
      "Sample: 100%|████████████████████████████| 1000/1000 [02:26,  6.81it/s, step size=7.06e-02, acc. prob=0.802]\n"
     ]
    },
    {
     "name": "stdout",
     "output_type": "stream",
     "text": [
      "diag:  {'sigma': OrderedDict([('n_eff', tensor(214.1386)), ('r_hat', tensor(1.0062))]), 'w': OrderedDict([('n_eff', tensor([251.0958, 287.2107, 198.0527, 194.0945, 237.0720, 231.3635, 235.6113,\n",
      "        180.6119, 240.5400, 217.3097])), ('r_hat', tensor([0.9981, 0.9999, 1.0036, 1.0008, 0.9980, 1.0012, 0.9997, 0.9985, 0.9980,\n",
      "        0.9984]))]), 'divergences': {'chain 0': [3, 35, 416, 448, 456]}, 'acceptance rate': {'chain 0': 0.984}}\n",
      "Registering the results in:  SX_IJCAI_HYPERPARAMETER_NOISY_3/2024-01-11/iter-2_n-4_k-2_m-8_sigma_w-2.0_sigma_p-0.01_n_samples-500.yaml\n"
     ]
    },
    {
     "name": "stderr",
     "output_type": "stream",
     "text": [
      "Sample: 100%|████████████████████████████| 1000/1000 [00:55, 18.15it/s, step size=1.96e-01, acc. prob=0.783]\n"
     ]
    },
    {
     "name": "stdout",
     "output_type": "stream",
     "text": [
      "diag:  {'sigma': OrderedDict([('n_eff', tensor(68.4879)), ('r_hat', tensor(1.0196))]), 'w': OrderedDict([('n_eff', tensor([160.5457, 101.6120, 148.2412, 208.3068, 201.6922, 210.5680, 243.4261,\n",
      "        198.6924, 223.6355, 223.9559])), ('r_hat', tensor([1.0198, 1.0204, 1.0126, 0.9989, 0.9982, 1.0019, 1.0064, 0.9985, 0.9981,\n",
      "        0.9992]))]), 'divergences': {'chain 0': [64, 98, 297, 344]}, 'acceptance rate': {'chain 0': 0.964}}\n",
      "Registering the results in:  SX_IJCAI_HYPERPARAMETER_NOISY_3/2024-01-11/iter-2_n-4_k-2_m-8_sigma_w-2.0_sigma_p-0.23111111111111113_n_samples-500.yaml\n"
     ]
    },
    {
     "name": "stderr",
     "output_type": "stream",
     "text": [
      "Sample: 100%|████████████████████████████| 1000/1000 [01:20, 12.35it/s, step size=1.73e-01, acc. prob=0.778]\n"
     ]
    },
    {
     "name": "stdout",
     "output_type": "stream",
     "text": [
      "diag:  {'sigma': OrderedDict([('n_eff', tensor(155.4012)), ('r_hat', tensor(0.9980))]), 'w': OrderedDict([('n_eff', tensor([177.3238, 303.8397, 194.5621, 168.7389, 155.1531, 247.8586, 269.3640,\n",
      "        298.6547, 149.2143, 181.2943])), ('r_hat', tensor([0.9987, 1.0020, 0.9982, 0.9981, 0.9986, 1.0052, 1.0006, 1.0007, 0.9982,\n",
      "        0.9983]))]), 'divergences': {'chain 0': [113, 115, 125, 287, 314, 359, 467, 490]}, 'acceptance rate': {'chain 0': 0.974}}\n",
      "Registering the results in:  SX_IJCAI_HYPERPARAMETER_NOISY_3/2024-01-11/iter-2_n-4_k-2_m-8_sigma_w-2.0_sigma_p-0.45222222222222225_n_samples-500.yaml\n"
     ]
    },
    {
     "name": "stderr",
     "output_type": "stream",
     "text": [
      "Sample: 100%|████████████████████████████| 1000/1000 [01:19, 12.61it/s, step size=1.29e-01, acc. prob=0.790]\n"
     ]
    },
    {
     "name": "stdout",
     "output_type": "stream",
     "text": [
      "diag:  {'sigma': OrderedDict([('n_eff', tensor(120.2231)), ('r_hat', tensor(1.0198))]), 'w': OrderedDict([('n_eff', tensor([199.2055, 160.9370, 168.3759, 174.9901, 250.4212, 216.5549, 176.7320,\n",
      "        175.1880, 225.9588, 178.4878])), ('r_hat', tensor([1.0063, 1.0084, 1.0070, 1.0028, 0.9983, 1.0017, 0.9992, 1.0005, 1.0073,\n",
      "        1.0138]))]), 'divergences': {'chain 0': [162, 245, 326, 382, 386, 387, 388, 419]}, 'acceptance rate': {'chain 0': 0.974}}\n",
      "Registering the results in:  SX_IJCAI_HYPERPARAMETER_NOISY_3/2024-01-11/iter-2_n-4_k-2_m-8_sigma_w-2.0_sigma_p-0.6733333333333333_n_samples-500.yaml\n"
     ]
    },
    {
     "name": "stderr",
     "output_type": "stream",
     "text": [
      "Sample: 100%|████████████████████████████| 1000/1000 [01:31, 10.97it/s, step size=9.65e-02, acc. prob=0.780]\n"
     ]
    },
    {
     "name": "stdout",
     "output_type": "stream",
     "text": [
      "diag:  {'sigma': OrderedDict([('n_eff', tensor(96.9206)), ('r_hat', tensor(1.0073))]), 'w': OrderedDict([('n_eff', tensor([128.7884, 325.6827, 144.9492,  77.7748, 215.8056, 184.3328, 154.0363,\n",
      "        126.8539, 260.3497, 224.1309])), ('r_hat', tensor([0.9983, 1.0050, 1.0042, 1.0029, 1.0056, 0.9999, 0.9997, 0.9989, 0.9980,\n",
      "        0.9992]))]), 'divergences': {'chain 0': [254]}, 'acceptance rate': {'chain 0': 0.962}}\n",
      "Registering the results in:  SX_IJCAI_HYPERPARAMETER_NOISY_3/2024-01-11/iter-2_n-4_k-2_m-8_sigma_w-2.0_sigma_p-0.8944444444444445_n_samples-500.yaml\n"
     ]
    },
    {
     "name": "stderr",
     "output_type": "stream",
     "text": [
      "Sample: 100%|████████████████████████████| 1000/1000 [02:26,  6.83it/s, step size=4.59e-02, acc. prob=0.930]\n"
     ]
    },
    {
     "name": "stdout",
     "output_type": "stream",
     "text": [
      "diag:  {'sigma': OrderedDict([('n_eff', tensor(150.3492)), ('r_hat', tensor(1.0057))]), 'w': OrderedDict([('n_eff', tensor([214.7293, 268.4734, 344.7914, 256.3083, 200.0236, 327.3409, 219.4891,\n",
      "        353.4136, 370.6762, 271.3539])), ('r_hat', tensor([1.0058, 1.0116, 0.9990, 0.9986, 0.9980, 1.0055, 0.9982, 1.0095, 0.9980,\n",
      "        0.9985]))]), 'divergences': {'chain 0': [304]}, 'acceptance rate': {'chain 0': 1.0}}\n",
      "Registering the results in:  SX_IJCAI_HYPERPARAMETER_NOISY_3/2024-01-11/iter-2_n-4_k-2_m-8_sigma_w-2.0_sigma_p-1.1155555555555556_n_samples-500.yaml\n"
     ]
    },
    {
     "name": "stderr",
     "output_type": "stream",
     "text": [
      "Sample: 100%|████████████████████████████| 1000/1000 [01:22, 12.06it/s, step size=9.89e-02, acc. prob=0.795]\n"
     ]
    },
    {
     "name": "stdout",
     "output_type": "stream",
     "text": [
      "diag:  {'sigma': OrderedDict([('n_eff', tensor(181.3570)), ('r_hat', tensor(1.0011))]), 'w': OrderedDict([('n_eff', tensor([154.2177, 100.7866, 153.0821, 238.3700, 195.0361, 194.5444, 175.3075,\n",
      "        124.8047, 240.0239, 167.8275])), ('r_hat', tensor([0.9981, 1.0051, 0.9987, 0.9994, 1.0051, 0.9990, 0.9981, 1.0056, 0.9994,\n",
      "        0.9981]))]), 'divergences': {'chain 0': [94, 400, 496]}, 'acceptance rate': {'chain 0': 0.96}}\n",
      "Registering the results in:  SX_IJCAI_HYPERPARAMETER_NOISY_3/2024-01-11/iter-2_n-4_k-2_m-8_sigma_w-2.0_sigma_p-1.3366666666666667_n_samples-500.yaml\n"
     ]
    },
    {
     "name": "stderr",
     "output_type": "stream",
     "text": [
      "Sample: 100%|████████████████████████████| 1000/1000 [01:33, 10.73it/s, step size=9.52e-02, acc. prob=0.739]\n"
     ]
    },
    {
     "name": "stdout",
     "output_type": "stream",
     "text": [
      "diag:  {'sigma': OrderedDict([('n_eff', tensor(140.6570)), ('r_hat', tensor(0.9984))]), 'w': OrderedDict([('n_eff', tensor([168.7444, 176.8690, 173.7440,  81.1362, 115.2278, 193.9849, 149.5586,\n",
      "         99.3006, 194.2415, 172.8851])), ('r_hat', tensor([1.0013, 0.9980, 1.0028, 1.0156, 1.0013, 1.0019, 1.0008, 1.0006, 0.9980,\n",
      "        1.0000]))]), 'divergences': {'chain 0': [339, 444, 452]}, 'acceptance rate': {'chain 0': 0.978}}\n",
      "Registering the results in:  SX_IJCAI_HYPERPARAMETER_NOISY_3/2024-01-11/iter-2_n-4_k-2_m-8_sigma_w-2.0_sigma_p-1.557777777777778_n_samples-500.yaml\n"
     ]
    },
    {
     "name": "stderr",
     "output_type": "stream",
     "text": [
      "Sample: 100%|████████████████████████████| 1000/1000 [01:32, 10.81it/s, step size=1.12e-01, acc. prob=0.741]\n"
     ]
    },
    {
     "name": "stdout",
     "output_type": "stream",
     "text": [
      "diag:  {'sigma': OrderedDict([('n_eff', tensor(162.0543)), ('r_hat', tensor(0.9980))]), 'w': OrderedDict([('n_eff', tensor([206.6556, 214.5983, 227.0275, 141.0764, 233.1258, 175.3599, 198.2110,\n",
      "        305.7143, 249.0417, 107.6177])), ('r_hat', tensor([0.9986, 0.9980, 1.0042, 0.9984, 0.9981, 1.0010, 1.0017, 0.9980, 1.0077,\n",
      "        0.9984]))]), 'divergences': {'chain 0': [37]}, 'acceptance rate': {'chain 0': 0.966}}\n",
      "Registering the results in:  SX_IJCAI_HYPERPARAMETER_NOISY_3/2024-01-11/iter-2_n-4_k-2_m-8_sigma_w-2.0_sigma_p-1.778888888888889_n_samples-500.yaml\n"
     ]
    },
    {
     "name": "stderr",
     "output_type": "stream",
     "text": [
      "Sample: 100%|████████████████████████████| 1000/1000 [01:42,  9.73it/s, step size=5.86e-02, acc. prob=0.491]\n"
     ]
    },
    {
     "name": "stdout",
     "output_type": "stream",
     "text": [
      "diag:  {'sigma': OrderedDict([('n_eff', tensor(40.7191)), ('r_hat', tensor(0.9983))]), 'w': OrderedDict([('n_eff', tensor([29.5535, 27.2617, 13.7400,  9.7839, 13.4702, 33.0865, 24.7686, 18.2047,\n",
      "        21.9943,  8.2681])), ('r_hat', tensor([0.9992, 0.9997, 1.0139, 1.2413, 1.0933, 1.0008, 0.9993, 1.0287, 1.0460,\n",
      "        1.2791]))]), 'divergences': {'chain 0': [0, 5, 7, 10, 14, 17, 19, 22, 23, 83, 86, 89, 97, 98, 104, 109, 111, 147, 170, 185, 187, 191, 193, 212, 295, 298, 300, 308, 309, 315, 320, 325, 328, 330, 341, 342, 343, 344, 346, 350, 351, 353, 357, 359, 360, 362, 363, 365, 371, 372, 374, 375, 376, 378, 382, 383, 385, 386, 389, 394, 396, 397, 398, 399, 405, 410, 412, 413, 430, 433, 438]}, 'acceptance rate': {'chain 0': 0.84}}\n",
      "Registering the results in:  SX_IJCAI_HYPERPARAMETER_NOISY_3/2024-01-11/iter-2_n-4_k-2_m-8_sigma_w-2.0_sigma_p-2.0_n_samples-500.yaml\n"
     ]
    },
    {
     "name": "stderr",
     "output_type": "stream",
     "text": [
      "Sample: 100%|████████████████████████████| 1000/1000 [01:32, 10.76it/s, step size=8.18e-02, acc. prob=0.776]\n"
     ]
    },
    {
     "name": "stdout",
     "output_type": "stream",
     "text": [
      "diag:  {'sigma': OrderedDict([('n_eff', tensor(159.0084)), ('r_hat', tensor(0.9981))]), 'w': OrderedDict([('n_eff', tensor([132.3259, 147.2727, 170.9595,  62.5804, 188.3314, 143.4900, 123.0723,\n",
      "        249.6921, 277.8301, 341.0444])), ('r_hat', tensor([1.0132, 1.0059, 1.0002, 1.0308, 0.9980, 0.9991, 1.0160, 1.0062, 1.0071,\n",
      "        0.9981]))]), 'divergences': {'chain 0': [71, 185, 192, 194, 196, 197, 199, 204, 205, 207, 282]}, 'acceptance rate': {'chain 0': 0.986}}\n",
      "Registering the results in:  SX_IJCAI_HYPERPARAMETER_NOISY_3/2024-01-11/iter-3_n-4_k-2_m-8_sigma_w-0.01_sigma_p-0.01_n_samples-500.yaml\n"
     ]
    },
    {
     "name": "stderr",
     "output_type": "stream",
     "text": [
      "Sample: 100%|████████████████████████████| 1000/1000 [00:12, 77.60it/s, step size=5.33e-01, acc. prob=0.917]\n"
     ]
    },
    {
     "name": "stdout",
     "output_type": "stream",
     "text": [
      "diag:  {'sigma': OrderedDict([('n_eff', tensor(519.8542)), ('r_hat', tensor(0.9980))]), 'w': OrderedDict([('n_eff', tensor([1607.3630, 1059.3148,  893.5305,  907.4081, 1181.5123, 1192.5356,\n",
      "        1250.8760, 1168.4017, 1032.4923,  821.1200])), ('r_hat', tensor([0.9980, 1.0008, 1.0061, 0.9993, 0.9981, 0.9981, 0.9997, 0.9988, 0.9981,\n",
      "        0.9981]))]), 'divergences': {'chain 0': []}, 'acceptance rate': {'chain 0': 0.998}}\n",
      "Registering the results in:  SX_IJCAI_HYPERPARAMETER_NOISY_3/2024-01-11/iter-3_n-4_k-2_m-8_sigma_w-0.01_sigma_p-0.23111111111111113_n_samples-500.yaml\n"
     ]
    },
    {
     "name": "stderr",
     "output_type": "stream",
     "text": [
      "Sample: 100%|████████████████████████████| 1000/1000 [01:15, 13.16it/s, step size=5.03e-02, acc. prob=0.860]\n"
     ]
    },
    {
     "name": "stdout",
     "output_type": "stream",
     "text": [
      "diag:  {'sigma': OrderedDict([('n_eff', tensor(149.6208)), ('r_hat', tensor(0.9985))]), 'w': OrderedDict([('n_eff', tensor([278.5702, 176.5794, 204.4284, 217.5904, 315.1524, 272.2704, 302.7306,\n",
      "        432.2001, 174.1628, 213.4506])), ('r_hat', tensor([0.9995, 1.0068, 1.0006, 1.0091, 1.0023, 0.9980, 0.9984, 0.9980, 0.9983,\n",
      "        1.0016]))]), 'divergences': {'chain 0': [14, 49, 291, 344, 345, 347, 348, 351, 352, 353, 411, 440, 498]}, 'acceptance rate': {'chain 0': 0.994}}\n",
      "Registering the results in:  SX_IJCAI_HYPERPARAMETER_NOISY_3/2024-01-11/iter-3_n-4_k-2_m-8_sigma_w-0.01_sigma_p-0.45222222222222225_n_samples-500.yaml\n"
     ]
    },
    {
     "name": "stderr",
     "output_type": "stream",
     "text": [
      "Sample: 100%|████████████████████████████| 1000/1000 [01:27, 11.49it/s, step size=7.50e-02, acc. prob=0.834]\n"
     ]
    },
    {
     "name": "stdout",
     "output_type": "stream",
     "text": [
      "diag:  {'sigma': OrderedDict([('n_eff', tensor(69.3788)), ('r_hat', tensor(1.0074))]), 'w': OrderedDict([('n_eff', tensor([224.0885, 296.0671, 308.1214, 250.7192, 225.7901, 222.0794, 164.9901,\n",
      "        167.4288, 369.6165, 148.4922])), ('r_hat', tensor([0.9991, 0.9980, 0.9980, 1.0004, 1.0033, 1.0048, 1.0053, 0.9986, 0.9995,\n",
      "        1.0053]))]), 'divergences': {'chain 0': [82, 83]}, 'acceptance rate': {'chain 0': 0.99}}\n",
      "Registering the results in:  SX_IJCAI_HYPERPARAMETER_NOISY_3/2024-01-11/iter-3_n-4_k-2_m-8_sigma_w-0.01_sigma_p-0.6733333333333333_n_samples-500.yaml\n"
     ]
    },
    {
     "name": "stderr",
     "output_type": "stream",
     "text": [
      "Sample: 100%|████████████████████████████| 1000/1000 [00:57, 17.32it/s, step size=1.59e-01, acc. prob=0.707]\n"
     ]
    },
    {
     "name": "stdout",
     "output_type": "stream",
     "text": [
      "diag:  {'sigma': OrderedDict([('n_eff', tensor(39.3542)), ('r_hat', tensor(1.0044))]), 'w': OrderedDict([('n_eff', tensor([165.1397, 148.8364,  93.8014, 245.9543, 159.9380, 214.6125, 231.6470,\n",
      "        155.4968,  61.2627,  52.0650])), ('r_hat', tensor([0.9987, 0.9989, 1.0128, 1.0078, 1.0163, 1.0047, 1.0101, 1.0031, 1.0008,\n",
      "        1.0198]))]), 'divergences': {'chain 0': [85, 110, 259, 265, 272, 274, 300, 328, 334, 373, 435]}, 'acceptance rate': {'chain 0': 0.912}}\n",
      "Registering the results in:  SX_IJCAI_HYPERPARAMETER_NOISY_3/2024-01-11/iter-3_n-4_k-2_m-8_sigma_w-0.01_sigma_p-0.8944444444444445_n_samples-500.yaml\n"
     ]
    },
    {
     "name": "stderr",
     "output_type": "stream",
     "text": [
      "Sample: 100%|████████████████████████████| 1000/1000 [00:58, 17.12it/s, step size=1.05e-01, acc. prob=0.810]\n"
     ]
    },
    {
     "name": "stdout",
     "output_type": "stream",
     "text": [
      "diag:  {'sigma': OrderedDict([('n_eff', tensor(114.3441)), ('r_hat', tensor(1.0034))]), 'w': OrderedDict([('n_eff', tensor([191.1744, 348.4538, 194.2054, 290.7684, 273.7233, 203.2124, 312.4822,\n",
      "        356.8852, 237.8571, 239.3940])), ('r_hat', tensor([0.9982, 1.0037, 0.9985, 1.0087, 0.9996, 1.0111, 1.0000, 0.9982, 1.0033,\n",
      "        0.9988]))]), 'divergences': {'chain 0': []}, 'acceptance rate': {'chain 0': 0.978}}\n",
      "Registering the results in:  SX_IJCAI_HYPERPARAMETER_NOISY_3/2024-01-11/iter-3_n-4_k-2_m-8_sigma_w-0.01_sigma_p-1.1155555555555556_n_samples-500.yaml\n"
     ]
    },
    {
     "name": "stderr",
     "output_type": "stream",
     "text": [
      "Sample: 100%|████████████████████████████| 1000/1000 [01:31, 10.92it/s, step size=3.51e-02, acc. prob=0.898]\n"
     ]
    },
    {
     "name": "stdout",
     "output_type": "stream",
     "text": [
      "diag:  {'sigma': OrderedDict([('n_eff', tensor(180.0524)), ('r_hat', tensor(0.9989))]), 'w': OrderedDict([('n_eff', tensor([271.8606, 106.1265, 214.9150, 150.9565, 252.9446, 181.3185, 291.3052,\n",
      "        122.1014, 275.6431, 153.3624])), ('r_hat', tensor([1.0050, 0.9990, 0.9985, 0.9981, 1.0022, 0.9988, 1.0011, 0.9985, 0.9992,\n",
      "        0.9986]))]), 'divergences': {'chain 0': [33, 94, 355, 367]}, 'acceptance rate': {'chain 0': 0.988}}\n",
      "Registering the results in:  SX_IJCAI_HYPERPARAMETER_NOISY_3/2024-01-11/iter-3_n-4_k-2_m-8_sigma_w-0.01_sigma_p-1.3366666666666667_n_samples-500.yaml\n"
     ]
    },
    {
     "name": "stderr",
     "output_type": "stream",
     "text": [
      "Sample: 100%|████████████████████████████| 1000/1000 [00:52, 19.21it/s, step size=1.37e-01, acc. prob=0.776]\n"
     ]
    },
    {
     "name": "stdout",
     "output_type": "stream",
     "text": [
      "diag:  {'sigma': OrderedDict([('n_eff', tensor(73.6134)), ('r_hat', tensor(1.0051))]), 'w': OrderedDict([('n_eff', tensor([236.2887,  71.8577, 221.8844, 367.6315, 194.4277, 186.6084, 229.8791,\n",
      "         38.4226, 433.6157, 352.4322])), ('r_hat', tensor([1.0169, 1.0284, 1.0014, 0.9980, 0.9986, 0.9981, 0.9980, 1.0435, 0.9982,\n",
      "        1.0070]))]), 'divergences': {'chain 0': [277, 281, 282, 283, 285, 287, 289, 291, 292, 297, 300, 305, 306, 313, 315, 317, 351]}, 'acceptance rate': {'chain 0': 0.938}}\n",
      "Registering the results in:  SX_IJCAI_HYPERPARAMETER_NOISY_3/2024-01-11/iter-3_n-4_k-2_m-8_sigma_w-0.01_sigma_p-1.557777777777778_n_samples-500.yaml\n"
     ]
    },
    {
     "name": "stderr",
     "output_type": "stream",
     "text": [
      "Sample: 100%|████████████████████████████| 1000/1000 [00:55, 18.03it/s, step size=1.10e-01, acc. prob=0.878]\n"
     ]
    },
    {
     "name": "stdout",
     "output_type": "stream",
     "text": [
      "diag:  {'sigma': OrderedDict([('n_eff', tensor(235.7235)), ('r_hat', tensor(0.9980))]), 'w': OrderedDict([('n_eff', tensor([322.1127, 360.1501, 349.1696, 435.0450, 295.2036, 423.6645, 303.0653,\n",
      "        366.9616, 347.4873, 348.4275])), ('r_hat', tensor([0.9980, 0.9996, 0.9985, 0.9983, 0.9988, 0.9989, 0.9980, 1.0024, 0.9986,\n",
      "        0.9997]))]), 'divergences': {'chain 0': [55]}, 'acceptance rate': {'chain 0': 0.988}}\n",
      "Registering the results in:  SX_IJCAI_HYPERPARAMETER_NOISY_3/2024-01-11/iter-3_n-4_k-2_m-8_sigma_w-0.01_sigma_p-1.778888888888889_n_samples-500.yaml\n"
     ]
    },
    {
     "name": "stderr",
     "output_type": "stream",
     "text": [
      "Sample: 100%|████████████████████████████| 1000/1000 [01:00, 16.41it/s, step size=1.65e-01, acc. prob=0.564]\n"
     ]
    },
    {
     "name": "stdout",
     "output_type": "stream",
     "text": [
      "diag:  {'sigma': OrderedDict([('n_eff', tensor(26.6007)), ('r_hat', tensor(1.0401))]), 'w': OrderedDict([('n_eff', tensor([ 44.8467, 217.4869,  81.6436, 109.2919, 176.3281,  32.7475,  52.6811,\n",
      "        252.4749,  18.0514, 172.9371])), ('r_hat', tensor([1.0348, 1.0118, 1.0164, 0.9985, 1.0063, 1.0214, 0.9995, 1.0095, 1.1050,\n",
      "        0.9980]))]), 'divergences': {'chain 0': [234, 405, 411, 412, 414, 416, 417, 418, 419, 424, 425, 426, 427, 429, 432, 434, 437, 438, 442, 444, 446, 450, 451, 454, 455, 456, 459, 460, 462, 463, 464, 465, 466, 469, 472, 475, 477, 480, 481, 483, 485, 486, 487, 488, 489, 495, 498, 499]}, 'acceptance rate': {'chain 0': 0.776}}\n",
      "Registering the results in:  SX_IJCAI_HYPERPARAMETER_NOISY_3/2024-01-11/iter-3_n-4_k-2_m-8_sigma_w-0.01_sigma_p-2.0_n_samples-500.yaml\n"
     ]
    },
    {
     "name": "stderr",
     "output_type": "stream",
     "text": [
      "Sample: 100%|████████████████████████████| 1000/1000 [00:45, 22.03it/s, step size=1.92e-01, acc. prob=0.730]\n"
     ]
    },
    {
     "name": "stdout",
     "output_type": "stream",
     "text": [
      "diag:  {'sigma': OrderedDict([('n_eff', tensor(88.3946)), ('r_hat', tensor(1.0071))]), 'w': OrderedDict([('n_eff', tensor([ 91.5905, 279.5028, 181.6159, 214.6182, 136.7801, 169.5767, 168.9141,\n",
      "        176.7918, 203.8381, 136.3191])), ('r_hat', tensor([1.0181, 0.9998, 0.9990, 0.9980, 1.0045, 0.9991, 1.0350, 0.9981, 1.0000,\n",
      "        1.0041]))]), 'divergences': {'chain 0': [160, 161, 162, 164, 166, 167, 172, 376, 410]}, 'acceptance rate': {'chain 0': 0.944}}\n",
      "Registering the results in:  SX_IJCAI_HYPERPARAMETER_NOISY_3/2024-01-11/iter-3_n-4_k-2_m-8_sigma_w-0.23111111111111113_sigma_p-0.01_n_samples-500.yaml\n"
     ]
    },
    {
     "name": "stderr",
     "output_type": "stream",
     "text": [
      "Sample: 100%|████████████████████████████| 1000/1000 [01:00, 16.51it/s, step size=1.07e-01, acc. prob=0.917]\n"
     ]
    },
    {
     "name": "stdout",
     "output_type": "stream",
     "text": [
      "diag:  {'sigma': OrderedDict([('n_eff', tensor(208.0039)), ('r_hat', tensor(0.9990))]), 'w': OrderedDict([('n_eff', tensor([179.8275, 225.9883, 260.9070, 215.1085, 233.2134, 448.6367, 337.2538,\n",
      "        347.5539, 237.7789, 315.9366])), ('r_hat', tensor([1.0047, 0.9981, 1.0002, 0.9991, 1.0027, 0.9983, 0.9995, 0.9983, 1.0014,\n",
      "        0.9980]))]), 'divergences': {'chain 0': [33, 467, 472]}, 'acceptance rate': {'chain 0': 0.998}}\n",
      "Registering the results in:  SX_IJCAI_HYPERPARAMETER_NOISY_3/2024-01-11/iter-3_n-4_k-2_m-8_sigma_w-0.23111111111111113_sigma_p-0.23111111111111113_n_samples-500.yaml\n"
     ]
    },
    {
     "name": "stderr",
     "output_type": "stream",
     "text": [
      "Sample: 100%|████████████████████████████| 1000/1000 [01:05, 15.21it/s, step size=1.32e-01, acc. prob=0.755]\n"
     ]
    },
    {
     "name": "stdout",
     "output_type": "stream",
     "text": [
      "diag:  {'sigma': OrderedDict([('n_eff', tensor(111.3284)), ('r_hat', tensor(0.9980))]), 'w': OrderedDict([('n_eff', tensor([133.2123, 173.1218, 132.2613, 153.3062, 165.7126, 168.0247, 247.8696,\n",
      "        168.0753, 181.9341, 185.4289])), ('r_hat', tensor([0.9985, 0.9993, 1.0025, 0.9986, 1.0024, 1.0131, 0.9981, 0.9983, 0.9997,\n",
      "        1.0026]))]), 'divergences': {'chain 0': [67, 482]}, 'acceptance rate': {'chain 0': 0.934}}\n",
      "Registering the results in:  SX_IJCAI_HYPERPARAMETER_NOISY_3/2024-01-11/iter-3_n-4_k-2_m-8_sigma_w-0.23111111111111113_sigma_p-0.45222222222222225_n_samples-500.yaml\n"
     ]
    },
    {
     "name": "stderr",
     "output_type": "stream",
     "text": [
      "Sample: 100%|████████████████████████████| 1000/1000 [01:08, 14.69it/s, step size=1.42e-01, acc. prob=0.783]\n"
     ]
    },
    {
     "name": "stdout",
     "output_type": "stream",
     "text": [
      "diag:  {'sigma': OrderedDict([('n_eff', tensor(160.3867)), ('r_hat', tensor(0.9986))]), 'w': OrderedDict([('n_eff', tensor([237.7635, 258.0549, 227.0766, 191.8991, 236.6425, 237.7514, 159.9944,\n",
      "        124.2569, 197.8689, 136.6780])), ('r_hat', tensor([0.9980, 1.0095, 1.0015, 1.0077, 0.9996, 0.9987, 1.0102, 1.0141, 0.9984,\n",
      "        1.0047]))]), 'divergences': {'chain 0': [179, 181, 183, 205, 227, 248, 253, 302]}, 'acceptance rate': {'chain 0': 0.968}}\n",
      "Registering the results in:  SX_IJCAI_HYPERPARAMETER_NOISY_3/2024-01-11/iter-3_n-4_k-2_m-8_sigma_w-0.23111111111111113_sigma_p-0.6733333333333333_n_samples-500.yaml\n"
     ]
    },
    {
     "name": "stderr",
     "output_type": "stream",
     "text": [
      "Sample: 100%|████████████████████████████| 1000/1000 [00:43, 23.20it/s, step size=1.66e-01, acc. prob=0.734]\n"
     ]
    },
    {
     "name": "stdout",
     "output_type": "stream",
     "text": [
      "diag:  {'sigma': OrderedDict([('n_eff', tensor(153.3552)), ('r_hat', tensor(0.9984))]), 'w': OrderedDict([('n_eff', tensor([179.6121, 132.2396, 282.4142, 167.7268, 228.7674, 195.6189, 225.6948,\n",
      "        139.9537, 238.5614, 170.6603])), ('r_hat', tensor([1.0002, 1.0075, 1.0073, 1.0039, 1.0087, 0.9997, 0.9983, 1.0050, 1.0055,\n",
      "        1.0039]))]), 'divergences': {'chain 0': [6, 12, 67, 270]}, 'acceptance rate': {'chain 0': 0.966}}\n",
      "Registering the results in:  SX_IJCAI_HYPERPARAMETER_NOISY_3/2024-01-11/iter-3_n-4_k-2_m-8_sigma_w-0.23111111111111113_sigma_p-0.8944444444444445_n_samples-500.yaml\n"
     ]
    },
    {
     "name": "stderr",
     "output_type": "stream",
     "text": [
      "Sample: 100%|████████████████████████████| 1000/1000 [00:43, 23.21it/s, step size=1.17e-01, acc. prob=0.849]\n"
     ]
    },
    {
     "name": "stdout",
     "output_type": "stream",
     "text": [
      "diag:  {'sigma': OrderedDict([('n_eff', tensor(165.6864)), ('r_hat', tensor(0.9982))]), 'w': OrderedDict([('n_eff', tensor([230.3202, 243.1787, 190.9713, 196.3455, 243.4653, 262.7271, 215.5171,\n",
      "        349.9590, 196.7792, 234.5372])), ('r_hat', tensor([0.9982, 0.9980, 0.9983, 0.9980, 1.0044, 1.0031, 0.9981, 0.9982, 0.9982,\n",
      "        1.0043]))]), 'divergences': {'chain 0': [132, 135, 322]}, 'acceptance rate': {'chain 0': 0.988}}\n",
      "Registering the results in:  SX_IJCAI_HYPERPARAMETER_NOISY_3/2024-01-11/iter-3_n-4_k-2_m-8_sigma_w-0.23111111111111113_sigma_p-1.1155555555555556_n_samples-500.yaml\n"
     ]
    },
    {
     "name": "stderr",
     "output_type": "stream",
     "text": [
      "Sample: 100%|████████████████████████████| 1000/1000 [00:50, 19.74it/s, step size=2.83e-01, acc. prob=0.560]\n"
     ]
    },
    {
     "name": "stdout",
     "output_type": "stream",
     "text": [
      "diag:  {'sigma': OrderedDict([('n_eff', tensor(72.0426)), ('r_hat', tensor(1.0060))]), 'w': OrderedDict([('n_eff', tensor([ 88.6817, 123.8847,  92.6387, 133.4881,  75.5731,  65.0235, 231.2835,\n",
      "        143.4627,  91.8736, 117.3684])), ('r_hat', tensor([1.0054, 1.0053, 1.0263, 0.9988, 1.0027, 0.9988, 1.0063, 0.9981, 0.9980,\n",
      "        0.9989]))]), 'divergences': {'chain 0': [28, 32, 37, 40, 57, 85, 143, 151, 193, 194, 203, 233, 289, 328, 361, 398, 433, 441, 469]}, 'acceptance rate': {'chain 0': 0.844}}\n",
      "Registering the results in:  SX_IJCAI_HYPERPARAMETER_NOISY_3/2024-01-11/iter-3_n-4_k-2_m-8_sigma_w-0.23111111111111113_sigma_p-1.3366666666666667_n_samples-500.yaml\n"
     ]
    },
    {
     "name": "stderr",
     "output_type": "stream",
     "text": [
      "Sample: 100%|████████████████████████████| 1000/1000 [00:54, 18.25it/s, step size=1.71e-01, acc. prob=0.655]\n"
     ]
    },
    {
     "name": "stdout",
     "output_type": "stream",
     "text": [
      "diag:  {'sigma': OrderedDict([('n_eff', tensor(38.1211)), ('r_hat', tensor(1.0538))]), 'w': OrderedDict([('n_eff', tensor([205.0444,  52.3923,  98.8139,  41.6701, 126.0455,  85.4275, 246.1912,\n",
      "        233.0542, 116.3547,  76.2182])), ('r_hat', tensor([1.0009, 1.0247, 1.0211, 1.0315, 1.0083, 1.0310, 1.0016, 1.0165, 1.0396,\n",
      "        1.0176]))]), 'divergences': {'chain 0': [4, 65, 163, 165, 173, 174, 177, 178, 179, 181, 185, 187, 189, 190, 191, 192, 194, 195, 197, 199, 200, 202, 205, 206, 207, 209, 211, 212, 214, 215, 216, 217, 218, 219, 221, 222, 223, 224, 225, 228, 231, 234, 235, 238, 243, 244, 380, 391, 428, 429, 432]}, 'acceptance rate': {'chain 0': 0.928}}\n",
      "Registering the results in:  SX_IJCAI_HYPERPARAMETER_NOISY_3/2024-01-11/iter-3_n-4_k-2_m-8_sigma_w-0.23111111111111113_sigma_p-1.557777777777778_n_samples-500.yaml\n"
     ]
    },
    {
     "name": "stderr",
     "output_type": "stream",
     "text": [
      "Sample: 100%|████████████████████████████| 1000/1000 [00:58, 17.23it/s, step size=1.29e-01, acc. prob=0.846]\n"
     ]
    },
    {
     "name": "stdout",
     "output_type": "stream",
     "text": [
      "diag:  {'sigma': OrderedDict([('n_eff', tensor(73.7538)), ('r_hat', tensor(1.0440))]), 'w': OrderedDict([('n_eff', tensor([324.8878,  99.0009, 402.8797, 320.9971, 270.8580, 199.7848, 280.1186,\n",
      "        331.4272, 162.7465, 344.7664])), ('r_hat', tensor([0.9999, 1.0016, 0.9981, 1.0058, 0.9997, 0.9983, 1.0014, 0.9992, 0.9991,\n",
      "        0.9988]))]), 'divergences': {'chain 0': [85]}, 'acceptance rate': {'chain 0': 0.972}}\n",
      "Registering the results in:  SX_IJCAI_HYPERPARAMETER_NOISY_3/2024-01-11/iter-3_n-4_k-2_m-8_sigma_w-0.23111111111111113_sigma_p-1.778888888888889_n_samples-500.yaml\n"
     ]
    },
    {
     "name": "stderr",
     "output_type": "stream",
     "text": [
      "Sample: 100%|████████████████████████████| 1000/1000 [01:06, 15.06it/s, step size=1.51e-01, acc. prob=0.785]\n"
     ]
    },
    {
     "name": "stdout",
     "output_type": "stream",
     "text": [
      "diag:  {'sigma': OrderedDict([('n_eff', tensor(159.0633)), ('r_hat', tensor(1.0033))]), 'w': OrderedDict([('n_eff', tensor([210.9973, 308.1347, 254.1675, 207.6568, 222.1752, 227.3174, 191.5789,\n",
      "        127.6376,  99.8633, 254.6600])), ('r_hat', tensor([1.0003, 1.0017, 1.0016, 1.0037, 0.9980, 0.9988, 0.9991, 0.9980, 0.9981,\n",
      "        0.9983]))]), 'divergences': {'chain 0': [69]}, 'acceptance rate': {'chain 0': 0.968}}\n",
      "Registering the results in:  SX_IJCAI_HYPERPARAMETER_NOISY_3/2024-01-11/iter-3_n-4_k-2_m-8_sigma_w-0.23111111111111113_sigma_p-2.0_n_samples-500.yaml\n"
     ]
    },
    {
     "name": "stderr",
     "output_type": "stream",
     "text": [
      "Sample: 100%|████████████████████████████| 1000/1000 [00:37, 26.74it/s, step size=2.03e-01, acc. prob=0.728]\n"
     ]
    },
    {
     "name": "stdout",
     "output_type": "stream",
     "text": [
      "diag:  {'sigma': OrderedDict([('n_eff', tensor(162.6608)), ('r_hat', tensor(1.0269))]), 'w': OrderedDict([('n_eff', tensor([236.6918, 273.4901, 161.1221, 116.9620, 227.8429, 259.2818, 169.7865,\n",
      "        163.5849, 153.3577, 396.4144])), ('r_hat', tensor([1.0029, 1.0116, 0.9990, 1.0250, 0.9980, 1.0047, 0.9998, 0.9984, 1.0097,\n",
      "        0.9982]))]), 'divergences': {'chain 0': [261, 269, 280, 344, 361]}, 'acceptance rate': {'chain 0': 0.948}}\n",
      "Registering the results in:  SX_IJCAI_HYPERPARAMETER_NOISY_3/2024-01-11/iter-3_n-4_k-2_m-8_sigma_w-0.45222222222222225_sigma_p-0.01_n_samples-500.yaml\n"
     ]
    },
    {
     "name": "stderr",
     "output_type": "stream",
     "text": [
      "Sample: 100%|████████████████████████████| 1000/1000 [01:03, 15.81it/s, step size=4.63e-02, acc. prob=0.917]\n"
     ]
    },
    {
     "name": "stdout",
     "output_type": "stream",
     "text": [
      "diag:  {'sigma': OrderedDict([('n_eff', tensor(106.8975)), ('r_hat', tensor(1.0077))]), 'w': OrderedDict([('n_eff', tensor([197.3503, 161.1420, 168.2208, 257.0820, 206.1858, 222.4151, 249.4717,\n",
      "        320.9940, 229.2050, 133.3174])), ('r_hat', tensor([0.9996, 1.0060, 1.0000, 1.0031, 0.9980, 0.9981, 0.9990, 0.9991, 1.0096,\n",
      "        1.0056]))]), 'divergences': {'chain 0': [49, 205, 209, 264, 329, 448, 487, 493]}, 'acceptance rate': {'chain 0': 0.996}}\n",
      "Registering the results in:  SX_IJCAI_HYPERPARAMETER_NOISY_3/2024-01-12/iter-3_n-4_k-2_m-8_sigma_w-0.45222222222222225_sigma_p-0.23111111111111113_n_samples-500.yaml\n"
     ]
    },
    {
     "name": "stderr",
     "output_type": "stream",
     "text": [
      "Sample: 100%|████████████████████████████| 1000/1000 [00:29, 33.75it/s, step size=2.43e-01, acc. prob=0.659]\n"
     ]
    },
    {
     "name": "stdout",
     "output_type": "stream",
     "text": [
      "diag:  {'sigma': OrderedDict([('n_eff', tensor(89.9826)), ('r_hat', tensor(1.0187))]), 'w': OrderedDict([('n_eff', tensor([ 46.5064,  62.2188, 179.8930, 168.4181, 137.5472, 319.4320, 187.9465,\n",
      "        109.8018,  37.2140, 129.0408])), ('r_hat', tensor([1.0248, 1.0221, 1.0025, 0.9996, 1.0033, 1.0009, 1.0216, 1.0223, 1.0305,\n",
      "        1.0123]))]), 'divergences': {'chain 0': [73, 126, 131, 227, 312, 371, 387, 412]}, 'acceptance rate': {'chain 0': 0.84}}\n",
      "Registering the results in:  SX_IJCAI_HYPERPARAMETER_NOISY_3/2024-01-12/iter-3_n-4_k-2_m-8_sigma_w-0.45222222222222225_sigma_p-0.45222222222222225_n_samples-500.yaml\n"
     ]
    },
    {
     "name": "stderr",
     "output_type": "stream",
     "text": [
      "Sample: 100%|████████████████████████████| 1000/1000 [00:36, 27.38it/s, step size=1.54e-01, acc. prob=0.762]\n"
     ]
    },
    {
     "name": "stdout",
     "output_type": "stream",
     "text": [
      "diag:  {'sigma': OrderedDict([('n_eff', tensor(60.4026)), ('r_hat', tensor(1.0056))]), 'w': OrderedDict([('n_eff', tensor([120.7691, 208.4704, 298.2749, 247.9298,  78.8958, 270.2245, 293.6788,\n",
      "        409.8323, 168.2600, 179.9478])), ('r_hat', tensor([1.0144, 0.9994, 1.0089, 0.9985, 1.0170, 0.9981, 0.9995, 1.0002, 1.0164,\n",
      "        1.0213]))]), 'divergences': {'chain 0': [31, 114, 168, 204, 321, 322, 326, 328, 329, 332, 335, 336, 339, 341, 342, 343, 344, 346, 347, 349, 350, 352, 355, 356, 357, 358, 359, 360, 361, 362, 364, 365, 368, 369, 434]}, 'acceptance rate': {'chain 0': 0.946}}\n",
      "Registering the results in:  SX_IJCAI_HYPERPARAMETER_NOISY_3/2024-01-12/iter-3_n-4_k-2_m-8_sigma_w-0.45222222222222225_sigma_p-0.6733333333333333_n_samples-500.yaml\n"
     ]
    },
    {
     "name": "stderr",
     "output_type": "stream",
     "text": [
      "Sample: 100%|████████████████████████████| 1000/1000 [00:52, 18.91it/s, step size=1.56e-01, acc. prob=0.846]\n"
     ]
    },
    {
     "name": "stdout",
     "output_type": "stream",
     "text": [
      "diag:  {'sigma': OrderedDict([('n_eff', tensor(237.3841)), ('r_hat', tensor(0.9982))]), 'w': OrderedDict([('n_eff', tensor([266.3102, 289.3651, 246.4848, 256.8420, 245.2224, 249.8755, 269.5844,\n",
      "        271.0193, 332.8773, 220.1355])), ('r_hat', tensor([0.9980, 1.0045, 0.9992, 1.0020, 0.9985, 0.9997, 0.9994, 0.9985, 1.0016,\n",
      "        0.9999]))]), 'divergences': {'chain 0': [106, 177, 181, 183, 187, 293, 430]}, 'acceptance rate': {'chain 0': 0.978}}\n",
      "Registering the results in:  SX_IJCAI_HYPERPARAMETER_NOISY_3/2024-01-12/iter-3_n-4_k-2_m-8_sigma_w-0.45222222222222225_sigma_p-0.8944444444444445_n_samples-500.yaml\n"
     ]
    },
    {
     "name": "stderr",
     "output_type": "stream",
     "text": [
      "Sample: 100%|████████████████████████████| 1000/1000 [01:00, 16.58it/s, step size=1.57e-01, acc. prob=0.678]\n"
     ]
    },
    {
     "name": "stdout",
     "output_type": "stream",
     "text": [
      "diag:  {'sigma': OrderedDict([('n_eff', tensor(34.0200)), ('r_hat', tensor(1.0769))]), 'w': OrderedDict([('n_eff', tensor([ 50.4211, 220.5081, 148.0710, 146.0331,  56.0724, 161.5658,  83.4433,\n",
      "        141.5680, 163.4001,  90.8590])), ('r_hat', tensor([1.0149, 0.9984, 0.9995, 1.0066, 1.0321, 1.0088, 0.9988, 1.0029, 1.0091,\n",
      "        1.0374]))]), 'divergences': {'chain 0': [24, 68, 147, 281, 286, 287, 342, 346, 351, 359, 371, 376, 379, 417, 418, 427]}, 'acceptance rate': {'chain 0': 0.908}}\n",
      "Registering the results in:  SX_IJCAI_HYPERPARAMETER_NOISY_3/2024-01-12/iter-3_n-4_k-2_m-8_sigma_w-0.45222222222222225_sigma_p-1.1155555555555556_n_samples-500.yaml\n"
     ]
    },
    {
     "name": "stderr",
     "output_type": "stream",
     "text": [
      "Sample: 100%|████████████████████████████| 1000/1000 [00:55, 17.99it/s, step size=1.84e-01, acc. prob=0.815]\n"
     ]
    },
    {
     "name": "stdout",
     "output_type": "stream",
     "text": [
      "diag:  {'sigma': OrderedDict([('n_eff', tensor(195.8448)), ('r_hat', tensor(0.9983))]), 'w': OrderedDict([('n_eff', tensor([252.8925, 219.7654, 179.0580, 223.0609, 220.4190, 287.8965, 216.3030,\n",
      "        202.0544, 286.7542, 350.0581])), ('r_hat', tensor([0.9989, 0.9991, 0.9991, 0.9980, 0.9991, 0.9983, 0.9994, 0.9986, 1.0012,\n",
      "        0.9980]))]), 'divergences': {'chain 0': [107, 144, 156, 166, 191]}, 'acceptance rate': {'chain 0': 0.97}}\n",
      "Registering the results in:  SX_IJCAI_HYPERPARAMETER_NOISY_3/2024-01-12/iter-3_n-4_k-2_m-8_sigma_w-0.45222222222222225_sigma_p-1.3366666666666667_n_samples-500.yaml\n"
     ]
    },
    {
     "name": "stderr",
     "output_type": "stream",
     "text": [
      "Sample: 100%|████████████████████████████| 1000/1000 [00:58, 16.97it/s, step size=1.71e-01, acc. prob=0.738]\n"
     ]
    },
    {
     "name": "stdout",
     "output_type": "stream",
     "text": [
      "diag:  {'sigma': OrderedDict([('n_eff', tensor(129.4786)), ('r_hat', tensor(1.0460))]), 'w': OrderedDict([('n_eff', tensor([167.7712, 176.9311, 220.4476, 238.4967, 176.6411, 273.5201, 158.5450,\n",
      "        217.6146,  78.4268, 308.5821])), ('r_hat', tensor([1.0178, 1.0086, 1.0103, 1.0049, 1.0080, 1.0032, 1.0092, 0.9989, 1.0054,\n",
      "        0.9996]))]), 'divergences': {'chain 0': [82, 86, 90, 94, 95, 165, 215, 216, 353, 395, 399, 462]}, 'acceptance rate': {'chain 0': 0.942}}\n",
      "Registering the results in:  SX_IJCAI_HYPERPARAMETER_NOISY_3/2024-01-12/iter-3_n-4_k-2_m-8_sigma_w-0.45222222222222225_sigma_p-1.557777777777778_n_samples-500.yaml\n"
     ]
    },
    {
     "name": "stderr",
     "output_type": "stream",
     "text": [
      "Sample: 100%|████████████████████████████| 1000/1000 [01:10, 14.28it/s, step size=1.37e-01, acc. prob=0.688]\n"
     ]
    },
    {
     "name": "stdout",
     "output_type": "stream",
     "text": [
      "diag:  {'sigma': OrderedDict([('n_eff', tensor(115.8036)), ('r_hat', tensor(1.0027))]), 'w': OrderedDict([('n_eff', tensor([ 82.5956,  69.9398, 219.3856, 221.3259, 116.1232, 175.2850, 137.5865,\n",
      "         92.5063,  60.9173, 101.0009])), ('r_hat', tensor([1.0014, 1.0352, 1.0001, 1.0041, 1.0034, 0.9990, 1.0082, 1.0077, 1.0401,\n",
      "        0.9988]))]), 'divergences': {'chain 0': [151, 212]}, 'acceptance rate': {'chain 0': 0.928}}\n",
      "Registering the results in:  SX_IJCAI_HYPERPARAMETER_NOISY_3/2024-01-12/iter-3_n-4_k-2_m-8_sigma_w-0.45222222222222225_sigma_p-1.778888888888889_n_samples-500.yaml\n"
     ]
    },
    {
     "name": "stderr",
     "output_type": "stream",
     "text": [
      "Sample: 100%|████████████████████████████| 1000/1000 [01:03, 15.67it/s, step size=1.67e-01, acc. prob=0.758]\n"
     ]
    },
    {
     "name": "stdout",
     "output_type": "stream",
     "text": [
      "diag:  {'sigma': OrderedDict([('n_eff', tensor(103.4989)), ('r_hat', tensor(1.0017))]), 'w': OrderedDict([('n_eff', tensor([186.1482, 108.4485, 169.7563, 184.0477, 160.8506, 222.0768, 170.7905,\n",
      "        189.1330, 310.0089, 229.6751])), ('r_hat', tensor([0.9986, 1.0039, 0.9985, 1.0116, 0.9994, 0.9996, 0.9990, 0.9986, 1.0019,\n",
      "        1.0000]))]), 'divergences': {'chain 0': [35, 80, 221, 225, 226, 229, 230, 232, 233, 296, 318]}, 'acceptance rate': {'chain 0': 0.962}}\n",
      "Registering the results in:  SX_IJCAI_HYPERPARAMETER_NOISY_3/2024-01-12/iter-3_n-4_k-2_m-8_sigma_w-0.45222222222222225_sigma_p-2.0_n_samples-500.yaml\n"
     ]
    },
    {
     "name": "stderr",
     "output_type": "stream",
     "text": [
      "Sample: 100%|████████████████████████████| 1000/1000 [00:59, 16.85it/s, step size=1.75e-01, acc. prob=0.610]\n"
     ]
    },
    {
     "name": "stdout",
     "output_type": "stream",
     "text": [
      "diag:  {'sigma': OrderedDict([('n_eff', tensor(56.1436)), ('r_hat', tensor(1.0043))]), 'w': OrderedDict([('n_eff', tensor([ 77.2643, 146.9790,  48.0788,  77.3859,  90.3311,  68.3843, 137.3847,\n",
      "         96.0702,  72.9319, 122.9244])), ('r_hat', tensor([1.0288, 1.0101, 1.0523, 1.0074, 1.0009, 1.0483, 0.9988, 1.0033, 1.0024,\n",
      "        1.0101]))]), 'divergences': {'chain 0': [27, 28, 47, 136, 338, 348, 349, 350, 352, 358, 359, 366, 368, 371, 375, 386, 390, 393, 395, 398, 399, 401, 403, 407]}, 'acceptance rate': {'chain 0': 0.886}}\n",
      "Registering the results in:  SX_IJCAI_HYPERPARAMETER_NOISY_3/2024-01-12/iter-3_n-4_k-2_m-8_sigma_w-0.6733333333333333_sigma_p-0.01_n_samples-500.yaml\n"
     ]
    },
    {
     "name": "stderr",
     "output_type": "stream",
     "text": [
      "Sample: 100%|████████████████████████████| 1000/1000 [00:40, 24.48it/s, step size=2.13e-01, acc. prob=0.829]\n"
     ]
    },
    {
     "name": "stdout",
     "output_type": "stream",
     "text": [
      "diag:  {'sigma': OrderedDict([('n_eff', tensor(340.2736)), ('r_hat', tensor(1.0058))]), 'w': OrderedDict([('n_eff', tensor([234.5708, 162.4804, 251.1823, 259.1431, 283.8712, 254.4158, 306.2402,\n",
      "        364.7937, 376.3454, 426.2047])), ('r_hat', tensor([1.0049, 0.9981, 0.9980, 1.0031, 1.0092, 0.9980, 0.9986, 0.9981, 0.9982,\n",
      "        0.9993]))]), 'divergences': {'chain 0': [316, 396, 397]}, 'acceptance rate': {'chain 0': 0.976}}\n",
      "Registering the results in:  SX_IJCAI_HYPERPARAMETER_NOISY_3/2024-01-12/iter-3_n-4_k-2_m-8_sigma_w-0.6733333333333333_sigma_p-0.23111111111111113_n_samples-500.yaml\n"
     ]
    },
    {
     "name": "stderr",
     "output_type": "stream",
     "text": [
      "Sample: 100%|████████████████████████████| 1000/1000 [00:58, 17.04it/s, step size=1.90e-01, acc. prob=0.799]\n"
     ]
    },
    {
     "name": "stdout",
     "output_type": "stream",
     "text": [
      "diag:  {'sigma': OrderedDict([('n_eff', tensor(181.2739)), ('r_hat', tensor(1.0056))]), 'w': OrderedDict([('n_eff', tensor([227.4285, 244.0803, 225.3013, 265.1349, 313.5666, 220.7467, 196.2642,\n",
      "        200.5558, 316.3678, 253.1257])), ('r_hat', tensor([1.0061, 0.9982, 0.9982, 0.9992, 0.9980, 0.9980, 1.0057, 0.9987, 0.9983,\n",
      "        1.0013]))]), 'divergences': {'chain 0': []}, 'acceptance rate': {'chain 0': 0.976}}\n",
      "Registering the results in:  SX_IJCAI_HYPERPARAMETER_NOISY_3/2024-01-12/iter-3_n-4_k-2_m-8_sigma_w-0.6733333333333333_sigma_p-0.45222222222222225_n_samples-500.yaml\n"
     ]
    },
    {
     "name": "stderr",
     "output_type": "stream",
     "text": [
      "Sample: 100%|████████████████████████████| 1000/1000 [01:14, 13.40it/s, step size=1.28e-01, acc. prob=0.686]\n"
     ]
    },
    {
     "name": "stdout",
     "output_type": "stream",
     "text": [
      "diag:  {'sigma': OrderedDict([('n_eff', tensor(17.8585)), ('r_hat', tensor(1.1010))]), 'w': OrderedDict([('n_eff', tensor([219.7908, 127.8106,  83.4689,  36.2821,  21.3897,  52.2371, 221.7078,\n",
      "        192.4254,  84.8479,  69.8410])), ('r_hat', tensor([1.0022, 1.0034, 1.0061, 1.0228, 1.0577, 1.0350, 0.9980, 1.0080, 0.9993,\n",
      "        0.9997]))]), 'divergences': {'chain 0': [4, 9, 10, 11, 13, 16, 18, 21, 22, 23, 24, 30, 34, 40, 47, 59, 60, 65, 66, 67, 68, 69, 74, 76, 77, 78, 80, 81, 83, 84, 90, 95, 96, 98, 100, 103, 109, 110, 194, 366]}, 'acceptance rate': {'chain 0': 0.898}}\n",
      "Registering the results in:  SX_IJCAI_HYPERPARAMETER_NOISY_3/2024-01-12/iter-3_n-4_k-2_m-8_sigma_w-0.6733333333333333_sigma_p-0.6733333333333333_n_samples-500.yaml\n"
     ]
    },
    {
     "name": "stderr",
     "output_type": "stream",
     "text": [
      "Sample: 100%|████████████████████████████| 1000/1000 [01:21, 12.20it/s, step size=1.31e-01, acc. prob=0.740]\n"
     ]
    },
    {
     "name": "stdout",
     "output_type": "stream",
     "text": [
      "diag:  {'sigma': OrderedDict([('n_eff', tensor(78.9589)), ('r_hat', tensor(1.0029))]), 'w': OrderedDict([('n_eff', tensor([ 90.0415,  93.4960, 155.0815, 255.4918, 149.2918, 141.8278, 103.1164,\n",
      "         80.0366,  81.0400, 132.6502])), ('r_hat', tensor([0.9982, 1.0227, 1.0476, 1.0000, 0.9991, 0.9984, 0.9988, 1.0277, 1.0488,\n",
      "        1.0384]))]), 'divergences': {'chain 0': [33, 337, 373]}, 'acceptance rate': {'chain 0': 0.95}}\n",
      "Registering the results in:  SX_IJCAI_HYPERPARAMETER_NOISY_3/2024-01-12/iter-3_n-4_k-2_m-8_sigma_w-0.6733333333333333_sigma_p-0.8944444444444445_n_samples-500.yaml\n"
     ]
    },
    {
     "name": "stderr",
     "output_type": "stream",
     "text": [
      "Sample: 100%|████████████████████████████| 1000/1000 [01:09, 14.39it/s, step size=1.26e-01, acc. prob=0.776]\n"
     ]
    },
    {
     "name": "stdout",
     "output_type": "stream",
     "text": [
      "diag:  {'sigma': OrderedDict([('n_eff', tensor(117.6805)), ('r_hat', tensor(1.0053))]), 'w': OrderedDict([('n_eff', tensor([124.3951, 181.6338, 216.5714, 113.5163,  57.5699,  77.7890, 175.6124,\n",
      "        241.6399, 238.6509, 140.8143])), ('r_hat', tensor([0.9981, 1.0226, 0.9994, 0.9988, 1.0352, 0.9980, 0.9985, 0.9984, 1.0078,\n",
      "        0.9992]))]), 'divergences': {'chain 0': [183, 184, 407, 408, 413, 414, 415, 416, 417, 418, 419, 420, 421, 423, 424, 425, 426, 429, 430, 431, 433, 434, 435, 437, 439, 441, 442, 443, 445, 446, 447, 449, 450]}, 'acceptance rate': {'chain 0': 0.97}}\n",
      "Registering the results in:  SX_IJCAI_HYPERPARAMETER_NOISY_3/2024-01-12/iter-3_n-4_k-2_m-8_sigma_w-0.6733333333333333_sigma_p-1.1155555555555556_n_samples-500.yaml\n"
     ]
    },
    {
     "name": "stderr",
     "output_type": "stream",
     "text": [
      "Sample: 100%|████████████████████████████| 1000/1000 [00:50, 19.62it/s, step size=1.29e-01, acc. prob=0.805]\n"
     ]
    },
    {
     "name": "stdout",
     "output_type": "stream",
     "text": [
      "diag:  {'sigma': OrderedDict([('n_eff', tensor(106.9257)), ('r_hat', tensor(1.0209))]), 'w': OrderedDict([('n_eff', tensor([160.4210, 110.0907, 271.3619, 139.1731, 219.3487, 252.7494, 286.8581,\n",
      "        155.4333, 279.5915,  89.2980])), ('r_hat', tensor([1.0129, 1.0138, 1.0023, 0.9980, 1.0189, 1.0032, 1.0005, 1.0014, 1.0001,\n",
      "        0.9994]))]), 'divergences': {'chain 0': [31, 153, 154, 347]}, 'acceptance rate': {'chain 0': 0.97}}\n",
      "Registering the results in:  SX_IJCAI_HYPERPARAMETER_NOISY_3/2024-01-12/iter-3_n-4_k-2_m-8_sigma_w-0.6733333333333333_sigma_p-1.3366666666666667_n_samples-500.yaml\n"
     ]
    },
    {
     "name": "stderr",
     "output_type": "stream",
     "text": [
      "Sample: 100%|████████████████████████████| 1000/1000 [00:39, 25.35it/s, step size=1.30e-01, acc. prob=0.196]\n"
     ]
    },
    {
     "name": "stdout",
     "output_type": "stream",
     "text": [
      "diag:  {'sigma': OrderedDict([('n_eff', tensor(31.5011)), ('r_hat', tensor(1.0397))]), 'w': OrderedDict([('n_eff', tensor([5.0966, 3.3122, 6.2327, 3.4452, 5.4371, 7.1974, 4.0867, 4.9648, 5.6739,\n",
      "        9.3288])), ('r_hat', tensor([1.4343, 2.2341, 1.3111, 2.2688, 1.1184, 1.2164, 1.7330, 1.7380, 1.8129,\n",
      "        1.1729]))]), 'divergences': {'chain 0': [18, 30, 33, 38, 39, 45, 47, 48, 59, 60, 61, 63, 66, 67, 74, 75, 78, 79, 80, 83, 84, 85, 86, 87, 88, 89, 91, 95, 97, 99, 102, 103, 104, 105, 106, 107, 109, 111, 113, 114, 115, 117, 120, 122, 123, 125, 129, 130, 131, 134, 138, 139, 140, 141, 142, 144, 145, 147, 148, 149, 150, 151, 155, 156, 157, 158, 161, 163, 165, 166, 167, 168, 171, 172, 173, 175, 176, 177, 178, 180, 181, 182, 183, 185, 186, 187, 188, 190, 191, 192, 194, 196, 197, 199, 201, 202, 205, 209, 212, 214, 216, 217, 219, 221, 222, 225, 227, 229, 230, 231, 232, 233, 235, 236, 237, 240, 241, 242, 243, 244, 246, 247, 249, 251, 252, 255, 257, 258, 259, 261, 263, 266, 267, 268, 270, 271, 272, 273, 274, 275, 276, 277, 278, 279, 281, 282, 283, 284, 285, 286, 287, 289, 290, 291, 292, 293, 294, 295, 298, 299, 301, 302, 303, 304, 308, 309, 310, 311, 312, 314, 315, 316, 317, 318, 319, 321, 323, 324, 328, 329, 330, 335, 336, 337, 338, 340, 341, 342, 344, 345, 347, 348, 349, 354, 358, 359, 360, 361, 362, 363, 364, 366, 367, 368, 369, 370, 371, 373, 374, 375, 376, 377, 379, 380, 381, 382, 383, 384, 385, 386, 391, 392, 393, 394, 395, 397, 398, 399, 400, 402, 405, 406, 410, 411, 413, 414, 415, 416, 417, 418, 420, 421, 423, 425, 426, 427, 428, 430, 433, 435, 437, 438, 439, 440, 441, 442, 445, 446, 447, 449, 450, 451, 453, 454, 455, 456, 458, 459, 460, 461, 462, 463, 464, 465, 466, 467, 468, 471, 473, 474, 476, 477, 479, 480, 481, 482, 483, 484, 486, 488, 489, 490, 491, 492, 494, 495, 496, 498, 499]}, 'acceptance rate': {'chain 0': 0.634}}\n",
      "Registering the results in:  SX_IJCAI_HYPERPARAMETER_NOISY_3/2024-01-12/iter-3_n-4_k-2_m-8_sigma_w-0.6733333333333333_sigma_p-1.557777777777778_n_samples-500.yaml\n"
     ]
    },
    {
     "name": "stderr",
     "output_type": "stream",
     "text": [
      "Sample: 100%|████████████████████████████| 1000/1000 [01:16, 13.07it/s, step size=8.67e-02, acc. prob=0.878]\n"
     ]
    },
    {
     "name": "stdout",
     "output_type": "stream",
     "text": [
      "diag:  {'sigma': OrderedDict([('n_eff', tensor(358.1801)), ('r_hat', tensor(1.0037))]), 'w': OrderedDict([('n_eff', tensor([240.7986, 209.2298, 246.4211, 271.4189, 356.6017, 322.1682, 246.5519,\n",
      "        293.3229, 300.2336, 232.6074])), ('r_hat', tensor([1.0214, 1.0142, 1.0104, 1.0131, 1.0023, 0.9985, 0.9985, 1.0004, 1.0009,\n",
      "        1.0117]))]), 'divergences': {'chain 0': [77, 165, 399]}, 'acceptance rate': {'chain 0': 1.0}}\n",
      "Registering the results in:  SX_IJCAI_HYPERPARAMETER_NOISY_3/2024-01-12/iter-3_n-4_k-2_m-8_sigma_w-0.6733333333333333_sigma_p-1.778888888888889_n_samples-500.yaml\n"
     ]
    },
    {
     "name": "stderr",
     "output_type": "stream",
     "text": [
      "Sample: 100%|████████████████████████████| 1000/1000 [00:53, 18.84it/s, step size=1.05e-01, acc. prob=0.863]\n"
     ]
    },
    {
     "name": "stdout",
     "output_type": "stream",
     "text": [
      "diag:  {'sigma': OrderedDict([('n_eff', tensor(130.7762)), ('r_hat', tensor(1.0071))]), 'w': OrderedDict([('n_eff', tensor([251.1572, 159.1312, 292.5145, 146.9570, 283.8615, 384.0996, 252.7814,\n",
      "        156.4529, 145.8484, 181.0039])), ('r_hat', tensor([1.0024, 1.0054, 0.9990, 0.9980, 0.9981, 0.9987, 1.0054, 1.0063, 1.0030,\n",
      "        1.0016]))]), 'divergences': {'chain 0': [5, 29, 61, 64, 108, 400]}, 'acceptance rate': {'chain 0': 0.986}}\n",
      "Registering the results in:  SX_IJCAI_HYPERPARAMETER_NOISY_3/2024-01-12/iter-3_n-4_k-2_m-8_sigma_w-0.6733333333333333_sigma_p-2.0_n_samples-500.yaml\n"
     ]
    },
    {
     "name": "stderr",
     "output_type": "stream",
     "text": [
      "Sample: 100%|████████████████████████████| 1000/1000 [00:58, 17.08it/s, step size=1.19e-01, acc. prob=0.817]\n"
     ]
    },
    {
     "name": "stdout",
     "output_type": "stream",
     "text": [
      "diag:  {'sigma': OrderedDict([('n_eff', tensor(139.1994)), ('r_hat', tensor(1.0014))]), 'w': OrderedDict([('n_eff', tensor([109.6228, 135.0152, 173.0142, 193.6299, 133.5235, 169.2686, 132.4259,\n",
      "        130.6029, 200.6541, 136.1180])), ('r_hat', tensor([1.0220, 1.0161, 1.0065, 1.0186, 1.0167, 1.0009, 1.0086, 1.0082, 0.9990,\n",
      "        0.9994]))]), 'divergences': {'chain 0': [66, 93, 175, 340, 437, 463, 467]}, 'acceptance rate': {'chain 0': 0.98}}\n",
      "Registering the results in:  SX_IJCAI_HYPERPARAMETER_NOISY_3/2024-01-12/iter-3_n-4_k-2_m-8_sigma_w-0.8944444444444445_sigma_p-0.01_n_samples-500.yaml\n"
     ]
    },
    {
     "name": "stderr",
     "output_type": "stream",
     "text": [
      "Sample: 100%|████████████████████████████| 1000/1000 [01:25, 11.63it/s, step size=9.11e-02, acc. prob=0.814]\n"
     ]
    },
    {
     "name": "stdout",
     "output_type": "stream",
     "text": [
      "diag:  {'sigma': OrderedDict([('n_eff', tensor(102.2493)), ('r_hat', tensor(1.0094))]), 'w': OrderedDict([('n_eff', tensor([391.0179, 172.1934, 106.9890, 240.1455, 148.0327, 168.9139, 291.8948,\n",
      "        207.8225, 248.1934, 170.7860])), ('r_hat', tensor([0.9989, 1.0056, 0.9994, 1.0098, 1.0027, 1.0023, 0.9991, 1.0012, 1.0063,\n",
      "        0.9980]))]), 'divergences': {'chain 0': [16, 22, 42, 65, 78, 81, 279, 289, 307, 351, 356, 368, 397]}, 'acceptance rate': {'chain 0': 0.98}}\n",
      "Registering the results in:  SX_IJCAI_HYPERPARAMETER_NOISY_3/2024-01-12/iter-3_n-4_k-2_m-8_sigma_w-0.8944444444444445_sigma_p-0.23111111111111113_n_samples-500.yaml\n"
     ]
    },
    {
     "name": "stderr",
     "output_type": "stream",
     "text": [
      "Sample: 100%|████████████████████████████| 1000/1000 [00:49, 20.36it/s, step size=1.17e-01, acc. prob=0.735]\n"
     ]
    },
    {
     "name": "stdout",
     "output_type": "stream",
     "text": [
      "diag:  {'sigma': OrderedDict([('n_eff', tensor(74.2295)), ('r_hat', tensor(1.0071))]), 'w': OrderedDict([('n_eff', tensor([ 47.7152, 137.6869, 152.7856, 262.8393, 118.4021, 133.8300, 150.7991,\n",
      "        178.1662,  69.2140,  72.9189])), ('r_hat', tensor([1.0366, 1.0058, 0.9980, 0.9993, 1.0027, 1.0031, 0.9996, 1.0042, 1.0218,\n",
      "        1.0130]))]), 'divergences': {'chain 0': [178, 386, 387, 390, 391, 394, 395, 396, 397, 398, 399, 402, 403, 404, 406, 407, 411, 412, 413, 414, 415, 417, 418, 420, 421, 422, 428, 429, 430, 432, 433, 435, 436, 437, 438, 439, 440, 441, 443, 444, 445, 446, 447, 448, 449, 451, 454, 455, 458, 465]}, 'acceptance rate': {'chain 0': 0.956}}\n",
      "Registering the results in:  SX_IJCAI_HYPERPARAMETER_NOISY_3/2024-01-12/iter-3_n-4_k-2_m-8_sigma_w-0.8944444444444445_sigma_p-0.45222222222222225_n_samples-500.yaml\n"
     ]
    },
    {
     "name": "stderr",
     "output_type": "stream",
     "text": [
      "Sample: 100%|████████████████████████████| 1000/1000 [00:47, 21.09it/s, step size=1.25e-01, acc. prob=0.712]\n"
     ]
    },
    {
     "name": "stdout",
     "output_type": "stream",
     "text": [
      "diag:  {'sigma': OrderedDict([('n_eff', tensor(106.8871)), ('r_hat', tensor(0.9980))]), 'w': OrderedDict([('n_eff', tensor([ 90.9552, 147.0130, 240.4169,  72.6683,  62.2037, 114.5313,  35.1478,\n",
      "        112.4781,  48.4380, 165.1078])), ('r_hat', tensor([0.9981, 1.0049, 0.9993, 1.0183, 1.0040, 1.0003, 1.0074, 1.0108, 1.0089,\n",
      "        1.0018]))]), 'divergences': {'chain 0': []}, 'acceptance rate': {'chain 0': 0.922}}\n",
      "Registering the results in:  SX_IJCAI_HYPERPARAMETER_NOISY_3/2024-01-12/iter-3_n-4_k-2_m-8_sigma_w-0.8944444444444445_sigma_p-0.6733333333333333_n_samples-500.yaml\n"
     ]
    },
    {
     "name": "stderr",
     "output_type": "stream",
     "text": [
      "Sample: 100%|████████████████████████████| 1000/1000 [01:20, 12.37it/s, step size=7.63e-02, acc. prob=0.861]\n"
     ]
    },
    {
     "name": "stdout",
     "output_type": "stream",
     "text": [
      "diag:  {'sigma': OrderedDict([('n_eff', tensor(108.1937)), ('r_hat', tensor(0.9980))]), 'w': OrderedDict([('n_eff', tensor([128.6072, 275.4028, 196.0598, 240.1574, 225.5461, 245.2974, 136.1284,\n",
      "        236.1537, 263.2589, 248.4065])), ('r_hat', tensor([0.9982, 1.0026, 1.0002, 1.0002, 0.9982, 0.9990, 1.0023, 0.9985, 0.9999,\n",
      "        0.9994]))]), 'divergences': {'chain 0': [7, 252, 260, 441]}, 'acceptance rate': {'chain 0': 0.982}}\n",
      "Registering the results in:  SX_IJCAI_HYPERPARAMETER_NOISY_3/2024-01-12/iter-3_n-4_k-2_m-8_sigma_w-0.8944444444444445_sigma_p-0.8944444444444445_n_samples-500.yaml\n"
     ]
    },
    {
     "name": "stderr",
     "output_type": "stream",
     "text": [
      "Sample: 100%|████████████████████████████| 1000/1000 [01:30, 11.06it/s, step size=8.99e-02, acc. prob=0.894]\n"
     ]
    },
    {
     "name": "stdout",
     "output_type": "stream",
     "text": [
      "diag:  {'sigma': OrderedDict([('n_eff', tensor(145.9501)), ('r_hat', tensor(0.9996))]), 'w': OrderedDict([('n_eff', tensor([266.5833, 198.0709, 225.4281, 261.3424, 137.1116, 283.5291, 138.6969,\n",
      "        330.5772, 235.7512, 294.9309])), ('r_hat', tensor([0.9980, 1.0083, 1.0009, 0.9986, 1.0121, 0.9982, 1.0196, 0.9983, 0.9987,\n",
      "        1.0007]))]), 'divergences': {'chain 0': [68, 127, 128, 192, 338]}, 'acceptance rate': {'chain 0': 0.994}}\n",
      "Registering the results in:  SX_IJCAI_HYPERPARAMETER_NOISY_3/2024-01-12/iter-3_n-4_k-2_m-8_sigma_w-0.8944444444444445_sigma_p-1.1155555555555556_n_samples-500.yaml\n"
     ]
    },
    {
     "name": "stderr",
     "output_type": "stream",
     "text": [
      "Sample: 100%|████████████████████████████| 1000/1000 [01:11, 14.00it/s, step size=1.81e-01, acc. prob=0.777]\n"
     ]
    },
    {
     "name": "stdout",
     "output_type": "stream",
     "text": [
      "diag:  {'sigma': OrderedDict([('n_eff', tensor(167.7885)), ('r_hat', tensor(0.9992))]), 'w': OrderedDict([('n_eff', tensor([260.6055, 313.5924, 200.9887, 314.7331, 252.6166, 215.4470, 388.9436,\n",
      "        176.7405, 230.6449, 471.9289])), ('r_hat', tensor([1.0002, 1.0027, 1.0096, 1.0102, 0.9984, 0.9980, 1.0041, 1.0166, 1.0068,\n",
      "        0.9981]))]), 'divergences': {'chain 0': [323, 478]}, 'acceptance rate': {'chain 0': 0.974}}\n",
      "Registering the results in:  SX_IJCAI_HYPERPARAMETER_NOISY_3/2024-01-12/iter-3_n-4_k-2_m-8_sigma_w-0.8944444444444445_sigma_p-1.3366666666666667_n_samples-500.yaml\n"
     ]
    },
    {
     "name": "stderr",
     "output_type": "stream",
     "text": [
      "Sample: 100%|████████████████████████████| 1000/1000 [01:16, 13.08it/s, step size=1.29e-01, acc. prob=0.814]\n"
     ]
    },
    {
     "name": "stdout",
     "output_type": "stream",
     "text": [
      "diag:  {'sigma': OrderedDict([('n_eff', tensor(158.8197)), ('r_hat', tensor(1.0045))]), 'w': OrderedDict([('n_eff', tensor([165.9801, 234.3244, 249.1591, 167.2264, 245.6602, 281.9774, 186.0594,\n",
      "        259.6968, 225.2586, 281.4625])), ('r_hat', tensor([1.0039, 0.9986, 0.9983, 0.9988, 1.0031, 0.9981, 0.9980, 1.0021, 1.0000,\n",
      "        1.0039]))]), 'divergences': {'chain 0': [9, 332]}, 'acceptance rate': {'chain 0': 0.976}}\n",
      "Registering the results in:  SX_IJCAI_HYPERPARAMETER_NOISY_3/2024-01-12/iter-3_n-4_k-2_m-8_sigma_w-0.8944444444444445_sigma_p-1.557777777777778_n_samples-500.yaml\n"
     ]
    },
    {
     "name": "stderr",
     "output_type": "stream",
     "text": [
      "Sample: 100%|████████████████████████████| 1000/1000 [02:11,  7.61it/s, step size=8.22e-02, acc. prob=0.708]\n"
     ]
    },
    {
     "name": "stdout",
     "output_type": "stream",
     "text": [
      "diag:  {'sigma': OrderedDict([('n_eff', tensor(63.5581)), ('r_hat', tensor(0.9988))]), 'w': OrderedDict([('n_eff', tensor([138.8433, 234.4436, 153.2742,  48.0282, 145.4952,  82.5302, 141.9725,\n",
      "        101.3188, 212.4768, 182.2515])), ('r_hat', tensor([1.0050, 1.0043, 0.9986, 1.0101, 1.0130, 1.0152, 1.0168, 1.0088, 0.9982,\n",
      "        0.9985]))]), 'divergences': {'chain 0': [151, 352, 407, 419, 430]}, 'acceptance rate': {'chain 0': 0.942}}\n",
      "Registering the results in:  SX_IJCAI_HYPERPARAMETER_NOISY_3/2024-01-12/iter-3_n-4_k-2_m-8_sigma_w-0.8944444444444445_sigma_p-1.778888888888889_n_samples-500.yaml\n"
     ]
    },
    {
     "name": "stderr",
     "output_type": "stream",
     "text": [
      "Sample: 100%|████████████████████████████| 1000/1000 [01:23, 12.05it/s, step size=1.33e-01, acc. prob=0.695]\n"
     ]
    },
    {
     "name": "stdout",
     "output_type": "stream",
     "text": [
      "diag:  {'sigma': OrderedDict([('n_eff', tensor(101.9350)), ('r_hat', tensor(1.0036))]), 'w': OrderedDict([('n_eff', tensor([ 54.0357, 249.4420, 228.8085, 228.3619,  53.4007, 100.3204, 216.0379,\n",
      "        105.0633, 187.7387, 169.8011])), ('r_hat', tensor([1.0179, 0.9992, 1.0074, 1.0017, 1.0145, 1.0160, 0.9982, 1.0036, 1.0024,\n",
      "        0.9994]))]), 'divergences': {'chain 0': [57, 155, 221, 244, 271, 311, 424]}, 'acceptance rate': {'chain 0': 0.928}}\n",
      "Registering the results in:  SX_IJCAI_HYPERPARAMETER_NOISY_3/2024-01-12/iter-3_n-4_k-2_m-8_sigma_w-0.8944444444444445_sigma_p-2.0_n_samples-500.yaml\n"
     ]
    },
    {
     "name": "stderr",
     "output_type": "stream",
     "text": [
      "Sample: 100%|████████████████████████████| 1000/1000 [01:57,  8.51it/s, step size=9.17e-02, acc. prob=0.788]\n"
     ]
    },
    {
     "name": "stdout",
     "output_type": "stream",
     "text": [
      "diag:  {'sigma': OrderedDict([('n_eff', tensor(178.6640)), ('r_hat', tensor(1.0075))]), 'w': OrderedDict([('n_eff', tensor([199.8927, 247.9087, 198.8423, 180.7584, 191.1337, 215.5697, 214.4415,\n",
      "        204.2946, 294.2379, 199.9149])), ('r_hat', tensor([0.9981, 0.9994, 1.0025, 1.0093, 0.9981, 0.9984, 0.9983, 1.0060, 0.9980,\n",
      "        1.0025]))]), 'divergences': {'chain 0': [307]}, 'acceptance rate': {'chain 0': 0.99}}\n",
      "Registering the results in:  SX_IJCAI_HYPERPARAMETER_NOISY_3/2024-01-12/iter-3_n-4_k-2_m-8_sigma_w-1.1155555555555556_sigma_p-0.01_n_samples-500.yaml\n"
     ]
    },
    {
     "name": "stderr",
     "output_type": "stream",
     "text": [
      "Sample: 100%|████████████████████████████| 1000/1000 [00:50, 19.75it/s, step size=1.98e-01, acc. prob=0.780]\n"
     ]
    },
    {
     "name": "stdout",
     "output_type": "stream",
     "text": [
      "diag:  {'sigma': OrderedDict([('n_eff', tensor(150.4905)), ('r_hat', tensor(1.0051))]), 'w': OrderedDict([('n_eff', tensor([195.7210, 179.3300, 240.0676, 380.5862, 154.0541, 231.5846, 234.4193,\n",
      "        173.1608, 181.6762, 182.7563])), ('r_hat', tensor([0.9981, 1.0030, 0.9983, 0.9981, 0.9988, 0.9988, 0.9987, 1.0004, 0.9989,\n",
      "        1.0018]))]), 'divergences': {'chain 0': [11, 13, 54, 145, 168, 179, 202, 386]}, 'acceptance rate': {'chain 0': 0.978}}\n",
      "Registering the results in:  SX_IJCAI_HYPERPARAMETER_NOISY_3/2024-01-12/iter-3_n-4_k-2_m-8_sigma_w-1.1155555555555556_sigma_p-0.23111111111111113_n_samples-500.yaml\n"
     ]
    },
    {
     "name": "stderr",
     "output_type": "stream",
     "text": [
      "Sample: 100%|████████████████████████████| 1000/1000 [01:08, 14.67it/s, step size=1.60e-01, acc. prob=0.798]\n"
     ]
    },
    {
     "name": "stdout",
     "output_type": "stream",
     "text": [
      "diag:  {'sigma': OrderedDict([('n_eff', tensor(142.7359)), ('r_hat', tensor(1.0081))]), 'w': OrderedDict([('n_eff', tensor([193.2417, 208.8279, 218.3349, 172.0160, 184.0108, 196.8702, 316.2323,\n",
      "        248.1631, 174.7872, 108.4057])), ('r_hat', tensor([0.9995, 1.0047, 1.0165, 1.0148, 1.0023, 0.9980, 0.9999, 1.0060, 1.0289,\n",
      "        1.0156]))]), 'divergences': {'chain 0': [242, 256, 266]}, 'acceptance rate': {'chain 0': 0.96}}\n",
      "Registering the results in:  SX_IJCAI_HYPERPARAMETER_NOISY_3/2024-01-12/iter-3_n-4_k-2_m-8_sigma_w-1.1155555555555556_sigma_p-0.45222222222222225_n_samples-500.yaml\n"
     ]
    },
    {
     "name": "stderr",
     "output_type": "stream",
     "text": [
      "Sample: 100%|████████████████████████████| 1000/1000 [01:27, 11.40it/s, step size=8.74e-02, acc. prob=0.862]\n"
     ]
    },
    {
     "name": "stdout",
     "output_type": "stream",
     "text": [
      "diag:  {'sigma': OrderedDict([('n_eff', tensor(107.2002)), ('r_hat', tensor(0.9983))]), 'w': OrderedDict([('n_eff', tensor([162.2541,  77.7915,  92.3682, 228.7085, 269.2113, 141.3130, 325.9832,\n",
      "        157.5761, 112.2372, 154.0046])), ('r_hat', tensor([0.9980, 0.9981, 1.0041, 1.0012, 0.9987, 1.0018, 0.9999, 1.0029, 0.9999,\n",
      "        1.0041]))]), 'divergences': {'chain 0': [459]}, 'acceptance rate': {'chain 0': 0.978}}\n",
      "Registering the results in:  SX_IJCAI_HYPERPARAMETER_NOISY_3/2024-01-12/iter-3_n-4_k-2_m-8_sigma_w-1.1155555555555556_sigma_p-0.6733333333333333_n_samples-500.yaml\n"
     ]
    },
    {
     "name": "stderr",
     "output_type": "stream",
     "text": [
      "Sample: 100%|████████████████████████████| 1000/1000 [00:55, 18.12it/s, step size=6.61e-02, acc. prob=0.944]\n"
     ]
    },
    {
     "name": "stdout",
     "output_type": "stream",
     "text": [
      "diag:  {'sigma': OrderedDict([('n_eff', tensor(83.9699)), ('r_hat', tensor(1.0133))]), 'w': OrderedDict([('n_eff', tensor([320.5755, 366.7129, 125.1846, 227.9410, 309.1618, 383.9276, 499.8914,\n",
      "        369.2881, 343.0360, 421.0897])), ('r_hat', tensor([1.0038, 0.9986, 1.0199, 1.0031, 0.9981, 1.0039, 0.9980, 0.9982, 0.9996,\n",
      "        0.9985]))]), 'divergences': {'chain 0': [210, 481]}, 'acceptance rate': {'chain 0': 1.0}}\n",
      "Registering the results in:  SX_IJCAI_HYPERPARAMETER_NOISY_3/2024-01-12/iter-3_n-4_k-2_m-8_sigma_w-1.1155555555555556_sigma_p-0.8944444444444445_n_samples-500.yaml\n"
     ]
    },
    {
     "name": "stderr",
     "output_type": "stream",
     "text": [
      "Sample: 100%|████████████████████████████| 1000/1000 [00:41, 24.27it/s, step size=1.30e-01, acc. prob=0.786]\n"
     ]
    },
    {
     "name": "stdout",
     "output_type": "stream",
     "text": [
      "diag:  {'sigma': OrderedDict([('n_eff', tensor(102.7102)), ('r_hat', tensor(1.0037))]), 'w': OrderedDict([('n_eff', tensor([328.1012, 264.6872, 119.6966, 217.9701, 218.1339, 349.5258, 181.4433,\n",
      "        224.1542, 281.7052, 181.7080])), ('r_hat', tensor([1.0004, 1.0120, 1.0092, 1.0004, 1.0027, 0.9981, 0.9980, 1.0015, 0.9989,\n",
      "        0.9982]))]), 'divergences': {'chain 0': [54, 218, 353, 357, 359, 486]}, 'acceptance rate': {'chain 0': 0.974}}\n",
      "Registering the results in:  SX_IJCAI_HYPERPARAMETER_NOISY_3/2024-01-12/iter-3_n-4_k-2_m-8_sigma_w-1.1155555555555556_sigma_p-1.1155555555555556_n_samples-500.yaml\n"
     ]
    },
    {
     "name": "stderr",
     "output_type": "stream",
     "text": [
      "Sample: 100%|████████████████████████████| 1000/1000 [00:47, 21.23it/s, step size=1.33e-01, acc. prob=0.650]\n"
     ]
    },
    {
     "name": "stdout",
     "output_type": "stream",
     "text": [
      "diag:  {'sigma': OrderedDict([('n_eff', tensor(45.3460)), ('r_hat', tensor(1.0210))]), 'w': OrderedDict([('n_eff', tensor([ 87.2830, 110.7953, 111.1179,  90.5679,  67.9982,  39.2549,  35.5061,\n",
      "        175.7259,  86.7000,  55.1172])), ('r_hat', tensor([1.0083, 1.0132, 1.0007, 1.0077, 0.9980, 1.0449, 1.0043, 0.9995, 1.0085,\n",
      "        1.0330]))]), 'divergences': {'chain 0': [16, 84, 177, 184, 279, 302, 362]}, 'acceptance rate': {'chain 0': 0.868}}\n",
      "Registering the results in:  SX_IJCAI_HYPERPARAMETER_NOISY_3/2024-01-12/iter-3_n-4_k-2_m-8_sigma_w-1.1155555555555556_sigma_p-1.3366666666666667_n_samples-500.yaml\n"
     ]
    },
    {
     "name": "stderr",
     "output_type": "stream",
     "text": [
      "Sample: 100%|████████████████████████████| 1000/1000 [02:00,  8.27it/s, step size=8.11e-02, acc. prob=0.613]\n"
     ]
    },
    {
     "name": "stdout",
     "output_type": "stream",
     "text": [
      "diag:  {'sigma': OrderedDict([('n_eff', tensor(39.6596)), ('r_hat', tensor(1.0038))]), 'w': OrderedDict([('n_eff', tensor([ 71.8579,  65.9971,  22.1992,  89.7956,  62.4206,  28.1249, 233.9946,\n",
      "         47.1741,  37.7646,  71.1400])), ('r_hat', tensor([1.0118, 0.9980, 1.0073, 1.0304, 1.0062, 1.0034, 0.9994, 1.0177, 1.0585,\n",
      "        1.0058]))]), 'divergences': {'chain 0': [230, 288, 441, 443, 464]}, 'acceptance rate': {'chain 0': 0.806}}\n",
      "Registering the results in:  SX_IJCAI_HYPERPARAMETER_NOISY_3/2024-01-12/iter-3_n-4_k-2_m-8_sigma_w-1.1155555555555556_sigma_p-1.557777777777778_n_samples-500.yaml\n"
     ]
    },
    {
     "name": "stderr",
     "output_type": "stream",
     "text": [
      "Warmup:  18%|█████▏                       | 181/1000 [00:17, 11.05it/s, step size=8.16e-02, acc. prob=0.781]"
     ]
    }
   ],
   "source": [
    "import time\n",
    "\n",
    "TEST_NAME = \"SX_IJCAI_HYPERPARAMETER_NOISY_3\"\n",
    "REPLACE = False\n",
    "\n",
    "n = 4\n",
    "sigma_weights = 1\n",
    "sigma_w_vals = np.linspace(1e-2, 2, 10)\n",
    "sigma_p_vals =  np.linspace(1e-2, 2, 10)\n",
    "n_samples = 500\n",
    "k=2\n",
    "\n",
    "for iter_ in range(10):\n",
    "    for sigma_w in sigma_p_vals:\n",
    "        for sigma_p in sigma_w_vals:\n",
    "            for m in [2**(n-1)]:\n",
    "                run_d = {\n",
    "                    \"iter\":iter_,\n",
    "                    \"n\": n,\n",
    "                    \"k\": k,\n",
    "                    \"m\": m,\n",
    "                    \"sigma_w\": float(sigma_w),\n",
    "                    \"sigma_p\": float(sigma_p),\n",
    "                    \"n_samples\": n_samples\n",
    "                }\n",
    "                found = find_experiment_file(run_d, TEST_NAME)\n",
    "                if found:\n",
    "                    date = found\n",
    "                    print(f\"Found file: {file_name}\")\n",
    "                    if REPLACE:\n",
    "                        print('Replacing it...')\n",
    "                    else:\n",
    "                        continue\n",
    "                else:\n",
    "                    file_name = compute_experiment_file_name(run_d, TEST_NAME)\n",
    "                    print(\"Registering the results in: \", file_name)\n",
    "                ####\n",
    "                theta = generate_additive_theta(n, k)\n",
    "                weights = generate_normal_weights(theta, sigma_weights)\n",
    "                alternatives = generate_random_alternatives_matrix(m, n)\n",
    "                ranks = compute_ws_ranks(alternatives, theta, weights) + np.random.normal(0, 1)\n",
    "                t_sv = compute_semivalues(n, theta, weights, lambda x:1)\n",
    "                preferences = PreferenceModel(alternatives, ranks)\n",
    "                data = preferences.generate_preference_matrix(theta)\n",
    "                data = torch.tensor(data).float()\n",
    "                t = time.time()\n",
    "                model = posterior_sampling_model(data, sigma_w=sigma_w, sigma_p=sigma_p)\n",
    "                diag, sampled_weights, sigmas = sample_model(model, data, \"w\", \"sigma\",n_chains = 5, warmup_steps=500, num_samples=n_samples, return_diag=True)\n",
    "                t = time.time() - t\n",
    "                accs_d = get_acc_distribution(data, sampled_weights, sigmas)\n",
    "                predicted_rankings = [np.argsort(compute_semivalues(n, theta, weights, lambda x:1))[::-1] for weights in sampled_weights]\n",
    "                kt_d = get_kt_distribution(predicted_rankings, np.argsort(t_sv))\n",
    "                ###\n",
    "                \n",
    "                file_path = record_experiment_results(run_d, TEST_NAME)\n",
    "                \n",
    "                run_d[\"time\"] = t\n",
    "                run_d[\"weights\"] = weights.tolist()\n",
    "                run_d[\"predicted_rankings\"] = [i.tolist() for i in predicted_rankings]\n",
    "                run_d[\"accuracy_distribution\"] = [i.tolist() for i in accs_d]\n",
    "                run_d[\"kt_d\"] = [i.tolist() for i in kt_d]\n",
    "                run_d[\"acceptance_rate\"] = diag[\"acceptance rate\"][\"chain 0\"]\n",
    "                run_d[\"w_eff\"] = [float(i) for i in diag[\"w\"][\"n_eff\"].numpy()]\n",
    "                run_d[\"w_rhat\"] = [float(i) for i in diag[\"w\"][\"r_hat\"].numpy()]\n",
    "                \n",
    "                print(\"diag: \", diag)\n",
    "                with open(file_path, 'w') as file:\n",
    "                    yaml.dump(run_d, file, default_flow_style=False)\n",
    "    "
   ]
  },
  {
   "cell_type": "code",
   "execution_count": null,
   "id": "f408ad62-8944-474a-8e0d-c6fd22cf1b8f",
   "metadata": {},
   "outputs": [],
   "source": []
  }
 ],
 "metadata": {
  "kernelspec": {
   "display_name": "Python 3 (ipykernel)",
   "language": "python",
   "name": "python3"
  },
  "language_info": {
   "codemirror_mode": {
    "name": "ipython",
    "version": 3
   },
   "file_extension": ".py",
   "mimetype": "text/x-python",
   "name": "python",
   "nbconvert_exporter": "python",
   "pygments_lexer": "ipython3",
   "version": "3.9.10"
  }
 },
 "nbformat": 4,
 "nbformat_minor": 5
}
