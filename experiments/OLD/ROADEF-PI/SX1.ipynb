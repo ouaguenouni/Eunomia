{
 "cells": [
  {
   "cell_type": "code",
   "execution_count": 5,
   "metadata": {
    "colab": {
     "base_uri": "https://localhost:8080/"
    },
    "id": "8k9HfDxm9gnE",
    "outputId": "d45a06ad-0097-4d19-e9e2-479eb395aef2"
   },
   "outputs": [
    {
     "name": "stdout",
     "output_type": "stream",
     "text": [
      "Cloning into 'Eunomia'...\n",
      "remote: Enumerating objects: 97, done.\u001b[K\n",
      "remote: Counting objects: 100% (97/97), done.\u001b[K\n",
      "remote: Compressing objects: 100% (71/71), done.\u001b[K\n",
      "remote: Total 97 (delta 47), reused 72 (delta 22), pack-reused 0\u001b[K\n",
      "Receiving objects: 100% (97/97), 57.05 KiB | 2.19 MiB/s, done.\n",
      "Resolving deltas: 100% (47/47), done.\n",
      "Requirement already satisfied: torch in /home/mohamed/miniconda3/lib/python3.9/site-packages (from -r Eunomia/requirements.txt (line 1)) (1.11.0)\n",
      "Requirement already satisfied: pyro-ppl in /home/mohamed/miniconda3/lib/python3.9/site-packages (from -r Eunomia/requirements.txt (line 2)) (1.8.6)\n",
      "Requirement already satisfied: cvxpy in /home/mohamed/miniconda3/lib/python3.9/site-packages (from -r Eunomia/requirements.txt (line 3)) (1.1.18)\n",
      "Requirement already satisfied: typing_extensions in /home/mohamed/miniconda3/lib/python3.9/site-packages (from torch->-r Eunomia/requirements.txt (line 1)) (4.8.0)\n",
      "Requirement already satisfied: numpy>=1.7 in /home/mohamed/miniconda3/lib/python3.9/site-packages (from pyro-ppl->-r Eunomia/requirements.txt (line 2)) (1.22.1)\n",
      "Requirement already satisfied: tqdm>=4.36 in /home/mohamed/miniconda3/lib/python3.9/site-packages (from pyro-ppl->-r Eunomia/requirements.txt (line 2)) (4.62.3)\n",
      "Requirement already satisfied: pyro-api>=0.1.1 in /home/mohamed/miniconda3/lib/python3.9/site-packages (from pyro-ppl->-r Eunomia/requirements.txt (line 2)) (0.1.2)\n",
      "Requirement already satisfied: opt-einsum>=2.3.2 in /home/mohamed/miniconda3/lib/python3.9/site-packages (from pyro-ppl->-r Eunomia/requirements.txt (line 2)) (3.3.0)\n",
      "Requirement already satisfied: scipy>=1.1.0 in /home/mohamed/miniconda3/lib/python3.9/site-packages (from cvxpy->-r Eunomia/requirements.txt (line 3)) (1.11.3)\n",
      "Requirement already satisfied: ecos>=2 in /home/mohamed/miniconda3/lib/python3.9/site-packages (from cvxpy->-r Eunomia/requirements.txt (line 3)) (2.0.10)\n",
      "Requirement already satisfied: scs>=1.1.6 in /home/mohamed/miniconda3/lib/python3.9/site-packages (from cvxpy->-r Eunomia/requirements.txt (line 3)) (3.1.0)\n",
      "Requirement already satisfied: osqp>=0.4.1 in /home/mohamed/miniconda3/lib/python3.9/site-packages (from cvxpy->-r Eunomia/requirements.txt (line 3)) (0.6.2.post4)\n",
      "Requirement already satisfied: qdldl in /home/mohamed/miniconda3/lib/python3.9/site-packages (from osqp>=0.4.1->cvxpy->-r Eunomia/requirements.txt (line 3)) (0.1.5.post0)\n"
     ]
    }
   ],
   "source": [
    "!rm -rf Eunomia\n",
    "!git clone https://github.com/ouaguenouni/Eunomia\n",
    "!pip install -r Eunomia/requirements.txt"
   ]
  },
  {
   "cell_type": "code",
   "execution_count": 1,
   "metadata": {
    "id": "G0Wvw8ff_y2O"
   },
   "outputs": [],
   "source": [
    "import matplotlib.pyplot as plt\n",
    "import numpy as np\n",
    "import pandas as pd\n",
    "import seaborn as sns\n",
    "from Eunomia.preferences import *\n",
    "from Eunomia.additive_functions import *\n",
    "from Eunomia.alternatives import *\n",
    "from Eunomia.sampling import *\n",
    "from Eunomia.mcmc import *\n",
    "from Eunomia.degree import *\n",
    "from Eunomia.experiments import *\n",
    "\n",
    "pyro.set_rng_seed(1)"
   ]
  },
  {
   "cell_type": "code",
   "execution_count": null,
   "metadata": {},
   "outputs": [
    {
     "name": "stdout",
     "output_type": "stream",
     "text": [
      "Registering the results in:  SX1/2023-11-18/n-5_k-1_m-4_sigma_w-1_sigma_p-1_n_samples-1500.yaml\n"
     ]
    },
    {
     "name": "stderr",
     "output_type": "stream",
     "text": [
      "Sample: 100%|████████████████████████████| 2000/2000 [01:36, 20.62it/s, step size=1.70e-01, acc. prob=0.907]\n"
     ]
    },
    {
     "name": "stdout",
     "output_type": "stream",
     "text": [
      "diag:  {'sigma': OrderedDict([('n_eff', tensor(821.4919)), ('r_hat', tensor(0.9998))]), 'w': OrderedDict([('n_eff', tensor([810.8021, 823.4952, 878.3043, 877.1406, 565.9174])), ('r_hat', tensor([1.0001, 0.9994, 1.0039, 1.0000, 0.9997]))]), 'divergences': {'chain 0': [175, 501, 558, 662, 665, 666, 677, 680, 685, 780, 789, 1213, 1478]}, 'acceptance rate': {'chain 0': 0.9933333333333333}}\n",
      "Registering the results in:  SX1/2023-11-18/n-5_k-1_m-4_sigma_w-1_sigma_p-0.1_n_samples-1500.yaml\n"
     ]
    },
    {
     "name": "stderr",
     "output_type": "stream",
     "text": [
      "Sample: 100%|████████████████████████████| 2000/2000 [00:48, 41.51it/s, step size=3.72e-01, acc. prob=0.895]\n"
     ]
    },
    {
     "name": "stdout",
     "output_type": "stream",
     "text": [
      "diag:  {'sigma': OrderedDict([('n_eff', tensor(910.2490)), ('r_hat', tensor(1.0024))]), 'w': OrderedDict([('n_eff', tensor([ 962.2154,  914.4397, 1273.5034, 1261.7496, 1054.6635])), ('r_hat', tensor([0.9994, 1.0040, 0.9994, 1.0019, 0.9996]))]), 'divergences': {'chain 0': [6, 8, 57, 701, 801, 1155, 1157, 1160, 1162, 1172, 1389, 1459]}, 'acceptance rate': {'chain 0': 0.978}}\n",
      "Registering the results in:  SX1/2023-11-18/n-5_k-1_m-4_sigma_w-1_sigma_p-0.01_n_samples-1500.yaml\n"
     ]
    },
    {
     "name": "stderr",
     "output_type": "stream",
     "text": [
      "Sample: 100%|████████████████████████████| 2000/2000 [00:39, 50.59it/s, step size=4.15e-01, acc. prob=0.949]\n"
     ]
    },
    {
     "name": "stdout",
     "output_type": "stream",
     "text": [
      "diag:  {'sigma': OrderedDict([('n_eff', tensor(1798.5226)), ('r_hat', tensor(0.9994))]), 'w': OrderedDict([('n_eff', tensor([1359.3051, 1679.8462, 1607.6113, 2108.8635, 1568.7618])), ('r_hat', tensor([0.9993, 0.9995, 0.9993, 0.9994, 1.0003]))]), 'divergences': {'chain 0': [770, 862, 866, 1195, 1196]}, 'acceptance rate': {'chain 0': 0.996}}\n",
      "Registering the results in:  SX1/2023-11-18/n-5_k-1_m-4_sigma_w-1_sigma_p-10.0_n_samples-1500.yaml\n"
     ]
    },
    {
     "name": "stderr",
     "output_type": "stream",
     "text": [
      "Sample: 100%|████████████████████████████| 2000/2000 [02:41, 12.41it/s, step size=9.00e-02, acc. prob=0.710]\n"
     ]
    },
    {
     "name": "stdout",
     "output_type": "stream",
     "text": [
      "diag:  {'sigma': OrderedDict([('n_eff', tensor(298.3449)), ('r_hat', tensor(0.9995))]), 'w': OrderedDict([('n_eff', tensor([196.3696, 174.3972, 154.8542, 165.3321, 125.5482])), ('r_hat', tensor([0.9996, 0.9995, 0.9998, 0.9995, 0.9996]))]), 'divergences': {'chain 0': [94, 104, 158, 161, 168, 169, 179, 180, 188, 193, 196, 549, 562, 571, 575, 576, 579, 580, 583, 604, 605, 610, 618, 620, 627, 630, 631, 778, 797, 801, 815, 824, 830, 834, 837, 841, 842, 848, 922, 1027, 1033, 1063, 1128, 1160, 1170, 1173, 1174, 1182, 1215, 1249, 1326, 1372, 1373, 1391, 1393, 1397, 1419, 1420, 1424, 1433, 1444, 1445, 1448]}, 'acceptance rate': {'chain 0': 0.9793333333333333}}\n",
      "Registering the results in:  SX1/2023-11-18/n-5_k-1_m-4_sigma_w-0.1_sigma_p-1_n_samples-1500.yaml\n"
     ]
    },
    {
     "name": "stderr",
     "output_type": "stream",
     "text": [
      "Sample: 100%|████████████████████████████| 2000/2000 [00:48, 40.94it/s, step size=2.81e-01, acc. prob=0.876]\n",
      "Warmup:  10%|██▉                          | 119/1200 [21:37, 10.90s/it, step size=6.34e-02, acc. prob=0.780]\n",
      "Warmup:   4%|█                             | 74/2000 [07:43,  6.26s/it, step size=1.20e-01, acc. prob=0.775]"
     ]
    },
    {
     "name": "stdout",
     "output_type": "stream",
     "text": [
      "diag:  {'sigma': OrderedDict([('n_eff', tensor(1165.0049)), ('r_hat', tensor(0.9994))]), 'w': OrderedDict([('n_eff', tensor([1116.3281, 1205.1903, 1253.9880, 1201.1036, 1276.1962])), ('r_hat', tensor([0.9997, 1.0003, 0.9995, 0.9996, 0.9995]))]), 'divergences': {'chain 0': [43, 65, 277, 355, 374, 398, 539, 611, 630, 634, 635, 636, 637, 642, 859, 877, 1070, 1071, 1147, 1193, 1274, 1292, 1314, 1427, 1430, 1434, 1435, 1437, 1438]}, 'acceptance rate': {'chain 0': 0.9766666666666667}}\n"
     ]
    },
    {
     "name": "stderr",
     "output_type": "stream",
     "text": [
      "\n"
     ]
    },
    {
     "name": "stdout",
     "output_type": "stream",
     "text": [
      "Registering the results in:  SX1/2023-11-18/n-5_k-1_m-4_sigma_w-0.1_sigma_p-0.1_n_samples-1500.yaml\n"
     ]
    },
    {
     "name": "stderr",
     "output_type": "stream",
     "text": [
      "Sample: 100%|████████████████████████████| 2000/2000 [00:21, 93.27it/s, step size=5.05e-01, acc. prob=0.916]\n"
     ]
    },
    {
     "name": "stdout",
     "output_type": "stream",
     "text": [
      "diag:  {'sigma': OrderedDict([('n_eff', tensor(1536.6747)), ('r_hat', tensor(0.9998))]), 'w': OrderedDict([('n_eff', tensor([2404.8042, 1509.4131, 1742.3285, 2298.0100, 1330.2103])), ('r_hat', tensor([0.9994, 0.9994, 0.9994, 0.9994, 0.9994]))]), 'divergences': {'chain 0': [977, 1138, 1252, 1281]}, 'acceptance rate': {'chain 0': 0.9913333333333333}}\n",
      "Registering the results in:  SX1/2023-11-18/n-5_k-1_m-4_sigma_w-0.1_sigma_p-0.01_n_samples-1500.yaml\n"
     ]
    },
    {
     "name": "stderr",
     "output_type": "stream",
     "text": [
      "Sample: 100%|███████████████████████████| 2000/2000 [00:16, 122.58it/s, step size=4.48e-01, acc. prob=0.932]\n"
     ]
    },
    {
     "name": "stdout",
     "output_type": "stream",
     "text": [
      "diag:  {'sigma': OrderedDict([('n_eff', tensor(2038.1770)), ('r_hat', tensor(0.9995))]), 'w': OrderedDict([('n_eff', tensor([1497.0800, 1426.6691, 1859.3019, 1692.6246, 2016.6632])), ('r_hat', tensor([0.9994, 1.0021, 1.0009, 0.9993, 0.9993]))]), 'divergences': {'chain 0': []}, 'acceptance rate': {'chain 0': 0.9973333333333333}}\n",
      "Registering the results in:  SX1/2023-11-18/n-5_k-1_m-4_sigma_w-0.1_sigma_p-10.0_n_samples-1500.yaml\n"
     ]
    },
    {
     "name": "stderr",
     "output_type": "stream",
     "text": [
      "Sample: 100%|████████████████████████████| 2000/2000 [00:32, 62.40it/s, step size=3.76e-01, acc. prob=0.781]\n"
     ]
    },
    {
     "name": "stdout",
     "output_type": "stream",
     "text": [
      "diag:  {'sigma': OrderedDict([('n_eff', tensor(462.5987)), ('r_hat', tensor(1.0006))]), 'w': OrderedDict([('n_eff', tensor([650.1159, 490.5717, 895.2203, 705.9831, 731.8383])), ('r_hat', tensor([1.0053, 1.0009, 0.9994, 1.0035, 0.9995]))]), 'divergences': {'chain 0': [17, 25, 31, 114, 117, 185, 279, 284, 290, 366, 368, 371, 373, 374, 380, 395, 404, 760, 851, 931, 1119, 1146, 1237, 1256, 1297, 1478]}, 'acceptance rate': {'chain 0': 0.932}}\n",
      "Registering the results in:  SX1/2023-11-18/n-5_k-1_m-4_sigma_w-0.01_sigma_p-1_n_samples-1500.yaml\n"
     ]
    },
    {
     "name": "stderr",
     "output_type": "stream",
     "text": [
      "Sample: 100%|███████████████████████████| 2000/2000 [00:19, 102.00it/s, step size=6.59e-01, acc. prob=0.872]\n"
     ]
    },
    {
     "name": "stdout",
     "output_type": "stream",
     "text": [
      "diag:  {'sigma': OrderedDict([('n_eff', tensor(1157.3647)), ('r_hat', tensor(0.9993))]), 'w': OrderedDict([('n_eff', tensor([2002.2737, 1509.0302, 1725.3970, 1876.2689, 1791.1954])), ('r_hat', tensor([1.0008, 0.9998, 0.9993, 0.9995, 0.9995]))]), 'divergences': {'chain 0': [162, 237, 425, 538, 737, 751, 755, 756, 1070]}, 'acceptance rate': {'chain 0': 0.9846666666666667}}\n",
      "Registering the results in:  SX1/2023-11-18/n-5_k-1_m-4_sigma_w-0.01_sigma_p-0.1_n_samples-1500.yaml\n"
     ]
    },
    {
     "name": "stderr",
     "output_type": "stream",
     "text": [
      "Sample: 100%|████████████████████████████| 2000/2000 [00:23, 83.99it/s, step size=6.73e-01, acc. prob=0.867]\n"
     ]
    },
    {
     "name": "stdout",
     "output_type": "stream",
     "text": [
      "diag:  {'sigma': OrderedDict([('n_eff', tensor(1483.5238)), ('r_hat', tensor(0.9996))]), 'w': OrderedDict([('n_eff', tensor([1820.1250, 2046.9706, 1675.5454, 2152.5154, 1846.9569])), ('r_hat', tensor([1.0002, 0.9998, 1.0033, 0.9993, 0.9997]))]), 'divergences': {'chain 0': [45, 1326]}, 'acceptance rate': {'chain 0': 0.986}}\n",
      "Registering the results in:  SX1/2023-11-18/n-5_k-1_m-4_sigma_w-0.01_sigma_p-0.01_n_samples-1500.yaml\n"
     ]
    },
    {
     "name": "stderr",
     "output_type": "stream",
     "text": [
      "Sample: 100%|████████████████████████████| 2000/2000 [00:22, 87.37it/s, step size=6.33e-01, acc. prob=0.888]\n"
     ]
    },
    {
     "name": "stdout",
     "output_type": "stream",
     "text": [
      "diag:  {'sigma': OrderedDict([('n_eff', tensor(1703.1221)), ('r_hat', tensor(0.9998))]), 'w': OrderedDict([('n_eff', tensor([1600.9160, 1680.9602, 2045.9512, 2181.3738, 1844.3488])), ('r_hat', tensor([1.0000, 1.0020, 1.0006, 1.0004, 0.9993]))]), 'divergences': {'chain 0': []}, 'acceptance rate': {'chain 0': 0.9886666666666667}}\n",
      "Registering the results in:  SX1/2023-11-18/n-5_k-1_m-4_sigma_w-0.01_sigma_p-10.0_n_samples-1500.yaml\n"
     ]
    },
    {
     "name": "stderr",
     "output_type": "stream",
     "text": [
      "Sample: 100%|████████████████████████████| 2000/2000 [00:25, 78.94it/s, step size=4.15e-01, acc. prob=0.836]\n"
     ]
    },
    {
     "name": "stdout",
     "output_type": "stream",
     "text": [
      "diag:  {'sigma': OrderedDict([('n_eff', tensor(753.7969)), ('r_hat', tensor(0.9994))]), 'w': OrderedDict([('n_eff', tensor([1315.8163,  916.0854, 1268.1652, 1059.1525,  821.2821])), ('r_hat', tensor([0.9995, 0.9993, 0.9993, 1.0000, 0.9994]))]), 'divergences': {'chain 0': [67, 68, 70, 72, 164, 166, 171, 210, 291, 292, 321, 327, 329, 330, 410, 414, 417, 418, 446, 483, 532, 715, 777, 965, 967, 1068, 1137, 1158, 1182, 1215, 1236, 1263, 1290, 1292, 1294, 1455, 1466, 1467]}, 'acceptance rate': {'chain 0': 0.966}}\n",
      "Registering the results in:  SX1/2023-11-18/n-5_k-1_m-4_sigma_w-10.0_sigma_p-1_n_samples-1500.yaml\n"
     ]
    },
    {
     "name": "stderr",
     "output_type": "stream",
     "text": [
      "Sample: 100%|████████████████████████████| 2000/2000 [01:58, 16.84it/s, step size=7.01e-02, acc. prob=0.889]\n"
     ]
    },
    {
     "name": "stdout",
     "output_type": "stream",
     "text": [
      "diag:  {'sigma': OrderedDict([('n_eff', tensor(1161.3025)), ('r_hat', tensor(1.0051))]), 'w': OrderedDict([('n_eff', tensor([445.7787, 323.6937, 442.5194, 352.5731, 450.8052])), ('r_hat', tensor([0.9994, 1.0003, 0.9995, 1.0023, 1.0024]))]), 'divergences': {'chain 0': [17, 65, 140, 201, 204, 205, 206, 346, 430, 432, 541, 711, 844, 974, 975, 976, 1036, 1285]}, 'acceptance rate': {'chain 0': 0.994}}\n",
      "Registering the results in:  SX1/2023-11-18/n-5_k-1_m-4_sigma_w-10.0_sigma_p-0.1_n_samples-1500.yaml\n"
     ]
    },
    {
     "name": "stderr",
     "output_type": "stream",
     "text": [
      "Sample: 100%|████████████████████████████| 2000/2000 [00:33, 59.76it/s, step size=2.65e-01, acc. prob=0.839]\n"
     ]
    },
    {
     "name": "stdout",
     "output_type": "stream",
     "text": [
      "diag:  {'sigma': OrderedDict([('n_eff', tensor(449.7996)), ('r_hat', tensor(1.0166))]), 'w': OrderedDict([('n_eff', tensor([ 784.1031, 1041.7596,  715.7456,  641.2867, 1000.1432])), ('r_hat', tensor([0.9995, 1.0024, 1.0004, 1.0059, 0.9994]))]), 'divergences': {'chain 0': [57, 418, 434, 472, 478, 576, 637, 646, 649, 653, 659, 661, 663, 667, 670, 672, 674, 675, 763, 1055, 1143, 1153, 1157, 1185, 1331, 1418, 1437, 1443, 1447, 1454, 1455, 1466, 1469, 1479]}, 'acceptance rate': {'chain 0': 0.982}}\n",
      "Registering the results in:  SX1/2023-11-18/n-5_k-1_m-4_sigma_w-10.0_sigma_p-0.01_n_samples-1500.yaml\n"
     ]
    },
    {
     "name": "stderr",
     "output_type": "stream",
     "text": [
      "Sample: 100%|████████████████████████████| 2000/2000 [00:23, 85.21it/s, step size=5.59e-01, acc. prob=0.833]\n"
     ]
    },
    {
     "name": "stdout",
     "output_type": "stream",
     "text": [
      "diag:  {'sigma': OrderedDict([('n_eff', tensor(1152.7123)), ('r_hat', tensor(1.0031))]), 'w': OrderedDict([('n_eff', tensor([1522.8386,  882.4255, 1596.8505, 1219.8993, 1129.9938])), ('r_hat', tensor([0.9993, 1.0005, 1.0021, 0.9999, 0.9996]))]), 'divergences': {'chain 0': [6, 35, 176, 192, 202, 207, 286, 415, 417, 459, 460, 462, 463, 468, 469, 472, 477, 479, 496, 552, 647, 687, 749, 750, 884, 991, 992]}, 'acceptance rate': {'chain 0': 0.9533333333333334}}\n",
      "Registering the results in:  SX1/2023-11-18/n-5_k-1_m-4_sigma_w-10.0_sigma_p-10.0_n_samples-1500.yaml\n"
     ]
    },
    {
     "name": "stderr",
     "output_type": "stream",
     "text": [
      "Sample: 100%|████████████████████████████| 2000/2000 [06:05,  5.47it/s, step size=1.73e-02, acc. prob=0.808]\n"
     ]
    },
    {
     "name": "stdout",
     "output_type": "stream",
     "text": [
      "diag:  {'sigma': OrderedDict([('n_eff', tensor(405.6350)), ('r_hat', tensor(0.9996))]), 'w': OrderedDict([('n_eff', tensor([155.8949, 224.7377, 164.1300, 364.6686, 154.1675])), ('r_hat', tensor([1.0085, 1.0094, 1.0022, 0.9993, 1.0020]))]), 'divergences': {'chain 0': [34, 36, 45, 82, 125, 141, 143, 149, 205, 226, 246, 373, 578, 580, 583, 652, 661, 748, 840, 882, 956, 958, 965, 970, 1042, 1057, 1130, 1306, 1332, 1380, 1451, 1476]}, 'acceptance rate': {'chain 0': 0.998}}\n",
      "Registering the results in:  SX1/2023-11-18/n-5_k-2_m-4_sigma_w-1_sigma_p-1_n_samples-1500.yaml\n"
     ]
    },
    {
     "name": "stderr",
     "output_type": "stream",
     "text": [
      "Sample: 100%|████████████████████████████| 2000/2000 [00:46, 43.39it/s, step size=1.89e-01, acc. prob=0.717]\n"
     ]
    },
    {
     "name": "stdout",
     "output_type": "stream",
     "text": [
      "diag:  {'sigma': OrderedDict([('n_eff', tensor(372.4684)), ('r_hat', tensor(1.0005))]), 'w': OrderedDict([('n_eff', tensor([859.3405, 510.5971, 564.9728, 453.5588, 275.9624, 455.7891, 657.5893,\n",
      "        660.2144, 771.7184, 332.6156, 632.5106, 464.1266, 700.5731, 548.9326,\n",
      "        284.4074])), ('r_hat', tensor([1.0006, 1.0054, 1.0058, 0.9994, 1.0017, 1.0071, 1.0040, 1.0056, 0.9996,\n",
      "        1.0017, 0.9999, 0.9997, 0.9994, 0.9993, 1.0054]))]), 'divergences': {'chain 0': [4, 56, 57, 99, 118, 179, 251, 256, 257, 261, 263, 266, 273, 276, 289, 293, 294, 298, 301, 303, 306, 307, 311, 312, 313, 314, 315, 321, 322, 418, 419, 487, 496, 498, 502, 504, 533, 534, 536, 538, 543, 545, 546, 552, 554, 557, 562, 563, 565, 567, 812, 846, 863, 874, 924, 943, 945, 946, 948, 955, 1089, 1142, 1189, 1212, 1289, 1290, 1382, 1384, 1387, 1390]}, 'acceptance rate': {'chain 0': 0.964}}\n",
      "Registering the results in:  SX1/2023-11-18/n-5_k-2_m-4_sigma_w-1_sigma_p-0.1_n_samples-1500.yaml\n"
     ]
    },
    {
     "name": "stderr",
     "output_type": "stream",
     "text": [
      "Sample: 100%|████████████████████████████| 2000/2000 [00:36, 54.14it/s, step size=2.21e-01, acc. prob=0.927]\n"
     ]
    },
    {
     "name": "stdout",
     "output_type": "stream",
     "text": [
      "diag:  {'sigma': OrderedDict([('n_eff', tensor(1283.4713)), ('r_hat', tensor(0.9993))]), 'w': OrderedDict([('n_eff', tensor([2086.1836, 1631.3555, 1275.4580, 1005.2181, 1065.1675, 1283.7280,\n",
      "        1017.7471, 1764.1091, 1162.3871, 1435.5605, 1936.8632, 1987.5725,\n",
      "        1823.9131, 1681.1274, 1236.6647])), ('r_hat', tensor([0.9994, 1.0019, 1.0008, 0.9998, 0.9995, 1.0010, 1.0041, 1.0000, 0.9994,\n",
      "        0.9998, 0.9993, 0.9998, 0.9999, 0.9995, 0.9997]))]), 'divergences': {'chain 0': [7, 222, 223, 448, 662, 814, 832, 835, 836, 1380, 1381]}, 'acceptance rate': {'chain 0': 0.998}}\n",
      "Registering the results in:  SX1/2023-11-18/n-5_k-2_m-4_sigma_w-1_sigma_p-0.01_n_samples-1500.yaml\n"
     ]
    },
    {
     "name": "stderr",
     "output_type": "stream",
     "text": [
      "Sample: 100%|███████████████████████████| 2000/2000 [00:16, 120.02it/s, step size=4.81e-01, acc. prob=0.881]\n"
     ]
    },
    {
     "name": "stdout",
     "output_type": "stream",
     "text": [
      "diag:  {'sigma': OrderedDict([('n_eff', tensor(1501.3137)), ('r_hat', tensor(0.9998))]), 'w': OrderedDict([('n_eff', tensor([1523.5886, 2572.4602, 1805.0449, 1921.0060, 2409.4214, 1693.7137,\n",
      "        1810.9469, 1580.9537, 3311.3762, 1335.5077, 3013.1096, 2058.9602,\n",
      "        1354.2659, 1570.0049, 2365.0063])), ('r_hat', tensor([0.9996, 0.9993, 0.9993, 1.0005, 0.9993, 0.9993, 0.9998, 0.9998, 0.9994,\n",
      "        1.0000, 0.9994, 1.0001, 0.9999, 0.9994, 0.9995]))]), 'divergences': {'chain 0': [116, 298, 569, 959, 1127, 1128, 1328]}, 'acceptance rate': {'chain 0': 0.9866666666666667}}\n",
      "Registering the results in:  SX1/2023-11-18/n-5_k-2_m-4_sigma_w-1_sigma_p-10.0_n_samples-1500.yaml\n"
     ]
    },
    {
     "name": "stderr",
     "output_type": "stream",
     "text": [
      "Sample: 100%|████████████████████████████| 2000/2000 [04:42,  7.07it/s, step size=3.36e-02, acc. prob=0.802]\n"
     ]
    },
    {
     "name": "stdout",
     "output_type": "stream",
     "text": [
      "diag:  {'sigma': OrderedDict([('n_eff', tensor(644.0535)), ('r_hat', tensor(0.9998))]), 'w': OrderedDict([('n_eff', tensor([ 657.9238, 1003.6830,  776.7612,  666.3002,  739.7470, 1040.1499,\n",
      "        1001.9586,  606.7113,  563.1434,  568.1368,  460.4950,  365.1848,\n",
      "         535.9526,  978.8686,  536.8965])), ('r_hat', tensor([1.0080, 1.0001, 1.0055, 0.9999, 0.9993, 0.9993, 1.0003, 1.0079, 1.0034,\n",
      "        0.9995, 0.9995, 1.0059, 1.0007, 0.9994, 1.0026]))]), 'divergences': {'chain 0': [10, 72, 94, 118, 131, 157, 462, 463, 466, 467, 469, 471, 476, 484, 511, 603, 608, 609, 615, 634, 653, 654, 660, 661, 662, 665, 666, 667, 683, 722, 725, 777, 778, 780, 784, 785, 789, 791, 793, 796, 798, 799, 801, 802, 803, 813, 820, 870, 1024, 1077, 1084, 1104, 1213, 1217, 1219, 1220, 1225, 1231, 1232, 1233, 1235, 1237, 1238, 1307, 1395, 1408, 1435, 1440, 1444]}, 'acceptance rate': {'chain 0': 0.9986666666666667}}\n",
      "Registering the results in:  SX1/2023-11-18/n-5_k-2_m-4_sigma_w-0.1_sigma_p-1_n_samples-1500.yaml\n"
     ]
    },
    {
     "name": "stderr",
     "output_type": "stream",
     "text": [
      "Sample: 100%|████████████████████████████| 2000/2000 [00:30, 65.57it/s, step size=3.00e-01, acc. prob=0.878]\n"
     ]
    },
    {
     "name": "stdout",
     "output_type": "stream",
     "text": [
      "diag:  {'sigma': OrderedDict([('n_eff', tensor(800.6017)), ('r_hat', tensor(1.0001))]), 'w': OrderedDict([('n_eff', tensor([1877.4346, 1946.5884, 1692.5316, 1692.6384, 1433.4235, 2116.6121,\n",
      "        1957.4156, 1657.9193, 2375.7629, 2267.2725, 2038.3228, 1796.7208,\n",
      "        2457.0605, 2237.3787, 2783.7349])), ('r_hat', tensor([1.0000, 1.0007, 0.9993, 0.9994, 0.9994, 0.9998, 0.9994, 0.9997, 0.9993,\n",
      "        1.0015, 1.0000, 0.9994, 0.9993, 0.9994, 0.9996]))]), 'divergences': {'chain 0': [60, 262, 267, 270, 292, 356, 360, 363, 459, 589, 620, 944, 985, 988, 1171, 1172, 1235, 1352, 1388, 1406, 1443]}, 'acceptance rate': {'chain 0': 0.9813333333333333}}\n",
      "Registering the results in:  SX1/2023-11-18/n-5_k-2_m-4_sigma_w-0.1_sigma_p-0.1_n_samples-1500.yaml\n"
     ]
    },
    {
     "name": "stderr",
     "output_type": "stream",
     "text": [
      "Sample: 100%|███████████████████████████| 2000/2000 [00:19, 104.14it/s, step size=4.68e-01, acc. prob=0.892]\n"
     ]
    },
    {
     "name": "stdout",
     "output_type": "stream",
     "text": [
      "diag:  {'sigma': OrderedDict([('n_eff', tensor(1574.3405)), ('r_hat', tensor(0.9995))]), 'w': OrderedDict([('n_eff', tensor([2161.8391, 2043.2855, 2138.5728, 2591.3479, 2540.8728, 2869.5923,\n",
      "        2538.3328, 1616.4388, 1566.4628, 1934.1412, 2191.9590, 1975.7720,\n",
      "        2556.4268, 1800.8561, 1977.1893])), ('r_hat', tensor([0.9997, 0.9997, 1.0002, 0.9997, 0.9997, 0.9996, 0.9994, 1.0001, 1.0025,\n",
      "        0.9997, 1.0001, 0.9994, 0.9994, 0.9994, 0.9994]))]), 'divergences': {'chain 0': [93, 138, 747, 825, 827, 828, 856, 1010, 1083, 1233, 1267]}, 'acceptance rate': {'chain 0': 0.9946666666666667}}\n",
      "Registering the results in:  SX1/2023-11-18/n-5_k-2_m-4_sigma_w-0.1_sigma_p-0.01_n_samples-1500.yaml\n"
     ]
    },
    {
     "name": "stderr",
     "output_type": "stream",
     "text": [
      "Sample: 100%|███████████████████████████| 2000/2000 [00:18, 106.40it/s, step size=5.72e-01, acc. prob=0.892]\n"
     ]
    },
    {
     "name": "stdout",
     "output_type": "stream",
     "text": [
      "diag:  {'sigma': OrderedDict([('n_eff', tensor(2106.6755)), ('r_hat', tensor(0.9996))]), 'w': OrderedDict([('n_eff', tensor([3848.2847, 4063.3452, 2850.4209, 2764.9666, 3196.7651, 2661.9856,\n",
      "        2422.7927, 3281.4116, 2741.2727, 3484.7239, 2464.6113, 3226.8716,\n",
      "        2489.5466, 2593.4861, 3584.5566])), ('r_hat', tensor([0.9995, 0.9994, 1.0000, 0.9995, 0.9994, 0.9996, 0.9997, 1.0001, 0.9993,\n",
      "        0.9999, 0.9999, 0.9994, 0.9997, 0.9996, 0.9994]))]), 'divergences': {'chain 0': []}, 'acceptance rate': {'chain 0': 0.9993333333333333}}\n",
      "Registering the results in:  SX1/2023-11-18/n-5_k-2_m-4_sigma_w-0.1_sigma_p-10.0_n_samples-1500.yaml\n"
     ]
    },
    {
     "name": "stderr",
     "output_type": "stream",
     "text": [
      "Sample: 100%|████████████████████████████| 2000/2000 [00:48, 41.05it/s, step size=2.02e-01, acc. prob=0.759]\n"
     ]
    },
    {
     "name": "stdout",
     "output_type": "stream",
     "text": [
      "diag:  {'sigma': OrderedDict([('n_eff', tensor(558.7070)), ('r_hat', tensor(1.0003))]), 'w': OrderedDict([('n_eff', tensor([612.1550, 854.9092, 703.2088, 649.8090, 586.5959, 677.1000, 559.0241,\n",
      "        553.9213, 914.3397, 736.7253, 596.0300, 906.1684, 655.6984, 596.7040,\n",
      "        797.4955])), ('r_hat', tensor([0.9994, 1.0021, 1.0013, 1.0026, 1.0003, 0.9996, 1.0004, 1.0003, 0.9994,\n",
      "        0.9993, 1.0020, 1.0007, 1.0033, 1.0034, 0.9997]))]), 'divergences': {'chain 0': [40, 145, 147, 170, 357, 429, 430, 431, 434, 435, 437, 440, 442, 448, 450, 451, 452, 551, 565, 566, 573, 657, 663, 705, 727, 733, 765, 810, 812, 823, 827, 829, 830, 831, 835, 1013, 1100, 1106, 1116, 1151, 1152, 1154, 1157, 1164, 1165, 1166, 1195, 1473]}, 'acceptance rate': {'chain 0': 0.978}}\n",
      "Registering the results in:  SX1/2023-11-18/n-5_k-2_m-4_sigma_w-0.01_sigma_p-1_n_samples-1500.yaml\n"
     ]
    },
    {
     "name": "stderr",
     "output_type": "stream",
     "text": [
      "Sample: 100%|███████████████████████████| 2000/2000 [00:18, 110.59it/s, step size=4.18e-01, acc. prob=0.918]\n"
     ]
    },
    {
     "name": "stdout",
     "output_type": "stream",
     "text": [
      "diag:  {'sigma': OrderedDict([('n_eff', tensor(1539.5583)), ('r_hat', tensor(1.0012))]), 'w': OrderedDict([('n_eff', tensor([1983.9008, 1530.7476, 2705.7612, 1625.0231, 1996.2623, 2519.6326,\n",
      "        2323.4700, 2306.5898, 1964.8541, 2109.3611, 1660.8794, 1727.4399,\n",
      "        2028.6537, 2222.6909, 1478.3279])), ('r_hat', tensor([1.0015, 0.9994, 0.9997, 1.0021, 0.9997, 1.0001, 0.9993, 0.9994, 0.9994,\n",
      "        0.9997, 0.9996, 0.9993, 0.9994, 1.0002, 1.0007]))]), 'divergences': {'chain 0': [804, 948, 989, 1485]}, 'acceptance rate': {'chain 0': 0.9966666666666667}}\n",
      "Registering the results in:  SX1/2023-11-18/n-5_k-2_m-4_sigma_w-0.01_sigma_p-0.1_n_samples-1500.yaml\n"
     ]
    },
    {
     "name": "stderr",
     "output_type": "stream",
     "text": [
      "Sample: 100%|████████████████████████████| 2000/2000 [00:20, 97.61it/s, step size=3.78e-01, acc. prob=0.921]\n"
     ]
    },
    {
     "name": "stdout",
     "output_type": "stream",
     "text": [
      "diag:  {'sigma': OrderedDict([('n_eff', tensor(2225.5901)), ('r_hat', tensor(0.9997))]), 'w': OrderedDict([('n_eff', tensor([1681.7938, 1267.8219, 1638.6940, 1378.2759, 1281.6562, 1798.5560,\n",
      "        1553.4897, 1804.4100, 2337.9561, 1404.0112, 1170.1101, 1737.6775,\n",
      "        1639.3287, 1277.6306, 2050.2134])), ('r_hat', tensor([0.9996, 0.9993, 1.0000, 1.0005, 1.0020, 0.9993, 0.9994, 0.9993, 0.9993,\n",
      "        1.0003, 1.0016, 0.9994, 1.0005, 1.0000, 0.9995]))]), 'divergences': {'chain 0': [100, 871, 1163]}, 'acceptance rate': {'chain 0': 0.9973333333333333}}\n",
      "Registering the results in:  SX1/2023-11-18/n-5_k-2_m-4_sigma_w-0.01_sigma_p-0.01_n_samples-1500.yaml\n"
     ]
    },
    {
     "name": "stderr",
     "output_type": "stream",
     "text": [
      "Sample: 100%|███████████████████████████| 2000/2000 [00:17, 116.56it/s, step size=6.24e-01, acc. prob=0.846]\n"
     ]
    },
    {
     "name": "stdout",
     "output_type": "stream",
     "text": [
      "diag:  {'sigma': OrderedDict([('n_eff', tensor(2755.7825)), ('r_hat', tensor(0.9996))]), 'w': OrderedDict([('n_eff', tensor([4194.6787, 3415.6130, 3671.8740, 2813.3435, 3293.4709, 2890.4260,\n",
      "        2989.5176, 3068.8167, 3599.4875, 3139.2549, 2813.6602, 2932.8821,\n",
      "        3351.5942, 5507.3521, 3123.2959])), ('r_hat', tensor([0.9994, 0.9994, 0.9994, 0.9995, 0.9993, 0.9994, 0.9997, 1.0001, 1.0003,\n",
      "        0.9998, 1.0004, 0.9993, 0.9995, 0.9996, 0.9993]))]), 'divergences': {'chain 0': []}, 'acceptance rate': {'chain 0': 0.9926666666666667}}\n",
      "Registering the results in:  SX1/2023-11-18/n-5_k-2_m-4_sigma_w-0.01_sigma_p-10.0_n_samples-1500.yaml\n"
     ]
    },
    {
     "name": "stderr",
     "output_type": "stream",
     "text": [
      "Sample: 100%|████████████████████████████| 2000/2000 [00:26, 75.58it/s, step size=3.59e-01, acc. prob=0.802]\n"
     ]
    },
    {
     "name": "stdout",
     "output_type": "stream",
     "text": [
      "diag:  {'sigma': OrderedDict([('n_eff', tensor(793.1071)), ('r_hat', tensor(0.9996))]), 'w': OrderedDict([('n_eff', tensor([1154.7126, 1423.9760, 1197.6058, 1200.2762,  978.8320, 1071.6965,\n",
      "         996.7683,  978.0087, 1164.3411,  849.9838,  975.8991, 1198.1494,\n",
      "        1493.9729, 1037.3347, 1142.8873])), ('r_hat', tensor([1.0010, 0.9999, 1.0020, 0.9993, 0.9999, 0.9994, 1.0003, 1.0003, 1.0013,\n",
      "        1.0059, 0.9995, 1.0002, 0.9995, 0.9994, 0.9995]))]), 'divergences': {'chain 0': [20, 63, 73, 79, 104, 175, 176, 180, 186, 215, 321, 331, 344, 415, 495, 507, 512, 552, 597, 683, 700, 707, 721, 766, 768, 815, 817, 818, 868, 1101, 1133, 1279, 1324, 1341, 1343, 1345, 1416, 1469]}, 'acceptance rate': {'chain 0': 0.9613333333333334}}\n",
      "Registering the results in:  SX1/2023-11-18/n-5_k-2_m-4_sigma_w-10.0_sigma_p-1_n_samples-1500.yaml\n"
     ]
    },
    {
     "name": "stderr",
     "output_type": "stream",
     "text": [
      "Sample: 100%|████████████████████████████| 2000/2000 [03:08, 10.63it/s, step size=5.10e-02, acc. prob=0.764]\n"
     ]
    },
    {
     "name": "stdout",
     "output_type": "stream",
     "text": [
      "diag:  {'sigma': OrderedDict([('n_eff', tensor(489.8279)), ('r_hat', tensor(0.9994))]), 'w': OrderedDict([('n_eff', tensor([ 424.0580,  670.5716,  576.0659,  834.6147,  547.1591,  497.4130,\n",
      "         467.7589,  365.9149, 1055.5641,  570.7693,  599.2961,  553.7560,\n",
      "         400.3892,  530.8633,  796.7996])), ('r_hat', tensor([1.0088, 1.0006, 1.0024, 1.0026, 0.9999, 0.9998, 1.0006, 1.0015, 0.9995,\n",
      "        1.0036, 0.9997, 0.9997, 1.0145, 0.9998, 0.9995]))]), 'divergences': {'chain 0': [1, 31, 154, 156, 158, 180, 377, 496, 517, 522, 530, 533, 535, 538, 540, 541, 542, 552, 560, 566, 666, 669, 714, 730, 740, 770, 773, 774, 785, 833, 852, 854, 855, 856, 865, 869, 947, 948, 954, 1040, 1042, 1044, 1047, 1054, 1067, 1080, 1099, 1103, 1104, 1106, 1113, 1121, 1129, 1131, 1134, 1150, 1296, 1299, 1347, 1373, 1384, 1386, 1390, 1425, 1428, 1454]}, 'acceptance rate': {'chain 0': 0.996}}\n",
      "Registering the results in:  SX1/2023-11-18/n-5_k-2_m-4_sigma_w-10.0_sigma_p-0.1_n_samples-1500.yaml\n"
     ]
    },
    {
     "name": "stderr",
     "output_type": "stream",
     "text": [
      "Sample: 100%|████████████████████████████| 2000/2000 [00:49, 40.59it/s, step size=2.10e-01, acc. prob=0.829]\n"
     ]
    },
    {
     "name": "stdout",
     "output_type": "stream",
     "text": [
      "diag:  {'sigma': OrderedDict([('n_eff', tensor(1049.6807)), ('r_hat', tensor(1.0001))]), 'w': OrderedDict([('n_eff', tensor([ 702.1335, 1217.0377,  837.6376, 1237.5428, 1201.3760, 1301.0325,\n",
      "         837.8002,  887.8880,  692.5925, 1282.6327,  910.5652,  843.5082,\n",
      "        1181.5840,  781.0720,  975.6763])), ('r_hat', tensor([0.9994, 0.9998, 0.9995, 0.9996, 0.9996, 0.9996, 0.9994, 1.0001, 0.9993,\n",
      "        0.9998, 0.9995, 1.0000, 1.0019, 0.9999, 0.9994]))]), 'divergences': {'chain 0': [81, 96, 100, 225, 313, 446, 672, 850, 853, 893, 915, 926, 927, 930, 1053, 1090, 1247, 1291, 1424, 1440]}, 'acceptance rate': {'chain 0': 0.9846666666666667}}\n",
      "Registering the results in:  SX1/2023-11-18/n-5_k-2_m-4_sigma_w-10.0_sigma_p-0.01_n_samples-1500.yaml\n"
     ]
    },
    {
     "name": "stderr",
     "output_type": "stream",
     "text": [
      "Sample: 100%|████████████████████████████| 2000/2000 [00:30, 65.04it/s, step size=3.96e-01, acc. prob=0.782]\n"
     ]
    },
    {
     "name": "stdout",
     "output_type": "stream",
     "text": [
      "diag:  {'sigma': OrderedDict([('n_eff', tensor(656.1917)), ('r_hat', tensor(0.9994))]), 'w': OrderedDict([('n_eff', tensor([ 733.6885, 1120.6742,  774.5565, 1339.6721, 1125.5956, 1026.6742,\n",
      "         462.8588,  844.9200, 1059.4149,  627.3074, 1128.7629,  820.2537,\n",
      "        1529.3389,  918.3757,  881.6891])), ('r_hat', tensor([1.0009, 0.9993, 1.0029, 0.9997, 1.0010, 0.9996, 1.0022, 0.9995, 0.9994,\n",
      "        1.0030, 1.0025, 0.9997, 1.0008, 1.0064, 1.0008]))]), 'divergences': {'chain 0': [0, 43, 51, 52, 82, 86, 89, 91, 102, 123, 149, 152, 212, 271, 275, 376, 412, 415, 416, 438, 493, 500, 524, 550, 558, 680, 681, 682, 725, 730, 731, 732, 751, 753, 799, 864, 869, 870, 871, 873, 896, 900, 906, 1008, 1009, 1010, 1011, 1012, 1016, 1018, 1044, 1082, 1103, 1108, 1137, 1226, 1227, 1246, 1260, 1261, 1279, 1293, 1318, 1385, 1393, 1399, 1400, 1402, 1444, 1474, 1490, 1497]}, 'acceptance rate': {'chain 0': 0.9626666666666667}}\n",
      "Registering the results in:  SX1/2023-11-18/n-5_k-2_m-4_sigma_w-10.0_sigma_p-10.0_n_samples-1500.yaml\n"
     ]
    },
    {
     "name": "stderr",
     "output_type": "stream",
     "text": [
      "Sample: 100%|████████████████████████████| 2000/2000 [30:59,  1.08it/s, step size=1.79e-03, acc. prob=0.942]\n"
     ]
    },
    {
     "name": "stdout",
     "output_type": "stream",
     "text": [
      "diag:  {'sigma': OrderedDict([('n_eff', tensor(317.0568)), ('r_hat', tensor(1.0046))]), 'w': OrderedDict([('n_eff', tensor([266.2749, 213.4671, 281.6671, 138.6650, 266.1972, 301.9099, 274.5283,\n",
      "        282.9590, 245.9549, 276.1872, 261.7188, 198.4357, 249.3350, 216.7922,\n",
      "        152.0878])), ('r_hat', tensor([0.9996, 0.9994, 0.9996, 1.0096, 1.0119, 1.0120, 0.9994, 1.0030, 1.0006,\n",
      "        0.9993, 0.9995, 0.9998, 1.0039, 1.0004, 1.0201]))]), 'divergences': {'chain 0': [140, 366, 380, 381, 383, 391, 401, 403, 1404]}, 'acceptance rate': {'chain 0': 1.0}}\n",
      "Registering the results in:  SX1/2023-11-18/n-5_k-3_m-4_sigma_w-1_sigma_p-1_n_samples-1500.yaml\n"
     ]
    },
    {
     "name": "stderr",
     "output_type": "stream",
     "text": [
      "Sample: 100%|████████████████████████████| 2000/2000 [01:13, 27.31it/s, step size=1.46e-01, acc. prob=0.829]\n"
     ]
    },
    {
     "name": "stdout",
     "output_type": "stream",
     "text": [
      "diag:  {'sigma': OrderedDict([('n_eff', tensor(800.8854)), ('r_hat', tensor(1.0032))]), 'w': OrderedDict([('n_eff', tensor([1481.3502, 1448.6869, 1639.8672, 1036.9921, 1507.8169, 1111.6660,\n",
      "        1256.6941, 1978.2104, 1756.0645, 1240.4702, 1258.4001, 1240.8971,\n",
      "        1148.3892, 1246.8523, 1040.1700, 1376.9863, 1505.0851, 1457.3046,\n",
      "        1501.7811,  953.4987, 1690.7881, 1215.2655, 1465.7021, 1280.2141,\n",
      "        1405.0902])), ('r_hat', tensor([1.0001, 0.9999, 0.9997, 1.0010, 0.9996, 0.9994, 0.9993, 0.9999, 0.9995,\n",
      "        0.9996, 0.9993, 1.0049, 1.0002, 0.9998, 0.9994, 0.9994, 0.9996, 0.9996,\n",
      "        0.9999, 1.0001, 0.9995, 0.9993, 0.9994, 0.9996, 0.9996]))]), 'divergences': {'chain 0': [7, 9, 84, 85, 252, 337, 492, 498, 500, 501, 560, 564, 599, 609, 659, 686, 755, 812, 961, 1411, 1446, 1468, 1492]}, 'acceptance rate': {'chain 0': 0.994}}\n",
      "Registering the results in:  SX1/2023-11-18/n-5_k-3_m-4_sigma_w-1_sigma_p-0.1_n_samples-1500.yaml\n"
     ]
    },
    {
     "name": "stderr",
     "output_type": "stream",
     "text": [
      "Sample: 100%|████████████████████████████| 2000/2000 [00:31, 62.63it/s, step size=3.90e-01, acc. prob=0.813]\n"
     ]
    },
    {
     "name": "stdout",
     "output_type": "stream",
     "text": [
      "diag:  {'sigma': OrderedDict([('n_eff', tensor(1290.4164)), ('r_hat', tensor(1.0028))]), 'w': OrderedDict([('n_eff', tensor([1872.2488, 1640.5104, 1671.7225, 1349.3726, 1755.0551, 1381.4991,\n",
      "        1377.4222, 1350.3433, 1816.8779,  967.9003, 1085.9171, 1485.1503,\n",
      "        1163.9540, 1610.5779, 1916.6230, 1801.3698, 1734.8831, 1275.9115,\n",
      "        1523.6086, 1687.8204, 1728.8057, 1434.7798, 1761.5184, 1997.0717,\n",
      "        1633.5886])), ('r_hat', tensor([1.0015, 1.0007, 1.0008, 0.9995, 0.9998, 0.9993, 1.0029, 1.0001, 0.9993,\n",
      "        1.0009, 0.9994, 0.9997, 1.0033, 0.9994, 1.0004, 0.9996, 1.0009, 0.9996,\n",
      "        1.0001, 0.9993, 0.9994, 0.9995, 0.9993, 0.9996, 0.9993]))]), 'divergences': {'chain 0': [1, 23, 116, 119, 182, 249, 296, 311, 338, 383, 450, 484, 521, 549, 584, 596, 671, 685, 697, 702, 764, 784, 836, 837, 838, 839, 841, 848, 849, 850, 851, 852, 855, 857, 858, 862, 865, 866, 871, 917, 937, 986, 988, 993, 1017, 1038, 1044, 1049, 1060, 1081, 1106, 1107, 1115, 1170, 1186, 1263, 1290, 1317, 1358, 1371, 1372, 1375, 1423, 1458]}, 'acceptance rate': {'chain 0': 0.97}}\n",
      "Registering the results in:  SX1/2023-11-18/n-5_k-3_m-4_sigma_w-1_sigma_p-0.01_n_samples-1500.yaml\n"
     ]
    },
    {
     "name": "stderr",
     "output_type": "stream",
     "text": [
      "Sample: 100%|███████████████████████████| 2000/2000 [00:19, 102.90it/s, step size=5.30e-01, acc. prob=0.854]\n"
     ]
    },
    {
     "name": "stdout",
     "output_type": "stream",
     "text": [
      "diag:  {'sigma': OrderedDict([('n_eff', tensor(1986.8063)), ('r_hat', tensor(0.9995))]), 'w': OrderedDict([('n_eff', tensor([2439.5288, 1824.6106, 2028.3070, 2253.6895, 2494.4529, 2526.5376,\n",
      "        2128.8496, 3095.5334, 2095.6550, 2748.1138, 2995.9475, 1835.7303,\n",
      "        2676.0496, 2373.7346, 2835.3335, 2405.5601, 2753.9158, 2180.0239,\n",
      "        2089.5752, 2552.6196, 2387.4617, 2645.0698, 3014.2805, 1967.0741,\n",
      "        2935.9856])), ('r_hat', tensor([0.9994, 0.9995, 0.9995, 0.9996, 0.9994, 0.9999, 0.9996, 0.9994, 0.9996,\n",
      "        0.9994, 1.0001, 0.9993, 0.9994, 1.0003, 0.9994, 1.0001, 0.9993, 0.9993,\n",
      "        0.9995, 0.9995, 1.0018, 0.9995, 0.9993, 0.9994, 0.9993]))]), 'divergences': {'chain 0': [66, 194, 270, 272, 275, 334, 779, 955, 1422, 1458]}, 'acceptance rate': {'chain 0': 0.988}}\n",
      "Registering the results in:  SX1/2023-11-18/n-5_k-3_m-4_sigma_w-1_sigma_p-10.0_n_samples-1500.yaml\n"
     ]
    },
    {
     "name": "stderr",
     "output_type": "stream",
     "text": [
      "Sample: 100%|████████████████████████████| 2000/2000 [04:07,  8.08it/s, step size=4.54e-02, acc. prob=0.691]\n"
     ]
    },
    {
     "name": "stdout",
     "output_type": "stream",
     "text": [
      "diag:  {'sigma': OrderedDict([('n_eff', tensor(620.7563)), ('r_hat', tensor(0.9995))]), 'w': OrderedDict([('n_eff', tensor([831.6257, 691.2066, 484.3574, 951.1575, 707.7685, 733.7343, 509.6697,\n",
      "        769.9574, 807.8397, 912.9399, 672.5103, 947.5773, 396.9987, 750.6852,\n",
      "        776.9929, 802.1177, 856.2974, 535.1341, 697.5394, 626.9833, 517.1058,\n",
      "        549.7280, 558.9951, 678.8409, 554.1534])), ('r_hat', tensor([1.0034, 1.0003, 1.0046, 1.0017, 1.0025, 1.0020, 1.0038, 1.0024, 0.9998,\n",
      "        0.9993, 0.9994, 1.0055, 1.0007, 1.0001, 1.0002, 0.9997, 0.9995, 0.9994,\n",
      "        1.0007, 0.9993, 1.0010, 0.9995, 1.0000, 0.9993, 1.0015]))]), 'divergences': {'chain 0': [229, 256, 287, 318, 408, 409, 491, 508, 526, 527, 546, 547, 591, 596, 610, 655, 657, 658, 663, 664, 666, 668, 669, 670, 698, 806, 821, 866, 889, 903, 995, 1028, 1034, 1049, 1051, 1070, 1071, 1072, 1079, 1101, 1127, 1135, 1150, 1160, 1222, 1229, 1237, 1252, 1257, 1264, 1278, 1298, 1320, 1323, 1332, 1348, 1358, 1361, 1368, 1370, 1371, 1372, 1379, 1381, 1392, 1395, 1410, 1411, 1413, 1420, 1461, 1463, 1481, 1484, 1486, 1490, 1495, 1496, 1498]}, 'acceptance rate': {'chain 0': 0.9946666666666667}}\n",
      "Registering the results in:  SX1/2023-11-18/n-5_k-3_m-4_sigma_w-0.1_sigma_p-1_n_samples-1500.yaml\n"
     ]
    },
    {
     "name": "stderr",
     "output_type": "stream",
     "text": [
      "Sample: 100%|████████████████████████████| 2000/2000 [00:31, 64.23it/s, step size=3.10e-01, acc. prob=0.845]\n"
     ]
    },
    {
     "name": "stdout",
     "output_type": "stream",
     "text": [
      "diag:  {'sigma': OrderedDict([('n_eff', tensor(894.0274)), ('r_hat', tensor(0.9994))]), 'w': OrderedDict([('n_eff', tensor([2465.2852, 2126.3433, 2143.6536, 1281.6871, 1958.8523, 1330.0463,\n",
      "        1643.8490, 1765.3364, 1779.4805, 1314.2109, 1285.2603, 1274.7870,\n",
      "        1603.3318, 1239.6683, 1330.6604,  992.9194, 1060.4989, 1256.5771,\n",
      "        1503.1423, 1348.0881, 1729.6493, 1647.5623, 1007.9556, 1718.9111,\n",
      "        1450.1566])), ('r_hat', tensor([0.9996, 1.0003, 1.0010, 1.0004, 1.0005, 1.0029, 1.0009, 0.9997, 0.9993,\n",
      "        1.0024, 1.0000, 1.0000, 0.9996, 0.9997, 1.0003, 1.0015, 1.0022, 0.9997,\n",
      "        0.9994, 0.9993, 0.9994, 1.0000, 1.0008, 0.9994, 1.0002]))]), 'divergences': {'chain 0': [50, 87, 103, 161, 191, 192, 275, 276, 327, 328, 332, 333, 348, 504, 506, 507, 509, 510, 559, 647, 711, 822, 825, 1209, 1330, 1333, 1335, 1337, 1339, 1340, 1341, 1342, 1343, 1344, 1346, 1347, 1348, 1349, 1350, 1352, 1415, 1416, 1425, 1457, 1459, 1460, 1461, 1463, 1464, 1465, 1472, 1492]}, 'acceptance rate': {'chain 0': 0.9753333333333334}}\n",
      "Registering the results in:  SX1/2023-11-18/n-5_k-3_m-4_sigma_w-0.1_sigma_p-0.1_n_samples-1500.yaml\n"
     ]
    },
    {
     "name": "stderr",
     "output_type": "stream",
     "text": [
      "Sample: 100%|███████████████████████████| 2000/2000 [00:17, 114.17it/s, step size=4.92e-01, acc. prob=0.859]\n"
     ]
    },
    {
     "name": "stdout",
     "output_type": "stream",
     "text": [
      "diag:  {'sigma': OrderedDict([('n_eff', tensor(1085.4518)), ('r_hat', tensor(1.0011))]), 'w': OrderedDict([('n_eff', tensor([1411.2881, 1470.2881, 1940.4076, 2150.4766, 1547.2948, 1928.5446,\n",
      "        1750.9253, 2795.6018, 1796.6028, 1657.4219, 1845.4485, 1527.7512,\n",
      "        1744.2192, 1935.8560, 1241.1761, 1800.8823, 1643.2854, 2357.4058,\n",
      "        1968.8043, 1835.3789, 2186.5669, 2108.5681, 2775.1853, 1881.4951,\n",
      "        2039.8756])), ('r_hat', tensor([1.0003, 0.9994, 0.9993, 0.9998, 1.0001, 1.0007, 1.0015, 0.9997, 1.0003,\n",
      "        0.9993, 0.9993, 0.9996, 1.0002, 1.0010, 0.9999, 1.0009, 1.0020, 0.9993,\n",
      "        1.0007, 0.9994, 0.9995, 0.9993, 0.9996, 0.9993, 1.0002]))]), 'divergences': {'chain 0': [1, 36, 184, 267, 487, 489, 1044, 1080, 1150, 1161, 1214, 1290, 1317, 1381, 1399, 1450, 1453, 1475, 1476, 1478]}, 'acceptance rate': {'chain 0': 0.99}}\n",
      "Registering the results in:  SX1/2023-11-18/n-5_k-3_m-4_sigma_w-0.1_sigma_p-0.01_n_samples-1500.yaml\n"
     ]
    },
    {
     "name": "stderr",
     "output_type": "stream",
     "text": [
      "Sample: 100%|███████████████████████████| 2000/2000 [00:15, 127.54it/s, step size=5.59e-01, acc. prob=0.865]\n"
     ]
    },
    {
     "name": "stdout",
     "output_type": "stream",
     "text": [
      "diag:  {'sigma': OrderedDict([('n_eff', tensor(2461.4009)), ('r_hat', tensor(0.9996))]), 'w': OrderedDict([('n_eff', tensor([2606.3809, 2541.0029, 2432.9460, 3981.8313, 2077.0686, 2911.2454,\n",
      "        3212.8687, 2654.9868, 2978.3137, 2544.9727, 3774.3823, 2863.6599,\n",
      "        3182.3755, 4129.8940, 3298.4395, 3202.7485, 2354.1472, 2976.6509,\n",
      "        2225.0454, 2926.0037, 5148.9043, 3028.1021, 4817.2632, 3493.5999,\n",
      "        3340.5391])), ('r_hat', tensor([0.9993, 0.9995, 0.9997, 0.9997, 0.9993, 0.9994, 0.9993, 0.9995, 0.9993,\n",
      "        0.9998, 0.9994, 0.9994, 1.0007, 0.9996, 0.9994, 0.9994, 0.9994, 1.0000,\n",
      "        0.9994, 1.0007, 0.9994, 0.9996, 1.0014, 0.9997, 0.9994]))]), 'divergences': {'chain 0': []}, 'acceptance rate': {'chain 0': 0.9953333333333333}}\n",
      "Registering the results in:  SX1/2023-11-18/n-5_k-3_m-4_sigma_w-0.1_sigma_p-10.0_n_samples-1500.yaml\n"
     ]
    },
    {
     "name": "stderr",
     "output_type": "stream",
     "text": [
      "Sample: 100%|████████████████████████████| 2000/2000 [00:40, 49.66it/s, step size=2.67e-01, acc. prob=0.731]\n"
     ]
    },
    {
     "name": "stdout",
     "output_type": "stream",
     "text": [
      "diag:  {'sigma': OrderedDict([('n_eff', tensor(893.5109)), ('r_hat', tensor(0.9994))]), 'w': OrderedDict([('n_eff', tensor([ 845.9987, 1219.5640,  896.9932, 1167.4792, 1215.2721, 1084.9135,\n",
      "        1091.7300,  886.6427, 1211.4236, 1100.7267, 1133.1797, 1047.8831,\n",
      "         840.7945,  794.8608,  894.7262,  761.9780, 1469.6305,  625.4158,\n",
      "        1003.0215,  894.3923,  450.9455, 1383.9791, 1453.6490, 1105.9919,\n",
      "        1100.3193])), ('r_hat', tensor([1.0010, 0.9996, 0.9996, 1.0000, 0.9997, 0.9994, 0.9997, 1.0028, 1.0001,\n",
      "        0.9996, 1.0012, 1.0008, 1.0009, 0.9993, 0.9994, 0.9994, 1.0002, 1.0013,\n",
      "        1.0001, 0.9995, 1.0027, 1.0015, 1.0011, 0.9995, 0.9994]))]), 'divergences': {'chain 0': [16, 17, 27, 56, 141, 176, 187, 188, 191, 196, 202, 204, 205, 209, 229, 231, 232, 237, 288, 289, 356, 383, 402, 403, 408, 471, 475, 476, 479, 481, 487, 510, 543, 544, 636, 645, 649, 650, 720, 744, 753, 756, 759, 760, 824, 848, 883, 928, 965, 983, 1005, 1036, 1051, 1056, 1060, 1064, 1085, 1133, 1140, 1142, 1143, 1144, 1146, 1149, 1153, 1154, 1252, 1262, 1286, 1295, 1310, 1318, 1369, 1390, 1397, 1398, 1399, 1407, 1438, 1441, 1459, 1464, 1465, 1466, 1467, 1468, 1469, 1470, 1472, 1473, 1475, 1477, 1478, 1479, 1480, 1499]}, 'acceptance rate': {'chain 0': 0.982}}\n",
      "Registering the results in:  SX1/2023-11-18/n-5_k-3_m-4_sigma_w-0.01_sigma_p-1_n_samples-1500.yaml\n"
     ]
    },
    {
     "name": "stderr",
     "output_type": "stream",
     "text": [
      "Sample: 100%|███████████████████████████| 2000/2000 [00:19, 102.85it/s, step size=4.72e-01, acc. prob=0.882]\n"
     ]
    },
    {
     "name": "stdout",
     "output_type": "stream",
     "text": [
      "diag:  {'sigma': OrderedDict([('n_eff', tensor(2132.0210)), ('r_hat', tensor(0.9998))]), 'w': OrderedDict([('n_eff', tensor([3489.1199, 2961.8347, 2414.3147, 2244.3916, 2672.0364, 2528.2578,\n",
      "        2848.2178, 1940.5841, 2222.8506, 2221.4612, 1790.9601, 2532.8425,\n",
      "        2769.0894, 2622.6270, 2680.0703, 2220.7810, 2964.3608, 2622.2480,\n",
      "        2202.9075, 2439.6936, 2320.3069, 2926.0735, 2064.4731, 3583.4666,\n",
      "        2480.6526])), ('r_hat', tensor([0.9993, 0.9995, 0.9993, 0.9994, 0.9995, 1.0002, 0.9993, 0.9995, 0.9994,\n",
      "        1.0002, 0.9994, 0.9993, 0.9994, 0.9995, 0.9994, 0.9995, 0.9998, 0.9993,\n",
      "        0.9995, 1.0003, 0.9993, 0.9994, 0.9993, 0.9995, 0.9994]))]), 'divergences': {'chain 0': [128, 129, 387, 992, 1194, 1195]}, 'acceptance rate': {'chain 0': 0.9953333333333333}}\n",
      "Registering the results in:  SX1/2023-11-18/n-5_k-3_m-4_sigma_w-0.01_sigma_p-0.1_n_samples-1500.yaml\n"
     ]
    },
    {
     "name": "stderr",
     "output_type": "stream",
     "text": [
      "Sample: 100%|███████████████████████████| 2000/2000 [00:17, 116.88it/s, step size=4.89e-01, acc. prob=0.887]\n"
     ]
    },
    {
     "name": "stdout",
     "output_type": "stream",
     "text": [
      "diag:  {'sigma': OrderedDict([('n_eff', tensor(2439.7571)), ('r_hat', tensor(0.9995))]), 'w': OrderedDict([('n_eff', tensor([3808.4158, 2800.8838, 2900.8259, 3005.6792, 4006.3447, 4053.7629,\n",
      "        2716.0112, 3281.7515, 2775.7354, 3775.0586, 2650.8252, 3375.0125,\n",
      "        3651.6047, 2748.9092, 2688.8428, 3026.6187, 3504.4912, 2870.2527,\n",
      "        3414.7000, 2497.0508, 4079.4236, 3080.6118, 2655.7036, 2258.6040,\n",
      "        3291.8926])), ('r_hat', tensor([0.9995, 0.9995, 0.9998, 0.9993, 0.9996, 0.9994, 0.9993, 0.9993, 0.9998,\n",
      "        0.9994, 1.0001, 0.9994, 1.0006, 0.9995, 1.0008, 0.9994, 0.9993, 0.9994,\n",
      "        0.9998, 0.9994, 0.9994, 0.9996, 1.0003, 0.9998, 0.9994]))]), 'divergences': {'chain 0': []}, 'acceptance rate': {'chain 0': 0.9993333333333333}}\n",
      "Registering the results in:  SX1/2023-11-18/n-5_k-3_m-4_sigma_w-0.01_sigma_p-0.01_n_samples-1500.yaml\n"
     ]
    },
    {
     "name": "stderr",
     "output_type": "stream",
     "text": [
      "Sample: 100%|███████████████████████████| 2000/2000 [00:17, 115.82it/s, step size=5.13e-01, acc. prob=0.865]\n"
     ]
    },
    {
     "name": "stdout",
     "output_type": "stream",
     "text": [
      "diag:  {'sigma': OrderedDict([('n_eff', tensor(2462.9907)), ('r_hat', tensor(0.9995))]), 'w': OrderedDict([('n_eff', tensor([3598.7656, 2644.8445, 3598.1931, 3263.0300, 4018.4651, 2589.5200,\n",
      "        4137.2280, 5088.1113, 3105.6128, 3559.2827, 3588.6763, 2592.9883,\n",
      "        3529.2612, 4003.7949, 3686.7522, 2755.3843, 3196.3127, 3572.3054,\n",
      "        2822.9939, 3206.9456, 3183.1606, 3420.3926, 3027.5789, 3562.1829,\n",
      "        4875.3672])), ('r_hat', tensor([0.9994, 0.9993, 0.9994, 0.9996, 0.9994, 0.9993, 0.9994, 0.9996, 0.9994,\n",
      "        0.9993, 0.9997, 0.9999, 0.9995, 0.9994, 0.9994, 0.9994, 0.9999, 0.9994,\n",
      "        0.9994, 0.9995, 0.9994, 0.9994, 0.9995, 0.9994, 0.9994]))]), 'divergences': {'chain 0': []}, 'acceptance rate': {'chain 0': 0.9986666666666667}}\n",
      "Registering the results in:  SX1/2023-11-18/n-5_k-3_m-4_sigma_w-0.01_sigma_p-10.0_n_samples-1500.yaml\n"
     ]
    },
    {
     "name": "stderr",
     "output_type": "stream",
     "text": [
      "Sample: 100%|████████████████████████████| 2000/2000 [00:26, 75.14it/s, step size=3.59e-01, acc. prob=0.840]\n"
     ]
    },
    {
     "name": "stdout",
     "output_type": "stream",
     "text": [
      "diag:  {'sigma': OrderedDict([('n_eff', tensor(1204.6465)), ('r_hat', tensor(1.0000))]), 'w': OrderedDict([('n_eff', tensor([1644.5852, 1368.6917, 1299.4838,  932.8564, 1437.7622, 1268.6509,\n",
      "        1472.6974, 1530.7532, 1702.9978, 1417.8690, 2140.3135, 1349.5928,\n",
      "        1660.5874, 1672.3656, 1888.7329, 1302.7139, 1327.1787, 1780.0140,\n",
      "        1876.3606, 2078.2446, 1695.6121, 1655.1212, 1497.3643,  877.1506,\n",
      "        1774.0459])), ('r_hat', tensor([0.9996, 1.0006, 1.0001, 0.9999, 0.9998, 0.9996, 0.9993, 1.0013, 0.9996,\n",
      "        0.9993, 1.0007, 1.0005, 0.9996, 1.0001, 0.9995, 0.9994, 0.9993, 0.9995,\n",
      "        0.9994, 0.9995, 0.9993, 0.9999, 0.9993, 0.9993, 1.0003]))]), 'divergences': {'chain 0': [147, 189, 205, 206, 236, 309, 310, 312, 313, 316, 322, 326, 458, 482, 573, 587, 591, 592, 603, 604, 628, 637, 665, 685, 748, 750, 751, 752, 754, 758, 762, 785, 816, 853, 871, 874, 913, 987, 1172, 1196, 1280, 1283, 1405, 1409, 1435, 1484]}, 'acceptance rate': {'chain 0': 0.976}}\n",
      "Registering the results in:  SX1/2023-11-18/n-5_k-3_m-4_sigma_w-10.0_sigma_p-1_n_samples-1500.yaml\n"
     ]
    },
    {
     "name": "stderr",
     "output_type": "stream",
     "text": [
      "Sample: 100%|████████████████████████████| 2000/2000 [05:43,  5.83it/s, step size=3.25e-02, acc. prob=0.719]\n"
     ]
    },
    {
     "name": "stdout",
     "output_type": "stream",
     "text": [
      "diag:  {'sigma': OrderedDict([('n_eff', tensor(1248.9536)), ('r_hat', tensor(1.0026))]), 'w': OrderedDict([('n_eff', tensor([ 645.4540,  464.5693,  468.6700,  650.7059,  627.0999,  856.9111,\n",
      "         795.5019,  830.2627,  776.7769,  415.0339,  642.3890,  793.8765,\n",
      "         580.3481,  471.1473,  902.2539,  682.1667,  785.3552, 1028.4502,\n",
      "        1052.3201, 1150.3109,  718.6622,  730.9816,  645.1588,  828.4036,\n",
      "         791.3199])), ('r_hat', tensor([0.9995, 1.0011, 1.0009, 1.0024, 1.0009, 1.0007, 1.0002, 1.0007, 0.9995,\n",
      "        1.0025, 1.0057, 0.9993, 0.9995, 0.9999, 1.0032, 0.9994, 1.0016, 1.0000,\n",
      "        1.0002, 0.9994, 0.9993, 1.0006, 0.9998, 1.0038, 1.0031]))]), 'divergences': {'chain 0': [27, 90, 125, 145, 149, 150, 151, 160, 167, 188, 189, 201, 204, 219, 222, 224, 228, 230, 232, 236, 268, 283, 284, 285, 306, 408, 450, 457, 478, 497, 501, 598, 603, 649, 669, 697, 699, 719, 721, 796, 814, 823, 841, 850, 852, 853, 854, 857, 961, 1048, 1059, 1062, 1068, 1069, 1086, 1104, 1105, 1120, 1127, 1181, 1206, 1281, 1303, 1363, 1377, 1408, 1412, 1447, 1482]}, 'acceptance rate': {'chain 0': 0.982}}\n",
      "Registering the results in:  SX1/2023-11-18/n-5_k-3_m-4_sigma_w-10.0_sigma_p-0.1_n_samples-1500.yaml\n"
     ]
    },
    {
     "name": "stderr",
     "output_type": "stream",
     "text": [
      "Sample: 100%|████████████████████████████| 2000/2000 [01:23, 24.07it/s, step size=1.13e-01, acc. prob=0.827]\n"
     ]
    },
    {
     "name": "stdout",
     "output_type": "stream",
     "text": [
      "diag:  {'sigma': OrderedDict([('n_eff', tensor(579.8939)), ('r_hat', tensor(0.9994))]), 'w': OrderedDict([('n_eff', tensor([1201.6628,  839.8123,  925.9814, 1005.8040,  908.6007, 1077.3575,\n",
      "        1198.5924, 1349.1133, 1103.2842,  938.4365, 1046.2649,  881.1277,\n",
      "        1392.7762,  879.2875,  683.6608,  836.5815, 1193.3176, 1428.2133,\n",
      "        1167.9285, 1374.2064,  714.9573,  741.1215,  959.7410,  880.5611,\n",
      "         792.8276])), ('r_hat', tensor([0.9996, 0.9994, 0.9995, 0.9994, 0.9997, 0.9998, 1.0000, 1.0001, 1.0004,\n",
      "        1.0011, 1.0023, 1.0034, 1.0006, 0.9993, 0.9997, 1.0025, 1.0000, 1.0001,\n",
      "        1.0023, 0.9994, 1.0005, 0.9993, 1.0036, 0.9994, 1.0011]))]), 'divergences': {'chain 0': [299, 311, 463, 469, 766, 769, 781, 828, 1008, 1030, 1157, 1315, 1335, 1349, 1366, 1372, 1395]}, 'acceptance rate': {'chain 0': 0.9933333333333333}}\n",
      "Registering the results in:  SX1/2023-11-18/n-5_k-3_m-4_sigma_w-10.0_sigma_p-0.01_n_samples-1500.yaml\n"
     ]
    },
    {
     "name": "stderr",
     "output_type": "stream",
     "text": [
      "Sample: 100%|████████████████████████████| 2000/2000 [00:41, 48.26it/s, step size=3.45e-01, acc. prob=0.857]\n"
     ]
    },
    {
     "name": "stdout",
     "output_type": "stream",
     "text": [
      "diag:  {'sigma': OrderedDict([('n_eff', tensor(1132.7875)), ('r_hat', tensor(0.9997))]), 'w': OrderedDict([('n_eff', tensor([2155.7761, 1885.7363, 2021.7294, 2367.0056, 2576.5098, 2009.4451,\n",
      "        3074.1646, 2119.8376, 2176.0479, 1816.0509, 1876.0629, 1839.7306,\n",
      "        2643.5066, 2020.6085, 2618.2734, 2326.3618, 1990.9142, 2604.3650,\n",
      "        2144.1968, 2344.8362, 2257.2874, 2099.0459, 1975.9852, 2262.9338,\n",
      "        2184.1846])), ('r_hat', tensor([0.9995, 0.9999, 1.0001, 0.9995, 0.9993, 0.9994, 0.9993, 0.9993, 0.9994,\n",
      "        0.9994, 1.0026, 1.0004, 0.9994, 0.9998, 1.0000, 0.9994, 1.0010, 0.9996,\n",
      "        0.9996, 0.9993, 0.9993, 1.0003, 1.0017, 1.0001, 0.9994]))]), 'divergences': {'chain 0': [4, 85, 224, 388, 396, 432, 477, 492, 630, 637, 680, 848, 879, 927, 934, 944, 1140, 1270, 1386, 1463, 1478, 1484, 1495]}, 'acceptance rate': {'chain 0': 0.9886666666666667}}\n",
      "Registering the results in:  SX1/2023-11-18/n-5_k-3_m-4_sigma_w-10.0_sigma_p-10.0_n_samples-1500.yaml\n"
     ]
    },
    {
     "name": "stderr",
     "output_type": "stream",
     "text": [
      "Sample: 100%|██████████████████████████| 2000/2000 [1:01:42,  1.85s/it, step size=2.67e-03, acc. prob=0.806]\n"
     ]
    },
    {
     "name": "stdout",
     "output_type": "stream",
     "text": [
      "diag:  {'sigma': OrderedDict([('n_eff', tensor(636.1486)), ('r_hat', tensor(0.9997))]), 'w': OrderedDict([('n_eff', tensor([246.3884, 235.9775, 448.1522, 360.7080, 430.6143, 422.5789, 506.5556,\n",
      "        572.3806, 524.3588, 490.3625, 459.8520, 252.1581, 510.5746, 471.2585,\n",
      "        381.3386, 580.0368, 308.2568, 304.1775, 464.1827, 342.1397, 390.9454,\n",
      "        367.4109, 577.1559, 356.8139, 284.0849])), ('r_hat', tensor([1.0148, 0.9994, 1.0007, 0.9995, 0.9995, 0.9999, 0.9994, 0.9996, 1.0036,\n",
      "        1.0038, 1.0029, 1.0000, 1.0055, 0.9993, 0.9995, 1.0060, 1.0054, 0.9993,\n",
      "        0.9995, 1.0067, 0.9995, 1.0020, 0.9993, 1.0031, 1.0006]))]), 'divergences': {'chain 0': [34, 133, 134, 135, 242, 243, 245, 280, 281, 304, 342, 405, 441, 533, 534, 542, 578, 584, 609, 616, 902, 931, 964, 1020, 1086, 1143, 1150, 1155, 1157, 1158, 1160, 1161, 1163, 1174, 1181, 1185, 1186, 1188, 1192, 1217, 1218, 1220, 1278, 1417, 1418, 1419, 1421, 1481, 1482]}, 'acceptance rate': {'chain 0': 1.0}}\n",
      "Registering the results in:  SX1/2023-11-19/n-5_k-1_m-8_sigma_w-1_sigma_p-1_n_samples-1500.yaml\n"
     ]
    },
    {
     "name": "stderr",
     "output_type": "stream",
     "text": [
      "Sample: 100%|████████████████████████████| 2000/2000 [01:34, 21.18it/s, step size=1.61e-01, acc. prob=0.838]\n"
     ]
    },
    {
     "name": "stdout",
     "output_type": "stream",
     "text": [
      "diag:  {'sigma': OrderedDict([('n_eff', tensor(272.9518)), ('r_hat', tensor(1.0223))]), 'w': OrderedDict([('n_eff', tensor([297.0387, 309.7447, 507.6386, 303.6055, 306.5231])), ('r_hat', tensor([1.0031, 1.0008, 1.0018, 1.0046, 1.0002]))]), 'divergences': {'chain 0': [5, 6, 24, 29, 31, 36, 145, 148, 149, 151, 179, 181, 208, 218, 358, 385, 391, 392, 403, 512, 715, 729, 735, 738, 798, 883, 912, 1099, 1357, 1367, 1368, 1371, 1488]}, 'acceptance rate': {'chain 0': 0.966}}\n",
      "Registering the results in:  SX1/2023-11-19/n-5_k-1_m-8_sigma_w-1_sigma_p-0.1_n_samples-1500.yaml\n"
     ]
    },
    {
     "name": "stderr",
     "output_type": "stream",
     "text": [
      "Sample: 100%|████████████████████████████| 2000/2000 [01:24, 23.61it/s, step size=1.98e-01, acc. prob=0.798]\n"
     ]
    },
    {
     "name": "stdout",
     "output_type": "stream",
     "text": [
      "diag:  {'sigma': OrderedDict([('n_eff', tensor(597.5364)), ('r_hat', tensor(0.9994))]), 'w': OrderedDict([('n_eff', tensor([441.7828, 405.7778, 487.4018, 503.2588, 308.7528])), ('r_hat', tensor([1.0002, 1.0028, 0.9997, 1.0006, 1.0036]))]), 'divergences': {'chain 0': [44, 109, 175, 182, 207, 215, 227, 297, 360, 373, 383, 387, 388, 396, 403, 485, 508, 616, 635, 640, 648, 707, 1002, 1032, 1057, 1385, 1404, 1412]}, 'acceptance rate': {'chain 0': 0.956}}\n",
      "Registering the results in:  SX1/2023-11-19/n-5_k-1_m-8_sigma_w-1_sigma_p-0.01_n_samples-1500.yaml\n"
     ]
    },
    {
     "name": "stderr",
     "output_type": "stream",
     "text": [
      "Sample: 100%|████████████████████████████| 2000/2000 [01:13, 27.38it/s, step size=1.75e-01, acc. prob=0.816]\n"
     ]
    },
    {
     "name": "stdout",
     "output_type": "stream",
     "text": [
      "diag:  {'sigma': OrderedDict([('n_eff', tensor(424.4323)), ('r_hat', tensor(0.9993))]), 'w': OrderedDict([('n_eff', tensor([381.7043, 328.7163, 643.0283, 395.3821, 450.9863])), ('r_hat', tensor([1.0001, 1.0096, 1.0014, 1.0016, 1.0000]))]), 'divergences': {'chain 0': [185, 186, 187, 199, 232, 233, 234, 236, 242, 277, 354, 374, 608, 629, 713, 728, 783, 806, 879, 886, 996, 1026, 1032, 1058, 1063, 1108, 1136, 1292, 1312, 1393, 1477]}, 'acceptance rate': {'chain 0': 0.962}}\n",
      "Registering the results in:  SX1/2023-11-19/n-5_k-1_m-8_sigma_w-1_sigma_p-10.0_n_samples-1500.yaml\n"
     ]
    },
    {
     "name": "stderr",
     "output_type": "stream",
     "text": [
      "Sample: 100%|████████████████████████████| 2000/2000 [01:34, 21.14it/s, step size=6.40e-02, acc. prob=0.865]\n"
     ]
    },
    {
     "name": "stdout",
     "output_type": "stream",
     "text": [
      "diag:  {'sigma': OrderedDict([('n_eff', tensor(277.3167)), ('r_hat', tensor(1.0117))]), 'w': OrderedDict([('n_eff', tensor([190.4147, 193.9032, 367.7137, 516.2747, 168.2497])), ('r_hat', tensor([1.0118, 1.0103, 0.9996, 1.0016, 1.0068]))]), 'divergences': {'chain 0': [253, 256, 258, 259, 260, 842, 1078, 1495]}, 'acceptance rate': {'chain 0': 0.9813333333333333}}\n",
      "Registering the results in:  SX1/2023-11-19/n-5_k-1_m-8_sigma_w-0.1_sigma_p-1_n_samples-1500.yaml\n"
     ]
    },
    {
     "name": "stderr",
     "output_type": "stream",
     "text": [
      "Sample: 100%|████████████████████████████| 2000/2000 [00:34, 57.61it/s, step size=2.34e-01, acc. prob=0.845]\n"
     ]
    },
    {
     "name": "stdout",
     "output_type": "stream",
     "text": [
      "diag:  {'sigma': OrderedDict([('n_eff', tensor(275.1985)), ('r_hat', tensor(1.0021))]), 'w': OrderedDict([('n_eff', tensor([438.6611, 535.8918, 744.7372, 254.0106, 564.8082])), ('r_hat', tensor([1.0006, 0.9996, 0.9994, 1.0035, 1.0008]))]), 'divergences': {'chain 0': [208, 256, 263, 268, 280, 331, 334, 337, 346, 352, 366, 473, 663, 704, 866, 964, 1055, 1179, 1183, 1191, 1192, 1229, 1458, 1466]}, 'acceptance rate': {'chain 0': 0.964}}\n",
      "Registering the results in:  SX1/2023-11-19/n-5_k-1_m-8_sigma_w-0.1_sigma_p-0.1_n_samples-1500.yaml\n"
     ]
    },
    {
     "name": "stderr",
     "output_type": "stream",
     "text": [
      "Sample: 100%|████████████████████████████| 2000/2000 [00:45, 44.36it/s, step size=1.53e-01, acc. prob=0.798]\n"
     ]
    },
    {
     "name": "stdout",
     "output_type": "stream",
     "text": [
      "diag:  {'sigma': OrderedDict([('n_eff', tensor(120.8770)), ('r_hat', tensor(1.0107))]), 'w': OrderedDict([('n_eff', tensor([222.9219, 200.6827, 656.5831, 199.0696, 426.1738])), ('r_hat', tensor([1.0339, 1.0193, 1.0017, 1.0161, 1.0048]))]), 'divergences': {'chain 0': [63, 774, 822, 920, 1160, 1300, 1348]}, 'acceptance rate': {'chain 0': 0.9526666666666667}}\n",
      "Registering the results in:  SX1/2023-11-19/n-5_k-1_m-8_sigma_w-0.1_sigma_p-0.01_n_samples-1500.yaml\n"
     ]
    },
    {
     "name": "stderr",
     "output_type": "stream",
     "text": [
      "Sample: 100%|████████████████████████████| 2000/2000 [00:37, 53.77it/s, step size=2.08e-01, acc. prob=0.836]\n"
     ]
    },
    {
     "name": "stdout",
     "output_type": "stream",
     "text": [
      "diag:  {'sigma': OrderedDict([('n_eff', tensor(488.1013)), ('r_hat', tensor(1.0062))]), 'w': OrderedDict([('n_eff', tensor([467.6249, 384.5407, 488.7265, 692.2119, 580.5149])), ('r_hat', tensor([1.0016, 1.0003, 1.0012, 1.0012, 1.0008]))]), 'divergences': {'chain 0': [25, 213, 486, 645, 779, 816, 817, 975, 1120, 1136, 1137, 1138, 1139, 1140, 1149, 1150, 1152, 1153, 1155, 1162, 1168, 1170, 1171, 1173, 1329, 1332, 1351]}, 'acceptance rate': {'chain 0': 0.966}}\n",
      "Registering the results in:  SX1/2023-11-19/n-5_k-1_m-8_sigma_w-0.1_sigma_p-10.0_n_samples-1500.yaml\n"
     ]
    },
    {
     "name": "stderr",
     "output_type": "stream",
     "text": [
      "Sample: 100%|████████████████████████████| 2000/2000 [00:36, 54.66it/s, step size=2.30e-01, acc. prob=0.743]\n"
     ]
    },
    {
     "name": "stdout",
     "output_type": "stream",
     "text": [
      "diag:  {'sigma': OrderedDict([('n_eff', tensor(247.3499)), ('r_hat', tensor(0.9993))]), 'w': OrderedDict([('n_eff', tensor([226.1104, 357.7971, 389.7878, 339.1704, 342.5595])), ('r_hat', tensor([1.0070, 1.0029, 0.9996, 0.9994, 1.0001]))]), 'divergences': {'chain 0': [5, 179, 382, 465, 805, 970, 1048, 1100, 1305, 1307, 1365, 1487, 1490, 1491, 1492, 1499]}, 'acceptance rate': {'chain 0': 0.9293333333333333}}\n",
      "Registering the results in:  SX1/2023-11-19/n-5_k-1_m-8_sigma_w-0.01_sigma_p-1_n_samples-1500.yaml\n"
     ]
    },
    {
     "name": "stderr",
     "output_type": "stream",
     "text": [
      "Sample: 100%|████████████████████████████| 2000/2000 [01:06, 30.11it/s, step size=2.28e-01, acc. prob=0.673]\n"
     ]
    },
    {
     "name": "stdout",
     "output_type": "stream",
     "text": [
      "diag:  {'sigma': OrderedDict([('n_eff', tensor(272.5645)), ('r_hat', tensor(0.9997))]), 'w': OrderedDict([('n_eff', tensor([535.9944, 493.0190, 777.4097, 408.4361, 492.1612])), ('r_hat', tensor([1.0002, 0.9995, 1.0000, 0.9994, 1.0008]))]), 'divergences': {'chain 0': [12, 27, 72, 81, 141, 163, 201, 263, 384, 656, 683, 685, 820, 855, 886, 961, 978, 983, 1069, 1075, 1091, 1092, 1279, 1299, 1301, 1303, 1370, 1488]}, 'acceptance rate': {'chain 0': 0.9033333333333333}}\n",
      "Registering the results in:  SX1/2023-11-19/n-5_k-1_m-8_sigma_w-0.01_sigma_p-0.1_n_samples-1500.yaml\n"
     ]
    },
    {
     "name": "stderr",
     "output_type": "stream",
     "text": [
      "Sample: 100%|████████████████████████████| 2000/2000 [01:18, 25.43it/s, step size=7.25e-02, acc. prob=0.775]\n"
     ]
    },
    {
     "name": "stdout",
     "output_type": "stream",
     "text": [
      "diag:  {'sigma': OrderedDict([('n_eff', tensor(211.9704)), ('r_hat', tensor(1.0042))]), 'w': OrderedDict([('n_eff', tensor([309.2705, 207.4914, 243.4766, 204.0325, 314.0143])), ('r_hat', tensor([1.0008, 1.0019, 1.0149, 1.0028, 1.0077]))]), 'divergences': {'chain 0': [24, 95, 181, 276, 300, 330, 346, 350, 357, 369, 377, 549, 557, 604, 626, 676, 800, 801, 802, 804, 807, 809, 812, 814, 815, 817, 821, 822, 824, 826, 828, 830, 831, 837, 840, 852, 864, 868, 975, 976, 979, 1055, 1126, 1145, 1242, 1257, 1259, 1264, 1271, 1303, 1313, 1322, 1340, 1381]}, 'acceptance rate': {'chain 0': 0.9333333333333333}}\n",
      "Registering the results in:  SX1/2023-11-19/n-5_k-1_m-8_sigma_w-0.01_sigma_p-0.01_n_samples-1500.yaml\n"
     ]
    },
    {
     "name": "stderr",
     "output_type": "stream",
     "text": [
      "Sample: 100%|████████████████████████████| 2000/2000 [00:42, 47.26it/s, step size=5.57e-01, acc. prob=0.854]\n"
     ]
    },
    {
     "name": "stdout",
     "output_type": "stream",
     "text": [
      "diag:  {'sigma': OrderedDict([('n_eff', tensor(1747.1497)), ('r_hat', tensor(0.9996))]), 'w': OrderedDict([('n_eff', tensor([1615.0582, 2342.9353, 1467.0171, 2131.1213, 2126.4856])), ('r_hat', tensor([0.9993, 0.9994, 0.9994, 1.0018, 0.9995]))]), 'divergences': {'chain 0': [110, 147, 230, 249, 291, 426, 569, 858, 886, 1033]}, 'acceptance rate': {'chain 0': 0.9833333333333333}}\n",
      "Registering the results in:  SX1/2023-11-19/n-5_k-1_m-8_sigma_w-0.01_sigma_p-10.0_n_samples-1500.yaml\n"
     ]
    },
    {
     "name": "stderr",
     "output_type": "stream",
     "text": [
      "Sample: 100%|████████████████████████████| 2000/2000 [01:05, 30.45it/s, step size=1.67e-01, acc. prob=0.649]\n"
     ]
    },
    {
     "name": "stdout",
     "output_type": "stream",
     "text": [
      "diag:  {'sigma': OrderedDict([('n_eff', tensor(248.9702)), ('r_hat', tensor(1.0001))]), 'w': OrderedDict([('n_eff', tensor([360.6688, 547.3267, 142.6841, 483.0905,  98.0108])), ('r_hat', tensor([1.0044, 0.9997, 1.0030, 1.0004, 0.9995]))]), 'divergences': {'chain 0': [70, 229, 306, 307, 448, 449, 479, 544, 571, 576, 579, 581, 583, 585, 586, 588, 589, 591, 594, 595, 599, 601, 602, 603, 604, 606, 607, 608, 611, 612, 613, 614, 615, 616, 617, 618, 619, 621, 623, 624, 625, 626, 627, 628, 631, 632, 633, 634, 636, 637, 638, 639, 646, 650, 652, 787, 958, 1012, 1023, 1035, 1036, 1072, 1095, 1140, 1234, 1235, 1237, 1243, 1244, 1245, 1248, 1250, 1253, 1254, 1262, 1263, 1264, 1265, 1266, 1270, 1271, 1272, 1273, 1274, 1277, 1287, 1288, 1294, 1297, 1301, 1302, 1306, 1314, 1317, 1321, 1322, 1324, 1326, 1327, 1329, 1330, 1335, 1336, 1337, 1340, 1347, 1354, 1356, 1435, 1440, 1449, 1450, 1451, 1452, 1455, 1457, 1458, 1459, 1466, 1476, 1485, 1495, 1496, 1498]}, 'acceptance rate': {'chain 0': 0.878}}\n",
      "Registering the results in:  SX1/2023-11-19/n-5_k-1_m-8_sigma_w-10.0_sigma_p-1_n_samples-1500.yaml\n"
     ]
    },
    {
     "name": "stderr",
     "output_type": "stream",
     "text": [
      "Sample: 100%|████████████████████████████| 2000/2000 [02:32, 13.14it/s, step size=8.48e-02, acc. prob=0.816]\n"
     ]
    },
    {
     "name": "stdout",
     "output_type": "stream",
     "text": [
      "diag:  {'sigma': OrderedDict([('n_eff', tensor(539.8979)), ('r_hat', tensor(1.0003))]), 'w': OrderedDict([('n_eff', tensor([181.9886, 191.0680, 271.3587, 240.5663, 254.6862])), ('r_hat', tensor([1.0002, 0.9994, 1.0057, 1.0014, 0.9995]))]), 'divergences': {'chain 0': [68, 73, 88, 94, 123, 149, 255, 256, 264, 340, 402, 416, 436, 487, 501, 621, 712, 738, 739, 791, 813, 922, 938, 980, 981, 982, 997, 999, 1000, 1001, 1005, 1022, 1055, 1073, 1098, 1296, 1376, 1420, 1422, 1424, 1426, 1427]}, 'acceptance rate': {'chain 0': 0.99}}\n",
      "Registering the results in:  SX1/2023-11-19/n-5_k-1_m-8_sigma_w-10.0_sigma_p-0.1_n_samples-1500.yaml\n"
     ]
    },
    {
     "name": "stderr",
     "output_type": "stream",
     "text": [
      "Sample: 100%|████████████████████████████| 2000/2000 [01:55, 17.31it/s, step size=1.19e-01, acc. prob=0.758]\n"
     ]
    },
    {
     "name": "stdout",
     "output_type": "stream",
     "text": [
      "diag:  {'sigma': OrderedDict([('n_eff', tensor(123.1687)), ('r_hat', tensor(1.0011))]), 'w': OrderedDict([('n_eff', tensor([162.5881, 340.1583, 234.3958, 280.7712, 178.2312])), ('r_hat', tensor([1.0047, 0.9998, 1.0122, 1.0052, 1.0081]))]), 'divergences': {'chain 0': [201, 225, 227, 228, 240, 245, 246, 248, 303, 428, 498, 519, 532, 534, 538, 539, 540, 541, 542, 543, 547, 549, 550, 552, 553, 559, 560, 561, 562, 563, 567, 568, 569, 570, 572, 573, 575, 576, 579, 580, 582, 583, 584, 585, 586, 588, 589, 590, 591, 595, 596, 597, 598, 599, 600, 602, 603, 604, 605, 606, 608, 609, 612, 613, 616, 621, 622, 623, 646, 649, 650, 654, 673, 674, 675, 677, 679, 683, 684, 686, 687, 693, 698, 709, 944, 945, 947, 949, 950, 951, 952, 953, 955, 956, 959, 960, 969, 977, 980, 982, 983, 990, 1063, 1102, 1105, 1109, 1114, 1115, 1116, 1128, 1194, 1195, 1307, 1313, 1314, 1387]}, 'acceptance rate': {'chain 0': 0.9513333333333334}}\n",
      "Registering the results in:  SX1/2023-11-19/n-5_k-1_m-8_sigma_w-10.0_sigma_p-0.01_n_samples-1500.yaml\n"
     ]
    },
    {
     "name": "stderr",
     "output_type": "stream",
     "text": [
      "Sample: 100%|████████████████████████████| 2000/2000 [01:16, 26.14it/s, step size=2.10e-01, acc. prob=0.824]\n"
     ]
    },
    {
     "name": "stdout",
     "output_type": "stream",
     "text": [
      "diag:  {'sigma': OrderedDict([('n_eff', tensor(424.6988)), ('r_hat', tensor(1.0003))]), 'w': OrderedDict([('n_eff', tensor([291.6136, 309.7122, 651.1606, 378.8332, 316.8246])), ('r_hat', tensor([1.0071, 1.0017, 1.0037, 0.9999, 0.9994]))]), 'divergences': {'chain 0': [154, 157, 161, 169, 170, 171, 172, 176, 191, 671, 772, 921, 1055, 1088, 1109, 1252, 1255, 1348, 1446, 1460]}, 'acceptance rate': {'chain 0': 0.9673333333333334}}\n",
      "Registering the results in:  SX1/2023-11-19/n-5_k-1_m-8_sigma_w-10.0_sigma_p-10.0_n_samples-1500.yaml\n"
     ]
    },
    {
     "name": "stderr",
     "output_type": "stream",
     "text": [
      "Sample: 100%|████████████████████████████| 2000/2000 [10:06,  3.30it/s, step size=1.44e-02, acc. prob=0.831]\n"
     ]
    },
    {
     "name": "stdout",
     "output_type": "stream",
     "text": [
      "diag:  {'sigma': OrderedDict([('n_eff', tensor(253.9938)), ('r_hat', tensor(1.0067))]), 'w': OrderedDict([('n_eff', tensor([142.5123, 145.4578, 148.3893, 206.8846, 178.1056])), ('r_hat', tensor([1.0093, 1.0010, 1.0005, 0.9993, 1.0001]))]), 'divergences': {'chain 0': [21, 222, 283, 333, 400, 405, 407, 410, 454, 530, 578, 618, 621, 693, 699, 702, 705, 706, 712, 713, 714, 716, 798, 852, 855, 882, 911, 916, 940, 941, 995, 999, 1033, 1104, 1117, 1289, 1319, 1353, 1370, 1455, 1457, 1462]}, 'acceptance rate': {'chain 0': 0.9933333333333333}}\n",
      "Registering the results in:  SX1/2023-11-19/n-5_k-2_m-8_sigma_w-1_sigma_p-1_n_samples-1500.yaml\n"
     ]
    },
    {
     "name": "stderr",
     "output_type": "stream",
     "text": [
      "Sample: 100%|████████████████████████████| 2000/2000 [02:30, 13.32it/s, step size=1.58e-01, acc. prob=0.683]\n"
     ]
    },
    {
     "name": "stdout",
     "output_type": "stream",
     "text": [
      "diag:  {'sigma': OrderedDict([('n_eff', tensor(113.0852)), ('r_hat', tensor(1.0152))]), 'w': OrderedDict([('n_eff', tensor([108.0265, 120.9255, 390.7497, 605.9996, 574.1782, 114.9441, 827.7887,\n",
      "        242.8267, 587.1755,  74.9486, 231.2277, 445.7913,  95.6604,  73.3590,\n",
      "        112.3178])), ('r_hat', tensor([1.0040, 1.0191, 0.9994, 1.0110, 1.0097, 1.0105, 1.0022, 1.0006, 1.0017,\n",
      "        1.0306, 1.0270, 1.0007, 1.0128, 1.0081, 1.0078]))]), 'divergences': {'chain 0': [46, 52, 293, 296, 419, 776, 838, 911, 1035, 1100, 1130, 1291, 1293, 1294, 1298, 1299, 1301, 1302, 1303, 1306, 1308, 1309, 1312, 1313, 1314, 1316, 1319, 1323, 1324, 1330, 1333, 1335, 1336, 1338, 1339, 1343, 1349, 1354, 1356, 1358, 1363, 1365, 1366, 1368, 1370, 1371, 1378, 1381, 1383, 1384, 1392, 1398, 1400, 1409, 1422]}, 'acceptance rate': {'chain 0': 0.9126666666666666}}\n",
      "Registering the results in:  SX1/2023-11-19/n-5_k-2_m-8_sigma_w-1_sigma_p-0.1_n_samples-1500.yaml\n"
     ]
    },
    {
     "name": "stderr",
     "output_type": "stream",
     "text": [
      "Sample: 100%|████████████████████████████| 2000/2000 [03:13, 10.32it/s, step size=1.02e-01, acc. prob=0.881]\n"
     ]
    },
    {
     "name": "stdout",
     "output_type": "stream",
     "text": [
      "diag:  {'sigma': OrderedDict([('n_eff', tensor(561.8275)), ('r_hat', tensor(0.9993))]), 'w': OrderedDict([('n_eff', tensor([ 800.7310,  958.2931,  693.5189,  981.6063,  522.8862,  872.8156,\n",
      "        1072.3507,  883.8966,  703.6464,  617.4852,  793.8589,  741.8599,\n",
      "         801.4948,  745.0940, 1107.6899])), ('r_hat', tensor([0.9993, 0.9993, 1.0002, 1.0028, 1.0020, 1.0004, 1.0005, 1.0002, 0.9994,\n",
      "        1.0010, 1.0006, 1.0014, 0.9994, 0.9997, 0.9993]))]), 'divergences': {'chain 0': [287, 439, 674, 679, 681, 682, 1075, 1201, 1383, 1410]}, 'acceptance rate': {'chain 0': 0.9926666666666667}}\n",
      "Registering the results in:  SX1/2023-11-19/n-5_k-2_m-8_sigma_w-1_sigma_p-0.01_n_samples-1500.yaml\n"
     ]
    },
    {
     "name": "stderr",
     "output_type": "stream",
     "text": [
      "Sample: 100%|████████████████████████████| 2000/2000 [02:46, 11.98it/s, step size=1.17e-01, acc. prob=0.849]\n"
     ]
    },
    {
     "name": "stdout",
     "output_type": "stream",
     "text": [
      "diag:  {'sigma': OrderedDict([('n_eff', tensor(442.5405)), ('r_hat', tensor(0.9996))]), 'w': OrderedDict([('n_eff', tensor([ 804.4679,  967.0110, 1028.4558, 1140.6838,  883.4496, 1337.4750,\n",
      "         781.5270, 1134.0956,  958.9566, 1039.0507, 1191.9098, 1172.8268,\n",
      "        1092.8420,  843.8133, 1015.5291])), ('r_hat', tensor([1.0001, 1.0000, 0.9998, 1.0003, 1.0004, 1.0021, 1.0008, 0.9999, 1.0002,\n",
      "        1.0005, 1.0004, 0.9999, 0.9998, 1.0006, 0.9994]))]), 'divergences': {'chain 0': [101, 104, 107, 108, 112, 562, 563, 790, 1044, 1199, 1298, 1374, 1409, 1449]}, 'acceptance rate': {'chain 0': 0.9853333333333333}}\n",
      "Registering the results in:  SX1/2023-11-19/n-5_k-2_m-8_sigma_w-1_sigma_p-10.0_n_samples-1500.yaml\n"
     ]
    },
    {
     "name": "stderr",
     "output_type": "stream",
     "text": [
      "Sample: 100%|████████████████████████████| 2000/2000 [09:52,  3.38it/s, step size=3.80e-02, acc. prob=0.641]\n"
     ]
    },
    {
     "name": "stdout",
     "output_type": "stream",
     "text": [
      "diag:  {'sigma': OrderedDict([('n_eff', tensor(81.7391)), ('r_hat', tensor(1.0043))]), 'w': OrderedDict([('n_eff', tensor([246.9873, 224.1949, 471.5666, 186.6276,  60.0472, 149.1140, 305.1410,\n",
      "        193.8195, 231.3753, 223.1319,  92.0672,  21.8540,  90.6957,  72.8746,\n",
      "        138.1724])), ('r_hat', tensor([1.0010, 1.0081, 0.9994, 1.0091, 1.0336, 1.0249, 1.0121, 1.0105, 0.9999,\n",
      "        0.9993, 1.0162, 1.1092, 1.0042, 1.0213, 1.0052]))]), 'divergences': {'chain 0': [237, 360, 507, 557, 564, 568, 569, 570, 576, 582, 586, 589, 592, 594, 596, 597, 599, 615, 617, 619, 622, 626, 631, 632, 637, 640, 641, 643, 646, 649, 652, 654, 655, 657, 660, 663, 667, 671, 672, 673, 674, 676, 678, 680, 681, 682, 683, 684, 686, 687, 688, 689, 692, 695, 696, 697, 699, 700, 703, 707, 708, 709, 710, 713, 715, 717, 721, 800, 1031, 1047, 1124, 1203, 1227, 1271, 1278, 1282, 1284, 1294, 1307, 1310, 1312, 1318, 1321, 1325, 1330, 1332, 1384, 1390]}, 'acceptance rate': {'chain 0': 0.956}}\n",
      "Registering the results in:  SX1/2023-11-19/n-5_k-2_m-8_sigma_w-0.1_sigma_p-1_n_samples-1500.yaml\n"
     ]
    },
    {
     "name": "stderr",
     "output_type": "stream",
     "text": [
      "Sample: 100%|████████████████████████████| 2000/2000 [01:52, 17.81it/s, step size=1.51e-01, acc. prob=0.765]\n"
     ]
    },
    {
     "name": "stdout",
     "output_type": "stream",
     "text": [
      "diag:  {'sigma': OrderedDict([('n_eff', tensor(425.4317)), ('r_hat', tensor(1.0130))]), 'w': OrderedDict([('n_eff', tensor([1041.8455,  580.4774,  362.6472,  868.4952, 1036.2773,  885.1279,\n",
      "         542.9484,  393.3947,  868.0520,  696.7940,  544.4131,  870.1083,\n",
      "        1127.4185,  376.1539,  958.3444])), ('r_hat', tensor([1.0001, 1.0024, 1.0007, 0.9998, 0.9994, 0.9996, 1.0140, 0.9993, 1.0002,\n",
      "        0.9997, 1.0003, 0.9998, 1.0005, 1.0003, 1.0020]))]), 'divergences': {'chain 0': [25, 272, 273, 275, 281, 287, 291, 294, 674, 764, 938, 960, 1268, 1272, 1277, 1285, 1287, 1288, 1290]}, 'acceptance rate': {'chain 0': 0.9653333333333334}}\n",
      "Registering the results in:  SX1/2023-11-19/n-5_k-2_m-8_sigma_w-0.1_sigma_p-0.1_n_samples-1500.yaml\n"
     ]
    },
    {
     "name": "stderr",
     "output_type": "stream",
     "text": [
      "Sample: 100%|████████████████████████████| 2000/2000 [00:56, 35.53it/s, step size=1.52e-01, acc. prob=0.478]\n"
     ]
    },
    {
     "name": "stdout",
     "output_type": "stream",
     "text": [
      "diag:  {'sigma': OrderedDict([('n_eff', tensor(38.7774)), ('r_hat', tensor(1.0070))]), 'w': OrderedDict([('n_eff', tensor([ 32.1384,  59.5846,  50.4747,  46.8910,  20.7584,  57.4365,  60.5986,\n",
      "         32.3766, 219.9203,   9.5922,  72.3851, 111.7182,  47.8340,  80.0347,\n",
      "        132.9357])), ('r_hat', tensor([1.0726, 0.9994, 1.0444, 1.0015, 1.0166, 1.0039, 1.0050, 1.0905, 1.0104,\n",
      "        1.0430, 1.0147, 1.0245, 1.0242, 1.0046, 1.0127]))]), 'divergences': {'chain 0': [124, 148, 244, 249, 251, 252, 256, 257, 258, 260, 316, 427, 428, 432, 434, 438, 444, 538, 539, 540, 541, 543, 544, 545, 546, 547, 548, 550, 551, 552, 553, 554, 555, 556, 557, 558, 559, 561, 562, 563, 564, 565, 566, 567, 568, 569, 570, 571, 572, 573, 574, 575, 576, 578, 579, 580, 581, 582, 583, 584, 586, 589, 590, 592, 593, 595, 596, 598, 599, 601, 603, 604, 605, 607, 608, 609, 610, 612, 613, 614, 615, 618, 619, 620, 622, 623, 624, 625, 626, 628, 629, 631, 632, 633, 634, 635, 636, 637, 638, 639, 640, 641, 642, 643, 644, 645, 646, 647, 648, 649, 650, 651, 653, 654, 655, 656, 657, 658, 659, 660, 661, 662, 663, 664, 665, 666, 668, 669, 671, 672, 673, 674, 675, 676, 677, 678, 679, 680, 683, 684, 685, 686, 688, 689, 690, 691, 692, 694, 695, 697, 698, 699, 702, 704, 706, 707, 708, 709, 711, 712, 713, 714, 715, 716, 717, 718, 719, 721, 722, 724, 725, 727, 728, 729, 730, 731, 732, 734, 735, 736, 737, 740, 741, 742, 743, 744, 746, 747, 748, 749, 750, 751, 753, 754, 755, 757, 758, 760, 761, 762, 763, 764, 765, 766, 767, 768, 769, 771, 772, 773, 774, 775, 778, 779, 780, 781, 782, 783, 785, 787, 788, 789, 790, 794, 795, 796, 797, 801, 802, 805, 806, 809, 811, 813, 815, 818, 821, 823, 824, 829, 830, 831, 833, 837, 838, 840, 841, 842, 844, 846, 847, 848, 851, 857, 860, 861, 862, 864, 868, 869, 870, 872, 873, 875, 876, 877, 878, 879, 880, 881, 882, 884, 886, 887, 888, 891, 893, 894, 895, 897, 899, 902, 914, 1340, 1342, 1346, 1348, 1350, 1353, 1355, 1356, 1357, 1361, 1362, 1363, 1366, 1369, 1373, 1374, 1375, 1377, 1379, 1381, 1382, 1383, 1384, 1385, 1386, 1388, 1393, 1397, 1400, 1402, 1405, 1406, 1407, 1409, 1410, 1411, 1412, 1413, 1415, 1416, 1417, 1418, 1419, 1420, 1421, 1422, 1423, 1424, 1425, 1427, 1428, 1429, 1432, 1433, 1435, 1436, 1437, 1439, 1440, 1441, 1443, 1444, 1445, 1446, 1447, 1448, 1449, 1450, 1451, 1453, 1454, 1456, 1457, 1458, 1459, 1460, 1461, 1462, 1463, 1464, 1465, 1466, 1467, 1468, 1469, 1470, 1471, 1473, 1474, 1476, 1478, 1479, 1481, 1482, 1483, 1484, 1486, 1487, 1489, 1491, 1492, 1493, 1494, 1495, 1496, 1497, 1498, 1499]}, 'acceptance rate': {'chain 0': 0.7426666666666667}}\n",
      "Registering the results in:  SX1/2023-11-19/n-5_k-2_m-8_sigma_w-0.1_sigma_p-0.01_n_samples-1500.yaml\n"
     ]
    },
    {
     "name": "stderr",
     "output_type": "stream",
     "text": [
      "Sample: 100%|████████████████████████████| 2000/2000 [01:50, 18.04it/s, step size=8.65e-02, acc. prob=0.890]\n"
     ]
    },
    {
     "name": "stdout",
     "output_type": "stream",
     "text": [
      "diag:  {'sigma': OrderedDict([('n_eff', tensor(101.1662)), ('r_hat', tensor(1.0082))]), 'w': OrderedDict([('n_eff', tensor([ 698.7782, 1073.1448,  784.4060,  919.1924,  967.2925, 1098.6045,\n",
      "         754.8378, 1053.3625,  574.9887,  781.6155, 1149.8036, 1069.3610,\n",
      "        1026.1438,  886.7754,  387.7291])), ('r_hat', tensor([1.0026, 1.0000, 0.9994, 1.0013, 0.9995, 1.0009, 1.0052, 0.9995, 1.0003,\n",
      "        1.0000, 0.9998, 0.9994, 0.9994, 0.9995, 0.9994]))]), 'divergences': {'chain 0': [514, 907, 1018, 1036, 1071, 1079, 1128, 1132, 1140, 1142, 1147]}, 'acceptance rate': {'chain 0': 0.9913333333333333}}\n",
      "Registering the results in:  SX1/2023-11-19/n-5_k-2_m-8_sigma_w-0.1_sigma_p-10.0_n_samples-1500.yaml\n"
     ]
    },
    {
     "name": "stderr",
     "output_type": "stream",
     "text": [
      "Sample: 100%|████████████████████████████| 2000/2000 [01:38, 20.41it/s, step size=1.02e-01, acc. prob=0.766]\n"
     ]
    },
    {
     "name": "stdout",
     "output_type": "stream",
     "text": [
      "diag:  {'sigma': OrderedDict([('n_eff', tensor(492.5244)), ('r_hat', tensor(1.0000))]), 'w': OrderedDict([('n_eff', tensor([383.3596, 802.1926, 255.2430, 406.2684, 850.0179, 738.8910, 311.9308,\n",
      "        507.9608, 193.4400, 977.5664, 258.9073, 337.4268, 518.9858, 647.8029,\n",
      "        785.0140])), ('r_hat', tensor([0.9993, 0.9994, 1.0015, 0.9995, 0.9996, 1.0008, 1.0000, 0.9997, 1.0011,\n",
      "        0.9994, 1.0018, 1.0013, 0.9996, 0.9993, 1.0025]))]), 'divergences': {'chain 0': [26, 95, 134, 223, 246, 421, 430, 494, 635, 636, 637, 638, 639, 643, 644, 645, 648, 649, 651, 653, 654, 660, 661, 662, 697, 753, 854, 918, 1096, 1381]}, 'acceptance rate': {'chain 0': 0.9713333333333334}}\n",
      "Registering the results in:  SX1/2023-11-19/n-5_k-2_m-8_sigma_w-0.01_sigma_p-1_n_samples-1500.yaml\n"
     ]
    },
    {
     "name": "stderr",
     "output_type": "stream",
     "text": [
      "Sample: 100%|████████████████████████████| 2000/2000 [00:44, 44.89it/s, step size=2.10e-01, acc. prob=0.680]\n"
     ]
    },
    {
     "name": "stdout",
     "output_type": "stream",
     "text": [
      "diag:  {'sigma': OrderedDict([('n_eff', tensor(348.5496)), ('r_hat', tensor(1.0033))]), 'w': OrderedDict([('n_eff', tensor([1012.1198,  532.4260,  733.3233,  764.0424,  670.6607,  879.8320,\n",
      "         530.0942,  571.7742,  393.5529,  486.4930,  534.4244,  548.7264,\n",
      "         430.5267,  444.5329,  519.6367])), ('r_hat', tensor([0.9996, 0.9994, 1.0017, 1.0027, 0.9999, 1.0036, 1.0000, 0.9993, 0.9994,\n",
      "        0.9997, 0.9994, 0.9995, 0.9996, 0.9997, 1.0004]))]), 'divergences': {'chain 0': [22, 27, 30, 31, 34, 35, 37, 44, 45, 103, 240, 291, 390, 437, 532, 557, 602, 691, 723, 870, 879, 989, 1122, 1133, 1252, 1253, 1259, 1261, 1272, 1274, 1276, 1278, 1283, 1284, 1285, 1290, 1291, 1296, 1297, 1301, 1302, 1303, 1305, 1307, 1309, 1310, 1313, 1325, 1344, 1361, 1383, 1395, 1454, 1484]}, 'acceptance rate': {'chain 0': 0.9313333333333333}}\n",
      "Registering the results in:  SX1/2023-11-19/n-5_k-2_m-8_sigma_w-0.01_sigma_p-0.1_n_samples-1500.yaml\n"
     ]
    },
    {
     "name": "stderr",
     "output_type": "stream",
     "text": [
      "Sample: 100%|████████████████████████████| 2000/2000 [01:08, 29.33it/s, step size=1.32e-01, acc. prob=0.746]\n"
     ]
    },
    {
     "name": "stdout",
     "output_type": "stream",
     "text": [
      "diag:  {'sigma': OrderedDict([('n_eff', tensor(258.8499)), ('r_hat', tensor(1.0003))]), 'w': OrderedDict([('n_eff', tensor([1098.7760,  463.5031,  501.7005,  737.2109,  850.2545,  445.4235,\n",
      "         296.0564,  570.4703,  660.3795,  316.1982,  637.2108,  639.6152,\n",
      "         670.6434,  600.4830,  814.5832])), ('r_hat', tensor([1.0005, 0.9997, 0.9994, 1.0011, 1.0020, 1.0012, 1.0161, 0.9995, 0.9997,\n",
      "        1.0054, 1.0004, 0.9995, 1.0053, 1.0000, 1.0003]))]), 'divergences': {'chain 0': [63, 119, 121, 216, 255, 278, 290, 297, 356, 371, 372, 375, 378, 379, 384, 390, 391, 393, 395, 530, 532, 533, 534, 576, 578, 580, 582, 585, 586, 587, 588, 592, 596, 603, 604, 607, 611, 613, 614, 615, 616, 618, 619, 620, 621, 622, 626, 627, 631, 632, 633, 634, 638, 639, 694, 696, 889, 949, 1003, 1173, 1178, 1218, 1257, 1318, 1321]}, 'acceptance rate': {'chain 0': 0.9566666666666667}}\n",
      "Registering the results in:  SX1/2023-11-19/n-5_k-2_m-8_sigma_w-0.01_sigma_p-0.01_n_samples-1500.yaml\n"
     ]
    },
    {
     "name": "stderr",
     "output_type": "stream",
     "text": [
      "Sample: 100%|███████████████████████████| 2000/2000 [00:18, 107.81it/s, step size=6.11e-01, acc. prob=0.634]\n"
     ]
    },
    {
     "name": "stdout",
     "output_type": "stream",
     "text": [
      "diag:  {'sigma': OrderedDict([('n_eff', tensor(39.8703)), ('r_hat', tensor(1.0912))]), 'w': OrderedDict([('n_eff', tensor([ 45.7530, 127.5921,  84.5841, 134.4048,  33.6670, 104.8877,  39.6124,\n",
      "         73.7126, 404.6908,  57.0482,  57.0403,  52.8742,  65.0912, 137.4681,\n",
      "         40.7666])), ('r_hat', tensor([1.0126, 1.0035, 1.0545, 1.0265, 1.1030, 1.0332, 1.0996, 1.0382, 1.0135,\n",
      "        1.0013, 1.0425, 1.0786, 1.0300, 1.0343, 1.0277]))]), 'divergences': {'chain 0': [606, 891, 892, 893, 895, 896, 897, 898, 899, 900, 903, 904, 907, 908, 909, 910, 914, 915, 916, 918, 920, 921, 924, 925, 926, 928, 930, 931, 932, 933, 934, 941, 942, 943, 944, 946, 947, 948, 951, 952, 954, 955, 958, 959, 960, 961, 962, 963, 964, 965, 966, 967, 973, 974, 976, 977, 979, 980, 981, 983, 984, 985, 986, 987, 990, 992, 993, 995, 996, 998, 999, 1002, 1003, 1004, 1006, 1007, 1008, 1009, 1010, 1012, 1013, 1014, 1016, 1022, 1024, 1025, 1028, 1029, 1032, 1033, 1035, 1036, 1038, 1039, 1041, 1042, 1044, 1048, 1049, 1050, 1054, 1057, 1058, 1061, 1062, 1063, 1074, 1075, 1076, 1080, 1081, 1083, 1087, 1089, 1090, 1092, 1093, 1094, 1097, 1098, 1100, 1103, 1104, 1107, 1109, 1110, 1111, 1112, 1115, 1116, 1117, 1118, 1120, 1122, 1123, 1125, 1127, 1129, 1130, 1132, 1134, 1136, 1138, 1141, 1143, 1145, 1146, 1150, 1151, 1153, 1154, 1155, 1376, 1377, 1378, 1379, 1380, 1381, 1384, 1385, 1386, 1389, 1390, 1391, 1393, 1394, 1395, 1396, 1397, 1399, 1401, 1402, 1403, 1404, 1405, 1406, 1407, 1408, 1409, 1410, 1412, 1413, 1414, 1415, 1417, 1418, 1419, 1420, 1421, 1422, 1425, 1427, 1428, 1429, 1431, 1432, 1433, 1435, 1437, 1438, 1439, 1440, 1441, 1442, 1443, 1444, 1445, 1446, 1448, 1450, 1451, 1452, 1455, 1456, 1457, 1458, 1459, 1460, 1461, 1463, 1464, 1465, 1466, 1467, 1468, 1469, 1471, 1472, 1473, 1474, 1476, 1477, 1478, 1479, 1480, 1481, 1483, 1484, 1485, 1487, 1488, 1489, 1490, 1491, 1492, 1495, 1496, 1497, 1498, 1499]}, 'acceptance rate': {'chain 0': 0.7653333333333333}}\n",
      "Registering the results in:  SX1/2023-11-19/n-5_k-2_m-8_sigma_w-0.01_sigma_p-10.0_n_samples-1500.yaml\n"
     ]
    },
    {
     "name": "stderr",
     "output_type": "stream",
     "text": [
      "Sample: 100%|████████████████████████████| 2000/2000 [01:30, 22.16it/s, step size=8.70e-02, acc. prob=0.843]\n"
     ]
    },
    {
     "name": "stdout",
     "output_type": "stream",
     "text": [
      "diag:  {'sigma': OrderedDict([('n_eff', tensor(239.3123)), ('r_hat', tensor(0.9999))]), 'w': OrderedDict([('n_eff', tensor([1030.0460,  231.2215,  319.3704,  539.1405,  217.5620,  839.5674,\n",
      "         866.2595,  349.4112,  401.8804,  521.3440,  327.8042,  886.2254,\n",
      "         228.8456,  760.9349,  120.8846])), ('r_hat', tensor([1.0013, 1.0054, 1.0004, 1.0009, 1.0131, 0.9995, 1.0004, 0.9995, 0.9994,\n",
      "        0.9998, 1.0035, 0.9998, 0.9997, 1.0018, 1.0105]))]), 'divergences': {'chain 0': [4, 66, 69, 545, 546, 990, 997, 998, 999, 1000, 1001, 1002, 1003, 1004, 1006, 1145, 1381, 1436, 1438, 1441, 1442, 1448, 1452, 1457, 1458, 1461, 1465, 1482, 1489]}, 'acceptance rate': {'chain 0': 0.968}}\n",
      "Registering the results in:  SX1/2023-11-19/n-5_k-2_m-8_sigma_w-10.0_sigma_p-1_n_samples-1500.yaml\n"
     ]
    },
    {
     "name": "stderr",
     "output_type": "stream",
     "text": [
      "Sample: 100%|████████████████████████████| 2000/2000 [04:56,  6.75it/s, step size=3.57e-02, acc. prob=0.730]\n"
     ]
    },
    {
     "name": "stdout",
     "output_type": "stream",
     "text": [
      "diag:  {'sigma': OrderedDict([('n_eff', tensor(174.6883)), ('r_hat', tensor(1.0110))]), 'w': OrderedDict([('n_eff', tensor([379.3819, 109.6448, 379.4772,  43.9579, 389.9291, 114.1608,  50.4824,\n",
      "        109.8442, 444.4408, 411.6497, 767.6208, 413.9315, 138.0164, 101.1643,\n",
      "        307.9932])), ('r_hat', tensor([1.0044, 1.0068, 1.0010, 1.0317, 0.9996, 1.0195, 1.0208, 1.0140, 1.0030,\n",
      "        1.0006, 1.0025, 1.0032, 0.9997, 1.0087, 1.0178]))]), 'divergences': {'chain 0': [2, 3, 8, 14, 15, 18, 19, 21, 124, 149, 153, 156, 158, 243, 258, 317, 326, 369, 374, 382, 451, 535, 612, 626, 642, 672, 747, 751, 766, 881, 920, 978, 979, 982, 985, 986, 988, 990, 991, 1009, 1016, 1042, 1071, 1090, 1105, 1112, 1134, 1165, 1183, 1186, 1190, 1295, 1334, 1356, 1362, 1368, 1376, 1377, 1379, 1380, 1381, 1382, 1384, 1388, 1393, 1394, 1398, 1404, 1411, 1413, 1420, 1425, 1427, 1428, 1440, 1441, 1444, 1445, 1449, 1452, 1456, 1457, 1458, 1465, 1467, 1468, 1469, 1470, 1471, 1475, 1478, 1484, 1485, 1486, 1487, 1490, 1493, 1495, 1496, 1497, 1499]}, 'acceptance rate': {'chain 0': 0.9173333333333333}}\n",
      "Registering the results in:  SX1/2023-11-19/n-5_k-2_m-8_sigma_w-10.0_sigma_p-0.1_n_samples-1500.yaml\n"
     ]
    },
    {
     "name": "stderr",
     "output_type": "stream",
     "text": [
      "Sample: 100%|████████████████████████████| 2000/2000 [01:35, 21.04it/s, step size=1.17e-01, acc. prob=0.746]\n"
     ]
    },
    {
     "name": "stdout",
     "output_type": "stream",
     "text": [
      "diag:  {'sigma': OrderedDict([('n_eff', tensor(250.6815)), ('r_hat', tensor(1.0046))]), 'w': OrderedDict([('n_eff', tensor([400.8129, 574.4589, 249.3504, 465.8591, 178.5358, 482.3075, 579.4064,\n",
      "        175.7563, 417.1758, 347.0101, 427.6607, 591.0554, 267.6659, 157.5686,\n",
      "        195.2811])), ('r_hat', tensor([1.0111, 1.0008, 1.0020, 1.0100, 1.0022, 1.0085, 0.9999, 1.0020, 1.0002,\n",
      "        1.0069, 1.0004, 1.0037, 1.0009, 1.0230, 0.9996]))]), 'divergences': {'chain 0': [35, 47, 49, 52, 53, 55, 63, 119, 135, 139, 330, 377, 391, 417, 594, 612, 615, 725, 733, 788, 790, 798, 915, 1006, 1034, 1153, 1234, 1240, 1261, 1282, 1285, 1290, 1291, 1292, 1294, 1298, 1301, 1306, 1307, 1309, 1310, 1311, 1312, 1313, 1319, 1410, 1411, 1412, 1414, 1416, 1419, 1420, 1421, 1423, 1426]}, 'acceptance rate': {'chain 0': 0.9613333333333334}}\n",
      "Registering the results in:  SX1/2023-11-19/n-5_k-2_m-8_sigma_w-10.0_sigma_p-0.01_n_samples-1500.yaml\n"
     ]
    },
    {
     "name": "stderr",
     "output_type": "stream",
     "text": [
      "Sample: 100%|████████████████████████████| 2000/2000 [01:26, 23.18it/s, step size=1.36e-01, acc. prob=0.708]\n"
     ]
    },
    {
     "name": "stdout",
     "output_type": "stream",
     "text": [
      "diag:  {'sigma': OrderedDict([('n_eff', tensor(181.4524)), ('r_hat', tensor(0.9998))]), 'w': OrderedDict([('n_eff', tensor([ 49.2999, 466.8286, 120.5780, 286.1014, 105.0060, 276.0782, 629.1387,\n",
      "        162.7209, 217.3863, 397.2705, 637.5367, 616.6615, 953.5444, 188.4668,\n",
      "        416.0159])), ('r_hat', tensor([1.0130, 0.9994, 1.0034, 1.0025, 1.0063, 1.0073, 0.9993, 1.0074, 1.0022,\n",
      "        1.0019, 0.9998, 1.0005, 0.9996, 1.0060, 1.0028]))]), 'divergences': {'chain 0': [97, 149, 231, 339, 345, 346, 347, 351, 354, 358, 359, 360, 361, 362, 363, 364, 367, 369, 371, 372, 373, 376, 378, 379, 381, 382, 383, 390, 392, 396, 398, 403, 406, 409, 410, 428, 535, 690, 694, 698, 705, 706, 708, 710, 712, 719, 722, 723, 724, 727, 731, 829, 845, 903, 932, 942, 997, 1401, 1427]}, 'acceptance rate': {'chain 0': 0.928}}\n",
      "Registering the results in:  SX1/2023-11-19/n-5_k-2_m-8_sigma_w-10.0_sigma_p-10.0_n_samples-1500.yaml\n"
     ]
    },
    {
     "name": "stderr",
     "output_type": "stream",
     "text": [
      "Sample: 100%|████████████████████████████| 2000/2000 [37:57,  1.14s/it, step size=4.27e-03, acc. prob=0.752]\n"
     ]
    },
    {
     "name": "stdout",
     "output_type": "stream",
     "text": [
      "diag:  {'sigma': OrderedDict([('n_eff', tensor(92.0081)), ('r_hat', tensor(1.0265))]), 'w': OrderedDict([('n_eff', tensor([ 98.2536,  56.5024,  72.9507, 184.1412, 350.5825, 141.3796, 167.4685,\n",
      "         89.6879, 114.5608, 183.7651, 256.3636, 172.6827,  65.6205,  77.1157,\n",
      "        122.7696])), ('r_hat', tensor([1.0245, 1.0346, 1.0296, 1.0019, 1.0025, 1.0054, 1.0163, 1.0272, 1.0299,\n",
      "        1.0167, 1.0010, 1.0001, 1.0246, 1.0110, 1.0169]))]), 'divergences': {'chain 0': [92, 96, 101, 107, 171, 173, 174, 181, 197, 266, 459, 483, 539, 598, 697, 719, 797, 858, 863, 864, 868, 873, 878, 880, 887, 928, 935, 949, 961, 1156, 1164, 1172, 1174, 1176, 1177, 1178, 1179, 1181, 1184, 1187, 1188, 1189, 1190, 1191, 1192, 1196, 1197, 1199, 1201, 1203, 1204, 1206, 1211, 1214, 1216, 1217, 1219, 1220, 1221, 1226, 1235, 1241, 1251, 1252, 1255, 1264, 1266, 1272, 1274, 1276, 1281, 1282, 1303, 1308]}, 'acceptance rate': {'chain 0': 0.9986666666666667}}\n",
      "Registering the results in:  SX1/2023-11-19/n-5_k-3_m-8_sigma_w-1_sigma_p-1_n_samples-1500.yaml\n"
     ]
    },
    {
     "name": "stderr",
     "output_type": "stream",
     "text": [
      "Sample: 100%|████████████████████████████| 2000/2000 [04:25,  7.55it/s, step size=5.89e-02, acc. prob=0.828]\n"
     ]
    },
    {
     "name": "stdout",
     "output_type": "stream",
     "text": [
      "diag:  {'sigma': OrderedDict([('n_eff', tensor(229.5424)), ('r_hat', tensor(0.9994))]), 'w': OrderedDict([('n_eff', tensor([ 443.5396,   83.9238,  979.0726,  757.1910,  167.1673,  794.4854,\n",
      "         256.3338,  828.2750,  763.4933,   96.3443,  753.6160,  214.3271,\n",
      "         138.1888,  425.7545,  363.4274, 1010.7635,  930.4701,  340.6596,\n",
      "         172.9829,  577.1674,  365.8028,   99.1370,  822.1911, 1092.8556,\n",
      "         456.6463])), ('r_hat', tensor([1.0013, 1.0113, 1.0064, 1.0004, 1.0014, 0.9998, 1.0027, 0.9995, 0.9998,\n",
      "        1.0285, 1.0016, 1.0059, 1.0068, 1.0039, 1.0050, 1.0010, 0.9998, 1.0028,\n",
      "        1.0063, 1.0001, 1.0022, 1.0116, 0.9997, 1.0014, 1.0010]))]), 'divergences': {'chain 0': [596, 598, 599, 704, 710, 713, 714, 716, 717, 719, 720, 721, 723, 736, 789, 1397, 1398, 1399, 1401, 1417, 1421, 1429, 1430, 1433, 1435, 1445, 1492]}, 'acceptance rate': {'chain 0': 0.9713333333333334}}\n",
      "Registering the results in:  SX1/2023-11-19/n-5_k-3_m-8_sigma_w-1_sigma_p-0.1_n_samples-1500.yaml\n"
     ]
    },
    {
     "name": "stderr",
     "output_type": "stream",
     "text": [
      "Sample: 100%|████████████████████████████| 2000/2000 [02:14, 14.89it/s, step size=1.41e-01, acc. prob=0.701]\n"
     ]
    },
    {
     "name": "stdout",
     "output_type": "stream",
     "text": [
      "diag:  {'sigma': OrderedDict([('n_eff', tensor(216.6581)), ('r_hat', tensor(1.0001))]), 'w': OrderedDict([('n_eff', tensor([ 499.4472,  434.8439,  218.6956,  619.4813,  616.0053, 1030.6322,\n",
      "        1284.4543,  226.2843,  848.5502,  311.9565,  600.7202,  754.5099,\n",
      "         502.7818,  904.7562,  798.6316, 1336.1595,  965.6638,  599.2817,\n",
      "         265.2276,  242.6919,  803.6500,  499.8822, 1075.5239, 1065.6158,\n",
      "         787.0735])), ('r_hat', tensor([0.9993, 1.0037, 1.0000, 1.0004, 1.0022, 0.9999, 0.9995, 1.0063, 1.0029,\n",
      "        1.0006, 1.0009, 0.9995, 1.0000, 1.0025, 0.9994, 1.0010, 0.9993, 0.9995,\n",
      "        1.0024, 1.0132, 0.9994, 1.0004, 0.9998, 0.9994, 0.9995]))]), 'divergences': {'chain 0': [54, 55, 63, 69, 71, 72, 76, 82, 88, 94, 98, 102, 110, 111, 112, 119, 120, 129, 132, 642, 712, 757, 863, 1002, 1216, 1284, 1379]}, 'acceptance rate': {'chain 0': 0.9273333333333333}}\n",
      "Registering the results in:  SX1/2023-11-19/n-5_k-3_m-8_sigma_w-1_sigma_p-0.01_n_samples-1500.yaml\n"
     ]
    },
    {
     "name": "stderr",
     "output_type": "stream",
     "text": [
      "Sample: 100%|████████████████████████████| 2000/2000 [02:06, 15.80it/s, step size=1.20e-01, acc. prob=0.819]\n"
     ]
    },
    {
     "name": "stdout",
     "output_type": "stream",
     "text": [
      "diag:  {'sigma': OrderedDict([('n_eff', tensor(793.0142)), ('r_hat', tensor(0.9995))]), 'w': OrderedDict([('n_eff', tensor([1204.2115,  930.3282,  682.8563, 1029.5935, 1161.8013, 1113.9847,\n",
      "         956.5565, 1034.4779, 1513.3260,  874.2871, 1092.3813,  837.4821,\n",
      "        1001.9371, 1034.0437, 1221.0309, 1241.6610,  983.4787,  892.0977,\n",
      "        1103.5857,  831.4921, 1263.3705,  751.7026, 1299.7590,  655.9330,\n",
      "        1247.6770])), ('r_hat', tensor([0.9997, 0.9993, 0.9997, 1.0002, 0.9993, 0.9995, 0.9995, 0.9994, 0.9993,\n",
      "        0.9993, 1.0000, 0.9993, 1.0014, 1.0003, 0.9996, 0.9993, 0.9995, 1.0004,\n",
      "        0.9995, 1.0003, 0.9996, 0.9996, 0.9995, 1.0009, 0.9995]))]), 'divergences': {'chain 0': [37, 283, 507, 548, 815, 974, 1065, 1142, 1143, 1144, 1146, 1147, 1148, 1149, 1150, 1155, 1166, 1195, 1202, 1230, 1253, 1258, 1358, 1477, 1478, 1479, 1485, 1491]}, 'acceptance rate': {'chain 0': 0.982}}\n",
      "Registering the results in:  SX1/2023-11-19/n-5_k-3_m-8_sigma_w-1_sigma_p-10.0_n_samples-1500.yaml\n"
     ]
    },
    {
     "name": "stderr",
     "output_type": "stream",
     "text": [
      "Sample: 100%|████████████████████████████| 2000/2000 [11:03,  3.01it/s, step size=1.65e-02, acc. prob=0.798]\n"
     ]
    },
    {
     "name": "stdout",
     "output_type": "stream",
     "text": [
      "diag:  {'sigma': OrderedDict([('n_eff', tensor(490.5319)), ('r_hat', tensor(1.0012))]), 'w': OrderedDict([('n_eff', tensor([ 333.0002,  452.1508,  453.3048,  421.0848,  458.1152, 1162.0994,\n",
      "         627.3981,  781.4081,  466.6951,  911.1092,  583.3729,  837.7831,\n",
      "         988.2357,  351.1149,  474.5429,  484.0330,  393.7940,  609.6440,\n",
      "         474.8333, 1195.8521,  380.8009,  826.2948,  959.0320,  477.1367,\n",
      "         335.4827])), ('r_hat', tensor([1.0025, 0.9996, 1.0018, 0.9996, 1.0005, 0.9993, 1.0031, 0.9995, 0.9995,\n",
      "        0.9994, 0.9996, 0.9994, 0.9995, 1.0018, 1.0013, 1.0058, 1.0014, 0.9998,\n",
      "        1.0009, 1.0009, 0.9994, 0.9993, 1.0019, 1.0097, 1.0031]))]), 'divergences': {'chain 0': [52, 165, 194, 204, 206, 208, 213, 214, 218, 227, 251, 255, 258, 259, 265, 411, 457, 479, 500, 533, 557, 564, 573, 575, 580, 582, 583, 754, 882, 883, 885, 888, 889, 890, 891, 892, 893, 894, 895, 897, 898, 899, 900, 901, 902, 905, 906, 908, 912, 914, 916, 923, 1089, 1197, 1269, 1303, 1317, 1424, 1459, 1472]}, 'acceptance rate': {'chain 0': 0.9973333333333333}}\n",
      "Registering the results in:  SX1/2023-11-19/n-5_k-3_m-8_sigma_w-0.1_sigma_p-1_n_samples-1500.yaml\n"
     ]
    },
    {
     "name": "stderr",
     "output_type": "stream",
     "text": [
      "Sample: 100%|████████████████████████████| 2000/2000 [01:26, 23.07it/s, step size=1.10e-01, acc. prob=0.793]\n"
     ]
    },
    {
     "name": "stdout",
     "output_type": "stream",
     "text": [
      "diag:  {'sigma': OrderedDict([('n_eff', tensor(305.0240)), ('r_hat', tensor(1.0034))]), 'w': OrderedDict([('n_eff', tensor([ 777.2114,  622.1116,  259.9475,  450.7142,  643.9081,  547.0150,\n",
      "         716.1920,  904.5595,  584.3199,  421.5247,  796.5232,  490.6128,\n",
      "         664.9617,  743.4977,  539.9708, 1104.9795,  928.1876, 1016.2925,\n",
      "         602.4531,  439.3121,  574.6749,  731.9156,  695.1841,  595.4637,\n",
      "         761.9870])), ('r_hat', tensor([1.0014, 1.0005, 1.0022, 1.0008, 0.9997, 1.0003, 0.9997, 0.9994, 1.0025,\n",
      "        0.9995, 1.0024, 0.9994, 0.9994, 1.0016, 0.9994, 0.9997, 0.9994, 0.9998,\n",
      "        1.0003, 1.0017, 0.9997, 1.0024, 0.9998, 1.0073, 0.9997]))]), 'divergences': {'chain 0': [21, 96, 214, 249, 267, 278, 291, 292, 1123, 1134, 1137, 1464, 1472, 1473, 1474]}, 'acceptance rate': {'chain 0': 0.966}}\n",
      "Registering the results in:  SX1/2023-11-19/n-5_k-3_m-8_sigma_w-0.1_sigma_p-0.1_n_samples-1500.yaml\n"
     ]
    },
    {
     "name": "stderr",
     "output_type": "stream",
     "text": [
      "Sample: 100%|████████████████████████████| 2000/2000 [01:14, 26.67it/s, step size=1.51e-01, acc. prob=0.795]\n"
     ]
    },
    {
     "name": "stdout",
     "output_type": "stream",
     "text": [
      "diag:  {'sigma': OrderedDict([('n_eff', tensor(1489.7732)), ('r_hat', tensor(1.0001))]), 'w': OrderedDict([('n_eff', tensor([ 789.4359,  696.6588, 1660.4828, 1081.0405,  908.5162,  814.6794,\n",
      "        1446.5414, 1273.9487, 1523.6267, 1430.7908,  977.5768, 1016.8999,\n",
      "        1059.9829,  670.8646, 1744.3727, 1018.0729, 1254.1682, 1424.3308,\n",
      "        2057.2432,  985.6648, 1207.4813,  960.7336, 1601.6440, 1587.0394,\n",
      "        1214.9935])), ('r_hat', tensor([0.9993, 1.0009, 0.9994, 1.0022, 1.0015, 0.9994, 1.0002, 0.9993, 0.9995,\n",
      "        1.0010, 1.0003, 0.9994, 0.9994, 0.9997, 1.0007, 0.9994, 0.9995, 0.9993,\n",
      "        0.9993, 0.9999, 0.9997, 0.9994, 1.0000, 0.9993, 0.9994]))]), 'divergences': {'chain 0': [31, 88, 205, 327, 477, 603, 739, 747, 789, 795, 926, 1000, 1028, 1041, 1058, 1192, 1196, 1352, 1365, 1411]}, 'acceptance rate': {'chain 0': 0.9866666666666667}}\n",
      "Registering the results in:  SX1/2023-11-19/n-5_k-3_m-8_sigma_w-0.1_sigma_p-0.01_n_samples-1500.yaml\n"
     ]
    },
    {
     "name": "stderr",
     "output_type": "stream",
     "text": [
      "Sample: 100%|████████████████████████████| 2000/2000 [02:13, 15.00it/s, step size=8.49e-02, acc. prob=0.869]\n"
     ]
    },
    {
     "name": "stdout",
     "output_type": "stream",
     "text": [
      "diag:  {'sigma': OrderedDict([('n_eff', tensor(84.9413)), ('r_hat', tensor(1.0434))]), 'w': OrderedDict([('n_eff', tensor([ 813.0920, 1060.4199,  417.5875,  670.5095,  144.9961,  660.5888,\n",
      "         854.0693,  895.5620,  807.8683, 1125.2645, 1956.7609,  495.3720,\n",
      "         329.4625,  723.4668,  625.1710, 1190.9917, 1219.4806,  853.2012,\n",
      "         895.0771,  484.3646,  734.6522,  591.2855,  645.4366, 1381.7437,\n",
      "         431.8438])), ('r_hat', tensor([1.0005, 1.0001, 1.0005, 0.9993, 1.0153, 0.9993, 1.0024, 1.0087, 1.0021,\n",
      "        1.0007, 0.9994, 1.0033, 0.9994, 0.9996, 1.0059, 0.9999, 0.9996, 0.9999,\n",
      "        1.0065, 1.0042, 0.9994, 1.0014, 1.0000, 1.0005, 1.0060]))]), 'divergences': {'chain 0': [31, 36, 41, 44, 223, 656, 1012]}, 'acceptance rate': {'chain 0': 0.984}}\n",
      "Registering the results in:  SX1/2023-11-19/n-5_k-3_m-8_sigma_w-0.1_sigma_p-10.0_n_samples-1500.yaml\n"
     ]
    },
    {
     "name": "stderr",
     "output_type": "stream",
     "text": [
      "Sample: 100%|████████████████████████████| 2000/2000 [02:15, 14.75it/s, step size=8.31e-02, acc. prob=0.747]\n"
     ]
    },
    {
     "name": "stdout",
     "output_type": "stream",
     "text": [
      "diag:  {'sigma': OrderedDict([('n_eff', tensor(359.0830)), ('r_hat', tensor(1.0030))]), 'w': OrderedDict([('n_eff', tensor([ 580.7755,  486.5307,  812.9854,  990.0380,  733.2478,  771.4670,\n",
      "        1361.3593,  884.4078,  745.1971,  358.4761,  940.2694,  490.6101,\n",
      "         656.2758,  858.0674,  778.7597, 1053.9070,  751.2748, 1018.9055,\n",
      "         568.5627, 1276.9176,  459.0586,  844.3582,  707.0789,  900.8453,\n",
      "         817.5826])), ('r_hat', tensor([1.0026, 0.9998, 1.0079, 0.9996, 0.9994, 1.0009, 0.9993, 1.0039, 0.9998,\n",
      "        1.0063, 1.0005, 1.0014, 0.9995, 1.0042, 0.9996, 0.9997, 0.9994, 0.9993,\n",
      "        0.9994, 0.9998, 1.0082, 1.0060, 1.0004, 1.0005, 0.9998]))]), 'divergences': {'chain 0': [49, 136, 137, 140, 172, 207, 261, 269, 275, 277, 323, 330, 368, 421, 500, 614, 618, 809, 1154, 1266, 1303, 1311]}, 'acceptance rate': {'chain 0': 0.9806666666666667}}\n",
      "Registering the results in:  SX1/2023-11-19/n-5_k-3_m-8_sigma_w-0.01_sigma_p-1_n_samples-1500.yaml\n"
     ]
    },
    {
     "name": "stderr",
     "output_type": "stream",
     "text": [
      "Sample: 100%|████████████████████████████| 2000/2000 [01:15, 26.52it/s, step size=1.02e-01, acc. prob=0.659]\n"
     ]
    },
    {
     "name": "stdout",
     "output_type": "stream",
     "text": [
      "diag:  {'sigma': OrderedDict([('n_eff', tensor(149.7574)), ('r_hat', tensor(1.0063))]), 'w': OrderedDict([('n_eff', tensor([388.5750, 613.0923, 240.0902, 169.9727, 142.3801, 115.5910, 216.4567,\n",
      "        150.5225, 248.5743, 118.1014, 202.4006, 136.9623, 169.8898, 316.8135,\n",
      "        233.4489, 143.4182, 231.0523, 240.8006, 169.2459, 202.3928, 407.8528,\n",
      "        171.9592, 298.4308, 308.5332, 319.3048])), ('r_hat', tensor([0.9997, 1.0029, 1.0129, 1.0132, 1.0004, 1.0158, 0.9996, 1.0027, 1.0013,\n",
      "        1.0038, 1.0095, 1.0129, 1.0161, 0.9999, 1.0026, 1.0121, 1.0013, 0.9997,\n",
      "        1.0045, 1.0096, 0.9994, 1.0019, 1.0000, 1.0008, 0.9999]))]), 'divergences': {'chain 0': [155, 317, 375, 690, 717, 725, 730, 733, 736, 742, 747, 750, 753, 758, 767, 843, 856, 1243, 1245, 1467, 1468, 1483, 1484, 1490, 1491, 1499]}, 'acceptance rate': {'chain 0': 0.8986666666666666}}\n",
      "Registering the results in:  SX1/2023-11-19/n-5_k-3_m-8_sigma_w-0.01_sigma_p-0.1_n_samples-1500.yaml\n"
     ]
    },
    {
     "name": "stderr",
     "output_type": "stream",
     "text": [
      "Sample: 100%|████████████████████████████| 2000/2000 [00:43, 45.80it/s, step size=1.95e-01, acc. prob=0.689]\n"
     ]
    },
    {
     "name": "stdout",
     "output_type": "stream",
     "text": [
      "diag:  {'sigma': OrderedDict([('n_eff', tensor(411.9688)), ('r_hat', tensor(0.9997))]), 'w': OrderedDict([('n_eff', tensor([503.8335, 704.8219, 580.0381, 563.1182, 766.9277, 741.0430, 384.1035,\n",
      "        425.3906, 397.8430, 773.6152, 697.9650, 305.9478, 519.9681, 256.0100,\n",
      "        500.2873, 657.6591, 449.4532, 601.0319, 260.9308, 629.0384, 539.1637,\n",
      "        430.9940, 529.6078, 426.2640, 377.8742])), ('r_hat', tensor([0.9994, 1.0071, 1.0058, 0.9999, 1.0080, 1.0035, 0.9999, 1.0101, 0.9993,\n",
      "        1.0006, 1.0115, 0.9995, 0.9995, 1.0089, 1.0073, 1.0029, 1.0027, 1.0004,\n",
      "        1.0001, 0.9997, 1.0077, 0.9995, 0.9993, 1.0024, 0.9998]))]), 'divergences': {'chain 0': [10, 206, 316, 330, 533, 535, 536, 537, 544, 545, 548, 549, 551, 552, 561, 562, 563, 564, 567, 714, 729, 836, 1198, 1253, 1458, 1465, 1472, 1476]}, 'acceptance rate': {'chain 0': 0.9293333333333333}}\n",
      "Registering the results in:  SX1/2023-11-19/n-5_k-3_m-8_sigma_w-0.01_sigma_p-0.01_n_samples-1500.yaml\n"
     ]
    },
    {
     "name": "stderr",
     "output_type": "stream",
     "text": [
      "Sample: 100%|███████████████████████████| 2000/2000 [00:18, 106.05it/s, step size=4.68e-01, acc. prob=0.655]\n"
     ]
    },
    {
     "name": "stdout",
     "output_type": "stream",
     "text": [
      "diag:  {'sigma': OrderedDict([('n_eff', tensor(20.1415)), ('r_hat', tensor(1.0878))]), 'w': OrderedDict([('n_eff', tensor([ 79.5333, 234.9554,  12.3669,  46.8254, 777.5898,   9.6265, 657.8989,\n",
      "        344.1241,  17.6456, 364.3864, 187.5017,  28.8390,   8.1112, 863.5726,\n",
      "         20.8315,  26.1728, 134.8435,  95.7954,  26.3134,  16.8985, 179.5116,\n",
      "         17.0046,  31.6485,  14.0373, 418.1328])), ('r_hat', tensor([1.0266, 1.0074, 1.1123, 1.0486, 1.0048, 1.1451, 1.0000, 1.0070, 1.0906,\n",
      "        0.9993, 1.0006, 1.0605, 1.1909, 1.0015, 1.0817, 1.0580, 1.0188, 1.0047,\n",
      "        1.0699, 1.0804, 1.0035, 1.1023, 1.0401, 1.0950, 0.9996]))]), 'divergences': {'chain 0': [1084, 1091, 1092, 1097, 1098, 1108, 1111, 1112, 1115, 1116, 1118, 1119, 1120, 1121, 1127, 1129, 1130, 1132, 1136, 1139, 1141, 1142, 1143, 1144, 1147, 1148, 1149, 1150, 1152, 1154, 1155, 1156, 1157, 1158, 1159, 1160, 1161, 1162, 1163, 1164, 1167, 1168, 1169, 1170, 1172, 1173, 1174, 1176, 1179, 1180, 1182, 1183, 1184, 1185, 1186, 1188, 1189, 1191, 1192, 1193, 1194, 1195, 1196, 1198, 1199, 1200, 1201, 1202, 1204, 1205, 1206, 1207, 1208, 1210, 1211, 1213, 1214, 1215, 1219, 1223, 1224, 1226, 1227, 1228, 1232, 1233, 1235, 1236, 1238, 1239, 1240, 1241, 1242, 1243, 1244, 1246, 1248, 1249, 1251, 1253, 1254, 1255, 1256, 1259, 1260, 1261, 1262, 1264, 1266, 1269, 1270, 1271, 1272, 1273, 1274, 1275, 1277, 1279, 1280, 1281, 1282, 1283, 1284, 1285, 1287, 1289, 1290, 1291, 1292, 1293, 1295, 1296, 1297, 1298, 1299, 1300, 1301, 1305, 1306, 1307, 1308, 1310, 1311, 1312, 1314, 1315, 1316, 1317, 1318, 1319, 1322, 1323, 1326, 1327, 1328, 1329, 1330, 1332, 1333, 1334, 1335, 1336, 1337, 1338, 1339, 1340, 1341, 1343, 1344, 1345, 1347, 1348, 1349, 1350, 1352, 1353, 1354, 1355, 1356, 1358, 1359, 1360, 1361, 1362, 1363, 1365, 1368, 1369, 1370, 1371, 1372, 1373, 1374, 1375, 1376, 1377, 1378, 1379, 1380, 1381, 1382, 1383, 1385, 1386, 1387, 1389, 1390, 1391, 1392, 1393, 1394, 1395, 1396, 1399, 1400, 1401, 1403, 1404, 1405, 1406, 1407, 1408, 1409, 1410, 1411, 1412, 1413, 1414, 1415, 1416, 1418, 1419, 1422, 1423, 1425, 1427, 1428, 1430, 1431, 1432, 1433, 1435, 1437, 1440, 1441, 1442, 1443, 1444, 1445, 1446, 1448, 1449, 1450, 1451, 1452, 1454, 1455, 1456, 1459, 1460, 1461, 1464, 1467, 1468, 1469, 1471, 1472, 1473, 1474, 1477, 1478, 1481, 1482, 1483, 1484, 1486, 1487, 1488, 1490, 1493, 1494, 1495, 1496, 1499]}, 'acceptance rate': {'chain 0': 0.7506666666666667}}\n",
      "Registering the results in:  SX1/2023-11-19/n-5_k-3_m-8_sigma_w-0.01_sigma_p-10.0_n_samples-1500.yaml\n"
     ]
    },
    {
     "name": "stderr",
     "output_type": "stream",
     "text": [
      "Sample: 100%|████████████████████████████| 2000/2000 [02:13, 15.00it/s, step size=5.73e-02, acc. prob=0.943]\n"
     ]
    },
    {
     "name": "stdout",
     "output_type": "stream",
     "text": [
      "diag:  {'sigma': OrderedDict([('n_eff', tensor(504.3261)), ('r_hat', tensor(0.9996))]), 'w': OrderedDict([('n_eff', tensor([1710.5333, 1176.8494, 1079.0513, 1155.4091, 1686.7733, 2140.8047,\n",
      "        1826.9602, 1981.4159, 1733.4453, 1328.9769, 2108.2139, 1226.8005,\n",
      "        1509.1628, 2063.7708, 1690.3123, 2094.3298, 2065.8215, 2203.6953,\n",
      "        2392.8521, 2894.8735, 1744.7297, 1848.9274, 1697.5278, 2096.6331,\n",
      "        2652.3369])), ('r_hat', tensor([0.9994, 1.0005, 0.9994, 0.9999, 0.9998, 1.0003, 0.9994, 0.9994, 0.9993,\n",
      "        0.9995, 1.0000, 1.0000, 0.9993, 0.9993, 1.0000, 0.9993, 0.9993, 1.0008,\n",
      "        0.9993, 0.9996, 0.9994, 0.9998, 0.9993, 0.9993, 0.9993]))]), 'divergences': {'chain 0': [1089, 1181]}, 'acceptance rate': {'chain 0': 0.9966666666666667}}\n",
      "Registering the results in:  SX1/2023-11-19/n-5_k-3_m-8_sigma_w-10.0_sigma_p-1_n_samples-1500.yaml\n"
     ]
    },
    {
     "name": "stderr",
     "output_type": "stream",
     "text": [
      "Sample: 100%|████████████████████████████| 2000/2000 [06:25,  5.18it/s, step size=2.66e-02, acc. prob=0.585]\n"
     ]
    },
    {
     "name": "stdout",
     "output_type": "stream",
     "text": [
      "diag:  {'sigma': OrderedDict([('n_eff', tensor(17.2533)), ('r_hat', tensor(0.9994))]), 'w': OrderedDict([('n_eff', tensor([ 83.2758, 127.1706,  14.6494,  98.0549,  61.4716, 130.5086,  40.2203,\n",
      "         30.2199,  45.4541,  15.3849,  29.1773, 104.2455, 129.4052,  28.4236,\n",
      "         82.7472,  26.4344,  43.8712,  52.0285,  45.2162,  33.9019,  17.0817,\n",
      "        112.5347,  40.9430,  46.2894,  27.3184])), ('r_hat', tensor([1.0065, 1.0068, 1.0009, 1.0062, 1.0054, 1.0100, 1.0067, 1.0226, 1.0031,\n",
      "        1.0008, 1.0165, 1.0033, 1.0001, 1.0604, 1.0010, 1.0244, 1.0252, 1.0299,\n",
      "        1.0072, 1.0002, 1.0040, 0.9999, 1.0627, 0.9997, 1.1146]))]), 'divergences': {'chain 0': [35, 38, 41, 64, 70, 123, 162, 181, 183, 184, 254, 275, 294, 468, 491, 494, 496, 499, 502, 503, 504, 505, 506, 507, 508, 511, 512, 515, 522, 525, 526, 527, 531, 533, 534, 535, 536, 537, 540, 541, 542, 543, 545, 546, 547, 548, 549, 550, 551, 552, 553, 554, 555, 557, 558, 559, 560, 561, 562, 563, 564, 565, 567, 568, 569, 570, 572, 573, 574, 575, 576, 577, 578, 579, 581, 582, 583, 585, 592, 594, 595, 596, 597, 599, 600, 601, 603, 604, 606, 607, 608, 609, 610, 611, 612, 613, 614, 615, 618, 620, 621, 622, 623, 624, 625, 626, 627, 629, 630, 631, 632, 633, 634, 635, 636, 638, 639, 640, 641, 642, 644, 645, 646, 647, 648, 649, 650, 651, 652, 653, 654, 656, 657, 658, 659, 661, 662, 663, 664, 665, 667, 668, 669, 670, 671, 672, 673, 674, 675, 676, 678, 679, 680, 682, 684, 685, 686, 687, 688, 690, 691, 692, 693, 695, 696, 698, 701, 702, 703, 705, 706, 707, 708, 709, 710, 711, 712, 713, 714, 716, 717, 718, 719, 720, 721, 722, 723, 724, 725, 726, 728, 729, 730, 731, 733, 734, 735, 736, 738, 740, 741, 743, 744, 745, 746, 747, 748, 749, 750, 751, 752, 753, 754, 755, 756, 757, 758, 759, 760, 762, 763, 764, 765, 766, 767, 768, 769, 770, 771, 773, 774, 775, 776, 779, 780, 781, 782, 783, 784, 785, 786, 787, 789, 790, 791, 792, 793, 795, 796, 798, 799, 800, 801, 802, 803, 804, 805, 806, 808, 809, 813, 814, 817, 819, 820, 821, 822, 823, 824, 825, 826, 827, 828, 829, 830, 831, 833, 834, 835, 836, 837, 838, 839, 840, 841, 842, 843, 844, 845, 848, 849, 850, 852, 853, 856, 857, 858, 859, 860, 861, 862, 864, 866, 867, 871, 872, 873, 874, 876, 877, 878, 879, 880, 881, 882, 883, 884, 885, 886, 887, 888, 889, 891, 893, 894, 895, 896, 897, 898, 899, 900, 902, 903, 904, 905, 907, 908, 909, 910, 911, 912, 913, 914, 915, 916, 917, 918, 919, 920, 921, 922, 923, 924, 925, 926, 927, 929, 930, 932, 933, 934, 935, 936, 937, 938, 940, 941, 942, 943, 944, 945, 946, 947, 948, 949, 951, 953, 954, 956, 957, 959, 960, 961, 963, 964, 965, 966, 967, 969, 970, 971, 972, 973, 974, 975, 976, 977, 979, 980, 983, 984, 985, 986, 988, 989, 990, 991, 992, 994, 996, 997, 998, 999, 1001, 1003, 1005, 1006, 1007, 1008, 1009, 1012, 1013, 1014, 1020, 1024, 1028, 1029, 1037, 1095, 1106, 1108, 1167, 1168, 1172, 1173, 1174, 1175, 1176, 1177, 1191, 1259, 1308, 1333, 1356, 1435]}, 'acceptance rate': {'chain 0': 0.956}}\n",
      "Registering the results in:  SX1/2023-11-19/n-5_k-3_m-8_sigma_w-10.0_sigma_p-0.1_n_samples-1500.yaml\n"
     ]
    },
    {
     "name": "stderr",
     "output_type": "stream",
     "text": [
      "Sample: 100%|████████████████████████████| 2000/2000 [02:31, 13.19it/s, step size=6.23e-02, acc. prob=0.828]\n"
     ]
    },
    {
     "name": "stdout",
     "output_type": "stream",
     "text": [
      "diag:  {'sigma': OrderedDict([('n_eff', tensor(118.6606)), ('r_hat', tensor(1.0359))]), 'w': OrderedDict([('n_eff', tensor([ 442.2694,  460.9842,  503.9624,  227.6247,  314.2356,  163.9294,\n",
      "         639.1099,  111.5437,  294.2814,  642.5972,  547.1299,  802.8229,\n",
      "         202.0187,  411.0027,  759.6547,  173.2218,  337.8108,  536.6465,\n",
      "         885.9833,  544.3950,  256.6520,  449.7363,  819.9882, 1465.7422,\n",
      "         202.9974])), ('r_hat', tensor([0.9996, 1.0033, 1.0023, 1.0058, 1.0000, 0.9994, 1.0009, 1.0168, 1.0076,\n",
      "        0.9993, 1.0006, 1.0018, 1.0082, 0.9996, 0.9994, 1.0069, 1.0035, 1.0018,\n",
      "        1.0000, 0.9998, 1.0102, 1.0003, 1.0006, 1.0011, 1.0047]))]), 'divergences': {'chain 0': [0, 18, 221, 242, 243, 245, 248, 249, 250, 251, 254, 255, 256, 257, 259, 261, 263, 265, 267, 268, 269, 270, 271, 272, 275, 276, 277, 278, 281, 282, 283, 284, 285, 286, 287, 288, 289, 291, 292, 296, 298, 299, 301, 303, 305, 306, 308, 309, 310, 311, 312, 316, 317, 318, 319, 320, 321, 322, 323, 325, 326, 327, 328, 329, 330, 331, 332, 333, 335, 337, 339, 341, 344, 345, 346, 349, 351, 352, 353, 354, 355, 358, 359, 361, 362, 363, 364, 365, 368, 370, 371, 373, 374, 382, 384, 387, 389, 391, 452, 546, 654, 655, 656, 657, 658, 659, 660, 661, 664, 665, 666, 668, 671, 675, 676, 677, 679, 680, 681, 683, 1044, 1127, 1495]}, 'acceptance rate': {'chain 0': 0.982}}\n",
      "Registering the results in:  SX1/2023-11-19/n-5_k-3_m-8_sigma_w-10.0_sigma_p-0.01_n_samples-1500.yaml\n"
     ]
    },
    {
     "name": "stderr",
     "output_type": "stream",
     "text": [
      "Sample: 100%|████████████████████████████| 2000/2000 [02:37, 12.71it/s, step size=6.71e-02, acc. prob=0.894]\n"
     ]
    },
    {
     "name": "stdout",
     "output_type": "stream",
     "text": [
      "diag:  {'sigma': OrderedDict([('n_eff', tensor(591.9220)), ('r_hat', tensor(1.0009))]), 'w': OrderedDict([('n_eff', tensor([1291.9111, 1876.2832, 1678.8505,  936.2343, 2020.4163, 1914.3992,\n",
      "        1408.6731, 1803.6005, 1550.7542, 1907.8516, 1224.6920, 1796.8586,\n",
      "        2030.9636, 1292.7134, 1249.1719, 1518.3472, 1517.2872, 1330.4536,\n",
      "        1456.4496, 2266.6262, 1493.9626, 1410.9247, 1726.9674, 1804.8911,\n",
      "        1435.5520])), ('r_hat', tensor([1.0008, 0.9995, 1.0008, 0.9994, 1.0012, 0.9994, 0.9998, 0.9994, 1.0000,\n",
      "        0.9995, 0.9996, 0.9994, 1.0000, 1.0004, 1.0022, 1.0000, 0.9994, 1.0058,\n",
      "        0.9997, 0.9994, 0.9997, 1.0018, 0.9995, 0.9996, 0.9994]))]), 'divergences': {'chain 0': [67, 258, 613, 1275]}, 'acceptance rate': {'chain 0': 0.9946666666666667}}\n",
      "Registering the results in:  SX1/2023-11-19/n-5_k-3_m-8_sigma_w-10.0_sigma_p-10.0_n_samples-1500.yaml\n"
     ]
    },
    {
     "name": "stderr",
     "output_type": "stream",
     "text": [
      "Sample: 100%|████████████████████████████| 2000/2000 [45:55,  1.38s/it, step size=3.19e-03, acc. prob=0.768]\n"
     ]
    },
    {
     "name": "stdout",
     "output_type": "stream",
     "text": [
      "diag:  {'sigma': OrderedDict([('n_eff', tensor(172.3777)), ('r_hat', tensor(1.0079))]), 'w': OrderedDict([('n_eff', tensor([243.8208, 236.5030, 259.4489, 620.2419, 409.8751, 322.1508,  32.8578,\n",
      "        290.9973, 236.3136, 296.9265, 223.4032, 314.6615, 239.2877,  97.9146,\n",
      "        400.3073, 255.4881, 268.3488, 451.6971, 396.9895, 322.4527, 361.9590,\n",
      "        420.4324, 323.5351, 323.7638, 423.6195])), ('r_hat', tensor([1.0027, 1.0007, 1.0000, 1.0087, 1.0162, 1.0043, 1.0709, 1.0027, 1.0000,\n",
      "        1.0059, 1.0132, 1.0003, 1.0066, 1.0373, 1.0050, 1.0001, 0.9997, 1.0036,\n",
      "        0.9995, 1.0056, 0.9994, 1.0002, 1.0040, 1.0017, 1.0129]))]), 'divergences': {'chain 0': [119, 173, 180, 266, 269, 286, 326, 341, 350, 389, 393, 396, 457, 525, 526, 554, 573, 582, 612, 647, 683, 762, 959, 962, 966, 997, 1049, 1050, 1226, 1230, 1232, 1234, 1235, 1236, 1237, 1241, 1242, 1243, 1244, 1247, 1250, 1252, 1256, 1257, 1258, 1259, 1261, 1263, 1264, 1267, 1268, 1269, 1271, 1272, 1273, 1274, 1275, 1279, 1280, 1281, 1282, 1283, 1287, 1288, 1290, 1292, 1293, 1296, 1299, 1301, 1305, 1308, 1309, 1310, 1369, 1407]}, 'acceptance rate': {'chain 0': 1.0}}\n",
      "Registering the results in:  SX1/2023-11-19/n-5_k-1_m-16_sigma_w-1_sigma_p-1_n_samples-1500.yaml\n"
     ]
    },
    {
     "name": "stderr",
     "output_type": "stream",
     "text": [
      "Sample: 100%|████████████████████████████| 2000/2000 [01:16, 26.20it/s, step size=1.52e-01, acc. prob=0.760]\n"
     ]
    },
    {
     "name": "stdout",
     "output_type": "stream",
     "text": [
      "diag:  {'sigma': OrderedDict([('n_eff', tensor(281.7561)), ('r_hat', tensor(1.0022))]), 'w': OrderedDict([('n_eff', tensor([137.9240, 179.2530, 163.0838, 135.1983, 135.1344])), ('r_hat', tensor([0.9993, 1.0021, 1.0009, 0.9997, 0.9993]))]), 'divergences': {'chain 0': [29, 90, 98, 112, 120, 126, 133, 230, 237, 239, 280, 321, 323, 399, 424, 444, 450, 454, 518, 543, 573, 590, 591, 592, 593, 673, 691, 695, 810, 820, 928, 932, 934, 935, 937, 945, 948, 1092, 1100, 1105, 1109, 1123, 1126, 1151, 1184, 1186, 1221, 1224, 1232, 1239, 1241, 1256, 1262, 1326, 1425, 1427]}, 'acceptance rate': {'chain 0': 0.9506666666666667}}\n",
      "Registering the results in:  SX1/2023-11-19/n-5_k-1_m-16_sigma_w-1_sigma_p-0.1_n_samples-1500.yaml\n"
     ]
    },
    {
     "name": "stderr",
     "output_type": "stream",
     "text": [
      "Sample: 100%|████████████████████████████| 2000/2000 [01:55, 17.36it/s, step size=6.40e-02, acc. prob=0.771]\n"
     ]
    },
    {
     "name": "stdout",
     "output_type": "stream",
     "text": [
      "diag:  {'sigma': OrderedDict([('n_eff', tensor(243.2854)), ('r_hat', tensor(1.0017))]), 'w': OrderedDict([('n_eff', tensor([ 98.6341,  98.9632, 178.3917,  95.5028,  95.5839])), ('r_hat', tensor([1.0542, 1.0547, 1.0172, 1.0538, 1.0448]))]), 'divergences': {'chain 0': [2, 12, 15, 35, 43, 46, 50, 52, 54, 57, 68, 90, 101, 107, 108, 112, 113, 115, 116, 120, 121, 122, 124, 128, 137, 145, 148, 156, 179, 209, 212, 255, 280, 296, 297, 303, 353, 354, 357, 359, 396, 429, 439, 445, 464, 504, 543, 563, 582, 584, 586, 587, 588, 597, 601, 602, 606, 634, 639, 644, 646, 647, 656, 657, 661, 670, 671, 672, 673, 674, 677, 682, 686, 697, 745, 781, 782, 829, 893, 916, 917, 923, 954, 965, 980, 983, 984, 988, 996, 1021, 1046, 1058, 1075, 1082, 1117, 1120, 1127, 1144, 1171, 1193, 1201, 1224, 1325, 1337, 1352, 1356, 1365, 1374, 1376, 1442, 1448, 1495]}, 'acceptance rate': {'chain 0': 0.95}}\n",
      "Registering the results in:  SX1/2023-11-19/n-5_k-1_m-16_sigma_w-1_sigma_p-0.01_n_samples-1500.yaml\n"
     ]
    },
    {
     "name": "stderr",
     "output_type": "stream",
     "text": [
      "Sample: 100%|████████████████████████████| 2000/2000 [01:32, 21.58it/s, step size=1.05e-01, acc. prob=0.801]\n"
     ]
    },
    {
     "name": "stdout",
     "output_type": "stream",
     "text": [
      "diag:  {'sigma': OrderedDict([('n_eff', tensor(204.2039)), ('r_hat', tensor(0.9998))]), 'w': OrderedDict([('n_eff', tensor([205.1479, 205.9300, 246.9177, 123.1928, 202.5944])), ('r_hat', tensor([1.0023, 1.0033, 1.0052, 1.0080, 1.0041]))]), 'divergences': {'chain 0': [44, 58, 127, 130, 132, 134, 136, 145, 157, 174, 198, 208, 226, 242, 299, 322, 342, 377, 390, 398, 479, 516, 521, 535, 542, 549, 577, 606, 654, 689, 690, 697, 700, 705, 719, 746, 778, 858, 863, 868, 869, 871, 913, 915, 919, 921, 925, 927, 931, 998, 1024, 1025, 1028, 1047, 1085, 1154, 1176, 1181, 1182, 1183, 1184, 1185, 1186, 1187, 1188, 1189, 1191, 1192, 1193, 1194, 1196, 1197, 1198, 1199, 1200, 1202, 1206, 1208, 1211, 1213, 1214, 1215, 1217, 1218, 1219, 1220, 1221, 1222, 1223, 1229, 1232, 1233, 1234, 1239, 1241, 1243, 1245, 1250, 1288, 1289, 1290, 1291, 1296, 1297, 1301, 1302, 1311, 1312, 1343, 1373, 1415]}, 'acceptance rate': {'chain 0': 0.964}}\n",
      "Registering the results in:  SX1/2023-11-19/n-5_k-1_m-16_sigma_w-1_sigma_p-10.0_n_samples-1500.yaml\n"
     ]
    },
    {
     "name": "stderr",
     "output_type": "stream",
     "text": [
      "Sample: 100%|████████████████████████████| 2000/2000 [02:25, 13.78it/s, step size=5.88e-02, acc. prob=0.771]\n"
     ]
    },
    {
     "name": "stdout",
     "output_type": "stream",
     "text": [
      "diag:  {'sigma': OrderedDict([('n_eff', tensor(171.7856)), ('r_hat', tensor(1.0033))]), 'w': OrderedDict([('n_eff', tensor([ 80.6691, 115.9861,  83.3430,  84.3148,  87.7271])), ('r_hat', tensor([1.0007, 1.0003, 1.0007, 0.9998, 1.0021]))]), 'divergences': {'chain 0': [4, 91, 99, 128, 333, 396, 399, 430, 444, 452, 480, 493, 495, 498, 504, 547, 611, 612, 656, 657, 778, 818, 842, 873, 1012, 1021, 1022, 1023, 1024, 1026, 1055, 1058, 1078, 1080, 1082, 1083, 1084, 1085, 1092, 1149, 1261, 1317, 1319, 1320, 1326, 1330, 1367, 1381, 1412]}, 'acceptance rate': {'chain 0': 0.962}}\n",
      "Registering the results in:  SX1/2023-11-19/n-5_k-1_m-16_sigma_w-0.1_sigma_p-1_n_samples-1500.yaml\n"
     ]
    },
    {
     "name": "stderr",
     "output_type": "stream",
     "text": [
      "Sample: 100%|████████████████████████████| 2000/2000 [01:40, 19.82it/s, step size=8.78e-02, acc. prob=0.647]\n"
     ]
    },
    {
     "name": "stdout",
     "output_type": "stream",
     "text": [
      "diag:  {'sigma': OrderedDict([('n_eff', tensor(34.0078)), ('r_hat', tensor(1.0064))]), 'w': OrderedDict([('n_eff', tensor([40.7487, 46.4009, 40.6170, 66.8122, 38.3265])), ('r_hat', tensor([1.0578, 1.0718, 1.0385, 1.0268, 1.0478]))]), 'divergences': {'chain 0': [141, 191, 383, 412, 418, 419, 424, 436, 442, 493, 604, 636, 639, 640, 644, 645, 648, 650, 651, 653, 655, 656, 659, 665, 666, 673, 674, 675, 676, 677, 678, 683, 686, 687, 689, 690, 691, 693, 694, 696, 701, 704, 706, 708, 711, 712, 718, 719, 723, 728, 730, 731, 736, 738, 739, 743, 836, 926, 929, 951, 1079, 1085, 1101, 1104, 1107, 1108, 1109, 1112, 1116, 1117, 1120, 1132, 1133, 1135, 1140, 1142, 1146, 1152, 1156, 1158, 1159, 1163, 1164, 1165, 1167, 1168, 1169, 1170, 1171, 1172, 1173, 1174, 1176, 1177, 1178, 1179, 1180, 1181, 1182, 1183, 1185, 1187, 1188, 1189, 1190, 1191, 1192, 1193, 1194, 1195, 1197, 1198, 1199, 1200, 1201, 1202, 1204, 1205, 1206, 1208, 1209, 1210, 1211, 1213, 1214, 1215, 1217, 1218, 1219, 1220, 1221, 1222, 1223, 1224, 1225, 1226, 1227, 1228, 1230, 1231, 1233, 1235, 1236, 1237, 1238, 1239, 1240, 1242, 1244, 1246, 1248, 1251, 1252, 1253, 1254, 1255, 1256, 1257, 1258, 1259, 1260, 1261, 1262, 1263, 1265, 1266, 1267, 1268, 1269, 1270, 1271, 1272, 1273, 1274, 1275, 1278, 1281, 1282, 1283, 1284, 1286, 1287, 1288, 1290, 1291, 1292, 1293, 1295, 1296, 1297, 1299, 1300, 1301, 1302, 1303, 1304, 1305, 1306, 1307, 1308, 1309, 1310, 1311, 1312, 1313, 1315, 1316, 1317, 1320, 1321, 1322, 1323, 1324, 1325, 1326, 1327, 1328, 1329, 1330, 1331, 1332, 1333, 1334, 1335, 1336, 1337, 1338, 1339, 1342, 1343, 1344, 1347, 1349, 1350, 1352, 1356, 1361, 1362, 1363, 1364, 1365, 1366, 1367, 1368, 1370, 1371, 1372, 1373, 1374, 1375, 1376, 1377, 1378, 1379, 1381, 1383, 1384, 1387, 1388, 1389, 1391, 1392, 1394, 1400, 1402, 1411, 1412, 1416, 1417, 1418, 1428, 1453, 1459, 1462, 1469, 1473, 1493, 1494]}, 'acceptance rate': {'chain 0': 0.9026666666666666}}\n",
      "Registering the results in:  SX1/2023-11-19/n-5_k-1_m-16_sigma_w-0.1_sigma_p-0.1_n_samples-1500.yaml\n"
     ]
    },
    {
     "name": "stderr",
     "output_type": "stream",
     "text": [
      "Sample: 100%|████████████████████████████| 2000/2000 [01:35, 20.97it/s, step size=7.96e-02, acc. prob=0.660]\n"
     ]
    },
    {
     "name": "stdout",
     "output_type": "stream",
     "text": [
      "diag:  {'sigma': OrderedDict([('n_eff', tensor(35.6359)), ('r_hat', tensor(1.0054))]), 'w': OrderedDict([('n_eff', tensor([102.1553,  71.0942,  64.1152,  79.0738,  62.2618])), ('r_hat', tensor([1.0014, 1.0004, 1.0023, 0.9994, 1.0001]))]), 'divergences': {'chain 0': [26, 48, 67, 74, 85, 89, 94, 112, 134, 139, 141, 155, 177, 180, 232, 267, 287, 418, 427, 477, 487, 556, 567, 577, 616, 617, 618, 620, 622, 624, 630, 633, 634, 635, 641, 642, 645, 647, 648, 649, 652, 657, 658, 659, 660, 661, 665, 666, 667, 671, 672, 674, 679, 682, 684, 686, 688, 689, 690, 694, 695, 697, 699, 700, 701, 702, 703, 705, 706, 713, 714, 715, 716, 717, 718, 719, 722, 723, 724, 726, 727, 728, 730, 732, 734, 736, 737, 739, 740, 741, 743, 747, 749, 750, 752, 754, 755, 757, 759, 760, 761, 762, 763, 764, 765, 767, 770, 772, 773, 774, 775, 777, 778, 779, 781, 782, 784, 786, 787, 788, 789, 790, 794, 795, 796, 797, 798, 799, 800, 802, 804, 806, 807, 808, 810, 811, 812, 813, 815, 816, 817, 820, 821, 823, 824, 825, 826, 828, 829, 830, 831, 832, 834, 835, 836, 838, 839, 842, 844, 845, 846, 848, 849, 850, 851, 853, 854, 855, 856, 857, 858, 859, 860, 861, 862, 863, 864, 865, 866, 870, 871, 882, 891, 892, 893, 899, 903, 978, 1032, 1109, 1133, 1146, 1154, 1156, 1233, 1235, 1287, 1308, 1311, 1317, 1319, 1372, 1374, 1390, 1393, 1396, 1427, 1430, 1438, 1439, 1447, 1455, 1457, 1463, 1475]}, 'acceptance rate': {'chain 0': 0.9053333333333333}}\n",
      "Registering the results in:  SX1/2023-11-19/n-5_k-1_m-16_sigma_w-0.1_sigma_p-0.01_n_samples-1500.yaml\n"
     ]
    },
    {
     "name": "stderr",
     "output_type": "stream",
     "text": [
      "Sample: 100%|████████████████████████████| 2000/2000 [01:44, 19.17it/s, step size=9.23e-02, acc. prob=0.630]\n"
     ]
    },
    {
     "name": "stdout",
     "output_type": "stream",
     "text": [
      "diag:  {'sigma': OrderedDict([('n_eff', tensor(71.4422)), ('r_hat', tensor(1.0025))]), 'w': OrderedDict([('n_eff', tensor([ 91.0093,  88.2361,  86.1455, 103.5048,  91.0266])), ('r_hat', tensor([1.0166, 1.0269, 1.0254, 1.0056, 1.0583]))]), 'divergences': {'chain 0': [77, 160, 217, 220, 229, 232, 233, 234, 235, 236, 237, 238, 240, 242, 247, 250, 253, 254, 256, 258, 260, 262, 263, 265, 266, 267, 271, 272, 274, 277, 278, 279, 280, 281, 282, 283, 285, 286, 287, 290, 291, 294, 297, 298, 299, 301, 302, 304, 305, 307, 309, 312, 314, 318, 321, 322, 324, 325, 326, 327, 329, 330, 333, 334, 340, 343, 347, 349, 351, 352, 398, 436, 457, 549, 550, 686, 869, 1064, 1075, 1164, 1190, 1215, 1222, 1281, 1315, 1328, 1336, 1342, 1362, 1374, 1447, 1471, 1476, 1479, 1488, 1492, 1499]}, 'acceptance rate': {'chain 0': 0.89}}\n",
      "Registering the results in:  SX1/2023-11-19/n-5_k-1_m-16_sigma_w-0.1_sigma_p-10.0_n_samples-1500.yaml\n"
     ]
    },
    {
     "name": "stderr",
     "output_type": "stream",
     "text": [
      "Sample: 100%|████████████████████████████| 2000/2000 [01:42, 19.50it/s, step size=9.07e-02, acc. prob=0.815]\n"
     ]
    },
    {
     "name": "stdout",
     "output_type": "stream",
     "text": [
      "diag:  {'sigma': OrderedDict([('n_eff', tensor(180.4457)), ('r_hat', tensor(1.0116))]), 'w': OrderedDict([('n_eff', tensor([113.1288, 119.0908, 115.6268, 122.0178, 132.6845])), ('r_hat', tensor([0.9994, 0.9996, 0.9995, 0.9999, 1.0017]))]), 'divergences': {'chain 0': [29, 50, 51, 92, 249, 346, 365, 368, 415, 416, 417, 418, 419, 420, 427, 430, 431, 445, 451, 454, 456, 457, 458, 467, 468, 471, 474, 476, 477, 479, 480, 482, 483, 484, 485, 487, 488, 489, 493, 494, 495, 497, 498, 500, 503, 504, 507, 508, 509, 511, 513, 515, 516, 517, 522, 524, 529, 530, 532, 535, 536, 537, 539, 541, 542, 544, 545, 546, 547, 549, 550, 559, 583, 605, 650, 666, 691, 781, 824, 894, 914, 946, 947, 1085, 1094, 1214, 1241, 1305, 1321, 1381, 1449]}, 'acceptance rate': {'chain 0': 0.974}}\n",
      "Registering the results in:  SX1/2023-11-19/n-5_k-1_m-16_sigma_w-0.01_sigma_p-1_n_samples-1500.yaml\n"
     ]
    },
    {
     "name": "stderr",
     "output_type": "stream",
     "text": [
      "Sample: 100%|████████████████████████████| 2000/2000 [02:28, 13.51it/s, step size=1.87e-02, acc. prob=0.641]\n"
     ]
    },
    {
     "name": "stdout",
     "output_type": "stream",
     "text": [
      "diag:  {'sigma': OrderedDict([('n_eff', tensor(24.7684)), ('r_hat', tensor(1.0315))]), 'w': OrderedDict([('n_eff', tensor([28.6790, 44.2987, 25.4074, 55.3107, 28.9011])), ('r_hat', tensor([1.0860, 1.0374, 1.0779, 1.0162, 1.0792]))]), 'divergences': {'chain 0': [17, 104, 113, 127, 130, 132, 134, 140, 145, 146, 150, 151, 156, 161, 162, 171, 186, 194, 217, 218, 220, 226, 230, 252, 263, 287, 290, 301, 344, 367, 415, 552, 602, 604, 607, 611, 615, 625, 628, 630, 634, 641, 658, 662, 664, 665, 670, 679, 680, 681, 684, 686, 692, 693, 694, 695, 699, 700, 702, 703, 704, 707, 708, 712, 714, 716, 719, 720, 723, 725, 728, 729, 731, 737, 739, 742, 744, 745, 746, 748, 749, 750, 752, 753, 757, 758, 759, 766, 768, 770, 773, 775, 777, 778, 779, 780, 782, 786, 788, 793, 794, 803, 804, 806, 808, 810, 811, 813, 819, 820, 823, 824, 828, 830, 831, 832, 833, 838, 839, 840, 843, 844, 845, 847, 852, 860, 862, 863, 865, 866, 867, 870, 872, 874, 875, 876, 878, 883, 889, 890, 894, 897, 903, 907, 908, 911, 912, 913, 917, 918, 922, 923, 925, 926, 928, 929, 933, 940, 944, 947, 948, 951, 958, 959, 960, 961, 962, 964, 968, 972, 974, 975, 985, 986, 992, 994, 995, 996, 999, 1001, 1002, 1008, 1016, 1017, 1019, 1021, 1022, 1027, 1029, 1034, 1037, 1039, 1043, 1044, 1054, 1057, 1075, 1079, 1082, 1083, 1087, 1090, 1095, 1102, 1106, 1108, 1118, 1121, 1122, 1130, 1131, 1133, 1155, 1158, 1161, 1170, 1173, 1175, 1184, 1190, 1195, 1196, 1203, 1205, 1207, 1210, 1211, 1212, 1213, 1214, 1220, 1222, 1234, 1245, 1248, 1249, 1250, 1255, 1256, 1259, 1262, 1263, 1265, 1268, 1269, 1279, 1283, 1287, 1307, 1309, 1314, 1315, 1318, 1326, 1329, 1330, 1341]}, 'acceptance rate': {'chain 0': 0.904}}\n",
      "Registering the results in:  SX1/2023-11-19/n-5_k-1_m-16_sigma_w-0.01_sigma_p-0.1_n_samples-1500.yaml\n"
     ]
    },
    {
     "name": "stderr",
     "output_type": "stream",
     "text": [
      "Sample: 100%|████████████████████████████| 2000/2000 [01:32, 21.53it/s, step size=5.40e-02, acc. prob=0.617]\n"
     ]
    },
    {
     "name": "stdout",
     "output_type": "stream",
     "text": [
      "diag:  {'sigma': OrderedDict([('n_eff', tensor(61.3946)), ('r_hat', tensor(0.9994))]), 'w': OrderedDict([('n_eff', tensor([33.4433, 42.9761, 51.3745, 49.5435, 37.4968])), ('r_hat', tensor([1.0027, 1.0322, 1.0015, 1.0342, 1.0044]))]), 'divergences': {'chain 0': [2, 20, 22, 38, 46, 47, 91, 98, 108, 138, 150, 153, 295, 372, 373, 381, 385, 394, 399, 401, 406, 409, 412, 419, 422, 428, 429, 440, 441, 446, 454, 464, 466, 474, 485, 486, 494, 499, 532, 600, 611, 634, 644, 664, 666, 696, 698, 709, 712, 714, 724, 733, 862, 961, 964, 1039, 1045, 1129, 1175, 1176, 1179, 1181, 1182, 1183, 1187, 1190, 1191, 1195, 1200, 1203, 1207, 1209, 1210, 1214, 1218, 1220, 1223, 1225, 1228, 1229, 1230, 1231, 1232, 1234, 1238, 1239, 1240, 1241, 1243, 1251, 1254, 1258, 1264, 1323, 1324, 1329, 1330, 1334, 1336, 1338, 1342, 1346, 1348, 1349, 1354, 1355, 1356, 1358, 1363, 1365, 1366, 1373, 1376, 1378, 1379, 1383, 1388, 1390, 1391, 1392, 1393, 1394, 1395, 1400, 1401, 1402, 1403, 1405, 1406, 1407, 1408, 1416, 1417, 1418, 1420, 1421, 1423, 1426, 1427, 1429, 1430, 1432, 1433, 1436, 1437, 1439, 1444, 1445, 1451, 1453, 1454, 1455, 1457, 1458, 1461, 1462, 1466, 1467, 1469, 1470, 1471, 1473, 1474, 1476, 1480, 1482, 1483, 1484, 1487, 1490, 1494, 1495]}, 'acceptance rate': {'chain 0': 0.8386666666666667}}\n",
      "Registering the results in:  SX1/2023-11-19/n-5_k-1_m-16_sigma_w-0.01_sigma_p-0.01_n_samples-1500.yaml\n"
     ]
    },
    {
     "name": "stderr",
     "output_type": "stream",
     "text": [
      "Sample: 100%|████████████████████████████| 2000/2000 [00:29, 67.99it/s, step size=5.17e-01, acc. prob=0.320]\n"
     ]
    },
    {
     "name": "stdout",
     "output_type": "stream",
     "text": [
      "diag:  {'sigma': OrderedDict([('n_eff', tensor(7.6114)), ('r_hat', tensor(1.2568))]), 'w': OrderedDict([('n_eff', tensor([1194.2278,    3.5649,   60.9415, 1562.3063,    4.5305])), ('r_hat', tensor([1.0169, 1.6459, 1.0591, 1.0076, 1.4677]))]), 'divergences': {'chain 0': [469, 524, 528, 529, 557, 564, 569, 571, 574, 587, 588, 593, 595, 596, 598, 607, 609, 610, 620, 622, 623, 627, 651, 660, 676, 684, 685, 690, 692, 704, 708, 709, 717, 725, 733, 738, 743, 749, 755, 756, 758, 763, 766, 767, 771, 774, 794, 795, 800, 808, 815, 817, 829, 831, 832, 834, 842, 843, 845, 850, 859, 874, 875, 882, 892, 925, 933, 946, 949, 954, 967, 968, 978, 981, 986, 1010, 1015, 1018, 1021, 1022, 1031, 1041, 1044, 1048, 1049, 1050, 1064, 1072, 1082, 1088, 1091, 1104, 1107, 1108, 1130, 1137, 1145, 1149, 1152, 1162, 1164, 1170, 1171, 1172, 1175, 1176, 1180, 1193, 1213, 1218, 1219, 1221, 1233, 1237, 1244, 1249, 1253, 1257, 1270, 1272, 1275, 1286, 1287, 1291, 1299, 1304, 1308, 1322, 1326, 1339, 1351, 1354, 1356, 1358, 1360, 1366, 1369, 1373, 1379, 1382, 1394, 1398, 1399, 1406, 1428, 1437, 1464, 1467, 1473, 1475, 1476, 1486, 1488, 1490, 1494]}, 'acceptance rate': {'chain 0': 0.34933333333333333}}\n",
      "Registering the results in:  SX1/2023-11-19/n-5_k-1_m-16_sigma_w-0.01_sigma_p-10.0_n_samples-1500.yaml\n"
     ]
    },
    {
     "name": "stderr",
     "output_type": "stream",
     "text": [
      "Sample: 100%|████████████████████████████| 2000/2000 [02:12, 15.13it/s, step size=3.95e-02, acc. prob=0.829]\n"
     ]
    },
    {
     "name": "stdout",
     "output_type": "stream",
     "text": [
      "diag:  {'sigma': OrderedDict([('n_eff', tensor(186.7498)), ('r_hat', tensor(0.9997))]), 'w': OrderedDict([('n_eff', tensor([237.3517, 187.7829, 266.5456, 159.8525, 174.5390])), ('r_hat', tensor([0.9999, 0.9998, 1.0014, 1.0020, 0.9993]))]), 'divergences': {'chain 0': [56, 64, 92, 287, 291, 298, 307, 308, 313, 323, 326, 327, 329, 330, 335, 336, 337, 338, 339, 340, 342, 348, 349, 353, 371, 376, 459, 484, 487, 492, 498, 592, 595, 600, 603, 612, 627, 658, 688, 887, 904, 924, 953, 1002, 1017, 1039, 1112, 1116, 1117, 1118, 1251, 1253, 1255, 1256, 1261, 1262, 1263, 1264, 1270, 1271, 1276, 1288, 1298, 1414, 1432, 1462]}, 'acceptance rate': {'chain 0': 0.9686666666666667}}\n",
      "Registering the results in:  SX1/2023-11-19/n-5_k-1_m-16_sigma_w-10.0_sigma_p-1_n_samples-1500.yaml\n"
     ]
    },
    {
     "name": "stderr",
     "output_type": "stream",
     "text": [
      "Sample: 100%|████████████████████████████| 2000/2000 [01:52, 17.84it/s, step size=8.50e-02, acc. prob=0.610]\n"
     ]
    },
    {
     "name": "stdout",
     "output_type": "stream",
     "text": [
      "diag:  {'sigma': OrderedDict([('n_eff', tensor(125.2201)), ('r_hat', tensor(1.0060))]), 'w': OrderedDict([('n_eff', tensor([60.1321, 58.7907, 63.3515, 35.4719, 37.4709])), ('r_hat', tensor([1.0065, 1.0037, 1.0098, 1.0119, 1.0108]))]), 'divergences': {'chain 0': [48, 91, 94, 116, 117, 125, 138, 140, 141, 144, 145, 146, 149, 151, 152, 154, 159, 162, 165, 166, 168, 173, 177, 178, 179, 180, 184, 185, 188, 190, 192, 197, 217, 244, 264, 288, 319, 322, 380, 396, 421, 436, 456, 466, 470, 485, 515, 534, 537, 538, 540, 548, 551, 563, 569, 570, 574, 596, 597, 598, 600, 605, 606, 614, 615, 616, 624, 627, 631, 635, 636, 637, 641, 642, 648, 649, 651, 652, 653, 655, 658, 659, 661, 665, 668, 680, 681, 686, 701, 735, 768, 769, 770, 794, 804, 810, 823, 831, 864, 870, 878, 927, 938, 941, 973, 980, 981, 987, 996, 999, 1002, 1007, 1030, 1032, 1055, 1059, 1063, 1064, 1091, 1126, 1142, 1147, 1150, 1152, 1153, 1156, 1171, 1173, 1174, 1178, 1179, 1183, 1184, 1189, 1190, 1193, 1196, 1238, 1243, 1291, 1301, 1323, 1368, 1372, 1403, 1408, 1456]}, 'acceptance rate': {'chain 0': 0.8806666666666667}}\n",
      "Registering the results in:  SX1/2023-11-19/n-5_k-1_m-16_sigma_w-10.0_sigma_p-0.1_n_samples-1500.yaml\n"
     ]
    },
    {
     "name": "stderr",
     "output_type": "stream",
     "text": [
      "Sample: 100%|████████████████████████████| 2000/2000 [03:05, 10.78it/s, step size=5.48e-02, acc. prob=0.844]\n"
     ]
    },
    {
     "name": "stdout",
     "output_type": "stream",
     "text": [
      "diag:  {'sigma': OrderedDict([('n_eff', tensor(124.2366)), ('r_hat', tensor(1.0238))]), 'w': OrderedDict([('n_eff', tensor([ 79.4856, 141.1743,  81.0009,  99.9764, 230.8633])), ('r_hat', tensor([1.0151, 0.9994, 1.0199, 1.0119, 0.9996]))]), 'divergences': {'chain 0': [2, 133, 259, 323, 326, 327, 344, 345, 348, 402, 403, 405, 411, 413, 438, 505, 534, 548, 555, 556, 571, 621, 634, 772, 876, 1065, 1095, 1336]}, 'acceptance rate': {'chain 0': 0.97}}\n",
      "Registering the results in:  SX1/2023-11-19/n-5_k-1_m-16_sigma_w-10.0_sigma_p-0.01_n_samples-1500.yaml\n"
     ]
    },
    {
     "name": "stderr",
     "output_type": "stream",
     "text": [
      "Sample: 100%|████████████████████████████| 2000/2000 [02:03, 16.13it/s, step size=7.01e-02, acc. prob=0.803]\n"
     ]
    },
    {
     "name": "stdout",
     "output_type": "stream",
     "text": [
      "diag:  {'sigma': OrderedDict([('n_eff', tensor(118.2611)), ('r_hat', tensor(1.0021))]), 'w': OrderedDict([('n_eff', tensor([146.5952, 103.0200,  97.2125, 103.5599, 157.9911])), ('r_hat', tensor([1.0018, 0.9996, 0.9998, 1.0014, 1.0002]))]), 'divergences': {'chain 0': [66, 168, 184, 211, 230, 252, 270, 274, 279, 281, 291, 304, 306, 322, 381, 393, 437, 635, 758, 759, 763, 765, 814, 815, 820, 928, 1069, 1115, 1150, 1188, 1304, 1335, 1373, 1391, 1402, 1405, 1429, 1457, 1458, 1459, 1460, 1466, 1474, 1479]}, 'acceptance rate': {'chain 0': 0.9586666666666667}}\n",
      "Registering the results in:  SX1/2023-11-19/n-5_k-1_m-16_sigma_w-10.0_sigma_p-10.0_n_samples-1500.yaml\n"
     ]
    },
    {
     "name": "stderr",
     "output_type": "stream",
     "text": [
      "Sample: 100%|████████████████████████████| 2000/2000 [07:13,  4.61it/s, step size=1.79e-02, acc. prob=0.886]\n"
     ]
    },
    {
     "name": "stdout",
     "output_type": "stream",
     "text": [
      "diag:  {'sigma': OrderedDict([('n_eff', tensor(310.2126)), ('r_hat', tensor(1.0008))]), 'w': OrderedDict([('n_eff', tensor([ 83.6313,  82.1556,  82.8462, 177.0499,  95.7387])), ('r_hat', tensor([1.0036, 1.0046, 1.0010, 1.0000, 1.0041]))]), 'divergences': {'chain 0': [71, 82, 105, 155, 184, 254, 629, 630, 646, 654, 669, 672, 799, 874, 897, 945, 946, 960, 988, 1031, 1100, 1179, 1276, 1282, 1294, 1296, 1392, 1449, 1484]}, 'acceptance rate': {'chain 0': 0.9966666666666667}}\n",
      "Registering the results in:  SX1/2023-11-19/n-5_k-2_m-16_sigma_w-1_sigma_p-1_n_samples-1500.yaml\n"
     ]
    },
    {
     "name": "stderr",
     "output_type": "stream",
     "text": [
      "Sample: 100%|████████████████████████████| 2000/2000 [04:04,  8.18it/s, step size=5.54e-02, acc. prob=0.801]\n"
     ]
    },
    {
     "name": "stdout",
     "output_type": "stream",
     "text": [
      "diag:  {'sigma': OrderedDict([('n_eff', tensor(510.2674)), ('r_hat', tensor(0.9999))]), 'w': OrderedDict([('n_eff', tensor([439.9160, 519.4531, 470.6862, 340.0523, 464.4104, 449.8543, 494.8870,\n",
      "        537.4821, 430.8737, 648.6949, 410.0876, 547.6107, 627.9802, 499.2318,\n",
      "        480.4286])), ('r_hat', tensor([1.0021, 0.9994, 0.9998, 0.9994, 0.9995, 1.0004, 1.0000, 0.9995, 0.9993,\n",
      "        0.9998, 0.9994, 0.9994, 1.0018, 0.9999, 1.0019]))]), 'divergences': {'chain 0': [106, 119, 309, 381, 534, 596, 607, 1027, 1092, 1272, 1365]}, 'acceptance rate': {'chain 0': 0.9893333333333333}}\n",
      "Registering the results in:  SX1/2023-11-19/n-5_k-2_m-16_sigma_w-1_sigma_p-0.1_n_samples-1500.yaml\n"
     ]
    },
    {
     "name": "stderr",
     "output_type": "stream",
     "text": [
      "Sample: 100%|████████████████████████████| 2000/2000 [06:21,  5.25it/s, step size=2.58e-02, acc. prob=0.907]\n"
     ]
    },
    {
     "name": "stdout",
     "output_type": "stream",
     "text": [
      "diag:  {'sigma': OrderedDict([('n_eff', tensor(364.4310)), ('r_hat', tensor(1.0019))]), 'w': OrderedDict([('n_eff', tensor([686.5477, 596.9957, 669.2006, 545.4823, 458.5561, 434.8885, 611.6463,\n",
      "        818.4786, 595.4778, 462.1258, 598.7587, 461.6106, 485.6868, 599.8890,\n",
      "        453.9520])), ('r_hat', tensor([1.0012, 1.0026, 0.9999, 0.9998, 1.0001, 1.0005, 0.9998, 1.0000, 1.0081,\n",
      "        1.0029, 1.0003, 0.9996, 0.9995, 1.0028, 0.9996]))]), 'divergences': {'chain 0': [99, 106, 662, 1130, 1200, 1322, 1373, 1375, 1376, 1378, 1380, 1426]}, 'acceptance rate': {'chain 0': 0.9953333333333333}}\n",
      "Registering the results in:  SX1/2023-11-19/n-5_k-2_m-16_sigma_w-1_sigma_p-0.01_n_samples-1500.yaml\n"
     ]
    },
    {
     "name": "stderr",
     "output_type": "stream",
     "text": [
      "Sample: 100%|████████████████████████████| 2000/2000 [02:10, 15.29it/s, step size=8.29e-02, acc. prob=0.691]\n"
     ]
    },
    {
     "name": "stdout",
     "output_type": "stream",
     "text": [
      "diag:  {'sigma': OrderedDict([('n_eff', tensor(244.4100)), ('r_hat', tensor(1.0008))]), 'w': OrderedDict([('n_eff', tensor([462.8550, 160.8177, 338.0825, 416.3306, 363.6435, 273.5064, 273.5492,\n",
      "        458.2579, 297.1462, 190.9184, 165.1515, 110.3197, 170.9967, 393.1193,\n",
      "        336.4715])), ('r_hat', tensor([0.9994, 1.0070, 0.9993, 1.0025, 0.9995, 0.9993, 1.0003, 1.0065, 1.0012,\n",
      "        1.0136, 1.0120, 1.0153, 0.9994, 1.0049, 1.0010]))]), 'divergences': {'chain 0': [63, 346, 348, 434, 698, 709, 712, 716, 720, 722, 898, 950, 962, 991, 1036, 1083, 1122, 1134, 1195, 1200, 1206, 1208, 1211, 1399, 1465]}, 'acceptance rate': {'chain 0': 0.9506666666666667}}\n",
      "Registering the results in:  SX1/2023-11-19/n-5_k-2_m-16_sigma_w-1_sigma_p-10.0_n_samples-1500.yaml\n"
     ]
    },
    {
     "name": "stderr",
     "output_type": "stream",
     "text": [
      "Sample: 100%|████████████████████████████| 2000/2000 [04:54,  6.80it/s, step size=3.05e-02, acc. prob=0.717]\n"
     ]
    },
    {
     "name": "stdout",
     "output_type": "stream",
     "text": [
      "diag:  {'sigma': OrderedDict([('n_eff', tensor(168.9977)), ('r_hat', tensor(0.9996))]), 'w': OrderedDict([('n_eff', tensor([303.8725,  76.4755, 118.6282,  73.0647, 121.5603, 102.3533,  39.1180,\n",
      "         85.7158, 150.7730, 272.4332, 108.2703,  69.1201,  96.3910, 105.4607,\n",
      "        211.0995])), ('r_hat', tensor([0.9995, 1.0137, 0.9998, 0.9994, 1.0144, 1.0270, 1.0239, 1.0338, 1.0196,\n",
      "        1.0024, 1.0108, 0.9997, 1.0006, 0.9995, 1.0097]))]), 'divergences': {'chain 0': [17, 48, 52, 130, 243, 278, 279, 285, 293, 298, 313, 386, 404, 409, 412, 415, 417, 430, 443, 461, 500, 558, 563, 566, 567, 574, 624, 642, 658, 667, 672, 748, 860, 880, 988, 1020, 1051, 1056, 1114, 1151, 1155, 1162, 1165, 1171, 1175, 1185, 1188, 1190, 1193, 1200, 1201, 1218, 1246, 1436, 1452, 1461, 1465, 1478, 1480, 1481, 1485, 1490, 1494, 1497]}, 'acceptance rate': {'chain 0': 0.97}}\n",
      "Registering the results in:  SX1/2023-11-19/n-5_k-2_m-16_sigma_w-0.1_sigma_p-1_n_samples-1500.yaml\n"
     ]
    },
    {
     "name": "stderr",
     "output_type": "stream",
     "text": [
      "Sample: 100%|████████████████████████████| 2000/2000 [03:04, 10.83it/s, step size=5.60e-02, acc. prob=0.792]\n"
     ]
    },
    {
     "name": "stdout",
     "output_type": "stream",
     "text": [
      "diag:  {'sigma': OrderedDict([('n_eff', tensor(202.0860)), ('r_hat', tensor(0.9994))]), 'w': OrderedDict([('n_eff', tensor([379.6288, 316.1873, 103.3938, 184.9011, 386.6954, 364.1127, 334.1982,\n",
      "        509.2377, 492.4541, 375.9809, 608.8943, 159.8458, 307.8682, 333.7234,\n",
      "        186.7663])), ('r_hat', tensor([1.0043, 0.9994, 1.0191, 1.0142, 0.9994, 1.0029, 1.0103, 1.0046, 1.0070,\n",
      "        1.0005, 0.9996, 1.0052, 1.0065, 1.0013, 0.9993]))]), 'divergences': {'chain 0': [24, 281, 309, 389, 541, 584, 590, 596, 606, 610, 616, 618, 620, 628, 631, 632, 633, 639, 640, 642, 645, 648, 649, 652, 727, 757, 1067, 1304, 1333, 1425, 1447, 1465]}, 'acceptance rate': {'chain 0': 0.9746666666666667}}\n",
      "Registering the results in:  SX1/2023-11-19/n-5_k-2_m-16_sigma_w-0.1_sigma_p-0.1_n_samples-1500.yaml\n"
     ]
    },
    {
     "name": "stderr",
     "output_type": "stream",
     "text": [
      "Sample: 100%|████████████████████████████| 2000/2000 [03:22,  9.86it/s, step size=4.60e-02, acc. prob=0.827]\n"
     ]
    },
    {
     "name": "stdout",
     "output_type": "stream",
     "text": [
      "diag:  {'sigma': OrderedDict([('n_eff', tensor(252.3714)), ('r_hat', tensor(1.0059))]), 'w': OrderedDict([('n_eff', tensor([ 459.5204, 1105.4205,  404.1435,  316.1393,  353.3793,  647.0679,\n",
      "         367.9364,  296.6688,  592.3113,  424.1682,  444.9621,  278.6970,\n",
      "         384.6834,  506.8674,  374.0529])), ('r_hat', tensor([1.0014, 0.9993, 0.9994, 1.0039, 1.0031, 1.0047, 1.0052, 0.9993, 1.0005,\n",
      "        1.0021, 1.0065, 1.0158, 1.0004, 0.9994, 1.0037]))]), 'divergences': {'chain 0': [562, 659, 994, 1219, 1321, 1489]}, 'acceptance rate': {'chain 0': 0.9913333333333333}}\n",
      "Registering the results in:  SX1/2023-11-19/n-5_k-2_m-16_sigma_w-0.1_sigma_p-0.01_n_samples-1500.yaml\n"
     ]
    },
    {
     "name": "stderr",
     "output_type": "stream",
     "text": [
      "Sample: 100%|████████████████████████████| 2000/2000 [02:42, 12.33it/s, step size=6.00e-02, acc. prob=0.812]\n"
     ]
    },
    {
     "name": "stdout",
     "output_type": "stream",
     "text": [
      "diag:  {'sigma': OrderedDict([('n_eff', tensor(153.6761)), ('r_hat', tensor(1.0002))]), 'w': OrderedDict([('n_eff', tensor([270.6697, 221.0463, 539.2545, 448.6264, 557.2189, 471.9526, 448.8593,\n",
      "        174.6352, 598.9297, 473.4152, 511.6473, 391.5328, 636.5524, 184.5713,\n",
      "        255.5232])), ('r_hat', tensor([0.9993, 1.0000, 0.9999, 1.0023, 1.0007, 0.9994, 0.9995, 1.0041, 1.0035,\n",
      "        0.9993, 0.9994, 0.9993, 1.0007, 0.9994, 0.9996]))]), 'divergences': {'chain 0': [112, 416, 466, 605, 622, 681, 850, 851, 856, 861, 864, 865, 869, 881, 985, 995, 997, 1004, 1007, 1008, 1014, 1016, 1017, 1019, 1020, 1021, 1022, 1023, 1024, 1025, 1026, 1027, 1028, 1029, 1030, 1031, 1032, 1033, 1035, 1036, 1037, 1038, 1044, 1071, 1125, 1198, 1208, 1214, 1215, 1217, 1227, 1308, 1311, 1318, 1346]}, 'acceptance rate': {'chain 0': 0.98}}\n",
      "Registering the results in:  SX1/2023-11-19/n-5_k-2_m-16_sigma_w-0.1_sigma_p-10.0_n_samples-1500.yaml\n"
     ]
    },
    {
     "name": "stderr",
     "output_type": "stream",
     "text": [
      "Sample: 100%|████████████████████████████| 2000/2000 [05:40,  5.87it/s, step size=2.93e-02, acc. prob=0.877]\n"
     ]
    },
    {
     "name": "stdout",
     "output_type": "stream",
     "text": [
      "diag:  {'sigma': OrderedDict([('n_eff', tensor(272.8760)), ('r_hat', tensor(1.0111))]), 'w': OrderedDict([('n_eff', tensor([707.1219, 359.3541, 373.6796, 402.5818, 492.0904, 548.3414, 598.8839,\n",
      "        610.9962, 552.7584, 343.3571, 423.6770, 754.6973, 594.1847, 698.8885,\n",
      "        385.9000])), ('r_hat', tensor([0.9993, 1.0021, 0.9997, 1.0100, 0.9998, 1.0014, 0.9994, 1.0042, 1.0005,\n",
      "        1.0005, 1.0032, 1.0018, 1.0002, 0.9995, 1.0032]))]), 'divergences': {'chain 0': [328, 574, 580, 617, 725, 773, 995, 1017, 1019, 1070, 1073, 1084, 1237, 1238, 1323, 1445]}, 'acceptance rate': {'chain 0': 0.9926666666666667}}\n",
      "Registering the results in:  SX1/2023-11-19/n-5_k-2_m-16_sigma_w-0.01_sigma_p-1_n_samples-1500.yaml\n"
     ]
    },
    {
     "name": "stderr",
     "output_type": "stream",
     "text": [
      "Sample: 100%|████████████████████████████| 2000/2000 [02:11, 15.20it/s, step size=6.13e-02, acc. prob=0.808]\n"
     ]
    },
    {
     "name": "stdout",
     "output_type": "stream",
     "text": [
      "diag:  {'sigma': OrderedDict([('n_eff', tensor(176.6864)), ('r_hat', tensor(1.0186))]), 'w': OrderedDict([('n_eff', tensor([463.3024, 366.0767, 308.5231, 391.8852, 407.6847, 208.1240, 651.7328,\n",
      "        605.7518, 306.8628, 533.1128, 302.7827, 446.9367, 600.2585, 381.1334,\n",
      "        648.9775])), ('r_hat', tensor([1.0009, 0.9995, 1.0185, 1.0003, 1.0002, 1.0056, 0.9993, 1.0000, 0.9998,\n",
      "        1.0031, 1.0041, 0.9993, 1.0000, 1.0016, 1.0004]))]), 'divergences': {'chain 0': [4, 297, 339, 403, 612, 731, 1319, 1331, 1350, 1422, 1423, 1430]}, 'acceptance rate': {'chain 0': 0.978}}\n",
      "Registering the results in:  SX1/2023-11-19/n-5_k-2_m-16_sigma_w-0.01_sigma_p-0.1_n_samples-1500.yaml\n"
     ]
    },
    {
     "name": "stderr",
     "output_type": "stream",
     "text": [
      "Sample: 100%|████████████████████████████| 2000/2000 [02:43, 12.27it/s, step size=4.30e-02, acc. prob=0.751]\n"
     ]
    },
    {
     "name": "stdout",
     "output_type": "stream",
     "text": [
      "diag:  {'sigma': OrderedDict([('n_eff', tensor(206.6525)), ('r_hat', tensor(1.0013))]), 'w': OrderedDict([('n_eff', tensor([491.6012, 485.8455, 203.8015, 466.9998, 480.1072, 171.6063, 399.8767,\n",
      "        452.3749, 160.2020, 395.5078, 340.4070, 463.1061, 575.8757, 299.6508,\n",
      "        498.3937])), ('r_hat', tensor([0.9993, 1.0001, 0.9996, 0.9994, 1.0002, 1.0319, 1.0082, 1.0008, 1.0615,\n",
      "        1.0183, 1.0013, 1.0014, 0.9998, 1.0043, 0.9996]))]), 'divergences': {'chain 0': [654, 852, 882, 888, 893, 898, 1347]}, 'acceptance rate': {'chain 0': 0.9613333333333334}}\n",
      "Registering the results in:  SX1/2023-11-19/n-5_k-2_m-16_sigma_w-0.01_sigma_p-0.01_n_samples-1500.yaml\n"
     ]
    },
    {
     "name": "stderr",
     "output_type": "stream",
     "text": [
      "Sample: 100%|████████████████████████████| 2000/2000 [02:33, 12.99it/s, step size=4.43e-02, acc. prob=0.709]\n"
     ]
    },
    {
     "name": "stdout",
     "output_type": "stream",
     "text": [
      "diag:  {'sigma': OrderedDict([('n_eff', tensor(133.3810)), ('r_hat', tensor(0.9999))]), 'w': OrderedDict([('n_eff', tensor([299.9815, 322.6770, 423.9042, 386.3577, 817.9250, 337.6311, 541.7582,\n",
      "        379.4379, 200.0007, 219.4996, 206.5027, 210.5103, 454.0639, 253.2765,\n",
      "        268.8813])), ('r_hat', tensor([1.0001, 0.9993, 1.0048, 0.9998, 0.9994, 0.9995, 0.9995, 1.0009, 1.0107,\n",
      "        1.0252, 1.0106, 1.0103, 1.0000, 1.0270, 1.0197]))]), 'divergences': {'chain 0': [76, 267, 391, 488, 489, 507, 509, 513, 514, 515, 621, 723, 726, 886, 1036, 1037, 1043, 1049, 1055, 1056, 1058, 1061, 1062, 1063, 1064, 1068, 1076, 1080, 1092, 1093, 1210, 1437]}, 'acceptance rate': {'chain 0': 0.9526666666666667}}\n",
      "Registering the results in:  SX1/2023-11-19/n-5_k-2_m-16_sigma_w-0.01_sigma_p-10.0_n_samples-1500.yaml\n"
     ]
    },
    {
     "name": "stderr",
     "output_type": "stream",
     "text": [
      "Sample: 100%|████████████████████████████| 2000/2000 [02:13, 15.04it/s, step size=5.59e-02, acc. prob=0.679]\n"
     ]
    },
    {
     "name": "stdout",
     "output_type": "stream",
     "text": [
      "diag:  {'sigma': OrderedDict([('n_eff', tensor(117.9469)), ('r_hat', tensor(1.0024))]), 'w': OrderedDict([('n_eff', tensor([543.3252,  43.1763, 350.1366,  44.3240,  39.7571, 260.3775, 330.7612,\n",
      "        234.0475, 460.1454, 395.9670, 157.2521,  28.4062, 208.5843, 555.5516,\n",
      "        114.6938])), ('r_hat', tensor([1.0010, 1.0805, 0.9996, 1.0928, 1.0841, 1.0007, 1.0021, 1.0112, 0.9994,\n",
      "        0.9996, 1.0436, 1.1029, 1.0036, 0.9999, 1.0318]))]), 'divergences': {'chain 0': [23, 45, 46, 51, 58, 60, 256, 257, 835, 1032, 1081, 1348, 1349, 1352, 1354, 1355, 1358, 1360, 1361, 1370, 1373, 1381, 1383, 1384, 1387, 1392, 1395, 1401, 1407, 1409, 1410, 1414, 1419, 1420, 1423, 1424, 1432, 1433, 1449, 1451, 1463, 1482]}, 'acceptance rate': {'chain 0': 0.8993333333333333}}\n",
      "Registering the results in:  SX1/2023-11-19/n-5_k-2_m-16_sigma_w-10.0_sigma_p-1_n_samples-1500.yaml\n"
     ]
    },
    {
     "name": "stderr",
     "output_type": "stream",
     "text": [
      "Sample: 100%|████████████████████████████| 2000/2000 [05:29,  6.06it/s, step size=3.41e-02, acc. prob=0.769]\n"
     ]
    },
    {
     "name": "stdout",
     "output_type": "stream",
     "text": [
      "diag:  {'sigma': OrderedDict([('n_eff', tensor(323.6481)), ('r_hat', tensor(1.0101))]), 'w': OrderedDict([('n_eff', tensor([403.5458, 426.3134, 297.9094, 387.7597, 213.9107, 262.5016, 192.1238,\n",
      "        330.6191, 350.2365, 255.4887, 218.0485, 346.4416, 313.6003, 200.1002,\n",
      "        233.3701])), ('r_hat', tensor([1.0083, 1.0015, 1.0142, 1.0043, 0.9999, 0.9994, 0.9994, 0.9994, 1.0108,\n",
      "        1.0126, 1.0228, 0.9999, 1.0067, 0.9993, 1.0072]))]), 'divergences': {'chain 0': [90, 196, 338, 346, 369, 379, 389, 390, 392, 398, 404, 407, 421, 446, 464, 470, 788, 810, 925, 1039, 1128, 1212, 1214, 1357, 1419]}, 'acceptance rate': {'chain 0': 0.9866666666666667}}\n",
      "Registering the results in:  SX1/2023-11-19/n-5_k-2_m-16_sigma_w-10.0_sigma_p-0.1_n_samples-1500.yaml\n"
     ]
    },
    {
     "name": "stderr",
     "output_type": "stream",
     "text": [
      "Sample: 100%|████████████████████████████| 2000/2000 [02:49, 11.82it/s, step size=7.28e-02, acc. prob=0.598]\n"
     ]
    },
    {
     "name": "stdout",
     "output_type": "stream",
     "text": [
      "diag:  {'sigma': OrderedDict([('n_eff', tensor(41.4087)), ('r_hat', tensor(1.0325))]), 'w': OrderedDict([('n_eff', tensor([230.4916,  34.8653, 264.4534,  60.7873,  16.3585, 276.4298, 168.7899,\n",
      "        213.4237, 394.4433, 314.3287,  82.0140, 490.3578, 269.8541, 374.0809,\n",
      "         36.2525])), ('r_hat', tensor([1.0011, 1.0311, 1.0204, 1.0075, 1.0497, 1.0088, 1.0005, 1.0006, 1.0017,\n",
      "        1.0238, 1.0016, 1.0010, 1.0034, 1.0012, 1.0251]))]), 'divergences': {'chain 0': [129, 178, 200, 205, 308, 626, 778, 779, 781, 782, 783, 784, 787, 791, 794, 795, 796, 797, 798, 799, 801, 804, 805, 807, 808, 811, 815, 817, 819, 821, 823, 824, 826, 828, 830, 832, 833, 834, 836, 837, 841, 842, 846, 848, 853, 854, 855, 857, 858, 860, 861, 863, 864, 865, 868, 869, 871, 872, 873, 878, 881, 883, 884, 885, 890, 891, 893, 894, 896, 898, 901, 908, 909, 912, 914, 915, 916, 920, 922, 926, 929, 935, 937, 940, 941, 942, 943, 945, 953, 954, 955, 957, 958, 960, 961, 962, 963, 965, 966, 968, 969, 970, 974, 975, 986, 988, 990, 994, 1001, 1002, 1003, 1115, 1133, 1226, 1309]}, 'acceptance rate': {'chain 0': 0.8873333333333333}}\n",
      "Registering the results in:  SX1/2023-11-19/n-5_k-2_m-16_sigma_w-10.0_sigma_p-0.01_n_samples-1500.yaml\n"
     ]
    },
    {
     "name": "stderr",
     "output_type": "stream",
     "text": [
      "Sample: 100%|████████████████████████████| 2000/2000 [03:09, 10.54it/s, step size=6.15e-02, acc. prob=0.578]\n"
     ]
    },
    {
     "name": "stdout",
     "output_type": "stream",
     "text": [
      "diag:  {'sigma': OrderedDict([('n_eff', tensor(42.3937)), ('r_hat', tensor(1.0111))]), 'w': OrderedDict([('n_eff', tensor([ 16.9163,  46.2255,  71.2089, 196.5874,  32.6886,  17.5103, 333.7751,\n",
      "         69.3767,  49.7672,  32.9571, 402.3122, 314.5971, 140.4534,  84.1281,\n",
      "         86.2673])), ('r_hat', tensor([1.0113, 1.0243, 1.0027, 1.0020, 1.0528, 1.0090, 1.0040, 1.0070, 1.0160,\n",
      "        1.0022, 1.0074, 1.0143, 1.0042, 1.0012, 1.0028]))]), 'divergences': {'chain 0': [37, 85, 166, 199, 342, 469, 470, 508, 534, 584, 631, 638, 663, 669, 674, 676, 678, 682, 683, 684, 685, 687, 690, 691, 692, 694, 698, 700, 702, 703, 704, 705, 707, 712, 716, 717, 718, 719, 720, 723, 725, 726, 727, 731, 733, 734, 738, 742, 745, 746, 747, 748, 751, 752, 753, 755, 757, 758, 760, 763, 764, 765, 766, 770, 771, 772, 781, 783, 790, 791, 792, 793, 796, 797, 798, 800, 801, 802, 803, 804, 806, 807, 811, 812, 814, 819, 821, 822, 824, 825, 826, 827, 829, 831, 832, 834, 836, 838, 843, 844, 845, 846, 849, 853, 855, 857, 858, 860, 862, 864, 866, 867, 880, 1041, 1216, 1219, 1220, 1234, 1240, 1243, 1261, 1262, 1267, 1268, 1273, 1396, 1410, 1415, 1416, 1419, 1421, 1422, 1426, 1435, 1439, 1474, 1475, 1487, 1488, 1490, 1491, 1492, 1495, 1497, 1499]}, 'acceptance rate': {'chain 0': 0.854}}\n",
      "Registering the results in:  SX1/2023-11-19/n-5_k-2_m-16_sigma_w-10.0_sigma_p-10.0_n_samples-1500.yaml\n"
     ]
    },
    {
     "name": "stderr",
     "output_type": "stream",
     "text": [
      "Sample: 100%|████████████████████████████| 2000/2000 [22:53,  1.46it/s, step size=6.42e-03, acc. prob=0.720]\n"
     ]
    },
    {
     "name": "stdout",
     "output_type": "stream",
     "text": [
      "diag:  {'sigma': OrderedDict([('n_eff', tensor(336.4619)), ('r_hat', tensor(1.0130))]), 'w': OrderedDict([('n_eff', tensor([225.9796, 158.6710, 270.2391,  55.5429,  84.0237,  83.0556, 168.4885,\n",
      "         62.1795, 230.0273,  88.4125, 106.7476, 101.3900, 184.0095, 176.3594,\n",
      "         69.0850])), ('r_hat', tensor([0.9994, 1.0005, 0.9993, 1.0070, 1.0017, 1.0023, 1.0005, 0.9993, 1.0015,\n",
      "        1.0077, 1.0060, 1.0037, 1.0053, 1.0029, 1.0022]))]), 'divergences': {'chain 0': [16, 18, 24, 67, 72, 88, 109, 117, 135, 175, 193, 215, 225, 228, 234, 235, 241, 258, 261, 268, 295, 349, 350, 356, 412, 437, 465, 495, 504, 511, 517, 520, 532, 536, 537, 540, 541, 548, 578, 586, 597, 604, 681, 691, 697, 723, 746, 758, 761, 785, 801, 804, 841, 851, 854, 862, 867, 870, 887, 900, 914, 920, 925, 935, 937, 940, 944, 950, 970, 983, 1020, 1021, 1028, 1093, 1142, 1143, 1144, 1166, 1211, 1239, 1240, 1248, 1255, 1261, 1264, 1265, 1292, 1313, 1320, 1345, 1372, 1383, 1384, 1385, 1408, 1427, 1430, 1467, 1483, 1486]}, 'acceptance rate': {'chain 0': 0.9973333333333333}}\n",
      "Registering the results in:  SX1/2023-11-19/n-5_k-3_m-16_sigma_w-1_sigma_p-1_n_samples-1500.yaml\n"
     ]
    },
    {
     "name": "stderr",
     "output_type": "stream",
     "text": [
      "Sample: 100%|████████████████████████████| 2000/2000 [05:18,  6.28it/s, step size=3.79e-02, acc. prob=0.797]\n"
     ]
    },
    {
     "name": "stdout",
     "output_type": "stream",
     "text": [
      "diag:  {'sigma': OrderedDict([('n_eff', tensor(225.8882)), ('r_hat', tensor(1.0054))]), 'w': OrderedDict([('n_eff', tensor([ 334.9079,  826.3002,  849.7637,  699.8167,  714.1687,  908.3903,\n",
      "         216.4518,  819.0144,  876.7636,  850.1788,  543.4002,  613.8470,\n",
      "        1020.0325,  453.6671,  531.9424,  916.1773, 1041.0125,  339.4541,\n",
      "         150.8434,  900.9333,  660.4888,  256.2048,  852.5822,  891.9847,\n",
      "        1170.1671])), ('r_hat', tensor([1.0132, 0.9993, 1.0059, 1.0004, 0.9994, 1.0003, 1.0132, 1.0017, 0.9994,\n",
      "        1.0019, 1.0041, 1.0000, 1.0001, 0.9993, 1.0024, 1.0061, 0.9994, 1.0074,\n",
      "        1.0093, 1.0053, 1.0055, 1.0012, 1.0058, 1.0009, 1.0034]))]), 'divergences': {'chain 0': [8, 113, 154, 157, 240, 256, 395, 972, 976, 1062, 1106, 1130, 1131, 1132, 1133, 1136, 1137, 1139, 1143, 1146, 1147, 1148, 1149, 1151, 1152, 1154, 1155, 1156, 1157, 1158, 1160, 1161, 1162, 1163, 1164, 1165, 1166, 1167, 1168, 1169, 1173, 1174, 1176, 1178, 1179, 1180, 1181, 1182, 1183, 1184, 1185, 1268, 1330]}, 'acceptance rate': {'chain 0': 0.9806666666666667}}\n",
      "Registering the results in:  SX1/2023-11-19/n-5_k-3_m-16_sigma_w-1_sigma_p-0.1_n_samples-1500.yaml\n"
     ]
    },
    {
     "name": "stderr",
     "output_type": "stream",
     "text": [
      "Sample: 100%|████████████████████████████| 2000/2000 [04:17,  7.76it/s, step size=5.18e-02, acc. prob=0.842]\n"
     ]
    },
    {
     "name": "stdout",
     "output_type": "stream",
     "text": [
      "diag:  {'sigma': OrderedDict([('n_eff', tensor(376.3191)), ('r_hat', tensor(1.0000))]), 'w': OrderedDict([('n_eff', tensor([ 626.4529,  972.3245,  790.3004, 1062.6353, 1058.4745,  773.6035,\n",
      "         849.9890,  970.9357,  837.6266, 1058.9744,  944.6937, 1049.7245,\n",
      "         736.4668,  719.8176,  890.6721, 1061.5802, 1155.8778,  895.0518,\n",
      "         881.1325,  891.8867, 1396.9973, 1133.5718, 1070.8003, 1218.1915,\n",
      "         753.6245])), ('r_hat', tensor([0.9999, 0.9993, 1.0007, 1.0049, 0.9996, 1.0011, 1.0001, 1.0079, 0.9995,\n",
      "        1.0031, 0.9995, 0.9999, 0.9993, 1.0027, 1.0001, 0.9993, 0.9995, 0.9994,\n",
      "        1.0006, 1.0015, 1.0003, 1.0003, 0.9999, 1.0000, 1.0070]))]), 'divergences': {'chain 0': [61, 161, 221, 268, 586, 674, 721, 914, 981, 1154, 1162, 1399]}, 'acceptance rate': {'chain 0': 0.9913333333333333}}\n",
      "Registering the results in:  SX1/2023-11-19/n-5_k-3_m-16_sigma_w-1_sigma_p-0.01_n_samples-1500.yaml\n"
     ]
    },
    {
     "name": "stderr",
     "output_type": "stream",
     "text": [
      "Sample: 100%|████████████████████████████| 2000/2000 [05:13,  6.38it/s, step size=3.65e-02, acc. prob=0.809]\n"
     ]
    },
    {
     "name": "stdout",
     "output_type": "stream",
     "text": [
      "diag:  {'sigma': OrderedDict([('n_eff', tensor(297.6779)), ('r_hat', tensor(1.0060))]), 'w': OrderedDict([('n_eff', tensor([ 474.2925,  533.5435,  728.9547,  443.4077,  872.1465,  571.3821,\n",
      "         644.4415,  414.6230,  659.8507,  374.3672,  532.7245,  576.1500,\n",
      "          75.9510,  716.8077,  954.4373,  276.7612,  343.6798,   72.6359,\n",
      "         929.1878,  716.1807, 1077.7295,  317.5656,   97.8485,  869.5556,\n",
      "         400.9257])), ('r_hat', tensor([1.0008, 1.0058, 1.0016, 0.9996, 1.0003, 1.0002, 1.0012, 1.0009, 0.9995,\n",
      "        1.0051, 0.9998, 1.0015, 1.0298, 0.9993, 0.9996, 1.0058, 1.0011, 1.0228,\n",
      "        0.9995, 1.0000, 0.9994, 1.0025, 1.0115, 1.0007, 0.9996]))]), 'divergences': {'chain 0': [75, 197, 378, 397, 484, 607, 642, 647, 697, 743, 777, 806, 882, 910, 917, 918, 920, 921, 923, 924, 925, 926, 927, 928, 929, 930, 932, 934, 938, 940, 941, 951, 964, 1066, 1261, 1336]}, 'acceptance rate': {'chain 0': 0.9906666666666667}}\n",
      "Registering the results in:  SX1/2023-11-19/n-5_k-3_m-16_sigma_w-1_sigma_p-10.0_n_samples-1500.yaml\n"
     ]
    },
    {
     "name": "stderr",
     "output_type": "stream",
     "text": [
      "Sample: 100%|████████████████████████████| 2000/2000 [09:12,  3.62it/s, step size=2.32e-02, acc. prob=0.605]\n"
     ]
    },
    {
     "name": "stdout",
     "output_type": "stream",
     "text": [
      "diag:  {'sigma': OrderedDict([('n_eff', tensor(172.1732)), ('r_hat', tensor(0.9997))]), 'w': OrderedDict([('n_eff', tensor([304.0001, 243.3456, 136.9082,  87.2746,  66.8749, 419.8940, 491.8621,\n",
      "        145.5807, 264.1220, 153.1819,  43.9548, 178.5291,  91.1899, 226.0846,\n",
      "         55.9536, 456.2639, 201.0781, 353.9539, 158.0703, 127.8734,  57.8334,\n",
      "         86.0243, 424.9207,  37.2359, 498.7530])), ('r_hat', tensor([0.9999, 1.0004, 1.0023, 1.0392, 1.0149, 0.9994, 1.0017, 1.0050, 1.0033,\n",
      "        0.9997, 1.0439, 1.0026, 1.0188, 1.0036, 1.0289, 0.9994, 0.9999, 1.0033,\n",
      "        1.0070, 0.9994, 1.0393, 1.0155, 1.0086, 1.0462, 1.0075]))]), 'divergences': {'chain 0': [25, 85, 124, 164, 179, 195, 209, 214, 220, 274, 319, 384, 385, 387, 388, 390, 397, 398, 400, 401, 402, 403, 404, 406, 408, 411, 412, 414, 418, 420, 421, 422, 423, 430, 431, 432, 434, 435, 437, 438, 439, 440, 442, 486, 507, 525, 579, 621, 624, 641, 645, 684, 767, 768, 841, 858, 911, 941, 1037, 1056, 1065, 1075, 1099, 1100, 1125, 1154, 1161, 1167, 1173, 1309, 1336, 1356, 1365, 1371, 1374, 1375, 1381, 1390, 1391, 1393, 1396, 1398, 1399, 1407, 1420, 1425, 1426, 1429, 1438, 1444, 1447, 1450, 1454]}, 'acceptance rate': {'chain 0': 0.9693333333333334}}\n",
      "Registering the results in:  SX1/2023-11-19/n-5_k-3_m-16_sigma_w-0.1_sigma_p-1_n_samples-1500.yaml\n"
     ]
    },
    {
     "name": "stderr",
     "output_type": "stream",
     "text": [
      "Sample: 100%|████████████████████████████| 2000/2000 [08:28,  3.93it/s, step size=2.52e-02, acc. prob=0.778]\n"
     ]
    },
    {
     "name": "stdout",
     "output_type": "stream",
     "text": [
      "diag:  {'sigma': OrderedDict([('n_eff', tensor(384.8666)), ('r_hat', tensor(1.0008))]), 'w': OrderedDict([('n_eff', tensor([ 244.9693,  323.4983,  707.5801,  784.7742,  693.6641,  768.1201,\n",
      "         242.4484,  576.8822,  491.1526,  339.2829,  339.8358,  675.4193,\n",
      "         761.2296,  636.4686,  318.5125,  538.9161,  860.7581,  461.8918,\n",
      "         642.7416,  468.4335,  658.9393,  473.7155,  600.7068,  256.2711,\n",
      "        1159.2734])), ('r_hat', tensor([1.0055, 1.0069, 0.9994, 1.0000, 0.9995, 0.9993, 1.0034, 1.0003, 0.9999,\n",
      "        1.0003, 1.0061, 0.9995, 0.9994, 0.9995, 1.0043, 0.9995, 1.0006, 0.9997,\n",
      "        1.0004, 1.0007, 1.0008, 0.9995, 1.0055, 1.0047, 0.9993]))]), 'divergences': {'chain 0': [11, 50, 51, 100, 112, 228, 234, 235, 236, 243, 247, 250, 251, 253, 257, 264, 265, 293, 321, 331, 365, 675, 764, 787, 854, 870, 966, 1081, 1107, 1134, 1135, 1284, 1467]}, 'acceptance rate': {'chain 0': 0.992}}\n",
      "Registering the results in:  SX1/2023-11-19/n-5_k-3_m-16_sigma_w-0.1_sigma_p-0.1_n_samples-1500.yaml\n"
     ]
    },
    {
     "name": "stderr",
     "output_type": "stream",
     "text": [
      "Sample: 100%|████████████████████████████| 2000/2000 [05:32,  6.01it/s, step size=3.57e-02, acc. prob=0.807]\n"
     ]
    },
    {
     "name": "stdout",
     "output_type": "stream",
     "text": [
      "diag:  {'sigma': OrderedDict([('n_eff', tensor(361.1316)), ('r_hat', tensor(1.0233))]), 'w': OrderedDict([('n_eff', tensor([ 746.2473,  786.9736,  595.5447,  536.8309,  437.4224,  536.7298,\n",
      "         798.2433,  700.7045, 1058.9534,  776.0025,  581.4286,  392.6638,\n",
      "         588.8599,  797.4737,  717.2636,  821.6260,  556.9277, 1268.3226,\n",
      "         815.7847,  935.8709,  938.2993, 1303.1787,  999.3403,  960.7192,\n",
      "        1038.7507])), ('r_hat', tensor([1.0027, 1.0030, 1.0086, 0.9994, 0.9993, 0.9997, 1.0004, 1.0001, 1.0048,\n",
      "        0.9994, 0.9995, 1.0000, 1.0028, 0.9997, 0.9994, 0.9994, 0.9993, 0.9996,\n",
      "        1.0015, 1.0031, 1.0032, 0.9996, 1.0004, 0.9994, 0.9994]))]), 'divergences': {'chain 0': [51, 55, 66, 69, 140, 1111, 1225, 1474]}, 'acceptance rate': {'chain 0': 0.99}}\n",
      "Registering the results in:  SX1/2023-11-19/n-5_k-3_m-16_sigma_w-0.1_sigma_p-0.01_n_samples-1500.yaml\n"
     ]
    },
    {
     "name": "stderr",
     "output_type": "stream",
     "text": [
      "Sample: 100%|████████████████████████████| 2000/2000 [08:13,  4.06it/s, step size=2.18e-02, acc. prob=0.772]\n"
     ]
    },
    {
     "name": "stdout",
     "output_type": "stream",
     "text": [
      "diag:  {'sigma': OrderedDict([('n_eff', tensor(169.8482)), ('r_hat', tensor(1.0002))]), 'w': OrderedDict([('n_eff', tensor([ 467.3477,  319.6861,   91.7229,  159.8929,  131.1567,  769.2390,\n",
      "         420.7422,  204.8521,  412.9796,  750.3725,  144.2620, 1060.2421,\n",
      "         510.9034,  513.3309,  586.0913,   50.0107,   42.7384,  683.6005,\n",
      "         387.0074,  617.3174,  717.9805,  702.6949,  537.9297,  349.7954,\n",
      "         143.5689])), ('r_hat', tensor([0.9997, 1.0099, 1.0058, 0.9993, 1.0098, 1.0007, 1.0047, 1.0007, 1.0007,\n",
      "        1.0022, 0.9994, 0.9998, 1.0070, 1.0001, 1.0031, 1.0231, 1.0134, 1.0027,\n",
      "        0.9993, 1.0018, 1.0035, 0.9993, 0.9994, 1.0043, 1.0047]))]), 'divergences': {'chain 0': [23, 56, 61, 69, 72, 74, 78, 80, 82, 84, 85, 87, 89, 90, 94, 97, 98, 99, 100, 102, 104, 105, 108, 110, 111, 112, 113, 114, 117, 118, 120, 121, 122, 125, 126, 127, 129, 132, 140, 150, 170, 180, 200, 273, 439, 507, 718, 791, 806, 808, 812, 813, 815, 881, 935, 984, 1003, 1012, 1126, 1141, 1207, 1208, 1235, 1255, 1322, 1328, 1331, 1332, 1334, 1336, 1337, 1338, 1339, 1340, 1341, 1342, 1343, 1344, 1346, 1348, 1349, 1350, 1351, 1353, 1354, 1357, 1359, 1465]}, 'acceptance rate': {'chain 0': 0.9833333333333333}}\n",
      "Registering the results in:  SX1/2023-11-19/n-5_k-3_m-16_sigma_w-0.1_sigma_p-10.0_n_samples-1500.yaml\n"
     ]
    },
    {
     "name": "stderr",
     "output_type": "stream",
     "text": [
      "Sample: 100%|████████████████████████████| 2000/2000 [07:05,  4.70it/s, step size=2.57e-02, acc. prob=0.729]\n"
     ]
    },
    {
     "name": "stdout",
     "output_type": "stream",
     "text": [
      "diag:  {'sigma': OrderedDict([('n_eff', tensor(252.1123)), ('r_hat', tensor(1.0006))]), 'w': OrderedDict([('n_eff', tensor([219.0767, 201.0036, 254.7332, 358.0937, 420.3961, 286.8918, 534.2325,\n",
      "        628.0067, 476.9155, 264.8455, 312.9283, 533.9395, 400.6988, 351.0837,\n",
      "        558.3262, 593.4048, 611.7219, 268.4302, 800.7134, 338.2402, 130.2487,\n",
      "        466.5551, 199.1133, 413.0914, 516.2591])), ('r_hat', tensor([0.9993, 0.9998, 0.9994, 0.9999, 0.9998, 1.0000, 1.0013, 1.0009, 0.9994,\n",
      "        0.9993, 0.9994, 1.0012, 0.9994, 0.9999, 0.9995, 1.0011, 1.0005, 0.9996,\n",
      "        0.9994, 1.0009, 1.0002, 0.9993, 1.0014, 0.9993, 0.9993]))]), 'divergences': {'chain 0': [108, 119, 126, 133, 134, 201, 284, 329, 396, 430, 468, 472, 474, 476, 491, 513, 627, 692, 721, 741, 800, 805, 822, 1231, 1271, 1317, 1324, 1399, 1425, 1468]}, 'acceptance rate': {'chain 0': 0.9866666666666667}}\n",
      "Registering the results in:  SX1/2023-11-19/n-5_k-3_m-16_sigma_w-0.01_sigma_p-1_n_samples-1500.yaml\n"
     ]
    },
    {
     "name": "stderr",
     "output_type": "stream",
     "text": [
      "Sample: 100%|████████████████████████████| 2000/2000 [03:39,  9.11it/s, step size=4.28e-02, acc. prob=0.635]\n"
     ]
    },
    {
     "name": "stdout",
     "output_type": "stream",
     "text": [
      "diag:  {'sigma': OrderedDict([('n_eff', tensor(72.4598)), ('r_hat', tensor(1.0200))]), 'w': OrderedDict([('n_eff', tensor([174.5277,  92.6099, 129.5761,  93.6019,  70.5336, 160.4566, 106.1237,\n",
      "        212.2770, 138.1533, 382.6777, 291.6126, 311.1427,  46.6025, 163.6719,\n",
      "         70.8652, 362.3554,  45.7830, 270.2914, 159.1656, 182.6518, 263.9233,\n",
      "        127.0361, 411.9082, 241.4773,  50.2778])), ('r_hat', tensor([1.0071, 1.0401, 1.0034, 1.0171, 1.0189, 1.0062, 1.0039, 1.0003, 1.0129,\n",
      "        1.0078, 1.0077, 1.0015, 1.0447, 1.0040, 1.0303, 0.9997, 1.0254, 1.0043,\n",
      "        0.9994, 1.0147, 1.0011, 1.0170, 0.9995, 1.0099, 1.0357]))]), 'divergences': {'chain 0': [48, 58, 154, 176, 199, 288, 294, 320, 321, 325, 326, 347, 351, 363, 367, 369, 379, 381, 384, 392, 395, 400, 401, 403, 405, 409, 414, 421, 423, 424, 425, 426, 427, 432, 433, 434, 436, 437, 441, 442, 445, 452, 467, 469, 631, 772, 805, 807, 810, 816, 826, 827, 916, 1150, 1159, 1296, 1302, 1386, 1482]}, 'acceptance rate': {'chain 0': 0.9433333333333334}}\n",
      "Registering the results in:  SX1/2023-11-19/n-5_k-3_m-16_sigma_w-0.01_sigma_p-0.1_n_samples-1500.yaml\n"
     ]
    },
    {
     "name": "stderr",
     "output_type": "stream",
     "text": [
      "Sample: 100%|████████████████████████████| 2000/2000 [07:45,  4.29it/s, step size=1.99e-02, acc. prob=0.842]\n"
     ]
    },
    {
     "name": "stdout",
     "output_type": "stream",
     "text": [
      "diag:  {'sigma': OrderedDict([('n_eff', tensor(400.7266)), ('r_hat', tensor(1.0005))]), 'w': OrderedDict([('n_eff', tensor([ 936.7181,  475.2371,  280.7958,  374.5578,  505.4759, 1118.2147,\n",
      "        1076.3466, 1125.6055, 1373.1167,  804.9391,  587.4852,  663.6614,\n",
      "         301.1172, 1017.6734, 1047.7429,  963.6071, 1128.2926,  751.3691,\n",
      "        1255.9540,  831.8892, 1272.6687,  713.9287,  928.3568,  960.6961,\n",
      "         975.8098])), ('r_hat', tensor([0.9999, 0.9995, 1.0030, 1.0029, 1.0029, 0.9993, 0.9993, 0.9994, 0.9996,\n",
      "        0.9995, 0.9996, 1.0002, 0.9993, 0.9995, 1.0011, 1.0013, 1.0005, 1.0040,\n",
      "        1.0006, 1.0010, 0.9994, 0.9996, 1.0013, 1.0011, 0.9995]))]), 'divergences': {'chain 0': [4, 76, 89, 91, 127, 179, 211, 238, 239, 283, 405, 493, 512, 514, 529, 537, 543, 547, 711, 970, 1019, 1023, 1033, 1104, 1157, 1223, 1454]}, 'acceptance rate': {'chain 0': 0.9873333333333333}}\n",
      "Registering the results in:  SX1/2023-11-19/n-5_k-3_m-16_sigma_w-0.01_sigma_p-0.01_n_samples-1500.yaml\n"
     ]
    },
    {
     "name": "stderr",
     "output_type": "stream",
     "text": [
      "Sample: 100%|████████████████████████████| 2000/2000 [03:08, 10.60it/s, step size=3.29e-02, acc. prob=0.330]\n"
     ]
    },
    {
     "name": "stdout",
     "output_type": "stream",
     "text": [
      "diag:  {'sigma': OrderedDict([('n_eff', tensor(6.3636)), ('r_hat', tensor(1.3798))]), 'w': OrderedDict([('n_eff', tensor([ 4.6014,  3.5377,  5.4847, 12.1059,  3.8714,  4.0834,  7.4422,  4.3695,\n",
      "         4.0273, 40.8539,  6.8193,  8.8894,  4.8987, 11.9129, 11.2521,  8.0588,\n",
      "         8.7246,  6.5674,  5.4869, 17.5897,  7.3594, 10.7583, 33.9357, 81.0870,\n",
      "        17.5737])), ('r_hat', tensor([1.5642, 1.7494, 1.2874, 1.1586, 1.7807, 1.6802, 1.1618, 1.4899, 1.7623,\n",
      "        1.0002, 1.0005, 1.0825, 1.5449, 1.0864, 1.0116, 1.2787, 1.1866, 1.0220,\n",
      "        1.4299, 1.0786, 1.1985, 0.9999, 1.0815, 1.0175, 1.1614]))]), 'divergences': {'chain 0': [39, 109, 113, 114, 115, 120, 124, 125, 126, 133, 141, 186, 212, 221, 237, 261, 264, 295, 375, 384, 443, 544, 595, 605, 608, 609, 610, 611, 612, 619, 621, 623, 624, 625, 626, 629, 632, 635, 636, 637, 641, 642, 645, 647, 648, 649, 650, 652, 653, 656, 659, 660, 661, 663, 664, 666, 667, 668, 669, 670, 671, 672, 673, 675, 676, 678, 679, 681, 682, 683, 684, 685, 686, 687, 688, 690, 691, 692, 693, 698, 699, 700, 701, 702, 703, 705, 706, 707, 708, 710, 712, 713, 714, 715, 716, 717, 718, 719, 720, 721, 723, 724, 725, 726, 727, 728, 729, 730, 731, 732, 733, 734, 735, 736, 737, 738, 739, 740, 741, 742, 743, 744, 745, 746, 747, 748, 750, 751, 752, 753, 755, 756, 757, 758, 759, 760, 761, 762, 763, 764, 765, 766, 767, 768, 771, 772, 774, 775, 776, 778, 779, 780, 781, 782, 783, 784, 785, 787, 788, 789, 790, 791, 792, 793, 794, 796, 797, 798, 799, 800, 801, 802, 803, 804, 805, 806, 807, 808, 809, 810, 811, 812, 813, 815, 816, 817, 818, 819, 820, 822, 823, 824, 825, 827, 828, 829, 830, 831, 832, 833, 834, 835, 838, 840, 843, 845, 847, 848, 849, 850, 853, 856, 857, 858, 859, 861, 862, 863, 865, 866, 867, 869, 870, 871, 872, 873, 875, 876, 877, 878, 879, 882, 883, 884, 885, 886, 887, 888, 890, 892, 893, 894, 897, 898, 900, 901, 902, 903, 904, 906, 907, 912, 914, 915, 916, 917, 920, 921, 922, 923, 924, 926, 927, 928, 929, 931, 932, 934, 935, 936, 937, 938, 939, 940, 941, 942, 943, 944, 945, 946, 947, 949, 950, 952, 954, 955, 956, 958, 959, 960, 961, 962, 964, 965, 966, 967, 968, 970, 972, 973, 975, 976, 977, 978, 979, 980, 981, 983, 985, 986, 987, 988, 990, 992, 993, 994, 995, 996, 997, 998, 999, 1000, 1003, 1004, 1005, 1006, 1007, 1008, 1010, 1011, 1012, 1013, 1014, 1015, 1017, 1018, 1019, 1020, 1023, 1024, 1025, 1026, 1027, 1028, 1029, 1030, 1031, 1034, 1035, 1036, 1037, 1038, 1039, 1040, 1041, 1043, 1044, 1045, 1046, 1047, 1048, 1049, 1050, 1052, 1053, 1054, 1055, 1056, 1057, 1058, 1059, 1060, 1061, 1062, 1063, 1064, 1065, 1066, 1067, 1068, 1069, 1070, 1072, 1073, 1074, 1075, 1076, 1077, 1078, 1079, 1080, 1082, 1083, 1085, 1086, 1087, 1088, 1089, 1090, 1091, 1094, 1096, 1097, 1098, 1099, 1103, 1104, 1105, 1106, 1107, 1108, 1109, 1110, 1111, 1113, 1114, 1116, 1117, 1118, 1119, 1120, 1121, 1122, 1123, 1124, 1125, 1126, 1127, 1128, 1129, 1130, 1131, 1132, 1133, 1134, 1135, 1136, 1137, 1138, 1140, 1141, 1143, 1145, 1146, 1147, 1148, 1149, 1150, 1151, 1153, 1154, 1155, 1159, 1160, 1161, 1162, 1163, 1164, 1166, 1167, 1168, 1169, 1170, 1171, 1172, 1173, 1174, 1175, 1176, 1177, 1178, 1179, 1180, 1181, 1182, 1184, 1186, 1187, 1189, 1190, 1191, 1192, 1193, 1194, 1195, 1196, 1199, 1200, 1202, 1204, 1205, 1206, 1211, 1213, 1215, 1216, 1217, 1218, 1219, 1220, 1221, 1223, 1225, 1226, 1227, 1228, 1229, 1230, 1231, 1232, 1233, 1234, 1235, 1236, 1237, 1238, 1239, 1240, 1242, 1243, 1244, 1248, 1249, 1251, 1252, 1253, 1254, 1255, 1257, 1258, 1259, 1261, 1262, 1264, 1266, 1267, 1268, 1269, 1270, 1273, 1274, 1275, 1276, 1277, 1278, 1280, 1281, 1283, 1284, 1285, 1286, 1287, 1288, 1289, 1290, 1291, 1292, 1294, 1295, 1296, 1297, 1299, 1300, 1301, 1302, 1303, 1306, 1307, 1308, 1309, 1311, 1312, 1313, 1314, 1315, 1316, 1318, 1319, 1320, 1322, 1323, 1324, 1325, 1326, 1327, 1328, 1329, 1330, 1331, 1332, 1333, 1334, 1335, 1336, 1337, 1339, 1340, 1341, 1342, 1343, 1344, 1346, 1347, 1348, 1350, 1351, 1353, 1354, 1355, 1356, 1358, 1359, 1360, 1362, 1363, 1364, 1365, 1366, 1367, 1368, 1370, 1371, 1372, 1374, 1375, 1377, 1378, 1379, 1380, 1381, 1382, 1383, 1385, 1387, 1389, 1391, 1393, 1395, 1396, 1397, 1398, 1400, 1406, 1407, 1408, 1409, 1410, 1411, 1413, 1414, 1415, 1417, 1418, 1419, 1420, 1421, 1422, 1423, 1424, 1426, 1427, 1428, 1430, 1431, 1432, 1433, 1435, 1436, 1437, 1438, 1439, 1440, 1441, 1442, 1443, 1445, 1446, 1447, 1448, 1449, 1450, 1451, 1452, 1453, 1454, 1456, 1457, 1458, 1459, 1460, 1461, 1462, 1463, 1465, 1466, 1469, 1470, 1471, 1472, 1473, 1474, 1475, 1476, 1477, 1479, 1480, 1481, 1482, 1483, 1484, 1485, 1486, 1487, 1489, 1490, 1491, 1492, 1493, 1494, 1495, 1496, 1497, 1498, 1499]}, 'acceptance rate': {'chain 0': 0.7333333333333333}}\n",
      "Registering the results in:  SX1/2023-11-19/n-5_k-3_m-16_sigma_w-0.01_sigma_p-10.0_n_samples-1500.yaml\n"
     ]
    },
    {
     "name": "stderr",
     "output_type": "stream",
     "text": [
      "Sample: 100%|████████████████████████████| 2000/2000 [04:25,  7.52it/s, step size=3.42e-02, acc. prob=0.855]\n"
     ]
    },
    {
     "name": "stdout",
     "output_type": "stream",
     "text": [
      "diag:  {'sigma': OrderedDict([('n_eff', tensor(375.6612)), ('r_hat', tensor(1.0016))]), 'w': OrderedDict([('n_eff', tensor([ 139.7422, 1296.6465,  945.0120, 1264.9125, 1020.8051,  517.5584,\n",
      "        1134.5193,  267.5146,  234.4554,  670.2687, 1380.6869, 1293.7401,\n",
      "        1069.0256,  651.0237, 1522.7573,  783.9901, 1564.0701, 1115.7031,\n",
      "         623.7238, 1612.2744, 1490.0133,  636.5776, 1418.0464,  924.5245,\n",
      "         833.2668])), ('r_hat', tensor([1.0063, 1.0007, 1.0003, 1.0010, 0.9994, 0.9995, 1.0000, 1.0037, 1.0035,\n",
      "        1.0059, 1.0045, 0.9994, 1.0025, 1.0036, 0.9994, 1.0079, 0.9994, 1.0018,\n",
      "        1.0025, 0.9994, 0.9998, 1.0043, 1.0005, 0.9994, 1.0002]))]), 'divergences': {'chain 0': [241, 290, 399, 460, 496, 580, 607, 609, 610, 619, 621, 626, 631, 645, 1115, 1237, 1266, 1294]}, 'acceptance rate': {'chain 0': 0.9886666666666667}}\n",
      "Registering the results in:  SX1/2023-11-19/n-5_k-3_m-16_sigma_w-10.0_sigma_p-1_n_samples-1500.yaml\n"
     ]
    },
    {
     "name": "stderr",
     "output_type": "stream",
     "text": [
      "Sample: 100%|████████████████████████████| 2000/2000 [12:14,  2.72it/s, step size=1.66e-02, acc. prob=0.772]\n"
     ]
    },
    {
     "name": "stdout",
     "output_type": "stream",
     "text": [
      "diag:  {'sigma': OrderedDict([('n_eff', tensor(283.7659)), ('r_hat', tensor(1.0085))]), 'w': OrderedDict([('n_eff', tensor([123.8462, 246.9969, 308.1643, 148.6328, 846.9285, 443.5344, 318.0409,\n",
      "        775.1165, 386.1205, 309.1192, 317.8851, 738.3535, 229.0572, 226.4683,\n",
      "        531.3404, 310.3217, 553.9108, 734.6662, 513.9539, 231.1884, 832.4150,\n",
      "        408.3164, 976.9717, 251.4238, 854.3605])), ('r_hat', tensor([0.9994, 0.9994, 1.0044, 1.0011, 1.0061, 0.9997, 1.0053, 0.9995, 1.0006,\n",
      "        0.9999, 0.9994, 1.0004, 0.9994, 1.0172, 1.0108, 0.9993, 0.9995, 0.9994,\n",
      "        1.0010, 1.0048, 0.9995, 1.0053, 0.9993, 0.9999, 1.0004]))]), 'divergences': {'chain 0': [146, 150, 181, 405, 429, 438, 509, 572, 583, 600, 660, 666, 703, 717, 728, 761, 779, 783, 788, 789, 798, 799, 800, 802, 810, 816, 818, 823, 868, 903, 926, 937, 1006, 1038, 1052, 1117, 1122, 1162, 1176, 1233, 1264, 1323, 1356, 1386, 1387, 1393, 1432, 1452, 1454]}, 'acceptance rate': {'chain 0': 0.9906666666666667}}\n",
      "Registering the results in:  SX1/2023-11-19/n-5_k-3_m-16_sigma_w-10.0_sigma_p-0.1_n_samples-1500.yaml\n"
     ]
    },
    {
     "name": "stderr",
     "output_type": "stream",
     "text": [
      "Sample: 100%|████████████████████████████| 2000/2000 [04:45,  7.01it/s, step size=4.72e-02, acc. prob=0.660]\n"
     ]
    },
    {
     "name": "stdout",
     "output_type": "stream",
     "text": [
      "diag:  {'sigma': OrderedDict([('n_eff', tensor(47.5281)), ('r_hat', tensor(1.0095))]), 'w': OrderedDict([('n_eff', tensor([ 64.8963,  68.4650,  90.1749, 455.8336, 278.0753, 557.9791, 138.1626,\n",
      "         63.6785, 127.5045, 744.0298,  33.5142,  44.0676, 229.3559, 114.2604,\n",
      "        388.9431,  98.4155, 163.1129,  33.9432, 296.0603,  27.3397,  24.9299,\n",
      "        133.0867,  49.3396, 195.8810, 159.7995])), ('r_hat', tensor([1.0046, 0.9994, 1.0156, 0.9999, 1.0110, 0.9999, 1.0002, 1.0053, 1.0050,\n",
      "        0.9993, 1.0036, 1.0288, 1.0039, 0.9997, 1.0025, 1.0104, 1.0004, 1.0217,\n",
      "        1.0101, 1.0018, 1.0417, 1.0002, 1.0142, 1.0005, 1.0002]))]), 'divergences': {'chain 0': [48, 209, 239, 343, 412, 416, 542, 628, 637, 665, 668, 674, 675, 678, 681, 683, 684, 686, 687, 688, 692, 697, 699, 700, 701, 702, 704, 705, 706, 707, 708, 710, 711, 712, 714, 716, 718, 719, 720, 722, 723, 724, 725, 726, 728, 732, 733, 735, 737, 738, 739, 740, 741, 742, 743, 744, 745, 746, 747, 749, 752, 757, 759, 760, 762, 764, 765, 766, 768, 770, 773, 774, 776, 778, 779, 780, 781, 786, 836, 922, 938, 1045, 1050, 1198, 1199, 1232, 1270, 1349, 1350, 1354, 1356, 1359, 1361, 1363, 1365, 1367, 1368, 1371, 1374, 1375, 1379, 1380, 1381, 1383, 1384, 1385, 1386, 1389, 1390, 1391, 1392, 1393, 1395, 1397, 1399, 1402, 1403, 1405, 1408, 1409, 1410, 1411, 1412, 1413, 1414, 1416, 1417, 1418, 1419, 1420, 1421, 1423, 1424, 1426, 1427, 1429, 1431, 1434, 1435, 1436, 1437, 1438, 1439, 1440, 1442, 1444, 1445, 1446, 1447, 1448, 1449, 1450, 1453, 1454, 1455, 1458, 1459, 1460, 1461, 1462, 1463, 1467, 1468, 1470, 1471, 1472, 1473, 1474, 1475, 1477, 1478, 1479, 1480, 1481, 1482, 1484, 1485, 1486, 1488, 1491, 1492, 1496, 1497, 1499]}, 'acceptance rate': {'chain 0': 0.93}}\n",
      "Registering the results in:  SX1/2023-11-19/n-5_k-3_m-16_sigma_w-10.0_sigma_p-0.01_n_samples-1500.yaml\n"
     ]
    },
    {
     "name": "stderr",
     "output_type": "stream",
     "text": [
      "Sample: 100%|████████████████████████████| 2000/2000 [05:44,  5.81it/s, step size=4.07e-02, acc. prob=0.790]\n"
     ]
    },
    {
     "name": "stdout",
     "output_type": "stream",
     "text": [
      "diag:  {'sigma': OrderedDict([('n_eff', tensor(268.6927)), ('r_hat', tensor(1.0012))]), 'w': OrderedDict([('n_eff', tensor([ 836.5872,  549.3701,  274.3448,  359.0858,  260.8598,  616.1357,\n",
      "         559.6547,  613.4903,  560.0610,  867.4127,  987.0415,  517.7676,\n",
      "        1197.6409,  489.7281,  172.9488, 1210.8071, 1025.1486, 1091.6648,\n",
      "         395.8377,  512.9255,  529.0750, 1306.9280,  622.3514,  697.0938,\n",
      "        1314.7184])), ('r_hat', tensor([0.9995, 1.0003, 0.9993, 0.9998, 1.0011, 1.0007, 0.9993, 1.0052, 0.9997,\n",
      "        0.9994, 1.0023, 0.9994, 1.0030, 1.0002, 1.0006, 0.9997, 0.9995, 0.9995,\n",
      "        0.9996, 0.9998, 1.0020, 1.0008, 0.9993, 1.0019, 1.0015]))]), 'divergences': {'chain 0': [85, 94, 232, 379, 719, 802, 804, 805, 808, 812, 814, 822, 829, 830, 835, 937, 953, 986, 1045, 1228, 1314, 1319, 1322, 1326, 1327, 1329, 1331, 1337, 1344, 1347, 1348, 1353, 1356]}, 'acceptance rate': {'chain 0': 0.9666666666666667}}\n",
      "Registering the results in:  SX1/2023-11-19/n-5_k-3_m-16_sigma_w-10.0_sigma_p-10.0_n_samples-1500.yaml\n"
     ]
    },
    {
     "name": "stderr",
     "output_type": "stream",
     "text": [
      "Sample: 100%|████████████████████████████| 2000/2000 [43:57,  1.32s/it, step size=1.98e-03, acc. prob=0.867]\n"
     ]
    },
    {
     "name": "stdout",
     "output_type": "stream",
     "text": [
      "diag:  {'sigma': OrderedDict([('n_eff', tensor(168.7996)), ('r_hat', tensor(1.0082))]), 'w': OrderedDict([('n_eff', tensor([ 58.5866, 265.3170,  85.6517, 248.4824, 230.5452, 135.5760, 304.4393,\n",
      "        197.9883,  46.3600, 154.9322, 235.0162,  50.0596, 174.6399,  86.6161,\n",
      "        164.9477, 127.3854, 201.5950, 205.1154, 317.9124, 284.3256, 166.8221,\n",
      "        205.8649, 160.0489, 159.8512, 190.2329])), ('r_hat', tensor([1.0883, 1.0060, 0.9997, 1.0080, 1.0006, 1.0476, 1.0075, 1.0033, 1.0761,\n",
      "        0.9999, 1.0063, 1.0746, 1.0008, 1.0031, 1.0160, 1.0049, 1.0089, 1.0013,\n",
      "        0.9994, 1.0044, 1.0117, 1.0000, 1.0059, 1.0096, 1.0181]))]), 'divergences': {'chain 0': [63, 69, 70, 266, 316, 362, 373, 374, 376, 387, 388, 392, 394, 395, 397, 403, 407, 408, 415, 419, 420, 422, 426, 428, 436, 467, 503, 504, 511, 516, 517, 526, 529, 769, 958, 1111, 1224, 1229, 1377]}, 'acceptance rate': {'chain 0': 0.9993333333333333}}\n",
      "Registering the results in:  SX1/2023-11-19/n-6_k-1_m-4_sigma_w-1_sigma_p-1_n_samples-1500.yaml\n"
     ]
    },
    {
     "name": "stderr",
     "output_type": "stream",
     "text": [
      "Sample: 100%|████████████████████████████| 2000/2000 [00:56, 35.44it/s, step size=3.38e-01, acc. prob=0.729]\n"
     ]
    },
    {
     "name": "stdout",
     "output_type": "stream",
     "text": [
      "diag:  {'sigma': OrderedDict([('n_eff', tensor(343.8465)), ('r_hat', tensor(1.0038))]), 'w': OrderedDict([('n_eff', tensor([666.8362, 627.3468, 618.3217, 425.9874, 796.1586, 572.9242])), ('r_hat', tensor([0.9993, 1.0004, 1.0002, 0.9994, 0.9993, 1.0020]))]), 'divergences': {'chain 0': [1, 38, 51, 109, 152, 175, 225, 302, 416, 440, 459, 511, 523, 526, 530, 531, 634, 635, 636, 645, 661, 668, 669, 730, 738, 763, 818, 824, 831, 883, 897, 898, 917, 983, 1007, 1016, 1019, 1068, 1077, 1081, 1082, 1083, 1087, 1088, 1089, 1093, 1184, 1250, 1319, 1371, 1469, 1477, 1499]}, 'acceptance rate': {'chain 0': 0.9286666666666666}}\n",
      "Registering the results in:  SX1/2023-11-19/n-6_k-1_m-4_sigma_w-1_sigma_p-0.1_n_samples-1500.yaml\n"
     ]
    },
    {
     "name": "stderr",
     "output_type": "stream",
     "text": [
      "Sample: 100%|████████████████████████████| 2000/2000 [00:48, 41.14it/s, step size=3.59e-01, acc. prob=0.868]\n"
     ]
    },
    {
     "name": "stdout",
     "output_type": "stream",
     "text": [
      "diag:  {'sigma': OrderedDict([('n_eff', tensor(843.4717)), ('r_hat', tensor(0.9995))]), 'w': OrderedDict([('n_eff', tensor([1008.4893, 1182.6008, 1171.1340, 1201.4960, 1088.2490,  962.9374])), ('r_hat', tensor([1.0005, 0.9993, 0.9996, 1.0000, 1.0031, 1.0008]))]), 'divergences': {'chain 0': [21, 53, 121, 135, 195, 208, 226, 283, 377, 475, 488, 493, 529, 587, 613, 684, 714, 792, 882, 958, 1017, 1048, 1050, 1099, 1113, 1122, 1337, 1348, 1479, 1480]}, 'acceptance rate': {'chain 0': 0.978}}\n",
      "Registering the results in:  SX1/2023-11-19/n-6_k-1_m-4_sigma_w-1_sigma_p-0.01_n_samples-1500.yaml\n"
     ]
    },
    {
     "name": "stderr",
     "output_type": "stream",
     "text": [
      "Sample: 100%|████████████████████████████| 2000/2000 [00:30, 65.01it/s, step size=5.93e-01, acc. prob=0.884]\n"
     ]
    },
    {
     "name": "stdout",
     "output_type": "stream",
     "text": [
      "diag:  {'sigma': OrderedDict([('n_eff', tensor(1738.5084)), ('r_hat', tensor(1.0016))]), 'w': OrderedDict([('n_eff', tensor([2155.1975, 2229.7332, 2436.7822, 2268.9778, 2121.8083, 2340.9556])), ('r_hat', tensor([0.9993, 0.9994, 0.9999, 0.9998, 0.9998, 0.9994]))]), 'divergences': {'chain 0': [65, 113, 978]}, 'acceptance rate': {'chain 0': 0.9886666666666667}}\n",
      "Registering the results in:  SX1/2023-11-19/n-6_k-1_m-4_sigma_w-1_sigma_p-10.0_n_samples-1500.yaml\n"
     ]
    },
    {
     "name": "stderr",
     "output_type": "stream",
     "text": [
      "Sample: 100%|████████████████████████████| 2000/2000 [04:31,  7.36it/s, step size=4.79e-02, acc. prob=0.826]\n"
     ]
    },
    {
     "name": "stdout",
     "output_type": "stream",
     "text": [
      "diag:  {'sigma': OrderedDict([('n_eff', tensor(435.4852)), ('r_hat', tensor(1.0010))]), 'w': OrderedDict([('n_eff', tensor([414.3384, 487.9801, 597.5430, 388.7442, 281.5251, 582.2632])), ('r_hat', tensor([1.0032, 1.0010, 1.0024, 0.9996, 1.0003, 1.0135]))]), 'divergences': {'chain 0': [22, 24, 28, 29, 538, 543, 545, 551, 554, 1036, 1039, 1100, 1131, 1160, 1164, 1166, 1168, 1170, 1175, 1177, 1179, 1180, 1183, 1186, 1187, 1190, 1191, 1337, 1346]}, 'acceptance rate': {'chain 0': 0.9913333333333333}}\n",
      "Registering the results in:  SX1/2023-11-19/n-6_k-1_m-4_sigma_w-0.1_sigma_p-1_n_samples-1500.yaml\n"
     ]
    },
    {
     "name": "stderr",
     "output_type": "stream",
     "text": [
      "Sample: 100%|████████████████████████████| 2000/2000 [00:45, 43.60it/s, step size=3.84e-01, acc. prob=0.893]\n"
     ]
    },
    {
     "name": "stdout",
     "output_type": "stream",
     "text": [
      "diag:  {'sigma': OrderedDict([('n_eff', tensor(959.7899)), ('r_hat', tensor(0.9997))]), 'w': OrderedDict([('n_eff', tensor([ 987.3845, 1038.3799, 1282.1504, 1325.4978, 1641.1160, 1293.2434])), ('r_hat', tensor([0.9993, 0.9996, 0.9994, 0.9995, 0.9994, 0.9998]))]), 'divergences': {'chain 0': [40, 114, 276, 335, 336, 360, 364, 920, 1092, 1265, 1335]}, 'acceptance rate': {'chain 0': 0.988}}\n",
      "Registering the results in:  SX1/2023-11-19/n-6_k-1_m-4_sigma_w-0.1_sigma_p-0.1_n_samples-1500.yaml\n"
     ]
    },
    {
     "name": "stderr",
     "output_type": "stream",
     "text": [
      "Sample: 100%|████████████████████████████| 2000/2000 [00:33, 59.31it/s, step size=4.88e-01, acc. prob=0.918]\n"
     ]
    },
    {
     "name": "stdout",
     "output_type": "stream",
     "text": [
      "diag:  {'sigma': OrderedDict([('n_eff', tensor(1455.2550)), ('r_hat', tensor(0.9994))]), 'w': OrderedDict([('n_eff', tensor([2257.7715, 2306.5779, 1361.0723, 1523.9856, 1796.6150, 1911.5070])), ('r_hat', tensor([0.9993, 1.0006, 0.9993, 0.9993, 0.9996, 1.0000]))]), 'divergences': {'chain 0': [652, 1211, 1259]}, 'acceptance rate': {'chain 0': 0.9893333333333333}}\n",
      "Registering the results in:  SX1/2023-11-19/n-6_k-1_m-4_sigma_w-0.1_sigma_p-0.01_n_samples-1500.yaml\n"
     ]
    },
    {
     "name": "stderr",
     "output_type": "stream",
     "text": [
      "Sample: 100%|████████████████████████████| 2000/2000 [00:31, 62.57it/s, step size=5.89e-01, acc. prob=0.886]\n"
     ]
    },
    {
     "name": "stdout",
     "output_type": "stream",
     "text": [
      "diag:  {'sigma': OrderedDict([('n_eff', tensor(2097.8433)), ('r_hat', tensor(0.9994))]), 'w': OrderedDict([('n_eff', tensor([2519.2932, 2521.3662, 1830.0918, 2589.4431, 2654.3167, 2184.0439])), ('r_hat', tensor([0.9993, 0.9993, 0.9994, 1.0005, 1.0000, 1.0001]))]), 'divergences': {'chain 0': [409]}, 'acceptance rate': {'chain 0': 0.992}}\n",
      "Registering the results in:  SX1/2023-11-19/n-6_k-1_m-4_sigma_w-0.1_sigma_p-10.0_n_samples-1500.yaml\n"
     ]
    },
    {
     "name": "stderr",
     "output_type": "stream",
     "text": [
      "Sample: 100%|████████████████████████████| 2000/2000 [00:54, 36.53it/s, step size=3.36e-01, acc. prob=0.772]\n"
     ]
    },
    {
     "name": "stdout",
     "output_type": "stream",
     "text": [
      "diag:  {'sigma': OrderedDict([('n_eff', tensor(693.8141)), ('r_hat', tensor(0.9994))]), 'w': OrderedDict([('n_eff', tensor([770.6843, 750.1530, 911.9401, 619.6031, 636.4921, 667.3417])), ('r_hat', tensor([0.9994, 0.9997, 0.9999, 1.0016, 0.9993, 1.0011]))]), 'divergences': {'chain 0': [21, 126, 172, 188, 191, 229, 231, 232, 235, 236, 276, 279, 335, 336, 361, 401, 409, 514, 548, 550, 593, 694, 696, 697, 699, 700, 703, 757, 758, 780, 794, 805, 854, 1003, 1004, 1054, 1057, 1060, 1077, 1102, 1104, 1140, 1150, 1256, 1273, 1454, 1458, 1472]}, 'acceptance rate': {'chain 0': 0.9586666666666667}}\n",
      "Registering the results in:  SX1/2023-11-19/n-6_k-1_m-4_sigma_w-0.01_sigma_p-1_n_samples-1500.yaml\n"
     ]
    },
    {
     "name": "stderr",
     "output_type": "stream",
     "text": [
      "Sample: 100%|████████████████████████████| 2000/2000 [00:39, 51.05it/s, step size=4.46e-01, acc. prob=0.885]\n"
     ]
    },
    {
     "name": "stdout",
     "output_type": "stream",
     "text": [
      "diag:  {'sigma': OrderedDict([('n_eff', tensor(1363.0066)), ('r_hat', tensor(1.0028))]), 'w': OrderedDict([('n_eff', tensor([1631.5374, 1504.3131, 1600.8834, 1910.9879, 1823.8346, 1795.7526])), ('r_hat', tensor([0.9995, 1.0003, 0.9998, 0.9993, 1.0007, 0.9997]))]), 'divergences': {'chain 0': [138, 309, 529, 580, 595, 596, 598, 600, 763, 873, 875, 877, 878, 1057, 1394]}, 'acceptance rate': {'chain 0': 0.9806666666666667}}\n",
      "Registering the results in:  SX1/2023-11-19/n-6_k-1_m-4_sigma_w-0.01_sigma_p-0.1_n_samples-1500.yaml\n"
     ]
    },
    {
     "name": "stderr",
     "output_type": "stream",
     "text": [
      "Sample: 100%|████████████████████████████| 2000/2000 [00:37, 53.95it/s, step size=5.99e-01, acc. prob=0.903]\n"
     ]
    },
    {
     "name": "stdout",
     "output_type": "stream",
     "text": [
      "diag:  {'sigma': OrderedDict([('n_eff', tensor(2061.5833)), ('r_hat', tensor(0.9995))]), 'w': OrderedDict([('n_eff', tensor([2559.4304, 2343.4421, 2253.6001, 2072.7810, 2047.8390, 2171.4827])), ('r_hat', tensor([0.9994, 1.0001, 0.9994, 0.9994, 0.9994, 1.0003]))]), 'divergences': {'chain 0': []}, 'acceptance rate': {'chain 0': 0.9966666666666667}}\n",
      "Registering the results in:  SX1/2023-11-19/n-6_k-1_m-4_sigma_w-0.01_sigma_p-0.01_n_samples-1500.yaml\n"
     ]
    },
    {
     "name": "stderr",
     "output_type": "stream",
     "text": [
      "Sample: 100%|████████████████████████████| 2000/2000 [00:34, 58.17it/s, step size=6.36e-01, acc. prob=0.894]\n"
     ]
    },
    {
     "name": "stdout",
     "output_type": "stream",
     "text": [
      "diag:  {'sigma': OrderedDict([('n_eff', tensor(2015.5233)), ('r_hat', tensor(0.9994))]), 'w': OrderedDict([('n_eff', tensor([2571.5627, 2843.6282, 2402.0771, 2742.8547, 2079.3132, 2400.1497])), ('r_hat', tensor([0.9999, 0.9998, 1.0005, 0.9994, 0.9994, 1.0000]))]), 'divergences': {'chain 0': [1003]}, 'acceptance rate': {'chain 0': 0.9946666666666667}}\n",
      "Registering the results in:  SX1/2023-11-19/n-6_k-1_m-4_sigma_w-0.01_sigma_p-10.0_n_samples-1500.yaml\n"
     ]
    },
    {
     "name": "stderr",
     "output_type": "stream",
     "text": [
      "Sample: 100%|████████████████████████████| 2000/2000 [00:32, 61.25it/s, step size=5.15e-01, acc. prob=0.752]\n"
     ]
    },
    {
     "name": "stdout",
     "output_type": "stream",
     "text": [
      "diag:  {'sigma': OrderedDict([('n_eff', tensor(569.8363)), ('r_hat', tensor(1.0041))]), 'w': OrderedDict([('n_eff', tensor([ 322.0302, 1438.3301, 1282.3846,  400.1844, 1188.3179,  243.2289])), ('r_hat', tensor([1.0048, 1.0001, 0.9998, 1.0007, 0.9998, 1.0015]))]), 'divergences': {'chain 0': [26, 27, 33, 36, 77, 196, 200, 208, 212, 222, 224, 229, 234, 237, 242, 245, 257, 323, 324, 328, 331, 333, 335, 336, 337, 339, 342, 343, 344, 345, 346, 347, 348, 350, 351, 352, 356, 357, 359, 372, 374, 375, 406, 411, 432, 545, 676, 747, 757, 829, 839, 871, 930, 1052, 1150, 1156, 1385, 1485, 1490]}, 'acceptance rate': {'chain 0': 0.9006666666666666}}\n",
      "Registering the results in:  SX1/2023-11-19/n-6_k-1_m-4_sigma_w-10.0_sigma_p-1_n_samples-1500.yaml\n"
     ]
    },
    {
     "name": "stderr",
     "output_type": "stream",
     "text": [
      "Sample: 100%|████████████████████████████| 2000/2000 [03:15, 10.25it/s, step size=8.63e-02, acc. prob=0.783]\n"
     ]
    },
    {
     "name": "stdout",
     "output_type": "stream",
     "text": [
      "diag:  {'sigma': OrderedDict([('n_eff', tensor(544.3174)), ('r_hat', tensor(0.9998))]), 'w': OrderedDict([('n_eff', tensor([402.3891, 522.4732, 419.5968, 535.1811, 456.8026, 421.7074])), ('r_hat', tensor([0.9995, 0.9993, 1.0043, 0.9997, 1.0008, 1.0005]))]), 'divergences': {'chain 0': [59, 112, 145, 173, 218, 411, 435, 437, 438, 449, 452, 464, 489, 492, 565, 598, 677, 679, 709, 801, 812, 887, 966, 1007, 1141, 1167, 1244, 1269, 1271, 1272, 1273, 1279, 1313, 1315, 1316, 1332, 1363, 1396, 1398, 1435]}, 'acceptance rate': {'chain 0': 0.9886666666666667}}\n",
      "Registering the results in:  SX1/2023-11-19/n-6_k-1_m-4_sigma_w-10.0_sigma_p-0.1_n_samples-1500.yaml\n"
     ]
    },
    {
     "name": "stderr",
     "output_type": "stream",
     "text": [
      "Sample: 100%|████████████████████████████| 2000/2000 [01:21, 24.51it/s, step size=2.38e-01, acc. prob=0.800]\n"
     ]
    },
    {
     "name": "stdout",
     "output_type": "stream",
     "text": [
      "diag:  {'sigma': OrderedDict([('n_eff', tensor(584.2308)), ('r_hat', tensor(0.9994))]), 'w': OrderedDict([('n_eff', tensor([638.9033, 537.1196, 879.9257, 531.8846, 562.2682, 783.9528])), ('r_hat', tensor([0.9998, 1.0010, 1.0071, 1.0030, 0.9997, 1.0007]))]), 'divergences': {'chain 0': [9, 61, 70, 87, 112, 239, 289, 339, 345, 436, 500, 618, 619, 630, 738, 774, 851, 983, 1183, 1184, 1185, 1200, 1229, 1234, 1236, 1319, 1392]}, 'acceptance rate': {'chain 0': 0.9586666666666667}}\n",
      "Registering the results in:  SX1/2023-11-19/n-6_k-1_m-4_sigma_w-10.0_sigma_p-0.01_n_samples-1500.yaml\n"
     ]
    },
    {
     "name": "stderr",
     "output_type": "stream",
     "text": [
      "Sample: 100%|████████████████████████████| 2000/2000 [00:57, 34.68it/s, step size=3.17e-01, acc. prob=0.891]\n"
     ]
    },
    {
     "name": "stdout",
     "output_type": "stream",
     "text": [
      "diag:  {'sigma': OrderedDict([('n_eff', tensor(1045.5398)), ('r_hat', tensor(0.9999))]), 'w': OrderedDict([('n_eff', tensor([1069.6708, 1277.9735, 1195.8492, 1173.7810, 1340.1354, 1425.1655])), ('r_hat', tensor([0.9995, 1.0000, 0.9996, 1.0001, 0.9993, 0.9994]))]), 'divergences': {'chain 0': [151, 152, 153, 158, 161, 162, 163, 165, 464, 482, 505, 572, 632, 636, 638, 712, 819, 834, 931, 1032, 1118, 1176, 1299, 1316, 1440]}, 'acceptance rate': {'chain 0': 0.986}}\n",
      "Registering the results in:  SX1/2023-11-19/n-6_k-1_m-4_sigma_w-10.0_sigma_p-10.0_n_samples-1500.yaml\n"
     ]
    },
    {
     "name": "stderr",
     "output_type": "stream",
     "text": [
      "Sample: 100%|████████████████████████████| 2000/2000 [11:18,  2.95it/s, step size=1.64e-02, acc. prob=0.754]\n"
     ]
    },
    {
     "name": "stdout",
     "output_type": "stream",
     "text": [
      "diag:  {'sigma': OrderedDict([('n_eff', tensor(373.8019)), ('r_hat', tensor(1.0040))]), 'w': OrderedDict([('n_eff', tensor([253.1443, 192.8488, 185.7349, 219.5252, 297.9847, 235.5066])), ('r_hat', tensor([1.0006, 1.0086, 1.0031, 0.9994, 1.0120, 0.9998]))]), 'divergences': {'chain 0': [50, 66, 67, 75, 76, 107, 151, 152, 195, 215, 232, 274, 275, 279, 283, 284, 285, 286, 287, 290, 322, 323, 359, 372, 438, 441, 462, 490, 543, 552, 556, 566, 569, 675, 680, 684, 685, 710, 739, 751, 753, 763, 889, 895, 929, 968, 972, 973, 987, 989, 996, 1031, 1033, 1057, 1092, 1229, 1253, 1274, 1279, 1290, 1292, 1294, 1298, 1307, 1316, 1338, 1342, 1356, 1386, 1387, 1395, 1412, 1439, 1455, 1465, 1479]}, 'acceptance rate': {'chain 0': 0.996}}\n",
      "Registering the results in:  SX1/2023-11-19/n-6_k-2_m-4_sigma_w-1_sigma_p-1_n_samples-1500.yaml\n"
     ]
    },
    {
     "name": "stderr",
     "output_type": "stream",
     "text": [
      "Sample: 100%|████████████████████████████| 2000/2000 [02:22, 14.03it/s, step size=1.61e-01, acc. prob=0.811]\n"
     ]
    },
    {
     "name": "stdout",
     "output_type": "stream",
     "text": [
      "diag:  {'sigma': OrderedDict([('n_eff', tensor(708.7278)), ('r_hat', tensor(1.0037))]), 'w': OrderedDict([('n_eff', tensor([1496.4015, 1789.3247, 1759.4259, 1697.9528, 1506.7672, 1502.1287,\n",
      "        1501.8679, 1179.6102, 1209.2341, 1868.7007, 1376.1526, 1379.8452,\n",
      "        1650.2393, 1050.7754, 1355.4767, 1331.8516, 1442.5059, 1707.2345,\n",
      "        1420.1339, 1456.5891, 1045.4803])), ('r_hat', tensor([1.0001, 1.0010, 1.0003, 0.9997, 0.9995, 0.9993, 0.9993, 0.9994, 0.9994,\n",
      "        0.9993, 0.9998, 0.9998, 1.0001, 1.0022, 0.9994, 0.9995, 0.9999, 0.9997,\n",
      "        0.9994, 0.9995, 1.0008]))]), 'divergences': {'chain 0': [172, 178, 182, 230, 463, 539, 750, 844, 1076, 1146, 1258, 1314, 1329]}, 'acceptance rate': {'chain 0': 0.992}}\n",
      "Registering the results in:  SX1/2023-11-19/n-6_k-2_m-4_sigma_w-1_sigma_p-0.1_n_samples-1500.yaml\n"
     ]
    },
    {
     "name": "stderr",
     "output_type": "stream",
     "text": [
      "Sample: 100%|████████████████████████████| 2000/2000 [00:48, 41.04it/s, step size=4.54e-01, acc. prob=0.783]\n"
     ]
    },
    {
     "name": "stdout",
     "output_type": "stream",
     "text": [
      "diag:  {'sigma': OrderedDict([('n_eff', tensor(918.1532)), ('r_hat', tensor(0.9999))]), 'w': OrderedDict([('n_eff', tensor([1076.8384, 1077.3680, 1274.9296, 1146.0730, 1224.3424,  945.1733,\n",
      "        1078.2361,  825.7449, 1245.5592, 1416.0725,  956.1725, 1567.2300,\n",
      "        1402.7821, 1275.9562, 1043.3088, 1104.4194, 1107.9805, 1287.7358,\n",
      "        1093.4855, 1294.1365, 1354.3247])), ('r_hat', tensor([1.0005, 0.9994, 0.9993, 0.9995, 0.9997, 0.9993, 1.0002, 0.9993, 0.9993,\n",
      "        0.9996, 1.0034, 0.9994, 1.0009, 0.9995, 0.9993, 0.9994, 0.9994, 0.9995,\n",
      "        1.0006, 1.0006, 1.0020]))]), 'divergences': {'chain 0': [14, 46, 87, 101, 119, 120, 121, 150, 151, 152, 176, 196, 205, 208, 220, 221, 258, 266, 291, 293, 305, 307, 336, 361, 364, 367, 372, 375, 376, 377, 378, 380, 381, 390, 391, 392, 399, 440, 477, 479, 505, 506, 520, 523, 576, 603, 623, 628, 631, 635, 700, 707, 727, 737, 766, 777, 778, 781, 788, 836, 847, 882, 885, 886, 890, 911, 926, 932, 987, 1042, 1092, 1124, 1155, 1189, 1197, 1203, 1217, 1236, 1268, 1310, 1316, 1317, 1318, 1320, 1321, 1372, 1373, 1402, 1408, 1410, 1414, 1426, 1453, 1462, 1470, 1471, 1475, 1499]}, 'acceptance rate': {'chain 0': 0.9606666666666667}}\n",
      "Registering the results in:  SX1/2023-11-19/n-6_k-2_m-4_sigma_w-1_sigma_p-0.01_n_samples-1500.yaml\n"
     ]
    },
    {
     "name": "stderr",
     "output_type": "stream",
     "text": [
      "Sample: 100%|████████████████████████████| 2000/2000 [00:52, 38.16it/s, step size=4.02e-01, acc. prob=0.929]\n"
     ]
    },
    {
     "name": "stdout",
     "output_type": "stream",
     "text": [
      "diag:  {'sigma': OrderedDict([('n_eff', tensor(2060.4014)), ('r_hat', tensor(0.9996))]), 'w': OrderedDict([('n_eff', tensor([2258.1816, 2550.3237, 1779.1284, 2542.7524, 2444.4353, 1550.1335,\n",
      "        2039.8519, 2347.3440, 2211.0327, 2345.6067, 2209.1714, 1998.5573,\n",
      "        1939.3035, 2564.9231, 2330.4136, 2003.5470, 2350.4163, 1632.1699,\n",
      "        1883.7812, 2025.0753, 2249.3667])), ('r_hat', tensor([0.9994, 0.9994, 0.9994, 0.9995, 0.9995, 0.9998, 0.9993, 0.9994, 1.0000,\n",
      "        1.0001, 0.9997, 0.9994, 0.9995, 0.9997, 0.9994, 1.0003, 0.9995, 1.0001,\n",
      "        0.9996, 0.9994, 0.9993]))]), 'divergences': {'chain 0': [489, 574]}, 'acceptance rate': {'chain 0': 0.9993333333333333}}\n",
      "Registering the results in:  SX1/2023-11-19/n-6_k-2_m-4_sigma_w-1_sigma_p-10.0_n_samples-1500.yaml\n"
     ]
    },
    {
     "name": "stderr",
     "output_type": "stream",
     "text": [
      "Sample: 100%|████████████████████████████| 2000/2000 [11:04,  3.01it/s, step size=2.66e-02, acc. prob=0.786]\n"
     ]
    },
    {
     "name": "stdout",
     "output_type": "stream",
     "text": [
      "diag:  {'sigma': OrderedDict([('n_eff', tensor(929.7902)), ('r_hat', tensor(1.0060))]), 'w': OrderedDict([('n_eff', tensor([769.6154, 610.2020, 673.8786, 965.9324, 695.5229, 773.6827, 813.5274,\n",
      "        714.5556, 867.7463, 699.3470, 596.4037, 498.3309, 634.1761, 770.2874,\n",
      "        815.7208, 544.4135, 725.8458, 759.5973, 888.1201, 654.4943, 708.3142])), ('r_hat', tensor([0.9994, 0.9994, 1.0002, 1.0014, 1.0050, 1.0000, 0.9998, 1.0066, 0.9994,\n",
      "        1.0056, 1.0015, 0.9993, 0.9995, 1.0007, 0.9994, 1.0008, 0.9995, 1.0002,\n",
      "        0.9994, 1.0027, 1.0020]))]), 'divergences': {'chain 0': [18, 19, 31, 107, 125, 127, 198, 213, 263, 296, 432, 437, 537, 567, 699, 701, 710, 726, 765, 790, 794, 812, 814, 864, 887, 926, 956, 961, 997, 1099, 1109, 1130, 1147, 1150, 1152, 1154, 1196, 1198, 1200, 1201, 1202, 1203, 1209, 1211, 1342, 1353, 1364, 1420]}, 'acceptance rate': {'chain 0': 0.9986666666666667}}\n",
      "Registering the results in:  SX1/2023-11-19/n-6_k-2_m-4_sigma_w-0.1_sigma_p-1_n_samples-1500.yaml\n"
     ]
    },
    {
     "name": "stderr",
     "output_type": "stream",
     "text": [
      "Sample: 100%|████████████████████████████| 2000/2000 [00:45, 43.87it/s, step size=4.44e-01, acc. prob=0.778]\n"
     ]
    },
    {
     "name": "stdout",
     "output_type": "stream",
     "text": [
      "diag:  {'sigma': OrderedDict([('n_eff', tensor(834.6778)), ('r_hat', tensor(0.9998))]), 'w': OrderedDict([('n_eff', tensor([ 764.0486, 1348.9603, 1258.4435, 1441.9474, 1342.9141, 1007.1284,\n",
      "         910.0442, 1328.4775, 1272.1688, 1662.6454, 1143.0438, 1474.3218,\n",
      "        1009.9279, 1113.2700, 1540.1393, 1165.3937,  667.5005, 1264.3215,\n",
      "        1219.0145, 1336.4006, 1342.4988])), ('r_hat', tensor([1.0000, 1.0007, 1.0029, 1.0013, 1.0013, 1.0009, 0.9994, 0.9998, 1.0000,\n",
      "        0.9994, 0.9993, 1.0001, 1.0005, 0.9996, 0.9996, 0.9998, 1.0051, 1.0017,\n",
      "        1.0001, 0.9994, 0.9995]))]), 'divergences': {'chain 0': [5, 41, 53, 56, 75, 81, 87, 89, 103, 147, 165, 182, 183, 184, 185, 186, 200, 211, 225, 235, 240, 252, 294, 295, 296, 365, 381, 403, 404, 436, 443, 454, 490, 563, 594, 623, 625, 633, 634, 657, 658, 761, 779, 792, 808, 811, 812, 813, 814, 816, 818, 821, 822, 823, 825, 829, 835, 866, 878, 892, 894, 903, 909, 925, 943, 956, 957, 999, 1065, 1096, 1107, 1112, 1142, 1147, 1177, 1212, 1234, 1252, 1275, 1415, 1419, 1440, 1447, 1466, 1476, 1484]}, 'acceptance rate': {'chain 0': 0.964}}\n",
      "Registering the results in:  SX1/2023-11-19/n-6_k-2_m-4_sigma_w-0.1_sigma_p-0.1_n_samples-1500.yaml\n"
     ]
    },
    {
     "name": "stderr",
     "output_type": "stream",
     "text": [
      "Sample: 100%|████████████████████████████| 2000/2000 [00:33, 58.85it/s, step size=5.08e-01, acc. prob=0.860]\n"
     ]
    },
    {
     "name": "stdout",
     "output_type": "stream",
     "text": [
      "diag:  {'sigma': OrderedDict([('n_eff', tensor(1516.4125)), ('r_hat', tensor(0.9994))]), 'w': OrderedDict([('n_eff', tensor([3181.7385, 1917.1547, 2658.3816, 1959.0354, 2444.5571, 1669.4287,\n",
      "        2681.7751, 2134.6067, 1536.2583, 2587.7283, 1849.5846, 1727.7058,\n",
      "        2302.2468, 3186.7927, 2366.9666, 2366.7891, 2630.6836, 2276.0215,\n",
      "        2857.2144, 1935.4506, 2679.2388])), ('r_hat', tensor([0.9993, 0.9994, 0.9994, 0.9993, 1.0003, 0.9994, 0.9993, 0.9994, 1.0005,\n",
      "        0.9998, 1.0005, 0.9994, 0.9993, 1.0002, 0.9997, 0.9994, 0.9994, 0.9995,\n",
      "        0.9994, 1.0001, 1.0000]))]), 'divergences': {'chain 0': [13, 217, 322, 323, 335, 396, 553, 615, 641, 661, 662, 825, 914, 1260, 1261]}, 'acceptance rate': {'chain 0': 0.992}}\n",
      "Registering the results in:  SX1/2023-11-19/n-6_k-2_m-4_sigma_w-0.1_sigma_p-0.01_n_samples-1500.yaml\n"
     ]
    },
    {
     "name": "stderr",
     "output_type": "stream",
     "text": [
      "Sample: 100%|████████████████████████████| 2000/2000 [00:33, 59.04it/s, step size=5.22e-01, acc. prob=0.873]\n"
     ]
    },
    {
     "name": "stdout",
     "output_type": "stream",
     "text": [
      "diag:  {'sigma': OrderedDict([('n_eff', tensor(2041.1479)), ('r_hat', tensor(1.0001))]), 'w': OrderedDict([('n_eff', tensor([1616.0784, 2376.9956, 1487.9390, 2377.9497, 1608.8324, 1934.3334,\n",
      "        2132.6873, 1866.5699, 2618.9358, 3150.5691, 1705.2239, 2053.8535,\n",
      "        2637.9734, 3123.6147, 2381.3191, 2048.8186, 2344.9961, 2588.7095,\n",
      "        2407.9119, 1857.4888, 1704.8668])), ('r_hat', tensor([1.0010, 0.9999, 0.9993, 0.9995, 0.9994, 0.9993, 0.9999, 0.9993, 0.9998,\n",
      "        0.9994, 1.0014, 0.9994, 0.9995, 0.9993, 0.9994, 1.0006, 0.9993, 0.9996,\n",
      "        0.9995, 0.9993, 0.9997]))]), 'divergences': {'chain 0': [523, 558, 597, 1397]}, 'acceptance rate': {'chain 0': 0.9933333333333333}}\n",
      "Registering the results in:  SX1/2023-11-19/n-6_k-2_m-4_sigma_w-0.1_sigma_p-10.0_n_samples-1500.yaml\n"
     ]
    },
    {
     "name": "stderr",
     "output_type": "stream",
     "text": [
      "Sample: 100%|████████████████████████████| 2000/2000 [02:06, 15.86it/s, step size=1.37e-01, acc. prob=0.795]\n"
     ]
    },
    {
     "name": "stdout",
     "output_type": "stream",
     "text": [
      "diag:  {'sigma': OrderedDict([('n_eff', tensor(894.3030)), ('r_hat', tensor(0.9994))]), 'w': OrderedDict([('n_eff', tensor([1032.9569,  886.9217,  804.2984,  526.8269,  899.2665, 1059.2356,\n",
      "        1090.6871, 1372.0411, 1265.8121, 1165.4611,  818.7634,  969.8566,\n",
      "        1157.0874, 1306.5173,  916.0667, 1023.8600,  659.6324, 1163.2037,\n",
      "         964.4665,  810.8611,  750.1754])), ('r_hat', tensor([0.9995, 1.0002, 0.9996, 0.9999, 1.0000, 0.9998, 0.9996, 0.9994, 1.0019,\n",
      "        1.0005, 1.0009, 0.9994, 0.9994, 0.9995, 0.9997, 1.0028, 1.0012, 0.9995,\n",
      "        0.9998, 1.0022, 1.0002]))]), 'divergences': {'chain 0': [22, 24, 25, 121, 336, 339, 342, 346, 347, 348, 349, 354, 420, 440, 472, 529, 550, 631, 794, 1017, 1025, 1065, 1067, 1111, 1194, 1359, 1439, 1442]}, 'acceptance rate': {'chain 0': 0.9853333333333333}}\n",
      "Registering the results in:  SX1/2023-11-19/n-6_k-2_m-4_sigma_w-0.01_sigma_p-1_n_samples-1500.yaml\n"
     ]
    },
    {
     "name": "stderr",
     "output_type": "stream",
     "text": [
      "Sample: 100%|████████████████████████████| 2000/2000 [00:37, 53.98it/s, step size=4.14e-01, acc. prob=0.891]\n"
     ]
    },
    {
     "name": "stdout",
     "output_type": "stream",
     "text": [
      "diag:  {'sigma': OrderedDict([('n_eff', tensor(1542.1470)), ('r_hat', tensor(0.9993))]), 'w': OrderedDict([('n_eff', tensor([1961.7969, 1873.5457, 1034.8016, 1774.9874, 1520.5194, 1670.2949,\n",
      "        1866.5927, 1570.4630, 1625.4575, 1644.1676, 3442.8577, 1886.5842,\n",
      "        1690.2401, 1686.6240, 1645.6740, 1968.0461, 2436.6619, 1773.7004,\n",
      "        1659.0624, 1581.3739, 1985.4585])), ('r_hat', tensor([0.9993, 0.9994, 0.9993, 0.9994, 0.9994, 0.9997, 0.9994, 0.9995, 1.0041,\n",
      "        0.9994, 0.9994, 0.9993, 0.9998, 1.0035, 0.9994, 0.9994, 0.9995, 0.9994,\n",
      "        0.9995, 0.9994, 0.9993]))]), 'divergences': {'chain 0': [137, 138, 193, 565, 566, 730, 785, 791, 927, 1211, 1266]}, 'acceptance rate': {'chain 0': 0.9933333333333333}}\n",
      "Registering the results in:  SX1/2023-11-19/n-6_k-2_m-4_sigma_w-0.01_sigma_p-0.1_n_samples-1500.yaml\n"
     ]
    },
    {
     "name": "stderr",
     "output_type": "stream",
     "text": [
      "Sample: 100%|████████████████████████████| 2000/2000 [00:46, 43.37it/s, step size=3.65e-01, acc. prob=0.875]\n"
     ]
    },
    {
     "name": "stdout",
     "output_type": "stream",
     "text": [
      "diag:  {'sigma': OrderedDict([('n_eff', tensor(2179.4744)), ('r_hat', tensor(1.0006))]), 'w': OrderedDict([('n_eff', tensor([1743.3386, 1526.7252, 1769.3027, 1458.4524, 1599.5460, 1437.8920,\n",
      "        1795.2754, 1896.3995, 1609.6930, 1590.2422, 1459.7474, 1419.1716,\n",
      "        1752.5747, 1613.8480, 1607.8684, 1624.3363, 1793.0715, 1717.6481,\n",
      "        1869.7783, 2527.4302, 1778.0802])), ('r_hat', tensor([0.9993, 1.0012, 0.9994, 0.9999, 1.0002, 0.9993, 1.0009, 0.9994, 0.9993,\n",
      "        0.9993, 1.0007, 1.0021, 0.9995, 0.9996, 0.9997, 0.9995, 0.9993, 0.9994,\n",
      "        0.9993, 0.9996, 1.0004]))]), 'divergences': {'chain 0': [91, 94, 101, 287, 417, 537, 739, 758, 766, 1189, 1268, 1321, 1345, 1382, 1438]}, 'acceptance rate': {'chain 0': 0.994}}\n",
      "Registering the results in:  SX1/2023-11-19/n-6_k-2_m-4_sigma_w-0.01_sigma_p-0.01_n_samples-1500.yaml\n"
     ]
    },
    {
     "name": "stderr",
     "output_type": "stream",
     "text": [
      "Sample: 100%|████████████████████████████| 2000/2000 [00:35, 55.69it/s, step size=5.45e-01, acc. prob=0.867]\n"
     ]
    },
    {
     "name": "stdout",
     "output_type": "stream",
     "text": [
      "diag:  {'sigma': OrderedDict([('n_eff', tensor(2365.8433)), ('r_hat', tensor(0.9994))]), 'w': OrderedDict([('n_eff', tensor([3648.9619, 2677.9407, 3939.5396, 4595.0288, 3352.3735, 4073.4744,\n",
      "        3332.0247, 4261.0840, 4710.6982, 2482.0691, 3243.3625, 3459.8530,\n",
      "        3488.7725, 3635.3381, 3747.1450, 5178.0005, 3163.2195, 3431.9136,\n",
      "        3421.5879, 2938.8369, 4006.6167])), ('r_hat', tensor([0.9993, 0.9994, 0.9995, 0.9995, 0.9995, 0.9999, 1.0000, 0.9994, 0.9996,\n",
      "        1.0000, 1.0001, 0.9994, 0.9993, 0.9993, 0.9993, 0.9995, 0.9996, 0.9999,\n",
      "        0.9998, 0.9999, 0.9995]))]), 'divergences': {'chain 0': []}, 'acceptance rate': {'chain 0': 0.9993333333333333}}\n",
      "Registering the results in:  SX1/2023-11-19/n-6_k-2_m-4_sigma_w-0.01_sigma_p-10.0_n_samples-1500.yaml\n"
     ]
    },
    {
     "name": "stderr",
     "output_type": "stream",
     "text": [
      "Sample: 100%|████████████████████████████| 2000/2000 [00:54, 36.55it/s, step size=3.45e-01, acc. prob=0.800]\n"
     ]
    },
    {
     "name": "stdout",
     "output_type": "stream",
     "text": [
      "diag:  {'sigma': OrderedDict([('n_eff', tensor(624.0970)), ('r_hat', tensor(0.9994))]), 'w': OrderedDict([('n_eff', tensor([1147.2676, 1129.8563, 1253.5706, 1297.4832, 1435.1471, 1473.6018,\n",
      "        1291.7883,  884.9562,  917.6190, 1474.8325,  861.3374, 1034.4558,\n",
      "        1614.4197, 1461.9824, 1097.7045, 1180.5662, 1471.1827, 1449.8142,\n",
      "        1203.2433,  868.0998, 1129.7924])), ('r_hat', tensor([0.9999, 0.9999, 0.9997, 1.0001, 1.0001, 0.9994, 1.0002, 1.0000, 0.9994,\n",
      "        0.9997, 1.0031, 0.9998, 1.0000, 0.9996, 1.0014, 0.9995, 0.9996, 0.9994,\n",
      "        0.9993, 0.9993, 1.0003]))]), 'divergences': {'chain 0': [47, 48, 49, 55, 70, 85, 104, 115, 116, 118, 119, 124, 125, 126, 129, 130, 138, 139, 143, 146, 187, 210, 212, 230, 340, 381, 383, 405, 516, 633, 739, 836, 837, 839, 848, 865, 866, 868, 870, 871, 873, 874, 884, 887, 942, 950, 1006, 1146, 1228, 1275, 1290, 1291, 1333, 1338, 1401, 1402, 1403, 1456]}, 'acceptance rate': {'chain 0': 0.976}}\n",
      "Registering the results in:  SX1/2023-11-19/n-6_k-2_m-4_sigma_w-10.0_sigma_p-1_n_samples-1500.yaml\n"
     ]
    },
    {
     "name": "stderr",
     "output_type": "stream",
     "text": [
      "Sample: 100%|████████████████████████████| 2000/2000 [56:59,  1.71s/it, step size=5.12e-04, acc. prob=0.994]\n"
     ]
    },
    {
     "name": "stdout",
     "output_type": "stream",
     "text": [
      "diag:  {'sigma': OrderedDict([('n_eff', tensor(88.5994)), ('r_hat', tensor(1.0288))]), 'w': OrderedDict([('n_eff', tensor([37.2459, 13.1456,  8.6652, 18.9108, 17.2052, 36.7242, 27.7401, 23.3489,\n",
      "        30.1667, 30.7848, 54.8272, 40.9771, 32.3216, 18.2874, 32.9217, 18.6325,\n",
      "        22.7465, 26.0129, 27.2332, 36.9570, 22.2268])), ('r_hat', tensor([1.0108, 1.0093, 1.1656, 1.0324, 1.0380, 1.0128, 1.0002, 1.1570, 1.0005,\n",
      "        1.0576, 1.0985, 1.0251, 1.0031, 1.0292, 1.0414, 1.0754, 1.1385, 1.0848,\n",
      "        1.1382, 1.0019, 1.0324]))]), 'divergences': {'chain 0': []}, 'acceptance rate': {'chain 0': 1.0}}\n",
      "Registering the results in:  SX1/2023-11-19/n-6_k-2_m-4_sigma_w-10.0_sigma_p-0.1_n_samples-1500.yaml\n"
     ]
    },
    {
     "name": "stderr",
     "output_type": "stream",
     "text": [
      "Sample: 100%|████████████████████████████| 2000/2000 [02:02, 16.31it/s, step size=1.90e-01, acc. prob=0.762]\n"
     ]
    },
    {
     "name": "stdout",
     "output_type": "stream",
     "text": [
      "diag:  {'sigma': OrderedDict([('n_eff', tensor(879.8962)), ('r_hat', tensor(1.0027))]), 'w': OrderedDict([('n_eff', tensor([ 902.1810,  687.0295, 1147.4276,  936.1547,  971.4220,  679.3951,\n",
      "        1019.2766,  684.4722, 1283.5801, 1311.0416,  817.9767,  874.2602,\n",
      "         841.6512,  775.5670,  824.5788, 1248.2925,  763.1592,  979.4558,\n",
      "         893.6094,  589.1262, 1069.9724])), ('r_hat', tensor([0.9995, 1.0004, 1.0029, 0.9996, 1.0015, 1.0004, 0.9993, 1.0007, 1.0011,\n",
      "        1.0003, 0.9995, 1.0004, 0.9994, 1.0001, 1.0010, 1.0005, 1.0000, 1.0005,\n",
      "        0.9997, 0.9995, 1.0025]))]), 'divergences': {'chain 0': [51, 52, 54, 55, 57, 62, 64, 151, 190, 203, 212, 215, 216, 217, 218, 219, 270, 284, 312, 326, 367, 409, 425, 547, 595, 743, 744, 809, 880, 887, 1002, 1081, 1202, 1228, 1332, 1414, 1499]}, 'acceptance rate': {'chain 0': 0.9746666666666667}}\n",
      "Registering the results in:  SX1/2023-11-19/n-6_k-2_m-4_sigma_w-10.0_sigma_p-0.01_n_samples-1500.yaml\n"
     ]
    },
    {
     "name": "stderr",
     "output_type": "stream",
     "text": [
      "Sample: 100%|████████████████████████████| 2000/2000 [01:20, 24.82it/s, step size=3.46e-01, acc. prob=0.856]\n"
     ]
    },
    {
     "name": "stdout",
     "output_type": "stream",
     "text": [
      "diag:  {'sigma': OrderedDict([('n_eff', tensor(1087.8428)), ('r_hat', tensor(0.9996))]), 'w': OrderedDict([('n_eff', tensor([1778.5924, 1838.4196, 1882.6146, 2755.1582, 1947.0302, 1918.6460,\n",
      "        2069.9927, 2234.6365, 1735.2567, 1880.7002, 2666.8621, 2877.8782,\n",
      "        1364.0505, 2160.0046, 2349.4360, 2514.9258, 2034.1578, 2393.5833,\n",
      "        1753.2260, 2881.8933, 1803.6451])), ('r_hat', tensor([0.9997, 0.9998, 0.9995, 0.9994, 0.9998, 0.9994, 0.9998, 0.9995, 0.9994,\n",
      "        0.9994, 0.9996, 0.9994, 0.9993, 0.9999, 0.9995, 0.9994, 0.9993, 0.9994,\n",
      "        0.9994, 0.9994, 1.0000]))]), 'divergences': {'chain 0': [313, 364, 556, 631, 691, 693, 695, 762, 801, 805, 947, 1028, 1029, 1061, 1106, 1116, 1119, 1206, 1221, 1338, 1352, 1464, 1496]}, 'acceptance rate': {'chain 0': 0.9833333333333333}}\n",
      "Registering the results in:  SX1/2023-11-19/n-6_k-2_m-4_sigma_w-10.0_sigma_p-10.0_n_samples-1500.yaml\n"
     ]
    },
    {
     "name": "stderr",
     "output_type": "stream",
     "text": [
      "Sample: 100%|██████████████████████████| 2000/2000 [1:01:47,  1.85s/it, step size=3.09e-03, acc. prob=0.811]\n"
     ]
    },
    {
     "name": "stdout",
     "output_type": "stream",
     "text": [
      "diag:  {'sigma': OrderedDict([('n_eff', tensor(1284.1957)), ('r_hat', tensor(1.0003))]), 'w': OrderedDict([('n_eff', tensor([ 607.2499,  791.4074,  451.0606,  525.6314,  525.5723,  474.7647,\n",
      "         390.3580,  567.6953,  713.2582,  398.9136,  463.4909,  687.5379,\n",
      "         725.8278,  488.9995,  568.5372,  436.9619,  363.0777, 1036.9934,\n",
      "         619.3978,  367.8934,  355.6153])), ('r_hat', tensor([1.0060, 0.9998, 1.0055, 0.9993, 1.0001, 0.9998, 1.0012, 0.9999, 1.0013,\n",
      "        1.0036, 1.0080, 0.9994, 1.0019, 1.0035, 1.0004, 1.0003, 1.0121, 1.0003,\n",
      "        1.0013, 0.9995, 1.0037]))]), 'divergences': {'chain 0': [42, 104, 119, 177, 181, 182, 221, 242, 243, 252, 253, 270, 313, 323, 327, 328, 330, 332, 336, 338, 339, 368, 433, 460, 485, 580, 674, 712, 721, 727, 729, 894, 993, 1038, 1115, 1143, 1172, 1181, 1184, 1185, 1188, 1191, 1192, 1194, 1206, 1210, 1211, 1212, 1214, 1217, 1230, 1232, 1240, 1242, 1313, 1326, 1327, 1427, 1447, 1491]}, 'acceptance rate': {'chain 0': 1.0}}\n",
      "Registering the results in:  SX1/2023-11-19/n-6_k-3_m-4_sigma_w-1_sigma_p-1_n_samples-1500.yaml\n"
     ]
    },
    {
     "name": "stderr",
     "output_type": "stream",
     "text": [
      "Sample: 100%|████████████████████████████| 2000/2000 [02:20, 14.28it/s, step size=1.32e-01, acc. prob=0.655]\n"
     ]
    },
    {
     "name": "stdout",
     "output_type": "stream",
     "text": [
      "diag:  {'sigma': OrderedDict([('n_eff', tensor(78.3323)), ('r_hat', tensor(1.0402))]), 'w': OrderedDict([('n_eff', tensor([249.6906, 314.3312, 150.4861, 179.4940, 423.1601, 145.0890, 202.5850,\n",
      "        251.2119, 161.3017, 282.6530, 193.4612, 420.5230, 250.3379, 167.3769,\n",
      "         72.9688, 199.4148, 231.0407, 363.7898,  58.9236,  86.1039,  69.8496,\n",
      "        372.5554, 160.3143, 195.9878, 164.4387, 358.7526, 186.0714, 249.4180,\n",
      "        134.2259, 192.8406, 120.4420, 253.5576, 295.7105, 256.2837, 292.7949,\n",
      "        136.3608, 486.2680,  83.7235, 277.1470, 235.0791, 136.5215])), ('r_hat', tensor([1.0006, 1.0006, 1.0085, 0.9993, 1.0005, 1.0005, 1.0127, 1.0001, 1.0001,\n",
      "        0.9994, 1.0006, 0.9993, 1.0001, 1.0027, 1.0072, 1.0003, 1.0059, 1.0200,\n",
      "        1.0091, 1.0010, 1.0188, 0.9994, 0.9999, 1.0000, 1.0011, 0.9998, 1.0124,\n",
      "        1.0004, 0.9995, 1.0096, 0.9993, 1.0061, 0.9993, 0.9998, 1.0047, 1.0203,\n",
      "        0.9995, 1.0062, 0.9996, 1.0064, 1.0001]))]), 'divergences': {'chain 0': [156, 168, 252, 257, 263, 266, 270, 272, 274, 275, 276, 277, 278, 280, 282, 283, 284, 285, 286, 287, 288, 290, 296, 298, 301, 305, 306, 307, 309, 314, 315, 317, 318, 323, 326, 423, 638, 750, 756, 759, 830, 831, 832, 835, 836, 841, 842, 843, 844, 847, 852, 855, 857, 859, 862, 864, 872, 876, 877, 881, 883, 884, 885, 886, 887, 889, 890, 891, 893, 894, 897, 900, 902, 906, 912, 916, 921, 923, 925, 927, 929, 936, 937, 940, 941, 942, 945, 948, 950, 954, 957, 964, 966, 967, 968, 976, 980, 986, 988, 989, 990, 991, 992, 993, 997, 1002, 1008, 1012, 1056, 1057, 1059, 1066, 1067, 1068, 1072, 1073, 1078, 1081, 1132, 1181, 1182, 1185, 1186, 1187, 1192, 1196, 1197, 1201, 1205, 1207, 1209, 1218, 1230, 1232, 1241, 1309, 1310, 1311]}, 'acceptance rate': {'chain 0': 0.936}}\n",
      "Registering the results in:  SX1/2023-11-19/n-6_k-3_m-4_sigma_w-1_sigma_p-0.1_n_samples-1500.yaml\n"
     ]
    },
    {
     "name": "stderr",
     "output_type": "stream",
     "text": [
      "Sample: 100%|████████████████████████████| 2000/2000 [01:03, 31.36it/s, step size=3.54e-01, acc. prob=0.827]\n"
     ]
    },
    {
     "name": "stdout",
     "output_type": "stream",
     "text": [
      "diag:  {'sigma': OrderedDict([('n_eff', tensor(860.6097)), ('r_hat', tensor(0.9999))]), 'w': OrderedDict([('n_eff', tensor([1707.5450, 2835.7864, 2169.0903, 2449.8525, 1539.4012, 2051.8469,\n",
      "        1395.3053, 1607.1814, 1084.4539, 2136.0227, 2592.8770, 1910.1255,\n",
      "        2369.0637, 2089.4880, 1975.0260, 2258.2134, 2276.9292, 1657.4564,\n",
      "        1967.5155, 2109.1033, 1562.3032, 1871.8768, 1470.0847, 1762.9978,\n",
      "        1793.6854, 2036.5902, 1923.6000, 1620.5535, 1343.2588, 1959.3228,\n",
      "        1513.4141, 2091.2544, 1935.0775, 2007.2784, 2158.1375, 2266.1313,\n",
      "        1862.9982, 1989.3737, 1608.9436, 2553.2776, 1595.5042])), ('r_hat', tensor([0.9995, 0.9994, 0.9993, 0.9996, 0.9996, 0.9996, 0.9999, 1.0009, 0.9993,\n",
      "        0.9994, 0.9994, 1.0002, 1.0001, 0.9996, 1.0002, 0.9995, 0.9995, 0.9995,\n",
      "        0.9994, 0.9994, 1.0002, 1.0008, 0.9994, 1.0008, 0.9999, 0.9993, 1.0021,\n",
      "        0.9999, 1.0003, 0.9996, 0.9994, 0.9997, 0.9994, 1.0006, 1.0001, 0.9997,\n",
      "        0.9997, 0.9993, 1.0001, 1.0010, 0.9995]))]), 'divergences': {'chain 0': [186, 187, 345, 477, 493, 494, 504, 522, 525, 550, 555, 556, 557, 558, 559, 560, 563, 567, 580, 585, 660, 776, 897, 954, 958, 963, 964, 965, 966, 967, 968, 969, 971, 972, 973, 974, 977, 982, 993, 1126, 1180, 1181, 1193, 1205, 1325, 1425]}, 'acceptance rate': {'chain 0': 0.9793333333333333}}\n",
      "Registering the results in:  SX1/2023-11-19/n-6_k-3_m-4_sigma_w-1_sigma_p-0.01_n_samples-1500.yaml\n"
     ]
    },
    {
     "name": "stderr",
     "output_type": "stream",
     "text": [
      "Sample: 100%|████████████████████████████| 2000/2000 [00:36, 54.80it/s, step size=4.88e-01, acc. prob=0.837]\n"
     ]
    },
    {
     "name": "stdout",
     "output_type": "stream",
     "text": [
      "diag:  {'sigma': OrderedDict([('n_eff', tensor(1349.9202)), ('r_hat', tensor(1.0006))]), 'w': OrderedDict([('n_eff', tensor([1964.8036, 1883.1613, 2726.5176, 1407.5453, 2208.0457, 1884.0911,\n",
      "        1448.6771, 2276.2534, 2492.1516, 1785.3777, 2069.7424, 1667.1498,\n",
      "        1754.1426, 1731.5798, 1641.3525, 1758.9600, 2734.2529, 1411.9287,\n",
      "        1796.8486, 1748.4156, 2119.0598, 1723.1222, 2137.4365, 1852.0356,\n",
      "        1755.2328, 2022.5476, 1678.2620, 1492.2406, 2285.6624, 1604.5175,\n",
      "        2064.1250, 2968.5056, 1938.4907, 2298.6426, 1687.1796, 2291.4719,\n",
      "        1710.3333, 2354.5876, 1962.7542, 2618.0889, 2045.7661])), ('r_hat', tensor([0.9993, 0.9995, 0.9996, 0.9995, 0.9995, 0.9993, 1.0016, 0.9993, 0.9994,\n",
      "        0.9993, 0.9994, 0.9994, 1.0015, 1.0001, 0.9998, 1.0003, 0.9994, 1.0064,\n",
      "        1.0016, 0.9999, 0.9995, 0.9994, 0.9995, 0.9994, 0.9997, 0.9995, 0.9998,\n",
      "        1.0012, 0.9999, 0.9994, 1.0001, 1.0018, 0.9998, 0.9996, 0.9994, 1.0006,\n",
      "        0.9994, 0.9993, 0.9998, 0.9994, 0.9995]))]), 'divergences': {'chain 0': [49, 105, 238, 266, 337, 339, 409, 410, 450, 451, 520, 586, 655, 673, 858, 950, 1093, 1159, 1216, 1292]}, 'acceptance rate': {'chain 0': 0.9893333333333333}}\n",
      "Registering the results in:  SX1/2023-11-19/n-6_k-3_m-4_sigma_w-1_sigma_p-10.0_n_samples-1500.yaml\n"
     ]
    },
    {
     "name": "stderr",
     "output_type": "stream",
     "text": [
      "Sample: 100%|████████████████████████████| 2000/2000 [09:48,  3.40it/s, step size=2.96e-02, acc. prob=0.779]\n"
     ]
    },
    {
     "name": "stdout",
     "output_type": "stream",
     "text": [
      "diag:  {'sigma': OrderedDict([('n_eff', tensor(667.0712)), ('r_hat', tensor(1.0149))]), 'w': OrderedDict([('n_eff', tensor([ 630.5475,  526.5205,  436.5522,  880.3563,  577.5402,  871.9788,\n",
      "         807.4399,  805.2740,  692.5927,  834.9659,  849.5916,  812.5724,\n",
      "         558.2640,  762.8068,  898.4097,  401.0413,  785.1270,  851.5869,\n",
      "         587.3616,  526.8177, 1029.0365,  856.0119,  491.1643,  756.1517,\n",
      "         444.0361,  773.2963,  610.7996,  736.5215, 1068.4282, 1123.3242,\n",
      "         643.6616,  411.5122,  740.1735,  786.0472,  764.9725,  669.9246,\n",
      "         628.6824,  826.1033, 1055.9216,  737.7070,  760.0066])), ('r_hat', tensor([1.0024, 0.9997, 1.0040, 0.9997, 1.0002, 0.9995, 0.9994, 0.9999, 0.9995,\n",
      "        0.9997, 1.0001, 0.9995, 1.0003, 0.9997, 0.9995, 0.9998, 1.0023, 0.9996,\n",
      "        1.0032, 0.9999, 1.0000, 1.0003, 0.9994, 1.0003, 1.0049, 0.9993, 0.9998,\n",
      "        1.0042, 0.9993, 1.0023, 0.9999, 1.0093, 1.0005, 1.0100, 1.0010, 0.9994,\n",
      "        0.9997, 0.9998, 1.0071, 0.9998, 1.0077]))]), 'divergences': {'chain 0': [7, 8, 11, 12, 16, 18, 19, 20, 41, 56, 76, 79, 81, 89, 127, 147, 158, 192, 390, 398, 532, 534, 539, 576, 635, 637, 638, 661, 696, 711, 713, 714, 717, 723, 730, 738, 743, 744, 745, 885, 892, 894, 895, 896, 898, 901, 929, 932, 965, 1001, 1002, 1014, 1015, 1019, 1047, 1088, 1246, 1266, 1267, 1270, 1401, 1407, 1459]}, 'acceptance rate': {'chain 0': 0.9986666666666667}}\n",
      "Registering the results in:  SX1/2023-11-19/n-6_k-3_m-4_sigma_w-0.1_sigma_p-1_n_samples-1500.yaml\n"
     ]
    },
    {
     "name": "stderr",
     "output_type": "stream",
     "text": [
      "Sample: 100%|████████████████████████████| 2000/2000 [01:13, 27.26it/s, step size=3.20e-01, acc. prob=0.856]\n"
     ]
    },
    {
     "name": "stdout",
     "output_type": "stream",
     "text": [
      "diag:  {'sigma': OrderedDict([('n_eff', tensor(1362.4279)), ('r_hat', tensor(0.9993))]), 'w': OrderedDict([('n_eff', tensor([2527.5996, 2549.7236, 1882.9543, 2561.9792, 2343.0706, 2425.1797,\n",
      "        2179.8684, 1931.2161, 2235.4341, 2422.1526, 2467.4011, 2434.6387,\n",
      "        2490.1277, 2716.0725, 2670.6948, 2574.6282, 2380.4919, 2368.3989,\n",
      "        3596.7383, 2117.3374, 2470.5513, 3527.8137, 2623.4238, 2430.3328,\n",
      "        2802.8096, 2290.6804, 1805.8611, 2927.8708, 2654.3547, 2104.6763,\n",
      "        2126.5239, 2506.3020, 2292.4897, 2841.6367, 2456.2468, 2377.0120,\n",
      "        2373.4341, 3058.0066, 3294.5183, 2035.6749, 2087.0920])), ('r_hat', tensor([0.9995, 0.9993, 0.9996, 1.0002, 0.9993, 1.0001, 0.9999, 0.9993, 0.9997,\n",
      "        1.0002, 0.9994, 0.9994, 0.9996, 1.0000, 0.9999, 0.9994, 0.9993, 0.9995,\n",
      "        1.0012, 0.9995, 0.9995, 1.0006, 0.9997, 1.0006, 0.9996, 0.9995, 1.0002,\n",
      "        0.9994, 1.0003, 0.9994, 1.0004, 1.0002, 0.9995, 1.0000, 0.9997, 0.9993,\n",
      "        0.9994, 0.9995, 0.9999, 0.9993, 1.0006]))]), 'divergences': {'chain 0': [34, 50, 101, 102, 104, 112, 127, 131, 300, 366, 373, 462, 498, 527, 530, 549, 617, 618, 662, 861, 871, 1057, 1113, 1135, 1157, 1273, 1348, 1443]}, 'acceptance rate': {'chain 0': 0.9926666666666667}}\n",
      "Registering the results in:  SX1/2023-11-19/n-6_k-3_m-4_sigma_w-0.1_sigma_p-0.1_n_samples-1500.yaml\n"
     ]
    },
    {
     "name": "stderr",
     "output_type": "stream",
     "text": [
      "Sample: 100%|████████████████████████████| 2000/2000 [01:06, 30.17it/s, step size=3.98e-01, acc. prob=0.890]\n"
     ]
    },
    {
     "name": "stdout",
     "output_type": "stream",
     "text": [
      "diag:  {'sigma': OrderedDict([('n_eff', tensor(1479.0295)), ('r_hat', tensor(1.0002))]), 'w': OrderedDict([('n_eff', tensor([2326.3572, 1722.5986, 2392.4700, 1849.3888, 1762.3417, 2396.0391,\n",
      "        2294.3467, 2183.5698, 2171.0552, 2179.8765, 2495.8928, 2013.7485,\n",
      "        1850.3578, 2467.6934, 1732.0693, 2245.2341, 1525.8224, 1296.0144,\n",
      "        1940.2390, 2349.7129, 2104.5986, 1661.8468, 2436.2969, 2436.8687,\n",
      "        1725.6058, 2614.7117, 1860.4476, 2051.1724, 2189.6877, 2497.0803,\n",
      "        2047.5697, 3450.1758, 2426.2607, 1543.6144, 2081.1238, 2192.2024,\n",
      "        2134.6670, 1158.7319, 2681.4089, 1657.9888, 2616.4104])), ('r_hat', tensor([0.9995, 0.9994, 0.9993, 0.9996, 0.9993, 0.9995, 0.9994, 1.0018, 0.9999,\n",
      "        1.0001, 0.9993, 0.9996, 1.0014, 0.9994, 0.9999, 0.9995, 0.9999, 1.0001,\n",
      "        0.9994, 1.0009, 0.9995, 1.0008, 0.9995, 0.9995, 0.9993, 1.0002, 0.9994,\n",
      "        0.9994, 0.9993, 0.9994, 0.9993, 0.9994, 0.9994, 1.0015, 1.0010, 0.9994,\n",
      "        0.9995, 0.9995, 0.9995, 0.9995, 0.9996]))]), 'divergences': {'chain 0': [265, 562, 639, 720, 721, 722, 723, 724, 725, 726, 732, 733, 734, 735, 832, 840, 865, 1128, 1152, 1205, 1307, 1332]}, 'acceptance rate': {'chain 0': 0.994}}\n",
      "Registering the results in:  SX1/2023-11-19/n-6_k-3_m-4_sigma_w-0.1_sigma_p-0.01_n_samples-1500.yaml\n"
     ]
    },
    {
     "name": "stderr",
     "output_type": "stream",
     "text": [
      "Sample: 100%|████████████████████████████| 2000/2000 [00:27, 73.06it/s, step size=5.06e-01, acc. prob=0.864]\n"
     ]
    },
    {
     "name": "stdout",
     "output_type": "stream",
     "text": [
      "diag:  {'sigma': OrderedDict([('n_eff', tensor(1953.4204)), ('r_hat', tensor(0.9999))]), 'w': OrderedDict([('n_eff', tensor([2362.5144, 2818.2776, 2186.2834, 2925.6565, 2465.1321, 2359.8215,\n",
      "        2713.8899, 3475.9929, 2959.5720, 2314.6580, 2488.2639, 2424.1108,\n",
      "        2728.8267, 2141.4614, 2856.0867, 2461.5427, 2464.0601, 2547.0667,\n",
      "        2891.0166, 2065.2939, 2596.8940, 1876.1921, 2299.0547, 2356.3831,\n",
      "        2341.2207, 3377.3740, 1590.3087, 1886.3356, 2316.1169, 2694.3420,\n",
      "        2054.8877, 2040.6689, 2719.1060, 2033.1180, 2314.3459, 2103.1890,\n",
      "        2227.4089, 2947.6938, 2149.8132, 1602.2543, 2467.4314])), ('r_hat', tensor([1.0003, 0.9996, 0.9997, 0.9994, 0.9996, 1.0003, 0.9993, 1.0005, 0.9993,\n",
      "        0.9998, 1.0001, 0.9993, 1.0000, 0.9994, 0.9994, 0.9994, 0.9995, 0.9994,\n",
      "        1.0006, 0.9994, 1.0002, 1.0019, 0.9994, 1.0004, 0.9994, 0.9994, 0.9994,\n",
      "        0.9998, 1.0007, 0.9993, 0.9994, 0.9998, 0.9995, 0.9994, 0.9994, 0.9995,\n",
      "        0.9996, 0.9997, 0.9994, 1.0001, 0.9993]))]), 'divergences': {'chain 0': [144, 900, 901, 1261]}, 'acceptance rate': {'chain 0': 0.9966666666666667}}\n",
      "Registering the results in:  SX1/2023-11-19/n-6_k-3_m-4_sigma_w-0.1_sigma_p-10.0_n_samples-1500.yaml\n"
     ]
    },
    {
     "name": "stderr",
     "output_type": "stream",
     "text": [
      "Sample: 100%|████████████████████████████| 2000/2000 [02:26, 13.68it/s, step size=1.33e-01, acc. prob=0.789]\n"
     ]
    },
    {
     "name": "stdout",
     "output_type": "stream",
     "text": [
      "diag:  {'sigma': OrderedDict([('n_eff', tensor(853.5764)), ('r_hat', tensor(1.0041))]), 'w': OrderedDict([('n_eff', tensor([1461.6279, 1548.8185, 1084.5663, 1226.8145, 1059.8685, 1097.7682,\n",
      "         966.9065, 1088.0752, 1484.2471, 1048.7883,  482.5089, 1528.5410,\n",
      "        1378.6627,  866.1857, 1288.7729, 1239.7551, 1436.1365, 1637.2098,\n",
      "        1350.6282,  900.4648,  854.2097, 1179.4750, 1203.2881, 1093.2546,\n",
      "        1194.8983,  845.3585, 1730.0802, 1568.4938,  936.7477, 1195.2084,\n",
      "        1626.3378,  979.6058, 1224.7676, 1345.8628, 1245.3668,  954.0491,\n",
      "        1098.1365, 1260.9003, 1350.5837, 1318.0950, 1549.7588])), ('r_hat', tensor([1.0004, 0.9995, 0.9999, 1.0002, 0.9996, 0.9994, 1.0006, 1.0018, 0.9996,\n",
      "        0.9995, 1.0009, 1.0014, 0.9993, 1.0013, 0.9994, 1.0008, 1.0004, 0.9994,\n",
      "        0.9997, 0.9998, 0.9995, 0.9994, 1.0002, 0.9994, 1.0006, 1.0001, 0.9993,\n",
      "        1.0000, 0.9999, 0.9993, 0.9994, 0.9998, 1.0005, 1.0010, 0.9996, 1.0022,\n",
      "        1.0000, 0.9994, 0.9999, 1.0004, 0.9993]))]), 'divergences': {'chain 0': [11, 15, 21, 56, 88, 171, 252, 272, 327, 526, 553, 584, 588, 860, 1119, 1121, 1302, 1496]}, 'acceptance rate': {'chain 0': 0.9813333333333333}}\n",
      "Registering the results in:  SX1/2023-11-19/n-6_k-3_m-4_sigma_w-0.01_sigma_p-1_n_samples-1500.yaml\n"
     ]
    },
    {
     "name": "stderr",
     "output_type": "stream",
     "text": [
      "Sample: 100%|████████████████████████████| 2000/2000 [00:27, 72.80it/s, step size=3.97e-01, acc. prob=0.864]\n"
     ]
    },
    {
     "name": "stdout",
     "output_type": "stream",
     "text": [
      "diag:  {'sigma': OrderedDict([('n_eff', tensor(1376.3834)), ('r_hat', tensor(0.9998))]), 'w': OrderedDict([('n_eff', tensor([2447.7134, 1716.7769, 1974.3215, 1817.4323, 1343.4506, 1567.2155,\n",
      "        1651.2870, 1779.5286, 1226.2709, 2048.6423, 2138.4614, 1995.5356,\n",
      "        1852.7341, 1606.4827, 1600.3872, 1985.9243, 1700.3601, 1762.2621,\n",
      "        1496.8708, 1865.4639, 1478.4502, 2112.5723, 1586.4366, 2407.8235,\n",
      "        1302.9623, 1598.5116, 1882.7316, 1606.2123, 1462.2354, 1481.5125,\n",
      "        1909.0231, 1727.8497, 2207.1521, 1755.2261, 1717.3894, 1973.1541,\n",
      "        1769.8669, 1980.5946, 1767.7324, 2245.3398, 2451.3042])), ('r_hat', tensor([1.0004, 0.9997, 0.9997, 0.9999, 0.9993, 0.9996, 0.9995, 0.9996, 0.9999,\n",
      "        1.0009, 0.9996, 0.9994, 0.9994, 0.9996, 1.0007, 0.9997, 0.9997, 1.0017,\n",
      "        0.9994, 1.0000, 0.9994, 0.9995, 0.9994, 1.0008, 0.9993, 1.0002, 0.9999,\n",
      "        0.9995, 1.0026, 1.0008, 0.9996, 1.0021, 0.9996, 0.9996, 0.9993, 0.9995,\n",
      "        0.9994, 0.9993, 1.0000, 0.9993, 0.9993]))]), 'divergences': {'chain 0': [73, 75, 329, 482, 483, 534, 923, 969, 977, 979, 981, 982, 1003, 1171, 1195, 1460, 1474]}, 'acceptance rate': {'chain 0': 0.9926666666666667}}\n",
      "Registering the results in:  SX1/2023-11-19/n-6_k-3_m-4_sigma_w-0.01_sigma_p-0.1_n_samples-1500.yaml\n"
     ]
    },
    {
     "name": "stderr",
     "output_type": "stream",
     "text": [
      "Sample: 100%|████████████████████████████| 2000/2000 [00:31, 64.19it/s, step size=4.49e-01, acc. prob=0.873]\n"
     ]
    },
    {
     "name": "stdout",
     "output_type": "stream",
     "text": [
      "diag:  {'sigma': OrderedDict([('n_eff', tensor(1901.3627)), ('r_hat', tensor(0.9998))]), 'w': OrderedDict([('n_eff', tensor([1776.4142, 1821.0454, 1815.2664, 2179.3604, 2474.6113, 2047.3604,\n",
      "        1948.7954, 2309.6433, 3009.2612, 2386.8943, 2477.2229, 2776.4746,\n",
      "        2116.8364, 1999.9575, 2217.6990, 2328.2000, 2152.2515, 2656.9355,\n",
      "        2262.9121, 1901.0887, 1465.0895, 2747.8574, 2469.8440, 1989.0905,\n",
      "        1902.1315, 1748.0226, 1764.4823, 2189.9182, 2517.0164, 2206.9907,\n",
      "        1617.4337, 2578.6086, 2023.9667, 2129.7957, 2133.6973, 2265.6707,\n",
      "        2016.1473, 2060.7861, 2118.1924, 1596.7888, 2207.1123])), ('r_hat', tensor([0.9993, 1.0002, 0.9994, 0.9999, 0.9996, 1.0001, 0.9995, 0.9993, 0.9998,\n",
      "        1.0011, 0.9993, 0.9998, 0.9995, 0.9995, 0.9993, 0.9994, 0.9999, 0.9998,\n",
      "        0.9996, 0.9994, 0.9994, 0.9999, 0.9994, 1.0000, 1.0006, 0.9993, 0.9994,\n",
      "        0.9993, 0.9994, 0.9993, 0.9995, 0.9997, 0.9993, 0.9994, 0.9994, 0.9994,\n",
      "        1.0004, 0.9993, 1.0008, 0.9999, 0.9995]))]), 'divergences': {'chain 0': []}, 'acceptance rate': {'chain 0': 0.9993333333333333}}\n",
      "Registering the results in:  SX1/2023-11-19/n-6_k-3_m-4_sigma_w-0.01_sigma_p-0.01_n_samples-1500.yaml\n"
     ]
    },
    {
     "name": "stderr",
     "output_type": "stream",
     "text": [
      "Sample: 100%|████████████████████████████| 2000/2000 [00:24, 81.94it/s, step size=4.52e-01, acc. prob=0.872]\n"
     ]
    },
    {
     "name": "stdout",
     "output_type": "stream",
     "text": [
      "diag:  {'sigma': OrderedDict([('n_eff', tensor(1482.5879)), ('r_hat', tensor(0.9994))]), 'w': OrderedDict([('n_eff', tensor([2483.4751, 2274.2490, 2927.3921, 2897.9661, 2173.3848, 2658.9504,\n",
      "        3019.7593, 2648.0422, 2505.7559, 2581.5859, 2936.2175, 3979.6257,\n",
      "        3272.1760, 2787.8640, 2088.0554, 2768.6653, 3168.4065, 2336.2312,\n",
      "        3286.5161, 3636.8433, 2597.1333, 3244.4158, 2377.5967, 2061.9910,\n",
      "        3164.9756, 3811.6294, 2045.1873, 2310.3384, 1620.6519, 2411.8701,\n",
      "        3503.1785, 2047.0231, 2517.6907, 2738.0000, 2080.5671, 2291.6440,\n",
      "        2113.3223, 3759.8826, 2762.4675, 2158.2161, 2261.4111])), ('r_hat', tensor([1.0001, 0.9994, 0.9993, 0.9995, 0.9993, 0.9994, 0.9993, 0.9999, 0.9994,\n",
      "        1.0002, 1.0002, 1.0009, 0.9994, 0.9996, 0.9996, 0.9994, 0.9994, 0.9994,\n",
      "        0.9994, 0.9994, 1.0007, 0.9995, 0.9997, 0.9993, 0.9998, 0.9993, 0.9999,\n",
      "        0.9994, 0.9998, 1.0000, 1.0000, 0.9997, 0.9998, 0.9998, 0.9994, 0.9995,\n",
      "        0.9996, 0.9993, 0.9998, 0.9994, 0.9994]))]), 'divergences': {'chain 0': []}, 'acceptance rate': {'chain 0': 0.9973333333333333}}\n",
      "Registering the results in:  SX1/2023-11-19/n-6_k-3_m-4_sigma_w-0.01_sigma_p-10.0_n_samples-1500.yaml\n"
     ]
    },
    {
     "name": "stderr",
     "output_type": "stream",
     "text": [
      "Sample: 100%|████████████████████████████| 2000/2000 [00:34, 57.20it/s, step size=3.08e-01, acc. prob=0.818]\n"
     ]
    },
    {
     "name": "stdout",
     "output_type": "stream",
     "text": [
      "diag:  {'sigma': OrderedDict([('n_eff', tensor(659.7189)), ('r_hat', tensor(0.9993))]), 'w': OrderedDict([('n_eff', tensor([1999.0221, 1041.9725, 1546.6907, 1449.6853, 1122.3588, 1109.4375,\n",
      "        2082.2126, 1105.8397, 1361.4402, 2463.7212, 1050.2327, 1936.6262,\n",
      "        1281.1437, 1595.8502, 1169.4755,  787.5117, 1474.2278, 1914.2452,\n",
      "        1858.4462,  994.2767, 1656.3013, 1331.8885, 1339.9419, 2003.4390,\n",
      "        1501.0416,  797.4052, 1798.1749, 2256.2314, 1954.7382, 1918.1459,\n",
      "        1140.6724, 1901.2552,  724.0207, 1427.2750, 2314.1956, 1373.9434,\n",
      "        1114.9287,  478.4193, 2535.7202, 1725.9021, 1305.4709])), ('r_hat', tensor([0.9998, 0.9993, 0.9994, 0.9994, 1.0001, 0.9993, 1.0000, 0.9996, 1.0026,\n",
      "        1.0010, 0.9996, 0.9994, 1.0018, 1.0007, 1.0004, 1.0013, 0.9999, 0.9998,\n",
      "        0.9997, 0.9993, 0.9995, 0.9993, 1.0012, 1.0000, 0.9994, 1.0035, 0.9996,\n",
      "        0.9997, 0.9994, 1.0004, 0.9993, 0.9998, 0.9994, 1.0006, 0.9998, 1.0004,\n",
      "        0.9998, 1.0003, 0.9996, 0.9997, 0.9995]))]), 'divergences': {'chain 0': [125, 177, 234, 235, 238, 241, 248, 287, 335, 368, 369, 370, 371, 383, 416, 425, 456, 571, 572, 573, 574, 576, 581, 582, 588, 589, 591, 595, 602, 604, 943, 990, 1045, 1174, 1200, 1205, 1206, 1207, 1208, 1209, 1211, 1212, 1216, 1217, 1218, 1221, 1224, 1382, 1383, 1433]}, 'acceptance rate': {'chain 0': 0.97}}\n",
      "Registering the results in:  SX1/2023-11-19/n-6_k-3_m-4_sigma_w-10.0_sigma_p-1_n_samples-1500.yaml\n"
     ]
    },
    {
     "name": "stderr",
     "output_type": "stream",
     "text": [
      "Sample: 100%|████████████████████████████| 2000/2000 [11:12,  2.97it/s, step size=1.99e-02, acc. prob=0.743]\n"
     ]
    },
    {
     "name": "stdout",
     "output_type": "stream",
     "text": [
      "diag:  {'sigma': OrderedDict([('n_eff', tensor(507.2810)), ('r_hat', tensor(0.9993))]), 'w': OrderedDict([('n_eff', tensor([ 632.6743,  817.8793,  793.5253, 1087.8007,  800.1753, 1140.4491,\n",
      "         571.6025, 1007.7494, 1298.5441, 1011.8276, 1236.2383,  612.7563,\n",
      "         947.8297,  646.1552, 1056.9187, 1064.6748, 1058.1495,  780.4485,\n",
      "        1026.1790,  779.4615,  707.5329, 1066.8876, 1020.0633, 1196.4830,\n",
      "         889.0065,  731.2715, 1124.3506,  478.3564,  961.9991,  761.7866,\n",
      "         821.2948,  929.5594,  961.9492, 1014.7372,  786.0258,  755.0308,\n",
      "         789.4838,  867.3902,  489.2646,  963.9957, 1242.8176])), ('r_hat', tensor([0.9994, 1.0023, 1.0065, 0.9998, 0.9996, 0.9998, 0.9994, 1.0001, 0.9995,\n",
      "        0.9994, 1.0011, 1.0001, 0.9995, 0.9994, 1.0001, 1.0000, 1.0006, 0.9993,\n",
      "        0.9994, 1.0031, 1.0009, 0.9995, 1.0020, 1.0000, 0.9996, 0.9997, 1.0054,\n",
      "        1.0001, 0.9996, 0.9996, 1.0000, 0.9995, 0.9993, 1.0001, 1.0016, 1.0030,\n",
      "        0.9994, 1.0007, 1.0020, 0.9993, 0.9997]))]), 'divergences': {'chain 0': [109, 149, 200, 201, 202, 210, 211, 212, 215, 220, 221, 224, 226, 229, 231, 360, 401, 415, 460, 586, 665, 669, 671, 672, 674, 678, 680, 681, 720, 770, 771, 873, 875, 877, 878, 879, 880, 882, 883, 884, 885, 887, 888, 890, 891, 907, 974, 1007, 1131, 1196, 1318, 1325, 1331, 1333, 1335, 1337, 1340, 1341, 1461, 1463, 1466, 1467, 1468, 1469, 1473, 1477]}, 'acceptance rate': {'chain 0': 0.9993333333333333}}\n",
      "Registering the results in:  SX1/2023-11-19/n-6_k-3_m-4_sigma_w-10.0_sigma_p-0.1_n_samples-1500.yaml\n"
     ]
    },
    {
     "name": "stderr",
     "output_type": "stream",
     "text": [
      "Sample: 100%|████████████████████████████| 2000/2000 [02:40, 12.42it/s, step size=1.49e-01, acc. prob=0.836]\n"
     ]
    },
    {
     "name": "stdout",
     "output_type": "stream",
     "text": [
      "diag:  {'sigma': OrderedDict([('n_eff', tensor(1272.0222)), ('r_hat', tensor(1.0010))]), 'w': OrderedDict([('n_eff', tensor([1784.9506, 1602.5339, 1438.7080, 1281.4156, 1211.6230, 1373.7806,\n",
      "        1747.6172, 1747.0874, 1338.7163, 1061.6719, 2158.2761, 1897.3761,\n",
      "        1106.6245, 2448.6184, 1589.3510, 1520.5264, 1036.0626, 2399.1309,\n",
      "        1610.4760, 1411.8989, 1764.5234, 1607.5217, 1859.0730, 1006.9230,\n",
      "        2091.4187, 1932.4528, 1690.9257, 2371.5837, 1379.3772, 1685.9137,\n",
      "        1653.6171, 1613.2035, 1863.5006, 2407.4226, 1222.1277, 2217.4326,\n",
      "        1975.8361, 1878.7511, 1957.3132, 2378.4736, 1832.3552])), ('r_hat', tensor([0.9996, 0.9995, 1.0021, 1.0001, 1.0013, 0.9998, 0.9994, 0.9999, 0.9993,\n",
      "        0.9998, 0.9995, 0.9994, 0.9994, 1.0002, 0.9994, 0.9996, 0.9996, 0.9994,\n",
      "        1.0003, 1.0009, 0.9999, 0.9998, 0.9993, 0.9993, 0.9993, 0.9998, 0.9994,\n",
      "        0.9994, 0.9993, 0.9994, 0.9999, 0.9995, 0.9993, 1.0007, 0.9993, 1.0006,\n",
      "        0.9995, 0.9996, 1.0016, 0.9994, 0.9995]))]), 'divergences': {'chain 0': [140, 141, 143, 197, 356, 420, 504, 586, 641, 704, 706, 782, 840, 843, 860, 875, 917, 985, 993, 1145, 1148, 1175, 1201, 1274, 1288, 1293, 1294, 1401, 1402, 1406, 1464, 1466, 1468, 1469, 1477]}, 'acceptance rate': {'chain 0': 0.9953333333333333}}\n",
      "Registering the results in:  SX1/2023-11-19/n-6_k-3_m-4_sigma_w-10.0_sigma_p-0.01_n_samples-1500.yaml\n"
     ]
    },
    {
     "name": "stderr",
     "output_type": "stream",
     "text": [
      "Sample: 100%|████████████████████████████| 2000/2000 [01:18, 25.55it/s, step size=3.10e-01, acc. prob=0.846]\n"
     ]
    },
    {
     "name": "stdout",
     "output_type": "stream",
     "text": [
      "diag:  {'sigma': OrderedDict([('n_eff', tensor(1041.9734)), ('r_hat', tensor(0.9995))]), 'w': OrderedDict([('n_eff', tensor([3225.2012, 2925.9775,  981.1890, 2605.1147, 2363.4424, 2066.8132,\n",
      "        2419.2180, 2627.9524, 2645.7288, 1939.8689, 1053.1520, 2012.9268,\n",
      "        2249.5476, 2703.6182, 2294.3445, 2423.0271, 2042.3623, 2350.2463,\n",
      "        1825.7863, 1812.8679, 2812.7280, 2125.0757, 2438.1907, 2645.6631,\n",
      "        2633.5869, 2328.4446, 1921.8357, 2043.9099, 2013.7312, 2702.2937,\n",
      "        1162.0751, 2587.6384, 1733.0026, 2611.6055, 2370.7266, 2212.7444,\n",
      "        2506.3618, 1859.7903, 1958.7178, 2222.1843, 2910.2583])), ('r_hat', tensor([0.9998, 0.9997, 0.9993, 0.9997, 0.9993, 0.9993, 0.9995, 0.9998, 0.9998,\n",
      "        0.9994, 1.0007, 0.9994, 1.0000, 0.9999, 0.9995, 0.9994, 0.9995, 0.9993,\n",
      "        0.9994, 0.9995, 0.9997, 1.0021, 1.0000, 0.9993, 0.9998, 1.0000, 1.0021,\n",
      "        0.9994, 1.0016, 0.9996, 1.0006, 0.9994, 1.0006, 0.9993, 1.0004, 0.9994,\n",
      "        1.0007, 0.9995, 0.9993, 0.9996, 0.9996]))]), 'divergences': {'chain 0': [117, 144, 153, 178, 307, 308, 323, 324, 415, 416, 444, 463, 508, 509, 586, 587, 612, 623, 654, 688, 833, 834, 835, 1074, 1139, 1240, 1341, 1342, 1343, 1345, 1346, 1347, 1349, 1351, 1353, 1366]}, 'acceptance rate': {'chain 0': 0.9866666666666667}}\n",
      "Registering the results in:  SX1/2023-11-19/n-6_k-3_m-4_sigma_w-10.0_sigma_p-10.0_n_samples-1500.yaml\n"
     ]
    },
    {
     "name": "stderr",
     "output_type": "stream",
     "text": [
      "Sample: 100%|████████████████████████████| 2000/2000 [37:30,  1.13s/it, step size=3.80e-03, acc. prob=0.736]\n"
     ]
    },
    {
     "name": "stdout",
     "output_type": "stream",
     "text": [
      "diag:  {'sigma': OrderedDict([('n_eff', tensor(908.1962)), ('r_hat', tensor(0.9999))]), 'w': OrderedDict([('n_eff', tensor([ 867.6429,  573.4232,  459.9580,  534.5437,  611.6136,  635.6340,\n",
      "         581.6248,  494.6661,  657.5295,  525.6812,  762.5096,  856.4547,\n",
      "         785.1411,  737.5389,  840.0917,  520.6141,  643.4572,  822.2284,\n",
      "         590.3683,  554.9075,  660.7932,  402.8530,  657.8702,  614.4415,\n",
      "         608.4027,  702.6909,  894.2668,  599.7497,  737.2579,  445.0581,\n",
      "         494.4532,  674.4438,  733.4423,  859.2968,  892.1139,  685.4801,\n",
      "        1037.1484,  876.7296,  613.7105,  727.5359,  592.2279])), ('r_hat', tensor([0.9995, 0.9996, 1.0010, 0.9998, 0.9996, 1.0002, 0.9995, 1.0002, 1.0015,\n",
      "        0.9993, 1.0011, 0.9993, 1.0002, 1.0002, 0.9996, 1.0013, 1.0012, 0.9994,\n",
      "        0.9995, 1.0052, 1.0004, 0.9993, 1.0029, 0.9994, 0.9997, 0.9994, 0.9993,\n",
      "        1.0023, 0.9993, 1.0004, 1.0074, 1.0009, 0.9996, 0.9995, 1.0004, 1.0001,\n",
      "        1.0007, 1.0077, 1.0000, 1.0036, 0.9994]))]), 'divergences': {'chain 0': [6, 7, 8, 11, 15, 17, 20, 26, 27, 46, 50, 66, 94, 109, 118, 126, 217, 218, 236, 272, 279, 284, 286, 288, 289, 293, 294, 365, 370, 374, 470, 535, 538, 540, 630, 641, 648, 673, 687, 691, 715, 747, 753, 755, 785, 833, 870, 872, 874, 877, 918, 919, 945, 985, 989, 1071, 1072, 1110, 1148, 1151, 1152, 1154, 1157, 1170, 1212, 1226, 1229, 1232, 1235, 1249, 1284, 1308, 1309, 1343, 1347, 1348, 1351, 1353, 1380, 1390, 1422, 1423, 1426, 1442, 1443, 1447, 1454]}, 'acceptance rate': {'chain 0': 0.9993333333333333}}\n",
      "Registering the results in:  SX1/2023-11-19/n-6_k-4_m-4_sigma_w-1_sigma_p-1_n_samples-1500.yaml\n"
     ]
    },
    {
     "name": "stderr",
     "output_type": "stream",
     "text": [
      "Sample: 100%|████████████████████████████| 2000/2000 [02:26, 13.63it/s, step size=8.34e-02, acc. prob=0.843]\n"
     ]
    },
    {
     "name": "stdout",
     "output_type": "stream",
     "text": [
      "diag:  {'sigma': OrderedDict([('n_eff', tensor(1353.6774)), ('r_hat', tensor(1.0012))]), 'w': OrderedDict([('n_eff', tensor([1545.5837, 1142.3010, 1563.1794, 1463.6958, 1313.7195, 1494.7008,\n",
      "        1256.4974, 1558.1155, 1365.0802, 1775.6699, 1707.0004, 1580.4626,\n",
      "        1565.5911, 1482.7974, 1441.1979, 1631.3513, 1194.5476, 1381.3489,\n",
      "        1453.4014, 1473.8468,  848.5897, 1253.2979, 2360.0996, 1290.4440,\n",
      "        1247.1770, 1427.7163, 1369.2823, 1361.1415, 1420.6521, 1381.0231,\n",
      "        1854.6350, 1678.2531, 1314.5128, 1786.9967, 1739.8127, 1837.9393,\n",
      "        1755.0491, 2181.1284, 1735.5393, 1714.4551, 1820.2426, 1718.1591,\n",
      "        1654.7256, 2261.7615, 1749.3951, 1457.8762, 1603.9562, 1789.6639,\n",
      "        1517.8319, 1685.6562, 1856.3331, 1898.8842, 1833.3588, 1619.8783,\n",
      "        1667.9430, 1539.6511])), ('r_hat', tensor([0.9996, 0.9996, 0.9994, 0.9994, 0.9994, 1.0000, 1.0003, 1.0015, 1.0001,\n",
      "        0.9994, 1.0004, 0.9995, 0.9994, 0.9995, 0.9994, 0.9994, 0.9995, 1.0015,\n",
      "        0.9996, 1.0000, 1.0013, 0.9996, 0.9993, 1.0005, 1.0018, 1.0010, 0.9999,\n",
      "        0.9995, 1.0009, 0.9995, 0.9994, 0.9993, 1.0005, 0.9993, 1.0001, 0.9998,\n",
      "        0.9993, 0.9994, 1.0012, 0.9993, 1.0007, 0.9993, 0.9994, 0.9994, 0.9995,\n",
      "        1.0001, 1.0007, 0.9993, 1.0017, 0.9995, 0.9994, 1.0035, 0.9993, 1.0023,\n",
      "        0.9995, 0.9995]))]), 'divergences': {'chain 0': [18, 35, 78, 79, 108, 143, 279, 296, 315, 316, 346, 352, 407, 408, 409, 414, 429, 435, 455, 457, 480, 504, 562, 570, 574, 617, 620, 647, 648, 728, 745, 755, 806, 867, 882, 944, 1000, 1005, 1038, 1124, 1126, 1128, 1134, 1146, 1174, 1201, 1211, 1213, 1214, 1216, 1222, 1240, 1370, 1421, 1429, 1486]}, 'acceptance rate': {'chain 0': 0.9953333333333333}}\n",
      "Registering the results in:  SX1/2023-11-19/n-6_k-4_m-4_sigma_w-1_sigma_p-0.1_n_samples-1500.yaml\n"
     ]
    },
    {
     "name": "stderr",
     "output_type": "stream",
     "text": [
      "Sample: 100%|████████████████████████████| 2000/2000 [00:32, 61.93it/s, step size=3.28e-01, acc. prob=0.820]\n"
     ]
    },
    {
     "name": "stdout",
     "output_type": "stream",
     "text": [
      "diag:  {'sigma': OrderedDict([('n_eff', tensor(1160.6166)), ('r_hat', tensor(0.9994))]), 'w': OrderedDict([('n_eff', tensor([1698.9633, 1317.8608, 2644.0278, 1318.2292, 2883.6489, 2189.2908,\n",
      "        2409.3347, 2691.8245, 1902.0042, 2110.9084, 2175.4924, 1702.7258,\n",
      "        1869.3538, 1850.3521, 2352.6572, 2320.5845, 2131.6746, 1804.1793,\n",
      "        2495.6086, 1907.5482, 2317.5828, 1794.5275, 2262.1978, 2080.3938,\n",
      "        2061.0715, 2076.9478, 3018.9321, 1661.4556, 3172.2136, 2059.8254,\n",
      "        1886.2072, 2185.4771, 2480.0791, 2591.1716, 1564.3062, 2409.0569,\n",
      "        1542.4093, 2172.9607, 2184.9731, 1714.0311, 1666.7649, 1704.5380,\n",
      "        2002.3213, 1898.2198, 2399.8235, 2047.9354, 2246.9268, 1876.4180,\n",
      "        2318.4006, 2000.8219, 2668.8843, 1655.0715, 3556.7200, 3066.3821,\n",
      "        2352.9805, 2963.2629])), ('r_hat', tensor([1.0003, 0.9998, 0.9993, 0.9996, 0.9995, 0.9996, 0.9993, 1.0000, 0.9997,\n",
      "        0.9997, 0.9997, 0.9995, 0.9994, 0.9996, 1.0008, 0.9998, 0.9995, 0.9995,\n",
      "        0.9995, 0.9994, 1.0001, 0.9995, 1.0000, 0.9996, 0.9995, 1.0006, 0.9995,\n",
      "        0.9995, 1.0007, 0.9993, 0.9997, 1.0000, 0.9998, 1.0007, 1.0002, 0.9993,\n",
      "        0.9999, 0.9995, 0.9997, 1.0015, 1.0010, 1.0001, 0.9993, 1.0003, 0.9994,\n",
      "        1.0003, 0.9995, 0.9994, 1.0028, 0.9994, 0.9996, 1.0000, 0.9994, 1.0002,\n",
      "        0.9994, 0.9999]))]), 'divergences': {'chain 0': [53, 61, 186, 239, 272, 281, 298, 303, 304, 305, 307, 309, 342, 474, 475, 478, 542, 543, 755, 896, 897, 899, 954, 956, 963, 1178, 1179, 1180, 1181, 1184, 1322, 1348, 1401, 1449, 1450, 1452, 1456, 1457, 1463, 1474, 1498]}, 'acceptance rate': {'chain 0': 0.99}}\n",
      "Registering the results in:  SX1/2023-11-19/n-6_k-4_m-4_sigma_w-1_sigma_p-0.01_n_samples-1500.yaml\n"
     ]
    },
    {
     "name": "stderr",
     "output_type": "stream",
     "text": [
      "Sample: 100%|███████████████████████████| 2000/2000 [00:17, 115.65it/s, step size=5.09e-01, acc. prob=0.807]\n"
     ]
    },
    {
     "name": "stdout",
     "output_type": "stream",
     "text": [
      "diag:  {'sigma': OrderedDict([('n_eff', tensor(1573.5226)), ('r_hat', tensor(1.0006))]), 'w': OrderedDict([('n_eff', tensor([1712.0393, 2156.2957, 2650.8408, 1812.3563, 1805.9253, 1804.6652,\n",
      "        2492.0706, 1759.8079, 2029.1083, 2815.9392, 2225.3660, 2421.8560,\n",
      "        1829.4648, 2422.5583, 2142.3945, 2552.9302, 1466.7327, 2137.5723,\n",
      "        2186.6450, 2241.3496, 2758.6931, 2114.8450, 2085.2107, 1788.4645,\n",
      "        3714.6377, 2153.8469, 1314.1002, 2532.4619, 1898.8904, 1693.9414,\n",
      "        1999.8175, 1962.7686, 2068.6853, 2357.2566, 3328.3252, 2082.8481,\n",
      "        2008.5846, 2140.0408, 2862.7212, 1549.4478, 3239.9507, 1923.3704,\n",
      "        1417.8846, 1916.9594, 2733.5667, 2338.5051, 1911.3904, 1878.4775,\n",
      "        2728.9812, 2357.7571, 1731.5164, 1641.0096, 1837.7250, 1828.6655,\n",
      "        2834.0554, 2618.1394])), ('r_hat', tensor([0.9995, 0.9994, 0.9993, 1.0002, 0.9993, 0.9999, 1.0001, 0.9993, 0.9995,\n",
      "        0.9996, 0.9994, 0.9994, 1.0003, 0.9994, 1.0009, 0.9999, 0.9994, 0.9995,\n",
      "        0.9993, 0.9999, 0.9999, 1.0000, 0.9993, 0.9996, 0.9996, 0.9996, 0.9997,\n",
      "        0.9995, 0.9999, 0.9994, 1.0004, 1.0004, 0.9996, 0.9993, 0.9993, 1.0003,\n",
      "        0.9996, 0.9994, 0.9997, 0.9993, 0.9996, 1.0004, 1.0000, 0.9995, 0.9994,\n",
      "        0.9993, 0.9993, 0.9993, 0.9994, 0.9994, 0.9994, 0.9995, 0.9994, 1.0001,\n",
      "        0.9993, 0.9993]))]), 'divergences': {'chain 0': [362, 608, 636, 727, 783, 818, 820, 827, 915, 917, 919, 1133, 1240, 1351, 1435, 1439, 1473, 1493]}, 'acceptance rate': {'chain 0': 0.99}}\n",
      "Registering the results in:  SX1/2023-11-19/n-6_k-4_m-4_sigma_w-1_sigma_p-10.0_n_samples-1500.yaml\n"
     ]
    },
    {
     "name": "stderr",
     "output_type": "stream",
     "text": [
      "Sample: 100%|████████████████████████████| 2000/2000 [12:32,  2.66it/s, step size=1.19e-02, acc. prob=0.766]\n"
     ]
    },
    {
     "name": "stdout",
     "output_type": "stream",
     "text": [
      "diag:  {'sigma': OrderedDict([('n_eff', tensor(711.2414)), ('r_hat', tensor(0.9994))]), 'w': OrderedDict([('n_eff', tensor([893.4973, 646.7330, 845.9103, 451.4979, 829.5947, 586.7263, 512.1957,\n",
      "        790.8487, 792.9100, 516.3965, 908.4842, 452.8726, 650.8582, 651.9657,\n",
      "        655.2053, 601.5578, 961.4476, 761.2608, 626.0250, 422.7090, 589.0471,\n",
      "        926.2646, 590.1408, 751.6745, 609.8458, 764.2162, 829.5411, 452.9284,\n",
      "        698.5392, 584.7050, 891.4257, 847.9224, 771.7130, 603.1019, 856.8053,\n",
      "        846.7299, 853.0043, 789.6391, 813.5654, 675.2563, 604.4661, 735.6786,\n",
      "        993.9951, 742.4791, 797.7126, 508.8915, 685.6813, 622.2506, 468.5233,\n",
      "        612.5386, 494.7408, 768.9455, 949.3969, 652.9031, 638.6094, 784.1133])), ('r_hat', tensor([1.0005, 0.9998, 0.9998, 1.0061, 1.0001, 1.0021, 1.0053, 1.0011, 0.9993,\n",
      "        0.9994, 0.9993, 0.9999, 1.0007, 1.0025, 0.9997, 1.0080, 0.9995, 1.0006,\n",
      "        0.9997, 0.9999, 1.0010, 0.9997, 1.0013, 0.9995, 0.9994, 0.9998, 0.9994,\n",
      "        1.0022, 0.9997, 1.0014, 0.9996, 0.9993, 0.9993, 1.0008, 1.0022, 0.9999,\n",
      "        0.9996, 0.9994, 1.0003, 1.0006, 0.9996, 0.9993, 1.0016, 0.9994, 0.9995,\n",
      "        1.0031, 1.0021, 0.9997, 1.0005, 1.0002, 1.0101, 1.0022, 0.9999, 1.0031,\n",
      "        0.9995, 1.0037]))]), 'divergences': {'chain 0': [45, 46, 48, 52, 54, 56, 57, 150, 151, 153, 154, 155, 246, 247, 255, 266, 318, 322, 325, 384, 386, 398, 554, 612, 647, 652, 653, 654, 659, 660, 662, 666, 668, 674, 675, 762, 816, 841, 842, 846, 848, 849, 860, 915, 977, 985, 986, 987, 1001, 1005, 1006, 1055, 1191, 1229, 1256, 1339, 1399, 1414, 1473, 1486, 1490]}, 'acceptance rate': {'chain 0': 1.0}}\n",
      "Registering the results in:  SX1/2023-11-19/n-6_k-4_m-4_sigma_w-0.1_sigma_p-1_n_samples-1500.yaml\n"
     ]
    },
    {
     "name": "stderr",
     "output_type": "stream",
     "text": [
      "Sample: 100%|████████████████████████████| 2000/2000 [00:32, 60.79it/s, step size=3.04e-01, acc. prob=0.858]\n"
     ]
    },
    {
     "name": "stdout",
     "output_type": "stream",
     "text": [
      "diag:  {'sigma': OrderedDict([('n_eff', tensor(1078.1058)), ('r_hat', tensor(1.0015))]), 'w': OrderedDict([('n_eff', tensor([2804.9609, 2533.0308, 2913.6167, 1852.5704, 2627.9646, 2130.6763,\n",
      "        2737.2913, 2462.2634, 1759.2571, 2042.9327, 2138.2344, 2931.7717,\n",
      "        2749.9692, 1577.1310, 2658.8215, 3349.9375, 2369.1653, 3039.3630,\n",
      "        2038.7548, 2722.8970, 2324.3870, 2329.7300, 2932.7280, 2910.1331,\n",
      "        2688.8394, 2200.3901, 1987.9225, 2346.4038, 2900.8425, 2452.1582,\n",
      "        3256.7324, 2229.7622, 1873.4054, 1917.3412, 2515.2031, 3560.7759,\n",
      "        3128.8831, 2275.2703, 2201.7356, 2252.1060, 2027.7672, 2611.5010,\n",
      "        2736.5610, 2655.6799, 2426.5559, 3229.4221, 2334.7991, 2243.0330,\n",
      "        2993.5735, 1667.6799, 2395.3054, 2348.8462, 2241.3196, 3382.4895,\n",
      "        2145.3064, 1832.2838])), ('r_hat', tensor([0.9994, 0.9998, 0.9994, 1.0005, 1.0003, 1.0003, 0.9997, 0.9998, 1.0006,\n",
      "        1.0025, 0.9994, 0.9994, 0.9993, 1.0004, 0.9994, 0.9994, 0.9994, 0.9994,\n",
      "        0.9996, 0.9996, 0.9994, 0.9994, 0.9999, 0.9994, 0.9994, 0.9998, 0.9994,\n",
      "        0.9995, 0.9995, 0.9994, 0.9993, 0.9998, 1.0002, 0.9999, 0.9994, 0.9996,\n",
      "        0.9995, 0.9996, 0.9996, 0.9997, 0.9995, 0.9994, 0.9993, 1.0010, 0.9993,\n",
      "        0.9999, 0.9994, 0.9997, 0.9994, 0.9993, 0.9994, 0.9997, 0.9997, 0.9993,\n",
      "        0.9996, 0.9997]))]), 'divergences': {'chain 0': [140, 363, 366, 448, 494, 882, 926, 965, 1005, 1118, 1209, 1272, 1273, 1300, 1435, 1493]}, 'acceptance rate': {'chain 0': 0.9873333333333333}}\n",
      "Registering the results in:  SX1/2023-11-19/n-6_k-4_m-4_sigma_w-0.1_sigma_p-0.1_n_samples-1500.yaml\n"
     ]
    },
    {
     "name": "stderr",
     "output_type": "stream",
     "text": [
      "Sample: 100%|███████████████████████████| 2000/2000 [00:17, 117.53it/s, step size=4.95e-01, acc. prob=0.833]\n"
     ]
    },
    {
     "name": "stdout",
     "output_type": "stream",
     "text": [
      "diag:  {'sigma': OrderedDict([('n_eff', tensor(1434.6635)), ('r_hat', tensor(1.0023))]), 'w': OrderedDict([('n_eff', tensor([2351.9690, 1960.5961, 2103.9709, 3047.5952, 2219.5894, 1783.3672,\n",
      "        1665.0881, 1735.7728, 1789.1003, 1469.2001, 2371.8647, 1532.1708,\n",
      "        1707.7206, 1901.6088, 2781.5190, 1732.6450, 1737.5786, 2280.0579,\n",
      "        1402.2429, 2372.9202, 2041.3795, 1902.1627, 1962.0408, 2033.3542,\n",
      "        1836.8130, 1878.8341, 2035.7435, 1674.3499, 3069.4895, 2198.7224,\n",
      "        2841.5540, 1439.3751, 1611.1750, 1882.1958, 1897.7017, 2976.4333,\n",
      "        2528.9324, 2118.2173, 1597.2889, 2554.4927, 1502.5509, 1562.2192,\n",
      "        1378.2898, 2212.9988, 2182.9143, 2110.6042, 1595.1472, 1784.1713,\n",
      "        1110.6855, 1525.6143, 2467.5454, 2117.2693, 1908.1624, 1410.2784,\n",
      "        1866.9799, 1533.9218])), ('r_hat', tensor([0.9994, 0.9996, 0.9993, 1.0003, 0.9995, 0.9993, 0.9998, 0.9993, 0.9998,\n",
      "        1.0022, 0.9998, 0.9995, 1.0008, 1.0008, 0.9998, 0.9995, 0.9999, 0.9999,\n",
      "        1.0004, 0.9998, 1.0000, 0.9995, 0.9993, 1.0004, 0.9995, 1.0004, 0.9996,\n",
      "        1.0055, 1.0003, 1.0008, 0.9997, 0.9996, 0.9994, 0.9997, 1.0000, 0.9994,\n",
      "        1.0006, 0.9994, 1.0027, 0.9998, 0.9994, 1.0000, 0.9999, 1.0000, 0.9993,\n",
      "        1.0002, 1.0003, 1.0008, 0.9996, 0.9993, 0.9998, 0.9993, 0.9993, 0.9994,\n",
      "        0.9998, 1.0032]))]), 'divergences': {'chain 0': [356, 560, 573, 813, 994, 1030, 1130, 1134, 1413, 1463]}, 'acceptance rate': {'chain 0': 0.9893333333333333}}\n",
      "Registering the results in:  SX1/2023-11-19/n-6_k-4_m-4_sigma_w-0.1_sigma_p-0.01_n_samples-1500.yaml\n"
     ]
    },
    {
     "name": "stderr",
     "output_type": "stream",
     "text": [
      "Sample: 100%|███████████████████████████| 2000/2000 [00:18, 107.35it/s, step size=4.40e-01, acc. prob=0.887]\n"
     ]
    },
    {
     "name": "stdout",
     "output_type": "stream",
     "text": [
      "diag:  {'sigma': OrderedDict([('n_eff', tensor(1974.1617)), ('r_hat', tensor(0.9994))]), 'w': OrderedDict([('n_eff', tensor([1210.0957, 1650.5876, 2467.6580, 1311.1958, 1905.8097, 1644.7876,\n",
      "        1500.8501, 1532.6113, 1444.6880, 1714.1237, 1961.4857, 1613.1002,\n",
      "        1515.0596, 1611.4886, 1746.6776, 1652.5306, 1892.2184, 1563.4469,\n",
      "        1549.0139, 1481.4268, 1623.9417, 1963.0208, 1482.0042, 1788.8276,\n",
      "        2239.5801, 1548.3851, 1643.9901, 2303.6538, 1768.0986, 1306.4845,\n",
      "        1913.9194, 1270.4537, 1661.9410, 1351.7823, 2295.6096, 1828.5620,\n",
      "        1888.4706, 1750.3125, 1728.3601, 1363.3757, 1474.6604, 1539.3119,\n",
      "        1762.9382, 1360.1696, 1630.6556, 1918.4840, 2152.0281, 1553.2079,\n",
      "        1947.7238, 1998.1289, 1870.9712, 1396.4833, 2458.7161, 2687.3958,\n",
      "        1354.3037, 2071.0608])), ('r_hat', tensor([0.9993, 1.0018, 0.9993, 0.9998, 0.9996, 0.9999, 0.9996, 0.9993, 0.9996,\n",
      "        0.9998, 0.9995, 1.0004, 1.0023, 1.0007, 0.9997, 0.9994, 0.9996, 0.9995,\n",
      "        0.9999, 1.0006, 1.0004, 0.9995, 0.9993, 0.9994, 0.9994, 0.9995, 1.0009,\n",
      "        0.9994, 0.9994, 1.0001, 0.9996, 0.9995, 1.0010, 0.9999, 1.0048, 1.0005,\n",
      "        0.9994, 0.9993, 1.0002, 0.9997, 1.0013, 0.9994, 0.9996, 1.0007, 0.9993,\n",
      "        0.9994, 0.9993, 0.9996, 1.0002, 1.0001, 1.0021, 1.0000, 0.9993, 1.0002,\n",
      "        0.9995, 0.9993]))]), 'divergences': {'chain 0': [241]}, 'acceptance rate': {'chain 0': 0.9986666666666667}}\n",
      "Registering the results in:  SX1/2023-11-19/n-6_k-4_m-4_sigma_w-0.1_sigma_p-10.0_n_samples-1500.yaml\n"
     ]
    },
    {
     "name": "stderr",
     "output_type": "stream",
     "text": [
      "Sample: 100%|████████████████████████████| 2000/2000 [02:06, 15.82it/s, step size=5.94e-02, acc. prob=0.823]\n"
     ]
    },
    {
     "name": "stdout",
     "output_type": "stream",
     "text": [
      "diag:  {'sigma': OrderedDict([('n_eff', tensor(611.8106)), ('r_hat', tensor(1.0219))]), 'w': OrderedDict([('n_eff', tensor([1314.1959,  622.4741,  771.6461, 1155.8521, 1096.5419, 1197.6847,\n",
      "        1030.1449, 1209.6827, 1102.8010,  763.3589,  891.3177, 1236.3503,\n",
      "         499.0934,  797.1082, 1245.5850, 1117.1560,  437.1144,  856.6360,\n",
      "         995.1902, 1099.5018,  875.4053,  757.8697, 1269.5255, 1059.7095,\n",
      "        1002.4678,  504.9707,  820.3043,  338.5635, 1092.0641,  580.6895,\n",
      "         740.0504,  792.8788,  721.7971,  872.6624, 1312.0562, 1011.6169,\n",
      "         513.8127, 1034.0896,  738.3630,  599.7375,  401.8954, 1334.2063,\n",
      "         848.5978, 1293.9453, 1230.3225,  815.2085, 1024.3628, 1119.6594,\n",
      "        1081.4965, 1150.6772,  835.8126, 1321.3933,  546.6996,  749.4989,\n",
      "         871.1025, 1019.3738])), ('r_hat', tensor([0.9995, 1.0001, 1.0019, 0.9995, 0.9998, 0.9999, 1.0005, 1.0044, 0.9998,\n",
      "        1.0029, 1.0004, 0.9993, 1.0013, 0.9998, 0.9996, 1.0007, 1.0034, 1.0020,\n",
      "        0.9995, 0.9994, 0.9994, 1.0015, 0.9996, 0.9994, 1.0005, 0.9997, 0.9994,\n",
      "        1.0015, 0.9993, 1.0017, 0.9996, 0.9993, 0.9994, 0.9994, 1.0010, 0.9996,\n",
      "        1.0100, 0.9994, 1.0006, 1.0001, 1.0011, 0.9996, 0.9996, 0.9995, 0.9994,\n",
      "        1.0016, 1.0009, 0.9993, 0.9997, 0.9994, 1.0005, 1.0001, 1.0003, 1.0006,\n",
      "        1.0005, 0.9994]))]), 'divergences': {'chain 0': [38, 39, 60, 198, 590, 1271, 1272, 1273, 1382, 1440, 1444, 1454, 1456, 1459, 1460]}, 'acceptance rate': {'chain 0': 0.988}}\n",
      "Registering the results in:  SX1/2023-11-19/n-6_k-4_m-4_sigma_w-0.01_sigma_p-1_n_samples-1500.yaml\n"
     ]
    },
    {
     "name": "stderr",
     "output_type": "stream",
     "text": [
      "Sample: 100%|████████████████████████████| 2000/2000 [00:29, 68.40it/s, step size=3.46e-01, acc. prob=0.888]\n"
     ]
    },
    {
     "name": "stdout",
     "output_type": "stream",
     "text": [
      "diag:  {'sigma': OrderedDict([('n_eff', tensor(1687.6973)), ('r_hat', tensor(0.9996))]), 'w': OrderedDict([('n_eff', tensor([2265.9426, 2471.6311, 2862.3787, 2659.1870, 2965.3376, 3529.6211,\n",
      "        2642.4941, 2374.2102, 2558.8452, 3192.2490, 2368.6252, 2706.4390,\n",
      "        2349.2515, 3093.7808, 2982.7180, 2718.5876, 2875.2883, 2966.0288,\n",
      "        3093.8506, 2791.1350, 2707.8853, 2888.3271, 2460.4062, 2561.4065,\n",
      "        2687.3091, 2500.1272, 2697.3342, 3001.9363, 3053.7385, 2273.2007,\n",
      "        2469.6868, 2642.0886, 2747.7446, 2457.0151, 2967.6826, 2757.0320,\n",
      "        2690.6423, 2677.9907, 3462.1921, 2386.6377, 2267.7708, 2822.1191,\n",
      "        2756.4070, 2597.2966, 3302.5879, 3240.7515, 2405.7839, 2682.9858,\n",
      "        2239.0366, 2319.5127, 3240.7083, 2817.4919, 2104.8171, 2305.2686,\n",
      "        2696.4722, 3448.3584])), ('r_hat', tensor([0.9997, 0.9994, 0.9999, 0.9999, 0.9997, 0.9995, 1.0016, 0.9996, 0.9993,\n",
      "        1.0017, 0.9994, 1.0007, 0.9998, 0.9994, 1.0003, 0.9993, 0.9994, 0.9993,\n",
      "        0.9995, 1.0002, 0.9995, 0.9993, 0.9993, 0.9996, 1.0010, 0.9995, 1.0010,\n",
      "        0.9997, 0.9998, 0.9994, 0.9994, 0.9995, 0.9993, 0.9995, 0.9994, 0.9993,\n",
      "        0.9993, 0.9993, 1.0000, 0.9998, 0.9995, 0.9993, 0.9996, 0.9995, 0.9999,\n",
      "        0.9994, 1.0004, 0.9993, 0.9994, 0.9993, 0.9994, 0.9993, 0.9995, 0.9999,\n",
      "        0.9994, 0.9995]))]), 'divergences': {'chain 0': [208, 209, 527, 528, 599, 631, 645, 658, 662, 681, 706, 717, 770, 771, 825, 1143, 1169, 1249, 1344, 1356, 1422]}, 'acceptance rate': {'chain 0': 0.9953333333333333}}\n",
      "Registering the results in:  SX1/2023-11-19/n-6_k-4_m-4_sigma_w-0.01_sigma_p-0.1_n_samples-1500.yaml\n"
     ]
    },
    {
     "name": "stderr",
     "output_type": "stream",
     "text": [
      "Sample: 100%|███████████████████████████| 2000/2000 [00:16, 119.94it/s, step size=4.74e-01, acc. prob=0.837]\n"
     ]
    },
    {
     "name": "stdout",
     "output_type": "stream",
     "text": [
      "diag:  {'sigma': OrderedDict([('n_eff', tensor(2164.5859)), ('r_hat', tensor(1.0016))]), 'w': OrderedDict([('n_eff', tensor([3246.2437, 2490.6602, 2877.5476, 3153.6416, 2263.3364, 2424.7864,\n",
      "        3209.4351, 2859.3547, 2466.1116, 1864.6219, 2489.7905, 2291.6101,\n",
      "        2603.0408, 3388.7935, 2628.0073, 1839.5360, 2737.3962, 3623.8550,\n",
      "        1832.0649, 2304.9880, 2199.2449, 2409.6011, 3130.8513, 2723.6294,\n",
      "        2465.8523, 2745.2937, 1984.7081, 2243.3276, 2659.0029, 2502.6287,\n",
      "        2949.5408, 1909.9701, 2478.2625, 2220.5239, 2819.9675, 2850.3149,\n",
      "        2657.4634, 3206.5066, 2260.0200, 3802.0029, 2655.5605, 2683.5793,\n",
      "        2209.0085, 2649.4106, 2509.4641, 2497.6948, 2287.2886, 1548.0564,\n",
      "        2205.1099, 2091.5178, 2319.6760, 1775.3698, 2220.2485, 1817.5483,\n",
      "        2023.6259, 2316.3601])), ('r_hat', tensor([1.0001, 0.9997, 0.9995, 1.0003, 0.9999, 1.0006, 0.9993, 0.9994, 0.9995,\n",
      "        0.9994, 1.0002, 0.9995, 0.9998, 0.9994, 0.9995, 0.9999, 0.9994, 0.9993,\n",
      "        1.0001, 0.9996, 0.9999, 0.9993, 0.9994, 0.9996, 0.9994, 0.9994, 0.9995,\n",
      "        1.0000, 1.0000, 1.0002, 0.9995, 0.9998, 1.0037, 0.9995, 0.9995, 0.9995,\n",
      "        0.9993, 0.9999, 0.9995, 0.9997, 0.9997, 0.9996, 1.0001, 0.9997, 0.9993,\n",
      "        0.9995, 0.9994, 1.0001, 0.9997, 1.0004, 0.9995, 0.9993, 0.9994, 0.9995,\n",
      "        0.9994, 0.9994]))]), 'divergences': {'chain 0': [286, 338, 541]}, 'acceptance rate': {'chain 0': 0.996}}\n",
      "Registering the results in:  SX1/2023-11-19/n-6_k-4_m-4_sigma_w-0.01_sigma_p-0.01_n_samples-1500.yaml\n"
     ]
    },
    {
     "name": "stderr",
     "output_type": "stream",
     "text": [
      "Sample: 100%|███████████████████████████| 2000/2000 [00:17, 112.85it/s, step size=4.21e-01, acc. prob=0.881]\n"
     ]
    },
    {
     "name": "stdout",
     "output_type": "stream",
     "text": [
      "diag:  {'sigma': OrderedDict([('n_eff', tensor(1602.8438)), ('r_hat', tensor(0.9996))]), 'w': OrderedDict([('n_eff', tensor([1802.1133, 2197.2556, 2236.7173, 1989.8833, 2357.1946, 2585.6709,\n",
      "        2174.1826, 1711.1863, 1467.8861, 2203.0603, 2020.5892, 1978.5504,\n",
      "        1817.3583, 2251.4573, 1847.5496, 1618.3618, 1666.1805, 2051.8657,\n",
      "        2053.3835, 1948.9143, 2585.8342, 1691.9899, 1832.3672, 1707.8177,\n",
      "        2221.6362, 2247.9153, 1922.3773, 1670.6488, 1757.1665, 2359.3735,\n",
      "        1330.8922, 1899.2441, 2009.3962, 1809.1793, 2385.8342, 1918.0076,\n",
      "        2447.8965, 1556.7354, 1843.5282, 1638.6779, 1571.8254, 2248.4827,\n",
      "        1561.3174, 2834.1597, 2182.1919, 1488.3566, 2992.4072, 1928.2513,\n",
      "        1643.4700, 1786.0503, 1699.8943, 1936.0734, 2175.1196, 1539.4410,\n",
      "        1603.5088, 1475.7402])), ('r_hat', tensor([0.9999, 1.0002, 0.9998, 1.0002, 0.9994, 1.0012, 1.0015, 0.9994, 0.9994,\n",
      "        0.9993, 0.9994, 1.0002, 0.9993, 0.9994, 0.9997, 1.0013, 0.9994, 0.9993,\n",
      "        1.0000, 0.9994, 1.0014, 1.0003, 0.9994, 1.0000, 0.9993, 1.0025, 0.9996,\n",
      "        1.0000, 0.9996, 0.9993, 0.9999, 1.0004, 0.9997, 1.0000, 0.9994, 1.0001,\n",
      "        0.9998, 0.9995, 0.9998, 0.9993, 0.9995, 1.0030, 0.9998, 0.9993, 1.0000,\n",
      "        1.0002, 1.0001, 1.0029, 1.0006, 1.0001, 0.9994, 0.9994, 1.0010, 0.9995,\n",
      "        0.9999, 0.9993]))]), 'divergences': {'chain 0': []}, 'acceptance rate': {'chain 0': 0.998}}\n",
      "Registering the results in:  SX1/2023-11-19/n-6_k-4_m-4_sigma_w-0.01_sigma_p-10.0_n_samples-1500.yaml\n"
     ]
    },
    {
     "name": "stderr",
     "output_type": "stream",
     "text": [
      "Sample: 100%|████████████████████████████| 2000/2000 [00:28, 71.32it/s, step size=3.56e-01, acc. prob=0.751]\n"
     ]
    },
    {
     "name": "stdout",
     "output_type": "stream",
     "text": [
      "diag:  {'sigma': OrderedDict([('n_eff', tensor(812.4630)), ('r_hat', tensor(1.0025))]), 'w': OrderedDict([('n_eff', tensor([2109.2456, 1043.3411,  688.5845, 1514.1989, 1292.4474, 1605.7770,\n",
      "        1331.4633, 1039.9272, 1545.1693,  972.6059, 1019.5470, 1787.8110,\n",
      "        1002.0283, 1663.9126,  844.5624, 1558.1744, 1436.3674, 1655.8777,\n",
      "        1681.9642, 1441.6921, 1491.3290, 1192.4937,  976.7792, 1024.4951,\n",
      "        1319.2290, 1289.7736, 1234.8020, 1539.0931, 1237.1257, 1395.1135,\n",
      "        1468.9462, 1060.2640, 1049.5985, 1675.2604, 1239.3402, 1478.6283,\n",
      "        1615.1469, 1741.4476, 1702.5765, 1363.1310, 1624.5557, 1525.3047,\n",
      "        1468.7750, 1828.9171, 1144.1844, 1443.9048,  933.7349,  982.2089,\n",
      "        1480.3495, 1208.3389, 1262.9153, 1233.0919, 1641.6964, 1495.0266,\n",
      "         758.5175, 1333.9601])), ('r_hat', tensor([1.0003, 1.0005, 0.9993, 0.9994, 0.9994, 0.9995, 1.0009, 1.0017, 0.9995,\n",
      "        1.0020, 1.0003, 0.9995, 0.9994, 0.9999, 1.0013, 0.9994, 1.0001, 1.0010,\n",
      "        1.0009, 0.9996, 0.9997, 0.9994, 0.9993, 0.9996, 1.0003, 0.9995, 1.0011,\n",
      "        0.9994, 0.9995, 1.0000, 0.9998, 1.0036, 0.9994, 0.9996, 0.9993, 1.0000,\n",
      "        1.0000, 1.0004, 1.0002, 0.9995, 1.0008, 1.0011, 1.0001, 0.9994, 1.0006,\n",
      "        0.9995, 1.0008, 1.0026, 1.0025, 0.9998, 1.0003, 0.9993, 0.9997, 0.9993,\n",
      "        0.9997, 0.9994]))]), 'divergences': {'chain 0': [70, 92, 93, 94, 124, 127, 131, 135, 136, 175, 205, 208, 255, 286, 298, 309, 310, 311, 313, 314, 315, 317, 318, 322, 323, 324, 325, 327, 328, 329, 330, 333, 335, 336, 337, 344, 347, 351, 352, 372, 385, 450, 453, 462, 520, 528, 529, 542, 543, 544, 558, 601, 650, 738, 766, 767, 793, 805, 825, 860, 879, 894, 915, 927, 963, 993, 1024, 1034, 1040, 1110, 1112, 1127, 1168, 1175, 1177, 1212, 1276, 1284, 1382, 1400, 1449, 1450, 1451, 1453, 1454, 1457]}, 'acceptance rate': {'chain 0': 0.9746666666666667}}\n",
      "Registering the results in:  SX1/2023-11-19/n-6_k-4_m-4_sigma_w-10.0_sigma_p-1_n_samples-1500.yaml\n"
     ]
    },
    {
     "name": "stderr",
     "output_type": "stream",
     "text": [
      "Sample: 100%|████████████████████████████| 2000/2000 [04:37,  7.20it/s, step size=4.19e-02, acc. prob=0.739]\n"
     ]
    },
    {
     "name": "stdout",
     "output_type": "stream",
     "text": [
      "diag:  {'sigma': OrderedDict([('n_eff', tensor(687.5173)), ('r_hat', tensor(1.0001))]), 'w': OrderedDict([('n_eff', tensor([ 872.5332,  999.1386,  436.9055, 1274.2744,  961.3243, 1198.0222,\n",
      "        1073.4337,  769.0624, 1132.2717, 1030.9457, 1015.5758, 1359.0686,\n",
      "        1061.9957,  664.2364,  812.3284,  793.4355,  625.9134, 1289.8418,\n",
      "        1291.3832, 1324.9363,  924.8857, 1044.8778, 1127.0945,  918.9831,\n",
      "         793.7043,  968.8951, 1037.3346, 1001.7308, 1140.4166,  846.8848,\n",
      "        1291.7045, 1016.0587, 1309.6711, 1252.8879,  872.5876, 1291.4380,\n",
      "        1369.6582, 1050.8491, 1582.8602, 1098.4244, 1178.5487,  974.0519,\n",
      "         990.9832, 1371.8724, 1165.7845,  821.5702,  841.0463,  738.7876,\n",
      "        1149.1252,  518.7178, 1241.1420, 1143.3484, 1214.1100,  968.5272,\n",
      "        1428.8464, 1303.9069])), ('r_hat', tensor([0.9999, 0.9998, 1.0017, 0.9997, 0.9997, 1.0000, 0.9997, 0.9993, 1.0005,\n",
      "        0.9999, 1.0007, 0.9996, 1.0022, 0.9997, 1.0018, 1.0001, 1.0012, 0.9995,\n",
      "        1.0021, 0.9993, 1.0002, 0.9994, 1.0008, 1.0007, 1.0024, 1.0012, 0.9994,\n",
      "        0.9994, 1.0019, 0.9996, 1.0006, 1.0001, 0.9999, 1.0011, 1.0056, 0.9993,\n",
      "        0.9994, 0.9995, 0.9994, 1.0000, 1.0013, 0.9993, 0.9994, 0.9997, 1.0015,\n",
      "        1.0024, 0.9997, 0.9993, 0.9993, 1.0010, 0.9995, 0.9994, 1.0022, 1.0009,\n",
      "        0.9996, 1.0006]))]), 'divergences': {'chain 0': [62, 108, 109, 110, 114, 116, 120, 161, 181, 196, 198, 199, 200, 201, 202, 205, 206, 207, 210, 212, 213, 216, 219, 223, 227, 228, 230, 233, 235, 254, 270, 302, 331, 334, 402, 527, 535, 539, 554, 555, 558, 590, 612, 676, 677, 727, 758, 761, 826, 833, 851, 878, 908, 917, 918, 921, 947, 1071, 1074, 1076, 1080, 1121, 1127, 1129, 1207, 1279, 1322]}, 'acceptance rate': {'chain 0': 0.9973333333333333}}\n",
      "Registering the results in:  SX1/2023-11-19/n-6_k-4_m-4_sigma_w-10.0_sigma_p-0.1_n_samples-1500.yaml\n"
     ]
    },
    {
     "name": "stderr",
     "output_type": "stream",
     "text": [
      "Sample: 100%|████████████████████████████| 2000/2000 [02:07, 15.74it/s, step size=6.59e-02, acc. prob=0.913]\n"
     ]
    },
    {
     "name": "stdout",
     "output_type": "stream",
     "text": [
      "diag:  {'sigma': OrderedDict([('n_eff', tensor(1058.4022)), ('r_hat', tensor(1.0012))]), 'w': OrderedDict([('n_eff', tensor([1627.9811, 2049.7725, 1798.4838, 1448.3447, 1428.0990, 2101.9941,\n",
      "        1115.3983, 1785.4146, 1359.7350, 1962.6178, 1597.1482, 1025.2661,\n",
      "        1924.8771, 1445.9493,  731.9635, 1861.6932, 1123.9797, 1875.8582,\n",
      "        1166.2909, 1858.6116, 1254.0111, 1708.8148, 1767.0431, 2400.4839,\n",
      "        1878.3976, 1221.9908, 1761.3939, 1476.4940, 1790.0144, 1944.7727,\n",
      "        1499.3621, 1481.0767, 1460.7917,  788.0765, 1755.3640, 2314.8777,\n",
      "         741.5336, 1747.2704, 1878.1979, 1734.7889, 1579.8506, 2312.5452,\n",
      "        1823.7321, 1113.4967, 1961.4065, 1328.8647, 1526.3594, 2064.9868,\n",
      "        2324.1843, 1035.9578, 1825.8054, 1695.9824, 1595.8138, 2097.2048,\n",
      "        1651.7245, 1960.4165])), ('r_hat', tensor([0.9994, 0.9994, 0.9993, 0.9994, 0.9998, 0.9996, 1.0003, 0.9995, 0.9996,\n",
      "        0.9994, 1.0006, 1.0031, 0.9999, 0.9997, 0.9997, 0.9998, 1.0010, 1.0003,\n",
      "        1.0010, 0.9999, 0.9993, 1.0003, 0.9993, 0.9995, 1.0007, 0.9995, 0.9997,\n",
      "        1.0047, 0.9993, 0.9994, 0.9995, 0.9996, 0.9994, 1.0003, 0.9995, 0.9994,\n",
      "        0.9993, 0.9997, 1.0002, 0.9998, 1.0014, 0.9998, 1.0016, 1.0023, 0.9994,\n",
      "        0.9995, 0.9994, 0.9995, 0.9995, 1.0013, 0.9994, 0.9998, 1.0003, 1.0003,\n",
      "        0.9997, 0.9994]))]), 'divergences': {'chain 0': [147, 462, 622, 624, 637, 756, 757, 758, 761, 764, 768, 772, 781, 782, 783, 785, 786, 787, 959, 1066, 1205, 1208, 1330, 1375]}, 'acceptance rate': {'chain 0': 0.998}}\n",
      "Registering the results in:  SX1/2023-11-19/n-6_k-4_m-4_sigma_w-10.0_sigma_p-0.01_n_samples-1500.yaml\n"
     ]
    },
    {
     "name": "stderr",
     "output_type": "stream",
     "text": [
      "Sample: 100%|████████████████████████████| 2000/2000 [00:36, 54.30it/s, step size=2.91e-01, acc. prob=0.861]\n"
     ]
    },
    {
     "name": "stdout",
     "output_type": "stream",
     "text": [
      "diag:  {'sigma': OrderedDict([('n_eff', tensor(1222.9727)), ('r_hat', tensor(0.9994))]), 'w': OrderedDict([('n_eff', tensor([2055.4500, 1421.3820, 2181.0903, 2004.2560, 2309.6599, 1740.7544,\n",
      "        2458.6023, 2240.4153, 1957.8640, 1591.6665, 1321.0873, 2084.2085,\n",
      "        2192.0796, 1880.7914, 1831.6112, 2296.5562, 1941.8793, 2270.7942,\n",
      "        1781.2495, 2596.7485, 2055.8718, 1718.9907, 2124.0076, 2067.9880,\n",
      "        2157.8862, 2262.9395, 1963.3279, 2423.9951, 1750.8676, 1552.5100,\n",
      "        1832.2444, 2738.8416, 2299.0815, 1661.4124, 1710.3000, 2822.4602,\n",
      "        2247.0078, 1742.9968, 2401.2495, 2395.4351, 2899.6235, 2478.0776,\n",
      "        2899.2761, 2367.3169, 2113.6189, 1490.5759, 2124.6218, 2692.8757,\n",
      "        2473.3010, 1821.1829, 2430.9199, 1529.4600, 2006.0950, 2706.2869,\n",
      "        1668.7286, 2295.5991])), ('r_hat', tensor([0.9994, 1.0012, 0.9995, 0.9994, 1.0008, 1.0011, 0.9993, 0.9994, 0.9993,\n",
      "        0.9997, 1.0013, 1.0009, 0.9998, 0.9993, 1.0020, 0.9995, 1.0005, 0.9993,\n",
      "        0.9994, 0.9993, 0.9994, 0.9993, 0.9994, 1.0000, 0.9996, 0.9993, 1.0001,\n",
      "        0.9994, 0.9993, 0.9996, 0.9999, 0.9994, 0.9997, 1.0012, 0.9994, 0.9994,\n",
      "        0.9998, 1.0018, 0.9996, 0.9994, 0.9995, 0.9998, 0.9994, 0.9995, 1.0008,\n",
      "        0.9994, 0.9994, 1.0000, 1.0004, 0.9994, 0.9994, 0.9997, 1.0001, 0.9994,\n",
      "        0.9993, 0.9993]))]), 'divergences': {'chain 0': [10, 172, 188, 189, 191, 192, 252, 254, 391, 469, 513, 549, 619, 620, 622, 652, 654, 665, 701, 717, 742, 746, 786, 852, 907, 926, 960, 982, 984, 1154, 1205, 1215, 1217, 1219, 1222, 1225, 1247, 1254, 1264, 1306, 1407, 1437, 1453, 1469, 1470]}, 'acceptance rate': {'chain 0': 0.9886666666666667}}\n",
      "Registering the results in:  SX1/2023-11-19/n-6_k-4_m-4_sigma_w-10.0_sigma_p-10.0_n_samples-1500.yaml\n"
     ]
    },
    {
     "name": "stderr",
     "output_type": "stream",
     "text": [
      "Sample: 100%|████████████████████████████| 2000/2000 [35:11,  1.06s/it, step size=2.38e-03, acc. prob=0.865]\n"
     ]
    },
    {
     "name": "stdout",
     "output_type": "stream",
     "text": [
      "diag:  {'sigma': OrderedDict([('n_eff', tensor(464.9058)), ('r_hat', tensor(1.0012))]), 'w': OrderedDict([('n_eff', tensor([423.7586, 315.0069, 557.5100, 391.7920, 407.6879, 395.4637, 289.9086,\n",
      "        298.2106, 138.1361, 498.9693, 380.3246, 654.1674, 425.0714, 372.4022,\n",
      "        170.8709, 389.5432, 508.5146, 442.6149, 387.0031, 415.4958, 380.7430,\n",
      "        331.4785, 436.9012, 627.5981, 355.0533, 513.4450, 463.3128, 270.8759,\n",
      "        328.5311, 529.3998, 384.9883, 418.6906, 452.6836, 195.3585, 595.9553,\n",
      "        443.1382, 294.2961, 432.2240, 397.2094, 264.1934, 399.0377, 679.5891,\n",
      "        355.5675, 373.0557, 474.2702, 305.1247, 559.9952, 608.9763, 327.2871,\n",
      "        486.9665, 225.5236, 445.0488, 370.5279, 399.5406, 495.6878, 422.6282])), ('r_hat', tensor([0.9994, 0.9994, 1.0012, 0.9995, 0.9998, 0.9998, 1.0126, 1.0048, 1.0027,\n",
      "        0.9994, 1.0016, 1.0061, 0.9995, 1.0035, 1.0012, 1.0005, 0.9994, 0.9999,\n",
      "        0.9996, 1.0012, 1.0034, 1.0008, 0.9998, 1.0015, 1.0012, 0.9997, 1.0009,\n",
      "        1.0037, 1.0005, 1.0019, 1.0005, 1.0001, 1.0002, 1.0040, 1.0011, 1.0074,\n",
      "        0.9994, 0.9998, 1.0006, 1.0008, 1.0095, 1.0003, 1.0161, 0.9993, 0.9994,\n",
      "        1.0000, 1.0032, 0.9993, 1.0042, 0.9994, 0.9994, 1.0056, 0.9993, 1.0003,\n",
      "        1.0009, 0.9994]))]), 'divergences': {'chain 0': [46, 47, 48, 49, 94, 95, 96, 98, 99, 101, 102, 104, 109, 113, 114, 118, 120, 121, 122, 127, 172, 299, 308, 309, 310, 311, 316, 317, 320, 321, 322, 323, 325, 327, 328, 371, 379, 390, 404, 424, 427, 544, 595, 760, 835, 874, 881, 888, 965, 1211, 1220, 1402, 1405, 1410, 1412, 1421, 1497]}, 'acceptance rate': {'chain 0': 1.0}}\n",
      "Registering the results in:  SX1/2023-11-19/n-6_k-1_m-8_sigma_w-1_sigma_p-1_n_samples-1500.yaml\n"
     ]
    },
    {
     "name": "stderr",
     "output_type": "stream",
     "text": [
      "Sample: 100%|████████████████████████████| 2000/2000 [01:03, 31.30it/s, step size=1.09e-01, acc. prob=0.744]\n"
     ]
    },
    {
     "name": "stdout",
     "output_type": "stream",
     "text": [
      "diag:  {'sigma': OrderedDict([('n_eff', tensor(341.2577)), ('r_hat', tensor(0.9996))]), 'w': OrderedDict([('n_eff', tensor([212.0471, 321.5832, 331.5481, 235.8937, 124.4089, 105.2050])), ('r_hat', tensor([0.9999, 1.0030, 1.0008, 1.0066, 1.0219, 1.0140]))]), 'divergences': {'chain 0': [12, 41, 388, 389, 390, 412, 416, 417, 419, 421, 422, 426, 427, 429, 430, 433, 436, 437, 445, 450, 452, 453, 458, 460, 801, 820, 823, 853, 923, 1013, 1025, 1077, 1120, 1143, 1145, 1148, 1149, 1151, 1153, 1156, 1157, 1158, 1159, 1199, 1221, 1304, 1307, 1308, 1309, 1477]}, 'acceptance rate': {'chain 0': 0.9266666666666666}}\n",
      "Registering the results in:  SX1/2023-11-19/n-6_k-1_m-8_sigma_w-1_sigma_p-0.1_n_samples-1500.yaml\n"
     ]
    },
    {
     "name": "stderr",
     "output_type": "stream",
     "text": [
      "Sample: 100%|████████████████████████████| 2000/2000 [00:33, 59.36it/s, step size=1.98e-01, acc. prob=0.709]\n"
     ]
    },
    {
     "name": "stdout",
     "output_type": "stream",
     "text": [
      "diag:  {'sigma': OrderedDict([('n_eff', tensor(117.8735)), ('r_hat', tensor(1.0171))]), 'w': OrderedDict([('n_eff', tensor([258.0511, 514.2433, 158.1816, 108.4950, 242.9788, 449.1364])), ('r_hat', tensor([0.9994, 1.0007, 1.0159, 1.0190, 0.9996, 0.9994]))]), 'divergences': {'chain 0': [26, 55, 113, 165, 167, 169, 172, 183, 187, 188, 190, 191, 196, 200, 201, 202, 205, 207, 209, 213, 214, 220, 225, 226, 231, 232, 233, 237, 241, 243, 244, 247, 249, 250, 253, 257, 261, 262, 263, 274, 276, 277, 279, 286, 289, 290, 291, 296, 298, 478, 677, 850, 852, 856, 857, 859, 862, 863, 944, 1056, 1058, 1060, 1061, 1064, 1069, 1070, 1081, 1171, 1172, 1209, 1222, 1349, 1452, 1454, 1469]}, 'acceptance rate': {'chain 0': 0.9073333333333333}}\n",
      "Registering the results in:  SX1/2023-11-19/n-6_k-1_m-8_sigma_w-1_sigma_p-0.01_n_samples-1500.yaml\n"
     ]
    },
    {
     "name": "stderr",
     "output_type": "stream",
     "text": [
      "Sample: 100%|████████████████████████████| 2000/2000 [00:29, 68.85it/s, step size=2.47e-01, acc. prob=0.719]\n"
     ]
    },
    {
     "name": "stdout",
     "output_type": "stream",
     "text": [
      "diag:  {'sigma': OrderedDict([('n_eff', tensor(1357.4509)), ('r_hat', tensor(1.0004))]), 'w': OrderedDict([('n_eff', tensor([503.5428, 545.1420, 494.0257, 607.6500, 538.0562, 523.6327])), ('r_hat', tensor([1.0000, 0.9993, 0.9994, 0.9997, 0.9994, 0.9993]))]), 'divergences': {'chain 0': [164, 323, 392, 407, 458, 522, 524, 526, 567, 573, 580, 583, 587, 590, 615, 658, 749, 806, 826, 873, 944, 1000, 1070, 1295]}, 'acceptance rate': {'chain 0': 0.9253333333333333}}\n",
      "Registering the results in:  SX1/2023-11-19/n-6_k-1_m-8_sigma_w-1_sigma_p-10.0_n_samples-1500.yaml\n"
     ]
    },
    {
     "name": "stderr",
     "output_type": "stream",
     "text": [
      "Sample: 100%|████████████████████████████| 2000/2000 [01:02, 31.85it/s, step size=9.50e-02, acc. prob=0.688]\n"
     ]
    },
    {
     "name": "stdout",
     "output_type": "stream",
     "text": [
      "diag:  {'sigma': OrderedDict([('n_eff', tensor(148.3447)), ('r_hat', tensor(1.0003))]), 'w': OrderedDict([('n_eff', tensor([162.4475,  69.0943,  66.8670, 182.9865, 219.3163, 180.5682])), ('r_hat', tensor([1.0212, 1.0243, 1.0418, 1.0112, 1.0006, 1.0005]))]), 'divergences': {'chain 0': [329, 343, 346, 347, 348, 349, 351, 360, 368, 376, 381, 567, 570, 572, 765, 797, 800, 813, 821, 824, 825, 829, 944, 1054, 1070, 1073, 1107]}, 'acceptance rate': {'chain 0': 0.9266666666666666}}\n",
      "Registering the results in:  SX1/2023-11-19/n-6_k-1_m-8_sigma_w-0.1_sigma_p-1_n_samples-1500.yaml\n"
     ]
    },
    {
     "name": "stderr",
     "output_type": "stream",
     "text": [
      "Sample: 100%|████████████████████████████| 2000/2000 [00:44, 45.21it/s, step size=1.55e-01, acc. prob=0.857]\n"
     ]
    },
    {
     "name": "stdout",
     "output_type": "stream",
     "text": [
      "diag:  {'sigma': OrderedDict([('n_eff', tensor(361.6099)), ('r_hat', tensor(1.0058))]), 'w': OrderedDict([('n_eff', tensor([710.3209, 437.9518, 367.9937, 339.9963, 389.5467, 650.4800])), ('r_hat', tensor([0.9993, 1.0061, 0.9999, 0.9997, 1.0024, 0.9997]))]), 'divergences': {'chain 0': [20, 141, 159, 331, 334, 400, 442, 499, 505, 512, 513, 516, 517, 519, 520, 680, 713, 756, 941, 947, 951, 1104]}, 'acceptance rate': {'chain 0': 0.9726666666666667}}\n",
      "Registering the results in:  SX1/2023-11-19/n-6_k-1_m-8_sigma_w-0.1_sigma_p-0.1_n_samples-1500.yaml\n"
     ]
    },
    {
     "name": "stderr",
     "output_type": "stream",
     "text": [
      "Sample: 100%|████████████████████████████| 2000/2000 [00:27, 73.78it/s, step size=2.49e-01, acc. prob=0.831]\n"
     ]
    },
    {
     "name": "stdout",
     "output_type": "stream",
     "text": [
      "diag:  {'sigma': OrderedDict([('n_eff', tensor(340.4072)), ('r_hat', tensor(1.0008))]), 'w': OrderedDict([('n_eff', tensor([704.7101, 607.4388, 404.4829, 444.0568, 726.2351, 573.9855])), ('r_hat', tensor([1.0009, 1.0032, 0.9994, 1.0019, 1.0046, 1.0018]))]), 'divergences': {'chain 0': [222, 322, 710, 1176]}, 'acceptance rate': {'chain 0': 0.9586666666666667}}\n",
      "Registering the results in:  SX1/2023-11-19/n-6_k-1_m-8_sigma_w-0.1_sigma_p-0.01_n_samples-1500.yaml\n"
     ]
    },
    {
     "name": "stderr",
     "output_type": "stream",
     "text": [
      "Sample: 100%|████████████████████████████| 2000/2000 [00:30, 64.81it/s, step size=2.18e-01, acc. prob=0.778]\n"
     ]
    },
    {
     "name": "stdout",
     "output_type": "stream",
     "text": [
      "diag:  {'sigma': OrderedDict([('n_eff', tensor(371.9467)), ('r_hat', tensor(1.0059))]), 'w': OrderedDict([('n_eff', tensor([318.8694, 474.8571, 533.7997, 275.8535, 416.9610, 291.4967])), ('r_hat', tensor([0.9995, 1.0005, 0.9996, 0.9994, 1.0038, 1.0007]))]), 'divergences': {'chain 0': [45, 196, 215, 318, 319, 740, 744, 758, 778, 1146, 1268, 1301, 1362]}, 'acceptance rate': {'chain 0': 0.9493333333333334}}\n",
      "Registering the results in:  SX1/2023-11-19/n-6_k-1_m-8_sigma_w-0.1_sigma_p-10.0_n_samples-1500.yaml\n"
     ]
    },
    {
     "name": "stderr",
     "output_type": "stream",
     "text": [
      "Sample: 100%|████████████████████████████| 2000/2000 [00:48, 40.87it/s, step size=1.40e-01, acc. prob=0.827]\n"
     ]
    },
    {
     "name": "stdout",
     "output_type": "stream",
     "text": [
      "diag:  {'sigma': OrderedDict([('n_eff', tensor(423.5881)), ('r_hat', tensor(1.0027))]), 'w': OrderedDict([('n_eff', tensor([643.0414, 427.6992, 575.1659, 473.7406, 600.7811, 627.5172])), ('r_hat', tensor([0.9993, 1.0008, 0.9994, 1.0001, 0.9994, 0.9995]))]), 'divergences': {'chain 0': [21, 54, 219, 603, 619, 630, 655, 719, 1119, 1136, 1234, 1488]}, 'acceptance rate': {'chain 0': 0.9753333333333334}}\n",
      "Registering the results in:  SX1/2023-11-19/n-6_k-1_m-8_sigma_w-0.01_sigma_p-1_n_samples-1500.yaml\n"
     ]
    },
    {
     "name": "stderr",
     "output_type": "stream",
     "text": [
      "Sample: 100%|████████████████████████████| 2000/2000 [00:30, 65.40it/s, step size=2.39e-01, acc. prob=0.760]\n"
     ]
    },
    {
     "name": "stdout",
     "output_type": "stream",
     "text": [
      "diag:  {'sigma': OrderedDict([('n_eff', tensor(379.0295)), ('r_hat', tensor(1.0077))]), 'w': OrderedDict([('n_eff', tensor([367.8262, 597.7004, 480.8156, 836.5424, 422.8996, 622.3764])), ('r_hat', tensor([1.0114, 1.0005, 0.9996, 0.9996, 1.0037, 1.0037]))]), 'divergences': {'chain 0': [208, 515, 867, 919, 1013, 1014, 1020, 1021, 1052, 1340, 1400, 1405]}, 'acceptance rate': {'chain 0': 0.9406666666666667}}\n",
      "Registering the results in:  SX1/2023-11-19/n-6_k-1_m-8_sigma_w-0.01_sigma_p-0.1_n_samples-1500.yaml\n"
     ]
    },
    {
     "name": "stderr",
     "output_type": "stream",
     "text": [
      "Sample: 100%|████████████████████████████| 2000/2000 [00:46, 42.62it/s, step size=1.34e-01, acc. prob=0.891]\n"
     ]
    },
    {
     "name": "stdout",
     "output_type": "stream",
     "text": [
      "diag:  {'sigma': OrderedDict([('n_eff', tensor(33.2526)), ('r_hat', tensor(1.0490))]), 'w': OrderedDict([('n_eff', tensor([ 693.3324, 1180.7025,   44.4491,  325.6851,   22.9560,  813.4816])), ('r_hat', tensor([1.0001, 1.0006, 1.0327, 0.9995, 1.0452, 0.9997]))]), 'divergences': {'chain 0': [283, 288, 292, 371, 463, 492, 592, 595, 598, 604, 615, 985, 1030, 1193]}, 'acceptance rate': {'chain 0': 0.9626666666666667}}\n",
      "Registering the results in:  SX1/2023-11-19/n-6_k-1_m-8_sigma_w-0.01_sigma_p-0.01_n_samples-1500.yaml\n"
     ]
    },
    {
     "name": "stderr",
     "output_type": "stream",
     "text": [
      "Sample: 100%|███████████████████████████| 2000/2000 [00:16, 118.12it/s, step size=5.57e-01, acc. prob=0.705]\n"
     ]
    },
    {
     "name": "stdout",
     "output_type": "stream",
     "text": [
      "diag:  {'sigma': OrderedDict([('n_eff', tensor(20.6712)), ('r_hat', tensor(1.0695))]), 'w': OrderedDict([('n_eff', tensor([ 257.8821,  175.3550,  231.4417, 1153.2793,   16.5968,   11.4289])), ('r_hat', tensor([1.0052, 1.0137, 1.0135, 1.0021, 1.1043, 1.1382]))]), 'divergences': {'chain 0': [19, 1140, 1158, 1163, 1164, 1165, 1167, 1172, 1176, 1177, 1182, 1185, 1186, 1187, 1188, 1189, 1193, 1197, 1200, 1201, 1203, 1206, 1213, 1217, 1220, 1221, 1222, 1224, 1225, 1226, 1233, 1240, 1243, 1245, 1246, 1252, 1256, 1260, 1264, 1270, 1272, 1273, 1278, 1290, 1297, 1298, 1300, 1301, 1303, 1304, 1305, 1307, 1309, 1318, 1319, 1335, 1340, 1352, 1353, 1359, 1368, 1370, 1382, 1394, 1401, 1407, 1410, 1411, 1414, 1415, 1417, 1421, 1428, 1431, 1437, 1441, 1450, 1452, 1454, 1455, 1459, 1463, 1473, 1474, 1475, 1478, 1479, 1481, 1482, 1483, 1484, 1487, 1488, 1489, 1494, 1495, 1498]}, 'acceptance rate': {'chain 0': 0.7973333333333333}}\n",
      "Registering the results in:  SX1/2023-11-19/n-6_k-1_m-8_sigma_w-0.01_sigma_p-10.0_n_samples-1500.yaml\n"
     ]
    },
    {
     "name": "stderr",
     "output_type": "stream",
     "text": [
      "Sample: 100%|████████████████████████████| 2000/2000 [00:53, 37.62it/s, step size=1.05e-01, acc. prob=0.723]\n"
     ]
    },
    {
     "name": "stdout",
     "output_type": "stream",
     "text": [
      "diag:  {'sigma': OrderedDict([('n_eff', tensor(270.6286)), ('r_hat', tensor(1.0008))]), 'w': OrderedDict([('n_eff', tensor([155.8383, 241.0078, 141.9051, 229.6852, 528.6819, 186.6697])), ('r_hat', tensor([1.0038, 1.0017, 1.0086, 1.0000, 0.9996, 1.0100]))]), 'divergences': {'chain 0': [58, 94, 265, 266, 268, 275, 282, 285, 286, 287, 292, 294, 301, 302, 303, 306, 318, 322, 323, 325, 337, 339, 377, 409, 413, 451, 453, 454, 460, 465, 469, 471, 476, 477, 507, 733, 880, 925, 1066, 1409]}, 'acceptance rate': {'chain 0': 0.906}}\n",
      "Registering the results in:  SX1/2023-11-19/n-6_k-1_m-8_sigma_w-10.0_sigma_p-1_n_samples-1500.yaml\n"
     ]
    },
    {
     "name": "stderr",
     "output_type": "stream",
     "text": [
      "Sample: 100%|████████████████████████████| 2000/2000 [02:04, 16.06it/s, step size=5.46e-02, acc. prob=0.765]\n"
     ]
    },
    {
     "name": "stdout",
     "output_type": "stream",
     "text": [
      "diag:  {'sigma': OrderedDict([('n_eff', tensor(53.0560)), ('r_hat', tensor(1.0022))]), 'w': OrderedDict([('n_eff', tensor([311.3781, 121.7274, 122.5311, 200.6996, 156.8197, 304.7986])), ('r_hat', tensor([1.0087, 1.0367, 1.0305, 1.0144, 1.0006, 0.9993]))]), 'divergences': {'chain 0': [45, 60, 64, 202, 225, 248, 308, 311, 422, 452, 634, 636, 639, 640, 642, 646, 650, 652, 653, 654, 656, 661, 662, 663, 664, 666, 670, 673, 674, 675, 677, 678, 680, 681, 682, 684, 686, 688, 689, 690, 693, 694, 696, 700, 701, 703, 704, 706, 708, 710, 712, 715, 718, 720, 723, 726, 727, 729, 730, 732, 735, 738, 739, 741, 745, 746, 750, 751, 753, 754, 755, 757, 758, 760, 761, 763, 765, 766, 767, 769, 770, 774, 776, 777, 779, 780, 781, 782, 783, 784, 785, 787, 789, 790, 791, 794, 795, 796, 797, 798, 799, 800, 801, 802, 804, 805, 808, 809, 810, 812, 818, 820, 822, 824, 827, 828, 829, 830, 832, 833, 836, 837, 838, 839, 841, 842, 843, 844, 845, 849, 850, 851, 852, 853, 855, 859, 860, 861, 862, 864, 866, 867, 868, 869, 870, 871, 873, 874, 875, 878, 882, 889, 890, 891, 893, 894, 896, 900, 901, 906, 910, 925, 929, 1057, 1080, 1102, 1253, 1263, 1264, 1270, 1273, 1276, 1277]}, 'acceptance rate': {'chain 0': 0.9833333333333333}}\n",
      "Registering the results in:  SX1/2023-11-19/n-6_k-1_m-8_sigma_w-10.0_sigma_p-0.1_n_samples-1500.yaml\n"
     ]
    },
    {
     "name": "stderr",
     "output_type": "stream",
     "text": [
      "Sample: 100%|████████████████████████████| 2000/2000 [01:20, 24.77it/s, step size=7.13e-02, acc. prob=0.871]\n"
     ]
    },
    {
     "name": "stdout",
     "output_type": "stream",
     "text": [
      "diag:  {'sigma': OrderedDict([('n_eff', tensor(204.2307)), ('r_hat', tensor(1.0141))]), 'w': OrderedDict([('n_eff', tensor([295.6795, 381.3247, 444.5165, 621.3754, 269.5065, 579.8845])), ('r_hat', tensor([1.0011, 0.9995, 0.9994, 0.9994, 1.0064, 1.0021]))]), 'divergences': {'chain 0': [54, 57, 59, 62, 66, 71, 72, 75, 76, 78, 79, 120, 202, 217, 318, 416, 1046, 1230, 1333, 1465]}, 'acceptance rate': {'chain 0': 0.9913333333333333}}\n",
      "Registering the results in:  SX1/2023-11-19/n-6_k-1_m-8_sigma_w-10.0_sigma_p-0.01_n_samples-1500.yaml\n"
     ]
    },
    {
     "name": "stderr",
     "output_type": "stream",
     "text": [
      "Sample: 100%|████████████████████████████| 2000/2000 [00:36, 55.25it/s, step size=1.92e-01, acc. prob=0.877]\n"
     ]
    },
    {
     "name": "stdout",
     "output_type": "stream",
     "text": [
      "diag:  {'sigma': OrderedDict([('n_eff', tensor(436.9183)), ('r_hat', tensor(1.0010))]), 'w': OrderedDict([('n_eff', tensor([552.5193, 570.5137, 505.1243, 396.8236, 475.3658, 687.7919])), ('r_hat', tensor([1.0001, 1.0050, 1.0083, 1.0020, 0.9993, 1.0061]))]), 'divergences': {'chain 0': [42, 122, 355, 587, 775, 1010, 1360, 1363, 1365, 1370, 1371, 1374, 1375, 1377, 1378, 1385, 1387, 1390, 1393, 1478]}, 'acceptance rate': {'chain 0': 0.972}}\n",
      "Registering the results in:  SX1/2023-11-19/n-6_k-1_m-8_sigma_w-10.0_sigma_p-10.0_n_samples-1500.yaml\n"
     ]
    },
    {
     "name": "stderr",
     "output_type": "stream",
     "text": [
      "Sample: 100%|████████████████████████████| 2000/2000 [02:36, 12.80it/s, step size=3.47e-02, acc. prob=0.751]\n"
     ]
    },
    {
     "name": "stdout",
     "output_type": "stream",
     "text": [
      "diag:  {'sigma': OrderedDict([('n_eff', tensor(274.5824)), ('r_hat', tensor(1.0024))]), 'w': OrderedDict([('n_eff', tensor([200.4315, 137.2355, 175.3964,  73.4008, 190.6328, 123.6138])), ('r_hat', tensor([1.0054, 1.0058, 1.0095, 1.0470, 0.9995, 1.0006]))]), 'divergences': {'chain 0': [21, 28, 57, 63, 66, 67, 75, 81, 83, 84, 87, 88, 90, 91, 94, 97, 99, 103, 105, 107, 109, 128, 129, 133, 135, 136, 138, 139, 140, 142, 156, 173, 192, 199, 205, 206, 216, 228, 239, 257, 262, 321, 339, 354, 356, 380, 388, 389, 410, 455, 457, 462, 463, 473, 493, 494, 576, 587, 604, 662, 704, 721, 735, 750, 793, 802, 899, 914, 920, 923, 949, 963, 969, 976, 998, 1002, 1003, 1004, 1006, 1007, 1010, 1011, 1012, 1016, 1028, 1029, 1032, 1033, 1036, 1037, 1038, 1044, 1045, 1062, 1067, 1142, 1167, 1192, 1214, 1221, 1295, 1320, 1322, 1324, 1328, 1348, 1349, 1352, 1404, 1405, 1406, 1408, 1409, 1412, 1414, 1415, 1417, 1418, 1420, 1421, 1424, 1425, 1426, 1427, 1447, 1468, 1497]}, 'acceptance rate': {'chain 0': 0.9893333333333333}}\n",
      "Registering the results in:  SX1/2023-11-19/n-6_k-2_m-8_sigma_w-1_sigma_p-1_n_samples-1500.yaml\n"
     ]
    },
    {
     "name": "stderr",
     "output_type": "stream",
     "text": [
      "Sample: 100%|████████████████████████████| 2000/2000 [03:15, 10.24it/s, step size=4.38e-02, acc. prob=0.914]\n"
     ]
    },
    {
     "name": "stdout",
     "output_type": "stream",
     "text": [
      "diag:  {'sigma': OrderedDict([('n_eff', tensor(670.2297)), ('r_hat', tensor(0.9998))]), 'w': OrderedDict([('n_eff', tensor([1406.4766, 1340.9368, 1764.7009, 1373.8130, 1141.6572, 1293.1333,\n",
      "        1374.3274, 1367.1815, 1728.1566, 2014.3309, 1193.2760, 1460.7704,\n",
      "        1662.4915, 1416.3121, 1255.7488, 1579.2728, 1396.0631, 1296.4644,\n",
      "        1904.1844, 1191.7415, 1694.4508])), ('r_hat', tensor([0.9995, 0.9993, 0.9994, 0.9994, 0.9994, 0.9995, 0.9995, 0.9994, 0.9993,\n",
      "        0.9993, 1.0005, 0.9995, 0.9995, 0.9994, 0.9994, 0.9994, 1.0000, 0.9995,\n",
      "        0.9994, 0.9996, 0.9995]))]), 'divergences': {'chain 0': [138, 278, 473, 733, 934, 1120, 1258, 1266, 1381, 1427, 1469]}, 'acceptance rate': {'chain 0': 0.9993333333333333}}\n",
      "Registering the results in:  SX1/2023-11-19/n-6_k-2_m-8_sigma_w-1_sigma_p-0.1_n_samples-1500.yaml\n"
     ]
    },
    {
     "name": "stderr",
     "output_type": "stream",
     "text": [
      "Sample: 100%|████████████████████████████| 2000/2000 [02:29, 13.39it/s, step size=5.34e-02, acc. prob=0.871]\n"
     ]
    },
    {
     "name": "stdout",
     "output_type": "stream",
     "text": [
      "diag:  {'sigma': OrderedDict([('n_eff', tensor(413.7510)), ('r_hat', tensor(1.0000))]), 'w': OrderedDict([('n_eff', tensor([ 459.8722,  722.8607,  423.5344,  929.4269,  869.1979,  295.0519,\n",
      "         222.4726,  881.3626,  836.9453,  887.4581, 1080.2163,  734.9755,\n",
      "         954.0668,  783.2742,  729.9393, 1288.0133, 1082.3323, 1265.7493,\n",
      "        1223.2506,  632.9524,  651.9683])), ('r_hat', tensor([0.9994, 1.0048, 1.0102, 0.9995, 0.9997, 1.0041, 0.9995, 1.0014, 1.0033,\n",
      "        0.9994, 1.0001, 1.0026, 0.9994, 1.0014, 0.9993, 1.0031, 1.0005, 0.9998,\n",
      "        0.9993, 0.9998, 1.0003]))]), 'divergences': {'chain 0': [19, 639, 649, 658, 664, 665, 669]}, 'acceptance rate': {'chain 0': 0.9846666666666667}}\n",
      "Registering the results in:  SX1/2023-11-19/n-6_k-2_m-8_sigma_w-1_sigma_p-0.01_n_samples-1500.yaml\n"
     ]
    },
    {
     "name": "stderr",
     "output_type": "stream",
     "text": [
      "Sample: 100%|████████████████████████████| 2000/2000 [01:03, 31.48it/s, step size=1.75e-01, acc. prob=0.779]\n"
     ]
    },
    {
     "name": "stdout",
     "output_type": "stream",
     "text": [
      "diag:  {'sigma': OrderedDict([('n_eff', tensor(436.0436)), ('r_hat', tensor(1.0001))]), 'w': OrderedDict([('n_eff', tensor([1408.0381, 1388.2133,  839.5536, 1112.6398, 1123.1980, 1062.3239,\n",
      "        1271.1145, 1141.1655, 1452.1326, 1142.8896, 1510.1890, 1227.0854,\n",
      "        1125.6337,  861.2945, 1269.0865, 1463.7419, 1491.6367, 1204.1205,\n",
      "        1126.9626, 1080.1412, 1336.3026])), ('r_hat', tensor([1.0025, 1.0005, 1.0000, 1.0005, 0.9993, 0.9995, 0.9999, 0.9998, 1.0002,\n",
      "        0.9993, 1.0008, 0.9995, 0.9993, 0.9998, 1.0000, 0.9996, 0.9999, 0.9994,\n",
      "        0.9997, 0.9994, 0.9994]))]), 'divergences': {'chain 0': [29, 34, 251, 488, 494, 666, 904, 947, 951, 1215, 1283, 1440, 1479, 1495]}, 'acceptance rate': {'chain 0': 0.9693333333333334}}\n",
      "Registering the results in:  SX1/2023-11-19/n-6_k-2_m-8_sigma_w-1_sigma_p-10.0_n_samples-1500.yaml\n"
     ]
    },
    {
     "name": "stderr",
     "output_type": "stream",
     "text": [
      "Sample: 100%|████████████████████████████| 2000/2000 [04:45,  6.99it/s, step size=3.48e-02, acc. prob=0.673]\n"
     ]
    },
    {
     "name": "stdout",
     "output_type": "stream",
     "text": [
      "diag:  {'sigma': OrderedDict([('n_eff', tensor(380.8264)), ('r_hat', tensor(1.0037))]), 'w': OrderedDict([('n_eff', tensor([299.7673, 373.1532, 274.5405, 544.7006, 390.5574, 389.9227, 244.8883,\n",
      "        423.9494, 459.5615, 398.6439, 344.6983, 381.3062, 531.6312, 514.0498,\n",
      "        677.8765, 322.0340, 345.7513, 387.9561, 212.3008, 451.9741, 628.8621])), ('r_hat', tensor([1.0046, 1.0002, 1.0169, 0.9999, 1.0015, 0.9999, 1.0088, 0.9995, 1.0007,\n",
      "        0.9995, 0.9994, 1.0088, 1.0000, 1.0042, 1.0012, 0.9993, 1.0069, 0.9993,\n",
      "        1.0247, 1.0027, 1.0004]))]), 'divergences': {'chain 0': [1, 15, 18, 20, 21, 22, 23, 28, 30, 34, 39, 40, 41, 66, 117, 142, 188, 191, 193, 231, 235, 236, 237, 278, 325, 332, 374, 383, 388, 429, 464, 468, 469, 472, 488, 515, 545, 590, 607, 620, 658, 675, 710, 712, 713, 715, 717, 721, 723, 725, 731, 732, 739, 743, 746, 747, 752, 786, 794, 915, 928, 931, 940, 963, 965, 992, 1024, 1026, 1044, 1056, 1070, 1097, 1103, 1124, 1141, 1195, 1201, 1203, 1206, 1207, 1211, 1248, 1266, 1299, 1360, 1363, 1365, 1377, 1379, 1451, 1497]}, 'acceptance rate': {'chain 0': 0.9933333333333333}}\n",
      "Registering the results in:  SX1/2023-11-19/n-6_k-2_m-8_sigma_w-0.1_sigma_p-1_n_samples-1500.yaml\n"
     ]
    },
    {
     "name": "stderr",
     "output_type": "stream",
     "text": [
      "Sample: 100%|████████████████████████████| 2000/2000 [00:53, 37.38it/s, step size=1.88e-01, acc. prob=0.640]\n"
     ]
    },
    {
     "name": "stdout",
     "output_type": "stream",
     "text": [
      "diag:  {'sigma': OrderedDict([('n_eff', tensor(373.4840)), ('r_hat', tensor(1.0021))]), 'w': OrderedDict([('n_eff', tensor([ 422.0753,  730.2552,  666.3038,  348.4225,  593.4258, 1035.7717,\n",
      "         683.8854,  334.9955,  376.2120,  811.7023,  432.2829,  645.3934,\n",
      "         683.8431,  555.5052,  486.0367,  305.6089,  332.9797,  286.9168,\n",
      "         591.8740,  622.1011,  589.0710])), ('r_hat', tensor([0.9996, 0.9995, 1.0029, 0.9993, 1.0048, 1.0028, 0.9996, 0.9994, 0.9998,\n",
      "        1.0063, 0.9995, 1.0012, 1.0026, 0.9993, 1.0041, 1.0005, 1.0036, 1.0155,\n",
      "        1.0030, 1.0021, 1.0055]))]), 'divergences': {'chain 0': [5, 23, 45, 69, 179, 220, 264, 280, 318, 329, 335, 339, 342, 343, 344, 345, 346, 408, 456, 457, 464, 512, 592, 603, 706, 775, 780, 874, 875, 876, 925, 969, 970, 1050, 1057, 1069, 1137, 1223, 1228, 1230, 1234, 1255, 1277, 1339, 1351, 1423, 1476]}, 'acceptance rate': {'chain 0': 0.9133333333333333}}\n",
      "Registering the results in:  SX1/2023-11-19/n-6_k-2_m-8_sigma_w-0.1_sigma_p-0.1_n_samples-1500.yaml\n"
     ]
    },
    {
     "name": "stderr",
     "output_type": "stream",
     "text": [
      "Sample: 100%|████████████████████████████| 2000/2000 [01:09, 28.73it/s, step size=1.89e-01, acc. prob=0.700]\n"
     ]
    },
    {
     "name": "stdout",
     "output_type": "stream",
     "text": [
      "diag:  {'sigma': OrderedDict([('n_eff', tensor(456.5699)), ('r_hat', tensor(0.9993))]), 'w': OrderedDict([('n_eff', tensor([ 967.7751,  965.7456,  346.4978,  940.9450,  843.5961, 1059.3766,\n",
      "         494.9574,  471.0623,  609.7251,  757.2373,  700.6318,  547.1082,\n",
      "        1066.0168,  694.9792,  669.8774,  788.4327,  823.8785,  600.5417,\n",
      "         785.6279,  650.2015,  677.5361])), ('r_hat', tensor([0.9994, 0.9997, 0.9993, 0.9996, 0.9993, 0.9998, 1.0024, 1.0024, 1.0031,\n",
      "        0.9998, 0.9993, 0.9994, 1.0002, 0.9993, 0.9993, 1.0004, 1.0014, 1.0015,\n",
      "        1.0007, 1.0064, 0.9993]))]), 'divergences': {'chain 0': [20, 33, 69, 211, 245, 249, 323, 326, 336, 337, 445, 538, 560, 684, 982, 987, 988, 991, 994, 1127, 1132, 1139, 1143, 1209, 1281, 1290, 1307, 1330, 1361, 1385, 1392, 1397, 1399, 1400, 1402, 1403, 1404, 1406, 1408, 1409, 1442, 1443]}, 'acceptance rate': {'chain 0': 0.942}}\n",
      "Registering the results in:  SX1/2023-11-19/n-6_k-2_m-8_sigma_w-0.1_sigma_p-0.01_n_samples-1500.yaml\n"
     ]
    },
    {
     "name": "stderr",
     "output_type": "stream",
     "text": [
      "Sample: 100%|████████████████████████████| 2000/2000 [01:15, 26.34it/s, step size=1.06e-01, acc. prob=0.757]\n"
     ]
    },
    {
     "name": "stdout",
     "output_type": "stream",
     "text": [
      "diag:  {'sigma': OrderedDict([('n_eff', tensor(469.4973)), ('r_hat', tensor(1.0021))]), 'w': OrderedDict([('n_eff', tensor([ 718.3964,  601.8955, 1145.4835,  709.1935, 1018.7344,  790.4684,\n",
      "         455.9098,  193.8725,  864.7095,  224.7966,  412.6923,  523.8978,\n",
      "         948.5437,  525.3206,  376.1672,  178.7703,  671.5103,  567.5783,\n",
      "         446.5020,  379.2485,  779.3534])), ('r_hat', tensor([1.0012, 1.0003, 0.9994, 1.0018, 1.0012, 1.0007, 1.0008, 1.0045, 0.9994,\n",
      "        1.0036, 0.9993, 1.0009, 0.9994, 0.9994, 0.9994, 1.0145, 0.9997, 1.0008,\n",
      "        1.0009, 1.0029, 1.0046]))]), 'divergences': {'chain 0': [32, 50, 51, 61, 64, 331, 334, 498, 721, 724, 835, 936, 1086, 1160, 1361, 1478, 1479]}, 'acceptance rate': {'chain 0': 0.9573333333333334}}\n",
      "Registering the results in:  SX1/2023-11-19/n-6_k-2_m-8_sigma_w-0.1_sigma_p-10.0_n_samples-1500.yaml\n"
     ]
    },
    {
     "name": "stderr",
     "output_type": "stream",
     "text": [
      "Sample: 100%|████████████████████████████| 2000/2000 [02:02, 16.37it/s, step size=5.99e-02, acc. prob=0.799]\n"
     ]
    },
    {
     "name": "stdout",
     "output_type": "stream",
     "text": [
      "diag:  {'sigma': OrderedDict([('n_eff', tensor(263.4300)), ('r_hat', tensor(1.0023))]), 'w': OrderedDict([('n_eff', tensor([439.6956, 244.1724, 780.0381, 868.8708, 577.2350, 891.5772, 215.6017,\n",
      "        321.0043, 497.1006, 852.7078, 611.5007, 519.3984, 505.3040, 301.4414,\n",
      "        223.2829, 490.0826, 910.0464, 822.9698, 310.7933, 514.3394, 277.6750])), ('r_hat', tensor([0.9994, 1.0018, 1.0001, 0.9994, 1.0005, 0.9994, 0.9998, 1.0031, 1.0013,\n",
      "        0.9993, 1.0038, 1.0047, 1.0007, 0.9999, 1.0001, 1.0012, 1.0063, 0.9993,\n",
      "        1.0127, 1.0002, 1.0024]))]), 'divergences': {'chain 0': [108, 109, 112, 114, 116, 117, 118, 119, 120, 123, 124, 126, 127, 130, 131, 135, 136, 384, 416, 435, 646, 974, 1153, 1182, 1189, 1410]}, 'acceptance rate': {'chain 0': 0.9666666666666667}}\n",
      "Registering the results in:  SX1/2023-11-19/n-6_k-2_m-8_sigma_w-0.01_sigma_p-1_n_samples-1500.yaml\n"
     ]
    },
    {
     "name": "stderr",
     "output_type": "stream",
     "text": [
      "Sample: 100%|████████████████████████████| 2000/2000 [01:08, 29.12it/s, step size=1.05e-01, acc. prob=0.798]\n"
     ]
    },
    {
     "name": "stdout",
     "output_type": "stream",
     "text": [
      "diag:  {'sigma': OrderedDict([('n_eff', tensor(678.5024)), ('r_hat', tensor(0.9995))]), 'w': OrderedDict([('n_eff', tensor([ 916.1673,  805.8082,  793.8542,  790.6293,  901.4579,  626.0202,\n",
      "        1004.5688, 1158.2062, 1303.1221, 1113.4757,  759.1248,  950.7192,\n",
      "         908.5079, 1186.2345,  992.2324,  917.3525, 1102.4651,  763.9261,\n",
      "         948.8241,  966.3732,  858.3719])), ('r_hat', tensor([1.0034, 1.0019, 1.0026, 1.0002, 1.0001, 1.0000, 0.9998, 0.9996, 1.0005,\n",
      "        0.9999, 1.0000, 0.9996, 1.0009, 1.0000, 1.0002, 0.9994, 0.9993, 1.0016,\n",
      "        0.9993, 0.9993, 0.9996]))]), 'divergences': {'chain 0': [198, 516, 599, 696, 822, 897, 960, 1272]}, 'acceptance rate': {'chain 0': 0.9886666666666667}}\n",
      "Registering the results in:  SX1/2023-11-19/n-6_k-2_m-8_sigma_w-0.01_sigma_p-0.1_n_samples-1500.yaml\n"
     ]
    },
    {
     "name": "stderr",
     "output_type": "stream",
     "text": [
      "Sample: 100%|████████████████████████████| 2000/2000 [00:20, 95.83it/s, step size=5.96e-01, acc. prob=0.084]\n"
     ]
    },
    {
     "name": "stdout",
     "output_type": "stream",
     "text": [
      "diag:  {'sigma': OrderedDict([('n_eff', tensor(78.6715)), ('r_hat', tensor(1.0286))]), 'w': OrderedDict([('n_eff', tensor([ 6.1667, 73.6355, 12.8210, 29.3832,  6.8085, 39.9220, 40.1923, 19.1673,\n",
      "        18.4208,  4.8558, 16.9353,  8.4810, 10.5376, 39.3139, 43.8596, 23.1411,\n",
      "        12.9658, 17.5635, 25.4680, 53.2093, 15.4274])), ('r_hat', tensor([1.3263, 1.0377, 1.1254, 1.0201, 1.3070, 1.0516, 1.0041, 1.0059, 1.1796,\n",
      "        1.6427, 1.0071, 1.4399, 1.2582, 1.0360, 1.0373, 1.0353, 1.2493, 1.0176,\n",
      "        1.0499, 1.0091, 1.1079]))]), 'divergences': {'chain 0': [48, 49, 55, 59, 60, 61, 63, 71, 72, 73, 74, 75, 76, 82, 84, 90, 91, 94, 96, 97, 111, 112, 113, 115, 116, 121, 122, 125, 126, 128, 129, 130, 131, 132, 134, 135, 136, 137, 140, 142, 143, 144, 146, 149, 151, 153, 159, 162, 167, 169, 170, 171, 174, 177, 181, 182, 183, 184, 185, 186, 187, 188, 195, 196, 197, 198, 200, 201, 202, 203, 204, 208, 209, 210, 212, 214, 220, 221, 229, 233, 234, 235, 236, 238, 239, 240, 242, 243, 244, 246, 249, 252, 253, 254, 255, 256, 258, 259, 260, 264, 265, 271, 272, 273, 274, 275, 278, 279, 281, 283, 284, 286, 287, 291, 292, 293, 295, 298, 301, 302, 305, 309, 310, 311, 312, 314, 315, 316, 317, 318, 319, 322, 323, 325, 327, 329, 330, 332, 333, 334, 335, 337, 338, 340, 342, 344, 345, 346, 347, 348, 349, 350, 351, 352, 355, 356, 357, 358, 361, 362, 365, 367, 368, 369, 370, 371, 372, 375, 376, 377, 379, 381, 382, 383, 388, 390, 391, 392, 393, 395, 397, 400, 401, 405, 408, 409, 411, 414, 417, 419, 420, 422, 424, 428, 432, 433, 435, 436, 437, 438, 441, 442, 444, 445, 450, 453, 454, 458, 459, 460, 461, 465, 466, 469, 471, 476, 477, 478, 480, 481, 482, 484, 487, 491, 492, 493, 494, 495, 498, 499, 500, 503, 504, 507, 508, 510, 511, 512, 513, 516, 517, 523, 527, 532, 533, 534, 537, 538, 542, 543, 546, 548, 549, 550, 551, 555, 559, 560, 561, 562, 563, 564, 565, 566, 567, 571, 572, 573, 574, 577, 578, 579, 581, 583, 584, 585, 588, 589, 590, 591, 592, 593, 595, 596, 598, 601, 603, 604, 605, 606, 608, 611, 612, 613, 661, 663, 664, 668, 669, 670, 672, 676, 684, 687, 688, 692, 693, 711, 713, 719, 727, 729, 730, 734, 736, 738, 740, 741, 742, 743, 746, 747, 748, 750, 751, 752, 754, 755, 756, 758, 766, 767, 768, 769, 772, 773, 775, 776, 778, 779, 780, 781, 782, 783, 785, 786, 787, 789, 792, 793, 797, 798, 799, 800, 801, 802, 803, 804, 806, 808, 809, 810, 812, 814, 815, 818, 820, 821, 824, 825, 826, 827, 830, 831, 835, 837, 842, 844, 854, 856, 858, 859, 860, 861, 862, 863, 864, 869, 871, 872, 874, 875, 880, 881, 883, 889, 890, 891, 892, 893, 894, 895, 897, 901, 902, 903, 904, 905, 907, 910, 911, 913, 914, 915, 917, 918, 920, 922, 923, 924, 925, 928, 929, 930, 931, 932, 933, 934, 936, 938, 940, 941, 943, 945, 946, 947, 948, 949, 950, 951, 952, 953, 954, 955, 956, 957, 958, 960, 962, 963, 964, 966, 967, 968, 969, 970, 971, 972, 973, 975, 976, 977, 978, 979, 980, 981, 983, 984, 986, 990, 992, 993, 994, 995, 997, 999, 1000, 1001, 1002, 1003, 1004, 1005, 1006, 1007, 1009, 1010, 1011, 1012, 1013, 1015, 1016, 1017, 1018, 1019, 1020, 1022, 1023, 1027, 1030, 1031, 1032, 1033, 1035, 1036, 1037, 1038, 1041, 1042, 1043, 1044, 1045, 1047, 1049, 1050, 1051, 1052, 1053, 1054, 1056, 1058, 1060, 1062, 1064, 1066, 1067, 1068, 1069, 1070, 1071, 1073, 1074, 1075, 1077, 1078, 1081, 1082, 1083, 1084, 1085, 1086, 1087, 1088, 1090, 1091, 1092, 1093, 1094, 1095, 1096, 1097, 1098, 1099, 1100, 1101, 1102, 1103, 1104, 1106, 1107, 1108, 1110, 1111, 1113, 1114, 1115, 1120, 1121, 1122, 1123, 1124, 1125, 1127, 1128, 1129, 1130, 1131, 1133, 1134, 1135, 1136, 1137, 1138, 1139, 1140, 1141, 1142, 1144, 1145, 1147, 1149, 1150, 1151, 1153, 1155, 1156, 1158, 1159, 1160, 1161, 1162, 1163, 1164, 1165, 1167, 1168, 1171, 1173, 1175, 1176, 1177, 1178, 1179, 1180, 1182, 1183, 1184, 1185, 1186, 1187, 1190, 1191, 1193, 1194, 1195, 1196, 1197, 1198, 1199, 1200, 1201, 1202, 1203, 1204, 1205, 1206, 1208, 1210, 1211, 1213, 1214, 1216, 1217, 1218, 1219, 1221, 1222, 1223, 1224, 1225, 1226, 1227, 1228, 1229, 1230, 1231, 1233, 1234, 1235, 1236, 1237, 1238, 1239, 1240, 1241, 1242, 1243, 1244, 1245, 1246, 1247, 1248, 1249, 1250, 1251, 1252, 1253, 1255, 1256, 1257, 1258, 1259, 1260, 1261, 1263, 1264, 1266, 1267, 1268, 1269, 1270, 1271, 1272, 1273, 1274, 1275, 1276, 1278, 1279, 1280, 1281, 1282, 1285, 1286, 1287, 1288, 1289, 1290, 1291, 1292, 1294, 1295, 1296, 1297, 1298, 1300, 1301, 1302, 1303, 1305, 1307, 1308, 1309, 1310, 1313, 1315, 1316, 1318, 1319, 1320, 1322, 1323, 1324, 1325, 1326, 1327, 1329, 1335, 1337, 1338, 1339, 1340, 1342, 1344, 1345, 1346, 1347, 1348, 1349, 1350, 1353, 1354, 1355, 1356, 1358, 1359, 1360, 1361, 1362, 1364, 1365, 1366, 1367, 1369, 1370, 1371, 1372, 1374, 1375, 1380, 1381, 1382, 1390, 1391, 1393, 1394, 1396, 1397, 1398, 1401, 1402, 1403, 1405, 1406, 1407, 1408, 1409, 1410, 1411, 1413, 1415, 1419, 1420, 1422, 1423, 1424, 1425, 1427, 1428, 1429, 1430, 1431, 1432, 1433, 1435, 1438, 1439, 1445, 1448, 1449, 1451, 1453, 1456, 1460, 1463, 1464, 1465, 1467, 1469, 1471, 1474, 1476, 1477, 1478, 1479, 1483, 1484, 1488, 1490, 1491, 1492, 1494, 1495, 1497, 1499]}, 'acceptance rate': {'chain 0': 0.18066666666666667}}\n",
      "Registering the results in:  SX1/2023-11-19/n-6_k-2_m-8_sigma_w-0.01_sigma_p-0.01_n_samples-1500.yaml\n"
     ]
    },
    {
     "name": "stderr",
     "output_type": "stream",
     "text": [
      "Sample: 100%|███████████████████████████| 2000/2000 [00:15, 127.31it/s, step size=5.16e-01, acc. prob=0.753]\n"
     ]
    },
    {
     "name": "stdout",
     "output_type": "stream",
     "text": [
      "diag:  {'sigma': OrderedDict([('n_eff', tensor(63.5633)), ('r_hat', tensor(1.0222))]), 'w': OrderedDict([('n_eff', tensor([  28.5013, 1029.7579, 1182.5422,  171.5591,   99.4970,  742.4804,\n",
      "          66.7996, 1142.6599,  573.7651,   46.7827,  782.3374,  124.3618,\n",
      "          54.1501,  130.6905,  124.1132, 1023.9040,  489.2233, 1852.1488,\n",
      "          43.0492,  343.2498,  314.9578])), ('r_hat', tensor([1.0344, 0.9993, 1.0002, 1.0103, 1.0187, 1.0011, 1.0200, 1.0005, 0.9996,\n",
      "        1.0308, 0.9994, 1.0123, 1.0299, 1.0151, 1.0142, 1.0057, 1.0041, 1.0019,\n",
      "        1.0278, 1.0117, 1.0016]))]), 'divergences': {'chain 0': [1263, 1264, 1265, 1269, 1271, 1273, 1277, 1278, 1281, 1282, 1283, 1287, 1288, 1289, 1294, 1297, 1298, 1299, 1300, 1301, 1302, 1303, 1304, 1305, 1306, 1307, 1308, 1309, 1312, 1315, 1317, 1320, 1323, 1328, 1332, 1336, 1337, 1339, 1341, 1342, 1344, 1345, 1348, 1349, 1351, 1354, 1356, 1359, 1360, 1361, 1362, 1364, 1365, 1367, 1369, 1371, 1372, 1374, 1375, 1377, 1380, 1386, 1387, 1389, 1390, 1391, 1394, 1395, 1396, 1398, 1402, 1403, 1405, 1407, 1408, 1409, 1411, 1414, 1419, 1421, 1423, 1424, 1426, 1427, 1428, 1430, 1431, 1433, 1434, 1436, 1438, 1440, 1441, 1443, 1444, 1446, 1448, 1449, 1453, 1455, 1458, 1460, 1461, 1462, 1463, 1466, 1467, 1468, 1471, 1473, 1474, 1475, 1477, 1478, 1479, 1480, 1481, 1482, 1484, 1485, 1487, 1488, 1492, 1493, 1496, 1497, 1498, 1499]}, 'acceptance rate': {'chain 0': 0.882}}\n",
      "Registering the results in:  SX1/2023-11-19/n-6_k-2_m-8_sigma_w-0.01_sigma_p-10.0_n_samples-1500.yaml\n"
     ]
    },
    {
     "name": "stderr",
     "output_type": "stream",
     "text": [
      "Sample: 100%|████████████████████████████| 2000/2000 [01:15, 26.45it/s, step size=9.32e-02, acc. prob=0.807]\n"
     ]
    },
    {
     "name": "stdout",
     "output_type": "stream",
     "text": [
      "diag:  {'sigma': OrderedDict([('n_eff', tensor(351.9612)), ('r_hat', tensor(0.9994))]), 'w': OrderedDict([('n_eff', tensor([ 701.7354,  495.1222,  525.3980, 1126.1923,  734.9652,  273.1728,\n",
      "         891.4136,  937.4834,  513.2308,  920.6318,  285.6157, 1048.1185,\n",
      "        1063.2870,  386.0864,  639.3040, 1156.3868,  674.0650,  739.1970,\n",
      "         317.6500,  931.8734,  973.2165])), ('r_hat', tensor([1.0018, 1.0005, 0.9999, 1.0008, 1.0014, 1.0015, 0.9998, 0.9996, 0.9994,\n",
      "        0.9997, 1.0057, 0.9996, 1.0015, 1.0002, 1.0004, 0.9995, 1.0007, 0.9993,\n",
      "        0.9999, 0.9995, 0.9994]))]), 'divergences': {'chain 0': [1066, 1097, 1123, 1149]}, 'acceptance rate': {'chain 0': 0.98}}\n",
      "Registering the results in:  SX1/2023-11-19/n-6_k-2_m-8_sigma_w-10.0_sigma_p-1_n_samples-1500.yaml\n"
     ]
    },
    {
     "name": "stderr",
     "output_type": "stream",
     "text": [
      "Sample: 100%|████████████████████████████| 2000/2000 [05:01,  6.64it/s, step size=3.17e-02, acc. prob=0.704]\n"
     ]
    },
    {
     "name": "stdout",
     "output_type": "stream",
     "text": [
      "diag:  {'sigma': OrderedDict([('n_eff', tensor(205.7740)), ('r_hat', tensor(1.0046))]), 'w': OrderedDict([('n_eff', tensor([530.7064, 315.6985, 423.0512, 349.4171, 346.4210, 296.0292, 281.7823,\n",
      "        299.4174, 129.5209, 347.3330, 458.1381, 352.6780, 452.3618, 159.4450,\n",
      "        273.0483, 400.4629, 453.2429, 466.5666, 211.4775, 193.6397, 292.6245])), ('r_hat', tensor([1.0016, 0.9994, 0.9994, 1.0115, 1.0002, 0.9994, 1.0009, 0.9993, 1.0044,\n",
      "        0.9998, 0.9995, 1.0001, 0.9993, 1.0103, 0.9996, 0.9994, 1.0065, 0.9996,\n",
      "        0.9996, 0.9994, 0.9993]))]), 'divergences': {'chain 0': [207, 265, 266, 268, 278, 280, 284, 286, 287, 294, 297, 304, 305, 316, 320, 324, 381, 399, 409, 410, 413, 510, 737, 738, 739, 741, 742, 814, 858, 877, 878, 894, 951, 969, 983, 1021, 1022, 1108, 1109, 1111, 1112, 1114, 1115, 1116, 1117, 1118, 1119, 1120, 1121, 1122, 1125, 1126, 1127, 1128, 1130, 1132, 1133, 1136, 1137, 1138, 1139, 1141, 1168, 1216, 1399, 1447, 1455, 1457, 1465, 1477, 1478, 1479, 1482, 1489, 1490, 1491, 1492]}, 'acceptance rate': {'chain 0': 0.9893333333333333}}\n",
      "Registering the results in:  SX1/2023-11-19/n-6_k-2_m-8_sigma_w-10.0_sigma_p-0.1_n_samples-1500.yaml\n"
     ]
    },
    {
     "name": "stderr",
     "output_type": "stream",
     "text": [
      "Sample: 100%|████████████████████████████| 2000/2000 [01:25, 23.52it/s, step size=1.15e-01, acc. prob=0.705]\n"
     ]
    },
    {
     "name": "stdout",
     "output_type": "stream",
     "text": [
      "diag:  {'sigma': OrderedDict([('n_eff', tensor(165.7039)), ('r_hat', tensor(1.0056))]), 'w': OrderedDict([('n_eff', tensor([381.9475, 329.0471, 386.6528, 341.6672, 258.9586, 511.3625, 128.1027,\n",
      "        603.6138, 708.9758, 223.4603, 358.4371, 223.2585, 208.0894, 364.9511,\n",
      "        669.9819, 708.7673, 224.2000, 320.7014, 455.6636, 319.5365, 179.0452])), ('r_hat', tensor([1.0041, 1.0085, 1.0034, 1.0016, 1.0002, 1.0017, 1.0052, 0.9999, 0.9995,\n",
      "        1.0036, 0.9998, 1.0042, 1.0002, 1.0057, 1.0000, 0.9994, 0.9997, 1.0051,\n",
      "        1.0023, 1.0023, 0.9999]))]), 'divergences': {'chain 0': [45, 68, 71, 77, 79, 82, 83, 89, 92, 99, 134, 259, 260, 262, 371, 372, 382, 383, 384, 386, 388, 389, 390, 394, 395, 396, 397, 398, 399, 400, 402, 403, 404, 405, 406, 541, 543, 545, 546, 547, 548, 549, 550, 551, 554, 558, 560, 561, 562, 567, 568, 569, 571, 574, 575, 576, 578, 581, 678, 762, 763, 769, 770, 771, 808, 813, 844, 1107, 1204, 1216, 1223, 1224, 1225, 1226, 1227, 1230, 1232, 1243, 1400, 1401, 1408]}, 'acceptance rate': {'chain 0': 0.9453333333333334}}\n",
      "Registering the results in:  SX1/2023-11-19/n-6_k-2_m-8_sigma_w-10.0_sigma_p-0.01_n_samples-1500.yaml\n"
     ]
    },
    {
     "name": "stderr",
     "output_type": "stream",
     "text": [
      "Sample: 100%|████████████████████████████| 2000/2000 [01:07, 29.47it/s, step size=1.29e-01, acc. prob=0.734]\n"
     ]
    },
    {
     "name": "stdout",
     "output_type": "stream",
     "text": [
      "diag:  {'sigma': OrderedDict([('n_eff', tensor(65.4122)), ('r_hat', tensor(1.0217))]), 'w': OrderedDict([('n_eff', tensor([ 450.3967, 1146.7965,  374.8922,  202.2914,   85.0727,  779.7194,\n",
      "        1167.3273,  653.6813,  307.0723,  250.5044,   35.6396,   90.1677,\n",
      "          59.8112,  199.5372,   99.7259,  844.5743,  113.3466,  151.6135,\n",
      "          36.3153,   58.6938, 1154.2239])), ('r_hat', tensor([1.0006, 1.0012, 0.9998, 1.0051, 1.0235, 1.0035, 1.0006, 1.0000, 0.9994,\n",
      "        1.0041, 1.0478, 1.0186, 1.0208, 1.0104, 1.0088, 1.0017, 0.9993, 1.0040,\n",
      "        1.0385, 1.0334, 0.9995]))]), 'divergences': {'chain 0': [71, 379, 407, 449, 514, 535, 634, 654, 717, 744, 745, 748, 750, 751, 752, 755, 757, 758, 760, 761, 762, 764, 765, 766, 768, 769, 770, 771, 773, 775, 776, 777, 778, 780, 781, 782, 783, 784, 785, 786, 787, 788, 789, 792, 793, 794, 795, 797, 799, 801, 802, 803, 804, 805, 806, 808, 809, 810, 811, 812, 814, 815, 817, 818, 819, 820, 821, 822, 823, 824, 826, 827, 828, 829, 830, 831, 832, 833, 834, 835, 836, 837, 838, 839, 840, 841, 842, 844, 845, 846, 847, 848, 849, 850, 851, 852, 853, 854, 855, 856, 858, 859, 860, 861, 862, 863, 864, 865, 867, 869, 870, 871, 874, 875, 877, 878, 881, 882, 883, 884, 885, 886, 887, 889, 891, 892, 893, 894, 896, 897, 898, 899, 900, 902, 903, 904, 906, 907, 908, 909, 910, 911, 912, 913, 914, 915, 921, 923, 924, 927, 929, 930, 931, 935, 937, 939, 940, 941, 942, 945, 947, 949, 951, 954, 955, 956, 959, 960, 961, 962, 964, 1066, 1156, 1271, 1430]}, 'acceptance rate': {'chain 0': 0.9393333333333334}}\n",
      "Registering the results in:  SX1/2023-11-19/n-6_k-2_m-8_sigma_w-10.0_sigma_p-10.0_n_samples-1500.yaml\n"
     ]
    },
    {
     "name": "stderr",
     "output_type": "stream",
     "text": [
      "Sample: 100%|████████████████████████████| 2000/2000 [28:47,  1.16it/s, step size=2.50e-03, acc. prob=0.823]\n"
     ]
    },
    {
     "name": "stdout",
     "output_type": "stream",
     "text": [
      "diag:  {'sigma': OrderedDict([('n_eff', tensor(757.7554)), ('r_hat', tensor(1.0006))]), 'w': OrderedDict([('n_eff', tensor([377.3864, 296.7575, 119.4212, 222.7070, 370.0165, 384.2469, 296.1378,\n",
      "        295.5060, 333.7957, 233.2322, 405.1137, 159.6349, 172.5509, 398.4732,\n",
      "        227.2688, 242.3709, 258.2151, 248.3960, 240.6504, 489.6490, 254.3814])), ('r_hat', tensor([1.0076, 1.0312, 1.0035, 0.9994, 0.9993, 1.0003, 1.0077, 1.0129, 1.0001,\n",
      "        1.0017, 0.9994, 1.0015, 0.9994, 0.9998, 1.0039, 0.9999, 0.9998, 1.0008,\n",
      "        1.0034, 1.0025, 0.9994]))]), 'divergences': {'chain 0': [0, 139, 155, 186, 198, 199, 200, 263, 295, 408, 426, 428, 509, 643, 658, 669, 726, 795, 796, 797, 798, 801, 802, 803, 807, 808, 810, 816, 876, 877, 879, 880, 882, 890, 913, 946, 1016, 1086, 1105, 1216, 1236, 1287, 1397, 1434]}, 'acceptance rate': {'chain 0': 1.0}}\n",
      "Registering the results in:  SX1/2023-11-19/n-6_k-3_m-8_sigma_w-1_sigma_p-1_n_samples-1500.yaml\n"
     ]
    },
    {
     "name": "stderr",
     "output_type": "stream",
     "text": [
      "Sample: 100%|████████████████████████████| 2000/2000 [02:05, 15.93it/s, step size=6.29e-02, acc. prob=0.683]\n"
     ]
    },
    {
     "name": "stdout",
     "output_type": "stream",
     "text": [
      "diag:  {'sigma': OrderedDict([('n_eff', tensor(129.7980)), ('r_hat', tensor(1.0113))]), 'w': OrderedDict([('n_eff', tensor([268.2024, 204.0935, 216.3434, 466.3986, 534.4537, 210.2672, 506.6809,\n",
      "        226.3833, 112.2643, 243.4311, 264.4974, 784.4121, 136.4082, 306.3280,\n",
      "        161.3809, 431.9457, 164.3081, 334.8903,  40.3800, 208.9198, 307.5304,\n",
      "        441.9941, 413.5286, 266.5135, 274.0249, 131.7885, 279.2123,  41.8492,\n",
      "        324.8018,  75.2943, 122.6470, 173.9994, 153.8501,  55.1852, 151.3562,\n",
      "        261.8955, 489.0624, 300.2772, 310.8511, 641.7535,  22.1158])), ('r_hat', tensor([1.0004, 1.0083, 1.0121, 1.0052, 0.9996, 1.0147, 1.0035, 1.0057, 1.0014,\n",
      "        0.9996, 0.9993, 1.0023, 1.0355, 0.9994, 1.0064, 1.0036, 0.9996, 1.0032,\n",
      "        1.0291, 1.0121, 1.0002, 0.9997, 1.0027, 1.0037, 1.0002, 1.0151, 1.0011,\n",
      "        1.0461, 1.0068, 1.0031, 1.0153, 1.0000, 0.9996, 1.0442, 1.0000, 0.9993,\n",
      "        0.9997, 0.9997, 1.0048, 1.0024, 1.0495]))]), 'divergences': {'chain 0': [1, 2, 4, 5, 7, 8, 9, 10, 11, 12, 13, 14, 15, 17, 19, 20, 21, 22, 23, 24, 25, 26, 27, 28, 29, 30, 31, 32, 34, 36, 37, 38, 39, 40, 41, 42, 43, 44, 45, 46, 48, 49, 50, 54, 55, 56, 57, 59, 60, 61, 62, 63, 64, 65, 66, 67, 68, 69, 70, 72, 73, 74, 75, 77, 78, 79, 80, 81, 82, 83, 84, 85, 86, 87, 88, 89, 90, 91, 93, 94, 95, 96, 97, 98, 105, 108, 109, 111, 121, 123, 124, 128, 132, 152, 330, 334, 337, 444, 539, 688, 704, 720, 762, 798, 803, 808, 812, 814, 815, 816, 825, 828, 830, 831, 832, 833, 846, 1152, 1185, 1216, 1378, 1416, 1429, 1436, 1437, 1438, 1443, 1444, 1445, 1446, 1447, 1451, 1459, 1460]}, 'acceptance rate': {'chain 0': 0.946}}\n",
      "Registering the results in:  SX1/2023-11-19/n-6_k-3_m-8_sigma_w-1_sigma_p-0.1_n_samples-1500.yaml\n"
     ]
    },
    {
     "name": "stderr",
     "output_type": "stream",
     "text": [
      "Sample: 100%|████████████████████████████| 2000/2000 [01:00, 32.84it/s, step size=1.53e-01, acc. prob=0.746]\n"
     ]
    },
    {
     "name": "stdout",
     "output_type": "stream",
     "text": [
      "diag:  {'sigma': OrderedDict([('n_eff', tensor(574.0982)), ('r_hat', tensor(1.0053))]), 'w': OrderedDict([('n_eff', tensor([ 983.3795,  921.3569,  793.4592,  974.6206, 1050.9952,  613.5237,\n",
      "         806.0225,  655.6810,  808.9005, 1567.1350,  739.6655,  629.5031,\n",
      "        1080.3424,  948.4398,  805.1149,  469.0665, 1251.2610,  623.7482,\n",
      "        1169.4467,  903.1379,  303.5267,  969.3262, 1089.5524,  706.7158,\n",
      "         690.6060,  668.4450,  672.6310, 1211.4774,  393.8917, 1173.9690,\n",
      "         628.5501, 1586.0433,  994.2911,  743.3026,  987.4991,  604.7396,\n",
      "        1147.8800,  512.5112, 1161.4086,  835.3254, 1227.7974])), ('r_hat', tensor([0.9999, 0.9995, 1.0003, 1.0051, 1.0049, 0.9993, 0.9996, 1.0029, 1.0002,\n",
      "        0.9993, 1.0016, 1.0012, 1.0012, 0.9999, 1.0009, 0.9994, 0.9997, 0.9993,\n",
      "        0.9995, 0.9994, 1.0125, 1.0015, 0.9998, 1.0014, 1.0004, 1.0006, 1.0010,\n",
      "        0.9993, 0.9998, 0.9993, 1.0000, 0.9996, 0.9994, 1.0002, 0.9995, 1.0039,\n",
      "        1.0000, 1.0018, 0.9995, 0.9993, 1.0001]))]), 'divergences': {'chain 0': [138, 141, 294, 402, 503, 687, 751, 753, 757, 759, 761, 777, 784, 787, 865, 877, 1009, 1036, 1084, 1102, 1278, 1279, 1281, 1282, 1283, 1285, 1287, 1289, 1290, 1291, 1292, 1293, 1294, 1302, 1306, 1381, 1382, 1407]}, 'acceptance rate': {'chain 0': 0.9653333333333334}}\n",
      "Registering the results in:  SX1/2023-11-19/n-6_k-3_m-8_sigma_w-1_sigma_p-0.01_n_samples-1500.yaml\n"
     ]
    },
    {
     "name": "stderr",
     "output_type": "stream",
     "text": [
      "Sample: 100%|████████████████████████████| 2000/2000 [01:04, 30.91it/s, step size=1.39e-01, acc. prob=0.776]\n"
     ]
    },
    {
     "name": "stdout",
     "output_type": "stream",
     "text": [
      "diag:  {'sigma': OrderedDict([('n_eff', tensor(475.5746)), ('r_hat', tensor(1.0012))]), 'w': OrderedDict([('n_eff', tensor([1091.8875, 1207.0981,  896.6042, 1140.3339, 1025.9678, 1092.7506,\n",
      "        1741.1099, 1325.5736, 1065.4274, 1025.9768, 1114.4573,  849.9508,\n",
      "        1279.8412, 1218.3148,  878.3878,  770.4543, 1002.2068, 1044.3579,\n",
      "        1225.2968, 1166.9315,  991.4780, 1176.2096, 1193.5653,  925.4089,\n",
      "         895.0131, 1247.5378,  980.9400, 1053.8510, 1336.2532, 1472.4199,\n",
      "        1306.0150, 1375.5525, 1294.1688,  923.1707, 1488.8118,  938.2134,\n",
      "        1777.0839, 1182.5328, 1277.0535, 1335.1030, 1384.5463])), ('r_hat', tensor([0.9994, 0.9994, 0.9993, 0.9993, 0.9995, 1.0019, 0.9995, 0.9993, 1.0001,\n",
      "        0.9998, 1.0001, 0.9993, 1.0059, 1.0002, 1.0009, 0.9996, 0.9998, 1.0010,\n",
      "        0.9998, 1.0000, 0.9994, 1.0038, 0.9993, 0.9999, 0.9996, 1.0005, 1.0001,\n",
      "        0.9995, 0.9994, 1.0015, 1.0023, 1.0003, 1.0006, 1.0006, 0.9993, 1.0071,\n",
      "        0.9997, 1.0010, 0.9997, 0.9994, 0.9996]))]), 'divergences': {'chain 0': [234, 359, 637, 701, 741, 743, 937, 1230, 1294, 1329, 1360, 1361, 1363, 1430, 1463]}, 'acceptance rate': {'chain 0': 0.9746666666666667}}\n",
      "Registering the results in:  SX1/2023-11-19/n-6_k-3_m-8_sigma_w-1_sigma_p-10.0_n_samples-1500.yaml\n"
     ]
    },
    {
     "name": "stderr",
     "output_type": "stream",
     "text": [
      "Sample: 100%|████████████████████████████| 2000/2000 [09:19,  3.57it/s, step size=1.67e-02, acc. prob=0.746]\n"
     ]
    },
    {
     "name": "stdout",
     "output_type": "stream",
     "text": [
      "diag:  {'sigma': OrderedDict([('n_eff', tensor(659.7610)), ('r_hat', tensor(0.9996))]), 'w': OrderedDict([('n_eff', tensor([ 942.7101, 1149.6707, 1058.2562,  830.2328,  944.9028,  750.8451,\n",
      "        1042.0576,  814.8322,  465.8389, 1159.9209,  383.6253,  649.2242,\n",
      "         909.5199, 1363.5729,  535.6268, 1294.2896,  991.2394,  336.0586,\n",
      "         922.9888,  585.4079,  538.2534,  958.2875, 1137.2720,  798.3934,\n",
      "         627.8701, 1030.1439, 1326.5712, 1137.2535,  751.3746, 1197.6212,\n",
      "         686.5168, 1062.5715,  303.8896,  494.1242,  789.0400,  659.9547,\n",
      "         915.9239,  669.7767, 1357.8949, 1129.2103,  966.3931])), ('r_hat', tensor([1.0013, 0.9996, 1.0029, 0.9995, 0.9999, 0.9995, 0.9996, 0.9994, 1.0104,\n",
      "        1.0008, 1.0022, 1.0010, 0.9994, 0.9994, 1.0041, 1.0004, 1.0003, 1.0057,\n",
      "        0.9994, 1.0001, 1.0070, 1.0003, 1.0065, 0.9997, 0.9995, 1.0007, 0.9993,\n",
      "        1.0009, 1.0023, 1.0024, 1.0037, 0.9993, 1.0081, 0.9994, 0.9997, 1.0013,\n",
      "        0.9999, 0.9994, 1.0019, 1.0026, 0.9998]))]), 'divergences': {'chain 0': [128, 130, 133, 197, 241, 247, 283, 304, 415, 589, 591, 814, 823, 834, 1006, 1016, 1031, 1086, 1105, 1114, 1128, 1142, 1144, 1194, 1308, 1331, 1362, 1408, 1409, 1466, 1473, 1482]}, 'acceptance rate': {'chain 0': 0.9993333333333333}}\n",
      "Registering the results in:  SX1/2023-11-19/n-6_k-3_m-8_sigma_w-0.1_sigma_p-1_n_samples-1500.yaml\n"
     ]
    },
    {
     "name": "stderr",
     "output_type": "stream",
     "text": [
      "Sample: 100%|████████████████████████████| 2000/2000 [01:49, 18.34it/s, step size=9.13e-02, acc. prob=0.706]\n"
     ]
    },
    {
     "name": "stdout",
     "output_type": "stream",
     "text": [
      "diag:  {'sigma': OrderedDict([('n_eff', tensor(440.5875)), ('r_hat', tensor(1.0003))]), 'w': OrderedDict([('n_eff', tensor([ 862.1730,  772.7613,  974.8661,  809.9107,  802.6711,  784.3173,\n",
      "        1220.6561,  560.6710,  762.7537, 1198.5054,  345.7194,  935.5708,\n",
      "         385.1656,  874.3500,  577.1230,  736.6689,  538.0742,  320.4583,\n",
      "         765.9385,  301.0726, 1319.6064,  751.3779,  897.8188,  831.1853,\n",
      "        1005.6985,  497.8660,  371.6985,  775.3458, 1454.0883,  765.7907,\n",
      "         988.2472, 1072.1227,  707.6674,  584.2283,  368.2622, 1073.6735,\n",
      "         799.5355,  396.4748,  189.7063, 1463.6567, 1361.9307])), ('r_hat', tensor([0.9996, 1.0014, 0.9995, 1.0022, 0.9997, 0.9995, 1.0010, 0.9999, 1.0003,\n",
      "        0.9999, 1.0021, 0.9997, 1.0073, 0.9996, 0.9993, 1.0039, 1.0082, 1.0077,\n",
      "        0.9994, 1.0065, 0.9994, 0.9999, 0.9996, 0.9995, 0.9995, 1.0005, 1.0050,\n",
      "        1.0021, 0.9994, 1.0023, 1.0010, 0.9994, 1.0047, 0.9997, 0.9997, 0.9994,\n",
      "        1.0027, 1.0005, 1.0037, 0.9995, 0.9999]))]), 'divergences': {'chain 0': [97, 190, 284, 440, 568, 677, 888, 891, 895, 910, 986, 1018, 1045, 1083, 1123, 1201, 1204, 1217, 1275, 1480, 1486]}, 'acceptance rate': {'chain 0': 0.9626666666666667}}\n",
      "Registering the results in:  SX1/2023-11-19/n-6_k-3_m-8_sigma_w-0.1_sigma_p-0.1_n_samples-1500.yaml\n"
     ]
    },
    {
     "name": "stderr",
     "output_type": "stream",
     "text": [
      "Sample: 100%|████████████████████████████| 2000/2000 [01:12, 27.49it/s, step size=1.22e-01, acc. prob=0.779]\n"
     ]
    },
    {
     "name": "stdout",
     "output_type": "stream",
     "text": [
      "diag:  {'sigma': OrderedDict([('n_eff', tensor(454.5302)), ('r_hat', tensor(1.0007))]), 'w': OrderedDict([('n_eff', tensor([ 581.7395,  686.2829,  870.4363,  514.3509,  592.8802,  652.3831,\n",
      "         695.8342,  500.8776,  556.5221,  273.9622,  502.5450,  314.9976,\n",
      "         538.9344,  290.1498,  980.3708,  241.3583,  728.3722, 1236.4563,\n",
      "         541.1453, 1082.3115,  571.8975,  604.2319,  504.1812, 1564.6504,\n",
      "         947.1017,  406.3690,  257.0058,  330.3112,  262.9440,  801.0370,\n",
      "         204.8781,  608.6261,  762.9155,  893.3525,  988.1150,  709.0569,\n",
      "         613.2203,  783.8781,  785.9666,  511.4855,  706.9781])), ('r_hat', tensor([0.9994, 0.9995, 0.9996, 0.9999, 0.9993, 1.0038, 0.9993, 1.0005, 1.0005,\n",
      "        1.0019, 0.9993, 1.0003, 1.0099, 1.0003, 1.0007, 1.0021, 1.0004, 0.9994,\n",
      "        1.0004, 1.0016, 0.9994, 1.0001, 1.0041, 0.9993, 1.0002, 1.0084, 1.0165,\n",
      "        1.0024, 1.0115, 1.0023, 1.0000, 1.0004, 0.9996, 0.9994, 1.0002, 1.0001,\n",
      "        0.9994, 1.0050, 0.9998, 1.0023, 0.9998]))]), 'divergences': {'chain 0': [134, 498, 514, 563, 565, 568, 569, 571, 576, 577, 578, 579, 580, 581, 582, 583, 584, 586, 587, 590, 591, 592, 593, 595, 596, 597, 598, 599, 604, 606, 609, 610, 807]}, 'acceptance rate': {'chain 0': 0.9673333333333334}}\n",
      "Registering the results in:  SX1/2023-11-19/n-6_k-3_m-8_sigma_w-0.1_sigma_p-0.01_n_samples-1500.yaml\n"
     ]
    },
    {
     "name": "stderr",
     "output_type": "stream",
     "text": [
      "Sample: 100%|████████████████████████████| 2000/2000 [01:52, 17.82it/s, step size=8.02e-02, acc. prob=0.736]\n"
     ]
    },
    {
     "name": "stdout",
     "output_type": "stream",
     "text": [
      "diag:  {'sigma': OrderedDict([('n_eff', tensor(78.4387)), ('r_hat', tensor(1.0010))]), 'w': OrderedDict([('n_eff', tensor([1302.0939,  293.1983,  474.2228,  740.2123, 1270.3051,  293.1925,\n",
      "         636.2755,  308.1032,  811.9045,  770.9924,  456.9533,  648.4637,\n",
      "        1516.9099, 1132.7552,  541.0886,  563.6963,  864.7018,  988.1960,\n",
      "        1124.8263, 1386.4111,  577.1132,  225.9445,  552.6843,  626.9124,\n",
      "        1014.3013,  861.4970,  635.5386, 1093.3767, 1245.0652, 1388.6968,\n",
      "        1203.9307, 1312.7271, 1621.6724, 1345.4836, 1564.8871,  474.7906,\n",
      "        1199.2427, 1226.5695,  499.0459, 1114.0068,  972.1946])), ('r_hat', tensor([0.9993, 1.0003, 0.9994, 1.0005, 0.9995, 1.0029, 1.0005, 1.0030, 1.0019,\n",
      "        1.0003, 1.0029, 0.9999, 1.0010, 0.9996, 1.0007, 0.9996, 1.0011, 1.0016,\n",
      "        0.9996, 1.0000, 1.0000, 1.0030, 0.9995, 0.9999, 1.0015, 0.9994, 1.0047,\n",
      "        1.0001, 0.9993, 0.9994, 1.0005, 1.0006, 0.9993, 0.9997, 0.9994, 0.9997,\n",
      "        1.0018, 1.0010, 1.0024, 0.9997, 0.9993]))]), 'divergences': {'chain 0': [4, 11, 22, 36, 44, 55, 56, 57, 64, 66, 71, 72, 75, 76, 80, 91, 98, 101, 102, 126, 128, 129, 130, 131, 161, 167, 184, 185, 186, 192, 193, 200, 201, 207, 219, 266, 268, 277, 321, 326, 327, 351, 353, 355, 363, 365, 366, 372, 378, 393, 401, 417, 420, 428, 451, 454, 460, 468, 473, 487, 492, 510, 511, 512, 513, 514, 515, 516, 517, 520, 524, 528, 529, 539, 552, 587, 594, 625, 636, 641, 646, 654, 681, 682, 704, 711, 759, 826, 835, 836, 837, 838, 839, 850, 867, 868, 870, 871, 872, 874, 875, 876, 878, 905, 911, 924, 932, 936, 937, 971, 978, 985, 994, 996, 1003, 1035, 1038, 1051, 1058, 1061, 1062, 1063, 1065, 1070, 1078, 1087, 1102, 1104, 1136, 1142, 1145, 1158, 1166, 1167, 1174, 1175, 1178, 1181, 1197, 1204, 1206, 1219, 1223, 1225, 1239, 1241, 1257, 1258, 1259, 1260, 1261, 1262, 1263, 1264, 1265, 1266, 1267, 1268, 1269, 1270, 1271, 1272, 1273, 1274, 1276, 1277, 1278, 1279, 1280, 1281, 1282, 1284, 1285, 1286, 1287, 1290, 1291, 1292, 1293, 1295, 1296, 1329, 1334, 1337, 1347, 1349, 1373, 1385, 1387, 1394, 1396, 1404, 1424, 1430, 1431, 1432]}, 'acceptance rate': {'chain 0': 0.9753333333333334}}\n",
      "Registering the results in:  SX1/2023-11-19/n-6_k-3_m-8_sigma_w-0.1_sigma_p-10.0_n_samples-1500.yaml\n"
     ]
    },
    {
     "name": "stderr",
     "output_type": "stream",
     "text": [
      "Sample: 100%|████████████████████████████| 2000/2000 [02:50, 11.73it/s, step size=5.07e-02, acc. prob=0.834]\n"
     ]
    },
    {
     "name": "stdout",
     "output_type": "stream",
     "text": [
      "diag:  {'sigma': OrderedDict([('n_eff', tensor(575.2401)), ('r_hat', tensor(0.9996))]), 'w': OrderedDict([('n_eff', tensor([ 797.3480, 1001.2382,  970.4761,  373.7839,  806.0172,  935.1946,\n",
      "         379.1693,  971.8498,  804.5204,  987.7538, 1660.9213, 1154.3169,\n",
      "         869.7118, 1194.9858,  988.0278,  777.7213,  875.3169,  541.5825,\n",
      "         821.8858,  564.7651,  527.2167,  922.1805,  888.3683,  981.8541,\n",
      "         796.1780,  678.2004,  551.7625,  926.4161,  580.5921, 1229.0435,\n",
      "        1059.4371, 1267.8151, 1104.2303,  850.7264,  544.0850,  788.0480,\n",
      "         953.2544, 1080.2158,  652.6459,  385.3861,  885.1789])), ('r_hat', tensor([1.0001, 1.0036, 1.0028, 1.0081, 0.9995, 0.9999, 0.9993, 1.0019, 0.9994,\n",
      "        1.0005, 1.0002, 0.9999, 1.0007, 0.9998, 1.0003, 0.9998, 0.9995, 0.9994,\n",
      "        0.9995, 1.0004, 1.0010, 0.9998, 0.9996, 1.0000, 0.9994, 0.9993, 0.9995,\n",
      "        1.0002, 1.0060, 0.9993, 0.9994, 0.9996, 0.9998, 0.9995, 1.0005, 0.9998,\n",
      "        0.9993, 0.9999, 0.9994, 1.0019, 0.9994]))]), 'divergences': {'chain 0': [87, 214, 217, 313, 342, 384, 429, 431, 483, 669, 718, 755, 766, 821, 977, 1218, 1263, 1377, 1410]}, 'acceptance rate': {'chain 0': 0.9953333333333333}}\n",
      "Registering the results in:  SX1/2023-11-19/n-6_k-3_m-8_sigma_w-0.01_sigma_p-1_n_samples-1500.yaml\n"
     ]
    },
    {
     "name": "stderr",
     "output_type": "stream",
     "text": [
      "Sample: 100%|████████████████████████████| 2000/2000 [01:10, 28.39it/s, step size=1.07e-01, acc. prob=0.724]\n"
     ]
    },
    {
     "name": "stdout",
     "output_type": "stream",
     "text": [
      "diag:  {'sigma': OrderedDict([('n_eff', tensor(212.5401)), ('r_hat', tensor(1.0061))]), 'w': OrderedDict([('n_eff', tensor([ 388.6059,  708.8696,  363.8177,  233.7596,  408.6282,  775.0720,\n",
      "         484.1060,  407.7249,  377.5070,  839.6437,  197.9911,  586.7136,\n",
      "         690.9536,  691.8040,  246.7067,  470.0968,  792.6990,  816.1155,\n",
      "         975.3648,  577.0811, 1051.0045,  669.3808,  869.3946,  286.3847,\n",
      "         464.7639,  742.5915,  496.7737,  837.8137,  666.8107,  951.5703,\n",
      "         405.1978,  652.7938,  119.2323,  456.1000,  171.5433, 1001.9001,\n",
      "         361.3120,  344.4089,  567.2477,  715.8486,  636.4147])), ('r_hat', tensor([1.0096, 0.9996, 1.0135, 1.0001, 0.9997, 0.9994, 1.0078, 0.9993, 1.0080,\n",
      "        0.9994, 1.0056, 0.9993, 1.0001, 1.0015, 0.9995, 1.0000, 1.0009, 0.9993,\n",
      "        1.0010, 1.0011, 1.0017, 0.9993, 1.0005, 1.0012, 1.0003, 1.0011, 1.0124,\n",
      "        1.0091, 0.9997, 0.9993, 1.0022, 1.0007, 1.0208, 1.0041, 0.9998, 0.9997,\n",
      "        1.0079, 0.9996, 1.0012, 1.0038, 1.0067]))]), 'divergences': {'chain 0': [34, 79, 111, 445, 463, 512, 589, 667, 872, 1206, 1263, 1269, 1321, 1323, 1324, 1325, 1326, 1328, 1337, 1339, 1342, 1343, 1344, 1354, 1366, 1379, 1415, 1421]}, 'acceptance rate': {'chain 0': 0.9506666666666667}}\n",
      "Registering the results in:  SX1/2023-11-19/n-6_k-3_m-8_sigma_w-0.01_sigma_p-0.1_n_samples-1500.yaml\n"
     ]
    },
    {
     "name": "stderr",
     "output_type": "stream",
     "text": [
      "Sample: 100%|████████████████████████████| 2000/2000 [00:59, 33.71it/s, step size=1.24e-01, acc. prob=0.709]\n"
     ]
    },
    {
     "name": "stdout",
     "output_type": "stream",
     "text": [
      "diag:  {'sigma': OrderedDict([('n_eff', tensor(77.7931)), ('r_hat', tensor(1.0033))]), 'w': OrderedDict([('n_eff', tensor([ 515.6758,  256.6445,  148.0880,  489.6887, 1402.7190,  103.9087,\n",
      "        1257.2977,  337.0280, 1180.5619,  364.5605,  565.8334,  532.2156,\n",
      "         209.0426,  123.5738,  733.9427,  884.6379,  734.0058,  365.9142,\n",
      "         154.8102, 1163.8776,  304.1391,  484.2206,  611.7816,  941.7631,\n",
      "         165.9243,  328.0862,  451.4971,  372.8144,  146.5383,  235.0695,\n",
      "         997.1630,  249.9611,  708.1524,  895.7383,  754.6059,  285.1615,\n",
      "         626.2134,  160.8058,  166.4243, 1533.8468, 1255.3893])), ('r_hat', tensor([1.0004, 1.0042, 0.9998, 1.0103, 0.9994, 1.0036, 1.0014, 1.0000, 1.0013,\n",
      "        1.0017, 1.0059, 0.9996, 1.0069, 1.0082, 0.9993, 0.9997, 0.9993, 1.0031,\n",
      "        1.0138, 1.0000, 1.0002, 0.9995, 1.0051, 0.9998, 1.0098, 0.9995, 1.0074,\n",
      "        1.0011, 0.9995, 1.0049, 0.9996, 1.0059, 1.0017, 1.0003, 1.0017, 1.0002,\n",
      "        1.0002, 1.0040, 1.0115, 0.9993, 1.0016]))]), 'divergences': {'chain 0': [47, 48, 49, 56, 59, 63, 76, 98, 99, 104, 109, 111, 112, 115, 117, 118, 119, 124, 126, 193, 249, 280, 428, 703, 792, 1036, 1178, 1183, 1185, 1186, 1193, 1198, 1200, 1362]}, 'acceptance rate': {'chain 0': 0.9246666666666666}}\n",
      "Registering the results in:  SX1/2023-11-19/n-6_k-3_m-8_sigma_w-0.01_sigma_p-0.01_n_samples-1500.yaml\n"
     ]
    },
    {
     "name": "stderr",
     "output_type": "stream",
     "text": [
      "Sample: 100%|███████████████████████████| 2000/2000 [00:15, 130.13it/s, step size=4.64e-01, acc. prob=0.211]\n"
     ]
    },
    {
     "name": "stdout",
     "output_type": "stream",
     "text": [
      "diag:  {'sigma': OrderedDict([('n_eff', tensor(34.3502)), ('r_hat', tensor(1.0333))]), 'w': OrderedDict([('n_eff', tensor([130.7243, 201.6207,  92.7295,  73.0830, 104.5999, 179.8720, 138.1501,\n",
      "        105.9842, 154.6334, 179.4601, 142.2415, 103.4414, 118.6036, 197.7314,\n",
      "        147.6084,  80.2414, 166.4577, 109.5212, 102.8921,  96.4025, 116.7533,\n",
      "        140.0991, 162.3664, 278.3502, 123.0121, 111.7131, 164.8174, 151.9311,\n",
      "        126.2361, 184.4541,  92.9620, 190.6289, 188.6412, 145.5592, 149.5143,\n",
      "        104.6139, 125.3375, 197.8706, 134.7041, 156.2839, 105.1194])), ('r_hat', tensor([1.0047, 1.0033, 1.0000, 1.0000, 1.0008, 1.0067, 1.0013, 1.0087, 1.0025,\n",
      "        1.0007, 0.9998, 0.9996, 1.0160, 0.9994, 0.9995, 1.0273, 1.0359, 1.0008,\n",
      "        1.0079, 1.0216, 1.0025, 1.0061, 1.0069, 1.0021, 0.9993, 1.0234, 1.0089,\n",
      "        0.9994, 0.9994, 1.0028, 1.0199, 0.9995, 1.0005, 1.0156, 1.0028, 1.0084,\n",
      "        1.0248, 1.0000, 1.0217, 1.0051, 1.0043]))]), 'divergences': {'chain 0': [127, 133, 136, 137, 138, 139, 141, 142, 143, 144, 152, 153, 154, 155, 156, 157, 158, 159, 160, 161, 168, 169, 170, 172, 173, 174, 175, 176, 177, 178, 179, 180, 181, 188, 197, 199, 208, 210, 211, 213, 216, 219, 220, 221, 229, 231, 232, 236, 240, 242, 245, 254, 257, 259, 265, 268, 269, 270, 271, 272, 281, 285, 287, 290, 291, 294, 295, 299, 301, 304, 309, 314, 315, 316, 318, 326, 327, 329, 331, 332, 333, 336, 337, 339, 341, 344, 345, 346, 347, 348, 349, 350, 352, 353, 355, 356, 358, 364, 367, 370, 372, 373, 374, 377, 378, 381, 385, 386, 387, 388, 390, 393, 395, 396, 399, 400, 401, 404, 405, 406, 409, 418, 419, 420, 422, 426, 430, 436, 442, 445, 448, 453, 457, 459, 460, 462, 463, 464, 466, 467, 468, 470, 471, 472, 473, 476, 477, 483, 484, 485, 487, 489, 490, 492, 493, 499, 500, 502, 511, 512, 514, 515, 517, 519, 521, 523, 524, 527, 528, 531, 533, 534, 537, 538, 540, 541, 547, 554, 557, 558, 559, 560, 561, 564, 565, 568, 569, 570, 571, 572, 574, 575, 576, 577, 578, 584, 585, 587, 591, 592, 593, 595, 596, 602, 608, 616, 617, 620, 622, 630, 636, 637, 638, 641, 643, 644, 652, 656, 658, 659, 662, 666, 670, 673, 675, 686, 687, 697, 698, 699, 700, 706, 707, 710, 711, 713, 714, 722, 724, 726, 728, 732, 733, 734, 737, 738, 741, 744, 747, 748, 749, 756, 760, 762, 763, 765, 766, 767, 768, 779, 780, 781, 783, 785, 789, 790, 793, 795, 802, 803, 808, 809, 812, 813, 816, 826, 828, 830, 832, 833, 840, 841, 842, 847, 848, 849, 850, 852, 854, 855, 856, 860, 864, 865, 866, 868, 869, 871, 874, 876, 878, 879, 889, 890, 891, 892, 893, 894, 895, 896, 897, 898, 899, 902, 903, 904, 906, 907, 908, 909, 910, 911, 916, 919, 920, 922, 927, 929, 931, 935, 936, 938, 940, 943, 944, 947, 948, 949, 950, 951, 952, 955, 956, 958, 964, 969, 970, 971, 973, 977, 979, 980, 981, 983, 987, 988, 989, 991, 992, 996, 999, 1001, 1002, 1005, 1006, 1008, 1009, 1010, 1011, 1013, 1014, 1015, 1016, 1017, 1024, 1025, 1026, 1027, 1032, 1033, 1034, 1035, 1038, 1039, 1040, 1041, 1042, 1043, 1044, 1046, 1048, 1049, 1051, 1052, 1053, 1054, 1055, 1056, 1059, 1061, 1065, 1066, 1069, 1071, 1073, 1074, 1076, 1080, 1082, 1086, 1088, 1090, 1091, 1092, 1094, 1095, 1096, 1097, 1098, 1099, 1100, 1102, 1103, 1104, 1105, 1106, 1107, 1110, 1111, 1112, 1114, 1116, 1117, 1118, 1121, 1122, 1123, 1125, 1128, 1133, 1138, 1141, 1142, 1144, 1145, 1146, 1148, 1149, 1150, 1155, 1158, 1159, 1161, 1162, 1163, 1164, 1166, 1169, 1172, 1173, 1174, 1177, 1179, 1181, 1182, 1183, 1184, 1187, 1188, 1190, 1191, 1194, 1196, 1197, 1198, 1200, 1201, 1202, 1203, 1204, 1205, 1208, 1211, 1212, 1217, 1220, 1223, 1224, 1225, 1227, 1230, 1231, 1233, 1234, 1236, 1239, 1243, 1246, 1249, 1250, 1254, 1255, 1256, 1260, 1261, 1262, 1265, 1273, 1275, 1277, 1279, 1282, 1294, 1295, 1296, 1298, 1299, 1300, 1302, 1308, 1311, 1315, 1319, 1321, 1322, 1323, 1327, 1328, 1329, 1331, 1332, 1335, 1338, 1341, 1342, 1343, 1344, 1345, 1355, 1357, 1359, 1361, 1363, 1369, 1373, 1376, 1386, 1392, 1396, 1397, 1398, 1399, 1402, 1403, 1404, 1406, 1407, 1408, 1409, 1416, 1418, 1419, 1424, 1425, 1429, 1432, 1435, 1442, 1451, 1453, 1454, 1457, 1458, 1460, 1461, 1462, 1463, 1464, 1469, 1470, 1472, 1473, 1474, 1475, 1476, 1477, 1478, 1480, 1483, 1485, 1488, 1492, 1494, 1495, 1496, 1497, 1498, 1499]}, 'acceptance rate': {'chain 0': 0.5346666666666666}}\n",
      "Registering the results in:  SX1/2023-11-19/n-6_k-3_m-8_sigma_w-0.01_sigma_p-10.0_n_samples-1500.yaml\n"
     ]
    },
    {
     "name": "stderr",
     "output_type": "stream",
     "text": [
      "Sample: 100%|████████████████████████████| 2000/2000 [01:16, 25.98it/s, step size=1.06e-01, acc. prob=0.633]\n"
     ]
    },
    {
     "name": "stdout",
     "output_type": "stream",
     "text": [
      "diag:  {'sigma': OrderedDict([('n_eff', tensor(394.1389)), ('r_hat', tensor(1.0003))]), 'w': OrderedDict([('n_eff', tensor([374.9215, 469.5489, 516.8478, 374.3743, 171.8696, 562.0886, 720.3911,\n",
      "        427.1528, 385.7104, 324.2035, 234.4620, 676.6438, 346.0851, 164.6614,\n",
      "        773.4050, 353.8307, 552.9104, 602.9583, 170.4423, 477.8781, 771.5795,\n",
      "        339.9114, 218.5874, 367.9810, 504.4534, 632.4451, 814.4417, 159.7213,\n",
      "        228.8035, 358.6061, 768.5190, 460.2761, 907.0767, 394.4407, 560.2836,\n",
      "        560.3422, 581.0297, 680.7653, 561.1022, 669.9996, 515.4750])), ('r_hat', tensor([0.9998, 1.0001, 1.0015, 1.0014, 1.0061, 0.9998, 0.9993, 0.9997, 1.0007,\n",
      "        1.0012, 1.0017, 1.0005, 1.0193, 0.9994, 1.0008, 1.0026, 1.0000, 1.0007,\n",
      "        1.0039, 1.0011, 1.0002, 1.0137, 0.9993, 1.0040, 1.0003, 1.0000, 1.0002,\n",
      "        1.0082, 1.0106, 1.0005, 1.0007, 0.9995, 0.9996, 0.9995, 1.0012, 1.0050,\n",
      "        1.0012, 0.9995, 1.0026, 1.0042, 1.0003]))]), 'divergences': {'chain 0': [57, 62, 176, 263, 319, 412, 422, 457, 503, 519, 520, 522, 536, 538, 540, 544, 700, 748, 753, 1019, 1180, 1412]}, 'acceptance rate': {'chain 0': 0.92}}\n",
      "Registering the results in:  SX1/2023-11-19/n-6_k-3_m-8_sigma_w-10.0_sigma_p-1_n_samples-1500.yaml\n"
     ]
    },
    {
     "name": "stderr",
     "output_type": "stream",
     "text": [
      "Sample: 100%|████████████████████████████| 2000/2000 [09:46,  3.41it/s, step size=1.54e-02, acc. prob=0.806]\n"
     ]
    },
    {
     "name": "stdout",
     "output_type": "stream",
     "text": [
      "diag:  {'sigma': OrderedDict([('n_eff', tensor(1053.0886)), ('r_hat', tensor(0.9993))]), 'w': OrderedDict([('n_eff', tensor([1060.5875,  781.0812,  960.7056,  600.1550,  976.3453,  641.0551,\n",
      "         718.0214,  734.0269,  855.6980, 1278.2184,  773.8116, 1161.6731,\n",
      "        1011.3911,  806.3380, 1221.5316,  618.3200,  655.0140, 1095.1821,\n",
      "         970.3776,  649.6149, 1126.5214,  551.1500,  862.5404,  830.3665,\n",
      "         836.5099, 1081.9938,  982.8011, 1111.3049, 1283.2925, 1009.6366,\n",
      "         563.5906, 1032.2008,  681.2415, 1019.2176, 1079.5228, 1196.5201,\n",
      "         632.8077, 1154.5627,  830.5995, 1037.7043,  971.6241])), ('r_hat', tensor([1.0002, 1.0000, 0.9995, 1.0061, 1.0004, 0.9996, 1.0033, 0.9998, 1.0006,\n",
      "        0.9993, 0.9994, 1.0016, 1.0043, 1.0002, 0.9996, 1.0002, 1.0000, 1.0006,\n",
      "        1.0006, 1.0027, 0.9997, 0.9998, 0.9993, 1.0035, 0.9995, 1.0012, 1.0013,\n",
      "        0.9996, 1.0003, 0.9996, 0.9999, 0.9994, 0.9994, 0.9998, 0.9993, 1.0014,\n",
      "        1.0008, 0.9995, 1.0000, 0.9999, 0.9996]))]), 'divergences': {'chain 0': [14, 117, 144, 206, 245, 338, 342, 450, 511, 526, 621, 639, 673, 718, 729, 741, 776, 783, 930, 935, 968, 1004, 1012, 1049, 1108, 1169, 1181, 1237, 1240, 1261, 1354, 1360, 1362, 1363, 1415, 1420, 1432, 1458, 1488]}, 'acceptance rate': {'chain 0': 0.9973333333333333}}\n",
      "Registering the results in:  SX1/2023-11-19/n-6_k-3_m-8_sigma_w-10.0_sigma_p-0.1_n_samples-1500.yaml\n"
     ]
    },
    {
     "name": "stderr",
     "output_type": "stream",
     "text": [
      "Sample: 100%|████████████████████████████| 2000/2000 [02:25, 13.78it/s, step size=5.65e-02, acc. prob=0.818]\n"
     ]
    },
    {
     "name": "stdout",
     "output_type": "stream",
     "text": [
      "diag:  {'sigma': OrderedDict([('n_eff', tensor(271.8741)), ('r_hat', tensor(0.9999))]), 'w': OrderedDict([('n_eff', tensor([ 385.0668,  807.6898,  453.1244,  454.8949,  668.2095,  798.5414,\n",
      "         776.3433,  633.0926,  493.3138,  644.1504,  615.6440,  404.3751,\n",
      "         559.1213,  789.0754,  306.9794,  815.0051,  902.4102, 1117.0741,\n",
      "         612.4225,  959.8064,  353.6506, 1000.3649,  580.0700,  816.6637,\n",
      "         725.0012,  137.8159,  979.1851,  280.1990,  674.0232,  532.3513,\n",
      "         435.5276,  350.5945,  672.2467,  938.1017,  841.4315,  233.4456,\n",
      "         462.0238,  287.7195,  367.6157, 1079.6620,  401.5248])), ('r_hat', tensor([1.0003, 0.9998, 0.9995, 1.0025, 1.0012, 1.0000, 0.9998, 0.9996, 1.0055,\n",
      "        1.0013, 1.0005, 1.0005, 1.0043, 0.9994, 0.9996, 1.0013, 1.0003, 0.9994,\n",
      "        0.9997, 0.9997, 1.0020, 1.0003, 0.9999, 1.0001, 1.0012, 1.0216, 1.0054,\n",
      "        1.0026, 0.9994, 1.0029, 1.0027, 0.9993, 0.9996, 0.9997, 0.9993, 1.0015,\n",
      "        1.0004, 0.9999, 1.0004, 1.0006, 0.9995]))]), 'divergences': {'chain 0': [18, 20, 24, 27, 28, 29, 30, 31, 33, 36, 38, 40, 118, 119, 120, 127, 177, 211, 235, 314, 334, 360, 838, 1060, 1064, 1065, 1072, 1168, 1251, 1352, 1446, 1460]}, 'acceptance rate': {'chain 0': 0.986}}\n",
      "Registering the results in:  SX1/2023-11-19/n-6_k-3_m-8_sigma_w-10.0_sigma_p-0.01_n_samples-1500.yaml\n"
     ]
    },
    {
     "name": "stderr",
     "output_type": "stream",
     "text": [
      "Sample: 100%|████████████████████████████| 2000/2000 [01:43, 19.32it/s, step size=1.01e-01, acc. prob=0.740]\n"
     ]
    },
    {
     "name": "stdout",
     "output_type": "stream",
     "text": [
      "diag:  {'sigma': OrderedDict([('n_eff', tensor(320.0638)), ('r_hat', tensor(0.9996))]), 'w': OrderedDict([('n_eff', tensor([ 833.6967,  757.6749,  191.0833,  794.9758,  269.8568,  227.9554,\n",
      "         265.2831,  624.7303,  401.4775,  285.7355,  765.1651,  251.6461,\n",
      "        1127.4784,  889.2026,  695.5316,  244.9896,  847.3206,  515.2676,\n",
      "         412.4454,  443.0800,  616.5683,  347.8116,  860.7729,  446.8072,\n",
      "         369.6603,  495.4876,  595.4700,  331.1309,  778.0799,  303.5638,\n",
      "         458.7917,  693.4113,  198.6218,  567.4526, 1062.6521,  275.7665,\n",
      "         385.0482,  215.4780,  509.8300,  563.8772,  997.9837])), ('r_hat', tensor([1.0011, 1.0003, 0.9993, 1.0023, 1.0136, 0.9994, 1.0004, 1.0051, 1.0039,\n",
      "        1.0079, 1.0092, 1.0142, 1.0023, 0.9997, 1.0008, 1.0018, 0.9993, 1.0000,\n",
      "        1.0054, 1.0073, 1.0004, 1.0062, 0.9996, 0.9993, 0.9993, 0.9993, 0.9993,\n",
      "        1.0110, 0.9999, 1.0123, 1.0001, 0.9999, 1.0074, 1.0003, 1.0000, 1.0075,\n",
      "        1.0021, 0.9994, 0.9994, 0.9995, 0.9996]))]), 'divergences': {'chain 0': [149, 152, 170, 173, 177, 181, 183, 187, 188, 190, 193, 194, 195, 196, 197, 202, 203, 266, 270, 704, 839, 882, 922, 1218, 1466]}, 'acceptance rate': {'chain 0': 0.9686666666666667}}\n",
      "Registering the results in:  SX1/2023-11-19/n-6_k-3_m-8_sigma_w-10.0_sigma_p-10.0_n_samples-1500.yaml\n"
     ]
    },
    {
     "name": "stderr",
     "output_type": "stream",
     "text": [
      "Sample: 100%|████████████████████████████| 2000/2000 [31:14,  1.07it/s, step size=2.72e-03, acc. prob=0.737]\n"
     ]
    },
    {
     "name": "stdout",
     "output_type": "stream",
     "text": [
      "diag:  {'sigma': OrderedDict([('n_eff', tensor(257.1900)), ('r_hat', tensor(1.0090))]), 'w': OrderedDict([('n_eff', tensor([192.4753, 205.3830, 207.1075, 176.4459, 263.6700, 152.9142, 191.9624,\n",
      "        317.1083, 274.1996, 158.8143, 257.9637, 241.1061, 465.8093, 288.8229,\n",
      "        287.9355, 269.0413, 168.7834,  64.1539, 304.0679, 411.8748, 220.8953,\n",
      "        208.7443, 309.3412, 400.3913, 216.0437, 147.9491, 120.1197, 286.3925,\n",
      "        261.8252, 355.5341, 238.4186, 253.7811,  97.0375, 167.1975, 392.1823,\n",
      "        389.3415, 186.0901, 174.5559, 457.2003,  76.7994, 227.7561])), ('r_hat', tensor([0.9999, 1.0027, 1.0024, 1.0123, 1.0013, 1.0050, 0.9998, 1.0009, 1.0035,\n",
      "        0.9995, 1.0026, 1.0189, 0.9993, 1.0050, 1.0144, 1.0028, 1.0029, 0.9999,\n",
      "        1.0014, 0.9996, 1.0122, 1.0017, 1.0101, 1.0012, 0.9994, 0.9999, 1.0026,\n",
      "        1.0046, 1.0054, 0.9997, 0.9999, 1.0036, 1.0015, 0.9995, 0.9994, 0.9999,\n",
      "        1.0125, 1.0087, 0.9995, 0.9995, 1.0092]))]), 'divergences': {'chain 0': [62, 73, 80, 140, 141, 142, 163, 164, 215, 230, 239, 263, 295, 311, 376, 448, 555, 604, 663, 664, 701, 736, 772, 813, 848, 858, 871, 873, 874, 876, 877, 878, 880, 881, 882, 883, 884, 885, 886, 887, 891, 895, 896, 897, 898, 899, 900, 901, 902, 909, 913, 918, 921, 923, 927, 928, 929, 930, 999, 1000, 1007, 1009, 1051, 1079, 1094, 1095, 1130, 1132, 1134, 1136, 1138, 1139, 1140, 1141, 1143, 1144, 1145, 1146, 1147, 1148, 1150, 1151, 1152, 1153, 1154, 1161, 1162, 1163, 1164, 1166, 1170, 1173, 1176, 1179, 1180, 1181, 1187, 1188, 1192, 1193, 1199, 1366, 1378, 1413, 1423, 1437, 1460, 1486, 1487]}, 'acceptance rate': {'chain 0': 0.9993333333333333}}\n",
      "Registering the results in:  SX1/2023-11-19/n-6_k-4_m-8_sigma_w-1_sigma_p-1_n_samples-1500.yaml\n"
     ]
    },
    {
     "name": "stderr",
     "output_type": "stream",
     "text": [
      "Sample: 100%|████████████████████████████| 2000/2000 [01:28, 22.58it/s, step size=1.12e-01, acc. prob=0.700]\n"
     ]
    },
    {
     "name": "stdout",
     "output_type": "stream",
     "text": [
      "diag:  {'sigma': OrderedDict([('n_eff', tensor(468.2498)), ('r_hat', tensor(0.9998))]), 'w': OrderedDict([('n_eff', tensor([ 412.5641,  527.0801,  791.4222,  786.1576,  495.6295,  498.4817,\n",
      "         397.5953,  638.1176,  640.3049,  529.9902,  413.7999,  635.0193,\n",
      "         441.5174,  618.2350,  634.6376,  724.6000,  379.0485,  683.6909,\n",
      "         413.0883,  625.5479,  621.8700,  599.0223,  509.0099,  545.2108,\n",
      "         598.5147,  562.6964,  781.4550,  556.4364,  438.4947,  469.9204,\n",
      "         628.5577,  597.2769,  966.3179,  756.3294,  647.5309,  339.7378,\n",
      "         579.1371,  797.2139,  396.7416,  830.8795,  557.3749,  591.8572,\n",
      "         611.1057, 1119.4658,  429.1757,  639.2483,  536.7053,  948.8054,\n",
      "         540.9036,  623.0283,  801.8696,  512.9984,  421.3909,  631.7303,\n",
      "        1007.9946,  748.2613])), ('r_hat', tensor([1.0003, 1.0001, 1.0004, 1.0000, 1.0004, 0.9994, 1.0022, 0.9994, 1.0021,\n",
      "        0.9995, 1.0075, 1.0004, 0.9996, 1.0016, 0.9997, 0.9993, 1.0001, 0.9998,\n",
      "        1.0012, 0.9993, 0.9993, 1.0052, 1.0002, 1.0004, 1.0001, 1.0010, 1.0021,\n",
      "        1.0007, 1.0197, 0.9995, 1.0017, 1.0004, 1.0062, 0.9998, 0.9998, 1.0039,\n",
      "        1.0027, 1.0000, 1.0000, 0.9998, 0.9994, 1.0019, 1.0002, 0.9994, 0.9996,\n",
      "        1.0032, 0.9995, 1.0016, 1.0034, 0.9993, 1.0052, 1.0000, 1.0008, 1.0004,\n",
      "        0.9998, 1.0007]))]), 'divergences': {'chain 0': [4, 41, 44, 45, 92, 157, 159, 302, 388, 391, 453, 510, 567, 626, 661, 685, 880, 982, 987, 1327, 1353, 1402, 1405, 1442, 1444, 1446, 1448, 1449, 1452, 1453, 1466, 1471, 1493]}, 'acceptance rate': {'chain 0': 0.946}}\n",
      "Registering the results in:  SX1/2023-11-19/n-6_k-4_m-8_sigma_w-1_sigma_p-0.1_n_samples-1500.yaml\n"
     ]
    },
    {
     "name": "stderr",
     "output_type": "stream",
     "text": [
      "Sample: 100%|████████████████████████████| 2000/2000 [01:53, 17.55it/s, step size=9.75e-02, acc. prob=0.716]\n"
     ]
    },
    {
     "name": "stdout",
     "output_type": "stream",
     "text": [
      "diag:  {'sigma': OrderedDict([('n_eff', tensor(366.5648)), ('r_hat', tensor(1.0011))]), 'w': OrderedDict([('n_eff', tensor([ 472.8763,  805.8082,  634.6381,  955.7746,  811.9014,  590.6646,\n",
      "         908.6186,  652.3631,  683.5454,  475.6772,  497.6592,  568.5312,\n",
      "         455.2356,  691.0026,  691.8518,  933.8276,  810.9117,  561.6003,\n",
      "         954.9142,  741.9510,  497.2172,  743.8358,  821.7717,  537.4445,\n",
      "        1060.5544,  964.8417, 1017.9377, 1069.9541,  499.9042,  760.1219,\n",
      "         717.4867,  770.4538, 1174.5807,  955.9658, 1180.7058,  557.6371,\n",
      "        1005.1973,  757.8813,  537.7061,  584.7090,  765.8378,  526.7404,\n",
      "         982.2812,  751.5035,  975.1987,  893.3240,  573.5519,  931.2097,\n",
      "         549.8864,  789.6983,  537.6848,  752.1894,  580.9171,  693.1594,\n",
      "         844.4647, 1142.6216])), ('r_hat', tensor([0.9998, 0.9995, 1.0000, 1.0000, 0.9994, 0.9994, 0.9994, 1.0000, 0.9997,\n",
      "        1.0012, 1.0007, 0.9997, 1.0002, 0.9994, 0.9993, 0.9996, 0.9996, 0.9996,\n",
      "        1.0014, 1.0002, 1.0081, 0.9995, 0.9995, 0.9996, 0.9996, 0.9998, 1.0004,\n",
      "        1.0003, 1.0020, 1.0002, 1.0027, 0.9994, 1.0001, 0.9994, 1.0014, 1.0051,\n",
      "        1.0008, 1.0035, 1.0058, 1.0002, 1.0086, 0.9994, 1.0009, 1.0011, 1.0008,\n",
      "        0.9995, 1.0028, 1.0003, 1.0036, 1.0021, 0.9995, 1.0030, 1.0087, 1.0003,\n",
      "        0.9997, 1.0014]))]), 'divergences': {'chain 0': [27, 92, 97, 101, 102, 104, 105, 106, 163, 180, 393, 398, 434, 453, 518, 644, 700, 933, 1087, 1178, 1182, 1184, 1185, 1186, 1188, 1191, 1196, 1278, 1353, 1359, 1450]}, 'acceptance rate': {'chain 0': 0.976}}\n",
      "Registering the results in:  SX1/2023-11-19/n-6_k-4_m-8_sigma_w-1_sigma_p-0.01_n_samples-1500.yaml\n"
     ]
    },
    {
     "name": "stderr",
     "output_type": "stream",
     "text": [
      "Sample: 100%|████████████████████████████| 2000/2000 [02:00, 16.55it/s, step size=7.77e-02, acc. prob=0.814]\n"
     ]
    },
    {
     "name": "stdout",
     "output_type": "stream",
     "text": [
      "diag:  {'sigma': OrderedDict([('n_eff', tensor(107.0777)), ('r_hat', tensor(1.0188))]), 'w': OrderedDict([('n_eff', tensor([ 279.2449,  264.1817, 1337.1633, 1102.7197, 1014.4617, 1009.0999,\n",
      "        1297.6251,  494.6512,  708.3409, 1097.0702,  685.8394,  524.8637,\n",
      "         568.4676,  312.7893,  687.0889,  422.6514, 1168.0974,  927.3365,\n",
      "         531.3776,  866.8712,  611.7709,  537.0356,  909.8967, 1409.9285,\n",
      "         651.5184,  537.0331, 1014.6049,  709.6889,  798.9111,  655.2649,\n",
      "         580.8084, 1026.6396,  485.0591,  400.6620,  782.2908,  657.7437,\n",
      "         198.1607, 1950.8433,  508.7551,  767.4060,  192.7249, 1044.3903,\n",
      "        1420.3154, 1411.1479,  278.3634, 1566.4392,  936.4387, 1041.5145,\n",
      "         604.3523, 1692.1046,  697.6591,  486.2647,  744.3118,  264.5369,\n",
      "         466.8637,  255.3031])), ('r_hat', tensor([1.0019, 1.0044, 0.9999, 0.9996, 1.0001, 1.0002, 0.9994, 0.9993, 1.0011,\n",
      "        0.9997, 0.9994, 1.0026, 1.0005, 0.9997, 0.9994, 1.0042, 0.9995, 1.0007,\n",
      "        1.0051, 1.0039, 1.0003, 1.0044, 0.9994, 0.9996, 1.0036, 0.9998, 1.0004,\n",
      "        1.0035, 1.0022, 0.9995, 1.0005, 0.9993, 0.9993, 0.9997, 1.0005, 1.0027,\n",
      "        1.0038, 1.0025, 1.0048, 1.0012, 1.0094, 0.9998, 0.9998, 0.9994, 1.0117,\n",
      "        0.9993, 0.9995, 0.9996, 0.9993, 1.0000, 0.9996, 0.9995, 0.9993, 1.0014,\n",
      "        1.0017, 1.0055]))]), 'divergences': {'chain 0': [356, 483, 484, 487, 488, 489, 490, 491, 492, 493, 494, 495, 496, 497, 498, 500, 501, 502, 503, 504, 506, 508, 510, 512, 513, 515, 604, 690, 831, 957, 1161, 1428, 1436, 1437, 1438, 1442, 1445, 1448, 1458]}, 'acceptance rate': {'chain 0': 0.988}}\n",
      "Registering the results in:  SX1/2023-11-19/n-6_k-4_m-8_sigma_w-1_sigma_p-10.0_n_samples-1500.yaml\n"
     ]
    },
    {
     "name": "stderr",
     "output_type": "stream",
     "text": [
      "Sample:  51%|██████████████▏             | 1013/2000 [05:07,  3.97it/s, step size=1.65e-02, acc. prob=0.777]"
     ]
    }
   ],
   "source": [
    "import time\n",
    "\n",
    "TEST_NAME = \"SX1\"\n",
    "\n",
    "REPLACE = False\n",
    "\n",
    "n_vals = [5,6,7,8,9,10]\n",
    "sigma_weights = 10\n",
    "sigma_w_vals = [1, 1e-1, 1e-2, 1e1]\n",
    "sigma_p_vals = [1, 1e-1, 1e-2, 1e1]\n",
    "n_samples = 1500\n",
    "\n",
    "\n",
    "for n in n_vals:\n",
    "    for m in list(2**i for i in range(2, n)):\n",
    "        for k in range(1, n-1):\n",
    "                for sigma_w in sigma_w_vals:\n",
    "                    for sigma_p in sigma_p_vals:\n",
    "                        \n",
    "                        run_d = {\n",
    "                            \"n\": n,\n",
    "                            \"k\": k,\n",
    "                            \"m\": m,\n",
    "                            \"sigma_w\": sigma_w,\n",
    "                            \"sigma_p\": sigma_p,\n",
    "                            \"n_samples\": n_samples\n",
    "                        }\n",
    "\n",
    "                        found = find_experiment_file(run_d, TEST_NAME)\n",
    "\n",
    "                        if found:\n",
    "                            date = found\n",
    "                            print(f\"Found file: {file_name}\")\n",
    "\n",
    "                            if REPLACE:\n",
    "                                print('Replacing it...')\n",
    "                            else:\n",
    "                                continue\n",
    "                        else:\n",
    "                            file_name = compute_experiment_file_name(run_d, TEST_NAME)\n",
    "                            print(\"Registering the results in: \", file_name)\n",
    "\n",
    "                        theta = generate_additive_theta(n, k)\n",
    "                        weights = generate_normal_weights(theta, sigma_weights)\n",
    "                        alternatives = generate_random_alternatives_matrix(m, n)\n",
    "                        ranks = compute_ws_ranks(alternatives, theta, weights)\n",
    "                        t_sv = compute_semivalues(n, theta, weights, lambda x:1)\n",
    "                        preferences = PreferenceModel(alternatives, ranks)\n",
    "                        data = preferences.generate_preference_matrix(theta)\n",
    "                        data = torch.tensor(data).float()\n",
    "                        t = time.time()\n",
    "                        model = posterior_sampling_model(data, sigma_w=sigma_w, sigma_p=sigma_p)\n",
    "                        diag, sampled_weights, sigmas = sample_model(model, data, \"w\", \"sigma\", warmup_steps=500, num_samples=n_samples, return_diag=True)\n",
    "                        t = time.time() - t\n",
    "                        accs_d = get_acc_distribution(data, sampled_weights, sigmas)\n",
    "\n",
    "                        predicted_rankings = [np.argsort(compute_semivalues(n, theta, weights, lambda x:1))[::-1] for weights in sampled_weights]\n",
    "                        kt_d = get_kt_distribution(predicted_rankings, np.argsort(t_sv))\n",
    "\n",
    "                        file_path = record_experiment_results(run_d, TEST_NAME)\n",
    "                        run_d[\"time\"] = t\n",
    "                        run_d[\"weights\"] = weights.tolist()\n",
    "                        run_d[\"predicted_rankings\"] = [i.tolist() for i in predicted_rankings]\n",
    "                        run_d[\"accuracy_distribution\"] = [i.tolist() for i in accs_d]\n",
    "                        run_d[\"kt_d\"] = [i.tolist() for i in kt_d]\n",
    "                        run_d[\"acceptance_rate\"] = diag[\"acceptance rate\"][\"chain 0\"]\n",
    "                        run_d[\"w_eff\"] = [float(i) for i in diag[\"w\"][\"n_eff\"].numpy()]\n",
    "                        run_d[\"w_rhat\"] = [float(i) for i in diag[\"w\"][\"r_hat\"].numpy()]\n",
    "\n",
    "                        print(\"diag: \", diag)\n",
    "                        with open(file_path, 'w') as file:\n",
    "                            yaml.dump(run_d, file, default_flow_style=False)\n",
    "\n"
   ]
  },
  {
   "cell_type": "code",
   "execution_count": null,
   "metadata": {
    "id": "q4obFAYcT_kO"
   },
   "outputs": [],
   "source": [
    "preferences = PreferenceModel(alternatives, ranks)\n",
    "data = preferences.generate_preference_matrix(theta)"
   ]
  }
 ],
 "metadata": {
  "colab": {
   "provenance": []
  },
  "kernelspec": {
   "display_name": "Python 3 (ipykernel)",
   "language": "python",
   "name": "python3"
  },
  "language_info": {
   "codemirror_mode": {
    "name": "ipython",
    "version": 3
   },
   "file_extension": ".py",
   "mimetype": "text/x-python",
   "name": "python",
   "nbconvert_exporter": "python",
   "pygments_lexer": "ipython3",
   "version": "3.9.10"
  }
 },
 "nbformat": 4,
 "nbformat_minor": 4
}
