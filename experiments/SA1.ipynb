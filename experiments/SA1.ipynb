{
 "cells": [
  {
   "cell_type": "code",
   "execution_count": 4,
   "id": "997b6b10-9f6d-4e20-a4d3-9dfb434df6a6",
   "metadata": {},
   "outputs": [],
   "source": [
    "import matplotlib.pyplot as plt\n",
    "import numpy as np\n",
    "import pandas as pd\n",
    "import seaborn as sns"
   ]
  },
  {
   "cell_type": "code",
   "execution_count": 16,
   "id": "a1390b26-7369-4720-b656-1bfb988a7402",
   "metadata": {},
   "outputs": [],
   "source": [
    "import glob\n",
    "import yaml\n",
    "\n",
    "from collections import OrderedDict\n",
    "\n",
    "def ordered_dict_constructor(loader, node):\n",
    "    data = OrderedDict()\n",
    "    yield data\n",
    "    value = loader.construct_mapping(node)\n",
    "    data.update(value)\n",
    "\n",
    "yaml.add_constructor('tag:yaml.org,2002:python/object/apply:collections.OrderedDict', ordered_dict_constructor, Loader=yaml.FullLoader)\n",
    "\n",
    "\n",
    "def load_yaml_files_from_directory(directory):\n",
    "    \"\"\"\n",
    "    Load all YAML files from a specified directory and return a list of dictionaries.\n",
    "    Handles Python-specific tags using FullLoader.\n",
    "\n",
    "    Parameters:\n",
    "    directory (str): The path to the directory containing the YAML files.\n",
    "\n",
    "    Returns:\n",
    "    list: A list of dictionaries extracted from the YAML files.\n",
    "    \"\"\"\n",
    "    yaml_files = glob.glob(f\"{directory}/*.yaml\")\n",
    "    all_dicts = []\n",
    "\n",
    "    for file_path in yaml_files:\n",
    "        with open(file_path, 'r') as file:\n",
    "            try:\n",
    "                data = yaml.load(file, Loader=yaml.FullLoader)\n",
    "                if isinstance(data, dict):\n",
    "                    all_dicts.append(data)\n",
    "            except yaml.YAMLError as exc:\n",
    "                print(f\"Error parsing YAML file {file_path}: {exc}\")\n",
    "\n",
    "    return all_dicts\n",
    "\n"
   ]
  },
  {
   "cell_type": "code",
   "execution_count": 29,
   "id": "95674fb0-b87d-4c8b-85fd-da4169a1eaa1",
   "metadata": {},
   "outputs": [
    {
     "name": "stdout",
     "output_type": "stream",
     "text": [
      "Found:  31\n",
      "Remaining 30 with acc.prob > 0.95\n"
     ]
    }
   ],
   "source": [
    "min_acc_prob = 0.95\n",
    "dicts = load_yaml_files_from_directory(\"SX1/2023-11-18\")\n",
    "print(\"Found: \", len(dicts))\n",
    "dicts = [i for i in dicts if i[\"acceptance_rate\"] > min_acc_prob]\n",
    "print(f\"Remaining {len(dicts)} with acc.prob > {min_acc_prob}\")"
   ]
  },
  {
   "cell_type": "code",
   "execution_count": null,
   "id": "0d382416-70f3-43b8-95f1-2d66fcccf412",
   "metadata": {},
   "outputs": [],
   "source": []
  }
 ],
 "metadata": {
  "kernelspec": {
   "display_name": "Python 3 (ipykernel)",
   "language": "python",
   "name": "python3"
  },
  "language_info": {
   "codemirror_mode": {
    "name": "ipython",
    "version": 3
   },
   "file_extension": ".py",
   "mimetype": "text/x-python",
   "name": "python",
   "nbconvert_exporter": "python",
   "pygments_lexer": "ipython3",
   "version": "3.9.10"
  }
 },
 "nbformat": 4,
 "nbformat_minor": 5
}
