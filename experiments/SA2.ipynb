{
 "cells": [
  {
   "cell_type": "code",
   "execution_count": 1,
   "id": "997b6b10-9f6d-4e20-a4d3-9dfb434df6a6",
   "metadata": {},
   "outputs": [
    {
     "name": "stdout",
     "output_type": "stream",
     "text": [
      "Cloning into 'Eunomia'...\n",
      "remote: Enumerating objects: 139, done.\u001b[K\n",
      "remote: Counting objects: 100% (139/139), done.\u001b[K\n",
      "remote: Compressing objects: 100% (83/83), done.\u001b[K\n",
      "remote: Total 139 (delta 79), reused 111 (delta 51), pack-reused 0\u001b[K\n",
      "Receiving objects: 100% (139/139), 326.76 KiB | 978.00 KiB/s, done.\n",
      "Resolving deltas: 100% (79/79), done.\n",
      "Requirement already satisfied: torch in /home/mohamed/miniconda3/lib/python3.9/site-packages (from -r Eunomia/requirements.txt (line 1)) (1.11.0)\n",
      "Requirement already satisfied: pyro-ppl in /home/mohamed/miniconda3/lib/python3.9/site-packages (from -r Eunomia/requirements.txt (line 2)) (1.8.6)\n",
      "Requirement already satisfied: cvxpy in /home/mohamed/miniconda3/lib/python3.9/site-packages (from -r Eunomia/requirements.txt (line 3)) (1.1.18)\n",
      "Requirement already satisfied: typing_extensions in /home/mohamed/miniconda3/lib/python3.9/site-packages (from torch->-r Eunomia/requirements.txt (line 1)) (4.8.0)\n",
      "Requirement already satisfied: tqdm>=4.36 in /home/mohamed/miniconda3/lib/python3.9/site-packages (from pyro-ppl->-r Eunomia/requirements.txt (line 2)) (4.62.3)\n",
      "Requirement already satisfied: pyro-api>=0.1.1 in /home/mohamed/miniconda3/lib/python3.9/site-packages (from pyro-ppl->-r Eunomia/requirements.txt (line 2)) (0.1.2)\n",
      "Requirement already satisfied: numpy>=1.7 in /home/mohamed/miniconda3/lib/python3.9/site-packages (from pyro-ppl->-r Eunomia/requirements.txt (line 2)) (1.22.1)\n",
      "Requirement already satisfied: opt-einsum>=2.3.2 in /home/mohamed/miniconda3/lib/python3.9/site-packages (from pyro-ppl->-r Eunomia/requirements.txt (line 2)) (3.3.0)\n",
      "Requirement already satisfied: scipy>=1.1.0 in /home/mohamed/miniconda3/lib/python3.9/site-packages (from cvxpy->-r Eunomia/requirements.txt (line 3)) (1.11.3)\n",
      "Requirement already satisfied: scs>=1.1.6 in /home/mohamed/miniconda3/lib/python3.9/site-packages (from cvxpy->-r Eunomia/requirements.txt (line 3)) (3.1.0)\n",
      "Requirement already satisfied: osqp>=0.4.1 in /home/mohamed/miniconda3/lib/python3.9/site-packages (from cvxpy->-r Eunomia/requirements.txt (line 3)) (0.6.2.post4)\n",
      "Requirement already satisfied: ecos>=2 in /home/mohamed/miniconda3/lib/python3.9/site-packages (from cvxpy->-r Eunomia/requirements.txt (line 3)) (2.0.10)\n",
      "Requirement already satisfied: qdldl in /home/mohamed/miniconda3/lib/python3.9/site-packages (from osqp>=0.4.1->cvxpy->-r Eunomia/requirements.txt (line 3)) (0.1.5.post0)\n"
     ]
    }
   ],
   "source": [
    "!rm -rf Eunomia\n",
    "!git clone https://github.com/ouaguenouni/Eunomia\n",
    "!pip install -r Eunomia/requirements.txt"
   ]
  },
  {
   "cell_type": "code",
   "execution_count": 1,
   "id": "ef99c643-2f1e-41a2-b99c-5cb9b585345e",
   "metadata": {},
   "outputs": [],
   "source": [
    "import matplotlib.pyplot as plt\n",
    "import numpy as np\n",
    "import pandas as pd\n",
    "import seaborn as sns\n",
    "from Eunomia.experiments import *"
   ]
  },
  {
   "cell_type": "code",
   "execution_count": 2,
   "id": "95674fb0-b87d-4c8b-85fd-da4169a1eaa1",
   "metadata": {},
   "outputs": [
    {
     "name": "stdout",
     "output_type": "stream",
     "text": [
      "Found:  33\n",
      "Remaining 32 with acc.prob > 0.9\n"
     ]
    }
   ],
   "source": [
    "min_acc_prob = 0.90\n",
    "dicts = load_yaml_files_from_directory(\"SX2/2023-11-19\")\n",
    "print(\"Found: \", len(dicts))\n",
    "dicts = [i for i in dicts if i[\"acceptance_rate\"] > min_acc_prob]\n",
    "print(f\"Remaining {len(dicts)} with acc.prob > {min_acc_prob}\")"
   ]
  },
  {
   "cell_type": "code",
   "execution_count": 3,
   "id": "520465fe-527b-4979-9b73-d373fe1c9d6f",
   "metadata": {},
   "outputs": [
    {
     "data": {
      "text/plain": [
       "dict_keys(['acceptance_rate', 'accuracy_distribution', 'k', 'kt_d', 'm', 'n', 'n_samples', 'predicted_rankings', 'sigma_p', 'sigma_w', 'time', 'w_eff', 'w_rhat', 'weights'])"
      ]
     },
     "execution_count": 3,
     "metadata": {},
     "output_type": "execute_result"
    }
   ],
   "source": [
    "dicts[0].keys()"
   ]
  },
  {
   "cell_type": "code",
   "execution_count": 18,
   "id": "0d382416-70f3-43b8-95f1-2d66fcccf412",
   "metadata": {
    "scrolled": true,
    "tags": []
   },
   "outputs": [
    {
     "name": "stdout",
     "output_type": "stream",
     "text": [
      "==========\n",
      "n = 8, m = 16, ratio = 0.5\n",
      "Acc Mean:  0.9853722288608551\n",
      "KT mean:  12.442\n",
      "==========\n",
      "n = 6, m = 16, ratio = 0.6666666666666666\n",
      "Acc Mean:  0.9840611159801483\n",
      "KT mean:  3.4426666666666668\n",
      "==========\n",
      "n = 10, m = 16, ratio = 0.4\n",
      "Acc Mean:  0.983955560763677\n",
      "KT mean:  22.479333333333333\n",
      "==========\n",
      "n = 10, m = 128, ratio = 0.7\n",
      "Acc Mean:  0.9995182090997696\n",
      "KT mean:  0.0\n",
      "==========\n",
      "n = 10, m = 64, ratio = 0.6\n",
      "Acc Mean:  0.9980797028541565\n",
      "KT mean:  5.506\n",
      "==========\n",
      "n = 10, m = 8, ratio = 0.3\n",
      "Acc Mean:  0.9521428574323654\n",
      "KT mean:  21.367333333333335\n",
      "==========\n",
      "n = 6, m = 8, ratio = 0.5\n",
      "Acc Mean:  0.9472380953629812\n",
      "KT mean:  7.856\n",
      "==========\n",
      "n = 9, m = 128, ratio = 0.7777777777777778\n",
      "Acc Mean:  0.9991637913386027\n",
      "KT mean:  0.0\n",
      "==========\n",
      "n = 6, m = 32, ratio = 0.8333333333333334\n",
      "Acc Mean:  0.9944556504487991\n",
      "KT mean:  0.0\n",
      "==========\n",
      "n = 10, m = 4, ratio = 0.2\n",
      "Acc Mean:  0.7813333314458529\n",
      "KT mean:  23.156666666666666\n",
      "==========\n",
      "n = 10, m = 32, ratio = 0.5\n",
      "Acc Mean:  0.9949946284294129\n",
      "KT mean:  18.912666666666667\n",
      "==========\n",
      "n = 7, m = 64, ratio = 0.8571428571428571\n",
      "Acc Mean:  0.9976742813587188\n",
      "KT mean:  1.044\n",
      "==========\n",
      "n = 6, m = 4, ratio = 0.3333333333333333\n",
      "Acc Mean:  0.79422221900026\n",
      "KT mean:  7.371333333333333\n",
      "==========\n",
      "n = 9, m = 4, ratio = 0.2222222222222222\n",
      "Acc Mean:  0.7502222214837869\n",
      "KT mean:  17.544666666666668\n",
      "==========\n",
      "n = 5, m = 16, ratio = 0.8\n",
      "Acc Mean:  0.9853833392858505\n",
      "KT mean:  4.004\n",
      "==========\n",
      "n = 5, m = 4, ratio = 0.4\n",
      "Acc Mean:  0.7933333312769731\n",
      "KT mean:  5.088666666666667\n",
      "==========\n",
      "n = 8, m = 8, ratio = 0.375\n",
      "Acc Mean:  0.9408095237811407\n",
      "KT mean:  14.488\n",
      "==========\n",
      "n = 9, m = 256, ratio = 0.8888888888888888\n",
      "Acc Mean:  0.9998392385641733\n",
      "KT mean:  0.0\n",
      "==========\n",
      "n = 10, m = 512, ratio = 0.9\n",
      "Acc Mean:  0.9999144166310628\n",
      "KT mean:  0.0\n",
      "==========\n",
      "n = 7, m = 32, ratio = 0.7142857142857143\n",
      "Acc Mean:  0.994938176870346\n",
      "KT mean:  3.4026666666666667\n",
      "==========\n",
      "n = 8, m = 32, ratio = 0.625\n",
      "Acc Mean:  0.9942674785852432\n",
      "KT mean:  6.072666666666667\n",
      "==========\n",
      "n = 8, m = 64, ratio = 0.75\n",
      "Acc Mean:  0.9982877049446106\n",
      "KT mean:  7.116\n",
      "==========\n",
      "n = 10, m = 256, ratio = 0.8\n",
      "Acc Mean:  0.9997907303174337\n",
      "KT mean:  0.0\n",
      "==========\n",
      "n = 7, m = 16, ratio = 0.5714285714285714\n",
      "Acc Mean:  0.9866722279389699\n",
      "KT mean:  11.952\n",
      "==========\n",
      "n = 9, m = 8, ratio = 0.3333333333333333\n",
      "Acc Mean:  0.9530238103469213\n",
      "KT mean:  16.511333333333333\n",
      "==========\n",
      "n = 9, m = 16, ratio = 0.4444444444444444\n",
      "Acc Mean:  0.9851666712760925\n",
      "KT mean:  16.468\n",
      "==========\n",
      "n = 8, m = 4, ratio = 0.25\n",
      "Acc Mean:  0.8223333304921786\n",
      "KT mean:  14.592666666666666\n",
      "==========\n",
      "n = 7, m = 4, ratio = 0.2857142857142857\n",
      "Acc Mean:  0.7379999982217947\n",
      "KT mean:  10.814666666666668\n",
      "==========\n",
      "n = 8, m = 128, ratio = 0.875\n",
      "Acc Mean:  0.9996126155058543\n",
      "KT mean:  0.0\n",
      "==========\n",
      "n = 9, m = 32, ratio = 0.5555555555555556\n",
      "Acc Mean:  0.9943440914154053\n",
      "KT mean:  14.102666666666666\n",
      "==========\n",
      "n = 7, m = 8, ratio = 0.42857142857142855\n",
      "Acc Mean:  0.9500476192235947\n",
      "KT mean:  8.438666666666666\n",
      "==========\n",
      "n = 9, m = 64, ratio = 0.6666666666666666\n",
      "Acc Mean:  0.9979434601068496\n",
      "KT mean:  11.045333333333334\n"
     ]
    }
   ],
   "source": [
    "ratios = []\n",
    "kts = []\n",
    "accs = []\n",
    "for d in dicts:\n",
    "    print(\"==========\")\n",
    "    print(f\"n = {d['n']}, m = {d['m']}, ratio = {np.log2(d['m'])/d['n']}\")\n",
    "    print(\"Acc Mean: \", np.array(d[\"accuracy_distribution\"]).mean())\n",
    "    print(\"KT mean: \", np.array(d[\"kt_d\"]).mean())\n",
    "    ratios.append(np.log2(d['m'])/d['n'])\n",
    "    kts.append(np.array(d[\"kt_d\"]).mean())\n",
    "    accs.append(np.array(d[\"accuracy_distribution\"]).mean())\n",
    "    #plt.show()\n",
    "\n",
    "paired = sorted(zip(ratios, accs, kts))\n",
    "ratios, accs, kts = zip(*paired)\n",
    "ratios = list(ratios)\n",
    "accs = list(accs)\n",
    "kts = list(kts)\n"
   ]
  },
  {
   "cell_type": "code",
   "execution_count": 25,
   "id": "35c3df8f-a851-4c75-b152-7064aae0e71d",
   "metadata": {},
   "outputs": [
    {
     "data": {
      "image/png": "[encoded data removed]",
      "text/plain": [
       "<Figure size 432x288 with 1 Axes>"
      ]
     },
     "metadata": {
      "needs_background": "light"
     },
     "output_type": "display_data"
    }
   ],
   "source": [
    "plt.scatter(ratios, accs)\n",
    "plt.savefig(\"figs/acc_evolution.png\")"
   ]
  },
  {
   "cell_type": "code",
   "execution_count": 26,
   "id": "a66530c3-e1e1-409e-86be-55538f7da5b9",
   "metadata": {},
   "outputs": [
    {
     "data": {
      "image/png": "[encoded data removed]",
      "text/plain": [
       "<Figure size 432x288 with 1 Axes>"
      ]
     },
     "metadata": {
      "needs_background": "light"
     },
     "output_type": "display_data"
    }
   ],
   "source": [
    "plt.scatter(ratios, kts)\n",
    "plt.savefig(\"figs/kt_evolution.png\")"
   ]
  },
  {
   "cell_type": "code",
   "execution_count": null,
   "id": "776467da-2d2e-4472-ad60-4b8f3ca06c43",
   "metadata": {},
   "outputs": [],
   "source": []
  }
 ],
 "metadata": {
  "kernelspec": {
   "display_name": "Python 3 (ipykernel)",
   "language": "python",
   "name": "python3"
  },
  "language_info": {
   "codemirror_mode": {
    "name": "ipython",
    "version": 3
   },
   "file_extension": ".py",
   "mimetype": "text/x-python",
   "name": "python",
   "nbconvert_exporter": "python",
   "pygments_lexer": "ipython3",
   "version": "3.9.10"
  }
 },
 "nbformat": 4,
 "nbformat_minor": 5
}
