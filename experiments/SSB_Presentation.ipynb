{
 "cells": [
  {
   "cell_type": "code",
   "execution_count": 1,
   "id": "d5b5c9b0-95c4-455f-aa72-212075fa883b",
   "metadata": {},
   "outputs": [
    {
     "name": "stdout",
     "output_type": "stream",
     "text": [
      "Cloning into 'Eunomia'...\n",
      "remote: Enumerating objects: 434, done.\u001b[K\n",
      "remote: Counting objects: 100% (434/434), done.\u001b[K\n",
      "remote: Compressing objects: 100% (138/138), done.\u001b[K\n",
      "remote: Total 434 (delta 335), reused 389 (delta 290), pack-reused 0\u001b[K\n",
      "Receiving objects: 100% (434/434), 2.74 MiB | 2.04 MiB/s, done.\n",
      "Resolving deltas: 100% (335/335), done.\n",
      "Requirement already satisfied: torch in /home/mohamed/miniconda3/lib/python3.9/site-packages (from -r Eunomia/requirements.txt (line 1)) (1.11.0)\n",
      "Requirement already satisfied: pyro-ppl in /home/mohamed/miniconda3/lib/python3.9/site-packages (from -r Eunomia/requirements.txt (line 2)) (1.8.6)\n",
      "Requirement already satisfied: cvxpy in /home/mohamed/miniconda3/lib/python3.9/site-packages (from -r Eunomia/requirements.txt (line 3)) (1.1.18)\n",
      "Requirement already satisfied: typing_extensions in /home/mohamed/miniconda3/lib/python3.9/site-packages (from torch->-r Eunomia/requirements.txt (line 1)) (4.8.0)\n",
      "Requirement already satisfied: pyro-api>=0.1.1 in /home/mohamed/miniconda3/lib/python3.9/site-packages (from pyro-ppl->-r Eunomia/requirements.txt (line 2)) (0.1.2)\n",
      "Requirement already satisfied: tqdm>=4.36 in /home/mohamed/miniconda3/lib/python3.9/site-packages (from pyro-ppl->-r Eunomia/requirements.txt (line 2)) (4.62.3)\n",
      "Requirement already satisfied: opt-einsum>=2.3.2 in /home/mohamed/miniconda3/lib/python3.9/site-packages (from pyro-ppl->-r Eunomia/requirements.txt (line 2)) (3.3.0)\n",
      "Requirement already satisfied: numpy>=1.7 in /home/mohamed/miniconda3/lib/python3.9/site-packages (from pyro-ppl->-r Eunomia/requirements.txt (line 2)) (1.22.1)\n",
      "Requirement already satisfied: scipy>=1.1.0 in /home/mohamed/miniconda3/lib/python3.9/site-packages (from cvxpy->-r Eunomia/requirements.txt (line 3)) (1.11.3)\n",
      "Requirement already satisfied: ecos>=2 in /home/mohamed/miniconda3/lib/python3.9/site-packages (from cvxpy->-r Eunomia/requirements.txt (line 3)) (2.0.10)\n",
      "Requirement already satisfied: scs>=1.1.6 in /home/mohamed/miniconda3/lib/python3.9/site-packages (from cvxpy->-r Eunomia/requirements.txt (line 3)) (3.1.0)\n",
      "Requirement already satisfied: osqp>=0.4.1 in /home/mohamed/miniconda3/lib/python3.9/site-packages (from cvxpy->-r Eunomia/requirements.txt (line 3)) (0.6.2.post4)\n",
      "Requirement already satisfied: qdldl in /home/mohamed/miniconda3/lib/python3.9/site-packages (from osqp>=0.4.1->cvxpy->-r Eunomia/requirements.txt (line 3)) (0.1.5.post0)\n"
     ]
    }
   ],
   "source": [
    "!rm -rf Eunomia\n",
    "!git clone https://github.com/ouaguenouni/Eunomia\n",
    "!pip install -r Eunomia/requirements.txt"
   ]
  },
  {
   "cell_type": "code",
   "execution_count": 23,
   "id": "17c60ebe-3820-4a82-863c-0edcd169980b",
   "metadata": {},
   "outputs": [],
   "source": [
    "import matplotlib.pyplot as plt\n",
    "import numpy as np\n",
    "import pandas as pd\n",
    "import seaborn as sns\n",
    "from Eunomia.preferences import *\n",
    "from Eunomia.additive_functions import *\n",
    "from Eunomia.alternatives import *\n",
    "from Eunomia.sampling import *\n",
    "from Eunomia.mcmc import *\n",
    "#from Eunomia.degree import *\n",
    "from Eunomia.experiments import *\n",
    "import torch\n",
    "import torch.nn as nn\n",
    "import torch.optim as optim\n",
    "from tqdm.notebook import tqdm, trange\n",
    "pyro.set_rng_seed(1)"
   ]
  },
  {
   "cell_type": "markdown",
   "id": "2b07d70a-8336-4b25-b56a-0d74a7708e86",
   "metadata": {},
   "source": [
    "## Introduction and formalism"
   ]
  },
  {
   "cell_type": "markdown",
   "id": "042c33d0-28a0-4dff-8fe6-5e84c8a98db3",
   "metadata": {},
   "source": [
    "### Features\n",
    "- Let $\\mathcal{F} = \\{a_0, a_1, \\ldots, a_n\\}$ be the set of features, where each $a_i$ represents a distinct attribute.\n",
    "\n",
    "### Alternatives\n",
    "- The set of all alternatives, $\\mathcal{A}$, is defined as the power set of $\\mathcal{F}$, i.e., \n",
    "  $$\n",
    "  \\mathcal{A} = 2^{\\mathcal{F}}\n",
    "  $$\n",
    "  This represents all possible combinations of the attributes in $\\mathcal{F}$.\n",
    "\n",
    "### The interaction set $\\theta$\n",
    "- Let $\\theta$ be a set that contains all the interactions considered by the model. \n",
    "- Each element in $\\theta$ represents a specific interaction or combination of features.\n",
    "\n",
    "### Preferences\n",
    "- Preferences among the alternatives are represented by a set $R$ containing ordered pairs $(A, B)$, where $A$ is preferred over $B$. Formally,\n",
    "  $$\n",
    "  R = \\{(A_0, B_0), \\ldots, (A_r, B_r)\\}\n",
    "  $$\n",
    "  Here, $A_i, B_i \\in \\mathcal{A}$ and the pair $(A_i, B_i)$ signifies that alternative $A_i$ is preferred to alternative $B_i$."
   ]
  },
  {
   "cell_type": "markdown",
   "id": "8283dbf5-8170-4ab8-82eb-e6d79648b869",
   "metadata": {},
   "source": [
    "## Non transitive $\\phi$ function\n",
    "\n",
    "The function $\\phi$ aims at modelling a non-transitive model of interactions, the function is parameterized by $\\theta$ the set of considered interactions and $M$ a matrix that contains the parameters for each unique pair of attributes and their presence/absence states.\n",
    "The value associated to a pair of alternatives $A,B \\in \\mathcal{A}$ is the following : \n",
    "$$\n",
    "\\Phi_{\\theta, M}(X,Y) = \\sum_{A \\in \\theta} \\sum_{B \\in \\theta} M[A,B, I_X(A), I_Y(B)]\n",
    "$$\n",
    "where $I_X(A)$ is the indicator of $A \\subset X$\n",
    "\n",
    "In the implementation, since the function is symetrical we use a dictionnary rather than a matrix to store the parameters since each pair $(A,B)$ is stored once (we don't have (B,A) if we have (A,B))."
   ]
  },
  {
   "cell_type": "markdown",
   "id": "121bf177-e3b9-4801-9d6d-f1da947089d0",
   "metadata": {},
   "source": [
    "## SSB Model\n",
    "The SSB Model is defined having : \n",
    "- A set of interactions $\\theta$.\n",
    "- A vector of weights $w$ that associate to each element in $\\theta$ the utility of having $\\theta$ in an alternative.\n",
    "- The matrix $M$ where $M[A,B,X,Y]$ is the utility of having A in X and B in Y based on their presence (1) or absence (0).\n",
    "The function is thus defined as follow: \n",
    "\n",
    "$$\n",
    "f_{\\theta, w, M}(X, Y) = \\left[ \\sum_{A \\in \\theta} w_A \\cdot I_X(A) - w_B \\cdot I_Y(B) \\right] + \\left[ \\sum_{A \\in \\theta} \\sum_{B \\in \\theta} M[A, B, I_X(A), I_Y(B)] \\right]\n",
    "$$\n",
    "\n",
    "The first part of the model is named the **additive** part and the second one the **billinear** part."
   ]
  },
  {
   "cell_type": "markdown",
   "id": "f4176001-6e8a-4e6a-8a4d-9bade0cb6c1c",
   "metadata": {},
   "source": [
    "## Optimizing an SSB model given a set of pairwise preferences\n",
    "\n",
    "Let's assume we have a fixed $\\theta$ and a fixed $R$. In this part we explain how to optimize an SSB model given $R$ and $\\theta$. \n",
    "\n",
    "We will use first a maximum likelihood estimation (MLE), to do so we start by defining the likelihood. To define it we recall that we must have $f(A,B) > 0$ if $A \\succ B$, $f(A,B) < 0$ if $B \\succ A$ and $f(A,B) = 0$ otherwise. \n",
    "\n",
    "An easy way to define the likelihood is to transform the value $f$ to a probability using the sigmoid function \n",
    "\n",
    "$$\n",
    "\\sigma(x) = \\frac{1}{1 + e^{-x}}\n",
    "$$\n",
    "\n",
    "This function maps a real-valued number into a range between 0 and 1.\n",
    "And so the likelihood of a given preference $A \\succ B$ is given by :\n",
    "$$\n",
    "P(A \\succ B| \\theta, w, M) = \\sigma(f_{\\theta, w, M}(A, B))\n",
    "$$\n",
    "And the log-likelihood of a set $R$ is : \n",
    "$$\n",
    "\\mathcal{L}(A \\succ B| \\theta, w, M) = \\sum_{A,B \\in R} \\log P(A \\succ B| \\theta, w, M) = \\sum_{A,B \\in R} \\log \\sigma(f_{\\theta, w, M}(A, B))\n",
    "$$\n",
    "\n",
    "This function is convex and derivable so it could be optimized using a gradient descent.\n",
    "However, since the non transitive part could single-handedly model an additive model, we choose to decompose the optimization process in two subprocesses : \n",
    "\n",
    "\n",
    "We start by otimizing according to $\\nabla_w f(X, Y)  = \\frac{\\partial f(X, Y)}{\\partial w}$ to maximize the likelihood while using only the additive part."
   ]
  },
  {
   "cell_type": "code",
   "execution_count": 340,
   "id": "047e0cd2-f321-4e46-8886-6273f865efea",
   "metadata": {},
   "outputs": [],
   "source": []
  },
  {
   "cell_type": "code",
   "execution_count": 341,
   "id": "fcf46b71-09f4-4075-a2a6-9ccf2d44dee0",
   "metadata": {},
   "outputs": [],
   "source": [
    "n = 3\n",
    "theta = generate_additive_theta(n, 1)\n",
    "s = [\n",
    "    [(0,), (1,)],\n",
    "    [(1,), (2,)],\n",
    "    [(2,), (0,)],\n",
    "]\n",
    "model = SSBModel(theta)"
   ]
  },
  {
   "cell_type": "code",
   "execution_count": 348,
   "id": "ac794f45-b7e5-443c-87c7-04268824c7db",
   "metadata": {},
   "outputs": [
    {
     "data": {
      "text/plain": [
       "[<matplotlib.lines.Line2D at 0x7f21b4ba6280>]"
      ]
     },
     "execution_count": 348,
     "metadata": {},
     "output_type": "execute_result"
    },
    {
     "data": {
      "image/png": "[encoded data removed]",
      "text/plain": [
       "<Figure size 432x288 with 1 Axes>"
      ]
     },
     "metadata": {
      "needs_background": "light"
     },
     "output_type": "display_data"
    }
   ],
   "source": [
    "losses = fit_w_mle(model, s)\n",
    "plt.plot(np.arange(len(losses)),losses) "
   ]
  },
  {
   "cell_type": "code",
   "execution_count": 349,
   "id": "fcaeed0a-7a45-4598-9f99-4e825f53d999",
   "metadata": {},
   "outputs": [
    {
     "name": "stdout",
     "output_type": "stream",
     "text": [
      "w[0] = 0.1808149665594101\n",
      "w[2] = 8.64372730255127\n"
     ]
    }
   ],
   "source": [
    "model.display_model()"
   ]
  },
  {
   "cell_type": "markdown",
   "id": "f5010447-64bf-4bb8-a133-59a3ecec7921",
   "metadata": {},
   "source": [
    "as expected the optimization process starts by maximizing the number of represented preferences using only the additive part, which on this simple example is 2/3 since we have one non transitive arc. \n",
    "The we optimize according to $\\nabla_M f(X, Y)  = \\frac{\\partial f(X, Y)}{\\partial M}$."
   ]
  },
  {
   "cell_type": "code",
   "execution_count": 352,
   "id": "42c890a9-3e40-4728-85b7-9c1d79370316",
   "metadata": {},
   "outputs": [],
   "source": []
  },
  {
   "cell_type": "code",
   "execution_count": 353,
   "id": "eaf9f28e-a6be-48d5-a66d-9fd887c4b591",
   "metadata": {},
   "outputs": [
    {
     "data": {
      "text/plain": [
       "[<matplotlib.lines.Line2D at 0x7f21b4adb1c0>]"
      ]
     },
     "execution_count": 353,
     "metadata": {},
     "output_type": "execute_result"
    },
    {
     "data": {
      "image/png": "[encoded data removed]",
      "text/plain": [
       "<Figure size 432x288 with 1 Axes>"
      ]
     },
     "metadata": {
      "needs_background": "light"
     },
     "output_type": "display_data"
    }
   ],
   "source": [
    "model = SSBModel(theta)\n",
    "losses = fit_M_mle(model, s)\n",
    "plt.plot(np.arange(len(losses)),losses)"
   ]
  },
  {
   "cell_type": "markdown",
   "id": "0407ba43-ee6c-4a2d-95db-5e61a98ee52d",
   "metadata": {},
   "source": [
    "With the non transitive part, the model is able to represent all the preferences including the non-transitive ones."
   ]
  },
  {
   "cell_type": "markdown",
   "id": "06980c05-4805-45cb-b031-4c4f7a1e4fb6",
   "metadata": {},
   "source": [
    "## Adding the posterior\n",
    "\n",
    "To ensure that the model remains the sparsest possible, we can use two regularization terms, one for each part of the model : \n",
    "- For the additive part we use a $L_2$ regularization which is equivalent to supposing that the prior over $w$ is a gaussian one i.e \n",
    "$$\n",
    "P(w) = \\mathcal{N}(0, \\lambda_1)\n",
    "$$\n",
    "So the regularization is done by adding $\\lambda_1 w^T w$ to the loss.\n",
    "\n",
    "- For the transitive part we use a $L_1$ regularization which is equivalent to supposing that the prior over $w$ is a laplacian one i.e \n",
    "$$\n",
    "P(M) = \\mathcal{L}(0, \\lambda_2)\n",
    "$$\n",
    "So the regularization is done by adding $\\lambda_2 |M|$ to the loss.\n"
   ]
  },
  {
   "cell_type": "markdown",
   "id": "d2b28e5d-4dea-48bc-80b5-dcd3cee4fa35",
   "metadata": {},
   "source": [
    "Now we will compare the models yielded by the MLE and the MAP optimization processes."
   ]
  },
  {
   "cell_type": "code",
   "execution_count": 303,
   "id": "b117681c-e8bb-40d3-bc54-adf86264356c",
   "metadata": {},
   "outputs": [
    {
     "name": "stdout",
     "output_type": "stream",
     "text": [
      "w[0] = 4.205100059509277\n",
      "w[1] = 1.2092666625976562\n"
     ]
    }
   ],
   "source": [
    "model_mle = SSBModel(theta)\n",
    "losses_1 = fit_w_mle(model_mle, s)\n",
    "model_mle.display_model()"
   ]
  },
  {
   "cell_type": "code",
   "execution_count": 304,
   "id": "ca53fc0a-4729-4b90-bf9c-46f34f217737",
   "metadata": {},
   "outputs": [
    {
     "name": "stdout",
     "output_type": "stream",
     "text": [
      "w[0] = 4.205100059509277\n",
      "w[1] = 1.2092666625976562\n",
      "C[(0,), (1,), 0, 0] = 3.7387137413024902 \n",
      "C[(0,), (1,), 1, 1] = 1.251815915107727 \n",
      "C[(0,), (2,), 0, 0] = 3.9533846378326416 \n",
      "C[(0,), (2,), 0, 1] = 1.267122507095337 \n",
      "C[(0,), (2,), 1, 0] = 1.251815915107727 \n",
      "C[(1,), (2,), 0, 0] = 3.7920310497283936 \n",
      "C[(1,), (2,), 1, 1] = 1.267122507095337 \n"
     ]
    }
   ],
   "source": [
    "losses_2 = fit_M_mle(model_mle, s)\n",
    "losses = losses_1 + losses_2\n",
    "model_mle.display_model()"
   ]
  },
  {
   "cell_type": "code",
   "execution_count": 305,
   "id": "4c6057bb-c192-490c-9624-805b5e7e16a6",
   "metadata": {},
   "outputs": [
    {
     "data": {
      "text/plain": [
       "[<matplotlib.lines.Line2D at 0x7f21b5bd7850>]"
      ]
     },
     "execution_count": 305,
     "metadata": {},
     "output_type": "execute_result"
    },
    {
     "data": {
      "image/png": "[encoded data removed]",
      "text/plain": [
       "<Figure size 432x288 with 1 Axes>"
      ]
     },
     "metadata": {
      "needs_background": "light"
     },
     "output_type": "display_data"
    }
   ],
   "source": [
    "plt.plot(np.arange(len(losses)),losses) "
   ]
  },
  {
   "cell_type": "code",
   "execution_count": 306,
   "id": "bb3ad45e-c594-47a4-9bab-47e68cc5eff6",
   "metadata": {},
   "outputs": [
    {
     "name": "stdout",
     "output_type": "stream",
     "text": [
      "w[1] = 5.6707868576049805\n"
     ]
    }
   ],
   "source": [
    "model_map = SSBModel(theta)\n",
    "losses_1 = fit_w_map(model_map, s)\n",
    "model_map.display_model()"
   ]
  },
  {
   "cell_type": "code",
   "execution_count": 307,
   "id": "4c45f6ca-549d-4a21-a14f-2b9d16050b8d",
   "metadata": {},
   "outputs": [
    {
     "name": "stdout",
     "output_type": "stream",
     "text": [
      "w[1] = 5.6707868576049805\n",
      "C[(0,), (1,), 0, 0] = 1.5525414943695068 \n",
      "C[(0,), (1,), 1, 1] = 6.7183003425598145 \n",
      "C[(0,), (2,), 0, 1] = 1.3937318325042725 \n",
      "C[(0,), (2,), 1, 0] = 6.7183003425598145 \n",
      "C[(1,), (2,), 0, 0] = 6.436845779418945 \n",
      "C[(1,), (2,), 1, 1] = 1.3937318325042725 \n"
     ]
    }
   ],
   "source": [
    "losses_2 = fit_M_map(model_map, s)\n",
    "losses = losses_1 + losses_2\n",
    "model_map.display_model()"
   ]
  },
  {
   "cell_type": "code",
   "execution_count": 308,
   "id": "b8a7e226-dd74-4162-b10e-bd775183d0dd",
   "metadata": {},
   "outputs": [
    {
     "data": {
      "text/plain": [
       "[<matplotlib.lines.Line2D at 0x7f21b5b49100>]"
      ]
     },
     "execution_count": 308,
     "metadata": {},
     "output_type": "execute_result"
    },
    {
     "data": {
      "image/png": "[encoded data removed]",
      "text/plain": [
       "<Figure size 432x288 with 1 Axes>"
      ]
     },
     "metadata": {
      "needs_background": "light"
     },
     "output_type": "display_data"
    }
   ],
   "source": [
    "plt.plot(np.arange(len(losses)),losses) "
   ]
  },
  {
   "cell_type": "markdown",
   "id": "d4f64a54-6318-411c-8572-8c05465208cc",
   "metadata": {},
   "source": [
    "Each of the model converges and is able to represent all the preferences. \n",
    "Now let's examine the differences between the parameters, we chose not to display the parameter that are below 1e-2 for visualisation purposes."
   ]
  },
  {
   "cell_type": "code",
   "execution_count": 309,
   "id": "5b6e8444-60ba-4d82-a5b1-5a7b58817ef1",
   "metadata": {},
   "outputs": [
    {
     "name": "stdout",
     "output_type": "stream",
     "text": [
      "w[0] = 4.205100059509277\n",
      "w[1] = 1.2092666625976562\n",
      "C[(0,), (1,), 0, 0] = 3.7387137413024902 \n",
      "C[(0,), (1,), 1, 1] = 1.251815915107727 \n",
      "C[(0,), (2,), 0, 0] = 3.9533846378326416 \n",
      "C[(0,), (2,), 0, 1] = 1.267122507095337 \n",
      "C[(0,), (2,), 1, 0] = 1.251815915107727 \n",
      "C[(1,), (2,), 0, 0] = 3.7920310497283936 \n",
      "C[(1,), (2,), 1, 1] = 1.267122507095337 \n"
     ]
    }
   ],
   "source": [
    "model_mle.display_model()"
   ]
  },
  {
   "cell_type": "code",
   "execution_count": 310,
   "id": "947c5f98-7cfb-45bd-beac-93d569c9b533",
   "metadata": {},
   "outputs": [
    {
     "name": "stdout",
     "output_type": "stream",
     "text": [
      "w[1] = 5.6707868576049805\n",
      "C[(0,), (1,), 0, 0] = 1.5525414943695068 \n",
      "C[(0,), (1,), 1, 1] = 6.7183003425598145 \n",
      "C[(0,), (2,), 0, 1] = 1.3937318325042725 \n",
      "C[(0,), (2,), 1, 0] = 6.7183003425598145 \n",
      "C[(1,), (2,), 0, 0] = 6.436845779418945 \n",
      "C[(1,), (2,), 1, 1] = 1.3937318325042725 \n"
     ]
    }
   ],
   "source": [
    "model_map.display_model()"
   ]
  },
  {
   "cell_type": "markdown",
   "id": "be15db16-b0f4-4c36-bb22-f98ad89ce357",
   "metadata": {},
   "source": [
    "We notice that the model is very sparse when maximizing the posterior compared to the model obtained through maximizing the likelihood. "
   ]
  },
  {
   "cell_type": "markdown",
   "id": "789ff104-4cb9-43d1-adfc-38af3510d665",
   "metadata": {},
   "source": [
    "## Evaluating the marginal gain in accuracy that is provided by the non transitive part."
   ]
  },
  {
   "cell_type": "markdown",
   "id": "84f6017b-e357-4e64-a451-391177174e0e",
   "metadata": {},
   "source": [
    "In this experience we sample multiple graphs and measure the number of non transitive cycles in each of them, then we use each to train a model and evaluate the gain in accuracy when optimizing using the non transitive part compared to the accuracy using only the additive part."
   ]
  },
  {
   "cell_type": "markdown",
   "id": "fd023b66-a638-4719-a310-f77c8f2530f3",
   "metadata": {},
   "source": [
    "Now to have an idea on the number of non transitive cycle that are obtained using this way of sampling, we sample 1000 graphs a for each we count the number of transitive cycles."
   ]
  },
  {
   "cell_type": "code",
   "execution_count": 382,
   "id": "0f636d3a-8123-4a39-aa56-5a5f5ddc14fa",
   "metadata": {},
   "outputs": [
    {
     "name": "stdout",
     "output_type": "stream",
     "text": [
      "[{0}, {1}, {2}, {3}, {4}]\n"
     ]
    },
    {
     "data": {
      "application/vnd.jupyter.widget-view+json": {
       "model_id": "3af9f5694721427da87d241d7151b70b",
       "version_major": 2,
       "version_minor": 0
      },
      "text/plain": [
       "  0%|          | 0/10000 [00:00<?, ?it/s]"
      ]
     },
     "metadata": {},
     "output_type": "display_data"
    },
    {
     "data": {
      "image/png": "[encoded data removed]",
      "text/plain": [
       "<Figure size 432x288 with 1 Axes>"
      ]
     },
     "metadata": {
      "needs_background": "light"
     },
     "output_type": "display_data"
    }
   ],
   "source": [
    "# Loop to sample graphs and count the number of cycles broken\n",
    "n = 5\n",
    "k = 1\n",
    "cycle_counts = []\n",
    "num_graphs = 10000\n",
    "\n",
    "theta = generate_additive_theta(n, 1)\n",
    "\n",
    "vertices = theta # Example vertices\n",
    "print(theta)\n",
    "graphs = {}\n",
    "for _ in trange(num_graphs):\n",
    "    graph = create_random_directed_graph([tuple(i) for i in theta], edge_probability = 0.5)\n",
    "    g2 = list(graph)\n",
    "    count = break_cycles(graph)\n",
    "    graphs[count] = graphs.get(count, []) + [g2]\n",
    "    cycle_counts.append(count)\n",
    "\n",
    "# Plotting the histogram of cycle counts\n",
    "plt.hist(cycle_counts, bins=max(cycle_counts) - min(cycle_counts) + 1, alpha=0.7, color='blue')\n",
    "plt.title('Histogram of Non-Transitive Cycle Counts')\n",
    "plt.xlabel('Number of Non-Transitive Cycles')\n",
    "plt.ylabel('Frequency')\n",
    "plt.show()\n"
   ]
  },
  {
   "cell_type": "markdown",
   "id": "a777d22f-bdc1-4eb5-9bcd-68d79fe875d7",
   "metadata": {},
   "source": [
    "Now we train the map model on each of them and save for each graph : \n",
    "- The number of cycle it contains.\n",
    "- The maximum accuracy achieved using only the addtive part.\n",
    "- The maximum accuracy achieved using also the non transitive part."
   ]
  },
  {
   "cell_type": "code",
   "execution_count": 385,
   "id": "8c32abb1-0b06-4933-baf7-7f45c080282f",
   "metadata": {},
   "outputs": [
    {
     "data": {
      "application/vnd.jupyter.widget-view+json": {
       "model_id": "e5cc7810033f4c4b85b4b09934409d7b",
       "version_major": 2,
       "version_minor": 0
      },
      "text/plain": [
       "  0%|          | 0/13 [00:00<?, ?it/s]"
      ]
     },
     "metadata": {},
     "output_type": "display_data"
    },
    {
     "name": "stdout",
     "output_type": "stream",
     "text": [
      "k= 0\n"
     ]
    },
    {
     "data": {
      "application/vnd.jupyter.widget-view+json": {
       "model_id": "5ce50d368b6041ed97a7665eccdca322",
       "version_major": 2,
       "version_minor": 0
      },
      "text/plain": [
       "  0%|          | 0/10 [00:00<?, ?it/s]"
      ]
     },
     "metadata": {},
     "output_type": "display_data"
    },
    {
     "name": "stdout",
     "output_type": "stream",
     "text": [
      "0 - 0.0\n",
      "k= 1\n"
     ]
    },
    {
     "data": {
      "application/vnd.jupyter.widget-view+json": {
       "model_id": "f489085ee4b84f0aa0a80cb6d4752dab",
       "version_major": 2,
       "version_minor": 0
      },
      "text/plain": [
       "  0%|          | 0/10 [00:00<?, ?it/s]"
      ]
     },
     "metadata": {},
     "output_type": "display_data"
    },
    {
     "name": "stdout",
     "output_type": "stream",
     "text": [
      "1 - 0.13507936507936508\n",
      "k= 2\n"
     ]
    },
    {
     "data": {
      "application/vnd.jupyter.widget-view+json": {
       "model_id": "856d6be93cd549cdaf2542393297d023",
       "version_major": 2,
       "version_minor": 0
      },
      "text/plain": [
       "  0%|          | 0/10 [00:00<?, ?it/s]"
      ]
     },
     "metadata": {},
     "output_type": "display_data"
    },
    {
     "name": "stdout",
     "output_type": "stream",
     "text": [
      "2 - 0.1867063492063492\n",
      "k= 3\n"
     ]
    },
    {
     "data": {
      "application/vnd.jupyter.widget-view+json": {
       "model_id": "74a3377d6db34ba89b3fbf920d2891b8",
       "version_major": 2,
       "version_minor": 0
      },
      "text/plain": [
       "  0%|          | 0/10 [00:00<?, ?it/s]"
      ]
     },
     "metadata": {},
     "output_type": "display_data"
    },
    {
     "name": "stdout",
     "output_type": "stream",
     "text": [
      "3 - 0.24813131313131312\n",
      "k= 4\n"
     ]
    },
    {
     "data": {
      "application/vnd.jupyter.widget-view+json": {
       "model_id": "513c5ac30c28492d804b688f2bac503c",
       "version_major": 2,
       "version_minor": 0
      },
      "text/plain": [
       "  0%|          | 0/10 [00:00<?, ?it/s]"
      ]
     },
     "metadata": {},
     "output_type": "display_data"
    },
    {
     "name": "stdout",
     "output_type": "stream",
     "text": [
      "4 - 0.2336985236985237\n",
      "k= 5\n"
     ]
    },
    {
     "data": {
      "application/vnd.jupyter.widget-view+json": {
       "model_id": "7ac861becdd5485fab7a0cdfb2f76ed3",
       "version_major": 2,
       "version_minor": 0
      },
      "text/plain": [
       "  0%|          | 0/10 [00:00<?, ?it/s]"
      ]
     },
     "metadata": {},
     "output_type": "display_data"
    },
    {
     "name": "stdout",
     "output_type": "stream",
     "text": [
      "5 - 0.2872927072927073\n",
      "k= 6\n"
     ]
    },
    {
     "data": {
      "application/vnd.jupyter.widget-view+json": {
       "model_id": "79b166b6b0df42b89843518955526607",
       "version_major": 2,
       "version_minor": 0
      },
      "text/plain": [
       "  0%|          | 0/10 [00:00<?, ?it/s]"
      ]
     },
     "metadata": {},
     "output_type": "display_data"
    },
    {
     "name": "stdout",
     "output_type": "stream",
     "text": [
      "6 - 0.28595238095238096\n",
      "k= 7\n"
     ]
    },
    {
     "data": {
      "application/vnd.jupyter.widget-view+json": {
       "model_id": "5233e25565e44c2f95d76825145daa81",
       "version_major": 2,
       "version_minor": 0
      },
      "text/plain": [
       "  0%|          | 0/10 [00:00<?, ?it/s]"
      ]
     },
     "metadata": {},
     "output_type": "display_data"
    },
    {
     "name": "stdout",
     "output_type": "stream",
     "text": [
      "7 - 0.3272061272061272\n",
      "k= 8\n"
     ]
    },
    {
     "data": {
      "application/vnd.jupyter.widget-view+json": {
       "model_id": "4ae99f6b41f143ebbaf4f55c12044978",
       "version_major": 2,
       "version_minor": 0
      },
      "text/plain": [
       "  0%|          | 0/10 [00:00<?, ?it/s]"
      ]
     },
     "metadata": {},
     "output_type": "display_data"
    },
    {
     "name": "stdout",
     "output_type": "stream",
     "text": [
      "8 - 0.33382891618185734\n",
      "k= 9\n"
     ]
    },
    {
     "data": {
      "application/vnd.jupyter.widget-view+json": {
       "model_id": "b094571688ea4cea8a53108be6ff8b67",
       "version_major": 2,
       "version_minor": 0
      },
      "text/plain": [
       "  0%|          | 0/10 [00:00<?, ?it/s]"
      ]
     },
     "metadata": {},
     "output_type": "display_data"
    },
    {
     "name": "stdout",
     "output_type": "stream",
     "text": [
      "9 - 0.3716025641025641\n",
      "k= 10\n"
     ]
    },
    {
     "data": {
      "application/vnd.jupyter.widget-view+json": {
       "model_id": "00afe8c027cf4bbabdda6d5c047099b4",
       "version_major": 2,
       "version_minor": 0
      },
      "text/plain": [
       "  0%|          | 0/10 [00:00<?, ?it/s]"
      ]
     },
     "metadata": {},
     "output_type": "display_data"
    },
    {
     "name": "stdout",
     "output_type": "stream",
     "text": [
      "10 - 0.3836659663865546\n",
      "k= 11\n",
      "k= 12\n"
     ]
    }
   ],
   "source": [
    "data = {\n",
    "    \"n_cycles\":[],\n",
    "    \"additive_acc\":[],\n",
    "    \"nt_acc\":[]\n",
    "}\n",
    "n_epochs = 200\n",
    "lr=5e-3\n",
    "m = 10\n",
    "for k in tqdm(sorted(graphs.keys())):\n",
    "    print(\"k=\",k)\n",
    "    L = []\n",
    "    nb = 0\n",
    "    if len(graphs[k]) < m:\n",
    "        continue\n",
    "    for s in tqdm(graphs[k][:m]):\n",
    "        model_map = SSBModel(theta)\n",
    "        acc1 = fit_w_mle(model_map, s, num_epochs=n_epochs,  lr=5e-2)\n",
    "        acc2 = fit_M_mle(model_map, s, num_epochs=n_epochs, lr=lr)\n",
    "        acc = acc1 + acc2\n",
    "        #plt.plot(np.arange(len(acc)), acc)\n",
    "        #plt.show()\n",
    "        data[\"n_cycles\"].append(k)\n",
    "        data[\"additive_acc\"].append(max(acc1))\n",
    "        data[\"nt_acc\"].append(max(acc2))\n",
    "        L.append(max(acc2) - max(acc1))\n",
    "    print(f\"{k} - {np.array(L).mean()}\")"
   ]
  },
  {
   "cell_type": "code",
   "execution_count": 387,
   "id": "d0b34b7a-be17-4b48-a400-0a1886b7de69",
   "metadata": {},
   "outputs": [
    {
     "data": {
      "text/plain": [
       "<AxesSubplot:xlabel='Number of Cycles', ylabel='Marginal Gain'>"
      ]
     },
     "execution_count": 387,
     "metadata": {},
     "output_type": "execute_result"
    },
    {
     "data": {
      "image/png": "[encoded data removed]",
      "text/plain": [
       "<Figure size 432x288 with 1 Axes>"
      ]
     },
     "metadata": {
      "needs_background": "light"
     },
     "output_type": "display_data"
    }
   ],
   "source": [
    "import pandas as pd\n",
    "import seaborn as sns\n",
    "df = pd.DataFrame(data)\n",
    "df[\"marginal_gain\"] = df[\"nt_acc\"] - df[\"additive_acc\"]\n",
    "df[\"Marginal Gain\"] = df[\"marginal_gain\"]\n",
    "df[\"Number of Cycles\"] = df[\"n_cycles\"]\n",
    "\n",
    "sns.lineplot(data = df, x = \"Number of Cycles\", y = \"Marginal Gain\")"
   ]
  },
  {
   "cell_type": "code",
   "execution_count": null,
   "id": "4bf24f38-fa3b-4604-8cf1-2fe548806247",
   "metadata": {},
   "outputs": [],
   "source": [
    "def fit_w_mle(model, R, lr=0.01, num_epochs = 200): \n",
    "    optimizer = optim.Adam([model.weights], lr=lr)\n",
    "    losses = []\n",
    "    losses.append(model.accuracy(s))\n",
    "    # Training loop\n",
    "    for epoch in range(num_epochs):\n",
    "        total_loss = 0\n",
    "        optimizer.zero_grad()\n",
    "        # Compute likelihood and prior\n",
    "        likelihood = model.likelihood(R).double()\n",
    "        # Loss is negative log-likelihood minus log-prior (for maximizing posterior)\n",
    "        loss = -torch.log(likelihood)\n",
    "        # Backpropagation\n",
    "        loss.backward()\n",
    "        optimizer.step()\n",
    "        total_loss += loss.item()\n",
    "        losses.append(model.accuracy(s))\n",
    "    return losses\n",
    "\n",
    "\n",
    "\n",
    "\n",
    "def fit_w_map(model, R, lr=0.05, num_epochs = 500, lambda_1 = 1e-5): \n",
    "    optimizer = optim.Adam([model.weights], lr=lr)\n",
    "    losses = []\n",
    "    losses.append(model.accuracy(s))\n",
    "    # Training loop\n",
    "    for epoch in range(num_epochs):\n",
    "        total_loss = 0\n",
    "        optimizer.zero_grad()\n",
    "        # Compute likelihood and prior\n",
    "        likelihood = model.likelihood(R).Double()\n",
    "        # Loss is negative log-likelihood minus log-prior (for maximizing posterior)\n",
    "        loss = -torch.log(likelihood) + lambda_1*torch.sum(torch.pow(model.weights, 2))\n",
    "        # Backpropagation\n",
    "        loss.backward()\n",
    "        optimizer.step()\n",
    "        total_loss += loss.item()\n",
    "        losses.append(model.accuracy(s))\n",
    "    return losses\n",
    "\n",
    "def fit_M_map(model, R, lr=0.05, num_epochs = 500, lambda_2 = 1e-5): \n",
    "    phi_params = [model.phi_function.phi_values[k] for k in model.phi_function.phi_values]\n",
    "    model.weights.requires_grad = False\n",
    "    optimizer = optim.Adam(phi_params, lr=lr)    \n",
    "    losses = []\n",
    "    losses.append(model.accuracy(s))\n",
    "    # Training loop\n",
    "    for epoch in range(num_epochs):\n",
    "        total_loss = 0\n",
    "        optimizer.zero_grad()\n",
    "        # Compute likelihood and prior\n",
    "        likelihood = model.likelihood(R).Double()\n",
    "        loss = -torch.log(likelihood) + lambda_2*sum([torch.abs(i) for i in phi_params])\n",
    "        \n",
    "        # Backpropagation\n",
    "        loss.backward()\n",
    "        optimizer.step()\n",
    "        total_loss += loss.item()\n",
    "        losses.append(model.accuracy(s))\n",
    "    return losses\n",
    "\n",
    "\n",
    "class PhiFunction(nn.Module):\n",
    "    \"\"\"\n",
    "    A PyTorch module to implement the Phi function for the Symmetric Skew Bilinear (SSB) model.\n",
    "\n",
    "    This module calculates the interaction utility between pairs of attributes in alternatives X and Y,\n",
    "    based on the formula:\n",
    "    \n",
    "    f(X, Y) = [ \\sum_{A \\in \\theta} w_A*I_X(A) - w_B*I_Y(B) ] + \\sum_{A \\in \\theta} \\sum_{B \\in \\theta} M[A, B, I_X(A), I_Y(B)]\n",
    "    \n",
    "    where M[A, B, I_X(A), I_Y(B)] is the utility of having A in X and B in Y based on their presence (1) or absence (0).\n",
    "\n",
    "    Attributes:\n",
    "        theta (list): A list of attributes or interactions considered by the model.\n",
    "        phi_values (dict): A dictionary to store the parameters for each unique pair of attributes and their presence/absence states.\n",
    "\n",
    "    Methods:\n",
    "        forward(sparse_X, sparse_Y): Computes the sum of interaction utilities for given alternatives X and Y.\n",
    "        logprior(): Returns the sum of the absolute values of the phi parameters, used for regularization.\n",
    "    \"\"\"\n",
    "\n",
    "    def __init__(self, theta):\n",
    "        \"\"\"\n",
    "        Initializes the PhiFunction module.\n",
    "\n",
    "        Parameters:\n",
    "            theta (list): A list of attributes or interactions considered by the model.\n",
    "        \"\"\"\n",
    "        super(PhiFunction, self).__init__()\n",
    "        n = len(theta)\n",
    "        self.theta = theta\n",
    "        self.phi_values = {}\n",
    "\n",
    "        # Iterate over all pairs of attributes in theta to initialize parameters\n",
    "        for i_A in range(n):\n",
    "            A = theta[i_A]\n",
    "            for i_B in range(i_A + 1, n):\n",
    "                B = theta[i_B]\n",
    "                # Initialize parameters for each state combination\n",
    "                for X in [0, 1]:\n",
    "                    for Y in [0, 1]:\n",
    "                        self.phi_values[(tuple(A), tuple(B), X, Y)] = nn.Parameter(torch.tensor(0.0))\n",
    "\n",
    "    def forward(self, sparse_X, sparse_Y):\n",
    "        \"\"\"\n",
    "        Computes the sum of phi values for given sparse representations of alternatives X and Y.\n",
    "\n",
    "        Parameters:\n",
    "            sparse_X (list): A sparse representation of alternative X.\n",
    "            sparse_Y (list): A sparse representation of alternative Y.\n",
    "\n",
    "        Returns:\n",
    "            float: The sum of interaction utilities for X and Y, computed as:\n",
    "            \n",
    "            \\sum_{A \\in \\theta} \\sum_{B \\in \\theta} M[A, B, I_X(A), I_Y(B)]\n",
    "            \n",
    "            where M[A, B, I_X(A), I_Y(B)] represents the utility parameter for the presence/absence states of A in X and B in Y.\n",
    "        \"\"\"\n",
    "        phi_sum = 0\n",
    "        for i_A in range(len(self.theta)):\n",
    "            A = self.theta[i_A]\n",
    "            for i_B in range(i_A + 1, len(self.theta)):\n",
    "                B = self.theta[i_B]\n",
    "                v = self.phi_values[(tuple(A), tuple(B),\n",
    "                                     int(all(i in sparse_X for i in A)),\n",
    "                                     int(all(i in sparse_Y for i in B)))]\n",
    "                phi_sum += v\n",
    "        return phi_sum\n",
    "\n",
    "    def logprior(self):\n",
    "        \"\"\"\n",
    "        Computes a regularization term as the sum of the absolute values of the phi parameters.\n",
    "\n",
    "        Returns:\n",
    "            float: The regularization term, computed as:\n",
    "            \n",
    "            \\sum_{k} |M_k|\n",
    "            \n",
    "            where M_k represents each utility parameter in the model.\n",
    "        \"\"\"\n",
    "        phis = [torch.abs(self.phi_values[k]) for k in self.phi_values]\n",
    "        return sum(phis)\n",
    "\n",
    "class SSBModel(nn.Module):\n",
    "    \"\"\"\n",
    "    A PyTorch module implementing the Symmetric Skew Bilinear (SSB) model.\n",
    "\n",
    "    This model combines additive and non-transitive interactions to assess preferences between alternatives.\n",
    "\n",
    "    Attributes:\n",
    "        theta (list): A list of attributes or interactions considered by the model.\n",
    "        weights (torch.nn.Parameter): A parameter vector for the additive part of the model.\n",
    "        phi_function (PhiFunction): An instance of PhiFunction to handle non-transitive interactions.\n",
    "\n",
    "    Methods:\n",
    "        logprior(lambda_1, lambda_2): Computes the regularization term for the model.\n",
    "        likelihood(R): Computes the likelihood of the preference data.\n",
    "        forward(sparse_X, sparse_Y): Computes the utility score for a pair of alternatives.\n",
    "        accuracy(s): Computes the accuracy of the model on a dataset.\n",
    "        display_model(): Displays the model parameters.\n",
    "    \"\"\"\n",
    "\n",
    "    def __init__(self, theta):\n",
    "        \"\"\"\n",
    "        Initializes the SSBModel module.\n",
    "\n",
    "        Parameters:\n",
    "            theta (list): A list of attributes or interactions considered by the model.\n",
    "        \"\"\"\n",
    "        super(SSBModel, self).__init__()\n",
    "        self.theta = theta\n",
    "        self.weights = nn.Parameter(torch.randn(len(theta)))\n",
    "        self.phi_function = PhiFunction(theta)\n",
    "        \n",
    "        \n",
    "    def logprior(self, lambda_1, lambda_2):\n",
    "        \"\"\"\n",
    "        Computes the regularization term for the model, combining the L2 norm of the weights and the regularization of the phi function parameters.\n",
    "    \n",
    "        The regularization term is given by:\n",
    "        \\lambda_1 \\cdot \\sum \\text{weights}^2 + \\lambda_2 \\cdot \\text{phi_function.logprior()}\n",
    "    \n",
    "        Here, \\lambda_1 and \\lambda_2 are regularization parameters that control the extent of regularization for the weights and phi function parameters, respectively.\n",
    "    \n",
    "        Parameters:\n",
    "            lambda_1 (float): Regularization parameter for the weights.\n",
    "            lambda_2 (float): Regularization parameter for the phi function.\n",
    "    \n",
    "        Returns:\n",
    "            torch.tensor: The combined regularization term.\n",
    "        \"\"\"\n",
    "        return lambda_1 * torch.sum(torch.pow(self.weights, 2)) + lambda_2 * self.phi_function.logprior()\n",
    "\n",
    "\n",
    "\n",
    "    def likelihood(self, R):\n",
    "        \"\"\"\n",
    "        Computes the likelihood of the preference data using a sigmoid function.\n",
    "    \n",
    "        For each pair of alternatives (X, Y) in R, this method computes the utility score f(X, Y) using the forward method. \n",
    "        The likelihood is then calculated as the sum of the sigmoid of these utility scores.\n",
    "    \n",
    "        The sigmoid function is used to transform the utility score into a probability between 0 and 1, reflecting \n",
    "        the probability of preferring X over Y.\n",
    "    \n",
    "        The formula for likelihood is given by:\n",
    "        L(R) = \\sum_{(X, Y) \\in R} \\sigma(f(X, Y))\n",
    "        where \\sigma is the sigmoid function, and f(X, Y) is the utility score for the pair (X, Y).\n",
    "    \n",
    "        Parameters:\n",
    "            R (list): A list of pairs of alternatives.\n",
    "    \n",
    "        Returns:\n",
    "            torch.tensor: The likelihood value.\n",
    "        \"\"\"\n",
    "        l = 0\n",
    "        for sparse_X, sparse_Y in R:\n",
    "            f = self.forward(sparse_X, sparse_Y)\n",
    "            l += torch.sigmoid(f)\n",
    "        return l\n",
    "\n",
    "    def forward(self, sparse_X, sparse_Y):\n",
    "        \"\"\"\n",
    "        Computes the utility score for a pair of alternatives X and Y.\n",
    "\n",
    "        Parameters:\n",
    "            sparse_X (list): A sparse representation of alternative X.\n",
    "            sparse_Y (list): A sparse representation of alternative Y.\n",
    "\n",
    "        Returns:\n",
    "            torch.tensor: The utility score for the pair (X, Y).\n",
    "        \"\"\"\n",
    "        f = 0\n",
    "        for S in self.theta:\n",
    "            if all(i in sparse_X for i in S):\n",
    "                f += self.weights[self.theta.index(S)]\n",
    "            if all(i in sparse_Y for i in S):\n",
    "                f -= self.weights[self.theta.index(S)]\n",
    "        f += self.phi_function(sparse_X, sparse_Y)\n",
    "        return f\n",
    "\n",
    "    def accuracy(self, s):\n",
    "        \"\"\"\n",
    "        Computes the accuracy of the model on a dataset.\n",
    "\n",
    "        Parameters:\n",
    "            s (list): A list of pairs of alternatives along with their actual preference.\n",
    "\n",
    "        Returns:\n",
    "            float: The accuracy of the model.\n",
    "        \"\"\"\n",
    "        L = []\n",
    "        for x, y in s:\n",
    "            f = self.forward(x, y)\n",
    "            L.append(1 if f > 0 else 0)\n",
    "        return np.mean(L)\n",
    "\n",
    "    def display_model(self):\n",
    "        \"\"\"\n",
    "        Displays the model parameters.\n",
    "        \"\"\"\n",
    "        for i in range(self.weights.shape[0]):\n",
    "            if self.weights[i] > 1e-2:\n",
    "                print(f\"w[{i}] = {self.weights[i]}\")\n",
    "        for (i, j, A, B) in self.phi_function.phi_values: \n",
    "            if np.abs(self.phi_function.phi_values[(i, j, A, B)].item()) > 1e-2:\n",
    "                print(f\"C[{i}, {j}, {A}, {B}] = {self.phi_function.phi_values[(i, j, A, B)].item()}\", end=\" \\n\")\n",
    "\n",
    "import random\n",
    "import matplotlib.pyplot as plt\n",
    "\n",
    "# Function to create a random directed graph\n",
    "def create_random_directed_graph(vertices, edge_probability=0.5):\n",
    "    edges = set()\n",
    "    for i in range(len(vertices)):\n",
    "        for j in range(len(vertices)):\n",
    "            if i != j and random.random() < edge_probability:\n",
    "                edges.add((vertices[i], vertices[j]))\n",
    "    return edges\n",
    "\n",
    "# DFS function for cycle detection\n",
    "def dfs_cycle(vertex, graph, start_vertex, path, visited, cycles):\n",
    "    if vertex == start_vertex and len(path) > 1:\n",
    "        cycles.add(tuple(path))\n",
    "        return\n",
    "\n",
    "    if vertex in visited:\n",
    "        return\n",
    "\n",
    "    visited.add(vertex)\n",
    "    path.append(vertex)\n",
    "\n",
    "    for _, neighbor in filter(lambda edge: edge[0] == vertex, graph):\n",
    "        dfs_cycle(neighbor, graph, start_vertex, path.copy(), visited.copy(), cycles)\n",
    "\n",
    "# Function to detect and break cycles\n",
    "def break_cycles(graph):\n",
    "    cycles = set()\n",
    "    for vertex, _ in graph:\n",
    "        dfs_cycle(vertex, graph, vertex, [], set(), cycles)\n",
    "\n",
    "    if not cycles:\n",
    "        return 0\n",
    "\n",
    "    # Remove a random edge from one of the detected cycles\n",
    "    cycle = random.choice(list(cycles))\n",
    "    sz = len(cycle)\n",
    "    cycle_edges = [(cycle[i], cycle[i + 1]) for i in range(len(cycle) - 1)]\n",
    "    random_edge = random.choice(cycle_edges)\n",
    "    graph.remove(random_edge)\n",
    "\n",
    "    # Recursive call\n",
    "    return 1 + break_cycles(graph)"
   ]
  }
 ],
 "metadata": {
  "kernelspec": {
   "display_name": "Python 3 (ipykernel)",
   "language": "python",
   "name": "python3"
  },
  "language_info": {
   "codemirror_mode": {
    "name": "ipython",
    "version": 3
   },
   "file_extension": ".py",
   "mimetype": "text/x-python",
   "name": "python",
   "nbconvert_exporter": "python",
   "pygments_lexer": "ipython3",
   "version": "3.9.10"
  }
 },
 "nbformat": 4,
 "nbformat_minor": 5
}
