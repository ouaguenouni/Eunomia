{
 "cells": [
  {
   "cell_type": "code",
   "execution_count": 3,
   "id": "f5771898-3cb1-4bff-89cb-1a38929e19a2",
   "metadata": {},
   "outputs": [
    {
     "name": "stdout",
     "output_type": "stream",
     "text": [
      "Cloning into 'Eunomia'...\n",
      "remote: Enumerating objects: 2784, done.\u001b[K\n",
      "remote: Counting objects: 100% (2784/2784), done.\u001b[K\n",
      "remote: Compressing objects: 100% (522/522), done.\u001b[K\n",
      "remote: Total 2784 (delta 2338), reused 2696 (delta 2250), pack-reused 0\u001b[K\n",
      "Receiving objects: 100% (2784/2784), 11.32 MiB | 3.41 MiB/s, done.\n",
      "Resolving deltas: 100% (2338/2338), done.\n",
      "Requirement already satisfied: torch in /home/mohamed/miniconda3/lib/python3.9/site-packages (from -r Eunomia/requirements.txt (line 1)) (1.11.0)\n",
      "Requirement already satisfied: pyro-ppl in /home/mohamed/miniconda3/lib/python3.9/site-packages (from -r Eunomia/requirements.txt (line 2)) (1.8.6)\n",
      "Requirement already satisfied: cvxpy in /home/mohamed/miniconda3/lib/python3.9/site-packages (from -r Eunomia/requirements.txt (line 3)) (1.1.18)\n",
      "Requirement already satisfied: typing_extensions in /home/mohamed/miniconda3/lib/python3.9/site-packages (from torch->-r Eunomia/requirements.txt (line 1)) (4.8.0)\n",
      "Requirement already satisfied: numpy>=1.7 in /home/mohamed/miniconda3/lib/python3.9/site-packages (from pyro-ppl->-r Eunomia/requirements.txt (line 2)) (1.26.2)\n",
      "Requirement already satisfied: pyro-api>=0.1.1 in /home/mohamed/miniconda3/lib/python3.9/site-packages (from pyro-ppl->-r Eunomia/requirements.txt (line 2)) (0.1.2)\n",
      "Requirement already satisfied: opt-einsum>=2.3.2 in /home/mohamed/miniconda3/lib/python3.9/site-packages (from pyro-ppl->-r Eunomia/requirements.txt (line 2)) (3.3.0)\n",
      "Requirement already satisfied: tqdm>=4.36 in /home/mohamed/miniconda3/lib/python3.9/site-packages (from pyro-ppl->-r Eunomia/requirements.txt (line 2)) (4.62.3)\n",
      "Requirement already satisfied: scs>=1.1.6 in /home/mohamed/miniconda3/lib/python3.9/site-packages (from cvxpy->-r Eunomia/requirements.txt (line 3)) (3.1.0)\n",
      "Requirement already satisfied: scipy>=1.1.0 in /home/mohamed/miniconda3/lib/python3.9/site-packages (from cvxpy->-r Eunomia/requirements.txt (line 3)) (1.11.3)\n",
      "Requirement already satisfied: ecos>=2 in /home/mohamed/miniconda3/lib/python3.9/site-packages (from cvxpy->-r Eunomia/requirements.txt (line 3)) (2.0.10)\n",
      "Requirement already satisfied: osqp>=0.4.1 in /home/mohamed/miniconda3/lib/python3.9/site-packages (from cvxpy->-r Eunomia/requirements.txt (line 3)) (0.6.2.post4)\n",
      "Requirement already satisfied: qdldl in /home/mohamed/miniconda3/lib/python3.9/site-packages (from osqp>=0.4.1->cvxpy->-r Eunomia/requirements.txt (line 3)) (0.1.5.post0)\n"
     ]
    }
   ],
   "source": [
    "!rm -rf Eunomia\n",
    "!git clone https://github.com/ouaguenouni/Eunomia\n",
    "!pip install -r Eunomia/requirements.txt"
   ]
  },
  {
   "cell_type": "code",
   "execution_count": 4,
   "id": "f199343b-eb4a-40a4-939d-4c4a097fc116",
   "metadata": {},
   "outputs": [],
   "source": [
    "import matplotlib.pyplot as plt\n",
    "import numpy as np\n",
    "import pandas as pd\n",
    "import seaborn as sns\n",
    "from Eunomia.preferences import *\n",
    "from Eunomia.additive_functions import *\n",
    "from Eunomia.alternatives import *\n",
    "from Eunomia.sampling import *\n",
    "from Eunomia.mcmc import *\n",
    "#from Eunomia.degree import *\n",
    "from Eunomia.experiments import *\n",
    "from Eunomia.ssb import * \n",
    "from Eunomia.graph_utils import * \n",
    "from docplex.mp.model import Model\n",
    "import torch\n",
    "import torch.nn as nn\n",
    "import torch.optim as optim\n",
    "from tqdm.notebook import tqdm, trange\n",
    "import networkx as nx\n",
    "import matplotlib.pyplot as plt\n",
    "pyro.set_rng_seed(1)"
   ]
  },
  {
   "cell_type": "code",
   "execution_count": 5,
   "id": "e2aa7070-b919-4eb9-ba3a-151196ad5a9e",
   "metadata": {},
   "outputs": [],
   "source": [
    "def remove_bidir_arcs(graph):\n",
    "    graph2 = nx.DiGraph()\n",
    "    for x,y in graph.edges():\n",
    "        if not (y,x) in graph2.edges():\n",
    "            graph2.add_edge(x,y)\n",
    "    return graph2\n",
    "\n",
    "\n",
    "def sample_random_graph(n, degree, method = \"gnp\", **kwargs):\n",
    "    subsets = [tuple(i) for i in generate_additive_theta(n, degree)]\n",
    "    methods = [\"gnp\"]\n",
    "    if method not in methods:\n",
    "        print(\"Unknown method\")\n",
    "        return None\n",
    "    if method == \"gnp\":\n",
    "        if not \"p\" in kwargs:\n",
    "            print(\"missing param p\")\n",
    "            return None\n",
    "        random_graph = nx.fast_gnp_random_graph(len(subsets), kwargs[\"p\"], directed = True)\n",
    "        random_graph = remove_bidir_arcs(random_graph)\n",
    "        random_graph = nx.relabel_nodes(random_graph, {i: label for i, label in enumerate(subsets)})\n",
    "    return random_graph"
   ]
  },
  {
   "cell_type": "code",
   "execution_count": 6,
   "id": "c1d3e34d-418b-4a67-af5d-7515fa87f32f",
   "metadata": {},
   "outputs": [
    {
     "data": {
      "image/png": "[encoded data removed]",
      "text/plain": [
       "<Figure size 432x288 with 1 Axes>"
      ]
     },
     "metadata": {},
     "output_type": "display_data"
    }
   ],
   "source": [
    "graph = sample_random_graph(4,1,p=0.6)\n",
    "nx.draw(graph, with_labels=True, arrows=True)\n",
    "plt.show()"
   ]
  },
  {
   "cell_type": "code",
   "execution_count": 7,
   "id": "3d9c5e4d-c219-4842-911b-89e2f62cb127",
   "metadata": {},
   "outputs": [],
   "source": [
    "def get_all_pairs(L):\n",
    "    pairs = []\n",
    "    for i in range(len(L)):\n",
    "        for j in range(i+1, len(L)):\n",
    "            pairs.append((L[i], L[j]))\n",
    "    return pairs"
   ]
  },
  {
   "cell_type": "code",
   "execution_count": null,
   "id": "4765b49c-b8d3-4520-9f39-7b7a74c583a7",
   "metadata": {},
   "outputs": [],
   "source": []
  },
  {
   "cell_type": "code",
   "execution_count": 13,
   "id": "4d346395-a840-45e0-99c9-8224637d250e",
   "metadata": {},
   "outputs": [],
   "source": [
    "class SSB_Model:\n",
    "    def __init__(self, items, theta = None, phi=None, degree = 1):\n",
    "        self.items = items\n",
    "        if not theta and not phi:\n",
    "            theta = [tuple(i) for i in generate_additive_theta(len(items), degree)]\n",
    "            phi = get_all_pairs(theta)\n",
    "        self.theta = theta\n",
    "        self.phi = phi\n",
    "        self.solved = False\n",
    "        \n",
    "        self.r_theta = 0\n",
    "        self.r_phi = 0\n",
    "        self.eps = []\n",
    "        \n",
    "        self.mdl = Model(name='SSB_Model')\n",
    "\n",
    "        self.w_vars = {}\n",
    "        for k in self.theta:\n",
    "            self.w_vars[k] = self.mdl.continuous_var(name=\"w_\"+str(set(k)),lb =-np.infty, ub = np.infty)\n",
    "            self.r_theta =  self.r_theta + self.mdl.abs(self.w_vars[k])\n",
    "             \n",
    "        self.b_vars = {}      \n",
    "        for k in self.phi:\n",
    "            self.b_vars[k] = self.mdl.continuous_var(name=\"b_(\"+str(set(k[0]))+\"->\"+str(set(k[1]))+\")\",lb =-np.infty,ub = np.infty)\n",
    "            self.r_phi =  self.r_phi + self.mdl.abs(self.b_vars[k])\n",
    "\n",
    "    \n",
    "    def project(self, x, y):\n",
    "        s = 0\n",
    "        for k in self.theta:\n",
    "            if all(i in x for i in k):\n",
    "                s += self.w_vars[k]\n",
    "            if all(i in y for i in k):\n",
    "                s -= self.w_vars[k]\n",
    "                \n",
    "        for A,B in self.phi:\n",
    "            if all(i in x for i in A) and all(i in y for i in B):\n",
    "                s += self.b_vars[(A,B)]\n",
    "            if all(i in x for i in B) and all(i in y for i in A):\n",
    "                s -= self.b_vars[(A,B)]\n",
    "        return s\n",
    "    \n",
    "    def fit(self, prf):\n",
    "        self.prf = prf\n",
    "        edges = []\n",
    "        self.eps = []\n",
    "        for x,y in self.prf:\n",
    "            if (set(y),set(x)) in edges:\n",
    "                continue\n",
    "            edges.append((set(x),set(y)))\n",
    "            eps = self.mdl.continuous_var(name=f\"eps_({set(x)}_{set(y)})\",lb =0,ub = np.infty)\n",
    "            cst = self.mdl.add_constraint(self.project(x,y) >= 1 - eps, ctname = f\"c_({set(x)}_{set(y)})\")\n",
    "            self.eps.append(eps)\n",
    "        self.mdl.minimize_static_lex([self.mdl.sum(self.eps), self.r_theta + 100*self.r_phi])\n",
    "        s = self.mdl.solve(log_output = False)\n",
    "        if s:\n",
    "            self.solved = True\n",
    "        return s\n",
    "    \n",
    "    def predict(self, x,y):\n",
    "        if not self.solved:\n",
    "            print(\"PL not solved\")\n",
    "            return None\n",
    "        s = 0\n",
    "        for k in self.theta:\n",
    "            if all(i in x for i in k):\n",
    "                s += self.w_vars[k].solution_value\n",
    "            if all(i in y for i in k):\n",
    "                s -= self.w_vars[k].solution_value\n",
    "                \n",
    "        for A,B in self.phi:\n",
    "            if all(i in x for i in A) and all(i in y for i in B):\n",
    "                s += self.b_vars[(A,B)].solution_value\n",
    "            if all(i in x for i in B) and all(i in y for i in A):\n",
    "                s -= self.b_vars[(A,B)].solution_value\n",
    "        return s\n",
    "    \n",
    "    def get_ssb_function(self):\n",
    "        model = {}\n",
    "        model[\"w\"] = {}\n",
    "        model[\"b\"] = {}\n",
    "        for s in self.w_vars:\n",
    "            model[\"w\"][s] = self.w_vars[s].solution_value\n",
    "        for b in self.b_vars:\n",
    "            model[\"b\"][b] = self.b_vars[b].solution_value\n",
    "        return model\n",
    "    \n",
    "    def n_ssb_vars(self):\n",
    "        return sum([1 if np.abs(self.b_vars[i].solution_value) > 0 else 0 for i in self.b_vars])\n",
    "\n",
    "    def n_w_vars(self):\n",
    "        return sum([1 if np.abs(self.w_vars[i].solution_value) > 0 else 0 for i in self.w_vars])\n",
    "    \n",
    "    def ratio_of_representation(self):\n",
    "        return 1 - sum([1 if i.solution_value > 0 else 0 for i in self.eps]) / len(self.eps)\n",
    "    \n",
    "    def print_model(self):\n",
    "        print(\"% representation =\", self.ratio_of_representation())\n",
    "        for x in self.w_vars:\n",
    "            if (self.w_vars[x].solution_value != 0):\n",
    "                print(f\"w_{x}: {self.w_vars[x].solution_value}\")\n",
    "        \n",
    "        for x,y in self.b_vars:\n",
    "            if self.b_vars[(x,y)].solution_value != 0:\n",
    "                print(f\"b_({x}->{y}): {self.b_vars[(x,y)].solution_value}\")\n",
    "            "
   ]
  },
  {
   "cell_type": "code",
   "execution_count": 161,
   "id": "0922263f-cf57-41cf-90e1-4625b5b2aa0e",
   "metadata": {},
   "outputs": [],
   "source": [
    "n = 3\n",
    "items = np.arange(n)"
   ]
  },
  {
   "cell_type": "code",
   "execution_count": 162,
   "id": "8a41309a-b573-4e5c-abdb-86d8b4643cb7",
   "metadata": {
    "scrolled": true,
    "tags": []
   },
   "outputs": [],
   "source": [
    "graph = sample_random_graph(n, 2, p=0.3)\n",
    "prf = list(graph.edges())"
   ]
  },
  {
   "cell_type": "code",
   "execution_count": 163,
   "id": "c4d9734f-9f8e-44fe-8434-2def58db752c",
   "metadata": {},
   "outputs": [
    {
     "data": {
      "image/png": "[encoded data removed]",
      "text/plain": [
       "<Figure size 432x288 with 1 Axes>"
      ]
     },
     "metadata": {},
     "output_type": "display_data"
    }
   ],
   "source": [
    "nx.draw(graph, with_labels=True, arrows=True)\n",
    "plt.show()"
   ]
  },
  {
   "cell_type": "code",
   "execution_count": 166,
   "id": "03fcbea2-675b-46be-ae88-8b9aafaf6a07",
   "metadata": {},
   "outputs": [
    {
     "data": {
      "text/plain": [
       "docplex.mp.solution.SolveSolution(obj=0,values={w_{0}:1,_abs1:1,x3:1,w_{.."
      ]
     },
     "execution_count": 166,
     "metadata": {},
     "output_type": "execute_result"
    }
   ],
   "source": [
    "model = SSB_Model(items, degree = 2)\n",
    "model.fit(prf)"
   ]
  },
  {
   "cell_type": "code",
   "execution_count": 167,
   "id": "eb31dc48-4cc3-4cef-b52f-0efeaa45499a",
   "metadata": {},
   "outputs": [
    {
     "data": {
      "text/plain": [
       "{'w': {(0,): 1.0, (1,): 0, (2,): -1.0, (0, 1): 0, (0, 2): 1.0, (1, 2): 0},\n",
       " 'b': {((0,), (1,)): 0,\n",
       "  ((0,), (2,)): -3.0,\n",
       "  ((0,), (0, 1)): 0,\n",
       "  ((0,), (0, 2)): 4.0,\n",
       "  ((0,), (1, 2)): 0,\n",
       "  ((1,), (2,)): 0,\n",
       "  ((1,), (0, 1)): 0,\n",
       "  ((1,), (0, 2)): 0,\n",
       "  ((1,), (1, 2)): 0,\n",
       "  ((2,), (0, 1)): 0,\n",
       "  ((2,), (0, 2)): 0,\n",
       "  ((2,), (1, 2)): 1.0,\n",
       "  ((0, 1), (0, 2)): 0,\n",
       "  ((0, 1), (1, 2)): 0,\n",
       "  ((0, 2), (1, 2)): 0}}"
      ]
     },
     "execution_count": 167,
     "metadata": {},
     "output_type": "execute_result"
    }
   ],
   "source": [
    "ssb_f = model.get_ssb_function()\n",
    "ssb_f"
   ]
  },
  {
   "cell_type": "code",
   "execution_count": 178,
   "id": "0d7d7166-e884-416b-a18e-fcbbc11a1034",
   "metadata": {},
   "outputs": [
    {
     "data": {
      "text/plain": [
       "docplex.mp.solution.SolveSolution(obj=1,values={y_2:1,y_{2}:1})"
      ]
     },
     "execution_count": 178,
     "metadata": {},
     "output_type": "execute_result"
    }
   ],
   "source": [
    "mdl = Model(name='SSB_Solver')\n",
    "S = (0,1)\n",
    "mdl.w = {}\n",
    "obj = 0\n",
    "mdl.vars = {i: mdl.binary_var(name = f\"y_{i}\") for i in items}\n",
    "\n",
    "for x in ssb_f[\"w\"]:\n",
    "    mdl.w[x] = mdl.binary_var(name = f\"y_{set(x)}\")\n",
    "    c= mdl.add_constraint(mdl.w[x] == mdl.logical_and(*[mdl.vars[i] for i in x]))\n",
    "    obj += (mdl.w[x] - int(all(i in S for i in x))) * ssb_f[\"w\"][x]\n",
    "\n",
    "for x in ssb_f[\"b\"]:\n",
    "    A = x[0]\n",
    "    B = x[1]\n",
    "    coeff = ssb_f[\"b\"][x]\n",
    "    obj += (mdl.w[A] * int(all(i in S for i in B)))*coeff \n",
    "    obj -= (mdl.w[B] * int(all(i in S for i in A)))*coeff \n",
    "\n",
    "mdl.maximize(obj)\n",
    "mdl.solve()"
   ]
  },
  {
   "cell_type": "code",
   "execution_count": 179,
   "id": "195df4da-e78c-47d5-bd68-b54ae1bd49ff",
   "metadata": {},
   "outputs": [
    {
     "name": "stdout",
     "output_type": "stream",
     "text": [
      "0:0\n",
      "1:0\n",
      "2:1.0\n"
     ]
    }
   ],
   "source": [
    "for x in mdl.vars:\n",
    "    print(f\"{x}:{mdl.vars[x].solution_value}\")"
   ]
  },
  {
   "cell_type": "code",
   "execution_count": 115,
   "id": "01d57791-d1f9-47c6-8b7f-a18e92bcb61a",
   "metadata": {},
   "outputs": [
    {
     "data": {
      "text/plain": [
       "[((0,), (1,)), ((1,), (2,)), ((2,), (0,)), ((2,), (3,)), ((3,), (0,))]"
      ]
     },
     "execution_count": 115,
     "metadata": {},
     "output_type": "execute_result"
    }
   ],
   "source": [
    "prf"
   ]
  },
  {
   "cell_type": "code",
   "execution_count": null,
   "id": "5a4f2198-ef32-41a7-a9d5-67bf162190db",
   "metadata": {},
   "outputs": [],
   "source": []
  }
 ],
 "metadata": {
  "kernelspec": {
   "display_name": "Python 3.7",
   "language": "python",
   "name": "py37"
  },
  "language_info": {
   "codemirror_mode": {
    "name": "ipython",
    "version": 3
   },
   "file_extension": ".py",
   "mimetype": "text/x-python",
   "name": "python",
   "nbconvert_exporter": "python",
   "pygments_lexer": "ipython3",
   "version": "3.7.12"
  }
 },
 "nbformat": 4,
 "nbformat_minor": 5
}
