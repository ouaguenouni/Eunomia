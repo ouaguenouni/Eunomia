{
 "cells": [
  {
   "cell_type": "code",
   "execution_count": 1,
   "id": "a68cba7b-7d72-4292-9c12-3e2fa755dbc6",
   "metadata": {},
   "outputs": [
    {
     "name": "stdout",
     "output_type": "stream",
     "text": [
      "Cloning into 'Eunomia'...\n",
      "remote: Enumerating objects: 481, done.\u001b[K\n",
      "remote: Counting objects: 100% (481/481), done.\u001b[K\n",
      "remote: Compressing objects: 100% (174/174), done.\u001b[K\n",
      "remote: Total 481 (delta 365), reused 417 (delta 301), pack-reused 0\u001b[K\n",
      "Receiving objects: 100% (481/481), 2.93 MiB | 1.87 MiB/s, done.\n",
      "Resolving deltas: 100% (365/365), done.\n",
      "Requirement already satisfied: torch in /home/mohamed/miniconda3/lib/python3.9/site-packages (from -r Eunomia/requirements.txt (line 1)) (1.11.0)\n",
      "Requirement already satisfied: pyro-ppl in /home/mohamed/miniconda3/lib/python3.9/site-packages (from -r Eunomia/requirements.txt (line 2)) (1.8.6)\n",
      "Requirement already satisfied: cvxpy in /home/mohamed/miniconda3/lib/python3.9/site-packages (from -r Eunomia/requirements.txt (line 3)) (1.1.18)\n",
      "Requirement already satisfied: typing_extensions in /home/mohamed/miniconda3/lib/python3.9/site-packages (from torch->-r Eunomia/requirements.txt (line 1)) (4.8.0)\n",
      "Requirement already satisfied: pyro-api>=0.1.1 in /home/mohamed/miniconda3/lib/python3.9/site-packages (from pyro-ppl->-r Eunomia/requirements.txt (line 2)) (0.1.2)\n",
      "Requirement already satisfied: numpy>=1.7 in /home/mohamed/miniconda3/lib/python3.9/site-packages (from pyro-ppl->-r Eunomia/requirements.txt (line 2)) (1.22.1)\n",
      "Requirement already satisfied: opt-einsum>=2.3.2 in /home/mohamed/miniconda3/lib/python3.9/site-packages (from pyro-ppl->-r Eunomia/requirements.txt (line 2)) (3.3.0)\n",
      "Requirement already satisfied: tqdm>=4.36 in /home/mohamed/miniconda3/lib/python3.9/site-packages (from pyro-ppl->-r Eunomia/requirements.txt (line 2)) (4.62.3)\n",
      "Requirement already satisfied: scipy>=1.1.0 in /home/mohamed/miniconda3/lib/python3.9/site-packages (from cvxpy->-r Eunomia/requirements.txt (line 3)) (1.11.3)\n",
      "Requirement already satisfied: ecos>=2 in /home/mohamed/miniconda3/lib/python3.9/site-packages (from cvxpy->-r Eunomia/requirements.txt (line 3)) (2.0.10)\n",
      "Requirement already satisfied: scs>=1.1.6 in /home/mohamed/miniconda3/lib/python3.9/site-packages (from cvxpy->-r Eunomia/requirements.txt (line 3)) (3.1.0)\n",
      "Requirement already satisfied: osqp>=0.4.1 in /home/mohamed/miniconda3/lib/python3.9/site-packages (from cvxpy->-r Eunomia/requirements.txt (line 3)) (0.6.2.post4)\n",
      "Requirement already satisfied: qdldl in /home/mohamed/miniconda3/lib/python3.9/site-packages (from osqp>=0.4.1->cvxpy->-r Eunomia/requirements.txt (line 3)) (0.1.5.post0)\n"
     ]
    }
   ],
   "source": [
    "!rm -rf Eunomia\n",
    "!git clone https://github.com/ouaguenouni/Eunomia\n",
    "!pip install -r Eunomia/requirements.txt"
   ]
  },
  {
   "cell_type": "code",
   "execution_count": 2,
   "id": "21deb9cc-d3b3-4b48-aca5-10081d315481",
   "metadata": {},
   "outputs": [],
   "source": [
    "import itertools\n",
    "import random\n",
    "import networkx as nx\n",
    "import matplotlib.pyplot as plt\n",
    "import numpy as np\n",
    "import pandas as pd\n",
    "import seaborn as sns\n",
    "from Eunomia.preferences import *\n",
    "from Eunomia.additive_functions import *\n",
    "from Eunomia.alternatives import *\n",
    "from Eunomia.sampling import *\n",
    "from Eunomia.mcmc import *\n",
    "#from Eunomia.degree import *\n",
    "from Eunomia.experiments import *\n",
    "from Eunomia.ssb import * \n",
    "from Eunomia.graph_utils import * \n",
    "from itertools import combinations\n",
    "import seaborn as sns\n",
    "import torch\n",
    "import torch.nn as nn\n",
    "import torch.optim as optim\n",
    "from tqdm.notebook import tqdm, trange\n",
    "pyro.set_rng_seed(1)\n",
    "import itertools\n",
    "import random\n",
    "import networkx as nx\n",
    "from torch.distributions.bernoulli import Bernoulli\n",
    "\n",
    "pairs = lambda E:list(combinations(E, 2))\n",
    "\n",
    "\n",
    "def sample_bernoulli(p, n):\n",
    "    \"\"\"\n",
    "    Samples from a Bernoulli distribution.\n",
    "\n",
    "    Args:\n",
    "    p (float): Probability of success (1) in each Bernoulli trial.\n",
    "    n (int): Number of samples to draw.\n",
    "\n",
    "    Returns:\n",
    "    torch.Tensor: A tensor of shape (n,) with samples from the Bernoulli distribution.\n",
    "    \"\"\"\n",
    "    dist = Bernoulli(torch.tensor([p]))\n",
    "    samples = dist.sample([n]).squeeze()\n",
    "    return samples\n",
    "\n",
    "class SSBModel(nn.Module):\n",
    "    \"\"\"\n",
    "    A PyTorch module implementing the Symmetric Skew Bilinear (SSB) model.\n",
    "\n",
    "    This model combines additive and non-transitive interactions to assess preferences between alternatives.\n",
    "\n",
    "    Attributes:\n",
    "        theta (list): A list of attributes or interactions considered by the model.\n",
    "        weights (torch.nn.Parameter): A parameter vector for the additive part of the model.\n",
    "        phi_function (PhiFunction): An instance of PhiFunction to handle non-transitive interactions.\n",
    "\n",
    "    Methods:\n",
    "        logprior(lambda_1, lambda_2): Computes the regularization term for the model.\n",
    "        likelihood(R): Computes the likelihood of the preference data.\n",
    "        forward(sparse_X, sparse_Y): Computes the utility score for a pair of alternatives.\n",
    "        accuracy(s): Computes the accuracy of the model on a dataset.\n",
    "        display_model(): Displays the model parameters.\n",
    "    \"\"\"\n",
    "\n",
    "    def __init__(self, theta):\n",
    "        \"\"\"\n",
    "        Initializes the SSBModel module.\n",
    "\n",
    "        Parameters:\n",
    "            theta (list): A list of attributes or interactions considered by the model.\n",
    "        \"\"\"\n",
    "        super(SSBModel, self).__init__()\n",
    "        self.theta = theta\n",
    "        self.weights = nn.Parameter(torch.randn(len(theta)))\n",
    "        self.phi_function = PhiFunction(theta)\n",
    "        \n",
    "        \n",
    "    def logprior(self, lambda_1, lambda_2):\n",
    "        \"\"\"\n",
    "        Computes the regularization term for the model, combining the L2 norm of the weights and the regularization of the phi function parameters.\n",
    "    \n",
    "        The regularization term is given by:\n",
    "        \\lambda_1 \\cdot \\sum \\text{weights}^2 + \\lambda_2 \\cdot \\text{phi_function.logprior()}\n",
    "    \n",
    "        Here, \\lambda_1 and \\lambda_2 are regularization parameters that control the extent of regularization for the weights and phi function parameters, respectively.\n",
    "    \n",
    "        Parameters:\n",
    "            lambda_1 (float): Regularization parameter for the weights.\n",
    "            lambda_2 (float): Regularization parameter for the phi function.\n",
    "    \n",
    "        Returns:\n",
    "            torch.tensor: The combined regularization term.\n",
    "        \"\"\"\n",
    "        return lambda_1 * torch.sum(torch.pow(self.weights, 2)) + lambda_2 * self.phi_function.logprior()\n",
    "\n",
    "\n",
    "\n",
    "    def likelihood(self, R):\n",
    "        \"\"\"\n",
    "        Computes the likelihood of the preference data using a sigmoid function.\n",
    "    \n",
    "        For each pair of alternatives (X, Y) in R, this method computes the utility score f(X, Y) using the forward method. \n",
    "        The likelihood is then calculated as the sum of the sigmoid of these utility scores.\n",
    "    \n",
    "        The sigmoid function is used to transform the utility score into a probability between 0 and 1, reflecting \n",
    "        the probability of preferring X over Y.\n",
    "    \n",
    "        The formula for likelihood is given by:\n",
    "        L(R) = \\sum_{(X, Y) \\in R} \\sigma(f(X, Y))\n",
    "        where \\sigma is the sigmoid function, and f(X, Y) is the utility score for the pair (X, Y).\n",
    "    \n",
    "        Parameters:\n",
    "            R (list): A list of pairs of alternatives.\n",
    "    \n",
    "        Returns:\n",
    "            torch.tensor: The likelihood value.\n",
    "        \"\"\"\n",
    "        l = torch.tensor(0).float()\n",
    "        for sparse_X, sparse_Y in R:\n",
    "            f = self.forward(sparse_X, sparse_Y).float()\n",
    "            l += torch.sigmoid(f)\n",
    "        return l\n",
    "\n",
    "    def forward(self, sparse_X, sparse_Y):\n",
    "        \"\"\"\n",
    "        Computes the utility score for a pair of alternatives X and Y.\n",
    "\n",
    "        Parameters:\n",
    "            sparse_X (list): A sparse representation of alternative X.\n",
    "            sparse_Y (list): A sparse representation of alternative Y.\n",
    "\n",
    "        Returns:\n",
    "            torch.tensor: The utility score for the pair (X, Y).\n",
    "        \"\"\"\n",
    "        f = 0\n",
    "        for S in self.theta:\n",
    "            if all(i in sparse_X for i in S):\n",
    "                f += self.weights[self.theta.index(S)]\n",
    "            if all(i in sparse_Y for i in S):\n",
    "                f -= self.weights[self.theta.index(S)]\n",
    "        f += self.phi_function(sparse_X, sparse_Y)\n",
    "        return f\n",
    "\n",
    "    def accuracy(self, s):\n",
    "        \"\"\"\n",
    "        Computes the accuracy of the model on a dataset.\n",
    "\n",
    "        Parameters:\n",
    "            s (list): A list of pairs of alternatives along with their actual preference.\n",
    "\n",
    "        Returns:\n",
    "            float: The accuracy of the model.\n",
    "        \"\"\"\n",
    "        L = []\n",
    "        for x, y in s:\n",
    "            f = self.forward(x, y)\n",
    "            L.append(1 if f > 0 else 0)\n",
    "        return np.mean(L)\n",
    "\n",
    "    def display_model(self):\n",
    "        \"\"\"\n",
    "        Displays the model parameters.\n",
    "        \"\"\"\n",
    "        for i in range(self.weights.shape[0]):\n",
    "            if np.abs(self.weights[i].detach().numpy()) > 1e-5:\n",
    "                print(f\"w[{i}] = {self.weights[i]}\")\n",
    "        for (i, j, A, B) in self.phi_function.phi_values: \n",
    "            if np.abs(self.phi_function.phi_values[(i, j, A, B)].item()) > 1e-5:\n",
    "                print(f\"C[{i}, {j}, {A}, {B}] = {self.phi_function.phi_values[(i, j, A, B)].item()}\", end=\" \\n\")"
   ]
  },
  {
   "cell_type": "code",
   "execution_count": 3,
   "id": "b4d331f7-3d0f-41fd-8563-f81d542759ec",
   "metadata": {},
   "outputs": [],
   "source": [
    "class SSB_Sampler():\n",
    "    \n",
    "    def __init__(self, n,k):\n",
    "        self.theta = [tuple(i) for i in generate_additive_theta(n, k)]\n",
    "        self.model = SSBModel(self.theta)\n",
    "        self.masque_theta = None\n",
    "        self.masque_phi = None\n",
    "        \n",
    "    def resample(self, p_1=0.5, p_2=0.5):\n",
    "        self.masque_theta = []\n",
    "        self.masque_phi = []\n",
    "        phi_params = {k:self.model.phi_function.phi_values[k] for k in self.model.phi_function.phi_values}\n",
    "        self.masque_theta = sample_bernoulli(p_1, len(self.theta))\n",
    "        self.model.weights = nn.Parameter(torch.randn(len(self.theta))*self.masque_theta)\n",
    "        for k in phi_params:\n",
    "            m = sample_bernoulli(p_2, 1).item()\n",
    "            self.model.phi_function.phi_values[k] = nn.Parameter(torch.randn(1)[0] * m)\n",
    "            self.masque_phi.append(m)\n",
    "        #print(\"inf : \", p_2 , \" phi  = \", self.masque_phi)\n",
    "            \n",
    "        return np.array(self.masque_theta), np.array(self.masque_phi)\n",
    "    \n",
    "    def __call__(self,x,y):\n",
    "        return self.model(x,y)\n",
    "    \n",
    "    \n",
    "class SSB_Decider():\n",
    "    \n",
    "    def __init__(self, ground_truth):\n",
    "        self.ground_truth = ground_truth\n",
    "        self.alternatives = []\n",
    "        self.preferences = []\n",
    "        \n",
    "    def __call__(self, x, y):\n",
    "        if self.ground_truth(x,y) > 0 :\n",
    "            self.preferences.append((x,y))\n",
    "        if self.ground_truth(x,y) < 0 :\n",
    "            self.preferences.append((y,x))\n",
    "        return self.ground_truth(x,y)\n",
    "    \n",
    "    def relation(self):\n",
    "        return self.preferences\n",
    "        \n",
    "        "
   ]
  },
  {
   "cell_type": "code",
   "execution_count": 4,
   "id": "24cdb744-bd07-454f-bdd1-100592f9370c",
   "metadata": {},
   "outputs": [],
   "source": [
    "def sample_full_relation(n,k, p_1 = 0.6, p_2 = 0.6):\n",
    "    sampler = SSB_Sampler(n,k)\n",
    "    decider = SSB_Decider(sampler)\n",
    "    mt,mp = sampler.resample(p_1 = p_1, p_2 = p_2)\n",
    "    for x,y in pairs(sampler.theta):\n",
    "        decider(x,y)\n",
    "    return decider.relation(), mt, mp, sampler"
   ]
  },
  {
   "cell_type": "code",
   "execution_count": 5,
   "id": "c2316bd7-8a98-4123-950e-7be01489ce27",
   "metadata": {},
   "outputs": [
    {
     "data": {
      "text/plain": [
       "([((0,), (1,)), ((2,), (0,)), ((2,), (1,))],\n",
       " array([1., 1., 0.], dtype=float32),\n",
       " array([1., 1., 1., 0., 0., 0., 1., 0., 1., 1., 0., 1.]),\n",
       " <__main__.SSB_Sampler at 0x7fd4529cca90>)"
      ]
     },
     "execution_count": 5,
     "metadata": {},
     "output_type": "execute_result"
    }
   ],
   "source": [
    "sample_full_relation(3,1)"
   ]
  },
  {
   "cell_type": "code",
   "execution_count": 6,
   "id": "b8fdda44-924b-44e3-952a-c19b3988a384",
   "metadata": {},
   "outputs": [
    {
     "data": {
      "text/plain": [
       "0.0"
      ]
     },
     "execution_count": 6,
     "metadata": {},
     "output_type": "execute_result"
    }
   ],
   "source": [
    "sample_bernoulli(0.1, 1).item()"
   ]
  },
  {
   "cell_type": "code",
   "execution_count": 25,
   "id": "720d21cb-de0d-4a1f-bda5-def64c82b2ce",
   "metadata": {},
   "outputs": [
    {
     "data": {
      "application/vnd.jupyter.widget-view+json": {
       "model_id": "66fd82b7cd984246930a1f61385300e7",
       "version_major": 2,
       "version_minor": 0
      },
      "text/plain": [
       "  0%|          | 0/20 [00:00<?, ?it/s]"
      ]
     },
     "metadata": {},
     "output_type": "display_data"
    },
    {
     "name": "stdout",
     "output_type": "stream",
     "text": [
      "        additive_acc  nt_acc    s_time   s_fit_w   s_fit_M    mt\n",
      "n mp                                                            \n",
      "4 76.0      0.800000     1.0  0.071262  2.223686  2.455737  10.0\n",
      "  77.0      0.933333     1.0  0.072297  2.130782  2.403260  10.0\n",
      "  82.0      0.822222     1.0  0.070366  2.133780  2.533299  10.0\n",
      "  83.0      0.866667     1.0  0.068618  2.189944  2.492960  10.0\n",
      "  85.0      0.822222     1.0  0.071254  2.173148  2.448044  10.0\n",
      "  87.0      0.911111     1.0  0.077054  2.152534  2.767557  10.0\n",
      "  89.0      0.800000     1.0  0.069386  2.173538  2.833253  10.0\n",
      "  90.0      0.896296     1.0  0.072051  2.147294  2.477163  10.0\n",
      "  91.0      0.711111     1.0  0.077720  2.191807  2.504888  10.0\n",
      "  92.0      0.888889     1.0  0.069059  2.190526  2.437455  10.0\n",
      "  93.0      0.866667     1.0  0.070038  2.117127  2.432346  10.0\n",
      "  94.0      0.800000     1.0  0.073789  2.146643  2.462441  10.0\n",
      "  95.0      0.755556     1.0  0.132136  2.150348  2.474188  10.0\n",
      "  97.0      0.822222     1.0  0.072941  2.142339  2.485355  10.0\n",
      "  98.0      0.822222     1.0  0.070121  2.127826  2.459317  10.0\n",
      "  99.0      0.822222     1.0  0.071267  2.124017  2.437543  10.0\n"
     ]
    },
    {
     "data": {
      "application/vnd.jupyter.widget-view+json": {
       "model_id": "6070606f30f54ff1b0bb6c577223cce4",
       "version_major": 2,
       "version_minor": 0
      },
      "text/plain": [
       "  0%|          | 0/20 [00:00<?, ?it/s]"
      ]
     },
     "metadata": {},
     "output_type": "display_data"
    },
    {
     "name": "stdout",
     "output_type": "stream",
     "text": [
      "         additive_acc  nt_acc    s_time   s_fit_w   s_fit_M    mt\n",
      "n mp                                                             \n",
      "4 76.0       0.844444     1.0  0.071419  2.356844  2.534811  10.0\n",
      "  77.0       0.933333     1.0  0.072297  2.130782  2.403260  10.0\n",
      "  80.0       0.711111     1.0  0.073197  2.015096  2.355141  10.0\n",
      "  81.0       0.777778     1.0  0.072010  2.236327  2.785431  10.0\n",
      "  82.0       0.822222     1.0  0.070366  2.133780  2.533299  10.0\n",
      "  83.0       0.792593     1.0  0.081767  2.410519  2.651831  10.0\n",
      "  85.0       0.822222     1.0  0.071254  2.173148  2.448044  10.0\n",
      "  87.0       0.888889     1.0  0.073321  2.124606  2.511902  10.0\n",
      "  88.0       0.955556     1.0  0.077848  2.293026  2.475533  10.0\n",
      "  89.0       0.792593     1.0  0.077027  2.269250  2.665970  10.0\n",
      "  90.0       0.896296     1.0  0.072051  2.147294  2.477163  10.0\n",
      "  91.0       0.800000     1.0  0.082878  2.308639  2.508533  10.0\n",
      "  92.0       0.814815     1.0  0.070203  2.201061  2.576246  10.0\n",
      "  93.0       0.829630     1.0  0.072755  2.280024  2.502357  10.0\n",
      "  94.0       0.800000     1.0  0.073789  2.146643  2.462441  10.0\n",
      "  95.0       0.766667     1.0  0.101775  2.156883  2.481116  10.0\n",
      "  96.0       0.911111     1.0  0.069494  2.128605  2.775227  10.0\n",
      "  97.0       0.822222     1.0  0.072941  2.142339  2.485355  10.0\n",
      "  98.0       0.822222     1.0  0.070121  2.127826  2.459317  10.0\n",
      "  99.0       0.800000     1.0  0.077817  2.236713  2.520270  10.0\n",
      "  100.0      0.844444     1.0  0.084501  2.438799  2.882303  10.0\n"
     ]
    },
    {
     "data": {
      "application/vnd.jupyter.widget-view+json": {
       "model_id": "58f75528a47047278b194e818358bc5b",
       "version_major": 2,
       "version_minor": 0
      },
      "text/plain": [
       "  0%|          | 0/20 [00:00<?, ?it/s]"
      ]
     },
     "metadata": {},
     "output_type": "display_data"
    },
    {
     "name": "stdout",
     "output_type": "stream",
     "text": [
      "         additive_acc  nt_acc    s_time   s_fit_w   s_fit_M    mt\n",
      "n mp                                                             \n",
      "4 72.0       0.777778     1.0  0.069166  2.310312  2.731437  10.0\n",
      "  76.0       0.844444     1.0  0.071419  2.356844  2.534811  10.0\n",
      "  77.0       0.933333     1.0  0.072297  2.130782  2.403260  10.0\n",
      "  80.0       0.711111     1.0  0.073197  2.015096  2.355141  10.0\n",
      "  81.0       0.822222     1.0  0.070142  2.238325  2.552577  10.0\n",
      "  82.0       0.911111     1.0  0.069956  2.160197  2.469480  10.0\n",
      "  83.0       0.844444     1.0  0.088130  2.345858  2.649951  10.0\n",
      "  85.0       0.822222     1.0  0.071254  2.173148  2.448044  10.0\n",
      "  86.0       0.733333     1.0  0.078977  2.443290  2.845090  10.0\n",
      "  87.0       0.855556     1.0  0.071163  2.133144  2.479194  10.0\n",
      "  88.0       0.888889     1.0  0.075602  2.368153  2.526278  10.0\n",
      "  89.0       0.792593     1.0  0.077027  2.269250  2.665970  10.0\n",
      "  90.0       0.896296     1.0  0.072051  2.147294  2.477163  10.0\n",
      "  91.0       0.783333     1.0  0.079284  2.231525  2.467688  10.0\n",
      "  92.0       0.850000     1.0  0.070718  2.162786  2.553761  10.0\n",
      "  93.0       0.816667     1.0  0.072241  2.217576  2.450429  10.0\n",
      "  94.0       0.807407     1.0  0.071516  2.137136  2.485038  10.0\n",
      "  95.0       0.755556     1.0  0.091742  2.158508  2.440968  10.0\n",
      "  96.0       0.911111     1.0  0.069494  2.128605  2.775227  10.0\n",
      "  97.0       0.822222     1.0  0.076171  2.209512  2.498496  10.0\n",
      "  98.0       0.822222     1.0  0.070121  2.127826  2.459317  10.0\n",
      "  99.0       0.800000     1.0  0.077817  2.236713  2.520270  10.0\n",
      "  100.0      0.844444     1.0  0.084501  2.438799  2.882303  10.0\n",
      "  101.0      0.837037     1.0  0.079707  2.309870  2.665149  10.0\n"
     ]
    },
    {
     "data": {
      "application/vnd.jupyter.widget-view+json": {
       "model_id": "ae7a4df9e4fd49438a1ade46aad76c0f",
       "version_major": 2,
       "version_minor": 0
      },
      "text/plain": [
       "  0%|          | 0/20 [00:00<?, ?it/s]"
      ]
     },
     "metadata": {},
     "output_type": "display_data"
    },
    {
     "name": "stdout",
     "output_type": "stream",
     "text": [
      "         additive_acc  nt_acc    s_time   s_fit_w   s_fit_M    mt\n",
      "n mp                                                             \n",
      "4 72.0       0.777778     1.0  0.069166  2.310312  2.731437  10.0\n",
      "  76.0       0.866667     1.0  0.074514  2.342601  2.522699  10.0\n",
      "  77.0       0.933333     1.0  0.072297  2.130782  2.403260  10.0\n",
      "  80.0       0.711111     1.0  0.073197  2.015096  2.355141  10.0\n",
      "  81.0       0.822222     1.0  0.070142  2.238325  2.552577  10.0\n",
      "  82.0       0.888889     1.0  0.072196  2.149542  2.473797  10.0\n",
      "  83.0       0.844444     1.0  0.088130  2.345858  2.649951  10.0\n",
      "  85.0       0.831111     1.0  0.083453  2.259799  2.574250  10.0\n",
      "  86.0       0.770370     1.0  0.078388  2.349969  2.706864  10.0\n",
      "  87.0       0.840000     1.0  0.071639  2.130549  2.474328  10.0\n",
      "  88.0       0.888889     1.0  0.075602  2.368153  2.526278  10.0\n",
      "  89.0       0.792593     1.0  0.077027  2.269250  2.665970  10.0\n",
      "  90.0       0.896296     1.0  0.072051  2.147294  2.477163  10.0\n",
      "  91.0       0.785185     1.0  0.076197  2.198013  2.474228  10.0\n",
      "  92.0       0.863889     1.0  0.071596  2.173372  2.544468  10.0\n",
      "  93.0       0.816667     1.0  0.072241  2.217576  2.450429  10.0\n",
      "  94.0       0.816667     1.0  0.072992  2.170236  2.515847  10.0\n",
      "  95.0       0.777778     1.0  0.082533  2.161041  2.489085  10.0\n",
      "  96.0       0.844444     1.0  0.070171  2.116983  2.606520  10.0\n",
      "  97.0       0.822222     1.0  0.074554  2.185614  2.495336  10.0\n",
      "  98.0       0.822222     1.0  0.070121  2.127826  2.459317  10.0\n",
      "  99.0       0.800000     1.0  0.077817  2.236713  2.520270  10.0\n",
      "  100.0      0.844444     1.0  0.084501  2.438799  2.882303  10.0\n",
      "  101.0      0.837037     1.0  0.079707  2.309870  2.665149  10.0\n",
      "  105.0      0.977778     1.0  0.083893  2.136170  2.694282  10.0\n"
     ]
    },
    {
     "data": {
      "application/vnd.jupyter.widget-view+json": {
       "model_id": "7d7a4fc0f58e4a64b66df82637956dca",
       "version_major": 2,
       "version_minor": 0
      },
      "text/plain": [
       "  0%|          | 0/20 [00:00<?, ?it/s]"
      ]
     },
     "metadata": {},
     "output_type": "display_data"
    },
    {
     "name": "stdout",
     "output_type": "stream",
     "text": [
      "         additive_acc  nt_acc    s_time   s_fit_w   s_fit_M    mt\n",
      "n mp                                                             \n",
      "4 72.0       0.777778     1.0  0.069166  2.310312  2.731437  10.0\n",
      "  76.0       0.866667     1.0  0.074514  2.342601  2.522699  10.0\n",
      "  77.0       0.933333     1.0  0.072297  2.130782  2.403260  10.0\n",
      "  79.0       0.733333     1.0  0.073594  2.195030  2.483091  10.0\n",
      "  80.0       0.711111     1.0  0.073197  2.015096  2.355141  10.0\n",
      "  81.0       0.829630     1.0  0.069225  2.232944  2.533383  10.0\n",
      "  82.0       0.866667     1.0  0.072284  2.204914  2.529859  10.0\n",
      "  83.0       0.844444     1.0  0.088130  2.345858  2.649951  10.0\n",
      "  84.0       0.811111     1.0  0.073447  2.196830  2.434060  10.0\n",
      "  85.0       0.831111     1.0  0.083453  2.259799  2.574250  10.0\n",
      "  86.0       0.772222     1.0  0.076642  2.246230  2.578290  10.0\n",
      "  87.0       0.853968     1.0  0.071676  2.143882  2.474039  10.0\n",
      "  88.0       0.874074     1.0  0.074285  2.318075  2.521092  10.0\n",
      "  89.0       0.834921     1.0  0.073847  2.170479  2.540140  10.0\n",
      "  90.0       0.871111     1.0  0.071558  2.110036  2.460817  10.0\n",
      "  91.0       0.785185     1.0  0.076197  2.198013  2.474228  10.0\n",
      "  92.0       0.863889     1.0  0.071596  2.173372  2.544468  10.0\n",
      "  93.0       0.822222     1.0  0.070368  2.156082  2.407636  10.0\n",
      "  94.0       0.816667     1.0  0.072992  2.170236  2.515847  10.0\n",
      "  95.0       0.791667     1.0  0.081905  2.153481  2.531077  10.0\n",
      "  96.0       0.844444     1.0  0.070171  2.116983  2.606520  10.0\n",
      "  97.0       0.822222     1.0  0.074554  2.185614  2.495336  10.0\n",
      "  98.0       0.822222     1.0  0.070121  2.127826  2.459317  10.0\n",
      "  99.0       0.807407     1.0  0.077267  2.258406  2.555855  10.0\n",
      "  100.0      0.844444     1.0  0.084501  2.438799  2.882303  10.0\n",
      "  101.0      0.837037     1.0  0.079707  2.309870  2.665149  10.0\n",
      "  105.0      0.977778     1.0  0.083893  2.136170  2.694282  10.0\n"
     ]
    },
    {
     "data": {
      "application/vnd.jupyter.widget-view+json": {
       "model_id": "e2c0be77f4964bbd84d4209260a2f88f",
       "version_major": 2,
       "version_minor": 0
      },
      "text/plain": [
       "  0%|          | 0/20 [00:00<?, ?it/s]"
      ]
     },
     "metadata": {},
     "output_type": "display_data"
    },
    {
     "name": "stdout",
     "output_type": "stream",
     "text": [
      "         additive_acc  nt_acc    s_time   s_fit_w   s_fit_M    mt\n",
      "n mp                                                             \n",
      "4 72.0       0.777778     1.0  0.069166  2.310312  2.731437  10.0\n",
      "  76.0       0.866667     1.0  0.074514  2.342601  2.522699  10.0\n",
      "  77.0       0.933333     1.0  0.072297  2.130782  2.403260  10.0\n",
      "  78.0       0.888889     1.0  0.068012  1.962760  2.289074  10.0\n",
      "  79.0       0.733333     1.0  0.073594  2.195030  2.483091  10.0\n",
      "  80.0       0.844444     1.0  0.072085  1.972112  2.270818  10.0\n",
      "  81.0       0.829630     1.0  0.069225  2.232944  2.533383  10.0\n",
      "  82.0       0.866667     1.0  0.072284  2.204914  2.529859  10.0\n",
      "  83.0       0.844444     1.0  0.088130  2.345858  2.649951  10.0\n",
      "  84.0       0.794444     1.0  0.071727  2.111546  2.340492  10.0\n",
      "  85.0       0.828571     1.0  0.078472  2.172964  2.472557  10.0\n",
      "  86.0       0.786667     1.0  0.075784  2.181952  2.503340  10.0\n",
      "  87.0       0.850000     1.0  0.071014  2.116086  2.471358  10.0\n",
      "  88.0       0.822222     1.0  0.074567  2.231664  2.444938  10.0\n",
      "  89.0       0.822222     1.0  0.073089  2.145514  2.510001  10.0\n",
      "  90.0       0.871111     1.0  0.071558  2.110036  2.460817  10.0\n",
      "  91.0       0.796825     1.0  0.075122  2.168561  2.438754  10.0\n",
      "  92.0       0.849383     1.0  0.071092  2.153779  2.517191  10.0\n",
      "  93.0       0.831746     1.0  0.071359  2.097876  2.374067  10.0\n",
      "  94.0       0.816667     1.0  0.072992  2.170236  2.515847  10.0\n",
      "  95.0       0.802222     1.0  0.079001  2.112222  2.467326  10.0\n",
      "  96.0       0.844444     1.0  0.070171  2.116983  2.606520  10.0\n",
      "  97.0       0.822222     1.0  0.074554  2.185614  2.495336  10.0\n",
      "  98.0       0.770370     1.0  0.072631  1.983721  2.305007  10.0\n",
      "  99.0       0.807407     1.0  0.077267  2.258406  2.555855  10.0\n",
      "  100.0      0.844444     1.0  0.084501  2.438799  2.882303  10.0\n",
      "  101.0      0.837037     1.0  0.079707  2.309870  2.665149  10.0\n",
      "  103.0      0.888889     1.0  0.064586  1.897087  2.210745  10.0\n",
      "  105.0      0.977778     1.0  0.083893  2.136170  2.694282  10.0\n"
     ]
    },
    {
     "data": {
      "application/vnd.jupyter.widget-view+json": {
       "model_id": "9ae3730a06124be4bc8ec3df601ac67b",
       "version_major": 2,
       "version_minor": 0
      },
      "text/plain": [
       "  0%|          | 0/20 [00:00<?, ?it/s]"
      ]
     },
     "metadata": {},
     "output_type": "display_data"
    },
    {
     "name": "stdout",
     "output_type": "stream",
     "text": [
      "         additive_acc  nt_acc    s_time   s_fit_w   s_fit_M    mt\n",
      "n mp                                                             \n",
      "4 72.0       0.777778     1.0  0.069166  2.310312  2.731437  10.0\n",
      "  76.0       0.833333     1.0  0.073820  2.234373  2.449898  10.0\n",
      "  77.0       0.933333     1.0  0.072297  2.130782  2.403260  10.0\n",
      "  78.0       0.888889     1.0  0.068012  1.962760  2.289074  10.0\n",
      "  79.0       0.733333     1.0  0.073594  2.195030  2.483091  10.0\n",
      "  80.0       0.844444     1.0  0.072085  1.972112  2.270818  10.0\n",
      "  81.0       0.811111     1.0  0.067783  2.150882  2.452698  10.0\n",
      "  82.0       0.855556     1.0  0.070730  2.173758  2.486476  10.0\n",
      "  83.0       0.838095     1.0  0.085165  2.287534  2.593865  10.0\n",
      "  84.0       0.794444     1.0  0.071727  2.111546  2.340492  10.0\n",
      "  85.0       0.822222     1.0  0.075554  2.119727  2.429838  10.0\n",
      "  86.0       0.786667     1.0  0.075784  2.181952  2.503340  10.0\n",
      "  87.0       0.834568     1.0  0.070585  2.099209  2.448814  10.0\n",
      "  88.0       0.818519     1.0  0.070711  2.130266  2.369861  10.0\n",
      "  89.0       0.824444     1.0  0.072761  2.103548  2.454685  10.0\n",
      "  90.0       0.871111     1.0  0.071558  2.110036  2.460817  10.0\n",
      "  91.0       0.786111     1.0  0.074839  2.149412  2.414559  10.0\n",
      "  92.0       0.849383     1.0  0.071092  2.153779  2.517191  10.0\n",
      "  93.0       0.831746     1.0  0.071359  2.097876  2.374067  10.0\n",
      "  94.0       0.817778     1.0  0.072201  2.117901  2.452876  10.0\n",
      "  95.0       0.802222     1.0  0.079001  2.112222  2.467326  10.0\n",
      "  96.0       0.844444     1.0  0.067588  2.048631  2.480717  10.0\n",
      "  97.0       0.817778     1.0  0.074076  2.133505  2.449416  10.0\n",
      "  98.0       0.822222     1.0  0.073180  1.963755  2.292692  10.0\n",
      "  99.0       0.833333     1.0  0.073977  2.180313  2.471873  10.0\n",
      "  100.0      0.822222     1.0  0.084095  2.184579  2.570661  10.0\n",
      "  101.0      0.837037     1.0  0.079707  2.309870  2.665149  10.0\n",
      "  103.0      0.900000     1.0  0.065370  1.911165  2.205878  10.0\n",
      "  105.0      0.977778     1.0  0.083893  2.136170  2.694282  10.0\n"
     ]
    },
    {
     "data": {
      "application/vnd.jupyter.widget-view+json": {
       "model_id": "e7ab85271f754ba2b41b3727c407cf9f",
       "version_major": 2,
       "version_minor": 0
      },
      "text/plain": [
       "  0%|          | 0/20 [00:00<?, ?it/s]"
      ]
     },
     "metadata": {},
     "output_type": "display_data"
    },
    {
     "name": "stdout",
     "output_type": "stream",
     "text": [
      "         additive_acc  nt_acc    s_time   s_fit_w   s_fit_M    mt\n",
      "n mp                                                             \n",
      "4 72.0       0.777778     1.0  0.069166  2.310312  2.731437  10.0\n",
      "  76.0       0.833333     1.0  0.073820  2.234373  2.449898  10.0\n",
      "  77.0       0.933333     1.0  0.072297  2.130782  2.403260  10.0\n",
      "  78.0       0.888889     1.0  0.068012  1.962760  2.289074  10.0\n",
      "  79.0       0.788889     1.0  0.072734  2.086613  2.354135  10.0\n",
      "  80.0       0.844444     1.0  0.072085  1.972112  2.270818  10.0\n",
      "  81.0       0.811111     1.0  0.067783  2.150882  2.452698  10.0\n",
      "  82.0       0.847619     1.0  0.066391  2.041592  2.330674  10.0\n",
      "  83.0       0.838095     1.0  0.085165  2.287534  2.593865  10.0\n",
      "  84.0       0.808889     1.0  0.073131  2.105579  2.435071  10.0\n",
      "  85.0       0.822222     1.0  0.075554  2.119727  2.429838  10.0\n",
      "  86.0       0.786667     1.0  0.075784  2.181952  2.503340  10.0\n",
      "  87.0       0.846296     1.0  0.072265  2.140345  2.480928  10.0\n",
      "  88.0       0.819048     1.0  0.068411  2.011185  2.225929  10.0\n",
      "  89.0       0.835185     1.0  0.073020  2.100326  2.405571  10.0\n",
      "  90.0       0.870370     1.0  0.070778  2.073854  2.431239  10.0\n",
      "  91.0       0.792593     1.0  0.073904  2.122521  2.390838  10.0\n",
      "  92.0       0.849383     1.0  0.071092  2.153779  2.517191  10.0\n",
      "  93.0       0.824691     1.0  0.070421  2.059447  2.340579  10.0\n",
      "  94.0       0.817778     1.0  0.072201  2.117901  2.452876  10.0\n",
      "  95.0       0.806061     1.0  0.077976  2.096564  2.448770  10.0\n",
      "  96.0       0.844444     1.0  0.067588  2.048631  2.480717  10.0\n",
      "  97.0       0.811111     1.0  0.076011  2.203739  2.512077  10.0\n",
      "  98.0       0.822222     1.0  0.073180  1.963755  2.292692  10.0\n",
      "  99.0       0.844444     1.0  0.074152  2.166006  2.497123  10.0\n",
      "  100.0      0.822222     1.0  0.084095  2.184579  2.570661  10.0\n",
      "  101.0      0.855556     1.0  0.078331  2.301710  2.649423  10.0\n",
      "  102.0      0.733333     1.0  0.067762  1.930060  2.228361  10.0\n",
      "  103.0      0.900000     1.0  0.065370  1.911165  2.205878  10.0\n",
      "  105.0      0.977778     1.0  0.083893  2.136170  2.694282  10.0\n"
     ]
    },
    {
     "data": {
      "application/vnd.jupyter.widget-view+json": {
       "model_id": "4785bdfd00024fc78a8b16da9eadec81",
       "version_major": 2,
       "version_minor": 0
      },
      "text/plain": [
       "  0%|          | 0/20 [00:00<?, ?it/s]"
      ]
     },
     "metadata": {},
     "output_type": "display_data"
    },
    {
     "name": "stdout",
     "output_type": "stream",
     "text": [
      "         additive_acc  nt_acc    s_time   s_fit_w   s_fit_M    mt\n",
      "n mp                                                             \n",
      "4 72.0       0.777778     1.0  0.069166  2.310312  2.731437  10.0\n",
      "  76.0       0.833333     1.0  0.073820  2.234373  2.449898  10.0\n",
      "  77.0       0.933333     1.0  0.072297  2.130782  2.403260  10.0\n",
      "  78.0       0.888889     1.0  0.068012  1.962760  2.289074  10.0\n",
      "  79.0       0.814815     1.0  0.062121  1.797956  2.025114  10.0\n",
      "  80.0       0.844444     1.0  0.072085  1.972112  2.270818  10.0\n",
      "  81.0       0.822222     1.0  0.060126  1.984317  2.284282  10.0\n",
      "  82.0       0.847619     1.0  0.066391  2.041592  2.330674  10.0\n",
      "  83.0       0.838095     1.0  0.085165  2.287534  2.593865  10.0\n",
      "  84.0       0.818519     1.0  0.068627  1.988123  2.307593  10.0\n",
      "  85.0       0.828889     1.0  0.073072  2.045522  2.353927  10.0\n",
      "  86.0       0.786667     1.0  0.075784  2.181952  2.503340  10.0\n",
      "  87.0       0.846296     1.0  0.072265  2.140345  2.480928  10.0\n",
      "  88.0       0.819048     1.0  0.068411  2.011185  2.225929  10.0\n",
      "  89.0       0.841270     1.0  0.070164  1.999352  2.292095  10.0\n",
      "  90.0       0.841975     1.0  0.063658  1.845811  2.182144  10.0\n",
      "  91.0       0.798148     1.0  0.065262  1.914194  2.152704  10.0\n",
      "  92.0       0.849383     1.0  0.071092  2.153779  2.517191  10.0\n",
      "  93.0       0.820370     1.0  0.065380  1.879396  2.150224  10.0\n",
      "  94.0       0.822222     1.0  0.060495  1.796066  2.079145  10.0\n",
      "  95.0       0.811111     1.0  0.074343  2.010867  2.332504  10.0\n",
      "  96.0       0.844444     1.0  0.067588  2.048631  2.480717  10.0\n",
      "  97.0       0.811111     1.0  0.076011  2.203739  2.512077  10.0\n",
      "  98.0       0.822222     1.0  0.073180  1.963755  2.292692  10.0\n",
      "  99.0       0.844444     1.0  0.074152  2.166006  2.497123  10.0\n",
      "  100.0      0.822222     1.0  0.084095  2.184579  2.570661  10.0\n",
      "  101.0      0.855556     1.0  0.078331  2.301710  2.649423  10.0\n",
      "  102.0      0.733333     1.0  0.067762  1.930060  2.228361  10.0\n",
      "  103.0      0.900000     1.0  0.065370  1.911165  2.205878  10.0\n",
      "  104.0      0.800000     1.0  0.047562  1.442489  1.638305  10.0\n",
      "  105.0      0.977778     1.0  0.083893  2.136170  2.694282  10.0\n"
     ]
    },
    {
     "data": {
      "application/vnd.jupyter.widget-view+json": {
       "model_id": "79df5b74ac1249b4ac0d0d59379132ab",
       "version_major": 2,
       "version_minor": 0
      },
      "text/plain": [
       "  0%|          | 0/20 [00:00<?, ?it/s]"
      ]
     },
     "metadata": {},
     "output_type": "display_data"
    },
    {
     "name": "stdout",
     "output_type": "stream",
     "text": [
      "         additive_acc  nt_acc    s_time   s_fit_w   s_fit_M    mt\n",
      "n mp                                                             \n",
      "4 72.0       0.777778     1.0  0.069166  2.310312  2.731437  10.0\n",
      "  76.0       0.833333     1.0  0.073820  2.234373  2.449898  10.0\n",
      "  77.0       0.844444     1.0  0.062700  1.807237  2.010468  10.0\n",
      "  78.0       0.888889     1.0  0.068012  1.962760  2.289074  10.0\n",
      "  79.0       0.814815     1.0  0.062121  1.797956  2.025114  10.0\n",
      "  80.0       0.844444     1.0  0.072085  1.972112  2.270818  10.0\n",
      "  81.0       0.822222     1.0  0.060126  1.984317  2.284282  10.0\n",
      "  82.0       0.841667     1.0  0.064693  1.964273  2.238662  10.0\n",
      "  83.0       0.827778     1.0  0.081067  2.182367  2.481589  10.0\n",
      "  84.0       0.828571     1.0  0.068254  1.980734  2.294690  10.0\n",
      "  85.0       0.824242     1.0  0.072203  2.044472  2.354794  10.0\n",
      "  86.0       0.786667     1.0  0.075784  2.181952  2.503340  10.0\n",
      "  87.0       0.855556     1.0  0.071167  2.075254  2.415704  10.0\n",
      "  88.0       0.819444     1.0  0.069026  2.002561  2.223142  10.0\n",
      "  89.0       0.841270     1.0  0.070164  1.999352  2.292095  10.0\n",
      "  90.0       0.833333     1.0  0.063954  1.853814  2.195342  10.0\n",
      "  91.0       0.796825     1.0  0.063046  1.849400  2.096263  10.0\n",
      "  92.0       0.849383     1.0  0.071092  2.153779  2.517191  10.0\n",
      "  93.0       0.820370     1.0  0.065380  1.879396  2.150224  10.0\n",
      "  94.0       0.834568     1.0  0.058704  1.755755  2.029216  10.0\n",
      "  95.0       0.810256     1.0  0.073461  2.005059  2.327602  10.0\n",
      "  96.0       0.850000     1.0  0.067747  2.019331  2.409414  10.0\n",
      "  97.0       0.822222     1.0  0.072800  2.096289  2.382370  10.0\n",
      "  98.0       0.814815     1.0  0.072674  1.971538  2.305648  10.0\n",
      "  99.0       0.822222     1.0  0.072974  2.053656  2.400016  10.0\n",
      "  100.0      0.822222     1.0  0.084095  2.184579  2.570661  10.0\n",
      "  101.0      0.866667     1.0  0.075880  2.227370  2.555861  10.0\n",
      "  102.0      0.733333     1.0  0.067762  1.930060  2.228361  10.0\n",
      "  103.0      0.874074     1.0  0.060822  1.759304  2.006855  10.0\n",
      "  104.0      0.800000     1.0  0.047562  1.442489  1.638305  10.0\n",
      "  105.0      0.977778     1.0  0.083893  2.136170  2.694282  10.0\n"
     ]
    },
    {
     "data": {
      "application/vnd.jupyter.widget-view+json": {
       "model_id": "dc546c9c4ab346c9a243df9b257124f1",
       "version_major": 2,
       "version_minor": 0
      },
      "text/plain": [
       "  0%|          | 0/20 [00:00<?, ?it/s]"
      ]
     },
     "metadata": {},
     "output_type": "display_data"
    },
    {
     "name": "stdout",
     "output_type": "stream",
     "text": [
      "         additive_acc  nt_acc    s_time   s_fit_w    s_fit_M    mt\n",
      "n mp                                                              \n",
      "4 72.0       0.777778     1.0  0.069166  2.310312   2.731437  10.0\n",
      "  76.0       0.833333     1.0  0.073820  2.234373   2.449898  10.0\n",
      "  77.0       0.844444     1.0  0.062700  1.807237   2.010468  10.0\n",
      "  78.0       0.888889     1.0  0.068012  1.962760   2.289074  10.0\n",
      "  79.0       0.814815     1.0  0.062121  1.797956   2.025114  10.0\n",
      "  80.0       0.844444     1.0  0.072085  1.972112   2.270818  10.0\n",
      "  81.0       0.822222     1.0  0.060126  1.984317   2.284282  10.0\n",
      "  82.0       0.841667     1.0  0.064693  1.964273   2.238662  10.0\n",
      "  83.0       0.827778     1.0  0.081067  2.182367   2.481589  10.0\n",
      "  84.0       0.828571     1.0  0.068254  1.980734   2.294690  10.0\n",
      "  85.0       0.824242     1.0  0.072203  2.044472   2.354794  10.0\n",
      "  86.0       0.786667     1.0  0.075784  2.181952   2.503340  10.0\n",
      "  87.0       0.855556     1.0  0.071167  2.075254   2.415704  10.0\n",
      "  88.0       0.819444     1.0  0.069026  2.002561   2.223142  10.0\n",
      "  89.0       0.841270     1.0  0.070164  1.999352   2.292095  10.0\n",
      "  90.0       0.833333     1.0  0.063954  1.853814   2.195342  10.0\n",
      "  91.0       0.796825     1.0  0.063046  1.849400   2.096263  10.0\n",
      "  92.0       0.849383     1.0  0.071092  2.153779   2.517191  10.0\n",
      "  93.0       0.820370     1.0  0.065380  1.879396   2.150224  10.0\n",
      "  94.0       0.834568     1.0  0.058704  1.755755   2.029216  10.0\n",
      "  95.0       0.810256     1.0  0.073461  2.005059   2.327602  10.0\n",
      "  96.0       0.850000     1.0  0.067747  2.019331   2.409414  10.0\n",
      "  97.0       0.822222     1.0  0.072800  2.096289   2.382370  10.0\n",
      "  98.0       0.814815     1.0  0.072674  1.971538   2.305648  10.0\n",
      "  99.0       0.822222     1.0  0.072974  2.053656   2.400016  10.0\n",
      "  100.0      0.822222     1.0  0.084095  2.184579   2.570661  10.0\n",
      "  101.0      0.866667     1.0  0.075880  2.227370   2.555861  10.0\n",
      "  102.0      0.733333     1.0  0.067762  1.930060   2.228361  10.0\n",
      "  103.0      0.874074     1.0  0.060822  1.759304   2.006855  10.0\n",
      "  104.0      0.800000     1.0  0.047562  1.442489   1.638305  10.0\n",
      "  105.0      0.977778     1.0  0.083893  2.136170   2.694282  10.0\n",
      "5 186.0      0.876190     1.0  0.235013  8.932668   9.684366  15.0\n",
      "  198.0      0.833333     1.0  0.236691  8.984512   9.611040  15.0\n",
      "  203.0      0.914286     1.0  0.231513  8.962103  10.078259  15.0\n",
      "  204.0      0.933333     1.0  0.236984  8.815913   9.732318  15.0\n",
      "  206.0      0.852381     1.0  0.233353  8.907352   9.735465  15.0\n",
      "  207.0      0.761905     1.0  0.231421  8.852200   9.693339  15.0\n",
      "  210.0      0.695238     1.0  0.238931  8.835270   9.659172  15.0\n",
      "  211.0      0.876190     1.0  0.221967  8.951893   9.667358  15.0\n",
      "  213.0      0.790476     1.0  0.247282  8.834257  10.000730  15.0\n",
      "  214.0      0.761905     1.0  0.240742  8.859475   9.731903  15.0\n",
      "  217.0      0.857143     1.0  0.240557  8.874443   9.700777  15.0\n",
      "  218.0      0.761905     1.0  0.247882  8.826920   9.631230  15.0\n",
      "  219.0      0.800000     1.0  0.239814  9.007213   9.668625  15.0\n",
      "  220.0      0.866667     1.0  0.340262  8.913973   9.713094  15.0\n",
      "  221.0      0.923810     1.0  0.241697  8.803557   9.799856  15.0\n",
      "  222.0      0.866667     1.0  0.229810  9.260260   9.809244  15.0\n",
      "  224.0      0.895238     1.0  0.233439  8.904521   9.589712  15.0\n",
      "  230.0      0.847619     1.0  0.233955  8.788457   9.649868  15.0\n"
     ]
    },
    {
     "data": {
      "application/vnd.jupyter.widget-view+json": {
       "model_id": "5f925b8a2a014e4cb93e642c7dea13c4",
       "version_major": 2,
       "version_minor": 0
      },
      "text/plain": [
       "  0%|          | 0/20 [00:00<?, ?it/s]"
      ]
     },
     "metadata": {},
     "output_type": "display_data"
    },
    {
     "name": "stdout",
     "output_type": "stream",
     "text": [
      "         additive_acc  nt_acc    s_time   s_fit_w   s_fit_M    mt\n",
      "n mp                                                             \n",
      "4 72.0       0.777778     1.0  0.069166  2.310312  2.731437  10.0\n",
      "  76.0       0.833333     1.0  0.073820  2.234373  2.449898  10.0\n",
      "  77.0       0.844444     1.0  0.062700  1.807237  2.010468  10.0\n",
      "  78.0       0.888889     1.0  0.068012  1.962760  2.289074  10.0\n",
      "  79.0       0.814815     1.0  0.062121  1.797956  2.025114  10.0\n",
      "  80.0       0.844444     1.0  0.072085  1.972112  2.270818  10.0\n",
      "  81.0       0.822222     1.0  0.060126  1.984317  2.284282  10.0\n",
      "  82.0       0.841667     1.0  0.064693  1.964273  2.238662  10.0\n",
      "  83.0       0.827778     1.0  0.081067  2.182367  2.481589  10.0\n",
      "  84.0       0.828571     1.0  0.068254  1.980734  2.294690  10.0\n",
      "  85.0       0.824242     1.0  0.072203  2.044472  2.354794  10.0\n",
      "  86.0       0.786667     1.0  0.075784  2.181952  2.503340  10.0\n",
      "  87.0       0.855556     1.0  0.071167  2.075254  2.415704  10.0\n",
      "  88.0       0.819444     1.0  0.069026  2.002561  2.223142  10.0\n",
      "  89.0       0.841270     1.0  0.070164  1.999352  2.292095  10.0\n",
      "  90.0       0.833333     1.0  0.063954  1.853814  2.195342  10.0\n",
      "  91.0       0.796825     1.0  0.063046  1.849400  2.096263  10.0\n",
      "  92.0       0.849383     1.0  0.071092  2.153779  2.517191  10.0\n",
      "  93.0       0.820370     1.0  0.065380  1.879396  2.150224  10.0\n",
      "  94.0       0.834568     1.0  0.058704  1.755755  2.029216  10.0\n",
      "  95.0       0.810256     1.0  0.073461  2.005059  2.327602  10.0\n",
      "  96.0       0.850000     1.0  0.067747  2.019331  2.409414  10.0\n",
      "  97.0       0.822222     1.0  0.072800  2.096289  2.382370  10.0\n",
      "  98.0       0.814815     1.0  0.072674  1.971538  2.305648  10.0\n",
      "  99.0       0.822222     1.0  0.072974  2.053656  2.400016  10.0\n",
      "  100.0      0.822222     1.0  0.084095  2.184579  2.570661  10.0\n",
      "  101.0      0.866667     1.0  0.075880  2.227370  2.555861  10.0\n",
      "  102.0      0.733333     1.0  0.067762  1.930060  2.228361  10.0\n",
      "  103.0      0.874074     1.0  0.060822  1.759304  2.006855  10.0\n",
      "  104.0      0.800000     1.0  0.047562  1.442489  1.638305  10.0\n",
      "  105.0      0.977778     1.0  0.083893  2.136170  2.694282  10.0\n",
      "5 186.0      0.876190     1.0  0.235013  8.932668  9.684366  15.0\n",
      "  193.0      0.857143     1.0  0.298231  8.951349  9.619177  15.0\n",
      "  198.0      0.833333     1.0  0.236691  8.984512  9.611040  15.0\n",
      "  203.0      0.853968     1.0  0.238735  8.956991  9.757454  15.0\n",
      "  204.0      0.861905     1.0  0.233039  8.765130  9.635602  15.0\n",
      "  206.0      0.826190     1.0  0.230001  8.867212  9.691955  15.0\n",
      "  207.0      0.761905     1.0  0.231421  8.852200  9.693339  15.0\n",
      "  209.0      0.885714     1.0  0.226588  8.805523  9.632956  15.0\n",
      "  210.0      0.747619     1.0  0.240752  8.842665  9.663746  15.0\n",
      "  211.0      0.876190     1.0  0.221967  8.951893  9.667358  15.0\n",
      "  212.0      0.723810     1.0  0.234260  8.835974  9.893361  15.0\n",
      "  213.0      0.785714     1.0  0.242916  8.855848  9.788900  15.0\n",
      "  214.0      0.777778     1.0  0.234177  8.828693  9.750243  15.0\n",
      "  215.0      0.833333     1.0  0.229815  8.760159  9.767768  15.0\n",
      "  217.0      0.857143     1.0  0.240557  8.874443  9.700777  15.0\n",
      "  218.0      0.761905     1.0  0.247882  8.826920  9.631230  15.0\n",
      "  219.0      0.800000     1.0  0.239814  9.007213  9.668625  15.0\n",
      "  220.0      0.866667     1.0  0.340262  8.913973  9.713094  15.0\n",
      "  221.0      0.847619     1.0  0.235549  8.916401  9.729551  15.0\n",
      "  222.0      0.863492     1.0  0.243753  8.998401  9.669359  15.0\n",
      "  223.0      0.704762     1.0  0.234146  8.715233  9.493862  15.0\n",
      "  224.0      0.857143     1.0  0.232491  8.825342  9.600600  15.0\n",
      "  227.0      0.733333     1.0  0.234436  8.805972  9.698023  15.0\n",
      "  230.0      0.847619     1.0  0.233955  8.788457  9.649868  15.0\n"
     ]
    },
    {
     "data": {
      "application/vnd.jupyter.widget-view+json": {
       "model_id": "0daa8ab150e6443d83ceb52200e630a8",
       "version_major": 2,
       "version_minor": 0
      },
      "text/plain": [
       "  0%|          | 0/20 [00:00<?, ?it/s]"
      ]
     },
     "metadata": {},
     "output_type": "display_data"
    },
    {
     "name": "stdout",
     "output_type": "stream",
     "text": [
      "         additive_acc  nt_acc    s_time   s_fit_w   s_fit_M    mt\n",
      "n mp                                                             \n",
      "4 72.0       0.777778     1.0  0.069166  2.310312  2.731437  10.0\n",
      "  76.0       0.833333     1.0  0.073820  2.234373  2.449898  10.0\n",
      "  77.0       0.844444     1.0  0.062700  1.807237  2.010468  10.0\n",
      "  78.0       0.888889     1.0  0.068012  1.962760  2.289074  10.0\n",
      "  79.0       0.814815     1.0  0.062121  1.797956  2.025114  10.0\n",
      "...               ...     ...       ...       ...       ...   ...\n",
      "5 224.0      0.844444     1.0  0.230958  8.797004  9.618355  15.0\n",
      "  225.0      0.676190     1.0  0.239209  8.770037  9.544320  15.0\n",
      "  227.0      0.733333     1.0  0.234436  8.805972  9.698023  15.0\n",
      "  230.0      0.847619     1.0  0.233955  8.788457  9.649868  15.0\n",
      "  233.0      0.780952     1.0  0.231369  8.865826  9.521674  15.0\n",
      "\n",
      "[63 rows x 6 columns]\n"
     ]
    },
    {
     "data": {
      "application/vnd.jupyter.widget-view+json": {
       "model_id": "35c2e6455361426c9dd8de22cfcf24b1",
       "version_major": 2,
       "version_minor": 0
      },
      "text/plain": [
       "  0%|          | 0/20 [00:00<?, ?it/s]"
      ]
     },
     "metadata": {},
     "output_type": "display_data"
    },
    {
     "name": "stdout",
     "output_type": "stream",
     "text": [
      "         additive_acc  nt_acc    s_time   s_fit_w   s_fit_M    mt\n",
      "n mp                                                             \n",
      "4 72.0       0.777778     1.0  0.069166  2.310312  2.731437  10.0\n",
      "  76.0       0.833333     1.0  0.073820  2.234373  2.449898  10.0\n",
      "  77.0       0.844444     1.0  0.062700  1.807237  2.010468  10.0\n",
      "  78.0       0.888889     1.0  0.068012  1.962760  2.289074  10.0\n",
      "  79.0       0.814815     1.0  0.062121  1.797956  2.025114  10.0\n",
      "...               ...     ...       ...       ...       ...   ...\n",
      "5 225.0      0.676190     1.0  0.239209  8.770037  9.544320  15.0\n",
      "  227.0      0.733333     1.0  0.234436  8.805972  9.698023  15.0\n",
      "  230.0      0.847619     1.0  0.233955  8.788457  9.649868  15.0\n",
      "  231.0      0.809524     1.0  0.234623  8.733480  9.476573  15.0\n",
      "  233.0      0.780952     1.0  0.231369  8.865826  9.521674  15.0\n",
      "\n",
      "[68 rows x 6 columns]\n"
     ]
    },
    {
     "data": {
      "application/vnd.jupyter.widget-view+json": {
       "model_id": "fb2c7a51cef047cab2c218cb9423c167",
       "version_major": 2,
       "version_minor": 0
      },
      "text/plain": [
       "  0%|          | 0/20 [00:00<?, ?it/s]"
      ]
     },
     "metadata": {},
     "output_type": "display_data"
    },
    {
     "name": "stdout",
     "output_type": "stream",
     "text": [
      "         additive_acc  nt_acc    s_time   s_fit_w   s_fit_M    mt\n",
      "n mp                                                             \n",
      "4 72.0       0.777778     1.0  0.069166  2.310312  2.731437  10.0\n",
      "  76.0       0.833333     1.0  0.073820  2.234373  2.449898  10.0\n",
      "  77.0       0.844444     1.0  0.062700  1.807237  2.010468  10.0\n",
      "  78.0       0.888889     1.0  0.068012  1.962760  2.289074  10.0\n",
      "  79.0       0.814815     1.0  0.062121  1.797956  2.025114  10.0\n",
      "...               ...     ...       ...       ...       ...   ...\n",
      "5 227.0      0.733333     1.0  0.234436  8.805972  9.698023  15.0\n",
      "  228.0      0.866667     1.0  0.231724  8.739720  9.628703  15.0\n",
      "  230.0      0.847619     1.0  0.233955  8.788457  9.649868  15.0\n",
      "  231.0      0.809524     1.0  0.234623  8.733480  9.476573  15.0\n",
      "  233.0      0.780952     1.0  0.231369  8.865826  9.521674  15.0\n",
      "\n",
      "[70 rows x 6 columns]\n"
     ]
    },
    {
     "data": {
      "application/vnd.jupyter.widget-view+json": {
       "model_id": "c53a3a616da84593b0efb14fa2cc0da1",
       "version_major": 2,
       "version_minor": 0
      },
      "text/plain": [
       "  0%|          | 0/20 [00:00<?, ?it/s]"
      ]
     },
     "metadata": {},
     "output_type": "display_data"
    },
    {
     "name": "stdout",
     "output_type": "stream",
     "text": [
      "         additive_acc  nt_acc    s_time   s_fit_w   s_fit_M    mt\n",
      "n mp                                                             \n",
      "4 72.0       0.777778     1.0  0.069166  2.310312  2.731437  10.0\n",
      "  76.0       0.833333     1.0  0.073820  2.234373  2.449898  10.0\n",
      "  77.0       0.844444     1.0  0.062700  1.807237  2.010468  10.0\n",
      "  78.0       0.888889     1.0  0.068012  1.962760  2.289074  10.0\n",
      "  79.0       0.814815     1.0  0.062121  1.797956  2.025114  10.0\n",
      "...               ...     ...       ...       ...       ...   ...\n",
      "5 228.0      0.885714     1.0  0.232215  8.734880  9.589603  15.0\n",
      "  230.0      0.847619     1.0  0.233955  8.788457  9.649868  15.0\n",
      "  231.0      0.809524     1.0  0.234623  8.733480  9.476573  15.0\n",
      "  232.0      0.752381     1.0  0.228234  8.739243  9.499453  15.0\n",
      "  233.0      0.771429     1.0  0.231972  8.780958  9.578938  15.0\n",
      "\n",
      "[74 rows x 6 columns]\n"
     ]
    },
    {
     "data": {
      "application/vnd.jupyter.widget-view+json": {
       "model_id": "cbab2443cff34e7e83cf01de6b489ddc",
       "version_major": 2,
       "version_minor": 0
      },
      "text/plain": [
       "  0%|          | 0/20 [00:00<?, ?it/s]"
      ]
     },
     "metadata": {},
     "output_type": "display_data"
    },
    {
     "name": "stdout",
     "output_type": "stream",
     "text": [
      "         additive_acc  nt_acc    s_time   s_fit_w   s_fit_M    mt\n",
      "n mp                                                             \n",
      "4 72.0       0.777778     1.0  0.069166  2.310312  2.731437  10.0\n",
      "  76.0       0.833333     1.0  0.073820  2.234373  2.449898  10.0\n",
      "  77.0       0.844444     1.0  0.062700  1.807237  2.010468  10.0\n",
      "  78.0       0.888889     1.0  0.068012  1.962760  2.289074  10.0\n",
      "  79.0       0.814815     1.0  0.062121  1.797956  2.025114  10.0\n",
      "...               ...     ...       ...       ...       ...   ...\n",
      "5 228.0      0.885714     1.0  0.232215  8.734880  9.589603  15.0\n",
      "  230.0      0.847619     1.0  0.233955  8.788457  9.649868  15.0\n",
      "  231.0      0.809524     1.0  0.234623  8.733480  9.476573  15.0\n",
      "  232.0      0.752381     1.0  0.228234  8.739243  9.499453  15.0\n",
      "  233.0      0.771429     1.0  0.231972  8.780958  9.578938  15.0\n",
      "\n",
      "[74 rows x 6 columns]\n"
     ]
    },
    {
     "data": {
      "application/vnd.jupyter.widget-view+json": {
       "model_id": "da2660467fd846b6b27e06e65485e41c",
       "version_major": 2,
       "version_minor": 0
      },
      "text/plain": [
       "  0%|          | 0/20 [00:00<?, ?it/s]"
      ]
     },
     "metadata": {},
     "output_type": "display_data"
    },
    {
     "name": "stdout",
     "output_type": "stream",
     "text": [
      "         additive_acc  nt_acc    s_time   s_fit_w   s_fit_M    mt\n",
      "n mp                                                             \n",
      "4 72.0       0.777778     1.0  0.069166  2.310312  2.731437  10.0\n",
      "  76.0       0.833333     1.0  0.073820  2.234373  2.449898  10.0\n",
      "  77.0       0.844444     1.0  0.062700  1.807237  2.010468  10.0\n",
      "  78.0       0.888889     1.0  0.068012  1.962760  2.289074  10.0\n",
      "  79.0       0.814815     1.0  0.062121  1.797956  2.025114  10.0\n",
      "...               ...     ...       ...       ...       ...   ...\n",
      "5 228.0      0.885714     1.0  0.232215  8.734880  9.589603  15.0\n",
      "  230.0      0.847619     1.0  0.233955  8.788457  9.649868  15.0\n",
      "  231.0      0.852381     1.0  0.240105  8.799266  9.544496  15.0\n",
      "  232.0      0.752381     1.0  0.228234  8.739243  9.499453  15.0\n",
      "  233.0      0.771429     1.0  0.231972  8.780958  9.578938  15.0\n",
      "\n",
      "[76 rows x 6 columns]\n"
     ]
    },
    {
     "data": {
      "application/vnd.jupyter.widget-view+json": {
       "model_id": "c37994ec35ac409eb003d6d918010bbe",
       "version_major": 2,
       "version_minor": 0
      },
      "text/plain": [
       "  0%|          | 0/20 [00:00<?, ?it/s]"
      ]
     },
     "metadata": {},
     "output_type": "display_data"
    },
    {
     "name": "stdout",
     "output_type": "stream",
     "text": [
      "         additive_acc  nt_acc    s_time   s_fit_w   s_fit_M    mt\n",
      "n mp                                                             \n",
      "4 72.0       0.777778     1.0  0.069166  2.310312  2.731437  10.0\n",
      "  76.0       0.833333     1.0  0.073820  2.234373  2.449898  10.0\n",
      "  77.0       0.844444     1.0  0.062700  1.807237  2.010468  10.0\n",
      "  78.0       0.888889     1.0  0.068012  1.962760  2.289074  10.0\n",
      "  79.0       0.814815     1.0  0.062121  1.797956  2.025114  10.0\n",
      "...               ...     ...       ...       ...       ...   ...\n",
      "5 228.0      0.911111     1.0  0.234759  8.726092  9.554688  15.0\n",
      "  230.0      0.847619     1.0  0.233955  8.788457  9.649868  15.0\n",
      "  231.0      0.852381     1.0  0.240105  8.799266  9.544496  15.0\n",
      "  232.0      0.752381     1.0  0.228234  8.739243  9.499453  15.0\n",
      "  233.0      0.771429     1.0  0.231972  8.780958  9.578938  15.0\n",
      "\n",
      "[76 rows x 6 columns]\n"
     ]
    },
    {
     "data": {
      "application/vnd.jupyter.widget-view+json": {
       "model_id": "d15796d63c9948b9abd61bec5906621d",
       "version_major": 2,
       "version_minor": 0
      },
      "text/plain": [
       "  0%|          | 0/20 [00:00<?, ?it/s]"
      ]
     },
     "metadata": {},
     "output_type": "display_data"
    },
    {
     "name": "stdout",
     "output_type": "stream",
     "text": [
      "         additive_acc  nt_acc    s_time   s_fit_w   s_fit_M    mt\n",
      "n mp                                                             \n",
      "4 72.0       0.777778     1.0  0.069166  2.310312  2.731437  10.0\n",
      "  76.0       0.833333     1.0  0.073820  2.234373  2.449898  10.0\n",
      "  77.0       0.844444     1.0  0.062700  1.807237  2.010468  10.0\n",
      "  78.0       0.888889     1.0  0.068012  1.962760  2.289074  10.0\n",
      "  79.0       0.814815     1.0  0.062121  1.797956  2.025114  10.0\n",
      "...               ...     ...       ...       ...       ...   ...\n",
      "5 228.0      0.911111     1.0  0.234759  8.726092  9.554688  15.0\n",
      "  230.0      0.847619     1.0  0.233955  8.788457  9.649868  15.0\n",
      "  231.0      0.838095     1.0  0.238196  8.813642  9.615114  15.0\n",
      "  232.0      0.752381     1.0  0.228234  8.739243  9.499453  15.0\n",
      "  233.0      0.796825     1.0  0.234704  8.752427  9.561274  15.0\n",
      "\n",
      "[76 rows x 6 columns]\n"
     ]
    }
   ],
   "source": [
    "import time\n",
    "data = {\n",
    "    \"additive_acc\":[],\n",
    "    \"nt_acc\":[],\n",
    "    \"s_time\":[],\n",
    "    \"s_fit_w\":[],\n",
    "    \"s_fit_M\":[],\n",
    "    \"mt\":[],\n",
    "    \"mp\":[],\n",
    "    \"n\":[],\n",
    "}\n",
    "n_exps = 20\n",
    "n_epochs = 50\n",
    "\n",
    "lambda_1 = 0\n",
    "lambda_2 = 0\n",
    "\n",
    "for n in range(4,6):\n",
    "    for k in range(2,3):\n",
    "        for p in np.linspace(0,1,10):\n",
    "            for exp in trange(n_exps):\n",
    "                L = []\n",
    "                nb = 0\n",
    "                t = time.time()\n",
    "                s, mt, mp, sampler = sample_full_relation(n,k, p_1 = 1.0, p_2 = 0.5)\n",
    "                s_time = time.time() - t\n",
    "                \n",
    "                \n",
    "                model_map = SSBModel(sampler.theta)\n",
    "                \n",
    "                t = time.time()\n",
    "                acc1 = fit_w_map(model_map, s, num_epochs=n_epochs,  lr=5e-2, lambda_1 = lambda_1)\n",
    "                s_fit_w = time.time() - t\n",
    "                \n",
    "                t = time.time()\n",
    "                acc2 = fit_M_map(model_map, s, num_epochs=n_epochs, lr=5e-2, lambda_2 = lambda_2)\n",
    "                s_fit_M = time.time() - t\n",
    "                acc = acc1 + acc2\n",
    "                \n",
    "                \n",
    "                data[\"s_time\"].append(s_time)\n",
    "                data[\"s_fit_w\"].append(s_fit_w)\n",
    "                data[\"s_fit_M\"].append(s_fit_M)\n",
    "            \n",
    "                data[\"mp\"].append(mp.sum())\n",
    "                data[\"mt\"].append(mt.sum())\n",
    "                data[\"n\"].append(n)\n",
    "                #print(\"p = \", p, \"mp = \", mp.sum())\n",
    "        \n",
    "                data[\"additive_acc\"].append(max(acc1))\n",
    "                data[\"nt_acc\"].append(max(acc2))\n",
    "                \n",
    "                L.append(max(acc2) - max(acc1))\n",
    "            print(pd.DataFrame(data).groupby([\"n\", \"mp\"]).mean())"
   ]
  },
  {
   "cell_type": "code",
   "execution_count": 26,
   "id": "2b6d1533-3270-4cb3-b103-1a0b23303b10",
   "metadata": {},
   "outputs": [],
   "source": [
    "df = pd.DataFrame(data)\n",
    "df[\"gain\"] = df[\"nt_acc\"] - df[\"additive_acc\"]\n",
    "df[\"mp\"] = df[\"mp\"] // 10\n",
    "df[\"mp\"] = df[\"mp\"] * 10"
   ]
  },
  {
   "cell_type": "code",
   "execution_count": 27,
   "id": "cb30b518-5036-4fdb-88f5-7d320087b3c1",
   "metadata": {},
   "outputs": [
    {
     "data": {
      "text/plain": [
       "<AxesSubplot:xlabel='mp', ylabel='gain'>"
      ]
     },
     "execution_count": 27,
     "metadata": {},
     "output_type": "execute_result"
    },
    {
     "data": {
      "image/png": "[encoded data removed]",
      "text/plain": [
       "<Figure size 432x288 with 1 Axes>"
      ]
     },
     "metadata": {
      "needs_background": "light"
     },
     "output_type": "display_data"
    }
   ],
   "source": [
    "sns.lineplot(data = df, x = \"mp\", y = \"gain\")"
   ]
  },
  {
   "cell_type": "code",
   "execution_count": null,
   "id": "cc800e67-b2bc-40d9-af97-148bc8672db7",
   "metadata": {},
   "outputs": [],
   "source": []
  }
 ],
 "metadata": {
  "kernelspec": {
   "display_name": "Python 3 (ipykernel)",
   "language": "python",
   "name": "python3"
  },
  "language_info": {
   "codemirror_mode": {
    "name": "ipython",
    "version": 3
   },
   "file_extension": ".py",
   "mimetype": "text/x-python",
   "name": "python",
   "nbconvert_exporter": "python",
   "pygments_lexer": "ipython3",
   "version": "3.9.10"
  }
 },
 "nbformat": 4,
 "nbformat_minor": 5
}
