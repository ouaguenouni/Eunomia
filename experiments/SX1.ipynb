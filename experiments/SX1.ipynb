{
 "cells": [
  {
   "cell_type": "code",
   "execution_count": 5,
   "metadata": {
    "colab": {
     "base_uri": "https://localhost:8080/"
    },
    "id": "8k9HfDxm9gnE",
    "outputId": "d45a06ad-0097-4d19-e9e2-479eb395aef2"
   },
   "outputs": [
    {
     "name": "stdout",
     "output_type": "stream",
     "text": [
      "Cloning into 'Eunomia'...\n",
      "remote: Enumerating objects: 97, done.\u001b[K\n",
      "remote: Counting objects: 100% (97/97), done.\u001b[K\n",
      "remote: Compressing objects: 100% (71/71), done.\u001b[K\n",
      "remote: Total 97 (delta 47), reused 72 (delta 22), pack-reused 0\u001b[K\n",
      "Receiving objects: 100% (97/97), 57.05 KiB | 2.19 MiB/s, done.\n",
      "Resolving deltas: 100% (47/47), done.\n",
      "Requirement already satisfied: torch in /home/mohamed/miniconda3/lib/python3.9/site-packages (from -r Eunomia/requirements.txt (line 1)) (1.11.0)\n",
      "Requirement already satisfied: pyro-ppl in /home/mohamed/miniconda3/lib/python3.9/site-packages (from -r Eunomia/requirements.txt (line 2)) (1.8.6)\n",
      "Requirement already satisfied: cvxpy in /home/mohamed/miniconda3/lib/python3.9/site-packages (from -r Eunomia/requirements.txt (line 3)) (1.1.18)\n",
      "Requirement already satisfied: typing_extensions in /home/mohamed/miniconda3/lib/python3.9/site-packages (from torch->-r Eunomia/requirements.txt (line 1)) (4.8.0)\n",
      "Requirement already satisfied: numpy>=1.7 in /home/mohamed/miniconda3/lib/python3.9/site-packages (from pyro-ppl->-r Eunomia/requirements.txt (line 2)) (1.22.1)\n",
      "Requirement already satisfied: tqdm>=4.36 in /home/mohamed/miniconda3/lib/python3.9/site-packages (from pyro-ppl->-r Eunomia/requirements.txt (line 2)) (4.62.3)\n",
      "Requirement already satisfied: pyro-api>=0.1.1 in /home/mohamed/miniconda3/lib/python3.9/site-packages (from pyro-ppl->-r Eunomia/requirements.txt (line 2)) (0.1.2)\n",
      "Requirement already satisfied: opt-einsum>=2.3.2 in /home/mohamed/miniconda3/lib/python3.9/site-packages (from pyro-ppl->-r Eunomia/requirements.txt (line 2)) (3.3.0)\n",
      "Requirement already satisfied: scipy>=1.1.0 in /home/mohamed/miniconda3/lib/python3.9/site-packages (from cvxpy->-r Eunomia/requirements.txt (line 3)) (1.11.3)\n",
      "Requirement already satisfied: ecos>=2 in /home/mohamed/miniconda3/lib/python3.9/site-packages (from cvxpy->-r Eunomia/requirements.txt (line 3)) (2.0.10)\n",
      "Requirement already satisfied: scs>=1.1.6 in /home/mohamed/miniconda3/lib/python3.9/site-packages (from cvxpy->-r Eunomia/requirements.txt (line 3)) (3.1.0)\n",
      "Requirement already satisfied: osqp>=0.4.1 in /home/mohamed/miniconda3/lib/python3.9/site-packages (from cvxpy->-r Eunomia/requirements.txt (line 3)) (0.6.2.post4)\n",
      "Requirement already satisfied: qdldl in /home/mohamed/miniconda3/lib/python3.9/site-packages (from osqp>=0.4.1->cvxpy->-r Eunomia/requirements.txt (line 3)) (0.1.5.post0)\n"
     ]
    }
   ],
   "source": [
    "!rm -rf Eunomia\n",
    "!git clone https://github.com/ouaguenouni/Eunomia\n",
    "!pip install -r Eunomia/requirements.txt"
   ]
  },
  {
   "cell_type": "code",
   "execution_count": 1,
   "metadata": {
    "id": "G0Wvw8ff_y2O"
   },
   "outputs": [],
   "source": [
    "import matplotlib.pyplot as plt\n",
    "import numpy as np\n",
    "import pandas as pd\n",
    "import seaborn as sns\n",
    "from Eunomia.preferences import *\n",
    "from Eunomia.additive_functions import *\n",
    "from Eunomia.alternatives import *\n",
    "from Eunomia.sampling import *\n",
    "from Eunomia.mcmc import *\n",
    "from Eunomia.degree import *\n",
    "from Eunomia.experiments import *\n",
    "pyro.set_rng_seed(1)"
   ]
  },
  {
   "cell_type": "code",
   "execution_count": null,
   "metadata": {},
   "outputs": [
    {
     "name": "stdout",
     "output_type": "stream",
     "text": [
      "Registering the results in:  SX1/2023-11-18/n-5_k-1_m-4_sigma_w-1_sigma_p-1_n_samples-1500.yaml\n"
     ]
    },
    {
     "name": "stderr",
     "output_type": "stream",
     "text": [
      "Sample: 100%|████████████████████████████| 2000/2000 [01:36, 20.62it/s, step size=1.70e-01, acc. prob=0.907]\n"
     ]
    },
    {
     "name": "stdout",
     "output_type": "stream",
     "text": [
      "diag:  {'sigma': OrderedDict([('n_eff', tensor(821.4919)), ('r_hat', tensor(0.9998))]), 'w': OrderedDict([('n_eff', tensor([810.8021, 823.4952, 878.3043, 877.1406, 565.9174])), ('r_hat', tensor([1.0001, 0.9994, 1.0039, 1.0000, 0.9997]))]), 'divergences': {'chain 0': [175, 501, 558, 662, 665, 666, 677, 680, 685, 780, 789, 1213, 1478]}, 'acceptance rate': {'chain 0': 0.9933333333333333}}\n",
      "Registering the results in:  SX1/2023-11-18/n-5_k-1_m-4_sigma_w-1_sigma_p-0.1_n_samples-1500.yaml\n"
     ]
    },
    {
     "name": "stderr",
     "output_type": "stream",
     "text": [
      "Sample: 100%|████████████████████████████| 2000/2000 [00:48, 41.51it/s, step size=3.72e-01, acc. prob=0.895]\n"
     ]
    },
    {
     "name": "stdout",
     "output_type": "stream",
     "text": [
      "diag:  {'sigma': OrderedDict([('n_eff', tensor(910.2490)), ('r_hat', tensor(1.0024))]), 'w': OrderedDict([('n_eff', tensor([ 962.2154,  914.4397, 1273.5034, 1261.7496, 1054.6635])), ('r_hat', tensor([0.9994, 1.0040, 0.9994, 1.0019, 0.9996]))]), 'divergences': {'chain 0': [6, 8, 57, 701, 801, 1155, 1157, 1160, 1162, 1172, 1389, 1459]}, 'acceptance rate': {'chain 0': 0.978}}\n",
      "Registering the results in:  SX1/2023-11-18/n-5_k-1_m-4_sigma_w-1_sigma_p-0.01_n_samples-1500.yaml\n"
     ]
    },
    {
     "name": "stderr",
     "output_type": "stream",
     "text": [
      "Sample: 100%|████████████████████████████| 2000/2000 [00:39, 50.59it/s, step size=4.15e-01, acc. prob=0.949]\n"
     ]
    },
    {
     "name": "stdout",
     "output_type": "stream",
     "text": [
      "diag:  {'sigma': OrderedDict([('n_eff', tensor(1798.5226)), ('r_hat', tensor(0.9994))]), 'w': OrderedDict([('n_eff', tensor([1359.3051, 1679.8462, 1607.6113, 2108.8635, 1568.7618])), ('r_hat', tensor([0.9993, 0.9995, 0.9993, 0.9994, 1.0003]))]), 'divergences': {'chain 0': [770, 862, 866, 1195, 1196]}, 'acceptance rate': {'chain 0': 0.996}}\n",
      "Registering the results in:  SX1/2023-11-18/n-5_k-1_m-4_sigma_w-1_sigma_p-10.0_n_samples-1500.yaml\n"
     ]
    },
    {
     "name": "stderr",
     "output_type": "stream",
     "text": [
      "Sample: 100%|████████████████████████████| 2000/2000 [02:41, 12.41it/s, step size=9.00e-02, acc. prob=0.710]\n"
     ]
    },
    {
     "name": "stdout",
     "output_type": "stream",
     "text": [
      "diag:  {'sigma': OrderedDict([('n_eff', tensor(298.3449)), ('r_hat', tensor(0.9995))]), 'w': OrderedDict([('n_eff', tensor([196.3696, 174.3972, 154.8542, 165.3321, 125.5482])), ('r_hat', tensor([0.9996, 0.9995, 0.9998, 0.9995, 0.9996]))]), 'divergences': {'chain 0': [94, 104, 158, 161, 168, 169, 179, 180, 188, 193, 196, 549, 562, 571, 575, 576, 579, 580, 583, 604, 605, 610, 618, 620, 627, 630, 631, 778, 797, 801, 815, 824, 830, 834, 837, 841, 842, 848, 922, 1027, 1033, 1063, 1128, 1160, 1170, 1173, 1174, 1182, 1215, 1249, 1326, 1372, 1373, 1391, 1393, 1397, 1419, 1420, 1424, 1433, 1444, 1445, 1448]}, 'acceptance rate': {'chain 0': 0.9793333333333333}}\n",
      "Registering the results in:  SX1/2023-11-18/n-5_k-1_m-4_sigma_w-0.1_sigma_p-1_n_samples-1500.yaml\n"
     ]
    },
    {
     "name": "stderr",
     "output_type": "stream",
     "text": [
      "Sample: 100%|████████████████████████████| 2000/2000 [00:48, 40.94it/s, step size=2.81e-01, acc. prob=0.876]\n",
      "Warmup:  10%|██▉                          | 119/1200 [21:37, 10.90s/it, step size=6.34e-02, acc. prob=0.780]\n",
      "Warmup:   4%|█                             | 74/2000 [07:43,  6.26s/it, step size=1.20e-01, acc. prob=0.775]"
     ]
    },
    {
     "name": "stdout",
     "output_type": "stream",
     "text": [
      "diag:  {'sigma': OrderedDict([('n_eff', tensor(1165.0049)), ('r_hat', tensor(0.9994))]), 'w': OrderedDict([('n_eff', tensor([1116.3281, 1205.1903, 1253.9880, 1201.1036, 1276.1962])), ('r_hat', tensor([0.9997, 1.0003, 0.9995, 0.9996, 0.9995]))]), 'divergences': {'chain 0': [43, 65, 277, 355, 374, 398, 539, 611, 630, 634, 635, 636, 637, 642, 859, 877, 1070, 1071, 1147, 1193, 1274, 1292, 1314, 1427, 1430, 1434, 1435, 1437, 1438]}, 'acceptance rate': {'chain 0': 0.9766666666666667}}\n"
     ]
    },
    {
     "name": "stderr",
     "output_type": "stream",
     "text": [
      "\n"
     ]
    },
    {
     "name": "stdout",
     "output_type": "stream",
     "text": [
      "Registering the results in:  SX1/2023-11-18/n-5_k-1_m-4_sigma_w-0.1_sigma_p-0.1_n_samples-1500.yaml\n"
     ]
    },
    {
     "name": "stderr",
     "output_type": "stream",
     "text": [
      "Sample: 100%|████████████████████████████| 2000/2000 [00:21, 93.27it/s, step size=5.05e-01, acc. prob=0.916]\n"
     ]
    },
    {
     "name": "stdout",
     "output_type": "stream",
     "text": [
      "diag:  {'sigma': OrderedDict([('n_eff', tensor(1536.6747)), ('r_hat', tensor(0.9998))]), 'w': OrderedDict([('n_eff', tensor([2404.8042, 1509.4131, 1742.3285, 2298.0100, 1330.2103])), ('r_hat', tensor([0.9994, 0.9994, 0.9994, 0.9994, 0.9994]))]), 'divergences': {'chain 0': [977, 1138, 1252, 1281]}, 'acceptance rate': {'chain 0': 0.9913333333333333}}\n",
      "Registering the results in:  SX1/2023-11-18/n-5_k-1_m-4_sigma_w-0.1_sigma_p-0.01_n_samples-1500.yaml\n"
     ]
    },
    {
     "name": "stderr",
     "output_type": "stream",
     "text": [
      "Sample: 100%|███████████████████████████| 2000/2000 [00:16, 122.58it/s, step size=4.48e-01, acc. prob=0.932]\n"
     ]
    },
    {
     "name": "stdout",
     "output_type": "stream",
     "text": [
      "diag:  {'sigma': OrderedDict([('n_eff', tensor(2038.1770)), ('r_hat', tensor(0.9995))]), 'w': OrderedDict([('n_eff', tensor([1497.0800, 1426.6691, 1859.3019, 1692.6246, 2016.6632])), ('r_hat', tensor([0.9994, 1.0021, 1.0009, 0.9993, 0.9993]))]), 'divergences': {'chain 0': []}, 'acceptance rate': {'chain 0': 0.9973333333333333}}\n",
      "Registering the results in:  SX1/2023-11-18/n-5_k-1_m-4_sigma_w-0.1_sigma_p-10.0_n_samples-1500.yaml\n"
     ]
    },
    {
     "name": "stderr",
     "output_type": "stream",
     "text": [
      "Sample: 100%|████████████████████████████| 2000/2000 [00:32, 62.40it/s, step size=3.76e-01, acc. prob=0.781]\n"
     ]
    },
    {
     "name": "stdout",
     "output_type": "stream",
     "text": [
      "diag:  {'sigma': OrderedDict([('n_eff', tensor(462.5987)), ('r_hat', tensor(1.0006))]), 'w': OrderedDict([('n_eff', tensor([650.1159, 490.5717, 895.2203, 705.9831, 731.8383])), ('r_hat', tensor([1.0053, 1.0009, 0.9994, 1.0035, 0.9995]))]), 'divergences': {'chain 0': [17, 25, 31, 114, 117, 185, 279, 284, 290, 366, 368, 371, 373, 374, 380, 395, 404, 760, 851, 931, 1119, 1146, 1237, 1256, 1297, 1478]}, 'acceptance rate': {'chain 0': 0.932}}\n",
      "Registering the results in:  SX1/2023-11-18/n-5_k-1_m-4_sigma_w-0.01_sigma_p-1_n_samples-1500.yaml\n"
     ]
    },
    {
     "name": "stderr",
     "output_type": "stream",
     "text": [
      "Sample: 100%|███████████████████████████| 2000/2000 [00:19, 102.00it/s, step size=6.59e-01, acc. prob=0.872]\n"
     ]
    },
    {
     "name": "stdout",
     "output_type": "stream",
     "text": [
      "diag:  {'sigma': OrderedDict([('n_eff', tensor(1157.3647)), ('r_hat', tensor(0.9993))]), 'w': OrderedDict([('n_eff', tensor([2002.2737, 1509.0302, 1725.3970, 1876.2689, 1791.1954])), ('r_hat', tensor([1.0008, 0.9998, 0.9993, 0.9995, 0.9995]))]), 'divergences': {'chain 0': [162, 237, 425, 538, 737, 751, 755, 756, 1070]}, 'acceptance rate': {'chain 0': 0.9846666666666667}}\n",
      "Registering the results in:  SX1/2023-11-18/n-5_k-1_m-4_sigma_w-0.01_sigma_p-0.1_n_samples-1500.yaml\n"
     ]
    },
    {
     "name": "stderr",
     "output_type": "stream",
     "text": [
      "Sample: 100%|████████████████████████████| 2000/2000 [00:23, 83.99it/s, step size=6.73e-01, acc. prob=0.867]\n"
     ]
    },
    {
     "name": "stdout",
     "output_type": "stream",
     "text": [
      "diag:  {'sigma': OrderedDict([('n_eff', tensor(1483.5238)), ('r_hat', tensor(0.9996))]), 'w': OrderedDict([('n_eff', tensor([1820.1250, 2046.9706, 1675.5454, 2152.5154, 1846.9569])), ('r_hat', tensor([1.0002, 0.9998, 1.0033, 0.9993, 0.9997]))]), 'divergences': {'chain 0': [45, 1326]}, 'acceptance rate': {'chain 0': 0.986}}\n",
      "Registering the results in:  SX1/2023-11-18/n-5_k-1_m-4_sigma_w-0.01_sigma_p-0.01_n_samples-1500.yaml\n"
     ]
    },
    {
     "name": "stderr",
     "output_type": "stream",
     "text": [
      "Sample: 100%|████████████████████████████| 2000/2000 [00:22, 87.37it/s, step size=6.33e-01, acc. prob=0.888]\n"
     ]
    },
    {
     "name": "stdout",
     "output_type": "stream",
     "text": [
      "diag:  {'sigma': OrderedDict([('n_eff', tensor(1703.1221)), ('r_hat', tensor(0.9998))]), 'w': OrderedDict([('n_eff', tensor([1600.9160, 1680.9602, 2045.9512, 2181.3738, 1844.3488])), ('r_hat', tensor([1.0000, 1.0020, 1.0006, 1.0004, 0.9993]))]), 'divergences': {'chain 0': []}, 'acceptance rate': {'chain 0': 0.9886666666666667}}\n",
      "Registering the results in:  SX1/2023-11-18/n-5_k-1_m-4_sigma_w-0.01_sigma_p-10.0_n_samples-1500.yaml\n"
     ]
    },
    {
     "name": "stderr",
     "output_type": "stream",
     "text": [
      "Sample: 100%|████████████████████████████| 2000/2000 [00:25, 78.94it/s, step size=4.15e-01, acc. prob=0.836]\n"
     ]
    },
    {
     "name": "stdout",
     "output_type": "stream",
     "text": [
      "diag:  {'sigma': OrderedDict([('n_eff', tensor(753.7969)), ('r_hat', tensor(0.9994))]), 'w': OrderedDict([('n_eff', tensor([1315.8163,  916.0854, 1268.1652, 1059.1525,  821.2821])), ('r_hat', tensor([0.9995, 0.9993, 0.9993, 1.0000, 0.9994]))]), 'divergences': {'chain 0': [67, 68, 70, 72, 164, 166, 171, 210, 291, 292, 321, 327, 329, 330, 410, 414, 417, 418, 446, 483, 532, 715, 777, 965, 967, 1068, 1137, 1158, 1182, 1215, 1236, 1263, 1290, 1292, 1294, 1455, 1466, 1467]}, 'acceptance rate': {'chain 0': 0.966}}\n",
      "Registering the results in:  SX1/2023-11-18/n-5_k-1_m-4_sigma_w-10.0_sigma_p-1_n_samples-1500.yaml\n"
     ]
    },
    {
     "name": "stderr",
     "output_type": "stream",
     "text": [
      "Sample: 100%|████████████████████████████| 2000/2000 [01:58, 16.84it/s, step size=7.01e-02, acc. prob=0.889]\n"
     ]
    },
    {
     "name": "stdout",
     "output_type": "stream",
     "text": [
      "diag:  {'sigma': OrderedDict([('n_eff', tensor(1161.3025)), ('r_hat', tensor(1.0051))]), 'w': OrderedDict([('n_eff', tensor([445.7787, 323.6937, 442.5194, 352.5731, 450.8052])), ('r_hat', tensor([0.9994, 1.0003, 0.9995, 1.0023, 1.0024]))]), 'divergences': {'chain 0': [17, 65, 140, 201, 204, 205, 206, 346, 430, 432, 541, 711, 844, 974, 975, 976, 1036, 1285]}, 'acceptance rate': {'chain 0': 0.994}}\n",
      "Registering the results in:  SX1/2023-11-18/n-5_k-1_m-4_sigma_w-10.0_sigma_p-0.1_n_samples-1500.yaml\n"
     ]
    },
    {
     "name": "stderr",
     "output_type": "stream",
     "text": [
      "Sample: 100%|████████████████████████████| 2000/2000 [00:33, 59.76it/s, step size=2.65e-01, acc. prob=0.839]\n"
     ]
    },
    {
     "name": "stdout",
     "output_type": "stream",
     "text": [
      "diag:  {'sigma': OrderedDict([('n_eff', tensor(449.7996)), ('r_hat', tensor(1.0166))]), 'w': OrderedDict([('n_eff', tensor([ 784.1031, 1041.7596,  715.7456,  641.2867, 1000.1432])), ('r_hat', tensor([0.9995, 1.0024, 1.0004, 1.0059, 0.9994]))]), 'divergences': {'chain 0': [57, 418, 434, 472, 478, 576, 637, 646, 649, 653, 659, 661, 663, 667, 670, 672, 674, 675, 763, 1055, 1143, 1153, 1157, 1185, 1331, 1418, 1437, 1443, 1447, 1454, 1455, 1466, 1469, 1479]}, 'acceptance rate': {'chain 0': 0.982}}\n",
      "Registering the results in:  SX1/2023-11-18/n-5_k-1_m-4_sigma_w-10.0_sigma_p-0.01_n_samples-1500.yaml\n"
     ]
    },
    {
     "name": "stderr",
     "output_type": "stream",
     "text": [
      "Sample: 100%|████████████████████████████| 2000/2000 [00:23, 85.21it/s, step size=5.59e-01, acc. prob=0.833]\n"
     ]
    },
    {
     "name": "stdout",
     "output_type": "stream",
     "text": [
      "diag:  {'sigma': OrderedDict([('n_eff', tensor(1152.7123)), ('r_hat', tensor(1.0031))]), 'w': OrderedDict([('n_eff', tensor([1522.8386,  882.4255, 1596.8505, 1219.8993, 1129.9938])), ('r_hat', tensor([0.9993, 1.0005, 1.0021, 0.9999, 0.9996]))]), 'divergences': {'chain 0': [6, 35, 176, 192, 202, 207, 286, 415, 417, 459, 460, 462, 463, 468, 469, 472, 477, 479, 496, 552, 647, 687, 749, 750, 884, 991, 992]}, 'acceptance rate': {'chain 0': 0.9533333333333334}}\n",
      "Registering the results in:  SX1/2023-11-18/n-5_k-1_m-4_sigma_w-10.0_sigma_p-10.0_n_samples-1500.yaml\n"
     ]
    },
    {
     "name": "stderr",
     "output_type": "stream",
     "text": [
      "Sample: 100%|████████████████████████████| 2000/2000 [06:05,  5.47it/s, step size=1.73e-02, acc. prob=0.808]\n"
     ]
    },
    {
     "name": "stdout",
     "output_type": "stream",
     "text": [
      "diag:  {'sigma': OrderedDict([('n_eff', tensor(405.6350)), ('r_hat', tensor(0.9996))]), 'w': OrderedDict([('n_eff', tensor([155.8949, 224.7377, 164.1300, 364.6686, 154.1675])), ('r_hat', tensor([1.0085, 1.0094, 1.0022, 0.9993, 1.0020]))]), 'divergences': {'chain 0': [34, 36, 45, 82, 125, 141, 143, 149, 205, 226, 246, 373, 578, 580, 583, 652, 661, 748, 840, 882, 956, 958, 965, 970, 1042, 1057, 1130, 1306, 1332, 1380, 1451, 1476]}, 'acceptance rate': {'chain 0': 0.998}}\n",
      "Registering the results in:  SX1/2023-11-18/n-5_k-2_m-4_sigma_w-1_sigma_p-1_n_samples-1500.yaml\n"
     ]
    },
    {
     "name": "stderr",
     "output_type": "stream",
     "text": [
      "Sample: 100%|████████████████████████████| 2000/2000 [00:46, 43.39it/s, step size=1.89e-01, acc. prob=0.717]\n"
     ]
    },
    {
     "name": "stdout",
     "output_type": "stream",
     "text": [
      "diag:  {'sigma': OrderedDict([('n_eff', tensor(372.4684)), ('r_hat', tensor(1.0005))]), 'w': OrderedDict([('n_eff', tensor([859.3405, 510.5971, 564.9728, 453.5588, 275.9624, 455.7891, 657.5893,\n",
      "        660.2144, 771.7184, 332.6156, 632.5106, 464.1266, 700.5731, 548.9326,\n",
      "        284.4074])), ('r_hat', tensor([1.0006, 1.0054, 1.0058, 0.9994, 1.0017, 1.0071, 1.0040, 1.0056, 0.9996,\n",
      "        1.0017, 0.9999, 0.9997, 0.9994, 0.9993, 1.0054]))]), 'divergences': {'chain 0': [4, 56, 57, 99, 118, 179, 251, 256, 257, 261, 263, 266, 273, 276, 289, 293, 294, 298, 301, 303, 306, 307, 311, 312, 313, 314, 315, 321, 322, 418, 419, 487, 496, 498, 502, 504, 533, 534, 536, 538, 543, 545, 546, 552, 554, 557, 562, 563, 565, 567, 812, 846, 863, 874, 924, 943, 945, 946, 948, 955, 1089, 1142, 1189, 1212, 1289, 1290, 1382, 1384, 1387, 1390]}, 'acceptance rate': {'chain 0': 0.964}}\n",
      "Registering the results in:  SX1/2023-11-18/n-5_k-2_m-4_sigma_w-1_sigma_p-0.1_n_samples-1500.yaml\n"
     ]
    },
    {
     "name": "stderr",
     "output_type": "stream",
     "text": [
      "Sample: 100%|████████████████████████████| 2000/2000 [00:36, 54.14it/s, step size=2.21e-01, acc. prob=0.927]\n"
     ]
    },
    {
     "name": "stdout",
     "output_type": "stream",
     "text": [
      "diag:  {'sigma': OrderedDict([('n_eff', tensor(1283.4713)), ('r_hat', tensor(0.9993))]), 'w': OrderedDict([('n_eff', tensor([2086.1836, 1631.3555, 1275.4580, 1005.2181, 1065.1675, 1283.7280,\n",
      "        1017.7471, 1764.1091, 1162.3871, 1435.5605, 1936.8632, 1987.5725,\n",
      "        1823.9131, 1681.1274, 1236.6647])), ('r_hat', tensor([0.9994, 1.0019, 1.0008, 0.9998, 0.9995, 1.0010, 1.0041, 1.0000, 0.9994,\n",
      "        0.9998, 0.9993, 0.9998, 0.9999, 0.9995, 0.9997]))]), 'divergences': {'chain 0': [7, 222, 223, 448, 662, 814, 832, 835, 836, 1380, 1381]}, 'acceptance rate': {'chain 0': 0.998}}\n",
      "Registering the results in:  SX1/2023-11-18/n-5_k-2_m-4_sigma_w-1_sigma_p-0.01_n_samples-1500.yaml\n"
     ]
    },
    {
     "name": "stderr",
     "output_type": "stream",
     "text": [
      "Sample: 100%|███████████████████████████| 2000/2000 [00:16, 120.02it/s, step size=4.81e-01, acc. prob=0.881]\n"
     ]
    },
    {
     "name": "stdout",
     "output_type": "stream",
     "text": [
      "diag:  {'sigma': OrderedDict([('n_eff', tensor(1501.3137)), ('r_hat', tensor(0.9998))]), 'w': OrderedDict([('n_eff', tensor([1523.5886, 2572.4602, 1805.0449, 1921.0060, 2409.4214, 1693.7137,\n",
      "        1810.9469, 1580.9537, 3311.3762, 1335.5077, 3013.1096, 2058.9602,\n",
      "        1354.2659, 1570.0049, 2365.0063])), ('r_hat', tensor([0.9996, 0.9993, 0.9993, 1.0005, 0.9993, 0.9993, 0.9998, 0.9998, 0.9994,\n",
      "        1.0000, 0.9994, 1.0001, 0.9999, 0.9994, 0.9995]))]), 'divergences': {'chain 0': [116, 298, 569, 959, 1127, 1128, 1328]}, 'acceptance rate': {'chain 0': 0.9866666666666667}}\n",
      "Registering the results in:  SX1/2023-11-18/n-5_k-2_m-4_sigma_w-1_sigma_p-10.0_n_samples-1500.yaml\n"
     ]
    },
    {
     "name": "stderr",
     "output_type": "stream",
     "text": [
      "Sample: 100%|████████████████████████████| 2000/2000 [04:42,  7.07it/s, step size=3.36e-02, acc. prob=0.802]\n"
     ]
    },
    {
     "name": "stdout",
     "output_type": "stream",
     "text": [
      "diag:  {'sigma': OrderedDict([('n_eff', tensor(644.0535)), ('r_hat', tensor(0.9998))]), 'w': OrderedDict([('n_eff', tensor([ 657.9238, 1003.6830,  776.7612,  666.3002,  739.7470, 1040.1499,\n",
      "        1001.9586,  606.7113,  563.1434,  568.1368,  460.4950,  365.1848,\n",
      "         535.9526,  978.8686,  536.8965])), ('r_hat', tensor([1.0080, 1.0001, 1.0055, 0.9999, 0.9993, 0.9993, 1.0003, 1.0079, 1.0034,\n",
      "        0.9995, 0.9995, 1.0059, 1.0007, 0.9994, 1.0026]))]), 'divergences': {'chain 0': [10, 72, 94, 118, 131, 157, 462, 463, 466, 467, 469, 471, 476, 484, 511, 603, 608, 609, 615, 634, 653, 654, 660, 661, 662, 665, 666, 667, 683, 722, 725, 777, 778, 780, 784, 785, 789, 791, 793, 796, 798, 799, 801, 802, 803, 813, 820, 870, 1024, 1077, 1084, 1104, 1213, 1217, 1219, 1220, 1225, 1231, 1232, 1233, 1235, 1237, 1238, 1307, 1395, 1408, 1435, 1440, 1444]}, 'acceptance rate': {'chain 0': 0.9986666666666667}}\n",
      "Registering the results in:  SX1/2023-11-18/n-5_k-2_m-4_sigma_w-0.1_sigma_p-1_n_samples-1500.yaml\n"
     ]
    },
    {
     "name": "stderr",
     "output_type": "stream",
     "text": [
      "Sample: 100%|████████████████████████████| 2000/2000 [00:30, 65.57it/s, step size=3.00e-01, acc. prob=0.878]\n"
     ]
    },
    {
     "name": "stdout",
     "output_type": "stream",
     "text": [
      "diag:  {'sigma': OrderedDict([('n_eff', tensor(800.6017)), ('r_hat', tensor(1.0001))]), 'w': OrderedDict([('n_eff', tensor([1877.4346, 1946.5884, 1692.5316, 1692.6384, 1433.4235, 2116.6121,\n",
      "        1957.4156, 1657.9193, 2375.7629, 2267.2725, 2038.3228, 1796.7208,\n",
      "        2457.0605, 2237.3787, 2783.7349])), ('r_hat', tensor([1.0000, 1.0007, 0.9993, 0.9994, 0.9994, 0.9998, 0.9994, 0.9997, 0.9993,\n",
      "        1.0015, 1.0000, 0.9994, 0.9993, 0.9994, 0.9996]))]), 'divergences': {'chain 0': [60, 262, 267, 270, 292, 356, 360, 363, 459, 589, 620, 944, 985, 988, 1171, 1172, 1235, 1352, 1388, 1406, 1443]}, 'acceptance rate': {'chain 0': 0.9813333333333333}}\n",
      "Registering the results in:  SX1/2023-11-18/n-5_k-2_m-4_sigma_w-0.1_sigma_p-0.1_n_samples-1500.yaml\n"
     ]
    },
    {
     "name": "stderr",
     "output_type": "stream",
     "text": [
      "Sample: 100%|███████████████████████████| 2000/2000 [00:19, 104.14it/s, step size=4.68e-01, acc. prob=0.892]\n"
     ]
    },
    {
     "name": "stdout",
     "output_type": "stream",
     "text": [
      "diag:  {'sigma': OrderedDict([('n_eff', tensor(1574.3405)), ('r_hat', tensor(0.9995))]), 'w': OrderedDict([('n_eff', tensor([2161.8391, 2043.2855, 2138.5728, 2591.3479, 2540.8728, 2869.5923,\n",
      "        2538.3328, 1616.4388, 1566.4628, 1934.1412, 2191.9590, 1975.7720,\n",
      "        2556.4268, 1800.8561, 1977.1893])), ('r_hat', tensor([0.9997, 0.9997, 1.0002, 0.9997, 0.9997, 0.9996, 0.9994, 1.0001, 1.0025,\n",
      "        0.9997, 1.0001, 0.9994, 0.9994, 0.9994, 0.9994]))]), 'divergences': {'chain 0': [93, 138, 747, 825, 827, 828, 856, 1010, 1083, 1233, 1267]}, 'acceptance rate': {'chain 0': 0.9946666666666667}}\n",
      "Registering the results in:  SX1/2023-11-18/n-5_k-2_m-4_sigma_w-0.1_sigma_p-0.01_n_samples-1500.yaml\n"
     ]
    },
    {
     "name": "stderr",
     "output_type": "stream",
     "text": [
      "Sample: 100%|███████████████████████████| 2000/2000 [00:18, 106.40it/s, step size=5.72e-01, acc. prob=0.892]\n"
     ]
    },
    {
     "name": "stdout",
     "output_type": "stream",
     "text": [
      "diag:  {'sigma': OrderedDict([('n_eff', tensor(2106.6755)), ('r_hat', tensor(0.9996))]), 'w': OrderedDict([('n_eff', tensor([3848.2847, 4063.3452, 2850.4209, 2764.9666, 3196.7651, 2661.9856,\n",
      "        2422.7927, 3281.4116, 2741.2727, 3484.7239, 2464.6113, 3226.8716,\n",
      "        2489.5466, 2593.4861, 3584.5566])), ('r_hat', tensor([0.9995, 0.9994, 1.0000, 0.9995, 0.9994, 0.9996, 0.9997, 1.0001, 0.9993,\n",
      "        0.9999, 0.9999, 0.9994, 0.9997, 0.9996, 0.9994]))]), 'divergences': {'chain 0': []}, 'acceptance rate': {'chain 0': 0.9993333333333333}}\n",
      "Registering the results in:  SX1/2023-11-18/n-5_k-2_m-4_sigma_w-0.1_sigma_p-10.0_n_samples-1500.yaml\n"
     ]
    },
    {
     "name": "stderr",
     "output_type": "stream",
     "text": [
      "Sample: 100%|████████████████████████████| 2000/2000 [00:48, 41.05it/s, step size=2.02e-01, acc. prob=0.759]\n"
     ]
    },
    {
     "name": "stdout",
     "output_type": "stream",
     "text": [
      "diag:  {'sigma': OrderedDict([('n_eff', tensor(558.7070)), ('r_hat', tensor(1.0003))]), 'w': OrderedDict([('n_eff', tensor([612.1550, 854.9092, 703.2088, 649.8090, 586.5959, 677.1000, 559.0241,\n",
      "        553.9213, 914.3397, 736.7253, 596.0300, 906.1684, 655.6984, 596.7040,\n",
      "        797.4955])), ('r_hat', tensor([0.9994, 1.0021, 1.0013, 1.0026, 1.0003, 0.9996, 1.0004, 1.0003, 0.9994,\n",
      "        0.9993, 1.0020, 1.0007, 1.0033, 1.0034, 0.9997]))]), 'divergences': {'chain 0': [40, 145, 147, 170, 357, 429, 430, 431, 434, 435, 437, 440, 442, 448, 450, 451, 452, 551, 565, 566, 573, 657, 663, 705, 727, 733, 765, 810, 812, 823, 827, 829, 830, 831, 835, 1013, 1100, 1106, 1116, 1151, 1152, 1154, 1157, 1164, 1165, 1166, 1195, 1473]}, 'acceptance rate': {'chain 0': 0.978}}\n",
      "Registering the results in:  SX1/2023-11-18/n-5_k-2_m-4_sigma_w-0.01_sigma_p-1_n_samples-1500.yaml\n"
     ]
    },
    {
     "name": "stderr",
     "output_type": "stream",
     "text": [
      "Sample: 100%|███████████████████████████| 2000/2000 [00:18, 110.59it/s, step size=4.18e-01, acc. prob=0.918]\n"
     ]
    },
    {
     "name": "stdout",
     "output_type": "stream",
     "text": [
      "diag:  {'sigma': OrderedDict([('n_eff', tensor(1539.5583)), ('r_hat', tensor(1.0012))]), 'w': OrderedDict([('n_eff', tensor([1983.9008, 1530.7476, 2705.7612, 1625.0231, 1996.2623, 2519.6326,\n",
      "        2323.4700, 2306.5898, 1964.8541, 2109.3611, 1660.8794, 1727.4399,\n",
      "        2028.6537, 2222.6909, 1478.3279])), ('r_hat', tensor([1.0015, 0.9994, 0.9997, 1.0021, 0.9997, 1.0001, 0.9993, 0.9994, 0.9994,\n",
      "        0.9997, 0.9996, 0.9993, 0.9994, 1.0002, 1.0007]))]), 'divergences': {'chain 0': [804, 948, 989, 1485]}, 'acceptance rate': {'chain 0': 0.9966666666666667}}\n",
      "Registering the results in:  SX1/2023-11-18/n-5_k-2_m-4_sigma_w-0.01_sigma_p-0.1_n_samples-1500.yaml\n"
     ]
    },
    {
     "name": "stderr",
     "output_type": "stream",
     "text": [
      "Sample: 100%|████████████████████████████| 2000/2000 [00:20, 97.61it/s, step size=3.78e-01, acc. prob=0.921]\n"
     ]
    },
    {
     "name": "stdout",
     "output_type": "stream",
     "text": [
      "diag:  {'sigma': OrderedDict([('n_eff', tensor(2225.5901)), ('r_hat', tensor(0.9997))]), 'w': OrderedDict([('n_eff', tensor([1681.7938, 1267.8219, 1638.6940, 1378.2759, 1281.6562, 1798.5560,\n",
      "        1553.4897, 1804.4100, 2337.9561, 1404.0112, 1170.1101, 1737.6775,\n",
      "        1639.3287, 1277.6306, 2050.2134])), ('r_hat', tensor([0.9996, 0.9993, 1.0000, 1.0005, 1.0020, 0.9993, 0.9994, 0.9993, 0.9993,\n",
      "        1.0003, 1.0016, 0.9994, 1.0005, 1.0000, 0.9995]))]), 'divergences': {'chain 0': [100, 871, 1163]}, 'acceptance rate': {'chain 0': 0.9973333333333333}}\n",
      "Registering the results in:  SX1/2023-11-18/n-5_k-2_m-4_sigma_w-0.01_sigma_p-0.01_n_samples-1500.yaml\n"
     ]
    },
    {
     "name": "stderr",
     "output_type": "stream",
     "text": [
      "Sample: 100%|███████████████████████████| 2000/2000 [00:17, 116.56it/s, step size=6.24e-01, acc. prob=0.846]\n"
     ]
    },
    {
     "name": "stdout",
     "output_type": "stream",
     "text": [
      "diag:  {'sigma': OrderedDict([('n_eff', tensor(2755.7825)), ('r_hat', tensor(0.9996))]), 'w': OrderedDict([('n_eff', tensor([4194.6787, 3415.6130, 3671.8740, 2813.3435, 3293.4709, 2890.4260,\n",
      "        2989.5176, 3068.8167, 3599.4875, 3139.2549, 2813.6602, 2932.8821,\n",
      "        3351.5942, 5507.3521, 3123.2959])), ('r_hat', tensor([0.9994, 0.9994, 0.9994, 0.9995, 0.9993, 0.9994, 0.9997, 1.0001, 1.0003,\n",
      "        0.9998, 1.0004, 0.9993, 0.9995, 0.9996, 0.9993]))]), 'divergences': {'chain 0': []}, 'acceptance rate': {'chain 0': 0.9926666666666667}}\n",
      "Registering the results in:  SX1/2023-11-18/n-5_k-2_m-4_sigma_w-0.01_sigma_p-10.0_n_samples-1500.yaml\n"
     ]
    },
    {
     "name": "stderr",
     "output_type": "stream",
     "text": [
      "Sample: 100%|████████████████████████████| 2000/2000 [00:26, 75.58it/s, step size=3.59e-01, acc. prob=0.802]\n"
     ]
    },
    {
     "name": "stdout",
     "output_type": "stream",
     "text": [
      "diag:  {'sigma': OrderedDict([('n_eff', tensor(793.1071)), ('r_hat', tensor(0.9996))]), 'w': OrderedDict([('n_eff', tensor([1154.7126, 1423.9760, 1197.6058, 1200.2762,  978.8320, 1071.6965,\n",
      "         996.7683,  978.0087, 1164.3411,  849.9838,  975.8991, 1198.1494,\n",
      "        1493.9729, 1037.3347, 1142.8873])), ('r_hat', tensor([1.0010, 0.9999, 1.0020, 0.9993, 0.9999, 0.9994, 1.0003, 1.0003, 1.0013,\n",
      "        1.0059, 0.9995, 1.0002, 0.9995, 0.9994, 0.9995]))]), 'divergences': {'chain 0': [20, 63, 73, 79, 104, 175, 176, 180, 186, 215, 321, 331, 344, 415, 495, 507, 512, 552, 597, 683, 700, 707, 721, 766, 768, 815, 817, 818, 868, 1101, 1133, 1279, 1324, 1341, 1343, 1345, 1416, 1469]}, 'acceptance rate': {'chain 0': 0.9613333333333334}}\n",
      "Registering the results in:  SX1/2023-11-18/n-5_k-2_m-4_sigma_w-10.0_sigma_p-1_n_samples-1500.yaml\n"
     ]
    },
    {
     "name": "stderr",
     "output_type": "stream",
     "text": [
      "Sample: 100%|████████████████████████████| 2000/2000 [03:08, 10.63it/s, step size=5.10e-02, acc. prob=0.764]\n"
     ]
    },
    {
     "name": "stdout",
     "output_type": "stream",
     "text": [
      "diag:  {'sigma': OrderedDict([('n_eff', tensor(489.8279)), ('r_hat', tensor(0.9994))]), 'w': OrderedDict([('n_eff', tensor([ 424.0580,  670.5716,  576.0659,  834.6147,  547.1591,  497.4130,\n",
      "         467.7589,  365.9149, 1055.5641,  570.7693,  599.2961,  553.7560,\n",
      "         400.3892,  530.8633,  796.7996])), ('r_hat', tensor([1.0088, 1.0006, 1.0024, 1.0026, 0.9999, 0.9998, 1.0006, 1.0015, 0.9995,\n",
      "        1.0036, 0.9997, 0.9997, 1.0145, 0.9998, 0.9995]))]), 'divergences': {'chain 0': [1, 31, 154, 156, 158, 180, 377, 496, 517, 522, 530, 533, 535, 538, 540, 541, 542, 552, 560, 566, 666, 669, 714, 730, 740, 770, 773, 774, 785, 833, 852, 854, 855, 856, 865, 869, 947, 948, 954, 1040, 1042, 1044, 1047, 1054, 1067, 1080, 1099, 1103, 1104, 1106, 1113, 1121, 1129, 1131, 1134, 1150, 1296, 1299, 1347, 1373, 1384, 1386, 1390, 1425, 1428, 1454]}, 'acceptance rate': {'chain 0': 0.996}}\n",
      "Registering the results in:  SX1/2023-11-18/n-5_k-2_m-4_sigma_w-10.0_sigma_p-0.1_n_samples-1500.yaml\n"
     ]
    },
    {
     "name": "stderr",
     "output_type": "stream",
     "text": [
      "Sample: 100%|████████████████████████████| 2000/2000 [00:49, 40.59it/s, step size=2.10e-01, acc. prob=0.829]\n"
     ]
    },
    {
     "name": "stdout",
     "output_type": "stream",
     "text": [
      "diag:  {'sigma': OrderedDict([('n_eff', tensor(1049.6807)), ('r_hat', tensor(1.0001))]), 'w': OrderedDict([('n_eff', tensor([ 702.1335, 1217.0377,  837.6376, 1237.5428, 1201.3760, 1301.0325,\n",
      "         837.8002,  887.8880,  692.5925, 1282.6327,  910.5652,  843.5082,\n",
      "        1181.5840,  781.0720,  975.6763])), ('r_hat', tensor([0.9994, 0.9998, 0.9995, 0.9996, 0.9996, 0.9996, 0.9994, 1.0001, 0.9993,\n",
      "        0.9998, 0.9995, 1.0000, 1.0019, 0.9999, 0.9994]))]), 'divergences': {'chain 0': [81, 96, 100, 225, 313, 446, 672, 850, 853, 893, 915, 926, 927, 930, 1053, 1090, 1247, 1291, 1424, 1440]}, 'acceptance rate': {'chain 0': 0.9846666666666667}}\n",
      "Registering the results in:  SX1/2023-11-18/n-5_k-2_m-4_sigma_w-10.0_sigma_p-0.01_n_samples-1500.yaml\n"
     ]
    },
    {
     "name": "stderr",
     "output_type": "stream",
     "text": [
      "Sample: 100%|████████████████████████████| 2000/2000 [00:30, 65.04it/s, step size=3.96e-01, acc. prob=0.782]\n"
     ]
    },
    {
     "name": "stdout",
     "output_type": "stream",
     "text": [
      "diag:  {'sigma': OrderedDict([('n_eff', tensor(656.1917)), ('r_hat', tensor(0.9994))]), 'w': OrderedDict([('n_eff', tensor([ 733.6885, 1120.6742,  774.5565, 1339.6721, 1125.5956, 1026.6742,\n",
      "         462.8588,  844.9200, 1059.4149,  627.3074, 1128.7629,  820.2537,\n",
      "        1529.3389,  918.3757,  881.6891])), ('r_hat', tensor([1.0009, 0.9993, 1.0029, 0.9997, 1.0010, 0.9996, 1.0022, 0.9995, 0.9994,\n",
      "        1.0030, 1.0025, 0.9997, 1.0008, 1.0064, 1.0008]))]), 'divergences': {'chain 0': [0, 43, 51, 52, 82, 86, 89, 91, 102, 123, 149, 152, 212, 271, 275, 376, 412, 415, 416, 438, 493, 500, 524, 550, 558, 680, 681, 682, 725, 730, 731, 732, 751, 753, 799, 864, 869, 870, 871, 873, 896, 900, 906, 1008, 1009, 1010, 1011, 1012, 1016, 1018, 1044, 1082, 1103, 1108, 1137, 1226, 1227, 1246, 1260, 1261, 1279, 1293, 1318, 1385, 1393, 1399, 1400, 1402, 1444, 1474, 1490, 1497]}, 'acceptance rate': {'chain 0': 0.9626666666666667}}\n",
      "Registering the results in:  SX1/2023-11-18/n-5_k-2_m-4_sigma_w-10.0_sigma_p-10.0_n_samples-1500.yaml\n"
     ]
    },
    {
     "name": "stderr",
     "output_type": "stream",
     "text": [
      "Sample:  71%|███████████████████▉        | 1424/2000 [21:16,  1.03s/it, step size=1.79e-03, acc. prob=0.927]"
     ]
    }
   ],
   "source": [
    "import time\n",
    "\n",
    "TEST_NAME = \"SX1\"\n",
    "REPLACE = False\n",
    "\n",
    "n_vals = [5,6,7,8,9,10]\n",
    "sigma_weights = 10\n",
    "sigma_w_vals = [1, 1e-1, 1e-2, 1e1]\n",
    "sigma_p_vals = [1, 1e-1, 1e-2, 1e1]\n",
    "n_samples = 1500\n",
    "\n",
    "\n",
    "for n in n_vals:\n",
    "    for m in list(2**i for i in range(2, n)):\n",
    "        for k in range(1, n-1):\n",
    "                for sigma_w in sigma_w_vals:\n",
    "                    for sigma_p in sigma_p_vals:\n",
    "\n",
    "                        run_d = {\n",
    "                            \"n\": n,\n",
    "                            \"k\": k,\n",
    "                            \"m\": m,\n",
    "                            \"sigma_w\": sigma_w,\n",
    "                            \"sigma_p\": sigma_p,\n",
    "                            \"n_samples\": n_samples\n",
    "                        }\n",
    "\n",
    "                        found = find_experiment_file(run_d, TEST_NAME)\n",
    "\n",
    "                        if found:\n",
    "                            date = found\n",
    "                            print(f\"Found file: {file_name}\")\n",
    "\n",
    "                            if REPLACE:\n",
    "                                print('Replacing it...')\n",
    "                            else:\n",
    "                                continue\n",
    "                        else:\n",
    "                            file_name = compute_experiment_file_name(run_d, TEST_NAME)\n",
    "                            print(\"Registering the results in: \", file_name)\n",
    "\n",
    "                        theta = generate_additive_theta(n, k)\n",
    "                        weights = generate_normal_weights(theta, sigma_weights)\n",
    "                        alternatives = generate_random_alternatives_matrix(m, n)\n",
    "                        ranks = compute_ws_ranks(alternatives, theta, weights)\n",
    "                        t_sv = compute_semivalues(n, theta, weights, lambda x:1)\n",
    "                        preferences = PreferenceModel(alternatives, ranks)\n",
    "                        data = preferences.generate_preference_matrix(theta)\n",
    "                        data = torch.tensor(data).float()\n",
    "                        t = time.time()\n",
    "                        model = posterior_sampling_model(data, sigma_w=sigma_w, sigma_p=sigma_p)\n",
    "                        diag, sampled_weights, sigmas = sample_model(model, data, \"w\", \"sigma\", warmup_steps=500, num_samples=n_samples, return_diag=True)\n",
    "                        t = time.time() - t\n",
    "                        accs_d = get_acc_distribution(data, sampled_weights, sigmas)\n",
    "\n",
    "                        predicted_rankings = [np.argsort(compute_semivalues(n, theta, weights, lambda x:1))[::-1] for weights in sampled_weights]\n",
    "                        kt_d = get_kt_distribution(predicted_rankings, np.argsort(t_sv))\n",
    "\n",
    "                        file_path = record_experiment_results(run_d, TEST_NAME)\n",
    "                        run_d[\"time\"] = t\n",
    "                        run_d[\"weights\"] = weights.tolist()\n",
    "                        run_d[\"predicted_rankings\"] = [i.tolist() for i in predicted_rankings]\n",
    "                        run_d[\"accuracy_distribution\"] = [i.tolist() for i in accs_d]\n",
    "                        run_d[\"kt_d\"] = [i.tolist() for i in kt_d]\n",
    "                        run_d[\"acceptance_rate\"] = diag[\"acceptance rate\"][\"chain 0\"]\n",
    "                        run_d[\"w_eff\"] = [float(i) for i in diag[\"w\"][\"n_eff\"].numpy()]\n",
    "                        run_d[\"w_rhat\"] = [float(i) for i in diag[\"w\"][\"r_hat\"].numpy()]\n",
    "\n",
    "                        print(\"diag: \", diag)\n",
    "                        with open(file_path, 'w') as file:\n",
    "                            yaml.dump(run_d, file, default_flow_style=False)\n",
    "\n"
   ]
  },
  {
   "cell_type": "code",
   "execution_count": null,
   "metadata": {
    "id": "q4obFAYcT_kO"
   },
   "outputs": [],
   "source": []
  }
 ],
 "metadata": {
  "colab": {
   "provenance": []
  },
  "kernelspec": {
   "display_name": "Python 3 (ipykernel)",
   "language": "python",
   "name": "python3"
  },
  "language_info": {
   "codemirror_mode": {
    "name": "ipython",
    "version": 3
   },
   "file_extension": ".py",
   "mimetype": "text/x-python",
   "name": "python",
   "nbconvert_exporter": "python",
   "pygments_lexer": "ipython3",
   "version": "3.9.10"
  }
 },
 "nbformat": 4,
 "nbformat_minor": 4
}
