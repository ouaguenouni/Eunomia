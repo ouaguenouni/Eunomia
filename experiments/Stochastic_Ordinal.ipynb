{
 "cells": [
  {
   "cell_type": "code",
   "execution_count": 1,
   "id": "a68cba7b-7d72-4292-9c12-3e2fa755dbc6",
   "metadata": {},
   "outputs": [
    {
     "name": "stdout",
     "output_type": "stream",
     "text": [
      "Cloning into 'Eunomia'...\n",
      "remote: Enumerating objects: 454, done.\u001b[K\n",
      "remote: Counting objects: 100% (454/454), done.\u001b[K\n",
      "remote: Compressing objects: 100% (152/152), done.\u001b[K\n",
      "remote: Total 454 (delta 347), reused 403 (delta 296), pack-reused 0\u001b[K\n",
      "Receiving objects: 100% (454/454), 2.91 MiB | 2.17 MiB/s, done.\n",
      "Resolving deltas: 100% (347/347), done.\n",
      "Requirement already satisfied: torch in /home/mohamed/miniconda3/lib/python3.9/site-packages (from -r Eunomia/requirements.txt (line 1)) (1.11.0)\n",
      "Requirement already satisfied: pyro-ppl in /home/mohamed/miniconda3/lib/python3.9/site-packages (from -r Eunomia/requirements.txt (line 2)) (1.8.6)\n",
      "Requirement already satisfied: cvxpy in /home/mohamed/miniconda3/lib/python3.9/site-packages (from -r Eunomia/requirements.txt (line 3)) (1.1.18)\n",
      "Requirement already satisfied: typing_extensions in /home/mohamed/miniconda3/lib/python3.9/site-packages (from torch->-r Eunomia/requirements.txt (line 1)) (4.8.0)\n",
      "Requirement already satisfied: numpy>=1.7 in /home/mohamed/miniconda3/lib/python3.9/site-packages (from pyro-ppl->-r Eunomia/requirements.txt (line 2)) (1.22.1)\n",
      "Requirement already satisfied: tqdm>=4.36 in /home/mohamed/miniconda3/lib/python3.9/site-packages (from pyro-ppl->-r Eunomia/requirements.txt (line 2)) (4.62.3)\n",
      "Requirement already satisfied: pyro-api>=0.1.1 in /home/mohamed/miniconda3/lib/python3.9/site-packages (from pyro-ppl->-r Eunomia/requirements.txt (line 2)) (0.1.2)\n",
      "Requirement already satisfied: opt-einsum>=2.3.2 in /home/mohamed/miniconda3/lib/python3.9/site-packages (from pyro-ppl->-r Eunomia/requirements.txt (line 2)) (3.3.0)\n",
      "Requirement already satisfied: ecos>=2 in /home/mohamed/miniconda3/lib/python3.9/site-packages (from cvxpy->-r Eunomia/requirements.txt (line 3)) (2.0.10)\n",
      "Requirement already satisfied: scs>=1.1.6 in /home/mohamed/miniconda3/lib/python3.9/site-packages (from cvxpy->-r Eunomia/requirements.txt (line 3)) (3.1.0)\n",
      "Requirement already satisfied: osqp>=0.4.1 in /home/mohamed/miniconda3/lib/python3.9/site-packages (from cvxpy->-r Eunomia/requirements.txt (line 3)) (0.6.2.post4)\n",
      "Requirement already satisfied: scipy>=1.1.0 in /home/mohamed/miniconda3/lib/python3.9/site-packages (from cvxpy->-r Eunomia/requirements.txt (line 3)) (1.11.3)\n",
      "Requirement already satisfied: qdldl in /home/mohamed/miniconda3/lib/python3.9/site-packages (from osqp>=0.4.1->cvxpy->-r Eunomia/requirements.txt (line 3)) (0.1.5.post0)\n"
     ]
    }
   ],
   "source": [
    "!rm -rf Eunomia\n",
    "!git clone https://github.com/ouaguenouni/Eunomia\n",
    "!pip install -r Eunomia/requirements.txt"
   ]
  },
  {
   "cell_type": "code",
   "execution_count": 2,
   "id": "21deb9cc-d3b3-4b48-aca5-10081d315481",
   "metadata": {},
   "outputs": [],
   "source": [
    "import itertools\n",
    "import random\n",
    "import networkx as nx\n",
    "import matplotlib.pyplot as plt\n",
    "import numpy as np\n",
    "import pandas as pd\n",
    "import seaborn as sns\n",
    "from Eunomia.preferences import *\n",
    "from Eunomia.additive_functions import *\n",
    "from Eunomia.alternatives import *\n",
    "from Eunomia.sampling import *\n",
    "from Eunomia.mcmc import *\n",
    "#from Eunomia.degree import *\n",
    "from Eunomia.experiments import *\n",
    "from Eunomia.ssb import * \n",
    "from Eunomia.graph_utils import * \n",
    "\n",
    "import torch\n",
    "import torch.nn as nn\n",
    "import torch.optim as optim\n",
    "from tqdm.notebook import tqdm, trange\n",
    "pyro.set_rng_seed(1)\n",
    "import itertools\n",
    "import random\n",
    "import networkx as nx\n",
    "\n",
    "def generate_random_directed_graph(n, m, p_edge):\n",
    "    # Generate the set F = {0, 1, ..., n}\n",
    "    F = set(range(n + 1))\n",
    "\n",
    "    # Generate all subsets of F\n",
    "    all_subsets = list(itertools.chain.from_iterable(itertools.combinations(F, r) for r in range(len(F)+1)))\n",
    "\n",
    "    # Sample m subsets from F to be the vertices\n",
    "    vertices = random.sample(all_subsets, m)\n",
    "\n",
    "    # Create a directed graph with these vertices\n",
    "    G = nx.DiGraph()\n",
    "    G.add_nodes_from(vertices)\n",
    "\n",
    "    # Add directed edges between these vertices with probability p_edge\n",
    "    for i in vertices:\n",
    "        for j in vertices:\n",
    "            if i != j:\n",
    "                if random.random() < p_edge:\n",
    "                    # Add edge (i, j) only if (j, i) doesn't exist\n",
    "                    if not G.has_edge(j, i):\n",
    "                        G.add_edge(i, j)\n",
    "\n",
    "    return G\n",
    "\n",
    "\n",
    "\n",
    "# Now G is a randomly sampled directed graph\n"
   ]
  },
  {
   "cell_type": "code",
   "execution_count": 3,
   "id": "1e1cd028-0b48-4db6-ad59-aaad83a344ac",
   "metadata": {},
   "outputs": [],
   "source": [
    "# Example usage\n",
    "n = 3 # Maximum number in set F\n",
    "k = 2\n",
    "p_edge = 0.5  # Probability of creating an edge\n",
    "theta = [tuple(i) for i in generate_additive_theta(n, k)]"
   ]
  },
  {
   "cell_type": "code",
   "execution_count": 4,
   "id": "6eb956ca-f827-441b-9e40-72c9ed569cee",
   "metadata": {},
   "outputs": [
    {
     "data": {
      "application/vnd.jupyter.widget-view+json": {
       "model_id": "14ccb59ad9c94c4dadcf718bf2f289cd",
       "version_major": 2,
       "version_minor": 0
      },
      "text/plain": [
       "  0%|          | 0/2000 [00:00<?, ?it/s]"
      ]
     },
     "metadata": {},
     "output_type": "display_data"
    }
   ],
   "source": [
    "graphs = {}\n",
    "num_graphs = 2000\n",
    "for _ in trange(num_graphs):\n",
    "    G = generate_random_directed_graph(n, 2**n, p_edge)\n",
    "    circuits = list(nx.simple_cycles(G))\n",
    "    graphs[len(circuits)] = graphs.get(len(circuits), []) + [G.edges()]"
   ]
  },
  {
   "cell_type": "code",
   "execution_count": 5,
   "id": "c85b6b22-378f-4cb6-9e87-2ecd77c4c195",
   "metadata": {},
   "outputs": [
    {
     "data": {
      "application/vnd.jupyter.widget-view+json": {
       "model_id": "3fc1fd7192ee46fdb092c0d390d4a492",
       "version_major": 2,
       "version_minor": 0
      },
      "text/plain": [
       "  0%|          | 0/150 [00:00<?, ?it/s]"
      ]
     },
     "metadata": {},
     "output_type": "display_data"
    },
    {
     "data": {
      "application/vnd.jupyter.widget-view+json": {
       "model_id": "c89e5ef883d84f368651ba1f593c6bc3",
       "version_major": 2,
       "version_minor": 0
      },
      "text/plain": [
       "  0%|          | 0/10 [00:00<?, ?it/s]"
      ]
     },
     "metadata": {},
     "output_type": "display_data"
    },
    {
     "ename": "NameError",
     "evalue": "name 'fit_w_mle' is not defined",
     "output_type": "error",
     "traceback": [
      "\u001b[0;31m---------------------------------------------------------------------------\u001b[0m",
      "\u001b[0;31mNameError\u001b[0m                                 Traceback (most recent call last)",
      "Input \u001b[0;32mIn [5]\u001b[0m, in \u001b[0;36m<module>\u001b[0;34m\u001b[0m\n\u001b[1;32m     14\u001b[0m \u001b[38;5;28;01mfor\u001b[39;00m s \u001b[38;5;129;01min\u001b[39;00m tqdm(graphs[k][:m]):\n\u001b[1;32m     15\u001b[0m     model_map \u001b[38;5;241m=\u001b[39m SSBModel(theta)\n\u001b[0;32m---> 16\u001b[0m     acc1 \u001b[38;5;241m=\u001b[39m \u001b[43mfit_w_mle\u001b[49m(model_map, s, num_epochs\u001b[38;5;241m=\u001b[39mn_epochs,  lr\u001b[38;5;241m=\u001b[39m\u001b[38;5;241m5e-2\u001b[39m)\n\u001b[1;32m     17\u001b[0m     acc2 \u001b[38;5;241m=\u001b[39m fit_M_mle(model_map, s, num_epochs\u001b[38;5;241m=\u001b[39mn_epochs, lr\u001b[38;5;241m=\u001b[39mlr)\n\u001b[1;32m     18\u001b[0m     acc \u001b[38;5;241m=\u001b[39m acc1 \u001b[38;5;241m+\u001b[39m acc2\n",
      "\u001b[0;31mNameError\u001b[0m: name 'fit_w_mle' is not defined"
     ]
    }
   ],
   "source": [
    "data = {\n",
    "    \"n_cycles\":[],\n",
    "    \"additive_acc\":[],\n",
    "    \"nt_acc\":[]\n",
    "}\n",
    "n_epochs = 200\n",
    "lr=5e-3\n",
    "m = 10\n",
    "for k in tqdm(sorted(graphs.keys())):\n",
    "    L = []\n",
    "    nb = 0\n",
    "    if len(graphs[k]) < m:\n",
    "        continue\n",
    "    for s in tqdm(graphs[k][:m]):\n",
    "        model_map = SSBModel(theta)\n",
    "        acc1 = fit_w_mle(model_map, s, num_epochs=n_epochs,  lr=5e-2)\n",
    "        acc2 = fit_M_mle(model_map, s, num_epochs=n_epochs, lr=lr)\n",
    "        acc = acc1 + acc2\n",
    "        #plt.plot(np.arange(len(acc)), acc)\n",
    "        #plt.show()\n",
    "        data[\"n_cycles\"].append(k)\n",
    "        data[\"additive_acc\"].append(max(acc1))\n",
    "        data[\"nt_acc\"].append(max(acc2))\n",
    "        L.append(max(acc2) - max(acc1))\n",
    "    print(f\"{k} - {np.array(L).mean()}\")"
   ]
  },
  {
   "cell_type": "code",
   "execution_count": null,
   "id": "36fe4255-b017-430b-b2de-dc26048e28d4",
   "metadata": {},
   "outputs": [],
   "source": []
  }
 ],
 "metadata": {
  "kernelspec": {
   "display_name": "Python 3 (ipykernel)",
   "language": "python",
   "name": "python3"
  },
  "language_info": {
   "codemirror_mode": {
    "name": "ipython",
    "version": 3
   },
   "file_extension": ".py",
   "mimetype": "text/x-python",
   "name": "python",
   "nbconvert_exporter": "python",
   "pygments_lexer": "ipython3",
   "version": "3.9.10"
  }
 },
 "nbformat": 4,
 "nbformat_minor": 5
}
