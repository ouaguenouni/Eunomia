{
 "cells": [
  {
   "cell_type": "code",
   "execution_count": 1,
   "id": "a68cba7b-7d72-4292-9c12-3e2fa755dbc6",
   "metadata": {},
   "outputs": [
    {
     "name": "stdout",
     "output_type": "stream",
     "text": [
      "Cloning into 'Eunomia'...\n",
      "remote: Enumerating objects: 462, done.\u001b[K\n",
      "remote: Counting objects: 100% (462/462), done.\u001b[K\n",
      "remote: Compressing objects: 100% (158/158), done.\u001b[K\n",
      "remote: Total 462 (delta 353), reused 407 (delta 298), pack-reused 0\u001b[K\n",
      "Receiving objects: 100% (462/462), 2.92 MiB | 2.14 MiB/s, done.\n",
      "Resolving deltas: 100% (353/353), done.\n",
      "Requirement already satisfied: torch in /home/mohamed/miniconda3/lib/python3.9/site-packages (from -r Eunomia/requirements.txt (line 1)) (1.11.0)\n",
      "Requirement already satisfied: pyro-ppl in /home/mohamed/miniconda3/lib/python3.9/site-packages (from -r Eunomia/requirements.txt (line 2)) (1.8.6)\n",
      "Requirement already satisfied: cvxpy in /home/mohamed/miniconda3/lib/python3.9/site-packages (from -r Eunomia/requirements.txt (line 3)) (1.1.18)\n",
      "Requirement already satisfied: typing_extensions in /home/mohamed/miniconda3/lib/python3.9/site-packages (from torch->-r Eunomia/requirements.txt (line 1)) (4.8.0)\n",
      "Requirement already satisfied: opt-einsum>=2.3.2 in /home/mohamed/miniconda3/lib/python3.9/site-packages (from pyro-ppl->-r Eunomia/requirements.txt (line 2)) (3.3.0)\n",
      "Requirement already satisfied: tqdm>=4.36 in /home/mohamed/miniconda3/lib/python3.9/site-packages (from pyro-ppl->-r Eunomia/requirements.txt (line 2)) (4.62.3)\n",
      "Requirement already satisfied: pyro-api>=0.1.1 in /home/mohamed/miniconda3/lib/python3.9/site-packages (from pyro-ppl->-r Eunomia/requirements.txt (line 2)) (0.1.2)\n",
      "Requirement already satisfied: numpy>=1.7 in /home/mohamed/miniconda3/lib/python3.9/site-packages (from pyro-ppl->-r Eunomia/requirements.txt (line 2)) (1.22.1)\n",
      "Requirement already satisfied: scs>=1.1.6 in /home/mohamed/miniconda3/lib/python3.9/site-packages (from cvxpy->-r Eunomia/requirements.txt (line 3)) (3.1.0)\n",
      "Requirement already satisfied: scipy>=1.1.0 in /home/mohamed/miniconda3/lib/python3.9/site-packages (from cvxpy->-r Eunomia/requirements.txt (line 3)) (1.11.3)\n",
      "Requirement already satisfied: ecos>=2 in /home/mohamed/miniconda3/lib/python3.9/site-packages (from cvxpy->-r Eunomia/requirements.txt (line 3)) (2.0.10)\n",
      "Requirement already satisfied: osqp>=0.4.1 in /home/mohamed/miniconda3/lib/python3.9/site-packages (from cvxpy->-r Eunomia/requirements.txt (line 3)) (0.6.2.post4)\n",
      "Requirement already satisfied: qdldl in /home/mohamed/miniconda3/lib/python3.9/site-packages (from osqp>=0.4.1->cvxpy->-r Eunomia/requirements.txt (line 3)) (0.1.5.post0)\n"
     ]
    }
   ],
   "source": [
    "!rm -rf Eunomia\n",
    "!git clone https://github.com/ouaguenouni/Eunomia\n",
    "!pip install -r Eunomia/requirements.txt"
   ]
  },
  {
   "cell_type": "code",
   "execution_count": null,
   "id": "21deb9cc-d3b3-4b48-aca5-10081d315481",
   "metadata": {},
   "outputs": [],
   "source": [
    "import itertools\n",
    "import random\n",
    "import networkx as nx\n",
    "import matplotlib.pyplot as plt\n",
    "import numpy as np\n",
    "import pandas as pd\n",
    "import seaborn as sns\n",
    "from Eunomia.preferences import *\n",
    "from Eunomia.additive_functions import *\n",
    "from Eunomia.alternatives import *\n",
    "from Eunomia.sampling import *\n",
    "from Eunomia.mcmc import *\n",
    "#from Eunomia.degree import *\n",
    "from Eunomia.experiments import *\n",
    "from Eunomia.ssb import * \n",
    "from Eunomia.graph_utils import * \n",
    "\n",
    "import torch\n",
    "import torch.nn as nn\n",
    "import torch.optim as optim\n",
    "from tqdm.notebook import tqdm, trange\n",
    "pyro.set_rng_seed(1)\n",
    "import itertools\n",
    "import random\n",
    "import networkx as nx\n",
    "\n",
    "def generate_directed_graph(vertices, p_edge):\n",
    "    # Create a directed graph\n",
    "    G = nx.DiGraph()\n",
    "    G.add_nodes_from(vertices)\n",
    "    # Add directed edges between these vertices with probability p_edge\n",
    "    for i in range(len(vertices)):\n",
    "        for j in range(i + 1, len(vertices)):\n",
    "            if random.random() < p_edge:\n",
    "                if random.choice([True, False]):\n",
    "                    G.add_edge(vertices[i], vertices[j])\n",
    "                else:\n",
    "                    G.add_edge(vertices[j], vertices[i])\n",
    "\n",
    "    return G\n",
    "\n",
    "# Now G is a randomly sampled directed graph\n"
   ]
  },
  {
   "cell_type": "code",
   "execution_count": null,
   "id": "1e1cd028-0b48-4db6-ad59-aaad83a344ac",
   "metadata": {},
   "outputs": [],
   "source": [
    "# Example usage\n",
    "n = 3 # Maximum number in set F\n",
    "k = 1\n",
    "p_edge = 0.5  # Probability of creating an edge\n",
    "theta = [tuple(i) for i in generate_additive_theta(n, k)]"
   ]
  },
  {
   "cell_type": "code",
   "execution_count": 53,
   "id": "6eb956ca-f827-441b-9e40-72c9ed569cee",
   "metadata": {},
   "outputs": [
    {
     "data": {
      "application/vnd.jupyter.widget-view+json": {
       "model_id": "f15681f1391440ab85b989f9a918e39d",
       "version_major": 2,
       "version_minor": 0
      },
      "text/plain": [
       "  0%|          | 0/50 [00:00<?, ?it/s]"
      ]
     },
     "metadata": {},
     "output_type": "display_data"
    }
   ],
   "source": [
    "graphs = {}\n",
    "num_graphs = 50\n",
    "cycle_counts = []\n",
    "for _ in trange(num_graphs):\n",
    "    G = generate_directed_graph(theta, p_edge=0.5)\n",
    "    circuits = list(nx.simple_cycles(G))\n",
    "    graphs[len(circuits)] = graphs.get(len(circuits), []) + [G.edges()]\n",
    "    cycle_counts.append(len(circuits))"
   ]
  },
  {
   "cell_type": "code",
   "execution_count": 54,
   "id": "66235f1e-d55e-49c2-bb79-a61313fc1f46",
   "metadata": {},
   "outputs": [
    {
     "data": {
      "image/png": "[encoded data removed]",
      "text/plain": [
       "<Figure size 432x288 with 1 Axes>"
      ]
     },
     "metadata": {
      "needs_background": "light"
     },
     "output_type": "display_data"
    }
   ],
   "source": [
    "# Plotting the histogram of cycle counts\n",
    "plt.hist(cycle_counts, bins=max(cycle_counts) - min(cycle_counts) + 1, alpha=0.7, color='blue')\n",
    "plt.title('Histogram of Non-Transitive Cycle Counts')\n",
    "plt.xlabel('Number of Non-Transitive Cycles')\n",
    "plt.ylabel('Frequency')\n",
    "plt.show()"
   ]
  },
  {
   "cell_type": "code",
   "execution_count": 55,
   "id": "c85b6b22-378f-4cb6-9e87-2ecd77c4c195",
   "metadata": {},
   "outputs": [
    {
     "data": {
      "application/vnd.jupyter.widget-view+json": {
       "model_id": "4e881e9b22b04cfd946d31c4ccb8d5a8",
       "version_major": 2,
       "version_minor": 0
      },
      "text/plain": [
       "  0%|          | 0/2 [00:00<?, ?it/s]"
      ]
     },
     "metadata": {},
     "output_type": "display_data"
    },
    {
     "data": {
      "application/vnd.jupyter.widget-view+json": {
       "model_id": "d576c670d7e14f55a7269227589617f5",
       "version_major": 2,
       "version_minor": 0
      },
      "text/plain": [
       "  0%|          | 0/48 [00:00<?, ?it/s]"
      ]
     },
     "metadata": {},
     "output_type": "display_data"
    },
    {
     "ename": "AttributeError",
     "evalue": "'int' object has no attribute 'double'",
     "output_type": "error",
     "traceback": [
      "\u001b[0;31m---------------------------------------------------------------------------\u001b[0m",
      "\u001b[0;31mAttributeError\u001b[0m                            Traceback (most recent call last)",
      "Input \u001b[0;32mIn [55]\u001b[0m, in \u001b[0;36m<module>\u001b[0;34m\u001b[0m\n\u001b[1;32m     16\u001b[0m \u001b[38;5;28;01mfor\u001b[39;00m s \u001b[38;5;129;01min\u001b[39;00m tqdm(graphs[k][:m]):\n\u001b[1;32m     17\u001b[0m     model_map \u001b[38;5;241m=\u001b[39m SSBModel(theta)\n\u001b[0;32m---> 18\u001b[0m     acc1 \u001b[38;5;241m=\u001b[39m \u001b[43mfit_w_map\u001b[49m\u001b[43m(\u001b[49m\u001b[43mmodel_map\u001b[49m\u001b[43m,\u001b[49m\u001b[43m \u001b[49m\u001b[43ms\u001b[49m\u001b[43m,\u001b[49m\u001b[43m \u001b[49m\u001b[43mnum_epochs\u001b[49m\u001b[38;5;241;43m=\u001b[39;49m\u001b[43mn_epochs\u001b[49m\u001b[43m,\u001b[49m\u001b[43m  \u001b[49m\u001b[43mlr\u001b[49m\u001b[38;5;241;43m=\u001b[39;49m\u001b[38;5;241;43m5e-2\u001b[39;49m\u001b[43m,\u001b[49m\u001b[43m \u001b[49m\u001b[43mlambda_1\u001b[49m\u001b[43m \u001b[49m\u001b[38;5;241;43m=\u001b[39;49m\u001b[43m \u001b[49m\u001b[43mlambda_1\u001b[49m\u001b[43m)\u001b[49m\n\u001b[1;32m     19\u001b[0m     acc2 \u001b[38;5;241m=\u001b[39m fit_M_map(model_map, s, num_epochs\u001b[38;5;241m=\u001b[39mn_epochs, lr\u001b[38;5;241m=\u001b[39m\u001b[38;5;241m5e-3\u001b[39m, lambda_2 \u001b[38;5;241m=\u001b[39m lambda_2)\n\u001b[1;32m     20\u001b[0m     acc \u001b[38;5;241m=\u001b[39m acc1 \u001b[38;5;241m+\u001b[39m acc2\n",
      "File \u001b[0;32m~/Projects/Eunomia_Project/Eunomia/experiments/Eunomia/ssb.py:290\u001b[0m, in \u001b[0;36mfit_w_map\u001b[0;34m(model, R, lr, num_epochs, lambda_1)\u001b[0m\n\u001b[1;32m    288\u001b[0m \u001b[38;5;28;01mfor\u001b[39;00m epoch \u001b[38;5;129;01min\u001b[39;00m \u001b[38;5;28mrange\u001b[39m(num_epochs):\n\u001b[1;32m    289\u001b[0m     optimizer\u001b[38;5;241m.\u001b[39mzero_grad()\n\u001b[0;32m--> 290\u001b[0m     likelihood \u001b[38;5;241m=\u001b[39m \u001b[43mmodel\u001b[49m\u001b[38;5;241;43m.\u001b[39;49m\u001b[43mlikelihood\u001b[49m\u001b[43m(\u001b[49m\u001b[43mR\u001b[49m\u001b[43m)\u001b[49m\u001b[38;5;241;43m.\u001b[39;49m\u001b[43mdouble\u001b[49m()\n\u001b[1;32m    291\u001b[0m     loss \u001b[38;5;241m=\u001b[39m \u001b[38;5;241m-\u001b[39mtorch\u001b[38;5;241m.\u001b[39mlog(likelihood) \u001b[38;5;241m+\u001b[39m lambda_1 \u001b[38;5;241m*\u001b[39m torch\u001b[38;5;241m.\u001b[39msum(torch\u001b[38;5;241m.\u001b[39mpow(model\u001b[38;5;241m.\u001b[39mweights, \u001b[38;5;241m2\u001b[39m))\n\u001b[1;32m    292\u001b[0m     loss\u001b[38;5;241m.\u001b[39mbackward()\n",
      "\u001b[0;31mAttributeError\u001b[0m: 'int' object has no attribute 'double'"
     ]
    }
   ],
   "source": [
    "data = {\n",
    "    \"n_cycles\":[],\n",
    "    \"additive_acc\":[],\n",
    "    \"nt_acc\":[]\n",
    "}\n",
    "n_epochs = 200\n",
    "lr=5e-1\n",
    "m = 10000\n",
    "lambda_1 = 0\n",
    "lambda_2 = 0\n",
    "for k in tqdm(sorted(graphs.keys())):\n",
    "    L = []\n",
    "    nb = 0\n",
    "    #if len(graphs[k]) < m:\n",
    "    #    continue\n",
    "    for s in tqdm(graphs[k][:m]):\n",
    "        model_map = SSBModel(theta)\n",
    "        acc1 = fit_w_map(model_map, s, num_epochs=n_epochs,  lr=5e-2, lambda_1 = lambda_1)\n",
    "        acc2 = fit_M_map(model_map, s, num_epochs=n_epochs, lr=5e-3, lambda_2 = lambda_2)\n",
    "        acc = acc1 + acc2\n",
    "\n",
    "        data[\"n_cycles\"].append(k)\n",
    "        data[\"additive_acc\"].append(max(acc1))\n",
    "        data[\"nt_acc\"].append(max(acc2))\n",
    "        L.append(max(acc2) - max(acc1))\n",
    "    print(f\"{k} - {np.array(L).mean()}\")\n",
    "    plt.plot(np.arange(len(acc)), acc)\n",
    "    plt.show()"
   ]
  },
  {
   "cell_type": "code",
   "execution_count": null,
   "id": "36fe4255-b017-430b-b2de-dc26048e28d4",
   "metadata": {},
   "outputs": [],
   "source": []
  }
 ],
 "metadata": {
  "kernelspec": {
   "display_name": "Python 3 (ipykernel)",
   "language": "python",
   "name": "python3"
  },
  "language_info": {
   "codemirror_mode": {
    "name": "ipython",
    "version": 3
   },
   "file_extension": ".py",
   "mimetype": "text/x-python",
   "name": "python",
   "nbconvert_exporter": "python",
   "pygments_lexer": "ipython3",
   "version": "3.9.10"
  }
 },
 "nbformat": 4,
 "nbformat_minor": 5
}
