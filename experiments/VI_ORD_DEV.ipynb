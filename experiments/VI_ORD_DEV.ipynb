{
 "cells": [
  {
   "cell_type": "code",
   "execution_count": 22,
   "id": "1af79d22-216c-4905-b9cb-66ce3d970ad3",
   "metadata": {},
   "outputs": [
    {
     "name": "stdout",
     "output_type": "stream",
     "text": [
      "     pcost       dcost       gap    pres   dres\n",
      " 0:  5.2800e+00 -1.9680e+01  2e+01  0e+00  9e-16\n",
      " 1:  2.8623e-01 -2.6402e+00  3e+00  5e-17  1e-15\n",
      " 2: -4.6226e-01 -8.3739e-01  4e-01  1e-17  2e-16\n",
      " 3: -4.9986e-01 -5.1705e-01  2e-02  1e-16  5e-18\n",
      " 4: -5.0000e-01 -5.0018e-01  2e-04  4e-16  8e-17\n",
      " 5: -5.0000e-01 -5.0000e-01  2e-06  7e-17  1e-16\n",
      " 6: -5.0000e-01 -5.0000e-01  2e-08  1e-16  6e-19\n",
      "Optimal solution found.\n",
      "Solution: [-0.50000001 -0.50000001]\n"
     ]
    }
   ],
   "source": [
    "from ortools.linear_solver import pywraplp\n",
    "import numpy as np\n",
    "import cvxopt\n",
    "\n",
    "def solve_linear_inequalities_maximize(A, b, c):\n",
    "    \"\"\"\n",
    "    Solves the system of linear inequalities Ax < b while maximizing c^T x \n",
    "    using Google OR-Tools.\n",
    "\n",
    "    Args:\n",
    "    A (list of list of floats): Coefficient matrix\n",
    "    b (list of floats): Right-hand side vector\n",
    "    c (list of floats): Coefficient vector for the objective function\n",
    "\n",
    "    Returns:\n",
    "    solution (list of floats): An optimal solution to maximize c^T x subject to Ax < b if one exists, otherwise None\n",
    "    \"\"\"\n",
    "    # Number of variables and constraints\n",
    "    num_vars = len(A[0])\n",
    "    num_constraints = len(b)\n",
    "\n",
    "    # Create the linear solver with the GLOP backend.\n",
    "    solver = pywraplp.Solver.CreateSolver('GLOP')\n",
    "\n",
    "    # Create variables\n",
    "    x = [solver.NumVar(-solver.infinity(), solver.infinity(), f'x{i}') for i in range(num_vars)]\n",
    "\n",
    "    # Add constraints: Ax < b\n",
    "    for i in range(num_constraints):\n",
    "        constraint = solver.RowConstraint(-solver.infinity(), b[i], '')\n",
    "        for j in range(num_vars):\n",
    "            constraint.SetCoefficient(x[j], A[i][j])\n",
    "\n",
    "    # Define the objective function: maximize c^T x\n",
    "    objective = solver.Objective()\n",
    "    for i, xi in enumerate(x):\n",
    "        objective.SetCoefficient(xi, c[i])\n",
    "    objective.SetMaximization()\n",
    "\n",
    "    # Solve the problem\n",
    "    status = solver.Solve()\n",
    "\n",
    "    if status == pywraplp.Solver.OPTIMAL:\n",
    "        # If a solution exists, return the solution\n",
    "        return [xi.solution_value() for xi in x]\n",
    "    else:\n",
    "        # If the problem has no solution\n",
    "        return None\n",
    "\n",
    "\n",
    "def solve_quadratic_program_cvxopt(Q, c, A, b):\n",
    "    \"\"\"\n",
    "    Solves a quadratic programming problem using cvxopt: \n",
    "    Minimize (1/2) x^T Q x + c^T x subject to Ax >= b.\n",
    "\n",
    "    Args:\n",
    "    Q (numpy.ndarray): Coefficient matrix for the quadratic term.\n",
    "    c (numpy.ndarray): Coefficient vector for the linear term.\n",
    "    A (numpy.ndarray): Coefficient matrix for the constraints.\n",
    "    b (numpy.ndarray): Right-hand side vector for the constraints.\n",
    "\n",
    "    Returns:\n",
    "    numpy.ndarray: Optimal solution vector x, if a solution exists. None otherwise.\n",
    "    \"\"\"\n",
    "    Q = cvxopt.matrix(Q, tc='d')\n",
    "    c = cvxopt.matrix(c, (len(c), 1), tc='d')  # Reshape c as a column matrix\n",
    "    A = cvxopt.matrix(A, tc='d')\n",
    "    b = cvxopt.matrix(b, tc='d')\n",
    "\n",
    "    # Convert A and b to fit cvxopt format (Gx <= h)\n",
    "    # Since our constraints are Ax >= b, we use G = -A and h = -b\n",
    "    G = -A\n",
    "    h = -b\n",
    "\n",
    "    # Solve the quadratic programming problem\n",
    "    sol = cvxopt.solvers.qp(Q, c, G, h)\n",
    "\n",
    "    if 'optimal' not in sol['status']:\n",
    "        return None\n",
    "    return np.array(sol['x']).flatten()\n",
    "\n",
    "# Example usage\n",
    "Q = np.array([[2, 0], [0, 2]])\n",
    "c = np.array([1, 1])\n",
    "A = np.array([[1, 1], [-1, 0], [0, -1]])\n",
    "b = np.array([-10, 0, 0])  # Adjusted to represent x1 + x2 >= 10 and x1, x2 >= 0\n",
    "\n",
    "solution = solve_quadratic_program_cvxopt(Q, c, A, b)\n",
    "print(\"Solution:\", solution)\n",
    "\n"
   ]
  },
  {
   "cell_type": "code",
   "execution_count": 19,
   "id": "6c869562-eba3-46be-b552-ede962a50f2a",
   "metadata": {},
   "outputs": [
    {
     "name": "stdout",
     "output_type": "stream",
     "text": [
      "Found existing installation: cvxpy 1.1.18\n",
      "Uninstalling cvxpy-1.1.18:\n",
      "  Would remove:\n",
      "    /home/mohamed/miniconda3/lib/python3.9/site-packages/_cvxcore.cpython-39-x86_64-linux-gnu.so\n",
      "    /home/mohamed/miniconda3/lib/python3.9/site-packages/cvxpy-1.1.18.dist-info/*\n",
      "    /home/mohamed/miniconda3/lib/python3.9/site-packages/cvxpy/*\n",
      "Proceed (Y/n)? ^C\n",
      "\u001b[31mERROR: Operation cancelled by user\u001b[0m\u001b[31m\n",
      "\u001b[0m"
     ]
    }
   ],
   "source": [
    "!pip uninstall cvxpy"
   ]
  },
  {
   "cell_type": "code",
   "execution_count": 15,
   "id": "7e272111-4463-4a9f-9d5b-65a93e6cfc80",
   "metadata": {},
   "outputs": [
    {
     "name": "stdout",
     "output_type": "stream",
     "text": [
      "Solution: [9.333333333333332, 2.333333333333334]\n"
     ]
    }
   ],
   "source": [
    "A = [[1, 2], [3,3]]\n",
    "b = [14, 35]\n",
    "c = [3, 4]\n",
    "\n",
    "solution = solve_linear_inequalities_maximize(A, b, c)\n",
    "print(\"Solution:\", solution)\n"
   ]
  },
  {
   "cell_type": "code",
   "execution_count": null,
   "id": "a63ac7c0-658a-43c8-883b-08b437b2eebf",
   "metadata": {},
   "outputs": [],
   "source": []
  }
 ],
 "metadata": {
  "kernelspec": {
   "display_name": "Python 3 (ipykernel)",
   "language": "python",
   "name": "python3"
  },
  "language_info": {
   "codemirror_mode": {
    "name": "ipython",
    "version": 3
   },
   "file_extension": ".py",
   "mimetype": "text/x-python",
   "name": "python",
   "nbconvert_exporter": "python",
   "pygments_lexer": "ipython3",
   "version": "3.9.10"
  }
 },
 "nbformat": 4,
 "nbformat_minor": 5
}
