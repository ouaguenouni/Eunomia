{
 "cells": [
  {
   "cell_type": "code",
   "execution_count": 1,
   "id": "8a6af536-3088-44e0-9d01-2315b5f43ace",
   "metadata": {},
   "outputs": [
    {
     "name": "stdout",
     "output_type": "stream",
     "text": [
      "Cloning into 'Eunomia'...\n",
      "remote: Enumerating objects: 491, done.\u001b[K\n",
      "remote: Counting objects: 100% (491/491), done.\u001b[K\n",
      "remote: Compressing objects: 100% (183/183), done.\u001b[K\n",
      "remote: Total 491 (delta 369), reused 424 (delta 302), pack-reused 0\u001b[K\n",
      "Receiving objects: 100% (491/491), 3.21 MiB | 2.16 MiB/s, done.\n",
      "Resolving deltas: 100% (369/369), done.\n"
     ]
    }
   ],
   "source": [
    "!rm -rf Eunomia\n",
    "!git clone https://github.com/ouaguenouni/Eunomia"
   ]
  },
  {
   "cell_type": "code",
   "execution_count": 2,
   "id": "cc7325c4-4d58-47c8-8fb7-3faefd0525a1",
   "metadata": {},
   "outputs": [
    {
     "name": "stdout",
     "output_type": "stream",
     "text": [
      "Requirement already satisfied: torch in /home/mohamed/miniconda3/lib/python3.9/site-packages (from -r Eunomia/requirements.txt (line 1)) (1.11.0)\n",
      "Requirement already satisfied: pyro-ppl in /home/mohamed/miniconda3/lib/python3.9/site-packages (from -r Eunomia/requirements.txt (line 2)) (1.8.6)\n",
      "Requirement already satisfied: cvxpy in /home/mohamed/miniconda3/lib/python3.9/site-packages (from -r Eunomia/requirements.txt (line 3)) (1.1.18)\n",
      "Requirement already satisfied: typing_extensions in /home/mohamed/miniconda3/lib/python3.9/site-packages (from torch->-r Eunomia/requirements.txt (line 1)) (4.8.0)\n",
      "Requirement already satisfied: opt-einsum>=2.3.2 in /home/mohamed/miniconda3/lib/python3.9/site-packages (from pyro-ppl->-r Eunomia/requirements.txt (line 2)) (3.3.0)\n",
      "Requirement already satisfied: pyro-api>=0.1.1 in /home/mohamed/miniconda3/lib/python3.9/site-packages (from pyro-ppl->-r Eunomia/requirements.txt (line 2)) (0.1.2)\n",
      "Requirement already satisfied: numpy>=1.7 in /home/mohamed/miniconda3/lib/python3.9/site-packages (from pyro-ppl->-r Eunomia/requirements.txt (line 2)) (1.22.1)\n",
      "Requirement already satisfied: tqdm>=4.36 in /home/mohamed/miniconda3/lib/python3.9/site-packages (from pyro-ppl->-r Eunomia/requirements.txt (line 2)) (4.62.3)\n",
      "Requirement already satisfied: osqp>=0.4.1 in /home/mohamed/miniconda3/lib/python3.9/site-packages (from cvxpy->-r Eunomia/requirements.txt (line 3)) (0.6.2.post4)\n",
      "Requirement already satisfied: scipy>=1.1.0 in /home/mohamed/miniconda3/lib/python3.9/site-packages (from cvxpy->-r Eunomia/requirements.txt (line 3)) (1.11.3)\n",
      "Requirement already satisfied: scs>=1.1.6 in /home/mohamed/miniconda3/lib/python3.9/site-packages (from cvxpy->-r Eunomia/requirements.txt (line 3)) (3.1.0)\n",
      "Requirement already satisfied: ecos>=2 in /home/mohamed/miniconda3/lib/python3.9/site-packages (from cvxpy->-r Eunomia/requirements.txt (line 3)) (2.0.10)\n",
      "Requirement already satisfied: qdldl in /home/mohamed/miniconda3/lib/python3.9/site-packages (from osqp>=0.4.1->cvxpy->-r Eunomia/requirements.txt (line 3)) (0.1.5.post0)\n"
     ]
    }
   ],
   "source": [
    "!pip install -r Eunomia/requirements.txt"
   ]
  },
  {
   "cell_type": "code",
   "execution_count": 3,
   "id": "99519006-7208-40e1-a3a3-1e6a352c7867",
   "metadata": {},
   "outputs": [],
   "source": [
    "import matplotlib.pyplot as plt\n",
    "import numpy as np\n",
    "import pandas as pd\n",
    "import seaborn as sns\n",
    "from Eunomia.preferences import *\n",
    "from Eunomia.additive_functions import *\n",
    "from Eunomia.alternatives import *\n",
    "from Eunomia.sampling import *\n",
    "from Eunomia.mcmc import *\n",
    "from Eunomia.degree import *\n",
    "from Eunomia.experiments import *\n",
    "pyro.set_rng_seed(1)"
   ]
  },
  {
   "cell_type": "code",
   "execution_count": 4,
   "id": "29787227-50e8-4121-a4ce-e2bf3d8f7e17",
   "metadata": {},
   "outputs": [],
   "source": [
    "alt_df = pd.read_csv(\"Eunomia/data/alternatives0.csv\")\n",
    "alternatives = alt_df.values\n",
    "r_df = pd.read_csv(\"Eunomia/data/rank0.csv\")\n",
    "ranks = r_df.columns.values"
   ]
  },
  {
   "cell_type": "code",
   "execution_count": 5,
   "id": "6402a90a-05ba-4053-8947-ee26a2a83520",
   "metadata": {},
   "outputs": [
    {
     "data": {
      "text/plain": [
       "tensor([[ 0.,  0.,  0.,  0.,  1., -1., -1.,  0.,  0.,  1.,  0.,  0.,  0.,  0.,\n",
       "          0.,  0.,  0.,  0.,  0.,  0.,  0.,  0.,  0.,  0.,  0.,  0.,  0.,  0.,\n",
       "          0.,  0.,  0.,  0.,  0.,  0.,  0.,  0.,  0.,  0.,  0.,  0.,  0.,  0.,\n",
       "          0.,  0.,  1., -1.,  0.,  0.,  0.,  0.,  0.,  0.,  0.,  0.,  0.],\n",
       "        [ 1.,  1.,  0.,  0.,  0., -1., -1.,  0.,  0.,  0.,  1.,  0.,  0.,  0.,\n",
       "          0.,  0.,  0.,  0.,  0.,  0.,  0.,  0.,  0.,  0.,  0.,  0.,  0.,  0.,\n",
       "          0.,  0.,  0.,  0.,  0.,  0.,  0.,  0.,  0.,  0.,  0.,  0.,  0.,  0.,\n",
       "          0.,  0.,  0., -1.,  0.,  0.,  0.,  0.,  0.,  0.,  0.,  0.,  0.]])"
      ]
     },
     "execution_count": 5,
     "metadata": {},
     "output_type": "execute_result"
    }
   ],
   "source": [
    "n = alternatives.shape[0]\n",
    "theta = generate_additive_theta(alternatives.shape[0],2)\n",
    "preferences = PreferenceModel(alternatives, ranks)\n",
    "data = preferences.generate_preference_matrix(theta)\n",
    "data = torch.tensor(data).float()\n",
    "data[0:2]"
   ]
  },
  {
   "cell_type": "code",
   "execution_count": 7,
   "id": "756a5b36-a218-4696-a317-44de52020372",
   "metadata": {},
   "outputs": [
    {
     "name": "stderr",
     "output_type": "stream",
     "text": [
      "Sample: 100%|████████████████████████████████| 60/60 [00:01, 42.75it/s, step size=4.43e-02, acc. prob=0.149]\n"
     ]
    }
   ],
   "source": [
    "model = posterior_sampling_model(data, sigma_w = 1e-1, sigma_p = 10)\n",
    "weights, sigmas = sample_model(model, data , \"w\", \"sigma\", warmup_steps = 10, num_samples = 50)"
   ]
  },
  {
   "cell_type": "code",
   "execution_count": 8,
   "id": "fe910dc7-92ac-4539-bbcc-3337edf3f4cb",
   "metadata": {},
   "outputs": [],
   "source": [
    "sv = compute_semivalues(n, theta, weights.numpy().mean(axis = 0), lambda x:1)"
   ]
  },
  {
   "cell_type": "code",
   "execution_count": 9,
   "id": "d72df538-cdc2-46a0-bb2e-d5409869e1f4",
   "metadata": {},
   "outputs": [
    {
     "data": {
      "text/plain": [
       "array([9, 6, 2, 7, 8, 3, 0, 4, 5, 1])"
      ]
     },
     "execution_count": 9,
     "metadata": {},
     "output_type": "execute_result"
    }
   ],
   "source": [
    "sv.argsort()"
   ]
  },
  {
   "cell_type": "code",
   "execution_count": 10,
   "id": "fb013be8-5183-47ca-b975-df4bd2795ad8",
   "metadata": {},
   "outputs": [
    {
     "data": {
      "text/plain": [
       "(array([ 8.,  1.,  0.,  3.,  0., 10., 13.,  0.,  6.,  9.]),\n",
       " array([0.84444445, 0.8577778 , 0.8711111 , 0.8844445 , 0.8977778 ,\n",
       "        0.9111111 , 0.92444444, 0.93777776, 0.95111114, 0.96444446,\n",
       "        0.9777778 ], dtype=float32),\n",
       " <BarContainer object of 10 artists>)"
      ]
     },
     "execution_count": 10,
     "metadata": {},
     "output_type": "execute_result"
    },
    {
     "data": {
      "image/png": "[encoded data removed]",
      "text/plain": [
       "<Figure size 432x288 with 1 Axes>"
      ]
     },
     "metadata": {
      "needs_background": "light"
     },
     "output_type": "display_data"
    }
   ],
   "source": [
    "accs2 = get_acc_distribution(data, weights, sigmas)\n",
    "plt.hist(accs2)"
   ]
  },
  {
   "cell_type": "code",
   "execution_count": null,
   "id": "50ee8ae9-664b-4ae4-b942-62b0d559249f",
   "metadata": {},
   "outputs": [],
   "source": []
  }
 ],
 "metadata": {
  "kernelspec": {
   "display_name": "Python 3 (ipykernel)",
   "language": "python",
   "name": "python3"
  },
  "language_info": {
   "codemirror_mode": {
    "name": "ipython",
    "version": 3
   },
   "file_extension": ".py",
   "mimetype": "text/x-python",
   "name": "python",
   "nbconvert_exporter": "python",
   "pygments_lexer": "ipython3",
   "version": "3.9.10"
  }
 },
 "nbformat": 4,
 "nbformat_minor": 5
}
