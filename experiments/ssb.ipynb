{
 "cells": [
  {
   "cell_type": "code",
   "execution_count": 4,
   "id": "d5b5c9b0-95c4-455f-aa72-212075fa883b",
   "metadata": {},
   "outputs": [],
   "source": [
    "import matplotlib.pyplot as plt\n",
    "import numpy as np\n",
    "import pandas as pd\n",
    "import seaborn as sns\n",
    "from Eunomia.preferences import *\n",
    "from Eunomia.additive_functions import *\n",
    "from Eunomia.alternatives import *\n",
    "from Eunomia.sampling import *\n",
    "from Eunomia.mcmc import *\n",
    "from Eunomia.degree import *\n",
    "from Eunomia.experiments import *\n",
    "import torch\n",
    "import torch.nn as nn\n",
    "pyro.set_rng_seed(1)"
   ]
  },
  {
   "cell_type": "code",
   "execution_count": 5,
   "id": "7f4e15b3-ac16-41f5-a23e-c3f86f8b622a",
   "metadata": {},
   "outputs": [],
   "source": [
    "class PhiFunction(nn.Module):\n",
    "    def __init__(self, num_attributes):\n",
    "        super(PhiFunction, self).__init__()\n",
    "        # Initialize phi values as a learnable parameter\n",
    "        self.phi_values = nn.Parameter(torch.randn(num_attributes, num_attributes, 2, 2))\n",
    "\n",
    "    def forward(self, X, Y):\n",
    "        phi_sum = 0\n",
    "        for A in range(X.shape[0]):\n",
    "            for B in range(Y.shape[0]):\n",
    "                phi_sum += self.phi_values[A, B, X[A].item(), Y[B].item()]\n",
    "        return phi_sum"
   ]
  },
  {
   "cell_type": "code",
   "execution_count": 3,
   "id": "a44a9c8c-e5e3-4614-9ab2-bf74e41474ab",
   "metadata": {},
   "outputs": [],
   "source": [
    "class BinaryModel(nn.Module):\n",
    "    def __init__(self, num_attributes):\n",
    "        super(BinaryModel, self).__init__()\n",
    "        self.weights = nn.Parameter(torch.randn(num_attributes))\n",
    "        self.phi_function = PhiFunction(num_attributes)\n",
    "\n",
    "    def forward(self, X, Y):\n",
    "        weighted_sum = torch.sum(self.weights * (X - Y))\n",
    "        phi_sum = self.phi_function(X, Y)\n",
    "        return weighted_sum + phi_sum\n"
   ]
  },
  {
   "cell_type": "code",
   "execution_count": null,
   "id": "3e142773-948b-4e47-b35e-01cfac64c7cb",
   "metadata": {},
   "outputs": [],
   "source": []
  }
 ],
 "metadata": {
  "kernelspec": {
   "display_name": "Python 3 (ipykernel)",
   "language": "python",
   "name": "python3"
  },
  "language_info": {
   "codemirror_mode": {
    "name": "ipython",
    "version": 3
   },
   "file_extension": ".py",
   "mimetype": "text/x-python",
   "name": "python",
   "nbconvert_exporter": "python",
   "pygments_lexer": "ipython3",
   "version": "3.9.10"
  }
 },
 "nbformat": 4,
 "nbformat_minor": 5
}
