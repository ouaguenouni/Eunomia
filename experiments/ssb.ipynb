{
 "cells": [
  {
   "cell_type": "code",
   "execution_count": null,
   "id": "d5b5c9b0-95c4-455f-aa72-212075fa883b",
   "metadata": {},
   "outputs": [],
   "source": [
    "!rm -rf Eunomia\n",
    "!git clone https://github.com/ouaguenouni/Eunomia\n",
    "!pip install -r Eunomia/requirements.txt"
   ]
  },
  {
   "cell_type": "code",
   "execution_count": 311,
   "id": "17c60ebe-3820-4a82-863c-0edcd169980b",
   "metadata": {},
   "outputs": [],
   "source": [
    "import matplotlib.pyplot as plt\n",
    "import numpy as np\n",
    "import pandas as pd\n",
    "import seaborn as sns\n",
    "from Eunomia.preferences import *\n",
    "from Eunomia.additive_functions import *\n",
    "from Eunomia.alternatives import *\n",
    "from Eunomia.sampling import *\n",
    "from Eunomia.mcmc import *\n",
    "#from Eunomia.degree import *\n",
    "from Eunomia.experiments import *\n",
    "import torch\n",
    "import torch.nn as nn\n",
    "from tqdm.notebook import tqdm, trange\n",
    "pyro.set_rng_seed(1)"
   ]
  },
  {
   "cell_type": "code",
   "execution_count": null,
   "id": "2151246f-6f77-4e7a-81c2-e178d3d86db9",
   "metadata": {},
   "outputs": [],
   "source": []
  },
  {
   "cell_type": "code",
   "execution_count": 157,
   "id": "7f4e15b3-ac16-41f5-a23e-c3f86f8b622a",
   "metadata": {},
   "outputs": [],
   "source": [
    "class PhiFunction(nn.Module):\n",
    "    \"\"\"\n",
    "    A PyTorch module to implement the Phi function for the Symmetric Skew Bilinear (SSB) model.\n",
    "\n",
    "    This module calculates the interaction utility between pairs of attributes in alternatives X and Y,\n",
    "    based on the formula:\n",
    "    \n",
    "    f(X, Y) = [ \\sum_{A \\in \\theta} w_A*I_X(A) - w_B*I_Y(B) ] + \\sum_{A \\in \\theta} \\sum_{B \\in \\theta} M[A, B, I_X(A), I_Y(B)]\n",
    "    \n",
    "    where M[A, B, I_X(A), I_Y(B)] is the utility of having A in X and B in Y based on their presence (1) or absence (0).\n",
    "\n",
    "    Attributes:\n",
    "        theta (list): A list of attributes or interactions considered by the model.\n",
    "        phi_values (dict): A dictionary to store the parameters for each unique pair of attributes and their presence/absence states.\n",
    "\n",
    "    Methods:\n",
    "        forward(sparse_X, sparse_Y): Computes the sum of interaction utilities for given alternatives X and Y.\n",
    "        logprior(): Returns the sum of the absolute values of the phi parameters, used for regularization.\n",
    "    \"\"\"\n",
    "\n",
    "    def __init__(self, theta):\n",
    "        \"\"\"\n",
    "        Initializes the PhiFunction module.\n",
    "\n",
    "        Parameters:\n",
    "            theta (list): A list of attributes or interactions considered by the model.\n",
    "        \"\"\"\n",
    "        super(PhiFunction, self).__init__()\n",
    "        n = len(theta)\n",
    "        self.theta = theta\n",
    "        self.phi_values = {}\n",
    "\n",
    "        # Iterate over all pairs of attributes in theta to initialize parameters\n",
    "        for i_A in range(n):\n",
    "            A = theta[i_A]\n",
    "            for i_B in range(i_A + 1, n):\n",
    "                B = theta[i_B]\n",
    "                # Initialize parameters for each state combination\n",
    "                for X in [0, 1]:\n",
    "                    for Y in [0, 1]:\n",
    "                        self.phi_values[(tuple(A), tuple(B), X, Y)] = nn.Parameter(torch.randn(1))\n",
    "\n",
    "    def forward(self, sparse_X, sparse_Y):\n",
    "        \"\"\"\n",
    "        Computes the sum of phi values for given sparse representations of alternatives X and Y.\n",
    "\n",
    "        Parameters:\n",
    "            sparse_X (list): A sparse representation of alternative X.\n",
    "            sparse_Y (list): A sparse representation of alternative Y.\n",
    "\n",
    "        Returns:\n",
    "            float: The sum of interaction utilities for X and Y, computed as:\n",
    "            \n",
    "            \\sum_{A \\in \\theta} \\sum_{B \\in \\theta} M[A, B, I_X(A), I_Y(B)]\n",
    "            \n",
    "            where M[A, B, I_X(A), I_Y(B)] represents the utility parameter for the presence/absence states of A in X and B in Y.\n",
    "        \"\"\"\n",
    "        phi_sum = 0\n",
    "        for i_A in range(len(self.theta)):\n",
    "            A = self.theta[i_A]\n",
    "            for i_B in range(i_A + 1, len(self.theta)):\n",
    "                B = self.theta[i_B]\n",
    "                v = self.phi_values[(tuple(A), tuple(B),\n",
    "                                     int(all(i in sparse_X for i in A)),\n",
    "                                     int(all(i in sparse_Y for i in B)))]\n",
    "                phi_sum += v\n",
    "        return phi_sum[0]\n",
    "\n",
    "    def logprior(self):\n",
    "        \"\"\"\n",
    "        Computes a regularization term as the sum of the absolute values of the phi parameters.\n",
    "\n",
    "        Returns:\n",
    "            float: The regularization term, computed as:\n",
    "            \n",
    "            \\sum_{k} |M_k|\n",
    "            \n",
    "            where M_k represents each utility parameter in the model.\n",
    "        \"\"\"\n",
    "        phis = [torch.abs(self.phi_values[k]) for k in self.phi_values]\n",
    "        return sum(phis)"
   ]
  },
  {
   "cell_type": "code",
   "execution_count": 158,
   "id": "a44a9c8c-e5e3-4614-9ab2-bf74e41474ab",
   "metadata": {},
   "outputs": [],
   "source": [
    "class SSBModel(nn.Module):\n",
    "    def __init__(self, theta):\n",
    "        super(SSBModel, self).__init__()\n",
    "        self.theta = theta\n",
    "        self.weights = nn.Parameter(torch.randn(len(theta)))\n",
    "        self.phi_function = PhiFunction(theta)\n",
    "        \n",
    "    def logprior(self, lambda_1, lambda_2):\n",
    "        return lambda_1*torch.sum(torch.pow(self.weights, torch.tensor(2))) + lambda_2*self.phi_function.logprior()\n",
    "    \n",
    "    def toggleNT(self):\n",
    "        return self.phi_function.toggle()\n",
    "    \n",
    "    def likelihood(self, R):\n",
    "        l = 0\n",
    "        for sparse_X,sparse_Y in R:\n",
    "            f = self.forward(sparse_X, sparse_Y)\n",
    "            l += torch.sigmoid(f)\n",
    "        return l\n",
    "\n",
    "    def forward(self, sparse_X, sparse_Y):\n",
    "        f = 0\n",
    "        for S in self.theta:\n",
    "            if all(i in sparse_X for i in S):\n",
    "                f += self.weights[self.theta.index(S)]\n",
    "            if all(i in sparse_Y for i in S):\n",
    "                f -= self.weights[self.theta.index(S)]\n",
    "        f += self.phi_function(sparse_X, sparse_X)\n",
    "        return f\n",
    "    \n",
    "    def accuracy(self, s):\n",
    "        L = []\n",
    "        for x,y in s:\n",
    "            f = self(x,y)\n",
    "            #print(f\"{x}>{y} : {f}\")\n",
    "            if f > 0:\n",
    "                L.append(1)\n",
    "            else:\n",
    "                L.append(0)\n",
    "        return np.array(L).mean()\n",
    "    \n",
    "    def display_model(self):\n",
    "        for i in range(self.weights.shape[0]):\n",
    "            print(f\"w[{i}] = {self.weights[i]}\")\n",
    "        for i,j,A,B in self.phi_function.phi_values: \n",
    "            print(f\"C[{i}, {j}, {A}, {B}] = {self.phi_function.phi_values[i,j,A,B].item()}\", end = \" \\n\")"
   ]
  },
  {
   "cell_type": "code",
   "execution_count": 262,
   "id": "d9601c55-38c0-4547-994e-df12fbb3fa58",
   "metadata": {},
   "outputs": [
    {
     "name": "stdout",
     "output_type": "stream",
     "text": [
      "[{0}, {1}, {2}, {3}, {4}]\n"
     ]
    },
    {
     "data": {
      "image/png": "[encoded data removed]",
      "text/plain": [
       "<Figure size 432x288 with 1 Axes>"
      ]
     },
     "metadata": {
      "needs_background": "light"
     },
     "output_type": "display_data"
    }
   ],
   "source": [
    "import random\n",
    "import matplotlib.pyplot as plt\n",
    "\n",
    "# Function to create a random directed graph\n",
    "def create_random_directed_graph(vertices, edge_probability=0.5):\n",
    "    edges = set()\n",
    "    for i in range(len(vertices)):\n",
    "        for j in range(len(vertices)):\n",
    "            if i != j and random.random() < edge_probability:\n",
    "                edges.add((vertices[i], vertices[j]))\n",
    "    return edges\n",
    "\n",
    "# DFS function for cycle detection\n",
    "def dfs_cycle(vertex, graph, start_vertex, path, visited, cycles):\n",
    "    if vertex == start_vertex and len(path) > 1:\n",
    "        cycles.add(tuple(path))\n",
    "        return\n",
    "\n",
    "    if vertex in visited:\n",
    "        return\n",
    "\n",
    "    visited.add(vertex)\n",
    "    path.append(vertex)\n",
    "\n",
    "    for _, neighbor in filter(lambda edge: edge[0] == vertex, graph):\n",
    "        dfs_cycle(neighbor, graph, start_vertex, path.copy(), visited.copy(), cycles)\n",
    "\n",
    "# Function to detect and break cycles\n",
    "def break_cycles(graph):\n",
    "    cycles = set()\n",
    "    for vertex, _ in graph:\n",
    "        dfs_cycle(vertex, graph, vertex, [], set(), cycles)\n",
    "\n",
    "    if not cycles:\n",
    "        return 0\n",
    "\n",
    "    # Remove a random edge from one of the detected cycles\n",
    "    cycle = random.choice(list(cycles))\n",
    "    cycle_edges = [(cycle[i], cycle[i + 1]) for i in range(len(cycle) - 1)]\n",
    "    random_edge = random.choice(cycle_edges)\n",
    "    graph.remove(random_edge)\n",
    "\n",
    "    # Recursive call\n",
    "    return 1 + break_cycles(graph)\n",
    "\n",
    "# Loop to sample graphs and count the number of cycles broken\n",
    "n = 5\n",
    "k = 1\n",
    "cycle_counts = []\n",
    "num_graphs = 1000\n",
    "\n",
    "theta = generate_additive_theta(n, 1)\n",
    "\n",
    "vertices = theta # Example vertices\n",
    "print(theta)\n",
    "graphs = {}\n",
    "for _ in range(num_graphs):\n",
    "    graph = create_random_directed_graph([tuple(i) for i in theta], edge_probability = 0.6)\n",
    "    g2 = list(graph)\n",
    "    count = break_cycles(graph)\n",
    "    graphs[count] = g2\n",
    "    cycle_counts.append(count)\n",
    "\n",
    "# Plotting the histogram of cycle counts\n",
    "plt.hist(cycle_counts, bins=max(cycle_counts) - min(cycle_counts) + 1, alpha=0.7, color='blue')\n",
    "plt.title('Histogram of Non-Transitive Cycle Counts')\n",
    "plt.xlabel('Number of Non-Transitive Cycles Broken')\n",
    "plt.ylabel('Frequency')\n",
    "plt.show()\n",
    "\n"
   ]
  },
  {
   "cell_type": "code",
   "execution_count": 264,
   "id": "6d60bca1-7f08-494f-8b2e-a0fda99fdc9b",
   "metadata": {},
   "outputs": [
    {
     "name": "stdout",
     "output_type": "stream",
     "text": [
      "6\n",
      "5\n",
      "4\n",
      "10\n",
      "3\n",
      "9\n",
      "2\n",
      "8\n",
      "7\n",
      "1\n",
      "11\n",
      "12\n",
      "0\n"
     ]
    }
   ],
   "source": [
    "for k in graphs:\n",
    "    print(f\"{k}\")"
   ]
  },
  {
   "cell_type": "code",
   "execution_count": 112,
   "id": "3e142773-948b-4e47-b35e-01cfac64c7cb",
   "metadata": {},
   "outputs": [
    {
     "name": "stdout",
     "output_type": "stream",
     "text": [
      "{((), (0, 2)), ((0, 1), (0, 2)), ((), (0, 1)), ((1,), (0, 2)), ((), (1,)), ((1,), (0, 1))}\n"
     ]
    }
   ],
   "source": [
    "n = 3\n",
    "m = 2**(n-1)\n",
    "k = 1\n",
    "sigma_weights = 10\n",
    "\n",
    "theta = generate_additive_theta(n, k)\n",
    "weights = generate_normal_weights(theta, sigma_weights)\n",
    "alternatives = generate_random_alternatives_matrix(m, n)\n",
    "ranks = compute_ws_ranks(alternatives, theta, weights)\n",
    "t_sv = compute_semivalues(n, theta, weights, lambda x:1)\n",
    "preferences = PreferenceModel(alternatives, ranks)\n",
    "s = preferences.generate_sparse_preference_set()\n",
    "print(s)"
   ]
  },
  {
   "cell_type": "code",
   "execution_count": 304,
   "id": "7ea2a241-b719-4bcc-b9d7-e6cc68229842",
   "metadata": {},
   "outputs": [],
   "source": [
    "import torch.optim as optim\n",
    "\n",
    "\n",
    "\n",
    "def fit_model(model, theta, s, lamdba_1 = 0, lambda_2 = 0, lr=0.05, num_epochs = 200):\n",
    "    optimizer = optim.Adam([model.weights], lr=lr)\n",
    "    losses1 = []\n",
    "    losses1.append(model.accuracy(s))\n",
    "    # Training loop\n",
    "    for epoch in range(num_epochs):\n",
    "        total_loss = 0\n",
    "        optimizer.zero_grad()\n",
    "        # Compute likelihood and prior\n",
    "        likelihood = model.loglikelihood(s)\n",
    "        # Loss is negative log-likelihood minus log-prior (for maximizing posterior)\n",
    "        loss = -torch.log(likelihood) + model.logprior(lambda_1, lambda_2)\n",
    "        # Backpropagation\n",
    "        loss.backward()\n",
    "        optimizer.step()\n",
    "        total_loss += loss.item()\n",
    "        losses1.append(model.accuracy(s))\n",
    "        #print(f\"Epoch {epoch+1}/{num_epochs}, Loss: {total_loss}\")\n",
    "    #model.display_model()\n",
    "    phi_params = [model.phi_function.phi_values[k] for k in model.phi_function.phi_values]\n",
    "    optimizer = optim.Adam(phi_params, lr=lr)\n",
    "    losses2 = []\n",
    "    for epoch in range(num_epochs):\n",
    "        total_loss = 0\n",
    "        optimizer.zero_grad()\n",
    "        # Compute likelihood and prior\n",
    "        likelihood = model.loglikelihood(s)\n",
    "        # Loss is negative log-likelihood minus log-prior (for maximizing posterior)\n",
    "        loss = -torch.log(likelihood) + model.logprior(lambda_1, lambda_2)\n",
    "        # Backpropagation\n",
    "        loss.backward()\n",
    "        optimizer.step()\n",
    "        total_loss += loss.item()\n",
    "        losses2.append(model.accuracy(s))\n",
    "        #print(f\"Epoch {epoch+1}/{num_epochs}, Loss: {total_loss}\")\n",
    "    return losses1, losses2"
   ]
  },
  {
   "cell_type": "code",
   "execution_count": 306,
   "id": "6f3b4dee-11cd-4879-a533-eff124530599",
   "metadata": {},
   "outputs": [],
   "source": [
    "model = SSBModel(theta)"
   ]
  },
  {
   "cell_type": "code",
   "execution_count": 310,
   "id": "71a1caac-da96-40ae-af32-f0464f6d28e8",
   "metadata": {},
   "outputs": [
    {
     "name": "stdout",
     "output_type": "stream",
     "text": [
      "6: 0.75, 1.0\n"
     ]
    },
    {
     "data": {
      "image/png": "[encoded data removed]",
      "text/plain": [
       "<Figure size 432x288 with 1 Axes>"
      ]
     },
     "metadata": {
      "needs_background": "light"
     },
     "output_type": "display_data"
    },
    {
     "name": "stdout",
     "output_type": "stream",
     "text": [
      "5: 0.6666666666666666, 1.0\n"
     ]
    },
    {
     "data": {
      "image/png": "[encoded data removed]",
      "text/plain": [
       "<Figure size 432x288 with 1 Axes>"
      ]
     },
     "metadata": {
      "needs_background": "light"
     },
     "output_type": "display_data"
    },
    {
     "name": "stdout",
     "output_type": "stream",
     "text": [
      "4: 0.6666666666666666, 1.0\n"
     ]
    },
    {
     "data": {
      "image/png": "[encoded data removed]",
      "text/plain": [
       "<Figure size 432x288 with 1 Axes>"
      ]
     },
     "metadata": {
      "needs_background": "light"
     },
     "output_type": "display_data"
    },
    {
     "name": "stdout",
     "output_type": "stream",
     "text": [
      "10: 0.5294117647058824, 1.0\n"
     ]
    },
    {
     "data": {
      "image/png": "[encoded data removed]",
      "text/plain": [
       "<Figure size 432x288 with 1 Axes>"
      ]
     },
     "metadata": {
      "needs_background": "light"
     },
     "output_type": "display_data"
    },
    {
     "name": "stdout",
     "output_type": "stream",
     "text": [
      "3: 0.7, 1.0\n"
     ]
    },
    {
     "data": {
      "image/png": "[encoded data removed]",
      "text/plain": [
       "<Figure size 432x288 with 1 Axes>"
      ]
     },
     "metadata": {
      "needs_background": "light"
     },
     "output_type": "display_data"
    },
    {
     "name": "stdout",
     "output_type": "stream",
     "text": [
      "9: 0.625, 1.0\n"
     ]
    },
    {
     "data": {
      "image/png": "[encoded data removed]",
      "text/plain": [
       "<Figure size 432x288 with 1 Axes>"
      ]
     },
     "metadata": {
      "needs_background": "light"
     },
     "output_type": "display_data"
    },
    {
     "name": "stdout",
     "output_type": "stream",
     "text": [
      "2: 0.7777777777777778, 1.0\n"
     ]
    },
    {
     "data": {
      "image/png": "[encoded data removed]",
      "text/plain": [
       "<Figure size 432x288 with 1 Axes>"
      ]
     },
     "metadata": {
      "needs_background": "light"
     },
     "output_type": "display_data"
    },
    {
     "name": "stdout",
     "output_type": "stream",
     "text": [
      "8: 0.6428571428571429, 1.0\n"
     ]
    },
    {
     "data": {
      "image/png": "[encoded data removed]",
      "text/plain": [
       "<Figure size 432x288 with 1 Axes>"
      ]
     },
     "metadata": {
      "needs_background": "light"
     },
     "output_type": "display_data"
    },
    {
     "name": "stdout",
     "output_type": "stream",
     "text": [
      "7: 0.6153846153846154, 1.0\n"
     ]
    },
    {
     "data": {
      "image/png": "[encoded data removed]",
      "text/plain": [
       "<Figure size 432x288 with 1 Axes>"
      ]
     },
     "metadata": {
      "needs_background": "light"
     },
     "output_type": "display_data"
    },
    {
     "name": "stdout",
     "output_type": "stream",
     "text": [
      "1: 0.8888888888888888, 1.0\n"
     ]
    },
    {
     "data": {
      "image/png": "[encoded data removed]",
      "text/plain": [
       "<Figure size 432x288 with 1 Axes>"
      ]
     },
     "metadata": {
      "needs_background": "light"
     },
     "output_type": "display_data"
    },
    {
     "name": "stdout",
     "output_type": "stream",
     "text": [
      "11: 0.625, 1.0\n"
     ]
    },
    {
     "data": {
      "image/png": "[encoded data removed]",
      "text/plain": [
       "<Figure size 432x288 with 1 Axes>"
      ]
     },
     "metadata": {
      "needs_background": "light"
     },
     "output_type": "display_data"
    },
    {
     "name": "stdout",
     "output_type": "stream",
     "text": [
      "12: 0.5625, 1.0\n"
     ]
    },
    {
     "data": {
      "image/png": "[encoded data removed]",
      "text/plain": [
       "<Figure size 432x288 with 1 Axes>"
      ]
     },
     "metadata": {
      "needs_background": "light"
     },
     "output_type": "display_data"
    },
    {
     "name": "stdout",
     "output_type": "stream",
     "text": [
      "0: 1.0, 1.0\n"
     ]
    },
    {
     "data": {
      "image/png": "[encoded data removed]",
      "text/plain": [
       "<Figure size 432x288 with 1 Axes>"
      ]
     },
     "metadata": {
      "needs_background": "light"
     },
     "output_type": "display_data"
    }
   ],
   "source": [
    "for k in graphs:\n",
    "    model = SSBModel(theta)\n",
    "    l1, l2 = fit_model(model, theta, graphs[k])\n",
    "    print(f\"{k}: {max(l1)}, {max(l2)}\")\n",
    "    l = l1+l2\n",
    "    plt.plot(np.arange(len(l)), l)\n",
    "    plt.show()"
   ]
  },
  {
   "cell_type": "code",
   "execution_count": 80,
   "id": "26425347-34ad-410c-975e-b8b221ed3446",
   "metadata": {},
   "outputs": [
    {
     "data": {
      "text/plain": [
       "[[(0,), (1,)], [(1,), (2,)], [(0,), (2,)]]"
      ]
     },
     "execution_count": 80,
     "metadata": {},
     "output_type": "execute_result"
    }
   ],
   "source": [
    "s"
   ]
  },
  {
   "cell_type": "code",
   "execution_count": null,
   "id": "47f2e194-f1d9-4df5-a60e-802f7d183b22",
   "metadata": {},
   "outputs": [],
   "source": []
  }
 ],
 "metadata": {
  "kernelspec": {
   "display_name": "Python 3 (ipykernel)",
   "language": "python",
   "name": "python3"
  },
  "language_info": {
   "codemirror_mode": {
    "name": "ipython",
    "version": 3
   },
   "file_extension": ".py",
   "mimetype": "text/x-python",
   "name": "python",
   "nbconvert_exporter": "python",
   "pygments_lexer": "ipython3",
   "version": "3.9.10"
  }
 },
 "nbformat": 4,
 "nbformat_minor": 5
}
